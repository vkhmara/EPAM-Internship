{
 "cells": [
  {
   "cell_type": "code",
   "execution_count": 1,
   "id": "vocational-fellow",
   "metadata": {},
   "outputs": [],
   "source": [
    "import pandas as pd\n",
    "import numpy as np\n",
    "import matplotlib.pyplot as plt\n",
    "import seaborn as sns\n",
    "from sklearn.tree import DecisionTreeClassifier, plot_tree\n",
    "from sklearn.model_selection import train_test_split, GridSearchCV, RandomizedSearchCV\n",
    "from sklearn.metrics import precision_score, recall_score\n",
    "from sklearn.ensemble import RandomForestClassifier\n",
    "import time"
   ]
  },
  {
   "cell_type": "markdown",
   "id": "beneficial-wrong",
   "metadata": {},
   "source": [
    "Preparing data"
   ]
  },
  {
   "cell_type": "code",
   "execution_count": 3,
   "id": "coupled-decimal",
   "metadata": {},
   "outputs": [],
   "source": [
    "df = pd.read_csv('my_data/train.csv')"
   ]
  },
  {
   "cell_type": "code",
   "execution_count": 4,
   "id": "rotary-kingdom",
   "metadata": {},
   "outputs": [],
   "source": [
    "other_df = df[['Survived', 'Sex', 'Age', 'Fare']]\n",
    "other_df = other_df.dropna()\n",
    "other_df.Sex.replace(to_replace=['male', 'female'], value=[0, 1], inplace=True)"
   ]
  },
  {
   "cell_type": "code",
   "execution_count": 5,
   "id": "interested-rating",
   "metadata": {},
   "outputs": [],
   "source": [
    "X = other_df.drop('Survived', axis=1)\n",
    "y = other_df['Survived']"
   ]
  },
  {
   "cell_type": "code",
   "execution_count": 6,
   "id": "sustainable-bulgaria",
   "metadata": {},
   "outputs": [],
   "source": [
    "X_train, X_test, y_train, y_test = train_test_split(X, y, test_size=0.20, random_state=0)"
   ]
  },
  {
   "cell_type": "markdown",
   "id": "eight-database",
   "metadata": {},
   "source": [
    "------------------"
   ]
  },
  {
   "cell_type": "markdown",
   "id": "minute-arctic",
   "metadata": {},
   "source": [
    "Simple random forest"
   ]
  },
  {
   "cell_type": "code",
   "execution_count": 7,
   "id": "dated-marking",
   "metadata": {
    "scrolled": false
   },
   "outputs": [
    {
     "name": "stdout",
     "output_type": "stream",
     "text": [
      "Train score: 0.9455625590515512\n",
      "Test score: 0.6818699523710913\n"
     ]
    }
   ],
   "source": [
    "clf_simple = RandomForestClassifier(n_estimators=10)\n",
    "clf_simple.fit(X_train, y_train)\n",
    "print('Train score:', clf_simple.score(X_train, y_train))\n",
    "print('Test score:', clf_simple.score(X_test, y_test))"
   ]
  },
  {
   "cell_type": "code",
   "execution_count": 8,
   "id": "manufactured-operation",
   "metadata": {},
   "outputs": [
    {
     "data": {
      "text/plain": [
       "array([0.24562012, 0.09482851, 0.65955137])"
      ]
     },
     "execution_count": 8,
     "metadata": {},
     "output_type": "execute_result"
    }
   ],
   "source": [
    "clf_simple.feature_importances_"
   ]
  },
  {
   "cell_type": "code",
   "execution_count": 9,
   "id": "double-offset",
   "metadata": {},
   "outputs": [
    {
     "name": "stdout",
     "output_type": "stream",
     "text": [
      "Precision: 0.6013150029886432\n",
      "Recall: 0.6415816326530612\n"
     ]
    }
   ],
   "source": [
    "predicted = clf_simple.predict(X_test)\n",
    "print('Precision:', precision_score(predicted, y_test))\n",
    "print('Recall:', recall_score(predicted, y_test))"
   ]
  },
  {
   "cell_type": "markdown",
   "id": "sexual-challenge",
   "metadata": {},
   "source": [
    "-------------------"
   ]
  },
  {
   "cell_type": "markdown",
   "id": "lasting-commission",
   "metadata": {},
   "source": [
    "Small decision tree"
   ]
  },
  {
   "cell_type": "code",
   "execution_count": 10,
   "id": "entertaining-destination",
   "metadata": {},
   "outputs": [
    {
     "data": {
      "text/plain": [
       "RandomForestClassifier(n_estimators=2)"
      ]
     },
     "execution_count": 10,
     "metadata": {},
     "output_type": "execute_result"
    }
   ],
   "source": [
    "clf_small = RandomForestClassifier(n_estimators=2)\n",
    "clf_small.fit(X_train, y_train)"
   ]
  },
  {
   "cell_type": "code",
   "execution_count": 11,
   "id": "worldwide-pasta",
   "metadata": {
    "scrolled": false
   },
   "outputs": [
    {
     "name": "stdout",
     "output_type": "stream",
     "text": [
      "Train score: 0.8650065361168994\n",
      "Test score: 0.6645268171464072\n"
     ]
    }
   ],
   "source": [
    "print('Train score:', clf_small.score(X_train, y_train))\n",
    "print('Test score:', clf_small.score(X_test, y_test))"
   ]
  },
  {
   "cell_type": "code",
   "execution_count": 12,
   "id": "parallel-overhead",
   "metadata": {},
   "outputs": [
    {
     "data": {
      "text/plain": [
       "array([0.24257761, 0.08403629, 0.6733861 ])"
      ]
     },
     "execution_count": 12,
     "metadata": {},
     "output_type": "execute_result"
    }
   ],
   "source": [
    "clf_small.feature_importances_"
   ]
  },
  {
   "cell_type": "code",
   "execution_count": 13,
   "id": "bearing-advocacy",
   "metadata": {},
   "outputs": [
    {
     "name": "stdout",
     "output_type": "stream",
     "text": [
      "Precision: 0.4908547519426181\n",
      "Recall: 0.6489647542279121\n"
     ]
    }
   ],
   "source": [
    "predicted = clf_small.predict(X_test)\n",
    "print('Precision:', precision_score(predicted, y_test))\n",
    "print('Recall:', recall_score(predicted, y_test))"
   ]
  },
  {
   "cell_type": "markdown",
   "id": "forced-vietnam",
   "metadata": {},
   "source": [
    "-------------------"
   ]
  },
  {
   "cell_type": "markdown",
   "id": "mediterranean-parcel",
   "metadata": {},
   "source": [
    "Dependency on n_estimators"
   ]
  },
  {
   "cell_type": "code",
   "execution_count": 14,
   "id": "confirmed-pottery",
   "metadata": {},
   "outputs": [
    {
     "data": {
      "image/png": "[encoded data removed]",
      "text/plain": [
       "<Figure size 432x288 with 1 Axes>"
      ]
     },
     "metadata": {
      "needs_background": "light"
     },
     "output_type": "display_data"
    }
   ],
   "source": [
    "acc = []\n",
    "values = range(1, 25)\n",
    "for n_estimators in values:\n",
    "    clf = RandomForestClassifier(n_estimators=n_estimators)\n",
    "    clf.fit(X_train, y_train)\n",
    "    acc.append(clf.score(X_test, y_test))\n",
    "plt.plot(values, acc)\n",
    "plt.title('n_estimators')\n",
    "plt.show()"
   ]
  },
  {
   "cell_type": "markdown",
   "id": "diagnostic-buyer",
   "metadata": {},
   "source": [
    "------------------"
   ]
  },
  {
   "cell_type": "markdown",
   "id": "opposite-greenhouse",
   "metadata": {},
   "source": [
    "Dependency on min_samples_split parameter"
   ]
  },
  {
   "cell_type": "code",
   "execution_count": 15,
   "id": "handy-swedish",
   "metadata": {
    "scrolled": true
   },
   "outputs": [
    {
     "data": {
      "image/png": "[encoded data removed]",
      "text/plain": [
       "<Figure size 432x288 with 1 Axes>"
      ]
     },
     "metadata": {
      "needs_background": "light"
     },
     "output_type": "display_data"
    }
   ],
   "source": [
    "acc = []\n",
    "values = range(50, 1001, 50)\n",
    "for min_samples_split in values:\n",
    "    clf = RandomForestClassifier(n_estimators=10, min_samples_split=min_samples_split)\n",
    "    clf.fit(X_train, y_train)\n",
    "    acc.append(clf.score(X_test, y_test))\n",
    "plt.plot(values, acc)\n",
    "plt.title('min_samples_split')\n",
    "plt.show()"
   ]
  },
  {
   "cell_type": "markdown",
   "id": "buried-retention",
   "metadata": {},
   "source": [
    "-----------------------"
   ]
  },
  {
   "cell_type": "markdown",
   "id": "supported-strike",
   "metadata": {},
   "source": [
    "Dependency on min_samples_leaf parameter"
   ]
  },
  {
   "cell_type": "code",
   "execution_count": 16,
   "id": "freelance-underground",
   "metadata": {
    "scrolled": true
   },
   "outputs": [
    {
     "data": {
      "image/png": "[encoded data removed]",
      "text/plain": [
       "<Figure size 432x288 with 1 Axes>"
      ]
     },
     "metadata": {
      "needs_background": "light"
     },
     "output_type": "display_data"
    }
   ],
   "source": [
    "acc = []\n",
    "values = range(50, 1001, 50)\n",
    "for min_samples_leaf in values:\n",
    "    clf = RandomForestClassifier(n_estimators=10, min_samples_leaf=min_samples_leaf)\n",
    "    clf.fit(X_train, y_train)\n",
    "    acc.append(clf.score(X_test, y_test))\n",
    "plt.plot(values, acc)\n",
    "plt.title('min_samples_leaf')\n",
    "plt.show()"
   ]
  },
  {
   "cell_type": "markdown",
   "id": "planned-silver",
   "metadata": {},
   "source": [
    "-----------------------"
   ]
  },
  {
   "cell_type": "code",
   "execution_count": 24,
   "id": "improving-palestine",
   "metadata": {},
   "outputs": [],
   "source": [
    "clf_best = GridSearchCV(RandomForestClassifier(n_estimators=10), {\n",
    "    'min_samples_split': range(300, 1000, 50),\n",
    "    'min_samples_leaf': range(300, 1000, 50),\n",
    "})"
   ]
  },
  {
   "cell_type": "code",
   "execution_count": 25,
   "id": "sexual-immune",
   "metadata": {},
   "outputs": [
    {
     "name": "stdout",
     "output_type": "stream",
     "text": [
      "1039.6550343036652\n"
     ]
    }
   ],
   "source": [
    "start = time.time()\n",
    "clf_best.fit(X_train, y_train)\n",
    "print(time.time() - start)"
   ]
  },
  {
   "cell_type": "code",
   "execution_count": 26,
   "id": "frequent-trail",
   "metadata": {},
   "outputs": [
    {
     "name": "stdout",
     "output_type": "stream",
     "text": [
      "Train score: 0.759367355655359\n",
      "Test score: 0.7584903706771589\n"
     ]
    }
   ],
   "source": [
    "print('Train score:', clf_best.score(X_train, y_train))\n",
    "print('Test score:', clf_best.score(X_test, y_test))"
   ]
  },
  {
   "cell_type": "code",
   "execution_count": 27,
   "id": "removable-tokyo",
   "metadata": {},
   "outputs": [
    {
     "name": "stdout",
     "output_type": "stream",
     "text": [
      "Precision: 0.7381948595337716\n",
      "Recall: 0.7138728323699421\n"
     ]
    }
   ],
   "source": [
    "predicted = clf_best.predict(X_test)\n",
    "print('Precision:', precision_score(predicted, y_test))\n",
    "print('Recall:', recall_score(predicted, y_test))"
   ]
  },
  {
   "cell_type": "code",
   "execution_count": null,
   "id": "engaged-executive",
   "metadata": {},
   "outputs": [],
   "source": []
  },
  {
   "cell_type": "code",
   "execution_count": 28,
   "id": "ordinary-solid",
   "metadata": {},
   "outputs": [],
   "source": [
    "clf_best_2 = GridSearchCV(RandomForestClassifier(), {\n",
    "    'max_depth': range(5, 26, 2),\n",
    "    'n_estimators': range(5, 15)\n",
    "})"
   ]
  },
  {
   "cell_type": "code",
   "execution_count": 29,
   "id": "freelance-occupation",
   "metadata": {},
   "outputs": [
    {
     "name": "stdout",
     "output_type": "stream",
     "text": [
      "877.0392048358917\n"
     ]
    }
   ],
   "source": [
    "start = time.time()\n",
    "clf_best_2.fit(X_train, y_train)\n",
    "print(time.time() - start)"
   ]
  },
  {
   "cell_type": "code",
   "execution_count": 30,
   "id": "coupled-crown",
   "metadata": {},
   "outputs": [
    {
     "name": "stdout",
     "output_type": "stream",
     "text": [
      "Train score: 0.7617876603290061\n",
      "Test score: 0.7589563056533444\n"
     ]
    }
   ],
   "source": [
    "print('Train score:', clf_best_2.score(X_train, y_train))\n",
    "print('Test score:', clf_best_2.score(X_test, y_test))"
   ]
  },
  {
   "cell_type": "code",
   "execution_count": 31,
   "id": "korean-intensity",
   "metadata": {},
   "outputs": [
    {
     "name": "stdout",
     "output_type": "stream",
     "text": [
      "Precision: 0.7380753138075313\n",
      "Recall: 0.7146660493112629\n"
     ]
    }
   ],
   "source": [
    "predicted = clf_best_2.predict(X_test)\n",
    "print('Precision:', precision_score(predicted, y_test))\n",
    "print('Recall:', recall_score(predicted, y_test))"
   ]
  },
  {
   "cell_type": "code",
   "execution_count": 32,
   "id": "laughing-whole",
   "metadata": {},
   "outputs": [
    {
     "data": {
      "text/plain": [
       "RandomForestClassifier(max_depth=7, n_estimators=7)"
      ]
     },
     "execution_count": 32,
     "metadata": {},
     "output_type": "execute_result"
    }
   ],
   "source": [
    "clf_best_2.best_estimator_"
   ]
  },
  {
   "cell_type": "code",
   "execution_count": null,
   "id": "vital-arthritis",
   "metadata": {},
   "outputs": [],
   "source": []
  },
  {
   "cell_type": "code",
   "execution_count": 33,
   "id": "cathedral-cleaner",
   "metadata": {},
   "outputs": [],
   "source": [
    "clf_best_3 = GridSearchCV(RandomForestClassifier(), {\n",
    "    'min_samples_split': range(300, 1000, 70),\n",
    "    'min_samples_leaf': range(300, 1000, 70),\n",
    "    'n_estimators': [7, 10, 13]\n",
    "})"
   ]
  },
  {
   "cell_type": "code",
   "execution_count": 34,
   "id": "spread-sandwich",
   "metadata": {},
   "outputs": [
    {
     "name": "stdout",
     "output_type": "stream",
     "text": [
      "1614.2573120594025\n"
     ]
    }
   ],
   "source": [
    "start = time.time()\n",
    "clf_best_3.fit(X_train, y_train)\n",
    "print(time.time() - start)"
   ]
  },
  {
   "cell_type": "code",
   "execution_count": 35,
   "id": "objective-intranet",
   "metadata": {},
   "outputs": [
    {
     "name": "stdout",
     "output_type": "stream",
     "text": [
      "Train score: 0.7588625862314432\n",
      "Test score: 0.7585939117829779\n"
     ]
    }
   ],
   "source": [
    "print('Train score:', clf_best_3.score(X_train, y_train))\n",
    "print('Test score:', clf_best_3.score(X_test, y_test))"
   ]
  },
  {
   "cell_type": "code",
   "execution_count": 36,
   "id": "practical-execution",
   "metadata": {},
   "outputs": [
    {
     "name": "stdout",
     "output_type": "stream",
     "text": [
      "Precision: 0.7383144052600119\n",
      "Recall: 0.7139884393063584\n"
     ]
    }
   ],
   "source": [
    "predicted = clf_best_3.predict(X_test)\n",
    "print('Precision:', precision_score(predicted, y_test))\n",
    "print('Recall:', recall_score(predicted, y_test))"
   ]
  },
  {
   "cell_type": "code",
   "execution_count": 37,
   "id": "comparative-chester",
   "metadata": {},
   "outputs": [
    {
     "data": {
      "text/plain": [
       "RandomForestClassifier(min_samples_leaf=300, min_samples_split=720,\n",
       "                       n_estimators=13)"
      ]
     },
     "execution_count": 37,
     "metadata": {},
     "output_type": "execute_result"
    }
   ],
   "source": [
    "clf_best_3.best_estimator_"
   ]
  },
  {
   "cell_type": "code",
   "execution_count": null,
   "id": "polar-blake",
   "metadata": {},
   "outputs": [],
   "source": []
  }
 ],
 "metadata": {
  "kernelspec": {
   "display_name": "Python 3",
   "language": "python",
   "name": "python3"
  },
  "language_info": {
   "codemirror_mode": {
    "name": "ipython",
    "version": 3
   },
   "file_extension": ".py",
   "mimetype": "text/x-python",
   "name": "python",
   "nbconvert_exporter": "python",
   "pygments_lexer": "ipython3",
   "version": "3.9.0"
  }
 },
 "nbformat": 4,
 "nbformat_minor": 5
}
