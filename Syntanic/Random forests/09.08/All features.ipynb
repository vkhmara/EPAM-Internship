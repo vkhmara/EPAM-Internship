{
 "cells": [
  {
   "cell_type": "code",
   "execution_count": 1,
   "id": "vocational-fellow",
   "metadata": {},
   "outputs": [],
   "source": [
    "import pandas as pd\n",
    "import numpy as np\n",
    "import matplotlib.pyplot as plt\n",
    "import seaborn as sns\n",
    "from sklearn.tree import DecisionTreeClassifier, plot_tree\n",
    "from sklearn.model_selection import train_test_split, GridSearchCV, RandomizedSearchCV\n",
    "from sklearn.metrics import precision_score, recall_score\n",
    "from sklearn.ensemble import RandomForestClassifier\n",
    "import time"
   ]
  },
  {
   "cell_type": "markdown",
   "id": "beneficial-wrong",
   "metadata": {},
   "source": [
    "Preparing data"
   ]
  },
  {
   "cell_type": "code",
   "execution_count": 2,
   "id": "coupled-decimal",
   "metadata": {},
   "outputs": [],
   "source": [
    "df = pd.read_csv('my_data/train.csv')"
   ]
  },
  {
   "cell_type": "code",
   "execution_count": 3,
   "id": "coupled-product",
   "metadata": {},
   "outputs": [
    {
     "data": {
      "text/html": [
       "<div>\n",
       "<style scoped>\n",
       "    .dataframe tbody tr th:only-of-type {\n",
       "        vertical-align: middle;\n",
       "    }\n",
       "\n",
       "    .dataframe tbody tr th {\n",
       "        vertical-align: top;\n",
       "    }\n",
       "\n",
       "    .dataframe thead th {\n",
       "        text-align: right;\n",
       "    }\n",
       "</style>\n",
       "<table border=\"1\" class=\"dataframe\">\n",
       "  <thead>\n",
       "    <tr style=\"text-align: right;\">\n",
       "      <th></th>\n",
       "      <th>PassengerId</th>\n",
       "      <th>Survived</th>\n",
       "      <th>Pclass</th>\n",
       "      <th>Name</th>\n",
       "      <th>Sex</th>\n",
       "      <th>Age</th>\n",
       "      <th>SibSp</th>\n",
       "      <th>Parch</th>\n",
       "      <th>Ticket</th>\n",
       "      <th>Fare</th>\n",
       "      <th>Cabin</th>\n",
       "      <th>Embarked</th>\n",
       "    </tr>\n",
       "  </thead>\n",
       "  <tbody>\n",
       "    <tr>\n",
       "      <th>0</th>\n",
       "      <td>0</td>\n",
       "      <td>1</td>\n",
       "      <td>1</td>\n",
       "      <td>Oconnor, Frankie</td>\n",
       "      <td>male</td>\n",
       "      <td>NaN</td>\n",
       "      <td>2</td>\n",
       "      <td>0</td>\n",
       "      <td>209245</td>\n",
       "      <td>27.14</td>\n",
       "      <td>C12239</td>\n",
       "      <td>S</td>\n",
       "    </tr>\n",
       "    <tr>\n",
       "      <th>1</th>\n",
       "      <td>1</td>\n",
       "      <td>0</td>\n",
       "      <td>3</td>\n",
       "      <td>Bryan, Drew</td>\n",
       "      <td>male</td>\n",
       "      <td>NaN</td>\n",
       "      <td>0</td>\n",
       "      <td>0</td>\n",
       "      <td>27323</td>\n",
       "      <td>13.35</td>\n",
       "      <td>NaN</td>\n",
       "      <td>S</td>\n",
       "    </tr>\n",
       "    <tr>\n",
       "      <th>2</th>\n",
       "      <td>2</td>\n",
       "      <td>0</td>\n",
       "      <td>3</td>\n",
       "      <td>Owens, Kenneth</td>\n",
       "      <td>male</td>\n",
       "      <td>0.33</td>\n",
       "      <td>1</td>\n",
       "      <td>2</td>\n",
       "      <td>CA 457703</td>\n",
       "      <td>71.29</td>\n",
       "      <td>NaN</td>\n",
       "      <td>S</td>\n",
       "    </tr>\n",
       "    <tr>\n",
       "      <th>3</th>\n",
       "      <td>3</td>\n",
       "      <td>0</td>\n",
       "      <td>3</td>\n",
       "      <td>Kramer, James</td>\n",
       "      <td>male</td>\n",
       "      <td>19.00</td>\n",
       "      <td>0</td>\n",
       "      <td>0</td>\n",
       "      <td>A. 10866</td>\n",
       "      <td>13.04</td>\n",
       "      <td>NaN</td>\n",
       "      <td>S</td>\n",
       "    </tr>\n",
       "    <tr>\n",
       "      <th>4</th>\n",
       "      <td>4</td>\n",
       "      <td>1</td>\n",
       "      <td>3</td>\n",
       "      <td>Bond, Michael</td>\n",
       "      <td>male</td>\n",
       "      <td>25.00</td>\n",
       "      <td>0</td>\n",
       "      <td>0</td>\n",
       "      <td>427635</td>\n",
       "      <td>7.76</td>\n",
       "      <td>NaN</td>\n",
       "      <td>S</td>\n",
       "    </tr>\n",
       "  </tbody>\n",
       "</table>\n",
       "</div>"
      ],
      "text/plain": [
       "   PassengerId  Survived  Pclass              Name   Sex    Age  SibSp  Parch  \\\n",
       "0            0         1       1  Oconnor, Frankie  male    NaN      2      0   \n",
       "1            1         0       3       Bryan, Drew  male    NaN      0      0   \n",
       "2            2         0       3    Owens, Kenneth  male   0.33      1      2   \n",
       "3            3         0       3     Kramer, James  male  19.00      0      0   \n",
       "4            4         1       3     Bond, Michael  male  25.00      0      0   \n",
       "\n",
       "      Ticket   Fare   Cabin Embarked  \n",
       "0     209245  27.14  C12239        S  \n",
       "1      27323  13.35     NaN        S  \n",
       "2  CA 457703  71.29     NaN        S  \n",
       "3   A. 10866  13.04     NaN        S  \n",
       "4     427635   7.76     NaN        S  "
      ]
     },
     "execution_count": 3,
     "metadata": {},
     "output_type": "execute_result"
    }
   ],
   "source": [
    "df.head()"
   ]
  },
  {
   "cell_type": "code",
   "execution_count": 4,
   "id": "rotary-kingdom",
   "metadata": {
    "collapsed": true
   },
   "outputs": [
    {
     "name": "stderr",
     "output_type": "stream",
     "text": [
      "<ipython-input-4-34e5ca3139a4>:2: SettingWithCopyWarning: \n",
      "A value is trying to be set on a copy of a slice from a DataFrame.\n",
      "Try using .loc[row_indexer,col_indexer] = value instead\n",
      "\n",
      "See the caveats in the documentation: https://pandas.pydata.org/pandas-docs/stable/user_guide/indexing.html#returning-a-view-versus-a-copy\n",
      "  other_df['Relatives'] = df.SibSp + df.Parch\n"
     ]
    }
   ],
   "source": [
    "other_df = df[['Survived', 'Pclass', 'Sex', 'Age', 'Fare', 'Embarked']]\n",
    "other_df['Relatives'] = df.SibSp + df.Parch\n",
    "other_df = other_df.dropna()\n",
    "other_df.Sex.replace(to_replace=['male', 'female'], value=[0, 1], inplace=True)\n",
    "other_df.Embarked.replace(to_replace=['S', 'C', 'Q'], value=[0, 1, 2], inplace=True)"
   ]
  },
  {
   "cell_type": "code",
   "execution_count": 5,
   "id": "interested-rating",
   "metadata": {},
   "outputs": [],
   "source": [
    "X = other_df.drop('Survived', axis=1)\n",
    "y = other_df['Survived']"
   ]
  },
  {
   "cell_type": "code",
   "execution_count": 6,
   "id": "sustainable-bulgaria",
   "metadata": {},
   "outputs": [],
   "source": [
    "X_train, X_test, y_train, y_test = train_test_split(X, y, test_size=0.20, random_state=0)"
   ]
  },
  {
   "cell_type": "markdown",
   "id": "eight-database",
   "metadata": {},
   "source": [
    "------------------"
   ]
  },
  {
   "cell_type": "markdown",
   "id": "minute-arctic",
   "metadata": {},
   "source": [
    "Simple random forest"
   ]
  },
  {
   "cell_type": "code",
   "execution_count": 7,
   "id": "dated-marking",
   "metadata": {
    "scrolled": false
   },
   "outputs": [
    {
     "name": "stdout",
     "output_type": "stream",
     "text": [
      "Train score: 0.9707389865697788\n",
      "Test score: 0.7173924326568745\n"
     ]
    }
   ],
   "source": [
    "clf_simple = RandomForestClassifier(n_estimators=10)\n",
    "clf_simple.fit(X_train, y_train)\n",
    "print('Train score:', clf_simple.score(X_train, y_train))\n",
    "print('Test score:', clf_simple.score(X_test, y_test))"
   ]
  },
  {
   "cell_type": "code",
   "execution_count": 11,
   "id": "manufactured-operation",
   "metadata": {},
   "outputs": [
    {
     "data": {
      "text/plain": [
       "array([0.06187805, 0.18960646, 0.17866766, 0.4626951 , 0.07726287,\n",
       "       0.02988986])"
      ]
     },
     "execution_count": 11,
     "metadata": {},
     "output_type": "execute_result"
    }
   ],
   "source": [
    "clf_simple.feature_importances_"
   ]
  },
  {
   "cell_type": "code",
   "execution_count": 13,
   "id": "double-offset",
   "metadata": {},
   "outputs": [
    {
     "name": "stdout",
     "output_type": "stream",
     "text": [
      "Precision: 0.6377126311979732\n",
      "Recall: 0.6840062111801242\n"
     ]
    }
   ],
   "source": [
    "predicted = clf_simple.predict(X_test)\n",
    "print('Precision:', precision_score(predicted, y_test))\n",
    "print('Recall:', recall_score(predicted, y_test))"
   ]
  },
  {
   "cell_type": "markdown",
   "id": "sexual-challenge",
   "metadata": {},
   "source": [
    "-------------------"
   ]
  },
  {
   "cell_type": "markdown",
   "id": "lasting-commission",
   "metadata": {},
   "source": [
    "Small random forest"
   ]
  },
  {
   "cell_type": "code",
   "execution_count": 15,
   "id": "entertaining-destination",
   "metadata": {},
   "outputs": [
    {
     "data": {
      "text/plain": [
       "RandomForestClassifier(n_estimators=2)"
      ]
     },
     "execution_count": 15,
     "metadata": {},
     "output_type": "execute_result"
    }
   ],
   "source": [
    "clf_small = RandomForestClassifier(n_estimators=2)\n",
    "clf_small.fit(X_train, y_train)"
   ]
  },
  {
   "cell_type": "code",
   "execution_count": 16,
   "id": "worldwide-pasta",
   "metadata": {
    "scrolled": false
   },
   "outputs": [
    {
     "name": "stdout",
     "output_type": "stream",
     "text": [
      "Train score: 0.8808927528709531\n",
      "Test score: 0.6848497430840297\n"
     ]
    }
   ],
   "source": [
    "print('Train score:', clf_small.score(X_train, y_train))\n",
    "print('Test score:', clf_small.score(X_test, y_test))"
   ]
  },
  {
   "cell_type": "code",
   "execution_count": 17,
   "id": "parallel-overhead",
   "metadata": {},
   "outputs": [
    {
     "data": {
      "text/plain": [
       "array([0.06560291, 0.15971196, 0.18598921, 0.46692663, 0.09451261,\n",
       "       0.02725667])"
      ]
     },
     "execution_count": 17,
     "metadata": {},
     "output_type": "execute_result"
    }
   ],
   "source": [
    "clf_small.feature_importances_"
   ]
  },
  {
   "cell_type": "code",
   "execution_count": 19,
   "id": "bearing-advocacy",
   "metadata": {},
   "outputs": [
    {
     "name": "stdout",
     "output_type": "stream",
     "text": [
      "Precision: 0.4869103631318615\n",
      "Recall: 0.6893253629376601\n"
     ]
    }
   ],
   "source": [
    "predicted = clf_small.predict(X_test)\n",
    "print('Precision:', precision_score(predicted, y_test))\n",
    "print('Recall:', recall_score(predicted, y_test))"
   ]
  },
  {
   "cell_type": "markdown",
   "id": "forced-vietnam",
   "metadata": {},
   "source": [
    "-------------------"
   ]
  },
  {
   "cell_type": "markdown",
   "id": "mediterranean-parcel",
   "metadata": {},
   "source": [
    "Dependency on n_estimators"
   ]
  },
  {
   "cell_type": "code",
   "execution_count": 27,
   "id": "confirmed-pottery",
   "metadata": {},
   "outputs": [
    {
     "data": {
      "image/png": "[encoded data removed]",
      "text/plain": [
       "<Figure size 432x288 with 1 Axes>"
      ]
     },
     "metadata": {
      "needs_background": "light"
     },
     "output_type": "display_data"
    }
   ],
   "source": [
    "acc = []\n",
    "values = range(1, 20)\n",
    "for n_estimators in values:\n",
    "    clf = RandomForestClassifier(n_estimators=n_estimators)\n",
    "    clf.fit(X_train, y_train)\n",
    "    acc.append(clf.score(X_test, y_test))\n",
    "plt.plot(values, acc)\n",
    "plt.title('n_estimators')\n",
    "plt.show()"
   ]
  },
  {
   "cell_type": "markdown",
   "id": "diagnostic-buyer",
   "metadata": {},
   "source": [
    "------------------"
   ]
  },
  {
   "cell_type": "markdown",
   "id": "opposite-greenhouse",
   "metadata": {},
   "source": [
    "Dependency on min_samples_split parameter"
   ]
  },
  {
   "cell_type": "code",
   "execution_count": 23,
   "id": "handy-swedish",
   "metadata": {
    "scrolled": true
   },
   "outputs": [
    {
     "data": {
      "image/png": "[encoded data removed]",
      "text/plain": [
       "<Figure size 432x288 with 1 Axes>"
      ]
     },
     "metadata": {
      "needs_background": "light"
     },
     "output_type": "display_data"
    }
   ],
   "source": [
    "acc = []\n",
    "values = range(50, 1001, 50)\n",
    "for min_samples_split in values:\n",
    "    clf = RandomForestClassifier(min_samples_split=min_samples_split)\n",
    "    clf.fit(X_train, y_train)\n",
    "    acc.append(clf.score(X_test, y_test))\n",
    "plt.plot(values, acc)\n",
    "plt.title('min_samples_split')\n",
    "plt.show()"
   ]
  },
  {
   "cell_type": "markdown",
   "id": "buried-retention",
   "metadata": {},
   "source": [
    "-----------------------"
   ]
  },
  {
   "cell_type": "markdown",
   "id": "supported-strike",
   "metadata": {},
   "source": [
    "Dependency on min_samples_leaf parameter"
   ]
  },
  {
   "cell_type": "code",
   "execution_count": 24,
   "id": "freelance-underground",
   "metadata": {
    "scrolled": true
   },
   "outputs": [
    {
     "data": {
      "image/png": "[encoded data removed]",
      "text/plain": [
       "<Figure size 432x288 with 1 Axes>"
      ]
     },
     "metadata": {
      "needs_background": "light"
     },
     "output_type": "display_data"
    }
   ],
   "source": [
    "acc = []\n",
    "values = range(50, 1001, 50)\n",
    "for min_samples_leaf in values:\n",
    "    clf = RandomForestClassifier(min_samples_leaf=min_samples_leaf)\n",
    "    clf.fit(X_train, y_train)\n",
    "    acc.append(clf.score(X_test, y_test))\n",
    "plt.plot(values, acc)\n",
    "plt.title('min_samples_leaf')\n",
    "plt.show()"
   ]
  },
  {
   "cell_type": "markdown",
   "id": "planned-silver",
   "metadata": {},
   "source": [
    "-----------------------"
   ]
  },
  {
   "cell_type": "code",
   "execution_count": 33,
   "id": "improving-palestine",
   "metadata": {},
   "outputs": [],
   "source": [
    "clf_best = GridSearchCV(RandomForestClassifier(), {\n",
    "    'max_depth': range(5, 26, 5),\n",
    "    'n_estimators': range(20, 101, 20)\n",
    "})"
   ]
  },
  {
   "cell_type": "code",
   "execution_count": 34,
   "id": "sexual-immune",
   "metadata": {},
   "outputs": [
    {
     "name": "stdout",
     "output_type": "stream",
     "text": [
      "1391.168306350708\n"
     ]
    }
   ],
   "source": [
    "start = time.time()\n",
    "clf_best.fit(X_train, y_train)\n",
    "print(time.time() - start)"
   ]
  },
  {
   "cell_type": "code",
   "execution_count": 35,
   "id": "frequent-trail",
   "metadata": {},
   "outputs": [
    {
     "name": "stdout",
     "output_type": "stream",
     "text": [
      "Train score: 0.7710763641082203\n",
      "Test score: 0.7698655732599782\n"
     ]
    }
   ],
   "source": [
    "print('Train score:', clf_best.score(X_train, y_train))\n",
    "print('Test score:', clf_best.score(X_test, y_test))"
   ]
  },
  {
   "cell_type": "code",
   "execution_count": 36,
   "id": "removable-tokyo",
   "metadata": {},
   "outputs": [
    {
     "name": "stdout",
     "output_type": "stream",
     "text": [
      "Precision: 0.7354325009048136\n",
      "Recall: 0.7311982727599856\n"
     ]
    }
   ],
   "source": [
    "predicted = clf_best.predict(X_test)\n",
    "print('Precision:', precision_score(predicted, y_test))\n",
    "print('Recall:', recall_score(predicted, y_test))"
   ]
  },
  {
   "cell_type": "code",
   "execution_count": 40,
   "id": "august-heather",
   "metadata": {},
   "outputs": [
    {
     "data": {
      "text/plain": [
       "100"
      ]
     },
     "execution_count": 40,
     "metadata": {},
     "output_type": "execute_result"
    }
   ],
   "source": [
    "clf_best.best_estimator_.n_estimators"
   ]
  },
  {
   "cell_type": "code",
   "execution_count": 41,
   "id": "secret-relay",
   "metadata": {},
   "outputs": [],
   "source": [
    "clf_best_2 = GridSearchCV(RandomForestClassifier(), {\n",
    "    'max_depth': range(5, 16, 5),\n",
    "    'n_estimators': range(100, 201, 20)\n",
    "})"
   ]
  },
  {
   "cell_type": "code",
   "execution_count": 42,
   "id": "genetic-copyright",
   "metadata": {},
   "outputs": [
    {
     "name": "stdout",
     "output_type": "stream",
     "text": [
      "1989.7045361995697\n"
     ]
    }
   ],
   "source": [
    "start = time.time()\n",
    "clf_best_2.fit(X_train, y_train)\n",
    "print(time.time() - start)"
   ]
  },
  {
   "cell_type": "code",
   "execution_count": 43,
   "id": "apart-negotiation",
   "metadata": {},
   "outputs": [
    {
     "name": "stdout",
     "output_type": "stream",
     "text": [
      "Train score: 0.7876857198468825\n",
      "Test score: 0.7691908444490579\n"
     ]
    }
   ],
   "source": [
    "print('Train score:', clf_best_2.score(X_train, y_train))\n",
    "print('Test score:', clf_best_2.score(X_test, y_test))"
   ]
  },
  {
   "cell_type": "code",
   "execution_count": 44,
   "id": "together-commitment",
   "metadata": {},
   "outputs": [
    {
     "name": "stdout",
     "output_type": "stream",
     "text": [
      "Precision: 0.7385691880805887\n",
      "Recall: 0.7286360390383242\n"
     ]
    }
   ],
   "source": [
    "predicted = clf_best_2.predict(X_test)\n",
    "print('Precision:', precision_score(predicted, y_test))\n",
    "print('Recall:', recall_score(predicted, y_test))"
   ]
  },
  {
   "cell_type": "code",
   "execution_count": 46,
   "id": "forced-surprise",
   "metadata": {},
   "outputs": [
    {
     "data": {
      "text/plain": [
       "RandomForestClassifier(max_depth=10, n_estimators=180)"
      ]
     },
     "execution_count": 46,
     "metadata": {},
     "output_type": "execute_result"
    }
   ],
   "source": [
    "clf_best_2.best_estimator_"
   ]
  },
  {
   "cell_type": "code",
   "execution_count": null,
   "id": "engaged-executive",
   "metadata": {},
   "outputs": [],
   "source": []
  }
 ],
 "metadata": {
  "kernelspec": {
   "display_name": "Python 3",
   "language": "python",
   "name": "python3"
  },
  "language_info": {
   "codemirror_mode": {
    "name": "ipython",
    "version": 3
   },
   "file_extension": ".py",
   "mimetype": "text/x-python",
   "name": "python",
   "nbconvert_exporter": "python",
   "pygments_lexer": "ipython3",
   "version": "3.9.0"
  }
 },
 "nbformat": 4,
 "nbformat_minor": 5
}
