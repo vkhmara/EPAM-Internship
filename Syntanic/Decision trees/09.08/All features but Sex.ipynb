{
 "cells": [
  {
   "cell_type": "code",
   "execution_count": 1,
   "id": "vocational-fellow",
   "metadata": {},
   "outputs": [],
   "source": [
    "import pandas as pd\n",
    "import numpy as np\n",
    "import matplotlib.pyplot as plt\n",
    "import seaborn as sns\n",
    "from sklearn.tree import DecisionTreeClassifier, plot_tree\n",
    "from sklearn.model_selection import train_test_split, GridSearchCV, RandomizedSearchCV\n",
    "from sklearn.metrics import precision_score, recall_score\n",
    "import time"
   ]
  },
  {
   "cell_type": "code",
   "execution_count": 2,
   "id": "utility-license",
   "metadata": {
    "collapsed": true
   },
   "outputs": [
    {
     "data": {
      "text/html": [
       "<div>\n",
       "<style scoped>\n",
       "    .dataframe tbody tr th:only-of-type {\n",
       "        vertical-align: middle;\n",
       "    }\n",
       "\n",
       "    .dataframe tbody tr th {\n",
       "        vertical-align: top;\n",
       "    }\n",
       "\n",
       "    .dataframe thead th {\n",
       "        text-align: right;\n",
       "    }\n",
       "</style>\n",
       "<table border=\"1\" class=\"dataframe\">\n",
       "  <thead>\n",
       "    <tr style=\"text-align: right;\">\n",
       "      <th></th>\n",
       "      <th>PassengerId</th>\n",
       "      <th>Survived</th>\n",
       "      <th>Pclass</th>\n",
       "      <th>Name</th>\n",
       "      <th>Sex</th>\n",
       "      <th>Age</th>\n",
       "      <th>SibSp</th>\n",
       "      <th>Parch</th>\n",
       "      <th>Ticket</th>\n",
       "      <th>Fare</th>\n",
       "      <th>Cabin</th>\n",
       "      <th>Embarked</th>\n",
       "    </tr>\n",
       "  </thead>\n",
       "  <tbody>\n",
       "    <tr>\n",
       "      <th>0</th>\n",
       "      <td>0</td>\n",
       "      <td>1</td>\n",
       "      <td>1</td>\n",
       "      <td>Oconnor, Frankie</td>\n",
       "      <td>male</td>\n",
       "      <td>NaN</td>\n",
       "      <td>2</td>\n",
       "      <td>0</td>\n",
       "      <td>209245</td>\n",
       "      <td>27.14</td>\n",
       "      <td>C12239</td>\n",
       "      <td>S</td>\n",
       "    </tr>\n",
       "    <tr>\n",
       "      <th>1</th>\n",
       "      <td>1</td>\n",
       "      <td>0</td>\n",
       "      <td>3</td>\n",
       "      <td>Bryan, Drew</td>\n",
       "      <td>male</td>\n",
       "      <td>NaN</td>\n",
       "      <td>0</td>\n",
       "      <td>0</td>\n",
       "      <td>27323</td>\n",
       "      <td>13.35</td>\n",
       "      <td>NaN</td>\n",
       "      <td>S</td>\n",
       "    </tr>\n",
       "    <tr>\n",
       "      <th>2</th>\n",
       "      <td>2</td>\n",
       "      <td>0</td>\n",
       "      <td>3</td>\n",
       "      <td>Owens, Kenneth</td>\n",
       "      <td>male</td>\n",
       "      <td>0.33</td>\n",
       "      <td>1</td>\n",
       "      <td>2</td>\n",
       "      <td>CA 457703</td>\n",
       "      <td>71.29</td>\n",
       "      <td>NaN</td>\n",
       "      <td>S</td>\n",
       "    </tr>\n",
       "    <tr>\n",
       "      <th>3</th>\n",
       "      <td>3</td>\n",
       "      <td>0</td>\n",
       "      <td>3</td>\n",
       "      <td>Kramer, James</td>\n",
       "      <td>male</td>\n",
       "      <td>19.00</td>\n",
       "      <td>0</td>\n",
       "      <td>0</td>\n",
       "      <td>A. 10866</td>\n",
       "      <td>13.04</td>\n",
       "      <td>NaN</td>\n",
       "      <td>S</td>\n",
       "    </tr>\n",
       "    <tr>\n",
       "      <th>4</th>\n",
       "      <td>4</td>\n",
       "      <td>1</td>\n",
       "      <td>3</td>\n",
       "      <td>Bond, Michael</td>\n",
       "      <td>male</td>\n",
       "      <td>25.00</td>\n",
       "      <td>0</td>\n",
       "      <td>0</td>\n",
       "      <td>427635</td>\n",
       "      <td>7.76</td>\n",
       "      <td>NaN</td>\n",
       "      <td>S</td>\n",
       "    </tr>\n",
       "  </tbody>\n",
       "</table>\n",
       "</div>"
      ],
      "text/plain": [
       "   PassengerId  Survived  Pclass              Name   Sex    Age  SibSp  Parch  \\\n",
       "0            0         1       1  Oconnor, Frankie  male    NaN      2      0   \n",
       "1            1         0       3       Bryan, Drew  male    NaN      0      0   \n",
       "2            2         0       3    Owens, Kenneth  male   0.33      1      2   \n",
       "3            3         0       3     Kramer, James  male  19.00      0      0   \n",
       "4            4         1       3     Bond, Michael  male  25.00      0      0   \n",
       "\n",
       "      Ticket   Fare   Cabin Embarked  \n",
       "0     209245  27.14  C12239        S  \n",
       "1      27323  13.35     NaN        S  \n",
       "2  CA 457703  71.29     NaN        S  \n",
       "3   A. 10866  13.04     NaN        S  \n",
       "4     427635   7.76     NaN        S  "
      ]
     },
     "execution_count": 2,
     "metadata": {},
     "output_type": "execute_result"
    }
   ],
   "source": [
    "df = pd.read_csv('my_data/train.csv')\n",
    "df.head()"
   ]
  },
  {
   "cell_type": "code",
   "execution_count": 3,
   "id": "continental-reconstruction",
   "metadata": {
    "collapsed": true
   },
   "outputs": [
    {
     "name": "stderr",
     "output_type": "stream",
     "text": [
      "<ipython-input-3-1310b1ead473>:2: SettingWithCopyWarning: \n",
      "A value is trying to be set on a copy of a slice from a DataFrame.\n",
      "Try using .loc[row_indexer,col_indexer] = value instead\n",
      "\n",
      "See the caveats in the documentation: https://pandas.pydata.org/pandas-docs/stable/user_guide/indexing.html#returning-a-view-versus-a-copy\n",
      "  other_df['Relatives'] = df.SibSp + df.Parch\n"
     ]
    }
   ],
   "source": [
    "other_df = df[['Survived', 'Pclass', 'Age', 'Fare', 'Embarked']]\n",
    "other_df['Relatives'] = df.SibSp + df.Parch\n",
    "other_df = other_df.dropna()\n",
    "other_df.Embarked.replace(to_replace=['S', 'C', 'Q'], value=[0, 1, 2], inplace=True)"
   ]
  },
  {
   "cell_type": "code",
   "execution_count": 4,
   "id": "retired-roulette",
   "metadata": {},
   "outputs": [],
   "source": [
    "X = other_df.drop('Survived', axis=1)\n",
    "y = other_df['Survived']\n",
    "X_train, X_test, y_train, y_test = train_test_split(X, y, test_size=0.20, random_state=0)"
   ]
  },
  {
   "cell_type": "markdown",
   "id": "ordinary-shipping",
   "metadata": {},
   "source": [
    "Simple decision tree"
   ]
  },
  {
   "cell_type": "code",
   "execution_count": 5,
   "id": "reverse-failure",
   "metadata": {},
   "outputs": [
    {
     "name": "stdout",
     "output_type": "stream",
     "text": [
      "Train score: 0.9877116719652241\n",
      "Test score: 0.624176052317434\n"
     ]
    }
   ],
   "source": [
    "clf_simple = DecisionTreeClassifier()\n",
    "clf_simple.fit(X_train, y_train)\n",
    "print('Train score:', clf_simple.score(X_train, y_train))\n",
    "print('Test score:', clf_simple.score(X_test, y_test))"
   ]
  },
  {
   "cell_type": "code",
   "execution_count": 6,
   "id": "committed-aquarium",
   "metadata": {},
   "outputs": [
    {
     "data": {
      "text/plain": [
       "55"
      ]
     },
     "execution_count": 6,
     "metadata": {},
     "output_type": "execute_result"
    }
   ],
   "source": [
    "clf_simple.get_depth()"
   ]
  },
  {
   "cell_type": "code",
   "execution_count": 7,
   "id": "british-baseball",
   "metadata": {},
   "outputs": [
    {
     "data": {
      "text/plain": [
       "array([0.05343374, 0.23726067, 0.51849938, 0.14149629, 0.04930992])"
      ]
     },
     "execution_count": 7,
     "metadata": {},
     "output_type": "execute_result"
    }
   ],
   "source": [
    "clf_simple.feature_importances_"
   ]
  },
  {
   "cell_type": "code",
   "execution_count": 8,
   "id": "sonic-review",
   "metadata": {},
   "outputs": [
    {
     "name": "stdout",
     "output_type": "stream",
     "text": [
      "Precision: 0.5598986608758596\n",
      "Recall: 0.5636385717755648\n"
     ]
    }
   ],
   "source": [
    "predicted = clf_simple.predict(X_test)\n",
    "print('Precision:', precision_score(predicted, y_test))\n",
    "print('Recall:', recall_score(predicted, y_test))"
   ]
  },
  {
   "cell_type": "markdown",
   "id": "chinese-recognition",
   "metadata": {},
   "source": [
    "------------------"
   ]
  },
  {
   "cell_type": "markdown",
   "id": "conditional-eclipse",
   "metadata": {},
   "source": [
    "Small decision tree"
   ]
  },
  {
   "cell_type": "code",
   "execution_count": 28,
   "id": "outside-lesson",
   "metadata": {},
   "outputs": [
    {
     "data": {
      "text/plain": [
       "DecisionTreeClassifier(max_depth=4)"
      ]
     },
     "execution_count": 28,
     "metadata": {},
     "output_type": "execute_result"
    }
   ],
   "source": [
    "clf_small = DecisionTreeClassifier(max_depth=4)\n",
    "clf_small.fit(X_train, y_train)"
   ]
  },
  {
   "cell_type": "code",
   "execution_count": 29,
   "id": "local-embassy",
   "metadata": {},
   "outputs": [
    {
     "name": "stdout",
     "output_type": "stream",
     "text": [
      "Train score: 0.70164147148511\n",
      "Test score: 0.7044168786007162\n"
     ]
    }
   ],
   "source": [
    "print('Train score:', clf_small.score(X_train, y_train))\n",
    "print('Test score:', clf_small.score(X_test, y_test))"
   ]
  },
  {
   "cell_type": "code",
   "execution_count": 30,
   "id": "after-arthritis",
   "metadata": {},
   "outputs": [
    {
     "data": {
      "text/plain": [
       "array([0.21478765, 0.00525184, 0.07765562, 0.67916074, 0.02314416])"
      ]
     },
     "execution_count": 30,
     "metadata": {},
     "output_type": "execute_result"
    }
   ],
   "source": [
    "clf_small.feature_importances_"
   ]
  },
  {
   "cell_type": "code",
   "execution_count": 31,
   "id": "incident-quality",
   "metadata": {},
   "outputs": [
    {
     "name": "stdout",
     "output_type": "stream",
     "text": [
      "Precision: 0.5009048136083967\n",
      "Recall: 0.7271453590192645\n"
     ]
    }
   ],
   "source": [
    "predicted = clf_small.predict(X_test)\n",
    "print('Precision:', precision_score(predicted, y_test))\n",
    "print('Recall:', recall_score(predicted, y_test))"
   ]
  },
  {
   "cell_type": "markdown",
   "id": "naval-hospital",
   "metadata": {},
   "source": [
    "----------------------"
   ]
  },
  {
   "cell_type": "markdown",
   "id": "compressed-baseline",
   "metadata": {},
   "source": [
    "Dependency on maximal tree depth"
   ]
  },
  {
   "cell_type": "code",
   "execution_count": 32,
   "id": "opposed-williams",
   "metadata": {},
   "outputs": [
    {
     "data": {
      "image/png": "[encoded data removed]",
      "text/plain": [
       "<Figure size 432x288 with 1 Axes>"
      ]
     },
     "metadata": {
      "needs_background": "light"
     },
     "output_type": "display_data"
    }
   ],
   "source": [
    "acc = []\n",
    "for max_depth in range(2, 30):\n",
    "    clf = DecisionTreeClassifier(max_depth=max_depth)\n",
    "    clf.fit(X_train, y_train)\n",
    "    acc.append(clf.score(X_test, y_test))\n",
    "plt.plot(acc)\n",
    "plt.title('max_depth')\n",
    "plt.show()"
   ]
  },
  {
   "cell_type": "markdown",
   "id": "fewer-rally",
   "metadata": {},
   "source": [
    "--------------------"
   ]
  },
  {
   "cell_type": "markdown",
   "id": "egyptian-elite",
   "metadata": {},
   "source": [
    "Dependency on min_samples_split parameter"
   ]
  },
  {
   "cell_type": "code",
   "execution_count": 33,
   "id": "mounted-beaver",
   "metadata": {
    "scrolled": true
   },
   "outputs": [
    {
     "data": {
      "image/png": "[encoded data removed]",
      "text/plain": [
       "<Figure size 432x288 with 1 Axes>"
      ]
     },
     "metadata": {
      "needs_background": "light"
     },
     "output_type": "display_data"
    }
   ],
   "source": [
    "acc = []\n",
    "values = range(2, 1000, 10)\n",
    "for min_samples_split in values:\n",
    "    clf = DecisionTreeClassifier(min_samples_split=min_samples_split)\n",
    "    clf.fit(X_train, y_train)\n",
    "    acc.append(clf.score(X_test, y_test))\n",
    "plt.plot(values, acc)\n",
    "plt.title('min_samples_split')\n",
    "plt.show()"
   ]
  },
  {
   "cell_type": "markdown",
   "id": "designing-gravity",
   "metadata": {},
   "source": [
    "---------------------"
   ]
  },
  {
   "cell_type": "markdown",
   "id": "proud-briefing",
   "metadata": {},
   "source": [
    "Dependency on min_samples_leaf parameter"
   ]
  },
  {
   "cell_type": "code",
   "execution_count": 47,
   "id": "residential-offer",
   "metadata": {},
   "outputs": [
    {
     "data": {
      "image/png": "[encoded data removed]",
      "text/plain": [
       "<Figure size 432x288 with 1 Axes>"
      ]
     },
     "metadata": {
      "needs_background": "light"
     },
     "output_type": "display_data"
    }
   ],
   "source": [
    "acc = []\n",
    "values = range(2, 1000, 10)\n",
    "for min_samples_leaf in values:\n",
    "    clf = DecisionTreeClassifier(min_samples_leaf=min_samples_leaf)\n",
    "    clf.fit(X_train, y_train)\n",
    "    acc.append(clf.score(X_test, y_test))\n",
    "plt.plot(values, acc)\n",
    "plt.title('min_samples_leaf')\n",
    "plt.show()"
   ]
  },
  {
   "cell_type": "markdown",
   "id": "primary-traveler",
   "metadata": {},
   "source": [
    "-----------------"
   ]
  },
  {
   "cell_type": "code",
   "execution_count": 48,
   "id": "acting-characteristic",
   "metadata": {},
   "outputs": [],
   "source": [
    "clf_best = GridSearchCV(DecisionTreeClassifier(), {\n",
    "    'min_samples_split': range(500, 1000, 50),\n",
    "    'min_samples_leaf': range(200, 800, 80),\n",
    "    'max_depth': range(3, 15),\n",
    "})"
   ]
  },
  {
   "cell_type": "code",
   "execution_count": 49,
   "id": "cellular-clear",
   "metadata": {},
   "outputs": [
    {
     "name": "stdout",
     "output_type": "stream",
     "text": [
      "1275.3524854183197\n"
     ]
    }
   ],
   "source": [
    "start = time.time()\n",
    "clf_best.fit(X_train, y_train)\n",
    "print(time.time() - start)"
   ]
  },
  {
   "cell_type": "code",
   "execution_count": 50,
   "id": "balanced-wichita",
   "metadata": {},
   "outputs": [
    {
     "name": "stdout",
     "output_type": "stream",
     "text": [
      "Train score: 0.7165898916499059\n",
      "Test score: 0.7135516686562516\n"
     ]
    }
   ],
   "source": [
    "print('Train score:', clf_best.score(X_train, y_train))\n",
    "print('Test score:', clf_best.score(X_test, y_test))"
   ]
  },
  {
   "cell_type": "code",
   "execution_count": 51,
   "id": "horizontal-scale",
   "metadata": {
    "scrolled": true
   },
   "outputs": [
    {
     "data": {
      "text/plain": [
       "DecisionTreeClassifier(max_depth=14, min_samples_leaf=360,\n",
       "                       min_samples_split=500)"
      ]
     },
     "execution_count": 51,
     "metadata": {},
     "output_type": "execute_result"
    }
   ],
   "source": [
    "clf_best.best_estimator_"
   ]
  },
  {
   "cell_type": "code",
   "execution_count": 52,
   "id": "sitting-display",
   "metadata": {},
   "outputs": [
    {
     "name": "stdout",
     "output_type": "stream",
     "text": [
      "Precision: 0.5869224273133068\n",
      "Recall: 0.6989942528735632\n"
     ]
    }
   ],
   "source": [
    "predicted = clf_best.predict(X_test)\n",
    "print('Precision:', precision_score(predicted, y_test))\n",
    "print('Recall:', recall_score(predicted, y_test))"
   ]
  },
  {
   "cell_type": "markdown",
   "id": "timely-knife",
   "metadata": {},
   "source": [
    "-----------------------"
   ]
  },
  {
   "cell_type": "code",
   "execution_count": 53,
   "id": "informed-charge",
   "metadata": {},
   "outputs": [],
   "source": [
    "clf_other_best = GridSearchCV(DecisionTreeClassifier(), {\n",
    "    'min_samples_split': range(500, 1000, 50),\n",
    "    'min_samples_leaf': range(200, 800, 60),\n",
    "})"
   ]
  },
  {
   "cell_type": "code",
   "execution_count": 54,
   "id": "plastic-vector",
   "metadata": {},
   "outputs": [
    {
     "name": "stdout",
     "output_type": "stream",
     "text": [
      "180.0956530570984\n"
     ]
    }
   ],
   "source": [
    "start = time.time()\n",
    "clf_other_best.fit(X_train, y_train)\n",
    "print(time.time() - start)"
   ]
  },
  {
   "cell_type": "code",
   "execution_count": 55,
   "id": "mature-devices",
   "metadata": {},
   "outputs": [
    {
     "name": "stdout",
     "output_type": "stream",
     "text": [
      "Train score: 0.7163044183481476\n",
      "Test score: 0.7141744952509472\n"
     ]
    }
   ],
   "source": [
    "print('Train score:', clf_other_best.score(X_train, y_train))\n",
    "print('Test score:', clf_other_best.score(X_test, y_test))"
   ]
  },
  {
   "cell_type": "code",
   "execution_count": 56,
   "id": "constitutional-institute",
   "metadata": {
    "scrolled": true
   },
   "outputs": [
    {
     "data": {
      "text/plain": [
       "DecisionTreeClassifier(min_samples_leaf=320, min_samples_split=950)"
      ]
     },
     "execution_count": 56,
     "metadata": {},
     "output_type": "execute_result"
    }
   ],
   "source": [
    "clf_other_best.best_estimator_"
   ]
  },
  {
   "cell_type": "code",
   "execution_count": 57,
   "id": "inside-western",
   "metadata": {},
   "outputs": [
    {
     "data": {
      "text/plain": [
       "DecisionTreeClassifier(min_samples_leaf=320, min_samples_split=950)"
      ]
     },
     "execution_count": 57,
     "metadata": {},
     "output_type": "execute_result"
    }
   ],
   "source": [
    "clf_other_best.best_estimator_"
   ]
  },
  {
   "cell_type": "code",
   "execution_count": 58,
   "id": "placed-minimum",
   "metadata": {},
   "outputs": [
    {
     "name": "stdout",
     "output_type": "stream",
     "text": [
      "Precision: 0.5940402943660272\n",
      "Recall: 0.6968581941692612\n"
     ]
    }
   ],
   "source": [
    "predicted = clf_other_best.predict(X_test)\n",
    "print('Precision:', precision_score(predicted, y_test))\n",
    "print('Recall:', recall_score(predicted, y_test))"
   ]
  },
  {
   "cell_type": "code",
   "execution_count": 59,
   "id": "current-spencer",
   "metadata": {},
   "outputs": [
    {
     "data": {
      "text/plain": [
       "15"
      ]
     },
     "execution_count": 59,
     "metadata": {},
     "output_type": "execute_result"
    }
   ],
   "source": [
    "clf_other_best.best_estimator_.tree_.max_depth"
   ]
  },
  {
   "cell_type": "code",
   "execution_count": null,
   "id": "previous-quality",
   "metadata": {},
   "outputs": [],
   "source": []
  }
 ],
 "metadata": {
  "kernelspec": {
   "display_name": "Python 3",
   "language": "python",
   "name": "python3"
  },
  "language_info": {
   "codemirror_mode": {
    "name": "ipython",
    "version": 3
   },
   "file_extension": ".py",
   "mimetype": "text/x-python",
   "name": "python",
   "nbconvert_exporter": "python",
   "pygments_lexer": "ipython3",
   "version": "3.9.0"
  }
 },
 "nbformat": 4,
 "nbformat_minor": 5
}
