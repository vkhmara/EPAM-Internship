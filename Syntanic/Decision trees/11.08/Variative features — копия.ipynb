{
 "cells": [
  {
   "cell_type": "code",
   "execution_count": 122,
   "id": "vocational-fellow",
   "metadata": {},
   "outputs": [],
   "source": [
    "import pandas as pd\n",
    "import numpy as np\n",
    "import matplotlib.pyplot as plt\n",
    "import seaborn as sns\n",
    "from sklearn.tree import DecisionTreeClassifier, plot_tree\n",
    "from sklearn.model_selection import train_test_split, GridSearchCV, RandomizedSearchCV\n",
    "from sklearn.metrics import precision_score, recall_score\n",
    "import time\n",
    "from itertools import permutations\n",
    "from operator import itemgetter\n",
    "import math\n",
    "from scipy.stats.stats import pearsonr"
   ]
  },
  {
   "cell_type": "code",
   "execution_count": 186,
   "id": "utility-license",
   "metadata": {},
   "outputs": [
    {
     "data": {
      "text/html": [
       "<div>\n",
       "<style scoped>\n",
       "    .dataframe tbody tr th:only-of-type {\n",
       "        vertical-align: middle;\n",
       "    }\n",
       "\n",
       "    .dataframe tbody tr th {\n",
       "        vertical-align: top;\n",
       "    }\n",
       "\n",
       "    .dataframe thead th {\n",
       "        text-align: right;\n",
       "    }\n",
       "</style>\n",
       "<table border=\"1\" class=\"dataframe\">\n",
       "  <thead>\n",
       "    <tr style=\"text-align: right;\">\n",
       "      <th></th>\n",
       "      <th>PassengerId</th>\n",
       "      <th>Survived</th>\n",
       "      <th>Pclass</th>\n",
       "      <th>Name</th>\n",
       "      <th>Sex</th>\n",
       "      <th>Age</th>\n",
       "      <th>SibSp</th>\n",
       "      <th>Parch</th>\n",
       "      <th>Ticket</th>\n",
       "      <th>Fare</th>\n",
       "      <th>Cabin</th>\n",
       "      <th>Embarked</th>\n",
       "    </tr>\n",
       "  </thead>\n",
       "  <tbody>\n",
       "    <tr>\n",
       "      <th>0</th>\n",
       "      <td>0</td>\n",
       "      <td>1</td>\n",
       "      <td>1</td>\n",
       "      <td>Oconnor, Frankie</td>\n",
       "      <td>male</td>\n",
       "      <td>NaN</td>\n",
       "      <td>2</td>\n",
       "      <td>0</td>\n",
       "      <td>209245</td>\n",
       "      <td>27.14</td>\n",
       "      <td>C12239</td>\n",
       "      <td>S</td>\n",
       "    </tr>\n",
       "    <tr>\n",
       "      <th>1</th>\n",
       "      <td>1</td>\n",
       "      <td>0</td>\n",
       "      <td>3</td>\n",
       "      <td>Bryan, Drew</td>\n",
       "      <td>male</td>\n",
       "      <td>NaN</td>\n",
       "      <td>0</td>\n",
       "      <td>0</td>\n",
       "      <td>27323</td>\n",
       "      <td>13.35</td>\n",
       "      <td>NaN</td>\n",
       "      <td>S</td>\n",
       "    </tr>\n",
       "    <tr>\n",
       "      <th>2</th>\n",
       "      <td>2</td>\n",
       "      <td>0</td>\n",
       "      <td>3</td>\n",
       "      <td>Owens, Kenneth</td>\n",
       "      <td>male</td>\n",
       "      <td>0.33</td>\n",
       "      <td>1</td>\n",
       "      <td>2</td>\n",
       "      <td>CA 457703</td>\n",
       "      <td>71.29</td>\n",
       "      <td>NaN</td>\n",
       "      <td>S</td>\n",
       "    </tr>\n",
       "    <tr>\n",
       "      <th>3</th>\n",
       "      <td>3</td>\n",
       "      <td>0</td>\n",
       "      <td>3</td>\n",
       "      <td>Kramer, James</td>\n",
       "      <td>male</td>\n",
       "      <td>19.00</td>\n",
       "      <td>0</td>\n",
       "      <td>0</td>\n",
       "      <td>A. 10866</td>\n",
       "      <td>13.04</td>\n",
       "      <td>NaN</td>\n",
       "      <td>S</td>\n",
       "    </tr>\n",
       "    <tr>\n",
       "      <th>4</th>\n",
       "      <td>4</td>\n",
       "      <td>1</td>\n",
       "      <td>3</td>\n",
       "      <td>Bond, Michael</td>\n",
       "      <td>male</td>\n",
       "      <td>25.00</td>\n",
       "      <td>0</td>\n",
       "      <td>0</td>\n",
       "      <td>427635</td>\n",
       "      <td>7.76</td>\n",
       "      <td>NaN</td>\n",
       "      <td>S</td>\n",
       "    </tr>\n",
       "  </tbody>\n",
       "</table>\n",
       "</div>"
      ],
      "text/plain": [
       "   PassengerId  Survived  Pclass              Name   Sex    Age  SibSp  Parch  \\\n",
       "0            0         1       1  Oconnor, Frankie  male    NaN      2      0   \n",
       "1            1         0       3       Bryan, Drew  male    NaN      0      0   \n",
       "2            2         0       3    Owens, Kenneth  male   0.33      1      2   \n",
       "3            3         0       3     Kramer, James  male  19.00      0      0   \n",
       "4            4         1       3     Bond, Michael  male  25.00      0      0   \n",
       "\n",
       "      Ticket   Fare   Cabin Embarked  \n",
       "0     209245  27.14  C12239        S  \n",
       "1      27323  13.35     NaN        S  \n",
       "2  CA 457703  71.29     NaN        S  \n",
       "3   A. 10866  13.04     NaN        S  \n",
       "4     427635   7.76     NaN        S  "
      ]
     },
     "execution_count": 186,
     "metadata": {},
     "output_type": "execute_result"
    }
   ],
   "source": [
    "df = pd.read_csv('D:\\EPAM Internship\\Python/my_data/train.csv')\n",
    "df.head()"
   ]
  },
  {
   "cell_type": "code",
   "execution_count": 187,
   "id": "worthy-transparency",
   "metadata": {},
   "outputs": [],
   "source": [
    "clf = DecisionTreeClassifier(min_samples_leaf=250, min_samples_split=100)"
   ]
  },
  {
   "cell_type": "code",
   "execution_count": 188,
   "id": "floppy-identification",
   "metadata": {},
   "outputs": [],
   "source": [
    "df.drop(['PassengerId', 'Name', 'Ticket', 'Cabin'], axis=1, inplace=True)"
   ]
  },
  {
   "cell_type": "code",
   "execution_count": 189,
   "id": "attempted-circumstances",
   "metadata": {},
   "outputs": [],
   "source": [
    "df.Sex.replace(to_replace=['male', 'female'], value=[0, 1], inplace=True)"
   ]
  },
  {
   "cell_type": "code",
   "execution_count": 190,
   "id": "amino-chrome",
   "metadata": {
    "collapsed": true
   },
   "outputs": [
    {
     "name": "stdout",
     "output_type": "stream",
     "text": [
      "<class 'pandas.core.frame.DataFrame'>\n",
      "Int64Index: 96332 entries, 2 to 99999\n",
      "Data columns (total 8 columns):\n",
      " #   Column    Non-Null Count  Dtype  \n",
      "---  ------    --------------  -----  \n",
      " 0   Survived  96332 non-null  int64  \n",
      " 1   Pclass    96332 non-null  int64  \n",
      " 2   Sex       96332 non-null  int64  \n",
      " 3   Age       96332 non-null  float64\n",
      " 4   SibSp     96332 non-null  int64  \n",
      " 5   Parch     96332 non-null  int64  \n",
      " 6   Fare      96332 non-null  float64\n",
      " 7   Embarked  96332 non-null  object \n",
      "dtypes: float64(2), int64(5), object(1)\n",
      "memory usage: 6.6+ MB\n"
     ]
    }
   ],
   "source": [
    "df.dropna(inplace=True)\n",
    "df.info()"
   ]
  },
  {
   "cell_type": "code",
   "execution_count": 46,
   "id": "overall-forty",
   "metadata": {},
   "outputs": [],
   "source": [
    "arr = np.array([1, 2, 3])\n",
    "perms = list(permutations(arr))"
   ]
  },
  {
   "cell_type": "code",
   "execution_count": 47,
   "id": "sublime-offense",
   "metadata": {
    "collapsed": true
   },
   "outputs": [
    {
     "name": "stdout",
     "output_type": "stream",
     "text": [
      "Survived    0.317779\n",
      "Pclass     -0.354787\n",
      "Sex         0.316658\n",
      "Age         0.194994\n",
      "SibSp      -0.038471\n",
      "Parch       0.004321\n",
      "Fare        0.234051\n",
      "Embarked    1.000000\n",
      "dtype: float64\n",
      "\n",
      "\n",
      "\n",
      "\n",
      "Survived    0.371129\n",
      "Pclass     -0.337818\n",
      "Sex         0.329773\n",
      "Age         0.143645\n",
      "SibSp      -0.027724\n",
      "Parch       0.012141\n",
      "Fare        0.239623\n",
      "Embarked    1.000000\n",
      "dtype: float64\n",
      "\n",
      "\n",
      "\n",
      "\n",
      "Survived   -0.254431\n",
      "Pclass      0.156068\n",
      "Sex        -0.186559\n",
      "Age        -0.015499\n",
      "SibSp       0.002028\n",
      "Parch      -0.015324\n",
      "Fare       -0.130997\n",
      "Embarked    1.000000\n",
      "dtype: float64\n",
      "\n",
      "\n",
      "\n",
      "\n",
      "Survived    0.254431\n",
      "Pclass     -0.156068\n",
      "Sex         0.186559\n",
      "Age         0.015499\n",
      "SibSp      -0.002028\n",
      "Parch       0.015324\n",
      "Fare        0.130997\n",
      "Embarked    1.000000\n",
      "dtype: float64\n",
      "\n",
      "\n",
      "\n",
      "\n",
      "Survived   -0.371129\n",
      "Pclass      0.337818\n",
      "Sex        -0.329773\n",
      "Age        -0.143645\n",
      "SibSp       0.027724\n",
      "Parch      -0.012141\n",
      "Fare       -0.239623\n",
      "Embarked    1.000000\n",
      "dtype: float64\n",
      "\n",
      "\n",
      "\n",
      "\n",
      "Survived   -0.317779\n",
      "Pclass      0.354787\n",
      "Sex        -0.316658\n",
      "Age        -0.194994\n",
      "SibSp       0.038471\n",
      "Parch      -0.004321\n",
      "Fare       -0.234051\n",
      "Embarked    1.000000\n",
      "dtype: float64\n",
      "\n",
      "\n",
      "\n",
      "\n"
     ]
    }
   ],
   "source": [
    "for perm in perms:\n",
    "    other_df = df.copy()\n",
    "    other_df.Embarked.replace(to_replace=['S', 'C', 'Q'], value=perm, inplace=True)\n",
    "    print(other_df.corrwith(other_df.Embarked))\n",
    "    print('\\n\\n\\n')"
   ]
  },
  {
   "cell_type": "code",
   "execution_count": 48,
   "id": "lightweight-practitioner",
   "metadata": {},
   "outputs": [
    {
     "data": {
      "text/plain": [
       "Index(['S', 'C', 'Q'], dtype='object')"
      ]
     },
     "execution_count": 48,
     "metadata": {},
     "output_type": "execute_result"
    }
   ],
   "source": [
    "df.Embarked.value_counts().index"
   ]
  },
  {
   "cell_type": "code",
   "execution_count": 49,
   "id": "future-belfast",
   "metadata": {},
   "outputs": [],
   "source": [
    "def tune_feature_values(feature, values, df):\n",
    "    corrs = []\n",
    "    for value in values:\n",
    "        other_df = df.copy()\n",
    "        other_df[feature].replace(to_replace=other_df[feature].value_counts().index, value=value, inplace=True)\n",
    "        corrs.append((other_df.corrwith(other_df[feature]).Survived, value))\n",
    "    return sorted(corrs, key=lambda elem: abs(elem[0]), reverse=True)[0]"
   ]
  },
  {
   "cell_type": "code",
   "execution_count": 50,
   "id": "empty-worry",
   "metadata": {},
   "outputs": [
    {
     "data": {
      "text/plain": [
       "(-0.3711293381094012, (3, 1, 2))"
      ]
     },
     "execution_count": 50,
     "metadata": {},
     "output_type": "execute_result"
    }
   ],
   "source": [
    "tune_feature_values('Embarked', perms, df)"
   ]
  },
  {
   "cell_type": "code",
   "execution_count": 53,
   "id": "portable-librarian",
   "metadata": {},
   "outputs": [],
   "source": [
    "for p in range(2, 10):\n",
    "    perms += list(permutations(arr**p))"
   ]
  },
  {
   "cell_type": "code",
   "execution_count": 54,
   "id": "incorrect-alexandria",
   "metadata": {},
   "outputs": [
    {
     "data": {
      "text/plain": [
       "(-0.3722274900010945, (9, 1, 4))"
      ]
     },
     "execution_count": 54,
     "metadata": {},
     "output_type": "execute_result"
    }
   ],
   "source": [
    "tune_feature_values('Embarked', perms, df)"
   ]
  },
  {
   "cell_type": "code",
   "execution_count": 55,
   "id": "thousand-cross",
   "metadata": {},
   "outputs": [
    {
     "data": {
      "text/plain": [
       "(0.31777879107956125, (1, 2, 3))"
      ]
     },
     "execution_count": 55,
     "metadata": {},
     "output_type": "execute_result"
    }
   ],
   "source": [
    "tune_feature_values('Embarked', [(1, 2, 3)], df)"
   ]
  },
  {
   "cell_type": "code",
   "execution_count": 118,
   "id": "herbal-panel",
   "metadata": {
    "scrolled": true
   },
   "outputs": [
    {
     "data": {
      "text/plain": [
       "0.2013923441190116"
      ]
     },
     "execution_count": 118,
     "metadata": {},
     "output_type": "execute_result"
    }
   ],
   "source": [
    "other_df.corrwith(other_df.Fare.apply(lambda fare: fare * (fare - 100) - (fare - 300) * (fare - 500))).Survived"
   ]
  },
  {
   "cell_type": "code",
   "execution_count": 69,
   "id": "thorough-retreat",
   "metadata": {},
   "outputs": [
    {
     "data": {
      "text/plain": [
       "0.18791299911927545"
      ]
     },
     "execution_count": 69,
     "metadata": {},
     "output_type": "execute_result"
    }
   ],
   "source": [
    "other_df.corrwith(other_df.Fare).Survived"
   ]
  },
  {
   "cell_type": "code",
   "execution_count": 112,
   "id": "massive-projector",
   "metadata": {},
   "outputs": [
    {
     "data": {
      "text/plain": [
       "<AxesSubplot:>"
      ]
     },
     "execution_count": 112,
     "metadata": {},
     "output_type": "execute_result"
    },
    {
     "data": {
      "image/png": "[encoded data removed]",
      "text/plain": [
       "<Figure size 432x288 with 1 Axes>"
      ]
     },
     "metadata": {
      "needs_background": "light"
     },
     "output_type": "display_data"
    }
   ],
   "source": [
    "other_df[other_df.Survived == 0].Fare.hist(bins=60)"
   ]
  },
  {
   "cell_type": "code",
   "execution_count": 113,
   "id": "worst-privilege",
   "metadata": {},
   "outputs": [
    {
     "data": {
      "text/plain": [
       "<AxesSubplot:>"
      ]
     },
     "execution_count": 113,
     "metadata": {},
     "output_type": "execute_result"
    },
    {
     "data": {
      "image/png": "[encoded data removed]",
      "text/plain": [
       "<Figure size 432x288 with 1 Axes>"
      ]
     },
     "metadata": {
      "needs_background": "light"
     },
     "output_type": "display_data"
    }
   ],
   "source": [
    "other_df[other_df.Survived == 1].Fare.hist(bins=60)"
   ]
  },
  {
   "cell_type": "code",
   "execution_count": 192,
   "id": "formed-comfort",
   "metadata": {
    "collapsed": true
   },
   "outputs": [
    {
     "data": {
      "text/plain": [
       "[<matplotlib.lines.Line2D at 0x1a1bd0393a0>]"
      ]
     },
     "execution_count": 192,
     "metadata": {},
     "output_type": "execute_result"
    },
    {
     "data": {
      "image/png": "[encoded data removed]",
      "text/plain": [
       "<Figure size 432x288 with 1 Axes>"
      ]
     },
     "metadata": {
      "needs_background": "light"
     },
     "output_type": "display_data"
    }
   ],
   "source": [
    "params = np.linspace(0, 1, 10)\n",
    "corrs = [pearsonr(df.Survived, df.Fare.apply(lambda fare: math.sin(10 / fare) + p * math.sin(10 / (250 - fare))))[0] for p in params]\n",
    "plt.plot(params, corrs)"
   ]
  },
  {
   "cell_type": "code",
   "execution_count": 199,
   "id": "british-trial",
   "metadata": {},
   "outputs": [
    {
     "data": {
      "text/plain": [
       "-0.27023817260488553"
      ]
     },
     "execution_count": 199,
     "metadata": {},
     "output_type": "execute_result"
    }
   ],
   "source": [
    "pearsonr(df.Survived, df.Fare.apply(lambda fare: math.sin(10 / fare) + 0 * math.sin(200 / (800 - fare))))[0]"
   ]
  },
  {
   "cell_type": "code",
   "execution_count": null,
   "id": "strange-thailand",
   "metadata": {},
   "outputs": [],
   "source": []
  }
 ],
 "metadata": {
  "kernelspec": {
   "display_name": "Python 3",
   "language": "python",
   "name": "python3"
  },
  "language_info": {
   "codemirror_mode": {
    "name": "ipython",
    "version": 3
   },
   "file_extension": ".py",
   "mimetype": "text/x-python",
   "name": "python",
   "nbconvert_exporter": "python",
   "pygments_lexer": "ipython3",
   "version": "3.9.0"
  }
 },
 "nbformat": 4,
 "nbformat_minor": 5
}
