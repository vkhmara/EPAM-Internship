{
 "cells": [
  {
   "cell_type": "code",
   "execution_count": 134,
   "id": "vocational-fellow",
   "metadata": {},
   "outputs": [],
   "source": [
    "import pandas as pd\n",
    "import numpy as np\n",
    "import matplotlib.pyplot as plt\n",
    "import seaborn as sns\n",
    "from sklearn.tree import DecisionTreeClassifier, plot_tree\n",
    "from sklearn.model_selection import train_test_split, GridSearchCV, RandomizedSearchCV\n",
    "from sklearn.metrics import precision_score, recall_score\n",
    "import time\n",
    "from collections import namedtuple\n",
    "from itertools import product\n",
    "import operator"
   ]
  },
  {
   "cell_type": "code",
   "execution_count": 7,
   "id": "utility-license",
   "metadata": {},
   "outputs": [
    {
     "data": {
      "text/html": [
       "<div>\n",
       "<style scoped>\n",
       "    .dataframe tbody tr th:only-of-type {\n",
       "        vertical-align: middle;\n",
       "    }\n",
       "\n",
       "    .dataframe tbody tr th {\n",
       "        vertical-align: top;\n",
       "    }\n",
       "\n",
       "    .dataframe thead th {\n",
       "        text-align: right;\n",
       "    }\n",
       "</style>\n",
       "<table border=\"1\" class=\"dataframe\">\n",
       "  <thead>\n",
       "    <tr style=\"text-align: right;\">\n",
       "      <th></th>\n",
       "      <th>PassengerId</th>\n",
       "      <th>Survived</th>\n",
       "      <th>Pclass</th>\n",
       "      <th>Name</th>\n",
       "      <th>Sex</th>\n",
       "      <th>Age</th>\n",
       "      <th>SibSp</th>\n",
       "      <th>Parch</th>\n",
       "      <th>Ticket</th>\n",
       "      <th>Fare</th>\n",
       "      <th>Cabin</th>\n",
       "      <th>Embarked</th>\n",
       "    </tr>\n",
       "  </thead>\n",
       "  <tbody>\n",
       "    <tr>\n",
       "      <th>0</th>\n",
       "      <td>0</td>\n",
       "      <td>1</td>\n",
       "      <td>1</td>\n",
       "      <td>Oconnor, Frankie</td>\n",
       "      <td>male</td>\n",
       "      <td>NaN</td>\n",
       "      <td>2</td>\n",
       "      <td>0</td>\n",
       "      <td>209245</td>\n",
       "      <td>27.14</td>\n",
       "      <td>C12239</td>\n",
       "      <td>S</td>\n",
       "    </tr>\n",
       "    <tr>\n",
       "      <th>1</th>\n",
       "      <td>1</td>\n",
       "      <td>0</td>\n",
       "      <td>3</td>\n",
       "      <td>Bryan, Drew</td>\n",
       "      <td>male</td>\n",
       "      <td>NaN</td>\n",
       "      <td>0</td>\n",
       "      <td>0</td>\n",
       "      <td>27323</td>\n",
       "      <td>13.35</td>\n",
       "      <td>NaN</td>\n",
       "      <td>S</td>\n",
       "    </tr>\n",
       "    <tr>\n",
       "      <th>2</th>\n",
       "      <td>2</td>\n",
       "      <td>0</td>\n",
       "      <td>3</td>\n",
       "      <td>Owens, Kenneth</td>\n",
       "      <td>male</td>\n",
       "      <td>0.33</td>\n",
       "      <td>1</td>\n",
       "      <td>2</td>\n",
       "      <td>CA 457703</td>\n",
       "      <td>71.29</td>\n",
       "      <td>NaN</td>\n",
       "      <td>S</td>\n",
       "    </tr>\n",
       "    <tr>\n",
       "      <th>3</th>\n",
       "      <td>3</td>\n",
       "      <td>0</td>\n",
       "      <td>3</td>\n",
       "      <td>Kramer, James</td>\n",
       "      <td>male</td>\n",
       "      <td>19.00</td>\n",
       "      <td>0</td>\n",
       "      <td>0</td>\n",
       "      <td>A. 10866</td>\n",
       "      <td>13.04</td>\n",
       "      <td>NaN</td>\n",
       "      <td>S</td>\n",
       "    </tr>\n",
       "    <tr>\n",
       "      <th>4</th>\n",
       "      <td>4</td>\n",
       "      <td>1</td>\n",
       "      <td>3</td>\n",
       "      <td>Bond, Michael</td>\n",
       "      <td>male</td>\n",
       "      <td>25.00</td>\n",
       "      <td>0</td>\n",
       "      <td>0</td>\n",
       "      <td>427635</td>\n",
       "      <td>7.76</td>\n",
       "      <td>NaN</td>\n",
       "      <td>S</td>\n",
       "    </tr>\n",
       "  </tbody>\n",
       "</table>\n",
       "</div>"
      ],
      "text/plain": [
       "   PassengerId  Survived  Pclass              Name   Sex    Age  SibSp  Parch  \\\n",
       "0            0         1       1  Oconnor, Frankie  male    NaN      2      0   \n",
       "1            1         0       3       Bryan, Drew  male    NaN      0      0   \n",
       "2            2         0       3    Owens, Kenneth  male   0.33      1      2   \n",
       "3            3         0       3     Kramer, James  male  19.00      0      0   \n",
       "4            4         1       3     Bond, Michael  male  25.00      0      0   \n",
       "\n",
       "      Ticket   Fare   Cabin Embarked  \n",
       "0     209245  27.14  C12239        S  \n",
       "1      27323  13.35     NaN        S  \n",
       "2  CA 457703  71.29     NaN        S  \n",
       "3   A. 10866  13.04     NaN        S  \n",
       "4     427635   7.76     NaN        S  "
      ]
     },
     "execution_count": 7,
     "metadata": {},
     "output_type": "execute_result"
    }
   ],
   "source": [
    "df = pd.read_csv('D:\\EPAM Internship\\Python/my_data/train.csv')\n",
    "df.head()"
   ]
  },
  {
   "cell_type": "code",
   "execution_count": 8,
   "id": "continental-reconstruction",
   "metadata": {},
   "outputs": [
    {
     "name": "stderr",
     "output_type": "stream",
     "text": [
      "<ipython-input-8-c308279a0d5a>:2: SettingWithCopyWarning: \n",
      "A value is trying to be set on a copy of a slice from a DataFrame.\n",
      "Try using .loc[row_indexer,col_indexer] = value instead\n",
      "\n",
      "See the caveats in the documentation: https://pandas.pydata.org/pandas-docs/stable/user_guide/indexing.html#returning-a-view-versus-a-copy\n",
      "  other_df['Relatives'] = df.SibSp + df.Parch\n"
     ]
    }
   ],
   "source": [
    "other_df = df[['Survived', 'Pclass', 'Sex', 'Age', 'Fare', 'Embarked']]\n",
    "other_df['Relatives'] = df.SibSp + df.Parch\n",
    "other_df = other_df.dropna()\n",
    "other_df.Sex.replace(to_replace=['male', 'female'], value=[0, 1], inplace=True)\n",
    "other_df.Embarked.replace(to_replace=['S', 'C', 'Q'], value=[9, 1, 4], inplace=True)"
   ]
  },
  {
   "cell_type": "code",
   "execution_count": 9,
   "id": "retired-roulette",
   "metadata": {},
   "outputs": [],
   "source": [
    "X = other_df.drop('Survived', axis=1)\n",
    "y = other_df['Survived']\n",
    "X_train, X_test, y_train, y_test = train_test_split(X, y, test_size=0.20, random_state=0)"
   ]
  },
  {
   "cell_type": "markdown",
   "id": "ordinary-shipping",
   "metadata": {},
   "source": [
    "Simple decision tree"
   ]
  },
  {
   "cell_type": "code",
   "execution_count": 10,
   "id": "reverse-failure",
   "metadata": {},
   "outputs": [
    {
     "name": "stdout",
     "output_type": "stream",
     "text": [
      "Train score: 0.9942516057873224\n",
      "Test score: 0.6794519125966679\n"
     ]
    }
   ],
   "source": [
    "clf_simple = DecisionTreeClassifier()\n",
    "clf_simple.fit(X_train, y_train)\n",
    "print('Train score:', clf_simple.score(X_train, y_train))\n",
    "print('Test score:', clf_simple.score(X_test, y_test))"
   ]
  },
  {
   "cell_type": "code",
   "execution_count": 11,
   "id": "committed-aquarium",
   "metadata": {},
   "outputs": [
    {
     "data": {
      "text/plain": [
       "58"
      ]
     },
     "execution_count": 11,
     "metadata": {},
     "output_type": "execute_result"
    }
   ],
   "source": [
    "clf_simple.get_depth()"
   ]
  },
  {
   "cell_type": "code",
   "execution_count": 12,
   "id": "british-baseball",
   "metadata": {},
   "outputs": [
    {
     "data": {
      "text/plain": [
       "array([0.03335355, 0.26048893, 0.20087294, 0.4113862 , 0.05393447,\n",
       "       0.0399639 ])"
      ]
     },
     "execution_count": 12,
     "metadata": {},
     "output_type": "execute_result"
    }
   ],
   "source": [
    "clf_simple.feature_importances_"
   ]
  },
  {
   "cell_type": "code",
   "execution_count": 13,
   "id": "sonic-review",
   "metadata": {},
   "outputs": [
    {
     "name": "stdout",
     "output_type": "stream",
     "text": [
      "Precision: 0.6263723006394016\n",
      "Recall: 0.6277354612501511\n"
     ]
    }
   ],
   "source": [
    "predicted = clf_simple.predict(X_test)\n",
    "print('Precision:', precision_score(predicted, y_test))\n",
    "print('Recall:', recall_score(predicted, y_test))"
   ]
  },
  {
   "cell_type": "markdown",
   "id": "chinese-recognition",
   "metadata": {},
   "source": [
    "------------------"
   ]
  },
  {
   "cell_type": "markdown",
   "id": "conditional-eclipse",
   "metadata": {},
   "source": [
    "Small decision tree"
   ]
  },
  {
   "cell_type": "code",
   "execution_count": 28,
   "id": "outside-lesson",
   "metadata": {},
   "outputs": [
    {
     "data": {
      "text/plain": [
       "DecisionTreeClassifier(max_depth=4)"
      ]
     },
     "execution_count": 28,
     "metadata": {},
     "output_type": "execute_result"
    }
   ],
   "source": [
    "clf_small = DecisionTreeClassifier(max_depth=4)\n",
    "clf_small.fit(X_train, y_train)"
   ]
  },
  {
   "cell_type": "code",
   "execution_count": 29,
   "id": "local-embassy",
   "metadata": {},
   "outputs": [
    {
     "name": "stdout",
     "output_type": "stream",
     "text": [
      "Train score: 0.70164147148511\n",
      "Test score: 0.7044168786007162\n"
     ]
    }
   ],
   "source": [
    "print('Train score:', clf_small.score(X_train, y_train))\n",
    "print('Test score:', clf_small.score(X_test, y_test))"
   ]
  },
  {
   "cell_type": "code",
   "execution_count": 30,
   "id": "after-arthritis",
   "metadata": {},
   "outputs": [
    {
     "data": {
      "text/plain": [
       "array([0.21478765, 0.00525184, 0.07765562, 0.67916074, 0.02314416])"
      ]
     },
     "execution_count": 30,
     "metadata": {},
     "output_type": "execute_result"
    }
   ],
   "source": [
    "clf_small.feature_importances_"
   ]
  },
  {
   "cell_type": "code",
   "execution_count": 31,
   "id": "incident-quality",
   "metadata": {},
   "outputs": [
    {
     "name": "stdout",
     "output_type": "stream",
     "text": [
      "Precision: 0.5009048136083967\n",
      "Recall: 0.7271453590192645\n"
     ]
    }
   ],
   "source": [
    "predicted = clf_small.predict(X_test)\n",
    "print('Precision:', precision_score(predicted, y_test))\n",
    "print('Recall:', recall_score(predicted, y_test))"
   ]
  },
  {
   "cell_type": "markdown",
   "id": "naval-hospital",
   "metadata": {},
   "source": [
    "----------------------"
   ]
  },
  {
   "cell_type": "markdown",
   "id": "compressed-baseline",
   "metadata": {},
   "source": [
    "Dependency on maximal tree depth"
   ]
  },
  {
   "cell_type": "code",
   "execution_count": 58,
   "id": "opposed-williams",
   "metadata": {},
   "outputs": [
    {
     "data": {
      "image/png": "[encoded data removed]",
      "text/plain": [
       "<Figure size 432x288 with 1 Axes>"
      ]
     },
     "metadata": {
      "needs_background": "light"
     },
     "output_type": "display_data"
    }
   ],
   "source": [
    "acc = []\n",
    "for max_depth in range(2, 30):\n",
    "    clf = DecisionTreeClassifier(max_depth=max_depth)\n",
    "    clf.fit(X_train, y_train)\n",
    "    acc.append(clf.score(X_test, y_test))\n",
    "plt.plot(acc)\n",
    "plt.title('max_depth')\n",
    "plt.show()"
   ]
  },
  {
   "cell_type": "markdown",
   "id": "fewer-rally",
   "metadata": {},
   "source": [
    "--------------------"
   ]
  },
  {
   "cell_type": "markdown",
   "id": "egyptian-elite",
   "metadata": {},
   "source": [
    "Dependency on min_samples_split parameter"
   ]
  },
  {
   "cell_type": "code",
   "execution_count": 59,
   "id": "mounted-beaver",
   "metadata": {
    "scrolled": true
   },
   "outputs": [
    {
     "data": {
      "image/png": "[encoded data removed]",
      "text/plain": [
       "<Figure size 432x288 with 1 Axes>"
      ]
     },
     "metadata": {
      "needs_background": "light"
     },
     "output_type": "display_data"
    }
   ],
   "source": [
    "acc = []\n",
    "values = range(2, 1000, 10)\n",
    "for min_samples_split in values:\n",
    "    clf = DecisionTreeClassifier(min_samples_split=min_samples_split)\n",
    "    clf.fit(X_train, y_train)\n",
    "    acc.append(clf.score(X_test, y_test))\n",
    "plt.plot(values, acc)\n",
    "plt.title('min_samples_split')\n",
    "plt.show()"
   ]
  },
  {
   "cell_type": "markdown",
   "id": "designing-gravity",
   "metadata": {},
   "source": [
    "---------------------"
   ]
  },
  {
   "cell_type": "markdown",
   "id": "proud-briefing",
   "metadata": {},
   "source": [
    "Dependency on min_samples_leaf parameter"
   ]
  },
  {
   "cell_type": "code",
   "execution_count": 60,
   "id": "residential-offer",
   "metadata": {},
   "outputs": [
    {
     "data": {
      "image/png": "[encoded data removed]",
      "text/plain": [
       "<Figure size 432x288 with 1 Axes>"
      ]
     },
     "metadata": {
      "needs_background": "light"
     },
     "output_type": "display_data"
    }
   ],
   "source": [
    "acc = []\n",
    "values = range(2, 1000, 10)\n",
    "for min_samples_leaf in values:\n",
    "    clf = DecisionTreeClassifier(min_samples_leaf=min_samples_leaf)\n",
    "    clf.fit(X_train, y_train)\n",
    "    acc.append(clf.score(X_test, y_test))\n",
    "plt.plot(values, acc)\n",
    "plt.title('min_samples_leaf')\n",
    "plt.show()"
   ]
  },
  {
   "cell_type": "markdown",
   "id": "primary-traveler",
   "metadata": {},
   "source": [
    "-----------------"
   ]
  },
  {
   "cell_type": "code",
   "execution_count": 87,
   "id": "informed-charge",
   "metadata": {},
   "outputs": [],
   "source": [
    "clf_other_best = GridSearchCV(DecisionTreeClassifier(), {\n",
    "    'min_samples_split': range(100, 800, 50),\n",
    "    'min_samples_leaf': range(100, 800, 20),\n",
    "})"
   ]
  },
  {
   "cell_type": "code",
   "execution_count": 88,
   "id": "plastic-vector",
   "metadata": {},
   "outputs": [
    {
     "name": "stdout",
     "output_type": "stream",
     "text": [
      "319.98404240608215\n"
     ]
    }
   ],
   "source": [
    "start = time.time()\n",
    "clf_other_best.fit(X_train, y_train)\n",
    "print(time.time() - start)"
   ]
  },
  {
   "cell_type": "code",
   "execution_count": 89,
   "id": "mature-devices",
   "metadata": {},
   "outputs": [
    {
     "name": "stdout",
     "output_type": "stream",
     "text": [
      "Train score: 0.7733212223447739\n",
      "Test score: 0.7692427466652826\n"
     ]
    }
   ],
   "source": [
    "print('Train score:', clf_other_best.score(X_train, y_train))\n",
    "print('Test score:', clf_other_best.score(X_test, y_test))"
   ]
  },
  {
   "cell_type": "code",
   "execution_count": 103,
   "id": "constitutional-institute",
   "metadata": {
    "scrolled": true
   },
   "outputs": [
    {
     "data": {
      "text/plain": [
       "{'min_samples_leaf': 80, 'min_samples_split': 560}"
      ]
     },
     "execution_count": 103,
     "metadata": {},
     "output_type": "execute_result"
    }
   ],
   "source": [
    "clf_other_best.best_params_"
   ]
  },
  {
   "cell_type": "code",
   "execution_count": 91,
   "id": "placed-minimum",
   "metadata": {},
   "outputs": [
    {
     "name": "stdout",
     "output_type": "stream",
     "text": [
      "Precision: 0.7286765592954518\n",
      "Recall: 0.7332766784023309\n"
     ]
    }
   ],
   "source": [
    "predicted = clf_other_best.predict(X_test)\n",
    "print('Precision:', precision_score(predicted, y_test))\n",
    "print('Recall:', recall_score(predicted, y_test))"
   ]
  },
  {
   "cell_type": "code",
   "execution_count": 92,
   "id": "current-spencer",
   "metadata": {},
   "outputs": [
    {
     "data": {
      "text/plain": [
       "21"
      ]
     },
     "execution_count": 92,
     "metadata": {},
     "output_type": "execute_result"
    }
   ],
   "source": [
    "clf_other_best.best_estimator_.tree_.max_depth"
   ]
  },
  {
   "cell_type": "code",
   "execution_count": null,
   "id": "ruled-madness",
   "metadata": {},
   "outputs": [],
   "source": []
  },
  {
   "cell_type": "code",
   "execution_count": 93,
   "id": "driving-arrival",
   "metadata": {},
   "outputs": [
    {
     "name": "stdout",
     "output_type": "stream",
     "text": [
      "Train score: 0.7766560695516772\n",
      "Test score: 0.7707998131520216\n"
     ]
    }
   ],
   "source": [
    "clf_the_best = DecisionTreeClassifier(min_samples_leaf=100, min_samples_split=100)\n",
    "clf_the_best.fit(X_train, y_train)\n",
    "print('Train score:', clf_the_best.score(X_train, y_train))\n",
    "print('Test score:', clf_the_best.score(X_test, y_test))"
   ]
  },
  {
   "cell_type": "code",
   "execution_count": null,
   "id": "meaningful-causing",
   "metadata": {},
   "outputs": [],
   "source": []
  },
  {
   "cell_type": "code",
   "execution_count": null,
   "id": "eligible-adult",
   "metadata": {},
   "outputs": [],
   "source": []
  },
  {
   "cell_type": "code",
   "execution_count": null,
   "id": "invisible-corporation",
   "metadata": {},
   "outputs": [],
   "source": []
  },
  {
   "cell_type": "code",
   "execution_count": 109,
   "id": "unlikely-guess",
   "metadata": {
    "collapsed": true
   },
   "outputs": [
    {
     "name": "stdout",
     "output_type": "stream",
     "text": [
      "Feature: Pclass\n",
      "Time: 272.0510776042938\n",
      "Feature: Sex\n",
      "Time: 559.1806559562683\n",
      "Feature: Age\n",
      "Time: 798.3506784439087\n",
      "Feature: Fare\n",
      "Time: 987.0266103744507\n",
      "Feature: Embarked\n",
      "Time: 1264.3157625198364\n",
      "Feature: Relatives\n",
      "Time: 1522.1807959079742\n"
     ]
    }
   ],
   "source": [
    "all_features = list(X_train.columns)\n",
    "score_info = namedtuple('score_info', ['feature', 'train_score', 'test_score', 'precision', 'recall', 'best_params'])\n",
    "trees_info = []\n",
    "start = time.time()\n",
    "for feature in all_features:\n",
    "    X_train_reduced = X_train.drop(feature, axis=1)\n",
    "    X_test_reduced = X_test.drop(feature, axis=1)\n",
    "    clf = GridSearchCV(DecisionTreeClassifier(), {\n",
    "        'min_samples_split': range(100, 800, 50),\n",
    "        'min_samples_leaf': range(100, 800, 50),\n",
    "    })\n",
    "    clf.fit(X_train_reduced, y_train)\n",
    "    predicted = clf.predict(X_test_reduced)\n",
    "    trees_info.append(score_info(feature,\n",
    "                             clf.score(X_train_reduced, y_train),\n",
    "                             clf.score(X_test_reduced, y_test),\n",
    "                             precision_score(predicted, y_test),\n",
    "                             recall_score(predicted, y_test),\n",
    "                             clf.best_params_\n",
    "                            ))\n",
    "    print('Feature: {}\\nTime: {}'.format(feature, time.time() - start))"
   ]
  },
  {
   "cell_type": "code",
   "execution_count": 128,
   "id": "harmful-citizenship",
   "metadata": {},
   "outputs": [],
   "source": [
    "all_feature_pairs = list(map(list, list(filter(lambda tup: tup[0] < tup[1], product(all_features, all_features)))))"
   ]
  },
  {
   "cell_type": "code",
   "execution_count": 129,
   "id": "fallen-alcohol",
   "metadata": {
    "collapsed": true
   },
   "outputs": [
    {
     "name": "stdout",
     "output_type": "stream",
     "text": [
      "Features: ['Pclass', 'Sex']\n",
      "Time: 252.27139735221863\n",
      "Features: ['Pclass', 'Relatives']\n",
      "Time: 508.6605396270752\n",
      "Features: ['Age', 'Pclass']\n",
      "Time: 757.8531353473663\n",
      "Features: ['Age', 'Sex']\n",
      "Time: 989.444876909256\n",
      "Features: ['Age', 'Fare']\n",
      "Time: 1086.1328723430634\n",
      "Features: ['Age', 'Embarked']\n",
      "Time: 1313.155603170395\n",
      "Features: ['Age', 'Relatives']\n",
      "Time: 1519.0408599376678\n",
      "Features: ['Fare', 'Pclass']\n",
      "Time: 1654.5991258621216\n",
      "Features: ['Fare', 'Sex']\n",
      "Time: 1803.1965975761414\n",
      "Features: ['Fare', 'Relatives']\n",
      "Time: 1939.4698910713196\n",
      "Features: ['Embarked', 'Pclass']\n",
      "Time: 2169.891138076782\n",
      "Features: ['Embarked', 'Sex']\n",
      "Time: 2422.178153514862\n",
      "Features: ['Embarked', 'Fare']\n",
      "Time: 2559.9969210624695\n",
      "Features: ['Embarked', 'Relatives']\n",
      "Time: 2786.9563064575195\n",
      "Features: ['Relatives', 'Sex']\n",
      "Time: 3019.546160697937\n"
     ]
    }
   ],
   "source": [
    "start = time.time()\n",
    "for features_pair in all_feature_pairs:\n",
    "    X_train_reduced = X_train.drop(features_pair, axis=1)\n",
    "    X_test_reduced = X_test.drop(features_pair, axis=1)\n",
    "    clf = GridSearchCV(DecisionTreeClassifier(), {\n",
    "        'min_samples_split': range(100, 800, 50),\n",
    "        'min_samples_leaf': range(100, 800, 50),\n",
    "    })\n",
    "    clf.fit(X_train_reduced, y_train)\n",
    "    predicted = clf.predict(X_test_reduced)\n",
    "    trees_info.append(score_info(features_pair,\n",
    "                             clf.score(X_train_reduced, y_train),\n",
    "                             clf.score(X_test_reduced, y_test),\n",
    "                             precision_score(predicted, y_test),\n",
    "                             recall_score(predicted, y_test),\n",
    "                             clf.best_params_\n",
    "                            ))\n",
    "    print('Features: {}\\nTime: {}'.format(features_pair, time.time() - start))"
   ]
  },
  {
   "cell_type": "code",
   "execution_count": 130,
   "id": "alpha-traveler",
   "metadata": {
    "collapsed": true
   },
   "outputs": [
    {
     "data": {
      "text/plain": [
       "[score_info(feature='Pclass', train_score=0.7683513916823461, test_score=0.7659729070431307, precision=0.7461696223911207, recall=0.720023282887078, best_params={'min_samples_leaf': 300, 'min_samples_split': 100}),\n",
       " score_info(feature='Sex', train_score=0.7171738143125933, test_score=0.7151606373592152, precision=0.5851128000965135, recall=0.7030004348456298, best_params={'min_samples_leaf': 300, 'min_samples_split': 650}),\n",
       " score_info(feature='Age', train_score=0.7738013365340946, test_score=0.7663881247729278, precision=0.7362769936059839, recall=0.7249940603468757, best_params={'min_samples_leaf': 100, 'min_samples_split': 500}),\n",
       " score_info(feature='Fare', train_score=0.7695322130668916, test_score=0.7671147558000727, precision=0.7385691880805887, recall=0.7251836057806207, best_params={'min_samples_leaf': 250, 'min_samples_split': 100}),\n",
       " score_info(feature='Embarked', train_score=0.7665606955167715, test_score=0.7608864898531167, precision=0.7092532271685366, recall=0.7279593858345715, best_params={'min_samples_leaf': 100, 'min_samples_split': 500}),\n",
       " score_info(feature='Relatives', train_score=0.7733731265814572, test_score=0.7692427466652826, precision=0.7353118590903607, recall=0.7302024679525578, best_params={'min_samples_leaf': 100, 'min_samples_split': 500}),\n",
       " score_info(feature=['Pclass', 'Sex'], train_score=0.7076234347628625, test_score=0.7032750298437743, precision=0.5356496561708288, recall=0.703868103994927, best_params={'min_samples_leaf': 350, 'min_samples_split': 100}),\n",
       " score_info(feature=['Pclass', 'Relatives'], train_score=0.7681956789722961, test_score=0.7639487206103701, precision=0.7303655446977922, recall=0.7235568304051632, best_params={'min_samples_leaf': 150, 'min_samples_split': 750}),\n",
       " score_info(feature=['Age', 'Pclass'], train_score=0.7674819957179004, test_score=0.7652981782322105, precision=0.7461696223911207, recall=0.7189352551435546, best_params={'min_samples_leaf': 350, 'min_samples_split': 100}),\n",
       " score_info(feature=['Age', 'Sex'], train_score=0.7158372802179978, test_score=0.7132402553589038, precision=0.5924719507781397, recall=0.6958061773873618, best_params={'min_samples_leaf': 300, 'min_samples_split': 100}),\n",
       " score_info(feature=['Age', 'Fare'], train_score=0.7679361577888795, test_score=0.7688275289354856, precision=0.7571480275063337, recall=0.7199724675920615, best_params={'min_samples_leaf': 250, 'min_samples_split': 100}),\n",
       " score_info(feature=['Age', 'Embarked'], train_score=0.7637708427950431, test_score=0.7593294233663778, precision=0.7307274701411509, recall=0.7157882297329237, best_params={'min_samples_leaf': 300, 'min_samples_split': 100}),\n",
       " score_info(feature=['Age', 'Relatives'], train_score=0.7714915980016869, test_score=0.7646753516375149, precision=0.7319338882856798, recall=0.7240720849743406, best_params={'min_samples_leaf': 200, 'min_samples_split': 450}),\n",
       " score_info(feature=['Fare', 'Pclass'], train_score=0.7653409459547136, test_score=0.7647791560699642, precision=0.7514778622270479, recall=0.7158947247442823, best_params={'min_samples_leaf': 100, 'min_samples_split': 450}),\n",
       " score_info(feature=['Fare', 'Sex'], train_score=0.703094790112243, test_score=0.6996418747080501, precision=0.5089878151767403, recall=0.7107479784366577, best_params={'min_samples_leaf': 350, 'min_samples_split': 100}),\n",
       " score_info(feature=['Fare', 'Relatives'], train_score=0.7673781872445339, test_score=0.7659729070431307, precision=0.7573893111352394, recall=0.7153600729261622, best_params={'min_samples_leaf': 700, 'min_samples_split': 100}),\n",
       " score_info(feature=['Embarked', 'Pclass'], train_score=0.7620450269253228, test_score=0.760575076555769, precision=0.7385691880805887, recall=0.7145191409897292, best_params={'min_samples_leaf': 250, 'min_samples_split': 100}),\n",
       " score_info(feature=['Embarked', 'Sex'], train_score=0.6827613053915526, test_score=0.6755592463798205, precision=0.571480275063337, recall=0.6370360408821947, best_params={'min_samples_leaf': 300, 'min_samples_split': 650}),\n",
       " score_info(feature=['Embarked', 'Fare'], train_score=0.758982676961007, test_score=0.7589661078528053, precision=0.7093738689829895, recall=0.7245841035120147, best_params={'min_samples_leaf': 400, 'min_samples_split': 100}),\n",
       " score_info(feature=['Embarked', 'Relatives'], train_score=0.7634334652566016, test_score=0.7622359474749572, precision=0.731692604656774, recall=0.7201377345048682, best_params={'min_samples_leaf': 250, 'min_samples_split': 100}),\n",
       " score_info(feature=['Relatives', 'Sex'], train_score=0.7158502562771686, test_score=0.7140187886022733, precision=0.5857160091687779, recall=0.7004761217717501, best_params={'min_samples_leaf': 300, 'min_samples_split': 700})]"
      ]
     },
     "execution_count": 130,
     "metadata": {},
     "output_type": "execute_result"
    }
   ],
   "source": [
    "trees_info"
   ]
  },
  {
   "cell_type": "code",
   "execution_count": 136,
   "id": "growing-donna",
   "metadata": {},
   "outputs": [
    {
     "data": {
      "text/plain": [
       "score_info(feature='Relatives', train_score=0.7733731265814572, test_score=0.7692427466652826, precision=0.7353118590903607, recall=0.7302024679525578, best_params={'min_samples_leaf': 100, 'min_samples_split': 500})"
      ]
     },
     "execution_count": 136,
     "metadata": {},
     "output_type": "execute_result"
    }
   ],
   "source": [
    "sorted(trees_info, key=operator.attrgetter('test_score'), reverse=True)[0]"
   ]
  },
  {
   "cell_type": "code",
   "execution_count": null,
   "id": "official-interaction",
   "metadata": {},
   "outputs": [],
   "source": []
  }
 ],
 "metadata": {
  "kernelspec": {
   "display_name": "Python 3",
   "language": "python",
   "name": "python3"
  },
  "language_info": {
   "codemirror_mode": {
    "name": "ipython",
    "version": 3
   },
   "file_extension": ".py",
   "mimetype": "text/x-python",
   "name": "python",
   "nbconvert_exporter": "python",
   "pygments_lexer": "ipython3",
   "version": "3.9.0"
  }
 },
 "nbformat": 4,
 "nbformat_minor": 5
}
