{
 "cells": [
  {
   "cell_type": "code",
   "execution_count": 1,
   "id": "refined-equation",
   "metadata": {},
   "outputs": [],
   "source": [
    "import pandas as pd\n",
    "import numpy as np\n",
    "import matplotlib.pyplot as plt\n",
    "import seaborn as sns\n",
    "import time\n",
    "from sklearn.model_selection import train_test_split, GridSearchCV, RandomizedSearchCV\n",
    "from sklearn.metrics import precision_score, recall_score\n",
    "from sklearn.preprocessing import OneHotEncoder, LabelEncoder, StandardScaler, MinMaxScaler\n",
    "from sklearn.impute import SimpleImputer\n",
    "from sklearn.pipeline import Pipeline\n",
    "from sklearn.base import BaseEstimator, TransformerMixin\n",
    "from sklearn.compose import ColumnTransformer\n",
    "from sklearn.neighbors import KNeighborsClassifier"
   ]
  },
  {
   "cell_type": "code",
   "execution_count": 2,
   "id": "lucky-static",
   "metadata": {},
   "outputs": [],
   "source": [
    "class MyTransformer(BaseEstimator, TransformerMixin):\n",
    "    def __init__(self):\n",
    "        self.tr = ColumnTransformer([('age_fare_fill_na', SimpleImputer(strategy='median'), ['Age', 'Fare']),\n",
    "                                ('pipeline', Pipeline([\n",
    "                                            ('embarked_fill_na', SimpleImputer(strategy='most_frequent')),\n",
    "                                            ('embarked_encoding', OneHotEncoder(categories=[['C', 'Q', 'S']]))]), ['Embarked']),\n",
    "                                ('sex_to_num', OneHotEncoder(categories=[['female', 'male']]), ['Sex'])])\n",
    "    def fit(self, X):\n",
    "        self.tr.fit(X)\n",
    "        return self\n",
    "    def transform(self, X):\n",
    "        transformed = self.tr.transform(X)\n",
    "        X_transformed = X.copy()\n",
    "        X_transformed[['Age', 'Fare', 'C', 'Q', 'S', 'Sex']] = np.delete(transformed, -1, axis=1)\n",
    "        X_transformed.drop('Embarked', axis=1, inplace=True)\n",
    "        return X_transformed"
   ]
  },
  {
   "cell_type": "code",
   "execution_count": 3,
   "id": "structured-limitation",
   "metadata": {},
   "outputs": [],
   "source": [
    "df = pd.read_csv('D:/EPAM Internship/Python/my_data/train.csv')"
   ]
  },
  {
   "cell_type": "code",
   "execution_count": 4,
   "id": "descending-supply",
   "metadata": {},
   "outputs": [],
   "source": [
    "tr = MyTransformer()\n",
    "df = tr.fit_transform(df)"
   ]
  },
  {
   "cell_type": "code",
   "execution_count": 5,
   "id": "precise-truck",
   "metadata": {
    "scrolled": true
   },
   "outputs": [
    {
     "data": {
      "text/html": [
       "<div>\n",
       "<style scoped>\n",
       "    .dataframe tbody tr th:only-of-type {\n",
       "        vertical-align: middle;\n",
       "    }\n",
       "\n",
       "    .dataframe tbody tr th {\n",
       "        vertical-align: top;\n",
       "    }\n",
       "\n",
       "    .dataframe thead th {\n",
       "        text-align: right;\n",
       "    }\n",
       "</style>\n",
       "<table border=\"1\" class=\"dataframe\">\n",
       "  <thead>\n",
       "    <tr style=\"text-align: right;\">\n",
       "      <th></th>\n",
       "      <th>PassengerId</th>\n",
       "      <th>Survived</th>\n",
       "      <th>Pclass</th>\n",
       "      <th>Name</th>\n",
       "      <th>Sex</th>\n",
       "      <th>Age</th>\n",
       "      <th>SibSp</th>\n",
       "      <th>Parch</th>\n",
       "      <th>Ticket</th>\n",
       "      <th>Fare</th>\n",
       "      <th>Cabin</th>\n",
       "      <th>C</th>\n",
       "      <th>Q</th>\n",
       "      <th>S</th>\n",
       "    </tr>\n",
       "  </thead>\n",
       "  <tbody>\n",
       "    <tr>\n",
       "      <th>0</th>\n",
       "      <td>0</td>\n",
       "      <td>1</td>\n",
       "      <td>1</td>\n",
       "      <td>Oconnor, Frankie</td>\n",
       "      <td>0.0</td>\n",
       "      <td>39.00</td>\n",
       "      <td>2</td>\n",
       "      <td>0</td>\n",
       "      <td>209245</td>\n",
       "      <td>27.14</td>\n",
       "      <td>C12239</td>\n",
       "      <td>0.0</td>\n",
       "      <td>0.0</td>\n",
       "      <td>1.0</td>\n",
       "    </tr>\n",
       "    <tr>\n",
       "      <th>1</th>\n",
       "      <td>1</td>\n",
       "      <td>0</td>\n",
       "      <td>3</td>\n",
       "      <td>Bryan, Drew</td>\n",
       "      <td>0.0</td>\n",
       "      <td>39.00</td>\n",
       "      <td>0</td>\n",
       "      <td>0</td>\n",
       "      <td>27323</td>\n",
       "      <td>13.35</td>\n",
       "      <td>NaN</td>\n",
       "      <td>0.0</td>\n",
       "      <td>0.0</td>\n",
       "      <td>1.0</td>\n",
       "    </tr>\n",
       "    <tr>\n",
       "      <th>2</th>\n",
       "      <td>2</td>\n",
       "      <td>0</td>\n",
       "      <td>3</td>\n",
       "      <td>Owens, Kenneth</td>\n",
       "      <td>0.0</td>\n",
       "      <td>0.33</td>\n",
       "      <td>1</td>\n",
       "      <td>2</td>\n",
       "      <td>CA 457703</td>\n",
       "      <td>71.29</td>\n",
       "      <td>NaN</td>\n",
       "      <td>0.0</td>\n",
       "      <td>0.0</td>\n",
       "      <td>1.0</td>\n",
       "    </tr>\n",
       "    <tr>\n",
       "      <th>3</th>\n",
       "      <td>3</td>\n",
       "      <td>0</td>\n",
       "      <td>3</td>\n",
       "      <td>Kramer, James</td>\n",
       "      <td>0.0</td>\n",
       "      <td>19.00</td>\n",
       "      <td>0</td>\n",
       "      <td>0</td>\n",
       "      <td>A. 10866</td>\n",
       "      <td>13.04</td>\n",
       "      <td>NaN</td>\n",
       "      <td>0.0</td>\n",
       "      <td>0.0</td>\n",
       "      <td>1.0</td>\n",
       "    </tr>\n",
       "    <tr>\n",
       "      <th>4</th>\n",
       "      <td>4</td>\n",
       "      <td>1</td>\n",
       "      <td>3</td>\n",
       "      <td>Bond, Michael</td>\n",
       "      <td>0.0</td>\n",
       "      <td>25.00</td>\n",
       "      <td>0</td>\n",
       "      <td>0</td>\n",
       "      <td>427635</td>\n",
       "      <td>7.76</td>\n",
       "      <td>NaN</td>\n",
       "      <td>0.0</td>\n",
       "      <td>0.0</td>\n",
       "      <td>1.0</td>\n",
       "    </tr>\n",
       "  </tbody>\n",
       "</table>\n",
       "</div>"
      ],
      "text/plain": [
       "   PassengerId  Survived  Pclass              Name  Sex    Age  SibSp  Parch  \\\n",
       "0            0         1       1  Oconnor, Frankie  0.0  39.00      2      0   \n",
       "1            1         0       3       Bryan, Drew  0.0  39.00      0      0   \n",
       "2            2         0       3    Owens, Kenneth  0.0   0.33      1      2   \n",
       "3            3         0       3     Kramer, James  0.0  19.00      0      0   \n",
       "4            4         1       3     Bond, Michael  0.0  25.00      0      0   \n",
       "\n",
       "      Ticket   Fare   Cabin    C    Q    S  \n",
       "0     209245  27.14  C12239  0.0  0.0  1.0  \n",
       "1      27323  13.35     NaN  0.0  0.0  1.0  \n",
       "2  CA 457703  71.29     NaN  0.0  0.0  1.0  \n",
       "3   A. 10866  13.04     NaN  0.0  0.0  1.0  \n",
       "4     427635   7.76     NaN  0.0  0.0  1.0  "
      ]
     },
     "execution_count": 5,
     "metadata": {},
     "output_type": "execute_result"
    }
   ],
   "source": [
    "df.head()"
   ]
  },
  {
   "cell_type": "code",
   "execution_count": 6,
   "id": "egyptian-basis",
   "metadata": {},
   "outputs": [
    {
     "data": {
      "text/plain": [
       "3    41006\n",
       "1    30315\n",
       "2    28679\n",
       "Name: Pclass, dtype: int64"
      ]
     },
     "execution_count": 6,
     "metadata": {},
     "output_type": "execute_result"
    }
   ],
   "source": [
    "df.Pclass.value_counts()"
   ]
  },
  {
   "cell_type": "code",
   "execution_count": 10,
   "id": "environmental-thread",
   "metadata": {
    "collapsed": true
   },
   "outputs": [
    {
     "name": "stderr",
     "output_type": "stream",
     "text": [
      "<ipython-input-10-4ebcce9740c4>:2: SettingWithCopyWarning: \n",
      "A value is trying to be set on a copy of a slice from a DataFrame.\n",
      "Try using .loc[row_indexer,col_indexer] = value instead\n",
      "\n",
      "See the caveats in the documentation: https://pandas.pydata.org/pandas-docs/stable/user_guide/indexing.html#returning-a-view-versus-a-copy\n",
      "  other_df['Relatives'] = df.SibSp + df.Parch\n"
     ]
    }
   ],
   "source": [
    "other_df = df[['Survived', 'Pclass', 'Sex', 'Age', 'Fare', 'C', 'Q']]\n",
    "other_df['Relatives'] = df.SibSp + df.Parch"
   ]
  },
  {
   "cell_type": "code",
   "execution_count": 11,
   "id": "precise-layer",
   "metadata": {
    "collapsed": true
   },
   "outputs": [
    {
     "name": "stderr",
     "output_type": "stream",
     "text": [
      "<ipython-input-11-f397f67f2bcf>:2: SettingWithCopyWarning: \n",
      "A value is trying to be set on a copy of a slice from a DataFrame.\n",
      "Try using .loc[row_indexer,col_indexer] = value instead\n",
      "\n",
      "See the caveats in the documentation: https://pandas.pydata.org/pandas-docs/stable/user_guide/indexing.html#returning-a-view-versus-a-copy\n",
      "  other_df[['Age']] = age_scaler.fit_transform(other_df[['Age']])\n",
      "c:\\users\\user\\appdata\\local\\programs\\python\\python39\\lib\\site-packages\\pandas\\core\\indexing.py:1734: SettingWithCopyWarning: \n",
      "A value is trying to be set on a copy of a slice from a DataFrame.\n",
      "Try using .loc[row_indexer,col_indexer] = value instead\n",
      "\n",
      "See the caveats in the documentation: https://pandas.pydata.org/pandas-docs/stable/user_guide/indexing.html#returning-a-view-versus-a-copy\n",
      "  isetter(loc, value[:, i].tolist())\n",
      "c:\\users\\user\\appdata\\local\\programs\\python\\python39\\lib\\site-packages\\pandas\\core\\generic.py:5168: SettingWithCopyWarning: \n",
      "A value is trying to be set on a copy of a slice from a DataFrame.\n",
      "Try using .loc[row_indexer,col_indexer] = value instead\n",
      "\n",
      "See the caveats in the documentation: https://pandas.pydata.org/pandas-docs/stable/user_guide/indexing.html#returning-a-view-versus-a-copy\n",
      "  self[name] = value\n"
     ]
    }
   ],
   "source": [
    "age_scaler = MinMaxScaler()\n",
    "other_df[['Age']] = age_scaler.fit_transform(other_df[['Age']])\n",
    "fare_scaler = StandardScaler()\n",
    "other_df.Fare = fare_scaler.fit_transform(other_df[['Fare']])"
   ]
  },
  {
   "cell_type": "code",
   "execution_count": 21,
   "id": "completed-field",
   "metadata": {},
   "outputs": [
    {
     "data": {
      "text/plain": [
       "<AxesSubplot:>"
      ]
     },
     "execution_count": 21,
     "metadata": {},
     "output_type": "execute_result"
    },
    {
     "data": {
      "image/png": "[encoded data removed]",
      "text/plain": [
       "<Figure size 432x288 with 1 Axes>"
      ]
     },
     "metadata": {
      "needs_background": "light"
     },
     "output_type": "display_data"
    }
   ],
   "source": [
    "df.Fare.hist()"
   ]
  },
  {
   "cell_type": "code",
   "execution_count": 9,
   "id": "spare-command",
   "metadata": {},
   "outputs": [
    {
     "data": {
      "text/plain": [
       "count    100000.000000\n",
       "mean          0.852250\n",
       "std           1.412792\n",
       "min           0.000000\n",
       "25%           0.000000\n",
       "50%           0.000000\n",
       "75%           1.000000\n",
       "max          17.000000\n",
       "Name: Relatives, dtype: float64"
      ]
     },
     "execution_count": 9,
     "metadata": {},
     "output_type": "execute_result"
    }
   ],
   "source": [
    "other_df.Relatives.describe()"
   ]
  },
  {
   "cell_type": "code",
   "execution_count": 12,
   "id": "proud-agreement",
   "metadata": {},
   "outputs": [],
   "source": [
    "X = other_df.drop('Survived', axis=1)\n",
    "y = other_df['Survived']\n",
    "X_train, X_test, y_train, y_test = train_test_split(X, y, test_size=0.20, random_state=0)"
   ]
  },
  {
   "cell_type": "markdown",
   "id": "referenced-collectible",
   "metadata": {},
   "source": [
    "Simple classifier"
   ]
  },
  {
   "cell_type": "code",
   "execution_count": 13,
   "id": "round-ensemble",
   "metadata": {},
   "outputs": [],
   "source": [
    "clf_simple = KNeighborsClassifier()"
   ]
  },
  {
   "cell_type": "code",
   "execution_count": 14,
   "id": "thrown-kingdom",
   "metadata": {},
   "outputs": [
    {
     "name": "stdout",
     "output_type": "stream",
     "text": [
      "execution time: 34.97430944442749\n"
     ]
    }
   ],
   "source": [
    "start = time.time()\n",
    "clf_simple.fit(X_train, y_train)\n",
    "print('execution time:', time.time() - start)"
   ]
  },
  {
   "cell_type": "code",
   "execution_count": 15,
   "id": "established-manhattan",
   "metadata": {},
   "outputs": [
    {
     "name": "stdout",
     "output_type": "stream",
     "text": [
      "Train score: 0.8159125\n",
      "Test score: 0.7392\n",
      "Precision: 0.6859340403216408\n",
      "Recall: 0.7001308433448317\n"
     ]
    }
   ],
   "source": [
    "print('Train score:', clf_simple.score(X_train, y_train))\n",
    "print('Test score:', clf_simple.score(X_test, y_test))\n",
    "predicted = clf_simple.predict(X_test)\n",
    "print('Precision:', precision_score(predicted, y_test))\n",
    "print('Recall:', recall_score(predicted, y_test))"
   ]
  },
  {
   "cell_type": "markdown",
   "id": "binding-senator",
   "metadata": {},
   "source": [
    "Small classifier"
   ]
  },
  {
   "cell_type": "code",
   "execution_count": 14,
   "id": "designed-literacy",
   "metadata": {},
   "outputs": [
    {
     "data": {
      "text/plain": [
       "KNeighborsClassifier(n_neighbors=2)"
      ]
     },
     "execution_count": 14,
     "metadata": {},
     "output_type": "execute_result"
    }
   ],
   "source": [
    "clf_small = KNeighborsClassifier(2)\n",
    "clf_small.fit(X_train, y_train)"
   ]
  },
  {
   "cell_type": "code",
   "execution_count": 15,
   "id": "accurate-middle",
   "metadata": {},
   "outputs": [
    {
     "name": "stdout",
     "output_type": "stream",
     "text": [
      "Train score: 0.843525\n",
      "Test score: 0.6924\n",
      "Precision: 0.45728936021442723\n",
      "Recall: 0.7241188411145968\n"
     ]
    }
   ],
   "source": [
    "print('Train score:', clf_small.score(X_train, y_train))\n",
    "print('Test score:', clf_small.score(X_test, y_test))\n",
    "predicted = clf_small.predict(X_test)\n",
    "print('Precision:', precision_score(predicted, y_test))\n",
    "print('Recall:', recall_score(predicted, y_test))"
   ]
  },
  {
   "cell_type": "markdown",
   "id": "computational-illustration",
   "metadata": {},
   "source": [
    "Dependency on n_neighbours parameter"
   ]
  },
  {
   "cell_type": "code",
   "execution_count": 20,
   "id": "historical-belfast",
   "metadata": {},
   "outputs": [
    {
     "name": "stdout",
     "output_type": "stream",
     "text": [
      "n_neighbors: 1    time: 56.491872787475586\n"
     ]
    }
   ],
   "source": [
    "acc_train, acc_test = [], []\n",
    "N = 100\n",
    "for n_neighbors in range(1, N, 3):\n",
    "    start = time.time()\n",
    "    clf = KNeighborsClassifier(n_neighbors=n_neighbors)\n",
    "    clf.fit(X_train, y_train)\n",
    "    acc_train.append(clf.score(X_train, y_train))\n",
    "    acc_test.append(clf.score(X_test, y_test))\n",
    "    print(f'n_neighbors: {n_neighbors}    time: {time.time() - start}')\n",
    "    break"
   ]
  },
  {
   "cell_type": "code",
   "execution_count": 25,
   "id": "knowing-testament",
   "metadata": {},
   "outputs": [
    {
     "data": {
      "image/png": "[encoded data removed]",
      "text/plain": [
       "<Figure size 432x288 with 1 Axes>"
      ]
     },
     "metadata": {
      "needs_background": "light"
     },
     "output_type": "display_data"
    }
   ],
   "source": [
    "plt.plot(range(1, N, 3), acc_train)\n",
    "plt.plot(range(1, N, 3), acc_test)\n",
    "plt.title('n_neighbours')\n",
    "plt.legend(['train', 'test'])\n",
    "plt.show()"
   ]
  },
  {
   "cell_type": "markdown",
   "id": "based-purchase",
   "metadata": {},
   "source": [
    "Dependency on p parameter"
   ]
  },
  {
   "cell_type": "code",
   "execution_count": 26,
   "id": "capital-raising",
   "metadata": {},
   "outputs": [
    {
     "name": "stdout",
     "output_type": "stream",
     "text": [
      "p: 1    time: 19.985970497131348\n",
      "p: 2    time: 18.145374298095703\n",
      "p: 3    time: 20.902438402175903\n",
      "p: 4    time: 20.903608322143555\n",
      "p: 5    time: 20.85737133026123\n",
      "p: 6    time: 20.839178800582886\n",
      "p: 7    time: 20.8715558052063\n",
      "p: 8    time: 20.865839958190918\n",
      "p: 9    time: 20.88315224647522\n",
      "p: 10    time: 20.861618041992188\n"
     ]
    }
   ],
   "source": [
    "acc_train, acc_test = [], []\n",
    "p_list = range(1, 11)\n",
    "for p in p_list:\n",
    "    start = time.time()\n",
    "    clf = KNeighborsClassifier(p=p)\n",
    "    clf.fit(X_train, y_train)\n",
    "    acc_train.append(clf.score(X_train, y_train))\n",
    "    acc_test.append(clf.score(X_test, y_test))\n",
    "    print(f'p: {p}    time: {time.time() - start}')"
   ]
  },
  {
   "cell_type": "code",
   "execution_count": 27,
   "id": "steady-clearing",
   "metadata": {},
   "outputs": [
    {
     "data": {
      "image/png": "[encoded data removed]",
      "text/plain": [
       "<Figure size 432x288 with 1 Axes>"
      ]
     },
     "metadata": {
      "needs_background": "light"
     },
     "output_type": "display_data"
    }
   ],
   "source": [
    "plt.plot(p_list, acc_train)\n",
    "plt.plot(p_list, acc_test)\n",
    "plt.title('p')\n",
    "plt.legend(['train', 'test'])\n",
    "plt.show()"
   ]
  },
  {
   "cell_type": "markdown",
   "id": "physical-police",
   "metadata": {},
   "source": [
    "----------------------"
   ]
  },
  {
   "cell_type": "markdown",
   "id": "informal-finland",
   "metadata": {},
   "source": [
    "Best params"
   ]
  },
  {
   "cell_type": "code",
   "execution_count": 28,
   "id": "medical-despite",
   "metadata": {},
   "outputs": [],
   "source": [
    "clf_best = GridSearchCV(KNeighborsClassifier(),\n",
    "                       [{\n",
    "                           'n_neighbors': range(10, 50, 5),\n",
    "                           'weights': ['uniform']\n",
    "                       },\n",
    "                       {\n",
    "                           'n_neighbors': range(10, 50, 5),\n",
    "                           'metric': ['chebyshev']\n",
    "                       },\n",
    "                       {\n",
    "                           'n_neighbors': range(10, 50, 5),\n",
    "                           'p': [1, 2, 3],\n",
    "                           'metric': ['minkowski']\n",
    "                       }]\n",
    "                       )"
   ]
  },
  {
   "cell_type": "code",
   "execution_count": 29,
   "id": "miniature-agriculture",
   "metadata": {},
   "outputs": [
    {
     "name": "stdout",
     "output_type": "stream",
     "text": [
      "815.386474609375\n"
     ]
    }
   ],
   "source": [
    "start = time.time()\n",
    "clf_best.fit(X_train, y_train)\n",
    "print(time.time() - start)"
   ]
  },
  {
   "cell_type": "code",
   "execution_count": 30,
   "id": "concrete-option",
   "metadata": {},
   "outputs": [
    {
     "name": "stdout",
     "output_type": "stream",
     "text": [
      "Train score: 0.7630375\n",
      "Test score: 0.7443\n",
      "Precision: 0.6591306374548421\n",
      "Recall: 0.7209687699171446\n"
     ]
    }
   ],
   "source": [
    "print('Train score:', clf_best.score(X_train, y_train))\n",
    "print('Test score:', clf_best.score(X_test, y_test))\n",
    "predicted = clf_best.predict(X_test)\n",
    "print('Precision:', precision_score(predicted, y_test))\n",
    "print('Recall:', recall_score(predicted, y_test))"
   ]
  },
  {
   "cell_type": "code",
   "execution_count": 31,
   "id": "based-optimization",
   "metadata": {},
   "outputs": [
    {
     "data": {
      "text/plain": [
       "KNeighborsClassifier(n_neighbors=35, p=1)"
      ]
     },
     "execution_count": 31,
     "metadata": {},
     "output_type": "execute_result"
    }
   ],
   "source": [
    "clf_best.best_estimator_"
   ]
  },
  {
   "cell_type": "code",
   "execution_count": null,
   "id": "consolidated-justice",
   "metadata": {},
   "outputs": [],
   "source": []
  },
  {
   "cell_type": "code",
   "execution_count": 16,
   "id": "plain-clause",
   "metadata": {},
   "outputs": [],
   "source": [
    "some_clf = KNeighborsClassifier(n_neighbors=25, p=1)"
   ]
  },
  {
   "cell_type": "code",
   "execution_count": 17,
   "id": "brave-command",
   "metadata": {},
   "outputs": [
    {
     "name": "stdout",
     "output_type": "stream",
     "text": [
      "31.309176206588745\n"
     ]
    }
   ],
   "source": [
    "start = time.time()\n",
    "some_clf.fit(X_train, y_train)\n",
    "print(time.time() - start)"
   ]
  },
  {
   "cell_type": "code",
   "execution_count": 18,
   "id": "attractive-meditation",
   "metadata": {},
   "outputs": [
    {
     "name": "stdout",
     "output_type": "stream",
     "text": [
      "Train score: 0.780875\n",
      "Test score: 0.75865\n",
      "Precision: 0.7178650506933923\n",
      "Recall: 0.719122110670091\n"
     ]
    }
   ],
   "source": [
    "print('Train score:', some_clf.score(X_train, y_train))\n",
    "print('Test score:', some_clf.score(X_test, y_test))\n",
    "predicted = some_clf.predict(X_test)\n",
    "print('Precision:', precision_score(predicted, y_test))\n",
    "print('Recall:', recall_score(predicted, y_test))"
   ]
  },
  {
   "cell_type": "code",
   "execution_count": null,
   "id": "roman-wales",
   "metadata": {},
   "outputs": [],
   "source": []
  }
 ],
 "metadata": {
  "kernelspec": {
   "display_name": "Python 3",
   "language": "python",
   "name": "python3"
  },
  "language_info": {
   "codemirror_mode": {
    "name": "ipython",
    "version": 3
   },
   "file_extension": ".py",
   "mimetype": "text/x-python",
   "name": "python",
   "nbconvert_exporter": "python",
   "pygments_lexer": "ipython3",
   "version": "3.9.0"
  }
 },
 "nbformat": 4,
 "nbformat_minor": 5
}
