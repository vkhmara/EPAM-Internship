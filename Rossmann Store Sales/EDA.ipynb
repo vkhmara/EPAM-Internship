{
 "cells": [
  {
   "cell_type": "code",
   "execution_count": 1,
   "id": "optical-international",
   "metadata": {
    "ExecuteTime": {
     "end_time": "2021-11-24T17:42:13.692687Z",
     "start_time": "2021-11-24T17:42:06.802379Z"
    }
   },
   "outputs": [],
   "source": [
    "import datetime\n",
    "import matplotlib.pyplot as plt\n",
    "import numpy as np\n",
    "import pandas as pd\n",
    "import seaborn as sns\n",
    "import warnings\n",
    "from operator import attrgetter\n",
    "\n",
    "warnings.filterwarnings(\"ignore\")"
   ]
  },
  {
   "cell_type": "markdown",
   "id": "light-aquarium",
   "metadata": {},
   "source": [
    "## reading data"
   ]
  },
  {
   "cell_type": "code",
   "execution_count": 2,
   "id": "commercial-ordinance",
   "metadata": {
    "ExecuteTime": {
     "end_time": "2021-11-24T17:42:15.868315Z",
     "start_time": "2021-11-24T17:42:13.700678Z"
    }
   },
   "outputs": [],
   "source": [
    "train = pd.read_csv('data/train.csv')\n",
    "store = pd.read_csv('data/store.csv')\n",
    "test = pd.read_csv('data/test.csv')"
   ]
  },
  {
   "cell_type": "markdown",
   "id": "square-greek",
   "metadata": {},
   "source": [
    "## Some plot functions"
   ]
  },
  {
   "cell_type": "code",
   "execution_count": 3,
   "id": "chronic-porter",
   "metadata": {
    "ExecuteTime": {
     "end_time": "2021-11-24T17:42:15.914243Z",
     "start_time": "2021-11-24T17:42:15.877303Z"
    }
   },
   "outputs": [],
   "source": [
    "def remove_axes():\n",
    "    plt.gca().spines['right'].set_visible(False)\n",
    "    plt.gca().spines['left'].set_visible(False)\n",
    "    plt.gca().spines['top'].set_visible(False)\n",
    "    plt.gca().spines['bottom'].set_visible(False)"
   ]
  },
  {
   "cell_type": "code",
   "execution_count": 4,
   "id": "level-flexibility",
   "metadata": {
    "ExecuteTime": {
     "end_time": "2021-11-24T17:42:15.962171Z",
     "start_time": "2021-11-24T17:42:15.923234Z"
    }
   },
   "outputs": [],
   "source": [
    "def barh_series(ser, col_name='', title='', show_count=True):\n",
    "    plt.figure(figsize=(10, 0.6 * len(ser)))\n",
    "    try:\n",
    "        labels = ser.index.astype('int')\n",
    "        if (ser.index != labels).any():\n",
    "            labels = ser.index\n",
    "    except:\n",
    "        labels = ser.index\n",
    "    plt.barh(labels, width=ser.values, tick_label=labels)\n",
    "    if show_count:\n",
    "        for label in labels:\n",
    "            if ser[label] < max(ser) / 30:\n",
    "                plt.text(max(ser) / 30, label, ser[label], color='black', fontsize='large', ha='left', va='center')\n",
    "            else:\n",
    "                plt.text(ser[label] / 2, label, ser[label], color='white', fontsize='large', ha='center', va='center')\n",
    "\n",
    "    plt.title(title)\n",
    "    plt.yticks(labels, labels)\n",
    "    if show_count:\n",
    "        plt.xticks([])\n",
    "    remove_axes()\n",
    "    plt.ylabel(col_name)\n",
    "    plt.show()"
   ]
  },
  {
   "cell_type": "code",
   "execution_count": 5,
   "id": "ambient-firmware",
   "metadata": {
    "ExecuteTime": {
     "end_time": "2021-11-24T17:42:15.993121Z",
     "start_time": "2021-11-24T17:42:15.971157Z"
    }
   },
   "outputs": [],
   "source": [
    "def barh(df, col_name, show_count=True):\n",
    "    barh_series(df[col_name].value_counts().sort_index(),\n",
    "                col_name,\n",
    "                f'{col_name} histogram',\n",
    "                show_count)"
   ]
  },
  {
   "cell_type": "code",
   "execution_count": 6,
   "id": "referenced-cameroon",
   "metadata": {
    "ExecuteTime": {
     "end_time": "2021-11-24T17:42:16.024074Z",
     "start_time": "2021-11-24T17:42:16.003105Z"
    }
   },
   "outputs": [],
   "source": [
    "def bar_series(ser, col_name='', title='', show_count=True, figsize=(10, 6), rotation=0):\n",
    "    plt.figure(figsize=figsize)\n",
    "    try:\n",
    "        labels = ser.index.astype('int')\n",
    "        if (ser.index != labels).any():\n",
    "            labels = ser.index\n",
    "    except:\n",
    "        labels = ser.index\n",
    "    plt.bar(labels, height=ser.values)\n",
    "    plt.xticks(ticks=labels, labels=labels, rotation=rotation)\n",
    "    if show_count:\n",
    "        for label in labels:\n",
    "            if ser[label] < max(ser) / 30:\n",
    "                plt.text(label, max(ser) / 30, ser[label], color='black', fontsize='large', ha='center', va='bottom')\n",
    "            else:\n",
    "                plt.text(label, ser[label] / 2, ser[label], color='white', fontsize='large', ha='center', va='center')\n",
    "\n",
    "    plt.title(title)\n",
    "    plt.xlabel(col_name)\n",
    "    plt.show()"
   ]
  },
  {
   "cell_type": "code",
   "execution_count": 7,
   "id": "thirty-secretariat",
   "metadata": {
    "ExecuteTime": {
     "end_time": "2021-11-24T17:42:16.055023Z",
     "start_time": "2021-11-24T17:42:16.033059Z"
    }
   },
   "outputs": [],
   "source": [
    "def bar(df, col_name, show_count=True, figsize=(10, 6), rotation=0):\n",
    "    bar_series(df[col_name].value_counts().sort_index(),\n",
    "               col_name,\n",
    "               f'{col_name} histogram',\n",
    "               show_count,\n",
    "               figsize,\n",
    "               rotation)"
   ]
  },
  {
   "cell_type": "code",
   "execution_count": 8,
   "id": "specialized-mexican",
   "metadata": {
    "ExecuteTime": {
     "end_time": "2021-11-24T17:42:16.086978Z",
     "start_time": "2021-11-24T17:42:16.063013Z"
    }
   },
   "outputs": [],
   "source": [
    "def hist_series(ser, ser_name='', bins=60, figsize=(10, 6)):\n",
    "    plt.figure(figsize=figsize)\n",
    "    plt.hist(ser, bins=bins)\n",
    "    plt.xlabel(ser_name)\n",
    "    plt.ylabel('count')\n",
    "    plt.title(f'{ser_name} histogram')\n",
    "    plt.show()"
   ]
  },
  {
   "cell_type": "code",
   "execution_count": 9,
   "id": "billion-halifax",
   "metadata": {
    "ExecuteTime": {
     "end_time": "2021-11-24T17:42:16.117923Z",
     "start_time": "2021-11-24T17:42:16.100954Z"
    }
   },
   "outputs": [],
   "source": [
    "def hist(df, col_name, bins=60, figsize=(10, 6)):\n",
    "    hist_series(df[col_name], col_name, bins, figsize)"
   ]
  },
  {
   "cell_type": "markdown",
   "id": "racial-classic",
   "metadata": {},
   "source": [
    "# store"
   ]
  },
  {
   "cell_type": "code",
   "execution_count": 10,
   "id": "magnetic-cornwall",
   "metadata": {
    "ExecuteTime": {
     "end_time": "2021-11-24T17:42:16.308623Z",
     "start_time": "2021-11-24T17:42:16.129908Z"
    },
    "scrolled": false
   },
   "outputs": [
    {
     "name": "stdout",
     "output_type": "stream",
     "text": [
      "<class 'pandas.core.frame.DataFrame'>\n",
      "RangeIndex: 1115 entries, 0 to 1114\n",
      "Data columns (total 10 columns):\n",
      " #   Column                     Non-Null Count  Dtype  \n",
      "---  ------                     --------------  -----  \n",
      " 0   Store                      1115 non-null   int64  \n",
      " 1   StoreType                  1115 non-null   object \n",
      " 2   Assortment                 1115 non-null   object \n",
      " 3   CompetitionDistance        1112 non-null   float64\n",
      " 4   CompetitionOpenSinceMonth  761 non-null    float64\n",
      " 5   CompetitionOpenSinceYear   761 non-null    float64\n",
      " 6   Promo2                     1115 non-null   int64  \n",
      " 7   Promo2SinceWeek            571 non-null    float64\n",
      " 8   Promo2SinceYear            571 non-null    float64\n",
      " 9   PromoInterval              571 non-null    object \n",
      "dtypes: float64(5), int64(2), object(3)\n",
      "memory usage: 87.2+ KB\n"
     ]
    },
    {
     "data": {
      "text/html": [
       "<div>\n",
       "<style scoped>\n",
       "    .dataframe tbody tr th:only-of-type {\n",
       "        vertical-align: middle;\n",
       "    }\n",
       "\n",
       "    .dataframe tbody tr th {\n",
       "        vertical-align: top;\n",
       "    }\n",
       "\n",
       "    .dataframe thead th {\n",
       "        text-align: right;\n",
       "    }\n",
       "</style>\n",
       "<table border=\"1\" class=\"dataframe\">\n",
       "  <thead>\n",
       "    <tr style=\"text-align: right;\">\n",
       "      <th></th>\n",
       "      <th>Store</th>\n",
       "      <th>StoreType</th>\n",
       "      <th>Assortment</th>\n",
       "      <th>CompetitionDistance</th>\n",
       "      <th>CompetitionOpenSinceMonth</th>\n",
       "      <th>CompetitionOpenSinceYear</th>\n",
       "      <th>Promo2</th>\n",
       "      <th>Promo2SinceWeek</th>\n",
       "      <th>Promo2SinceYear</th>\n",
       "      <th>PromoInterval</th>\n",
       "    </tr>\n",
       "  </thead>\n",
       "  <tbody>\n",
       "    <tr>\n",
       "      <th>0</th>\n",
       "      <td>1</td>\n",
       "      <td>c</td>\n",
       "      <td>a</td>\n",
       "      <td>1270.0</td>\n",
       "      <td>9.0</td>\n",
       "      <td>2008.0</td>\n",
       "      <td>0</td>\n",
       "      <td>NaN</td>\n",
       "      <td>NaN</td>\n",
       "      <td>NaN</td>\n",
       "    </tr>\n",
       "    <tr>\n",
       "      <th>1</th>\n",
       "      <td>2</td>\n",
       "      <td>a</td>\n",
       "      <td>a</td>\n",
       "      <td>570.0</td>\n",
       "      <td>11.0</td>\n",
       "      <td>2007.0</td>\n",
       "      <td>1</td>\n",
       "      <td>13.0</td>\n",
       "      <td>2010.0</td>\n",
       "      <td>Jan,Apr,Jul,Oct</td>\n",
       "    </tr>\n",
       "    <tr>\n",
       "      <th>2</th>\n",
       "      <td>3</td>\n",
       "      <td>a</td>\n",
       "      <td>a</td>\n",
       "      <td>14130.0</td>\n",
       "      <td>12.0</td>\n",
       "      <td>2006.0</td>\n",
       "      <td>1</td>\n",
       "      <td>14.0</td>\n",
       "      <td>2011.0</td>\n",
       "      <td>Jan,Apr,Jul,Oct</td>\n",
       "    </tr>\n",
       "    <tr>\n",
       "      <th>3</th>\n",
       "      <td>4</td>\n",
       "      <td>c</td>\n",
       "      <td>c</td>\n",
       "      <td>620.0</td>\n",
       "      <td>9.0</td>\n",
       "      <td>2009.0</td>\n",
       "      <td>0</td>\n",
       "      <td>NaN</td>\n",
       "      <td>NaN</td>\n",
       "      <td>NaN</td>\n",
       "    </tr>\n",
       "    <tr>\n",
       "      <th>4</th>\n",
       "      <td>5</td>\n",
       "      <td>a</td>\n",
       "      <td>a</td>\n",
       "      <td>29910.0</td>\n",
       "      <td>4.0</td>\n",
       "      <td>2015.0</td>\n",
       "      <td>0</td>\n",
       "      <td>NaN</td>\n",
       "      <td>NaN</td>\n",
       "      <td>NaN</td>\n",
       "    </tr>\n",
       "  </tbody>\n",
       "</table>\n",
       "</div>"
      ],
      "text/plain": [
       "   Store StoreType Assortment  CompetitionDistance  CompetitionOpenSinceMonth  \\\n",
       "0      1         c          a               1270.0                        9.0   \n",
       "1      2         a          a                570.0                       11.0   \n",
       "2      3         a          a              14130.0                       12.0   \n",
       "3      4         c          c                620.0                        9.0   \n",
       "4      5         a          a              29910.0                        4.0   \n",
       "\n",
       "   CompetitionOpenSinceYear  Promo2  Promo2SinceWeek  Promo2SinceYear  \\\n",
       "0                    2008.0       0              NaN              NaN   \n",
       "1                    2007.0       1             13.0           2010.0   \n",
       "2                    2006.0       1             14.0           2011.0   \n",
       "3                    2009.0       0              NaN              NaN   \n",
       "4                    2015.0       0              NaN              NaN   \n",
       "\n",
       "     PromoInterval  \n",
       "0              NaN  \n",
       "1  Jan,Apr,Jul,Oct  \n",
       "2  Jan,Apr,Jul,Oct  \n",
       "3              NaN  \n",
       "4              NaN  "
      ]
     },
     "execution_count": 10,
     "metadata": {},
     "output_type": "execute_result"
    }
   ],
   "source": [
    "store.info()\n",
    "store.head()"
   ]
  },
  {
   "cell_type": "markdown",
   "id": "interesting-reviewer",
   "metadata": {},
   "source": [
    "The table contains 10 columns. It contains missing values."
   ]
  },
  {
   "cell_type": "markdown",
   "id": "cellular-brazilian",
   "metadata": {},
   "source": [
    "The plot of missing values count:"
   ]
  },
  {
   "cell_type": "code",
   "execution_count": 11,
   "id": "sacred-analysis",
   "metadata": {
    "ExecuteTime": {
     "end_time": "2021-11-24T17:42:16.340574Z",
     "start_time": "2021-11-24T17:42:16.317613Z"
    }
   },
   "outputs": [],
   "source": [
    "na_counts = store.isna().sum()"
   ]
  },
  {
   "cell_type": "code",
   "execution_count": 12,
   "id": "separated-shepherd",
   "metadata": {
    "ExecuteTime": {
     "end_time": "2021-11-24T17:42:17.339009Z",
     "start_time": "2021-11-24T17:42:16.348572Z"
    },
    "scrolled": false
   },
   "outputs": [
    {
     "data": {
      "image/png": "[encoded data removed]",
      "text/plain": [
       "<Figure size 720x432 with 1 Axes>"
      ]
     },
     "metadata": {
      "needs_background": "light"
     },
     "output_type": "display_data"
    }
   ],
   "source": [
    "bar_series(title='missing values', ser=na_counts, col_name='feature', rotation=80)"
   ]
  },
  {
   "cell_type": "markdown",
   "id": "jewish-window",
   "metadata": {},
   "source": [
    "## Store"
   ]
  },
  {
   "cell_type": "markdown",
   "id": "sitting-little",
   "metadata": {},
   "source": [
    "The identifier of store. Ranges from 1 to 1115."
   ]
  },
  {
   "cell_type": "code",
   "execution_count": 13,
   "id": "intellectual-sentence",
   "metadata": {
    "ExecuteTime": {
     "end_time": "2021-11-24T17:42:17.385935Z",
     "start_time": "2021-11-24T17:42:17.347004Z"
    }
   },
   "outputs": [
    {
     "data": {
      "text/plain": [
       "True"
      ]
     },
     "execution_count": 13,
     "metadata": {},
     "output_type": "execute_result"
    }
   ],
   "source": [
    "(pd.RangeIndex(1, 1116) == store.Store).all()"
   ]
  },
  {
   "cell_type": "markdown",
   "id": "intended-sector",
   "metadata": {},
   "source": [
    "As it is the identifier of stores it will be removed when training the models."
   ]
  },
  {
   "cell_type": "markdown",
   "id": "surface-modem",
   "metadata": {},
   "source": [
    "## StoreType"
   ]
  },
  {
   "cell_type": "markdown",
   "id": "worth-tsunami",
   "metadata": {},
   "source": [
    "The type of store. Its values are 'a', 'b', 'c' and 'd'. The histogram of values:"
   ]
  },
  {
   "cell_type": "code",
   "execution_count": 14,
   "id": "electric-throat",
   "metadata": {
    "ExecuteTime": {
     "end_time": "2021-11-24T17:42:17.749362Z",
     "start_time": "2021-11-24T17:42:17.394921Z"
    }
   },
   "outputs": [
    {
     "data": {
      "image/png": "[encoded data removed]",
      "text/plain": [
       "<Figure size 720x172.8 with 1 Axes>"
      ]
     },
     "metadata": {
      "needs_background": "light"
     },
     "output_type": "display_data"
    }
   ],
   "source": [
    "barh(store, 'StoreType')"
   ]
  },
  {
   "cell_type": "markdown",
   "id": "employed-athletics",
   "metadata": {},
   "source": [
    "This feature is categorical and its values are not numeric. So when training models it must be transformed to numeric features e.g. using one-hot encoder."
   ]
  },
  {
   "cell_type": "markdown",
   "id": "democratic-society",
   "metadata": {},
   "source": [
    "## Assortment"
   ]
  },
  {
   "cell_type": "markdown",
   "id": "occupied-baseball",
   "metadata": {},
   "source": [
    "The type of assortment provided by the store. Its values are 'a', 'b' and 'c'. The histogram of values:"
   ]
  },
  {
   "cell_type": "code",
   "execution_count": 15,
   "id": "lonely-spirit",
   "metadata": {
    "ExecuteTime": {
     "end_time": "2021-11-24T17:42:18.032917Z",
     "start_time": "2021-11-24T17:42:17.756363Z"
    }
   },
   "outputs": [
    {
     "data": {
      "image/png": "[encoded data removed]",
      "text/plain": [
       "<Figure size 720x129.6 with 1 Axes>"
      ]
     },
     "metadata": {
      "needs_background": "light"
     },
     "output_type": "display_data"
    }
   ],
   "source": [
    "barh(store, 'Assortment')"
   ]
  },
  {
   "cell_type": "markdown",
   "id": "congressional-calvin",
   "metadata": {},
   "source": [
    "This feature is also categorical and takes non-numeric values. So it must be transformed to numeric features e.g. using one-hot encoder."
   ]
  },
  {
   "cell_type": "markdown",
   "id": "industrial-measure",
   "metadata": {},
   "source": [
    "## CompetitionDistance"
   ]
  },
  {
   "cell_type": "markdown",
   "id": "administrative-cinema",
   "metadata": {},
   "source": [
    "The distance from the store to the nearest competitor store in meters. There are 3 (or 0.3%) missing values. The distribution of this feature:"
   ]
  },
  {
   "cell_type": "code",
   "execution_count": 16,
   "id": "solid-vitamin",
   "metadata": {
    "ExecuteTime": {
     "end_time": "2021-11-24T17:42:19.042336Z",
     "start_time": "2021-11-24T17:42:18.041910Z"
    }
   },
   "outputs": [
    {
     "data": {
      "image/png": "[encoded data removed]",
      "text/plain": [
       "<Figure size 720x432 with 1 Axes>"
      ]
     },
     "metadata": {
      "needs_background": "light"
     },
     "output_type": "display_data"
    }
   ],
   "source": [
    "hist(store, 'CompetitionDistance')"
   ]
  },
  {
   "cell_type": "markdown",
   "id": "loving-control",
   "metadata": {},
   "source": [
    "This feature is numeric. Its distribution is similar to lognormal. Let's take a logarithm of this feature and show the distribution:"
   ]
  },
  {
   "cell_type": "code",
   "execution_count": 17,
   "id": "further-joyce",
   "metadata": {
    "ExecuteTime": {
     "end_time": "2021-11-24T17:42:20.020797Z",
     "start_time": "2021-11-24T17:42:19.049334Z"
    }
   },
   "outputs": [
    {
     "data": {
      "image/png": "[encoded data removed]",
      "text/plain": [
       "<Figure size 720x432 with 1 Axes>"
      ]
     },
     "metadata": {
      "needs_background": "light"
     },
     "output_type": "display_data"
    }
   ],
   "source": [
    "hist_series(np.log10(store.CompetitionDistance), 'logarithm of CompetitionDistance')"
   ]
  },
  {
   "cell_type": "markdown",
   "id": "individual-hindu",
   "metadata": {},
   "source": [
    "It is a bit similar to normal distribution. It is a good information for linear regression because it works better with such features."
   ]
  },
  {
   "cell_type": "markdown",
   "id": "apart-value",
   "metadata": {},
   "source": [
    "The missing values can be replaced with mean value."
   ]
  },
  {
   "cell_type": "markdown",
   "id": "supposed-communications",
   "metadata": {},
   "source": [
    "## CompetitionOpenSinceMonth"
   ]
  },
  {
   "cell_type": "markdown",
   "id": "extra-forge",
   "metadata": {},
   "source": [
    "The month of the first opening of the nearest competitor store. There are 354 (or 31.7%) missing values. The distribution of this feature:"
   ]
  },
  {
   "cell_type": "code",
   "execution_count": 18,
   "id": "above-wagon",
   "metadata": {
    "ExecuteTime": {
     "end_time": "2021-11-24T17:42:20.621853Z",
     "start_time": "2021-11-24T17:42:20.029796Z"
    },
    "scrolled": false
   },
   "outputs": [
    {
     "data": {
      "image/png": "[encoded data removed]",
      "text/plain": [
       "<Figure size 720x518.4 with 1 Axes>"
      ]
     },
     "metadata": {
      "needs_background": "light"
     },
     "output_type": "display_data"
    }
   ],
   "source": [
    "barh(store, 'CompetitionOpenSinceMonth')"
   ]
  },
  {
   "cell_type": "markdown",
   "id": "forbidden-magazine",
   "metadata": {},
   "source": [
    "This feature is categorical and takes numeric values. It can be transformed to numeric features e.g. using one-hot encoder. But there is a **CompetitionOpenSinceYear** feature. When describing it I will say how these 2 features can be combined."
   ]
  },
  {
   "cell_type": "markdown",
   "id": "curious-singles",
   "metadata": {},
   "source": [
    "## CompetitionOpenSinceYear"
   ]
  },
  {
   "cell_type": "markdown",
   "id": "searching-terminal",
   "metadata": {},
   "source": [
    "The year of the first opening of the nearest competitor store. There are 354 (or 31.7%) missing values. The distribution of this feature:"
   ]
  },
  {
   "cell_type": "code",
   "execution_count": 19,
   "id": "certain-citation",
   "metadata": {
    "ExecuteTime": {
     "end_time": "2021-11-24T17:42:21.600328Z",
     "start_time": "2021-11-24T17:42:20.629845Z"
    }
   },
   "outputs": [
    {
     "data": {
      "image/png": "[encoded data removed]",
      "text/plain": [
       "<Figure size 1080x432 with 1 Axes>"
      ]
     },
     "metadata": {
      "needs_background": "light"
     },
     "output_type": "display_data"
    }
   ],
   "source": [
    "bar(store, 'CompetitionOpenSinceYear', show_count=False, figsize=(15, 6), rotation=80)"
   ]
  },
  {
   "cell_type": "markdown",
   "id": "nearby-favorite",
   "metadata": {},
   "source": [
    "As you can see there are two outliers - 1900 and 1961. The distribution without them:"
   ]
  },
  {
   "cell_type": "code",
   "execution_count": 20,
   "id": "paperback-nitrogen",
   "metadata": {
    "ExecuteTime": {
     "end_time": "2021-11-24T17:42:22.613727Z",
     "start_time": "2021-11-24T17:42:21.607312Z"
    }
   },
   "outputs": [
    {
     "data": {
      "image/png": "[encoded data removed]",
      "text/plain": [
       "<Figure size 1080x432 with 1 Axes>"
      ]
     },
     "metadata": {
      "needs_background": "light"
     },
     "output_type": "display_data"
    }
   ],
   "source": [
    "bar(store[~store.CompetitionOpenSinceYear.isin([1900, 1961])],\n",
    "    'CompetitionOpenSinceYear',\n",
    "    show_count=False, figsize=(15, 6), rotation=80)"
   ]
  },
  {
   "cell_type": "markdown",
   "id": "healthy-landing",
   "metadata": {},
   "source": [
    "So the most of competitor stores were opened during the last 15 years. The years 1900 and 1961 are the obvious outliers. They are errors because the Rossmann was founded in 1972. So these values must be changed e.g. to mean value or to the year of foundation."
   ]
  },
  {
   "cell_type": "markdown",
   "id": "necessary-probability",
   "metadata": {},
   "source": [
    "This feature can be considered both as numeric and categorical. But it can be combined with the **CompetitionOpenSinceMonth** feature to **the ordered number of month from March, 1972** feature as the date of foundation of Rossmann is the 17-th of March, 1972. The new feature is numeric: it is greater for the older competitor stores."
   ]
  },
  {
   "cell_type": "markdown",
   "id": "portuguese-nothing",
   "metadata": {},
   "source": [
    "There are 31.7 % of missing values for the last 2 features. As they are transformed to the new feature the missing values can be transformed for some outlier. For example -100."
   ]
  },
  {
   "cell_type": "markdown",
   "id": "figured-algebra",
   "metadata": {},
   "source": [
    "## Promo2"
   ]
  },
  {
   "cell_type": "markdown",
   "id": "documentary-maple",
   "metadata": {},
   "source": [
    "Indicates whether the store is participating in promotion \"Promo2\" or not. Its values are 0 and 1. The histogram of values:"
   ]
  },
  {
   "cell_type": "code",
   "execution_count": 21,
   "id": "earned-enlargement",
   "metadata": {
    "ExecuteTime": {
     "end_time": "2021-11-24T17:42:23.058032Z",
     "start_time": "2021-11-24T17:42:22.621718Z"
    },
    "scrolled": false
   },
   "outputs": [
    {
     "data": {
      "image/png": "[encoded data removed]",
      "text/plain": [
       "<Figure size 720x86.4 with 1 Axes>"
      ]
     },
     "metadata": {
      "needs_background": "light"
     },
     "output_type": "display_data"
    }
   ],
   "source": [
    "barh(store, 'Promo2')"
   ]
  },
  {
   "cell_type": "markdown",
   "id": "packed-elder",
   "metadata": {},
   "source": [
    "This feature is categorical and takes only 2 distinct values - 0 and 1. So it is ready to be used in training."
   ]
  },
  {
   "cell_type": "markdown",
   "id": "close-radar",
   "metadata": {},
   "source": [
    "## Promo2SinceWeek"
   ]
  },
  {
   "cell_type": "markdown",
   "id": "express-annual",
   "metadata": {},
   "source": [
    "The week of start of the participating in \"Promo2\". If Promo2 equals 0, this feature is missed. There are 544 missing values. The histogram of values:"
   ]
  },
  {
   "cell_type": "code",
   "execution_count": 22,
   "id": "concrete-voluntary",
   "metadata": {
    "ExecuteTime": {
     "end_time": "2021-11-24T17:42:24.019530Z",
     "start_time": "2021-11-24T17:42:23.066019Z"
    }
   },
   "outputs": [
    {
     "data": {
      "image/png": "[encoded data removed]",
      "text/plain": [
       "<Figure size 864x504 with 1 Axes>"
      ]
     },
     "metadata": {
      "needs_background": "light"
     },
     "output_type": "display_data"
    }
   ],
   "source": [
    "bar(store, 'Promo2SinceWeek', show_count=False, figsize=(12, 7))"
   ]
  },
  {
   "cell_type": "markdown",
   "id": "pointed-india",
   "metadata": {},
   "source": [
    "This feature can be considered both as categorical and numeric. But the best way is to combine it with the **Promo2SinceYear** feature."
   ]
  },
  {
   "cell_type": "markdown",
   "id": "joint-expense",
   "metadata": {},
   "source": [
    "## Promo2SinceYear"
   ]
  },
  {
   "cell_type": "markdown",
   "id": "existing-glance",
   "metadata": {},
   "source": [
    "The week of start of the participating in \"Promo2\". If Promo2 equals 0, this feature is missed. There are 544 missing values. The histogram of values:"
   ]
  },
  {
   "cell_type": "code",
   "execution_count": 23,
   "id": "ordered-japan",
   "metadata": {
    "ExecuteTime": {
     "end_time": "2021-11-24T17:42:24.573650Z",
     "start_time": "2021-11-24T17:42:24.027511Z"
    }
   },
   "outputs": [
    {
     "data": {
      "image/png": "[encoded data removed]",
      "text/plain": [
       "<Figure size 720x432 with 1 Axes>"
      ]
     },
     "metadata": {
      "needs_background": "light"
     },
     "output_type": "display_data"
    }
   ],
   "source": [
    "bar(store, 'Promo2SinceYear', show_count=False)"
   ]
  },
  {
   "cell_type": "markdown",
   "id": "polyphonic-insured",
   "metadata": {},
   "source": [
    "This feature can also be considered both as categorical and numeric. But let combine it with the **Promo2SinceWeek** to **the ordered number of week since the first one of 2009** feature. The new feature is numeric."
   ]
  },
  {
   "cell_type": "markdown",
   "id": "administrative-enhancement",
   "metadata": {},
   "source": [
    "## PromoInterval"
   ]
  },
  {
   "cell_type": "markdown",
   "id": "dried-reflection",
   "metadata": {},
   "source": [
    "The consecutive intervals Promo2 is started, naming the months the promotion is started anew. If Promo2 equals 0, this feature is missed. There are 544 missing values. The histogram of values:"
   ]
  },
  {
   "cell_type": "code",
   "execution_count": 24,
   "id": "bibliographic-palestinian",
   "metadata": {
    "ExecuteTime": {
     "end_time": "2021-11-24T17:42:24.904132Z",
     "start_time": "2021-11-24T17:42:24.580644Z"
    },
    "scrolled": true
   },
   "outputs": [
    {
     "data": {
      "image/png": "[encoded data removed]",
      "text/plain": [
       "<Figure size 720x129.6 with 1 Axes>"
      ]
     },
     "metadata": {
      "needs_background": "light"
     },
     "output_type": "display_data"
    }
   ],
   "source": [
    "barh(store, 'PromoInterval')"
   ]
  },
  {
   "cell_type": "markdown",
   "id": "qualified-floating",
   "metadata": {},
   "source": [
    "This feature is categorical and takes non-numeric values. So it must be transformed to numeric features e.g. using one-hot encoder."
   ]
  },
  {
   "cell_type": "markdown",
   "id": "collect-jumping",
   "metadata": {},
   "source": [
    "The last 3 features are missed iff the **Promo2** equals 0:"
   ]
  },
  {
   "cell_type": "code",
   "execution_count": 25,
   "id": "homeless-topic",
   "metadata": {
    "ExecuteTime": {
     "end_time": "2021-11-24T17:42:24.935094Z",
     "start_time": "2021-11-24T17:42:24.915118Z"
    }
   },
   "outputs": [],
   "source": [
    "promo_na_counts = store[store.Promo2 == 1].isna().sum()"
   ]
  },
  {
   "cell_type": "code",
   "execution_count": 26,
   "id": "medium-thursday",
   "metadata": {
    "ExecuteTime": {
     "end_time": "2021-11-24T17:42:25.856637Z",
     "start_time": "2021-11-24T17:42:24.945079Z"
    }
   },
   "outputs": [
    {
     "data": {
      "image/png": "[encoded data removed]",
      "text/plain": [
       "<Figure size 720x432 with 1 Axes>"
      ]
     },
     "metadata": {
      "needs_background": "light"
     },
     "output_type": "display_data"
    }
   ],
   "source": [
    "bar_series(title='missing values when promo', ser=promo_na_counts, col_name='feature', rotation=80)"
   ]
  },
  {
   "cell_type": "markdown",
   "id": "automated-administration",
   "metadata": {},
   "source": [
    "So there is a problem how to fill missing values for these features. They can be filled by some outlier or other category. But I will do the following. I will divide the stores into 2 groups according to the **Promo2** value. For each group I will form its own train dataset and will train its own model. The new ***store*** table for group with **Promo2** equals 0 the features **Promo2**, **Promo2SinceWeek** and **Promo2SinceYear** will disappear. For group with **Promo2** equals 1 only the feature **Promo2** will disappear."
   ]
  },
  {
   "cell_type": "markdown",
   "id": "hungry-accordance",
   "metadata": {},
   "source": [
    "## Some relations between features"
   ]
  },
  {
   "cell_type": "markdown",
   "id": "finished-tourist",
   "metadata": {},
   "source": [
    "# train"
   ]
  },
  {
   "cell_type": "code",
   "execution_count": 27,
   "id": "cooperative-scottish",
   "metadata": {
    "ExecuteTime": {
     "end_time": "2021-11-24T17:42:26.285963Z",
     "start_time": "2021-11-24T17:42:25.880601Z"
    },
    "scrolled": false
   },
   "outputs": [
    {
     "name": "stdout",
     "output_type": "stream",
     "text": [
      "<class 'pandas.core.frame.DataFrame'>\n",
      "RangeIndex: 1017209 entries, 0 to 1017208\n",
      "Data columns (total 9 columns):\n",
      " #   Column         Non-Null Count    Dtype \n",
      "---  ------         --------------    ----- \n",
      " 0   Store          1017209 non-null  int64 \n",
      " 1   DayOfWeek      1017209 non-null  int64 \n",
      " 2   Date           1017209 non-null  object\n",
      " 3   Sales          1017209 non-null  int64 \n",
      " 4   Customers      1017209 non-null  int64 \n",
      " 5   Open           1017209 non-null  int64 \n",
      " 6   Promo          1017209 non-null  int64 \n",
      " 7   StateHoliday   1017209 non-null  object\n",
      " 8   SchoolHoliday  1017209 non-null  int64 \n",
      "dtypes: int64(7), object(2)\n",
      "memory usage: 69.8+ MB\n"
     ]
    },
    {
     "data": {
      "text/html": [
       "<div>\n",
       "<style scoped>\n",
       "    .dataframe tbody tr th:only-of-type {\n",
       "        vertical-align: middle;\n",
       "    }\n",
       "\n",
       "    .dataframe tbody tr th {\n",
       "        vertical-align: top;\n",
       "    }\n",
       "\n",
       "    .dataframe thead th {\n",
       "        text-align: right;\n",
       "    }\n",
       "</style>\n",
       "<table border=\"1\" class=\"dataframe\">\n",
       "  <thead>\n",
       "    <tr style=\"text-align: right;\">\n",
       "      <th></th>\n",
       "      <th>Store</th>\n",
       "      <th>DayOfWeek</th>\n",
       "      <th>Date</th>\n",
       "      <th>Sales</th>\n",
       "      <th>Customers</th>\n",
       "      <th>Open</th>\n",
       "      <th>Promo</th>\n",
       "      <th>StateHoliday</th>\n",
       "      <th>SchoolHoliday</th>\n",
       "    </tr>\n",
       "  </thead>\n",
       "  <tbody>\n",
       "    <tr>\n",
       "      <th>0</th>\n",
       "      <td>1</td>\n",
       "      <td>5</td>\n",
       "      <td>2015-07-31</td>\n",
       "      <td>5263</td>\n",
       "      <td>555</td>\n",
       "      <td>1</td>\n",
       "      <td>1</td>\n",
       "      <td>0</td>\n",
       "      <td>1</td>\n",
       "    </tr>\n",
       "    <tr>\n",
       "      <th>1</th>\n",
       "      <td>2</td>\n",
       "      <td>5</td>\n",
       "      <td>2015-07-31</td>\n",
       "      <td>6064</td>\n",
       "      <td>625</td>\n",
       "      <td>1</td>\n",
       "      <td>1</td>\n",
       "      <td>0</td>\n",
       "      <td>1</td>\n",
       "    </tr>\n",
       "    <tr>\n",
       "      <th>2</th>\n",
       "      <td>3</td>\n",
       "      <td>5</td>\n",
       "      <td>2015-07-31</td>\n",
       "      <td>8314</td>\n",
       "      <td>821</td>\n",
       "      <td>1</td>\n",
       "      <td>1</td>\n",
       "      <td>0</td>\n",
       "      <td>1</td>\n",
       "    </tr>\n",
       "    <tr>\n",
       "      <th>3</th>\n",
       "      <td>4</td>\n",
       "      <td>5</td>\n",
       "      <td>2015-07-31</td>\n",
       "      <td>13995</td>\n",
       "      <td>1498</td>\n",
       "      <td>1</td>\n",
       "      <td>1</td>\n",
       "      <td>0</td>\n",
       "      <td>1</td>\n",
       "    </tr>\n",
       "    <tr>\n",
       "      <th>4</th>\n",
       "      <td>5</td>\n",
       "      <td>5</td>\n",
       "      <td>2015-07-31</td>\n",
       "      <td>4822</td>\n",
       "      <td>559</td>\n",
       "      <td>1</td>\n",
       "      <td>1</td>\n",
       "      <td>0</td>\n",
       "      <td>1</td>\n",
       "    </tr>\n",
       "  </tbody>\n",
       "</table>\n",
       "</div>"
      ],
      "text/plain": [
       "   Store  DayOfWeek        Date  Sales  Customers  Open  Promo StateHoliday  \\\n",
       "0      1          5  2015-07-31   5263        555     1      1            0   \n",
       "1      2          5  2015-07-31   6064        625     1      1            0   \n",
       "2      3          5  2015-07-31   8314        821     1      1            0   \n",
       "3      4          5  2015-07-31  13995       1498     1      1            0   \n",
       "4      5          5  2015-07-31   4822        559     1      1            0   \n",
       "\n",
       "   SchoolHoliday  \n",
       "0              1  \n",
       "1              1  \n",
       "2              1  \n",
       "3              1  \n",
       "4              1  "
      ]
     },
     "execution_count": 27,
     "metadata": {},
     "output_type": "execute_result"
    }
   ],
   "source": [
    "train.info()\n",
    "train.head()"
   ]
  },
  {
   "cell_type": "markdown",
   "id": "dress-cyprus",
   "metadata": {},
   "source": [
    "There are no missing values. The table contains 9 columns."
   ]
  },
  {
   "cell_type": "markdown",
   "id": "abandoned-standing",
   "metadata": {},
   "source": [
    "## Store"
   ]
  },
  {
   "cell_type": "markdown",
   "id": "manufactured-personal",
   "metadata": {},
   "source": [
    "The id of stores. It ranges from 1 to 1115."
   ]
  },
  {
   "cell_type": "code",
   "execution_count": 28,
   "id": "applicable-egyptian",
   "metadata": {
    "ExecuteTime": {
     "end_time": "2021-11-24T17:42:26.364840Z",
     "start_time": "2021-11-24T17:42:26.300950Z"
    }
   },
   "outputs": [
    {
     "data": {
      "text/plain": [
       "True"
      ]
     },
     "execution_count": 28,
     "metadata": {},
     "output_type": "execute_result"
    }
   ],
   "source": [
    "(pd.RangeIndex(1, 1116) == train.Store.unique()).all()"
   ]
  },
  {
   "cell_type": "markdown",
   "id": "amended-french",
   "metadata": {},
   "source": [
    "## DayOfWeek"
   ]
  },
  {
   "cell_type": "markdown",
   "id": "entitled-specification",
   "metadata": {},
   "source": [
    "The weekday of the entry. It ranges from 1 to 7 and corresponds to names of week: 1 is monday, 2 is tuesday and so on."
   ]
  },
  {
   "cell_type": "code",
   "execution_count": 29,
   "id": "sealed-dakota",
   "metadata": {
    "ExecuteTime": {
     "end_time": "2021-11-24T17:42:27.029796Z",
     "start_time": "2021-11-24T17:42:26.372830Z"
    },
    "scrolled": true
   },
   "outputs": [
    {
     "data": {
      "image/png": "[encoded data removed]",
      "text/plain": [
       "<Figure size 720x302.4 with 1 Axes>"
      ]
     },
     "metadata": {
      "needs_background": "light"
     },
     "output_type": "display_data"
    }
   ],
   "source": [
    "barh(train, 'DayOfWeek')"
   ]
  },
  {
   "cell_type": "markdown",
   "id": "synthetic-savings",
   "metadata": {},
   "source": [
    "It is a categorical feature. It depends on **Date** feature. So its using also depends on using the **Date** feature. If all the table is splitted into time series for each store, then this feature most likely is unimportant. If only the lag features will be added, this feature will be useful."
   ]
  },
  {
   "cell_type": "markdown",
   "id": "particular-discussion",
   "metadata": {},
   "source": [
    "## Date"
   ]
  },
  {
   "cell_type": "markdown",
   "id": "threatened-electricity",
   "metadata": {},
   "source": [
    "The day of entry. In the table this feature is a string one. Let's research if there are all the days between the start and end."
   ]
  },
  {
   "cell_type": "code",
   "execution_count": 30,
   "id": "outer-onion",
   "metadata": {
    "ExecuteTime": {
     "end_time": "2021-11-24T17:43:11.538900Z",
     "start_time": "2021-11-24T17:42:27.037797Z"
    }
   },
   "outputs": [
    {
     "name": "stdout",
     "output_type": "stream",
     "text": [
      "The number of unique dates: 942\n"
     ]
    }
   ],
   "source": [
    "dates = train.Date.apply(lambda date: datetime.datetime.strptime(date, '%Y-%m-%d'))\n",
    "print('The number of unique dates:', dates.nunique())"
   ]
  },
  {
   "cell_type": "code",
   "execution_count": 31,
   "id": "reverse-nutrition",
   "metadata": {
    "ExecuteTime": {
     "end_time": "2021-11-24T17:43:11.649732Z",
     "start_time": "2021-11-24T17:43:11.547890Z"
    }
   },
   "outputs": [
    {
     "name": "stdout",
     "output_type": "stream",
     "text": [
      "The start date in table: 2013-01-01 00:00:00\n",
      "The end date in table: 2015-07-31 00:00:00\n",
      "The number of different days between them: 942\n"
     ]
    }
   ],
   "source": [
    "print('The start date in table:', dates.min())\n",
    "print('The end date in table:', dates.max())\n",
    "print('The number of different days between them:', (dates.max() - dates.min()).days + 1)"
   ]
  },
  {
   "cell_type": "markdown",
   "id": "fifty-pharmaceutical",
   "metadata": {},
   "source": [
    "So there are all the days between the start and end ones. As it is the feature that defines the time moment it is possible to split the table into time series for each store."
   ]
  },
  {
   "cell_type": "markdown",
   "id": "rising-julian",
   "metadata": {},
   "source": [
    "## Open"
   ]
  },
  {
   "cell_type": "markdown",
   "id": "dominant-steal",
   "metadata": {},
   "source": [
    "Indicates whether the store is opened at this day (equals 1) or closed (equals 0). The number of values:"
   ]
  },
  {
   "cell_type": "code",
   "execution_count": 32,
   "id": "eight-delicious",
   "metadata": {
    "ExecuteTime": {
     "end_time": "2021-11-24T17:43:11.935279Z",
     "start_time": "2021-11-24T17:43:11.659714Z"
    }
   },
   "outputs": [
    {
     "data": {
      "image/png": "[encoded data removed]",
      "text/plain": [
       "<Figure size 720x86.4 with 1 Axes>"
      ]
     },
     "metadata": {
      "needs_background": "light"
     },
     "output_type": "display_data"
    }
   ],
   "source": [
    "barh(train, 'Open')"
   ]
  },
  {
   "cell_type": "markdown",
   "id": "expired-template",
   "metadata": {},
   "source": [
    "It is a categorical feature that takes only two values: 0 and 1. So this feature is ready for training the models."
   ]
  },
  {
   "cell_type": "markdown",
   "id": "particular-importance",
   "metadata": {},
   "source": [
    "There is a significant part of zeros. For such entries the sales equal 0. So the rows where Open equals 0 can be removed."
   ]
  },
  {
   "cell_type": "markdown",
   "id": "pleasant-viewer",
   "metadata": {},
   "source": [
    "## Sales (target)"
   ]
  },
  {
   "cell_type": "markdown",
   "id": "imposed-veteran",
   "metadata": {},
   "source": [
    "The turnover in this day and this store. It is the numeric feature. The distribution of the feature:"
   ]
  },
  {
   "cell_type": "code",
   "execution_count": 33,
   "id": "naughty-scene",
   "metadata": {
    "ExecuteTime": {
     "end_time": "2021-11-24T17:43:13.374263Z",
     "start_time": "2021-11-24T17:43:11.943267Z"
    }
   },
   "outputs": [
    {
     "data": {
      "image/png": "[encoded data removed]",
      "text/plain": [
       "<Figure size 720x432 with 1 Axes>"
      ]
     },
     "metadata": {
      "needs_background": "light"
     },
     "output_type": "display_data"
    }
   ],
   "source": [
    "hist(train, 'Sales', bins=120)"
   ]
  },
  {
   "cell_type": "markdown",
   "id": "equal-being",
   "metadata": {},
   "source": [
    "It is a numeric feature. So the prediction task is the regression one."
   ]
  },
  {
   "cell_type": "markdown",
   "id": "binding-daisy",
   "metadata": {},
   "source": [
    "Mind the count of zeros. It is explained by the **Open** feature: if it equals 0, then **Sales** also equals 0. The distribution of this feature when **Open** = 1:"
   ]
  },
  {
   "cell_type": "code",
   "execution_count": 34,
   "id": "prostate-orchestra",
   "metadata": {
    "ExecuteTime": {
     "end_time": "2021-11-24T17:43:14.845950Z",
     "start_time": "2021-11-24T17:43:13.382250Z"
    }
   },
   "outputs": [
    {
     "data": {
      "image/png": "[encoded data removed]",
      "text/plain": [
       "<Figure size 720x432 with 1 Axes>"
      ]
     },
     "metadata": {
      "needs_background": "light"
     },
     "output_type": "display_data"
    }
   ],
   "source": [
    "hist(train[train.Open == 1], 'Sales', bins=120)"
   ]
  },
  {
   "cell_type": "markdown",
   "id": "quantitative-cradle",
   "metadata": {},
   "source": [
    "As this feature is numeric and has a wide values range it should be normalized or standartized."
   ]
  },
  {
   "cell_type": "markdown",
   "id": "accomplished-official",
   "metadata": {},
   "source": [
    "## Customers"
   ]
  },
  {
   "cell_type": "markdown",
   "id": "numeric-transparency",
   "metadata": {},
   "source": [
    "The number of customers in the shop at this day. The distribution of this feature:"
   ]
  },
  {
   "cell_type": "code",
   "execution_count": 35,
   "id": "adjacent-farming",
   "metadata": {
    "ExecuteTime": {
     "end_time": "2021-11-24T17:43:16.456798Z",
     "start_time": "2021-11-24T17:43:14.854939Z"
    }
   },
   "outputs": [
    {
     "data": {
      "image/png": "[encoded data removed]",
      "text/plain": [
       "<Figure size 720x432 with 1 Axes>"
      ]
     },
     "metadata": {
      "needs_background": "light"
     },
     "output_type": "display_data"
    }
   ],
   "source": [
    "hist(train, 'Customers', bins=120)"
   ]
  },
  {
   "cell_type": "markdown",
   "id": "complicated-acceptance",
   "metadata": {},
   "source": [
    "It is a numeric feature."
   ]
  },
  {
   "cell_type": "markdown",
   "id": "sacred-revelation",
   "metadata": {},
   "source": [
    "As in the **Sales** feature there are many zeros. It is explained by the **Open** feature: if it equals 0, then the number of customers also equals 0. The distribution of this feature when **Open** = 1:"
   ]
  },
  {
   "cell_type": "code",
   "execution_count": 36,
   "id": "strong-flesh",
   "metadata": {
    "ExecuteTime": {
     "end_time": "2021-11-24T17:43:18.008763Z",
     "start_time": "2021-11-24T17:43:16.463790Z"
    }
   },
   "outputs": [
    {
     "data": {
      "image/png": "[encoded data removed]",
      "text/plain": [
       "<Figure size 720x432 with 1 Axes>"
      ]
     },
     "metadata": {
      "needs_background": "light"
     },
     "output_type": "display_data"
    }
   ],
   "source": [
    "hist(train[train.Open == 1], 'Customers', bins=120)"
   ]
  },
  {
   "cell_type": "code",
   "execution_count": 37,
   "id": "compatible-healthcare",
   "metadata": {
    "ExecuteTime": {
     "end_time": "2021-11-24T17:43:19.622783Z",
     "start_time": "2021-11-24T17:43:18.018750Z"
    },
    "scrolled": false
   },
   "outputs": [
    {
     "data": {
      "image/png": "[encoded data removed]",
      "text/plain": [
       "<Figure size 720x432 with 1 Axes>"
      ]
     },
     "metadata": {
      "needs_background": "light"
     },
     "output_type": "display_data"
    }
   ],
   "source": [
    "hist_series(np.log10(train[train.Open == 1].Customers + 1), 'logarithm of customers + 1', bins=120)"
   ]
  },
  {
   "cell_type": "code",
   "execution_count": 38,
   "id": "handled-python",
   "metadata": {
    "ExecuteTime": {
     "end_time": "2021-11-24T17:43:19.876384Z",
     "start_time": "2021-11-24T17:43:19.630773Z"
    }
   },
   "outputs": [],
   "source": [
    "log_costs = np.log10(train[train.Open == 1].Customers + 1)"
   ]
  },
  {
   "cell_type": "markdown",
   "id": "consecutive-object",
   "metadata": {},
   "source": [
    "It is a bit similar to normal distribution."
   ]
  },
  {
   "cell_type": "markdown",
   "id": "handled-portal",
   "metadata": {},
   "source": [
    "This feature is absent in test dataset. So it will be removed when training models."
   ]
  },
  {
   "cell_type": "markdown",
   "id": "authentic-turkey",
   "metadata": {},
   "source": [
    "## Promo"
   ]
  },
  {
   "cell_type": "markdown",
   "id": "fuzzy-expression",
   "metadata": {},
   "source": [
    "Indicates whether a store is running a promo on that day (equals 1) or not (equals 0). The count of its values"
   ]
  },
  {
   "cell_type": "code",
   "execution_count": 39,
   "id": "rocky-baghdad",
   "metadata": {
    "ExecuteTime": {
     "end_time": "2021-11-24T17:43:20.130986Z",
     "start_time": "2021-11-24T17:43:19.888375Z"
    },
    "scrolled": true
   },
   "outputs": [
    {
     "data": {
      "image/png": "[encoded data removed]",
      "text/plain": [
       "<Figure size 720x86.4 with 1 Axes>"
      ]
     },
     "metadata": {
      "needs_background": "light"
     },
     "output_type": "display_data"
    }
   ],
   "source": [
    "barh(train, 'Promo')"
   ]
  },
  {
   "cell_type": "markdown",
   "id": "strategic-german",
   "metadata": {},
   "source": [
    "It is a categorical feature that takes two values: 0 and 1. So this feature is ready for training models."
   ]
  },
  {
   "cell_type": "markdown",
   "id": "mounted-alaska",
   "metadata": {},
   "source": [
    "## StateHoliday"
   ]
  },
  {
   "cell_type": "markdown",
   "id": "anticipated-front",
   "metadata": {},
   "source": [
    "Indicates a state holiday. There are four values that means: a - public holiday, b - Easter holiday, c - Christmas, 0 - no holiday. But the columns contains values 0 and '0'. So after casting the numeric values to string let's see the count of values"
   ]
  },
  {
   "cell_type": "code",
   "execution_count": 40,
   "id": "front-bottom",
   "metadata": {
    "ExecuteTime": {
     "end_time": "2021-11-24T17:43:20.573293Z",
     "start_time": "2021-11-24T17:43:20.138977Z"
    }
   },
   "outputs": [],
   "source": [
    "train.StateHoliday = train.StateHoliday.apply(str)"
   ]
  },
  {
   "cell_type": "code",
   "execution_count": 41,
   "id": "premier-perth",
   "metadata": {
    "ExecuteTime": {
     "end_time": "2021-11-24T17:43:21.203303Z",
     "start_time": "2021-11-24T17:43:20.580281Z"
    },
    "scrolled": true
   },
   "outputs": [
    {
     "data": {
      "image/png": "[encoded data removed]",
      "text/plain": [
       "<Figure size 720x172.8 with 1 Axes>"
      ]
     },
     "metadata": {
      "needs_background": "light"
     },
     "output_type": "display_data"
    }
   ],
   "source": [
    "barh(train, 'StateHoliday')"
   ]
  },
  {
   "cell_type": "markdown",
   "id": "accompanied-village",
   "metadata": {},
   "source": [
    "It is a categorical feature that takes non-numeric values. So it must be transformed to numeric features e.g. using one-hot encoder."
   ]
  },
  {
   "cell_type": "markdown",
   "id": "fifteen-mortality",
   "metadata": {},
   "source": [
    "## SchoolHoliday"
   ]
  },
  {
   "cell_type": "markdown",
   "id": "approved-moore",
   "metadata": {},
   "source": [
    "Indicates if the (Store, Date) was affected by the closure of public schools. The count of values"
   ]
  },
  {
   "cell_type": "code",
   "execution_count": 42,
   "id": "special-allah",
   "metadata": {
    "ExecuteTime": {
     "end_time": "2021-11-24T17:43:21.457908Z",
     "start_time": "2021-11-24T17:43:21.211294Z"
    }
   },
   "outputs": [
    {
     "data": {
      "image/png": "[encoded data removed]",
      "text/plain": [
       "<Figure size 720x86.4 with 1 Axes>"
      ]
     },
     "metadata": {
      "needs_background": "light"
     },
     "output_type": "display_data"
    }
   ],
   "source": [
    "barh(train, 'SchoolHoliday')"
   ]
  },
  {
   "cell_type": "markdown",
   "id": "julian-roberts",
   "metadata": {},
   "source": [
    "## Some relations between features"
   ]
  },
  {
   "cell_type": "markdown",
   "id": "greenhouse-pizza",
   "metadata": {},
   "source": [
    "Let's see in what days the stores are closed."
   ]
  },
  {
   "cell_type": "code",
   "execution_count": 43,
   "id": "spiritual-cemetery",
   "metadata": {
    "ExecuteTime": {
     "end_time": "2021-11-24T17:43:22.059968Z",
     "start_time": "2021-11-24T17:43:21.465891Z"
    }
   },
   "outputs": [
    {
     "data": {
      "image/png": "[encoded data removed]",
      "text/plain": [
       "<Figure size 720x432 with 1 Axes>"
      ]
     },
     "metadata": {
      "needs_background": "light"
     },
     "output_type": "display_data"
    }
   ],
   "source": [
    "bar(train[train.Open == 0], 'DayOfWeek', show_count=False)"
   ]
  },
  {
   "cell_type": "markdown",
   "id": "quick-directory",
   "metadata": {},
   "source": [
    "As expected the most stores have a day off as sunday. Let's see in what days the stores are opened."
   ]
  },
  {
   "cell_type": "code",
   "execution_count": 44,
   "id": "stunning-charger",
   "metadata": {
    "ExecuteTime": {
     "end_time": "2021-11-24T17:43:22.789816Z",
     "start_time": "2021-11-24T17:43:22.069945Z"
    }
   },
   "outputs": [
    {
     "data": {
      "image/png": "[encoded data removed]",
      "text/plain": [
       "<Figure size 720x432 with 1 Axes>"
      ]
     },
     "metadata": {
      "needs_background": "light"
     },
     "output_type": "display_data"
    }
   ],
   "source": [
    "bar(train[train.Open == 1], 'DayOfWeek', show_count=False)"
   ]
  },
  {
   "cell_type": "markdown",
   "id": "proved-brake",
   "metadata": {},
   "source": [
    "So there is almost no sundays when the stores are opened."
   ]
  },
  {
   "cell_type": "code",
   "execution_count": 45,
   "id": "infectious-hunger",
   "metadata": {
    "ExecuteTime": {
     "end_time": "2021-11-24T17:43:24.689979Z",
     "start_time": "2021-11-24T17:43:22.801797Z"
    }
   },
   "outputs": [
    {
     "data": {
      "image/png": "[encoded data removed]",
      "text/plain": [
       "<Figure size 432x288 with 2 Axes>"
      ]
     },
     "metadata": {
      "needs_background": "light"
     },
     "output_type": "display_data"
    }
   ],
   "source": [
    "sns.heatmap(train[train.Open == 1].drop(columns=['Open']).corr(), cmap='vlag', vmin=-1, vmax=1)\n",
    "plt.show()"
   ]
  },
  {
   "cell_type": "code",
   "execution_count": 46,
   "id": "julian-miracle",
   "metadata": {
    "ExecuteTime": {
     "end_time": "2021-11-24T17:43:25.628505Z",
     "start_time": "2021-11-24T17:43:24.705953Z"
    }
   },
   "outputs": [
    {
     "data": {
      "text/html": [
       "<div>\n",
       "<style scoped>\n",
       "    .dataframe tbody tr th:only-of-type {\n",
       "        vertical-align: middle;\n",
       "    }\n",
       "\n",
       "    .dataframe tbody tr th {\n",
       "        vertical-align: top;\n",
       "    }\n",
       "\n",
       "    .dataframe thead th {\n",
       "        text-align: right;\n",
       "    }\n",
       "</style>\n",
       "<table border=\"1\" class=\"dataframe\">\n",
       "  <thead>\n",
       "    <tr style=\"text-align: right;\">\n",
       "      <th></th>\n",
       "      <th>Store</th>\n",
       "      <th>DayOfWeek</th>\n",
       "      <th>Sales</th>\n",
       "      <th>Customers</th>\n",
       "      <th>Promo</th>\n",
       "      <th>SchoolHoliday</th>\n",
       "    </tr>\n",
       "  </thead>\n",
       "  <tbody>\n",
       "    <tr>\n",
       "      <th>Store</th>\n",
       "      <td>1.000000</td>\n",
       "      <td>0.000346</td>\n",
       "      <td>0.007710</td>\n",
       "      <td>0.033977</td>\n",
       "      <td>-0.000012</td>\n",
       "      <td>0.000512</td>\n",
       "    </tr>\n",
       "    <tr>\n",
       "      <th>DayOfWeek</th>\n",
       "      <td>0.000346</td>\n",
       "      <td>1.000000</td>\n",
       "      <td>-0.178736</td>\n",
       "      <td>-0.097266</td>\n",
       "      <td>-0.289265</td>\n",
       "      <td>-0.139315</td>\n",
       "    </tr>\n",
       "    <tr>\n",
       "      <th>Sales</th>\n",
       "      <td>0.007710</td>\n",
       "      <td>-0.178736</td>\n",
       "      <td>1.000000</td>\n",
       "      <td>0.823597</td>\n",
       "      <td>0.368145</td>\n",
       "      <td>0.038617</td>\n",
       "    </tr>\n",
       "    <tr>\n",
       "      <th>Customers</th>\n",
       "      <td>0.033977</td>\n",
       "      <td>-0.097266</td>\n",
       "      <td>0.823597</td>\n",
       "      <td>1.000000</td>\n",
       "      <td>0.182846</td>\n",
       "      <td>0.024902</td>\n",
       "    </tr>\n",
       "    <tr>\n",
       "      <th>Promo</th>\n",
       "      <td>-0.000012</td>\n",
       "      <td>-0.289265</td>\n",
       "      <td>0.368145</td>\n",
       "      <td>0.182846</td>\n",
       "      <td>1.000000</td>\n",
       "      <td>0.028964</td>\n",
       "    </tr>\n",
       "    <tr>\n",
       "      <th>SchoolHoliday</th>\n",
       "      <td>0.000512</td>\n",
       "      <td>-0.139315</td>\n",
       "      <td>0.038617</td>\n",
       "      <td>0.024902</td>\n",
       "      <td>0.028964</td>\n",
       "      <td>1.000000</td>\n",
       "    </tr>\n",
       "  </tbody>\n",
       "</table>\n",
       "</div>"
      ],
      "text/plain": [
       "                  Store  DayOfWeek     Sales  Customers     Promo  \\\n",
       "Store          1.000000   0.000346  0.007710   0.033977 -0.000012   \n",
       "DayOfWeek      0.000346   1.000000 -0.178736  -0.097266 -0.289265   \n",
       "Sales          0.007710  -0.178736  1.000000   0.823597  0.368145   \n",
       "Customers      0.033977  -0.097266  0.823597   1.000000  0.182846   \n",
       "Promo         -0.000012  -0.289265  0.368145   0.182846  1.000000   \n",
       "SchoolHoliday  0.000512  -0.139315  0.038617   0.024902  0.028964   \n",
       "\n",
       "               SchoolHoliday  \n",
       "Store               0.000512  \n",
       "DayOfWeek          -0.139315  \n",
       "Sales               0.038617  \n",
       "Customers           0.024902  \n",
       "Promo               0.028964  \n",
       "SchoolHoliday       1.000000  "
      ]
     },
     "execution_count": 46,
     "metadata": {},
     "output_type": "execute_result"
    }
   ],
   "source": [
    "train[train.Open == 1].drop(columns=['Open']).corr()"
   ]
  },
  {
   "cell_type": "code",
   "execution_count": 47,
   "id": "raised-spectrum",
   "metadata": {
    "ExecuteTime": {
     "end_time": "2021-11-24T17:44:17.795736Z",
     "start_time": "2021-11-24T17:43:25.636489Z"
    }
   },
   "outputs": [],
   "source": [
    "weekdays = (dates - datetime.datetime(2013, 1, 1)).apply(attrgetter('days')) // 7"
   ]
  },
  {
   "cell_type": "code",
   "execution_count": 48,
   "id": "international-lover",
   "metadata": {
    "ExecuteTime": {
     "end_time": "2021-11-24T17:44:17.870618Z",
     "start_time": "2021-11-24T17:44:17.802732Z"
    }
   },
   "outputs": [
    {
     "data": {
      "text/html": [
       "<div>\n",
       "<style scoped>\n",
       "    .dataframe tbody tr th:only-of-type {\n",
       "        vertical-align: middle;\n",
       "    }\n",
       "\n",
       "    .dataframe tbody tr th {\n",
       "        vertical-align: top;\n",
       "    }\n",
       "\n",
       "    .dataframe thead th {\n",
       "        text-align: right;\n",
       "    }\n",
       "</style>\n",
       "<table border=\"1\" class=\"dataframe\">\n",
       "  <thead>\n",
       "    <tr style=\"text-align: right;\">\n",
       "      <th></th>\n",
       "      <th>Store</th>\n",
       "      <th>DayOfWeek</th>\n",
       "      <th>Date</th>\n",
       "      <th>Sales</th>\n",
       "      <th>Customers</th>\n",
       "      <th>Open</th>\n",
       "      <th>Promo</th>\n",
       "      <th>StateHoliday</th>\n",
       "      <th>SchoolHoliday</th>\n",
       "      <th>ordered_week</th>\n",
       "    </tr>\n",
       "  </thead>\n",
       "  <tbody>\n",
       "    <tr>\n",
       "      <th>0</th>\n",
       "      <td>1</td>\n",
       "      <td>5</td>\n",
       "      <td>2015-07-31</td>\n",
       "      <td>5263</td>\n",
       "      <td>555</td>\n",
       "      <td>1</td>\n",
       "      <td>1</td>\n",
       "      <td>0</td>\n",
       "      <td>1</td>\n",
       "      <td>134</td>\n",
       "    </tr>\n",
       "    <tr>\n",
       "      <th>1</th>\n",
       "      <td>2</td>\n",
       "      <td>5</td>\n",
       "      <td>2015-07-31</td>\n",
       "      <td>6064</td>\n",
       "      <td>625</td>\n",
       "      <td>1</td>\n",
       "      <td>1</td>\n",
       "      <td>0</td>\n",
       "      <td>1</td>\n",
       "      <td>134</td>\n",
       "    </tr>\n",
       "    <tr>\n",
       "      <th>2</th>\n",
       "      <td>3</td>\n",
       "      <td>5</td>\n",
       "      <td>2015-07-31</td>\n",
       "      <td>8314</td>\n",
       "      <td>821</td>\n",
       "      <td>1</td>\n",
       "      <td>1</td>\n",
       "      <td>0</td>\n",
       "      <td>1</td>\n",
       "      <td>134</td>\n",
       "    </tr>\n",
       "    <tr>\n",
       "      <th>3</th>\n",
       "      <td>4</td>\n",
       "      <td>5</td>\n",
       "      <td>2015-07-31</td>\n",
       "      <td>13995</td>\n",
       "      <td>1498</td>\n",
       "      <td>1</td>\n",
       "      <td>1</td>\n",
       "      <td>0</td>\n",
       "      <td>1</td>\n",
       "      <td>134</td>\n",
       "    </tr>\n",
       "    <tr>\n",
       "      <th>4</th>\n",
       "      <td>5</td>\n",
       "      <td>5</td>\n",
       "      <td>2015-07-31</td>\n",
       "      <td>4822</td>\n",
       "      <td>559</td>\n",
       "      <td>1</td>\n",
       "      <td>1</td>\n",
       "      <td>0</td>\n",
       "      <td>1</td>\n",
       "      <td>134</td>\n",
       "    </tr>\n",
       "  </tbody>\n",
       "</table>\n",
       "</div>"
      ],
      "text/plain": [
       "   Store  DayOfWeek        Date  Sales  Customers  Open  Promo StateHoliday  \\\n",
       "0      1          5  2015-07-31   5263        555     1      1            0   \n",
       "1      2          5  2015-07-31   6064        625     1      1            0   \n",
       "2      3          5  2015-07-31   8314        821     1      1            0   \n",
       "3      4          5  2015-07-31  13995       1498     1      1            0   \n",
       "4      5          5  2015-07-31   4822        559     1      1            0   \n",
       "\n",
       "   SchoolHoliday  ordered_week  \n",
       "0              1           134  \n",
       "1              1           134  \n",
       "2              1           134  \n",
       "3              1           134  \n",
       "4              1           134  "
      ]
     },
     "execution_count": 48,
     "metadata": {},
     "output_type": "execute_result"
    }
   ],
   "source": [
    "train['ordered_week'] = weekdays\n",
    "train.head()"
   ]
  },
  {
   "cell_type": "code",
   "execution_count": 49,
   "id": "creative-answer",
   "metadata": {
    "ExecuteTime": {
     "end_time": "2021-11-24T17:44:18.581550Z",
     "start_time": "2021-11-24T17:44:17.878610Z"
    }
   },
   "outputs": [
    {
     "data": {
      "image/png": "[encoded data removed]",
      "text/plain": [
       "<Figure size 720x432 with 1 Axes>"
      ]
     },
     "metadata": {
      "needs_background": "light"
     },
     "output_type": "display_data"
    }
   ],
   "source": [
    "plt.figure(figsize=(10, 6))\n",
    "train.groupby('ordered_week').agg({'Sales': 'sum'}).Sales.plot()\n",
    "plt.title('total weekly sales')\n",
    "plt.show()"
   ]
  },
  {
   "cell_type": "code",
   "execution_count": 50,
   "id": "previous-network",
   "metadata": {
    "ExecuteTime": {
     "end_time": "2021-11-24T17:44:18.613500Z",
     "start_time": "2021-11-24T17:44:18.590530Z"
    }
   },
   "outputs": [
    {
     "data": {
      "text/plain": [
       "0"
      ]
     },
     "execution_count": 50,
     "metadata": {},
     "output_type": "execute_result"
    }
   ],
   "source": [
    "dates.iloc[-1].month + 12 * (dates.iloc[-1].year - 2013) - 1"
   ]
  },
  {
   "cell_type": "code",
   "execution_count": 51,
   "id": "turkish-forum",
   "metadata": {
    "ExecuteTime": {
     "end_time": "2021-11-24T17:44:40.629970Z",
     "start_time": "2021-11-24T17:44:18.621481Z"
    }
   },
   "outputs": [],
   "source": [
    "months = dates.apply(lambda date: date.month + 12 * (date.year - 2013) - 1)"
   ]
  },
  {
   "cell_type": "code",
   "execution_count": 52,
   "id": "disabled-opera",
   "metadata": {
    "ExecuteTime": {
     "end_time": "2021-11-24T17:44:40.692878Z",
     "start_time": "2021-11-24T17:44:40.638961Z"
    },
    "scrolled": true
   },
   "outputs": [
    {
     "data": {
      "text/html": [
       "<div>\n",
       "<style scoped>\n",
       "    .dataframe tbody tr th:only-of-type {\n",
       "        vertical-align: middle;\n",
       "    }\n",
       "\n",
       "    .dataframe tbody tr th {\n",
       "        vertical-align: top;\n",
       "    }\n",
       "\n",
       "    .dataframe thead th {\n",
       "        text-align: right;\n",
       "    }\n",
       "</style>\n",
       "<table border=\"1\" class=\"dataframe\">\n",
       "  <thead>\n",
       "    <tr style=\"text-align: right;\">\n",
       "      <th></th>\n",
       "      <th>Store</th>\n",
       "      <th>DayOfWeek</th>\n",
       "      <th>Date</th>\n",
       "      <th>Sales</th>\n",
       "      <th>Customers</th>\n",
       "      <th>Open</th>\n",
       "      <th>Promo</th>\n",
       "      <th>StateHoliday</th>\n",
       "      <th>SchoolHoliday</th>\n",
       "      <th>ordered_week</th>\n",
       "      <th>ordered_month</th>\n",
       "    </tr>\n",
       "  </thead>\n",
       "  <tbody>\n",
       "    <tr>\n",
       "      <th>0</th>\n",
       "      <td>1</td>\n",
       "      <td>5</td>\n",
       "      <td>2015-07-31</td>\n",
       "      <td>5263</td>\n",
       "      <td>555</td>\n",
       "      <td>1</td>\n",
       "      <td>1</td>\n",
       "      <td>0</td>\n",
       "      <td>1</td>\n",
       "      <td>134</td>\n",
       "      <td>30</td>\n",
       "    </tr>\n",
       "    <tr>\n",
       "      <th>1</th>\n",
       "      <td>2</td>\n",
       "      <td>5</td>\n",
       "      <td>2015-07-31</td>\n",
       "      <td>6064</td>\n",
       "      <td>625</td>\n",
       "      <td>1</td>\n",
       "      <td>1</td>\n",
       "      <td>0</td>\n",
       "      <td>1</td>\n",
       "      <td>134</td>\n",
       "      <td>30</td>\n",
       "    </tr>\n",
       "    <tr>\n",
       "      <th>2</th>\n",
       "      <td>3</td>\n",
       "      <td>5</td>\n",
       "      <td>2015-07-31</td>\n",
       "      <td>8314</td>\n",
       "      <td>821</td>\n",
       "      <td>1</td>\n",
       "      <td>1</td>\n",
       "      <td>0</td>\n",
       "      <td>1</td>\n",
       "      <td>134</td>\n",
       "      <td>30</td>\n",
       "    </tr>\n",
       "    <tr>\n",
       "      <th>3</th>\n",
       "      <td>4</td>\n",
       "      <td>5</td>\n",
       "      <td>2015-07-31</td>\n",
       "      <td>13995</td>\n",
       "      <td>1498</td>\n",
       "      <td>1</td>\n",
       "      <td>1</td>\n",
       "      <td>0</td>\n",
       "      <td>1</td>\n",
       "      <td>134</td>\n",
       "      <td>30</td>\n",
       "    </tr>\n",
       "    <tr>\n",
       "      <th>4</th>\n",
       "      <td>5</td>\n",
       "      <td>5</td>\n",
       "      <td>2015-07-31</td>\n",
       "      <td>4822</td>\n",
       "      <td>559</td>\n",
       "      <td>1</td>\n",
       "      <td>1</td>\n",
       "      <td>0</td>\n",
       "      <td>1</td>\n",
       "      <td>134</td>\n",
       "      <td>30</td>\n",
       "    </tr>\n",
       "  </tbody>\n",
       "</table>\n",
       "</div>"
      ],
      "text/plain": [
       "   Store  DayOfWeek        Date  Sales  Customers  Open  Promo StateHoliday  \\\n",
       "0      1          5  2015-07-31   5263        555     1      1            0   \n",
       "1      2          5  2015-07-31   6064        625     1      1            0   \n",
       "2      3          5  2015-07-31   8314        821     1      1            0   \n",
       "3      4          5  2015-07-31  13995       1498     1      1            0   \n",
       "4      5          5  2015-07-31   4822        559     1      1            0   \n",
       "\n",
       "   SchoolHoliday  ordered_week  ordered_month  \n",
       "0              1           134             30  \n",
       "1              1           134             30  \n",
       "2              1           134             30  \n",
       "3              1           134             30  \n",
       "4              1           134             30  "
      ]
     },
     "execution_count": 52,
     "metadata": {},
     "output_type": "execute_result"
    }
   ],
   "source": [
    "train['ordered_month'] = months\n",
    "train.head()"
   ]
  },
  {
   "cell_type": "code",
   "execution_count": 53,
   "id": "invalid-benjamin",
   "metadata": {
    "ExecuteTime": {
     "end_time": "2021-11-24T17:44:41.375470Z",
     "start_time": "2021-11-24T17:44:40.706864Z"
    }
   },
   "outputs": [
    {
     "data": {
      "image/png": "[encoded data removed]",
      "text/plain": [
       "<Figure size 720x432 with 1 Axes>"
      ]
     },
     "metadata": {
      "needs_background": "light"
     },
     "output_type": "display_data"
    }
   ],
   "source": [
    "plt.figure(figsize=(10, 6))\n",
    "train.groupby('ordered_month').agg({'Sales': 'sum'}).Sales.plot()\n",
    "plt.title('total monthly sales')\n",
    "plt.show()"
   ]
  },
  {
   "cell_type": "markdown",
   "id": "entire-access",
   "metadata": {},
   "source": [
    "Let's see the monthly sales depending on the **Promo** feature."
   ]
  },
  {
   "cell_type": "code",
   "execution_count": 54,
   "id": "clinical-starter",
   "metadata": {
    "ExecuteTime": {
     "end_time": "2021-11-24T17:44:42.529514Z",
     "start_time": "2021-11-24T17:44:41.383460Z"
    }
   },
   "outputs": [
    {
     "data": {
      "image/png": "[encoded data removed]",
      "text/plain": [
       "<Figure size 720x432 with 1 Axes>"
      ]
     },
     "metadata": {
      "needs_background": "light"
     },
     "output_type": "display_data"
    }
   ],
   "source": [
    "plt.figure(figsize=(10, 6))\n",
    "train[train.Promo == 0].groupby('ordered_month').agg({'Sales': 'sum'}).Sales.plot()\n",
    "train[train.Promo == 1].groupby('ordered_month').agg({'Sales': 'sum'}).Sales.plot()\n",
    "plt.title('total monthly sales')\n",
    "plt.legend(['no promo', 'promo'])\n",
    "plt.show()"
   ]
  },
  {
   "cell_type": "markdown",
   "id": "industrial-brighton",
   "metadata": {},
   "source": [
    "In days when there is a promo the total sales are greater. But it can be explained by the biggest count of promo days. Let's see the mean sales."
   ]
  },
  {
   "cell_type": "code",
   "execution_count": 55,
   "id": "alleged-skill",
   "metadata": {
    "ExecuteTime": {
     "end_time": "2021-11-24T17:44:43.544923Z",
     "start_time": "2021-11-24T17:44:42.539504Z"
    }
   },
   "outputs": [
    {
     "data": {
      "image/png": "[encoded data removed]",
      "text/plain": [
       "<Figure size 720x432 with 1 Axes>"
      ]
     },
     "metadata": {
      "needs_background": "light"
     },
     "output_type": "display_data"
    }
   ],
   "source": [
    "plt.figure(figsize=(10, 6))\n",
    "train[train.Promo == 0].groupby('ordered_month').agg({'Sales': 'mean'}).Sales.plot()\n",
    "train[train.Promo == 1].groupby('ordered_month').agg({'Sales': 'mean'}).Sales.plot()\n",
    "plt.title('mean monthly sales')\n",
    "plt.legend(['no promo', 'promo'])\n",
    "plt.show()"
   ]
  },
  {
   "cell_type": "markdown",
   "id": "wired-scholar",
   "metadata": {},
   "source": [
    "The mean sales in promo days is higher than in usual ones. So the sales count depends on the fact if the promo is."
   ]
  },
  {
   "cell_type": "code",
   "execution_count": null,
   "id": "alleged-remark",
   "metadata": {},
   "outputs": [],
   "source": []
  },
  {
   "cell_type": "code",
   "execution_count": null,
   "id": "adjusted-tackle",
   "metadata": {},
   "outputs": [],
   "source": []
  },
  {
   "cell_type": "markdown",
   "id": "dressed-satisfaction",
   "metadata": {},
   "source": [
    "# test"
   ]
  },
  {
   "cell_type": "code",
   "execution_count": 56,
   "id": "right-wonder",
   "metadata": {
    "ExecuteTime": {
     "end_time": "2021-11-24T17:44:43.638775Z",
     "start_time": "2021-11-24T17:44:43.551919Z"
    },
    "scrolled": false
   },
   "outputs": [
    {
     "name": "stdout",
     "output_type": "stream",
     "text": [
      "<class 'pandas.core.frame.DataFrame'>\n",
      "RangeIndex: 41088 entries, 0 to 41087\n",
      "Data columns (total 8 columns):\n",
      " #   Column         Non-Null Count  Dtype  \n",
      "---  ------         --------------  -----  \n",
      " 0   Id             41088 non-null  int64  \n",
      " 1   Store          41088 non-null  int64  \n",
      " 2   DayOfWeek      41088 non-null  int64  \n",
      " 3   Date           41088 non-null  object \n",
      " 4   Open           41077 non-null  float64\n",
      " 5   Promo          41088 non-null  int64  \n",
      " 6   StateHoliday   41088 non-null  object \n",
      " 7   SchoolHoliday  41088 non-null  int64  \n",
      "dtypes: float64(1), int64(5), object(2)\n",
      "memory usage: 2.5+ MB\n"
     ]
    },
    {
     "data": {
      "text/html": [
       "<div>\n",
       "<style scoped>\n",
       "    .dataframe tbody tr th:only-of-type {\n",
       "        vertical-align: middle;\n",
       "    }\n",
       "\n",
       "    .dataframe tbody tr th {\n",
       "        vertical-align: top;\n",
       "    }\n",
       "\n",
       "    .dataframe thead th {\n",
       "        text-align: right;\n",
       "    }\n",
       "</style>\n",
       "<table border=\"1\" class=\"dataframe\">\n",
       "  <thead>\n",
       "    <tr style=\"text-align: right;\">\n",
       "      <th></th>\n",
       "      <th>Id</th>\n",
       "      <th>Store</th>\n",
       "      <th>DayOfWeek</th>\n",
       "      <th>Date</th>\n",
       "      <th>Open</th>\n",
       "      <th>Promo</th>\n",
       "      <th>StateHoliday</th>\n",
       "      <th>SchoolHoliday</th>\n",
       "    </tr>\n",
       "  </thead>\n",
       "  <tbody>\n",
       "    <tr>\n",
       "      <th>0</th>\n",
       "      <td>1</td>\n",
       "      <td>1</td>\n",
       "      <td>4</td>\n",
       "      <td>2015-09-17</td>\n",
       "      <td>1.0</td>\n",
       "      <td>1</td>\n",
       "      <td>0</td>\n",
       "      <td>0</td>\n",
       "    </tr>\n",
       "    <tr>\n",
       "      <th>1</th>\n",
       "      <td>2</td>\n",
       "      <td>3</td>\n",
       "      <td>4</td>\n",
       "      <td>2015-09-17</td>\n",
       "      <td>1.0</td>\n",
       "      <td>1</td>\n",
       "      <td>0</td>\n",
       "      <td>0</td>\n",
       "    </tr>\n",
       "    <tr>\n",
       "      <th>2</th>\n",
       "      <td>3</td>\n",
       "      <td>7</td>\n",
       "      <td>4</td>\n",
       "      <td>2015-09-17</td>\n",
       "      <td>1.0</td>\n",
       "      <td>1</td>\n",
       "      <td>0</td>\n",
       "      <td>0</td>\n",
       "    </tr>\n",
       "    <tr>\n",
       "      <th>3</th>\n",
       "      <td>4</td>\n",
       "      <td>8</td>\n",
       "      <td>4</td>\n",
       "      <td>2015-09-17</td>\n",
       "      <td>1.0</td>\n",
       "      <td>1</td>\n",
       "      <td>0</td>\n",
       "      <td>0</td>\n",
       "    </tr>\n",
       "    <tr>\n",
       "      <th>4</th>\n",
       "      <td>5</td>\n",
       "      <td>9</td>\n",
       "      <td>4</td>\n",
       "      <td>2015-09-17</td>\n",
       "      <td>1.0</td>\n",
       "      <td>1</td>\n",
       "      <td>0</td>\n",
       "      <td>0</td>\n",
       "    </tr>\n",
       "  </tbody>\n",
       "</table>\n",
       "</div>"
      ],
      "text/plain": [
       "   Id  Store  DayOfWeek        Date  Open  Promo StateHoliday  SchoolHoliday\n",
       "0   1      1          4  2015-09-17   1.0      1            0              0\n",
       "1   2      3          4  2015-09-17   1.0      1            0              0\n",
       "2   3      7          4  2015-09-17   1.0      1            0              0\n",
       "3   4      8          4  2015-09-17   1.0      1            0              0\n",
       "4   5      9          4  2015-09-17   1.0      1            0              0"
      ]
     },
     "execution_count": 56,
     "metadata": {},
     "output_type": "execute_result"
    }
   ],
   "source": [
    "test.info()\n",
    "test.head()"
   ]
  },
  {
   "cell_type": "markdown",
   "id": "blind-exploration",
   "metadata": {},
   "source": [
    "The ***test*** table contains the same columns as the ***train*** table but the columns **Sales** and **Customers**. "
   ]
  },
  {
   "cell_type": "markdown",
   "id": "popular-commission",
   "metadata": {},
   "source": [
    "## Id"
   ]
  },
  {
   "cell_type": "markdown",
   "id": "mighty-opening",
   "metadata": {},
   "source": [
    "The identifier of the row used for submission"
   ]
  },
  {
   "cell_type": "markdown",
   "id": "settled-edinburgh",
   "metadata": {},
   "source": [
    "## Store"
   ]
  },
  {
   "cell_type": "markdown",
   "id": "weird-worry",
   "metadata": {},
   "source": [
    "The identifier of stores. The number of stores in the table:"
   ]
  },
  {
   "cell_type": "code",
   "execution_count": 57,
   "id": "requested-literacy",
   "metadata": {
    "ExecuteTime": {
     "end_time": "2021-11-24T17:44:43.670724Z",
     "start_time": "2021-11-24T17:44:43.646766Z"
    }
   },
   "outputs": [
    {
     "data": {
      "text/plain": [
       "856"
      ]
     },
     "execution_count": 57,
     "metadata": {},
     "output_type": "execute_result"
    }
   ],
   "source": [
    "test.Store.nunique()"
   ]
  },
  {
   "cell_type": "markdown",
   "id": "liberal-judgment",
   "metadata": {},
   "source": [
    "But there are 1115 different stores. So not all stores are present in test dataset."
   ]
  },
  {
   "cell_type": "markdown",
   "id": "tropical-center",
   "metadata": {},
   "source": [
    "## DayOfWeek"
   ]
  },
  {
   "cell_type": "markdown",
   "id": "vocational-honolulu",
   "metadata": {},
   "source": [
    "The day of week. The histogram of values:"
   ]
  },
  {
   "cell_type": "code",
   "execution_count": 58,
   "id": "controversial-beach",
   "metadata": {
    "ExecuteTime": {
     "end_time": "2021-11-24T17:44:44.257811Z",
     "start_time": "2021-11-24T17:44:43.678717Z"
    }
   },
   "outputs": [
    {
     "data": {
      "image/png": "[encoded data removed]",
      "text/plain": [
       "<Figure size 720x432 with 1 Axes>"
      ]
     },
     "metadata": {
      "needs_background": "light"
     },
     "output_type": "display_data"
    }
   ],
   "source": [
    "bar(test, 'DayOfWeek')"
   ]
  },
  {
   "cell_type": "markdown",
   "id": "racial-interstate",
   "metadata": {},
   "source": [
    "## Date"
   ]
  },
  {
   "cell_type": "code",
   "execution_count": 59,
   "id": "fuzzy-thompson",
   "metadata": {
    "ExecuteTime": {
     "end_time": "2021-11-24T17:44:46.155826Z",
     "start_time": "2021-11-24T17:44:44.267797Z"
    }
   },
   "outputs": [
    {
     "name": "stdout",
     "output_type": "stream",
     "text": [
      "The number of unique dates: 48\n"
     ]
    }
   ],
   "source": [
    "test_dates = test.Date.apply(lambda date: datetime.datetime.strptime(date, '%Y-%m-%d'))\n",
    "print('The number of unique dates:', test_dates.nunique())"
   ]
  },
  {
   "cell_type": "code",
   "execution_count": 60,
   "id": "appreciated-washington",
   "metadata": {
    "ExecuteTime": {
     "end_time": "2021-11-24T17:44:46.203750Z",
     "start_time": "2021-11-24T17:44:46.162821Z"
    },
    "scrolled": true
   },
   "outputs": [
    {
     "name": "stdout",
     "output_type": "stream",
     "text": [
      "The start date in table: 2015-08-01 00:00:00\n",
      "The end date in table: 2015-09-17 00:00:00\n",
      "The number of different days between them: 48\n"
     ]
    }
   ],
   "source": [
    "print('The start date in table:', test_dates.min())\n",
    "print('The end date in table:', test_dates.max())\n",
    "print('The number of different days between them:', (test_dates.max() - test_dates.min()).days + 1)"
   ]
  },
  {
   "cell_type": "markdown",
   "id": "mature-pendant",
   "metadata": {},
   "source": [
    "## Open"
   ]
  },
  {
   "cell_type": "markdown",
   "id": "grateful-hello",
   "metadata": {},
   "source": [
    "Let's take a look at the histogram of values:"
   ]
  },
  {
   "cell_type": "code",
   "execution_count": 61,
   "id": "communist-tattoo",
   "metadata": {
    "ExecuteTime": {
     "end_time": "2021-11-24T17:44:46.459346Z",
     "start_time": "2021-11-24T17:44:46.212739Z"
    },
    "scrolled": true
   },
   "outputs": [
    {
     "data": {
      "image/png": "[encoded data removed]",
      "text/plain": [
       "<Figure size 720x86.4 with 1 Axes>"
      ]
     },
     "metadata": {
      "needs_background": "light"
     },
     "output_type": "display_data"
    }
   ],
   "source": [
    "barh(test, 'Open')"
   ]
  },
  {
   "cell_type": "markdown",
   "id": "subtle-definition",
   "metadata": {},
   "source": [
    "There are rows where **Open** equals 0. For such rows the sales count also equals 0.  \n",
    "Also it contains 11 missing values. Let's see what days this rows correspond."
   ]
  },
  {
   "cell_type": "code",
   "execution_count": 62,
   "id": "operational-opportunity",
   "metadata": {
    "ExecuteTime": {
     "end_time": "2021-11-24T17:44:46.840750Z",
     "start_time": "2021-11-24T17:44:46.466336Z"
    },
    "scrolled": true
   },
   "outputs": [
    {
     "data": {
      "image/png": "[encoded data removed]",
      "text/plain": [
       "<Figure size 720x259.2 with 1 Axes>"
      ]
     },
     "metadata": {
      "needs_background": "light"
     },
     "output_type": "display_data"
    }
   ],
   "source": [
    "barh(test[test.Open.isna()], 'DayOfWeek')"
   ]
  },
  {
   "cell_type": "markdown",
   "id": "british-essex",
   "metadata": {},
   "source": [
    "There is no sundays among them. It means that with a high probability these stores were opened at these days. So the missing values will be filled with 1."
   ]
  },
  {
   "cell_type": "markdown",
   "id": "persistent-newcastle",
   "metadata": {},
   "source": [
    "## Promo"
   ]
  },
  {
   "cell_type": "markdown",
   "id": "amber-voltage",
   "metadata": {},
   "source": [
    "Indicates whether a store is running a promo on that day (equals 1) or not (equals 0). The count of its values"
   ]
  },
  {
   "cell_type": "code",
   "execution_count": 63,
   "id": "asian-renewal",
   "metadata": {
    "ExecuteTime": {
     "end_time": "2021-11-24T17:44:47.093350Z",
     "start_time": "2021-11-24T17:44:46.853732Z"
    }
   },
   "outputs": [
    {
     "data": {
      "image/png": "[encoded data removed]",
      "text/plain": [
       "<Figure size 720x86.4 with 1 Axes>"
      ]
     },
     "metadata": {
      "needs_background": "light"
     },
     "output_type": "display_data"
    }
   ],
   "source": [
    "barh(test, 'Promo')"
   ]
  },
  {
   "cell_type": "markdown",
   "id": "conscious-conversation",
   "metadata": {},
   "source": [
    "## StateHoliday"
   ]
  },
  {
   "cell_type": "markdown",
   "id": "found-explosion",
   "metadata": {},
   "source": [
    "Indicates a state holiday. There are four values that means: a - public holiday, b - Easter holiday, c - Christmas, 0 - no holiday."
   ]
  },
  {
   "cell_type": "code",
   "execution_count": 64,
   "id": "proper-charity",
   "metadata": {
    "ExecuteTime": {
     "end_time": "2021-11-24T17:44:47.364928Z",
     "start_time": "2021-11-24T17:44:47.101344Z"
    }
   },
   "outputs": [
    {
     "data": {
      "image/png": "[encoded data removed]",
      "text/plain": [
       "<Figure size 720x86.4 with 1 Axes>"
      ]
     },
     "metadata": {
      "needs_background": "light"
     },
     "output_type": "display_data"
    }
   ],
   "source": [
    "barh(test, 'StateHoliday')"
   ]
  },
  {
   "cell_type": "markdown",
   "id": "permanent-header",
   "metadata": {},
   "source": [
    "This columns doesn't contain *'b'* and *'c'* values. It is obvious because *'b'* is Easter and *'c'* is Christmas and these holidays are not in the time range of test dataset. As value *'a'* is also a holiday the *'b'* and *'c'* values can be changed to *'a'* in train dataset."
   ]
  },
  {
   "cell_type": "markdown",
   "id": "computational-democracy",
   "metadata": {},
   "source": [
    "## SchoolHoliday"
   ]
  },
  {
   "cell_type": "markdown",
   "id": "infinite-vehicle",
   "metadata": {},
   "source": [
    "Indicates if the (Store, Date) was affected by the closure of public schools. The count of values"
   ]
  },
  {
   "cell_type": "code",
   "execution_count": 65,
   "id": "exempt-essex",
   "metadata": {
    "ExecuteTime": {
     "end_time": "2021-11-24T17:44:47.619527Z",
     "start_time": "2021-11-24T17:44:47.375915Z"
    }
   },
   "outputs": [
    {
     "data": {
      "image/png": "[encoded data removed]",
      "text/plain": [
       "<Figure size 720x86.4 with 1 Axes>"
      ]
     },
     "metadata": {
      "needs_background": "light"
     },
     "output_type": "display_data"
    }
   ],
   "source": [
    "barh(test, 'SchoolHoliday')"
   ]
  },
  {
   "cell_type": "markdown",
   "id": "loved-illustration",
   "metadata": {},
   "source": [
    "The part of ones is greater than in train dataset. Probably in the time range of the test dataset there were autumn holidays."
   ]
  },
  {
   "cell_type": "markdown",
   "id": "portable-inclusion",
   "metadata": {},
   "source": [
    "# Problems"
   ]
  },
  {
   "cell_type": "markdown",
   "id": "spanish-slovak",
   "metadata": {},
   "source": [
    "Я хочу как-то преобразовать данные, убрать фичу, разделить на две таблицы и т.д. Нужно ли мне делать какой-то обзор зависимостей между фичами для исходных таблиц? Ведь некоторые из них не закодированы, в некоторых мусор, а кто-то вообще лишний."
   ]
  },
  {
   "cell_type": "markdown",
   "id": "quarterly-columbus",
   "metadata": {},
   "source": [
    "# Transformation"
   ]
  },
  {
   "cell_type": "markdown",
   "id": "fifteen-tuition",
   "metadata": {},
   "source": [
    "- ***store***\n",
    " - **StoreType** - encode using one-hot encoder\n",
    " - **Assortment** - encode using one-hot encoder\n",
    " - **CompetitionDistance** - fill nans with mean, take a logarithm and standardize\n",
    " - **CompetitionOpenSinceMonth** and **CompetitionOpenSinceYear** - combine into **the ordered number of month from January 1972** feature and normalize\n",
    " - Split the table into two ones according to the **Promo2** value - ***StorePromo0*** and ***StorePromo1***. The first table doesn't contain the promo-features. The second one contains all the promo-features but **Promo2**. **Promo2SinceWeek** and **Promo2SinceYear** are combined into **the ordered number of week since the first one of 2009** feature\n",
    "- ***train***\n",
    " - **Open** - drop rows if this feature equals 0. Also drop this feature\n",
    " - **Customers** - drop it\n",
    " - **StateHoliday** - change 'b' and 'c' values to 'a' and encode it"
   ]
  },
  {
   "cell_type": "code",
   "execution_count": 66,
   "id": "adverse-measurement",
   "metadata": {
    "ExecuteTime": {
     "end_time": "2021-11-24T17:44:49.397312Z",
     "start_time": "2021-11-24T17:44:47.627522Z"
    }
   },
   "outputs": [],
   "source": [
    "from sklearn.preprocessing import OneHotEncoder, StandardScaler, MinMaxScaler\n",
    "from sklearn.impute import SimpleImputer"
   ]
  },
  {
   "cell_type": "markdown",
   "id": "remarkable-estonia",
   "metadata": {},
   "source": [
    "## store"
   ]
  },
  {
   "cell_type": "markdown",
   "id": "spiritual-webmaster",
   "metadata": {},
   "source": [
    "First of all let's encode the **StoreType** and **Assortment** features"
   ]
  },
  {
   "cell_type": "code",
   "execution_count": 176,
   "id": "executive-jungle",
   "metadata": {
    "ExecuteTime": {
     "end_time": "2021-11-24T18:03:19.029483Z",
     "start_time": "2021-11-24T18:03:19.015505Z"
    }
   },
   "outputs": [],
   "source": [
    "store_type_values = ['a', 'b', 'c', 'd']\n",
    "assortment_values = ['a', 'b', 'c']"
   ]
  },
  {
   "cell_type": "code",
   "execution_count": 177,
   "id": "specified-partition",
   "metadata": {
    "ExecuteTime": {
     "end_time": "2021-11-24T18:03:19.061433Z",
     "start_time": "2021-11-24T18:03:19.050449Z"
    }
   },
   "outputs": [],
   "source": [
    "encoder = OneHotEncoder([store_type_values,\n",
    "                        assortment_values])"
   ]
  },
  {
   "cell_type": "code",
   "execution_count": 178,
   "id": "invalid-lesbian",
   "metadata": {
    "ExecuteTime": {
     "end_time": "2021-11-24T18:03:19.091384Z",
     "start_time": "2021-11-24T18:03:19.071420Z"
    }
   },
   "outputs": [],
   "source": [
    "np.set_printoptions(edgeitems=4)"
   ]
  },
  {
   "cell_type": "code",
   "execution_count": 179,
   "id": "further-jerusalem",
   "metadata": {
    "ExecuteTime": {
     "end_time": "2021-11-24T18:03:19.138314Z",
     "start_time": "2021-11-24T18:03:19.102370Z"
    },
    "scrolled": true
   },
   "outputs": [
    {
     "data": {
      "text/plain": [
       "array([[0., 0., 1., 0., 1., 0., 0.],\n",
       "       [1., 0., 0., 0., 1., 0., 0.],\n",
       "       [1., 0., 0., 0., 1., 0., 0.],\n",
       "       [0., 0., 1., 0., 0., 0., 1.],\n",
       "       ...,\n",
       "       [0., 0., 1., 0., 0., 0., 1.],\n",
       "       [1., 0., 0., 0., 0., 0., 1.],\n",
       "       [1., 0., 0., 0., 0., 0., 1.],\n",
       "       [0., 0., 0., 1., 0., 0., 1.]])"
      ]
     },
     "execution_count": 179,
     "metadata": {},
     "output_type": "execute_result"
    }
   ],
   "source": [
    "encoded = encoder.fit_transform(store[['StoreType', 'Assortment']]).toarray()\n",
    "encoded"
   ]
  },
  {
   "cell_type": "code",
   "execution_count": 180,
   "id": "defensive-astrology",
   "metadata": {
    "ExecuteTime": {
     "end_time": "2021-11-24T18:03:19.169263Z",
     "start_time": "2021-11-24T18:03:19.148304Z"
    }
   },
   "outputs": [],
   "source": [
    "store_type_features = [f'StoreType_{value}' for value in store_type_values]\n",
    "assortment_features = [f'Assortment_{value}' for value in assortment_values]"
   ]
  },
  {
   "cell_type": "code",
   "execution_count": 181,
   "id": "divine-blend",
   "metadata": {
    "ExecuteTime": {
     "end_time": "2021-11-24T18:03:19.296064Z",
     "start_time": "2021-11-24T18:03:19.180247Z"
    }
   },
   "outputs": [
    {
     "data": {
      "text/html": [
       "<div>\n",
       "<style scoped>\n",
       "    .dataframe tbody tr th:only-of-type {\n",
       "        vertical-align: middle;\n",
       "    }\n",
       "\n",
       "    .dataframe tbody tr th {\n",
       "        vertical-align: top;\n",
       "    }\n",
       "\n",
       "    .dataframe thead th {\n",
       "        text-align: right;\n",
       "    }\n",
       "</style>\n",
       "<table border=\"1\" class=\"dataframe\">\n",
       "  <thead>\n",
       "    <tr style=\"text-align: right;\">\n",
       "      <th></th>\n",
       "      <th>Store</th>\n",
       "      <th>StoreType</th>\n",
       "      <th>Assortment</th>\n",
       "      <th>CompetitionDistance</th>\n",
       "      <th>CompetitionOpenSinceMonth</th>\n",
       "      <th>CompetitionOpenSinceYear</th>\n",
       "      <th>Promo2</th>\n",
       "      <th>Promo2SinceWeek</th>\n",
       "      <th>Promo2SinceYear</th>\n",
       "      <th>PromoInterval</th>\n",
       "      <th>StoreType_a</th>\n",
       "      <th>StoreType_b</th>\n",
       "      <th>StoreType_c</th>\n",
       "      <th>StoreType_d</th>\n",
       "      <th>Assortment_a</th>\n",
       "      <th>Assortment_b</th>\n",
       "      <th>Assortment_c</th>\n",
       "    </tr>\n",
       "  </thead>\n",
       "  <tbody>\n",
       "    <tr>\n",
       "      <th>0</th>\n",
       "      <td>1</td>\n",
       "      <td>c</td>\n",
       "      <td>a</td>\n",
       "      <td>1270.0</td>\n",
       "      <td>9.0</td>\n",
       "      <td>2008.0</td>\n",
       "      <td>0</td>\n",
       "      <td>NaN</td>\n",
       "      <td>NaN</td>\n",
       "      <td>NaN</td>\n",
       "      <td>0</td>\n",
       "      <td>0</td>\n",
       "      <td>1</td>\n",
       "      <td>0</td>\n",
       "      <td>1</td>\n",
       "      <td>0</td>\n",
       "      <td>0</td>\n",
       "    </tr>\n",
       "    <tr>\n",
       "      <th>1</th>\n",
       "      <td>2</td>\n",
       "      <td>a</td>\n",
       "      <td>a</td>\n",
       "      <td>570.0</td>\n",
       "      <td>11.0</td>\n",
       "      <td>2007.0</td>\n",
       "      <td>1</td>\n",
       "      <td>13.0</td>\n",
       "      <td>2010.0</td>\n",
       "      <td>Jan,Apr,Jul,Oct</td>\n",
       "      <td>1</td>\n",
       "      <td>0</td>\n",
       "      <td>0</td>\n",
       "      <td>0</td>\n",
       "      <td>1</td>\n",
       "      <td>0</td>\n",
       "      <td>0</td>\n",
       "    </tr>\n",
       "    <tr>\n",
       "      <th>2</th>\n",
       "      <td>3</td>\n",
       "      <td>a</td>\n",
       "      <td>a</td>\n",
       "      <td>14130.0</td>\n",
       "      <td>12.0</td>\n",
       "      <td>2006.0</td>\n",
       "      <td>1</td>\n",
       "      <td>14.0</td>\n",
       "      <td>2011.0</td>\n",
       "      <td>Jan,Apr,Jul,Oct</td>\n",
       "      <td>1</td>\n",
       "      <td>0</td>\n",
       "      <td>0</td>\n",
       "      <td>0</td>\n",
       "      <td>1</td>\n",
       "      <td>0</td>\n",
       "      <td>0</td>\n",
       "    </tr>\n",
       "    <tr>\n",
       "      <th>3</th>\n",
       "      <td>4</td>\n",
       "      <td>c</td>\n",
       "      <td>c</td>\n",
       "      <td>620.0</td>\n",
       "      <td>9.0</td>\n",
       "      <td>2009.0</td>\n",
       "      <td>0</td>\n",
       "      <td>NaN</td>\n",
       "      <td>NaN</td>\n",
       "      <td>NaN</td>\n",
       "      <td>0</td>\n",
       "      <td>0</td>\n",
       "      <td>1</td>\n",
       "      <td>0</td>\n",
       "      <td>0</td>\n",
       "      <td>0</td>\n",
       "      <td>1</td>\n",
       "    </tr>\n",
       "    <tr>\n",
       "      <th>4</th>\n",
       "      <td>5</td>\n",
       "      <td>a</td>\n",
       "      <td>a</td>\n",
       "      <td>29910.0</td>\n",
       "      <td>4.0</td>\n",
       "      <td>2015.0</td>\n",
       "      <td>0</td>\n",
       "      <td>NaN</td>\n",
       "      <td>NaN</td>\n",
       "      <td>NaN</td>\n",
       "      <td>1</td>\n",
       "      <td>0</td>\n",
       "      <td>0</td>\n",
       "      <td>0</td>\n",
       "      <td>1</td>\n",
       "      <td>0</td>\n",
       "      <td>0</td>\n",
       "    </tr>\n",
       "  </tbody>\n",
       "</table>\n",
       "</div>"
      ],
      "text/plain": [
       "   Store StoreType Assortment  CompetitionDistance  CompetitionOpenSinceMonth  \\\n",
       "0      1         c          a               1270.0                        9.0   \n",
       "1      2         a          a                570.0                       11.0   \n",
       "2      3         a          a              14130.0                       12.0   \n",
       "3      4         c          c                620.0                        9.0   \n",
       "4      5         a          a              29910.0                        4.0   \n",
       "\n",
       "   CompetitionOpenSinceYear  Promo2  Promo2SinceWeek  Promo2SinceYear  \\\n",
       "0                    2008.0       0              NaN              NaN   \n",
       "1                    2007.0       1             13.0           2010.0   \n",
       "2                    2006.0       1             14.0           2011.0   \n",
       "3                    2009.0       0              NaN              NaN   \n",
       "4                    2015.0       0              NaN              NaN   \n",
       "\n",
       "     PromoInterval  StoreType_a  StoreType_b  StoreType_c  StoreType_d  \\\n",
       "0              NaN            0            0            1            0   \n",
       "1  Jan,Apr,Jul,Oct            1            0            0            0   \n",
       "2  Jan,Apr,Jul,Oct            1            0            0            0   \n",
       "3              NaN            0            0            1            0   \n",
       "4              NaN            1            0            0            0   \n",
       "\n",
       "   Assortment_a  Assortment_b  Assortment_c  \n",
       "0             1             0             0  \n",
       "1             1             0             0  \n",
       "2             1             0             0  \n",
       "3             0             0             1  \n",
       "4             1             0             0  "
      ]
     },
     "execution_count": 181,
     "metadata": {},
     "output_type": "execute_result"
    }
   ],
   "source": [
    "store[store_type_features + assortment_features] = encoded\n",
    "store = store.astype(\n",
    "    dtype={value: 'int8' for value in store_type_features + assortment_features})\n",
    "store.head()"
   ]
  },
  {
   "cell_type": "code",
   "execution_count": 182,
   "id": "delayed-trick",
   "metadata": {
    "ExecuteTime": {
     "end_time": "2021-11-24T18:03:19.327014Z",
     "start_time": "2021-11-24T18:03:19.306048Z"
    }
   },
   "outputs": [],
   "source": [
    "store.drop(columns=['StoreType', 'Assortment'], inplace=True)"
   ]
  },
  {
   "cell_type": "markdown",
   "id": "adjustable-float",
   "metadata": {},
   "source": [
    "Then transform the **CompetitionDistance** feature: fill the missing values with mean, take a logarithm and standardize it."
   ]
  },
  {
   "cell_type": "code",
   "execution_count": 183,
   "id": "rotary-easter",
   "metadata": {
    "ExecuteTime": {
     "end_time": "2021-11-24T18:03:19.357968Z",
     "start_time": "2021-11-24T18:03:19.336999Z"
    }
   },
   "outputs": [],
   "source": [
    "imputer = SimpleImputer(strategy='mean')"
   ]
  },
  {
   "cell_type": "code",
   "execution_count": 184,
   "id": "listed-association",
   "metadata": {
    "ExecuteTime": {
     "end_time": "2021-11-24T18:03:19.467791Z",
     "start_time": "2021-11-24T18:03:19.365954Z"
    }
   },
   "outputs": [
    {
     "data": {
      "text/html": [
       "<div>\n",
       "<style scoped>\n",
       "    .dataframe tbody tr th:only-of-type {\n",
       "        vertical-align: middle;\n",
       "    }\n",
       "\n",
       "    .dataframe tbody tr th {\n",
       "        vertical-align: top;\n",
       "    }\n",
       "\n",
       "    .dataframe thead th {\n",
       "        text-align: right;\n",
       "    }\n",
       "</style>\n",
       "<table border=\"1\" class=\"dataframe\">\n",
       "  <thead>\n",
       "    <tr style=\"text-align: right;\">\n",
       "      <th></th>\n",
       "      <th>Store</th>\n",
       "      <th>CompetitionDistance</th>\n",
       "      <th>CompetitionOpenSinceMonth</th>\n",
       "      <th>CompetitionOpenSinceYear</th>\n",
       "      <th>Promo2</th>\n",
       "      <th>Promo2SinceWeek</th>\n",
       "      <th>Promo2SinceYear</th>\n",
       "      <th>PromoInterval</th>\n",
       "      <th>StoreType_a</th>\n",
       "      <th>StoreType_b</th>\n",
       "      <th>StoreType_c</th>\n",
       "      <th>StoreType_d</th>\n",
       "      <th>Assortment_a</th>\n",
       "      <th>Assortment_b</th>\n",
       "      <th>Assortment_c</th>\n",
       "      <th>LogCompetitionDistance</th>\n",
       "    </tr>\n",
       "  </thead>\n",
       "  <tbody>\n",
       "    <tr>\n",
       "      <th>0</th>\n",
       "      <td>1</td>\n",
       "      <td>1270.0</td>\n",
       "      <td>9.0</td>\n",
       "      <td>2008.0</td>\n",
       "      <td>0</td>\n",
       "      <td>NaN</td>\n",
       "      <td>NaN</td>\n",
       "      <td>NaN</td>\n",
       "      <td>0</td>\n",
       "      <td>0</td>\n",
       "      <td>1</td>\n",
       "      <td>0</td>\n",
       "      <td>1</td>\n",
       "      <td>0</td>\n",
       "      <td>0</td>\n",
       "      <td>3.103804</td>\n",
       "    </tr>\n",
       "    <tr>\n",
       "      <th>1</th>\n",
       "      <td>2</td>\n",
       "      <td>570.0</td>\n",
       "      <td>11.0</td>\n",
       "      <td>2007.0</td>\n",
       "      <td>1</td>\n",
       "      <td>13.0</td>\n",
       "      <td>2010.0</td>\n",
       "      <td>Jan,Apr,Jul,Oct</td>\n",
       "      <td>1</td>\n",
       "      <td>0</td>\n",
       "      <td>0</td>\n",
       "      <td>0</td>\n",
       "      <td>1</td>\n",
       "      <td>0</td>\n",
       "      <td>0</td>\n",
       "      <td>2.755875</td>\n",
       "    </tr>\n",
       "    <tr>\n",
       "      <th>2</th>\n",
       "      <td>3</td>\n",
       "      <td>14130.0</td>\n",
       "      <td>12.0</td>\n",
       "      <td>2006.0</td>\n",
       "      <td>1</td>\n",
       "      <td>14.0</td>\n",
       "      <td>2011.0</td>\n",
       "      <td>Jan,Apr,Jul,Oct</td>\n",
       "      <td>1</td>\n",
       "      <td>0</td>\n",
       "      <td>0</td>\n",
       "      <td>0</td>\n",
       "      <td>1</td>\n",
       "      <td>0</td>\n",
       "      <td>0</td>\n",
       "      <td>4.150142</td>\n",
       "    </tr>\n",
       "    <tr>\n",
       "      <th>3</th>\n",
       "      <td>4</td>\n",
       "      <td>620.0</td>\n",
       "      <td>9.0</td>\n",
       "      <td>2009.0</td>\n",
       "      <td>0</td>\n",
       "      <td>NaN</td>\n",
       "      <td>NaN</td>\n",
       "      <td>NaN</td>\n",
       "      <td>0</td>\n",
       "      <td>0</td>\n",
       "      <td>1</td>\n",
       "      <td>0</td>\n",
       "      <td>0</td>\n",
       "      <td>0</td>\n",
       "      <td>1</td>\n",
       "      <td>2.792392</td>\n",
       "    </tr>\n",
       "    <tr>\n",
       "      <th>4</th>\n",
       "      <td>5</td>\n",
       "      <td>29910.0</td>\n",
       "      <td>4.0</td>\n",
       "      <td>2015.0</td>\n",
       "      <td>0</td>\n",
       "      <td>NaN</td>\n",
       "      <td>NaN</td>\n",
       "      <td>NaN</td>\n",
       "      <td>1</td>\n",
       "      <td>0</td>\n",
       "      <td>0</td>\n",
       "      <td>0</td>\n",
       "      <td>1</td>\n",
       "      <td>0</td>\n",
       "      <td>0</td>\n",
       "      <td>4.475816</td>\n",
       "    </tr>\n",
       "  </tbody>\n",
       "</table>\n",
       "</div>"
      ],
      "text/plain": [
       "   Store  CompetitionDistance  CompetitionOpenSinceMonth  \\\n",
       "0      1               1270.0                        9.0   \n",
       "1      2                570.0                       11.0   \n",
       "2      3              14130.0                       12.0   \n",
       "3      4                620.0                        9.0   \n",
       "4      5              29910.0                        4.0   \n",
       "\n",
       "   CompetitionOpenSinceYear  Promo2  Promo2SinceWeek  Promo2SinceYear  \\\n",
       "0                    2008.0       0              NaN              NaN   \n",
       "1                    2007.0       1             13.0           2010.0   \n",
       "2                    2006.0       1             14.0           2011.0   \n",
       "3                    2009.0       0              NaN              NaN   \n",
       "4                    2015.0       0              NaN              NaN   \n",
       "\n",
       "     PromoInterval  StoreType_a  StoreType_b  StoreType_c  StoreType_d  \\\n",
       "0              NaN            0            0            1            0   \n",
       "1  Jan,Apr,Jul,Oct            1            0            0            0   \n",
       "2  Jan,Apr,Jul,Oct            1            0            0            0   \n",
       "3              NaN            0            0            1            0   \n",
       "4              NaN            1            0            0            0   \n",
       "\n",
       "   Assortment_a  Assortment_b  Assortment_c  LogCompetitionDistance  \n",
       "0             1             0             0                3.103804  \n",
       "1             1             0             0                2.755875  \n",
       "2             1             0             0                4.150142  \n",
       "3             0             0             1                2.792392  \n",
       "4             1             0             0                4.475816  "
      ]
     },
     "execution_count": 184,
     "metadata": {},
     "output_type": "execute_result"
    }
   ],
   "source": [
    "imputer = SimpleImputer(strategy='mean')\n",
    "store['CompetitionDistance'] = imputer.fit_transform(store[['CompetitionDistance']]).flatten()\n",
    "store['LogCompetitionDistance'] = np.log10(store['CompetitionDistance'])\n",
    "store.head()"
   ]
  },
  {
   "cell_type": "code",
   "execution_count": 185,
   "id": "checked-highland",
   "metadata": {
    "ExecuteTime": {
     "end_time": "2021-11-24T18:03:19.562644Z",
     "start_time": "2021-11-24T18:03:19.478780Z"
    }
   },
   "outputs": [
    {
     "data": {
      "text/html": [
       "<div>\n",
       "<style scoped>\n",
       "    .dataframe tbody tr th:only-of-type {\n",
       "        vertical-align: middle;\n",
       "    }\n",
       "\n",
       "    .dataframe tbody tr th {\n",
       "        vertical-align: top;\n",
       "    }\n",
       "\n",
       "    .dataframe thead th {\n",
       "        text-align: right;\n",
       "    }\n",
       "</style>\n",
       "<table border=\"1\" class=\"dataframe\">\n",
       "  <thead>\n",
       "    <tr style=\"text-align: right;\">\n",
       "      <th></th>\n",
       "      <th>Store</th>\n",
       "      <th>CompetitionDistance</th>\n",
       "      <th>CompetitionOpenSinceMonth</th>\n",
       "      <th>CompetitionOpenSinceYear</th>\n",
       "      <th>Promo2</th>\n",
       "      <th>Promo2SinceWeek</th>\n",
       "      <th>Promo2SinceYear</th>\n",
       "      <th>PromoInterval</th>\n",
       "      <th>StoreType_a</th>\n",
       "      <th>StoreType_b</th>\n",
       "      <th>StoreType_c</th>\n",
       "      <th>StoreType_d</th>\n",
       "      <th>Assortment_a</th>\n",
       "      <th>Assortment_b</th>\n",
       "      <th>Assortment_c</th>\n",
       "      <th>LogCompetitionDistance</th>\n",
       "      <th>EncodedDistance</th>\n",
       "    </tr>\n",
       "  </thead>\n",
       "  <tbody>\n",
       "    <tr>\n",
       "      <th>0</th>\n",
       "      <td>1</td>\n",
       "      <td>1270.0</td>\n",
       "      <td>9.0</td>\n",
       "      <td>2008.0</td>\n",
       "      <td>0</td>\n",
       "      <td>NaN</td>\n",
       "      <td>NaN</td>\n",
       "      <td>NaN</td>\n",
       "      <td>0</td>\n",
       "      <td>0</td>\n",
       "      <td>1</td>\n",
       "      <td>0</td>\n",
       "      <td>1</td>\n",
       "      <td>0</td>\n",
       "      <td>0</td>\n",
       "      <td>3.103804</td>\n",
       "      <td>-0.321681</td>\n",
       "    </tr>\n",
       "    <tr>\n",
       "      <th>1</th>\n",
       "      <td>2</td>\n",
       "      <td>570.0</td>\n",
       "      <td>11.0</td>\n",
       "      <td>2007.0</td>\n",
       "      <td>1</td>\n",
       "      <td>13.0</td>\n",
       "      <td>2010.0</td>\n",
       "      <td>Jan,Apr,Jul,Oct</td>\n",
       "      <td>1</td>\n",
       "      <td>0</td>\n",
       "      <td>0</td>\n",
       "      <td>0</td>\n",
       "      <td>1</td>\n",
       "      <td>0</td>\n",
       "      <td>0</td>\n",
       "      <td>2.755875</td>\n",
       "      <td>-0.837582</td>\n",
       "    </tr>\n",
       "    <tr>\n",
       "      <th>2</th>\n",
       "      <td>3</td>\n",
       "      <td>14130.0</td>\n",
       "      <td>12.0</td>\n",
       "      <td>2006.0</td>\n",
       "      <td>1</td>\n",
       "      <td>14.0</td>\n",
       "      <td>2011.0</td>\n",
       "      <td>Jan,Apr,Jul,Oct</td>\n",
       "      <td>1</td>\n",
       "      <td>0</td>\n",
       "      <td>0</td>\n",
       "      <td>0</td>\n",
       "      <td>1</td>\n",
       "      <td>0</td>\n",
       "      <td>0</td>\n",
       "      <td>4.150142</td>\n",
       "      <td>1.229804</td>\n",
       "    </tr>\n",
       "    <tr>\n",
       "      <th>3</th>\n",
       "      <td>4</td>\n",
       "      <td>620.0</td>\n",
       "      <td>9.0</td>\n",
       "      <td>2009.0</td>\n",
       "      <td>0</td>\n",
       "      <td>NaN</td>\n",
       "      <td>NaN</td>\n",
       "      <td>NaN</td>\n",
       "      <td>0</td>\n",
       "      <td>0</td>\n",
       "      <td>1</td>\n",
       "      <td>0</td>\n",
       "      <td>0</td>\n",
       "      <td>0</td>\n",
       "      <td>1</td>\n",
       "      <td>2.792392</td>\n",
       "      <td>-0.783436</td>\n",
       "    </tr>\n",
       "    <tr>\n",
       "      <th>4</th>\n",
       "      <td>5</td>\n",
       "      <td>29910.0</td>\n",
       "      <td>4.0</td>\n",
       "      <td>2015.0</td>\n",
       "      <td>0</td>\n",
       "      <td>NaN</td>\n",
       "      <td>NaN</td>\n",
       "      <td>NaN</td>\n",
       "      <td>1</td>\n",
       "      <td>0</td>\n",
       "      <td>0</td>\n",
       "      <td>0</td>\n",
       "      <td>1</td>\n",
       "      <td>0</td>\n",
       "      <td>0</td>\n",
       "      <td>4.475816</td>\n",
       "      <td>1.712706</td>\n",
       "    </tr>\n",
       "  </tbody>\n",
       "</table>\n",
       "</div>"
      ],
      "text/plain": [
       "   Store  CompetitionDistance  CompetitionOpenSinceMonth  \\\n",
       "0      1               1270.0                        9.0   \n",
       "1      2                570.0                       11.0   \n",
       "2      3              14130.0                       12.0   \n",
       "3      4                620.0                        9.0   \n",
       "4      5              29910.0                        4.0   \n",
       "\n",
       "   CompetitionOpenSinceYear  Promo2  Promo2SinceWeek  Promo2SinceYear  \\\n",
       "0                    2008.0       0              NaN              NaN   \n",
       "1                    2007.0       1             13.0           2010.0   \n",
       "2                    2006.0       1             14.0           2011.0   \n",
       "3                    2009.0       0              NaN              NaN   \n",
       "4                    2015.0       0              NaN              NaN   \n",
       "\n",
       "     PromoInterval  StoreType_a  StoreType_b  StoreType_c  StoreType_d  \\\n",
       "0              NaN            0            0            1            0   \n",
       "1  Jan,Apr,Jul,Oct            1            0            0            0   \n",
       "2  Jan,Apr,Jul,Oct            1            0            0            0   \n",
       "3              NaN            0            0            1            0   \n",
       "4              NaN            1            0            0            0   \n",
       "\n",
       "   Assortment_a  Assortment_b  Assortment_c  LogCompetitionDistance  \\\n",
       "0             1             0             0                3.103804   \n",
       "1             1             0             0                2.755875   \n",
       "2             1             0             0                4.150142   \n",
       "3             0             0             1                2.792392   \n",
       "4             1             0             0                4.475816   \n",
       "\n",
       "   EncodedDistance  \n",
       "0        -0.321681  \n",
       "1        -0.837582  \n",
       "2         1.229804  \n",
       "3        -0.783436  \n",
       "4         1.712706  "
      ]
     },
     "execution_count": 185,
     "metadata": {},
     "output_type": "execute_result"
    }
   ],
   "source": [
    "scaler = StandardScaler()\n",
    "store['EncodedDistance'] = scaler.fit_transform(store[['LogCompetitionDistance']]).flatten()\n",
    "store.head()"
   ]
  },
  {
   "cell_type": "code",
   "execution_count": 186,
   "id": "sonic-timothy",
   "metadata": {
    "ExecuteTime": {
     "end_time": "2021-11-24T18:03:19.641520Z",
     "start_time": "2021-11-24T18:03:19.571631Z"
    }
   },
   "outputs": [
    {
     "data": {
      "text/html": [
       "<div>\n",
       "<style scoped>\n",
       "    .dataframe tbody tr th:only-of-type {\n",
       "        vertical-align: middle;\n",
       "    }\n",
       "\n",
       "    .dataframe tbody tr th {\n",
       "        vertical-align: top;\n",
       "    }\n",
       "\n",
       "    .dataframe thead th {\n",
       "        text-align: right;\n",
       "    }\n",
       "</style>\n",
       "<table border=\"1\" class=\"dataframe\">\n",
       "  <thead>\n",
       "    <tr style=\"text-align: right;\">\n",
       "      <th></th>\n",
       "      <th>Store</th>\n",
       "      <th>CompetitionOpenSinceMonth</th>\n",
       "      <th>CompetitionOpenSinceYear</th>\n",
       "      <th>Promo2</th>\n",
       "      <th>Promo2SinceWeek</th>\n",
       "      <th>Promo2SinceYear</th>\n",
       "      <th>PromoInterval</th>\n",
       "      <th>StoreType_a</th>\n",
       "      <th>StoreType_b</th>\n",
       "      <th>StoreType_c</th>\n",
       "      <th>StoreType_d</th>\n",
       "      <th>Assortment_a</th>\n",
       "      <th>Assortment_b</th>\n",
       "      <th>Assortment_c</th>\n",
       "      <th>EncodedDistance</th>\n",
       "    </tr>\n",
       "  </thead>\n",
       "  <tbody>\n",
       "    <tr>\n",
       "      <th>0</th>\n",
       "      <td>1</td>\n",
       "      <td>9.0</td>\n",
       "      <td>2008.0</td>\n",
       "      <td>0</td>\n",
       "      <td>NaN</td>\n",
       "      <td>NaN</td>\n",
       "      <td>NaN</td>\n",
       "      <td>0</td>\n",
       "      <td>0</td>\n",
       "      <td>1</td>\n",
       "      <td>0</td>\n",
       "      <td>1</td>\n",
       "      <td>0</td>\n",
       "      <td>0</td>\n",
       "      <td>-0.321681</td>\n",
       "    </tr>\n",
       "    <tr>\n",
       "      <th>1</th>\n",
       "      <td>2</td>\n",
       "      <td>11.0</td>\n",
       "      <td>2007.0</td>\n",
       "      <td>1</td>\n",
       "      <td>13.0</td>\n",
       "      <td>2010.0</td>\n",
       "      <td>Jan,Apr,Jul,Oct</td>\n",
       "      <td>1</td>\n",
       "      <td>0</td>\n",
       "      <td>0</td>\n",
       "      <td>0</td>\n",
       "      <td>1</td>\n",
       "      <td>0</td>\n",
       "      <td>0</td>\n",
       "      <td>-0.837582</td>\n",
       "    </tr>\n",
       "    <tr>\n",
       "      <th>2</th>\n",
       "      <td>3</td>\n",
       "      <td>12.0</td>\n",
       "      <td>2006.0</td>\n",
       "      <td>1</td>\n",
       "      <td>14.0</td>\n",
       "      <td>2011.0</td>\n",
       "      <td>Jan,Apr,Jul,Oct</td>\n",
       "      <td>1</td>\n",
       "      <td>0</td>\n",
       "      <td>0</td>\n",
       "      <td>0</td>\n",
       "      <td>1</td>\n",
       "      <td>0</td>\n",
       "      <td>0</td>\n",
       "      <td>1.229804</td>\n",
       "    </tr>\n",
       "    <tr>\n",
       "      <th>3</th>\n",
       "      <td>4</td>\n",
       "      <td>9.0</td>\n",
       "      <td>2009.0</td>\n",
       "      <td>0</td>\n",
       "      <td>NaN</td>\n",
       "      <td>NaN</td>\n",
       "      <td>NaN</td>\n",
       "      <td>0</td>\n",
       "      <td>0</td>\n",
       "      <td>1</td>\n",
       "      <td>0</td>\n",
       "      <td>0</td>\n",
       "      <td>0</td>\n",
       "      <td>1</td>\n",
       "      <td>-0.783436</td>\n",
       "    </tr>\n",
       "    <tr>\n",
       "      <th>4</th>\n",
       "      <td>5</td>\n",
       "      <td>4.0</td>\n",
       "      <td>2015.0</td>\n",
       "      <td>0</td>\n",
       "      <td>NaN</td>\n",
       "      <td>NaN</td>\n",
       "      <td>NaN</td>\n",
       "      <td>1</td>\n",
       "      <td>0</td>\n",
       "      <td>0</td>\n",
       "      <td>0</td>\n",
       "      <td>1</td>\n",
       "      <td>0</td>\n",
       "      <td>0</td>\n",
       "      <td>1.712706</td>\n",
       "    </tr>\n",
       "  </tbody>\n",
       "</table>\n",
       "</div>"
      ],
      "text/plain": [
       "   Store  CompetitionOpenSinceMonth  CompetitionOpenSinceYear  Promo2  \\\n",
       "0      1                        9.0                    2008.0       0   \n",
       "1      2                       11.0                    2007.0       1   \n",
       "2      3                       12.0                    2006.0       1   \n",
       "3      4                        9.0                    2009.0       0   \n",
       "4      5                        4.0                    2015.0       0   \n",
       "\n",
       "   Promo2SinceWeek  Promo2SinceYear    PromoInterval  StoreType_a  \\\n",
       "0              NaN              NaN              NaN            0   \n",
       "1             13.0           2010.0  Jan,Apr,Jul,Oct            1   \n",
       "2             14.0           2011.0  Jan,Apr,Jul,Oct            1   \n",
       "3              NaN              NaN              NaN            0   \n",
       "4              NaN              NaN              NaN            1   \n",
       "\n",
       "   StoreType_b  StoreType_c  StoreType_d  Assortment_a  Assortment_b  \\\n",
       "0            0            1            0             1             0   \n",
       "1            0            0            0             1             0   \n",
       "2            0            0            0             1             0   \n",
       "3            0            1            0             0             0   \n",
       "4            0            0            0             1             0   \n",
       "\n",
       "   Assortment_c  EncodedDistance  \n",
       "0             0        -0.321681  \n",
       "1             0        -0.837582  \n",
       "2             0         1.229804  \n",
       "3             1        -0.783436  \n",
       "4             0         1.712706  "
      ]
     },
     "execution_count": 186,
     "metadata": {},
     "output_type": "execute_result"
    }
   ],
   "source": [
    "store.drop(columns=['CompetitionDistance', 'LogCompetitionDistance'], inplace=True)\n",
    "store.head()"
   ]
  },
  {
   "cell_type": "markdown",
   "id": "afraid-liberty",
   "metadata": {},
   "source": [
    "Now combine **CompetitionOpenSinceMonth** and **CompetitionOpenSinceYear** features. But first let's change outliers 1900 and 1961 to 1972."
   ]
  },
  {
   "cell_type": "code",
   "execution_count": 187,
   "id": "accepted-healing",
   "metadata": {
    "ExecuteTime": {
     "end_time": "2021-11-24T18:03:19.720394Z",
     "start_time": "2021-11-24T18:03:19.650511Z"
    }
   },
   "outputs": [
    {
     "data": {
      "text/html": [
       "<div>\n",
       "<style scoped>\n",
       "    .dataframe tbody tr th:only-of-type {\n",
       "        vertical-align: middle;\n",
       "    }\n",
       "\n",
       "    .dataframe tbody tr th {\n",
       "        vertical-align: top;\n",
       "    }\n",
       "\n",
       "    .dataframe thead th {\n",
       "        text-align: right;\n",
       "    }\n",
       "</style>\n",
       "<table border=\"1\" class=\"dataframe\">\n",
       "  <thead>\n",
       "    <tr style=\"text-align: right;\">\n",
       "      <th></th>\n",
       "      <th>Store</th>\n",
       "      <th>CompetitionOpenSinceMonth</th>\n",
       "      <th>CompetitionOpenSinceYear</th>\n",
       "      <th>Promo2</th>\n",
       "      <th>Promo2SinceWeek</th>\n",
       "      <th>Promo2SinceYear</th>\n",
       "      <th>PromoInterval</th>\n",
       "      <th>StoreType_a</th>\n",
       "      <th>StoreType_b</th>\n",
       "      <th>StoreType_c</th>\n",
       "      <th>StoreType_d</th>\n",
       "      <th>Assortment_a</th>\n",
       "      <th>Assortment_b</th>\n",
       "      <th>Assortment_c</th>\n",
       "      <th>EncodedDistance</th>\n",
       "    </tr>\n",
       "  </thead>\n",
       "  <tbody>\n",
       "    <tr>\n",
       "      <th>145</th>\n",
       "      <td>146</td>\n",
       "      <td>3.0</td>\n",
       "      <td>1972.0</td>\n",
       "      <td>1</td>\n",
       "      <td>48.0</td>\n",
       "      <td>2012.0</td>\n",
       "      <td>Jan,Apr,Jul,Oct</td>\n",
       "      <td>0</td>\n",
       "      <td>0</td>\n",
       "      <td>0</td>\n",
       "      <td>1</td>\n",
       "      <td>0</td>\n",
       "      <td>0</td>\n",
       "      <td>1</td>\n",
       "      <td>0.867493</td>\n",
       "    </tr>\n",
       "    <tr>\n",
       "      <th>814</th>\n",
       "      <td>815</td>\n",
       "      <td>3.0</td>\n",
       "      <td>1972.0</td>\n",
       "      <td>1</td>\n",
       "      <td>40.0</td>\n",
       "      <td>2014.0</td>\n",
       "      <td>Jan,Apr,Jul,Oct</td>\n",
       "      <td>1</td>\n",
       "      <td>0</td>\n",
       "      <td>0</td>\n",
       "      <td>0</td>\n",
       "      <td>1</td>\n",
       "      <td>0</td>\n",
       "      <td>0</td>\n",
       "      <td>-0.815374</td>\n",
       "    </tr>\n",
       "  </tbody>\n",
       "</table>\n",
       "</div>"
      ],
      "text/plain": [
       "     Store  CompetitionOpenSinceMonth  CompetitionOpenSinceYear  Promo2  \\\n",
       "145    146                        3.0                    1972.0       1   \n",
       "814    815                        3.0                    1972.0       1   \n",
       "\n",
       "     Promo2SinceWeek  Promo2SinceYear    PromoInterval  StoreType_a  \\\n",
       "145             48.0           2012.0  Jan,Apr,Jul,Oct            0   \n",
       "814             40.0           2014.0  Jan,Apr,Jul,Oct            1   \n",
       "\n",
       "     StoreType_b  StoreType_c  StoreType_d  Assortment_a  Assortment_b  \\\n",
       "145            0            0            1             0             0   \n",
       "814            0            0            0             1             0   \n",
       "\n",
       "     Assortment_c  EncodedDistance  \n",
       "145             1         0.867493  \n",
       "814             0        -0.815374  "
      ]
     },
     "execution_count": 187,
     "metadata": {},
     "output_type": "execute_result"
    }
   ],
   "source": [
    "ind = store[store.CompetitionOpenSinceYear.isin([1900, 1961])].index\n",
    "store.loc[ind, 'CompetitionOpenSinceYear'] = 1972\n",
    "store.loc[ind, 'CompetitionOpenSinceMonth'] = 3\n",
    "store.loc[ind]"
   ]
  },
  {
   "cell_type": "markdown",
   "id": "given-approval",
   "metadata": {},
   "source": [
    "Then fill the missing values with some outlier. As the minimum year is 1972 define the outlier for year as 1900. The month will be 1."
   ]
  },
  {
   "cell_type": "code",
   "execution_count": 188,
   "id": "known-congo",
   "metadata": {
    "ExecuteTime": {
     "end_time": "2021-11-24T18:03:19.799270Z",
     "start_time": "2021-11-24T18:03:19.728384Z"
    }
   },
   "outputs": [
    {
     "data": {
      "text/html": [
       "<div>\n",
       "<style scoped>\n",
       "    .dataframe tbody tr th:only-of-type {\n",
       "        vertical-align: middle;\n",
       "    }\n",
       "\n",
       "    .dataframe tbody tr th {\n",
       "        vertical-align: top;\n",
       "    }\n",
       "\n",
       "    .dataframe thead th {\n",
       "        text-align: right;\n",
       "    }\n",
       "</style>\n",
       "<table border=\"1\" class=\"dataframe\">\n",
       "  <thead>\n",
       "    <tr style=\"text-align: right;\">\n",
       "      <th></th>\n",
       "      <th>Store</th>\n",
       "      <th>CompetitionOpenSinceMonth</th>\n",
       "      <th>CompetitionOpenSinceYear</th>\n",
       "      <th>Promo2</th>\n",
       "      <th>Promo2SinceWeek</th>\n",
       "      <th>Promo2SinceYear</th>\n",
       "      <th>PromoInterval</th>\n",
       "      <th>StoreType_a</th>\n",
       "      <th>StoreType_b</th>\n",
       "      <th>StoreType_c</th>\n",
       "      <th>StoreType_d</th>\n",
       "      <th>Assortment_a</th>\n",
       "      <th>Assortment_b</th>\n",
       "      <th>Assortment_c</th>\n",
       "      <th>EncodedDistance</th>\n",
       "    </tr>\n",
       "  </thead>\n",
       "  <tbody>\n",
       "    <tr>\n",
       "      <th>1110</th>\n",
       "      <td>1111</td>\n",
       "      <td>6.0</td>\n",
       "      <td>2014.0</td>\n",
       "      <td>1</td>\n",
       "      <td>31.0</td>\n",
       "      <td>2013.0</td>\n",
       "      <td>Jan,Apr,Jul,Oct</td>\n",
       "      <td>1</td>\n",
       "      <td>0</td>\n",
       "      <td>0</td>\n",
       "      <td>0</td>\n",
       "      <td>1</td>\n",
       "      <td>0</td>\n",
       "      <td>0</td>\n",
       "      <td>-0.062270</td>\n",
       "    </tr>\n",
       "    <tr>\n",
       "      <th>1111</th>\n",
       "      <td>1112</td>\n",
       "      <td>4.0</td>\n",
       "      <td>2006.0</td>\n",
       "      <td>0</td>\n",
       "      <td>NaN</td>\n",
       "      <td>NaN</td>\n",
       "      <td>NaN</td>\n",
       "      <td>0</td>\n",
       "      <td>0</td>\n",
       "      <td>1</td>\n",
       "      <td>0</td>\n",
       "      <td>0</td>\n",
       "      <td>0</td>\n",
       "      <td>1</td>\n",
       "      <td>-0.069084</td>\n",
       "    </tr>\n",
       "    <tr>\n",
       "      <th>1112</th>\n",
       "      <td>1113</td>\n",
       "      <td>1.0</td>\n",
       "      <td>1900.0</td>\n",
       "      <td>0</td>\n",
       "      <td>NaN</td>\n",
       "      <td>NaN</td>\n",
       "      <td>NaN</td>\n",
       "      <td>1</td>\n",
       "      <td>0</td>\n",
       "      <td>0</td>\n",
       "      <td>0</td>\n",
       "      <td>0</td>\n",
       "      <td>0</td>\n",
       "      <td>1</td>\n",
       "      <td>0.957668</td>\n",
       "    </tr>\n",
       "    <tr>\n",
       "      <th>1113</th>\n",
       "      <td>1114</td>\n",
       "      <td>1.0</td>\n",
       "      <td>1900.0</td>\n",
       "      <td>0</td>\n",
       "      <td>NaN</td>\n",
       "      <td>NaN</td>\n",
       "      <td>NaN</td>\n",
       "      <td>1</td>\n",
       "      <td>0</td>\n",
       "      <td>0</td>\n",
       "      <td>0</td>\n",
       "      <td>0</td>\n",
       "      <td>0</td>\n",
       "      <td>1</td>\n",
       "      <td>-0.565278</td>\n",
       "    </tr>\n",
       "    <tr>\n",
       "      <th>1114</th>\n",
       "      <td>1115</td>\n",
       "      <td>1.0</td>\n",
       "      <td>1900.0</td>\n",
       "      <td>1</td>\n",
       "      <td>22.0</td>\n",
       "      <td>2012.0</td>\n",
       "      <td>Mar,Jun,Sept,Dec</td>\n",
       "      <td>0</td>\n",
       "      <td>0</td>\n",
       "      <td>0</td>\n",
       "      <td>1</td>\n",
       "      <td>0</td>\n",
       "      <td>0</td>\n",
       "      <td>1</td>\n",
       "      <td>0.604386</td>\n",
       "    </tr>\n",
       "  </tbody>\n",
       "</table>\n",
       "</div>"
      ],
      "text/plain": [
       "      Store  CompetitionOpenSinceMonth  CompetitionOpenSinceYear  Promo2  \\\n",
       "1110   1111                        6.0                    2014.0       1   \n",
       "1111   1112                        4.0                    2006.0       0   \n",
       "1112   1113                        1.0                    1900.0       0   \n",
       "1113   1114                        1.0                    1900.0       0   \n",
       "1114   1115                        1.0                    1900.0       1   \n",
       "\n",
       "      Promo2SinceWeek  Promo2SinceYear     PromoInterval  StoreType_a  \\\n",
       "1110             31.0           2013.0   Jan,Apr,Jul,Oct            1   \n",
       "1111              NaN              NaN               NaN            0   \n",
       "1112              NaN              NaN               NaN            1   \n",
       "1113              NaN              NaN               NaN            1   \n",
       "1114             22.0           2012.0  Mar,Jun,Sept,Dec            0   \n",
       "\n",
       "      StoreType_b  StoreType_c  StoreType_d  Assortment_a  Assortment_b  \\\n",
       "1110            0            0            0             1             0   \n",
       "1111            0            1            0             0             0   \n",
       "1112            0            0            0             0             0   \n",
       "1113            0            0            0             0             0   \n",
       "1114            0            0            1             0             0   \n",
       "\n",
       "      Assortment_c  EncodedDistance  \n",
       "1110             0        -0.062270  \n",
       "1111             1        -0.069084  \n",
       "1112             1         0.957668  \n",
       "1113             1        -0.565278  \n",
       "1114             1         0.604386  "
      ]
     },
     "execution_count": 188,
     "metadata": {},
     "output_type": "execute_result"
    }
   ],
   "source": [
    "store.CompetitionOpenSinceYear = store.CompetitionOpenSinceYear.fillna(1900)\n",
    "store.CompetitionOpenSinceMonth = store.CompetitionOpenSinceMonth.fillna(1)\n",
    "store.tail()"
   ]
  },
  {
   "cell_type": "markdown",
   "id": "careful-standing",
   "metadata": {},
   "source": [
    "And now combine this features into one."
   ]
  },
  {
   "cell_type": "code",
   "execution_count": 189,
   "id": "stuck-terrain",
   "metadata": {
    "ExecuteTime": {
     "end_time": "2021-11-24T18:03:19.831223Z",
     "start_time": "2021-11-24T18:03:19.808260Z"
    }
   },
   "outputs": [],
   "source": [
    "store['CompetitionMonthsFromStart'] = store.CompetitionOpenSinceMonth - 3 + (store.CompetitionOpenSinceYear - 1972) * 12"
   ]
  },
  {
   "cell_type": "code",
   "execution_count": 190,
   "id": "every-validity",
   "metadata": {
    "ExecuteTime": {
     "end_time": "2021-11-24T18:03:19.909098Z",
     "start_time": "2021-11-24T18:03:19.839218Z"
    }
   },
   "outputs": [
    {
     "data": {
      "text/html": [
       "<div>\n",
       "<style scoped>\n",
       "    .dataframe tbody tr th:only-of-type {\n",
       "        vertical-align: middle;\n",
       "    }\n",
       "\n",
       "    .dataframe tbody tr th {\n",
       "        vertical-align: top;\n",
       "    }\n",
       "\n",
       "    .dataframe thead th {\n",
       "        text-align: right;\n",
       "    }\n",
       "</style>\n",
       "<table border=\"1\" class=\"dataframe\">\n",
       "  <thead>\n",
       "    <tr style=\"text-align: right;\">\n",
       "      <th></th>\n",
       "      <th>Store</th>\n",
       "      <th>CompetitionOpenSinceMonth</th>\n",
       "      <th>CompetitionOpenSinceYear</th>\n",
       "      <th>Promo2</th>\n",
       "      <th>Promo2SinceWeek</th>\n",
       "      <th>Promo2SinceYear</th>\n",
       "      <th>PromoInterval</th>\n",
       "      <th>StoreType_a</th>\n",
       "      <th>StoreType_b</th>\n",
       "      <th>StoreType_c</th>\n",
       "      <th>StoreType_d</th>\n",
       "      <th>Assortment_a</th>\n",
       "      <th>Assortment_b</th>\n",
       "      <th>Assortment_c</th>\n",
       "      <th>EncodedDistance</th>\n",
       "      <th>CompetitionMonthsFromStart</th>\n",
       "    </tr>\n",
       "  </thead>\n",
       "  <tbody>\n",
       "    <tr>\n",
       "      <th>0</th>\n",
       "      <td>1</td>\n",
       "      <td>9.0</td>\n",
       "      <td>2008.0</td>\n",
       "      <td>0</td>\n",
       "      <td>NaN</td>\n",
       "      <td>NaN</td>\n",
       "      <td>NaN</td>\n",
       "      <td>0</td>\n",
       "      <td>0</td>\n",
       "      <td>1</td>\n",
       "      <td>0</td>\n",
       "      <td>1</td>\n",
       "      <td>0</td>\n",
       "      <td>0</td>\n",
       "      <td>-0.321681</td>\n",
       "      <td>438.0</td>\n",
       "    </tr>\n",
       "    <tr>\n",
       "      <th>1</th>\n",
       "      <td>2</td>\n",
       "      <td>11.0</td>\n",
       "      <td>2007.0</td>\n",
       "      <td>1</td>\n",
       "      <td>13.0</td>\n",
       "      <td>2010.0</td>\n",
       "      <td>Jan,Apr,Jul,Oct</td>\n",
       "      <td>1</td>\n",
       "      <td>0</td>\n",
       "      <td>0</td>\n",
       "      <td>0</td>\n",
       "      <td>1</td>\n",
       "      <td>0</td>\n",
       "      <td>0</td>\n",
       "      <td>-0.837582</td>\n",
       "      <td>428.0</td>\n",
       "    </tr>\n",
       "    <tr>\n",
       "      <th>2</th>\n",
       "      <td>3</td>\n",
       "      <td>12.0</td>\n",
       "      <td>2006.0</td>\n",
       "      <td>1</td>\n",
       "      <td>14.0</td>\n",
       "      <td>2011.0</td>\n",
       "      <td>Jan,Apr,Jul,Oct</td>\n",
       "      <td>1</td>\n",
       "      <td>0</td>\n",
       "      <td>0</td>\n",
       "      <td>0</td>\n",
       "      <td>1</td>\n",
       "      <td>0</td>\n",
       "      <td>0</td>\n",
       "      <td>1.229804</td>\n",
       "      <td>417.0</td>\n",
       "    </tr>\n",
       "    <tr>\n",
       "      <th>3</th>\n",
       "      <td>4</td>\n",
       "      <td>9.0</td>\n",
       "      <td>2009.0</td>\n",
       "      <td>0</td>\n",
       "      <td>NaN</td>\n",
       "      <td>NaN</td>\n",
       "      <td>NaN</td>\n",
       "      <td>0</td>\n",
       "      <td>0</td>\n",
       "      <td>1</td>\n",
       "      <td>0</td>\n",
       "      <td>0</td>\n",
       "      <td>0</td>\n",
       "      <td>1</td>\n",
       "      <td>-0.783436</td>\n",
       "      <td>450.0</td>\n",
       "    </tr>\n",
       "    <tr>\n",
       "      <th>4</th>\n",
       "      <td>5</td>\n",
       "      <td>4.0</td>\n",
       "      <td>2015.0</td>\n",
       "      <td>0</td>\n",
       "      <td>NaN</td>\n",
       "      <td>NaN</td>\n",
       "      <td>NaN</td>\n",
       "      <td>1</td>\n",
       "      <td>0</td>\n",
       "      <td>0</td>\n",
       "      <td>0</td>\n",
       "      <td>1</td>\n",
       "      <td>0</td>\n",
       "      <td>0</td>\n",
       "      <td>1.712706</td>\n",
       "      <td>517.0</td>\n",
       "    </tr>\n",
       "  </tbody>\n",
       "</table>\n",
       "</div>"
      ],
      "text/plain": [
       "   Store  CompetitionOpenSinceMonth  CompetitionOpenSinceYear  Promo2  \\\n",
       "0      1                        9.0                    2008.0       0   \n",
       "1      2                       11.0                    2007.0       1   \n",
       "2      3                       12.0                    2006.0       1   \n",
       "3      4                        9.0                    2009.0       0   \n",
       "4      5                        4.0                    2015.0       0   \n",
       "\n",
       "   Promo2SinceWeek  Promo2SinceYear    PromoInterval  StoreType_a  \\\n",
       "0              NaN              NaN              NaN            0   \n",
       "1             13.0           2010.0  Jan,Apr,Jul,Oct            1   \n",
       "2             14.0           2011.0  Jan,Apr,Jul,Oct            1   \n",
       "3              NaN              NaN              NaN            0   \n",
       "4              NaN              NaN              NaN            1   \n",
       "\n",
       "   StoreType_b  StoreType_c  StoreType_d  Assortment_a  Assortment_b  \\\n",
       "0            0            1            0             1             0   \n",
       "1            0            0            0             1             0   \n",
       "2            0            0            0             1             0   \n",
       "3            0            1            0             0             0   \n",
       "4            0            0            0             1             0   \n",
       "\n",
       "   Assortment_c  EncodedDistance  CompetitionMonthsFromStart  \n",
       "0             0        -0.321681                       438.0  \n",
       "1             0        -0.837582                       428.0  \n",
       "2             0         1.229804                       417.0  \n",
       "3             1        -0.783436                       450.0  \n",
       "4             0         1.712706                       517.0  "
      ]
     },
     "execution_count": 190,
     "metadata": {},
     "output_type": "execute_result"
    }
   ],
   "source": [
    "store.head()"
   ]
  },
  {
   "cell_type": "markdown",
   "id": "everyday-associate",
   "metadata": {},
   "source": [
    "The histogram of the new feature."
   ]
  },
  {
   "cell_type": "code",
   "execution_count": 191,
   "id": "frozen-brazilian",
   "metadata": {
    "ExecuteTime": {
     "end_time": "2021-11-24T18:03:20.973431Z",
     "start_time": "2021-11-24T18:03:19.917088Z"
    },
    "scrolled": false
   },
   "outputs": [
    {
     "data": {
      "image/png": "[encoded data removed]",
      "text/plain": [
       "<Figure size 720x432 with 1 Axes>"
      ]
     },
     "metadata": {
      "needs_background": "light"
     },
     "output_type": "display_data"
    }
   ],
   "source": [
    "hist(store, 'CompetitionMonthsFromStart')"
   ]
  },
  {
   "cell_type": "markdown",
   "id": "adjusted-grant",
   "metadata": {},
   "source": [
    "Normalize it."
   ]
  },
  {
   "cell_type": "code",
   "execution_count": 192,
   "id": "creative-consent",
   "metadata": {
    "ExecuteTime": {
     "end_time": "2021-11-24T18:03:21.067291Z",
     "start_time": "2021-11-24T18:03:20.982417Z"
    }
   },
   "outputs": [
    {
     "data": {
      "text/html": [
       "<div>\n",
       "<style scoped>\n",
       "    .dataframe tbody tr th:only-of-type {\n",
       "        vertical-align: middle;\n",
       "    }\n",
       "\n",
       "    .dataframe tbody tr th {\n",
       "        vertical-align: top;\n",
       "    }\n",
       "\n",
       "    .dataframe thead th {\n",
       "        text-align: right;\n",
       "    }\n",
       "</style>\n",
       "<table border=\"1\" class=\"dataframe\">\n",
       "  <thead>\n",
       "    <tr style=\"text-align: right;\">\n",
       "      <th></th>\n",
       "      <th>Store</th>\n",
       "      <th>CompetitionOpenSinceMonth</th>\n",
       "      <th>CompetitionOpenSinceYear</th>\n",
       "      <th>Promo2</th>\n",
       "      <th>Promo2SinceWeek</th>\n",
       "      <th>Promo2SinceYear</th>\n",
       "      <th>PromoInterval</th>\n",
       "      <th>StoreType_a</th>\n",
       "      <th>StoreType_b</th>\n",
       "      <th>StoreType_c</th>\n",
       "      <th>StoreType_d</th>\n",
       "      <th>Assortment_a</th>\n",
       "      <th>Assortment_b</th>\n",
       "      <th>Assortment_c</th>\n",
       "      <th>EncodedDistance</th>\n",
       "      <th>CompetitionMonthsFromStart</th>\n",
       "      <th>EncodedCompetitionMonthsFromStart</th>\n",
       "    </tr>\n",
       "  </thead>\n",
       "  <tbody>\n",
       "    <tr>\n",
       "      <th>0</th>\n",
       "      <td>1</td>\n",
       "      <td>9.0</td>\n",
       "      <td>2008.0</td>\n",
       "      <td>0</td>\n",
       "      <td>NaN</td>\n",
       "      <td>NaN</td>\n",
       "      <td>NaN</td>\n",
       "      <td>0</td>\n",
       "      <td>0</td>\n",
       "      <td>1</td>\n",
       "      <td>0</td>\n",
       "      <td>1</td>\n",
       "      <td>0</td>\n",
       "      <td>0</td>\n",
       "      <td>-0.321681</td>\n",
       "      <td>438.0</td>\n",
       "      <td>0.940159</td>\n",
       "    </tr>\n",
       "    <tr>\n",
       "      <th>1</th>\n",
       "      <td>2</td>\n",
       "      <td>11.0</td>\n",
       "      <td>2007.0</td>\n",
       "      <td>1</td>\n",
       "      <td>13.0</td>\n",
       "      <td>2010.0</td>\n",
       "      <td>Jan,Apr,Jul,Oct</td>\n",
       "      <td>1</td>\n",
       "      <td>0</td>\n",
       "      <td>0</td>\n",
       "      <td>0</td>\n",
       "      <td>1</td>\n",
       "      <td>0</td>\n",
       "      <td>0</td>\n",
       "      <td>-0.837582</td>\n",
       "      <td>428.0</td>\n",
       "      <td>0.932949</td>\n",
       "    </tr>\n",
       "    <tr>\n",
       "      <th>2</th>\n",
       "      <td>3</td>\n",
       "      <td>12.0</td>\n",
       "      <td>2006.0</td>\n",
       "      <td>1</td>\n",
       "      <td>14.0</td>\n",
       "      <td>2011.0</td>\n",
       "      <td>Jan,Apr,Jul,Oct</td>\n",
       "      <td>1</td>\n",
       "      <td>0</td>\n",
       "      <td>0</td>\n",
       "      <td>0</td>\n",
       "      <td>1</td>\n",
       "      <td>0</td>\n",
       "      <td>0</td>\n",
       "      <td>1.229804</td>\n",
       "      <td>417.0</td>\n",
       "      <td>0.925018</td>\n",
       "    </tr>\n",
       "    <tr>\n",
       "      <th>3</th>\n",
       "      <td>4</td>\n",
       "      <td>9.0</td>\n",
       "      <td>2009.0</td>\n",
       "      <td>0</td>\n",
       "      <td>NaN</td>\n",
       "      <td>NaN</td>\n",
       "      <td>NaN</td>\n",
       "      <td>0</td>\n",
       "      <td>0</td>\n",
       "      <td>1</td>\n",
       "      <td>0</td>\n",
       "      <td>0</td>\n",
       "      <td>0</td>\n",
       "      <td>1</td>\n",
       "      <td>-0.783436</td>\n",
       "      <td>450.0</td>\n",
       "      <td>0.948810</td>\n",
       "    </tr>\n",
       "    <tr>\n",
       "      <th>4</th>\n",
       "      <td>5</td>\n",
       "      <td>4.0</td>\n",
       "      <td>2015.0</td>\n",
       "      <td>0</td>\n",
       "      <td>NaN</td>\n",
       "      <td>NaN</td>\n",
       "      <td>NaN</td>\n",
       "      <td>1</td>\n",
       "      <td>0</td>\n",
       "      <td>0</td>\n",
       "      <td>0</td>\n",
       "      <td>1</td>\n",
       "      <td>0</td>\n",
       "      <td>0</td>\n",
       "      <td>1.712706</td>\n",
       "      <td>517.0</td>\n",
       "      <td>0.997116</td>\n",
       "    </tr>\n",
       "  </tbody>\n",
       "</table>\n",
       "</div>"
      ],
      "text/plain": [
       "   Store  CompetitionOpenSinceMonth  CompetitionOpenSinceYear  Promo2  \\\n",
       "0      1                        9.0                    2008.0       0   \n",
       "1      2                       11.0                    2007.0       1   \n",
       "2      3                       12.0                    2006.0       1   \n",
       "3      4                        9.0                    2009.0       0   \n",
       "4      5                        4.0                    2015.0       0   \n",
       "\n",
       "   Promo2SinceWeek  Promo2SinceYear    PromoInterval  StoreType_a  \\\n",
       "0              NaN              NaN              NaN            0   \n",
       "1             13.0           2010.0  Jan,Apr,Jul,Oct            1   \n",
       "2             14.0           2011.0  Jan,Apr,Jul,Oct            1   \n",
       "3              NaN              NaN              NaN            0   \n",
       "4              NaN              NaN              NaN            1   \n",
       "\n",
       "   StoreType_b  StoreType_c  StoreType_d  Assortment_a  Assortment_b  \\\n",
       "0            0            1            0             1             0   \n",
       "1            0            0            0             1             0   \n",
       "2            0            0            0             1             0   \n",
       "3            0            1            0             0             0   \n",
       "4            0            0            0             1             0   \n",
       "\n",
       "   Assortment_c  EncodedDistance  CompetitionMonthsFromStart  \\\n",
       "0             0        -0.321681                       438.0   \n",
       "1             0        -0.837582                       428.0   \n",
       "2             0         1.229804                       417.0   \n",
       "3             1        -0.783436                       450.0   \n",
       "4             0         1.712706                       517.0   \n",
       "\n",
       "   EncodedCompetitionMonthsFromStart  \n",
       "0                           0.940159  \n",
       "1                           0.932949  \n",
       "2                           0.925018  \n",
       "3                           0.948810  \n",
       "4                           0.997116  "
      ]
     },
     "execution_count": 192,
     "metadata": {},
     "output_type": "execute_result"
    }
   ],
   "source": [
    "min_max_scaler = MinMaxScaler()\n",
    "store['EncodedCompetitionMonthsFromStart'] = min_max_scaler.fit_transform(store[['CompetitionMonthsFromStart']]).flatten()\n",
    "store.head()"
   ]
  },
  {
   "cell_type": "code",
   "execution_count": 193,
   "id": "requested-insight",
   "metadata": {
    "ExecuteTime": {
     "end_time": "2021-11-24T18:03:21.147166Z",
     "start_time": "2021-11-24T18:03:21.074275Z"
    }
   },
   "outputs": [
    {
     "data": {
      "text/html": [
       "<div>\n",
       "<style scoped>\n",
       "    .dataframe tbody tr th:only-of-type {\n",
       "        vertical-align: middle;\n",
       "    }\n",
       "\n",
       "    .dataframe tbody tr th {\n",
       "        vertical-align: top;\n",
       "    }\n",
       "\n",
       "    .dataframe thead th {\n",
       "        text-align: right;\n",
       "    }\n",
       "</style>\n",
       "<table border=\"1\" class=\"dataframe\">\n",
       "  <thead>\n",
       "    <tr style=\"text-align: right;\">\n",
       "      <th></th>\n",
       "      <th>Store</th>\n",
       "      <th>Promo2</th>\n",
       "      <th>Promo2SinceWeek</th>\n",
       "      <th>Promo2SinceYear</th>\n",
       "      <th>PromoInterval</th>\n",
       "      <th>StoreType_a</th>\n",
       "      <th>StoreType_b</th>\n",
       "      <th>StoreType_c</th>\n",
       "      <th>StoreType_d</th>\n",
       "      <th>Assortment_a</th>\n",
       "      <th>Assortment_b</th>\n",
       "      <th>Assortment_c</th>\n",
       "      <th>EncodedDistance</th>\n",
       "      <th>EncodedCompetitionMonthsFromStart</th>\n",
       "    </tr>\n",
       "  </thead>\n",
       "  <tbody>\n",
       "    <tr>\n",
       "      <th>0</th>\n",
       "      <td>1</td>\n",
       "      <td>0</td>\n",
       "      <td>NaN</td>\n",
       "      <td>NaN</td>\n",
       "      <td>NaN</td>\n",
       "      <td>0</td>\n",
       "      <td>0</td>\n",
       "      <td>1</td>\n",
       "      <td>0</td>\n",
       "      <td>1</td>\n",
       "      <td>0</td>\n",
       "      <td>0</td>\n",
       "      <td>-0.321681</td>\n",
       "      <td>0.940159</td>\n",
       "    </tr>\n",
       "    <tr>\n",
       "      <th>1</th>\n",
       "      <td>2</td>\n",
       "      <td>1</td>\n",
       "      <td>13.0</td>\n",
       "      <td>2010.0</td>\n",
       "      <td>Jan,Apr,Jul,Oct</td>\n",
       "      <td>1</td>\n",
       "      <td>0</td>\n",
       "      <td>0</td>\n",
       "      <td>0</td>\n",
       "      <td>1</td>\n",
       "      <td>0</td>\n",
       "      <td>0</td>\n",
       "      <td>-0.837582</td>\n",
       "      <td>0.932949</td>\n",
       "    </tr>\n",
       "    <tr>\n",
       "      <th>2</th>\n",
       "      <td>3</td>\n",
       "      <td>1</td>\n",
       "      <td>14.0</td>\n",
       "      <td>2011.0</td>\n",
       "      <td>Jan,Apr,Jul,Oct</td>\n",
       "      <td>1</td>\n",
       "      <td>0</td>\n",
       "      <td>0</td>\n",
       "      <td>0</td>\n",
       "      <td>1</td>\n",
       "      <td>0</td>\n",
       "      <td>0</td>\n",
       "      <td>1.229804</td>\n",
       "      <td>0.925018</td>\n",
       "    </tr>\n",
       "    <tr>\n",
       "      <th>3</th>\n",
       "      <td>4</td>\n",
       "      <td>0</td>\n",
       "      <td>NaN</td>\n",
       "      <td>NaN</td>\n",
       "      <td>NaN</td>\n",
       "      <td>0</td>\n",
       "      <td>0</td>\n",
       "      <td>1</td>\n",
       "      <td>0</td>\n",
       "      <td>0</td>\n",
       "      <td>0</td>\n",
       "      <td>1</td>\n",
       "      <td>-0.783436</td>\n",
       "      <td>0.948810</td>\n",
       "    </tr>\n",
       "    <tr>\n",
       "      <th>4</th>\n",
       "      <td>5</td>\n",
       "      <td>0</td>\n",
       "      <td>NaN</td>\n",
       "      <td>NaN</td>\n",
       "      <td>NaN</td>\n",
       "      <td>1</td>\n",
       "      <td>0</td>\n",
       "      <td>0</td>\n",
       "      <td>0</td>\n",
       "      <td>1</td>\n",
       "      <td>0</td>\n",
       "      <td>0</td>\n",
       "      <td>1.712706</td>\n",
       "      <td>0.997116</td>\n",
       "    </tr>\n",
       "  </tbody>\n",
       "</table>\n",
       "</div>"
      ],
      "text/plain": [
       "   Store  Promo2  Promo2SinceWeek  Promo2SinceYear    PromoInterval  \\\n",
       "0      1       0              NaN              NaN              NaN   \n",
       "1      2       1             13.0           2010.0  Jan,Apr,Jul,Oct   \n",
       "2      3       1             14.0           2011.0  Jan,Apr,Jul,Oct   \n",
       "3      4       0              NaN              NaN              NaN   \n",
       "4      5       0              NaN              NaN              NaN   \n",
       "\n",
       "   StoreType_a  StoreType_b  StoreType_c  StoreType_d  Assortment_a  \\\n",
       "0            0            0            1            0             1   \n",
       "1            1            0            0            0             1   \n",
       "2            1            0            0            0             1   \n",
       "3            0            0            1            0             0   \n",
       "4            1            0            0            0             1   \n",
       "\n",
       "   Assortment_b  Assortment_c  EncodedDistance  \\\n",
       "0             0             0        -0.321681   \n",
       "1             0             0        -0.837582   \n",
       "2             0             0         1.229804   \n",
       "3             0             1        -0.783436   \n",
       "4             0             0         1.712706   \n",
       "\n",
       "   EncodedCompetitionMonthsFromStart  \n",
       "0                           0.940159  \n",
       "1                           0.932949  \n",
       "2                           0.925018  \n",
       "3                           0.948810  \n",
       "4                           0.997116  "
      ]
     },
     "execution_count": 193,
     "metadata": {},
     "output_type": "execute_result"
    }
   ],
   "source": [
    "store.drop(\n",
    "    columns=['CompetitionOpenSinceMonth', 'CompetitionOpenSinceYear', 'CompetitionMonthsFromStart'],\n",
    "    inplace=True)\n",
    "store.head()"
   ]
  },
  {
   "cell_type": "markdown",
   "id": "lovely-philippines",
   "metadata": {},
   "source": [
    "Now let's combine features **Promo2SinceWeek** and **Promo2SinceYear** by the same way. Fill missing values with outliers. As the year ranges from 2009 to 2015 define the outlier for year as 1900. The \"outlier\" for week is 1. Also fill the missing values of **PromoInterval** feature with an empty string. It will be other category."
   ]
  },
  {
   "cell_type": "code",
   "execution_count": 194,
   "id": "middle-coral",
   "metadata": {
    "ExecuteTime": {
     "end_time": "2021-11-24T18:03:21.226031Z",
     "start_time": "2021-11-24T18:03:21.155144Z"
    }
   },
   "outputs": [
    {
     "data": {
      "text/html": [
       "<div>\n",
       "<style scoped>\n",
       "    .dataframe tbody tr th:only-of-type {\n",
       "        vertical-align: middle;\n",
       "    }\n",
       "\n",
       "    .dataframe tbody tr th {\n",
       "        vertical-align: top;\n",
       "    }\n",
       "\n",
       "    .dataframe thead th {\n",
       "        text-align: right;\n",
       "    }\n",
       "</style>\n",
       "<table border=\"1\" class=\"dataframe\">\n",
       "  <thead>\n",
       "    <tr style=\"text-align: right;\">\n",
       "      <th></th>\n",
       "      <th>Store</th>\n",
       "      <th>Promo2</th>\n",
       "      <th>Promo2SinceWeek</th>\n",
       "      <th>Promo2SinceYear</th>\n",
       "      <th>PromoInterval</th>\n",
       "      <th>StoreType_a</th>\n",
       "      <th>StoreType_b</th>\n",
       "      <th>StoreType_c</th>\n",
       "      <th>StoreType_d</th>\n",
       "      <th>Assortment_a</th>\n",
       "      <th>Assortment_b</th>\n",
       "      <th>Assortment_c</th>\n",
       "      <th>EncodedDistance</th>\n",
       "      <th>EncodedCompetitionMonthsFromStart</th>\n",
       "    </tr>\n",
       "  </thead>\n",
       "  <tbody>\n",
       "    <tr>\n",
       "      <th>0</th>\n",
       "      <td>1</td>\n",
       "      <td>0</td>\n",
       "      <td>1.0</td>\n",
       "      <td>1900.0</td>\n",
       "      <td></td>\n",
       "      <td>0</td>\n",
       "      <td>0</td>\n",
       "      <td>1</td>\n",
       "      <td>0</td>\n",
       "      <td>1</td>\n",
       "      <td>0</td>\n",
       "      <td>0</td>\n",
       "      <td>-0.321681</td>\n",
       "      <td>0.940159</td>\n",
       "    </tr>\n",
       "    <tr>\n",
       "      <th>1</th>\n",
       "      <td>2</td>\n",
       "      <td>1</td>\n",
       "      <td>13.0</td>\n",
       "      <td>2010.0</td>\n",
       "      <td>Jan,Apr,Jul,Oct</td>\n",
       "      <td>1</td>\n",
       "      <td>0</td>\n",
       "      <td>0</td>\n",
       "      <td>0</td>\n",
       "      <td>1</td>\n",
       "      <td>0</td>\n",
       "      <td>0</td>\n",
       "      <td>-0.837582</td>\n",
       "      <td>0.932949</td>\n",
       "    </tr>\n",
       "    <tr>\n",
       "      <th>2</th>\n",
       "      <td>3</td>\n",
       "      <td>1</td>\n",
       "      <td>14.0</td>\n",
       "      <td>2011.0</td>\n",
       "      <td>Jan,Apr,Jul,Oct</td>\n",
       "      <td>1</td>\n",
       "      <td>0</td>\n",
       "      <td>0</td>\n",
       "      <td>0</td>\n",
       "      <td>1</td>\n",
       "      <td>0</td>\n",
       "      <td>0</td>\n",
       "      <td>1.229804</td>\n",
       "      <td>0.925018</td>\n",
       "    </tr>\n",
       "    <tr>\n",
       "      <th>3</th>\n",
       "      <td>4</td>\n",
       "      <td>0</td>\n",
       "      <td>1.0</td>\n",
       "      <td>1900.0</td>\n",
       "      <td></td>\n",
       "      <td>0</td>\n",
       "      <td>0</td>\n",
       "      <td>1</td>\n",
       "      <td>0</td>\n",
       "      <td>0</td>\n",
       "      <td>0</td>\n",
       "      <td>1</td>\n",
       "      <td>-0.783436</td>\n",
       "      <td>0.948810</td>\n",
       "    </tr>\n",
       "    <tr>\n",
       "      <th>4</th>\n",
       "      <td>5</td>\n",
       "      <td>0</td>\n",
       "      <td>1.0</td>\n",
       "      <td>1900.0</td>\n",
       "      <td></td>\n",
       "      <td>1</td>\n",
       "      <td>0</td>\n",
       "      <td>0</td>\n",
       "      <td>0</td>\n",
       "      <td>1</td>\n",
       "      <td>0</td>\n",
       "      <td>0</td>\n",
       "      <td>1.712706</td>\n",
       "      <td>0.997116</td>\n",
       "    </tr>\n",
       "  </tbody>\n",
       "</table>\n",
       "</div>"
      ],
      "text/plain": [
       "   Store  Promo2  Promo2SinceWeek  Promo2SinceYear    PromoInterval  \\\n",
       "0      1       0              1.0           1900.0                    \n",
       "1      2       1             13.0           2010.0  Jan,Apr,Jul,Oct   \n",
       "2      3       1             14.0           2011.0  Jan,Apr,Jul,Oct   \n",
       "3      4       0              1.0           1900.0                    \n",
       "4      5       0              1.0           1900.0                    \n",
       "\n",
       "   StoreType_a  StoreType_b  StoreType_c  StoreType_d  Assortment_a  \\\n",
       "0            0            0            1            0             1   \n",
       "1            1            0            0            0             1   \n",
       "2            1            0            0            0             1   \n",
       "3            0            0            1            0             0   \n",
       "4            1            0            0            0             1   \n",
       "\n",
       "   Assortment_b  Assortment_c  EncodedDistance  \\\n",
       "0             0             0        -0.321681   \n",
       "1             0             0        -0.837582   \n",
       "2             0             0         1.229804   \n",
       "3             0             1        -0.783436   \n",
       "4             0             0         1.712706   \n",
       "\n",
       "   EncodedCompetitionMonthsFromStart  \n",
       "0                           0.940159  \n",
       "1                           0.932949  \n",
       "2                           0.925018  \n",
       "3                           0.948810  \n",
       "4                           0.997116  "
      ]
     },
     "execution_count": 194,
     "metadata": {},
     "output_type": "execute_result"
    }
   ],
   "source": [
    "store.Promo2SinceWeek = store.Promo2SinceWeek.fillna(1)\n",
    "store.Promo2SinceYear = store.Promo2SinceYear.fillna(1900)\n",
    "store.PromoInterval = store.PromoInterval.fillna('')\n",
    "store.head()"
   ]
  },
  {
   "cell_type": "markdown",
   "id": "deluxe-bradley",
   "metadata": {},
   "source": [
    "Then calculate the ordered number of week when the store started to be participated in Promo2 assuming that a year contains 52 weeks."
   ]
  },
  {
   "cell_type": "code",
   "execution_count": 195,
   "id": "romance-handy",
   "metadata": {
    "ExecuteTime": {
     "end_time": "2021-11-24T18:03:21.304907Z",
     "start_time": "2021-11-24T18:03:21.234022Z"
    },
    "scrolled": true
   },
   "outputs": [
    {
     "data": {
      "text/html": [
       "<div>\n",
       "<style scoped>\n",
       "    .dataframe tbody tr th:only-of-type {\n",
       "        vertical-align: middle;\n",
       "    }\n",
       "\n",
       "    .dataframe tbody tr th {\n",
       "        vertical-align: top;\n",
       "    }\n",
       "\n",
       "    .dataframe thead th {\n",
       "        text-align: right;\n",
       "    }\n",
       "</style>\n",
       "<table border=\"1\" class=\"dataframe\">\n",
       "  <thead>\n",
       "    <tr style=\"text-align: right;\">\n",
       "      <th></th>\n",
       "      <th>Store</th>\n",
       "      <th>Promo2</th>\n",
       "      <th>Promo2SinceWeek</th>\n",
       "      <th>Promo2SinceYear</th>\n",
       "      <th>PromoInterval</th>\n",
       "      <th>StoreType_a</th>\n",
       "      <th>StoreType_b</th>\n",
       "      <th>StoreType_c</th>\n",
       "      <th>StoreType_d</th>\n",
       "      <th>Assortment_a</th>\n",
       "      <th>Assortment_b</th>\n",
       "      <th>Assortment_c</th>\n",
       "      <th>EncodedDistance</th>\n",
       "      <th>EncodedCompetitionMonthsFromStart</th>\n",
       "      <th>Promo2WeeksFromStart</th>\n",
       "    </tr>\n",
       "  </thead>\n",
       "  <tbody>\n",
       "    <tr>\n",
       "      <th>0</th>\n",
       "      <td>1</td>\n",
       "      <td>0</td>\n",
       "      <td>1.0</td>\n",
       "      <td>1900.0</td>\n",
       "      <td></td>\n",
       "      <td>0</td>\n",
       "      <td>0</td>\n",
       "      <td>1</td>\n",
       "      <td>0</td>\n",
       "      <td>1</td>\n",
       "      <td>0</td>\n",
       "      <td>0</td>\n",
       "      <td>-0.321681</td>\n",
       "      <td>0.940159</td>\n",
       "      <td>-5668.0</td>\n",
       "    </tr>\n",
       "    <tr>\n",
       "      <th>1</th>\n",
       "      <td>2</td>\n",
       "      <td>1</td>\n",
       "      <td>13.0</td>\n",
       "      <td>2010.0</td>\n",
       "      <td>Jan,Apr,Jul,Oct</td>\n",
       "      <td>1</td>\n",
       "      <td>0</td>\n",
       "      <td>0</td>\n",
       "      <td>0</td>\n",
       "      <td>1</td>\n",
       "      <td>0</td>\n",
       "      <td>0</td>\n",
       "      <td>-0.837582</td>\n",
       "      <td>0.932949</td>\n",
       "      <td>64.0</td>\n",
       "    </tr>\n",
       "    <tr>\n",
       "      <th>2</th>\n",
       "      <td>3</td>\n",
       "      <td>1</td>\n",
       "      <td>14.0</td>\n",
       "      <td>2011.0</td>\n",
       "      <td>Jan,Apr,Jul,Oct</td>\n",
       "      <td>1</td>\n",
       "      <td>0</td>\n",
       "      <td>0</td>\n",
       "      <td>0</td>\n",
       "      <td>1</td>\n",
       "      <td>0</td>\n",
       "      <td>0</td>\n",
       "      <td>1.229804</td>\n",
       "      <td>0.925018</td>\n",
       "      <td>117.0</td>\n",
       "    </tr>\n",
       "    <tr>\n",
       "      <th>3</th>\n",
       "      <td>4</td>\n",
       "      <td>0</td>\n",
       "      <td>1.0</td>\n",
       "      <td>1900.0</td>\n",
       "      <td></td>\n",
       "      <td>0</td>\n",
       "      <td>0</td>\n",
       "      <td>1</td>\n",
       "      <td>0</td>\n",
       "      <td>0</td>\n",
       "      <td>0</td>\n",
       "      <td>1</td>\n",
       "      <td>-0.783436</td>\n",
       "      <td>0.948810</td>\n",
       "      <td>-5668.0</td>\n",
       "    </tr>\n",
       "    <tr>\n",
       "      <th>4</th>\n",
       "      <td>5</td>\n",
       "      <td>0</td>\n",
       "      <td>1.0</td>\n",
       "      <td>1900.0</td>\n",
       "      <td></td>\n",
       "      <td>1</td>\n",
       "      <td>0</td>\n",
       "      <td>0</td>\n",
       "      <td>0</td>\n",
       "      <td>1</td>\n",
       "      <td>0</td>\n",
       "      <td>0</td>\n",
       "      <td>1.712706</td>\n",
       "      <td>0.997116</td>\n",
       "      <td>-5668.0</td>\n",
       "    </tr>\n",
       "  </tbody>\n",
       "</table>\n",
       "</div>"
      ],
      "text/plain": [
       "   Store  Promo2  Promo2SinceWeek  Promo2SinceYear    PromoInterval  \\\n",
       "0      1       0              1.0           1900.0                    \n",
       "1      2       1             13.0           2010.0  Jan,Apr,Jul,Oct   \n",
       "2      3       1             14.0           2011.0  Jan,Apr,Jul,Oct   \n",
       "3      4       0              1.0           1900.0                    \n",
       "4      5       0              1.0           1900.0                    \n",
       "\n",
       "   StoreType_a  StoreType_b  StoreType_c  StoreType_d  Assortment_a  \\\n",
       "0            0            0            1            0             1   \n",
       "1            1            0            0            0             1   \n",
       "2            1            0            0            0             1   \n",
       "3            0            0            1            0             0   \n",
       "4            1            0            0            0             1   \n",
       "\n",
       "   Assortment_b  Assortment_c  EncodedDistance  \\\n",
       "0             0             0        -0.321681   \n",
       "1             0             0        -0.837582   \n",
       "2             0             0         1.229804   \n",
       "3             0             1        -0.783436   \n",
       "4             0             0         1.712706   \n",
       "\n",
       "   EncodedCompetitionMonthsFromStart  Promo2WeeksFromStart  \n",
       "0                           0.940159               -5668.0  \n",
       "1                           0.932949                  64.0  \n",
       "2                           0.925018                 117.0  \n",
       "3                           0.948810               -5668.0  \n",
       "4                           0.997116               -5668.0  "
      ]
     },
     "execution_count": 195,
     "metadata": {},
     "output_type": "execute_result"
    }
   ],
   "source": [
    "store['Promo2WeeksFromStart'] = (store.Promo2SinceYear - 2009) * 52 + (store.Promo2SinceWeek - 1)\n",
    "store.head()"
   ]
  },
  {
   "cell_type": "markdown",
   "id": "recreational-qualification",
   "metadata": {},
   "source": [
    "The distribution of the new feature."
   ]
  },
  {
   "cell_type": "code",
   "execution_count": 196,
   "id": "virtual-island",
   "metadata": {
    "ExecuteTime": {
     "end_time": "2021-11-24T18:03:22.665772Z",
     "start_time": "2021-11-24T18:03:21.312898Z"
    }
   },
   "outputs": [
    {
     "data": {
      "image/png": "[encoded data removed]",
      "text/plain": [
       "<Figure size 720x432 with 1 Axes>"
      ]
     },
     "metadata": {
      "needs_background": "light"
     },
     "output_type": "display_data"
    }
   ],
   "source": [
    "hist(store, 'Promo2WeeksFromStart', bins=120)"
   ]
  },
  {
   "cell_type": "markdown",
   "id": "royal-lewis",
   "metadata": {},
   "source": [
    "Normalize it."
   ]
  },
  {
   "cell_type": "code",
   "execution_count": 197,
   "id": "olive-colors",
   "metadata": {
    "ExecuteTime": {
     "end_time": "2021-11-24T18:03:22.776599Z",
     "start_time": "2021-11-24T18:03:22.679755Z"
    }
   },
   "outputs": [
    {
     "data": {
      "text/html": [
       "<div>\n",
       "<style scoped>\n",
       "    .dataframe tbody tr th:only-of-type {\n",
       "        vertical-align: middle;\n",
       "    }\n",
       "\n",
       "    .dataframe tbody tr th {\n",
       "        vertical-align: top;\n",
       "    }\n",
       "\n",
       "    .dataframe thead th {\n",
       "        text-align: right;\n",
       "    }\n",
       "</style>\n",
       "<table border=\"1\" class=\"dataframe\">\n",
       "  <thead>\n",
       "    <tr style=\"text-align: right;\">\n",
       "      <th></th>\n",
       "      <th>Store</th>\n",
       "      <th>Promo2</th>\n",
       "      <th>Promo2SinceWeek</th>\n",
       "      <th>Promo2SinceYear</th>\n",
       "      <th>PromoInterval</th>\n",
       "      <th>StoreType_a</th>\n",
       "      <th>StoreType_b</th>\n",
       "      <th>StoreType_c</th>\n",
       "      <th>StoreType_d</th>\n",
       "      <th>Assortment_a</th>\n",
       "      <th>Assortment_b</th>\n",
       "      <th>Assortment_c</th>\n",
       "      <th>EncodedDistance</th>\n",
       "      <th>EncodedCompetitionMonthsFromStart</th>\n",
       "      <th>Promo2WeeksFromStart</th>\n",
       "      <th>EncodedPromo2WeeksFromStart</th>\n",
       "    </tr>\n",
       "  </thead>\n",
       "  <tbody>\n",
       "    <tr>\n",
       "      <th>0</th>\n",
       "      <td>1</td>\n",
       "      <td>0</td>\n",
       "      <td>1.0</td>\n",
       "      <td>1900.0</td>\n",
       "      <td></td>\n",
       "      <td>0</td>\n",
       "      <td>0</td>\n",
       "      <td>1</td>\n",
       "      <td>0</td>\n",
       "      <td>1</td>\n",
       "      <td>0</td>\n",
       "      <td>0</td>\n",
       "      <td>-0.321681</td>\n",
       "      <td>0.940159</td>\n",
       "      <td>-5668.0</td>\n",
       "      <td>0.000000</td>\n",
       "    </tr>\n",
       "    <tr>\n",
       "      <th>1</th>\n",
       "      <td>2</td>\n",
       "      <td>1</td>\n",
       "      <td>13.0</td>\n",
       "      <td>2010.0</td>\n",
       "      <td>Jan,Apr,Jul,Oct</td>\n",
       "      <td>1</td>\n",
       "      <td>0</td>\n",
       "      <td>0</td>\n",
       "      <td>0</td>\n",
       "      <td>1</td>\n",
       "      <td>0</td>\n",
       "      <td>0</td>\n",
       "      <td>-0.837582</td>\n",
       "      <td>0.932949</td>\n",
       "      <td>64.0</td>\n",
       "      <td>0.955015</td>\n",
       "    </tr>\n",
       "    <tr>\n",
       "      <th>2</th>\n",
       "      <td>3</td>\n",
       "      <td>1</td>\n",
       "      <td>14.0</td>\n",
       "      <td>2011.0</td>\n",
       "      <td>Jan,Apr,Jul,Oct</td>\n",
       "      <td>1</td>\n",
       "      <td>0</td>\n",
       "      <td>0</td>\n",
       "      <td>0</td>\n",
       "      <td>1</td>\n",
       "      <td>0</td>\n",
       "      <td>0</td>\n",
       "      <td>1.229804</td>\n",
       "      <td>0.925018</td>\n",
       "      <td>117.0</td>\n",
       "      <td>0.963845</td>\n",
       "    </tr>\n",
       "    <tr>\n",
       "      <th>3</th>\n",
       "      <td>4</td>\n",
       "      <td>0</td>\n",
       "      <td>1.0</td>\n",
       "      <td>1900.0</td>\n",
       "      <td></td>\n",
       "      <td>0</td>\n",
       "      <td>0</td>\n",
       "      <td>1</td>\n",
       "      <td>0</td>\n",
       "      <td>0</td>\n",
       "      <td>0</td>\n",
       "      <td>1</td>\n",
       "      <td>-0.783436</td>\n",
       "      <td>0.948810</td>\n",
       "      <td>-5668.0</td>\n",
       "      <td>0.000000</td>\n",
       "    </tr>\n",
       "    <tr>\n",
       "      <th>4</th>\n",
       "      <td>5</td>\n",
       "      <td>0</td>\n",
       "      <td>1.0</td>\n",
       "      <td>1900.0</td>\n",
       "      <td></td>\n",
       "      <td>1</td>\n",
       "      <td>0</td>\n",
       "      <td>0</td>\n",
       "      <td>0</td>\n",
       "      <td>1</td>\n",
       "      <td>0</td>\n",
       "      <td>0</td>\n",
       "      <td>1.712706</td>\n",
       "      <td>0.997116</td>\n",
       "      <td>-5668.0</td>\n",
       "      <td>0.000000</td>\n",
       "    </tr>\n",
       "  </tbody>\n",
       "</table>\n",
       "</div>"
      ],
      "text/plain": [
       "   Store  Promo2  Promo2SinceWeek  Promo2SinceYear    PromoInterval  \\\n",
       "0      1       0              1.0           1900.0                    \n",
       "1      2       1             13.0           2010.0  Jan,Apr,Jul,Oct   \n",
       "2      3       1             14.0           2011.0  Jan,Apr,Jul,Oct   \n",
       "3      4       0              1.0           1900.0                    \n",
       "4      5       0              1.0           1900.0                    \n",
       "\n",
       "   StoreType_a  StoreType_b  StoreType_c  StoreType_d  Assortment_a  \\\n",
       "0            0            0            1            0             1   \n",
       "1            1            0            0            0             1   \n",
       "2            1            0            0            0             1   \n",
       "3            0            0            1            0             0   \n",
       "4            1            0            0            0             1   \n",
       "\n",
       "   Assortment_b  Assortment_c  EncodedDistance  \\\n",
       "0             0             0        -0.321681   \n",
       "1             0             0        -0.837582   \n",
       "2             0             0         1.229804   \n",
       "3             0             1        -0.783436   \n",
       "4             0             0         1.712706   \n",
       "\n",
       "   EncodedCompetitionMonthsFromStart  Promo2WeeksFromStart  \\\n",
       "0                           0.940159               -5668.0   \n",
       "1                           0.932949                  64.0   \n",
       "2                           0.925018                 117.0   \n",
       "3                           0.948810               -5668.0   \n",
       "4                           0.997116               -5668.0   \n",
       "\n",
       "   EncodedPromo2WeeksFromStart  \n",
       "0                     0.000000  \n",
       "1                     0.955015  \n",
       "2                     0.963845  \n",
       "3                     0.000000  \n",
       "4                     0.000000  "
      ]
     },
     "execution_count": 197,
     "metadata": {},
     "output_type": "execute_result"
    }
   ],
   "source": [
    "min_max_scaler = MinMaxScaler()\n",
    "store['EncodedPromo2WeeksFromStart'] = min_max_scaler.fit_transform(store[['Promo2WeeksFromStart']]).flatten()\n",
    "store.head()"
   ]
  },
  {
   "cell_type": "markdown",
   "id": "cosmetic-application",
   "metadata": {},
   "source": [
    "Finally encode the **PromoInterval** feature using one-hot encoder."
   ]
  },
  {
   "cell_type": "code",
   "execution_count": 198,
   "id": "instructional-harassment",
   "metadata": {
    "ExecuteTime": {
     "end_time": "2021-11-24T18:03:22.808547Z",
     "start_time": "2021-11-24T18:03:22.784587Z"
    }
   },
   "outputs": [
    {
     "data": {
      "text/plain": [
       "array(['', 'Jan,Apr,Jul,Oct', 'Feb,May,Aug,Nov', 'Mar,Jun,Sept,Dec'],\n",
       "      dtype=object)"
      ]
     },
     "execution_count": 198,
     "metadata": {},
     "output_type": "execute_result"
    }
   ],
   "source": [
    "store.PromoInterval.unique()"
   ]
  },
  {
   "cell_type": "code",
   "execution_count": 199,
   "id": "touched-distributor",
   "metadata": {
    "ExecuteTime": {
     "end_time": "2021-11-24T18:03:22.935348Z",
     "start_time": "2021-11-24T18:03:22.817544Z"
    }
   },
   "outputs": [
    {
     "data": {
      "text/html": [
       "<div>\n",
       "<style scoped>\n",
       "    .dataframe tbody tr th:only-of-type {\n",
       "        vertical-align: middle;\n",
       "    }\n",
       "\n",
       "    .dataframe tbody tr th {\n",
       "        vertical-align: top;\n",
       "    }\n",
       "\n",
       "    .dataframe thead th {\n",
       "        text-align: right;\n",
       "    }\n",
       "</style>\n",
       "<table border=\"1\" class=\"dataframe\">\n",
       "  <thead>\n",
       "    <tr style=\"text-align: right;\">\n",
       "      <th></th>\n",
       "      <th>Store</th>\n",
       "      <th>Promo2</th>\n",
       "      <th>Promo2SinceWeek</th>\n",
       "      <th>Promo2SinceYear</th>\n",
       "      <th>PromoInterval</th>\n",
       "      <th>StoreType_a</th>\n",
       "      <th>StoreType_b</th>\n",
       "      <th>StoreType_c</th>\n",
       "      <th>StoreType_d</th>\n",
       "      <th>Assortment_a</th>\n",
       "      <th>Assortment_b</th>\n",
       "      <th>Assortment_c</th>\n",
       "      <th>EncodedDistance</th>\n",
       "      <th>EncodedCompetitionMonthsFromStart</th>\n",
       "      <th>Promo2WeeksFromStart</th>\n",
       "      <th>EncodedPromo2WeeksFromStart</th>\n",
       "      <th>PromoInterval_</th>\n",
       "      <th>PromoInterval_Jan,Apr,Jul,Oct</th>\n",
       "      <th>PromoInterval_Feb,May,Aug,Nov</th>\n",
       "      <th>PromoInterval_Mar,Jun,Sept,Dec</th>\n",
       "    </tr>\n",
       "  </thead>\n",
       "  <tbody>\n",
       "    <tr>\n",
       "      <th>0</th>\n",
       "      <td>1</td>\n",
       "      <td>0</td>\n",
       "      <td>1.0</td>\n",
       "      <td>1900.0</td>\n",
       "      <td></td>\n",
       "      <td>0</td>\n",
       "      <td>0</td>\n",
       "      <td>1</td>\n",
       "      <td>0</td>\n",
       "      <td>1</td>\n",
       "      <td>0</td>\n",
       "      <td>0</td>\n",
       "      <td>-0.321681</td>\n",
       "      <td>0.940159</td>\n",
       "      <td>-5668.0</td>\n",
       "      <td>0.000000</td>\n",
       "      <td>1</td>\n",
       "      <td>0</td>\n",
       "      <td>0</td>\n",
       "      <td>0</td>\n",
       "    </tr>\n",
       "    <tr>\n",
       "      <th>1</th>\n",
       "      <td>2</td>\n",
       "      <td>1</td>\n",
       "      <td>13.0</td>\n",
       "      <td>2010.0</td>\n",
       "      <td>Jan,Apr,Jul,Oct</td>\n",
       "      <td>1</td>\n",
       "      <td>0</td>\n",
       "      <td>0</td>\n",
       "      <td>0</td>\n",
       "      <td>1</td>\n",
       "      <td>0</td>\n",
       "      <td>0</td>\n",
       "      <td>-0.837582</td>\n",
       "      <td>0.932949</td>\n",
       "      <td>64.0</td>\n",
       "      <td>0.955015</td>\n",
       "      <td>0</td>\n",
       "      <td>1</td>\n",
       "      <td>0</td>\n",
       "      <td>0</td>\n",
       "    </tr>\n",
       "    <tr>\n",
       "      <th>2</th>\n",
       "      <td>3</td>\n",
       "      <td>1</td>\n",
       "      <td>14.0</td>\n",
       "      <td>2011.0</td>\n",
       "      <td>Jan,Apr,Jul,Oct</td>\n",
       "      <td>1</td>\n",
       "      <td>0</td>\n",
       "      <td>0</td>\n",
       "      <td>0</td>\n",
       "      <td>1</td>\n",
       "      <td>0</td>\n",
       "      <td>0</td>\n",
       "      <td>1.229804</td>\n",
       "      <td>0.925018</td>\n",
       "      <td>117.0</td>\n",
       "      <td>0.963845</td>\n",
       "      <td>0</td>\n",
       "      <td>1</td>\n",
       "      <td>0</td>\n",
       "      <td>0</td>\n",
       "    </tr>\n",
       "    <tr>\n",
       "      <th>3</th>\n",
       "      <td>4</td>\n",
       "      <td>0</td>\n",
       "      <td>1.0</td>\n",
       "      <td>1900.0</td>\n",
       "      <td></td>\n",
       "      <td>0</td>\n",
       "      <td>0</td>\n",
       "      <td>1</td>\n",
       "      <td>0</td>\n",
       "      <td>0</td>\n",
       "      <td>0</td>\n",
       "      <td>1</td>\n",
       "      <td>-0.783436</td>\n",
       "      <td>0.948810</td>\n",
       "      <td>-5668.0</td>\n",
       "      <td>0.000000</td>\n",
       "      <td>1</td>\n",
       "      <td>0</td>\n",
       "      <td>0</td>\n",
       "      <td>0</td>\n",
       "    </tr>\n",
       "    <tr>\n",
       "      <th>4</th>\n",
       "      <td>5</td>\n",
       "      <td>0</td>\n",
       "      <td>1.0</td>\n",
       "      <td>1900.0</td>\n",
       "      <td></td>\n",
       "      <td>1</td>\n",
       "      <td>0</td>\n",
       "      <td>0</td>\n",
       "      <td>0</td>\n",
       "      <td>1</td>\n",
       "      <td>0</td>\n",
       "      <td>0</td>\n",
       "      <td>1.712706</td>\n",
       "      <td>0.997116</td>\n",
       "      <td>-5668.0</td>\n",
       "      <td>0.000000</td>\n",
       "      <td>1</td>\n",
       "      <td>0</td>\n",
       "      <td>0</td>\n",
       "      <td>0</td>\n",
       "    </tr>\n",
       "  </tbody>\n",
       "</table>\n",
       "</div>"
      ],
      "text/plain": [
       "   Store  Promo2  Promo2SinceWeek  Promo2SinceYear    PromoInterval  \\\n",
       "0      1       0              1.0           1900.0                    \n",
       "1      2       1             13.0           2010.0  Jan,Apr,Jul,Oct   \n",
       "2      3       1             14.0           2011.0  Jan,Apr,Jul,Oct   \n",
       "3      4       0              1.0           1900.0                    \n",
       "4      5       0              1.0           1900.0                    \n",
       "\n",
       "   StoreType_a  StoreType_b  StoreType_c  StoreType_d  Assortment_a  \\\n",
       "0            0            0            1            0             1   \n",
       "1            1            0            0            0             1   \n",
       "2            1            0            0            0             1   \n",
       "3            0            0            1            0             0   \n",
       "4            1            0            0            0             1   \n",
       "\n",
       "   Assortment_b  Assortment_c  EncodedDistance  \\\n",
       "0             0             0        -0.321681   \n",
       "1             0             0        -0.837582   \n",
       "2             0             0         1.229804   \n",
       "3             0             1        -0.783436   \n",
       "4             0             0         1.712706   \n",
       "\n",
       "   EncodedCompetitionMonthsFromStart  Promo2WeeksFromStart  \\\n",
       "0                           0.940159               -5668.0   \n",
       "1                           0.932949                  64.0   \n",
       "2                           0.925018                 117.0   \n",
       "3                           0.948810               -5668.0   \n",
       "4                           0.997116               -5668.0   \n",
       "\n",
       "   EncodedPromo2WeeksFromStart  PromoInterval_  PromoInterval_Jan,Apr,Jul,Oct  \\\n",
       "0                     0.000000               1                              0   \n",
       "1                     0.955015               0                              1   \n",
       "2                     0.963845               0                              1   \n",
       "3                     0.000000               1                              0   \n",
       "4                     0.000000               1                              0   \n",
       "\n",
       "   PromoInterval_Feb,May,Aug,Nov  PromoInterval_Mar,Jun,Sept,Dec  \n",
       "0                              0                               0  \n",
       "1                              0                               0  \n",
       "2                              0                               0  \n",
       "3                              0                               0  \n",
       "4                              0                               0  "
      ]
     },
     "execution_count": 199,
     "metadata": {},
     "output_type": "execute_result"
    }
   ],
   "source": [
    "promo_interval_cats = ['', 'Jan,Apr,Jul,Oct', 'Feb,May,Aug,Nov', 'Mar,Jun,Sept,Dec']\n",
    "encoder = OneHotEncoder(categories=[promo_interval_cats])\n",
    "encoded_promo_interval_cats = [f'PromoInterval_{cat}' for cat in promo_interval_cats]\n",
    "store[encoded_promo_interval_cats] = encoder.fit_transform(store[['PromoInterval']]).toarray()\n",
    "store = store.astype({cat: 'int8' for cat in encoded_promo_interval_cats})\n",
    "store.head()"
   ]
  },
  {
   "cell_type": "code",
   "execution_count": 200,
   "id": "determined-assist",
   "metadata": {
    "ExecuteTime": {
     "end_time": "2021-11-24T18:03:23.014225Z",
     "start_time": "2021-11-24T18:03:22.943339Z"
    }
   },
   "outputs": [
    {
     "data": {
      "text/html": [
       "<div>\n",
       "<style scoped>\n",
       "    .dataframe tbody tr th:only-of-type {\n",
       "        vertical-align: middle;\n",
       "    }\n",
       "\n",
       "    .dataframe tbody tr th {\n",
       "        vertical-align: top;\n",
       "    }\n",
       "\n",
       "    .dataframe thead th {\n",
       "        text-align: right;\n",
       "    }\n",
       "</style>\n",
       "<table border=\"1\" class=\"dataframe\">\n",
       "  <thead>\n",
       "    <tr style=\"text-align: right;\">\n",
       "      <th></th>\n",
       "      <th>Store</th>\n",
       "      <th>Promo2</th>\n",
       "      <th>StoreType_a</th>\n",
       "      <th>StoreType_b</th>\n",
       "      <th>StoreType_c</th>\n",
       "      <th>StoreType_d</th>\n",
       "      <th>Assortment_a</th>\n",
       "      <th>Assortment_b</th>\n",
       "      <th>Assortment_c</th>\n",
       "      <th>EncodedDistance</th>\n",
       "      <th>EncodedCompetitionMonthsFromStart</th>\n",
       "      <th>EncodedPromo2WeeksFromStart</th>\n",
       "      <th>PromoInterval_</th>\n",
       "      <th>PromoInterval_Jan,Apr,Jul,Oct</th>\n",
       "      <th>PromoInterval_Feb,May,Aug,Nov</th>\n",
       "      <th>PromoInterval_Mar,Jun,Sept,Dec</th>\n",
       "    </tr>\n",
       "  </thead>\n",
       "  <tbody>\n",
       "    <tr>\n",
       "      <th>0</th>\n",
       "      <td>1</td>\n",
       "      <td>0</td>\n",
       "      <td>0</td>\n",
       "      <td>0</td>\n",
       "      <td>1</td>\n",
       "      <td>0</td>\n",
       "      <td>1</td>\n",
       "      <td>0</td>\n",
       "      <td>0</td>\n",
       "      <td>-0.321681</td>\n",
       "      <td>0.940159</td>\n",
       "      <td>0.000000</td>\n",
       "      <td>1</td>\n",
       "      <td>0</td>\n",
       "      <td>0</td>\n",
       "      <td>0</td>\n",
       "    </tr>\n",
       "    <tr>\n",
       "      <th>1</th>\n",
       "      <td>2</td>\n",
       "      <td>1</td>\n",
       "      <td>1</td>\n",
       "      <td>0</td>\n",
       "      <td>0</td>\n",
       "      <td>0</td>\n",
       "      <td>1</td>\n",
       "      <td>0</td>\n",
       "      <td>0</td>\n",
       "      <td>-0.837582</td>\n",
       "      <td>0.932949</td>\n",
       "      <td>0.955015</td>\n",
       "      <td>0</td>\n",
       "      <td>1</td>\n",
       "      <td>0</td>\n",
       "      <td>0</td>\n",
       "    </tr>\n",
       "    <tr>\n",
       "      <th>2</th>\n",
       "      <td>3</td>\n",
       "      <td>1</td>\n",
       "      <td>1</td>\n",
       "      <td>0</td>\n",
       "      <td>0</td>\n",
       "      <td>0</td>\n",
       "      <td>1</td>\n",
       "      <td>0</td>\n",
       "      <td>0</td>\n",
       "      <td>1.229804</td>\n",
       "      <td>0.925018</td>\n",
       "      <td>0.963845</td>\n",
       "      <td>0</td>\n",
       "      <td>1</td>\n",
       "      <td>0</td>\n",
       "      <td>0</td>\n",
       "    </tr>\n",
       "    <tr>\n",
       "      <th>3</th>\n",
       "      <td>4</td>\n",
       "      <td>0</td>\n",
       "      <td>0</td>\n",
       "      <td>0</td>\n",
       "      <td>1</td>\n",
       "      <td>0</td>\n",
       "      <td>0</td>\n",
       "      <td>0</td>\n",
       "      <td>1</td>\n",
       "      <td>-0.783436</td>\n",
       "      <td>0.948810</td>\n",
       "      <td>0.000000</td>\n",
       "      <td>1</td>\n",
       "      <td>0</td>\n",
       "      <td>0</td>\n",
       "      <td>0</td>\n",
       "    </tr>\n",
       "    <tr>\n",
       "      <th>4</th>\n",
       "      <td>5</td>\n",
       "      <td>0</td>\n",
       "      <td>1</td>\n",
       "      <td>0</td>\n",
       "      <td>0</td>\n",
       "      <td>0</td>\n",
       "      <td>1</td>\n",
       "      <td>0</td>\n",
       "      <td>0</td>\n",
       "      <td>1.712706</td>\n",
       "      <td>0.997116</td>\n",
       "      <td>0.000000</td>\n",
       "      <td>1</td>\n",
       "      <td>0</td>\n",
       "      <td>0</td>\n",
       "      <td>0</td>\n",
       "    </tr>\n",
       "  </tbody>\n",
       "</table>\n",
       "</div>"
      ],
      "text/plain": [
       "   Store  Promo2  StoreType_a  StoreType_b  StoreType_c  StoreType_d  \\\n",
       "0      1       0            0            0            1            0   \n",
       "1      2       1            1            0            0            0   \n",
       "2      3       1            1            0            0            0   \n",
       "3      4       0            0            0            1            0   \n",
       "4      5       0            1            0            0            0   \n",
       "\n",
       "   Assortment_a  Assortment_b  Assortment_c  EncodedDistance  \\\n",
       "0             1             0             0        -0.321681   \n",
       "1             1             0             0        -0.837582   \n",
       "2             1             0             0         1.229804   \n",
       "3             0             0             1        -0.783436   \n",
       "4             1             0             0         1.712706   \n",
       "\n",
       "   EncodedCompetitionMonthsFromStart  EncodedPromo2WeeksFromStart  \\\n",
       "0                           0.940159                     0.000000   \n",
       "1                           0.932949                     0.955015   \n",
       "2                           0.925018                     0.963845   \n",
       "3                           0.948810                     0.000000   \n",
       "4                           0.997116                     0.000000   \n",
       "\n",
       "   PromoInterval_  PromoInterval_Jan,Apr,Jul,Oct  \\\n",
       "0               1                              0   \n",
       "1               0                              1   \n",
       "2               0                              1   \n",
       "3               1                              0   \n",
       "4               1                              0   \n",
       "\n",
       "   PromoInterval_Feb,May,Aug,Nov  PromoInterval_Mar,Jun,Sept,Dec  \n",
       "0                              0                               0  \n",
       "1                              0                               0  \n",
       "2                              0                               0  \n",
       "3                              0                               0  \n",
       "4                              0                               0  "
      ]
     },
     "execution_count": 200,
     "metadata": {},
     "output_type": "execute_result"
    }
   ],
   "source": [
    "store.drop(columns=['Promo2SinceWeek', 'Promo2SinceYear', 'Promo2WeeksFromStart', 'PromoInterval'], inplace=True)\n",
    "store.Promo2 = store.Promo2.astype('int8')\n",
    "store.head()"
   ]
  },
  {
   "cell_type": "code",
   "execution_count": 201,
   "id": "sorted-sheriff",
   "metadata": {
    "ExecuteTime": {
     "end_time": "2021-11-24T18:03:23.061155Z",
     "start_time": "2021-11-24T18:03:23.021225Z"
    }
   },
   "outputs": [
    {
     "name": "stdout",
     "output_type": "stream",
     "text": [
      "<class 'pandas.core.frame.DataFrame'>\n",
      "RangeIndex: 1115 entries, 0 to 1114\n",
      "Data columns (total 16 columns):\n",
      " #   Column                             Non-Null Count  Dtype  \n",
      "---  ------                             --------------  -----  \n",
      " 0   Store                              1115 non-null   int64  \n",
      " 1   Promo2                             1115 non-null   int8   \n",
      " 2   StoreType_a                        1115 non-null   int8   \n",
      " 3   StoreType_b                        1115 non-null   int8   \n",
      " 4   StoreType_c                        1115 non-null   int8   \n",
      " 5   StoreType_d                        1115 non-null   int8   \n",
      " 6   Assortment_a                       1115 non-null   int8   \n",
      " 7   Assortment_b                       1115 non-null   int8   \n",
      " 8   Assortment_c                       1115 non-null   int8   \n",
      " 9   EncodedDistance                    1115 non-null   float64\n",
      " 10  EncodedCompetitionMonthsFromStart  1115 non-null   float64\n",
      " 11  EncodedPromo2WeeksFromStart        1115 non-null   float64\n",
      " 12  PromoInterval_                     1115 non-null   int8   \n",
      " 13  PromoInterval_Jan,Apr,Jul,Oct      1115 non-null   int8   \n",
      " 14  PromoInterval_Feb,May,Aug,Nov      1115 non-null   int8   \n",
      " 15  PromoInterval_Mar,Jun,Sept,Dec     1115 non-null   int8   \n",
      "dtypes: float64(3), int64(1), int8(12)\n",
      "memory usage: 48.0 KB\n"
     ]
    }
   ],
   "source": [
    "store.info()"
   ]
  },
  {
   "cell_type": "code",
   "execution_count": 205,
   "id": "settled-enough",
   "metadata": {
    "ExecuteTime": {
     "end_time": "2021-11-24T18:06:13.356843Z",
     "start_time": "2021-11-24T18:06:13.294945Z"
    }
   },
   "outputs": [],
   "source": [
    "store.to_pickle('data/store_transformed.pickle', compression='bz2')\n",
    "store.to_csv('data/store_transformed.csv', index=False)"
   ]
  },
  {
   "cell_type": "markdown",
   "id": "rental-jamaica",
   "metadata": {},
   "source": [
    "# Load store table again"
   ]
  },
  {
   "cell_type": "code",
   "execution_count": null,
   "id": "accessory-arbor",
   "metadata": {},
   "outputs": [],
   "source": []
  }
 ],
 "metadata": {
  "kernelspec": {
   "display_name": "Python 3",
   "language": "python",
   "name": "python3"
  },
  "language_info": {
   "codemirror_mode": {
    "name": "ipython",
    "version": 3
   },
   "file_extension": ".py",
   "mimetype": "text/x-python",
   "name": "python",
   "nbconvert_exporter": "python",
   "pygments_lexer": "ipython3",
   "version": "3.9.0"
  },
  "toc": {
   "base_numbering": 1,
   "nav_menu": {},
   "number_sections": true,
   "sideBar": true,
   "skip_h1_title": false,
   "title_cell": "Table of Contents",
   "title_sidebar": "Contents",
   "toc_cell": false,
   "toc_position": {
    "height": "477px",
    "left": "44px",
    "top": "201.125px",
    "width": "292.188px"
   },
   "toc_section_display": true,
   "toc_window_display": true
  }
 },
 "nbformat": 4,
 "nbformat_minor": 5
}
