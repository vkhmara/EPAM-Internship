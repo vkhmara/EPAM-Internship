{
 "cells": [
  {
   "cell_type": "code",
   "execution_count": 1,
   "id": "czech-mitchell",
   "metadata": {
    "ExecuteTime": {
     "end_time": "2021-12-03T15:02:55.378024Z",
     "start_time": "2021-12-03T15:02:51.448688Z"
    }
   },
   "outputs": [],
   "source": [
    "import datetime\n",
    "import matplotlib.pyplot as plt\n",
    "import numpy as np\n",
    "import pandas as pd\n",
    "import seaborn as sns\n",
    "import warnings\n",
    "from operator import attrgetter\n",
    "from itertools import product\n",
    "\n",
    "from my_modules.plot_and_stat_funcs import *\n",
    "\n",
    "warnings.filterwarnings(\"ignore\")"
   ]
  },
  {
   "cell_type": "markdown",
   "id": "waiting-topic",
   "metadata": {},
   "source": [
    "## reading data"
   ]
  },
  {
   "cell_type": "code",
   "execution_count": 2,
   "id": "heavy-melissa",
   "metadata": {
    "ExecuteTime": {
     "end_time": "2021-12-03T15:02:57.361140Z",
     "start_time": "2021-12-03T15:02:55.384037Z"
    }
   },
   "outputs": [],
   "source": [
    "train = pd.read_csv('data/train.csv')\n",
    "store = pd.read_csv('data/store.csv')\n",
    "test = pd.read_csv('data/test.csv')"
   ]
  },
  {
   "cell_type": "code",
   "execution_count": 3,
   "id": "dedicated-lemon",
   "metadata": {
    "ExecuteTime": {
     "end_time": "2021-12-03T15:02:57.423881Z",
     "start_time": "2021-12-03T15:02:57.361140Z"
    }
   },
   "outputs": [
    {
     "data": {
      "text/html": [
       "<div>\n",
       "<style scoped>\n",
       "    .dataframe tbody tr th:only-of-type {\n",
       "        vertical-align: middle;\n",
       "    }\n",
       "\n",
       "    .dataframe tbody tr th {\n",
       "        vertical-align: top;\n",
       "    }\n",
       "\n",
       "    .dataframe thead th {\n",
       "        text-align: right;\n",
       "    }\n",
       "</style>\n",
       "<table border=\"1\" class=\"dataframe\">\n",
       "  <thead>\n",
       "    <tr style=\"text-align: right;\">\n",
       "      <th></th>\n",
       "      <th>Store</th>\n",
       "      <th>DayOfWeek</th>\n",
       "      <th>Date</th>\n",
       "      <th>Sales</th>\n",
       "      <th>Customers</th>\n",
       "      <th>Open</th>\n",
       "      <th>Promo</th>\n",
       "      <th>StateHoliday</th>\n",
       "      <th>SchoolHoliday</th>\n",
       "    </tr>\n",
       "  </thead>\n",
       "  <tbody>\n",
       "    <tr>\n",
       "      <th>0</th>\n",
       "      <td>1</td>\n",
       "      <td>5</td>\n",
       "      <td>2015-07-31</td>\n",
       "      <td>5263</td>\n",
       "      <td>555</td>\n",
       "      <td>1</td>\n",
       "      <td>1</td>\n",
       "      <td>0</td>\n",
       "      <td>1</td>\n",
       "    </tr>\n",
       "    <tr>\n",
       "      <th>1</th>\n",
       "      <td>2</td>\n",
       "      <td>5</td>\n",
       "      <td>2015-07-31</td>\n",
       "      <td>6064</td>\n",
       "      <td>625</td>\n",
       "      <td>1</td>\n",
       "      <td>1</td>\n",
       "      <td>0</td>\n",
       "      <td>1</td>\n",
       "    </tr>\n",
       "    <tr>\n",
       "      <th>2</th>\n",
       "      <td>3</td>\n",
       "      <td>5</td>\n",
       "      <td>2015-07-31</td>\n",
       "      <td>8314</td>\n",
       "      <td>821</td>\n",
       "      <td>1</td>\n",
       "      <td>1</td>\n",
       "      <td>0</td>\n",
       "      <td>1</td>\n",
       "    </tr>\n",
       "    <tr>\n",
       "      <th>3</th>\n",
       "      <td>4</td>\n",
       "      <td>5</td>\n",
       "      <td>2015-07-31</td>\n",
       "      <td>13995</td>\n",
       "      <td>1498</td>\n",
       "      <td>1</td>\n",
       "      <td>1</td>\n",
       "      <td>0</td>\n",
       "      <td>1</td>\n",
       "    </tr>\n",
       "    <tr>\n",
       "      <th>4</th>\n",
       "      <td>5</td>\n",
       "      <td>5</td>\n",
       "      <td>2015-07-31</td>\n",
       "      <td>4822</td>\n",
       "      <td>559</td>\n",
       "      <td>1</td>\n",
       "      <td>1</td>\n",
       "      <td>0</td>\n",
       "      <td>1</td>\n",
       "    </tr>\n",
       "  </tbody>\n",
       "</table>\n",
       "</div>"
      ],
      "text/plain": [
       "   Store  DayOfWeek        Date  Sales  Customers  Open  Promo StateHoliday  \\\n",
       "0      1          5  2015-07-31   5263        555     1      1            0   \n",
       "1      2          5  2015-07-31   6064        625     1      1            0   \n",
       "2      3          5  2015-07-31   8314        821     1      1            0   \n",
       "3      4          5  2015-07-31  13995       1498     1      1            0   \n",
       "4      5          5  2015-07-31   4822        559     1      1            0   \n",
       "\n",
       "   SchoolHoliday  \n",
       "0              1  \n",
       "1              1  \n",
       "2              1  \n",
       "3              1  \n",
       "4              1  "
      ]
     },
     "execution_count": 3,
     "metadata": {},
     "output_type": "execute_result"
    }
   ],
   "source": [
    "train.head()"
   ]
  },
  {
   "cell_type": "markdown",
   "id": "disabled-prime",
   "metadata": {},
   "source": [
    "Check if there are 2 or more rows with the same date and store."
   ]
  },
  {
   "cell_type": "code",
   "execution_count": 4,
   "id": "coastal-pickup",
   "metadata": {
    "ExecuteTime": {
     "end_time": "2021-12-03T15:02:58.284563Z",
     "start_time": "2021-12-03T15:02:57.431883Z"
    },
    "scrolled": true
   },
   "outputs": [
    {
     "data": {
      "text/plain": [
       "False"
      ]
     },
     "execution_count": 4,
     "metadata": {},
     "output_type": "execute_result"
    }
   ],
   "source": [
    "(train.groupby(['Date', 'Store']).Open.count() >= 2).all()"
   ]
  },
  {
   "cell_type": "markdown",
   "id": "demonstrated-watch",
   "metadata": {},
   "source": [
    "So there is no duplicates in the table"
   ]
  },
  {
   "cell_type": "markdown",
   "id": "alternative-pursuit",
   "metadata": {},
   "source": [
    "# store"
   ]
  },
  {
   "cell_type": "code",
   "execution_count": 5,
   "id": "varying-excerpt",
   "metadata": {
    "ExecuteTime": {
     "end_time": "2021-12-03T15:02:58.380545Z",
     "start_time": "2021-12-03T15:02:58.292555Z"
    },
    "scrolled": false
   },
   "outputs": [
    {
     "name": "stdout",
     "output_type": "stream",
     "text": [
      "<class 'pandas.core.frame.DataFrame'>\n",
      "RangeIndex: 1115 entries, 0 to 1114\n",
      "Data columns (total 10 columns):\n",
      " #   Column                     Non-Null Count  Dtype  \n",
      "---  ------                     --------------  -----  \n",
      " 0   Store                      1115 non-null   int64  \n",
      " 1   StoreType                  1115 non-null   object \n",
      " 2   Assortment                 1115 non-null   object \n",
      " 3   CompetitionDistance        1112 non-null   float64\n",
      " 4   CompetitionOpenSinceMonth  761 non-null    float64\n",
      " 5   CompetitionOpenSinceYear   761 non-null    float64\n",
      " 6   Promo2                     1115 non-null   int64  \n",
      " 7   Promo2SinceWeek            571 non-null    float64\n",
      " 8   Promo2SinceYear            571 non-null    float64\n",
      " 9   PromoInterval              571 non-null    object \n",
      "dtypes: float64(5), int64(2), object(3)\n",
      "memory usage: 87.2+ KB\n"
     ]
    },
    {
     "data": {
      "text/html": [
       "<div>\n",
       "<style scoped>\n",
       "    .dataframe tbody tr th:only-of-type {\n",
       "        vertical-align: middle;\n",
       "    }\n",
       "\n",
       "    .dataframe tbody tr th {\n",
       "        vertical-align: top;\n",
       "    }\n",
       "\n",
       "    .dataframe thead th {\n",
       "        text-align: right;\n",
       "    }\n",
       "</style>\n",
       "<table border=\"1\" class=\"dataframe\">\n",
       "  <thead>\n",
       "    <tr style=\"text-align: right;\">\n",
       "      <th></th>\n",
       "      <th>Store</th>\n",
       "      <th>StoreType</th>\n",
       "      <th>Assortment</th>\n",
       "      <th>CompetitionDistance</th>\n",
       "      <th>CompetitionOpenSinceMonth</th>\n",
       "      <th>CompetitionOpenSinceYear</th>\n",
       "      <th>Promo2</th>\n",
       "      <th>Promo2SinceWeek</th>\n",
       "      <th>Promo2SinceYear</th>\n",
       "      <th>PromoInterval</th>\n",
       "    </tr>\n",
       "  </thead>\n",
       "  <tbody>\n",
       "    <tr>\n",
       "      <th>0</th>\n",
       "      <td>1</td>\n",
       "      <td>c</td>\n",
       "      <td>a</td>\n",
       "      <td>1270.0</td>\n",
       "      <td>9.0</td>\n",
       "      <td>2008.0</td>\n",
       "      <td>0</td>\n",
       "      <td>NaN</td>\n",
       "      <td>NaN</td>\n",
       "      <td>NaN</td>\n",
       "    </tr>\n",
       "    <tr>\n",
       "      <th>1</th>\n",
       "      <td>2</td>\n",
       "      <td>a</td>\n",
       "      <td>a</td>\n",
       "      <td>570.0</td>\n",
       "      <td>11.0</td>\n",
       "      <td>2007.0</td>\n",
       "      <td>1</td>\n",
       "      <td>13.0</td>\n",
       "      <td>2010.0</td>\n",
       "      <td>Jan,Apr,Jul,Oct</td>\n",
       "    </tr>\n",
       "    <tr>\n",
       "      <th>2</th>\n",
       "      <td>3</td>\n",
       "      <td>a</td>\n",
       "      <td>a</td>\n",
       "      <td>14130.0</td>\n",
       "      <td>12.0</td>\n",
       "      <td>2006.0</td>\n",
       "      <td>1</td>\n",
       "      <td>14.0</td>\n",
       "      <td>2011.0</td>\n",
       "      <td>Jan,Apr,Jul,Oct</td>\n",
       "    </tr>\n",
       "    <tr>\n",
       "      <th>3</th>\n",
       "      <td>4</td>\n",
       "      <td>c</td>\n",
       "      <td>c</td>\n",
       "      <td>620.0</td>\n",
       "      <td>9.0</td>\n",
       "      <td>2009.0</td>\n",
       "      <td>0</td>\n",
       "      <td>NaN</td>\n",
       "      <td>NaN</td>\n",
       "      <td>NaN</td>\n",
       "    </tr>\n",
       "    <tr>\n",
       "      <th>4</th>\n",
       "      <td>5</td>\n",
       "      <td>a</td>\n",
       "      <td>a</td>\n",
       "      <td>29910.0</td>\n",
       "      <td>4.0</td>\n",
       "      <td>2015.0</td>\n",
       "      <td>0</td>\n",
       "      <td>NaN</td>\n",
       "      <td>NaN</td>\n",
       "      <td>NaN</td>\n",
       "    </tr>\n",
       "  </tbody>\n",
       "</table>\n",
       "</div>"
      ],
      "text/plain": [
       "   Store StoreType Assortment  CompetitionDistance  CompetitionOpenSinceMonth  \\\n",
       "0      1         c          a               1270.0                        9.0   \n",
       "1      2         a          a                570.0                       11.0   \n",
       "2      3         a          a              14130.0                       12.0   \n",
       "3      4         c          c                620.0                        9.0   \n",
       "4      5         a          a              29910.0                        4.0   \n",
       "\n",
       "   CompetitionOpenSinceYear  Promo2  Promo2SinceWeek  Promo2SinceYear  \\\n",
       "0                    2008.0       0              NaN              NaN   \n",
       "1                    2007.0       1             13.0           2010.0   \n",
       "2                    2006.0       1             14.0           2011.0   \n",
       "3                    2009.0       0              NaN              NaN   \n",
       "4                    2015.0       0              NaN              NaN   \n",
       "\n",
       "     PromoInterval  \n",
       "0              NaN  \n",
       "1  Jan,Apr,Jul,Oct  \n",
       "2  Jan,Apr,Jul,Oct  \n",
       "3              NaN  \n",
       "4              NaN  "
      ]
     },
     "execution_count": 5,
     "metadata": {},
     "output_type": "execute_result"
    }
   ],
   "source": [
    "store.info()\n",
    "store.head()"
   ]
  },
  {
   "cell_type": "markdown",
   "id": "convinced-democrat",
   "metadata": {},
   "source": [
    "The table contains 10 columns. It contains missing values."
   ]
  },
  {
   "cell_type": "markdown",
   "id": "hungarian-arena",
   "metadata": {},
   "source": [
    "The plot of missing values count:"
   ]
  },
  {
   "cell_type": "code",
   "execution_count": 6,
   "id": "endangered-literacy",
   "metadata": {
    "ExecuteTime": {
     "end_time": "2021-12-03T15:02:58.412534Z",
     "start_time": "2021-12-03T15:02:58.388535Z"
    }
   },
   "outputs": [],
   "source": [
    "na_counts = store.isna().sum()"
   ]
  },
  {
   "cell_type": "code",
   "execution_count": 7,
   "id": "elect-trail",
   "metadata": {
    "ExecuteTime": {
     "end_time": "2021-12-03T15:02:59.208204Z",
     "start_time": "2021-12-03T15:02:58.420534Z"
    },
    "scrolled": false
   },
   "outputs": [
    {
     "data": {
      "image/png": "[encoded data removed]",
      "text/plain": [
       "<Figure size 720x432 with 1 Axes>"
      ]
     },
     "metadata": {
      "needs_background": "light"
     },
     "output_type": "display_data"
    }
   ],
   "source": [
    "bar_series(title='missing values', ser=na_counts, col_name='feature', rotation=80)"
   ]
  },
  {
   "cell_type": "markdown",
   "id": "declared-constitutional",
   "metadata": {},
   "source": [
    "## Store"
   ]
  },
  {
   "cell_type": "markdown",
   "id": "absolute-leather",
   "metadata": {},
   "source": [
    "The identifier of store. Ranges from 1 to 1115."
   ]
  },
  {
   "cell_type": "code",
   "execution_count": 8,
   "id": "major-mattress",
   "metadata": {
    "ExecuteTime": {
     "end_time": "2021-12-03T15:02:59.240189Z",
     "start_time": "2021-12-03T15:02:59.216199Z"
    }
   },
   "outputs": [
    {
     "data": {
      "text/plain": [
       "True"
      ]
     },
     "execution_count": 8,
     "metadata": {},
     "output_type": "execute_result"
    }
   ],
   "source": [
    "(pd.RangeIndex(1, 1116) == store.Store).all()"
   ]
  },
  {
   "cell_type": "markdown",
   "id": "related-breach",
   "metadata": {},
   "source": [
    "As it is the identifier of stores it will be removed when training the models."
   ]
  },
  {
   "cell_type": "markdown",
   "id": "military-rover",
   "metadata": {},
   "source": [
    "## StoreType"
   ]
  },
  {
   "cell_type": "markdown",
   "id": "regular-leonard",
   "metadata": {},
   "source": [
    "The type of store. Its values are 'a', 'b', 'c' and 'd'. The histogram of values:"
   ]
  },
  {
   "cell_type": "code",
   "execution_count": 9,
   "id": "micro-binding",
   "metadata": {
    "ExecuteTime": {
     "end_time": "2021-12-03T15:02:59.544143Z",
     "start_time": "2021-12-03T15:02:59.248191Z"
    }
   },
   "outputs": [
    {
     "data": {
      "image/png": "[encoded data removed]",
      "text/plain": [
       "<Figure size 720x172.8 with 1 Axes>"
      ]
     },
     "metadata": {
      "needs_background": "light"
     },
     "output_type": "display_data"
    }
   ],
   "source": [
    "barh(store, 'StoreType')"
   ]
  },
  {
   "cell_type": "markdown",
   "id": "alternate-expense",
   "metadata": {},
   "source": [
    "This feature is categorical and its values are not numeric. So when training models it must be transformed to numeric features e.g. using one-hot encoder."
   ]
  },
  {
   "cell_type": "markdown",
   "id": "complex-guard",
   "metadata": {},
   "source": [
    "## Assortment"
   ]
  },
  {
   "cell_type": "markdown",
   "id": "subject-robertson",
   "metadata": {},
   "source": [
    "The type of assortment provided by the store. Its values are 'a', 'b' and 'c'. The histogram of values:"
   ]
  },
  {
   "cell_type": "code",
   "execution_count": 10,
   "id": "difficult-roulette",
   "metadata": {
    "ExecuteTime": {
     "end_time": "2021-12-03T15:02:59.808571Z",
     "start_time": "2021-12-03T15:02:59.544143Z"
    }
   },
   "outputs": [
    {
     "data": {
      "image/png": "[encoded data removed]",
      "text/plain": [
       "<Figure size 720x129.6 with 1 Axes>"
      ]
     },
     "metadata": {
      "needs_background": "light"
     },
     "output_type": "display_data"
    }
   ],
   "source": [
    "barh(store, 'Assortment')"
   ]
  },
  {
   "cell_type": "markdown",
   "id": "sensitive-dietary",
   "metadata": {},
   "source": [
    "This feature is also categorical and takes non-numeric values. So it must be transformed to numeric features e.g. using one-hot encoder."
   ]
  },
  {
   "cell_type": "markdown",
   "id": "overall-astrology",
   "metadata": {},
   "source": [
    "## CompetitionDistance"
   ]
  },
  {
   "cell_type": "markdown",
   "id": "associate-stevens",
   "metadata": {},
   "source": [
    "The distance from the store to the nearest competitor store in meters. There are 3 (or 0.3%) missing values. The distribution of this feature:"
   ]
  },
  {
   "cell_type": "code",
   "execution_count": 11,
   "id": "clinical-proposition",
   "metadata": {
    "ExecuteTime": {
     "end_time": "2021-12-03T15:03:00.822653Z",
     "start_time": "2021-12-03T15:02:59.810491Z"
    }
   },
   "outputs": [
    {
     "data": {
      "image/png": "[encoded data removed]",
      "text/plain": [
       "<Figure size 720x432 with 1 Axes>"
      ]
     },
     "metadata": {
      "needs_background": "light"
     },
     "output_type": "display_data"
    }
   ],
   "source": [
    "hist(store, 'CompetitionDistance')"
   ]
  },
  {
   "cell_type": "markdown",
   "id": "limited-retirement",
   "metadata": {},
   "source": [
    "This feature is numeric. Its distribution is similar to lognormal. Let's take a logarithm of this feature and show the distribution:"
   ]
  },
  {
   "cell_type": "code",
   "execution_count": 12,
   "id": "eight-hepatitis",
   "metadata": {
    "ExecuteTime": {
     "end_time": "2021-12-03T15:03:01.757856Z",
     "start_time": "2021-12-03T15:03:00.830594Z"
    }
   },
   "outputs": [
    {
     "data": {
      "image/png": "[encoded data removed]",
      "text/plain": [
       "<Figure size 720x432 with 1 Axes>"
      ]
     },
     "metadata": {
      "needs_background": "light"
     },
     "output_type": "display_data"
    }
   ],
   "source": [
    "hist_series(np.log10(store.CompetitionDistance), 'logarithm of CompetitionDistance')"
   ]
  },
  {
   "cell_type": "markdown",
   "id": "anticipated-respondent",
   "metadata": {},
   "source": [
    "It is a bit similar to normal distribution. It is a good information for linear regression because it works better with such features."
   ]
  },
  {
   "cell_type": "markdown",
   "id": "bound-symposium",
   "metadata": {},
   "source": [
    "The missing values can be replaced with mean value."
   ]
  },
  {
   "cell_type": "markdown",
   "id": "piano-cherry",
   "metadata": {},
   "source": [
    "## CompetitionOpenSinceMonth"
   ]
  },
  {
   "cell_type": "markdown",
   "id": "attempted-daniel",
   "metadata": {},
   "source": [
    "The month of the first opening of the nearest competitor store. There are 354 (or 31.7%) missing values. The distribution of this feature:"
   ]
  },
  {
   "cell_type": "code",
   "execution_count": 13,
   "id": "collective-mason",
   "metadata": {
    "ExecuteTime": {
     "end_time": "2021-12-03T15:03:02.333811Z",
     "start_time": "2021-12-03T15:03:01.757856Z"
    },
    "scrolled": false
   },
   "outputs": [
    {
     "data": {
      "image/png": "[encoded data removed]",
      "text/plain": [
       "<Figure size 720x518.4 with 1 Axes>"
      ]
     },
     "metadata": {
      "needs_background": "light"
     },
     "output_type": "display_data"
    }
   ],
   "source": [
    "barh(store, 'CompetitionOpenSinceMonth')"
   ]
  },
  {
   "cell_type": "markdown",
   "id": "forbidden-candidate",
   "metadata": {},
   "source": [
    "This feature is categorical and takes numeric values. It can be transformed to numeric features e.g. using one-hot encoder. But there is a **CompetitionOpenSinceYear** feature. When describing it I will say how these 2 features can be combined."
   ]
  },
  {
   "cell_type": "markdown",
   "id": "sporting-bunch",
   "metadata": {},
   "source": [
    "## CompetitionOpenSinceYear"
   ]
  },
  {
   "cell_type": "markdown",
   "id": "chronic-vanilla",
   "metadata": {},
   "source": [
    "The year of the first opening of the nearest competitor store. There are 354 (or 31.7%) missing values. The distribution of this feature:"
   ]
  },
  {
   "cell_type": "code",
   "execution_count": 14,
   "id": "pleased-modern",
   "metadata": {
    "ExecuteTime": {
     "end_time": "2021-12-03T15:03:03.274785Z",
     "start_time": "2021-12-03T15:03:02.341757Z"
    }
   },
   "outputs": [
    {
     "data": {
      "image/png": "[encoded data removed]",
      "text/plain": [
       "<Figure size 1080x432 with 1 Axes>"
      ]
     },
     "metadata": {
      "needs_background": "light"
     },
     "output_type": "display_data"
    }
   ],
   "source": [
    "bar(store, 'CompetitionOpenSinceYear', show_count=False, figsize=(15, 6), rotation=80)"
   ]
  },
  {
   "cell_type": "markdown",
   "id": "magnetic-montana",
   "metadata": {},
   "source": [
    "As you can see there are two outliers - 1900 and 1961. The distribution without them:"
   ]
  },
  {
   "cell_type": "code",
   "execution_count": 15,
   "id": "derived-earth",
   "metadata": {
    "ExecuteTime": {
     "end_time": "2021-12-03T15:03:04.165659Z",
     "start_time": "2021-12-03T15:03:03.282790Z"
    }
   },
   "outputs": [
    {
     "data": {
      "image/png": "[encoded data removed]",
      "text/plain": [
       "<Figure size 1080x432 with 1 Axes>"
      ]
     },
     "metadata": {
      "needs_background": "light"
     },
     "output_type": "display_data"
    }
   ],
   "source": [
    "bar(store[~store.CompetitionOpenSinceYear.isin([1900, 1961])],\n",
    "    'CompetitionOpenSinceYear',\n",
    "    show_count=False, figsize=(15, 6), rotation=80)"
   ]
  },
  {
   "cell_type": "markdown",
   "id": "distant-german",
   "metadata": {},
   "source": [
    "So the most of competitor stores were opened during the last 15 years. The years 1900 and 1961 are the obvious outliers. They are errors because the Rossmann was founded in 1972. So these values must be changed e.g. to the mean value, to the year of foundation or to other outlier."
   ]
  },
  {
   "cell_type": "markdown",
   "id": "convenient-acquisition",
   "metadata": {},
   "source": [
    "This feature can be considered both as numeric and categorical. But it can be combined with the **CompetitionOpenSinceMonth** feature to **the ordered number of month from March, 1972** feature as the date of foundation of Rossmann is the 17-th of March, 1972. The new feature is numeric: it is greater for the older competitor stores."
   ]
  },
  {
   "cell_type": "markdown",
   "id": "prerequisite-massage",
   "metadata": {},
   "source": [
    "There are 31.7 % of missing values for the last 2 features. As they are transformed to the new feature the missing values can be transformed for some outlier. For example -100."
   ]
  },
  {
   "cell_type": "markdown",
   "id": "graphic-korean",
   "metadata": {},
   "source": [
    "## Promo2"
   ]
  },
  {
   "cell_type": "markdown",
   "id": "running-perception",
   "metadata": {},
   "source": [
    "Indicates whether the store is participating in promotion \"Promo2\" or not. Its values are 0 and 1. The histogram of values:"
   ]
  },
  {
   "cell_type": "code",
   "execution_count": 16,
   "id": "qualified-kentucky",
   "metadata": {
    "ExecuteTime": {
     "end_time": "2021-12-03T15:03:04.565600Z",
     "start_time": "2021-12-03T15:03:04.173657Z"
    },
    "scrolled": false
   },
   "outputs": [
    {
     "data": {
      "image/png": "[encoded data removed]",
      "text/plain": [
       "<Figure size 720x86.4 with 1 Axes>"
      ]
     },
     "metadata": {
      "needs_background": "light"
     },
     "output_type": "display_data"
    }
   ],
   "source": [
    "barh(store, 'Promo2')"
   ]
  },
  {
   "cell_type": "markdown",
   "id": "incredible-renaissance",
   "metadata": {},
   "source": [
    "This feature is categorical and takes only 2 distinct values - 0 and 1. So it is ready to be used in training."
   ]
  },
  {
   "cell_type": "markdown",
   "id": "civilian-savannah",
   "metadata": {},
   "source": [
    "## Promo2SinceWeek"
   ]
  },
  {
   "cell_type": "markdown",
   "id": "pending-parts",
   "metadata": {},
   "source": [
    "The week of start of the participating in \"Promo2\". If Promo2 equals 0, this feature is missed. There are 544 missing values. The histogram of values:"
   ]
  },
  {
   "cell_type": "code",
   "execution_count": 17,
   "id": "confused-concrete",
   "metadata": {
    "ExecuteTime": {
     "end_time": "2021-12-03T15:03:05.474148Z",
     "start_time": "2021-12-03T15:03:04.565600Z"
    }
   },
   "outputs": [
    {
     "data": {
      "image/png": "[encoded data removed]",
      "text/plain": [
       "<Figure size 864x504 with 1 Axes>"
      ]
     },
     "metadata": {
      "needs_background": "light"
     },
     "output_type": "display_data"
    }
   ],
   "source": [
    "bar(store, 'Promo2SinceWeek', show_count=False, figsize=(12, 7))"
   ]
  },
  {
   "cell_type": "markdown",
   "id": "contemporary-documentation",
   "metadata": {},
   "source": [
    "This feature can be considered both as categorical and numeric. But the best way is to combine it with the **Promo2SinceYear** feature."
   ]
  },
  {
   "cell_type": "markdown",
   "id": "composite-clarity",
   "metadata": {},
   "source": [
    "## Promo2SinceYear"
   ]
  },
  {
   "cell_type": "markdown",
   "id": "characteristic-myrtle",
   "metadata": {},
   "source": [
    "The week of start of the participating in \"Promo2\". If Promo2 equals 0, this feature is missed. There are 544 missing values. The histogram of values:"
   ]
  },
  {
   "cell_type": "code",
   "execution_count": 18,
   "id": "labeled-atlantic",
   "metadata": {
    "ExecuteTime": {
     "end_time": "2021-12-03T15:03:05.999381Z",
     "start_time": "2021-12-03T15:03:05.482151Z"
    }
   },
   "outputs": [
    {
     "data": {
      "image/png": "[encoded data removed]",
      "text/plain": [
       "<Figure size 720x432 with 1 Axes>"
      ]
     },
     "metadata": {
      "needs_background": "light"
     },
     "output_type": "display_data"
    }
   ],
   "source": [
    "bar(store, 'Promo2SinceYear', show_count=False)"
   ]
  },
  {
   "cell_type": "markdown",
   "id": "incorrect-color",
   "metadata": {},
   "source": [
    "This feature can also be considered both as categorical and numeric. But let combine it with the **Promo2SinceWeek** to **the ordered number of week since the first one of 2009** feature. The new feature is numeric."
   ]
  },
  {
   "cell_type": "markdown",
   "id": "focused-therapy",
   "metadata": {},
   "source": [
    "## PromoInterval"
   ]
  },
  {
   "cell_type": "markdown",
   "id": "dominant-flashing",
   "metadata": {},
   "source": [
    "The consecutive intervals Promo2 is started, naming the months the promotion is started anew. If Promo2 equals 0, this feature is missed. There are 544 missing values. The histogram of values:"
   ]
  },
  {
   "cell_type": "code",
   "execution_count": 19,
   "id": "offensive-tutorial",
   "metadata": {
    "ExecuteTime": {
     "end_time": "2021-12-03T15:03:06.311375Z",
     "start_time": "2021-12-03T15:03:06.007377Z"
    },
    "scrolled": true
   },
   "outputs": [
    {
     "data": {
      "image/png": "[encoded data removed]",
      "text/plain": [
       "<Figure size 720x129.6 with 1 Axes>"
      ]
     },
     "metadata": {
      "needs_background": "light"
     },
     "output_type": "display_data"
    }
   ],
   "source": [
    "barh(store, 'PromoInterval')"
   ]
  },
  {
   "cell_type": "markdown",
   "id": "presidential-dublin",
   "metadata": {},
   "source": [
    "This feature is categorical and takes non-numeric values. So it must be transformed to numeric features e.g. using one-hot encoder."
   ]
  },
  {
   "cell_type": "markdown",
   "id": "perceived-worthy",
   "metadata": {},
   "source": [
    "The last 3 features are missed iff the **Promo2** equals 0:"
   ]
  },
  {
   "cell_type": "code",
   "execution_count": 20,
   "id": "extreme-recorder",
   "metadata": {
    "ExecuteTime": {
     "end_time": "2021-12-03T15:03:06.343321Z",
     "start_time": "2021-12-03T15:03:06.319333Z"
    }
   },
   "outputs": [],
   "source": [
    "promo_na_counts = store[store.Promo2 == 1].isna().sum()"
   ]
  },
  {
   "cell_type": "code",
   "execution_count": 21,
   "id": "acquired-lying",
   "metadata": {
    "ExecuteTime": {
     "end_time": "2021-12-03T15:03:07.119829Z",
     "start_time": "2021-12-03T15:03:06.351323Z"
    }
   },
   "outputs": [
    {
     "data": {
      "image/png": "[encoded data removed]",
      "text/plain": [
       "<Figure size 720x432 with 1 Axes>"
      ]
     },
     "metadata": {
      "needs_background": "light"
     },
     "output_type": "display_data"
    }
   ],
   "source": [
    "bar_series(title='missing values when promo', ser=promo_na_counts, col_name='feature', rotation=80)"
   ]
  },
  {
   "cell_type": "markdown",
   "id": "modular-spiritual",
   "metadata": {},
   "source": [
    "So there is a problem how to fill missing values for these features. They can be filled by some outlier or other category. But I will do the following. I will divide the stores into 2 groups according to the **Promo2** value. For each group I will form its own train dataset and will train its own model. The new ***store*** table for group with **Promo2** equals 0 the features **Promo2**, **Promo2SinceWeek** and **Promo2SinceYear** will disappear. For group with **Promo2** equals 1 only the feature **Promo2** will disappear."
   ]
  },
  {
   "cell_type": "markdown",
   "id": "loved-poultry",
   "metadata": {},
   "source": [
    "# train"
   ]
  },
  {
   "cell_type": "code",
   "execution_count": 22,
   "id": "integral-finance",
   "metadata": {
    "ExecuteTime": {
     "end_time": "2021-12-03T15:03:07.555671Z",
     "start_time": "2021-12-03T15:03:07.119829Z"
    },
    "scrolled": false
   },
   "outputs": [
    {
     "name": "stdout",
     "output_type": "stream",
     "text": [
      "<class 'pandas.core.frame.DataFrame'>\n",
      "RangeIndex: 1017209 entries, 0 to 1017208\n",
      "Data columns (total 9 columns):\n",
      " #   Column         Non-Null Count    Dtype \n",
      "---  ------         --------------    ----- \n",
      " 0   Store          1017209 non-null  int64 \n",
      " 1   DayOfWeek      1017209 non-null  int64 \n",
      " 2   Date           1017209 non-null  object\n",
      " 3   Sales          1017209 non-null  int64 \n",
      " 4   Customers      1017209 non-null  int64 \n",
      " 5   Open           1017209 non-null  int64 \n",
      " 6   Promo          1017209 non-null  int64 \n",
      " 7   StateHoliday   1017209 non-null  object\n",
      " 8   SchoolHoliday  1017209 non-null  int64 \n",
      "dtypes: int64(7), object(2)\n",
      "memory usage: 69.8+ MB\n"
     ]
    },
    {
     "data": {
      "text/html": [
       "<div>\n",
       "<style scoped>\n",
       "    .dataframe tbody tr th:only-of-type {\n",
       "        vertical-align: middle;\n",
       "    }\n",
       "\n",
       "    .dataframe tbody tr th {\n",
       "        vertical-align: top;\n",
       "    }\n",
       "\n",
       "    .dataframe thead th {\n",
       "        text-align: right;\n",
       "    }\n",
       "</style>\n",
       "<table border=\"1\" class=\"dataframe\">\n",
       "  <thead>\n",
       "    <tr style=\"text-align: right;\">\n",
       "      <th></th>\n",
       "      <th>Store</th>\n",
       "      <th>DayOfWeek</th>\n",
       "      <th>Date</th>\n",
       "      <th>Sales</th>\n",
       "      <th>Customers</th>\n",
       "      <th>Open</th>\n",
       "      <th>Promo</th>\n",
       "      <th>StateHoliday</th>\n",
       "      <th>SchoolHoliday</th>\n",
       "    </tr>\n",
       "  </thead>\n",
       "  <tbody>\n",
       "    <tr>\n",
       "      <th>0</th>\n",
       "      <td>1</td>\n",
       "      <td>5</td>\n",
       "      <td>2015-07-31</td>\n",
       "      <td>5263</td>\n",
       "      <td>555</td>\n",
       "      <td>1</td>\n",
       "      <td>1</td>\n",
       "      <td>0</td>\n",
       "      <td>1</td>\n",
       "    </tr>\n",
       "    <tr>\n",
       "      <th>1</th>\n",
       "      <td>2</td>\n",
       "      <td>5</td>\n",
       "      <td>2015-07-31</td>\n",
       "      <td>6064</td>\n",
       "      <td>625</td>\n",
       "      <td>1</td>\n",
       "      <td>1</td>\n",
       "      <td>0</td>\n",
       "      <td>1</td>\n",
       "    </tr>\n",
       "    <tr>\n",
       "      <th>2</th>\n",
       "      <td>3</td>\n",
       "      <td>5</td>\n",
       "      <td>2015-07-31</td>\n",
       "      <td>8314</td>\n",
       "      <td>821</td>\n",
       "      <td>1</td>\n",
       "      <td>1</td>\n",
       "      <td>0</td>\n",
       "      <td>1</td>\n",
       "    </tr>\n",
       "    <tr>\n",
       "      <th>3</th>\n",
       "      <td>4</td>\n",
       "      <td>5</td>\n",
       "      <td>2015-07-31</td>\n",
       "      <td>13995</td>\n",
       "      <td>1498</td>\n",
       "      <td>1</td>\n",
       "      <td>1</td>\n",
       "      <td>0</td>\n",
       "      <td>1</td>\n",
       "    </tr>\n",
       "    <tr>\n",
       "      <th>4</th>\n",
       "      <td>5</td>\n",
       "      <td>5</td>\n",
       "      <td>2015-07-31</td>\n",
       "      <td>4822</td>\n",
       "      <td>559</td>\n",
       "      <td>1</td>\n",
       "      <td>1</td>\n",
       "      <td>0</td>\n",
       "      <td>1</td>\n",
       "    </tr>\n",
       "  </tbody>\n",
       "</table>\n",
       "</div>"
      ],
      "text/plain": [
       "   Store  DayOfWeek        Date  Sales  Customers  Open  Promo StateHoliday  \\\n",
       "0      1          5  2015-07-31   5263        555     1      1            0   \n",
       "1      2          5  2015-07-31   6064        625     1      1            0   \n",
       "2      3          5  2015-07-31   8314        821     1      1            0   \n",
       "3      4          5  2015-07-31  13995       1498     1      1            0   \n",
       "4      5          5  2015-07-31   4822        559     1      1            0   \n",
       "\n",
       "   SchoolHoliday  \n",
       "0              1  \n",
       "1              1  \n",
       "2              1  \n",
       "3              1  \n",
       "4              1  "
      ]
     },
     "execution_count": 22,
     "metadata": {},
     "output_type": "execute_result"
    }
   ],
   "source": [
    "train.info()\n",
    "train.head()"
   ]
  },
  {
   "cell_type": "markdown",
   "id": "guilty-parade",
   "metadata": {},
   "source": [
    "There are no missing values. The table contains 9 columns."
   ]
  },
  {
   "cell_type": "markdown",
   "id": "institutional-sierra",
   "metadata": {},
   "source": [
    "## Store"
   ]
  },
  {
   "cell_type": "markdown",
   "id": "compatible-investigation",
   "metadata": {},
   "source": [
    "The id of stores. It ranges from 1 to 1115."
   ]
  },
  {
   "cell_type": "code",
   "execution_count": 23,
   "id": "adequate-contributor",
   "metadata": {
    "ExecuteTime": {
     "end_time": "2021-12-03T15:03:07.635659Z",
     "start_time": "2021-12-03T15:03:07.563672Z"
    }
   },
   "outputs": [
    {
     "data": {
      "text/plain": [
       "True"
      ]
     },
     "execution_count": 23,
     "metadata": {},
     "output_type": "execute_result"
    }
   ],
   "source": [
    "(pd.RangeIndex(1, 1116) == train.Store.unique()).all()"
   ]
  },
  {
   "cell_type": "markdown",
   "id": "coordinate-houston",
   "metadata": {},
   "source": [
    "All the stores from the ***store*** table are present here."
   ]
  },
  {
   "cell_type": "markdown",
   "id": "leading-guyana",
   "metadata": {},
   "source": [
    "## DayOfWeek"
   ]
  },
  {
   "cell_type": "markdown",
   "id": "strategic-samba",
   "metadata": {},
   "source": [
    "The weekday of the entry. It ranges from 1 to 7 and corresponds to names of week: 1 is monday, 2 is tuesday and so on."
   ]
  },
  {
   "cell_type": "code",
   "execution_count": 24,
   "id": "composite-system",
   "metadata": {
    "ExecuteTime": {
     "end_time": "2021-12-03T15:03:08.068520Z",
     "start_time": "2021-12-03T15:03:07.651656Z"
    },
    "scrolled": true
   },
   "outputs": [
    {
     "data": {
      "image/png": "[encoded data removed]",
      "text/plain": [
       "<Figure size 720x302.4 with 1 Axes>"
      ]
     },
     "metadata": {
      "needs_background": "light"
     },
     "output_type": "display_data"
    }
   ],
   "source": [
    "barh(train, 'DayOfWeek')"
   ]
  },
  {
   "cell_type": "markdown",
   "id": "iraqi-incidence",
   "metadata": {},
   "source": [
    "It is a categorical feature. It depends on **Date** feature. So its using also depends on using the **Date** feature. If all the table is splitted into time series for each store, then this feature most likely is unimportant. If only the lag features will be added, this feature will be useful."
   ]
  },
  {
   "cell_type": "markdown",
   "id": "promotional-overview",
   "metadata": {},
   "source": [
    "## Date"
   ]
  },
  {
   "cell_type": "markdown",
   "id": "liable-master",
   "metadata": {},
   "source": [
    "The day of entry. In the table this feature is a string one. Let's research if there are all the days between the start and end."
   ]
  },
  {
   "cell_type": "code",
   "execution_count": 25,
   "id": "average-diploma",
   "metadata": {
    "ExecuteTime": {
     "end_time": "2021-12-03T15:03:51.991556Z",
     "start_time": "2021-12-03T15:03:08.068520Z"
    }
   },
   "outputs": [
    {
     "name": "stdout",
     "output_type": "stream",
     "text": [
      "The number of unique dates: 942\n"
     ]
    }
   ],
   "source": [
    "dates = train.Date.apply(lambda date: datetime.datetime.strptime(date, '%Y-%m-%d'))\n",
    "print('The number of unique dates:', dates.nunique())"
   ]
  },
  {
   "cell_type": "code",
   "execution_count": 26,
   "id": "aboriginal-chorus",
   "metadata": {
    "ExecuteTime": {
     "end_time": "2021-12-03T15:03:52.099743Z",
     "start_time": "2021-12-03T15:03:51.999573Z"
    }
   },
   "outputs": [
    {
     "name": "stdout",
     "output_type": "stream",
     "text": [
      "The start date in table: 2013-01-01 00:00:00\n",
      "The end date in table: 2015-07-31 00:00:00\n",
      "The number of different days between them: 942\n"
     ]
    }
   ],
   "source": [
    "print('The start date in table:', dates.min())\n",
    "print('The end date in table:', dates.max())\n",
    "print('The number of different days between them:', (dates.max() - dates.min()).days + 1)"
   ]
  },
  {
   "cell_type": "markdown",
   "id": "diverse-domain",
   "metadata": {},
   "source": [
    "So there are all the days between the start and end ones. As it is the feature that defines the time moment it is possible to split the table into time series for each store."
   ]
  },
  {
   "cell_type": "markdown",
   "id": "powered-montreal",
   "metadata": {},
   "source": [
    "## Open"
   ]
  },
  {
   "cell_type": "markdown",
   "id": "hungarian-thompson",
   "metadata": {},
   "source": [
    "Indicates whether the store is opened at this day (equals 1) or closed (equals 0). The number of values:"
   ]
  },
  {
   "cell_type": "code",
   "execution_count": 27,
   "id": "bibliographic-state",
   "metadata": {
    "ExecuteTime": {
     "end_time": "2021-12-03T15:03:52.351864Z",
     "start_time": "2021-12-03T15:03:52.107740Z"
    }
   },
   "outputs": [
    {
     "data": {
      "image/png": "[encoded data removed]",
      "text/plain": [
       "<Figure size 720x86.4 with 1 Axes>"
      ]
     },
     "metadata": {
      "needs_background": "light"
     },
     "output_type": "display_data"
    }
   ],
   "source": [
    "barh(train, 'Open')"
   ]
  },
  {
   "cell_type": "markdown",
   "id": "overall-charter",
   "metadata": {},
   "source": [
    "It is a categorical feature that takes only two values: 0 and 1. So this feature is ready for training the models."
   ]
  },
  {
   "cell_type": "markdown",
   "id": "collect-nigeria",
   "metadata": {},
   "source": [
    "There is a significant part of zeros. For such entries the sales equal 0. So the rows where Open equals 0 can be removed."
   ]
  },
  {
   "cell_type": "markdown",
   "id": "korean-grove",
   "metadata": {},
   "source": [
    "## Sales (target)"
   ]
  },
  {
   "cell_type": "markdown",
   "id": "checked-mattress",
   "metadata": {},
   "source": [
    "The turnover in this day and this store. It is the numeric feature. The distribution of the feature:"
   ]
  },
  {
   "cell_type": "code",
   "execution_count": 28,
   "id": "parliamentary-craft",
   "metadata": {
    "ExecuteTime": {
     "end_time": "2021-12-03T15:03:53.724321Z",
     "start_time": "2021-12-03T15:03:52.359857Z"
    }
   },
   "outputs": [
    {
     "data": {
      "image/png": "[encoded data removed]",
      "text/plain": [
       "<Figure size 720x432 with 1 Axes>"
      ]
     },
     "metadata": {
      "needs_background": "light"
     },
     "output_type": "display_data"
    }
   ],
   "source": [
    "hist(train, 'Sales', bins=120)"
   ]
  },
  {
   "cell_type": "markdown",
   "id": "exciting-numbers",
   "metadata": {},
   "source": [
    "It is a numeric feature. So the prediction task is the regression one."
   ]
  },
  {
   "cell_type": "markdown",
   "id": "unnecessary-smooth",
   "metadata": {},
   "source": [
    "Mind the count of zeros. It is explained by the **Open** feature: if it equals 0, then **Sales** also equals 0."
   ]
  },
  {
   "cell_type": "code",
   "execution_count": 29,
   "id": "going-dance",
   "metadata": {
    "ExecuteTime": {
     "end_time": "2021-12-03T15:03:53.833091Z",
     "start_time": "2021-12-03T15:03:53.745099Z"
    }
   },
   "outputs": [
    {
     "data": {
      "text/plain": [
       "True"
      ]
     },
     "execution_count": 29,
     "metadata": {},
     "output_type": "execute_result"
    }
   ],
   "source": [
    "(train[train.Open == 0].Sales == 0).all()"
   ]
  },
  {
   "cell_type": "markdown",
   "id": "french-purpose",
   "metadata": {},
   "source": [
    "The distribution of this feature when **Open** = 1:"
   ]
  },
  {
   "cell_type": "code",
   "execution_count": 30,
   "id": "blocked-framing",
   "metadata": {
    "ExecuteTime": {
     "end_time": "2021-12-03T15:03:55.401981Z",
     "start_time": "2021-12-03T15:03:53.849089Z"
    },
    "scrolled": false
   },
   "outputs": [
    {
     "data": {
      "image/png": "[encoded data removed]",
      "text/plain": [
       "<Figure size 720x432 with 1 Axes>"
      ]
     },
     "metadata": {
      "needs_background": "light"
     },
     "output_type": "display_data"
    }
   ],
   "source": [
    "hist(train[train.Open == 1], 'Sales', bins=120)"
   ]
  },
  {
   "cell_type": "markdown",
   "id": "roman-mainstream",
   "metadata": {},
   "source": [
    "As this feature is numeric and has a wide values range it should be normalized or standartized."
   ]
  },
  {
   "cell_type": "markdown",
   "id": "metric-combat",
   "metadata": {},
   "source": [
    "Let's see the summary sales for each store and show the histogram of values."
   ]
  },
  {
   "cell_type": "code",
   "execution_count": 31,
   "id": "right-builder",
   "metadata": {
    "ExecuteTime": {
     "end_time": "2021-12-03T15:03:55.568053Z",
     "start_time": "2021-12-03T15:03:55.409988Z"
    }
   },
   "outputs": [],
   "source": [
    "store_sum_sales = train.groupby('Store').agg({'Sales':'sum'})"
   ]
  },
  {
   "cell_type": "code",
   "execution_count": 32,
   "id": "electronic-elite",
   "metadata": {
    "ExecuteTime": {
     "end_time": "2021-12-03T15:03:56.686320Z",
     "start_time": "2021-12-03T15:03:55.576051Z"
    },
    "scrolled": true
   },
   "outputs": [
    {
     "data": {
      "image/png": "[encoded data removed]",
      "text/plain": [
       "<Figure size 720x432 with 1 Axes>"
      ]
     },
     "metadata": {
      "needs_background": "light"
     },
     "output_type": "display_data"
    }
   ],
   "source": [
    "hist_series(store_sum_sales, ser_name='store sum sales')"
   ]
  },
  {
   "cell_type": "markdown",
   "id": "piano-format",
   "metadata": {},
   "source": [
    "If to take a logarithm of these values minus 1e6, the histogram will be the following:"
   ]
  },
  {
   "cell_type": "code",
   "execution_count": 33,
   "id": "supposed-point",
   "metadata": {
    "ExecuteTime": {
     "end_time": "2021-12-03T15:03:57.574585Z",
     "start_time": "2021-12-03T15:03:56.695408Z"
    }
   },
   "outputs": [
    {
     "data": {
      "image/png": "[encoded data removed]",
      "text/plain": [
       "<Figure size 720x432 with 1 Axes>"
      ]
     },
     "metadata": {
      "needs_background": "light"
     },
     "output_type": "display_data"
    }
   ],
   "source": [
    "hist_series(np.log10(store_sum_sales - 1e6), 'log_sum_sales')"
   ]
  },
  {
   "cell_type": "markdown",
   "id": "final-peripheral",
   "metadata": {},
   "source": [
    "So it is possible to create a new feature that equals the summary sales for this store."
   ]
  },
  {
   "cell_type": "markdown",
   "id": "compatible-school",
   "metadata": {},
   "source": [
    "## Customers"
   ]
  },
  {
   "cell_type": "markdown",
   "id": "radical-transportation",
   "metadata": {},
   "source": [
    "The number of customers in the shop at this day. The distribution of this feature:"
   ]
  },
  {
   "cell_type": "code",
   "execution_count": 34,
   "id": "native-technology",
   "metadata": {
    "ExecuteTime": {
     "end_time": "2021-12-03T15:03:58.931601Z",
     "start_time": "2021-12-03T15:03:57.579597Z"
    }
   },
   "outputs": [
    {
     "data": {
      "image/png": "[encoded data removed]",
      "text/plain": [
       "<Figure size 720x432 with 1 Axes>"
      ]
     },
     "metadata": {
      "needs_background": "light"
     },
     "output_type": "display_data"
    }
   ],
   "source": [
    "hist(train, 'Customers', bins=120)"
   ]
  },
  {
   "cell_type": "markdown",
   "id": "controversial-scientist",
   "metadata": {},
   "source": [
    "It is a numeric feature."
   ]
  },
  {
   "cell_type": "markdown",
   "id": "incident-sheffield",
   "metadata": {},
   "source": [
    "As in the **Sales** feature there are many zeros. It is explained by the **Open** feature: if it equals 0, then the number of customers also equals 0. The distribution of this feature when **Open** = 1:"
   ]
  },
  {
   "cell_type": "code",
   "execution_count": 35,
   "id": "vital-vanilla",
   "metadata": {
    "ExecuteTime": {
     "end_time": "2021-12-03T15:04:00.471610Z",
     "start_time": "2021-12-03T15:03:58.939591Z"
    }
   },
   "outputs": [
    {
     "data": {
      "image/png": "[encoded data removed]",
      "text/plain": [
       "<Figure size 720x432 with 1 Axes>"
      ]
     },
     "metadata": {
      "needs_background": "light"
     },
     "output_type": "display_data"
    }
   ],
   "source": [
    "hist(train[train.Open == 1], 'Customers', bins=120)"
   ]
  },
  {
   "cell_type": "markdown",
   "id": "martial-halloween",
   "metadata": {},
   "source": [
    "The distribution is similar to lognormal. Let's see the distribution of the log(**Customers** + 1000) \"feature\". +1000 because **Customers** can be equal 0. And with 1000 the distribution is more symmetric."
   ]
  },
  {
   "cell_type": "code",
   "execution_count": 36,
   "id": "charged-outreach",
   "metadata": {
    "ExecuteTime": {
     "end_time": "2021-12-03T15:04:01.964925Z",
     "start_time": "2021-12-03T15:04:00.476267Z"
    },
    "scrolled": false
   },
   "outputs": [
    {
     "data": {
      "image/png": "[encoded data removed]",
      "text/plain": [
       "<Figure size 720x432 with 1 Axes>"
      ]
     },
     "metadata": {
      "needs_background": "light"
     },
     "output_type": "display_data"
    }
   ],
   "source": [
    "log_costs = np.log10(train[train.Open == 1].Customers + 1000)\n",
    "hist_series(log_costs, 'logarithm of customers + 1000', bins=120)"
   ]
  },
  {
   "cell_type": "markdown",
   "id": "polished-reviewer",
   "metadata": {},
   "source": [
    "It is a bit similar to normal distribution."
   ]
  },
  {
   "cell_type": "markdown",
   "id": "sublime-being",
   "metadata": {},
   "source": [
    "This feature is absent in test dataset. But it can be used in training. Let's calculate the total number of customers for each store and show the histogram."
   ]
  },
  {
   "cell_type": "code",
   "execution_count": 37,
   "id": "conventional-violin",
   "metadata": {
    "ExecuteTime": {
     "end_time": "2021-12-03T15:04:03.030975Z",
     "start_time": "2021-12-03T15:04:01.972923Z"
    },
    "scrolled": true
   },
   "outputs": [
    {
     "data": {
      "image/png": "[encoded data removed]",
      "text/plain": [
       "<Figure size 720x432 with 1 Axes>"
      ]
     },
     "metadata": {
      "needs_background": "light"
     },
     "output_type": "display_data"
    }
   ],
   "source": [
    "hist_series(train.groupby('Store').Customers.sum(), ser_name='customers count', bins=80)"
   ]
  },
  {
   "cell_type": "markdown",
   "id": "closing-sudan",
   "metadata": {},
   "source": [
    "Let's transform this series by function $f(x)=log_{10}(x-1.2\\cdot 10^5)$"
   ]
  },
  {
   "cell_type": "code",
   "execution_count": 38,
   "id": "precise-newcastle",
   "metadata": {
    "ExecuteTime": {
     "end_time": "2021-12-03T15:04:04.336331Z",
     "start_time": "2021-12-03T15:04:03.030975Z"
    }
   },
   "outputs": [
    {
     "data": {
      "image/png": "[encoded data removed]",
      "text/plain": [
       "<Figure size 720x432 with 1 Axes>"
      ]
     },
     "metadata": {
      "needs_background": "light"
     },
     "output_type": "display_data"
    }
   ],
   "source": [
    "hist_series(train.groupby('Store').Customers.sum().apply(lambda x: np.log10(x-1.2e5)), ser_name='transformed customers count', bins=80)"
   ]
  },
  {
   "cell_type": "markdown",
   "id": "improving-punch",
   "metadata": {},
   "source": [
    "The distribution is similar to normal. So it can be used as a new feature in the ***store*** table."
   ]
  },
  {
   "cell_type": "markdown",
   "id": "established-memorial",
   "metadata": {},
   "source": [
    "## Promo"
   ]
  },
  {
   "cell_type": "markdown",
   "id": "empirical-chamber",
   "metadata": {},
   "source": [
    "Indicates whether a store is running a promo on that day (equals 1) or not (equals 0). The count of its values"
   ]
  },
  {
   "cell_type": "code",
   "execution_count": 39,
   "id": "solar-syntax",
   "metadata": {
    "ExecuteTime": {
     "end_time": "2021-12-03T15:04:04.608563Z",
     "start_time": "2021-12-03T15:04:04.344337Z"
    },
    "scrolled": true
   },
   "outputs": [
    {
     "data": {
      "image/png": "[encoded data removed]",
      "text/plain": [
       "<Figure size 720x86.4 with 1 Axes>"
      ]
     },
     "metadata": {
      "needs_background": "light"
     },
     "output_type": "display_data"
    }
   ],
   "source": [
    "barh(train, 'Promo')"
   ]
  },
  {
   "cell_type": "markdown",
   "id": "electronic-honor",
   "metadata": {},
   "source": [
    "It is a categorical feature that takes two values: 0 and 1. So this feature is ready for training models."
   ]
  },
  {
   "cell_type": "markdown",
   "id": "valued-pharmacology",
   "metadata": {},
   "source": [
    "## StateHoliday"
   ]
  },
  {
   "cell_type": "markdown",
   "id": "american-translation",
   "metadata": {},
   "source": [
    "Indicates a state holiday. There are four values that means: a - public holiday, b - Easter holiday, c - Christmas, 0 - no holiday. But the columns contains values 0 and '0'. So after casting the numeric values to string let's see the count of values"
   ]
  },
  {
   "cell_type": "code",
   "execution_count": 40,
   "id": "hungarian-oriental",
   "metadata": {
    "ExecuteTime": {
     "end_time": "2021-12-03T15:04:05.056209Z",
     "start_time": "2021-12-03T15:04:04.616293Z"
    }
   },
   "outputs": [],
   "source": [
    "train.StateHoliday = train.StateHoliday.apply(str)"
   ]
  },
  {
   "cell_type": "code",
   "execution_count": 41,
   "id": "dated-stretch",
   "metadata": {
    "ExecuteTime": {
     "end_time": "2021-12-03T15:04:05.664108Z",
     "start_time": "2021-12-03T15:04:05.064212Z"
    },
    "scrolled": true
   },
   "outputs": [
    {
     "data": {
      "image/png": "[encoded data removed]",
      "text/plain": [
       "<Figure size 720x172.8 with 1 Axes>"
      ]
     },
     "metadata": {
      "needs_background": "light"
     },
     "output_type": "display_data"
    }
   ],
   "source": [
    "barh(train, 'StateHoliday')"
   ]
  },
  {
   "cell_type": "markdown",
   "id": "black-storage",
   "metadata": {},
   "source": [
    "It is a categorical feature that takes non-numeric values. So it must be transformed to numeric features e.g. using one-hot encoder."
   ]
  },
  {
   "cell_type": "markdown",
   "id": "three-maria",
   "metadata": {},
   "source": [
    "## SchoolHoliday"
   ]
  },
  {
   "cell_type": "markdown",
   "id": "danish-blackberry",
   "metadata": {},
   "source": [
    "Indicates if the (Store, Date) was affected by the closure of public schools. The count of values"
   ]
  },
  {
   "cell_type": "code",
   "execution_count": 42,
   "id": "rough-duration",
   "metadata": {
    "ExecuteTime": {
     "end_time": "2021-12-03T15:04:05.923575Z",
     "start_time": "2021-12-03T15:04:05.664108Z"
    }
   },
   "outputs": [
    {
     "data": {
      "image/png": "[encoded data removed]",
      "text/plain": [
       "<Figure size 720x86.4 with 1 Axes>"
      ]
     },
     "metadata": {
      "needs_background": "light"
     },
     "output_type": "display_data"
    }
   ],
   "source": [
    "barh(train, 'SchoolHoliday')"
   ]
  },
  {
   "cell_type": "markdown",
   "id": "above-dover",
   "metadata": {},
   "source": [
    "## Some relations between features"
   ]
  },
  {
   "cell_type": "markdown",
   "id": "nasty-heavy",
   "metadata": {},
   "source": [
    "Let's see in what days the stores are closed."
   ]
  },
  {
   "cell_type": "code",
   "execution_count": 43,
   "id": "sensitive-morgan",
   "metadata": {
    "ExecuteTime": {
     "end_time": "2021-12-03T15:04:07.014246Z",
     "start_time": "2021-12-03T15:04:05.931574Z"
    }
   },
   "outputs": [
    {
     "data": {
      "image/png": "[encoded data removed]",
      "text/plain": [
       "<Figure size 864x504 with 1 Axes>"
      ]
     },
     "metadata": {
      "needs_background": "light"
     },
     "output_type": "display_data"
    }
   ],
   "source": [
    "cross_bar_plot(train, col_x='DayOfWeek', col_hue='Open', figsize=(12, 7))"
   ]
  },
  {
   "cell_type": "markdown",
   "id": "operational-basics",
   "metadata": {},
   "source": [
    "As expected the most stores have a day off as sunday and there is almost no sundays when the stores are opened."
   ]
  },
  {
   "cell_type": "markdown",
   "id": "painful-volunteer",
   "metadata": {},
   "source": [
    "Now let's calculate for each day of week the number of days when the stores were closed.  \n",
    "And extract the stores for which the sunday is not the main weekend."
   ]
  },
  {
   "cell_type": "code",
   "execution_count": 44,
   "id": "sexual-regulation",
   "metadata": {
    "ExecuteTime": {
     "end_time": "2021-12-03T15:04:25.773459Z",
     "start_time": "2021-12-03T15:04:07.020257Z"
    }
   },
   "outputs": [],
   "source": [
    "weekends = {}\n",
    "for store_id in store.Store:\n",
    "    store_info = train[(train.Open == 0) & (train.Store == store_id)]\n",
    "    weekday_count = store_info.DayOfWeek.value_counts()\n",
    "    try:\n",
    "        weekends[store_id] = weekday_count.index[weekday_count.argmax()]\n",
    "    except:\n",
    "        pass\n",
    "\n",
    "stores_with_work_sunday = []\n",
    "for key, value in weekends.items():\n",
    "    if value != 7:\n",
    "        stores_with_work_sunday.append(key)"
   ]
  },
  {
   "cell_type": "markdown",
   "id": "sized-backup",
   "metadata": {},
   "source": [
    "Plot the histograms of the count of weekends for stores for which sunday is not the main weekend."
   ]
  },
  {
   "cell_type": "code",
   "execution_count": 45,
   "id": "balanced-reviewer",
   "metadata": {
    "ExecuteTime": {
     "end_time": "2021-12-03T15:04:28.392141Z",
     "start_time": "2021-12-03T15:04:25.775646Z"
    },
    "scrolled": false
   },
   "outputs": [
    {
     "data": {
      "image/png": "[encoded data removed]",
      "text/plain": [
       "<Figure size 576x360 with 1 Axes>"
      ]
     },
     "metadata": {
      "needs_background": "light"
     },
     "output_type": "display_data"
    },
    {
     "data": {
      "image/png": "[encoded data removed]",
      "text/plain": [
       "<Figure size 576x360 with 1 Axes>"
      ]
     },
     "metadata": {
      "needs_background": "light"
     },
     "output_type": "display_data"
    },
    {
     "data": {
      "image/png": "[encoded data removed]",
      "text/plain": [
       "<Figure size 576x360 with 1 Axes>"
      ]
     },
     "metadata": {
      "needs_background": "light"
     },
     "output_type": "display_data"
    },
    {
     "data": {
      "image/png": "[encoded data removed]",
      "text/plain": [
       "<Figure size 576x360 with 1 Axes>"
      ]
     },
     "metadata": {
      "needs_background": "light"
     },
     "output_type": "display_data"
    },
    {
     "data": {
      "image/png": "[encoded data removed]",
      "text/plain": [
       "<Figure size 576x360 with 1 Axes>"
      ]
     },
     "metadata": {
      "needs_background": "light"
     },
     "output_type": "display_data"
    }
   ],
   "source": [
    "for store_id in stores_with_work_sunday:\n",
    "    bar(train[(train.Store == store_id) & (train.Open == 0)], 'DayOfWeek', title=f'DayOfWeek for store {store_id}', figsize=(8, 5))"
   ]
  },
  {
   "cell_type": "markdown",
   "id": "executive-wisdom",
   "metadata": {},
   "source": [
    "All these stores but the last have few days when they were closed. For the last one the count of \"weekends\" almost equals among all weekdays. Maybe there were a few weeks during that it was closed. These stores are similar to ones that work without weekends. And the other stores have the sunday as their main weekend. So there are stores that either work without weekends or work with sunday as weekday."
   ]
  },
  {
   "cell_type": "markdown",
   "id": "fitting-privacy",
   "metadata": {},
   "source": [
    "The other relations between features will be researched after the trasformation the data."
   ]
  },
  {
   "cell_type": "code",
   "execution_count": null,
   "id": "threaded-vintage",
   "metadata": {},
   "outputs": [],
   "source": []
  },
  {
   "cell_type": "markdown",
   "id": "consistent-matthew",
   "metadata": {},
   "source": [
    "# test"
   ]
  },
  {
   "cell_type": "code",
   "execution_count": 46,
   "id": "antique-teacher",
   "metadata": {
    "ExecuteTime": {
     "end_time": "2021-12-03T15:04:28.484760Z",
     "start_time": "2021-12-03T15:04:28.396759Z"
    },
    "scrolled": false
   },
   "outputs": [
    {
     "name": "stdout",
     "output_type": "stream",
     "text": [
      "<class 'pandas.core.frame.DataFrame'>\n",
      "RangeIndex: 41088 entries, 0 to 41087\n",
      "Data columns (total 8 columns):\n",
      " #   Column         Non-Null Count  Dtype  \n",
      "---  ------         --------------  -----  \n",
      " 0   Id             41088 non-null  int64  \n",
      " 1   Store          41088 non-null  int64  \n",
      " 2   DayOfWeek      41088 non-null  int64  \n",
      " 3   Date           41088 non-null  object \n",
      " 4   Open           41077 non-null  float64\n",
      " 5   Promo          41088 non-null  int64  \n",
      " 6   StateHoliday   41088 non-null  object \n",
      " 7   SchoolHoliday  41088 non-null  int64  \n",
      "dtypes: float64(1), int64(5), object(2)\n",
      "memory usage: 2.5+ MB\n"
     ]
    },
    {
     "data": {
      "text/html": [
       "<div>\n",
       "<style scoped>\n",
       "    .dataframe tbody tr th:only-of-type {\n",
       "        vertical-align: middle;\n",
       "    }\n",
       "\n",
       "    .dataframe tbody tr th {\n",
       "        vertical-align: top;\n",
       "    }\n",
       "\n",
       "    .dataframe thead th {\n",
       "        text-align: right;\n",
       "    }\n",
       "</style>\n",
       "<table border=\"1\" class=\"dataframe\">\n",
       "  <thead>\n",
       "    <tr style=\"text-align: right;\">\n",
       "      <th></th>\n",
       "      <th>Id</th>\n",
       "      <th>Store</th>\n",
       "      <th>DayOfWeek</th>\n",
       "      <th>Date</th>\n",
       "      <th>Open</th>\n",
       "      <th>Promo</th>\n",
       "      <th>StateHoliday</th>\n",
       "      <th>SchoolHoliday</th>\n",
       "    </tr>\n",
       "  </thead>\n",
       "  <tbody>\n",
       "    <tr>\n",
       "      <th>0</th>\n",
       "      <td>1</td>\n",
       "      <td>1</td>\n",
       "      <td>4</td>\n",
       "      <td>2015-09-17</td>\n",
       "      <td>1.0</td>\n",
       "      <td>1</td>\n",
       "      <td>0</td>\n",
       "      <td>0</td>\n",
       "    </tr>\n",
       "    <tr>\n",
       "      <th>1</th>\n",
       "      <td>2</td>\n",
       "      <td>3</td>\n",
       "      <td>4</td>\n",
       "      <td>2015-09-17</td>\n",
       "      <td>1.0</td>\n",
       "      <td>1</td>\n",
       "      <td>0</td>\n",
       "      <td>0</td>\n",
       "    </tr>\n",
       "    <tr>\n",
       "      <th>2</th>\n",
       "      <td>3</td>\n",
       "      <td>7</td>\n",
       "      <td>4</td>\n",
       "      <td>2015-09-17</td>\n",
       "      <td>1.0</td>\n",
       "      <td>1</td>\n",
       "      <td>0</td>\n",
       "      <td>0</td>\n",
       "    </tr>\n",
       "    <tr>\n",
       "      <th>3</th>\n",
       "      <td>4</td>\n",
       "      <td>8</td>\n",
       "      <td>4</td>\n",
       "      <td>2015-09-17</td>\n",
       "      <td>1.0</td>\n",
       "      <td>1</td>\n",
       "      <td>0</td>\n",
       "      <td>0</td>\n",
       "    </tr>\n",
       "    <tr>\n",
       "      <th>4</th>\n",
       "      <td>5</td>\n",
       "      <td>9</td>\n",
       "      <td>4</td>\n",
       "      <td>2015-09-17</td>\n",
       "      <td>1.0</td>\n",
       "      <td>1</td>\n",
       "      <td>0</td>\n",
       "      <td>0</td>\n",
       "    </tr>\n",
       "  </tbody>\n",
       "</table>\n",
       "</div>"
      ],
      "text/plain": [
       "   Id  Store  DayOfWeek        Date  Open  Promo StateHoliday  SchoolHoliday\n",
       "0   1      1          4  2015-09-17   1.0      1            0              0\n",
       "1   2      3          4  2015-09-17   1.0      1            0              0\n",
       "2   3      7          4  2015-09-17   1.0      1            0              0\n",
       "3   4      8          4  2015-09-17   1.0      1            0              0\n",
       "4   5      9          4  2015-09-17   1.0      1            0              0"
      ]
     },
     "execution_count": 46,
     "metadata": {},
     "output_type": "execute_result"
    }
   ],
   "source": [
    "test.info()\n",
    "test.head()"
   ]
  },
  {
   "cell_type": "markdown",
   "id": "instant-prize",
   "metadata": {},
   "source": [
    "The ***test*** table contains the same columns as the ***train*** table but the columns **Sales** and **Customers**. "
   ]
  },
  {
   "cell_type": "markdown",
   "id": "opposed-poison",
   "metadata": {},
   "source": [
    "## Id"
   ]
  },
  {
   "cell_type": "markdown",
   "id": "robust-contrast",
   "metadata": {},
   "source": [
    "The identifier of the row used for submission"
   ]
  },
  {
   "cell_type": "markdown",
   "id": "expired-hello",
   "metadata": {},
   "source": [
    "## Store"
   ]
  },
  {
   "cell_type": "markdown",
   "id": "accurate-projection",
   "metadata": {},
   "source": [
    "The identifier of stores. The number of stores in the table:"
   ]
  },
  {
   "cell_type": "code",
   "execution_count": 47,
   "id": "expensive-filename",
   "metadata": {
    "ExecuteTime": {
     "end_time": "2021-12-03T15:04:28.522543Z",
     "start_time": "2021-12-03T15:04:28.492759Z"
    }
   },
   "outputs": [
    {
     "data": {
      "text/plain": [
       "856"
      ]
     },
     "execution_count": 47,
     "metadata": {},
     "output_type": "execute_result"
    }
   ],
   "source": [
    "test.Store.nunique()"
   ]
  },
  {
   "cell_type": "markdown",
   "id": "cross-formula",
   "metadata": {},
   "source": [
    "Formally it is the histogram of values. But it can be used to see if there is some big intervals of missing values or not."
   ]
  },
  {
   "cell_type": "code",
   "execution_count": 48,
   "id": "chronic-humidity",
   "metadata": {
    "ExecuteTime": {
     "end_time": "2021-12-03T15:04:35.863806Z",
     "start_time": "2021-12-03T15:04:28.530547Z"
    }
   },
   "outputs": [
    {
     "data": {
      "image/png": "[encoded data removed]",
      "text/plain": [
       "<Figure size 432x288 with 1 Axes>"
      ]
     },
     "metadata": {
      "needs_background": "light"
     },
     "output_type": "display_data"
    }
   ],
   "source": [
    "test.Store.hist(bins=1115)\n",
    "plt.show()"
   ]
  },
  {
   "cell_type": "markdown",
   "id": "discrete-interface",
   "metadata": {},
   "source": [
    "So not all stores are present in test dataset."
   ]
  },
  {
   "cell_type": "markdown",
   "id": "honest-addition",
   "metadata": {},
   "source": [
    "## DayOfWeek"
   ]
  },
  {
   "cell_type": "markdown",
   "id": "eleven-logic",
   "metadata": {},
   "source": [
    "The day of week. The histogram of values:"
   ]
  },
  {
   "cell_type": "code",
   "execution_count": 49,
   "id": "monthly-arbor",
   "metadata": {
    "ExecuteTime": {
     "end_time": "2021-12-03T15:04:36.640102Z",
     "start_time": "2021-12-03T15:04:35.871811Z"
    }
   },
   "outputs": [
    {
     "data": {
      "image/png": "[encoded data removed]",
      "text/plain": [
       "<Figure size 720x432 with 1 Axes>"
      ]
     },
     "metadata": {
      "needs_background": "light"
     },
     "output_type": "display_data"
    }
   ],
   "source": [
    "bar(test, 'DayOfWeek')"
   ]
  },
  {
   "cell_type": "markdown",
   "id": "encouraging-vietnam",
   "metadata": {},
   "source": [
    "## Date"
   ]
  },
  {
   "cell_type": "code",
   "execution_count": 50,
   "id": "muslim-crawford",
   "metadata": {
    "ExecuteTime": {
     "end_time": "2021-12-03T15:04:38.501828Z",
     "start_time": "2021-12-03T15:04:36.648101Z"
    }
   },
   "outputs": [
    {
     "name": "stdout",
     "output_type": "stream",
     "text": [
      "The number of unique dates: 48\n"
     ]
    }
   ],
   "source": [
    "test_dates = test.Date.apply(lambda date: datetime.datetime.strptime(date, '%Y-%m-%d'))\n",
    "print('The number of unique dates:', test_dates.nunique())"
   ]
  },
  {
   "cell_type": "code",
   "execution_count": 51,
   "id": "cleared-semiconductor",
   "metadata": {
    "ExecuteTime": {
     "end_time": "2021-12-03T15:04:38.551850Z",
     "start_time": "2021-12-03T15:04:38.503839Z"
    },
    "scrolled": true
   },
   "outputs": [
    {
     "name": "stdout",
     "output_type": "stream",
     "text": [
      "The start date in table: 2015-08-01 00:00:00\n",
      "The end date in table: 2015-09-17 00:00:00\n",
      "The number of different days between them: 48\n"
     ]
    }
   ],
   "source": [
    "print('The start date in table:', test_dates.min())\n",
    "print('The end date in table:', test_dates.max())\n",
    "print('The number of different days between them:', (test_dates.max() - test_dates.min()).days + 1)"
   ]
  },
  {
   "cell_type": "markdown",
   "id": "limiting-hartford",
   "metadata": {},
   "source": [
    "## Open"
   ]
  },
  {
   "cell_type": "markdown",
   "id": "previous-casino",
   "metadata": {},
   "source": [
    "Let's take a look at the histogram of values:"
   ]
  },
  {
   "cell_type": "code",
   "execution_count": 52,
   "id": "violent-mayor",
   "metadata": {
    "ExecuteTime": {
     "end_time": "2021-12-03T15:04:38.885664Z",
     "start_time": "2021-12-03T15:04:38.559841Z"
    },
    "scrolled": true
   },
   "outputs": [
    {
     "data": {
      "image/png": "[encoded data removed]",
      "text/plain": [
       "<Figure size 720x86.4 with 1 Axes>"
      ]
     },
     "metadata": {
      "needs_background": "light"
     },
     "output_type": "display_data"
    }
   ],
   "source": [
    "barh(test, 'Open')"
   ]
  },
  {
   "cell_type": "markdown",
   "id": "prerequisite-trail",
   "metadata": {},
   "source": [
    "There are rows where **Open** equals 0. For such rows the sales count also equals 0.  \n",
    "Also it contains 11 missing values. Let's see what days this rows correspond."
   ]
  },
  {
   "cell_type": "code",
   "execution_count": 53,
   "id": "responsible-packing",
   "metadata": {
    "ExecuteTime": {
     "end_time": "2021-12-03T15:04:39.429581Z",
     "start_time": "2021-12-03T15:04:38.893664Z"
    },
    "scrolled": true
   },
   "outputs": [
    {
     "data": {
      "image/png": "[encoded data removed]",
      "text/plain": [
       "<Figure size 720x259.2 with 1 Axes>"
      ]
     },
     "metadata": {
      "needs_background": "light"
     },
     "output_type": "display_data"
    }
   ],
   "source": [
    "barh(test[test.Open.isna()], 'DayOfWeek')"
   ]
  },
  {
   "cell_type": "markdown",
   "id": "consistent-malta",
   "metadata": {},
   "source": [
    "There is no sundays among them. It means that with a high probability these stores were opened at these days. So the missing values will be filled with 1."
   ]
  },
  {
   "cell_type": "markdown",
   "id": "knowing-graduate",
   "metadata": {},
   "source": [
    "## Promo"
   ]
  },
  {
   "cell_type": "markdown",
   "id": "amber-participant",
   "metadata": {},
   "source": [
    "Indicates whether a store is running a promo on that day (equals 1) or not (equals 0). The count of its values"
   ]
  },
  {
   "cell_type": "code",
   "execution_count": 54,
   "id": "trained-payment",
   "metadata": {
    "ExecuteTime": {
     "end_time": "2021-12-03T15:04:39.776937Z",
     "start_time": "2021-12-03T15:04:39.437575Z"
    }
   },
   "outputs": [
    {
     "data": {
      "image/png": "[encoded data removed]",
      "text/plain": [
       "<Figure size 720x86.4 with 1 Axes>"
      ]
     },
     "metadata": {
      "needs_background": "light"
     },
     "output_type": "display_data"
    }
   ],
   "source": [
    "barh(test, 'Promo')"
   ]
  },
  {
   "cell_type": "markdown",
   "id": "collectible-vacation",
   "metadata": {},
   "source": [
    "## StateHoliday"
   ]
  },
  {
   "cell_type": "markdown",
   "id": "automated-thumbnail",
   "metadata": {},
   "source": [
    "Indicates a state holiday. There are four values that means: a - public holiday, b - Easter holiday, c - Christmas, 0 - no holiday."
   ]
  },
  {
   "cell_type": "code",
   "execution_count": 55,
   "id": "dietary-makeup",
   "metadata": {
    "ExecuteTime": {
     "end_time": "2021-12-03T15:04:40.083765Z",
     "start_time": "2021-12-03T15:04:39.776937Z"
    }
   },
   "outputs": [
    {
     "data": {
      "image/png": "[encoded data removed]",
      "text/plain": [
       "<Figure size 720x86.4 with 1 Axes>"
      ]
     },
     "metadata": {
      "needs_background": "light"
     },
     "output_type": "display_data"
    }
   ],
   "source": [
    "barh(test, 'StateHoliday')"
   ]
  },
  {
   "cell_type": "markdown",
   "id": "musical-ability",
   "metadata": {},
   "source": [
    "This columns doesn't contain *'b'* and *'c'* values. It is obvious because *'b'* is Easter and *'c'* is Christmas and these holidays are not in the time range of test dataset. As value *'a'* is also a holiday the *'b'* and *'c'* values can be changed to *'a'* in train dataset."
   ]
  },
  {
   "cell_type": "markdown",
   "id": "virgin-arbitration",
   "metadata": {},
   "source": [
    "## SchoolHoliday"
   ]
  },
  {
   "cell_type": "markdown",
   "id": "waiting-retailer",
   "metadata": {},
   "source": [
    "Indicates if the (Store, Date) was affected by the closure of public schools. The count of values"
   ]
  },
  {
   "cell_type": "code",
   "execution_count": 56,
   "id": "direct-miller",
   "metadata": {
    "ExecuteTime": {
     "end_time": "2021-12-03T15:04:40.414043Z",
     "start_time": "2021-12-03T15:04:40.083765Z"
    }
   },
   "outputs": [
    {
     "data": {
      "image/png": "[encoded data removed]",
      "text/plain": [
       "<Figure size 720x86.4 with 1 Axes>"
      ]
     },
     "metadata": {
      "needs_background": "light"
     },
     "output_type": "display_data"
    }
   ],
   "source": [
    "barh(test, 'SchoolHoliday')"
   ]
  },
  {
   "cell_type": "markdown",
   "id": "experienced-reception",
   "metadata": {},
   "source": [
    "The part of ones is greater than in train dataset. Probably in the time range of the test dataset there were autumn holidays."
   ]
  },
  {
   "cell_type": "markdown",
   "id": "insured-canadian",
   "metadata": {},
   "source": [
    "# Transformation"
   ]
  },
  {
   "cell_type": "code",
   "execution_count": 57,
   "id": "conservative-buffer",
   "metadata": {
    "ExecuteTime": {
     "end_time": "2021-12-03T15:04:42.780465Z",
     "start_time": "2021-12-03T15:04:40.422040Z"
    }
   },
   "outputs": [],
   "source": [
    "from sklearn.preprocessing import OneHotEncoder, StandardScaler, MinMaxScaler\n",
    "from sklearn.impute import SimpleImputer\n",
    "from sklearn.pipeline import Pipeline, FeatureUnion\n",
    "from sklearn.base import BaseEstimator, TransformerMixin\n",
    "from sklearn.compose import ColumnTransformer"
   ]
  },
  {
   "cell_type": "markdown",
   "id": "brazilian-period",
   "metadata": {},
   "source": [
    "As in the ***test*** table there is information about 48 days, let's extract 48 last days from ***train*** table as validation dataset."
   ]
  },
  {
   "cell_type": "markdown",
   "id": "floating-indonesia",
   "metadata": {},
   "source": [
    "Variable *dates* contains the dates of the ***train*** table casted to datetime.datetime type."
   ]
  },
  {
   "cell_type": "code",
   "execution_count": 58,
   "id": "enhanced-cause",
   "metadata": {
    "ExecuteTime": {
     "end_time": "2021-12-03T15:05:31.550834Z",
     "start_time": "2021-12-03T15:04:42.786981Z"
    }
   },
   "outputs": [],
   "source": [
    "ordered_day = (dates - datetime.datetime(2013, 1, 1)).apply(attrgetter('days'))"
   ]
  },
  {
   "cell_type": "code",
   "execution_count": 59,
   "id": "found-adapter",
   "metadata": {
    "ExecuteTime": {
     "end_time": "2021-12-03T15:05:31.786259Z",
     "start_time": "2021-12-03T15:05:31.550834Z"
    }
   },
   "outputs": [],
   "source": [
    "train, val = train[ordered_day <= ordered_day.max() - 48], train[ordered_day > ordered_day.max() - 48]"
   ]
  },
  {
   "cell_type": "markdown",
   "id": "above-slope",
   "metadata": {},
   "source": [
    "## store transformation"
   ]
  },
  {
   "cell_type": "markdown",
   "id": "insured-access",
   "metadata": {},
   "source": [
    "First of all let's encode the **StoreType** and **Assortment** features"
   ]
  },
  {
   "cell_type": "code",
   "execution_count": 60,
   "id": "conservative-entity",
   "metadata": {
    "ExecuteTime": {
     "end_time": "2021-12-03T15:05:31.818212Z",
     "start_time": "2021-12-03T15:05:31.794173Z"
    }
   },
   "outputs": [],
   "source": [
    "store_type_values = ['a', 'b', 'c', 'd']\n",
    "assortment_values = ['a', 'b', 'c']"
   ]
  },
  {
   "cell_type": "code",
   "execution_count": 61,
   "id": "fundamental-rogers",
   "metadata": {
    "ExecuteTime": {
     "end_time": "2021-12-03T15:05:31.834158Z",
     "start_time": "2021-12-03T15:05:31.826159Z"
    }
   },
   "outputs": [],
   "source": [
    "encoder = OneHotEncoder([store_type_values,\n",
    "                        assortment_values])"
   ]
  },
  {
   "cell_type": "code",
   "execution_count": 62,
   "id": "random-tuesday",
   "metadata": {
    "ExecuteTime": {
     "end_time": "2021-12-03T15:05:31.874155Z",
     "start_time": "2021-12-03T15:05:31.842157Z"
    }
   },
   "outputs": [],
   "source": [
    "np.set_printoptions(edgeitems=4)"
   ]
  },
  {
   "cell_type": "code",
   "execution_count": 63,
   "id": "parental-suggestion",
   "metadata": {
    "ExecuteTime": {
     "end_time": "2021-12-03T15:05:31.962138Z",
     "start_time": "2021-12-03T15:05:31.874155Z"
    }
   },
   "outputs": [
    {
     "data": {
      "text/html": [
       "<div>\n",
       "<style scoped>\n",
       "    .dataframe tbody tr th:only-of-type {\n",
       "        vertical-align: middle;\n",
       "    }\n",
       "\n",
       "    .dataframe tbody tr th {\n",
       "        vertical-align: top;\n",
       "    }\n",
       "\n",
       "    .dataframe thead th {\n",
       "        text-align: right;\n",
       "    }\n",
       "</style>\n",
       "<table border=\"1\" class=\"dataframe\">\n",
       "  <thead>\n",
       "    <tr style=\"text-align: right;\">\n",
       "      <th></th>\n",
       "      <th>Store</th>\n",
       "      <th>StoreType</th>\n",
       "      <th>Assortment</th>\n",
       "      <th>CompetitionDistance</th>\n",
       "      <th>CompetitionOpenSinceMonth</th>\n",
       "      <th>CompetitionOpenSinceYear</th>\n",
       "      <th>Promo2</th>\n",
       "      <th>Promo2SinceWeek</th>\n",
       "      <th>Promo2SinceYear</th>\n",
       "      <th>PromoInterval</th>\n",
       "    </tr>\n",
       "  </thead>\n",
       "  <tbody>\n",
       "    <tr>\n",
       "      <th>0</th>\n",
       "      <td>1</td>\n",
       "      <td>c</td>\n",
       "      <td>a</td>\n",
       "      <td>1270.0</td>\n",
       "      <td>9.0</td>\n",
       "      <td>2008.0</td>\n",
       "      <td>0</td>\n",
       "      <td>NaN</td>\n",
       "      <td>NaN</td>\n",
       "      <td>NaN</td>\n",
       "    </tr>\n",
       "    <tr>\n",
       "      <th>1</th>\n",
       "      <td>2</td>\n",
       "      <td>a</td>\n",
       "      <td>a</td>\n",
       "      <td>570.0</td>\n",
       "      <td>11.0</td>\n",
       "      <td>2007.0</td>\n",
       "      <td>1</td>\n",
       "      <td>13.0</td>\n",
       "      <td>2010.0</td>\n",
       "      <td>Jan,Apr,Jul,Oct</td>\n",
       "    </tr>\n",
       "    <tr>\n",
       "      <th>2</th>\n",
       "      <td>3</td>\n",
       "      <td>a</td>\n",
       "      <td>a</td>\n",
       "      <td>14130.0</td>\n",
       "      <td>12.0</td>\n",
       "      <td>2006.0</td>\n",
       "      <td>1</td>\n",
       "      <td>14.0</td>\n",
       "      <td>2011.0</td>\n",
       "      <td>Jan,Apr,Jul,Oct</td>\n",
       "    </tr>\n",
       "    <tr>\n",
       "      <th>3</th>\n",
       "      <td>4</td>\n",
       "      <td>c</td>\n",
       "      <td>c</td>\n",
       "      <td>620.0</td>\n",
       "      <td>9.0</td>\n",
       "      <td>2009.0</td>\n",
       "      <td>0</td>\n",
       "      <td>NaN</td>\n",
       "      <td>NaN</td>\n",
       "      <td>NaN</td>\n",
       "    </tr>\n",
       "    <tr>\n",
       "      <th>4</th>\n",
       "      <td>5</td>\n",
       "      <td>a</td>\n",
       "      <td>a</td>\n",
       "      <td>29910.0</td>\n",
       "      <td>4.0</td>\n",
       "      <td>2015.0</td>\n",
       "      <td>0</td>\n",
       "      <td>NaN</td>\n",
       "      <td>NaN</td>\n",
       "      <td>NaN</td>\n",
       "    </tr>\n",
       "    <tr>\n",
       "      <th>...</th>\n",
       "      <td>...</td>\n",
       "      <td>...</td>\n",
       "      <td>...</td>\n",
       "      <td>...</td>\n",
       "      <td>...</td>\n",
       "      <td>...</td>\n",
       "      <td>...</td>\n",
       "      <td>...</td>\n",
       "      <td>...</td>\n",
       "      <td>...</td>\n",
       "    </tr>\n",
       "    <tr>\n",
       "      <th>1110</th>\n",
       "      <td>1111</td>\n",
       "      <td>a</td>\n",
       "      <td>a</td>\n",
       "      <td>1900.0</td>\n",
       "      <td>6.0</td>\n",
       "      <td>2014.0</td>\n",
       "      <td>1</td>\n",
       "      <td>31.0</td>\n",
       "      <td>2013.0</td>\n",
       "      <td>Jan,Apr,Jul,Oct</td>\n",
       "    </tr>\n",
       "    <tr>\n",
       "      <th>1111</th>\n",
       "      <td>1112</td>\n",
       "      <td>c</td>\n",
       "      <td>c</td>\n",
       "      <td>1880.0</td>\n",
       "      <td>4.0</td>\n",
       "      <td>2006.0</td>\n",
       "      <td>0</td>\n",
       "      <td>NaN</td>\n",
       "      <td>NaN</td>\n",
       "      <td>NaN</td>\n",
       "    </tr>\n",
       "    <tr>\n",
       "      <th>1112</th>\n",
       "      <td>1113</td>\n",
       "      <td>a</td>\n",
       "      <td>c</td>\n",
       "      <td>9260.0</td>\n",
       "      <td>NaN</td>\n",
       "      <td>NaN</td>\n",
       "      <td>0</td>\n",
       "      <td>NaN</td>\n",
       "      <td>NaN</td>\n",
       "      <td>NaN</td>\n",
       "    </tr>\n",
       "    <tr>\n",
       "      <th>1113</th>\n",
       "      <td>1114</td>\n",
       "      <td>a</td>\n",
       "      <td>c</td>\n",
       "      <td>870.0</td>\n",
       "      <td>NaN</td>\n",
       "      <td>NaN</td>\n",
       "      <td>0</td>\n",
       "      <td>NaN</td>\n",
       "      <td>NaN</td>\n",
       "      <td>NaN</td>\n",
       "    </tr>\n",
       "    <tr>\n",
       "      <th>1114</th>\n",
       "      <td>1115</td>\n",
       "      <td>d</td>\n",
       "      <td>c</td>\n",
       "      <td>5350.0</td>\n",
       "      <td>NaN</td>\n",
       "      <td>NaN</td>\n",
       "      <td>1</td>\n",
       "      <td>22.0</td>\n",
       "      <td>2012.0</td>\n",
       "      <td>Mar,Jun,Sept,Dec</td>\n",
       "    </tr>\n",
       "  </tbody>\n",
       "</table>\n",
       "<p>1115 rows × 10 columns</p>\n",
       "</div>"
      ],
      "text/plain": [
       "      Store StoreType Assortment  CompetitionDistance  \\\n",
       "0         1         c          a               1270.0   \n",
       "1         2         a          a                570.0   \n",
       "2         3         a          a              14130.0   \n",
       "3         4         c          c                620.0   \n",
       "4         5         a          a              29910.0   \n",
       "...     ...       ...        ...                  ...   \n",
       "1110   1111         a          a               1900.0   \n",
       "1111   1112         c          c               1880.0   \n",
       "1112   1113         a          c               9260.0   \n",
       "1113   1114         a          c                870.0   \n",
       "1114   1115         d          c               5350.0   \n",
       "\n",
       "      CompetitionOpenSinceMonth  CompetitionOpenSinceYear  Promo2  \\\n",
       "0                           9.0                    2008.0       0   \n",
       "1                          11.0                    2007.0       1   \n",
       "2                          12.0                    2006.0       1   \n",
       "3                           9.0                    2009.0       0   \n",
       "4                           4.0                    2015.0       0   \n",
       "...                         ...                       ...     ...   \n",
       "1110                        6.0                    2014.0       1   \n",
       "1111                        4.0                    2006.0       0   \n",
       "1112                        NaN                       NaN       0   \n",
       "1113                        NaN                       NaN       0   \n",
       "1114                        NaN                       NaN       1   \n",
       "\n",
       "      Promo2SinceWeek  Promo2SinceYear     PromoInterval  \n",
       "0                 NaN              NaN               NaN  \n",
       "1                13.0           2010.0   Jan,Apr,Jul,Oct  \n",
       "2                14.0           2011.0   Jan,Apr,Jul,Oct  \n",
       "3                 NaN              NaN               NaN  \n",
       "4                 NaN              NaN               NaN  \n",
       "...               ...              ...               ...  \n",
       "1110             31.0           2013.0   Jan,Apr,Jul,Oct  \n",
       "1111              NaN              NaN               NaN  \n",
       "1112              NaN              NaN               NaN  \n",
       "1113              NaN              NaN               NaN  \n",
       "1114             22.0           2012.0  Mar,Jun,Sept,Dec  \n",
       "\n",
       "[1115 rows x 10 columns]"
      ]
     },
     "execution_count": 63,
     "metadata": {},
     "output_type": "execute_result"
    }
   ],
   "source": [
    "store"
   ]
  },
  {
   "cell_type": "code",
   "execution_count": 64,
   "id": "operating-replica",
   "metadata": {
    "ExecuteTime": {
     "end_time": "2021-12-03T15:05:32.010130Z",
     "start_time": "2021-12-03T15:05:31.970136Z"
    },
    "scrolled": true
   },
   "outputs": [
    {
     "data": {
      "text/plain": [
       "array([[0., 0., 1., 0., 1., 0., 0.],\n",
       "       [1., 0., 0., 0., 1., 0., 0.],\n",
       "       [1., 0., 0., 0., 1., 0., 0.],\n",
       "       [0., 0., 1., 0., 0., 0., 1.],\n",
       "       ...,\n",
       "       [0., 0., 1., 0., 0., 0., 1.],\n",
       "       [1., 0., 0., 0., 0., 0., 1.],\n",
       "       [1., 0., 0., 0., 0., 0., 1.],\n",
       "       [0., 0., 0., 1., 0., 0., 1.]])"
      ]
     },
     "execution_count": 64,
     "metadata": {},
     "output_type": "execute_result"
    }
   ],
   "source": [
    "encoded = encoder.fit_transform(store[['StoreType', 'Assortment']]).toarray()\n",
    "encoded"
   ]
  },
  {
   "cell_type": "code",
   "execution_count": 65,
   "id": "downtown-deadline",
   "metadata": {
    "ExecuteTime": {
     "end_time": "2021-12-03T15:05:32.042125Z",
     "start_time": "2021-12-03T15:05:32.018129Z"
    }
   },
   "outputs": [],
   "source": [
    "store_type_features = [f'StoreType_{value}' for value in store_type_values]\n",
    "assortment_features = [f'Assortment_{value}' for value in assortment_values]"
   ]
  },
  {
   "cell_type": "code",
   "execution_count": 66,
   "id": "further-greensboro",
   "metadata": {
    "ExecuteTime": {
     "end_time": "2021-12-03T15:05:32.138111Z",
     "start_time": "2021-12-03T15:05:32.042125Z"
    }
   },
   "outputs": [
    {
     "data": {
      "text/html": [
       "<div>\n",
       "<style scoped>\n",
       "    .dataframe tbody tr th:only-of-type {\n",
       "        vertical-align: middle;\n",
       "    }\n",
       "\n",
       "    .dataframe tbody tr th {\n",
       "        vertical-align: top;\n",
       "    }\n",
       "\n",
       "    .dataframe thead th {\n",
       "        text-align: right;\n",
       "    }\n",
       "</style>\n",
       "<table border=\"1\" class=\"dataframe\">\n",
       "  <thead>\n",
       "    <tr style=\"text-align: right;\">\n",
       "      <th></th>\n",
       "      <th>Store</th>\n",
       "      <th>StoreType</th>\n",
       "      <th>Assortment</th>\n",
       "      <th>CompetitionDistance</th>\n",
       "      <th>CompetitionOpenSinceMonth</th>\n",
       "      <th>CompetitionOpenSinceYear</th>\n",
       "      <th>Promo2</th>\n",
       "      <th>Promo2SinceWeek</th>\n",
       "      <th>Promo2SinceYear</th>\n",
       "      <th>PromoInterval</th>\n",
       "      <th>StoreType_a</th>\n",
       "      <th>StoreType_b</th>\n",
       "      <th>StoreType_c</th>\n",
       "      <th>StoreType_d</th>\n",
       "      <th>Assortment_a</th>\n",
       "      <th>Assortment_b</th>\n",
       "      <th>Assortment_c</th>\n",
       "    </tr>\n",
       "  </thead>\n",
       "  <tbody>\n",
       "    <tr>\n",
       "      <th>0</th>\n",
       "      <td>1</td>\n",
       "      <td>c</td>\n",
       "      <td>a</td>\n",
       "      <td>1270.0</td>\n",
       "      <td>9.0</td>\n",
       "      <td>2008.0</td>\n",
       "      <td>0</td>\n",
       "      <td>NaN</td>\n",
       "      <td>NaN</td>\n",
       "      <td>NaN</td>\n",
       "      <td>0.0</td>\n",
       "      <td>0.0</td>\n",
       "      <td>1.0</td>\n",
       "      <td>0.0</td>\n",
       "      <td>1.0</td>\n",
       "      <td>0.0</td>\n",
       "      <td>0.0</td>\n",
       "    </tr>\n",
       "    <tr>\n",
       "      <th>1</th>\n",
       "      <td>2</td>\n",
       "      <td>a</td>\n",
       "      <td>a</td>\n",
       "      <td>570.0</td>\n",
       "      <td>11.0</td>\n",
       "      <td>2007.0</td>\n",
       "      <td>1</td>\n",
       "      <td>13.0</td>\n",
       "      <td>2010.0</td>\n",
       "      <td>Jan,Apr,Jul,Oct</td>\n",
       "      <td>1.0</td>\n",
       "      <td>0.0</td>\n",
       "      <td>0.0</td>\n",
       "      <td>0.0</td>\n",
       "      <td>1.0</td>\n",
       "      <td>0.0</td>\n",
       "      <td>0.0</td>\n",
       "    </tr>\n",
       "    <tr>\n",
       "      <th>2</th>\n",
       "      <td>3</td>\n",
       "      <td>a</td>\n",
       "      <td>a</td>\n",
       "      <td>14130.0</td>\n",
       "      <td>12.0</td>\n",
       "      <td>2006.0</td>\n",
       "      <td>1</td>\n",
       "      <td>14.0</td>\n",
       "      <td>2011.0</td>\n",
       "      <td>Jan,Apr,Jul,Oct</td>\n",
       "      <td>1.0</td>\n",
       "      <td>0.0</td>\n",
       "      <td>0.0</td>\n",
       "      <td>0.0</td>\n",
       "      <td>1.0</td>\n",
       "      <td>0.0</td>\n",
       "      <td>0.0</td>\n",
       "    </tr>\n",
       "    <tr>\n",
       "      <th>3</th>\n",
       "      <td>4</td>\n",
       "      <td>c</td>\n",
       "      <td>c</td>\n",
       "      <td>620.0</td>\n",
       "      <td>9.0</td>\n",
       "      <td>2009.0</td>\n",
       "      <td>0</td>\n",
       "      <td>NaN</td>\n",
       "      <td>NaN</td>\n",
       "      <td>NaN</td>\n",
       "      <td>0.0</td>\n",
       "      <td>0.0</td>\n",
       "      <td>1.0</td>\n",
       "      <td>0.0</td>\n",
       "      <td>0.0</td>\n",
       "      <td>0.0</td>\n",
       "      <td>1.0</td>\n",
       "    </tr>\n",
       "    <tr>\n",
       "      <th>4</th>\n",
       "      <td>5</td>\n",
       "      <td>a</td>\n",
       "      <td>a</td>\n",
       "      <td>29910.0</td>\n",
       "      <td>4.0</td>\n",
       "      <td>2015.0</td>\n",
       "      <td>0</td>\n",
       "      <td>NaN</td>\n",
       "      <td>NaN</td>\n",
       "      <td>NaN</td>\n",
       "      <td>1.0</td>\n",
       "      <td>0.0</td>\n",
       "      <td>0.0</td>\n",
       "      <td>0.0</td>\n",
       "      <td>1.0</td>\n",
       "      <td>0.0</td>\n",
       "      <td>0.0</td>\n",
       "    </tr>\n",
       "  </tbody>\n",
       "</table>\n",
       "</div>"
      ],
      "text/plain": [
       "   Store StoreType Assortment  CompetitionDistance  CompetitionOpenSinceMonth  \\\n",
       "0      1         c          a               1270.0                        9.0   \n",
       "1      2         a          a                570.0                       11.0   \n",
       "2      3         a          a              14130.0                       12.0   \n",
       "3      4         c          c                620.0                        9.0   \n",
       "4      5         a          a              29910.0                        4.0   \n",
       "\n",
       "   CompetitionOpenSinceYear  Promo2  Promo2SinceWeek  Promo2SinceYear  \\\n",
       "0                    2008.0       0              NaN              NaN   \n",
       "1                    2007.0       1             13.0           2010.0   \n",
       "2                    2006.0       1             14.0           2011.0   \n",
       "3                    2009.0       0              NaN              NaN   \n",
       "4                    2015.0       0              NaN              NaN   \n",
       "\n",
       "     PromoInterval  StoreType_a  StoreType_b  StoreType_c  StoreType_d  \\\n",
       "0              NaN          0.0          0.0          1.0          0.0   \n",
       "1  Jan,Apr,Jul,Oct          1.0          0.0          0.0          0.0   \n",
       "2  Jan,Apr,Jul,Oct          1.0          0.0          0.0          0.0   \n",
       "3              NaN          0.0          0.0          1.0          0.0   \n",
       "4              NaN          1.0          0.0          0.0          0.0   \n",
       "\n",
       "   Assortment_a  Assortment_b  Assortment_c  \n",
       "0           1.0           0.0           0.0  \n",
       "1           1.0           0.0           0.0  \n",
       "2           1.0           0.0           0.0  \n",
       "3           0.0           0.0           1.0  \n",
       "4           1.0           0.0           0.0  "
      ]
     },
     "execution_count": 66,
     "metadata": {},
     "output_type": "execute_result"
    }
   ],
   "source": [
    "store[store_type_features + assortment_features] = encoded\n",
    "store.head()"
   ]
  },
  {
   "cell_type": "code",
   "execution_count": 67,
   "id": "dependent-liability",
   "metadata": {
    "ExecuteTime": {
     "end_time": "2021-12-03T15:05:32.170102Z",
     "start_time": "2021-12-03T15:05:32.146110Z"
    }
   },
   "outputs": [],
   "source": [
    "store.drop(columns=['StoreType', 'Assortment'], inplace=True)"
   ]
  },
  {
   "cell_type": "markdown",
   "id": "black-geometry",
   "metadata": {},
   "source": [
    "Then transform the **CompetitionDistance** feature: fill the missing values with mean, take a logarithm and standardize it."
   ]
  },
  {
   "cell_type": "code",
   "execution_count": 68,
   "id": "interim-clark",
   "metadata": {
    "ExecuteTime": {
     "end_time": "2021-12-03T15:05:32.202095Z",
     "start_time": "2021-12-03T15:05:32.178106Z"
    }
   },
   "outputs": [],
   "source": [
    "imputer = SimpleImputer(strategy='mean')"
   ]
  },
  {
   "cell_type": "code",
   "execution_count": 69,
   "id": "outstanding-donna",
   "metadata": {
    "ExecuteTime": {
     "end_time": "2021-12-03T15:05:32.298085Z",
     "start_time": "2021-12-03T15:05:32.210097Z"
    }
   },
   "outputs": [
    {
     "data": {
      "text/html": [
       "<div>\n",
       "<style scoped>\n",
       "    .dataframe tbody tr th:only-of-type {\n",
       "        vertical-align: middle;\n",
       "    }\n",
       "\n",
       "    .dataframe tbody tr th {\n",
       "        vertical-align: top;\n",
       "    }\n",
       "\n",
       "    .dataframe thead th {\n",
       "        text-align: right;\n",
       "    }\n",
       "</style>\n",
       "<table border=\"1\" class=\"dataframe\">\n",
       "  <thead>\n",
       "    <tr style=\"text-align: right;\">\n",
       "      <th></th>\n",
       "      <th>Store</th>\n",
       "      <th>CompetitionDistance</th>\n",
       "      <th>CompetitionOpenSinceMonth</th>\n",
       "      <th>CompetitionOpenSinceYear</th>\n",
       "      <th>Promo2</th>\n",
       "      <th>Promo2SinceWeek</th>\n",
       "      <th>Promo2SinceYear</th>\n",
       "      <th>PromoInterval</th>\n",
       "      <th>StoreType_a</th>\n",
       "      <th>StoreType_b</th>\n",
       "      <th>StoreType_c</th>\n",
       "      <th>StoreType_d</th>\n",
       "      <th>Assortment_a</th>\n",
       "      <th>Assortment_b</th>\n",
       "      <th>Assortment_c</th>\n",
       "      <th>LogCompetitionDistance</th>\n",
       "    </tr>\n",
       "  </thead>\n",
       "  <tbody>\n",
       "    <tr>\n",
       "      <th>0</th>\n",
       "      <td>1</td>\n",
       "      <td>1270.0</td>\n",
       "      <td>9.0</td>\n",
       "      <td>2008.0</td>\n",
       "      <td>0</td>\n",
       "      <td>NaN</td>\n",
       "      <td>NaN</td>\n",
       "      <td>NaN</td>\n",
       "      <td>0.0</td>\n",
       "      <td>0.0</td>\n",
       "      <td>1.0</td>\n",
       "      <td>0.0</td>\n",
       "      <td>1.0</td>\n",
       "      <td>0.0</td>\n",
       "      <td>0.0</td>\n",
       "      <td>3.103804</td>\n",
       "    </tr>\n",
       "    <tr>\n",
       "      <th>1</th>\n",
       "      <td>2</td>\n",
       "      <td>570.0</td>\n",
       "      <td>11.0</td>\n",
       "      <td>2007.0</td>\n",
       "      <td>1</td>\n",
       "      <td>13.0</td>\n",
       "      <td>2010.0</td>\n",
       "      <td>Jan,Apr,Jul,Oct</td>\n",
       "      <td>1.0</td>\n",
       "      <td>0.0</td>\n",
       "      <td>0.0</td>\n",
       "      <td>0.0</td>\n",
       "      <td>1.0</td>\n",
       "      <td>0.0</td>\n",
       "      <td>0.0</td>\n",
       "      <td>2.755875</td>\n",
       "    </tr>\n",
       "    <tr>\n",
       "      <th>2</th>\n",
       "      <td>3</td>\n",
       "      <td>14130.0</td>\n",
       "      <td>12.0</td>\n",
       "      <td>2006.0</td>\n",
       "      <td>1</td>\n",
       "      <td>14.0</td>\n",
       "      <td>2011.0</td>\n",
       "      <td>Jan,Apr,Jul,Oct</td>\n",
       "      <td>1.0</td>\n",
       "      <td>0.0</td>\n",
       "      <td>0.0</td>\n",
       "      <td>0.0</td>\n",
       "      <td>1.0</td>\n",
       "      <td>0.0</td>\n",
       "      <td>0.0</td>\n",
       "      <td>4.150142</td>\n",
       "    </tr>\n",
       "    <tr>\n",
       "      <th>3</th>\n",
       "      <td>4</td>\n",
       "      <td>620.0</td>\n",
       "      <td>9.0</td>\n",
       "      <td>2009.0</td>\n",
       "      <td>0</td>\n",
       "      <td>NaN</td>\n",
       "      <td>NaN</td>\n",
       "      <td>NaN</td>\n",
       "      <td>0.0</td>\n",
       "      <td>0.0</td>\n",
       "      <td>1.0</td>\n",
       "      <td>0.0</td>\n",
       "      <td>0.0</td>\n",
       "      <td>0.0</td>\n",
       "      <td>1.0</td>\n",
       "      <td>2.792392</td>\n",
       "    </tr>\n",
       "    <tr>\n",
       "      <th>4</th>\n",
       "      <td>5</td>\n",
       "      <td>29910.0</td>\n",
       "      <td>4.0</td>\n",
       "      <td>2015.0</td>\n",
       "      <td>0</td>\n",
       "      <td>NaN</td>\n",
       "      <td>NaN</td>\n",
       "      <td>NaN</td>\n",
       "      <td>1.0</td>\n",
       "      <td>0.0</td>\n",
       "      <td>0.0</td>\n",
       "      <td>0.0</td>\n",
       "      <td>1.0</td>\n",
       "      <td>0.0</td>\n",
       "      <td>0.0</td>\n",
       "      <td>4.475816</td>\n",
       "    </tr>\n",
       "  </tbody>\n",
       "</table>\n",
       "</div>"
      ],
      "text/plain": [
       "   Store  CompetitionDistance  CompetitionOpenSinceMonth  \\\n",
       "0      1               1270.0                        9.0   \n",
       "1      2                570.0                       11.0   \n",
       "2      3              14130.0                       12.0   \n",
       "3      4                620.0                        9.0   \n",
       "4      5              29910.0                        4.0   \n",
       "\n",
       "   CompetitionOpenSinceYear  Promo2  Promo2SinceWeek  Promo2SinceYear  \\\n",
       "0                    2008.0       0              NaN              NaN   \n",
       "1                    2007.0       1             13.0           2010.0   \n",
       "2                    2006.0       1             14.0           2011.0   \n",
       "3                    2009.0       0              NaN              NaN   \n",
       "4                    2015.0       0              NaN              NaN   \n",
       "\n",
       "     PromoInterval  StoreType_a  StoreType_b  StoreType_c  StoreType_d  \\\n",
       "0              NaN          0.0          0.0          1.0          0.0   \n",
       "1  Jan,Apr,Jul,Oct          1.0          0.0          0.0          0.0   \n",
       "2  Jan,Apr,Jul,Oct          1.0          0.0          0.0          0.0   \n",
       "3              NaN          0.0          0.0          1.0          0.0   \n",
       "4              NaN          1.0          0.0          0.0          0.0   \n",
       "\n",
       "   Assortment_a  Assortment_b  Assortment_c  LogCompetitionDistance  \n",
       "0           1.0           0.0           0.0                3.103804  \n",
       "1           1.0           0.0           0.0                2.755875  \n",
       "2           1.0           0.0           0.0                4.150142  \n",
       "3           0.0           0.0           1.0                2.792392  \n",
       "4           1.0           0.0           0.0                4.475816  "
      ]
     },
     "execution_count": 69,
     "metadata": {},
     "output_type": "execute_result"
    }
   ],
   "source": [
    "imputer = SimpleImputer(strategy='mean')\n",
    "store['CompetitionDistance'] = imputer.fit_transform(store[['CompetitionDistance']]).flatten()\n",
    "store['LogCompetitionDistance'] = np.log10(store['CompetitionDistance'])\n",
    "store.head()"
   ]
  },
  {
   "cell_type": "code",
   "execution_count": 70,
   "id": "lovely-parallel",
   "metadata": {
    "ExecuteTime": {
     "end_time": "2021-12-03T15:05:32.394066Z",
     "start_time": "2021-12-03T15:05:32.306080Z"
    }
   },
   "outputs": [
    {
     "data": {
      "text/html": [
       "<div>\n",
       "<style scoped>\n",
       "    .dataframe tbody tr th:only-of-type {\n",
       "        vertical-align: middle;\n",
       "    }\n",
       "\n",
       "    .dataframe tbody tr th {\n",
       "        vertical-align: top;\n",
       "    }\n",
       "\n",
       "    .dataframe thead th {\n",
       "        text-align: right;\n",
       "    }\n",
       "</style>\n",
       "<table border=\"1\" class=\"dataframe\">\n",
       "  <thead>\n",
       "    <tr style=\"text-align: right;\">\n",
       "      <th></th>\n",
       "      <th>Store</th>\n",
       "      <th>CompetitionDistance</th>\n",
       "      <th>CompetitionOpenSinceMonth</th>\n",
       "      <th>CompetitionOpenSinceYear</th>\n",
       "      <th>Promo2</th>\n",
       "      <th>Promo2SinceWeek</th>\n",
       "      <th>Promo2SinceYear</th>\n",
       "      <th>PromoInterval</th>\n",
       "      <th>StoreType_a</th>\n",
       "      <th>StoreType_b</th>\n",
       "      <th>StoreType_c</th>\n",
       "      <th>StoreType_d</th>\n",
       "      <th>Assortment_a</th>\n",
       "      <th>Assortment_b</th>\n",
       "      <th>Assortment_c</th>\n",
       "      <th>LogCompetitionDistance</th>\n",
       "      <th>EncodedDistance</th>\n",
       "    </tr>\n",
       "  </thead>\n",
       "  <tbody>\n",
       "    <tr>\n",
       "      <th>0</th>\n",
       "      <td>1</td>\n",
       "      <td>1270.0</td>\n",
       "      <td>9.0</td>\n",
       "      <td>2008.0</td>\n",
       "      <td>0</td>\n",
       "      <td>NaN</td>\n",
       "      <td>NaN</td>\n",
       "      <td>NaN</td>\n",
       "      <td>0.0</td>\n",
       "      <td>0.0</td>\n",
       "      <td>1.0</td>\n",
       "      <td>0.0</td>\n",
       "      <td>1.0</td>\n",
       "      <td>0.0</td>\n",
       "      <td>0.0</td>\n",
       "      <td>3.103804</td>\n",
       "      <td>-0.321681</td>\n",
       "    </tr>\n",
       "    <tr>\n",
       "      <th>1</th>\n",
       "      <td>2</td>\n",
       "      <td>570.0</td>\n",
       "      <td>11.0</td>\n",
       "      <td>2007.0</td>\n",
       "      <td>1</td>\n",
       "      <td>13.0</td>\n",
       "      <td>2010.0</td>\n",
       "      <td>Jan,Apr,Jul,Oct</td>\n",
       "      <td>1.0</td>\n",
       "      <td>0.0</td>\n",
       "      <td>0.0</td>\n",
       "      <td>0.0</td>\n",
       "      <td>1.0</td>\n",
       "      <td>0.0</td>\n",
       "      <td>0.0</td>\n",
       "      <td>2.755875</td>\n",
       "      <td>-0.837582</td>\n",
       "    </tr>\n",
       "    <tr>\n",
       "      <th>2</th>\n",
       "      <td>3</td>\n",
       "      <td>14130.0</td>\n",
       "      <td>12.0</td>\n",
       "      <td>2006.0</td>\n",
       "      <td>1</td>\n",
       "      <td>14.0</td>\n",
       "      <td>2011.0</td>\n",
       "      <td>Jan,Apr,Jul,Oct</td>\n",
       "      <td>1.0</td>\n",
       "      <td>0.0</td>\n",
       "      <td>0.0</td>\n",
       "      <td>0.0</td>\n",
       "      <td>1.0</td>\n",
       "      <td>0.0</td>\n",
       "      <td>0.0</td>\n",
       "      <td>4.150142</td>\n",
       "      <td>1.229804</td>\n",
       "    </tr>\n",
       "    <tr>\n",
       "      <th>3</th>\n",
       "      <td>4</td>\n",
       "      <td>620.0</td>\n",
       "      <td>9.0</td>\n",
       "      <td>2009.0</td>\n",
       "      <td>0</td>\n",
       "      <td>NaN</td>\n",
       "      <td>NaN</td>\n",
       "      <td>NaN</td>\n",
       "      <td>0.0</td>\n",
       "      <td>0.0</td>\n",
       "      <td>1.0</td>\n",
       "      <td>0.0</td>\n",
       "      <td>0.0</td>\n",
       "      <td>0.0</td>\n",
       "      <td>1.0</td>\n",
       "      <td>2.792392</td>\n",
       "      <td>-0.783436</td>\n",
       "    </tr>\n",
       "    <tr>\n",
       "      <th>4</th>\n",
       "      <td>5</td>\n",
       "      <td>29910.0</td>\n",
       "      <td>4.0</td>\n",
       "      <td>2015.0</td>\n",
       "      <td>0</td>\n",
       "      <td>NaN</td>\n",
       "      <td>NaN</td>\n",
       "      <td>NaN</td>\n",
       "      <td>1.0</td>\n",
       "      <td>0.0</td>\n",
       "      <td>0.0</td>\n",
       "      <td>0.0</td>\n",
       "      <td>1.0</td>\n",
       "      <td>0.0</td>\n",
       "      <td>0.0</td>\n",
       "      <td>4.475816</td>\n",
       "      <td>1.712706</td>\n",
       "    </tr>\n",
       "  </tbody>\n",
       "</table>\n",
       "</div>"
      ],
      "text/plain": [
       "   Store  CompetitionDistance  CompetitionOpenSinceMonth  \\\n",
       "0      1               1270.0                        9.0   \n",
       "1      2                570.0                       11.0   \n",
       "2      3              14130.0                       12.0   \n",
       "3      4                620.0                        9.0   \n",
       "4      5              29910.0                        4.0   \n",
       "\n",
       "   CompetitionOpenSinceYear  Promo2  Promo2SinceWeek  Promo2SinceYear  \\\n",
       "0                    2008.0       0              NaN              NaN   \n",
       "1                    2007.0       1             13.0           2010.0   \n",
       "2                    2006.0       1             14.0           2011.0   \n",
       "3                    2009.0       0              NaN              NaN   \n",
       "4                    2015.0       0              NaN              NaN   \n",
       "\n",
       "     PromoInterval  StoreType_a  StoreType_b  StoreType_c  StoreType_d  \\\n",
       "0              NaN          0.0          0.0          1.0          0.0   \n",
       "1  Jan,Apr,Jul,Oct          1.0          0.0          0.0          0.0   \n",
       "2  Jan,Apr,Jul,Oct          1.0          0.0          0.0          0.0   \n",
       "3              NaN          0.0          0.0          1.0          0.0   \n",
       "4              NaN          1.0          0.0          0.0          0.0   \n",
       "\n",
       "   Assortment_a  Assortment_b  Assortment_c  LogCompetitionDistance  \\\n",
       "0           1.0           0.0           0.0                3.103804   \n",
       "1           1.0           0.0           0.0                2.755875   \n",
       "2           1.0           0.0           0.0                4.150142   \n",
       "3           0.0           0.0           1.0                2.792392   \n",
       "4           1.0           0.0           0.0                4.475816   \n",
       "\n",
       "   EncodedDistance  \n",
       "0        -0.321681  \n",
       "1        -0.837582  \n",
       "2         1.229804  \n",
       "3        -0.783436  \n",
       "4         1.712706  "
      ]
     },
     "execution_count": 70,
     "metadata": {},
     "output_type": "execute_result"
    }
   ],
   "source": [
    "scaler = StandardScaler()\n",
    "store['EncodedDistance'] = scaler.fit_transform(store[['LogCompetitionDistance']]).flatten()\n",
    "store.head()"
   ]
  },
  {
   "cell_type": "code",
   "execution_count": 71,
   "id": "moved-japan",
   "metadata": {
    "ExecuteTime": {
     "end_time": "2021-12-03T15:05:32.490048Z",
     "start_time": "2021-12-03T15:05:32.402064Z"
    }
   },
   "outputs": [
    {
     "data": {
      "text/html": [
       "<div>\n",
       "<style scoped>\n",
       "    .dataframe tbody tr th:only-of-type {\n",
       "        vertical-align: middle;\n",
       "    }\n",
       "\n",
       "    .dataframe tbody tr th {\n",
       "        vertical-align: top;\n",
       "    }\n",
       "\n",
       "    .dataframe thead th {\n",
       "        text-align: right;\n",
       "    }\n",
       "</style>\n",
       "<table border=\"1\" class=\"dataframe\">\n",
       "  <thead>\n",
       "    <tr style=\"text-align: right;\">\n",
       "      <th></th>\n",
       "      <th>Store</th>\n",
       "      <th>CompetitionOpenSinceMonth</th>\n",
       "      <th>CompetitionOpenSinceYear</th>\n",
       "      <th>Promo2</th>\n",
       "      <th>Promo2SinceWeek</th>\n",
       "      <th>Promo2SinceYear</th>\n",
       "      <th>PromoInterval</th>\n",
       "      <th>StoreType_a</th>\n",
       "      <th>StoreType_b</th>\n",
       "      <th>StoreType_c</th>\n",
       "      <th>StoreType_d</th>\n",
       "      <th>Assortment_a</th>\n",
       "      <th>Assortment_b</th>\n",
       "      <th>Assortment_c</th>\n",
       "      <th>EncodedDistance</th>\n",
       "    </tr>\n",
       "  </thead>\n",
       "  <tbody>\n",
       "    <tr>\n",
       "      <th>0</th>\n",
       "      <td>1</td>\n",
       "      <td>9.0</td>\n",
       "      <td>2008.0</td>\n",
       "      <td>0</td>\n",
       "      <td>NaN</td>\n",
       "      <td>NaN</td>\n",
       "      <td>NaN</td>\n",
       "      <td>0.0</td>\n",
       "      <td>0.0</td>\n",
       "      <td>1.0</td>\n",
       "      <td>0.0</td>\n",
       "      <td>1.0</td>\n",
       "      <td>0.0</td>\n",
       "      <td>0.0</td>\n",
       "      <td>-0.321681</td>\n",
       "    </tr>\n",
       "    <tr>\n",
       "      <th>1</th>\n",
       "      <td>2</td>\n",
       "      <td>11.0</td>\n",
       "      <td>2007.0</td>\n",
       "      <td>1</td>\n",
       "      <td>13.0</td>\n",
       "      <td>2010.0</td>\n",
       "      <td>Jan,Apr,Jul,Oct</td>\n",
       "      <td>1.0</td>\n",
       "      <td>0.0</td>\n",
       "      <td>0.0</td>\n",
       "      <td>0.0</td>\n",
       "      <td>1.0</td>\n",
       "      <td>0.0</td>\n",
       "      <td>0.0</td>\n",
       "      <td>-0.837582</td>\n",
       "    </tr>\n",
       "    <tr>\n",
       "      <th>2</th>\n",
       "      <td>3</td>\n",
       "      <td>12.0</td>\n",
       "      <td>2006.0</td>\n",
       "      <td>1</td>\n",
       "      <td>14.0</td>\n",
       "      <td>2011.0</td>\n",
       "      <td>Jan,Apr,Jul,Oct</td>\n",
       "      <td>1.0</td>\n",
       "      <td>0.0</td>\n",
       "      <td>0.0</td>\n",
       "      <td>0.0</td>\n",
       "      <td>1.0</td>\n",
       "      <td>0.0</td>\n",
       "      <td>0.0</td>\n",
       "      <td>1.229804</td>\n",
       "    </tr>\n",
       "    <tr>\n",
       "      <th>3</th>\n",
       "      <td>4</td>\n",
       "      <td>9.0</td>\n",
       "      <td>2009.0</td>\n",
       "      <td>0</td>\n",
       "      <td>NaN</td>\n",
       "      <td>NaN</td>\n",
       "      <td>NaN</td>\n",
       "      <td>0.0</td>\n",
       "      <td>0.0</td>\n",
       "      <td>1.0</td>\n",
       "      <td>0.0</td>\n",
       "      <td>0.0</td>\n",
       "      <td>0.0</td>\n",
       "      <td>1.0</td>\n",
       "      <td>-0.783436</td>\n",
       "    </tr>\n",
       "    <tr>\n",
       "      <th>4</th>\n",
       "      <td>5</td>\n",
       "      <td>4.0</td>\n",
       "      <td>2015.0</td>\n",
       "      <td>0</td>\n",
       "      <td>NaN</td>\n",
       "      <td>NaN</td>\n",
       "      <td>NaN</td>\n",
       "      <td>1.0</td>\n",
       "      <td>0.0</td>\n",
       "      <td>0.0</td>\n",
       "      <td>0.0</td>\n",
       "      <td>1.0</td>\n",
       "      <td>0.0</td>\n",
       "      <td>0.0</td>\n",
       "      <td>1.712706</td>\n",
       "    </tr>\n",
       "  </tbody>\n",
       "</table>\n",
       "</div>"
      ],
      "text/plain": [
       "   Store  CompetitionOpenSinceMonth  CompetitionOpenSinceYear  Promo2  \\\n",
       "0      1                        9.0                    2008.0       0   \n",
       "1      2                       11.0                    2007.0       1   \n",
       "2      3                       12.0                    2006.0       1   \n",
       "3      4                        9.0                    2009.0       0   \n",
       "4      5                        4.0                    2015.0       0   \n",
       "\n",
       "   Promo2SinceWeek  Promo2SinceYear    PromoInterval  StoreType_a  \\\n",
       "0              NaN              NaN              NaN          0.0   \n",
       "1             13.0           2010.0  Jan,Apr,Jul,Oct          1.0   \n",
       "2             14.0           2011.0  Jan,Apr,Jul,Oct          1.0   \n",
       "3              NaN              NaN              NaN          0.0   \n",
       "4              NaN              NaN              NaN          1.0   \n",
       "\n",
       "   StoreType_b  StoreType_c  StoreType_d  Assortment_a  Assortment_b  \\\n",
       "0          0.0          1.0          0.0           1.0           0.0   \n",
       "1          0.0          0.0          0.0           1.0           0.0   \n",
       "2          0.0          0.0          0.0           1.0           0.0   \n",
       "3          0.0          1.0          0.0           0.0           0.0   \n",
       "4          0.0          0.0          0.0           1.0           0.0   \n",
       "\n",
       "   Assortment_c  EncodedDistance  \n",
       "0           0.0        -0.321681  \n",
       "1           0.0        -0.837582  \n",
       "2           0.0         1.229804  \n",
       "3           1.0        -0.783436  \n",
       "4           0.0         1.712706  "
      ]
     },
     "execution_count": 71,
     "metadata": {},
     "output_type": "execute_result"
    }
   ],
   "source": [
    "store.drop(columns=['CompetitionDistance', 'LogCompetitionDistance'], inplace=True)\n",
    "store.head()"
   ]
  },
  {
   "cell_type": "markdown",
   "id": "novel-designation",
   "metadata": {},
   "source": [
    "Now combine **CompetitionOpenSinceMonth** and **CompetitionOpenSinceYear** features. But first let's change outliers 1900 and 1961 to nan value. Since that moment they are as missing values."
   ]
  },
  {
   "cell_type": "code",
   "execution_count": 72,
   "id": "clear-copyright",
   "metadata": {
    "ExecuteTime": {
     "end_time": "2021-12-03T15:05:32.570043Z",
     "start_time": "2021-12-03T15:05:32.490048Z"
    }
   },
   "outputs": [
    {
     "data": {
      "text/html": [
       "<div>\n",
       "<style scoped>\n",
       "    .dataframe tbody tr th:only-of-type {\n",
       "        vertical-align: middle;\n",
       "    }\n",
       "\n",
       "    .dataframe tbody tr th {\n",
       "        vertical-align: top;\n",
       "    }\n",
       "\n",
       "    .dataframe thead th {\n",
       "        text-align: right;\n",
       "    }\n",
       "</style>\n",
       "<table border=\"1\" class=\"dataframe\">\n",
       "  <thead>\n",
       "    <tr style=\"text-align: right;\">\n",
       "      <th></th>\n",
       "      <th>Store</th>\n",
       "      <th>CompetitionOpenSinceMonth</th>\n",
       "      <th>CompetitionOpenSinceYear</th>\n",
       "      <th>Promo2</th>\n",
       "      <th>Promo2SinceWeek</th>\n",
       "      <th>Promo2SinceYear</th>\n",
       "      <th>PromoInterval</th>\n",
       "      <th>StoreType_a</th>\n",
       "      <th>StoreType_b</th>\n",
       "      <th>StoreType_c</th>\n",
       "      <th>StoreType_d</th>\n",
       "      <th>Assortment_a</th>\n",
       "      <th>Assortment_b</th>\n",
       "      <th>Assortment_c</th>\n",
       "      <th>EncodedDistance</th>\n",
       "    </tr>\n",
       "  </thead>\n",
       "  <tbody>\n",
       "    <tr>\n",
       "      <th>145</th>\n",
       "      <td>146</td>\n",
       "      <td>NaN</td>\n",
       "      <td>NaN</td>\n",
       "      <td>1</td>\n",
       "      <td>48.0</td>\n",
       "      <td>2012.0</td>\n",
       "      <td>Jan,Apr,Jul,Oct</td>\n",
       "      <td>0.0</td>\n",
       "      <td>0.0</td>\n",
       "      <td>0.0</td>\n",
       "      <td>1.0</td>\n",
       "      <td>0.0</td>\n",
       "      <td>0.0</td>\n",
       "      <td>1.0</td>\n",
       "      <td>0.867493</td>\n",
       "    </tr>\n",
       "    <tr>\n",
       "      <th>814</th>\n",
       "      <td>815</td>\n",
       "      <td>NaN</td>\n",
       "      <td>NaN</td>\n",
       "      <td>1</td>\n",
       "      <td>40.0</td>\n",
       "      <td>2014.0</td>\n",
       "      <td>Jan,Apr,Jul,Oct</td>\n",
       "      <td>1.0</td>\n",
       "      <td>0.0</td>\n",
       "      <td>0.0</td>\n",
       "      <td>0.0</td>\n",
       "      <td>1.0</td>\n",
       "      <td>0.0</td>\n",
       "      <td>0.0</td>\n",
       "      <td>-0.815374</td>\n",
       "    </tr>\n",
       "  </tbody>\n",
       "</table>\n",
       "</div>"
      ],
      "text/plain": [
       "     Store  CompetitionOpenSinceMonth  CompetitionOpenSinceYear  Promo2  \\\n",
       "145    146                        NaN                       NaN       1   \n",
       "814    815                        NaN                       NaN       1   \n",
       "\n",
       "     Promo2SinceWeek  Promo2SinceYear    PromoInterval  StoreType_a  \\\n",
       "145             48.0           2012.0  Jan,Apr,Jul,Oct          0.0   \n",
       "814             40.0           2014.0  Jan,Apr,Jul,Oct          1.0   \n",
       "\n",
       "     StoreType_b  StoreType_c  StoreType_d  Assortment_a  Assortment_b  \\\n",
       "145          0.0          0.0          1.0           0.0           0.0   \n",
       "814          0.0          0.0          0.0           1.0           0.0   \n",
       "\n",
       "     Assortment_c  EncodedDistance  \n",
       "145           1.0         0.867493  \n",
       "814           0.0        -0.815374  "
      ]
     },
     "execution_count": 72,
     "metadata": {},
     "output_type": "execute_result"
    }
   ],
   "source": [
    "ind = store[store.CompetitionOpenSinceYear.isin([1900, 1961])].index\n",
    "store.loc[ind, 'CompetitionOpenSinceYear'] = np.nan\n",
    "store.loc[ind, 'CompetitionOpenSinceMonth'] = np.nan\n",
    "store.loc[ind]"
   ]
  },
  {
   "cell_type": "markdown",
   "id": "collect-diabetes",
   "metadata": {},
   "source": [
    "Then fill the missing values with some outlier. As the minimum year is 1972 define the outlier for year as 1900. The month will be 1."
   ]
  },
  {
   "cell_type": "code",
   "execution_count": 73,
   "id": "light-charter",
   "metadata": {
    "ExecuteTime": {
     "end_time": "2021-12-03T15:05:32.650026Z",
     "start_time": "2021-12-03T15:05:32.578035Z"
    }
   },
   "outputs": [
    {
     "data": {
      "text/html": [
       "<div>\n",
       "<style scoped>\n",
       "    .dataframe tbody tr th:only-of-type {\n",
       "        vertical-align: middle;\n",
       "    }\n",
       "\n",
       "    .dataframe tbody tr th {\n",
       "        vertical-align: top;\n",
       "    }\n",
       "\n",
       "    .dataframe thead th {\n",
       "        text-align: right;\n",
       "    }\n",
       "</style>\n",
       "<table border=\"1\" class=\"dataframe\">\n",
       "  <thead>\n",
       "    <tr style=\"text-align: right;\">\n",
       "      <th></th>\n",
       "      <th>Store</th>\n",
       "      <th>CompetitionOpenSinceMonth</th>\n",
       "      <th>CompetitionOpenSinceYear</th>\n",
       "      <th>Promo2</th>\n",
       "      <th>Promo2SinceWeek</th>\n",
       "      <th>Promo2SinceYear</th>\n",
       "      <th>PromoInterval</th>\n",
       "      <th>StoreType_a</th>\n",
       "      <th>StoreType_b</th>\n",
       "      <th>StoreType_c</th>\n",
       "      <th>StoreType_d</th>\n",
       "      <th>Assortment_a</th>\n",
       "      <th>Assortment_b</th>\n",
       "      <th>Assortment_c</th>\n",
       "      <th>EncodedDistance</th>\n",
       "    </tr>\n",
       "  </thead>\n",
       "  <tbody>\n",
       "    <tr>\n",
       "      <th>1110</th>\n",
       "      <td>1111</td>\n",
       "      <td>6.0</td>\n",
       "      <td>2014.0</td>\n",
       "      <td>1</td>\n",
       "      <td>31.0</td>\n",
       "      <td>2013.0</td>\n",
       "      <td>Jan,Apr,Jul,Oct</td>\n",
       "      <td>1.0</td>\n",
       "      <td>0.0</td>\n",
       "      <td>0.0</td>\n",
       "      <td>0.0</td>\n",
       "      <td>1.0</td>\n",
       "      <td>0.0</td>\n",
       "      <td>0.0</td>\n",
       "      <td>-0.062270</td>\n",
       "    </tr>\n",
       "    <tr>\n",
       "      <th>1111</th>\n",
       "      <td>1112</td>\n",
       "      <td>4.0</td>\n",
       "      <td>2006.0</td>\n",
       "      <td>0</td>\n",
       "      <td>NaN</td>\n",
       "      <td>NaN</td>\n",
       "      <td>NaN</td>\n",
       "      <td>0.0</td>\n",
       "      <td>0.0</td>\n",
       "      <td>1.0</td>\n",
       "      <td>0.0</td>\n",
       "      <td>0.0</td>\n",
       "      <td>0.0</td>\n",
       "      <td>1.0</td>\n",
       "      <td>-0.069084</td>\n",
       "    </tr>\n",
       "    <tr>\n",
       "      <th>1112</th>\n",
       "      <td>1113</td>\n",
       "      <td>1.0</td>\n",
       "      <td>1900.0</td>\n",
       "      <td>0</td>\n",
       "      <td>NaN</td>\n",
       "      <td>NaN</td>\n",
       "      <td>NaN</td>\n",
       "      <td>1.0</td>\n",
       "      <td>0.0</td>\n",
       "      <td>0.0</td>\n",
       "      <td>0.0</td>\n",
       "      <td>0.0</td>\n",
       "      <td>0.0</td>\n",
       "      <td>1.0</td>\n",
       "      <td>0.957668</td>\n",
       "    </tr>\n",
       "    <tr>\n",
       "      <th>1113</th>\n",
       "      <td>1114</td>\n",
       "      <td>1.0</td>\n",
       "      <td>1900.0</td>\n",
       "      <td>0</td>\n",
       "      <td>NaN</td>\n",
       "      <td>NaN</td>\n",
       "      <td>NaN</td>\n",
       "      <td>1.0</td>\n",
       "      <td>0.0</td>\n",
       "      <td>0.0</td>\n",
       "      <td>0.0</td>\n",
       "      <td>0.0</td>\n",
       "      <td>0.0</td>\n",
       "      <td>1.0</td>\n",
       "      <td>-0.565278</td>\n",
       "    </tr>\n",
       "    <tr>\n",
       "      <th>1114</th>\n",
       "      <td>1115</td>\n",
       "      <td>1.0</td>\n",
       "      <td>1900.0</td>\n",
       "      <td>1</td>\n",
       "      <td>22.0</td>\n",
       "      <td>2012.0</td>\n",
       "      <td>Mar,Jun,Sept,Dec</td>\n",
       "      <td>0.0</td>\n",
       "      <td>0.0</td>\n",
       "      <td>0.0</td>\n",
       "      <td>1.0</td>\n",
       "      <td>0.0</td>\n",
       "      <td>0.0</td>\n",
       "      <td>1.0</td>\n",
       "      <td>0.604386</td>\n",
       "    </tr>\n",
       "  </tbody>\n",
       "</table>\n",
       "</div>"
      ],
      "text/plain": [
       "      Store  CompetitionOpenSinceMonth  CompetitionOpenSinceYear  Promo2  \\\n",
       "1110   1111                        6.0                    2014.0       1   \n",
       "1111   1112                        4.0                    2006.0       0   \n",
       "1112   1113                        1.0                    1900.0       0   \n",
       "1113   1114                        1.0                    1900.0       0   \n",
       "1114   1115                        1.0                    1900.0       1   \n",
       "\n",
       "      Promo2SinceWeek  Promo2SinceYear     PromoInterval  StoreType_a  \\\n",
       "1110             31.0           2013.0   Jan,Apr,Jul,Oct          1.0   \n",
       "1111              NaN              NaN               NaN          0.0   \n",
       "1112              NaN              NaN               NaN          1.0   \n",
       "1113              NaN              NaN               NaN          1.0   \n",
       "1114             22.0           2012.0  Mar,Jun,Sept,Dec          0.0   \n",
       "\n",
       "      StoreType_b  StoreType_c  StoreType_d  Assortment_a  Assortment_b  \\\n",
       "1110          0.0          0.0          0.0           1.0           0.0   \n",
       "1111          0.0          1.0          0.0           0.0           0.0   \n",
       "1112          0.0          0.0          0.0           0.0           0.0   \n",
       "1113          0.0          0.0          0.0           0.0           0.0   \n",
       "1114          0.0          0.0          1.0           0.0           0.0   \n",
       "\n",
       "      Assortment_c  EncodedDistance  \n",
       "1110           0.0        -0.062270  \n",
       "1111           1.0        -0.069084  \n",
       "1112           1.0         0.957668  \n",
       "1113           1.0        -0.565278  \n",
       "1114           1.0         0.604386  "
      ]
     },
     "execution_count": 73,
     "metadata": {},
     "output_type": "execute_result"
    }
   ],
   "source": [
    "store.CompetitionOpenSinceYear = store.CompetitionOpenSinceYear.fillna(1900)\n",
    "store.CompetitionOpenSinceMonth = store.CompetitionOpenSinceMonth.fillna(1)\n",
    "store.tail()"
   ]
  },
  {
   "cell_type": "markdown",
   "id": "opposite-portrait",
   "metadata": {},
   "source": [
    "And now combine this features into one."
   ]
  },
  {
   "cell_type": "code",
   "execution_count": 74,
   "id": "desperate-mechanism",
   "metadata": {
    "ExecuteTime": {
     "end_time": "2021-12-03T15:05:32.674020Z",
     "start_time": "2021-12-03T15:05:32.658022Z"
    }
   },
   "outputs": [],
   "source": [
    "store['CompetitionMonthsFromStart'] = store.CompetitionOpenSinceMonth - 3 + (store.CompetitionOpenSinceYear - 1972) * 12"
   ]
  },
  {
   "cell_type": "code",
   "execution_count": 75,
   "id": "transparent-forge",
   "metadata": {
    "ExecuteTime": {
     "end_time": "2021-12-03T15:05:32.762004Z",
     "start_time": "2021-12-03T15:05:32.682021Z"
    }
   },
   "outputs": [
    {
     "data": {
      "text/html": [
       "<div>\n",
       "<style scoped>\n",
       "    .dataframe tbody tr th:only-of-type {\n",
       "        vertical-align: middle;\n",
       "    }\n",
       "\n",
       "    .dataframe tbody tr th {\n",
       "        vertical-align: top;\n",
       "    }\n",
       "\n",
       "    .dataframe thead th {\n",
       "        text-align: right;\n",
       "    }\n",
       "</style>\n",
       "<table border=\"1\" class=\"dataframe\">\n",
       "  <thead>\n",
       "    <tr style=\"text-align: right;\">\n",
       "      <th></th>\n",
       "      <th>Store</th>\n",
       "      <th>CompetitionOpenSinceMonth</th>\n",
       "      <th>CompetitionOpenSinceYear</th>\n",
       "      <th>Promo2</th>\n",
       "      <th>Promo2SinceWeek</th>\n",
       "      <th>Promo2SinceYear</th>\n",
       "      <th>PromoInterval</th>\n",
       "      <th>StoreType_a</th>\n",
       "      <th>StoreType_b</th>\n",
       "      <th>StoreType_c</th>\n",
       "      <th>StoreType_d</th>\n",
       "      <th>Assortment_a</th>\n",
       "      <th>Assortment_b</th>\n",
       "      <th>Assortment_c</th>\n",
       "      <th>EncodedDistance</th>\n",
       "      <th>CompetitionMonthsFromStart</th>\n",
       "    </tr>\n",
       "  </thead>\n",
       "  <tbody>\n",
       "    <tr>\n",
       "      <th>0</th>\n",
       "      <td>1</td>\n",
       "      <td>9.0</td>\n",
       "      <td>2008.0</td>\n",
       "      <td>0</td>\n",
       "      <td>NaN</td>\n",
       "      <td>NaN</td>\n",
       "      <td>NaN</td>\n",
       "      <td>0.0</td>\n",
       "      <td>0.0</td>\n",
       "      <td>1.0</td>\n",
       "      <td>0.0</td>\n",
       "      <td>1.0</td>\n",
       "      <td>0.0</td>\n",
       "      <td>0.0</td>\n",
       "      <td>-0.321681</td>\n",
       "      <td>438.0</td>\n",
       "    </tr>\n",
       "    <tr>\n",
       "      <th>1</th>\n",
       "      <td>2</td>\n",
       "      <td>11.0</td>\n",
       "      <td>2007.0</td>\n",
       "      <td>1</td>\n",
       "      <td>13.0</td>\n",
       "      <td>2010.0</td>\n",
       "      <td>Jan,Apr,Jul,Oct</td>\n",
       "      <td>1.0</td>\n",
       "      <td>0.0</td>\n",
       "      <td>0.0</td>\n",
       "      <td>0.0</td>\n",
       "      <td>1.0</td>\n",
       "      <td>0.0</td>\n",
       "      <td>0.0</td>\n",
       "      <td>-0.837582</td>\n",
       "      <td>428.0</td>\n",
       "    </tr>\n",
       "    <tr>\n",
       "      <th>2</th>\n",
       "      <td>3</td>\n",
       "      <td>12.0</td>\n",
       "      <td>2006.0</td>\n",
       "      <td>1</td>\n",
       "      <td>14.0</td>\n",
       "      <td>2011.0</td>\n",
       "      <td>Jan,Apr,Jul,Oct</td>\n",
       "      <td>1.0</td>\n",
       "      <td>0.0</td>\n",
       "      <td>0.0</td>\n",
       "      <td>0.0</td>\n",
       "      <td>1.0</td>\n",
       "      <td>0.0</td>\n",
       "      <td>0.0</td>\n",
       "      <td>1.229804</td>\n",
       "      <td>417.0</td>\n",
       "    </tr>\n",
       "    <tr>\n",
       "      <th>3</th>\n",
       "      <td>4</td>\n",
       "      <td>9.0</td>\n",
       "      <td>2009.0</td>\n",
       "      <td>0</td>\n",
       "      <td>NaN</td>\n",
       "      <td>NaN</td>\n",
       "      <td>NaN</td>\n",
       "      <td>0.0</td>\n",
       "      <td>0.0</td>\n",
       "      <td>1.0</td>\n",
       "      <td>0.0</td>\n",
       "      <td>0.0</td>\n",
       "      <td>0.0</td>\n",
       "      <td>1.0</td>\n",
       "      <td>-0.783436</td>\n",
       "      <td>450.0</td>\n",
       "    </tr>\n",
       "    <tr>\n",
       "      <th>4</th>\n",
       "      <td>5</td>\n",
       "      <td>4.0</td>\n",
       "      <td>2015.0</td>\n",
       "      <td>0</td>\n",
       "      <td>NaN</td>\n",
       "      <td>NaN</td>\n",
       "      <td>NaN</td>\n",
       "      <td>1.0</td>\n",
       "      <td>0.0</td>\n",
       "      <td>0.0</td>\n",
       "      <td>0.0</td>\n",
       "      <td>1.0</td>\n",
       "      <td>0.0</td>\n",
       "      <td>0.0</td>\n",
       "      <td>1.712706</td>\n",
       "      <td>517.0</td>\n",
       "    </tr>\n",
       "  </tbody>\n",
       "</table>\n",
       "</div>"
      ],
      "text/plain": [
       "   Store  CompetitionOpenSinceMonth  CompetitionOpenSinceYear  Promo2  \\\n",
       "0      1                        9.0                    2008.0       0   \n",
       "1      2                       11.0                    2007.0       1   \n",
       "2      3                       12.0                    2006.0       1   \n",
       "3      4                        9.0                    2009.0       0   \n",
       "4      5                        4.0                    2015.0       0   \n",
       "\n",
       "   Promo2SinceWeek  Promo2SinceYear    PromoInterval  StoreType_a  \\\n",
       "0              NaN              NaN              NaN          0.0   \n",
       "1             13.0           2010.0  Jan,Apr,Jul,Oct          1.0   \n",
       "2             14.0           2011.0  Jan,Apr,Jul,Oct          1.0   \n",
       "3              NaN              NaN              NaN          0.0   \n",
       "4              NaN              NaN              NaN          1.0   \n",
       "\n",
       "   StoreType_b  StoreType_c  StoreType_d  Assortment_a  Assortment_b  \\\n",
       "0          0.0          1.0          0.0           1.0           0.0   \n",
       "1          0.0          0.0          0.0           1.0           0.0   \n",
       "2          0.0          0.0          0.0           1.0           0.0   \n",
       "3          0.0          1.0          0.0           0.0           0.0   \n",
       "4          0.0          0.0          0.0           1.0           0.0   \n",
       "\n",
       "   Assortment_c  EncodedDistance  CompetitionMonthsFromStart  \n",
       "0           0.0        -0.321681                       438.0  \n",
       "1           0.0        -0.837582                       428.0  \n",
       "2           0.0         1.229804                       417.0  \n",
       "3           1.0        -0.783436                       450.0  \n",
       "4           0.0         1.712706                       517.0  "
      ]
     },
     "execution_count": 75,
     "metadata": {},
     "output_type": "execute_result"
    }
   ],
   "source": [
    "store.head()"
   ]
  },
  {
   "cell_type": "markdown",
   "id": "chronic-favor",
   "metadata": {},
   "source": [
    "The histogram of the new feature."
   ]
  },
  {
   "cell_type": "code",
   "execution_count": 76,
   "id": "secret-percentage",
   "metadata": {
    "ExecuteTime": {
     "end_time": "2021-12-03T15:05:33.689855Z",
     "start_time": "2021-12-03T15:05:32.762004Z"
    },
    "scrolled": false
   },
   "outputs": [
    {
     "data": {
      "image/png": "[encoded data removed]",
      "text/plain": [
       "<Figure size 720x432 with 1 Axes>"
      ]
     },
     "metadata": {
      "needs_background": "light"
     },
     "output_type": "display_data"
    }
   ],
   "source": [
    "hist(store, 'CompetitionMonthsFromStart')"
   ]
  },
  {
   "cell_type": "markdown",
   "id": "contrary-daisy",
   "metadata": {},
   "source": [
    "Normalize it."
   ]
  },
  {
   "cell_type": "code",
   "execution_count": 77,
   "id": "ahead-fight",
   "metadata": {
    "ExecuteTime": {
     "end_time": "2021-12-03T15:05:33.790666Z",
     "start_time": "2021-12-03T15:05:33.697856Z"
    }
   },
   "outputs": [
    {
     "data": {
      "text/html": [
       "<div>\n",
       "<style scoped>\n",
       "    .dataframe tbody tr th:only-of-type {\n",
       "        vertical-align: middle;\n",
       "    }\n",
       "\n",
       "    .dataframe tbody tr th {\n",
       "        vertical-align: top;\n",
       "    }\n",
       "\n",
       "    .dataframe thead th {\n",
       "        text-align: right;\n",
       "    }\n",
       "</style>\n",
       "<table border=\"1\" class=\"dataframe\">\n",
       "  <thead>\n",
       "    <tr style=\"text-align: right;\">\n",
       "      <th></th>\n",
       "      <th>Store</th>\n",
       "      <th>CompetitionOpenSinceMonth</th>\n",
       "      <th>CompetitionOpenSinceYear</th>\n",
       "      <th>Promo2</th>\n",
       "      <th>Promo2SinceWeek</th>\n",
       "      <th>Promo2SinceYear</th>\n",
       "      <th>PromoInterval</th>\n",
       "      <th>StoreType_a</th>\n",
       "      <th>StoreType_b</th>\n",
       "      <th>StoreType_c</th>\n",
       "      <th>StoreType_d</th>\n",
       "      <th>Assortment_a</th>\n",
       "      <th>Assortment_b</th>\n",
       "      <th>Assortment_c</th>\n",
       "      <th>EncodedDistance</th>\n",
       "      <th>CompetitionMonthsFromStart</th>\n",
       "      <th>EncodedCompetitionMonthsFromStart</th>\n",
       "    </tr>\n",
       "  </thead>\n",
       "  <tbody>\n",
       "    <tr>\n",
       "      <th>0</th>\n",
       "      <td>1</td>\n",
       "      <td>9.0</td>\n",
       "      <td>2008.0</td>\n",
       "      <td>0</td>\n",
       "      <td>NaN</td>\n",
       "      <td>NaN</td>\n",
       "      <td>NaN</td>\n",
       "      <td>0.0</td>\n",
       "      <td>0.0</td>\n",
       "      <td>1.0</td>\n",
       "      <td>0.0</td>\n",
       "      <td>1.0</td>\n",
       "      <td>0.0</td>\n",
       "      <td>0.0</td>\n",
       "      <td>-0.321681</td>\n",
       "      <td>438.0</td>\n",
       "      <td>0.940159</td>\n",
       "    </tr>\n",
       "    <tr>\n",
       "      <th>1</th>\n",
       "      <td>2</td>\n",
       "      <td>11.0</td>\n",
       "      <td>2007.0</td>\n",
       "      <td>1</td>\n",
       "      <td>13.0</td>\n",
       "      <td>2010.0</td>\n",
       "      <td>Jan,Apr,Jul,Oct</td>\n",
       "      <td>1.0</td>\n",
       "      <td>0.0</td>\n",
       "      <td>0.0</td>\n",
       "      <td>0.0</td>\n",
       "      <td>1.0</td>\n",
       "      <td>0.0</td>\n",
       "      <td>0.0</td>\n",
       "      <td>-0.837582</td>\n",
       "      <td>428.0</td>\n",
       "      <td>0.932949</td>\n",
       "    </tr>\n",
       "    <tr>\n",
       "      <th>2</th>\n",
       "      <td>3</td>\n",
       "      <td>12.0</td>\n",
       "      <td>2006.0</td>\n",
       "      <td>1</td>\n",
       "      <td>14.0</td>\n",
       "      <td>2011.0</td>\n",
       "      <td>Jan,Apr,Jul,Oct</td>\n",
       "      <td>1.0</td>\n",
       "      <td>0.0</td>\n",
       "      <td>0.0</td>\n",
       "      <td>0.0</td>\n",
       "      <td>1.0</td>\n",
       "      <td>0.0</td>\n",
       "      <td>0.0</td>\n",
       "      <td>1.229804</td>\n",
       "      <td>417.0</td>\n",
       "      <td>0.925018</td>\n",
       "    </tr>\n",
       "    <tr>\n",
       "      <th>3</th>\n",
       "      <td>4</td>\n",
       "      <td>9.0</td>\n",
       "      <td>2009.0</td>\n",
       "      <td>0</td>\n",
       "      <td>NaN</td>\n",
       "      <td>NaN</td>\n",
       "      <td>NaN</td>\n",
       "      <td>0.0</td>\n",
       "      <td>0.0</td>\n",
       "      <td>1.0</td>\n",
       "      <td>0.0</td>\n",
       "      <td>0.0</td>\n",
       "      <td>0.0</td>\n",
       "      <td>1.0</td>\n",
       "      <td>-0.783436</td>\n",
       "      <td>450.0</td>\n",
       "      <td>0.948810</td>\n",
       "    </tr>\n",
       "    <tr>\n",
       "      <th>4</th>\n",
       "      <td>5</td>\n",
       "      <td>4.0</td>\n",
       "      <td>2015.0</td>\n",
       "      <td>0</td>\n",
       "      <td>NaN</td>\n",
       "      <td>NaN</td>\n",
       "      <td>NaN</td>\n",
       "      <td>1.0</td>\n",
       "      <td>0.0</td>\n",
       "      <td>0.0</td>\n",
       "      <td>0.0</td>\n",
       "      <td>1.0</td>\n",
       "      <td>0.0</td>\n",
       "      <td>0.0</td>\n",
       "      <td>1.712706</td>\n",
       "      <td>517.0</td>\n",
       "      <td>0.997116</td>\n",
       "    </tr>\n",
       "  </tbody>\n",
       "</table>\n",
       "</div>"
      ],
      "text/plain": [
       "   Store  CompetitionOpenSinceMonth  CompetitionOpenSinceYear  Promo2  \\\n",
       "0      1                        9.0                    2008.0       0   \n",
       "1      2                       11.0                    2007.0       1   \n",
       "2      3                       12.0                    2006.0       1   \n",
       "3      4                        9.0                    2009.0       0   \n",
       "4      5                        4.0                    2015.0       0   \n",
       "\n",
       "   Promo2SinceWeek  Promo2SinceYear    PromoInterval  StoreType_a  \\\n",
       "0              NaN              NaN              NaN          0.0   \n",
       "1             13.0           2010.0  Jan,Apr,Jul,Oct          1.0   \n",
       "2             14.0           2011.0  Jan,Apr,Jul,Oct          1.0   \n",
       "3              NaN              NaN              NaN          0.0   \n",
       "4              NaN              NaN              NaN          1.0   \n",
       "\n",
       "   StoreType_b  StoreType_c  StoreType_d  Assortment_a  Assortment_b  \\\n",
       "0          0.0          1.0          0.0           1.0           0.0   \n",
       "1          0.0          0.0          0.0           1.0           0.0   \n",
       "2          0.0          0.0          0.0           1.0           0.0   \n",
       "3          0.0          1.0          0.0           0.0           0.0   \n",
       "4          0.0          0.0          0.0           1.0           0.0   \n",
       "\n",
       "   Assortment_c  EncodedDistance  CompetitionMonthsFromStart  \\\n",
       "0           0.0        -0.321681                       438.0   \n",
       "1           0.0        -0.837582                       428.0   \n",
       "2           0.0         1.229804                       417.0   \n",
       "3           1.0        -0.783436                       450.0   \n",
       "4           0.0         1.712706                       517.0   \n",
       "\n",
       "   EncodedCompetitionMonthsFromStart  \n",
       "0                           0.940159  \n",
       "1                           0.932949  \n",
       "2                           0.925018  \n",
       "3                           0.948810  \n",
       "4                           0.997116  "
      ]
     },
     "execution_count": 77,
     "metadata": {},
     "output_type": "execute_result"
    }
   ],
   "source": [
    "min_max_scaler = MinMaxScaler()\n",
    "store['EncodedCompetitionMonthsFromStart'] = min_max_scaler.fit_transform(store[['CompetitionMonthsFromStart']]).flatten()\n",
    "store.head()"
   ]
  },
  {
   "cell_type": "code",
   "execution_count": 78,
   "id": "median-shakespeare",
   "metadata": {
    "ExecuteTime": {
     "end_time": "2021-12-03T15:05:33.870655Z",
     "start_time": "2021-12-03T15:05:33.790666Z"
    }
   },
   "outputs": [
    {
     "data": {
      "text/html": [
       "<div>\n",
       "<style scoped>\n",
       "    .dataframe tbody tr th:only-of-type {\n",
       "        vertical-align: middle;\n",
       "    }\n",
       "\n",
       "    .dataframe tbody tr th {\n",
       "        vertical-align: top;\n",
       "    }\n",
       "\n",
       "    .dataframe thead th {\n",
       "        text-align: right;\n",
       "    }\n",
       "</style>\n",
       "<table border=\"1\" class=\"dataframe\">\n",
       "  <thead>\n",
       "    <tr style=\"text-align: right;\">\n",
       "      <th></th>\n",
       "      <th>Store</th>\n",
       "      <th>Promo2</th>\n",
       "      <th>Promo2SinceWeek</th>\n",
       "      <th>Promo2SinceYear</th>\n",
       "      <th>PromoInterval</th>\n",
       "      <th>StoreType_a</th>\n",
       "      <th>StoreType_b</th>\n",
       "      <th>StoreType_c</th>\n",
       "      <th>StoreType_d</th>\n",
       "      <th>Assortment_a</th>\n",
       "      <th>Assortment_b</th>\n",
       "      <th>Assortment_c</th>\n",
       "      <th>EncodedDistance</th>\n",
       "      <th>EncodedCompetitionMonthsFromStart</th>\n",
       "    </tr>\n",
       "  </thead>\n",
       "  <tbody>\n",
       "    <tr>\n",
       "      <th>0</th>\n",
       "      <td>1</td>\n",
       "      <td>0</td>\n",
       "      <td>NaN</td>\n",
       "      <td>NaN</td>\n",
       "      <td>NaN</td>\n",
       "      <td>0.0</td>\n",
       "      <td>0.0</td>\n",
       "      <td>1.0</td>\n",
       "      <td>0.0</td>\n",
       "      <td>1.0</td>\n",
       "      <td>0.0</td>\n",
       "      <td>0.0</td>\n",
       "      <td>-0.321681</td>\n",
       "      <td>0.940159</td>\n",
       "    </tr>\n",
       "    <tr>\n",
       "      <th>1</th>\n",
       "      <td>2</td>\n",
       "      <td>1</td>\n",
       "      <td>13.0</td>\n",
       "      <td>2010.0</td>\n",
       "      <td>Jan,Apr,Jul,Oct</td>\n",
       "      <td>1.0</td>\n",
       "      <td>0.0</td>\n",
       "      <td>0.0</td>\n",
       "      <td>0.0</td>\n",
       "      <td>1.0</td>\n",
       "      <td>0.0</td>\n",
       "      <td>0.0</td>\n",
       "      <td>-0.837582</td>\n",
       "      <td>0.932949</td>\n",
       "    </tr>\n",
       "    <tr>\n",
       "      <th>2</th>\n",
       "      <td>3</td>\n",
       "      <td>1</td>\n",
       "      <td>14.0</td>\n",
       "      <td>2011.0</td>\n",
       "      <td>Jan,Apr,Jul,Oct</td>\n",
       "      <td>1.0</td>\n",
       "      <td>0.0</td>\n",
       "      <td>0.0</td>\n",
       "      <td>0.0</td>\n",
       "      <td>1.0</td>\n",
       "      <td>0.0</td>\n",
       "      <td>0.0</td>\n",
       "      <td>1.229804</td>\n",
       "      <td>0.925018</td>\n",
       "    </tr>\n",
       "    <tr>\n",
       "      <th>3</th>\n",
       "      <td>4</td>\n",
       "      <td>0</td>\n",
       "      <td>NaN</td>\n",
       "      <td>NaN</td>\n",
       "      <td>NaN</td>\n",
       "      <td>0.0</td>\n",
       "      <td>0.0</td>\n",
       "      <td>1.0</td>\n",
       "      <td>0.0</td>\n",
       "      <td>0.0</td>\n",
       "      <td>0.0</td>\n",
       "      <td>1.0</td>\n",
       "      <td>-0.783436</td>\n",
       "      <td>0.948810</td>\n",
       "    </tr>\n",
       "    <tr>\n",
       "      <th>4</th>\n",
       "      <td>5</td>\n",
       "      <td>0</td>\n",
       "      <td>NaN</td>\n",
       "      <td>NaN</td>\n",
       "      <td>NaN</td>\n",
       "      <td>1.0</td>\n",
       "      <td>0.0</td>\n",
       "      <td>0.0</td>\n",
       "      <td>0.0</td>\n",
       "      <td>1.0</td>\n",
       "      <td>0.0</td>\n",
       "      <td>0.0</td>\n",
       "      <td>1.712706</td>\n",
       "      <td>0.997116</td>\n",
       "    </tr>\n",
       "  </tbody>\n",
       "</table>\n",
       "</div>"
      ],
      "text/plain": [
       "   Store  Promo2  Promo2SinceWeek  Promo2SinceYear    PromoInterval  \\\n",
       "0      1       0              NaN              NaN              NaN   \n",
       "1      2       1             13.0           2010.0  Jan,Apr,Jul,Oct   \n",
       "2      3       1             14.0           2011.0  Jan,Apr,Jul,Oct   \n",
       "3      4       0              NaN              NaN              NaN   \n",
       "4      5       0              NaN              NaN              NaN   \n",
       "\n",
       "   StoreType_a  StoreType_b  StoreType_c  StoreType_d  Assortment_a  \\\n",
       "0          0.0          0.0          1.0          0.0           1.0   \n",
       "1          1.0          0.0          0.0          0.0           1.0   \n",
       "2          1.0          0.0          0.0          0.0           1.0   \n",
       "3          0.0          0.0          1.0          0.0           0.0   \n",
       "4          1.0          0.0          0.0          0.0           1.0   \n",
       "\n",
       "   Assortment_b  Assortment_c  EncodedDistance  \\\n",
       "0           0.0           0.0        -0.321681   \n",
       "1           0.0           0.0        -0.837582   \n",
       "2           0.0           0.0         1.229804   \n",
       "3           0.0           1.0        -0.783436   \n",
       "4           0.0           0.0         1.712706   \n",
       "\n",
       "   EncodedCompetitionMonthsFromStart  \n",
       "0                           0.940159  \n",
       "1                           0.932949  \n",
       "2                           0.925018  \n",
       "3                           0.948810  \n",
       "4                           0.997116  "
      ]
     },
     "execution_count": 78,
     "metadata": {},
     "output_type": "execute_result"
    }
   ],
   "source": [
    "store.drop(\n",
    "    columns=['CompetitionOpenSinceMonth', 'CompetitionOpenSinceYear', 'CompetitionMonthsFromStart'],\n",
    "    inplace=True)\n",
    "store.head()"
   ]
  },
  {
   "cell_type": "markdown",
   "id": "retired-toddler",
   "metadata": {},
   "source": [
    "Now let's combine features **Promo2SinceWeek** and **Promo2SinceYear** by the same way. Fill missing values with outliers. As the year ranges from 2009 to 2015 define the outlier for year as 1900. The \"outlier\" for week is 1. Also fill the missing values of **PromoInterval** feature with an empty string. It will be other category."
   ]
  },
  {
   "cell_type": "code",
   "execution_count": 79,
   "id": "pleasant-jewel",
   "metadata": {
    "ExecuteTime": {
     "end_time": "2021-12-03T15:05:33.950643Z",
     "start_time": "2021-12-03T15:05:33.878651Z"
    }
   },
   "outputs": [
    {
     "data": {
      "text/html": [
       "<div>\n",
       "<style scoped>\n",
       "    .dataframe tbody tr th:only-of-type {\n",
       "        vertical-align: middle;\n",
       "    }\n",
       "\n",
       "    .dataframe tbody tr th {\n",
       "        vertical-align: top;\n",
       "    }\n",
       "\n",
       "    .dataframe thead th {\n",
       "        text-align: right;\n",
       "    }\n",
       "</style>\n",
       "<table border=\"1\" class=\"dataframe\">\n",
       "  <thead>\n",
       "    <tr style=\"text-align: right;\">\n",
       "      <th></th>\n",
       "      <th>Store</th>\n",
       "      <th>Promo2</th>\n",
       "      <th>Promo2SinceWeek</th>\n",
       "      <th>Promo2SinceYear</th>\n",
       "      <th>PromoInterval</th>\n",
       "      <th>StoreType_a</th>\n",
       "      <th>StoreType_b</th>\n",
       "      <th>StoreType_c</th>\n",
       "      <th>StoreType_d</th>\n",
       "      <th>Assortment_a</th>\n",
       "      <th>Assortment_b</th>\n",
       "      <th>Assortment_c</th>\n",
       "      <th>EncodedDistance</th>\n",
       "      <th>EncodedCompetitionMonthsFromStart</th>\n",
       "    </tr>\n",
       "  </thead>\n",
       "  <tbody>\n",
       "    <tr>\n",
       "      <th>0</th>\n",
       "      <td>1</td>\n",
       "      <td>0</td>\n",
       "      <td>1.0</td>\n",
       "      <td>1900.0</td>\n",
       "      <td></td>\n",
       "      <td>0.0</td>\n",
       "      <td>0.0</td>\n",
       "      <td>1.0</td>\n",
       "      <td>0.0</td>\n",
       "      <td>1.0</td>\n",
       "      <td>0.0</td>\n",
       "      <td>0.0</td>\n",
       "      <td>-0.321681</td>\n",
       "      <td>0.940159</td>\n",
       "    </tr>\n",
       "    <tr>\n",
       "      <th>1</th>\n",
       "      <td>2</td>\n",
       "      <td>1</td>\n",
       "      <td>13.0</td>\n",
       "      <td>2010.0</td>\n",
       "      <td>Jan,Apr,Jul,Oct</td>\n",
       "      <td>1.0</td>\n",
       "      <td>0.0</td>\n",
       "      <td>0.0</td>\n",
       "      <td>0.0</td>\n",
       "      <td>1.0</td>\n",
       "      <td>0.0</td>\n",
       "      <td>0.0</td>\n",
       "      <td>-0.837582</td>\n",
       "      <td>0.932949</td>\n",
       "    </tr>\n",
       "    <tr>\n",
       "      <th>2</th>\n",
       "      <td>3</td>\n",
       "      <td>1</td>\n",
       "      <td>14.0</td>\n",
       "      <td>2011.0</td>\n",
       "      <td>Jan,Apr,Jul,Oct</td>\n",
       "      <td>1.0</td>\n",
       "      <td>0.0</td>\n",
       "      <td>0.0</td>\n",
       "      <td>0.0</td>\n",
       "      <td>1.0</td>\n",
       "      <td>0.0</td>\n",
       "      <td>0.0</td>\n",
       "      <td>1.229804</td>\n",
       "      <td>0.925018</td>\n",
       "    </tr>\n",
       "    <tr>\n",
       "      <th>3</th>\n",
       "      <td>4</td>\n",
       "      <td>0</td>\n",
       "      <td>1.0</td>\n",
       "      <td>1900.0</td>\n",
       "      <td></td>\n",
       "      <td>0.0</td>\n",
       "      <td>0.0</td>\n",
       "      <td>1.0</td>\n",
       "      <td>0.0</td>\n",
       "      <td>0.0</td>\n",
       "      <td>0.0</td>\n",
       "      <td>1.0</td>\n",
       "      <td>-0.783436</td>\n",
       "      <td>0.948810</td>\n",
       "    </tr>\n",
       "    <tr>\n",
       "      <th>4</th>\n",
       "      <td>5</td>\n",
       "      <td>0</td>\n",
       "      <td>1.0</td>\n",
       "      <td>1900.0</td>\n",
       "      <td></td>\n",
       "      <td>1.0</td>\n",
       "      <td>0.0</td>\n",
       "      <td>0.0</td>\n",
       "      <td>0.0</td>\n",
       "      <td>1.0</td>\n",
       "      <td>0.0</td>\n",
       "      <td>0.0</td>\n",
       "      <td>1.712706</td>\n",
       "      <td>0.997116</td>\n",
       "    </tr>\n",
       "  </tbody>\n",
       "</table>\n",
       "</div>"
      ],
      "text/plain": [
       "   Store  Promo2  Promo2SinceWeek  Promo2SinceYear    PromoInterval  \\\n",
       "0      1       0              1.0           1900.0                    \n",
       "1      2       1             13.0           2010.0  Jan,Apr,Jul,Oct   \n",
       "2      3       1             14.0           2011.0  Jan,Apr,Jul,Oct   \n",
       "3      4       0              1.0           1900.0                    \n",
       "4      5       0              1.0           1900.0                    \n",
       "\n",
       "   StoreType_a  StoreType_b  StoreType_c  StoreType_d  Assortment_a  \\\n",
       "0          0.0          0.0          1.0          0.0           1.0   \n",
       "1          1.0          0.0          0.0          0.0           1.0   \n",
       "2          1.0          0.0          0.0          0.0           1.0   \n",
       "3          0.0          0.0          1.0          0.0           0.0   \n",
       "4          1.0          0.0          0.0          0.0           1.0   \n",
       "\n",
       "   Assortment_b  Assortment_c  EncodedDistance  \\\n",
       "0           0.0           0.0        -0.321681   \n",
       "1           0.0           0.0        -0.837582   \n",
       "2           0.0           0.0         1.229804   \n",
       "3           0.0           1.0        -0.783436   \n",
       "4           0.0           0.0         1.712706   \n",
       "\n",
       "   EncodedCompetitionMonthsFromStart  \n",
       "0                           0.940159  \n",
       "1                           0.932949  \n",
       "2                           0.925018  \n",
       "3                           0.948810  \n",
       "4                           0.997116  "
      ]
     },
     "execution_count": 79,
     "metadata": {},
     "output_type": "execute_result"
    }
   ],
   "source": [
    "store.Promo2SinceWeek = store.Promo2SinceWeek.fillna(1)\n",
    "store.Promo2SinceYear = store.Promo2SinceYear.fillna(1900)\n",
    "store.PromoInterval = store.PromoInterval.fillna('')\n",
    "store.head()"
   ]
  },
  {
   "cell_type": "markdown",
   "id": "romance-cliff",
   "metadata": {},
   "source": [
    "Then calculate the ordered number of week when the store started to be participated in Promo2 assuming that a year contains 52 weeks."
   ]
  },
  {
   "cell_type": "code",
   "execution_count": 80,
   "id": "emotional-assessment",
   "metadata": {
    "ExecuteTime": {
     "end_time": "2021-12-03T15:05:34.030628Z",
     "start_time": "2021-12-03T15:05:33.950643Z"
    },
    "scrolled": true
   },
   "outputs": [
    {
     "data": {
      "text/html": [
       "<div>\n",
       "<style scoped>\n",
       "    .dataframe tbody tr th:only-of-type {\n",
       "        vertical-align: middle;\n",
       "    }\n",
       "\n",
       "    .dataframe tbody tr th {\n",
       "        vertical-align: top;\n",
       "    }\n",
       "\n",
       "    .dataframe thead th {\n",
       "        text-align: right;\n",
       "    }\n",
       "</style>\n",
       "<table border=\"1\" class=\"dataframe\">\n",
       "  <thead>\n",
       "    <tr style=\"text-align: right;\">\n",
       "      <th></th>\n",
       "      <th>Store</th>\n",
       "      <th>Promo2</th>\n",
       "      <th>Promo2SinceWeek</th>\n",
       "      <th>Promo2SinceYear</th>\n",
       "      <th>PromoInterval</th>\n",
       "      <th>StoreType_a</th>\n",
       "      <th>StoreType_b</th>\n",
       "      <th>StoreType_c</th>\n",
       "      <th>StoreType_d</th>\n",
       "      <th>Assortment_a</th>\n",
       "      <th>Assortment_b</th>\n",
       "      <th>Assortment_c</th>\n",
       "      <th>EncodedDistance</th>\n",
       "      <th>EncodedCompetitionMonthsFromStart</th>\n",
       "      <th>Promo2WeeksFromStart</th>\n",
       "    </tr>\n",
       "  </thead>\n",
       "  <tbody>\n",
       "    <tr>\n",
       "      <th>0</th>\n",
       "      <td>1</td>\n",
       "      <td>0</td>\n",
       "      <td>1.0</td>\n",
       "      <td>1900.0</td>\n",
       "      <td></td>\n",
       "      <td>0.0</td>\n",
       "      <td>0.0</td>\n",
       "      <td>1.0</td>\n",
       "      <td>0.0</td>\n",
       "      <td>1.0</td>\n",
       "      <td>0.0</td>\n",
       "      <td>0.0</td>\n",
       "      <td>-0.321681</td>\n",
       "      <td>0.940159</td>\n",
       "      <td>-5668.0</td>\n",
       "    </tr>\n",
       "    <tr>\n",
       "      <th>1</th>\n",
       "      <td>2</td>\n",
       "      <td>1</td>\n",
       "      <td>13.0</td>\n",
       "      <td>2010.0</td>\n",
       "      <td>Jan,Apr,Jul,Oct</td>\n",
       "      <td>1.0</td>\n",
       "      <td>0.0</td>\n",
       "      <td>0.0</td>\n",
       "      <td>0.0</td>\n",
       "      <td>1.0</td>\n",
       "      <td>0.0</td>\n",
       "      <td>0.0</td>\n",
       "      <td>-0.837582</td>\n",
       "      <td>0.932949</td>\n",
       "      <td>64.0</td>\n",
       "    </tr>\n",
       "    <tr>\n",
       "      <th>2</th>\n",
       "      <td>3</td>\n",
       "      <td>1</td>\n",
       "      <td>14.0</td>\n",
       "      <td>2011.0</td>\n",
       "      <td>Jan,Apr,Jul,Oct</td>\n",
       "      <td>1.0</td>\n",
       "      <td>0.0</td>\n",
       "      <td>0.0</td>\n",
       "      <td>0.0</td>\n",
       "      <td>1.0</td>\n",
       "      <td>0.0</td>\n",
       "      <td>0.0</td>\n",
       "      <td>1.229804</td>\n",
       "      <td>0.925018</td>\n",
       "      <td>117.0</td>\n",
       "    </tr>\n",
       "    <tr>\n",
       "      <th>3</th>\n",
       "      <td>4</td>\n",
       "      <td>0</td>\n",
       "      <td>1.0</td>\n",
       "      <td>1900.0</td>\n",
       "      <td></td>\n",
       "      <td>0.0</td>\n",
       "      <td>0.0</td>\n",
       "      <td>1.0</td>\n",
       "      <td>0.0</td>\n",
       "      <td>0.0</td>\n",
       "      <td>0.0</td>\n",
       "      <td>1.0</td>\n",
       "      <td>-0.783436</td>\n",
       "      <td>0.948810</td>\n",
       "      <td>-5668.0</td>\n",
       "    </tr>\n",
       "    <tr>\n",
       "      <th>4</th>\n",
       "      <td>5</td>\n",
       "      <td>0</td>\n",
       "      <td>1.0</td>\n",
       "      <td>1900.0</td>\n",
       "      <td></td>\n",
       "      <td>1.0</td>\n",
       "      <td>0.0</td>\n",
       "      <td>0.0</td>\n",
       "      <td>0.0</td>\n",
       "      <td>1.0</td>\n",
       "      <td>0.0</td>\n",
       "      <td>0.0</td>\n",
       "      <td>1.712706</td>\n",
       "      <td>0.997116</td>\n",
       "      <td>-5668.0</td>\n",
       "    </tr>\n",
       "  </tbody>\n",
       "</table>\n",
       "</div>"
      ],
      "text/plain": [
       "   Store  Promo2  Promo2SinceWeek  Promo2SinceYear    PromoInterval  \\\n",
       "0      1       0              1.0           1900.0                    \n",
       "1      2       1             13.0           2010.0  Jan,Apr,Jul,Oct   \n",
       "2      3       1             14.0           2011.0  Jan,Apr,Jul,Oct   \n",
       "3      4       0              1.0           1900.0                    \n",
       "4      5       0              1.0           1900.0                    \n",
       "\n",
       "   StoreType_a  StoreType_b  StoreType_c  StoreType_d  Assortment_a  \\\n",
       "0          0.0          0.0          1.0          0.0           1.0   \n",
       "1          1.0          0.0          0.0          0.0           1.0   \n",
       "2          1.0          0.0          0.0          0.0           1.0   \n",
       "3          0.0          0.0          1.0          0.0           0.0   \n",
       "4          1.0          0.0          0.0          0.0           1.0   \n",
       "\n",
       "   Assortment_b  Assortment_c  EncodedDistance  \\\n",
       "0           0.0           0.0        -0.321681   \n",
       "1           0.0           0.0        -0.837582   \n",
       "2           0.0           0.0         1.229804   \n",
       "3           0.0           1.0        -0.783436   \n",
       "4           0.0           0.0         1.712706   \n",
       "\n",
       "   EncodedCompetitionMonthsFromStart  Promo2WeeksFromStart  \n",
       "0                           0.940159               -5668.0  \n",
       "1                           0.932949                  64.0  \n",
       "2                           0.925018                 117.0  \n",
       "3                           0.948810               -5668.0  \n",
       "4                           0.997116               -5668.0  "
      ]
     },
     "execution_count": 80,
     "metadata": {},
     "output_type": "execute_result"
    }
   ],
   "source": [
    "store['Promo2WeeksFromStart'] = (store.Promo2SinceYear - 2009) * 52 + (store.Promo2SinceWeek - 1)\n",
    "store.head()"
   ]
  },
  {
   "cell_type": "markdown",
   "id": "minimal-powder",
   "metadata": {},
   "source": [
    "The distribution of the new feature."
   ]
  },
  {
   "cell_type": "code",
   "execution_count": 81,
   "id": "bright-turning",
   "metadata": {
    "ExecuteTime": {
     "end_time": "2021-12-03T15:05:35.310682Z",
     "start_time": "2021-12-03T15:05:34.038621Z"
    }
   },
   "outputs": [
    {
     "data": {
      "image/png": "[encoded data removed]",
      "text/plain": [
       "<Figure size 720x432 with 1 Axes>"
      ]
     },
     "metadata": {
      "needs_background": "light"
     },
     "output_type": "display_data"
    }
   ],
   "source": [
    "hist(store, 'Promo2WeeksFromStart', bins=120)"
   ]
  },
  {
   "cell_type": "markdown",
   "id": "interested-incident",
   "metadata": {},
   "source": [
    "Normalize it."
   ]
  },
  {
   "cell_type": "code",
   "execution_count": 82,
   "id": "pleased-belarus",
   "metadata": {
    "ExecuteTime": {
     "end_time": "2021-12-03T15:05:35.414657Z",
     "start_time": "2021-12-03T15:05:35.318678Z"
    }
   },
   "outputs": [
    {
     "data": {
      "text/html": [
       "<div>\n",
       "<style scoped>\n",
       "    .dataframe tbody tr th:only-of-type {\n",
       "        vertical-align: middle;\n",
       "    }\n",
       "\n",
       "    .dataframe tbody tr th {\n",
       "        vertical-align: top;\n",
       "    }\n",
       "\n",
       "    .dataframe thead th {\n",
       "        text-align: right;\n",
       "    }\n",
       "</style>\n",
       "<table border=\"1\" class=\"dataframe\">\n",
       "  <thead>\n",
       "    <tr style=\"text-align: right;\">\n",
       "      <th></th>\n",
       "      <th>Store</th>\n",
       "      <th>Promo2</th>\n",
       "      <th>Promo2SinceWeek</th>\n",
       "      <th>Promo2SinceYear</th>\n",
       "      <th>PromoInterval</th>\n",
       "      <th>StoreType_a</th>\n",
       "      <th>StoreType_b</th>\n",
       "      <th>StoreType_c</th>\n",
       "      <th>StoreType_d</th>\n",
       "      <th>Assortment_a</th>\n",
       "      <th>Assortment_b</th>\n",
       "      <th>Assortment_c</th>\n",
       "      <th>EncodedDistance</th>\n",
       "      <th>EncodedCompetitionMonthsFromStart</th>\n",
       "      <th>Promo2WeeksFromStart</th>\n",
       "      <th>EncodedPromo2WeeksFromStart</th>\n",
       "    </tr>\n",
       "  </thead>\n",
       "  <tbody>\n",
       "    <tr>\n",
       "      <th>0</th>\n",
       "      <td>1</td>\n",
       "      <td>0</td>\n",
       "      <td>1.0</td>\n",
       "      <td>1900.0</td>\n",
       "      <td></td>\n",
       "      <td>0.0</td>\n",
       "      <td>0.0</td>\n",
       "      <td>1.0</td>\n",
       "      <td>0.0</td>\n",
       "      <td>1.0</td>\n",
       "      <td>0.0</td>\n",
       "      <td>0.0</td>\n",
       "      <td>-0.321681</td>\n",
       "      <td>0.940159</td>\n",
       "      <td>-5668.0</td>\n",
       "      <td>0.000000</td>\n",
       "    </tr>\n",
       "    <tr>\n",
       "      <th>1</th>\n",
       "      <td>2</td>\n",
       "      <td>1</td>\n",
       "      <td>13.0</td>\n",
       "      <td>2010.0</td>\n",
       "      <td>Jan,Apr,Jul,Oct</td>\n",
       "      <td>1.0</td>\n",
       "      <td>0.0</td>\n",
       "      <td>0.0</td>\n",
       "      <td>0.0</td>\n",
       "      <td>1.0</td>\n",
       "      <td>0.0</td>\n",
       "      <td>0.0</td>\n",
       "      <td>-0.837582</td>\n",
       "      <td>0.932949</td>\n",
       "      <td>64.0</td>\n",
       "      <td>0.955015</td>\n",
       "    </tr>\n",
       "    <tr>\n",
       "      <th>2</th>\n",
       "      <td>3</td>\n",
       "      <td>1</td>\n",
       "      <td>14.0</td>\n",
       "      <td>2011.0</td>\n",
       "      <td>Jan,Apr,Jul,Oct</td>\n",
       "      <td>1.0</td>\n",
       "      <td>0.0</td>\n",
       "      <td>0.0</td>\n",
       "      <td>0.0</td>\n",
       "      <td>1.0</td>\n",
       "      <td>0.0</td>\n",
       "      <td>0.0</td>\n",
       "      <td>1.229804</td>\n",
       "      <td>0.925018</td>\n",
       "      <td>117.0</td>\n",
       "      <td>0.963845</td>\n",
       "    </tr>\n",
       "    <tr>\n",
       "      <th>3</th>\n",
       "      <td>4</td>\n",
       "      <td>0</td>\n",
       "      <td>1.0</td>\n",
       "      <td>1900.0</td>\n",
       "      <td></td>\n",
       "      <td>0.0</td>\n",
       "      <td>0.0</td>\n",
       "      <td>1.0</td>\n",
       "      <td>0.0</td>\n",
       "      <td>0.0</td>\n",
       "      <td>0.0</td>\n",
       "      <td>1.0</td>\n",
       "      <td>-0.783436</td>\n",
       "      <td>0.948810</td>\n",
       "      <td>-5668.0</td>\n",
       "      <td>0.000000</td>\n",
       "    </tr>\n",
       "    <tr>\n",
       "      <th>4</th>\n",
       "      <td>5</td>\n",
       "      <td>0</td>\n",
       "      <td>1.0</td>\n",
       "      <td>1900.0</td>\n",
       "      <td></td>\n",
       "      <td>1.0</td>\n",
       "      <td>0.0</td>\n",
       "      <td>0.0</td>\n",
       "      <td>0.0</td>\n",
       "      <td>1.0</td>\n",
       "      <td>0.0</td>\n",
       "      <td>0.0</td>\n",
       "      <td>1.712706</td>\n",
       "      <td>0.997116</td>\n",
       "      <td>-5668.0</td>\n",
       "      <td>0.000000</td>\n",
       "    </tr>\n",
       "  </tbody>\n",
       "</table>\n",
       "</div>"
      ],
      "text/plain": [
       "   Store  Promo2  Promo2SinceWeek  Promo2SinceYear    PromoInterval  \\\n",
       "0      1       0              1.0           1900.0                    \n",
       "1      2       1             13.0           2010.0  Jan,Apr,Jul,Oct   \n",
       "2      3       1             14.0           2011.0  Jan,Apr,Jul,Oct   \n",
       "3      4       0              1.0           1900.0                    \n",
       "4      5       0              1.0           1900.0                    \n",
       "\n",
       "   StoreType_a  StoreType_b  StoreType_c  StoreType_d  Assortment_a  \\\n",
       "0          0.0          0.0          1.0          0.0           1.0   \n",
       "1          1.0          0.0          0.0          0.0           1.0   \n",
       "2          1.0          0.0          0.0          0.0           1.0   \n",
       "3          0.0          0.0          1.0          0.0           0.0   \n",
       "4          1.0          0.0          0.0          0.0           1.0   \n",
       "\n",
       "   Assortment_b  Assortment_c  EncodedDistance  \\\n",
       "0           0.0           0.0        -0.321681   \n",
       "1           0.0           0.0        -0.837582   \n",
       "2           0.0           0.0         1.229804   \n",
       "3           0.0           1.0        -0.783436   \n",
       "4           0.0           0.0         1.712706   \n",
       "\n",
       "   EncodedCompetitionMonthsFromStart  Promo2WeeksFromStart  \\\n",
       "0                           0.940159               -5668.0   \n",
       "1                           0.932949                  64.0   \n",
       "2                           0.925018                 117.0   \n",
       "3                           0.948810               -5668.0   \n",
       "4                           0.997116               -5668.0   \n",
       "\n",
       "   EncodedPromo2WeeksFromStart  \n",
       "0                     0.000000  \n",
       "1                     0.955015  \n",
       "2                     0.963845  \n",
       "3                     0.000000  \n",
       "4                     0.000000  "
      ]
     },
     "execution_count": 82,
     "metadata": {},
     "output_type": "execute_result"
    }
   ],
   "source": [
    "min_max_scaler = MinMaxScaler()\n",
    "store['EncodedPromo2WeeksFromStart'] = min_max_scaler.fit_transform(store[['Promo2WeeksFromStart']]).flatten()\n",
    "store.head()"
   ]
  },
  {
   "cell_type": "markdown",
   "id": "loving-senior",
   "metadata": {},
   "source": [
    "ANd finally encode the **PromoInterval** feature using one-hot encoder."
   ]
  },
  {
   "cell_type": "code",
   "execution_count": 83,
   "id": "proud-period",
   "metadata": {
    "ExecuteTime": {
     "end_time": "2021-12-03T15:05:35.518644Z",
     "start_time": "2021-12-03T15:05:35.414657Z"
    }
   },
   "outputs": [
    {
     "data": {
      "text/html": [
       "<div>\n",
       "<style scoped>\n",
       "    .dataframe tbody tr th:only-of-type {\n",
       "        vertical-align: middle;\n",
       "    }\n",
       "\n",
       "    .dataframe tbody tr th {\n",
       "        vertical-align: top;\n",
       "    }\n",
       "\n",
       "    .dataframe thead th {\n",
       "        text-align: right;\n",
       "    }\n",
       "</style>\n",
       "<table border=\"1\" class=\"dataframe\">\n",
       "  <thead>\n",
       "    <tr style=\"text-align: right;\">\n",
       "      <th></th>\n",
       "      <th>Store</th>\n",
       "      <th>Promo2</th>\n",
       "      <th>Promo2SinceWeek</th>\n",
       "      <th>Promo2SinceYear</th>\n",
       "      <th>PromoInterval</th>\n",
       "      <th>StoreType_a</th>\n",
       "      <th>StoreType_b</th>\n",
       "      <th>StoreType_c</th>\n",
       "      <th>StoreType_d</th>\n",
       "      <th>Assortment_a</th>\n",
       "      <th>Assortment_b</th>\n",
       "      <th>Assortment_c</th>\n",
       "      <th>EncodedDistance</th>\n",
       "      <th>EncodedCompetitionMonthsFromStart</th>\n",
       "      <th>Promo2WeeksFromStart</th>\n",
       "      <th>EncodedPromo2WeeksFromStart</th>\n",
       "      <th>PromoInterval_</th>\n",
       "      <th>PromoInterval_Jan,Apr,Jul,Oct</th>\n",
       "      <th>PromoInterval_Feb,May,Aug,Nov</th>\n",
       "      <th>PromoInterval_Mar,Jun,Sept,Dec</th>\n",
       "    </tr>\n",
       "  </thead>\n",
       "  <tbody>\n",
       "    <tr>\n",
       "      <th>0</th>\n",
       "      <td>1</td>\n",
       "      <td>0</td>\n",
       "      <td>1.0</td>\n",
       "      <td>1900.0</td>\n",
       "      <td></td>\n",
       "      <td>0.0</td>\n",
       "      <td>0.0</td>\n",
       "      <td>1.0</td>\n",
       "      <td>0.0</td>\n",
       "      <td>1.0</td>\n",
       "      <td>0.0</td>\n",
       "      <td>0.0</td>\n",
       "      <td>-0.321681</td>\n",
       "      <td>0.940159</td>\n",
       "      <td>-5668.0</td>\n",
       "      <td>0.000000</td>\n",
       "      <td>1.0</td>\n",
       "      <td>0.0</td>\n",
       "      <td>0.0</td>\n",
       "      <td>0.0</td>\n",
       "    </tr>\n",
       "    <tr>\n",
       "      <th>1</th>\n",
       "      <td>2</td>\n",
       "      <td>1</td>\n",
       "      <td>13.0</td>\n",
       "      <td>2010.0</td>\n",
       "      <td>Jan,Apr,Jul,Oct</td>\n",
       "      <td>1.0</td>\n",
       "      <td>0.0</td>\n",
       "      <td>0.0</td>\n",
       "      <td>0.0</td>\n",
       "      <td>1.0</td>\n",
       "      <td>0.0</td>\n",
       "      <td>0.0</td>\n",
       "      <td>-0.837582</td>\n",
       "      <td>0.932949</td>\n",
       "      <td>64.0</td>\n",
       "      <td>0.955015</td>\n",
       "      <td>0.0</td>\n",
       "      <td>1.0</td>\n",
       "      <td>0.0</td>\n",
       "      <td>0.0</td>\n",
       "    </tr>\n",
       "    <tr>\n",
       "      <th>2</th>\n",
       "      <td>3</td>\n",
       "      <td>1</td>\n",
       "      <td>14.0</td>\n",
       "      <td>2011.0</td>\n",
       "      <td>Jan,Apr,Jul,Oct</td>\n",
       "      <td>1.0</td>\n",
       "      <td>0.0</td>\n",
       "      <td>0.0</td>\n",
       "      <td>0.0</td>\n",
       "      <td>1.0</td>\n",
       "      <td>0.0</td>\n",
       "      <td>0.0</td>\n",
       "      <td>1.229804</td>\n",
       "      <td>0.925018</td>\n",
       "      <td>117.0</td>\n",
       "      <td>0.963845</td>\n",
       "      <td>0.0</td>\n",
       "      <td>1.0</td>\n",
       "      <td>0.0</td>\n",
       "      <td>0.0</td>\n",
       "    </tr>\n",
       "    <tr>\n",
       "      <th>3</th>\n",
       "      <td>4</td>\n",
       "      <td>0</td>\n",
       "      <td>1.0</td>\n",
       "      <td>1900.0</td>\n",
       "      <td></td>\n",
       "      <td>0.0</td>\n",
       "      <td>0.0</td>\n",
       "      <td>1.0</td>\n",
       "      <td>0.0</td>\n",
       "      <td>0.0</td>\n",
       "      <td>0.0</td>\n",
       "      <td>1.0</td>\n",
       "      <td>-0.783436</td>\n",
       "      <td>0.948810</td>\n",
       "      <td>-5668.0</td>\n",
       "      <td>0.000000</td>\n",
       "      <td>1.0</td>\n",
       "      <td>0.0</td>\n",
       "      <td>0.0</td>\n",
       "      <td>0.0</td>\n",
       "    </tr>\n",
       "    <tr>\n",
       "      <th>4</th>\n",
       "      <td>5</td>\n",
       "      <td>0</td>\n",
       "      <td>1.0</td>\n",
       "      <td>1900.0</td>\n",
       "      <td></td>\n",
       "      <td>1.0</td>\n",
       "      <td>0.0</td>\n",
       "      <td>0.0</td>\n",
       "      <td>0.0</td>\n",
       "      <td>1.0</td>\n",
       "      <td>0.0</td>\n",
       "      <td>0.0</td>\n",
       "      <td>1.712706</td>\n",
       "      <td>0.997116</td>\n",
       "      <td>-5668.0</td>\n",
       "      <td>0.000000</td>\n",
       "      <td>1.0</td>\n",
       "      <td>0.0</td>\n",
       "      <td>0.0</td>\n",
       "      <td>0.0</td>\n",
       "    </tr>\n",
       "  </tbody>\n",
       "</table>\n",
       "</div>"
      ],
      "text/plain": [
       "   Store  Promo2  Promo2SinceWeek  Promo2SinceYear    PromoInterval  \\\n",
       "0      1       0              1.0           1900.0                    \n",
       "1      2       1             13.0           2010.0  Jan,Apr,Jul,Oct   \n",
       "2      3       1             14.0           2011.0  Jan,Apr,Jul,Oct   \n",
       "3      4       0              1.0           1900.0                    \n",
       "4      5       0              1.0           1900.0                    \n",
       "\n",
       "   StoreType_a  StoreType_b  StoreType_c  StoreType_d  Assortment_a  \\\n",
       "0          0.0          0.0          1.0          0.0           1.0   \n",
       "1          1.0          0.0          0.0          0.0           1.0   \n",
       "2          1.0          0.0          0.0          0.0           1.0   \n",
       "3          0.0          0.0          1.0          0.0           0.0   \n",
       "4          1.0          0.0          0.0          0.0           1.0   \n",
       "\n",
       "   Assortment_b  Assortment_c  EncodedDistance  \\\n",
       "0           0.0           0.0        -0.321681   \n",
       "1           0.0           0.0        -0.837582   \n",
       "2           0.0           0.0         1.229804   \n",
       "3           0.0           1.0        -0.783436   \n",
       "4           0.0           0.0         1.712706   \n",
       "\n",
       "   EncodedCompetitionMonthsFromStart  Promo2WeeksFromStart  \\\n",
       "0                           0.940159               -5668.0   \n",
       "1                           0.932949                  64.0   \n",
       "2                           0.925018                 117.0   \n",
       "3                           0.948810               -5668.0   \n",
       "4                           0.997116               -5668.0   \n",
       "\n",
       "   EncodedPromo2WeeksFromStart  PromoInterval_  PromoInterval_Jan,Apr,Jul,Oct  \\\n",
       "0                     0.000000             1.0                            0.0   \n",
       "1                     0.955015             0.0                            1.0   \n",
       "2                     0.963845             0.0                            1.0   \n",
       "3                     0.000000             1.0                            0.0   \n",
       "4                     0.000000             1.0                            0.0   \n",
       "\n",
       "   PromoInterval_Feb,May,Aug,Nov  PromoInterval_Mar,Jun,Sept,Dec  \n",
       "0                            0.0                             0.0  \n",
       "1                            0.0                             0.0  \n",
       "2                            0.0                             0.0  \n",
       "3                            0.0                             0.0  \n",
       "4                            0.0                             0.0  "
      ]
     },
     "execution_count": 83,
     "metadata": {},
     "output_type": "execute_result"
    }
   ],
   "source": [
    "promo_interval_cats = store.PromoInterval.unique()\n",
    "encoder = OneHotEncoder(categories=[promo_interval_cats])\n",
    "encoded_promo_interval_cats = [f'PromoInterval_{cat}' for cat in promo_interval_cats]\n",
    "store[encoded_promo_interval_cats] = encoder.fit_transform(store[['PromoInterval']]).toarray()\n",
    "store.head()"
   ]
  },
  {
   "cell_type": "code",
   "execution_count": 84,
   "id": "competitive-alliance",
   "metadata": {
    "ExecuteTime": {
     "end_time": "2021-12-03T15:05:35.622625Z",
     "start_time": "2021-12-03T15:05:35.526640Z"
    }
   },
   "outputs": [
    {
     "data": {
      "text/html": [
       "<div>\n",
       "<style scoped>\n",
       "    .dataframe tbody tr th:only-of-type {\n",
       "        vertical-align: middle;\n",
       "    }\n",
       "\n",
       "    .dataframe tbody tr th {\n",
       "        vertical-align: top;\n",
       "    }\n",
       "\n",
       "    .dataframe thead th {\n",
       "        text-align: right;\n",
       "    }\n",
       "</style>\n",
       "<table border=\"1\" class=\"dataframe\">\n",
       "  <thead>\n",
       "    <tr style=\"text-align: right;\">\n",
       "      <th></th>\n",
       "      <th>Store</th>\n",
       "      <th>Promo2</th>\n",
       "      <th>StoreType_a</th>\n",
       "      <th>StoreType_b</th>\n",
       "      <th>StoreType_c</th>\n",
       "      <th>StoreType_d</th>\n",
       "      <th>Assortment_a</th>\n",
       "      <th>Assortment_b</th>\n",
       "      <th>Assortment_c</th>\n",
       "      <th>EncodedDistance</th>\n",
       "      <th>EncodedCompetitionMonthsFromStart</th>\n",
       "      <th>EncodedPromo2WeeksFromStart</th>\n",
       "      <th>PromoInterval_</th>\n",
       "      <th>PromoInterval_Jan,Apr,Jul,Oct</th>\n",
       "      <th>PromoInterval_Feb,May,Aug,Nov</th>\n",
       "      <th>PromoInterval_Mar,Jun,Sept,Dec</th>\n",
       "    </tr>\n",
       "  </thead>\n",
       "  <tbody>\n",
       "    <tr>\n",
       "      <th>0</th>\n",
       "      <td>1</td>\n",
       "      <td>0</td>\n",
       "      <td>0.0</td>\n",
       "      <td>0.0</td>\n",
       "      <td>1.0</td>\n",
       "      <td>0.0</td>\n",
       "      <td>1.0</td>\n",
       "      <td>0.0</td>\n",
       "      <td>0.0</td>\n",
       "      <td>-0.321681</td>\n",
       "      <td>0.940159</td>\n",
       "      <td>0.000000</td>\n",
       "      <td>1.0</td>\n",
       "      <td>0.0</td>\n",
       "      <td>0.0</td>\n",
       "      <td>0.0</td>\n",
       "    </tr>\n",
       "    <tr>\n",
       "      <th>1</th>\n",
       "      <td>2</td>\n",
       "      <td>1</td>\n",
       "      <td>1.0</td>\n",
       "      <td>0.0</td>\n",
       "      <td>0.0</td>\n",
       "      <td>0.0</td>\n",
       "      <td>1.0</td>\n",
       "      <td>0.0</td>\n",
       "      <td>0.0</td>\n",
       "      <td>-0.837582</td>\n",
       "      <td>0.932949</td>\n",
       "      <td>0.955015</td>\n",
       "      <td>0.0</td>\n",
       "      <td>1.0</td>\n",
       "      <td>0.0</td>\n",
       "      <td>0.0</td>\n",
       "    </tr>\n",
       "    <tr>\n",
       "      <th>2</th>\n",
       "      <td>3</td>\n",
       "      <td>1</td>\n",
       "      <td>1.0</td>\n",
       "      <td>0.0</td>\n",
       "      <td>0.0</td>\n",
       "      <td>0.0</td>\n",
       "      <td>1.0</td>\n",
       "      <td>0.0</td>\n",
       "      <td>0.0</td>\n",
       "      <td>1.229804</td>\n",
       "      <td>0.925018</td>\n",
       "      <td>0.963845</td>\n",
       "      <td>0.0</td>\n",
       "      <td>1.0</td>\n",
       "      <td>0.0</td>\n",
       "      <td>0.0</td>\n",
       "    </tr>\n",
       "    <tr>\n",
       "      <th>3</th>\n",
       "      <td>4</td>\n",
       "      <td>0</td>\n",
       "      <td>0.0</td>\n",
       "      <td>0.0</td>\n",
       "      <td>1.0</td>\n",
       "      <td>0.0</td>\n",
       "      <td>0.0</td>\n",
       "      <td>0.0</td>\n",
       "      <td>1.0</td>\n",
       "      <td>-0.783436</td>\n",
       "      <td>0.948810</td>\n",
       "      <td>0.000000</td>\n",
       "      <td>1.0</td>\n",
       "      <td>0.0</td>\n",
       "      <td>0.0</td>\n",
       "      <td>0.0</td>\n",
       "    </tr>\n",
       "    <tr>\n",
       "      <th>4</th>\n",
       "      <td>5</td>\n",
       "      <td>0</td>\n",
       "      <td>1.0</td>\n",
       "      <td>0.0</td>\n",
       "      <td>0.0</td>\n",
       "      <td>0.0</td>\n",
       "      <td>1.0</td>\n",
       "      <td>0.0</td>\n",
       "      <td>0.0</td>\n",
       "      <td>1.712706</td>\n",
       "      <td>0.997116</td>\n",
       "      <td>0.000000</td>\n",
       "      <td>1.0</td>\n",
       "      <td>0.0</td>\n",
       "      <td>0.0</td>\n",
       "      <td>0.0</td>\n",
       "    </tr>\n",
       "  </tbody>\n",
       "</table>\n",
       "</div>"
      ],
      "text/plain": [
       "   Store  Promo2  StoreType_a  StoreType_b  StoreType_c  StoreType_d  \\\n",
       "0      1       0          0.0          0.0          1.0          0.0   \n",
       "1      2       1          1.0          0.0          0.0          0.0   \n",
       "2      3       1          1.0          0.0          0.0          0.0   \n",
       "3      4       0          0.0          0.0          1.0          0.0   \n",
       "4      5       0          1.0          0.0          0.0          0.0   \n",
       "\n",
       "   Assortment_a  Assortment_b  Assortment_c  EncodedDistance  \\\n",
       "0           1.0           0.0           0.0        -0.321681   \n",
       "1           1.0           0.0           0.0        -0.837582   \n",
       "2           1.0           0.0           0.0         1.229804   \n",
       "3           0.0           0.0           1.0        -0.783436   \n",
       "4           1.0           0.0           0.0         1.712706   \n",
       "\n",
       "   EncodedCompetitionMonthsFromStart  EncodedPromo2WeeksFromStart  \\\n",
       "0                           0.940159                     0.000000   \n",
       "1                           0.932949                     0.955015   \n",
       "2                           0.925018                     0.963845   \n",
       "3                           0.948810                     0.000000   \n",
       "4                           0.997116                     0.000000   \n",
       "\n",
       "   PromoInterval_  PromoInterval_Jan,Apr,Jul,Oct  \\\n",
       "0             1.0                            0.0   \n",
       "1             0.0                            1.0   \n",
       "2             0.0                            1.0   \n",
       "3             1.0                            0.0   \n",
       "4             1.0                            0.0   \n",
       "\n",
       "   PromoInterval_Feb,May,Aug,Nov  PromoInterval_Mar,Jun,Sept,Dec  \n",
       "0                            0.0                             0.0  \n",
       "1                            0.0                             0.0  \n",
       "2                            0.0                             0.0  \n",
       "3                            0.0                             0.0  \n",
       "4                            0.0                             0.0  "
      ]
     },
     "execution_count": 84,
     "metadata": {},
     "output_type": "execute_result"
    }
   ],
   "source": [
    "store.drop(columns=['Promo2SinceWeek', 'Promo2SinceYear', 'Promo2WeeksFromStart', 'PromoInterval'], inplace=True)\n",
    "store.head()"
   ]
  },
  {
   "cell_type": "code",
   "execution_count": 85,
   "id": "static-argument",
   "metadata": {
    "ExecuteTime": {
     "end_time": "2021-12-03T15:05:35.670617Z",
     "start_time": "2021-12-03T15:05:35.622625Z"
    }
   },
   "outputs": [
    {
     "name": "stdout",
     "output_type": "stream",
     "text": [
      "<class 'pandas.core.frame.DataFrame'>\n",
      "RangeIndex: 1115 entries, 0 to 1114\n",
      "Data columns (total 16 columns):\n",
      " #   Column                             Non-Null Count  Dtype  \n",
      "---  ------                             --------------  -----  \n",
      " 0   Store                              1115 non-null   int64  \n",
      " 1   Promo2                             1115 non-null   int64  \n",
      " 2   StoreType_a                        1115 non-null   float64\n",
      " 3   StoreType_b                        1115 non-null   float64\n",
      " 4   StoreType_c                        1115 non-null   float64\n",
      " 5   StoreType_d                        1115 non-null   float64\n",
      " 6   Assortment_a                       1115 non-null   float64\n",
      " 7   Assortment_b                       1115 non-null   float64\n",
      " 8   Assortment_c                       1115 non-null   float64\n",
      " 9   EncodedDistance                    1115 non-null   float64\n",
      " 10  EncodedCompetitionMonthsFromStart  1115 non-null   float64\n",
      " 11  EncodedPromo2WeeksFromStart        1115 non-null   float64\n",
      " 12  PromoInterval_                     1115 non-null   float64\n",
      " 13  PromoInterval_Jan,Apr,Jul,Oct      1115 non-null   float64\n",
      " 14  PromoInterval_Feb,May,Aug,Nov      1115 non-null   float64\n",
      " 15  PromoInterval_Mar,Jun,Sept,Dec     1115 non-null   float64\n",
      "dtypes: float64(14), int64(2)\n",
      "memory usage: 139.5 KB\n"
     ]
    }
   ],
   "source": [
    "store.info()"
   ]
  },
  {
   "cell_type": "code",
   "execution_count": 86,
   "id": "brown-planner",
   "metadata": {
    "ExecuteTime": {
     "end_time": "2021-12-03T15:05:35.763121Z",
     "start_time": "2021-12-03T15:05:35.678621Z"
    }
   },
   "outputs": [],
   "source": [
    "store.to_csv('data/store_transformed.csv', index=False)"
   ]
  },
  {
   "cell_type": "markdown",
   "id": "inclusive-performer",
   "metadata": {},
   "source": [
    "## train, val and test transformation"
   ]
  },
  {
   "cell_type": "markdown",
   "id": "unlimited-transfer",
   "metadata": {},
   "source": [
    "This transformer also contains store table. As the summary customers count depends on train dataset this feature will be created only here."
   ]
  },
  {
   "cell_type": "code",
   "execution_count": 87,
   "id": "pleased-consumption",
   "metadata": {
    "ExecuteTime": {
     "end_time": "2021-12-03T15:05:35.811115Z",
     "start_time": "2021-12-03T15:05:35.763121Z"
    }
   },
   "outputs": [],
   "source": [
    "class MyTransformer(BaseEstimator, TransformerMixin):\n",
    "    def __init__(self, store):\n",
    "        self.store = store.copy()\n",
    "        \n",
    "    def fit(self, X, y):\n",
    "        self.store = self.store.merge(np.log10(X.groupby('Store').Customers.sum() - 1.2e5), on='Store')\n",
    "        \n",
    "        std_scaler = StandardScaler()\n",
    "        self.store['Encoded_Customers'] = std_scaler.fit_transform(self.store[['Customers']])\n",
    "        self.store.drop(columns='Customers', inplace=True)\n",
    "        \n",
    "        X_copy = X[X.Open == 1].drop(columns='Open')\n",
    "        X_copy['target'] = y\n",
    "        std_scaler = StandardScaler()\n",
    "        self.store = self.store.merge(X_copy.groupby('Store').target.mean(), on='Store').rename(columns={'target': 'sum_target'})\n",
    "        self.store['Encoded_sum_target'] = std_scaler.fit_transform(self.store[['sum_target']])\n",
    "        self.store.drop(columns='sum_target', inplace=True)\n",
    "        \n",
    "        return self\n",
    "    \n",
    "    def transform(self, X, y=None):\n",
    "        # choose only necessary for modelling features\n",
    "        X_transformed = X.copy()[\n",
    "            ['Store', 'DayOfWeek', 'Date', 'Open', 'Promo', 'StateHoliday', 'SchoolHoliday']\n",
    "        ]\n",
    "        \n",
    "        if not(y is None):\n",
    "            X_transformed['target'] = y\n",
    "        \n",
    "        # drop rows where Open = 0 as for them the target equals 0\n",
    "        X_transformed = X_transformed[X_transformed.Open == 1]\n",
    "        X_transformed.drop(columns='Open', inplace=True)\n",
    "        \n",
    "        # it is used to form features\n",
    "        dates = X_transformed.Date.apply(lambda date: datetime.datetime.strptime(date, '%Y-%m-%d'))\n",
    "        \n",
    "        # create the features that equal the number of days, weeks and years respectively\n",
    "        # since the start of history\n",
    "        X_transformed['ordered_day'] = (dates - datetime.datetime(2013, 1, 1)).apply(attrgetter('days'))\n",
    "        X_transformed['ordered_week'] = X_transformed['ordered_day'] // 7\n",
    "        X_transformed['ordered_month'] = dates.apply(lambda date: date.month + 12 * (date.year - 2013) - 1)\n",
    "        X_transformed.drop(columns='Date', inplace=True)\n",
    "\n",
    "        # encode change the values 'b' and 'c' of StateHoliday feature to 'a' and then encode\n",
    "        # it with the rule '0' -> 0, 'a' -> 1 (label encoder)\n",
    "        X_transformed.StateHoliday = X_transformed.StateHoliday.replace(\n",
    "                                                    to_replace=['0', 'a', 'b', 'c'], value=[0, 1, 1, 1])\n",
    "\n",
    "        # merging with the store table\n",
    "        # I decided to leave the Store feature to research the time series of some stores\n",
    "        X_transformed = X_transformed.merge(self.store, on='Store')\n",
    "        if y is None:\n",
    "            return X_transformed\n",
    "        return X_transformed.drop(columns='target'), X_transformed.target"
   ]
  },
  {
   "cell_type": "code",
   "execution_count": 88,
   "id": "pediatric-london",
   "metadata": {
    "ExecuteTime": {
     "end_time": "2021-12-03T15:05:35.843110Z",
     "start_time": "2021-12-03T15:05:35.819115Z"
    }
   },
   "outputs": [],
   "source": [
    "tr = MyTransformer(store)"
   ]
  },
  {
   "cell_type": "markdown",
   "id": "valued-sunday",
   "metadata": {},
   "source": [
    "Transform the train table."
   ]
  },
  {
   "cell_type": "code",
   "execution_count": 89,
   "id": "driving-party",
   "metadata": {
    "ExecuteTime": {
     "end_time": "2021-12-03T15:05:36.850119Z",
     "start_time": "2021-12-03T15:05:35.847678Z"
    }
   },
   "outputs": [],
   "source": [
    "tr = tr.fit(train.drop(columns='Sales'), train.Sales)"
   ]
  },
  {
   "cell_type": "code",
   "execution_count": 90,
   "id": "broken-rebound",
   "metadata": {
    "ExecuteTime": {
     "end_time": "2021-12-03T15:07:10.082178Z",
     "start_time": "2021-12-03T15:05:36.858119Z"
    },
    "scrolled": true
   },
   "outputs": [],
   "source": [
    "X_train, y_train = tr.transform(train.drop(columns='Sales'), train.Sales)"
   ]
  },
  {
   "cell_type": "code",
   "execution_count": 91,
   "id": "atmospheric-messenger",
   "metadata": {
    "ExecuteTime": {
     "end_time": "2021-12-03T15:09:04.744670Z",
     "start_time": "2021-12-03T15:07:10.084256Z"
    }
   },
   "outputs": [],
   "source": [
    "X_train.to_pickle('data/X_train.pickle', compression='bz2')\n",
    "X_train.to_csv('data/X_train.csv', index=False)\n",
    "y_train.to_csv('data/y_train.csv', index=False)"
   ]
  },
  {
   "cell_type": "markdown",
   "id": "confident-fruit",
   "metadata": {},
   "source": [
    "Transform the val table."
   ]
  },
  {
   "cell_type": "code",
   "execution_count": 92,
   "id": "billion-picture",
   "metadata": {
    "ExecuteTime": {
     "end_time": "2021-12-03T15:09:10.228445Z",
     "start_time": "2021-12-03T15:09:04.774426Z"
    }
   },
   "outputs": [],
   "source": [
    "X_val, y_val = tr.transform(val.drop(columns='Sales'), val.Sales)"
   ]
  },
  {
   "cell_type": "code",
   "execution_count": 93,
   "id": "absent-moscow",
   "metadata": {
    "ExecuteTime": {
     "end_time": "2021-12-03T15:09:17.196729Z",
     "start_time": "2021-12-03T15:09:10.228445Z"
    }
   },
   "outputs": [],
   "source": [
    "X_val.to_pickle('data/X_val.pickle', compression='bz2')\n",
    "X_val.to_csv('data/X_val.csv', index=False)\n",
    "y_val.to_csv('data/y_val.csv', index=False)"
   ]
  },
  {
   "cell_type": "markdown",
   "id": "deadly-hours",
   "metadata": {},
   "source": [
    "Transform the test table."
   ]
  },
  {
   "cell_type": "code",
   "execution_count": 94,
   "id": "veterinary-collection",
   "metadata": {
    "ExecuteTime": {
     "end_time": "2021-12-03T15:09:21.291366Z",
     "start_time": "2021-12-03T15:09:17.196729Z"
    }
   },
   "outputs": [],
   "source": [
    "X_test = tr.transform(test)"
   ]
  },
  {
   "cell_type": "code",
   "execution_count": 95,
   "id": "vital-kinase",
   "metadata": {
    "ExecuteTime": {
     "end_time": "2021-12-03T15:09:26.503769Z",
     "start_time": "2021-12-03T15:09:21.293454Z"
    }
   },
   "outputs": [],
   "source": [
    "X_test.to_pickle('data/X_test.pickle', compression='bz2')\n",
    "X_test.to_csv('data/X_test.csv', index=False)"
   ]
  },
  {
   "cell_type": "markdown",
   "id": "economic-sunday",
   "metadata": {},
   "source": [
    "The further researching is in \"EDA 2\" notebook"
   ]
  }
 ],
 "metadata": {
  "kernelspec": {
   "display_name": "Python 3",
   "language": "python",
   "name": "python3"
  },
  "language_info": {
   "codemirror_mode": {
    "name": "ipython",
    "version": 3
   },
   "file_extension": ".py",
   "mimetype": "text/x-python",
   "name": "python",
   "nbconvert_exporter": "python",
   "pygments_lexer": "ipython3",
   "version": "3.9.0"
  },
  "toc": {
   "base_numbering": 1,
   "nav_menu": {
    "height": "465px",
    "width": "289px"
   },
   "number_sections": true,
   "sideBar": true,
   "skip_h1_title": false,
   "title_cell": "Table of Contents",
   "title_sidebar": "Contents",
   "toc_cell": false,
   "toc_position": {
    "height": "477px",
    "left": "44px",
    "top": "201.125px",
    "width": "292.188px"
   },
   "toc_section_display": true,
   "toc_window_display": false
  }
 },
 "nbformat": 4,
 "nbformat_minor": 5
}
