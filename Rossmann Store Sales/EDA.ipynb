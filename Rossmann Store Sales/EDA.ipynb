{
 "cells": [
  {
   "cell_type": "code",
   "execution_count": 8,
   "id": "optical-international",
   "metadata": {
    "ExecuteTime": {
     "end_time": "2021-11-22T07:09:54.262226Z",
     "start_time": "2021-11-22T07:09:54.237266Z"
    }
   },
   "outputs": [],
   "source": [
    "import datetime\n",
    "import matplotlib.pyplot as plt\n",
    "import numpy as np\n",
    "import pandas as pd\n",
    "import warnings\n",
    "\n",
    "warnings.filterwarnings(\"ignore\")"
   ]
  },
  {
   "cell_type": "code",
   "execution_count": 9,
   "id": "commercial-ordinance",
   "metadata": {
    "ExecuteTime": {
     "end_time": "2021-11-22T07:09:56.484062Z",
     "start_time": "2021-11-22T07:09:54.551474Z"
    }
   },
   "outputs": [
    {
     "name": "stderr",
     "output_type": "stream",
     "text": [
      "c:\\users\\user\\appdata\\local\\programs\\python\\python39\\lib\\site-packages\\IPython\\core\\interactiveshell.py:3155: DtypeWarning: Columns (7) have mixed types.Specify dtype option on import or set low_memory=False.\n",
      "  has_raised = await self.run_ast_nodes(code_ast.body, cell_name,\n"
     ]
    }
   ],
   "source": [
    "train = pd.read_csv('data/train.csv')\n",
    "store = pd.read_csv('data/store.csv')\n",
    "test = pd.read_csv('data/test.csv')"
   ]
  },
  {
   "cell_type": "markdown",
   "id": "square-greek",
   "metadata": {},
   "source": [
    "# Some plot functions"
   ]
  },
  {
   "cell_type": "code",
   "execution_count": 405,
   "id": "chronic-porter",
   "metadata": {
    "ExecuteTime": {
     "end_time": "2021-11-22T14:09:57.321064Z",
     "start_time": "2021-11-22T14:09:57.297065Z"
    }
   },
   "outputs": [],
   "source": [
    "def remove_axes():\n",
    "    plt.gca().spines['right'].set_visible(False)\n",
    "    plt.gca().spines['left'].set_visible(False)\n",
    "    plt.gca().spines['top'].set_visible(False)\n",
    "    plt.gca().spines['bottom'].set_visible(False)"
   ]
  },
  {
   "cell_type": "code",
   "execution_count": 485,
   "id": "ambient-firmware",
   "metadata": {
    "ExecuteTime": {
     "end_time": "2021-11-22T18:17:27.334394Z",
     "start_time": "2021-11-22T18:17:27.291458Z"
    }
   },
   "outputs": [],
   "source": [
    "def barh(df, col, title=None, show_count=True):\n",
    "    ser = df[col].value_counts().sort_index(ascending=False)\n",
    "    plt.figure(figsize=(10, 0.6 * len(ser)))\n",
    "    try:\n",
    "        labels = ser.index.astype('int')\n",
    "        if (ser.index != labels).any():\n",
    "            labels = ser.index\n",
    "    except:\n",
    "        labels = ser.index\n",
    "    plt.barh(labels, width=ser.values, tick_label=labels)\n",
    "    if show_count:\n",
    "        for label in labels:\n",
    "            if ser[label] < max(ser) / 30:\n",
    "                plt.text(max(ser) / 30, label, ser[label], color='black', fontsize='large', ha='left', va='center')\n",
    "            else:\n",
    "                plt.text(ser[label] / 2, label, ser[label], color='white', fontsize='large', ha='center', va='center')\n",
    "\n",
    "    plt.title(f'{col} histogram' if title is None else title)\n",
    "    plt.yticks(labels, labels)\n",
    "    if show_count:\n",
    "        plt.xticks([])\n",
    "    remove_axes()\n",
    "    plt.show()"
   ]
  },
  {
   "cell_type": "code",
   "execution_count": 423,
   "id": "referenced-cameroon",
   "metadata": {
    "ExecuteTime": {
     "end_time": "2021-11-22T14:15:26.131811Z",
     "start_time": "2021-11-22T14:15:26.107868Z"
    }
   },
   "outputs": [],
   "source": [
    "def bar_series(ser, col_name, title, show_count=True, figsize=(10, 6), rotation=0):\n",
    "    plt.figure(figsize=figsize)\n",
    "    try:\n",
    "        labels = ser.index.astype('int')\n",
    "        if (ser.index != labels).any():\n",
    "            labels = ser.index\n",
    "    except:\n",
    "        labels = ser.index\n",
    "    plt.bar(labels, height=ser.values)\n",
    "    plt.xticks(ticks=labels, labels=labels, rotation=rotation)\n",
    "    if show_count:\n",
    "        for label in labels:\n",
    "            if ser[label] < max(ser) / 30:\n",
    "                plt.text(label, max(ser) / 30, ser[label], color='black', fontsize='large', ha='center', va='bottom')\n",
    "            else:\n",
    "                plt.text(label, ser[label] / 2, ser[label], color='white', fontsize='large', ha='center', va='center')\n",
    "\n",
    "#     if show_count:\n",
    "#         plt.y_ticks([])\n",
    "    plt.title(title)\n",
    "#     remove_axes()\n",
    "    plt.show()"
   ]
  },
  {
   "cell_type": "code",
   "execution_count": 419,
   "id": "thirty-secretariat",
   "metadata": {
    "ExecuteTime": {
     "end_time": "2021-11-22T14:14:05.065517Z",
     "start_time": "2021-11-22T14:14:05.049522Z"
    }
   },
   "outputs": [],
   "source": [
    "def bar(df, col_name, show_count=True, figsize=(10, 6), rotation=0):\n",
    "    bar_series(df[col_name].value_counts().sort_index(),\n",
    "               col_name,\n",
    "               f'{col_name} histogram',\n",
    "               show_count,\n",
    "               figsize,\n",
    "               rotation)"
   ]
  },
  {
   "cell_type": "code",
   "execution_count": 291,
   "id": "dominican-newfoundland",
   "metadata": {
    "ExecuteTime": {
     "end_time": "2021-11-22T12:19:41.034005Z",
     "start_time": "2021-11-22T12:19:41.010053Z"
    }
   },
   "outputs": [],
   "source": [
    "def hist(df, col, bins=60, figsize=(10, 6)):\n",
    "    plt.figure(figsize=figsize)\n",
    "    plt.hist(df[col], bins=bins)\n",
    "    plt.xlabel(col)\n",
    "    plt.ylabel('count')\n",
    "    plt.title(f'{col} histogram')\n",
    "    plt.show()"
   ]
  },
  {
   "cell_type": "code",
   "execution_count": 292,
   "id": "specialized-mexican",
   "metadata": {
    "ExecuteTime": {
     "end_time": "2021-11-22T12:19:41.353945Z",
     "start_time": "2021-11-22T12:19:41.337948Z"
    }
   },
   "outputs": [],
   "source": [
    "def hist_series(ser, ser_name, bins=60, figsize=(10, 6)):\n",
    "    plt.figure(figsize=figsize)\n",
    "    plt.hist(ser, bins=bins)\n",
    "    plt.xlabel(ser_name)\n",
    "    plt.ylabel('count')\n",
    "    plt.title(f'{ser_name} histogram')\n",
    "    plt.show()"
   ]
  },
  {
   "cell_type": "markdown",
   "id": "racial-classic",
   "metadata": {},
   "source": [
    "# store"
   ]
  },
  {
   "cell_type": "code",
   "execution_count": 21,
   "id": "magnetic-cornwall",
   "metadata": {
    "ExecuteTime": {
     "end_time": "2021-11-17T06:15:05.976395Z",
     "start_time": "2021-11-17T06:15:05.894518Z"
    }
   },
   "outputs": [
    {
     "name": "stdout",
     "output_type": "stream",
     "text": [
      "<class 'pandas.core.frame.DataFrame'>\n",
      "RangeIndex: 1115 entries, 0 to 1114\n",
      "Data columns (total 10 columns):\n",
      " #   Column                     Non-Null Count  Dtype  \n",
      "---  ------                     --------------  -----  \n",
      " 0   Store                      1115 non-null   int64  \n",
      " 1   StoreType                  1115 non-null   object \n",
      " 2   Assortment                 1115 non-null   object \n",
      " 3   CompetitionDistance        1112 non-null   float64\n",
      " 4   CompetitionOpenSinceMonth  761 non-null    float64\n",
      " 5   CompetitionOpenSinceYear   761 non-null    float64\n",
      " 6   Promo2                     1115 non-null   int64  \n",
      " 7   Promo2SinceWeek            571 non-null    float64\n",
      " 8   Promo2SinceYear            571 non-null    float64\n",
      " 9   PromoInterval              571 non-null    object \n",
      "dtypes: float64(5), int64(2), object(3)\n",
      "memory usage: 87.2+ KB\n"
     ]
    },
    {
     "data": {
      "text/html": [
       "<div>\n",
       "<style scoped>\n",
       "    .dataframe tbody tr th:only-of-type {\n",
       "        vertical-align: middle;\n",
       "    }\n",
       "\n",
       "    .dataframe tbody tr th {\n",
       "        vertical-align: top;\n",
       "    }\n",
       "\n",
       "    .dataframe thead th {\n",
       "        text-align: right;\n",
       "    }\n",
       "</style>\n",
       "<table border=\"1\" class=\"dataframe\">\n",
       "  <thead>\n",
       "    <tr style=\"text-align: right;\">\n",
       "      <th></th>\n",
       "      <th>Store</th>\n",
       "      <th>StoreType</th>\n",
       "      <th>Assortment</th>\n",
       "      <th>CompetitionDistance</th>\n",
       "      <th>CompetitionOpenSinceMonth</th>\n",
       "      <th>CompetitionOpenSinceYear</th>\n",
       "      <th>Promo2</th>\n",
       "      <th>Promo2SinceWeek</th>\n",
       "      <th>Promo2SinceYear</th>\n",
       "      <th>PromoInterval</th>\n",
       "    </tr>\n",
       "  </thead>\n",
       "  <tbody>\n",
       "    <tr>\n",
       "      <th>0</th>\n",
       "      <td>1</td>\n",
       "      <td>c</td>\n",
       "      <td>a</td>\n",
       "      <td>1270.0</td>\n",
       "      <td>9.0</td>\n",
       "      <td>2008.0</td>\n",
       "      <td>0</td>\n",
       "      <td>NaN</td>\n",
       "      <td>NaN</td>\n",
       "      <td>NaN</td>\n",
       "    </tr>\n",
       "    <tr>\n",
       "      <th>1</th>\n",
       "      <td>2</td>\n",
       "      <td>a</td>\n",
       "      <td>a</td>\n",
       "      <td>570.0</td>\n",
       "      <td>11.0</td>\n",
       "      <td>2007.0</td>\n",
       "      <td>1</td>\n",
       "      <td>13.0</td>\n",
       "      <td>2010.0</td>\n",
       "      <td>Jan,Apr,Jul,Oct</td>\n",
       "    </tr>\n",
       "    <tr>\n",
       "      <th>2</th>\n",
       "      <td>3</td>\n",
       "      <td>a</td>\n",
       "      <td>a</td>\n",
       "      <td>14130.0</td>\n",
       "      <td>12.0</td>\n",
       "      <td>2006.0</td>\n",
       "      <td>1</td>\n",
       "      <td>14.0</td>\n",
       "      <td>2011.0</td>\n",
       "      <td>Jan,Apr,Jul,Oct</td>\n",
       "    </tr>\n",
       "    <tr>\n",
       "      <th>3</th>\n",
       "      <td>4</td>\n",
       "      <td>c</td>\n",
       "      <td>c</td>\n",
       "      <td>620.0</td>\n",
       "      <td>9.0</td>\n",
       "      <td>2009.0</td>\n",
       "      <td>0</td>\n",
       "      <td>NaN</td>\n",
       "      <td>NaN</td>\n",
       "      <td>NaN</td>\n",
       "    </tr>\n",
       "    <tr>\n",
       "      <th>4</th>\n",
       "      <td>5</td>\n",
       "      <td>a</td>\n",
       "      <td>a</td>\n",
       "      <td>29910.0</td>\n",
       "      <td>4.0</td>\n",
       "      <td>2015.0</td>\n",
       "      <td>0</td>\n",
       "      <td>NaN</td>\n",
       "      <td>NaN</td>\n",
       "      <td>NaN</td>\n",
       "    </tr>\n",
       "  </tbody>\n",
       "</table>\n",
       "</div>"
      ],
      "text/plain": [
       "   Store StoreType Assortment  CompetitionDistance  CompetitionOpenSinceMonth  \\\n",
       "0      1         c          a               1270.0                        9.0   \n",
       "1      2         a          a                570.0                       11.0   \n",
       "2      3         a          a              14130.0                       12.0   \n",
       "3      4         c          c                620.0                        9.0   \n",
       "4      5         a          a              29910.0                        4.0   \n",
       "\n",
       "   CompetitionOpenSinceYear  Promo2  Promo2SinceWeek  Promo2SinceYear  \\\n",
       "0                    2008.0       0              NaN              NaN   \n",
       "1                    2007.0       1             13.0           2010.0   \n",
       "2                    2006.0       1             14.0           2011.0   \n",
       "3                    2009.0       0              NaN              NaN   \n",
       "4                    2015.0       0              NaN              NaN   \n",
       "\n",
       "     PromoInterval  \n",
       "0              NaN  \n",
       "1  Jan,Apr,Jul,Oct  \n",
       "2  Jan,Apr,Jul,Oct  \n",
       "3              NaN  \n",
       "4              NaN  "
      ]
     },
     "execution_count": 21,
     "metadata": {},
     "output_type": "execute_result"
    }
   ],
   "source": [
    "store.info()\n",
    "store.head()"
   ]
  },
  {
   "cell_type": "markdown",
   "id": "interesting-reviewer",
   "metadata": {},
   "source": [
    "The table contains 10 columns. It contains missing values."
   ]
  },
  {
   "cell_type": "markdown",
   "id": "cellular-brazilian",
   "metadata": {},
   "source": [
    "The plot of missing values count:"
   ]
  },
  {
   "cell_type": "code",
   "execution_count": 277,
   "id": "separated-shepherd",
   "metadata": {
    "ExecuteTime": {
     "end_time": "2021-11-22T12:11:05.734282Z",
     "start_time": "2021-11-22T12:11:05.022329Z"
    },
    "scrolled": false
   },
   "outputs": [
    {
     "data": {
      "image/png": "[encoded data removed]",
      "text/plain": [
       "<Figure size 720x432 with 1 Axes>"
      ]
     },
     "metadata": {
      "needs_background": "light"
     },
     "output_type": "display_data"
    }
   ],
   "source": [
    "bar_series(title='missing values', ser=na_counts, col_name='feature', rotation=80)"
   ]
  },
  {
   "cell_type": "markdown",
   "id": "jewish-window",
   "metadata": {},
   "source": [
    "## Store"
   ]
  },
  {
   "cell_type": "markdown",
   "id": "sitting-little",
   "metadata": {},
   "source": [
    "The identifier of store. Ranges from 1 to 1115."
   ]
  },
  {
   "cell_type": "code",
   "execution_count": 12,
   "id": "intellectual-sentence",
   "metadata": {
    "ExecuteTime": {
     "end_time": "2021-11-22T07:14:46.341989Z",
     "start_time": "2021-11-22T07:14:46.318026Z"
    }
   },
   "outputs": [
    {
     "data": {
      "text/plain": [
       "True"
      ]
     },
     "execution_count": 12,
     "metadata": {},
     "output_type": "execute_result"
    }
   ],
   "source": [
    "(pd.RangeIndex(1, 1116) == store.Store).all()"
   ]
  },
  {
   "cell_type": "markdown",
   "id": "intended-sector",
   "metadata": {},
   "source": [
    "As it is the identifier of stores it will be removed when training the models."
   ]
  },
  {
   "cell_type": "markdown",
   "id": "surface-modem",
   "metadata": {},
   "source": [
    "## StoreType"
   ]
  },
  {
   "cell_type": "markdown",
   "id": "worth-tsunami",
   "metadata": {},
   "source": [
    "The type of store. Its values are 'a', 'b', 'c' and 'd'. The histogram of values:"
   ]
  },
  {
   "cell_type": "code",
   "execution_count": 407,
   "id": "electric-throat",
   "metadata": {
    "ExecuteTime": {
     "end_time": "2021-11-22T14:10:33.148683Z",
     "start_time": "2021-11-22T14:10:32.870450Z"
    }
   },
   "outputs": [
    {
     "data": {
      "image/png": "[encoded data removed]",
      "text/plain": [
       "<Figure size 720x172.8 with 1 Axes>"
      ]
     },
     "metadata": {
      "needs_background": "light"
     },
     "output_type": "display_data"
    }
   ],
   "source": [
    "barh(store, 'StoreType')"
   ]
  },
  {
   "cell_type": "markdown",
   "id": "employed-athletics",
   "metadata": {},
   "source": [
    "This feature is categorical and its values are not numeric. So when training models it must be transformed to numeric features e.g. using one-hot encoder."
   ]
  },
  {
   "cell_type": "markdown",
   "id": "democratic-society",
   "metadata": {},
   "source": [
    "## Assortment"
   ]
  },
  {
   "cell_type": "markdown",
   "id": "occupied-baseball",
   "metadata": {},
   "source": [
    "The type of assortment provided by the store. Its values are 'a', 'b' and 'c'. The histogram of values:"
   ]
  },
  {
   "cell_type": "code",
   "execution_count": 408,
   "id": "lonely-spirit",
   "metadata": {
    "ExecuteTime": {
     "end_time": "2021-11-22T14:10:37.913461Z",
     "start_time": "2021-11-22T14:10:37.657501Z"
    }
   },
   "outputs": [
    {
     "data": {
      "image/png": "[encoded data removed]",
      "text/plain": [
       "<Figure size 720x129.6 with 1 Axes>"
      ]
     },
     "metadata": {
      "needs_background": "light"
     },
     "output_type": "display_data"
    }
   ],
   "source": [
    "barh(store, 'Assortment')"
   ]
  },
  {
   "cell_type": "markdown",
   "id": "congressional-calvin",
   "metadata": {},
   "source": [
    "This feature is also categorical and takes non-numeric values. So it must be transformed to numeric features e.g. using one-hot encoder."
   ]
  },
  {
   "cell_type": "markdown",
   "id": "industrial-measure",
   "metadata": {},
   "source": [
    "## CompetitionDistance"
   ]
  },
  {
   "cell_type": "markdown",
   "id": "administrative-cinema",
   "metadata": {},
   "source": [
    "The distance from the store to the nearest competitor store in meters. There are 3 (or 0.3%) missing values. The distribution of this feature:"
   ]
  },
  {
   "cell_type": "code",
   "execution_count": 278,
   "id": "solid-vitamin",
   "metadata": {
    "ExecuteTime": {
     "end_time": "2021-11-22T12:11:20.112076Z",
     "start_time": "2021-11-22T12:11:19.172496Z"
    }
   },
   "outputs": [
    {
     "data": {
      "image/png": "[encoded data removed]",
      "text/plain": [
       "<Figure size 720x432 with 1 Axes>"
      ]
     },
     "metadata": {
      "needs_background": "light"
     },
     "output_type": "display_data"
    }
   ],
   "source": [
    "hist(store, 'CompetitionDistance')"
   ]
  },
  {
   "cell_type": "markdown",
   "id": "loving-control",
   "metadata": {},
   "source": [
    "This feature is numeric. Its distribution is similar to lognormal. Let's take a logarithm of this feature and show the distribution:"
   ]
  },
  {
   "cell_type": "code",
   "execution_count": 279,
   "id": "further-joyce",
   "metadata": {
    "ExecuteTime": {
     "end_time": "2021-11-22T12:11:28.454754Z",
     "start_time": "2021-11-22T12:11:27.487740Z"
    }
   },
   "outputs": [
    {
     "data": {
      "image/png": "[encoded data removed]",
      "text/plain": [
       "<Figure size 720x432 with 1 Axes>"
      ]
     },
     "metadata": {
      "needs_background": "light"
     },
     "output_type": "display_data"
    }
   ],
   "source": [
    "hist_series(np.log10(store.CompetitionDistance), 'logarithm of CompetitionDistance')"
   ]
  },
  {
   "cell_type": "markdown",
   "id": "individual-hindu",
   "metadata": {},
   "source": [
    "It is a bit similar to normal distribution. It is a good information for linear regression because it works better with such features."
   ]
  },
  {
   "cell_type": "markdown",
   "id": "apart-value",
   "metadata": {},
   "source": [
    "The missing values can be replaced with mean value."
   ]
  },
  {
   "cell_type": "markdown",
   "id": "supposed-communications",
   "metadata": {},
   "source": [
    "## CompetitionOpenSinceMonth"
   ]
  },
  {
   "cell_type": "markdown",
   "id": "extra-forge",
   "metadata": {},
   "source": [
    "The month of the first opening of the nearest competitor store. There are 354 (or 31.7%) missing values. The distribution of this feature:"
   ]
  },
  {
   "cell_type": "code",
   "execution_count": 479,
   "id": "above-wagon",
   "metadata": {
    "ExecuteTime": {
     "end_time": "2021-11-22T18:09:52.633248Z",
     "start_time": "2021-11-22T18:09:52.093542Z"
    }
   },
   "outputs": [
    {
     "data": {
      "image/png": "[encoded data removed]",
      "text/plain": [
       "<Figure size 720x518.4 with 1 Axes>"
      ]
     },
     "metadata": {
      "needs_background": "light"
     },
     "output_type": "display_data"
    }
   ],
   "source": [
    "barh(store, 'CompetitionOpenSinceMonth')"
   ]
  },
  {
   "cell_type": "markdown",
   "id": "curious-singles",
   "metadata": {},
   "source": [
    "## CompetitionOpenSinceYear"
   ]
  },
  {
   "cell_type": "markdown",
   "id": "searching-terminal",
   "metadata": {},
   "source": [
    "The year of the first opening of the nearest competitor store. There are 354 (or 31.7%) missing values. The distribution of this feature:"
   ]
  },
  {
   "cell_type": "code",
   "execution_count": 424,
   "id": "certain-citation",
   "metadata": {
    "ExecuteTime": {
     "end_time": "2021-11-22T14:15:36.007677Z",
     "start_time": "2021-11-22T14:15:35.111688Z"
    }
   },
   "outputs": [
    {
     "data": {
      "image/png": "[encoded data removed]",
      "text/plain": [
       "<Figure size 1080x432 with 1 Axes>"
      ]
     },
     "metadata": {
      "needs_background": "light"
     },
     "output_type": "display_data"
    }
   ],
   "source": [
    "bar(store, 'CompetitionOpenSinceYear', show_count=False, figsize=(15, 6), rotation=80)"
   ]
  },
  {
   "cell_type": "markdown",
   "id": "nearby-favorite",
   "metadata": {},
   "source": [
    "As you can see there are two outliers - 1900 and 1961. The distribution without them:"
   ]
  },
  {
   "cell_type": "code",
   "execution_count": 425,
   "id": "paperback-nitrogen",
   "metadata": {
    "ExecuteTime": {
     "end_time": "2021-11-22T14:15:39.317970Z",
     "start_time": "2021-11-22T14:15:38.494029Z"
    }
   },
   "outputs": [
    {
     "data": {
      "image/png": "[encoded data removed]",
      "text/plain": [
       "<Figure size 1080x432 with 1 Axes>"
      ]
     },
     "metadata": {
      "needs_background": "light"
     },
     "output_type": "display_data"
    }
   ],
   "source": [
    "bar(store[~store.CompetitionOpenSinceYear.isin([1900, 1961])],\n",
    "    'CompetitionOpenSinceYear',\n",
    "    show_count=False, figsize=(15, 6), rotation=80)"
   ]
  },
  {
   "cell_type": "markdown",
   "id": "healthy-landing",
   "metadata": {},
   "source": [
    "So the most of competitor stores were opened during the last 15 years. The years 1900 and 1961 are the obvious outliers. They are errors because the Rossmann was founded in 1972. So these values must be changed e.g. to mean value or to the year of foundation."
   ]
  },
  {
   "cell_type": "markdown",
   "id": "figured-algebra",
   "metadata": {},
   "source": [
    "## Promo2"
   ]
  },
  {
   "cell_type": "markdown",
   "id": "documentary-maple",
   "metadata": {},
   "source": [
    "Indicates whether the store is participating in promotion \"Promo2\" or not. Its values are 0 and 1. The histogram of values:"
   ]
  },
  {
   "cell_type": "code",
   "execution_count": 426,
   "id": "earned-enlargement",
   "metadata": {
    "ExecuteTime": {
     "end_time": "2021-11-22T14:15:45.098635Z",
     "start_time": "2021-11-22T14:15:44.858607Z"
    }
   },
   "outputs": [
    {
     "data": {
      "image/png": "[encoded data removed]",
      "text/plain": [
       "<Figure size 720x86.4 with 1 Axes>"
      ]
     },
     "metadata": {
      "needs_background": "light"
     },
     "output_type": "display_data"
    }
   ],
   "source": [
    "barh(store, 'Promo2')"
   ]
  },
  {
   "cell_type": "markdown",
   "id": "close-radar",
   "metadata": {},
   "source": [
    "## Promo2SinceWeek"
   ]
  },
  {
   "cell_type": "markdown",
   "id": "express-annual",
   "metadata": {},
   "source": [
    "The week of start of the participating in \"Promo2\". If Promo2 equals 0, this feature is missed. There are 544 missing values. The histogram of values:"
   ]
  },
  {
   "cell_type": "code",
   "execution_count": 427,
   "id": "concrete-voluntary",
   "metadata": {
    "ExecuteTime": {
     "end_time": "2021-11-22T14:15:48.544355Z",
     "start_time": "2021-11-22T14:15:47.560700Z"
    }
   },
   "outputs": [
    {
     "data": {
      "image/png": "[encoded data removed]",
      "text/plain": [
       "<Figure size 864x504 with 1 Axes>"
      ]
     },
     "metadata": {
      "needs_background": "light"
     },
     "output_type": "display_data"
    }
   ],
   "source": [
    "bar(store, 'Promo2SinceWeek', show_count=False, figsize=(12, 7))"
   ]
  },
  {
   "cell_type": "markdown",
   "id": "joint-expense",
   "metadata": {},
   "source": [
    "## Promo2SinceYear"
   ]
  },
  {
   "cell_type": "markdown",
   "id": "existing-glance",
   "metadata": {},
   "source": [
    "The week of start of the participating in \"Promo2\". If Promo2 equals 0, this feature is missed. There are 544 missing values. The histogram of values:"
   ]
  },
  {
   "cell_type": "code",
   "execution_count": 428,
   "id": "ordered-japan",
   "metadata": {
    "ExecuteTime": {
     "end_time": "2021-11-22T14:15:55.242795Z",
     "start_time": "2021-11-22T14:15:54.766855Z"
    }
   },
   "outputs": [
    {
     "data": {
      "image/png": "[encoded data removed]",
      "text/plain": [
       "<Figure size 720x432 with 1 Axes>"
      ]
     },
     "metadata": {
      "needs_background": "light"
     },
     "output_type": "display_data"
    }
   ],
   "source": [
    "bar(store, 'Promo2SinceYear', show_count=False)"
   ]
  },
  {
   "cell_type": "markdown",
   "id": "administrative-enhancement",
   "metadata": {},
   "source": [
    "## PromoInterval"
   ]
  },
  {
   "cell_type": "markdown",
   "id": "dried-reflection",
   "metadata": {},
   "source": [
    "The consecutive intervals Promo2 is started, naming the months the promotion is started anew. If Promo2 equals 0, this feature is missed. There are 544 missing values. The histogram of values:"
   ]
  },
  {
   "cell_type": "code",
   "execution_count": 429,
   "id": "bibliographic-palestinian",
   "metadata": {
    "ExecuteTime": {
     "end_time": "2021-11-22T14:16:00.318117Z",
     "start_time": "2021-11-22T14:16:00.013795Z"
    }
   },
   "outputs": [
    {
     "data": {
      "image/png": "[encoded data removed]",
      "text/plain": [
       "<Figure size 720x129.6 with 1 Axes>"
      ]
     },
     "metadata": {
      "needs_background": "light"
     },
     "output_type": "display_data"
    }
   ],
   "source": [
    "barh(store, 'PromoInterval')"
   ]
  },
  {
   "cell_type": "markdown",
   "id": "finished-tourist",
   "metadata": {},
   "source": [
    "# train"
   ]
  },
  {
   "cell_type": "code",
   "execution_count": 22,
   "id": "cooperative-scottish",
   "metadata": {
    "ExecuteTime": {
     "end_time": "2021-11-17T06:15:19.331562Z",
     "start_time": "2021-11-17T06:15:18.908861Z"
    },
    "scrolled": true
   },
   "outputs": [
    {
     "name": "stdout",
     "output_type": "stream",
     "text": [
      "<class 'pandas.core.frame.DataFrame'>\n",
      "RangeIndex: 1017209 entries, 0 to 1017208\n",
      "Data columns (total 9 columns):\n",
      " #   Column         Non-Null Count    Dtype \n",
      "---  ------         --------------    ----- \n",
      " 0   Store          1017209 non-null  int64 \n",
      " 1   DayOfWeek      1017209 non-null  int64 \n",
      " 2   Date           1017209 non-null  object\n",
      " 3   Sales          1017209 non-null  int64 \n",
      " 4   Customers      1017209 non-null  int64 \n",
      " 5   Open           1017209 non-null  int64 \n",
      " 6   Promo          1017209 non-null  int64 \n",
      " 7   StateHoliday   1017209 non-null  object\n",
      " 8   SchoolHoliday  1017209 non-null  int64 \n",
      "dtypes: int64(7), object(2)\n",
      "memory usage: 69.8+ MB\n"
     ]
    },
    {
     "data": {
      "text/html": [
       "<div>\n",
       "<style scoped>\n",
       "    .dataframe tbody tr th:only-of-type {\n",
       "        vertical-align: middle;\n",
       "    }\n",
       "\n",
       "    .dataframe tbody tr th {\n",
       "        vertical-align: top;\n",
       "    }\n",
       "\n",
       "    .dataframe thead th {\n",
       "        text-align: right;\n",
       "    }\n",
       "</style>\n",
       "<table border=\"1\" class=\"dataframe\">\n",
       "  <thead>\n",
       "    <tr style=\"text-align: right;\">\n",
       "      <th></th>\n",
       "      <th>Store</th>\n",
       "      <th>DayOfWeek</th>\n",
       "      <th>Date</th>\n",
       "      <th>Sales</th>\n",
       "      <th>Customers</th>\n",
       "      <th>Open</th>\n",
       "      <th>Promo</th>\n",
       "      <th>StateHoliday</th>\n",
       "      <th>SchoolHoliday</th>\n",
       "    </tr>\n",
       "  </thead>\n",
       "  <tbody>\n",
       "    <tr>\n",
       "      <th>0</th>\n",
       "      <td>1</td>\n",
       "      <td>5</td>\n",
       "      <td>2015-07-31</td>\n",
       "      <td>5263</td>\n",
       "      <td>555</td>\n",
       "      <td>1</td>\n",
       "      <td>1</td>\n",
       "      <td>0</td>\n",
       "      <td>1</td>\n",
       "    </tr>\n",
       "    <tr>\n",
       "      <th>1</th>\n",
       "      <td>2</td>\n",
       "      <td>5</td>\n",
       "      <td>2015-07-31</td>\n",
       "      <td>6064</td>\n",
       "      <td>625</td>\n",
       "      <td>1</td>\n",
       "      <td>1</td>\n",
       "      <td>0</td>\n",
       "      <td>1</td>\n",
       "    </tr>\n",
       "    <tr>\n",
       "      <th>2</th>\n",
       "      <td>3</td>\n",
       "      <td>5</td>\n",
       "      <td>2015-07-31</td>\n",
       "      <td>8314</td>\n",
       "      <td>821</td>\n",
       "      <td>1</td>\n",
       "      <td>1</td>\n",
       "      <td>0</td>\n",
       "      <td>1</td>\n",
       "    </tr>\n",
       "    <tr>\n",
       "      <th>3</th>\n",
       "      <td>4</td>\n",
       "      <td>5</td>\n",
       "      <td>2015-07-31</td>\n",
       "      <td>13995</td>\n",
       "      <td>1498</td>\n",
       "      <td>1</td>\n",
       "      <td>1</td>\n",
       "      <td>0</td>\n",
       "      <td>1</td>\n",
       "    </tr>\n",
       "    <tr>\n",
       "      <th>4</th>\n",
       "      <td>5</td>\n",
       "      <td>5</td>\n",
       "      <td>2015-07-31</td>\n",
       "      <td>4822</td>\n",
       "      <td>559</td>\n",
       "      <td>1</td>\n",
       "      <td>1</td>\n",
       "      <td>0</td>\n",
       "      <td>1</td>\n",
       "    </tr>\n",
       "  </tbody>\n",
       "</table>\n",
       "</div>"
      ],
      "text/plain": [
       "   Store  DayOfWeek        Date  Sales  Customers  Open  Promo StateHoliday  \\\n",
       "0      1          5  2015-07-31   5263        555     1      1            0   \n",
       "1      2          5  2015-07-31   6064        625     1      1            0   \n",
       "2      3          5  2015-07-31   8314        821     1      1            0   \n",
       "3      4          5  2015-07-31  13995       1498     1      1            0   \n",
       "4      5          5  2015-07-31   4822        559     1      1            0   \n",
       "\n",
       "   SchoolHoliday  \n",
       "0              1  \n",
       "1              1  \n",
       "2              1  \n",
       "3              1  \n",
       "4              1  "
      ]
     },
     "execution_count": 22,
     "metadata": {},
     "output_type": "execute_result"
    }
   ],
   "source": [
    "train.info()\n",
    "train.head()"
   ]
  },
  {
   "cell_type": "markdown",
   "id": "dress-cyprus",
   "metadata": {},
   "source": [
    "There are no missing values. The table contains 9 columns."
   ]
  },
  {
   "cell_type": "markdown",
   "id": "abandoned-standing",
   "metadata": {},
   "source": [
    "## Store"
   ]
  },
  {
   "cell_type": "markdown",
   "id": "manufactured-personal",
   "metadata": {},
   "source": [
    "The id of stores. It ranges from 1 to 1115."
   ]
  },
  {
   "cell_type": "code",
   "execution_count": 310,
   "id": "applicable-egyptian",
   "metadata": {
    "ExecuteTime": {
     "end_time": "2021-11-22T12:32:01.935670Z",
     "start_time": "2021-11-22T12:32:01.871734Z"
    }
   },
   "outputs": [
    {
     "data": {
      "text/plain": [
       "True"
      ]
     },
     "execution_count": 310,
     "metadata": {},
     "output_type": "execute_result"
    }
   ],
   "source": [
    "(pd.RangeIndex(1, 1116) == train.Store.unique()).all()"
   ]
  },
  {
   "cell_type": "markdown",
   "id": "amended-french",
   "metadata": {},
   "source": [
    "## DayOfWeek"
   ]
  },
  {
   "cell_type": "markdown",
   "id": "entitled-specification",
   "metadata": {},
   "source": [
    "The weekday of the entry. It ranges from 1 to 7 and corresponds to names of week: 1 is monday, 2 is tuesday and so on."
   ]
  },
  {
   "cell_type": "code",
   "execution_count": 431,
   "id": "sealed-dakota",
   "metadata": {
    "ExecuteTime": {
     "end_time": "2021-11-22T16:15:16.967638Z",
     "start_time": "2021-11-22T16:15:16.573525Z"
    }
   },
   "outputs": [
    {
     "data": {
      "image/png": "[encoded data removed]",
      "text/plain": [
       "<Figure size 720x302.4 with 1 Axes>"
      ]
     },
     "metadata": {
      "needs_background": "light"
     },
     "output_type": "display_data"
    }
   ],
   "source": [
    "barh(train, 'DayOfWeek')"
   ]
  },
  {
   "cell_type": "markdown",
   "id": "particular-discussion",
   "metadata": {},
   "source": [
    "## Date"
   ]
  },
  {
   "cell_type": "markdown",
   "id": "threatened-electricity",
   "metadata": {},
   "source": [
    "The day of entry. In table this feature is a string one. Let's research if there are all the days between the start and end."
   ]
  },
  {
   "cell_type": "code",
   "execution_count": 313,
   "id": "outer-onion",
   "metadata": {
    "ExecuteTime": {
     "end_time": "2021-11-22T12:37:03.091750Z",
     "start_time": "2021-11-22T12:36:18.007360Z"
    }
   },
   "outputs": [
    {
     "name": "stdout",
     "output_type": "stream",
     "text": [
      "The number of unique dates: 942\n"
     ]
    }
   ],
   "source": [
    "dates = train.Date.apply(lambda date: datetime.datetime.strptime(date, '%Y-%m-%d'))\n",
    "print('The number of unique dates:', dates.nunique())"
   ]
  },
  {
   "cell_type": "code",
   "execution_count": 319,
   "id": "reverse-nutrition",
   "metadata": {
    "ExecuteTime": {
     "end_time": "2021-11-22T12:38:53.791581Z",
     "start_time": "2021-11-22T12:38:53.703593Z"
    }
   },
   "outputs": [
    {
     "name": "stdout",
     "output_type": "stream",
     "text": [
      "The start date in table: 2013-01-01 00:00:00\n",
      "The end date in table: 2015-07-31 00:00:00\n",
      "The number of different days between them: 942\n"
     ]
    }
   ],
   "source": [
    "print('The start date in table:', dates.min())\n",
    "print('The end date in table:', dates.max())\n",
    "print('The number of different days between them:', (dates.max() - dates.min()).days + 1)"
   ]
  },
  {
   "cell_type": "markdown",
   "id": "fifty-pharmaceutical",
   "metadata": {},
   "source": [
    "So there are all the days between the start and end ones."
   ]
  },
  {
   "cell_type": "markdown",
   "id": "rising-julian",
   "metadata": {},
   "source": [
    "## Open"
   ]
  },
  {
   "cell_type": "markdown",
   "id": "dominant-steal",
   "metadata": {},
   "source": [
    "Indicates whether the store is opened at this day (equals 1) or closed (equals 0). The number of values:"
   ]
  },
  {
   "cell_type": "code",
   "execution_count": 432,
   "id": "eight-delicious",
   "metadata": {
    "ExecuteTime": {
     "end_time": "2021-11-22T16:15:30.126261Z",
     "start_time": "2021-11-22T16:15:29.867324Z"
    }
   },
   "outputs": [
    {
     "data": {
      "image/png": "[encoded data removed]",
      "text/plain": [
       "<Figure size 720x86.4 with 1 Axes>"
      ]
     },
     "metadata": {
      "needs_background": "light"
     },
     "output_type": "display_data"
    }
   ],
   "source": [
    "barh(train, 'Open')"
   ]
  },
  {
   "cell_type": "markdown",
   "id": "particular-importance",
   "metadata": {},
   "source": [
    "There is a significant part of zeros. For such entries the sales equal 0. So the rows where Open equals 0 can be removed."
   ]
  },
  {
   "cell_type": "markdown",
   "id": "pleasant-viewer",
   "metadata": {},
   "source": [
    "## Sales (target)"
   ]
  },
  {
   "cell_type": "markdown",
   "id": "imposed-veteran",
   "metadata": {},
   "source": [
    "The turnover in this day and this store. It is the numeric feature. The distribution of the feature:"
   ]
  },
  {
   "cell_type": "code",
   "execution_count": 433,
   "id": "naughty-scene",
   "metadata": {
    "ExecuteTime": {
     "end_time": "2021-11-22T16:15:38.555710Z",
     "start_time": "2021-11-22T16:15:37.027917Z"
    }
   },
   "outputs": [
    {
     "data": {
      "image/png": "[encoded data removed]",
      "text/plain": [
       "<Figure size 720x432 with 1 Axes>"
      ]
     },
     "metadata": {
      "needs_background": "light"
     },
     "output_type": "display_data"
    }
   ],
   "source": [
    "hist(train, 'Sales', bins=120)"
   ]
  },
  {
   "cell_type": "markdown",
   "id": "binding-daisy",
   "metadata": {},
   "source": [
    "Mind the count of zeros. It is explained by the **Open** feature: if it equals 0, then **Sales** also equals 0. The distribution of this feature when **Open** = 1:"
   ]
  },
  {
   "cell_type": "code",
   "execution_count": 323,
   "id": "prostate-orchestra",
   "metadata": {
    "ExecuteTime": {
     "end_time": "2021-11-22T13:16:10.380274Z",
     "start_time": "2021-11-22T13:16:08.752058Z"
    }
   },
   "outputs": [
    {
     "data": {
      "image/png": "[encoded data removed]",
      "text/plain": [
       "<Figure size 720x432 with 1 Axes>"
      ]
     },
     "metadata": {
      "needs_background": "light"
     },
     "output_type": "display_data"
    }
   ],
   "source": [
    "hist(train[train.Open == 1], 'Sales', bins=120)"
   ]
  },
  {
   "cell_type": "markdown",
   "id": "accomplished-official",
   "metadata": {},
   "source": [
    "## Customers"
   ]
  },
  {
   "cell_type": "markdown",
   "id": "numeric-transparency",
   "metadata": {},
   "source": [
    "The number of customers in the shop at this day. The distribution of this feature:"
   ]
  },
  {
   "cell_type": "code",
   "execution_count": 325,
   "id": "adjacent-farming",
   "metadata": {
    "ExecuteTime": {
     "end_time": "2021-11-22T13:18:18.422240Z",
     "start_time": "2021-11-22T13:18:16.878554Z"
    }
   },
   "outputs": [
    {
     "data": {
      "image/png": "[encoded data removed]",
      "text/plain": [
       "<Figure size 720x432 with 1 Axes>"
      ]
     },
     "metadata": {
      "needs_background": "light"
     },
     "output_type": "display_data"
    }
   ],
   "source": [
    "hist(train, 'Customers', bins=120)"
   ]
  },
  {
   "cell_type": "markdown",
   "id": "sacred-revelation",
   "metadata": {},
   "source": [
    "As in the **Sales** feature there are many zeros. It is explained by the **Open** feature: if it equals 0, then the number of customers also equals 0. The distribution of this feature when **Open** = 1:"
   ]
  },
  {
   "cell_type": "code",
   "execution_count": 326,
   "id": "strong-flesh",
   "metadata": {
    "ExecuteTime": {
     "end_time": "2021-11-22T13:20:52.220831Z",
     "start_time": "2021-11-22T13:20:50.544283Z"
    }
   },
   "outputs": [
    {
     "data": {
      "image/png": "[encoded data removed]",
      "text/plain": [
       "<Figure size 720x432 with 1 Axes>"
      ]
     },
     "metadata": {
      "needs_background": "light"
     },
     "output_type": "display_data"
    }
   ],
   "source": [
    "hist(train[train.Open == 1], 'Customers', bins=120)"
   ]
  },
  {
   "cell_type": "code",
   "execution_count": 374,
   "id": "compatible-healthcare",
   "metadata": {
    "ExecuteTime": {
     "end_time": "2021-11-22T13:54:59.082931Z",
     "start_time": "2021-11-22T13:54:57.340045Z"
    },
    "scrolled": true
   },
   "outputs": [
    {
     "data": {
      "image/png": "[encoded data removed]",
      "text/plain": [
       "<Figure size 720x432 with 1 Axes>"
      ]
     },
     "metadata": {
      "needs_background": "light"
     },
     "output_type": "display_data"
    }
   ],
   "source": [
    "hist_series(np.log10(train[train.Open == 1].Customers + 1), 'logarithm of customers + 1', bins=120)"
   ]
  },
  {
   "cell_type": "markdown",
   "id": "consecutive-object",
   "metadata": {},
   "source": [
    "It is a bit similar to normal distribution. It is a good information for linear regression because it works with such features better."
   ]
  },
  {
   "cell_type": "markdown",
   "id": "authentic-turkey",
   "metadata": {},
   "source": [
    "## Promo"
   ]
  },
  {
   "cell_type": "markdown",
   "id": "fuzzy-expression",
   "metadata": {},
   "source": [
    "Indicates whether a store is running a promo on that day (equals 1) or not (equals 0). The count of its values"
   ]
  },
  {
   "cell_type": "code",
   "execution_count": 434,
   "id": "rocky-baghdad",
   "metadata": {
    "ExecuteTime": {
     "end_time": "2021-11-22T16:15:50.527543Z",
     "start_time": "2021-11-22T16:15:50.287720Z"
    },
    "scrolled": true
   },
   "outputs": [
    {
     "data": {
      "image/png": "[encoded data removed]",
      "text/plain": [
       "<Figure size 720x86.4 with 1 Axes>"
      ]
     },
     "metadata": {
      "needs_background": "light"
     },
     "output_type": "display_data"
    }
   ],
   "source": [
    "barh(train, 'Promo')"
   ]
  },
  {
   "cell_type": "markdown",
   "id": "mounted-alaska",
   "metadata": {},
   "source": [
    "## StateHoliday"
   ]
  },
  {
   "cell_type": "markdown",
   "id": "anticipated-front",
   "metadata": {},
   "source": [
    "Indicates a state holiday. There are four values that means: a - public holiday, b - Easter holiday, c - Christmas, 0 - no holiday. But the columns contains values 0 and '0'. So after casting the numeric values to string let's see the count of values"
   ]
  },
  {
   "cell_type": "code",
   "execution_count": 364,
   "id": "front-bottom",
   "metadata": {
    "ExecuteTime": {
     "end_time": "2021-11-22T13:46:07.410438Z",
     "start_time": "2021-11-22T13:46:06.961130Z"
    }
   },
   "outputs": [],
   "source": [
    "train.StateHoliday = train.StateHoliday.apply(str)"
   ]
  },
  {
   "cell_type": "code",
   "execution_count": 435,
   "id": "premier-perth",
   "metadata": {
    "ExecuteTime": {
     "end_time": "2021-11-22T16:15:54.835068Z",
     "start_time": "2021-11-22T16:15:54.210273Z"
    }
   },
   "outputs": [
    {
     "data": {
      "image/png": "[encoded data removed]",
      "text/plain": [
       "<Figure size 720x172.8 with 1 Axes>"
      ]
     },
     "metadata": {
      "needs_background": "light"
     },
     "output_type": "display_data"
    }
   ],
   "source": [
    "barh(train, 'StateHoliday')"
   ]
  },
  {
   "cell_type": "markdown",
   "id": "fifteen-mortality",
   "metadata": {},
   "source": [
    "## SchoolHoliday"
   ]
  },
  {
   "cell_type": "markdown",
   "id": "approved-moore",
   "metadata": {},
   "source": [
    "Indicates if the (Store, Date) was affected by the closure of public schools. The count of values"
   ]
  },
  {
   "cell_type": "code",
   "execution_count": 436,
   "id": "special-allah",
   "metadata": {
    "ExecuteTime": {
     "end_time": "2021-11-22T16:15:59.394130Z",
     "start_time": "2021-11-22T16:15:59.154223Z"
    }
   },
   "outputs": [
    {
     "data": {
      "image/png": "[encoded data removed]",
      "text/plain": [
       "<Figure size 720x86.4 with 1 Axes>"
      ]
     },
     "metadata": {
      "needs_background": "light"
     },
     "output_type": "display_data"
    }
   ],
   "source": [
    "barh(train, 'SchoolHoliday')"
   ]
  },
  {
   "cell_type": "markdown",
   "id": "ideal-massage",
   "metadata": {},
   "source": [
    "The most of days contain the info about all the shops"
   ]
  },
  {
   "cell_type": "code",
   "execution_count": 49,
   "id": "false-vanilla",
   "metadata": {
    "ExecuteTime": {
     "end_time": "2021-11-17T07:06:47.124430Z",
     "start_time": "2021-11-17T07:06:46.745408Z"
    }
   },
   "outputs": [
    {
     "data": {
      "text/plain": [
       "1115    757\n",
       "935     184\n",
       "1114      1\n",
       "Name: Count, dtype: int64"
      ]
     },
     "execution_count": 49,
     "metadata": {},
     "output_type": "execute_result"
    }
   ],
   "source": [
    "train.groupby(by='Date').agg({'Date': 'count'}).rename(columns={'Date': 'Count'}).Count.value_counts()"
   ]
  },
  {
   "cell_type": "markdown",
   "id": "julian-roberts",
   "metadata": {},
   "source": [
    "## Some relations between features"
   ]
  },
  {
   "cell_type": "markdown",
   "id": "greenhouse-pizza",
   "metadata": {},
   "source": [
    "Let's see in what days the stores are closed."
   ]
  },
  {
   "cell_type": "code",
   "execution_count": 450,
   "id": "spiritual-cemetery",
   "metadata": {
    "ExecuteTime": {
     "end_time": "2021-11-22T16:47:35.219544Z",
     "start_time": "2021-11-22T16:47:34.693796Z"
    }
   },
   "outputs": [
    {
     "data": {
      "image/png": "[encoded data removed]",
      "text/plain": [
       "<Figure size 720x432 with 1 Axes>"
      ]
     },
     "metadata": {
      "needs_background": "light"
     },
     "output_type": "display_data"
    }
   ],
   "source": [
    "bar(train[train.Open == 0], 'DayOfWeek', show_count=False)"
   ]
  },
  {
   "cell_type": "markdown",
   "id": "quick-directory",
   "metadata": {},
   "source": [
    "As expected the most stores have a day off as sunday. Let's see in what days the stores are opened."
   ]
  },
  {
   "cell_type": "code",
   "execution_count": 452,
   "id": "stunning-charger",
   "metadata": {
    "ExecuteTime": {
     "end_time": "2021-11-22T16:50:46.523379Z",
     "start_time": "2021-11-22T16:50:45.851838Z"
    }
   },
   "outputs": [
    {
     "data": {
      "image/png": "[encoded data removed]",
      "text/plain": [
       "<Figure size 720x432 with 1 Axes>"
      ]
     },
     "metadata": {
      "needs_background": "light"
     },
     "output_type": "display_data"
    }
   ],
   "source": [
    "bar(train[train.Open == 1], 'DayOfWeek', show_count=False)"
   ]
  },
  {
   "cell_type": "markdown",
   "id": "proved-brake",
   "metadata": {},
   "source": [
    "So there is almost no sundays when the stores are opened."
   ]
  },
  {
   "cell_type": "markdown",
   "id": "dressed-satisfaction",
   "metadata": {},
   "source": [
    "# test"
   ]
  },
  {
   "cell_type": "code",
   "execution_count": 23,
   "id": "right-wonder",
   "metadata": {
    "ExecuteTime": {
     "end_time": "2021-11-17T06:15:25.421754Z",
     "start_time": "2021-11-17T06:15:25.342876Z"
    },
    "scrolled": true
   },
   "outputs": [
    {
     "name": "stdout",
     "output_type": "stream",
     "text": [
      "<class 'pandas.core.frame.DataFrame'>\n",
      "RangeIndex: 41088 entries, 0 to 41087\n",
      "Data columns (total 8 columns):\n",
      " #   Column         Non-Null Count  Dtype  \n",
      "---  ------         --------------  -----  \n",
      " 0   Id             41088 non-null  int64  \n",
      " 1   Store          41088 non-null  int64  \n",
      " 2   DayOfWeek      41088 non-null  int64  \n",
      " 3   Date           41088 non-null  object \n",
      " 4   Open           41077 non-null  float64\n",
      " 5   Promo          41088 non-null  int64  \n",
      " 6   StateHoliday   41088 non-null  object \n",
      " 7   SchoolHoliday  41088 non-null  int64  \n",
      "dtypes: float64(1), int64(5), object(2)\n",
      "memory usage: 2.5+ MB\n"
     ]
    },
    {
     "data": {
      "text/html": [
       "<div>\n",
       "<style scoped>\n",
       "    .dataframe tbody tr th:only-of-type {\n",
       "        vertical-align: middle;\n",
       "    }\n",
       "\n",
       "    .dataframe tbody tr th {\n",
       "        vertical-align: top;\n",
       "    }\n",
       "\n",
       "    .dataframe thead th {\n",
       "        text-align: right;\n",
       "    }\n",
       "</style>\n",
       "<table border=\"1\" class=\"dataframe\">\n",
       "  <thead>\n",
       "    <tr style=\"text-align: right;\">\n",
       "      <th></th>\n",
       "      <th>Id</th>\n",
       "      <th>Store</th>\n",
       "      <th>DayOfWeek</th>\n",
       "      <th>Date</th>\n",
       "      <th>Open</th>\n",
       "      <th>Promo</th>\n",
       "      <th>StateHoliday</th>\n",
       "      <th>SchoolHoliday</th>\n",
       "    </tr>\n",
       "  </thead>\n",
       "  <tbody>\n",
       "    <tr>\n",
       "      <th>0</th>\n",
       "      <td>1</td>\n",
       "      <td>1</td>\n",
       "      <td>4</td>\n",
       "      <td>2015-09-17</td>\n",
       "      <td>1.0</td>\n",
       "      <td>1</td>\n",
       "      <td>0</td>\n",
       "      <td>0</td>\n",
       "    </tr>\n",
       "    <tr>\n",
       "      <th>1</th>\n",
       "      <td>2</td>\n",
       "      <td>3</td>\n",
       "      <td>4</td>\n",
       "      <td>2015-09-17</td>\n",
       "      <td>1.0</td>\n",
       "      <td>1</td>\n",
       "      <td>0</td>\n",
       "      <td>0</td>\n",
       "    </tr>\n",
       "    <tr>\n",
       "      <th>2</th>\n",
       "      <td>3</td>\n",
       "      <td>7</td>\n",
       "      <td>4</td>\n",
       "      <td>2015-09-17</td>\n",
       "      <td>1.0</td>\n",
       "      <td>1</td>\n",
       "      <td>0</td>\n",
       "      <td>0</td>\n",
       "    </tr>\n",
       "    <tr>\n",
       "      <th>3</th>\n",
       "      <td>4</td>\n",
       "      <td>8</td>\n",
       "      <td>4</td>\n",
       "      <td>2015-09-17</td>\n",
       "      <td>1.0</td>\n",
       "      <td>1</td>\n",
       "      <td>0</td>\n",
       "      <td>0</td>\n",
       "    </tr>\n",
       "    <tr>\n",
       "      <th>4</th>\n",
       "      <td>5</td>\n",
       "      <td>9</td>\n",
       "      <td>4</td>\n",
       "      <td>2015-09-17</td>\n",
       "      <td>1.0</td>\n",
       "      <td>1</td>\n",
       "      <td>0</td>\n",
       "      <td>0</td>\n",
       "    </tr>\n",
       "  </tbody>\n",
       "</table>\n",
       "</div>"
      ],
      "text/plain": [
       "   Id  Store  DayOfWeek        Date  Open  Promo StateHoliday  SchoolHoliday\n",
       "0   1      1          4  2015-09-17   1.0      1            0              0\n",
       "1   2      3          4  2015-09-17   1.0      1            0              0\n",
       "2   3      7          4  2015-09-17   1.0      1            0              0\n",
       "3   4      8          4  2015-09-17   1.0      1            0              0\n",
       "4   5      9          4  2015-09-17   1.0      1            0              0"
      ]
     },
     "execution_count": 23,
     "metadata": {},
     "output_type": "execute_result"
    }
   ],
   "source": [
    "test.info()\n",
    "test.head()"
   ]
  },
  {
   "cell_type": "markdown",
   "id": "blind-exploration",
   "metadata": {},
   "source": [
    "The ***test*** table contains the same columns as the ***train*** table but the columns **Sales** and **Customers**. "
   ]
  },
  {
   "cell_type": "markdown",
   "id": "popular-commission",
   "metadata": {},
   "source": [
    "## Id"
   ]
  },
  {
   "cell_type": "markdown",
   "id": "mighty-opening",
   "metadata": {},
   "source": [
    "The identifier of the row used for submission"
   ]
  },
  {
   "cell_type": "markdown",
   "id": "settled-edinburgh",
   "metadata": {},
   "source": [
    "## Store"
   ]
  },
  {
   "cell_type": "markdown",
   "id": "weird-worry",
   "metadata": {},
   "source": [
    "The identifier of stores. The number of stores in the table:"
   ]
  },
  {
   "cell_type": "code",
   "execution_count": 463,
   "id": "requested-literacy",
   "metadata": {
    "ExecuteTime": {
     "end_time": "2021-11-22T17:44:22.662183Z",
     "start_time": "2021-11-22T17:44:22.637228Z"
    }
   },
   "outputs": [
    {
     "data": {
      "text/plain": [
       "856"
      ]
     },
     "execution_count": 463,
     "metadata": {},
     "output_type": "execute_result"
    }
   ],
   "source": [
    "test.Store.nunique()"
   ]
  },
  {
   "cell_type": "markdown",
   "id": "liberal-judgment",
   "metadata": {},
   "source": [
    "But there are 1115 different stores. So not all stores are present in test dataset."
   ]
  },
  {
   "cell_type": "markdown",
   "id": "tropical-center",
   "metadata": {},
   "source": [
    "## DayOfWeek"
   ]
  },
  {
   "cell_type": "markdown",
   "id": "vocational-honolulu",
   "metadata": {},
   "source": [
    "The day of week. The histogram of values:"
   ]
  },
  {
   "cell_type": "code",
   "execution_count": 466,
   "id": "controversial-beach",
   "metadata": {
    "ExecuteTime": {
     "end_time": "2021-11-22T17:49:22.066237Z",
     "start_time": "2021-11-22T17:49:21.520096Z"
    },
    "scrolled": true
   },
   "outputs": [
    {
     "data": {
      "image/png": "[encoded data removed]",
      "text/plain": [
       "<Figure size 720x432 with 1 Axes>"
      ]
     },
     "metadata": {
      "needs_background": "light"
     },
     "output_type": "display_data"
    }
   ],
   "source": [
    "bar(test, 'DayOfWeek')"
   ]
  },
  {
   "cell_type": "markdown",
   "id": "racial-interstate",
   "metadata": {},
   "source": [
    "## Date"
   ]
  },
  {
   "cell_type": "code",
   "execution_count": 464,
   "id": "fuzzy-thompson",
   "metadata": {
    "ExecuteTime": {
     "end_time": "2021-11-22T17:47:22.602148Z",
     "start_time": "2021-11-22T17:47:20.515433Z"
    }
   },
   "outputs": [
    {
     "name": "stdout",
     "output_type": "stream",
     "text": [
      "The number of unique dates: 48\n"
     ]
    }
   ],
   "source": [
    "test_dates = test.Date.apply(lambda date: datetime.datetime.strptime(date, '%Y-%m-%d'))\n",
    "print('The number of unique dates:', test_dates.nunique())"
   ]
  },
  {
   "cell_type": "code",
   "execution_count": 465,
   "id": "appreciated-washington",
   "metadata": {
    "ExecuteTime": {
     "end_time": "2021-11-22T17:47:27.366240Z",
     "start_time": "2021-11-22T17:47:27.328290Z"
    },
    "scrolled": true
   },
   "outputs": [
    {
     "name": "stdout",
     "output_type": "stream",
     "text": [
      "The start date in table: 2015-08-01 00:00:00\n",
      "The end date in table: 2015-09-17 00:00:00\n",
      "The number of different days between them: 48\n"
     ]
    }
   ],
   "source": [
    "print('The start date in table:', test_dates.min())\n",
    "print('The end date in table:', test_dates.max())\n",
    "print('The number of different days between them:', (test_dates.max() - test_dates.min()).days + 1)"
   ]
  },
  {
   "cell_type": "markdown",
   "id": "mature-pendant",
   "metadata": {},
   "source": [
    "## Open"
   ]
  },
  {
   "cell_type": "markdown",
   "id": "grateful-hello",
   "metadata": {},
   "source": [
    "The column **Open** contain 11 missing values. Let's take a look at the histogram of values:"
   ]
  },
  {
   "cell_type": "code",
   "execution_count": 437,
   "id": "communist-tattoo",
   "metadata": {
    "ExecuteTime": {
     "end_time": "2021-11-22T16:18:10.434885Z",
     "start_time": "2021-11-22T16:18:10.218963Z"
    },
    "scrolled": true
   },
   "outputs": [
    {
     "data": {
      "image/png": "[encoded data removed]",
      "text/plain": [
       "<Figure size 720x86.4 with 1 Axes>"
      ]
     },
     "metadata": {
      "needs_background": "light"
     },
     "output_type": "display_data"
    }
   ],
   "source": [
    "barh(test, 'Open')"
   ]
  },
  {
   "cell_type": "markdown",
   "id": "subtle-definition",
   "metadata": {},
   "source": [
    "There are rows where **Open** equals 0. For such rows the sales count also equals 0."
   ]
  },
  {
   "cell_type": "markdown",
   "id": "persistent-newcastle",
   "metadata": {},
   "source": [
    "## Promo"
   ]
  },
  {
   "cell_type": "markdown",
   "id": "amber-voltage",
   "metadata": {},
   "source": [
    "Indicates whether a store is running a promo on that day (equals 1) or not (equals 0). The count of its values"
   ]
  },
  {
   "cell_type": "code",
   "execution_count": 467,
   "id": "asian-renewal",
   "metadata": {
    "ExecuteTime": {
     "end_time": "2021-11-22T17:52:10.527044Z",
     "start_time": "2021-11-22T17:52:10.302398Z"
    }
   },
   "outputs": [
    {
     "data": {
      "image/png": "[encoded data removed]",
      "text/plain": [
       "<Figure size 720x86.4 with 1 Axes>"
      ]
     },
     "metadata": {
      "needs_background": "light"
     },
     "output_type": "display_data"
    }
   ],
   "source": [
    "barh(test, 'Promo')"
   ]
  },
  {
   "cell_type": "markdown",
   "id": "conscious-conversation",
   "metadata": {},
   "source": [
    "## StateHoliday"
   ]
  },
  {
   "cell_type": "markdown",
   "id": "found-explosion",
   "metadata": {},
   "source": [
    "Indicates a state holiday. There are four values that means: a - public holiday, b - Easter holiday, c - Christmas, 0 - no holiday."
   ]
  },
  {
   "cell_type": "code",
   "execution_count": 471,
   "id": "proper-charity",
   "metadata": {
    "ExecuteTime": {
     "end_time": "2021-11-22T17:54:09.622119Z",
     "start_time": "2021-11-22T17:54:09.374506Z"
    }
   },
   "outputs": [
    {
     "data": {
      "image/png": "[encoded data removed]",
      "text/plain": [
       "<Figure size 720x86.4 with 1 Axes>"
      ]
     },
     "metadata": {
      "needs_background": "light"
     },
     "output_type": "display_data"
    }
   ],
   "source": [
    "barh(test, 'StateHoliday')"
   ]
  },
  {
   "cell_type": "markdown",
   "id": "permanent-header",
   "metadata": {},
   "source": [
    "This columns doesn't contain *'b'* and *'c'* values. It is obvious because *'b'* is Easter and *'c'* is Christmas and these holidays are not in the time range of test dataset. As value *'a'* is also a holiday the *'b'* and *'c'* values can be changed to *'a'* in train dataset."
   ]
  },
  {
   "cell_type": "markdown",
   "id": "computational-democracy",
   "metadata": {},
   "source": [
    "## SchoolHoliday"
   ]
  },
  {
   "cell_type": "markdown",
   "id": "infinite-vehicle",
   "metadata": {},
   "source": [
    "Indicates if the (Store, Date) was affected by the closure of public schools. The count of values"
   ]
  },
  {
   "cell_type": "code",
   "execution_count": 472,
   "id": "exempt-essex",
   "metadata": {
    "ExecuteTime": {
     "end_time": "2021-11-22T17:58:15.845673Z",
     "start_time": "2021-11-22T17:58:15.619033Z"
    }
   },
   "outputs": [
    {
     "data": {
      "image/png": "[encoded data removed]",
      "text/plain": [
       "<Figure size 720x86.4 with 1 Axes>"
      ]
     },
     "metadata": {
      "needs_background": "light"
     },
     "output_type": "display_data"
    }
   ],
   "source": [
    "barh(test, 'SchoolHoliday')"
   ]
  },
  {
   "cell_type": "markdown",
   "id": "loved-illustration",
   "metadata": {},
   "source": [
    "The part of ones is greater than in train dataset. Probably in the time range of the test dataset there were autumn holidays."
   ]
  },
  {
   "cell_type": "markdown",
   "id": "quarterly-columbus",
   "metadata": {},
   "source": [
    "# Что ещё сделать"
   ]
  },
  {
   "cell_type": "markdown",
   "id": "valid-applicant",
   "metadata": {},
   "source": [
    "- Рассмотреть фичи, которые имеют пропущенные значения, и описать, как можно их заменить\n",
    "- Возможно показать связь каких-либо фич"
   ]
  }
 ],
 "metadata": {
  "kernelspec": {
   "display_name": "Python 3",
   "language": "python",
   "name": "python3"
  },
  "language_info": {
   "codemirror_mode": {
    "name": "ipython",
    "version": 3
   },
   "file_extension": ".py",
   "mimetype": "text/x-python",
   "name": "python",
   "nbconvert_exporter": "python",
   "pygments_lexer": "ipython3",
   "version": "3.9.0"
  },
  "toc": {
   "base_numbering": 1,
   "nav_menu": {},
   "number_sections": true,
   "sideBar": true,
   "skip_h1_title": false,
   "title_cell": "Table of Contents",
   "title_sidebar": "Contents",
   "toc_cell": false,
   "toc_position": {
    "height": "477px",
    "left": "44px",
    "top": "201.125px",
    "width": "228.188px"
   },
   "toc_section_display": true,
   "toc_window_display": true
  }
 },
 "nbformat": 4,
 "nbformat_minor": 5
}
