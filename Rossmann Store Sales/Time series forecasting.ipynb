{
 "cells": [
  {
   "cell_type": "code",
   "execution_count": 1,
   "id": "tired-apparatus",
   "metadata": {
    "ExecuteTime": {
     "end_time": "2021-11-25T15:41:13.358724Z",
     "start_time": "2021-11-25T15:41:09.791463Z"
    },
    "execution": {
     "iopub.execute_input": "2021-12-11T19:54:23.682009Z",
     "iopub.status.busy": "2021-12-11T19:54:23.682009Z",
     "iopub.status.idle": "2021-12-11T19:54:40.999338Z",
     "shell.execute_reply": "2021-12-11T19:54:40.996347Z",
     "shell.execute_reply.started": "2021-12-11T19:54:23.682009Z"
    },
    "tags": []
   },
   "outputs": [],
   "source": [
    "import numpy as np\n",
    "import pandas as pd\n",
    "import matplotlib.pyplot as plt\n",
    "from itertools import product\n",
    "from my_modules.plot_and_stat_funcs import *\n",
    "from my_modules.transformations import *\n",
    "import seaborn as sns\n",
    "from functools import partial\n",
    "from sklearn.cluster import KMeans\n",
    "import pickle\n",
    "import datetime\n",
    "\n",
    "from scipy.optimize import minimize\n",
    "from statsmodels.tsa.ar_model import AutoReg"
   ]
  },
  {
   "cell_type": "code",
   "execution_count": 2,
   "id": "appreciated-david",
   "metadata": {
    "execution": {
     "iopub.execute_input": "2021-12-11T19:54:41.009323Z",
     "iopub.status.busy": "2021-12-11T19:54:41.007324Z",
     "iopub.status.idle": "2021-12-11T19:54:41.045269Z",
     "shell.execute_reply": "2021-12-11T19:54:41.042269Z",
     "shell.execute_reply.started": "2021-12-11T19:54:41.009323Z"
    },
    "tags": []
   },
   "outputs": [],
   "source": [
    "def RMSPE(y_true, y_pred):\n",
    "    y_t, y_p = np.array(y_true), np.array(y_pred)\n",
    "    y_t, y_p = y_t[y_t != 0], y_p[y_t != 0]\n",
    "    return np.sqrt(np.mean(\n",
    "        ((y_t - y_p) / y_t)**2\n",
    "    ))"
   ]
  },
  {
   "cell_type": "code",
   "execution_count": 3,
   "id": "compliant-pathology",
   "metadata": {
    "ExecuteTime": {
     "end_time": "2021-11-25T15:48:03.899141Z",
     "start_time": "2021-11-25T15:48:02.155586Z"
    },
    "execution": {
     "iopub.execute_input": "2021-12-11T19:54:41.055254Z",
     "iopub.status.busy": "2021-12-11T19:54:41.053263Z",
     "iopub.status.idle": "2021-12-11T19:54:48.018819Z",
     "shell.execute_reply": "2021-12-11T19:54:48.015821Z",
     "shell.execute_reply.started": "2021-12-11T19:54:41.054254Z"
    },
    "tags": []
   },
   "outputs": [],
   "source": [
    "X_train = pd.read_csv('data/X_train.csv')\n",
    "y_train = pd.read_csv('data/y_train.csv').target\n",
    "X_val = pd.read_csv('data/X_val.csv')\n",
    "y_val = pd.read_csv('data/y_val.csv').target"
   ]
  },
  {
   "cell_type": "code",
   "execution_count": 4,
   "id": "afraid-yacht",
   "metadata": {
    "execution": {
     "iopub.execute_input": "2021-12-11T19:54:48.023809Z",
     "iopub.status.busy": "2021-12-11T19:54:48.022815Z",
     "iopub.status.idle": "2021-12-11T19:54:48.556683Z",
     "shell.execute_reply": "2021-12-11T19:54:48.556683Z",
     "shell.execute_reply.started": "2021-12-11T19:54:48.023809Z"
    },
    "tags": []
   },
   "outputs": [],
   "source": [
    "train_sales = pd.concat([X_train, y_train], axis=1)\n",
    "val_sales = pd.concat([X_val, y_val], axis=1)\n",
    "ts = time_series(train_sales, store_id=1)\n",
    "val_ts = time_series(val_sales, store_id=1, all_values=range(894, 894 + 48))"
   ]
  },
  {
   "cell_type": "code",
   "execution_count": 5,
   "id": "potential-measure",
   "metadata": {
    "execution": {
     "iopub.execute_input": "2021-12-11T19:54:48.556683Z",
     "iopub.status.busy": "2021-12-11T19:54:48.556683Z",
     "iopub.status.idle": "2021-12-11T19:55:20.209115Z",
     "shell.execute_reply": "2021-12-11T19:55:20.209115Z",
     "shell.execute_reply.started": "2021-12-11T19:54:48.556683Z"
    },
    "tags": []
   },
   "outputs": [],
   "source": [
    "store_ids = train_sales.Store.unique()\n",
    "train_days = np.sort(train_sales.ordered_day.unique())\n",
    "train_time_series = pd.DataFrame({\n",
    "                store_id: time_series(train_sales, store_id=store_id, all_values=train_days).values\n",
    "                for store_id in store_ids\n",
    "            })"
   ]
  },
  {
   "cell_type": "code",
   "execution_count": 6,
   "id": "fixed-heading",
   "metadata": {
    "execution": {
     "iopub.execute_input": "2021-12-11T19:55:20.209115Z",
     "iopub.status.busy": "2021-12-11T19:55:20.209115Z",
     "iopub.status.idle": "2021-12-11T19:55:20.510908Z",
     "shell.execute_reply": "2021-12-11T19:55:20.510908Z",
     "shell.execute_reply.started": "2021-12-11T19:55:20.209115Z"
    },
    "tags": []
   },
   "outputs": [],
   "source": [
    "all_sales = pd.concat([train_sales, val_sales], axis=0, ignore_index=True)"
   ]
  },
  {
   "cell_type": "code",
   "execution_count": 22,
   "id": "understood-mechanism",
   "metadata": {
    "execution": {
     "iopub.execute_input": "2021-12-12T06:50:16.463047Z",
     "iopub.status.busy": "2021-12-12T06:50:16.462055Z",
     "iopub.status.idle": "2021-12-12T06:50:59.549502Z",
     "shell.execute_reply": "2021-12-12T06:50:59.547503Z",
     "shell.execute_reply.started": "2021-12-12T06:50:16.463047Z"
    }
   },
   "outputs": [],
   "source": [
    "all_store_ids = all_sales.Store.unique()\n",
    "all_days = np.sort(all_sales.ordered_day.unique())\n",
    "all_time_series = pd.DataFrame({\n",
    "                store_id: time_series(all_sales, store_id=store_id, all_values=all_days).values\n",
    "                for store_id in store_ids\n",
    "            })"
   ]
  },
  {
   "cell_type": "markdown",
   "id": "motivated-spotlight",
   "metadata": {},
   "source": [
    "# TripleSmoothingModel"
   ]
  },
  {
   "cell_type": "markdown",
   "id": "offshore-praise",
   "metadata": {},
   "source": [
    "$l_x=\\alpha(y_x-s_{x-L})+(1-\\alpha)(l_{x-1}+b_{x-1})$  \n",
    "$b_x=\\beta(l_x-l_{x-1})+(1-\\beta)b_{x-1}$  \n",
    "$s_x=\\gamma(y_x-l_x)+(1-\\gamma)s_{x-L}$  \n",
    "$\\hat{y}_{x+m}=l_x+mb_x+s_{x-L+1+(m-1)modL}$"
   ]
  },
  {
   "cell_type": "code",
   "execution_count": 7,
   "id": "humanitarian-strengthening",
   "metadata": {
    "execution": {
     "iopub.execute_input": "2021-12-11T19:55:20.510908Z",
     "iopub.status.busy": "2021-12-11T19:55:20.510908Z",
     "iopub.status.idle": "2021-12-11T19:55:20.573406Z",
     "shell.execute_reply": "2021-12-11T19:55:20.573406Z",
     "shell.execute_reply.started": "2021-12-11T19:55:20.510908Z"
    },
    "tags": []
   },
   "outputs": [],
   "source": [
    "class HoltWinters:\n",
    "\n",
    "    \"\"\"\n",
    "    \n",
    "    # series - исходный временной ряд\n",
    "    # slen - длина сезона\n",
    "    # alpha, beta, gamma - коэффициенты модели Хольта-Винтерса\n",
    "\n",
    "    \"\"\"\n",
    "\n",
    "    def __init__(self, slen, alpha, beta, gamma):\n",
    "        self.slen = slen\n",
    "        self.alpha = alpha\n",
    "        self.beta = beta\n",
    "        self.gamma = gamma\n",
    "\n",
    "    def initial_trend(self):\n",
    "        s = 0.0\n",
    "        for i in range(self.slen):\n",
    "            s += (self.series[i+self.slen] - self.series[i]) / self.slen\n",
    "        return s / self.slen  \n",
    "\n",
    "    def initial_seasonal_components(self):\n",
    "        seasonals = {}\n",
    "        season_averages = []\n",
    "        n_seasons = int(len(self.series)/self.slen)\n",
    "        # вычисляем сезонные средние\n",
    "        for j in range(n_seasons):\n",
    "            season_averages.append(sum(self.series[self.slen*j:self.slen*j+self.slen])/float(self.slen))\n",
    "        # вычисляем начальные значения\n",
    "        for i in range(self.slen):\n",
    "            sum_of_vals_over_avg = 0.0\n",
    "            for j in range(n_seasons):\n",
    "                sum_of_vals_over_avg += self.series[self.slen*j+i]-season_averages[j]\n",
    "            seasonals[i] = sum_of_vals_over_avg/n_seasons\n",
    "        return seasonals   \n",
    "\n",
    "    def fit(self, series):\n",
    "        self.series = series\n",
    "        self.result = []\n",
    "        self.Smooth = []\n",
    "        self.Season = []\n",
    "        self.Trend = []\n",
    "        \n",
    "        # инициализируем значения компонент\n",
    "        self.seasonals = self.initial_seasonal_components()\n",
    "        smooth = self.series[0]\n",
    "        trend = self.initial_trend()\n",
    "        self.result.append(self.series[0])\n",
    "        self.Smooth.append(smooth)\n",
    "        self.Trend.append(trend)\n",
    "        self.Season.append(self.seasonals[0])\n",
    "\n",
    "\n",
    "        for i in range(1, len(self.series)):\n",
    "            val = self.series[i]\n",
    "            last_smooth, smooth = smooth, self.alpha*(val-self.seasonals[i%self.slen]) + (1-self.alpha)*(smooth+trend)\n",
    "            trend = self.beta * (smooth-last_smooth) + (1-self.beta)*trend\n",
    "            self.seasonals[i%self.slen] = self.gamma*(val-smooth) + (1-self.gamma)*self.seasonals[i%self.slen]\n",
    "            self.result.append(smooth+trend+self.seasonals[i%self.slen])\n",
    "            \n",
    "            self.Smooth.append(smooth)\n",
    "            self.Trend.append(trend)\n",
    "            self.Season.append(self.seasonals[i % self.slen])\n",
    "\n",
    "\n",
    "        self.Smooth.append(smooth)\n",
    "        self.Trend.append(trend)\n",
    "        self.Season.append(self.seasonals[i % self.slen])\n",
    "        return np.array(self.result)\n",
    "    \n",
    "    def predict(self, n_preds):\n",
    "        smooth = self.Smooth[-1]\n",
    "        trend = self.Trend[-1]\n",
    "        result = []\n",
    "        for i in range(len(self.series), len(self.series)+n_preds):\n",
    "            m = i - len(self.series) + 1\n",
    "            result.append((smooth + m*trend) + self.seasonals[i%self.slen])\n",
    "\n",
    "        return np.array(result)\n",
    "    \n",
    "    def predict_from_start(self, n_preds):\n",
    "        return np.append(self.result, self.predict(n_preds), axis=0)"
   ]
  },
  {
   "cell_type": "code",
   "execution_count": 8,
   "id": "minimal-seating",
   "metadata": {
    "execution": {
     "iopub.execute_input": "2021-12-11T19:55:20.573406Z",
     "iopub.status.busy": "2021-12-11T19:55:20.573406Z",
     "iopub.status.idle": "2021-12-11T19:55:20.620282Z",
     "shell.execute_reply": "2021-12-11T19:55:20.620282Z",
     "shell.execute_reply.started": "2021-12-11T19:55:20.573406Z"
    },
    "tags": []
   },
   "outputs": [],
   "source": [
    "class TripleExpSmoothingCommon:\n",
    "    \n",
    "    def __init__(self, slen, alpha, beta, gamma):\n",
    "        self.slen = slen\n",
    "        self.alpha = alpha\n",
    "        self.beta = beta\n",
    "        self.gamma = gamma\n",
    "    \n",
    "    def fit(self, all_time_series):\n",
    "        \n",
    "        self.train_days = np.sort(all_time_series.index)\n",
    "        self.store_ids = np.array(all_time_series.columns)\n",
    "        self.all_time_series = all_time_series.copy()\n",
    "        \n",
    "        self.model = HoltWinters(self.slen, self.alpha, self.beta, self.gamma)\n",
    "        self.model.fit(self.all_time_series.values)\n",
    "        return self\n",
    "    \n",
    "    def predict(self, X_test):\n",
    "        stores = X_test.Store.unique()\n",
    "        n_preds = X_test.ordered_day.max() - self.train_days.max()\n",
    "        prediction = self.model.predict(n_preds)\n",
    "        prediction = pd.DataFrame(prediction, columns=self.all_time_series.columns)\\\n",
    "                .unstack().reset_index().rename(columns={'level_0': 'Store', 'level_1': 'ordered_day', 0: 'prediction'})\n",
    "        prediction.ordered_day += self.train_days.max() + 1\n",
    "        return X_test.merge(prediction, on=['Store', 'ordered_day']).prediction.values"
   ]
  },
  {
   "cell_type": "code",
   "execution_count": 9,
   "id": "tender-cannon",
   "metadata": {
    "execution": {
     "iopub.execute_input": "2021-12-11T19:55:20.635911Z",
     "iopub.status.busy": "2021-12-11T19:55:20.635911Z",
     "iopub.status.idle": "2021-12-11T19:55:20.651528Z",
     "shell.execute_reply": "2021-12-11T19:55:20.651528Z",
     "shell.execute_reply.started": "2021-12-11T19:55:20.635911Z"
    },
    "tags": []
   },
   "outputs": [],
   "source": [
    "def tesc_err(x, slen, val_sales=val_sales, all_time_series=train_time_series):\n",
    "    tesc = TripleExpSmoothingCommon(slen, *x).fit(all_time_series=all_time_series)\n",
    "    return RMSPE(val_sales.target, tesc.predict(val_sales))"
   ]
  },
  {
   "cell_type": "markdown",
   "id": "median-heavy",
   "metadata": {
    "tags": []
   },
   "source": [
    "# ClusteredModel"
   ]
  },
  {
   "cell_type": "code",
   "execution_count": 10,
   "id": "burning-yukon",
   "metadata": {
    "execution": {
     "iopub.execute_input": "2021-12-11T19:55:20.662511Z",
     "iopub.status.busy": "2021-12-11T19:55:20.651528Z",
     "iopub.status.idle": "2021-12-11T19:55:20.710653Z",
     "shell.execute_reply": "2021-12-11T19:55:20.710653Z",
     "shell.execute_reply.started": "2021-12-11T19:55:20.662511Z"
    },
    "tags": []
   },
   "outputs": [],
   "source": [
    "class ClusteredModel:\n",
    "    def __init__(self, n_clusters):\n",
    "        self.n_clusters = n_clusters\n",
    "\n",
    "    def fit(self, val_sales=val_sales, all_time_series=train_time_series):\n",
    "        all_time_series = all_time_series.loc[:, all_time_series.columns.sort_values()]\n",
    "        all_ts = all_time_series.values.T\n",
    "        kmeans = KMeans(n_clusters=self.n_clusters, random_state=481).fit(all_ts)\n",
    "        labels = kmeans.labels_\n",
    "\n",
    "        self.store_ids = {\n",
    "            label: all_time_series.columns[labels == label]\n",
    "            for label in range(self.n_clusters)\n",
    "        }\n",
    "        self.models = []\n",
    "        cube_vertices = list(product([0, 1], repeat=3))\n",
    "        for label in range(self.n_clusters):\n",
    "            ts_label = all_time_series.loc[:, labels==label]\n",
    "            val = val_sales[val_sales.Store.isin(self.store_ids[label])]\n",
    "            errs = []\n",
    "            for vertex in cube_vertices:\n",
    "                res = minimize(\n",
    "                    lambda x: tesc_err(x, 14, val_sales=val, all_time_series=ts_label),\n",
    "                    x0=vertex,\n",
    "                    bounds=[(0, 1), (0, 1), (0, 1)]\n",
    "                )\n",
    "                errs.append((res.x, res.fun))\n",
    "            best_params, err = min(errs, key=lambda x: x[1])\n",
    "            tesc = TripleExpSmoothingCommon(14, *best_params).fit(all_time_series=ts_label)\n",
    "            self.models.append(tesc)\n",
    "\n",
    "    def refit(self, all_time_series=train_time_series):\n",
    "        for label in range(self.n_clusters):\n",
    "            ts_label = all_time_series.loc[:, all_time_series.columns.isin(self.store_ids[label])]\n",
    "            self.models[label].fit(ts_label)\n",
    "\n",
    "    def predict(self, X_test):\n",
    "        \n",
    "        pred = np.zeros(len(X_test))\n",
    "        for label in range(self.n_clusters):\n",
    "            store_mask = X_test.Store.isin(self.store_ids[label])\n",
    "            if (~store_mask).all():\n",
    "                continue\n",
    "            pred[store_mask] = self.models[label].predict(X_test[store_mask])\n",
    "        return pred"
   ]
  },
  {
   "cell_type": "markdown",
   "id": "graphic-richmond",
   "metadata": {},
   "source": [
    "One model for all"
   ]
  },
  {
   "cell_type": "code",
   "execution_count": 11,
   "id": "representative-bonus",
   "metadata": {
    "execution": {
     "iopub.execute_input": "2021-12-11T19:55:20.710653Z",
     "iopub.status.busy": "2021-12-11T19:55:20.710653Z",
     "iopub.status.idle": "2021-12-11T20:03:20.558861Z",
     "shell.execute_reply": "2021-12-11T20:03:20.558861Z",
     "shell.execute_reply.started": "2021-12-11T19:55:20.710653Z"
    },
    "tags": []
   },
   "outputs": [],
   "source": [
    "cm_common = ClusteredModel(1)\n",
    "cm_common.fit(val_sales, train_time_series)\n",
    "cm_common_prediction = cm_common.predict(val_sales)"
   ]
  },
  {
   "cell_type": "code",
   "execution_count": 12,
   "id": "potential-overview",
   "metadata": {
    "execution": {
     "iopub.execute_input": "2021-12-11T20:03:20.558861Z",
     "iopub.status.busy": "2021-12-11T20:03:20.558861Z",
     "iopub.status.idle": "2021-12-11T20:03:20.608567Z",
     "shell.execute_reply": "2021-12-11T20:03:20.605577Z",
     "shell.execute_reply.started": "2021-12-11T20:03:20.558861Z"
    }
   },
   "outputs": [
    {
     "data": {
      "text/plain": [
       "0.19432526024571975"
      ]
     },
     "execution_count": 12,
     "metadata": {},
     "output_type": "execute_result"
    }
   ],
   "source": [
    "RMSPE(val_sales.target, cm_common_prediction)"
   ]
  },
  {
   "cell_type": "markdown",
   "id": "different-greensboro",
   "metadata": {},
   "source": [
    "Different models for different clusters"
   ]
  },
  {
   "cell_type": "code",
   "execution_count": 13,
   "id": "equivalent-array",
   "metadata": {
    "execution": {
     "iopub.execute_input": "2021-12-11T20:03:20.613561Z",
     "iopub.status.busy": "2021-12-11T20:03:20.612563Z",
     "iopub.status.idle": "2021-12-12T01:14:38.279114Z",
     "shell.execute_reply": "2021-12-12T01:14:38.279114Z",
     "shell.execute_reply.started": "2021-12-11T20:03:20.613561Z"
    }
   },
   "outputs": [],
   "source": [
    "cm = ClusteredModel(100)\n",
    "cm.fit(val_sales, train_time_series)\n",
    "cm_prediction = cm.predict(val_sales)"
   ]
  },
  {
   "cell_type": "code",
   "execution_count": 14,
   "id": "impossible-sheet",
   "metadata": {
    "execution": {
     "iopub.execute_input": "2021-12-12T01:14:38.279114Z",
     "iopub.status.busy": "2021-12-12T01:14:38.279114Z",
     "iopub.status.idle": "2021-12-12T01:14:38.328419Z",
     "shell.execute_reply": "2021-12-12T01:14:38.325426Z",
     "shell.execute_reply.started": "2021-12-12T01:14:38.279114Z"
    }
   },
   "outputs": [
    {
     "data": {
      "text/plain": [
       "0.18072544850653002"
      ]
     },
     "execution_count": 14,
     "metadata": {},
     "output_type": "execute_result"
    }
   ],
   "source": [
    "RMSPE(val_sales.target, cm_prediction)"
   ]
  },
  {
   "cell_type": "code",
   "execution_count": 18,
   "id": "alternative-suspension",
   "metadata": {
    "execution": {
     "iopub.execute_input": "2021-12-12T06:01:04.845873Z",
     "iopub.status.busy": "2021-12-12T06:01:04.844879Z",
     "iopub.status.idle": "2021-12-12T06:01:10.662703Z",
     "shell.execute_reply": "2021-12-12T06:01:10.662703Z",
     "shell.execute_reply.started": "2021-12-12T06:01:04.845873Z"
    }
   },
   "outputs": [],
   "source": [
    "with open('data/ClusteredModel.pickle', 'wb') as f:\n",
    "    pickle.dump(cm, f)"
   ]
  },
  {
   "cell_type": "markdown",
   "id": "deluxe-marsh",
   "metadata": {},
   "source": [
    "# Autoregression"
   ]
  },
  {
   "cell_type": "code",
   "execution_count": 15,
   "id": "institutional-webmaster",
   "metadata": {
    "execution": {
     "iopub.execute_input": "2021-12-12T01:14:38.334410Z",
     "iopub.status.busy": "2021-12-12T01:14:38.333416Z",
     "iopub.status.idle": "2021-12-12T01:14:38.376342Z",
     "shell.execute_reply": "2021-12-12T01:14:38.373345Z",
     "shell.execute_reply.started": "2021-12-12T01:14:38.334410Z"
    },
    "tags": []
   },
   "outputs": [],
   "source": [
    "class ARPredictor:\n",
    "    def __init__(self, lags):\n",
    "        self.lags = lags\n",
    "        \n",
    "    def fit(self, all_time_series=all_time_series):\n",
    "        \n",
    "        self.train_days = np.array(all_time_series.index)\n",
    "        self.store_ids = all_time_series.columns.unique()\n",
    "        self.all_time_series = all_time_series.copy()\n",
    "               \n",
    "        self.all_models = {\n",
    "            store_id: self.fit_model(self.all_time_series[store_id])\n",
    "            for store_id in self.store_ids\n",
    "        }\n",
    "        return self\n",
    "    \n",
    "    def fit_model(self, ts):\n",
    "        return AutoReg(ts.values, self.lags, old_names=True).fit()\n",
    "    \n",
    "    def predict_time_series(self, auto_reg_model, n_preds):\n",
    "        start_day = self.train_days.max() + 1\n",
    "        return auto_reg_model.predict(start=start_day, end=start_day + n_preds - 1)\n",
    "    \n",
    "    def predict(self, X_test):\n",
    "        test_stores = X_test.Store.unique()\n",
    "        all_days = np.sort(X_test.ordered_day.unique())\n",
    "        n_preds = all_days.max() - self.train_days.max()\n",
    "        start_pred, end_pred = self.train_days.max() + 1, all_days.max()\n",
    "        predictions = [\n",
    "            list(zip(\n",
    "                [store_id] * n_preds,\n",
    "                range(start_pred, end_pred + 1),\n",
    "                self.predict_time_series(self.all_models[store_id], n_preds)\n",
    "            ))\n",
    "            for store_id in test_stores\n",
    "        ]\n",
    "        predictions = np.reshape(predictions, (np.size(predictions) // 3, 3))\n",
    "        predictions = pd.DataFrame(predictions, columns=['Store', 'ordered_day', 'prediction'])\n",
    "        return X_test.merge(predictions, on=['Store', 'ordered_day'])[['Store', 'ordered_day', 'prediction']].prediction"
   ]
  },
  {
   "cell_type": "code",
   "execution_count": 19,
   "id": "loving-calculation",
   "metadata": {
    "execution": {
     "iopub.execute_input": "2021-12-12T06:35:52.371731Z",
     "iopub.status.busy": "2021-12-12T06:35:52.370732Z",
     "iopub.status.idle": "2021-12-12T06:47:17.388021Z",
     "shell.execute_reply": "2021-12-12T06:47:17.383932Z",
     "shell.execute_reply.started": "2021-12-12T06:35:52.371731Z"
    },
    "tags": []
   },
   "outputs": [],
   "source": [
    "arp_errs = []\n",
    "lag_values = range(1, 31)\n",
    "for lags in lag_values:\n",
    "    arp = ARPredictor(lags).fit(train_time_series)\n",
    "    val_predict = arp.predict(val_sales)\n",
    "    arp_errs.append(RMSPE(val_sales.target, val_predict))"
   ]
  },
  {
   "cell_type": "code",
   "execution_count": 20,
   "id": "public-citation",
   "metadata": {
    "execution": {
     "iopub.execute_input": "2021-12-12T06:47:17.400015Z",
     "iopub.status.busy": "2021-12-12T06:47:17.398018Z",
     "iopub.status.idle": "2021-12-12T06:47:18.108848Z",
     "shell.execute_reply": "2021-12-12T06:47:18.106845Z",
     "shell.execute_reply.started": "2021-12-12T06:47:17.399014Z"
    },
    "tags": []
   },
   "outputs": [
    {
     "data": {
      "image/png": "[encoded data removed]",
      "text/plain": [
       "<Figure size 864x504 with 1 Axes>"
      ]
     },
     "metadata": {
      "needs_background": "light"
     },
     "output_type": "display_data"
    }
   ],
   "source": [
    "plt.figure(figsize=(12, 7))\n",
    "plt.plot(lag_values, arp_errs)\n",
    "plt.show()"
   ]
  },
  {
   "cell_type": "code",
   "execution_count": 21,
   "id": "handled-genius",
   "metadata": {
    "execution": {
     "iopub.execute_input": "2021-12-12T06:47:18.115842Z",
     "iopub.status.busy": "2021-12-12T06:47:18.113838Z",
     "iopub.status.idle": "2021-12-12T06:47:18.140797Z",
     "shell.execute_reply": "2021-12-12T06:47:18.137801Z",
     "shell.execute_reply.started": "2021-12-12T06:47:18.114835Z"
    },
    "tags": []
   },
   "outputs": [
    {
     "data": {
      "text/plain": [
       "0.21975773107170152"
      ]
     },
     "execution_count": 21,
     "metadata": {},
     "output_type": "execute_result"
    }
   ],
   "source": [
    "min(arp_errs)"
   ]
  },
  {
   "cell_type": "markdown",
   "id": "educated-minutes",
   "metadata": {},
   "source": [
    "The result is worse than for clustered model."
   ]
  },
  {
   "cell_type": "markdown",
   "id": "atlantic-sheep",
   "metadata": {},
   "source": [
    "Submitting"
   ]
  },
  {
   "cell_type": "code",
   "execution_count": 33,
   "id": "amber-development",
   "metadata": {
    "execution": {
     "iopub.execute_input": "2021-12-12T07:00:55.268755Z",
     "iopub.status.busy": "2021-12-12T07:00:55.267757Z",
     "iopub.status.idle": "2021-12-12T07:00:55.631190Z",
     "shell.execute_reply": "2021-12-12T07:00:55.628191Z",
     "shell.execute_reply.started": "2021-12-12T07:00:55.268755Z"
    },
    "tags": []
   },
   "outputs": [],
   "source": [
    "X_test = pd.read_csv('data/X_test.csv')"
   ]
  },
  {
   "cell_type": "code",
   "execution_count": 34,
   "id": "yellow-pottery",
   "metadata": {
    "execution": {
     "iopub.execute_input": "2021-12-12T07:00:55.637177Z",
     "iopub.status.busy": "2021-12-12T07:00:55.636180Z",
     "iopub.status.idle": "2021-12-12T07:00:55.726040Z",
     "shell.execute_reply": "2021-12-12T07:00:55.723044Z",
     "shell.execute_reply.started": "2021-12-12T07:00:55.637177Z"
    },
    "tags": []
   },
   "outputs": [
    {
     "data": {
      "text/html": [
       "<div>\n",
       "<style scoped>\n",
       "    .dataframe tbody tr th:only-of-type {\n",
       "        vertical-align: middle;\n",
       "    }\n",
       "\n",
       "    .dataframe tbody tr th {\n",
       "        vertical-align: top;\n",
       "    }\n",
       "\n",
       "    .dataframe thead th {\n",
       "        text-align: right;\n",
       "    }\n",
       "</style>\n",
       "<table border=\"1\" class=\"dataframe\">\n",
       "  <thead>\n",
       "    <tr style=\"text-align: right;\">\n",
       "      <th></th>\n",
       "      <th>Store</th>\n",
       "      <th>DayOfWeek</th>\n",
       "      <th>Promo</th>\n",
       "      <th>StateHoliday</th>\n",
       "      <th>SchoolHoliday</th>\n",
       "      <th>ordered_day</th>\n",
       "      <th>ordered_week</th>\n",
       "      <th>ordered_month</th>\n",
       "      <th>MonthOfYear</th>\n",
       "      <th>Promo2</th>\n",
       "      <th>...</th>\n",
       "      <th>Assortment_c</th>\n",
       "      <th>EncodedDistance</th>\n",
       "      <th>EncodedCompetitionMonthsFromStart</th>\n",
       "      <th>EncodedPromo2WeeksFromStart</th>\n",
       "      <th>PromoInterval_</th>\n",
       "      <th>PromoInterval_Jan,Apr,Jul,Oct</th>\n",
       "      <th>PromoInterval_Feb,May,Aug,Nov</th>\n",
       "      <th>PromoInterval_Mar,Jun,Sept,Dec</th>\n",
       "      <th>Encoded_Customers</th>\n",
       "      <th>Encoded_sum_target</th>\n",
       "    </tr>\n",
       "  </thead>\n",
       "  <tbody>\n",
       "    <tr>\n",
       "      <th>0</th>\n",
       "      <td>1</td>\n",
       "      <td>4</td>\n",
       "      <td>1</td>\n",
       "      <td>0</td>\n",
       "      <td>0</td>\n",
       "      <td>989</td>\n",
       "      <td>141</td>\n",
       "      <td>32</td>\n",
       "      <td>8</td>\n",
       "      <td>0</td>\n",
       "      <td>...</td>\n",
       "      <td>0.0</td>\n",
       "      <td>-0.321681</td>\n",
       "      <td>0.940159</td>\n",
       "      <td>0.0</td>\n",
       "      <td>1.0</td>\n",
       "      <td>0.0</td>\n",
       "      <td>0.0</td>\n",
       "      <td>0.0</td>\n",
       "      <td>-0.362074</td>\n",
       "      <td>-0.900261</td>\n",
       "    </tr>\n",
       "    <tr>\n",
       "      <th>1</th>\n",
       "      <td>1</td>\n",
       "      <td>3</td>\n",
       "      <td>1</td>\n",
       "      <td>0</td>\n",
       "      <td>0</td>\n",
       "      <td>988</td>\n",
       "      <td>141</td>\n",
       "      <td>32</td>\n",
       "      <td>8</td>\n",
       "      <td>0</td>\n",
       "      <td>...</td>\n",
       "      <td>0.0</td>\n",
       "      <td>-0.321681</td>\n",
       "      <td>0.940159</td>\n",
       "      <td>0.0</td>\n",
       "      <td>1.0</td>\n",
       "      <td>0.0</td>\n",
       "      <td>0.0</td>\n",
       "      <td>0.0</td>\n",
       "      <td>-0.362074</td>\n",
       "      <td>-0.900261</td>\n",
       "    </tr>\n",
       "    <tr>\n",
       "      <th>2</th>\n",
       "      <td>1</td>\n",
       "      <td>2</td>\n",
       "      <td>1</td>\n",
       "      <td>0</td>\n",
       "      <td>0</td>\n",
       "      <td>987</td>\n",
       "      <td>141</td>\n",
       "      <td>32</td>\n",
       "      <td>8</td>\n",
       "      <td>0</td>\n",
       "      <td>...</td>\n",
       "      <td>0.0</td>\n",
       "      <td>-0.321681</td>\n",
       "      <td>0.940159</td>\n",
       "      <td>0.0</td>\n",
       "      <td>1.0</td>\n",
       "      <td>0.0</td>\n",
       "      <td>0.0</td>\n",
       "      <td>0.0</td>\n",
       "      <td>-0.362074</td>\n",
       "      <td>-0.900261</td>\n",
       "    </tr>\n",
       "    <tr>\n",
       "      <th>3</th>\n",
       "      <td>1</td>\n",
       "      <td>1</td>\n",
       "      <td>1</td>\n",
       "      <td>0</td>\n",
       "      <td>0</td>\n",
       "      <td>986</td>\n",
       "      <td>140</td>\n",
       "      <td>32</td>\n",
       "      <td>8</td>\n",
       "      <td>0</td>\n",
       "      <td>...</td>\n",
       "      <td>0.0</td>\n",
       "      <td>-0.321681</td>\n",
       "      <td>0.940159</td>\n",
       "      <td>0.0</td>\n",
       "      <td>1.0</td>\n",
       "      <td>0.0</td>\n",
       "      <td>0.0</td>\n",
       "      <td>0.0</td>\n",
       "      <td>-0.362074</td>\n",
       "      <td>-0.900261</td>\n",
       "    </tr>\n",
       "    <tr>\n",
       "      <th>4</th>\n",
       "      <td>1</td>\n",
       "      <td>6</td>\n",
       "      <td>0</td>\n",
       "      <td>0</td>\n",
       "      <td>0</td>\n",
       "      <td>984</td>\n",
       "      <td>140</td>\n",
       "      <td>32</td>\n",
       "      <td>8</td>\n",
       "      <td>0</td>\n",
       "      <td>...</td>\n",
       "      <td>0.0</td>\n",
       "      <td>-0.321681</td>\n",
       "      <td>0.940159</td>\n",
       "      <td>0.0</td>\n",
       "      <td>1.0</td>\n",
       "      <td>0.0</td>\n",
       "      <td>0.0</td>\n",
       "      <td>0.0</td>\n",
       "      <td>-0.362074</td>\n",
       "      <td>-0.900261</td>\n",
       "    </tr>\n",
       "  </tbody>\n",
       "</table>\n",
       "<p>5 rows × 26 columns</p>\n",
       "</div>"
      ],
      "text/plain": [
       "   Store  DayOfWeek  Promo  StateHoliday  SchoolHoliday  ordered_day  \\\n",
       "0      1          4      1             0              0          989   \n",
       "1      1          3      1             0              0          988   \n",
       "2      1          2      1             0              0          987   \n",
       "3      1          1      1             0              0          986   \n",
       "4      1          6      0             0              0          984   \n",
       "\n",
       "   ordered_week  ordered_month  MonthOfYear  Promo2  ...  Assortment_c  \\\n",
       "0           141             32            8       0  ...           0.0   \n",
       "1           141             32            8       0  ...           0.0   \n",
       "2           141             32            8       0  ...           0.0   \n",
       "3           140             32            8       0  ...           0.0   \n",
       "4           140             32            8       0  ...           0.0   \n",
       "\n",
       "   EncodedDistance  EncodedCompetitionMonthsFromStart  \\\n",
       "0        -0.321681                           0.940159   \n",
       "1        -0.321681                           0.940159   \n",
       "2        -0.321681                           0.940159   \n",
       "3        -0.321681                           0.940159   \n",
       "4        -0.321681                           0.940159   \n",
       "\n",
       "   EncodedPromo2WeeksFromStart  PromoInterval_  PromoInterval_Jan,Apr,Jul,Oct  \\\n",
       "0                          0.0             1.0                            0.0   \n",
       "1                          0.0             1.0                            0.0   \n",
       "2                          0.0             1.0                            0.0   \n",
       "3                          0.0             1.0                            0.0   \n",
       "4                          0.0             1.0                            0.0   \n",
       "\n",
       "   PromoInterval_Feb,May,Aug,Nov  PromoInterval_Mar,Jun,Sept,Dec  \\\n",
       "0                            0.0                             0.0   \n",
       "1                            0.0                             0.0   \n",
       "2                            0.0                             0.0   \n",
       "3                            0.0                             0.0   \n",
       "4                            0.0                             0.0   \n",
       "\n",
       "   Encoded_Customers  Encoded_sum_target  \n",
       "0          -0.362074           -0.900261  \n",
       "1          -0.362074           -0.900261  \n",
       "2          -0.362074           -0.900261  \n",
       "3          -0.362074           -0.900261  \n",
       "4          -0.362074           -0.900261  \n",
       "\n",
       "[5 rows x 26 columns]"
      ]
     },
     "execution_count": 34,
     "metadata": {},
     "output_type": "execute_result"
    }
   ],
   "source": [
    "X_test.head()"
   ]
  },
  {
   "cell_type": "code",
   "execution_count": 26,
   "id": "artistic-digit",
   "metadata": {
    "execution": {
     "iopub.execute_input": "2021-12-12T06:52:26.281311Z",
     "iopub.status.busy": "2021-12-12T06:52:26.279312Z",
     "iopub.status.idle": "2021-12-12T06:52:41.074931Z",
     "shell.execute_reply": "2021-12-12T06:52:41.074931Z",
     "shell.execute_reply.started": "2021-12-12T06:52:26.280308Z"
    }
   },
   "outputs": [],
   "source": [
    "cm.refit(all_time_series)"
   ]
  },
  {
   "cell_type": "code",
   "execution_count": 37,
   "id": "processed-second",
   "metadata": {
    "execution": {
     "iopub.execute_input": "2021-12-12T07:01:22.558791Z",
     "iopub.status.busy": "2021-12-12T07:01:22.557795Z",
     "iopub.status.idle": "2021-12-12T07:01:22.686743Z",
     "shell.execute_reply": "2021-12-12T07:01:22.680755Z",
     "shell.execute_reply.started": "2021-12-12T07:01:22.558791Z"
    },
    "tags": []
   },
   "outputs": [],
   "source": [
    "test = pd.read_csv('data/test.csv')"
   ]
  },
  {
   "cell_type": "code",
   "execution_count": 41,
   "id": "agricultural-situation",
   "metadata": {
    "execution": {
     "iopub.execute_input": "2021-12-12T07:01:39.023241Z",
     "iopub.status.busy": "2021-12-12T07:01:39.022246Z",
     "iopub.status.idle": "2021-12-12T07:01:41.163654Z",
     "shell.execute_reply": "2021-12-12T07:01:41.156661Z",
     "shell.execute_reply.started": "2021-12-12T07:01:39.023241Z"
    },
    "tags": []
   },
   "outputs": [
    {
     "data": {
      "text/html": [
       "<div>\n",
       "<style scoped>\n",
       "    .dataframe tbody tr th:only-of-type {\n",
       "        vertical-align: middle;\n",
       "    }\n",
       "\n",
       "    .dataframe tbody tr th {\n",
       "        vertical-align: top;\n",
       "    }\n",
       "\n",
       "    .dataframe thead th {\n",
       "        text-align: right;\n",
       "    }\n",
       "</style>\n",
       "<table border=\"1\" class=\"dataframe\">\n",
       "  <thead>\n",
       "    <tr style=\"text-align: right;\">\n",
       "      <th></th>\n",
       "      <th>Id</th>\n",
       "      <th>Store</th>\n",
       "      <th>DayOfWeek</th>\n",
       "      <th>Date</th>\n",
       "      <th>Open</th>\n",
       "      <th>Promo</th>\n",
       "      <th>StateHoliday</th>\n",
       "      <th>SchoolHoliday</th>\n",
       "      <th>ordered_day</th>\n",
       "    </tr>\n",
       "  </thead>\n",
       "  <tbody>\n",
       "    <tr>\n",
       "      <th>0</th>\n",
       "      <td>1</td>\n",
       "      <td>1</td>\n",
       "      <td>4</td>\n",
       "      <td>2015-09-17</td>\n",
       "      <td>1.0</td>\n",
       "      <td>1</td>\n",
       "      <td>0</td>\n",
       "      <td>0</td>\n",
       "      <td>989</td>\n",
       "    </tr>\n",
       "    <tr>\n",
       "      <th>1</th>\n",
       "      <td>2</td>\n",
       "      <td>3</td>\n",
       "      <td>4</td>\n",
       "      <td>2015-09-17</td>\n",
       "      <td>1.0</td>\n",
       "      <td>1</td>\n",
       "      <td>0</td>\n",
       "      <td>0</td>\n",
       "      <td>989</td>\n",
       "    </tr>\n",
       "    <tr>\n",
       "      <th>2</th>\n",
       "      <td>3</td>\n",
       "      <td>7</td>\n",
       "      <td>4</td>\n",
       "      <td>2015-09-17</td>\n",
       "      <td>1.0</td>\n",
       "      <td>1</td>\n",
       "      <td>0</td>\n",
       "      <td>0</td>\n",
       "      <td>989</td>\n",
       "    </tr>\n",
       "    <tr>\n",
       "      <th>3</th>\n",
       "      <td>4</td>\n",
       "      <td>8</td>\n",
       "      <td>4</td>\n",
       "      <td>2015-09-17</td>\n",
       "      <td>1.0</td>\n",
       "      <td>1</td>\n",
       "      <td>0</td>\n",
       "      <td>0</td>\n",
       "      <td>989</td>\n",
       "    </tr>\n",
       "    <tr>\n",
       "      <th>4</th>\n",
       "      <td>5</td>\n",
       "      <td>9</td>\n",
       "      <td>4</td>\n",
       "      <td>2015-09-17</td>\n",
       "      <td>1.0</td>\n",
       "      <td>1</td>\n",
       "      <td>0</td>\n",
       "      <td>0</td>\n",
       "      <td>989</td>\n",
       "    </tr>\n",
       "  </tbody>\n",
       "</table>\n",
       "</div>"
      ],
      "text/plain": [
       "   Id  Store  DayOfWeek        Date  Open  Promo StateHoliday  SchoolHoliday  \\\n",
       "0   1      1          4  2015-09-17   1.0      1            0              0   \n",
       "1   2      3          4  2015-09-17   1.0      1            0              0   \n",
       "2   3      7          4  2015-09-17   1.0      1            0              0   \n",
       "3   4      8          4  2015-09-17   1.0      1            0              0   \n",
       "4   5      9          4  2015-09-17   1.0      1            0              0   \n",
       "\n",
       "   ordered_day  \n",
       "0          989  \n",
       "1          989  \n",
       "2          989  \n",
       "3          989  \n",
       "4          989  "
      ]
     },
     "execution_count": 41,
     "metadata": {},
     "output_type": "execute_result"
    }
   ],
   "source": [
    "test['ordered_day'] = test.Date.apply(lambda date: (datetime.datetime.strptime(date, '%Y-%m-%d') - datetime.datetime(2013, 1, 1)).days)\n",
    "test.head()"
   ]
  },
  {
   "cell_type": "code",
   "execution_count": 42,
   "id": "offshore-register",
   "metadata": {
    "execution": {
     "iopub.execute_input": "2021-12-12T07:02:21.961466Z",
     "iopub.status.busy": "2021-12-12T07:02:21.959475Z",
     "iopub.status.idle": "2021-12-12T07:02:24.059228Z",
     "shell.execute_reply": "2021-12-12T07:02:24.059228Z",
     "shell.execute_reply.started": "2021-12-12T07:02:21.961466Z"
    }
   },
   "outputs": [],
   "source": [
    "prediction = cm.predict(X_test).clip(0)"
   ]
  },
  {
   "cell_type": "code",
   "execution_count": 44,
   "id": "fresh-ground",
   "metadata": {
    "execution": {
     "iopub.execute_input": "2021-12-12T07:02:40.496243Z",
     "iopub.status.busy": "2021-12-12T07:02:40.494247Z",
     "iopub.status.idle": "2021-12-12T07:02:40.514206Z",
     "shell.execute_reply": "2021-12-12T07:02:40.510216Z",
     "shell.execute_reply.started": "2021-12-12T07:02:40.495240Z"
    },
    "tags": []
   },
   "outputs": [],
   "source": [
    "X_test['prediction'] = prediction"
   ]
  },
  {
   "cell_type": "code",
   "execution_count": 48,
   "id": "elementary-craps",
   "metadata": {
    "execution": {
     "iopub.execute_input": "2021-12-12T07:05:08.367252Z",
     "iopub.status.busy": "2021-12-12T07:05:08.366259Z",
     "iopub.status.idle": "2021-12-12T07:05:08.454115Z",
     "shell.execute_reply": "2021-12-12T07:05:08.451123Z",
     "shell.execute_reply.started": "2021-12-12T07:05:08.367252Z"
    },
    "tags": []
   },
   "outputs": [
    {
     "data": {
      "text/html": [
       "<div>\n",
       "<style scoped>\n",
       "    .dataframe tbody tr th:only-of-type {\n",
       "        vertical-align: middle;\n",
       "    }\n",
       "\n",
       "    .dataframe tbody tr th {\n",
       "        vertical-align: top;\n",
       "    }\n",
       "\n",
       "    .dataframe thead th {\n",
       "        text-align: right;\n",
       "    }\n",
       "</style>\n",
       "<table border=\"1\" class=\"dataframe\">\n",
       "  <thead>\n",
       "    <tr style=\"text-align: right;\">\n",
       "      <th></th>\n",
       "      <th>Id</th>\n",
       "      <th>Store</th>\n",
       "      <th>ordered_day</th>\n",
       "      <th>prediction</th>\n",
       "    </tr>\n",
       "  </thead>\n",
       "  <tbody>\n",
       "    <tr>\n",
       "      <th>0</th>\n",
       "      <td>1</td>\n",
       "      <td>1</td>\n",
       "      <td>989</td>\n",
       "      <td>3810.878982</td>\n",
       "    </tr>\n",
       "    <tr>\n",
       "      <th>1</th>\n",
       "      <td>2</td>\n",
       "      <td>3</td>\n",
       "      <td>989</td>\n",
       "      <td>6477.637165</td>\n",
       "    </tr>\n",
       "    <tr>\n",
       "      <th>2</th>\n",
       "      <td>3</td>\n",
       "      <td>7</td>\n",
       "      <td>989</td>\n",
       "      <td>9708.747801</td>\n",
       "    </tr>\n",
       "    <tr>\n",
       "      <th>3</th>\n",
       "      <td>4</td>\n",
       "      <td>8</td>\n",
       "      <td>989</td>\n",
       "      <td>6041.119062</td>\n",
       "    </tr>\n",
       "    <tr>\n",
       "      <th>4</th>\n",
       "      <td>5</td>\n",
       "      <td>9</td>\n",
       "      <td>989</td>\n",
       "      <td>6540.730871</td>\n",
       "    </tr>\n",
       "  </tbody>\n",
       "</table>\n",
       "</div>"
      ],
      "text/plain": [
       "   Id  Store  ordered_day   prediction\n",
       "0   1      1          989  3810.878982\n",
       "1   2      3          989  6477.637165\n",
       "2   3      7          989  9708.747801\n",
       "3   4      8          989  6041.119062\n",
       "4   5      9          989  6540.730871"
      ]
     },
     "execution_count": 48,
     "metadata": {},
     "output_type": "execute_result"
    }
   ],
   "source": [
    "pred_df = test[['Id', 'Store', 'ordered_day']].merge(X_test[['Store', 'ordered_day', 'prediction']], on=['Store', 'ordered_day'])\n",
    "pred_df.head()"
   ]
  },
  {
   "cell_type": "code",
   "execution_count": 57,
   "id": "reasonable-investor",
   "metadata": {
    "execution": {
     "iopub.execute_input": "2021-12-12T07:08:48.860223Z",
     "iopub.status.busy": "2021-12-12T07:08:48.859227Z",
     "iopub.status.idle": "2021-12-12T07:08:48.938110Z",
     "shell.execute_reply": "2021-12-12T07:08:48.934107Z",
     "shell.execute_reply.started": "2021-12-12T07:08:48.860223Z"
    },
    "tags": []
   },
   "outputs": [
    {
     "data": {
      "text/html": [
       "<div>\n",
       "<style scoped>\n",
       "    .dataframe tbody tr th:only-of-type {\n",
       "        vertical-align: middle;\n",
       "    }\n",
       "\n",
       "    .dataframe tbody tr th {\n",
       "        vertical-align: top;\n",
       "    }\n",
       "\n",
       "    .dataframe thead th {\n",
       "        text-align: right;\n",
       "    }\n",
       "</style>\n",
       "<table border=\"1\" class=\"dataframe\">\n",
       "  <thead>\n",
       "    <tr style=\"text-align: right;\">\n",
       "      <th></th>\n",
       "      <th>Id</th>\n",
       "      <th>Sales</th>\n",
       "    </tr>\n",
       "  </thead>\n",
       "  <tbody>\n",
       "    <tr>\n",
       "      <th>0</th>\n",
       "      <td>1</td>\n",
       "      <td>0</td>\n",
       "    </tr>\n",
       "  </tbody>\n",
       "</table>\n",
       "</div>"
      ],
      "text/plain": [
       "   Id  Sales\n",
       "0   1      0"
      ]
     },
     "execution_count": 57,
     "metadata": {},
     "output_type": "execute_result"
    }
   ],
   "source": [
    "submission = pd.read_csv('data/sample_submission.csv')\n",
    "submission.head(1)"
   ]
  },
  {
   "cell_type": "code",
   "execution_count": 58,
   "id": "supreme-capital",
   "metadata": {
    "execution": {
     "iopub.execute_input": "2021-12-12T07:08:50.403371Z",
     "iopub.status.busy": "2021-12-12T07:08:50.402373Z",
     "iopub.status.idle": "2021-12-12T07:08:50.492235Z",
     "shell.execute_reply": "2021-12-12T07:08:50.489239Z",
     "shell.execute_reply.started": "2021-12-12T07:08:50.403371Z"
    },
    "tags": []
   },
   "outputs": [],
   "source": [
    "submission = submission.merge(pred_df, on='Id', how='left')[['Id', 'prediction']].fillna(0).rename(columns={'prediction': 'Sales'})"
   ]
  },
  {
   "cell_type": "code",
   "execution_count": 59,
   "id": "checked-mills",
   "metadata": {
    "execution": {
     "iopub.execute_input": "2021-12-12T07:08:51.584737Z",
     "iopub.status.busy": "2021-12-12T07:08:51.583738Z",
     "iopub.status.idle": "2021-12-12T07:08:51.621672Z",
     "shell.execute_reply": "2021-12-12T07:08:51.618676Z",
     "shell.execute_reply.started": "2021-12-12T07:08:51.584737Z"
    },
    "tags": []
   },
   "outputs": [
    {
     "data": {
      "text/html": [
       "<div>\n",
       "<style scoped>\n",
       "    .dataframe tbody tr th:only-of-type {\n",
       "        vertical-align: middle;\n",
       "    }\n",
       "\n",
       "    .dataframe tbody tr th {\n",
       "        vertical-align: top;\n",
       "    }\n",
       "\n",
       "    .dataframe thead th {\n",
       "        text-align: right;\n",
       "    }\n",
       "</style>\n",
       "<table border=\"1\" class=\"dataframe\">\n",
       "  <thead>\n",
       "    <tr style=\"text-align: right;\">\n",
       "      <th></th>\n",
       "      <th>Id</th>\n",
       "      <th>Sales</th>\n",
       "    </tr>\n",
       "  </thead>\n",
       "  <tbody>\n",
       "    <tr>\n",
       "      <th>0</th>\n",
       "      <td>1</td>\n",
       "      <td>3810.878982</td>\n",
       "    </tr>\n",
       "    <tr>\n",
       "      <th>1</th>\n",
       "      <td>2</td>\n",
       "      <td>6477.637165</td>\n",
       "    </tr>\n",
       "    <tr>\n",
       "      <th>2</th>\n",
       "      <td>3</td>\n",
       "      <td>9708.747801</td>\n",
       "    </tr>\n",
       "    <tr>\n",
       "      <th>3</th>\n",
       "      <td>4</td>\n",
       "      <td>6041.119062</td>\n",
       "    </tr>\n",
       "    <tr>\n",
       "      <th>4</th>\n",
       "      <td>5</td>\n",
       "      <td>6540.730871</td>\n",
       "    </tr>\n",
       "  </tbody>\n",
       "</table>\n",
       "</div>"
      ],
      "text/plain": [
       "   Id        Sales\n",
       "0   1  3810.878982\n",
       "1   2  6477.637165\n",
       "2   3  9708.747801\n",
       "3   4  6041.119062\n",
       "4   5  6540.730871"
      ]
     },
     "execution_count": 59,
     "metadata": {},
     "output_type": "execute_result"
    }
   ],
   "source": [
    "submission.head()"
   ]
  },
  {
   "cell_type": "code",
   "execution_count": 60,
   "id": "allied-flooring",
   "metadata": {
    "execution": {
     "iopub.execute_input": "2021-12-12T07:08:55.070934Z",
     "iopub.status.busy": "2021-12-12T07:08:55.069933Z",
     "iopub.status.idle": "2021-12-12T07:08:55.461631Z",
     "shell.execute_reply": "2021-12-12T07:08:55.461631Z",
     "shell.execute_reply.started": "2021-12-12T07:08:55.070934Z"
    },
    "tags": []
   },
   "outputs": [],
   "source": [
    "submission.to_csv('data/submission_1.csv', index=False)"
   ]
  },
  {
   "cell_type": "markdown",
   "id": "spatial-affect",
   "metadata": {},
   "source": [
    "score - 0.29496"
   ]
  },
  {
   "cell_type": "markdown",
   "id": "innovative-sunglasses",
   "metadata": {},
   "source": [
    "# Analysis of error"
   ]
  },
  {
   "cell_type": "code",
   "execution_count": null,
   "id": "demographic-ratio",
   "metadata": {},
   "outputs": [],
   "source": []
  }
 ],
 "metadata": {
  "kernelspec": {
   "display_name": "Python 3",
   "language": "python",
   "name": "python3"
  },
  "language_info": {
   "codemirror_mode": {
    "name": "ipython",
    "version": 3
   },
   "file_extension": ".py",
   "mimetype": "text/x-python",
   "name": "python",
   "nbconvert_exporter": "python",
   "pygments_lexer": "ipython3",
   "version": "3.9.0"
  },
  "toc": {
   "base_numbering": 1,
   "nav_menu": {},
   "number_sections": true,
   "sideBar": true,
   "skip_h1_title": false,
   "title_cell": "Table of Contents",
   "title_sidebar": "Contents",
   "toc_cell": false,
   "toc_position": {},
   "toc_section_display": true,
   "toc_window_display": false
  }
 },
 "nbformat": 4,
 "nbformat_minor": 5
}
