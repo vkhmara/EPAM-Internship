{
 "cells": [
  {
   "cell_type": "code",
   "execution_count": 1,
   "id": "moving-accused",
   "metadata": {
    "id": "handed-confirmation"
   },
   "outputs": [],
   "source": [
    "import numpy as np\n",
    "import pandas as pd\n",
    "import matplotlib.pyplot as plt\n",
    "from itertools import product\n",
    "import seaborn as sns\n",
    "from functools import partial\n",
    "from sklearn.cluster import KMeans\n",
    "import pickle\n",
    "import datetime\n",
    "\n",
    "from scipy.optimize import minimize\n",
    "from statsmodels.tsa.ar_model import AutoReg\n",
    "\n",
    "from my_modules.plot_and_stat_funcs import *\n",
    "from my_modules.transformations import *"
   ]
  },
  {
   "cell_type": "code",
   "execution_count": 2,
   "id": "genetic-rubber",
   "metadata": {
    "id": "retired-phrase"
   },
   "outputs": [],
   "source": [
    "def RMSPE(y_true, y_pred):\n",
    "    y_t, y_p = np.array(y_true), np.array(y_pred)\n",
    "    y_t, y_p = y_t[np.abs(y_t) > 1e-3], y_p[np.abs(y_t) > 1e-3]\n",
    "    return np.sqrt(np.mean(\n",
    "        ((y_t - y_p) / y_t)**2\n",
    "    ))"
   ]
  },
  {
   "cell_type": "markdown",
   "id": "removed-dylan",
   "metadata": {},
   "source": [
    "Reading the data"
   ]
  },
  {
   "cell_type": "code",
   "execution_count": 3,
   "id": "proprietary-hollywood",
   "metadata": {
    "id": "incoming-emission"
   },
   "outputs": [],
   "source": [
    "data_folder = 'data/'"
   ]
  },
  {
   "cell_type": "code",
   "execution_count": 4,
   "id": "oriental-consolidation",
   "metadata": {
    "id": "important-visit"
   },
   "outputs": [],
   "source": [
    "X_train = pd.read_csv(data_folder + 'X_train.csv')\n",
    "y_train = pd.read_csv(data_folder + 'y_train.csv').target\n",
    "X_val = pd.read_csv(data_folder + 'X_val.csv')\n",
    "y_val = pd.read_csv(data_folder + 'y_val.csv').target\n",
    "X_test = pd.read_csv(data_folder + 'X_test.csv')\n",
    "test = pd.read_csv(data_folder + 'test.csv')\n",
    "submission = pd.read_csv(data_folder + 'sample_submission.csv')"
   ]
  },
  {
   "cell_type": "markdown",
   "id": "educated-permission",
   "metadata": {},
   "source": [
    "As I use only the information about stores that are present in the test dataset I remove the information about others."
   ]
  },
  {
   "cell_type": "code",
   "execution_count": 5,
   "id": "broken-directive",
   "metadata": {
    "id": "intellectual-bahamas"
   },
   "outputs": [],
   "source": [
    "test_store_ids = test.Store.unique()"
   ]
  },
  {
   "cell_type": "code",
   "execution_count": 6,
   "id": "north-turtle",
   "metadata": {
    "id": "certified-walnut"
   },
   "outputs": [],
   "source": [
    "is_train_in_test_mask = X_train.Store.isin(test_store_ids)\n",
    "X_train = X_train[is_train_in_test_mask]\n",
    "y_train = y_train[is_train_in_test_mask]\n",
    "\n",
    "is_val_in_test_mask = X_val.Store.isin(test_store_ids)\n",
    "X_val = X_val[is_val_in_test_mask]\n",
    "y_val = y_val[is_val_in_test_mask]"
   ]
  },
  {
   "cell_type": "code",
   "execution_count": 7,
   "id": "ancient-kentucky",
   "metadata": {
    "id": "banned-poker"
   },
   "outputs": [],
   "source": [
    "max_train_day = 893\n",
    "max_val_day = 893 + 48"
   ]
  },
  {
   "cell_type": "code",
   "execution_count": 8,
   "id": "relevant-tokyo",
   "metadata": {
    "id": "ambient-japan"
   },
   "outputs": [],
   "source": [
    "train_sales = pd.concat([X_train, y_train], axis=1)\n",
    "val_sales = pd.concat([X_val, y_val], axis=1)"
   ]
  },
  {
   "cell_type": "code",
   "execution_count": 9,
   "id": "manual-burton",
   "metadata": {
    "id": "statutory-refund"
   },
   "outputs": [],
   "source": [
    "store_ids = train_sales.Store.unique()\n",
    "train_days = np.sort(train_sales.ordered_day.unique())\n",
    "train_time_series = pd.DataFrame({\n",
    "                store_id: time_series(train_sales, store_id=store_id, all_values=train_days).values\n",
    "                for store_id in store_ids\n",
    "            })"
   ]
  },
  {
   "cell_type": "code",
   "execution_count": 10,
   "id": "golden-middle",
   "metadata": {
    "id": "fifteen-oracle"
   },
   "outputs": [],
   "source": [
    "all_sales = pd.concat([train_sales, val_sales], axis=0, ignore_index=True)"
   ]
  },
  {
   "cell_type": "code",
   "execution_count": 11,
   "id": "stunning-necessity",
   "metadata": {
    "id": "actual-syndrome"
   },
   "outputs": [],
   "source": [
    "all_store_ids = all_sales.Store.unique()\n",
    "all_days = np.sort(all_sales.ordered_day.unique())\n",
    "all_time_series = pd.DataFrame({\n",
    "                store_id: time_series(all_sales, store_id=store_id, all_values=all_days).values\n",
    "                for store_id in store_ids\n",
    "            })"
   ]
  },
  {
   "cell_type": "markdown",
   "id": "subtle-addiction",
   "metadata": {
    "id": "destroyed-malaysia"
   },
   "source": [
    "# TripleSmoothingModel"
   ]
  },
  {
   "cell_type": "markdown",
   "id": "forward-wound",
   "metadata": {},
   "source": [
    "The formulas for triple smoothing model. l is level, b is trend, s is season."
   ]
  },
  {
   "cell_type": "markdown",
   "id": "mobile-coalition",
   "metadata": {
    "id": "missing-civilization"
   },
   "source": [
    "$l_x=\\alpha(y_x-s_{x-L})+(1-\\alpha)(l_{x-1}+b_{x-1})$  \n",
    "$b_x=\\beta(l_x-l_{x-1})+(1-\\beta)b_{x-1}$  \n",
    "$s_x=\\gamma(y_x-l_x)+(1-\\gamma)s_{x-L}$  \n",
    "$\\hat{y}_{x+m}=l_x+mb_x+s_{x-L+1+(m-1)modL}$"
   ]
  },
  {
   "cell_type": "code",
   "execution_count": 12,
   "id": "bacterial-combine",
   "metadata": {
    "id": "proud-place"
   },
   "outputs": [],
   "source": [
    "class HoltWinters:\n",
    "\n",
    "    \"\"\"\n",
    "    \n",
    "    # series - исходный временной ряд\n",
    "    # slen - длина сезона\n",
    "    # alpha, beta, gamma - коэффициенты модели Хольта-Винтерса\n",
    "\n",
    "    \"\"\"\n",
    "\n",
    "    def __init__(self, slen, alpha, beta, gamma):\n",
    "        self.slen = slen\n",
    "        self.alpha = alpha\n",
    "        self.beta = beta\n",
    "        self.gamma = gamma\n",
    "\n",
    "    def initial_trend(self):\n",
    "        s = 0.0\n",
    "        for i in range(self.slen):\n",
    "            s += (self.series[i+self.slen] - self.series[i]) / self.slen\n",
    "        return s / self.slen  \n",
    "\n",
    "    def initial_seasonal_components(self):\n",
    "        seasonals = {}\n",
    "        season_averages = []\n",
    "        n_seasons = int(len(self.series)/self.slen)\n",
    "        # вычисляем сезонные средние\n",
    "        for j in range(n_seasons):\n",
    "            season_averages.append(sum(self.series[self.slen*j:self.slen*j+self.slen])/float(self.slen))\n",
    "        # вычисляем начальные значения\n",
    "        for i in range(self.slen):\n",
    "            sum_of_vals_over_avg = 0.0\n",
    "            for j in range(n_seasons):\n",
    "                sum_of_vals_over_avg += self.series[self.slen*j+i]-season_averages[j]\n",
    "            seasonals[i] = sum_of_vals_over_avg/n_seasons\n",
    "        return seasonals   \n",
    "\n",
    "    def fit(self, series):\n",
    "        self.series = series\n",
    "        self.result = []\n",
    "        self.Smooth = []\n",
    "        self.Season = []\n",
    "        self.Trend = []\n",
    "        \n",
    "        # инициализируем значения компонент\n",
    "        self.seasonals = self.initial_seasonal_components()\n",
    "        smooth = self.series[0]\n",
    "        trend = self.initial_trend()\n",
    "        self.result.append(self.series[0])\n",
    "        self.Smooth.append(smooth)\n",
    "        self.Trend.append(trend)\n",
    "        self.Season.append(self.seasonals[0])\n",
    "\n",
    "\n",
    "        for i in range(1, len(self.series)):\n",
    "            val = self.series[i]\n",
    "            last_smooth, smooth = smooth, self.alpha*(val-self.seasonals[i%self.slen]) + (1-self.alpha)*(smooth+trend)\n",
    "            trend = self.beta * (smooth-last_smooth) + (1-self.beta)*trend\n",
    "            self.seasonals[i%self.slen] = self.gamma*(val-smooth) + (1-self.gamma)*self.seasonals[i%self.slen]\n",
    "            self.result.append(smooth+trend+self.seasonals[i%self.slen])\n",
    "            \n",
    "            self.Smooth.append(smooth)\n",
    "            self.Trend.append(trend)\n",
    "            self.Season.append(self.seasonals[i % self.slen])\n",
    "\n",
    "\n",
    "        self.Smooth.append(smooth)\n",
    "        self.Trend.append(trend)\n",
    "        self.Season.append(self.seasonals[i % self.slen])\n",
    "        return np.array(self.result)\n",
    "    \n",
    "    def predict(self, n_preds):\n",
    "        smooth = self.Smooth[-1]\n",
    "        trend = self.Trend[-1]\n",
    "        result = []\n",
    "        for i in range(len(self.series), len(self.series)+n_preds):\n",
    "            m = i - len(self.series) + 1\n",
    "            result.append((smooth + m*trend) + self.seasonals[i%self.slen])\n",
    "\n",
    "        return np.array(result)\n",
    "    \n",
    "    def predict_from_start(self, N):\n",
    "        if N <= len(self.result):\n",
    "            return self.result[:N]\n",
    "        return np.append(self.result, self.predict(N - len(self.result)), axis=0)"
   ]
  },
  {
   "cell_type": "markdown",
   "id": "distant-course",
   "metadata": {},
   "source": [
    "It is a class that uses the Holt-Winters model."
   ]
  },
  {
   "cell_type": "code",
   "execution_count": 13,
   "id": "fossil-bacteria",
   "metadata": {
    "id": "significant-engagement"
   },
   "outputs": [],
   "source": [
    "class TripleExpSmoothingCommon:\n",
    "    \n",
    "    def __init__(self, slen, alpha, beta, gamma):\n",
    "        self.slen = slen\n",
    "        self.alpha = alpha\n",
    "        self.beta = beta\n",
    "        self.gamma = gamma\n",
    "    \n",
    "    def fit(self, all_time_series):\n",
    "        \n",
    "        self.train_days = np.sort(all_time_series.index)\n",
    "        self.store_ids = np.array(all_time_series.columns)\n",
    "        \n",
    "        self.hw_model = HoltWinters(self.slen, self.alpha, self.beta, self.gamma)\n",
    "        self.hw_model.fit(all_time_series.values)\n",
    "        return self\n",
    "    \n",
    "    def predict(self, X_test):\n",
    "        stores = X_test.Store.unique()\n",
    "        min_day, max_day = X_test.ordered_day.min(), X_test.ordered_day.max()\n",
    "        prediction = self.hw_model.predict_from_start(max_day + 1)[min_day:]\n",
    "        prediction = pd.DataFrame(prediction, columns=self.store_ids)\\\n",
    "                .unstack().reset_index().rename(columns={'level_0': 'Store', 'level_1': 'ordered_day', 0: 'prediction'})\n",
    "        prediction.ordered_day += min_day\n",
    "        return X_test.merge(prediction, on=['Store', 'ordered_day']).prediction.values"
   ]
  },
  {
   "cell_type": "markdown",
   "id": "alternative-fundamental",
   "metadata": {},
   "source": [
    "The function returns the rmspe of the Holt-Winters model with the parameters slen and x. x has 3 components - (alpha, beta, gamma). It is used to search the parameters that minimize the RMSPE."
   ]
  },
  {
   "cell_type": "code",
   "execution_count": 14,
   "id": "inappropriate-stanford",
   "metadata": {
    "id": "fifty-restoration"
   },
   "outputs": [],
   "source": [
    "def tesc_err(x, slen, val_sales=val_sales, all_time_series=train_time_series):\n",
    "    tesc = TripleExpSmoothingCommon(slen, *x).fit(all_time_series=all_time_series)\n",
    "    return RMSPE(val_sales.target, tesc.predict(val_sales))"
   ]
  },
  {
   "cell_type": "markdown",
   "id": "hundred-cutting",
   "metadata": {
    "id": "electoral-valley"
   },
   "source": [
    "# ClusteredModel"
   ]
  },
  {
   "cell_type": "markdown",
   "id": "hazardous-formula",
   "metadata": {},
   "source": [
    "This class divide all the time series into clusters. For each cluster the best parameters are searched using minimize method from scipy.optimize module. This class contains refit. It just refit the Holt-Winters models but using the searched parameters."
   ]
  },
  {
   "cell_type": "code",
   "execution_count": 15,
   "id": "unauthorized-seven",
   "metadata": {
    "id": "resistant-bridal"
   },
   "outputs": [],
   "source": [
    "class ClusteredModel:\n",
    "    def __init__(self, n_clusters):\n",
    "        self.n_clusters = n_clusters\n",
    "\n",
    "    def fit(self, val_sales=val_sales, all_time_series=train_time_series):\n",
    "        all_time_series = all_time_series.loc[:, all_time_series.columns.sort_values()]\n",
    "        all_ts = all_time_series.values.T\n",
    "        kmeans = KMeans(n_clusters=self.n_clusters, random_state=481).fit(all_ts)\n",
    "        labels = kmeans.labels_\n",
    "\n",
    "        self.store_ids = {\n",
    "            label: all_time_series.columns[labels == label]\n",
    "            for label in range(self.n_clusters)\n",
    "        }\n",
    "        self.models = []\n",
    "        cube_vertices = list(product([0, 1], repeat=3))\n",
    "        for label in range(self.n_clusters):\n",
    "            ts_label = all_time_series.loc[:, labels==label]\n",
    "            val = val_sales[val_sales.Store.isin(self.store_ids[label])]\n",
    "            errs = []\n",
    "            for vertex in cube_vertices:\n",
    "                res = minimize(\n",
    "                    lambda x: tesc_err(x, 14, val_sales=val, all_time_series=ts_label),\n",
    "                    x0=vertex,\n",
    "                    bounds=[(0, 1), (0, 1), (0, 1)]\n",
    "                )\n",
    "                errs.append((res.x, res.fun))\n",
    "            best_params, err = min(errs, key=lambda x: x[1])\n",
    "            tesc = TripleExpSmoothingCommon(14, *best_params).fit(all_time_series=ts_label)\n",
    "            self.models.append(tesc)\n",
    "\n",
    "    def refit(self, all_time_series=train_time_series):\n",
    "        for label in range(self.n_clusters):\n",
    "            ts_label = all_time_series.loc[:, all_time_series.columns.isin(self.store_ids[label])]\n",
    "            self.models[label].fit(ts_label)\n",
    "\n",
    "    def predict(self, X_test):\n",
    "        \n",
    "        pred = np.zeros(len(X_test))\n",
    "        for label in range(self.n_clusters):\n",
    "            store_mask = X_test.Store.isin(self.store_ids[label])\n",
    "            if (~store_mask).all():\n",
    "                continue\n",
    "            pred[store_mask] = self.models[label].predict(X_test[store_mask])\n",
    "        return pred"
   ]
  },
  {
   "cell_type": "markdown",
   "id": "rolled-baltimore",
   "metadata": {
    "id": "collect-brief"
   },
   "source": [
    "Here one Holt-Winters model for all the time series."
   ]
  },
  {
   "cell_type": "code",
   "execution_count": 16,
   "id": "removed-bouquet",
   "metadata": {
    "id": "surprising-sequence"
   },
   "outputs": [],
   "source": [
    "cm_common = ClusteredModel(1)\n",
    "cm_common.fit(val_sales, train_time_series)\n",
    "cm_common_prediction = cm_common.predict(val_sales)"
   ]
  },
  {
   "cell_type": "markdown",
   "id": "interstate-lease",
   "metadata": {},
   "source": [
    "RMSPE for one model."
   ]
  },
  {
   "cell_type": "code",
   "execution_count": 17,
   "id": "duplicate-stomach",
   "metadata": {
    "colab": {
     "base_uri": "https://localhost:8080/"
    },
    "id": "beginning-determination",
    "outputId": "089d17de-bf2c-4d2b-c6ec-83d6c3b6fd1d"
   },
   "outputs": [
    {
     "data": {
      "text/plain": [
       "0.20101305360997523"
      ]
     },
     "execution_count": 17,
     "metadata": {},
     "output_type": "execute_result"
    }
   ],
   "source": [
    "RMSPE(val_sales.target, cm_common_prediction)"
   ]
  },
  {
   "cell_type": "markdown",
   "id": "floral-memorial",
   "metadata": {
    "id": "female-correction"
   },
   "source": [
    "Here 100 models for 100 clusters."
   ]
  },
  {
   "cell_type": "code",
   "execution_count": 18,
   "id": "thousand-destination",
   "metadata": {
    "id": "informative-slovenia"
   },
   "outputs": [],
   "source": [
    "cm = ClusteredModel(100)\n",
    "cm.fit(val_sales, train_time_series)\n",
    "cm_prediction = cm.predict(val_sales)"
   ]
  },
  {
   "cell_type": "markdown",
   "id": "loving-price",
   "metadata": {},
   "source": [
    "RMSPE for 100 models."
   ]
  },
  {
   "cell_type": "code",
   "execution_count": 19,
   "id": "formed-nation",
   "metadata": {
    "colab": {
     "base_uri": "https://localhost:8080/"
    },
    "id": "exposed-driving",
    "outputId": "69581dd1-ee60-43b0-a5af-1eb83916ae63"
   },
   "outputs": [
    {
     "data": {
      "text/plain": [
       "0.18913567197530126"
      ]
     },
     "execution_count": 19,
     "metadata": {},
     "output_type": "execute_result"
    }
   ],
   "source": [
    "RMSPE(val_sales.target, cm_prediction)"
   ]
  },
  {
   "cell_type": "markdown",
   "id": "spread-windows",
   "metadata": {},
   "source": [
    "So dividing into clusters decreases the error."
   ]
  },
  {
   "cell_type": "markdown",
   "id": "threatened-spine",
   "metadata": {
    "id": "voluntary-pittsburgh"
   },
   "source": [
    "# Autoregression"
   ]
  },
  {
   "cell_type": "markdown",
   "id": "modular-aluminum",
   "metadata": {},
   "source": [
    "This class fit autoregression model for each time series."
   ]
  },
  {
   "cell_type": "code",
   "execution_count": 21,
   "id": "floating-flight",
   "metadata": {
    "id": "architectural-closure"
   },
   "outputs": [],
   "source": [
    "class ARPredictor:\n",
    "    def __init__(self, lags):\n",
    "        self.lags = lags\n",
    "        \n",
    "    def fit(self, all_time_series=all_time_series):\n",
    "        \n",
    "        self.train_days = np.array(all_time_series.index)\n",
    "        self.store_ids = all_time_series.columns.unique()\n",
    "        self.all_time_series = all_time_series.copy()\n",
    "               \n",
    "        self.all_models = {\n",
    "            store_id: self.fit_model(self.all_time_series[store_id])\n",
    "            for store_id in self.store_ids\n",
    "        }\n",
    "        return self\n",
    "    \n",
    "    def fit_model(self, ts):\n",
    "        return AutoReg(ts.values, self.lags, old_names=True).fit()\n",
    "    \n",
    "    def predict_time_series(self, auto_reg_model, n_preds):\n",
    "        start_day = self.train_days.max() + 1\n",
    "        return auto_reg_model.predict(start=start_day, end=start_day + n_preds - 1)\n",
    "    \n",
    "    def predict(self, X_test):\n",
    "        test_stores = X_test.Store.unique()\n",
    "        all_days = np.sort(X_test.ordered_day.unique())\n",
    "        n_preds = all_days.max() - self.train_days.max()\n",
    "        start_pred, end_pred = self.train_days.max() + 1, all_days.max()\n",
    "        predictions = [\n",
    "            list(zip(\n",
    "                [store_id] * n_preds,\n",
    "                range(start_pred, end_pred + 1),\n",
    "                self.predict_time_series(self.all_models[store_id], n_preds)\n",
    "            ))\n",
    "            for store_id in test_stores\n",
    "        ]\n",
    "        predictions = np.reshape(predictions, (np.size(predictions) // 3, 3))\n",
    "        predictions = pd.DataFrame(predictions, columns=['Store', 'ordered_day', 'prediction'])\n",
    "        return X_test.merge(predictions, on=['Store', 'ordered_day'])[['Store', 'ordered_day', 'prediction']].prediction"
   ]
  },
  {
   "cell_type": "code",
   "execution_count": null,
   "id": "known-novel",
   "metadata": {
    "colab": {
     "base_uri": "https://localhost:8080/"
    },
    "id": "otherwise-tobacco",
    "outputId": "50d7a50a-b153-4812-ff2a-c86f102dee6c"
   },
   "outputs": [],
   "source": [
    "arp_errs = []\n",
    "lag_values = range(1, 31)\n",
    "for lags in lag_values:\n",
    "    arp = ARPredictor(lags).fit(train_time_series)\n",
    "    val_predict = arp.predict(val_sales)\n",
    "    arp_errs.append(RMSPE(val_sales.target, val_predict))"
   ]
  },
  {
   "cell_type": "code",
   "execution_count": 23,
   "id": "original-tongue",
   "metadata": {
    "colab": {
     "base_uri": "https://localhost:8080/",
     "height": 428
    },
    "id": "sexual-swiss",
    "outputId": "3b13469c-651f-4c87-963a-cb276148b471"
   },
   "outputs": [
    {
     "data": {
      "image/png": "[encoded data removed]",
      "text/plain": [
       "<Figure size 864x504 with 1 Axes>"
      ]
     },
     "metadata": {
      "needs_background": "light"
     },
     "output_type": "display_data"
    }
   ],
   "source": [
    "plt.figure(figsize=(12, 7))\n",
    "plt.plot(lag_values, arp_errs)\n",
    "plt.show()"
   ]
  },
  {
   "cell_type": "code",
   "execution_count": 24,
   "id": "appreciated-ceiling",
   "metadata": {
    "colab": {
     "base_uri": "https://localhost:8080/"
    },
    "id": "bright-uruguay",
    "outputId": "b0ac491a-920c-4420-a77f-6840aa43a1d2"
   },
   "outputs": [
    {
     "data": {
      "text/plain": [
       "0.2261086572583279"
      ]
     },
     "execution_count": 24,
     "metadata": {},
     "output_type": "execute_result"
    }
   ],
   "source": [
    "min(arp_errs)"
   ]
  },
  {
   "cell_type": "markdown",
   "id": "atmospheric-measure",
   "metadata": {
    "id": "expected-tiffany"
   },
   "source": [
    "The result is worse than for clustered model."
   ]
  },
  {
   "cell_type": "markdown",
   "id": "commercial-cleaning",
   "metadata": {
    "id": "tropical-drinking"
   },
   "source": [
    "# Submitting"
   ]
  },
  {
   "cell_type": "code",
   "execution_count": 25,
   "id": "hispanic-sympathy",
   "metadata": {
    "id": "engaged-verse"
   },
   "outputs": [],
   "source": [
    "train_predict_df = X_train.copy()\n",
    "train_predict_df.loc[:, 'target'] = y_train\n",
    "\n",
    "val_predict_df = X_val.copy()\n",
    "val_predict_df.loc[:, 'target'] = y_val\n",
    "\n",
    "test_predict_df = X_test.copy()"
   ]
  },
  {
   "cell_type": "code",
   "execution_count": 26,
   "id": "otherwise-stuart",
   "metadata": {
    "id": "accessible-lighter"
   },
   "outputs": [],
   "source": [
    "train_prediction = cm.predict(X_train).clip(0)\n",
    "val_prediction = cm.predict(X_val).clip(0)\n",
    "test_prediction = cm.predict(X_test).clip(0)"
   ]
  },
  {
   "cell_type": "code",
   "execution_count": 27,
   "id": "surprised-regulation",
   "metadata": {
    "id": "lesser-blank"
   },
   "outputs": [],
   "source": [
    "train_predict_df.loc[:, 'part_prediction'] = train_prediction\n",
    "\n",
    "val_predict_df.loc[:, 'part_prediction'] = val_prediction\n",
    "\n",
    "test_predict_df.loc[:, 'part_prediction'] = test_prediction"
   ]
  },
  {
   "cell_type": "code",
   "execution_count": 28,
   "id": "injured-prototype",
   "metadata": {
    "id": "continental-stand"
   },
   "outputs": [],
   "source": [
    "cm.refit(all_time_series)"
   ]
  },
  {
   "cell_type": "code",
   "execution_count": 29,
   "id": "forward-electricity",
   "metadata": {
    "id": "mYsVyfyNxRIC"
   },
   "outputs": [],
   "source": [
    "train_prediction = cm.predict(X_train).clip(0)\n",
    "val_prediction = cm.predict(X_val).clip(0)\n",
    "test_prediction = cm.predict(X_test).clip(0)"
   ]
  },
  {
   "cell_type": "code",
   "execution_count": 30,
   "id": "duplicate-wholesale",
   "metadata": {
    "id": "uBNvpRt2xPuU"
   },
   "outputs": [],
   "source": [
    "train_predict_df.loc[:, 'full_prediction'] = train_prediction\n",
    "\n",
    "val_predict_df.loc[:, 'full_prediction'] = val_prediction\n",
    "\n",
    "test_predict_df.loc[:, 'full_prediction'] = test_prediction"
   ]
  },
  {
   "cell_type": "code",
   "execution_count": 31,
   "id": "approved-request",
   "metadata": {
    "id": "nominated-controversy"
   },
   "outputs": [],
   "source": [
    "test['ordered_day'] = test.Date.apply(lambda date: (datetime.datetime.strptime(date, '%Y-%m-%d') - datetime.datetime(2013, 1, 1)).days)"
   ]
  },
  {
   "cell_type": "code",
   "execution_count": 32,
   "id": "happy-nomination",
   "metadata": {
    "id": "vocational-category"
   },
   "outputs": [],
   "source": [
    "pred_df = test[['Id', 'Store', 'ordered_day']].merge(test_predict_df[['Store', 'ordered_day', 'full_prediction']], on=['Store', 'ordered_day'])"
   ]
  },
  {
   "cell_type": "code",
   "execution_count": 33,
   "id": "failing-subcommittee",
   "metadata": {
    "colab": {
     "base_uri": "https://localhost:8080/",
     "height": 81
    },
    "id": "military-piano",
    "outputId": "37e0583a-d692-4ee0-ea29-129241fd2ba7"
   },
   "outputs": [
    {
     "data": {
      "text/html": [
       "<div>\n",
       "<style scoped>\n",
       "    .dataframe tbody tr th:only-of-type {\n",
       "        vertical-align: middle;\n",
       "    }\n",
       "\n",
       "    .dataframe tbody tr th {\n",
       "        vertical-align: top;\n",
       "    }\n",
       "\n",
       "    .dataframe thead th {\n",
       "        text-align: right;\n",
       "    }\n",
       "</style>\n",
       "<table border=\"1\" class=\"dataframe\">\n",
       "  <thead>\n",
       "    <tr style=\"text-align: right;\">\n",
       "      <th></th>\n",
       "      <th>Id</th>\n",
       "      <th>Sales</th>\n",
       "    </tr>\n",
       "  </thead>\n",
       "  <tbody>\n",
       "    <tr>\n",
       "      <th>0</th>\n",
       "      <td>1</td>\n",
       "      <td>0</td>\n",
       "    </tr>\n",
       "  </tbody>\n",
       "</table>\n",
       "</div>"
      ],
      "text/plain": [
       "   Id  Sales\n",
       "0   1      0"
      ]
     },
     "execution_count": 33,
     "metadata": {},
     "output_type": "execute_result"
    }
   ],
   "source": [
    "submission = pd.read_csv(data_folder + 'sample_submission.csv')\n",
    "submission.head(1)"
   ]
  },
  {
   "cell_type": "code",
   "execution_count": 34,
   "id": "preceding-harassment",
   "metadata": {
    "id": "accepting-cargo"
   },
   "outputs": [],
   "source": [
    "submission = submission.merge(pred_df, on='Id', how='left')[['Id', 'full_prediction']].fillna(0).rename(columns={'full_prediction': 'Sales'})"
   ]
  },
  {
   "cell_type": "code",
   "execution_count": 35,
   "id": "protective-sculpture",
   "metadata": {
    "colab": {
     "base_uri": "https://localhost:8080/",
     "height": 206
    },
    "id": "funded-square",
    "outputId": "7965fd32-a9b5-4dfc-a2d3-539df22b8df8"
   },
   "outputs": [
    {
     "data": {
      "text/html": [
       "<div>\n",
       "<style scoped>\n",
       "    .dataframe tbody tr th:only-of-type {\n",
       "        vertical-align: middle;\n",
       "    }\n",
       "\n",
       "    .dataframe tbody tr th {\n",
       "        vertical-align: top;\n",
       "    }\n",
       "\n",
       "    .dataframe thead th {\n",
       "        text-align: right;\n",
       "    }\n",
       "</style>\n",
       "<table border=\"1\" class=\"dataframe\">\n",
       "  <thead>\n",
       "    <tr style=\"text-align: right;\">\n",
       "      <th></th>\n",
       "      <th>Id</th>\n",
       "      <th>Sales</th>\n",
       "    </tr>\n",
       "  </thead>\n",
       "  <tbody>\n",
       "    <tr>\n",
       "      <th>0</th>\n",
       "      <td>1</td>\n",
       "      <td>3759.608749</td>\n",
       "    </tr>\n",
       "    <tr>\n",
       "      <th>1</th>\n",
       "      <td>2</td>\n",
       "      <td>6023.788585</td>\n",
       "    </tr>\n",
       "    <tr>\n",
       "      <th>2</th>\n",
       "      <td>3</td>\n",
       "      <td>9770.206587</td>\n",
       "    </tr>\n",
       "    <tr>\n",
       "      <th>3</th>\n",
       "      <td>4</td>\n",
       "      <td>6198.639518</td>\n",
       "    </tr>\n",
       "    <tr>\n",
       "      <th>4</th>\n",
       "      <td>5</td>\n",
       "      <td>6722.417668</td>\n",
       "    </tr>\n",
       "  </tbody>\n",
       "</table>\n",
       "</div>"
      ],
      "text/plain": [
       "   Id        Sales\n",
       "0   1  3759.608749\n",
       "1   2  6023.788585\n",
       "2   3  9770.206587\n",
       "3   4  6198.639518\n",
       "4   5  6722.417668"
      ]
     },
     "execution_count": 35,
     "metadata": {},
     "output_type": "execute_result"
    }
   ],
   "source": [
    "submission.head()"
   ]
  },
  {
   "cell_type": "code",
   "execution_count": 36,
   "id": "vietnamese-empty",
   "metadata": {
    "id": "occupational-creativity"
   },
   "outputs": [],
   "source": [
    "submission.to_csv(data_folder + 'submission_tes.csv', index=False)"
   ]
  },
  {
   "cell_type": "markdown",
   "id": "strange-exclusive",
   "metadata": {
    "id": "essential-ghana"
   },
   "source": [
    "Final score - 0.31096"
   ]
  },
  {
   "cell_type": "code",
   "execution_count": 83,
   "id": "defined-speaking",
   "metadata": {
    "id": "aq7Tt-4GatS0"
   },
   "outputs": [],
   "source": [
    "train_predict_df[['Store', 'ordered_day', 'ordered_week', 'ordered_month', 'target', 'part_prediction', 'full_prediction']].to_csv(data_folder + 'train_prediction_ts.csv', index=False)\n",
    "val_predict_df[['Store', 'ordered_day', 'ordered_week', 'ordered_month', 'target', 'part_prediction', 'full_prediction']].to_csv(data_folder + 'val_prediction_ts.csv', index=False)\n",
    "test_predict_df[['Store', 'ordered_day', 'ordered_week', 'ordered_month', 'part_prediction', 'full_prediction']].to_csv(data_folder + 'test_prediction_ts.csv', index=False)"
   ]
  },
  {
   "cell_type": "markdown",
   "id": "instrumental-latvia",
   "metadata": {
    "id": "understanding-rescue"
   },
   "source": [
    "# Analysis of error"
   ]
  },
  {
   "cell_type": "markdown",
   "id": "horizontal-virginia",
   "metadata": {},
   "source": [
    "IN PROGRESS"
   ]
  },
  {
   "cell_type": "code",
   "execution_count": 40,
   "id": "opening-series",
   "metadata": {
    "colab": {
     "base_uri": "https://localhost:8080/",
     "height": 282
    },
    "id": "electrical-arcade",
    "outputId": "8db1f06c-8747-430a-a1a2-a35d8a32700c"
   },
   "outputs": [
    {
     "data": {
      "text/plain": [
       "<matplotlib.axes._subplots.AxesSubplot at 0x7f0b42de0810>"
      ]
     },
     "execution_count": 40,
     "metadata": {},
     "output_type": "execute_result"
    },
    {
     "data": {
      "image/png": "[encoded data removed]",
      "text/plain": [
       "<Figure size 432x288 with 1 Axes>"
      ]
     },
     "metadata": {
      "needs_background": "light"
     },
     "output_type": "display_data"
    }
   ],
   "source": [
    "val_predict_df.part_prediction.hist()"
   ]
  },
  {
   "cell_type": "code",
   "execution_count": 42,
   "id": "grateful-contamination",
   "metadata": {
    "id": "Jn8MhK8PI9wF"
   },
   "outputs": [],
   "source": [
    "val_predict_df['percent_error'] = (val_predict_df.part_prediction - val_predict_df.target) / val_predict_df.target"
   ]
  },
  {
   "cell_type": "code",
   "execution_count": 43,
   "id": "graphic-bonus",
   "metadata": {
    "colab": {
     "base_uri": "https://localhost:8080/",
     "height": 282
    },
    "id": "wB-mYd2yJKDR",
    "outputId": "c12a4a70-4659-4234-ca38-b612bd875858"
   },
   "outputs": [
    {
     "data": {
      "text/plain": [
       "<matplotlib.axes._subplots.AxesSubplot at 0x7f0b3eaaf510>"
      ]
     },
     "execution_count": 43,
     "metadata": {},
     "output_type": "execute_result"
    },
    {
     "data": {
      "image/png": "[encoded data removed]",
      "text/plain": [
       "<Figure size 432x288 with 1 Axes>"
      ]
     },
     "metadata": {
      "needs_background": "light"
     },
     "output_type": "display_data"
    }
   ],
   "source": [
    "val_predict_df.percent_error.hist(bins=30)"
   ]
  },
  {
   "cell_type": "code",
   "execution_count": 52,
   "id": "subject-header",
   "metadata": {
    "id": "OQlpmiv6J0Ni"
   },
   "outputs": [],
   "source": [
    "rmspes = val_predict_df.groupby('Store').agg({'percent_error': lambda err: np.sqrt(np.mean(err**2))}).rename(columns={'percent_error': 'rmspe'})"
   ]
  },
  {
   "cell_type": "code",
   "execution_count": 53,
   "id": "continuous-institute",
   "metadata": {
    "colab": {
     "base_uri": "https://localhost:8080/",
     "height": 282
    },
    "id": "NzHqR_bmKqg-",
    "outputId": "2e49f861-149d-40a8-9829-c0ea433aa076"
   },
   "outputs": [
    {
     "data": {
      "text/plain": [
       "<matplotlib.axes._subplots.AxesSubplot at 0x7f0b4601bf10>"
      ]
     },
     "execution_count": 53,
     "metadata": {},
     "output_type": "execute_result"
    },
    {
     "data": {
      "image/png": "[encoded data removed]",
      "text/plain": [
       "<Figure size 432x288 with 1 Axes>"
      ]
     },
     "metadata": {
      "needs_background": "light"
     },
     "output_type": "display_data"
    }
   ],
   "source": [
    "rmspes.rmspe.hist(bins=30)"
   ]
  },
  {
   "cell_type": "code",
   "execution_count": 64,
   "id": "temporal-adoption",
   "metadata": {
    "colab": {
     "base_uri": "https://localhost:8080/"
    },
    "id": "tb73KntuK21a",
    "outputId": "11b27356-7629-411a-8fd5-7e57add24bb9"
   },
   "outputs": [
    {
     "name": "stdout",
     "output_type": "stream",
     "text": [
      "Int64Index([ 23,  30,  45,  91, 131, 166, 170, 244, 334, 341, 393, 451, 521,\n",
      "            563, 690, 748, 800, 816, 833, 875, 916, 997],\n",
      "           dtype='int64')\n",
      "rmspe    0.207476\n",
      "dtype: float64\n"
     ]
    }
   ],
   "source": [
    "for cluster_label, stores in cm.store_ids.items():\n",
    "    print(stores)\n",
    "    print(rmspes.loc[stores].mean())\n",
    "    break"
   ]
  },
  {
   "cell_type": "code",
   "execution_count": 80,
   "id": "minor-midnight",
   "metadata": {
    "colab": {
     "base_uri": "https://localhost:8080/"
    },
    "id": "p1DmlGWcM7Tt",
    "outputId": "c806369a-bebd-4d09-bedf-c291c82eb6e1"
   },
   "outputs": [
    {
     "name": "stderr",
     "output_type": "stream",
     "text": [
      "/usr/local/lib/python3.7/dist-packages/ipykernel_launcher.py:1: VisibleDeprecationWarning: Creating an ndarray from ragged nested sequences (which is a list-or-tuple of lists-or-tuples-or ndarrays with different lengths or shapes) is deprecated. If you meant to do this, you must specify 'dtype=object' when creating the ndarray\n",
      "  \"\"\"Entry point for launching an IPython kernel.\n"
     ]
    },
    {
     "data": {
      "text/plain": [
       "array([array([[  0,  23],\n",
       "       [  0,  30],\n",
       "       [  0,  45],\n",
       "       [  0,  91],\n",
       "       [  0, 131],\n",
       "       [  0, 166],\n",
       "       [  0, 170],\n",
       "       [  0, 244],\n",
       "       [  0, 334],\n",
       "       [  0, 341],\n",
       "       [  0, 393],\n",
       "       [  0, 451],\n",
       "       [  0, 521],\n",
       "       [  0, 563],\n",
       "       [  0, 690],\n",
       "       [  0, 748],\n",
       "       [  0, 800],\n",
       "       [  0, 816],\n",
       "       [  0, 833],\n",
       "       [  0, 875],\n",
       "       [  0, 916],\n",
       "       [  0, 997]]),\n",
       "       array([[  1,  24],\n",
       "       [  1,  27],\n",
       "       [  1,  35],\n",
       "       [  1,  71],\n",
       "       [  1,  82],\n",
       "       [  1, 269],\n",
       "       [  1, 308],\n",
       "       [  1, 731],\n",
       "       [  1, 846]]),\n",
       "       array([[  2, 733]]),\n",
       "       array([[  3,  20],\n",
       "       [  3, 139],\n",
       "       [  3, 164],\n",
       "       [  3, 181],\n",
       "       [  3, 190],\n",
       "       [  3, 243],\n",
       "       [  3, 277],\n",
       "       [  3, 413],\n",
       "       [  3, 542],\n",
       "       [  3, 670],\n",
       "       [  3, 711],\n",
       "       [  3, 712],\n",
       "       [  3, 771],\n",
       "       [  3, 806],\n",
       "       [  3, 893],\n",
       "       [  3, 932]]),\n",
       "       array([[   4,   62],\n",
       "       [   4,  623],\n",
       "       [   4, 1072]]),\n",
       "       array([[  5, 383]]),\n",
       "       array([[   6,  108],\n",
       "       [   6,  434],\n",
       "       [   6,  587],\n",
       "       [   6,  909],\n",
       "       [   6, 1080]]),\n",
       "       array([[   7,  171],\n",
       "       [   7,  448],\n",
       "       [   7,  510],\n",
       "       [   7,  535],\n",
       "       [   7,  536],\n",
       "       [   7,  616],\n",
       "       [   7,  665],\n",
       "       [   7,  707],\n",
       "       [   7,  765],\n",
       "       [   7,  826],\n",
       "       [   7,  967],\n",
       "       [   7, 1040]]),\n",
       "       array([[   8,   56],\n",
       "       [   8,  111],\n",
       "       [   8,  300],\n",
       "       [   8,  350],\n",
       "       [   8,  369],\n",
       "       [   8,  371],\n",
       "       [   8,  618],\n",
       "       [   8,  661],\n",
       "       [   8,  723],\n",
       "       [   8,  740],\n",
       "       [   8,  832],\n",
       "       [   8,  866],\n",
       "       [   8,  937],\n",
       "       [   8,  943],\n",
       "       [   8,  960],\n",
       "       [   8, 1050]]),\n",
       "       array([[   9, 1097]]),\n",
       "       array([[  10,  210],\n",
       "       [  10,  219],\n",
       "       [  10,  425],\n",
       "       [  10,  435],\n",
       "       [  10,  473],\n",
       "       [  10,  543],\n",
       "       [  10,  558],\n",
       "       [  10,  656],\n",
       "       [  10,  681],\n",
       "       [  10,  703],\n",
       "       [  10,  764],\n",
       "       [  10,  970],\n",
       "       [  10, 1076]]),\n",
       "       array([[  11,  183],\n",
       "       [  11,  204],\n",
       "       [  11,  218],\n",
       "       [  11,  501],\n",
       "       [  11,  646],\n",
       "       [  11,  858],\n",
       "       [  11,  919],\n",
       "       [  11,  941],\n",
       "       [  11,  977],\n",
       "       [  11,  989],\n",
       "       [  11, 1009],\n",
       "       [  11, 1109]]),\n",
       "       array([[  12,   69],\n",
       "       [  12,  154],\n",
       "       [  12,  189],\n",
       "       [  12,  229],\n",
       "       [  12,  247],\n",
       "       [  12,  372],\n",
       "       [  12,  497],\n",
       "       [  12,  574],\n",
       "       [  12,  753],\n",
       "       [  12,  894],\n",
       "       [  12,  913],\n",
       "       [  12,  965],\n",
       "       [  12, 1079]]),\n",
       "       array([[  13,   48],\n",
       "       [  13,   83],\n",
       "       [  13,  105],\n",
       "       [  13,  110],\n",
       "       [  13,  117],\n",
       "       [  13,  124],\n",
       "       [  13,  242],\n",
       "       [  13,  315],\n",
       "       [  13,  364],\n",
       "       [  13,  379],\n",
       "       [  13,  395],\n",
       "       [  13,  520],\n",
       "       [  13,  538],\n",
       "       [  13,  554],\n",
       "       [  13,  622],\n",
       "       [  13,  700],\n",
       "       [  13,  751],\n",
       "       [  13,  811],\n",
       "       [  13,  864],\n",
       "       [  13,  931],\n",
       "       [  13,  945],\n",
       "       [  13,  946],\n",
       "       [  13,  956],\n",
       "       [  13,  998],\n",
       "       [  13, 1013],\n",
       "       [  13, 1042],\n",
       "       [  13, 1063]]),\n",
       "       array([[ 14, 262]]), array([[ 15, 842]]),\n",
       "       array([[ 16, 159],\n",
       "       [ 16, 427],\n",
       "       [ 16, 492],\n",
       "       [ 16, 534]]),\n",
       "       array([[ 17,  84],\n",
       "       [ 17, 336],\n",
       "       [ 17, 467],\n",
       "       [ 17, 768]]),\n",
       "       array([[ 18,  81],\n",
       "       [ 18, 100],\n",
       "       [ 18, 115],\n",
       "       [ 18, 571],\n",
       "       [ 18, 620],\n",
       "       [ 18, 633],\n",
       "       [ 18, 684],\n",
       "       [ 18, 859]]),\n",
       "       array([[  19,   13],\n",
       "       [  19,   41],\n",
       "       [  19,   99],\n",
       "       [  19,  127],\n",
       "       [  19,  231],\n",
       "       [  19,  284],\n",
       "       [  19,  317],\n",
       "       [  19,  365],\n",
       "       [  19,  429],\n",
       "       [  19,  457],\n",
       "       [  19,  485],\n",
       "       [  19,  500],\n",
       "       [  19,  555],\n",
       "       [  19,  719],\n",
       "       [  19,  736],\n",
       "       [  19,  750],\n",
       "       [  19,  804],\n",
       "       [  19,  851],\n",
       "       [  19,  902],\n",
       "       [  19, 1004],\n",
       "       [  19, 1104]]),\n",
       "       array([[ 20,  11],\n",
       "       [ 20, 248],\n",
       "       [ 20, 310],\n",
       "       [ 20, 524],\n",
       "       [ 20, 862],\n",
       "       [ 20, 863]]),\n",
       "       array([[  21,  214],\n",
       "       [  21,  233],\n",
       "       [  21,  245],\n",
       "       [  21,  362],\n",
       "       [  21,  411],\n",
       "       [  21,  431],\n",
       "       [  21,  799],\n",
       "       [  21,  807],\n",
       "       [  21,  868],\n",
       "       [  21,  895],\n",
       "       [  21, 1020]]),\n",
       "       array([[  22,  109],\n",
       "       [  22,  119],\n",
       "       [  22,  187],\n",
       "       [  22,  209],\n",
       "       [  22,  340],\n",
       "       [  22,  433],\n",
       "       [  22,  551],\n",
       "       [  22,  585],\n",
       "       [  22,  588],\n",
       "       [  22,  628],\n",
       "       [  22,  647],\n",
       "       [  22,  767],\n",
       "       [  22,  819],\n",
       "       [  22,  823],\n",
       "       [  22,  877],\n",
       "       [  22,  929],\n",
       "       [  22,  935],\n",
       "       [  22, 1054],\n",
       "       [  22, 1071]]),\n",
       "       array([[  23,  118],\n",
       "       [  23,  150],\n",
       "       [  23,  529],\n",
       "       [  23,  643],\n",
       "       [  23,  822],\n",
       "       [  23,  849],\n",
       "       [  23,  888],\n",
       "       [  23,  944],\n",
       "       [  23, 1010],\n",
       "       [  23, 1059],\n",
       "       [  23, 1091]]),\n",
       "       array([[  24,    9],\n",
       "       [  24,   66],\n",
       "       [  24,  241],\n",
       "       [  24,  255],\n",
       "       [  24,  280],\n",
       "       [  24,  289],\n",
       "       [  24,  359],\n",
       "       [  24,  378],\n",
       "       [  24,  414],\n",
       "       [  24,  415],\n",
       "       [  24,  424],\n",
       "       [  24,  441],\n",
       "       [  24,  475],\n",
       "       [  24,  785],\n",
       "       [  24,  882],\n",
       "       [  24,  907],\n",
       "       [  24,  925],\n",
       "       [  24,  961],\n",
       "       [  24,  984],\n",
       "       [  24, 1044],\n",
       "       [  24, 1084],\n",
       "       [  24, 1115]]),\n",
       "       array([[ 25, 353]]),\n",
       "       array([[  26,   73],\n",
       "       [  26,   86],\n",
       "       [  26,  142],\n",
       "       [  26,  212],\n",
       "       [  26,  220],\n",
       "       [  26,  268],\n",
       "       [  26,  328],\n",
       "       [  26,  404],\n",
       "       [  26,  405],\n",
       "       [  26,  486],\n",
       "       [  26,  505],\n",
       "       [  26,  570],\n",
       "       [  26,  589],\n",
       "       [  26,  592],\n",
       "       [  26,  610],\n",
       "       [  26,  639],\n",
       "       [  26,  675],\n",
       "       [  26,  727],\n",
       "       [  26,  758],\n",
       "       [  26,  776],\n",
       "       [  26,  793],\n",
       "       [  26,  801],\n",
       "       [  26,  835],\n",
       "       [  26,  844],\n",
       "       [  26,  852],\n",
       "       [  26,  881],\n",
       "       [  26,  883],\n",
       "       [  26,  908],\n",
       "       [  26,  924],\n",
       "       [  26,  966],\n",
       "       [  26,  994],\n",
       "       [  26, 1028],\n",
       "       [  26, 1031],\n",
       "       [  26, 1047],\n",
       "       [  26, 1077],\n",
       "       [  26, 1106]]),\n",
       "       array([[  27, 1114]]),\n",
       "       array([[  28,  135],\n",
       "       [  28,  182],\n",
       "       [  28,  202],\n",
       "       [  28,  305],\n",
       "       [  28,  356],\n",
       "       [  28,  406],\n",
       "       [  28,  409],\n",
       "       [  28,  481],\n",
       "       [  28,  550],\n",
       "       [  28,  564],\n",
       "       [  28,  627],\n",
       "       [  28,  746],\n",
       "       [  28,  782],\n",
       "       [  28,  810],\n",
       "       [  28,  885],\n",
       "       [  28,  939],\n",
       "       [  28,  942],\n",
       "       [  28,  991],\n",
       "       [  28, 1096]]),\n",
       "       array([[ 29,  12],\n",
       "       [ 29,  47],\n",
       "       [ 29, 197],\n",
       "       [ 29, 246],\n",
       "       [ 29, 278],\n",
       "       [ 29, 304],\n",
       "       [ 29, 319],\n",
       "       [ 29, 377],\n",
       "       [ 29, 696],\n",
       "       [ 29, 720],\n",
       "       [ 29, 741],\n",
       "       [ 29, 824],\n",
       "       [ 29, 840],\n",
       "       [ 29, 856],\n",
       "       [ 29, 901]]),\n",
       "       array([[  30,   19],\n",
       "       [  30,   70],\n",
       "       [  30,   74],\n",
       "       [  30,  143],\n",
       "       [  30,  184],\n",
       "       [  30,  273],\n",
       "       [  30,  311],\n",
       "       [  30,  325],\n",
       "       [  30,  346],\n",
       "       [  30,  410],\n",
       "       [  30,  508],\n",
       "       [  30,  541],\n",
       "       [  30,  565],\n",
       "       [  30,  572],\n",
       "       [  30,  603],\n",
       "       [  30,  625],\n",
       "       [  30,  724],\n",
       "       [  30,  848],\n",
       "       [  30,  886],\n",
       "       [  30,  887],\n",
       "       [  30,  927],\n",
       "       [  30,  934],\n",
       "       [  30,  962],\n",
       "       [  30,  973],\n",
       "       [  30, 1062]]),\n",
       "       array([[ 31, 756]]), array([[ 32, 207],\n",
       "       [ 32, 416]]),\n",
       "       array([[  33,   61],\n",
       "       [  33,   98],\n",
       "       [  33,  194],\n",
       "       [  33,  201],\n",
       "       [  33,  239],\n",
       "       [  33,  285],\n",
       "       [  33,  326],\n",
       "       [  33,  337],\n",
       "       [  33,  347],\n",
       "       [  33,  373],\n",
       "       [  33,  442],\n",
       "       [  33,  461],\n",
       "       [  33,  499],\n",
       "       [  33,  568],\n",
       "       [  33,  590],\n",
       "       [  33,  601],\n",
       "       [  33,  663],\n",
       "       [  33,  680],\n",
       "       [  33,  714],\n",
       "       [  33,  728],\n",
       "       [  33,  845],\n",
       "       [  33, 1036],\n",
       "       [  33, 1068],\n",
       "       [  33, 1083]]),\n",
       "       array([[  34,    7],\n",
       "       [  34,  344],\n",
       "       [  34,  459],\n",
       "       [  34,  662],\n",
       "       [  34,  667],\n",
       "       [  34, 1053]]),\n",
       "       array([[  35,  186],\n",
       "       [  35,  263],\n",
       "       [  35,  407],\n",
       "       [  35,  420],\n",
       "       [  35,  669],\n",
       "       [  35,  710],\n",
       "       [  35,  797],\n",
       "       [  35,  825],\n",
       "       [  35,  879],\n",
       "       [  35, 1056],\n",
       "       [  35, 1094]]),\n",
       "       array([[  36,   80],\n",
       "       [  36,  323],\n",
       "       [  36,  455],\n",
       "       [  36,  458],\n",
       "       [  36,  484],\n",
       "       [  36,  553],\n",
       "       [  36,  790],\n",
       "       [  36,  847],\n",
       "       [  36,  857],\n",
       "       [  36,  865],\n",
       "       [  36,  922],\n",
       "       [  36,  930],\n",
       "       [  36, 1039]]),\n",
       "       array([[ 37, 562]]),\n",
       "       array([[  38,   33],\n",
       "       [  38,   77],\n",
       "       [  38,   90],\n",
       "       [  38,  146],\n",
       "       [  38,  147],\n",
       "       [  38,  162],\n",
       "       [  38,  199],\n",
       "       [  38,  213],\n",
       "       [  38,  228],\n",
       "       [  38,  250],\n",
       "       [  38,  354],\n",
       "       [  38,  370],\n",
       "       [  38,  394],\n",
       "       [  38,  465],\n",
       "       [  38,  493],\n",
       "       [  38,  507],\n",
       "       [  38,  579],\n",
       "       [  38,  655],\n",
       "       [  38,  687],\n",
       "       [  38,  691],\n",
       "       [  38,  738],\n",
       "       [  38,  742],\n",
       "       [  38,  891],\n",
       "       [  38,  928],\n",
       "       [  38,  951],\n",
       "       [  38, 1011]]),\n",
       "       array([[  39,   16],\n",
       "       [  39,   67],\n",
       "       [  39,  168],\n",
       "       [  39,  880],\n",
       "       [  39, 1051]]),\n",
       "       array([[  40,  342],\n",
       "       [  40,  539],\n",
       "       [  40,  820],\n",
       "       [  40,  903],\n",
       "       [  40,  974],\n",
       "       [  40, 1092]]),\n",
       "       array([[ 41, 530]]),\n",
       "       array([[  42,  333],\n",
       "       [  42,  355],\n",
       "       [  42,  580],\n",
       "       [  42,  593],\n",
       "       [  42,  722],\n",
       "       [  42,  911],\n",
       "       [  42,  914],\n",
       "       [  42,  938],\n",
       "       [  42, 1101]]),\n",
       "       array([[  43,   10],\n",
       "       [  43,   53],\n",
       "       [  43,  221],\n",
       "       [  43,  249],\n",
       "       [  43,  301],\n",
       "       [  43,  367],\n",
       "       [  43,  398],\n",
       "       [  43,  447],\n",
       "       [  43,  472],\n",
       "       [  43,  511],\n",
       "       [  43,  519],\n",
       "       [  43,  577],\n",
       "       [  43,  631],\n",
       "       [  43,  725],\n",
       "       [  43,  774],\n",
       "       [  43, 1008]]),\n",
       "       array([[ 44,  36],\n",
       "       [ 44, 287],\n",
       "       [ 44, 412],\n",
       "       [ 44, 490],\n",
       "       [ 44, 694],\n",
       "       [ 44, 815]]),\n",
       "       array([[ 45, 320]]),\n",
       "       array([[  46,   64],\n",
       "       [  46,  195],\n",
       "       [  46,  527],\n",
       "       [  46,  532],\n",
       "       [  46,  640],\n",
       "       [  46, 1066],\n",
       "       [  46, 1089]]),\n",
       "       array([[ 47, 586]]), array([[ 48, 251]]), array([[ 49, 674]]),\n",
       "       array([[  50,   15],\n",
       "       [  50,   63],\n",
       "       [  50,   68],\n",
       "       [  50,  101],\n",
       "       [  50,  107],\n",
       "       [  50,  180],\n",
       "       [  50,  230],\n",
       "       [  50,  352],\n",
       "       [  50,  487],\n",
       "       [  50,  504],\n",
       "       [  50,  600],\n",
       "       [  50,  632],\n",
       "       [  50,  721],\n",
       "       [  50,  802],\n",
       "       [  50,  896],\n",
       "       [  50, 1007],\n",
       "       [  50, 1048],\n",
       "       [  50, 1070],\n",
       "       [  50, 1113]]),\n",
       "       array([[  51, 1014]]), array([[ 52, 676],\n",
       "       [ 52, 948]]),\n",
       "       array([[ 53, 335]]),\n",
       "       array([[  54,   38],\n",
       "       [  54,   92],\n",
       "       [  54,  160],\n",
       "       [  54,  227],\n",
       "       [  54,  253],\n",
       "       [  54,  303],\n",
       "       [  54,  312],\n",
       "       [  54,  331],\n",
       "       [  54,  351],\n",
       "       [  54,  397],\n",
       "       [  54,  456],\n",
       "       [  54,  463],\n",
       "       [  54,  516],\n",
       "       [  54,  517],\n",
       "       [  54,  602],\n",
       "       [  54,  621],\n",
       "       [  54,  641],\n",
       "       [  54,  653],\n",
       "       [  54,  657],\n",
       "       [  54,  717],\n",
       "       [  54,  757],\n",
       "       [  54,  773],\n",
       "       [  54,  803],\n",
       "       [  54,  818],\n",
       "       [  54,  829],\n",
       "       [  54,  850],\n",
       "       [  54,  986],\n",
       "       [  54, 1005],\n",
       "       [  54, 1015]]),\n",
       "       array([[ 55, 259]]), array([[ 56, 713]]),\n",
       "       array([[ 57, 267],\n",
       "       [ 57, 421]]), array([[ 58, 644]]),\n",
       "       array([[ 59,  76],\n",
       "       [ 59, 129],\n",
       "       [ 59, 137],\n",
       "       [ 59, 144],\n",
       "       [ 59, 145],\n",
       "       [ 59, 298],\n",
       "       [ 59, 430],\n",
       "       [ 59, 522],\n",
       "       [ 59, 604],\n",
       "       [ 59, 629],\n",
       "       [ 59, 637],\n",
       "       [ 59, 677],\n",
       "       [ 59, 775]]),\n",
       "       array([[ 60, 449],\n",
       "       [ 60, 906]]),\n",
       "       array([[  61,    1],\n",
       "       [  61,   40],\n",
       "       [  61,   50],\n",
       "       [  61,  130],\n",
       "       [  61,  188],\n",
       "       [  61,  217],\n",
       "       [  61,  330],\n",
       "       [  61,  339],\n",
       "       [  61,  408],\n",
       "       [  61,  422],\n",
       "       [  61,  531],\n",
       "       [  61,  548],\n",
       "       [  61,  549],\n",
       "       [  61,  557],\n",
       "       [  61,  566],\n",
       "       [  61,  584],\n",
       "       [  61,  597],\n",
       "       [  61,  795],\n",
       "       [  61,  867],\n",
       "       [  61,  874],\n",
       "       [  61,  955],\n",
       "       [  61,  988],\n",
       "       [  61, 1103],\n",
       "       [  61, 1105]]),\n",
       "       array([[ 62, 234],\n",
       "       [ 62, 528],\n",
       "       [ 62, 545]]),\n",
       "       array([[ 63, 699]]),\n",
       "       array([[  64,   22],\n",
       "       [  64,   32],\n",
       "       [  64,   72],\n",
       "       [  64,  165],\n",
       "       [  64,  306],\n",
       "       [  64,  345],\n",
       "       [  64,  573],\n",
       "       [  64,  619],\n",
       "       [  64,  660],\n",
       "       [  64,  702],\n",
       "       [  64, 1049],\n",
       "       [  64, 1065]]),\n",
       "       array([[  65,  153],\n",
       "       [  65,  417],\n",
       "       [  65,  466],\n",
       "       [  65,  506],\n",
       "       [  65,  552],\n",
       "       [  65,  705],\n",
       "       [  65,  784],\n",
       "       [  65,  792],\n",
       "       [  65, 1003],\n",
       "       [  65, 1086]]),\n",
       "       array([[  66, 1112]]), array([[ 67, 769]]),\n",
       "       array([[ 68, 122],\n",
       "       [ 68, 299],\n",
       "       [ 68, 453],\n",
       "       [ 68, 732]]),\n",
       "       array([[  69,   51],\n",
       "       [  69,  132],\n",
       "       [  69,  174],\n",
       "       [  69,  215],\n",
       "       [  69,  428],\n",
       "       [  69,  477],\n",
       "       [  69,  547],\n",
       "       [  69,  598],\n",
       "       [  69,  611],\n",
       "       [  69,  638],\n",
       "       [  69,  650],\n",
       "       [  69,  706],\n",
       "       [  69,  716],\n",
       "       [  69,  766],\n",
       "       [  69,  805],\n",
       "       [  69,  904],\n",
       "       [  69,  915],\n",
       "       [  69,  952],\n",
       "       [  69, 1012],\n",
       "       [  69, 1038],\n",
       "       [  69, 1041]]),\n",
       "       array([[  70,  157],\n",
       "       [  70,  256],\n",
       "       [  70,  387],\n",
       "       [  70,  615],\n",
       "       [  70,  809],\n",
       "       [  70, 1026],\n",
       "       [  70, 1064]]),\n",
       "       array([[ 71, 348]]), array([[72, 25]]),\n",
       "       array([[  73,  279],\n",
       "       [  73,  739],\n",
       "       [  73, 1019]]),\n",
       "       array([[ 74, 126]]), array([[ 75, 380]]),\n",
       "       array([[  76,   29],\n",
       "       [  76,   49],\n",
       "       [  76,  128],\n",
       "       [  76,  224],\n",
       "       [  76,  491],\n",
       "       [  76,  605],\n",
       "       [  76,  666],\n",
       "       [  76,  673],\n",
       "       [  76, 1061],\n",
       "       [  76, 1078]]),\n",
       "       array([[ 77, 274]]), array([[  78, 1027]]),\n",
       "       array([[  79,   52],\n",
       "       [  79,  113],\n",
       "       [  79,  155],\n",
       "       [  79,  172],\n",
       "       [  79,  191],\n",
       "       [  79,  275],\n",
       "       [  79,  283],\n",
       "       [  79,  385],\n",
       "       [  79,  471],\n",
       "       [  79,  498],\n",
       "       [  79,  612],\n",
       "       [  79,  744],\n",
       "       [  79, 1000],\n",
       "       [  79, 1102]]),\n",
       "       array([[  80,  102],\n",
       "       [  80,  120],\n",
       "       [  80,  140],\n",
       "       [  80,  161],\n",
       "       [  80,  169],\n",
       "       [  80,  179],\n",
       "       [  80,  200],\n",
       "       [  80,  216],\n",
       "       [  80,  226],\n",
       "       [  80,  238],\n",
       "       [  80,  338],\n",
       "       [  80,  343],\n",
       "       [  80,  651],\n",
       "       [  80,  678],\n",
       "       [  80,  689],\n",
       "       [  80,  718],\n",
       "       [  80,  791],\n",
       "       [  80,  926],\n",
       "       [  80,  936],\n",
       "       [  80,  954],\n",
       "       [  80,  975],\n",
       "       [  80, 1022],\n",
       "       [  80, 1025],\n",
       "       [  80, 1037],\n",
       "       [  80, 1060],\n",
       "       [  80, 1073]]),\n",
       "       array([[  81,    3],\n",
       "       [  81,   43],\n",
       "       [  81,   94],\n",
       "       [  81,  206],\n",
       "       [  81,  290],\n",
       "       [  81,  296],\n",
       "       [  81,  297],\n",
       "       [  81,  309],\n",
       "       [  81,  329],\n",
       "       [  81,  392],\n",
       "       [  81,  403],\n",
       "       [  81,  561],\n",
       "       [  81,  582],\n",
       "       [  81,  624],\n",
       "       [  81,  685],\n",
       "       [  81,  692],\n",
       "       [  81,  759],\n",
       "       [  81,  770],\n",
       "       [  81,  796],\n",
       "       [  81,  917],\n",
       "       [  81,  976],\n",
       "       [  81,  980],\n",
       "       [  81, 1052],\n",
       "       [  81, 1058]]),\n",
       "       array([[  82,    8],\n",
       "       [  82,   14],\n",
       "       [  82,   39],\n",
       "       [  82,  152],\n",
       "       [  82,  176],\n",
       "       [  82,  265],\n",
       "       [  82,  294],\n",
       "       [  82,  314],\n",
       "       [  82,  391],\n",
       "       [  82,  418],\n",
       "       [  82,  426],\n",
       "       [  82,  446],\n",
       "       [  82,  452],\n",
       "       [  82,  567],\n",
       "       [  82,  581],\n",
       "       [  82,  659],\n",
       "       [  82,  695],\n",
       "       [  82,  749],\n",
       "       [  82,  752],\n",
       "       [  82,  992],\n",
       "       [  82, 1016],\n",
       "       [  82, 1088],\n",
       "       [  82, 1100],\n",
       "       [  82, 1111]]),\n",
       "       array([[  83,   46],\n",
       "       [  83,   58],\n",
       "       [  83,   89],\n",
       "       [  83,  136],\n",
       "       [  83,  149],\n",
       "       [  83,  258],\n",
       "       [  83,  288],\n",
       "       [  83,  399],\n",
       "       [  83,  514],\n",
       "       [  83,  518],\n",
       "       [  83,  540],\n",
       "       [  83,  575],\n",
       "       [  83,  636],\n",
       "       [  83,  671],\n",
       "       [  83,  701],\n",
       "       [  83,  778],\n",
       "       [  83,  884],\n",
       "       [  83,  890],\n",
       "       [  83,  900],\n",
       "       [  83,  920],\n",
       "       [  83, 1067],\n",
       "       [  83, 1107]]),\n",
       "       array([[ 84,  42],\n",
       "       [ 84, 252],\n",
       "       [ 84, 316],\n",
       "       [ 84, 358],\n",
       "       [ 84, 368],\n",
       "       [ 84, 388],\n",
       "       [ 84, 502],\n",
       "       [ 84, 645],\n",
       "       [ 84, 697],\n",
       "       [ 84, 729]]),\n",
       "       array([[ 85, 964]]), array([[ 86, 533],\n",
       "       [ 86, 853]]),\n",
       "       array([[ 87, 389],\n",
       "       [ 87, 432]]), array([[ 88, 470]]),\n",
       "       array([[ 89, 512]]), array([[ 90, 983]]),\n",
       "       array([[ 91,  21],\n",
       "       [ 91,  79],\n",
       "       [ 91, 141],\n",
       "       [ 91, 193],\n",
       "       [ 91, 295],\n",
       "       [ 91, 440],\n",
       "       [ 91, 495],\n",
       "       [ 91, 537],\n",
       "       [ 91, 591],\n",
       "       [ 91, 813],\n",
       "       [ 91, 855],\n",
       "       [ 91, 950]]),\n",
       "       array([[ 92, 158],\n",
       "       [ 92, 445],\n",
       "       [ 92, 450],\n",
       "       [ 92, 515],\n",
       "       [ 92, 947],\n",
       "       [ 92, 985]]),\n",
       "       array([[  93,  578],\n",
       "       [  93, 1045],\n",
       "       [  93, 1099]]),\n",
       "       array([[ 94, 386],\n",
       "       [ 94, 872],\n",
       "       [ 94, 905]]),\n",
       "       array([[ 95, 192]]),\n",
       "       array([[ 96,  93],\n",
       "       [ 96, 235],\n",
       "       [ 96, 272],\n",
       "       [ 96, 509],\n",
       "       [ 96, 658],\n",
       "       [ 96, 693],\n",
       "       [ 96, 734],\n",
       "       [ 96, 737]]),\n",
       "       array([[ 97, 831]]),\n",
       "       array([[  98,   31],\n",
       "       [  98,   75],\n",
       "       [  98,  112],\n",
       "       [  98,  175],\n",
       "       [  98,  281],\n",
       "       [  98,  468],\n",
       "       [  98,  763],\n",
       "       [  98,  860],\n",
       "       [  98,  871],\n",
       "       [  98,  912],\n",
       "       [  98, 1024],\n",
       "       [  98, 1057],\n",
       "       [  98, 1087]]),\n",
       "       array([[ 99, 254],\n",
       "       [ 99, 302],\n",
       "       [ 99, 488],\n",
       "       [ 99, 642],\n",
       "       [ 99, 762],\n",
       "       [ 99, 772],\n",
       "       [ 99, 777],\n",
       "       [ 99, 789],\n",
       "       [ 99, 837],\n",
       "       [ 99, 861],\n",
       "       [ 99, 897],\n",
       "       [ 99, 969]])], dtype=object)"
      ]
     },
     "execution_count": 80,
     "metadata": {},
     "output_type": "execute_result"
    }
   ],
   "source": [
    "np.array([np.array([np.array([cluster_label, store]) for store in stores]) for cluster_label, stores in cm.store_ids.items()]).flatten()#.flatten()"
   ]
  },
  {
   "cell_type": "code",
   "execution_count": 76,
   "id": "aboriginal-benjamin",
   "metadata": {
    "colab": {
     "base_uri": "https://localhost:8080/"
    },
    "id": "M8wuyGlyL1SP",
    "outputId": "25507b62-3c40-4d5b-9b7f-a86a1c52370a"
   },
   "outputs": [
    {
     "name": "stderr",
     "output_type": "stream",
     "text": [
      "/usr/local/lib/python3.7/dist-packages/ipykernel_launcher.py:1: VisibleDeprecationWarning: Creating an ndarray from ragged nested sequences (which is a list-or-tuple of lists-or-tuples-or ndarrays with different lengths or shapes) is deprecated. If you meant to do this, you must specify 'dtype=object' when creating the ndarray\n",
      "  \"\"\"Entry point for launching an IPython kernel.\n"
     ]
    },
    {
     "data": {
      "text/plain": [
       "array([[list([[0, 23], [0, 30], [0, 45], [0, 91], [0, 131], [0, 166], [0, 170], [0, 244], [0, 334], [0, 341], [0, 393], [0, 451], [0, 521], [0, 563], [0, 690], [0, 748], [0, 800], [0, 816], [0, 833], [0, 875], [0, 916], [0, 997]]),\n",
       "        list([[1, 24], [1, 27], [1, 35], [1, 71], [1, 82], [1, 269], [1, 308], [1, 731], [1, 846]])],\n",
       "       [list([[2, 733]]),\n",
       "        list([[3, 20], [3, 139], [3, 164], [3, 181], [3, 190], [3, 243], [3, 277], [3, 413], [3, 542], [3, 670], [3, 711], [3, 712], [3, 771], [3, 806], [3, 893], [3, 932]])],\n",
       "       [list([[4, 62], [4, 623], [4, 1072]]), list([[5, 383]])],\n",
       "       [list([[6, 108], [6, 434], [6, 587], [6, 909], [6, 1080]]),\n",
       "        list([[7, 171], [7, 448], [7, 510], [7, 535], [7, 536], [7, 616], [7, 665], [7, 707], [7, 765], [7, 826], [7, 967], [7, 1040]])],\n",
       "       [list([[8, 56], [8, 111], [8, 300], [8, 350], [8, 369], [8, 371], [8, 618], [8, 661], [8, 723], [8, 740], [8, 832], [8, 866], [8, 937], [8, 943], [8, 960], [8, 1050]]),\n",
       "        list([[9, 1097]])],\n",
       "       [list([[10, 210], [10, 219], [10, 425], [10, 435], [10, 473], [10, 543], [10, 558], [10, 656], [10, 681], [10, 703], [10, 764], [10, 970], [10, 1076]]),\n",
       "        list([[11, 183], [11, 204], [11, 218], [11, 501], [11, 646], [11, 858], [11, 919], [11, 941], [11, 977], [11, 989], [11, 1009], [11, 1109]])],\n",
       "       [list([[12, 69], [12, 154], [12, 189], [12, 229], [12, 247], [12, 372], [12, 497], [12, 574], [12, 753], [12, 894], [12, 913], [12, 965], [12, 1079]]),\n",
       "        list([[13, 48], [13, 83], [13, 105], [13, 110], [13, 117], [13, 124], [13, 242], [13, 315], [13, 364], [13, 379], [13, 395], [13, 520], [13, 538], [13, 554], [13, 622], [13, 700], [13, 751], [13, 811], [13, 864], [13, 931], [13, 945], [13, 946], [13, 956], [13, 998], [13, 1013], [13, 1042], [13, 1063]])],\n",
       "       [list([[14, 262]]), list([[15, 842]])],\n",
       "       [list([[16, 159], [16, 427], [16, 492], [16, 534]]),\n",
       "        list([[17, 84], [17, 336], [17, 467], [17, 768]])],\n",
       "       [list([[18, 81], [18, 100], [18, 115], [18, 571], [18, 620], [18, 633], [18, 684], [18, 859]]),\n",
       "        list([[19, 13], [19, 41], [19, 99], [19, 127], [19, 231], [19, 284], [19, 317], [19, 365], [19, 429], [19, 457], [19, 485], [19, 500], [19, 555], [19, 719], [19, 736], [19, 750], [19, 804], [19, 851], [19, 902], [19, 1004], [19, 1104]])],\n",
       "       [list([[20, 11], [20, 248], [20, 310], [20, 524], [20, 862], [20, 863]]),\n",
       "        list([[21, 214], [21, 233], [21, 245], [21, 362], [21, 411], [21, 431], [21, 799], [21, 807], [21, 868], [21, 895], [21, 1020]])],\n",
       "       [list([[22, 109], [22, 119], [22, 187], [22, 209], [22, 340], [22, 433], [22, 551], [22, 585], [22, 588], [22, 628], [22, 647], [22, 767], [22, 819], [22, 823], [22, 877], [22, 929], [22, 935], [22, 1054], [22, 1071]]),\n",
       "        list([[23, 118], [23, 150], [23, 529], [23, 643], [23, 822], [23, 849], [23, 888], [23, 944], [23, 1010], [23, 1059], [23, 1091]])],\n",
       "       [list([[24, 9], [24, 66], [24, 241], [24, 255], [24, 280], [24, 289], [24, 359], [24, 378], [24, 414], [24, 415], [24, 424], [24, 441], [24, 475], [24, 785], [24, 882], [24, 907], [24, 925], [24, 961], [24, 984], [24, 1044], [24, 1084], [24, 1115]]),\n",
       "        list([[25, 353]])],\n",
       "       [list([[26, 73], [26, 86], [26, 142], [26, 212], [26, 220], [26, 268], [26, 328], [26, 404], [26, 405], [26, 486], [26, 505], [26, 570], [26, 589], [26, 592], [26, 610], [26, 639], [26, 675], [26, 727], [26, 758], [26, 776], [26, 793], [26, 801], [26, 835], [26, 844], [26, 852], [26, 881], [26, 883], [26, 908], [26, 924], [26, 966], [26, 994], [26, 1028], [26, 1031], [26, 1047], [26, 1077], [26, 1106]]),\n",
       "        list([[27, 1114]])],\n",
       "       [list([[28, 135], [28, 182], [28, 202], [28, 305], [28, 356], [28, 406], [28, 409], [28, 481], [28, 550], [28, 564], [28, 627], [28, 746], [28, 782], [28, 810], [28, 885], [28, 939], [28, 942], [28, 991], [28, 1096]]),\n",
       "        list([[29, 12], [29, 47], [29, 197], [29, 246], [29, 278], [29, 304], [29, 319], [29, 377], [29, 696], [29, 720], [29, 741], [29, 824], [29, 840], [29, 856], [29, 901]])],\n",
       "       [list([[30, 19], [30, 70], [30, 74], [30, 143], [30, 184], [30, 273], [30, 311], [30, 325], [30, 346], [30, 410], [30, 508], [30, 541], [30, 565], [30, 572], [30, 603], [30, 625], [30, 724], [30, 848], [30, 886], [30, 887], [30, 927], [30, 934], [30, 962], [30, 973], [30, 1062]]),\n",
       "        list([[31, 756]])],\n",
       "       [list([[32, 207], [32, 416]]),\n",
       "        list([[33, 61], [33, 98], [33, 194], [33, 201], [33, 239], [33, 285], [33, 326], [33, 337], [33, 347], [33, 373], [33, 442], [33, 461], [33, 499], [33, 568], [33, 590], [33, 601], [33, 663], [33, 680], [33, 714], [33, 728], [33, 845], [33, 1036], [33, 1068], [33, 1083]])],\n",
       "       [list([[34, 7], [34, 344], [34, 459], [34, 662], [34, 667], [34, 1053]]),\n",
       "        list([[35, 186], [35, 263], [35, 407], [35, 420], [35, 669], [35, 710], [35, 797], [35, 825], [35, 879], [35, 1056], [35, 1094]])],\n",
       "       [list([[36, 80], [36, 323], [36, 455], [36, 458], [36, 484], [36, 553], [36, 790], [36, 847], [36, 857], [36, 865], [36, 922], [36, 930], [36, 1039]]),\n",
       "        list([[37, 562]])],\n",
       "       [list([[38, 33], [38, 77], [38, 90], [38, 146], [38, 147], [38, 162], [38, 199], [38, 213], [38, 228], [38, 250], [38, 354], [38, 370], [38, 394], [38, 465], [38, 493], [38, 507], [38, 579], [38, 655], [38, 687], [38, 691], [38, 738], [38, 742], [38, 891], [38, 928], [38, 951], [38, 1011]]),\n",
       "        list([[39, 16], [39, 67], [39, 168], [39, 880], [39, 1051]])],\n",
       "       [list([[40, 342], [40, 539], [40, 820], [40, 903], [40, 974], [40, 1092]]),\n",
       "        list([[41, 530]])],\n",
       "       [list([[42, 333], [42, 355], [42, 580], [42, 593], [42, 722], [42, 911], [42, 914], [42, 938], [42, 1101]]),\n",
       "        list([[43, 10], [43, 53], [43, 221], [43, 249], [43, 301], [43, 367], [43, 398], [43, 447], [43, 472], [43, 511], [43, 519], [43, 577], [43, 631], [43, 725], [43, 774], [43, 1008]])],\n",
       "       [list([[44, 36], [44, 287], [44, 412], [44, 490], [44, 694], [44, 815]]),\n",
       "        list([[45, 320]])],\n",
       "       [list([[46, 64], [46, 195], [46, 527], [46, 532], [46, 640], [46, 1066], [46, 1089]]),\n",
       "        list([[47, 586]])],\n",
       "       [list([[48, 251]]), list([[49, 674]])],\n",
       "       [list([[50, 15], [50, 63], [50, 68], [50, 101], [50, 107], [50, 180], [50, 230], [50, 352], [50, 487], [50, 504], [50, 600], [50, 632], [50, 721], [50, 802], [50, 896], [50, 1007], [50, 1048], [50, 1070], [50, 1113]]),\n",
       "        list([[51, 1014]])],\n",
       "       [list([[52, 676], [52, 948]]), list([[53, 335]])],\n",
       "       [list([[54, 38], [54, 92], [54, 160], [54, 227], [54, 253], [54, 303], [54, 312], [54, 331], [54, 351], [54, 397], [54, 456], [54, 463], [54, 516], [54, 517], [54, 602], [54, 621], [54, 641], [54, 653], [54, 657], [54, 717], [54, 757], [54, 773], [54, 803], [54, 818], [54, 829], [54, 850], [54, 986], [54, 1005], [54, 1015]]),\n",
       "        list([[55, 259]])],\n",
       "       [list([[56, 713]]), list([[57, 267], [57, 421]])],\n",
       "       [list([[58, 644]]),\n",
       "        list([[59, 76], [59, 129], [59, 137], [59, 144], [59, 145], [59, 298], [59, 430], [59, 522], [59, 604], [59, 629], [59, 637], [59, 677], [59, 775]])],\n",
       "       [list([[60, 449], [60, 906]]),\n",
       "        list([[61, 1], [61, 40], [61, 50], [61, 130], [61, 188], [61, 217], [61, 330], [61, 339], [61, 408], [61, 422], [61, 531], [61, 548], [61, 549], [61, 557], [61, 566], [61, 584], [61, 597], [61, 795], [61, 867], [61, 874], [61, 955], [61, 988], [61, 1103], [61, 1105]])],\n",
       "       [list([[62, 234], [62, 528], [62, 545]]), list([[63, 699]])],\n",
       "       [list([[64, 22], [64, 32], [64, 72], [64, 165], [64, 306], [64, 345], [64, 573], [64, 619], [64, 660], [64, 702], [64, 1049], [64, 1065]]),\n",
       "        list([[65, 153], [65, 417], [65, 466], [65, 506], [65, 552], [65, 705], [65, 784], [65, 792], [65, 1003], [65, 1086]])],\n",
       "       [list([[66, 1112]]), list([[67, 769]])],\n",
       "       [list([[68, 122], [68, 299], [68, 453], [68, 732]]),\n",
       "        list([[69, 51], [69, 132], [69, 174], [69, 215], [69, 428], [69, 477], [69, 547], [69, 598], [69, 611], [69, 638], [69, 650], [69, 706], [69, 716], [69, 766], [69, 805], [69, 904], [69, 915], [69, 952], [69, 1012], [69, 1038], [69, 1041]])],\n",
       "       [list([[70, 157], [70, 256], [70, 387], [70, 615], [70, 809], [70, 1026], [70, 1064]]),\n",
       "        list([[71, 348]])],\n",
       "       [list([[72, 25]]), list([[73, 279], [73, 739], [73, 1019]])],\n",
       "       [list([[74, 126]]), list([[75, 380]])],\n",
       "       [list([[76, 29], [76, 49], [76, 128], [76, 224], [76, 491], [76, 605], [76, 666], [76, 673], [76, 1061], [76, 1078]]),\n",
       "        list([[77, 274]])],\n",
       "       [list([[78, 1027]]),\n",
       "        list([[79, 52], [79, 113], [79, 155], [79, 172], [79, 191], [79, 275], [79, 283], [79, 385], [79, 471], [79, 498], [79, 612], [79, 744], [79, 1000], [79, 1102]])],\n",
       "       [list([[80, 102], [80, 120], [80, 140], [80, 161], [80, 169], [80, 179], [80, 200], [80, 216], [80, 226], [80, 238], [80, 338], [80, 343], [80, 651], [80, 678], [80, 689], [80, 718], [80, 791], [80, 926], [80, 936], [80, 954], [80, 975], [80, 1022], [80, 1025], [80, 1037], [80, 1060], [80, 1073]]),\n",
       "        list([[81, 3], [81, 43], [81, 94], [81, 206], [81, 290], [81, 296], [81, 297], [81, 309], [81, 329], [81, 392], [81, 403], [81, 561], [81, 582], [81, 624], [81, 685], [81, 692], [81, 759], [81, 770], [81, 796], [81, 917], [81, 976], [81, 980], [81, 1052], [81, 1058]])],\n",
       "       [list([[82, 8], [82, 14], [82, 39], [82, 152], [82, 176], [82, 265], [82, 294], [82, 314], [82, 391], [82, 418], [82, 426], [82, 446], [82, 452], [82, 567], [82, 581], [82, 659], [82, 695], [82, 749], [82, 752], [82, 992], [82, 1016], [82, 1088], [82, 1100], [82, 1111]]),\n",
       "        list([[83, 46], [83, 58], [83, 89], [83, 136], [83, 149], [83, 258], [83, 288], [83, 399], [83, 514], [83, 518], [83, 540], [83, 575], [83, 636], [83, 671], [83, 701], [83, 778], [83, 884], [83, 890], [83, 900], [83, 920], [83, 1067], [83, 1107]])],\n",
       "       [list([[84, 42], [84, 252], [84, 316], [84, 358], [84, 368], [84, 388], [84, 502], [84, 645], [84, 697], [84, 729]]),\n",
       "        list([[85, 964]])],\n",
       "       [list([[86, 533], [86, 853]]), list([[87, 389], [87, 432]])],\n",
       "       [list([[88, 470]]), list([[89, 512]])],\n",
       "       [list([[90, 983]]),\n",
       "        list([[91, 21], [91, 79], [91, 141], [91, 193], [91, 295], [91, 440], [91, 495], [91, 537], [91, 591], [91, 813], [91, 855], [91, 950]])],\n",
       "       [list([[92, 158], [92, 445], [92, 450], [92, 515], [92, 947], [92, 985]]),\n",
       "        list([[93, 578], [93, 1045], [93, 1099]])],\n",
       "       [list([[94, 386], [94, 872], [94, 905]]), list([[95, 192]])],\n",
       "       [list([[96, 93], [96, 235], [96, 272], [96, 509], [96, 658], [96, 693], [96, 734], [96, 737]]),\n",
       "        list([[97, 831]])],\n",
       "       [list([[98, 31], [98, 75], [98, 112], [98, 175], [98, 281], [98, 468], [98, 763], [98, 860], [98, 871], [98, 912], [98, 1024], [98, 1057], [98, 1087]]),\n",
       "        list([[99, 254], [99, 302], [99, 488], [99, 642], [99, 762], [99, 772], [99, 777], [99, 789], [99, 837], [99, 861], [99, 897], [99, 969]])]],\n",
       "      dtype=object)"
      ]
     },
     "execution_count": 76,
     "metadata": {},
     "output_type": "execute_result"
    }
   ],
   "source": [
    "np.reshape(np.array([[[cluster_label, store] for store in stores] for cluster_label, stores in cm.store_ids.items()]).flatten(), (-1, 2))"
   ]
  },
  {
   "cell_type": "code",
   "execution_count": null,
   "id": "comfortable-waterproof",
   "metadata": {
    "id": "g8LnUZYkLkNC"
   },
   "outputs": [],
   "source": [
    "val_predict_df[['Store']]"
   ]
  }
 ],
 "metadata": {
  "colab": {
   "name": "Time series forecasting.ipynb",
   "provenance": []
  },
  "kernelspec": {
   "display_name": "Python 3",
   "language": "python",
   "name": "python3"
  },
  "language_info": {
   "codemirror_mode": {
    "name": "ipython",
    "version": 3
   },
   "file_extension": ".py",
   "mimetype": "text/x-python",
   "name": "python",
   "nbconvert_exporter": "python",
   "pygments_lexer": "ipython3",
   "version": "3.9.0"
  },
  "toc": {
   "base_numbering": 1,
   "nav_menu": {},
   "number_sections": true,
   "sideBar": true,
   "skip_h1_title": false,
   "title_cell": "Table of Contents",
   "title_sidebar": "Contents",
   "toc_cell": false,
   "toc_position": {},
   "toc_section_display": true,
   "toc_window_display": false
  }
 },
 "nbformat": 4,
 "nbformat_minor": 5
}
