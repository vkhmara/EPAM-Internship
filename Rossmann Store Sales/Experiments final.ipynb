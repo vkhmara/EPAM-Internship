{
 "cells": [
  {
   "cell_type": "code",
   "execution_count": 1,
   "id": "alert-pickup",
   "metadata": {
    "ExecuteTime": {
     "end_time": "2021-12-05T06:47:56.711615Z",
     "start_time": "2021-12-05T06:47:47.837921Z"
    },
    "execution": {
     "iopub.execute_input": "2021-12-14T13:42:04.517213Z",
     "iopub.status.busy": "2021-12-14T13:42:04.517213Z",
     "iopub.status.idle": "2021-12-14T13:42:11.892137Z",
     "shell.execute_reply": "2021-12-14T13:42:11.892137Z",
     "shell.execute_reply.started": "2021-12-14T13:42:04.517213Z"
    },
    "id": "confident-footwear",
    "tags": []
   },
   "outputs": [],
   "source": [
    "import matplotlib.pyplot as plt\n",
    "import numpy as np\n",
    "import pandas as pd\n",
    "import seaborn as sns\n",
    "from functools import partial\n",
    "from itertools import product\n",
    "from lightgbm import LGBMRegressor\n",
    "from sklearn.linear_model import ElasticNet, SGDClassifier\n",
    "from sklearn.preprocessing import MinMaxScaler\n",
    "from sklearn.neighbors import KNeighborsRegressor\n",
    "import re\n",
    "import time\n",
    "import datetime\n",
    "\n",
    "from my_modules.plot_and_stat_funcs import *\n",
    "from my_modules.transformations import *"
   ]
  },
  {
   "cell_type": "code",
   "execution_count": 2,
   "id": "funded-funeral",
   "metadata": {
    "execution": {
     "iopub.execute_input": "2021-12-14T13:42:11.898648Z",
     "iopub.status.busy": "2021-12-14T13:42:11.898648Z",
     "iopub.status.idle": "2021-12-14T13:42:11.924914Z",
     "shell.execute_reply": "2021-12-14T13:42:11.924914Z",
     "shell.execute_reply.started": "2021-12-14T13:42:11.898648Z"
    },
    "id": "sSYnVDZHmZnM",
    "tags": []
   },
   "outputs": [],
   "source": [
    "data_folder = 'data/'"
   ]
  },
  {
   "cell_type": "code",
   "execution_count": 3,
   "id": "increasing-gasoline",
   "metadata": {
    "ExecuteTime": {
     "end_time": "2021-12-05T06:48:02.884609Z",
     "start_time": "2021-12-05T06:47:56.831430Z"
    },
    "execution": {
     "iopub.execute_input": "2021-12-14T13:42:11.932914Z",
     "iopub.status.busy": "2021-12-14T13:42:11.932914Z",
     "iopub.status.idle": "2021-12-14T13:42:20.590339Z",
     "shell.execute_reply": "2021-12-14T13:42:20.590339Z",
     "shell.execute_reply.started": "2021-12-14T13:42:11.932914Z"
    },
    "id": "unique-bowling",
    "tags": []
   },
   "outputs": [],
   "source": [
    "X_train = pd.read_csv(data_folder + 'X_train.csv')\n",
    "y_train = pd.read_csv(data_folder + 'y_train.csv').target\n",
    "X_val = pd.read_csv(data_folder + 'X_val.csv')\n",
    "y_val = pd.read_csv(data_folder + 'y_val.csv').target\n",
    "X_test = pd.read_csv(data_folder + 'X_test.csv')\n",
    "test = pd.read_csv(data_folder + 'test.csv')\n",
    "submission = pd.read_csv(data_folder + 'sample_submission.csv')"
   ]
  },
  {
   "cell_type": "code",
   "execution_count": 4,
   "id": "antique-inquiry",
   "metadata": {
    "colab": {
     "base_uri": "https://localhost:8080/",
     "height": 101
    },
    "execution": {
     "iopub.execute_input": "2021-12-14T13:42:20.606336Z",
     "iopub.status.busy": "2021-12-14T13:42:20.606336Z",
     "iopub.status.idle": "2021-12-14T13:42:20.710803Z",
     "shell.execute_reply": "2021-12-14T13:42:20.710319Z",
     "shell.execute_reply.started": "2021-12-14T13:42:20.606336Z"
    },
    "id": "cZr73NGTpU-N",
    "outputId": "7f9f54a9-e685-4e78-bda4-e595a025bfa3",
    "tags": []
   },
   "outputs": [
    {
     "data": {
      "text/html": [
       "<div>\n",
       "<style scoped>\n",
       "    .dataframe tbody tr th:only-of-type {\n",
       "        vertical-align: middle;\n",
       "    }\n",
       "\n",
       "    .dataframe tbody tr th {\n",
       "        vertical-align: top;\n",
       "    }\n",
       "\n",
       "    .dataframe thead th {\n",
       "        text-align: right;\n",
       "    }\n",
       "</style>\n",
       "<table border=\"1\" class=\"dataframe\">\n",
       "  <thead>\n",
       "    <tr style=\"text-align: right;\">\n",
       "      <th></th>\n",
       "      <th>Store</th>\n",
       "      <th>DayOfWeek</th>\n",
       "      <th>Promo</th>\n",
       "      <th>StateHoliday</th>\n",
       "      <th>SchoolHoliday</th>\n",
       "      <th>ordered_day</th>\n",
       "      <th>ordered_week</th>\n",
       "      <th>ordered_month</th>\n",
       "      <th>MonthOfYear</th>\n",
       "      <th>Promo2</th>\n",
       "      <th>...</th>\n",
       "      <th>Assortment_c</th>\n",
       "      <th>EncodedDistance</th>\n",
       "      <th>EncodedCompetitionMonthsFromStart</th>\n",
       "      <th>EncodedPromo2WeeksFromStart</th>\n",
       "      <th>PromoInterval_</th>\n",
       "      <th>PromoInterval_Jan,Apr,Jul,Oct</th>\n",
       "      <th>PromoInterval_Feb,May,Aug,Nov</th>\n",
       "      <th>PromoInterval_Mar,Jun,Sept,Dec</th>\n",
       "      <th>Encoded_Customers</th>\n",
       "      <th>Encoded_sum_target</th>\n",
       "    </tr>\n",
       "  </thead>\n",
       "  <tbody>\n",
       "    <tr>\n",
       "      <th>0</th>\n",
       "      <td>1</td>\n",
       "      <td>6</td>\n",
       "      <td>0</td>\n",
       "      <td>0</td>\n",
       "      <td>0</td>\n",
       "      <td>893</td>\n",
       "      <td>127</td>\n",
       "      <td>29</td>\n",
       "      <td>5</td>\n",
       "      <td>0</td>\n",
       "      <td>...</td>\n",
       "      <td>0.0</td>\n",
       "      <td>-0.321681</td>\n",
       "      <td>0.940159</td>\n",
       "      <td>0.0</td>\n",
       "      <td>1.0</td>\n",
       "      <td>0.0</td>\n",
       "      <td>0.0</td>\n",
       "      <td>0.0</td>\n",
       "      <td>-0.362074</td>\n",
       "      <td>-0.900261</td>\n",
       "    </tr>\n",
       "  </tbody>\n",
       "</table>\n",
       "<p>1 rows × 26 columns</p>\n",
       "</div>"
      ],
      "text/plain": [
       "   Store  DayOfWeek  Promo  StateHoliday  SchoolHoliday  ordered_day  \\\n",
       "0      1          6      0             0              0          893   \n",
       "\n",
       "   ordered_week  ordered_month  MonthOfYear  Promo2  ...  Assortment_c  \\\n",
       "0           127             29            5       0  ...           0.0   \n",
       "\n",
       "   EncodedDistance  EncodedCompetitionMonthsFromStart  \\\n",
       "0        -0.321681                           0.940159   \n",
       "\n",
       "   EncodedPromo2WeeksFromStart  PromoInterval_  PromoInterval_Jan,Apr,Jul,Oct  \\\n",
       "0                          0.0             1.0                            0.0   \n",
       "\n",
       "   PromoInterval_Feb,May,Aug,Nov  PromoInterval_Mar,Jun,Sept,Dec  \\\n",
       "0                            0.0                             0.0   \n",
       "\n",
       "   Encoded_Customers  Encoded_sum_target  \n",
       "0          -0.362074           -0.900261  \n",
       "\n",
       "[1 rows x 26 columns]"
      ]
     },
     "execution_count": 4,
     "metadata": {},
     "output_type": "execute_result"
    }
   ],
   "source": [
    "X_train.head(1)"
   ]
  },
  {
   "cell_type": "code",
   "execution_count": 5,
   "id": "driving-shanghai",
   "metadata": {
    "execution": {
     "iopub.execute_input": "2021-12-14T13:42:20.715076Z",
     "iopub.status.busy": "2021-12-14T13:42:20.715076Z",
     "iopub.status.idle": "2021-12-14T13:42:20.739073Z",
     "shell.execute_reply": "2021-12-14T13:42:20.739073Z",
     "shell.execute_reply.started": "2021-12-14T13:42:20.715076Z"
    },
    "id": "TwRpdQTinM3-",
    "tags": []
   },
   "outputs": [],
   "source": [
    "test_store_ids = test.Store.unique()"
   ]
  },
  {
   "cell_type": "code",
   "execution_count": 6,
   "id": "demonstrated-woman",
   "metadata": {
    "colab": {
     "base_uri": "https://localhost:8080/"
    },
    "execution": {
     "iopub.execute_input": "2021-12-14T13:42:20.747076Z",
     "iopub.status.busy": "2021-12-14T13:42:20.747076Z",
     "iopub.status.idle": "2021-12-14T13:42:21.338975Z",
     "shell.execute_reply": "2021-12-14T13:42:21.338975Z",
     "shell.execute_reply.started": "2021-12-14T13:42:20.747076Z"
    },
    "id": "WU7y9CYhnZ0b",
    "outputId": "111ef274-8d62-4ce1-f398-291ef425e9dd",
    "tags": []
   },
   "outputs": [],
   "source": [
    "is_train_in_test_mask = X_train.Store.isin(test_store_ids)\n",
    "X_train = X_train[is_train_in_test_mask]\n",
    "train_stores = X_train.Store\n",
    "X_train.drop(columns='Store', inplace=True)\n",
    "y_train = y_train[is_train_in_test_mask]\n",
    "\n",
    "is_val_in_test_mask = X_val.Store.isin(test_store_ids)\n",
    "X_val = X_val[is_val_in_test_mask]\n",
    "val_stores = X_val.Store\n",
    "X_val.drop(columns='Store', inplace=True)\n",
    "y_val = y_val[is_val_in_test_mask]\n",
    "\n",
    "test_stores = X_test.Store\n",
    "X_test.drop(columns='Store', inplace=True)"
   ]
  },
  {
   "cell_type": "markdown",
   "id": "affected-location",
   "metadata": {
    "id": "twelve-slide"
   },
   "source": [
    "As light GBM allows only alphanumeric characters and underscores in column names remove other characters."
   ]
  },
  {
   "cell_type": "code",
   "execution_count": 7,
   "id": "above-bench",
   "metadata": {
    "ExecuteTime": {
     "end_time": "2021-12-05T06:48:03.105754Z",
     "start_time": "2021-12-05T06:48:02.884609Z"
    },
    "execution": {
     "iopub.execute_input": "2021-12-14T13:42:21.370968Z",
     "iopub.status.busy": "2021-12-14T13:42:21.354971Z",
     "iopub.status.idle": "2021-12-14T13:42:21.436129Z",
     "shell.execute_reply": "2021-12-14T13:42:21.428132Z",
     "shell.execute_reply.started": "2021-12-14T13:42:21.370968Z"
    },
    "id": "killing-frontier",
    "tags": []
   },
   "outputs": [],
   "source": [
    "X_train.rename(columns = lambda x:re.sub('[^A-Za-z0-9_]+', '', x), inplace=True)\n",
    "X_val.rename(columns = lambda x:re.sub('[^A-Za-z0-9_]+', '', x), inplace=True)\n",
    "X_test.rename(columns = lambda x:re.sub('[^A-Za-z0-9_]+', '', x), inplace=True)"
   ]
  },
  {
   "cell_type": "code",
   "execution_count": 8,
   "id": "latter-puppy",
   "metadata": {
    "colab": {
     "base_uri": "https://localhost:8080/",
     "height": 101
    },
    "execution": {
     "iopub.execute_input": "2021-12-14T13:42:21.468124Z",
     "iopub.status.busy": "2021-12-14T13:42:21.460125Z",
     "iopub.status.idle": "2021-12-14T13:42:21.643118Z",
     "shell.execute_reply": "2021-12-14T13:42:21.635125Z",
     "shell.execute_reply.started": "2021-12-14T13:42:21.468124Z"
    },
    "id": "8xy1l7i5rHWl",
    "outputId": "ad61ad56-bec3-439e-c496-84a57f045ca5",
    "tags": []
   },
   "outputs": [
    {
     "data": {
      "text/html": [
       "<div>\n",
       "<style scoped>\n",
       "    .dataframe tbody tr th:only-of-type {\n",
       "        vertical-align: middle;\n",
       "    }\n",
       "\n",
       "    .dataframe tbody tr th {\n",
       "        vertical-align: top;\n",
       "    }\n",
       "\n",
       "    .dataframe thead th {\n",
       "        text-align: right;\n",
       "    }\n",
       "</style>\n",
       "<table border=\"1\" class=\"dataframe\">\n",
       "  <thead>\n",
       "    <tr style=\"text-align: right;\">\n",
       "      <th></th>\n",
       "      <th>DayOfWeek</th>\n",
       "      <th>Promo</th>\n",
       "      <th>StateHoliday</th>\n",
       "      <th>SchoolHoliday</th>\n",
       "      <th>ordered_day</th>\n",
       "      <th>ordered_week</th>\n",
       "      <th>ordered_month</th>\n",
       "      <th>MonthOfYear</th>\n",
       "      <th>Promo2</th>\n",
       "      <th>StoreType_a</th>\n",
       "      <th>...</th>\n",
       "      <th>Assortment_c</th>\n",
       "      <th>EncodedDistance</th>\n",
       "      <th>EncodedCompetitionMonthsFromStart</th>\n",
       "      <th>EncodedPromo2WeeksFromStart</th>\n",
       "      <th>PromoInterval_</th>\n",
       "      <th>PromoInterval_JanAprJulOct</th>\n",
       "      <th>PromoInterval_FebMayAugNov</th>\n",
       "      <th>PromoInterval_MarJunSeptDec</th>\n",
       "      <th>Encoded_Customers</th>\n",
       "      <th>Encoded_sum_target</th>\n",
       "    </tr>\n",
       "  </thead>\n",
       "  <tbody>\n",
       "    <tr>\n",
       "      <th>0</th>\n",
       "      <td>6</td>\n",
       "      <td>0</td>\n",
       "      <td>0</td>\n",
       "      <td>0</td>\n",
       "      <td>893</td>\n",
       "      <td>127</td>\n",
       "      <td>29</td>\n",
       "      <td>5</td>\n",
       "      <td>0</td>\n",
       "      <td>0.0</td>\n",
       "      <td>...</td>\n",
       "      <td>0.0</td>\n",
       "      <td>-0.321681</td>\n",
       "      <td>0.940159</td>\n",
       "      <td>0.0</td>\n",
       "      <td>1.0</td>\n",
       "      <td>0.0</td>\n",
       "      <td>0.0</td>\n",
       "      <td>0.0</td>\n",
       "      <td>-0.362074</td>\n",
       "      <td>-0.900261</td>\n",
       "    </tr>\n",
       "  </tbody>\n",
       "</table>\n",
       "<p>1 rows × 25 columns</p>\n",
       "</div>"
      ],
      "text/plain": [
       "   DayOfWeek  Promo  StateHoliday  SchoolHoliday  ordered_day  ordered_week  \\\n",
       "0          6      0             0              0          893           127   \n",
       "\n",
       "   ordered_month  MonthOfYear  Promo2  StoreType_a  ...  Assortment_c  \\\n",
       "0             29            5       0          0.0  ...           0.0   \n",
       "\n",
       "   EncodedDistance  EncodedCompetitionMonthsFromStart  \\\n",
       "0        -0.321681                           0.940159   \n",
       "\n",
       "   EncodedPromo2WeeksFromStart  PromoInterval_  PromoInterval_JanAprJulOct  \\\n",
       "0                          0.0             1.0                         0.0   \n",
       "\n",
       "   PromoInterval_FebMayAugNov  PromoInterval_MarJunSeptDec  Encoded_Customers  \\\n",
       "0                         0.0                          0.0          -0.362074   \n",
       "\n",
       "   Encoded_sum_target  \n",
       "0           -0.900261  \n",
       "\n",
       "[1 rows x 25 columns]"
      ]
     },
     "execution_count": 8,
     "metadata": {},
     "output_type": "execute_result"
    }
   ],
   "source": [
    "X_train.head(1)"
   ]
  },
  {
   "cell_type": "code",
   "execution_count": 9,
   "id": "pressed-classics",
   "metadata": {
    "ExecuteTime": {
     "end_time": "2021-12-05T06:48:03.137698Z",
     "start_time": "2021-12-05T06:48:03.113735Z"
    },
    "execution": {
     "iopub.execute_input": "2021-12-14T13:42:21.647386Z",
     "iopub.status.busy": "2021-12-14T13:42:21.647386Z",
     "iopub.status.idle": "2021-12-14T13:42:21.695339Z",
     "shell.execute_reply": "2021-12-14T13:42:21.687340Z",
     "shell.execute_reply.started": "2021-12-14T13:42:21.647386Z"
    },
    "id": "played-divide",
    "tags": []
   },
   "outputs": [],
   "source": [
    "def RMSPE(y_true, y_pred):\n",
    "    y_t, y_p = np.array(y_true), np.array(y_pred)\n",
    "    y_t, y_p = y_t[np.abs(y_t) > 1e-3], y_p[np.abs(y_t) > 1e-3]\n",
    "    return np.sqrt(np.mean(\n",
    "        ((y_t - y_p) / y_t)**2\n",
    "    ))"
   ]
  },
  {
   "cell_type": "code",
   "execution_count": 10,
   "id": "rental-experiment",
   "metadata": {
    "ExecuteTime": {
     "end_time": "2021-12-05T09:40:58.799735Z",
     "start_time": "2021-12-05T09:40:58.777771Z"
    },
    "execution": {
     "iopub.execute_input": "2021-12-14T13:42:21.703340Z",
     "iopub.status.busy": "2021-12-14T13:42:21.703340Z",
     "iopub.status.idle": "2021-12-14T13:42:21.769405Z",
     "shell.execute_reply": "2021-12-14T13:42:21.769405Z",
     "shell.execute_reply.started": "2021-12-14T13:42:21.703340Z"
    },
    "id": "portuguese-valuable",
    "tags": []
   },
   "outputs": [],
   "source": [
    "def all_info_about_model(model_init, X_train, y_train, X_val, y_val, metric, param_grid, include_train=True, show_loop_params=True, *fit_args, **fit_kwargs):\n",
    "    param_names = list(param_grid.keys())\n",
    "    param_values = list(product(*list(param_grid.values())))\n",
    "    scores_df = pd.DataFrame(param_values, columns=param_names)\n",
    "    if include_train:\n",
    "        train_scores = []\n",
    "    val_scores = []\n",
    "    eval_time = []\n",
    "    for i, param_value in enumerate(param_values):\n",
    "        start = time.time()\n",
    "        params = dict(zip(param_names, param_value))\n",
    "        if show_loop_params:\n",
    "            print('\\n', params, '\\n')\n",
    "        model = model_init(**params)\n",
    "        model.fit(X_train, y_train, *fit_args, **fit_kwargs)\n",
    "        if include_train:\n",
    "            train_scores.append(metric(y_train, model.predict(X_train)))\n",
    "        val_scores.append(metric(y_val, model.predict(X_val)))\n",
    "        eval_time.append(time.time() - start)\n",
    "    \n",
    "    if include_train:\n",
    "        scores_df.loc[:, 'train_metric'] = train_scores\n",
    "    scores_df.loc[:, 'val_metric'] = val_scores\n",
    "    scores_df.loc[:, 'eval_time (sec)'] = eval_time\n",
    "    \n",
    "    return scores_df"
   ]
  },
  {
   "cell_type": "code",
   "execution_count": 11,
   "id": "medieval-volleyball",
   "metadata": {
    "execution": {
     "iopub.execute_input": "2021-12-14T13:42:21.777404Z",
     "iopub.status.busy": "2021-12-14T13:42:21.777404Z",
     "iopub.status.idle": "2021-12-14T13:42:21.801405Z",
     "shell.execute_reply": "2021-12-14T13:42:21.801405Z",
     "shell.execute_reply.started": "2021-12-14T13:42:21.777404Z"
    },
    "id": "geographic-measurement",
    "tags": []
   },
   "outputs": [],
   "source": [
    "def plot_eval_results(x, data):\n",
    "    plt.figure(figsize=(12, 7))\n",
    "    plt.plot(data[x], data['train_metric'])\n",
    "    plt.plot(data[x], data['val_metric'])\n",
    "    plt.legend(['train_rmspe', 'val_rmspe'])\n",
    "    plt.xlabel(x)\n",
    "    plt.ylabel('rmspe')\n",
    "    plt.title(f'rmspe on train and validation datasets depending on {x}')\n",
    "    plt.xticks(ticks=data[x], labels=data[x])\n",
    "    plt.show()"
   ]
  },
  {
   "cell_type": "markdown",
   "id": "delayed-plain",
   "metadata": {
    "id": "floating-distributor"
   },
   "source": [
    "# LGBM"
   ]
  },
  {
   "cell_type": "markdown",
   "id": "stylish-glass",
   "metadata": {
    "id": "suffering-anger"
   },
   "source": [
    "## Origin target"
   ]
  },
  {
   "cell_type": "markdown",
   "id": "pressed-peter",
   "metadata": {
    "id": "infinite-phone"
   },
   "source": [
    "restart this and change params to tune"
   ]
  },
  {
   "cell_type": "code",
   "execution_count": null,
   "id": "opening-northeast",
   "metadata": {
    "colab": {
     "base_uri": "https://localhost:8080/"
    },
    "id": "prescribed-studio",
    "outputId": "39d3b182-7434-4f56-cb0f-00343870be0e",
    "tags": []
   },
   "outputs": [
    {
     "name": "stdout",
     "output_type": "stream",
     "text": [
      "\n",
      " {'max_depth': -1} \n",
      "\n",
      "\n",
      " {'max_depth': 1} \n",
      "\n",
      "\n",
      " {'max_depth': 2} \n",
      "\n",
      "\n",
      " {'max_depth': 3} \n",
      "\n",
      "\n",
      " {'max_depth': 4} \n",
      "\n",
      "\n",
      " {'max_depth': 5} \n",
      "\n",
      "\n",
      " {'max_depth': 6} \n",
      "\n",
      "\n",
      " {'max_depth': 7} \n",
      "\n",
      "\n",
      " {'max_depth': 8} \n",
      "\n",
      "\n",
      " {'max_depth': 9} \n",
      "\n",
      "\n",
      " {'max_depth': 10} \n",
      "\n",
      "\n",
      " {'max_depth': 11} \n",
      "\n",
      "\n",
      " {'max_depth': 12} \n",
      "\n",
      "\n",
      " {'max_depth': 13} \n",
      "\n"
     ]
    }
   ],
   "source": [
    "max_depth_results = all_info_about_model(partial(LGBMRegressor, num_leaves=1000, n_estimators=1000, random_state=205,),\n",
    "                     X_train, y_train, X_val, y_val, RMSPE,\n",
    "                     {\n",
    "                         'max_depth': [-1] + list(range(1, 14)),\n",
    "                     },\n",
    "                     show_loop_params=True,\n",
    ")"
   ]
  },
  {
   "cell_type": "code",
   "execution_count": null,
   "id": "alike-brand",
   "metadata": {
    "execution": {
     "iopub.execute_input": "2021-12-13T06:15:04.757128Z",
     "iopub.status.busy": "2021-12-13T06:15:04.756136Z",
     "iopub.status.idle": "2021-12-13T06:15:04.780090Z",
     "shell.execute_reply": "2021-12-13T06:15:04.776093Z",
     "shell.execute_reply.started": "2021-12-13T06:15:04.757128Z"
    },
    "id": "talented-picture",
    "tags": []
   },
   "outputs": [],
   "source": [
    "#max_depth_results = pd.read_csv('data/results/max_depth_results.csv')"
   ]
  },
  {
   "cell_type": "code",
   "execution_count": null,
   "id": "identical-mortality",
   "metadata": {
    "colab": {
     "base_uri": "https://localhost:8080/",
     "height": 488
    },
    "id": "F2JqMrY-0-v3",
    "outputId": "10543475-17f0-4def-8ac0-0c05e9fd18bd"
   },
   "outputs": [
    {
     "data": {
      "text/html": [
       "<div>\n",
       "<style scoped>\n",
       "    .dataframe tbody tr th:only-of-type {\n",
       "        vertical-align: middle;\n",
       "    }\n",
       "\n",
       "    .dataframe tbody tr th {\n",
       "        vertical-align: top;\n",
       "    }\n",
       "\n",
       "    .dataframe thead th {\n",
       "        text-align: right;\n",
       "    }\n",
       "</style>\n",
       "<table border=\"1\" class=\"dataframe\">\n",
       "  <thead>\n",
       "    <tr style=\"text-align: right;\">\n",
       "      <th></th>\n",
       "      <th>max_depth</th>\n",
       "      <th>train_metric</th>\n",
       "      <th>val_metric</th>\n",
       "      <th>eval_time (sec)</th>\n",
       "    </tr>\n",
       "  </thead>\n",
       "  <tbody>\n",
       "    <tr>\n",
       "      <th>0</th>\n",
       "      <td>-1</td>\n",
       "      <td>0.070303</td>\n",
       "      <td>0.150834</td>\n",
       "      <td>171.271270</td>\n",
       "    </tr>\n",
       "    <tr>\n",
       "      <th>1</th>\n",
       "      <td>1</td>\n",
       "      <td>0.244407</td>\n",
       "      <td>0.229102</td>\n",
       "      <td>32.508111</td>\n",
       "    </tr>\n",
       "    <tr>\n",
       "      <th>2</th>\n",
       "      <td>2</td>\n",
       "      <td>0.198337</td>\n",
       "      <td>0.173770</td>\n",
       "      <td>43.460228</td>\n",
       "    </tr>\n",
       "    <tr>\n",
       "      <th>3</th>\n",
       "      <td>3</td>\n",
       "      <td>0.168726</td>\n",
       "      <td>0.161353</td>\n",
       "      <td>51.636497</td>\n",
       "    </tr>\n",
       "    <tr>\n",
       "      <th>4</th>\n",
       "      <td>4</td>\n",
       "      <td>0.153225</td>\n",
       "      <td>0.154374</td>\n",
       "      <td>62.683120</td>\n",
       "    </tr>\n",
       "    <tr>\n",
       "      <th>5</th>\n",
       "      <td>5</td>\n",
       "      <td>0.137390</td>\n",
       "      <td>0.146276</td>\n",
       "      <td>75.435896</td>\n",
       "    </tr>\n",
       "    <tr>\n",
       "      <th>6</th>\n",
       "      <td>6</td>\n",
       "      <td>0.124461</td>\n",
       "      <td>0.144389</td>\n",
       "      <td>95.216098</td>\n",
       "    </tr>\n",
       "    <tr>\n",
       "      <th>7</th>\n",
       "      <td>7</td>\n",
       "      <td>0.113631</td>\n",
       "      <td>0.135009</td>\n",
       "      <td>116.854528</td>\n",
       "    </tr>\n",
       "    <tr>\n",
       "      <th>8</th>\n",
       "      <td>8</td>\n",
       "      <td>0.104895</td>\n",
       "      <td>0.134493</td>\n",
       "      <td>142.266122</td>\n",
       "    </tr>\n",
       "    <tr>\n",
       "      <th>9</th>\n",
       "      <td>9</td>\n",
       "      <td>0.096600</td>\n",
       "      <td>0.138471</td>\n",
       "      <td>167.767686</td>\n",
       "    </tr>\n",
       "    <tr>\n",
       "      <th>10</th>\n",
       "      <td>10</td>\n",
       "      <td>0.089204</td>\n",
       "      <td>0.142232</td>\n",
       "      <td>188.905102</td>\n",
       "    </tr>\n",
       "    <tr>\n",
       "      <th>11</th>\n",
       "      <td>11</td>\n",
       "      <td>0.081902</td>\n",
       "      <td>0.147939</td>\n",
       "      <td>218.049330</td>\n",
       "    </tr>\n",
       "    <tr>\n",
       "      <th>12</th>\n",
       "      <td>12</td>\n",
       "      <td>0.077482</td>\n",
       "      <td>0.148604</td>\n",
       "      <td>242.379419</td>\n",
       "    </tr>\n",
       "    <tr>\n",
       "      <th>13</th>\n",
       "      <td>13</td>\n",
       "      <td>0.073777</td>\n",
       "      <td>0.142773</td>\n",
       "      <td>246.258048</td>\n",
       "    </tr>\n",
       "  </tbody>\n",
       "</table>\n",
       "</div>"
      ],
      "text/plain": [
       "    max_depth  train_metric  val_metric  eval_time (sec)\n",
       "0          -1      0.070303    0.150834       171.271270\n",
       "1           1      0.244407    0.229102        32.508111\n",
       "2           2      0.198337    0.173770        43.460228\n",
       "3           3      0.168726    0.161353        51.636497\n",
       "4           4      0.153225    0.154374        62.683120\n",
       "5           5      0.137390    0.146276        75.435896\n",
       "6           6      0.124461    0.144389        95.216098\n",
       "7           7      0.113631    0.135009       116.854528\n",
       "8           8      0.104895    0.134493       142.266122\n",
       "9           9      0.096600    0.138471       167.767686\n",
       "10         10      0.089204    0.142232       188.905102\n",
       "11         11      0.081902    0.147939       218.049330\n",
       "12         12      0.077482    0.148604       242.379419\n",
       "13         13      0.073777    0.142773       246.258048"
      ]
     },
     "execution_count": 14,
     "metadata": {},
     "output_type": "execute_result"
    }
   ],
   "source": [
    "max_depth_results"
   ]
  },
  {
   "cell_type": "code",
   "execution_count": null,
   "id": "lined-grocery",
   "metadata": {
    "colab": {
     "base_uri": "https://localhost:8080/",
     "height": 459
    },
    "execution": {
     "iopub.execute_input": "2021-12-13T06:25:09.361154Z",
     "iopub.status.busy": "2021-12-13T06:25:09.360148Z",
     "iopub.status.idle": "2021-12-13T06:25:10.304400Z",
     "shell.execute_reply": "2021-12-13T06:25:10.300403Z",
     "shell.execute_reply.started": "2021-12-13T06:25:09.361154Z"
    },
    "id": "forty-massage",
    "outputId": "8adea137-fc91-4d7c-9240-354ade9fa7d8",
    "tags": []
   },
   "outputs": [
    {
     "data": {
      "image/png": "[encoded data removed]",
      "text/plain": [
       "<Figure size 864x504 with 1 Axes>"
      ]
     },
     "metadata": {
      "needs_background": "light"
     },
     "output_type": "display_data"
    }
   ],
   "source": [
    "plot_eval_results('max_depth', max_depth_results)"
   ]
  },
  {
   "cell_type": "markdown",
   "id": "instructional-astrology",
   "metadata": {
    "id": "warming-functionality"
   },
   "source": [
    "The least val rmspe is for max_depth in \\[5, 6, 7\\]."
   ]
  },
  {
   "cell_type": "code",
   "execution_count": null,
   "id": "available-briefs",
   "metadata": {
    "colab": {
     "base_uri": "https://localhost:8080/"
    },
    "id": "aerial-buffalo",
    "outputId": "09f26652-9c31-499d-e165-4180a992df9d",
    "tags": []
   },
   "outputs": [
    {
     "name": "stdout",
     "output_type": "stream",
     "text": [
      "\n",
      " {'num_leaves': 10} \n",
      "\n",
      "\n",
      " {'num_leaves': 20} \n",
      "\n",
      "\n",
      " {'num_leaves': 30} \n",
      "\n",
      "\n",
      " {'num_leaves': 40} \n",
      "\n",
      "\n",
      " {'num_leaves': 50} \n",
      "\n",
      "\n",
      " {'num_leaves': 60} \n",
      "\n",
      "\n",
      " {'num_leaves': 70} \n",
      "\n",
      "\n",
      " {'num_leaves': 80} \n",
      "\n",
      "\n",
      " {'num_leaves': 90} \n",
      "\n",
      "\n",
      " {'num_leaves': 100} \n",
      "\n",
      "\n",
      " {'num_leaves': 110} \n",
      "\n",
      "\n",
      " {'num_leaves': 120} \n",
      "\n"
     ]
    }
   ],
   "source": [
    "num_leaves_results = all_info_about_model(partial(LGBMRegressor, n_estimators=1000, random_state=205,),\n",
    "                     X_train, y_train, X_val, y_val, RMSPE,\n",
    "                     {\n",
    "                         'num_leaves': list(range(10, 121, 10)),\n",
    "                     },\n",
    "                     show_loop_params=True,\n",
    ")\n",
    "num_leaves_results.to_csv(data_folder + 'results/num_leaves_results.csv', index=False)"
   ]
  },
  {
   "cell_type": "code",
   "execution_count": null,
   "id": "experimental-swiss",
   "metadata": {
    "execution": {
     "iopub.execute_input": "2021-12-13T06:24:03.367503Z",
     "iopub.status.busy": "2021-12-13T06:24:03.366506Z",
     "iopub.status.idle": "2021-12-13T06:24:03.395461Z",
     "shell.execute_reply": "2021-12-13T06:24:03.392468Z",
     "shell.execute_reply.started": "2021-12-13T06:24:03.367503Z"
    },
    "id": "following-prevention",
    "tags": []
   },
   "outputs": [],
   "source": [
    "num_leaves_results = pd.read_csv(data_folder + 'results/num_leaves_results.csv')"
   ]
  },
  {
   "cell_type": "code",
   "execution_count": null,
   "id": "swedish-philippines",
   "metadata": {
    "colab": {
     "base_uri": "https://localhost:8080/",
     "height": 459
    },
    "execution": {
     "iopub.execute_input": "2021-12-13T06:25:18.942299Z",
     "iopub.status.busy": "2021-12-13T06:25:18.941303Z",
     "iopub.status.idle": "2021-12-13T06:25:19.655572Z",
     "shell.execute_reply": "2021-12-13T06:25:19.651575Z",
     "shell.execute_reply.started": "2021-12-13T06:25:18.942299Z"
    },
    "id": "funded-philippines",
    "outputId": "fbbbf6b3-a2d3-4081-a16c-3fdbedf7040e",
    "tags": []
   },
   "outputs": [
    {
     "data": {
      "image/png": "[encoded data removed]",
      "text/plain": [
       "<Figure size 864x504 with 1 Axes>"
      ]
     },
     "metadata": {
      "needs_background": "light"
     },
     "output_type": "display_data"
    }
   ],
   "source": [
    "plot_eval_results('num_leaves', num_leaves_results)"
   ]
  },
  {
   "cell_type": "code",
   "execution_count": null,
   "id": "industrial-market",
   "metadata": {
    "colab": {
     "base_uri": "https://localhost:8080/"
    },
    "id": "continuous-bearing",
    "outputId": "0e9253f5-03a8-4a12-8744-1d0b03d19e6d",
    "tags": []
   },
   "outputs": [
    {
     "name": "stdout",
     "output_type": "stream",
     "text": [
      "\n",
      " {'max_depth': -1, 'num_leaves': 60} \n",
      "\n",
      "\n",
      " {'max_depth': -1, 'num_leaves': 70} \n",
      "\n",
      "\n",
      " {'max_depth': -1, 'num_leaves': 80} \n",
      "\n",
      "\n",
      " {'max_depth': -1, 'num_leaves': 90} \n",
      "\n",
      "\n",
      " {'max_depth': 6, 'num_leaves': 60} \n",
      "\n",
      "\n",
      " {'max_depth': 6, 'num_leaves': 70} \n",
      "\n",
      "\n",
      " {'max_depth': 6, 'num_leaves': 80} \n",
      "\n",
      "\n",
      " {'max_depth': 6, 'num_leaves': 90} \n",
      "\n",
      "\n",
      " {'max_depth': 7, 'num_leaves': 60} \n",
      "\n",
      "\n",
      " {'max_depth': 7, 'num_leaves': 70} \n",
      "\n",
      "\n",
      " {'max_depth': 7, 'num_leaves': 80} \n",
      "\n",
      "\n",
      " {'max_depth': 7, 'num_leaves': 90} \n",
      "\n",
      "\n",
      " {'max_depth': 8, 'num_leaves': 60} \n",
      "\n",
      "\n",
      " {'max_depth': 8, 'num_leaves': 70} \n",
      "\n",
      "\n",
      " {'max_depth': 8, 'num_leaves': 80} \n",
      "\n",
      "\n",
      " {'max_depth': 8, 'num_leaves': 90} \n",
      "\n",
      "\n",
      " {'max_depth': 9, 'num_leaves': 60} \n",
      "\n",
      "\n",
      " {'max_depth': 9, 'num_leaves': 70} \n",
      "\n",
      "\n",
      " {'max_depth': 9, 'num_leaves': 80} \n",
      "\n",
      "\n",
      " {'max_depth': 9, 'num_leaves': 90} \n",
      "\n"
     ]
    }
   ],
   "source": [
    "max_depth_num_leaves_results = all_info_about_model(partial(LGBMRegressor, n_estimators=1000, random_state=205, ),\n",
    "                     X_train, y_train, X_val, y_val, RMSPE,\n",
    "                     {\n",
    "                         'max_depth': [-1, 6, 7, 8, 9],\n",
    "                         'num_leaves': [60, 70, 80, 90],\n",
    "                     },\n",
    "                     show_loop_params=True,\n",
    ")\n",
    "max_depth_num_leaves_results.to_csv(data_folder + 'results/max_depth_num_leaves_results.csv', index=False)"
   ]
  },
  {
   "cell_type": "code",
   "execution_count": null,
   "id": "preliminary-machinery",
   "metadata": {
    "execution": {
     "iopub.execute_input": "2021-12-13T06:37:05.585843Z",
     "iopub.status.busy": "2021-12-13T06:37:05.584844Z",
     "iopub.status.idle": "2021-12-13T06:37:05.621780Z",
     "shell.execute_reply": "2021-12-13T06:37:05.619784Z",
     "shell.execute_reply.started": "2021-12-13T06:37:05.585843Z"
    },
    "id": "prime-mineral",
    "tags": []
   },
   "outputs": [],
   "source": [
    "max_depth_num_leaves_results = pd.read_csv(data_folder + 'results/max_depth_num_leaves_results.csv')"
   ]
  },
  {
   "cell_type": "code",
   "execution_count": null,
   "id": "determined-bidding",
   "metadata": {
    "colab": {
     "base_uri": "https://localhost:8080/",
     "height": 280
    },
    "execution": {
     "iopub.execute_input": "2021-12-13T06:37:08.370738Z",
     "iopub.status.busy": "2021-12-13T06:37:08.369739Z",
     "iopub.status.idle": "2021-12-13T06:37:09.058483Z",
     "shell.execute_reply": "2021-12-13T06:37:09.052926Z",
     "shell.execute_reply.started": "2021-12-13T06:37:08.370738Z"
    },
    "id": "appointed-spectacular",
    "outputId": "09aaab62-589a-4723-a9e3-ae449bf55d7f",
    "tags": []
   },
   "outputs": [
    {
     "data": {
      "image/png": "[encoded data removed]",
      "text/plain": [
       "<Figure size 432x288 with 2 Axes>"
      ]
     },
     "metadata": {
      "needs_background": "light"
     },
     "output_type": "display_data"
    }
   ],
   "source": [
    "sns.heatmap(max_depth_num_leaves_results.set_index(['max_depth', 'num_leaves']).unstack()['val_metric'])\n",
    "plt.show()"
   ]
  },
  {
   "cell_type": "code",
   "execution_count": null,
   "id": "favorite-bhutan",
   "metadata": {
    "colab": {
     "base_uri": "https://localhost:8080/",
     "height": 81
    },
    "id": "SNFG9OSkXn8R",
    "outputId": "4ef55fd1-a28c-42a7-9b64-c9e077369881"
   },
   "outputs": [
    {
     "data": {
      "text/html": [
       "<div>\n",
       "<style scoped>\n",
       "    .dataframe tbody tr th:only-of-type {\n",
       "        vertical-align: middle;\n",
       "    }\n",
       "\n",
       "    .dataframe tbody tr th {\n",
       "        vertical-align: top;\n",
       "    }\n",
       "\n",
       "    .dataframe thead th {\n",
       "        text-align: right;\n",
       "    }\n",
       "</style>\n",
       "<table border=\"1\" class=\"dataframe\">\n",
       "  <thead>\n",
       "    <tr style=\"text-align: right;\">\n",
       "      <th></th>\n",
       "      <th>max_depth</th>\n",
       "      <th>num_leaves</th>\n",
       "      <th>train_metric</th>\n",
       "      <th>val_metric</th>\n",
       "      <th>eval_time (sec)</th>\n",
       "    </tr>\n",
       "  </thead>\n",
       "  <tbody>\n",
       "    <tr>\n",
       "      <th>1</th>\n",
       "      <td>-1</td>\n",
       "      <td>70</td>\n",
       "      <td>0.114745</td>\n",
       "      <td>0.129346</td>\n",
       "      <td>77.202977</td>\n",
       "    </tr>\n",
       "  </tbody>\n",
       "</table>\n",
       "</div>"
      ],
      "text/plain": [
       "   max_depth  num_leaves  train_metric  val_metric  eval_time (sec)\n",
       "1         -1          70      0.114745    0.129346        77.202977"
      ]
     },
     "execution_count": 25,
     "metadata": {},
     "output_type": "execute_result"
    }
   ],
   "source": [
    "max_depth_num_leaves_results.loc[[max_depth_num_leaves_results.val_metric.argmin()]]"
   ]
  },
  {
   "cell_type": "markdown",
   "id": "compressed-florida",
   "metadata": {
    "id": "geographic-reducing"
   },
   "source": [
    "So the parameters that minimize rmspe are max_depth=-1 and num_leaves=70"
   ]
  },
  {
   "cell_type": "markdown",
   "id": "negative-tobacco",
   "metadata": {
    "id": "solar-friendly"
   },
   "source": [
    "Let's see how the error depends on learning_rate parameter."
   ]
  },
  {
   "cell_type": "code",
   "execution_count": null,
   "id": "grave-announcement",
   "metadata": {
    "colab": {
     "base_uri": "https://localhost:8080/"
    },
    "id": "tribal-joint",
    "outputId": "7912511d-359e-422e-8635-9c4f31a3a32c",
    "tags": []
   },
   "outputs": [
    {
     "name": "stdout",
     "output_type": "stream",
     "text": [
      "\n",
      " {'learning_rate': 0.05} \n",
      "\n",
      "Training until validation scores don't improve for 150 rounds.\n",
      "[100]\tvalid_0's l2: 1.4531e+06\tvalid_0's RMSPE: 0.185911\n",
      "[200]\tvalid_0's l2: 1.35158e+06\tvalid_0's RMSPE: 0.158716\n",
      "[300]\tvalid_0's l2: 1.30151e+06\tvalid_0's RMSPE: 0.153741\n",
      "[400]\tvalid_0's l2: 1.27511e+06\tvalid_0's RMSPE: 0.150512\n",
      "[500]\tvalid_0's l2: 1.25509e+06\tvalid_0's RMSPE: 0.14728\n",
      "[600]\tvalid_0's l2: 1.22864e+06\tvalid_0's RMSPE: 0.143284\n",
      "[700]\tvalid_0's l2: 1.2133e+06\tvalid_0's RMSPE: 0.141472\n",
      "[800]\tvalid_0's l2: 1.20318e+06\tvalid_0's RMSPE: 0.140296\n",
      "[900]\tvalid_0's l2: 1.18851e+06\tvalid_0's RMSPE: 0.138786\n",
      "[1000]\tvalid_0's l2: 1.17512e+06\tvalid_0's RMSPE: 0.137876\n",
      "[1100]\tvalid_0's l2: 1.16051e+06\tvalid_0's RMSPE: 0.136484\n",
      "[1200]\tvalid_0's l2: 1.14595e+06\tvalid_0's RMSPE: 0.13557\n",
      "[1300]\tvalid_0's l2: 1.13553e+06\tvalid_0's RMSPE: 0.134679\n",
      "[1400]\tvalid_0's l2: 1.12603e+06\tvalid_0's RMSPE: 0.134057\n",
      "[1500]\tvalid_0's l2: 1.11813e+06\tvalid_0's RMSPE: 0.133567\n",
      "[1600]\tvalid_0's l2: 1.11133e+06\tvalid_0's RMSPE: 0.133182\n",
      "[1700]\tvalid_0's l2: 1.10593e+06\tvalid_0's RMSPE: 0.132843\n",
      "[1800]\tvalid_0's l2: 1.10069e+06\tvalid_0's RMSPE: 0.132521\n",
      "[1900]\tvalid_0's l2: 1.09688e+06\tvalid_0's RMSPE: 0.132169\n",
      "[2000]\tvalid_0's l2: 1.09152e+06\tvalid_0's RMSPE: 0.131895\n",
      "[2100]\tvalid_0's l2: 1.08835e+06\tvalid_0's RMSPE: 0.13173\n",
      "[2200]\tvalid_0's l2: 1.08497e+06\tvalid_0's RMSPE: 0.131504\n",
      "[2300]\tvalid_0's l2: 1.08321e+06\tvalid_0's RMSPE: 0.131392\n",
      "[2400]\tvalid_0's l2: 1.08059e+06\tvalid_0's RMSPE: 0.131253\n",
      "[2500]\tvalid_0's l2: 1.07903e+06\tvalid_0's RMSPE: 0.13108\n",
      "[2600]\tvalid_0's l2: 1.0772e+06\tvalid_0's RMSPE: 0.130954\n",
      "[2700]\tvalid_0's l2: 1.07594e+06\tvalid_0's RMSPE: 0.130842\n",
      "[2800]\tvalid_0's l2: 1.07368e+06\tvalid_0's RMSPE: 0.130653\n",
      "[2900]\tvalid_0's l2: 1.07362e+06\tvalid_0's RMSPE: 0.130631\n",
      "[3000]\tvalid_0's l2: 1.07205e+06\tvalid_0's RMSPE: 0.130596\n",
      "[3100]\tvalid_0's l2: 1.07274e+06\tvalid_0's RMSPE: 0.130726\n",
      "Early stopping, best iteration is:\n",
      "[2954]\tvalid_0's l2: 1.0723e+06\tvalid_0's RMSPE: 0.130569\n",
      "\n",
      " {'learning_rate': 0.06} \n",
      "\n",
      "Training until validation scores don't improve for 150 rounds.\n",
      "[100]\tvalid_0's l2: 1.38025e+06\tvalid_0's RMSPE: 0.175624\n",
      "[200]\tvalid_0's l2: 1.27724e+06\tvalid_0's RMSPE: 0.155403\n",
      "[300]\tvalid_0's l2: 1.23468e+06\tvalid_0's RMSPE: 0.149785\n",
      "[400]\tvalid_0's l2: 1.18494e+06\tvalid_0's RMSPE: 0.143272\n",
      "[500]\tvalid_0's l2: 1.16899e+06\tvalid_0's RMSPE: 0.140638\n",
      "[600]\tvalid_0's l2: 1.14417e+06\tvalid_0's RMSPE: 0.138274\n",
      "[700]\tvalid_0's l2: 1.1244e+06\tvalid_0's RMSPE: 0.136341\n",
      "[800]\tvalid_0's l2: 1.10204e+06\tvalid_0's RMSPE: 0.134897\n",
      "[900]\tvalid_0's l2: 1.08797e+06\tvalid_0's RMSPE: 0.133424\n",
      "[1000]\tvalid_0's l2: 1.07127e+06\tvalid_0's RMSPE: 0.132701\n",
      "[1100]\tvalid_0's l2: 1.06083e+06\tvalid_0's RMSPE: 0.13195\n",
      "[1200]\tvalid_0's l2: 1.05467e+06\tvalid_0's RMSPE: 0.131217\n",
      "[1300]\tvalid_0's l2: 1.04946e+06\tvalid_0's RMSPE: 0.130737\n",
      "[1400]\tvalid_0's l2: 1.04469e+06\tvalid_0's RMSPE: 0.130277\n",
      "[1500]\tvalid_0's l2: 1.04061e+06\tvalid_0's RMSPE: 0.129978\n",
      "[1600]\tvalid_0's l2: 1.0368e+06\tvalid_0's RMSPE: 0.129743\n",
      "[1700]\tvalid_0's l2: 1.03333e+06\tvalid_0's RMSPE: 0.129454\n",
      "[1800]\tvalid_0's l2: 1.0295e+06\tvalid_0's RMSPE: 0.129171\n",
      "[1900]\tvalid_0's l2: 1.02636e+06\tvalid_0's RMSPE: 0.129018\n",
      "[2000]\tvalid_0's l2: 1.02395e+06\tvalid_0's RMSPE: 0.128846\n",
      "[2100]\tvalid_0's l2: 1.02432e+06\tvalid_0's RMSPE: 0.128906\n",
      "Early stopping, best iteration is:\n",
      "[2008]\tvalid_0's l2: 1.02368e+06\tvalid_0's RMSPE: 0.128829\n",
      "\n",
      " {'learning_rate': 0.07} \n",
      "\n",
      "Training until validation scores don't improve for 150 rounds.\n",
      "[100]\tvalid_0's l2: 1.32496e+06\tvalid_0's RMSPE: 0.166376\n",
      "[200]\tvalid_0's l2: 1.26913e+06\tvalid_0's RMSPE: 0.154655\n",
      "[300]\tvalid_0's l2: 1.23085e+06\tvalid_0's RMSPE: 0.149428\n",
      "[400]\tvalid_0's l2: 1.19991e+06\tvalid_0's RMSPE: 0.145413\n",
      "[500]\tvalid_0's l2: 1.17248e+06\tvalid_0's RMSPE: 0.141233\n",
      "[600]\tvalid_0's l2: 1.14017e+06\tvalid_0's RMSPE: 0.138965\n",
      "[700]\tvalid_0's l2: 1.12128e+06\tvalid_0's RMSPE: 0.137137\n",
      "[800]\tvalid_0's l2: 1.1034e+06\tvalid_0's RMSPE: 0.136012\n",
      "[900]\tvalid_0's l2: 1.08362e+06\tvalid_0's RMSPE: 0.134638\n",
      "[1000]\tvalid_0's l2: 1.07311e+06\tvalid_0's RMSPE: 0.133791\n",
      "[1100]\tvalid_0's l2: 1.06189e+06\tvalid_0's RMSPE: 0.133072\n",
      "[1200]\tvalid_0's l2: 1.05673e+06\tvalid_0's RMSPE: 0.132587\n",
      "[1300]\tvalid_0's l2: 1.05048e+06\tvalid_0's RMSPE: 0.132006\n",
      "[1400]\tvalid_0's l2: 1.04711e+06\tvalid_0's RMSPE: 0.13174\n",
      "[1500]\tvalid_0's l2: 1.04431e+06\tvalid_0's RMSPE: 0.131444\n",
      "[1600]\tvalid_0's l2: 1.03982e+06\tvalid_0's RMSPE: 0.131089\n",
      "[1700]\tvalid_0's l2: 1.03571e+06\tvalid_0's RMSPE: 0.130935\n",
      "[1800]\tvalid_0's l2: 1.03621e+06\tvalid_0's RMSPE: 0.130937\n",
      "[1900]\tvalid_0's l2: 1.03371e+06\tvalid_0's RMSPE: 0.130672\n",
      "[2000]\tvalid_0's l2: 1.03375e+06\tvalid_0's RMSPE: 0.130567\n",
      "[2100]\tvalid_0's l2: 1.03255e+06\tvalid_0's RMSPE: 0.130486\n",
      "Early stopping, best iteration is:\n",
      "[1960]\tvalid_0's l2: 1.03157e+06\tvalid_0's RMSPE: 0.130503\n",
      "\n",
      " {'learning_rate': 0.08} \n",
      "\n",
      "Training until validation scores don't improve for 150 rounds.\n",
      "[100]\tvalid_0's l2: 1.33823e+06\tvalid_0's RMSPE: 0.166189\n",
      "[200]\tvalid_0's l2: 1.26986e+06\tvalid_0's RMSPE: 0.155226\n",
      "[300]\tvalid_0's l2: 1.22584e+06\tvalid_0's RMSPE: 0.147634\n",
      "[400]\tvalid_0's l2: 1.21603e+06\tvalid_0's RMSPE: 0.144497\n",
      "[500]\tvalid_0's l2: 1.20161e+06\tvalid_0's RMSPE: 0.141611\n",
      "[600]\tvalid_0's l2: 1.17767e+06\tvalid_0's RMSPE: 0.138876\n",
      "[700]\tvalid_0's l2: 1.15496e+06\tvalid_0's RMSPE: 0.13678\n",
      "[800]\tvalid_0's l2: 1.13681e+06\tvalid_0's RMSPE: 0.135204\n",
      "[900]\tvalid_0's l2: 1.12216e+06\tvalid_0's RMSPE: 0.134415\n",
      "[1000]\tvalid_0's l2: 1.11317e+06\tvalid_0's RMSPE: 0.133638\n",
      "[1100]\tvalid_0's l2: 1.10268e+06\tvalid_0's RMSPE: 0.132931\n",
      "[1200]\tvalid_0's l2: 1.09453e+06\tvalid_0's RMSPE: 0.132182\n",
      "[1300]\tvalid_0's l2: 1.0859e+06\tvalid_0's RMSPE: 0.13174\n",
      "[1400]\tvalid_0's l2: 1.08135e+06\tvalid_0's RMSPE: 0.131446\n",
      "[1500]\tvalid_0's l2: 1.07735e+06\tvalid_0's RMSPE: 0.131301\n",
      "[1600]\tvalid_0's l2: 1.07642e+06\tvalid_0's RMSPE: 0.131154\n",
      "[1700]\tvalid_0's l2: 1.07338e+06\tvalid_0's RMSPE: 0.13103\n",
      "[1800]\tvalid_0's l2: 1.07217e+06\tvalid_0's RMSPE: 0.130973\n",
      "[1900]\tvalid_0's l2: 1.07088e+06\tvalid_0's RMSPE: 0.130917\n",
      "[2000]\tvalid_0's l2: 1.07001e+06\tvalid_0's RMSPE: 0.13091\n",
      "[2100]\tvalid_0's l2: 1.06785e+06\tvalid_0's RMSPE: 0.130849\n",
      "[2200]\tvalid_0's l2: 1.06736e+06\tvalid_0's RMSPE: 0.130849\n",
      "[2300]\tvalid_0's l2: 1.06773e+06\tvalid_0's RMSPE: 0.130989\n",
      "Early stopping, best iteration is:\n",
      "[2180]\tvalid_0's l2: 1.06637e+06\tvalid_0's RMSPE: 0.130786\n",
      "\n",
      " {'learning_rate': 0.09} \n",
      "\n",
      "Training until validation scores don't improve for 150 rounds.\n",
      "[100]\tvalid_0's l2: 1.32066e+06\tvalid_0's RMSPE: 0.160076\n",
      "[200]\tvalid_0's l2: 1.25602e+06\tvalid_0's RMSPE: 0.150747\n",
      "[300]\tvalid_0's l2: 1.22038e+06\tvalid_0's RMSPE: 0.143678\n",
      "[400]\tvalid_0's l2: 1.18288e+06\tvalid_0's RMSPE: 0.139461\n",
      "[500]\tvalid_0's l2: 1.14834e+06\tvalid_0's RMSPE: 0.136275\n",
      "[600]\tvalid_0's l2: 1.12251e+06\tvalid_0's RMSPE: 0.134092\n",
      "[700]\tvalid_0's l2: 1.10139e+06\tvalid_0's RMSPE: 0.132364\n",
      "[800]\tvalid_0's l2: 1.08337e+06\tvalid_0's RMSPE: 0.131591\n",
      "[900]\tvalid_0's l2: 1.07734e+06\tvalid_0's RMSPE: 0.131103\n",
      "[1000]\tvalid_0's l2: 1.07134e+06\tvalid_0's RMSPE: 0.130603\n",
      "[1100]\tvalid_0's l2: 1.06673e+06\tvalid_0's RMSPE: 0.130434\n",
      "[1200]\tvalid_0's l2: 1.06722e+06\tvalid_0's RMSPE: 0.13056\n",
      "[1300]\tvalid_0's l2: 1.0689e+06\tvalid_0's RMSPE: 0.13071\n",
      "Early stopping, best iteration is:\n",
      "[1192]\tvalid_0's l2: 1.06348e+06\tvalid_0's RMSPE: 0.130336\n",
      "\n",
      " {'learning_rate': 0.09999999999999999} \n",
      "\n",
      "Training until validation scores don't improve for 150 rounds.\n",
      "[100]\tvalid_0's l2: 1.30968e+06\tvalid_0's RMSPE: 0.15576\n",
      "[200]\tvalid_0's l2: 1.2572e+06\tvalid_0's RMSPE: 0.147805\n",
      "[300]\tvalid_0's l2: 1.19305e+06\tvalid_0's RMSPE: 0.141509\n",
      "[400]\tvalid_0's l2: 1.13938e+06\tvalid_0's RMSPE: 0.137419\n",
      "[500]\tvalid_0's l2: 1.10204e+06\tvalid_0's RMSPE: 0.134157\n",
      "[600]\tvalid_0's l2: 1.08483e+06\tvalid_0's RMSPE: 0.132627\n",
      "[700]\tvalid_0's l2: 1.06249e+06\tvalid_0's RMSPE: 0.131245\n",
      "[800]\tvalid_0's l2: 1.05186e+06\tvalid_0's RMSPE: 0.13055\n",
      "[900]\tvalid_0's l2: 1.0391e+06\tvalid_0's RMSPE: 0.12989\n",
      "[1000]\tvalid_0's l2: 1.03118e+06\tvalid_0's RMSPE: 0.129346\n",
      "[1100]\tvalid_0's l2: 1.02735e+06\tvalid_0's RMSPE: 0.128831\n",
      "[1200]\tvalid_0's l2: 1.02167e+06\tvalid_0's RMSPE: 0.128442\n",
      "[1300]\tvalid_0's l2: 1.01824e+06\tvalid_0's RMSPE: 0.128309\n",
      "[1400]\tvalid_0's l2: 1.01686e+06\tvalid_0's RMSPE: 0.127971\n",
      "[1500]\tvalid_0's l2: 1.01729e+06\tvalid_0's RMSPE: 0.127892\n",
      "Early stopping, best iteration is:\n",
      "[1431]\tvalid_0's l2: 1.01595e+06\tvalid_0's RMSPE: 0.127942\n",
      "\n",
      " {'learning_rate': 0.10999999999999999} \n",
      "\n",
      "Training until validation scores don't improve for 150 rounds.\n",
      "[100]\tvalid_0's l2: 1.30325e+06\tvalid_0's RMSPE: 0.157548\n",
      "[200]\tvalid_0's l2: 1.22713e+06\tvalid_0's RMSPE: 0.147579\n",
      "[300]\tvalid_0's l2: 1.18587e+06\tvalid_0's RMSPE: 0.141584\n",
      "[400]\tvalid_0's l2: 1.12666e+06\tvalid_0's RMSPE: 0.137712\n",
      "[500]\tvalid_0's l2: 1.0965e+06\tvalid_0's RMSPE: 0.135316\n",
      "[600]\tvalid_0's l2: 1.07894e+06\tvalid_0's RMSPE: 0.133851\n",
      "[700]\tvalid_0's l2: 1.06954e+06\tvalid_0's RMSPE: 0.133058\n",
      "[800]\tvalid_0's l2: 1.0595e+06\tvalid_0's RMSPE: 0.132334\n",
      "[900]\tvalid_0's l2: 1.05299e+06\tvalid_0's RMSPE: 0.131907\n",
      "[1000]\tvalid_0's l2: 1.04547e+06\tvalid_0's RMSPE: 0.131332\n",
      "[1100]\tvalid_0's l2: 1.04172e+06\tvalid_0's RMSPE: 0.131143\n",
      "[1200]\tvalid_0's l2: 1.03835e+06\tvalid_0's RMSPE: 0.13082\n",
      "[1300]\tvalid_0's l2: 1.03685e+06\tvalid_0's RMSPE: 0.130745\n",
      "[1400]\tvalid_0's l2: 1.03399e+06\tvalid_0's RMSPE: 0.130585\n",
      "[1500]\tvalid_0's l2: 1.03177e+06\tvalid_0's RMSPE: 0.13045\n",
      "[1600]\tvalid_0's l2: 1.03329e+06\tvalid_0's RMSPE: 0.130642\n",
      "Early stopping, best iteration is:\n",
      "[1506]\tvalid_0's l2: 1.03154e+06\tvalid_0's RMSPE: 0.13044\n",
      "\n",
      " {'learning_rate': 0.12} \n",
      "\n",
      "Training until validation scores don't improve for 150 rounds.\n",
      "[100]\tvalid_0's l2: 1.29686e+06\tvalid_0's RMSPE: 0.156663\n",
      "[200]\tvalid_0's l2: 1.2149e+06\tvalid_0's RMSPE: 0.145334\n",
      "[300]\tvalid_0's l2: 1.17774e+06\tvalid_0's RMSPE: 0.140877\n",
      "[400]\tvalid_0's l2: 1.1529e+06\tvalid_0's RMSPE: 0.137514\n",
      "[500]\tvalid_0's l2: 1.12022e+06\tvalid_0's RMSPE: 0.134634\n",
      "[600]\tvalid_0's l2: 1.09161e+06\tvalid_0's RMSPE: 0.132894\n",
      "[700]\tvalid_0's l2: 1.05895e+06\tvalid_0's RMSPE: 0.131118\n",
      "[800]\tvalid_0's l2: 1.04991e+06\tvalid_0's RMSPE: 0.130391\n",
      "[900]\tvalid_0's l2: 1.04454e+06\tvalid_0's RMSPE: 0.130138\n",
      "[1000]\tvalid_0's l2: 1.03966e+06\tvalid_0's RMSPE: 0.129722\n",
      "[1100]\tvalid_0's l2: 1.03681e+06\tvalid_0's RMSPE: 0.129515\n",
      "[1200]\tvalid_0's l2: 1.03238e+06\tvalid_0's RMSPE: 0.129333\n",
      "[1300]\tvalid_0's l2: 1.03265e+06\tvalid_0's RMSPE: 0.129445\n",
      "Early stopping, best iteration is:\n",
      "[1210]\tvalid_0's l2: 1.0323e+06\tvalid_0's RMSPE: 0.1293\n",
      "\n",
      " {'learning_rate': 0.13} \n",
      "\n",
      "Training until validation scores don't improve for 150 rounds.\n",
      "[100]\tvalid_0's l2: 1.29831e+06\tvalid_0's RMSPE: 0.156442\n",
      "[200]\tvalid_0's l2: 1.21385e+06\tvalid_0's RMSPE: 0.145433\n",
      "[300]\tvalid_0's l2: 1.16412e+06\tvalid_0's RMSPE: 0.140966\n",
      "[400]\tvalid_0's l2: 1.12728e+06\tvalid_0's RMSPE: 0.138425\n",
      "[500]\tvalid_0's l2: 1.10038e+06\tvalid_0's RMSPE: 0.136451\n",
      "[600]\tvalid_0's l2: 1.08407e+06\tvalid_0's RMSPE: 0.135463\n",
      "[700]\tvalid_0's l2: 1.07211e+06\tvalid_0's RMSPE: 0.134391\n",
      "[800]\tvalid_0's l2: 1.06444e+06\tvalid_0's RMSPE: 0.134013\n",
      "[900]\tvalid_0's l2: 1.05987e+06\tvalid_0's RMSPE: 0.133586\n",
      "[1000]\tvalid_0's l2: 1.05554e+06\tvalid_0's RMSPE: 0.133461\n",
      "[1100]\tvalid_0's l2: 1.05353e+06\tvalid_0's RMSPE: 0.133558\n",
      "Early stopping, best iteration is:\n",
      "[973]\tvalid_0's l2: 1.05476e+06\tvalid_0's RMSPE: 0.133216\n",
      "\n",
      " {'learning_rate': 0.13999999999999999} \n",
      "\n",
      "Training until validation scores don't improve for 150 rounds.\n",
      "[100]\tvalid_0's l2: 1.26945e+06\tvalid_0's RMSPE: 0.155427\n",
      "[200]\tvalid_0's l2: 1.20217e+06\tvalid_0's RMSPE: 0.144377\n",
      "[300]\tvalid_0's l2: 1.16386e+06\tvalid_0's RMSPE: 0.139496\n",
      "[400]\tvalid_0's l2: 1.13006e+06\tvalid_0's RMSPE: 0.137318\n",
      "[500]\tvalid_0's l2: 1.10185e+06\tvalid_0's RMSPE: 0.134874\n",
      "[600]\tvalid_0's l2: 1.07448e+06\tvalid_0's RMSPE: 0.133331\n",
      "[700]\tvalid_0's l2: 1.0605e+06\tvalid_0's RMSPE: 0.13239\n",
      "[800]\tvalid_0's l2: 1.05263e+06\tvalid_0's RMSPE: 0.132011\n",
      "[900]\tvalid_0's l2: 1.0448e+06\tvalid_0's RMSPE: 0.131452\n",
      "[1000]\tvalid_0's l2: 1.04112e+06\tvalid_0's RMSPE: 0.131255\n",
      "[1100]\tvalid_0's l2: 1.03794e+06\tvalid_0's RMSPE: 0.130935\n",
      "[1200]\tvalid_0's l2: 1.03637e+06\tvalid_0's RMSPE: 0.130895\n",
      "[1300]\tvalid_0's l2: 1.03512e+06\tvalid_0's RMSPE: 0.130816\n",
      "[1400]\tvalid_0's l2: 1.03486e+06\tvalid_0's RMSPE: 0.131007\n",
      "Early stopping, best iteration is:\n",
      "[1313]\tvalid_0's l2: 1.03343e+06\tvalid_0's RMSPE: 0.130757\n",
      "\n",
      " {'learning_rate': 0.15} \n",
      "\n",
      "Training until validation scores don't improve for 150 rounds.\n",
      "[100]\tvalid_0's l2: 1.28907e+06\tvalid_0's RMSPE: 0.152792\n",
      "[200]\tvalid_0's l2: 1.22058e+06\tvalid_0's RMSPE: 0.142324\n",
      "[300]\tvalid_0's l2: 1.18603e+06\tvalid_0's RMSPE: 0.137987\n",
      "[400]\tvalid_0's l2: 1.15418e+06\tvalid_0's RMSPE: 0.135464\n",
      "[500]\tvalid_0's l2: 1.12813e+06\tvalid_0's RMSPE: 0.132971\n",
      "[600]\tvalid_0's l2: 1.101e+06\tvalid_0's RMSPE: 0.131201\n",
      "[700]\tvalid_0's l2: 1.09768e+06\tvalid_0's RMSPE: 0.130812\n",
      "[800]\tvalid_0's l2: 1.08944e+06\tvalid_0's RMSPE: 0.130549\n",
      "[900]\tvalid_0's l2: 1.07974e+06\tvalid_0's RMSPE: 0.130263\n",
      "[1000]\tvalid_0's l2: 1.08142e+06\tvalid_0's RMSPE: 0.130344\n",
      "Early stopping, best iteration is:\n",
      "[906]\tvalid_0's l2: 1.07914e+06\tvalid_0's RMSPE: 0.130204\n"
     ]
    }
   ],
   "source": [
    "learning_rate_results = all_info_about_model(partial(LGBMRegressor, max_depth=-1, num_leaves=70, n_estimators=5000, random_state=205, ),\n",
    "                     X_train, y_train, X_val, y_val, RMSPE,\n",
    "                     {\n",
    "                         'learning_rate': np.linspace(0.05, 0.15, 11),\n",
    "                     },\n",
    "                     eval_set=[(X_val, y_val)],\n",
    "                     eval_metric=lambda y_true, y_pred: ('RMSPE', RMSPE(y_true, y_pred), False),\n",
    "                     early_stopping_rounds=150,\n",
    "                     verbose=100,\n",
    "                     show_loop_params=True,\n",
    ")\n",
    "learning_rate_results.to_csv(data_folder + 'results/learning_rate_results.csv', index=False)"
   ]
  },
  {
   "cell_type": "code",
   "execution_count": null,
   "id": "ranging-cedar",
   "metadata": {
    "execution": {
     "iopub.execute_input": "2021-12-13T06:38:52.197735Z",
     "iopub.status.busy": "2021-12-13T06:38:52.196738Z",
     "iopub.status.idle": "2021-12-13T06:38:52.230686Z",
     "shell.execute_reply": "2021-12-13T06:38:52.227689Z",
     "shell.execute_reply.started": "2021-12-13T06:38:52.197735Z"
    },
    "id": "abandoned-consent"
   },
   "outputs": [],
   "source": [
    "learning_rate_results = pd.read_csv(data_folder + 'results/learning_rate_results.csv')"
   ]
  },
  {
   "cell_type": "code",
   "execution_count": null,
   "id": "sudden-syracuse",
   "metadata": {
    "colab": {
     "base_uri": "https://localhost:8080/",
     "height": 459
    },
    "execution": {
     "iopub.execute_input": "2021-12-13T06:39:09.143957Z",
     "iopub.status.busy": "2021-12-13T06:39:09.142959Z",
     "iopub.status.idle": "2021-12-13T06:39:09.802515Z",
     "shell.execute_reply": "2021-12-13T06:39:09.802515Z",
     "shell.execute_reply.started": "2021-12-13T06:39:09.143957Z"
    },
    "id": "hybrid-retirement",
    "outputId": "90d8dc72-5d3c-4b3a-a736-2bd3ff04548f"
   },
   "outputs": [
    {
     "data": {
      "image/png": "[encoded data removed]",
      "text/plain": [
       "<Figure size 864x504 with 1 Axes>"
      ]
     },
     "metadata": {
      "needs_background": "light"
     },
     "output_type": "display_data"
    }
   ],
   "source": [
    "plot_eval_results('learning_rate', learning_rate_results)"
   ]
  },
  {
   "cell_type": "markdown",
   "id": "defensive-copying",
   "metadata": {
    "id": "hydraulic-bobby"
   },
   "source": [
    "Let's see the row with minimum rmspe."
   ]
  },
  {
   "cell_type": "code",
   "execution_count": null,
   "id": "transparent-stanley",
   "metadata": {
    "colab": {
     "base_uri": "https://localhost:8080/",
     "height": 81
    },
    "execution": {
     "iopub.execute_input": "2021-12-13T06:40:12.993471Z",
     "iopub.status.busy": "2021-12-13T06:40:12.991475Z",
     "iopub.status.idle": "2021-12-13T06:40:13.032410Z",
     "shell.execute_reply": "2021-12-13T06:40:13.028414Z",
     "shell.execute_reply.started": "2021-12-13T06:40:12.992475Z"
    },
    "id": "hundred-belle",
    "outputId": "4f10e9ec-7093-47f9-b40c-f945e228eec4",
    "tags": []
   },
   "outputs": [
    {
     "data": {
      "text/html": [
       "<div>\n",
       "<style scoped>\n",
       "    .dataframe tbody tr th:only-of-type {\n",
       "        vertical-align: middle;\n",
       "    }\n",
       "\n",
       "    .dataframe tbody tr th {\n",
       "        vertical-align: top;\n",
       "    }\n",
       "\n",
       "    .dataframe thead th {\n",
       "        text-align: right;\n",
       "    }\n",
       "</style>\n",
       "<table border=\"1\" class=\"dataframe\">\n",
       "  <thead>\n",
       "    <tr style=\"text-align: right;\">\n",
       "      <th></th>\n",
       "      <th>learning_rate</th>\n",
       "      <th>train_metric</th>\n",
       "      <th>val_metric</th>\n",
       "      <th>eval_time (sec)</th>\n",
       "    </tr>\n",
       "  </thead>\n",
       "  <tbody>\n",
       "    <tr>\n",
       "      <th>5</th>\n",
       "      <td>0.1</td>\n",
       "      <td>0.109168</td>\n",
       "      <td>0.127942</td>\n",
       "      <td>120.04615</td>\n",
       "    </tr>\n",
       "  </tbody>\n",
       "</table>\n",
       "</div>"
      ],
      "text/plain": [
       "   learning_rate  train_metric  val_metric  eval_time (sec)\n",
       "5            0.1      0.109168    0.127942        120.04615"
      ]
     },
     "execution_count": 30,
     "metadata": {},
     "output_type": "execute_result"
    }
   ],
   "source": [
    "learning_rate_results.loc[[learning_rate_results.val_metric.argmin()]]"
   ]
  },
  {
   "cell_type": "markdown",
   "id": "senior-savings",
   "metadata": {
    "id": "corresponding-brighton"
   },
   "source": [
    "The best params are max_depth=-1, num_leaves=70, learning_rate=0.1"
   ]
  },
  {
   "cell_type": "markdown",
   "id": "sufficient-steel",
   "metadata": {
    "id": "placed-daniel"
   },
   "source": [
    "## Transformed target"
   ]
  },
  {
   "cell_type": "markdown",
   "id": "accompanied-marijuana",
   "metadata": {
    "id": "honest-generation"
   },
   "source": [
    "Boks-Koks transforming  \n",
    "$\n",
    "z = \\begin{cases}\n",
    "\\frac{(y+a)^\\lambda - 1}{\\lambda}, \\lambda \\ne 0\\\\\n",
    "ln(y+a), \\lambda=0\n",
    "\\end{cases}\n",
    "$"
   ]
  },
  {
   "cell_type": "code",
   "execution_count": 12,
   "id": "amber-dominican",
   "metadata": {
    "execution": {
     "iopub.execute_input": "2021-12-14T13:42:32.439821Z",
     "iopub.status.busy": "2021-12-14T13:42:32.439821Z",
     "iopub.status.idle": "2021-12-14T13:42:32.471813Z",
     "shell.execute_reply": "2021-12-14T13:42:32.471813Z",
     "shell.execute_reply.started": "2021-12-14T13:42:32.439821Z"
    },
    "id": "local-framing",
    "tags": []
   },
   "outputs": [],
   "source": [
    "def box_cox(y, mu, shift=0.0):\n",
    "    if mu == 0.0:\n",
    "        return np.log(y + shift)\n",
    "    return ((y + shift)**mu - 1) / mu\n",
    "\n",
    "def inv_box_cox(z, mu, shift=0.0):\n",
    "    if mu == 0.0:\n",
    "        return np.e**z - shift\n",
    "    return (1 + z * mu)**(1 / mu) - shift\n",
    "\n",
    "def box_cox_RMSPE(y_true, y_pred, mu, shift):\n",
    "    return RMSPE(inv_box_cox(y_true, mu, shift), inv_box_cox(y_pred, mu, shift))"
   ]
  },
  {
   "cell_type": "code",
   "execution_count": null,
   "id": "million-compression",
   "metadata": {
    "colab": {
     "base_uri": "https://localhost:8080/"
    },
    "collapsed": true,
    "id": "prerequisite-monitor",
    "jupyter": {
     "outputs_hidden": true
    },
    "outputId": "dea2b4ff-bfae-4845-dd12-70de06e3a8af",
    "tags": []
   },
   "outputs": [
    {
     "name": "stdout",
     "output_type": "stream",
     "text": [
      "mu: 0.0 \n",
      "\n",
      "Training until validation scores don't improve for 150 rounds.\n",
      "[100]\tvalid_0's l2: 0.0251007\tvalid_0's RMSPE: 0.15252\n",
      "[200]\tvalid_0's l2: 0.0255061\tvalid_0's RMSPE: 0.149695\n",
      "Early stopping, best iteration is:\n",
      "[62]\tvalid_0's l2: 0.0240561\tvalid_0's RMSPE: 0.156888\n",
      "mu: 0.05 \n",
      "\n",
      "Training until validation scores don't improve for 150 rounds.\n",
      "[100]\tvalid_0's l2: 0.0575571\tvalid_0's RMSPE: 0.153526\n",
      "[200]\tvalid_0's l2: 0.0543062\tvalid_0's RMSPE: 0.14564\n",
      "[300]\tvalid_0's l2: 0.0514677\tvalid_0's RMSPE: 0.141063\n",
      "[400]\tvalid_0's l2: 0.0496448\tvalid_0's RMSPE: 0.138113\n",
      "[500]\tvalid_0's l2: 0.0485896\tvalid_0's RMSPE: 0.136018\n",
      "[600]\tvalid_0's l2: 0.0471853\tvalid_0's RMSPE: 0.134128\n",
      "[700]\tvalid_0's l2: 0.0462244\tvalid_0's RMSPE: 0.132894\n",
      "[800]\tvalid_0's l2: 0.045404\tvalid_0's RMSPE: 0.131859\n",
      "[900]\tvalid_0's l2: 0.0448186\tvalid_0's RMSPE: 0.131045\n",
      "[1000]\tvalid_0's l2: 0.0444147\tvalid_0's RMSPE: 0.130554\n",
      "[1100]\tvalid_0's l2: 0.0441291\tvalid_0's RMSPE: 0.130191\n",
      "[1200]\tvalid_0's l2: 0.0438794\tvalid_0's RMSPE: 0.129917\n",
      "[1300]\tvalid_0's l2: 0.0436606\tvalid_0's RMSPE: 0.129706\n",
      "[1400]\tvalid_0's l2: 0.0436018\tvalid_0's RMSPE: 0.129592\n",
      "[1500]\tvalid_0's l2: 0.0434497\tvalid_0's RMSPE: 0.129405\n",
      "[1600]\tvalid_0's l2: 0.0435189\tvalid_0's RMSPE: 0.129512\n",
      "Early stopping, best iteration is:\n",
      "[1507]\tvalid_0's l2: 0.0434414\tvalid_0's RMSPE: 0.129392\n",
      "mu: 0.1 \n",
      "\n",
      "Training until validation scores don't improve for 150 rounds.\n",
      "[100]\tvalid_0's l2: 0.140249\tvalid_0's RMSPE: 0.150812\n",
      "[200]\tvalid_0's l2: 0.13196\tvalid_0's RMSPE: 0.142966\n",
      "[300]\tvalid_0's l2: 0.125402\tvalid_0's RMSPE: 0.139173\n",
      "[400]\tvalid_0's l2: 0.119364\tvalid_0's RMSPE: 0.135734\n",
      "[500]\tvalid_0's l2: 0.117261\tvalid_0's RMSPE: 0.13437\n",
      "[600]\tvalid_0's l2: 0.113949\tvalid_0's RMSPE: 0.132527\n",
      "[700]\tvalid_0's l2: 0.11068\tvalid_0's RMSPE: 0.130913\n",
      "[800]\tvalid_0's l2: 0.109044\tvalid_0's RMSPE: 0.129955\n",
      "[900]\tvalid_0's l2: 0.107939\tvalid_0's RMSPE: 0.129401\n",
      "[1000]\tvalid_0's l2: 0.106906\tvalid_0's RMSPE: 0.128907\n",
      "[1100]\tvalid_0's l2: 0.105932\tvalid_0's RMSPE: 0.128563\n",
      "[1200]\tvalid_0's l2: 0.10558\tvalid_0's RMSPE: 0.128438\n",
      "[1300]\tvalid_0's l2: 0.105086\tvalid_0's RMSPE: 0.128242\n",
      "[1400]\tvalid_0's l2: 0.10441\tvalid_0's RMSPE: 0.127989\n",
      "[1500]\tvalid_0's l2: 0.104194\tvalid_0's RMSPE: 0.127903\n",
      "[1600]\tvalid_0's l2: 0.104167\tvalid_0's RMSPE: 0.127889\n",
      "[1700]\tvalid_0's l2: 0.104094\tvalid_0's RMSPE: 0.127872\n",
      "[1800]\tvalid_0's l2: 0.104239\tvalid_0's RMSPE: 0.128064\n",
      "Early stopping, best iteration is:\n",
      "[1657]\tvalid_0's l2: 0.104011\tvalid_0's RMSPE: 0.127836\n",
      "mu: 0.15000000000000002 \n",
      "\n",
      "Training until validation scores don't improve for 150 rounds.\n",
      "[100]\tvalid_0's l2: 0.318833\tvalid_0's RMSPE: 0.150027\n",
      "[200]\tvalid_0's l2: 0.302088\tvalid_0's RMSPE: 0.141562\n",
      "[300]\tvalid_0's l2: 0.291321\tvalid_0's RMSPE: 0.137608\n",
      "[400]\tvalid_0's l2: 0.278969\tvalid_0's RMSPE: 0.134682\n",
      "[500]\tvalid_0's l2: 0.269987\tvalid_0's RMSPE: 0.132582\n",
      "[600]\tvalid_0's l2: 0.262309\tvalid_0's RMSPE: 0.13077\n",
      "[700]\tvalid_0's l2: 0.258282\tvalid_0's RMSPE: 0.129713\n",
      "[800]\tvalid_0's l2: 0.255132\tvalid_0's RMSPE: 0.128854\n",
      "[900]\tvalid_0's l2: 0.253251\tvalid_0's RMSPE: 0.128563\n",
      "[1000]\tvalid_0's l2: 0.25117\tvalid_0's RMSPE: 0.128127\n",
      "[1100]\tvalid_0's l2: 0.250156\tvalid_0's RMSPE: 0.127894\n",
      "[1200]\tvalid_0's l2: 0.248132\tvalid_0's RMSPE: 0.127473\n",
      "[1300]\tvalid_0's l2: 0.247036\tvalid_0's RMSPE: 0.127221\n",
      "[1400]\tvalid_0's l2: 0.246237\tvalid_0's RMSPE: 0.127103\n",
      "[1500]\tvalid_0's l2: 0.24612\tvalid_0's RMSPE: 0.127113\n",
      "Early stopping, best iteration is:\n",
      "[1358]\tvalid_0's l2: 0.246081\tvalid_0's RMSPE: 0.127022\n",
      "mu: 0.2 \n",
      "\n",
      "Training until validation scores don't improve for 150 rounds.\n",
      "[100]\tvalid_0's l2: 0.788235\tvalid_0's RMSPE: 0.1522\n",
      "[200]\tvalid_0's l2: 0.747097\tvalid_0's RMSPE: 0.144004\n",
      "[300]\tvalid_0's l2: 0.708578\tvalid_0's RMSPE: 0.139073\n",
      "[400]\tvalid_0's l2: 0.685587\tvalid_0's RMSPE: 0.136579\n",
      "[500]\tvalid_0's l2: 0.677301\tvalid_0's RMSPE: 0.135017\n",
      "[600]\tvalid_0's l2: 0.657626\tvalid_0's RMSPE: 0.133205\n",
      "[700]\tvalid_0's l2: 0.649625\tvalid_0's RMSPE: 0.132278\n",
      "[800]\tvalid_0's l2: 0.642296\tvalid_0's RMSPE: 0.131475\n",
      "[900]\tvalid_0's l2: 0.632161\tvalid_0's RMSPE: 0.130584\n",
      "[1000]\tvalid_0's l2: 0.629386\tvalid_0's RMSPE: 0.130284\n",
      "[1100]\tvalid_0's l2: 0.626175\tvalid_0's RMSPE: 0.129971\n",
      "[1200]\tvalid_0's l2: 0.624956\tvalid_0's RMSPE: 0.129842\n",
      "[1300]\tvalid_0's l2: 0.624558\tvalid_0's RMSPE: 0.129787\n",
      "[1400]\tvalid_0's l2: 0.622643\tvalid_0's RMSPE: 0.129615\n",
      "[1500]\tvalid_0's l2: 0.6222\tvalid_0's RMSPE: 0.129664\n",
      "Early stopping, best iteration is:\n",
      "[1389]\tvalid_0's l2: 0.622248\tvalid_0's RMSPE: 0.129603\n",
      "mu: 0.25 \n",
      "\n",
      "Training until validation scores don't improve for 150 rounds.\n",
      "[100]\tvalid_0's l2: 1.90188\tvalid_0's RMSPE: 0.152245\n",
      "[200]\tvalid_0's l2: 1.83569\tvalid_0's RMSPE: 0.144682\n",
      "[300]\tvalid_0's l2: 1.76829\tvalid_0's RMSPE: 0.140529\n",
      "[400]\tvalid_0's l2: 1.68274\tvalid_0's RMSPE: 0.136631\n",
      "[500]\tvalid_0's l2: 1.6117\tvalid_0's RMSPE: 0.133678\n",
      "[600]\tvalid_0's l2: 1.57574\tvalid_0's RMSPE: 0.132186\n",
      "[700]\tvalid_0's l2: 1.5453\tvalid_0's RMSPE: 0.130885\n",
      "[800]\tvalid_0's l2: 1.50922\tvalid_0's RMSPE: 0.129529\n",
      "[900]\tvalid_0's l2: 1.49784\tvalid_0's RMSPE: 0.12898\n",
      "[1000]\tvalid_0's l2: 1.48207\tvalid_0's RMSPE: 0.128284\n",
      "[1100]\tvalid_0's l2: 1.4716\tvalid_0's RMSPE: 0.127898\n",
      "[1200]\tvalid_0's l2: 1.46558\tvalid_0's RMSPE: 0.127743\n",
      "[1300]\tvalid_0's l2: 1.45584\tvalid_0's RMSPE: 0.127464\n",
      "[1400]\tvalid_0's l2: 1.45108\tvalid_0's RMSPE: 0.127367\n",
      "[1500]\tvalid_0's l2: 1.44886\tvalid_0's RMSPE: 0.127321\n",
      "[1600]\tvalid_0's l2: 1.44965\tvalid_0's RMSPE: 0.127365\n",
      "Early stopping, best iteration is:\n",
      "[1518]\tvalid_0's l2: 1.44758\tvalid_0's RMSPE: 0.127267\n",
      "mu: 0.30000000000000004 \n",
      "\n",
      "Training until validation scores don't improve for 150 rounds.\n",
      "[100]\tvalid_0's l2: 4.47823\tvalid_0's RMSPE: 0.151072\n",
      "[200]\tvalid_0's l2: 4.1424\tvalid_0's RMSPE: 0.140893\n",
      "[300]\tvalid_0's l2: 3.87645\tvalid_0's RMSPE: 0.135364\n",
      "[400]\tvalid_0's l2: 3.66445\tvalid_0's RMSPE: 0.131637\n",
      "[500]\tvalid_0's l2: 3.57888\tvalid_0's RMSPE: 0.129666\n",
      "[600]\tvalid_0's l2: 3.49056\tvalid_0's RMSPE: 0.127903\n",
      "[700]\tvalid_0's l2: 3.43824\tvalid_0's RMSPE: 0.126927\n",
      "[800]\tvalid_0's l2: 3.39568\tvalid_0's RMSPE: 0.126011\n",
      "[900]\tvalid_0's l2: 3.35488\tvalid_0's RMSPE: 0.125264\n",
      "[1000]\tvalid_0's l2: 3.32719\tvalid_0's RMSPE: 0.124776\n",
      "[1100]\tvalid_0's l2: 3.30959\tvalid_0's RMSPE: 0.124391\n",
      "[1200]\tvalid_0's l2: 3.30198\tvalid_0's RMSPE: 0.124332\n",
      "[1300]\tvalid_0's l2: 3.28868\tvalid_0's RMSPE: 0.12414\n",
      "[1400]\tvalid_0's l2: 3.29101\tvalid_0's RMSPE: 0.12424\n",
      "[1500]\tvalid_0's l2: 3.28457\tvalid_0's RMSPE: 0.124203\n",
      "Early stopping, best iteration is:\n",
      "[1447]\tvalid_0's l2: 3.28341\tvalid_0's RMSPE: 0.124094\n",
      "mu: 0.35000000000000003 \n",
      "\n",
      "Training until validation scores don't improve for 150 rounds.\n",
      "[100]\tvalid_0's l2: 11.0755\tvalid_0's RMSPE: 0.151685\n",
      "[200]\tvalid_0's l2: 10.766\tvalid_0's RMSPE: 0.144267\n",
      "[300]\tvalid_0's l2: 10.1741\tvalid_0's RMSPE: 0.138645\n",
      "[400]\tvalid_0's l2: 9.79641\tvalid_0's RMSPE: 0.135759\n",
      "[500]\tvalid_0's l2: 9.53566\tvalid_0's RMSPE: 0.133253\n",
      "[600]\tvalid_0's l2: 9.22086\tvalid_0's RMSPE: 0.131078\n",
      "[700]\tvalid_0's l2: 9.06823\tvalid_0's RMSPE: 0.129861\n",
      "[800]\tvalid_0's l2: 8.98465\tvalid_0's RMSPE: 0.129124\n",
      "[900]\tvalid_0's l2: 8.88663\tvalid_0's RMSPE: 0.128402\n",
      "[1000]\tvalid_0's l2: 8.87876\tvalid_0's RMSPE: 0.128298\n",
      "[1100]\tvalid_0's l2: 8.8273\tvalid_0's RMSPE: 0.127905\n",
      "[1200]\tvalid_0's l2: 8.7694\tvalid_0's RMSPE: 0.127606\n",
      "[1300]\tvalid_0's l2: 8.78965\tvalid_0's RMSPE: 0.127657\n",
      "[1400]\tvalid_0's l2: 8.73309\tvalid_0's RMSPE: 0.127467\n",
      "[1500]\tvalid_0's l2: 8.72906\tvalid_0's RMSPE: 0.127424\n",
      "[1600]\tvalid_0's l2: 8.71656\tvalid_0's RMSPE: 0.127322\n",
      "[1700]\tvalid_0's l2: 8.72065\tvalid_0's RMSPE: 0.127353\n",
      "[1800]\tvalid_0's l2: 8.70042\tvalid_0's RMSPE: 0.127294\n",
      "[1900]\tvalid_0's l2: 8.69853\tvalid_0's RMSPE: 0.127291\n",
      "[2000]\tvalid_0's l2: 8.6991\tvalid_0's RMSPE: 0.127326\n",
      "[2100]\tvalid_0's l2: 8.70042\tvalid_0's RMSPE: 0.127433\n",
      "Early stopping, best iteration is:\n",
      "[1978]\tvalid_0's l2: 8.68531\tvalid_0's RMSPE: 0.127211\n",
      "mu: 0.4 \n",
      "\n",
      "Training until validation scores don't improve for 150 rounds.\n",
      "[100]\tvalid_0's l2: 27.695\tvalid_0's RMSPE: 0.153676\n",
      "[200]\tvalid_0's l2: 26.8814\tvalid_0's RMSPE: 0.147265\n",
      "[300]\tvalid_0's l2: 25.9965\tvalid_0's RMSPE: 0.14287\n",
      "[400]\tvalid_0's l2: 25.0684\tvalid_0's RMSPE: 0.13938\n",
      "[500]\tvalid_0's l2: 23.8997\tvalid_0's RMSPE: 0.135763\n",
      "[600]\tvalid_0's l2: 23.1628\tvalid_0's RMSPE: 0.13366\n",
      "[700]\tvalid_0's l2: 22.7562\tvalid_0's RMSPE: 0.132274\n",
      "[800]\tvalid_0's l2: 22.5857\tvalid_0's RMSPE: 0.131822\n",
      "[900]\tvalid_0's l2: 22.4288\tvalid_0's RMSPE: 0.131327\n",
      "[1000]\tvalid_0's l2: 22.3221\tvalid_0's RMSPE: 0.130972\n",
      "[1100]\tvalid_0's l2: 22.1589\tvalid_0's RMSPE: 0.130632\n",
      "[1200]\tvalid_0's l2: 21.9449\tvalid_0's RMSPE: 0.130275\n",
      "[1300]\tvalid_0's l2: 21.784\tvalid_0's RMSPE: 0.129982\n",
      "[1400]\tvalid_0's l2: 21.7491\tvalid_0's RMSPE: 0.129888\n",
      "[1500]\tvalid_0's l2: 21.6881\tvalid_0's RMSPE: 0.12975\n",
      "[1600]\tvalid_0's l2: 21.6785\tvalid_0's RMSPE: 0.12971\n",
      "[1700]\tvalid_0's l2: 21.6088\tvalid_0's RMSPE: 0.129612\n",
      "[1800]\tvalid_0's l2: 21.5892\tvalid_0's RMSPE: 0.129748\n",
      "Early stopping, best iteration is:\n",
      "[1721]\tvalid_0's l2: 21.5689\tvalid_0's RMSPE: 0.129518\n",
      "mu: 0.45 \n",
      "\n",
      "Training until validation scores don't improve for 150 rounds.\n",
      "[100]\tvalid_0's l2: 65.5307\tvalid_0's RMSPE: 0.152218\n",
      "[200]\tvalid_0's l2: 60.7312\tvalid_0's RMSPE: 0.141618\n",
      "[300]\tvalid_0's l2: 58.3555\tvalid_0's RMSPE: 0.137222\n",
      "[400]\tvalid_0's l2: 55.2758\tvalid_0's RMSPE: 0.133275\n",
      "[500]\tvalid_0's l2: 53.7062\tvalid_0's RMSPE: 0.131619\n",
      "[600]\tvalid_0's l2: 51.908\tvalid_0's RMSPE: 0.129645\n",
      "[700]\tvalid_0's l2: 51.0206\tvalid_0's RMSPE: 0.128583\n",
      "[800]\tvalid_0's l2: 50.2084\tvalid_0's RMSPE: 0.127319\n",
      "[900]\tvalid_0's l2: 49.7763\tvalid_0's RMSPE: 0.126913\n",
      "[1000]\tvalid_0's l2: 49.4092\tvalid_0's RMSPE: 0.126533\n",
      "[1100]\tvalid_0's l2: 49.1213\tvalid_0's RMSPE: 0.126262\n",
      "[1200]\tvalid_0's l2: 49.1782\tvalid_0's RMSPE: 0.126348\n",
      "[1300]\tvalid_0's l2: 49.0794\tvalid_0's RMSPE: 0.126223\n",
      "Early stopping, best iteration is:\n",
      "[1168]\tvalid_0's l2: 48.9509\tvalid_0's RMSPE: 0.126144\n",
      "mu: 0.5 \n",
      "\n",
      "Training until validation scores don't improve for 150 rounds.\n",
      "[100]\tvalid_0's l2: 164.538\tvalid_0's RMSPE: 0.153131\n",
      "[200]\tvalid_0's l2: 159.303\tvalid_0's RMSPE: 0.145712\n",
      "[300]\tvalid_0's l2: 155.095\tvalid_0's RMSPE: 0.140886\n",
      "[400]\tvalid_0's l2: 150.017\tvalid_0's RMSPE: 0.138019\n",
      "[500]\tvalid_0's l2: 144.609\tvalid_0's RMSPE: 0.135067\n",
      "[600]\tvalid_0's l2: 141.067\tvalid_0's RMSPE: 0.133191\n",
      "[700]\tvalid_0's l2: 137.156\tvalid_0's RMSPE: 0.131404\n",
      "[800]\tvalid_0's l2: 134.445\tvalid_0's RMSPE: 0.130114\n",
      "[900]\tvalid_0's l2: 133.025\tvalid_0's RMSPE: 0.129384\n",
      "[1000]\tvalid_0's l2: 132.129\tvalid_0's RMSPE: 0.128934\n",
      "[1100]\tvalid_0's l2: 131.634\tvalid_0's RMSPE: 0.128656\n",
      "[1200]\tvalid_0's l2: 131.163\tvalid_0's RMSPE: 0.128472\n",
      "[1300]\tvalid_0's l2: 131.031\tvalid_0's RMSPE: 0.128386\n",
      "[1400]\tvalid_0's l2: 130.628\tvalid_0's RMSPE: 0.128211\n",
      "[1500]\tvalid_0's l2: 130.571\tvalid_0's RMSPE: 0.128307\n",
      "Early stopping, best iteration is:\n",
      "[1401]\tvalid_0's l2: 130.624\tvalid_0's RMSPE: 0.128208\n",
      "mu: 0.55 \n",
      "\n",
      "Training until validation scores don't improve for 150 rounds.\n",
      "[100]\tvalid_0's l2: 404.944\tvalid_0's RMSPE: 0.152864\n",
      "[200]\tvalid_0's l2: 386.148\tvalid_0's RMSPE: 0.145537\n",
      "[300]\tvalid_0's l2: 369.225\tvalid_0's RMSPE: 0.140732\n",
      "[400]\tvalid_0's l2: 350.997\tvalid_0's RMSPE: 0.136411\n",
      "[500]\tvalid_0's l2: 338.001\tvalid_0's RMSPE: 0.133651\n",
      "[600]\tvalid_0's l2: 327.922\tvalid_0's RMSPE: 0.131803\n",
      "[700]\tvalid_0's l2: 320.314\tvalid_0's RMSPE: 0.130414\n",
      "[800]\tvalid_0's l2: 316.389\tvalid_0's RMSPE: 0.129778\n",
      "[900]\tvalid_0's l2: 313.629\tvalid_0's RMSPE: 0.129004\n",
      "[1000]\tvalid_0's l2: 310.265\tvalid_0's RMSPE: 0.128434\n",
      "[1100]\tvalid_0's l2: 308.492\tvalid_0's RMSPE: 0.12809\n",
      "[1200]\tvalid_0's l2: 306.744\tvalid_0's RMSPE: 0.127748\n",
      "[1300]\tvalid_0's l2: 305.424\tvalid_0's RMSPE: 0.127548\n",
      "[1400]\tvalid_0's l2: 304.892\tvalid_0's RMSPE: 0.127499\n",
      "[1500]\tvalid_0's l2: 304.178\tvalid_0's RMSPE: 0.127353\n",
      "[1600]\tvalid_0's l2: 304.524\tvalid_0's RMSPE: 0.12736\n",
      "[1700]\tvalid_0's l2: 303.396\tvalid_0's RMSPE: 0.127163\n",
      "[1800]\tvalid_0's l2: 302.86\tvalid_0's RMSPE: 0.127232\n",
      "Early stopping, best iteration is:\n",
      "[1715]\tvalid_0's l2: 303.146\tvalid_0's RMSPE: 0.127117\n",
      "mu: 0.6000000000000001 \n",
      "\n",
      "Training until validation scores don't improve for 150 rounds.\n",
      "[100]\tvalid_0's l2: 970.815\tvalid_0's RMSPE: 0.153547\n",
      "[200]\tvalid_0's l2: 941.277\tvalid_0's RMSPE: 0.145565\n",
      "[300]\tvalid_0's l2: 913.902\tvalid_0's RMSPE: 0.140795\n",
      "[400]\tvalid_0's l2: 898.531\tvalid_0's RMSPE: 0.137963\n",
      "[500]\tvalid_0's l2: 864.338\tvalid_0's RMSPE: 0.134953\n",
      "[600]\tvalid_0's l2: 841.909\tvalid_0's RMSPE: 0.133005\n",
      "[700]\tvalid_0's l2: 829.274\tvalid_0's RMSPE: 0.13181\n",
      "[800]\tvalid_0's l2: 816.421\tvalid_0's RMSPE: 0.130785\n",
      "[900]\tvalid_0's l2: 809.144\tvalid_0's RMSPE: 0.130219\n",
      "[1000]\tvalid_0's l2: 801.966\tvalid_0's RMSPE: 0.129647\n",
      "[1100]\tvalid_0's l2: 795.98\tvalid_0's RMSPE: 0.1291\n",
      "[1200]\tvalid_0's l2: 783.783\tvalid_0's RMSPE: 0.128364\n",
      "[1300]\tvalid_0's l2: 777.881\tvalid_0's RMSPE: 0.12786\n",
      "[1400]\tvalid_0's l2: 778.074\tvalid_0's RMSPE: 0.127795\n",
      "[1500]\tvalid_0's l2: 776.182\tvalid_0's RMSPE: 0.127684\n",
      "[1600]\tvalid_0's l2: 773.407\tvalid_0's RMSPE: 0.127622\n",
      "[1700]\tvalid_0's l2: 772.819\tvalid_0's RMSPE: 0.12766\n",
      "Early stopping, best iteration is:\n",
      "[1569]\tvalid_0's l2: 773.038\tvalid_0's RMSPE: 0.12753\n",
      "mu: 0.65 \n",
      "\n",
      "Training until validation scores don't improve for 150 rounds.\n",
      "[100]\tvalid_0's l2: 2371.84\tvalid_0's RMSPE: 0.157849\n",
      "[200]\tvalid_0's l2: 2173.02\tvalid_0's RMSPE: 0.145711\n",
      "[300]\tvalid_0's l2: 2125.42\tvalid_0's RMSPE: 0.141266\n",
      "[400]\tvalid_0's l2: 2066.22\tvalid_0's RMSPE: 0.137559\n",
      "[500]\tvalid_0's l2: 2008.06\tvalid_0's RMSPE: 0.135351\n",
      "[600]\tvalid_0's l2: 1952.63\tvalid_0's RMSPE: 0.133372\n",
      "[700]\tvalid_0's l2: 1906.5\tvalid_0's RMSPE: 0.131826\n",
      "[800]\tvalid_0's l2: 1890.11\tvalid_0's RMSPE: 0.131199\n",
      "[900]\tvalid_0's l2: 1879.48\tvalid_0's RMSPE: 0.130624\n",
      "[1000]\tvalid_0's l2: 1864.21\tvalid_0's RMSPE: 0.130195\n",
      "[1100]\tvalid_0's l2: 1856.45\tvalid_0's RMSPE: 0.129877\n",
      "[1200]\tvalid_0's l2: 1843.86\tvalid_0's RMSPE: 0.129375\n",
      "[1300]\tvalid_0's l2: 1838.09\tvalid_0's RMSPE: 0.129196\n",
      "[1400]\tvalid_0's l2: 1833.37\tvalid_0's RMSPE: 0.129026\n",
      "[1500]\tvalid_0's l2: 1830.22\tvalid_0's RMSPE: 0.128942\n",
      "[1600]\tvalid_0's l2: 1833.3\tvalid_0's RMSPE: 0.12921\n",
      "Early stopping, best iteration is:\n",
      "[1536]\tvalid_0's l2: 1829.49\tvalid_0's RMSPE: 0.128863\n",
      "mu: 0.7000000000000001 \n",
      "\n",
      "Training until validation scores don't improve for 150 rounds.\n",
      "[100]\tvalid_0's l2: 5915.07\tvalid_0's RMSPE: 0.154588\n",
      "[200]\tvalid_0's l2: 5719.43\tvalid_0's RMSPE: 0.14578\n",
      "[300]\tvalid_0's l2: 5614.92\tvalid_0's RMSPE: 0.141865\n",
      "[400]\tvalid_0's l2: 5412.11\tvalid_0's RMSPE: 0.138266\n",
      "[500]\tvalid_0's l2: 5229.67\tvalid_0's RMSPE: 0.135247\n",
      "[600]\tvalid_0's l2: 5119.63\tvalid_0's RMSPE: 0.133698\n",
      "[700]\tvalid_0's l2: 4996.02\tvalid_0's RMSPE: 0.132039\n",
      "[800]\tvalid_0's l2: 4922.34\tvalid_0's RMSPE: 0.131211\n",
      "[900]\tvalid_0's l2: 4870.88\tvalid_0's RMSPE: 0.130437\n",
      "[1000]\tvalid_0's l2: 4823.8\tvalid_0's RMSPE: 0.129859\n",
      "[1100]\tvalid_0's l2: 4812.19\tvalid_0's RMSPE: 0.129712\n",
      "[1200]\tvalid_0's l2: 4801.48\tvalid_0's RMSPE: 0.129593\n",
      "[1300]\tvalid_0's l2: 4790.81\tvalid_0's RMSPE: 0.129187\n",
      "Early stopping, best iteration is:\n",
      "[1226]\tvalid_0's l2: 4784.08\tvalid_0's RMSPE: 0.129198\n",
      "mu: 0.75 \n",
      "\n",
      "Training until validation scores don't improve for 150 rounds.\n",
      "[100]\tvalid_0's l2: 14425.5\tvalid_0's RMSPE: 0.155701\n",
      "[200]\tvalid_0's l2: 13605.5\tvalid_0's RMSPE: 0.147835\n",
      "[300]\tvalid_0's l2: 13184.6\tvalid_0's RMSPE: 0.142708\n",
      "[400]\tvalid_0's l2: 12398.8\tvalid_0's RMSPE: 0.137128\n",
      "[500]\tvalid_0's l2: 12031.5\tvalid_0's RMSPE: 0.134121\n",
      "[600]\tvalid_0's l2: 11690.6\tvalid_0's RMSPE: 0.131888\n",
      "[700]\tvalid_0's l2: 11511.6\tvalid_0's RMSPE: 0.130975\n",
      "[800]\tvalid_0's l2: 11404.7\tvalid_0's RMSPE: 0.130039\n",
      "[900]\tvalid_0's l2: 11304.3\tvalid_0's RMSPE: 0.12931\n",
      "[1000]\tvalid_0's l2: 11226.3\tvalid_0's RMSPE: 0.128728\n",
      "[1100]\tvalid_0's l2: 11163.4\tvalid_0's RMSPE: 0.128486\n",
      "[1200]\tvalid_0's l2: 11085.3\tvalid_0's RMSPE: 0.128049\n",
      "[1300]\tvalid_0's l2: 11053.2\tvalid_0's RMSPE: 0.127821\n",
      "[1400]\tvalid_0's l2: 10989.6\tvalid_0's RMSPE: 0.127552\n",
      "[1500]\tvalid_0's l2: 10976.9\tvalid_0's RMSPE: 0.127467\n",
      "[1600]\tvalid_0's l2: 10956.6\tvalid_0's RMSPE: 0.127349\n",
      "[1700]\tvalid_0's l2: 10953.6\tvalid_0's RMSPE: 0.127298\n",
      "[1800]\tvalid_0's l2: 10976\tvalid_0's RMSPE: 0.127601\n",
      "Early stopping, best iteration is:\n",
      "[1666]\tvalid_0's l2: 10948.7\tvalid_0's RMSPE: 0.127207\n",
      "mu: 0.8 \n",
      "\n",
      "Training until validation scores don't improve for 150 rounds.\n",
      "[100]\tvalid_0's l2: 34490\tvalid_0's RMSPE: 0.158326\n",
      "[200]\tvalid_0's l2: 32733.7\tvalid_0's RMSPE: 0.148178\n",
      "[300]\tvalid_0's l2: 30852.3\tvalid_0's RMSPE: 0.141213\n",
      "[400]\tvalid_0's l2: 29538.9\tvalid_0's RMSPE: 0.137701\n",
      "[500]\tvalid_0's l2: 28631.2\tvalid_0's RMSPE: 0.135432\n",
      "[600]\tvalid_0's l2: 28011.8\tvalid_0's RMSPE: 0.133903\n",
      "[700]\tvalid_0's l2: 27796.6\tvalid_0's RMSPE: 0.132696\n",
      "[800]\tvalid_0's l2: 27331.2\tvalid_0's RMSPE: 0.130986\n",
      "[900]\tvalid_0's l2: 27087.9\tvalid_0's RMSPE: 0.130388\n",
      "[1000]\tvalid_0's l2: 26923\tvalid_0's RMSPE: 0.129803\n",
      "[1100]\tvalid_0's l2: 26715\tvalid_0's RMSPE: 0.129414\n",
      "[1200]\tvalid_0's l2: 26604\tvalid_0's RMSPE: 0.12912\n",
      "[1300]\tvalid_0's l2: 26643\tvalid_0's RMSPE: 0.129136\n",
      "[1400]\tvalid_0's l2: 26588.9\tvalid_0's RMSPE: 0.129011\n",
      "[1500]\tvalid_0's l2: 26517\tvalid_0's RMSPE: 0.128825\n",
      "[1600]\tvalid_0's l2: 26517.6\tvalid_0's RMSPE: 0.12886\n",
      "[1700]\tvalid_0's l2: 26497.2\tvalid_0's RMSPE: 0.128734\n",
      "[1800]\tvalid_0's l2: 26525.8\tvalid_0's RMSPE: 0.128878\n",
      "Early stopping, best iteration is:\n",
      "[1698]\tvalid_0's l2: 26479.3\tvalid_0's RMSPE: 0.128673\n",
      "mu: 0.8500000000000001 \n",
      "\n",
      "Training until validation scores don't improve for 150 rounds.\n",
      "[100]\tvalid_0's l2: 86025.9\tvalid_0's RMSPE: 0.155262\n",
      "[200]\tvalid_0's l2: 82152.6\tvalid_0's RMSPE: 0.146295\n",
      "[300]\tvalid_0's l2: 77804.3\tvalid_0's RMSPE: 0.140591\n",
      "[400]\tvalid_0's l2: 74191.5\tvalid_0's RMSPE: 0.136787\n",
      "[500]\tvalid_0's l2: 72227.6\tvalid_0's RMSPE: 0.134333\n",
      "[600]\tvalid_0's l2: 70843.3\tvalid_0's RMSPE: 0.132769\n",
      "[700]\tvalid_0's l2: 69552.8\tvalid_0's RMSPE: 0.131481\n",
      "[800]\tvalid_0's l2: 68855.8\tvalid_0's RMSPE: 0.130613\n",
      "[900]\tvalid_0's l2: 68259.4\tvalid_0's RMSPE: 0.129872\n",
      "[1000]\tvalid_0's l2: 67833\tvalid_0's RMSPE: 0.129299\n",
      "[1100]\tvalid_0's l2: 67433.2\tvalid_0's RMSPE: 0.128828\n",
      "[1200]\tvalid_0's l2: 67235\tvalid_0's RMSPE: 0.128506\n",
      "[1300]\tvalid_0's l2: 67028.6\tvalid_0's RMSPE: 0.128391\n",
      "[1400]\tvalid_0's l2: 66845.3\tvalid_0's RMSPE: 0.128337\n",
      "[1500]\tvalid_0's l2: 66651.7\tvalid_0's RMSPE: 0.128221\n",
      "[1600]\tvalid_0's l2: 66514.4\tvalid_0's RMSPE: 0.128096\n",
      "[1700]\tvalid_0's l2: 66498.9\tvalid_0's RMSPE: 0.128202\n",
      "Early stopping, best iteration is:\n",
      "[1642]\tvalid_0's l2: 66445.5\tvalid_0's RMSPE: 0.128018\n",
      "mu: 0.9 \n",
      "\n",
      "Training until validation scores don't improve for 150 rounds.\n",
      "[100]\tvalid_0's l2: 220474\tvalid_0's RMSPE: 0.158278\n",
      "[200]\tvalid_0's l2: 205015\tvalid_0's RMSPE: 0.147868\n",
      "[300]\tvalid_0's l2: 197492\tvalid_0's RMSPE: 0.1418\n",
      "[400]\tvalid_0's l2: 191571\tvalid_0's RMSPE: 0.138805\n",
      "[500]\tvalid_0's l2: 185277\tvalid_0's RMSPE: 0.136075\n",
      "[600]\tvalid_0's l2: 180864\tvalid_0's RMSPE: 0.1337\n",
      "[700]\tvalid_0's l2: 177952\tvalid_0's RMSPE: 0.13239\n",
      "[800]\tvalid_0's l2: 175131\tvalid_0's RMSPE: 0.131486\n",
      "[900]\tvalid_0's l2: 173459\tvalid_0's RMSPE: 0.130957\n",
      "[1000]\tvalid_0's l2: 172150\tvalid_0's RMSPE: 0.130307\n",
      "[1100]\tvalid_0's l2: 170949\tvalid_0's RMSPE: 0.129851\n",
      "[1200]\tvalid_0's l2: 170489\tvalid_0's RMSPE: 0.129689\n",
      "[1300]\tvalid_0's l2: 169966\tvalid_0's RMSPE: 0.129324\n",
      "[1400]\tvalid_0's l2: 169847\tvalid_0's RMSPE: 0.129728\n",
      "Early stopping, best iteration is:\n",
      "[1305]\tvalid_0's l2: 169928\tvalid_0's RMSPE: 0.129315\n",
      "mu: 0.9500000000000001 \n",
      "\n",
      "Training until validation scores don't improve for 150 rounds.\n",
      "[100]\tvalid_0's l2: 544045\tvalid_0's RMSPE: 0.157278\n",
      "[200]\tvalid_0's l2: 520908\tvalid_0's RMSPE: 0.147391\n",
      "[300]\tvalid_0's l2: 503818\tvalid_0's RMSPE: 0.143032\n",
      "[400]\tvalid_0's l2: 493220\tvalid_0's RMSPE: 0.139845\n",
      "[500]\tvalid_0's l2: 484107\tvalid_0's RMSPE: 0.137398\n",
      "[600]\tvalid_0's l2: 477782\tvalid_0's RMSPE: 0.13545\n",
      "[700]\tvalid_0's l2: 471704\tvalid_0's RMSPE: 0.134287\n",
      "[800]\tvalid_0's l2: 466816\tvalid_0's RMSPE: 0.133245\n",
      "[900]\tvalid_0's l2: 463113\tvalid_0's RMSPE: 0.132617\n",
      "[1000]\tvalid_0's l2: 460604\tvalid_0's RMSPE: 0.132124\n",
      "[1100]\tvalid_0's l2: 458112\tvalid_0's RMSPE: 0.131679\n",
      "[1200]\tvalid_0's l2: 456062\tvalid_0's RMSPE: 0.131468\n",
      "[1300]\tvalid_0's l2: 453846\tvalid_0's RMSPE: 0.131002\n",
      "[1400]\tvalid_0's l2: 451305\tvalid_0's RMSPE: 0.130669\n",
      "[1500]\tvalid_0's l2: 450667\tvalid_0's RMSPE: 0.130682\n",
      "[1600]\tvalid_0's l2: 449064\tvalid_0's RMSPE: 0.130789\n",
      "[1700]\tvalid_0's l2: 448548\tvalid_0's RMSPE: 0.130901\n",
      "Early stopping, best iteration is:\n",
      "[1562]\tvalid_0's l2: 448792\tvalid_0's RMSPE: 0.130577\n",
      "mu: 1.0 \n",
      "\n",
      "Training until validation scores don't improve for 150 rounds.\n",
      "[100]\tvalid_0's l2: 1.30968e+06\tvalid_0's RMSPE: 0.15576\n",
      "[200]\tvalid_0's l2: 1.2572e+06\tvalid_0's RMSPE: 0.147805\n",
      "[300]\tvalid_0's l2: 1.19305e+06\tvalid_0's RMSPE: 0.141509\n",
      "[400]\tvalid_0's l2: 1.13938e+06\tvalid_0's RMSPE: 0.137419\n",
      "[500]\tvalid_0's l2: 1.10204e+06\tvalid_0's RMSPE: 0.134157\n",
      "[600]\tvalid_0's l2: 1.08483e+06\tvalid_0's RMSPE: 0.132627\n",
      "[700]\tvalid_0's l2: 1.06249e+06\tvalid_0's RMSPE: 0.131245\n",
      "[800]\tvalid_0's l2: 1.05186e+06\tvalid_0's RMSPE: 0.13055\n",
      "[900]\tvalid_0's l2: 1.0391e+06\tvalid_0's RMSPE: 0.12989\n",
      "[1000]\tvalid_0's l2: 1.03118e+06\tvalid_0's RMSPE: 0.129346\n",
      "[1100]\tvalid_0's l2: 1.02735e+06\tvalid_0's RMSPE: 0.128831\n",
      "[1200]\tvalid_0's l2: 1.02167e+06\tvalid_0's RMSPE: 0.128442\n",
      "[1300]\tvalid_0's l2: 1.01824e+06\tvalid_0's RMSPE: 0.128309\n",
      "[1400]\tvalid_0's l2: 1.01686e+06\tvalid_0's RMSPE: 0.127971\n",
      "[1500]\tvalid_0's l2: 1.01729e+06\tvalid_0's RMSPE: 0.127892\n",
      "Early stopping, best iteration is:\n",
      "[1431]\tvalid_0's l2: 1.01595e+06\tvalid_0's RMSPE: 0.127942\n"
     ]
    }
   ],
   "source": [
    "boxcox_scores = []\n",
    "mus = np.linspace(0, 1, 21)\n",
    "for mu in mus:\n",
    "    print('mu:', mu, '\\n')\n",
    "    shift = 1\n",
    "    y_train_boxcox = box_cox(y_train, mu, shift)\n",
    "    y_val_boxcox = box_cox(y_val, mu, shift)\n",
    "    \n",
    "    lgbm_boxcox = LGBMRegressor(num_leaves=70, max_depth=-1, learning_rate=0.1, n_estimators=5000, random_state=205)\n",
    "    lgbm_boxcox.fit(X_train, y_train_boxcox,\n",
    "                                        eval_set=[(X_val, y_val_boxcox)],\n",
    "                            eval_metric=lambda y_true, y_pred: ('RMSPE', box_cox_RMSPE(y_true, y_pred, mu, shift), False),\n",
    "                                        early_stopping_rounds=150,\n",
    "                                        verbose=100,\n",
    "    )\n",
    "    boxcox_scores.append(box_cox_RMSPE(y_val_boxcox, lgbm_boxcox.predict(X_val), mu, shift))"
   ]
  },
  {
   "cell_type": "code",
   "execution_count": null,
   "id": "demographic-municipality",
   "metadata": {
    "colab": {
     "base_uri": "https://localhost:8080/",
     "height": 458
    },
    "id": "equal-enterprise",
    "outputId": "3b2232e2-da19-4838-9632-fbc44d6bccd8"
   },
   "outputs": [
    {
     "data": {
      "image/png": "[encoded data removed]",
      "text/plain": [
       "<Figure size 864x504 with 1 Axes>"
      ]
     },
     "metadata": {
      "needs_background": "light"
     },
     "output_type": "display_data"
    }
   ],
   "source": [
    "plt.figure(figsize=(12, 7))\n",
    "plt.plot(mus, boxcox_scores)\n",
    "plt.xlabel('mu')\n",
    "plt.ylabel('rmspe')\n",
    "plt.title('rmspe of lgbm with box-cox')\n",
    "plt.show()"
   ]
  },
  {
   "cell_type": "code",
   "execution_count": null,
   "id": "sought-poster",
   "metadata": {
    "colab": {
     "base_uri": "https://localhost:8080/"
    },
    "id": "addressed-strip",
    "outputId": "d242e89f-c699-4d1f-aa24-312f3a6a1971"
   },
   "outputs": [
    {
     "name": "stdout",
     "output_type": "stream",
     "text": [
      "The minimum rmspe: 0.12409362139537163\n",
      "The mu parameter: 0.30000000000000004\n"
     ]
    }
   ],
   "source": [
    "print('The minimum rmspe:', min(boxcox_scores))\n",
    "print('The mu parameter:', mus[np.argmin(boxcox_scores)])"
   ]
  },
  {
   "cell_type": "markdown",
   "id": "conceptual-costa",
   "metadata": {
    "id": "hEituybHtl6d"
   },
   "source": [
    "The rmspe for origin target is 0.127942. So the transformation is useful"
   ]
  },
  {
   "cell_type": "code",
   "execution_count": null,
   "id": "respiratory-butter",
   "metadata": {
    "id": "uniform-description"
   },
   "outputs": [],
   "source": [
    "mu = 0.3\n",
    "shift = 1\n",
    "y_train_boxcox = box_cox(y_train, mu, shift)\n",
    "y_val_boxcox = box_cox(y_val, mu, shift)"
   ]
  },
  {
   "cell_type": "markdown",
   "id": "handled-detector",
   "metadata": {
    "id": "dominican-pulse"
   },
   "source": [
    "# Linear Regression"
   ]
  },
  {
   "cell_type": "code",
   "execution_count": null,
   "id": "turkish-summer",
   "metadata": {
    "ExecuteTime": {
     "end_time": "2021-11-29T07:48:33.881499Z",
     "start_time": "2021-11-29T07:48:33.783655Z"
    },
    "colab": {
     "base_uri": "https://localhost:8080/",
     "height": 226
    },
    "execution": {
     "iopub.execute_input": "2021-12-11T15:36:38.228312Z",
     "iopub.status.busy": "2021-12-11T15:36:38.227311Z",
     "iopub.status.idle": "2021-12-11T15:36:38.308178Z",
     "shell.execute_reply": "2021-12-11T15:36:38.305184Z",
     "shell.execute_reply.started": "2021-12-11T15:36:38.228312Z"
    },
    "id": "original-health",
    "outputId": "ca2f59ce-7fc1-4fd2-fdff-c1b6a1b6c5f6",
    "scrolled": true,
    "tags": []
   },
   "outputs": [
    {
     "data": {
      "text/html": [
       "<div>\n",
       "<style scoped>\n",
       "    .dataframe tbody tr th:only-of-type {\n",
       "        vertical-align: middle;\n",
       "    }\n",
       "\n",
       "    .dataframe tbody tr th {\n",
       "        vertical-align: top;\n",
       "    }\n",
       "\n",
       "    .dataframe thead th {\n",
       "        text-align: right;\n",
       "    }\n",
       "</style>\n",
       "<table border=\"1\" class=\"dataframe\">\n",
       "  <thead>\n",
       "    <tr style=\"text-align: right;\">\n",
       "      <th></th>\n",
       "      <th>DayOfWeek</th>\n",
       "      <th>Promo</th>\n",
       "      <th>StateHoliday</th>\n",
       "      <th>SchoolHoliday</th>\n",
       "      <th>ordered_day</th>\n",
       "      <th>ordered_week</th>\n",
       "      <th>ordered_month</th>\n",
       "      <th>MonthOfYear</th>\n",
       "      <th>Promo2</th>\n",
       "      <th>StoreType_a</th>\n",
       "      <th>StoreType_b</th>\n",
       "      <th>StoreType_c</th>\n",
       "      <th>StoreType_d</th>\n",
       "      <th>Assortment_a</th>\n",
       "      <th>Assortment_b</th>\n",
       "      <th>Assortment_c</th>\n",
       "      <th>EncodedDistance</th>\n",
       "      <th>EncodedCompetitionMonthsFromStart</th>\n",
       "      <th>EncodedPromo2WeeksFromStart</th>\n",
       "      <th>PromoInterval_</th>\n",
       "      <th>PromoInterval_JanAprJulOct</th>\n",
       "      <th>PromoInterval_FebMayAugNov</th>\n",
       "      <th>PromoInterval_MarJunSeptDec</th>\n",
       "      <th>Encoded_Customers</th>\n",
       "      <th>Encoded_sum_target</th>\n",
       "    </tr>\n",
       "  </thead>\n",
       "  <tbody>\n",
       "    <tr>\n",
       "      <th>0</th>\n",
       "      <td>6</td>\n",
       "      <td>0</td>\n",
       "      <td>0</td>\n",
       "      <td>0</td>\n",
       "      <td>893</td>\n",
       "      <td>127</td>\n",
       "      <td>29</td>\n",
       "      <td>5</td>\n",
       "      <td>0</td>\n",
       "      <td>0.0</td>\n",
       "      <td>0.0</td>\n",
       "      <td>1.0</td>\n",
       "      <td>0.0</td>\n",
       "      <td>1.0</td>\n",
       "      <td>0.0</td>\n",
       "      <td>0.0</td>\n",
       "      <td>-0.321681</td>\n",
       "      <td>0.940159</td>\n",
       "      <td>0.0</td>\n",
       "      <td>1.0</td>\n",
       "      <td>0.0</td>\n",
       "      <td>0.0</td>\n",
       "      <td>0.0</td>\n",
       "      <td>-0.362074</td>\n",
       "      <td>-0.900261</td>\n",
       "    </tr>\n",
       "    <tr>\n",
       "      <th>1</th>\n",
       "      <td>5</td>\n",
       "      <td>0</td>\n",
       "      <td>0</td>\n",
       "      <td>0</td>\n",
       "      <td>892</td>\n",
       "      <td>127</td>\n",
       "      <td>29</td>\n",
       "      <td>5</td>\n",
       "      <td>0</td>\n",
       "      <td>0.0</td>\n",
       "      <td>0.0</td>\n",
       "      <td>1.0</td>\n",
       "      <td>0.0</td>\n",
       "      <td>1.0</td>\n",
       "      <td>0.0</td>\n",
       "      <td>0.0</td>\n",
       "      <td>-0.321681</td>\n",
       "      <td>0.940159</td>\n",
       "      <td>0.0</td>\n",
       "      <td>1.0</td>\n",
       "      <td>0.0</td>\n",
       "      <td>0.0</td>\n",
       "      <td>0.0</td>\n",
       "      <td>-0.362074</td>\n",
       "      <td>-0.900261</td>\n",
       "    </tr>\n",
       "    <tr>\n",
       "      <th>2</th>\n",
       "      <td>4</td>\n",
       "      <td>0</td>\n",
       "      <td>0</td>\n",
       "      <td>0</td>\n",
       "      <td>891</td>\n",
       "      <td>127</td>\n",
       "      <td>29</td>\n",
       "      <td>5</td>\n",
       "      <td>0</td>\n",
       "      <td>0.0</td>\n",
       "      <td>0.0</td>\n",
       "      <td>1.0</td>\n",
       "      <td>0.0</td>\n",
       "      <td>1.0</td>\n",
       "      <td>0.0</td>\n",
       "      <td>0.0</td>\n",
       "      <td>-0.321681</td>\n",
       "      <td>0.940159</td>\n",
       "      <td>0.0</td>\n",
       "      <td>1.0</td>\n",
       "      <td>0.0</td>\n",
       "      <td>0.0</td>\n",
       "      <td>0.0</td>\n",
       "      <td>-0.362074</td>\n",
       "      <td>-0.900261</td>\n",
       "    </tr>\n",
       "    <tr>\n",
       "      <th>3</th>\n",
       "      <td>3</td>\n",
       "      <td>0</td>\n",
       "      <td>0</td>\n",
       "      <td>0</td>\n",
       "      <td>890</td>\n",
       "      <td>127</td>\n",
       "      <td>29</td>\n",
       "      <td>5</td>\n",
       "      <td>0</td>\n",
       "      <td>0.0</td>\n",
       "      <td>0.0</td>\n",
       "      <td>1.0</td>\n",
       "      <td>0.0</td>\n",
       "      <td>1.0</td>\n",
       "      <td>0.0</td>\n",
       "      <td>0.0</td>\n",
       "      <td>-0.321681</td>\n",
       "      <td>0.940159</td>\n",
       "      <td>0.0</td>\n",
       "      <td>1.0</td>\n",
       "      <td>0.0</td>\n",
       "      <td>0.0</td>\n",
       "      <td>0.0</td>\n",
       "      <td>-0.362074</td>\n",
       "      <td>-0.900261</td>\n",
       "    </tr>\n",
       "    <tr>\n",
       "      <th>4</th>\n",
       "      <td>2</td>\n",
       "      <td>0</td>\n",
       "      <td>0</td>\n",
       "      <td>0</td>\n",
       "      <td>889</td>\n",
       "      <td>127</td>\n",
       "      <td>29</td>\n",
       "      <td>5</td>\n",
       "      <td>0</td>\n",
       "      <td>0.0</td>\n",
       "      <td>0.0</td>\n",
       "      <td>1.0</td>\n",
       "      <td>0.0</td>\n",
       "      <td>1.0</td>\n",
       "      <td>0.0</td>\n",
       "      <td>0.0</td>\n",
       "      <td>-0.321681</td>\n",
       "      <td>0.940159</td>\n",
       "      <td>0.0</td>\n",
       "      <td>1.0</td>\n",
       "      <td>0.0</td>\n",
       "      <td>0.0</td>\n",
       "      <td>0.0</td>\n",
       "      <td>-0.362074</td>\n",
       "      <td>-0.900261</td>\n",
       "    </tr>\n",
       "  </tbody>\n",
       "</table>\n",
       "</div>"
      ],
      "text/plain": [
       "   DayOfWeek  Promo  ...  Encoded_Customers  Encoded_sum_target\n",
       "0          6      0  ...          -0.362074           -0.900261\n",
       "1          5      0  ...          -0.362074           -0.900261\n",
       "2          4      0  ...          -0.362074           -0.900261\n",
       "3          3      0  ...          -0.362074           -0.900261\n",
       "4          2      0  ...          -0.362074           -0.900261\n",
       "\n",
       "[5 rows x 25 columns]"
      ]
     },
     "execution_count": 15,
     "metadata": {},
     "output_type": "execute_result"
    }
   ],
   "source": [
    "X_train.head()"
   ]
  },
  {
   "cell_type": "code",
   "execution_count": null,
   "id": "satellite-grocery",
   "metadata": {
    "ExecuteTime": {
     "end_time": "2021-12-04T17:14:26.231669Z",
     "start_time": "2021-12-04T17:14:24.374637Z"
    },
    "execution": {
     "iopub.execute_input": "2021-12-11T15:36:52.015330Z",
     "iopub.status.busy": "2021-12-11T15:36:52.014332Z",
     "iopub.status.idle": "2021-12-11T15:36:53.885620Z",
     "shell.execute_reply": "2021-12-11T15:36:53.885620Z",
     "shell.execute_reply.started": "2021-12-11T15:36:52.015330Z"
    },
    "id": "honey-cleaning"
   },
   "outputs": [],
   "source": [
    "cols_to_normalize = ['DayOfWeek', 'ordered_day', 'ordered_week', 'ordered_month']\n",
    "scaler = MinMaxScaler()\n",
    "\n",
    "X_train_norm = X_train.copy()\n",
    "X_train_norm.loc[:, cols_to_normalize] = scaler.fit_transform(X_train_norm[cols_to_normalize])\n",
    "\n",
    "X_val_norm = X_val.copy()\n",
    "X_val_norm.loc[:, cols_to_normalize] = scaler.transform(X_val_norm[cols_to_normalize])"
   ]
  },
  {
   "cell_type": "code",
   "execution_count": null,
   "id": "popular-publicity",
   "metadata": {
    "ExecuteTime": {
     "end_time": "2021-12-04T17:14:26.358295Z",
     "start_time": "2021-12-04T17:14:26.231669Z"
    },
    "colab": {
     "base_uri": "https://localhost:8080/",
     "height": 226
    },
    "execution": {
     "iopub.execute_input": "2021-12-11T15:36:58.044532Z",
     "iopub.status.busy": "2021-12-11T15:36:58.043537Z",
     "iopub.status.idle": "2021-12-11T15:36:58.358669Z",
     "shell.execute_reply": "2021-12-11T15:36:58.352679Z",
     "shell.execute_reply.started": "2021-12-11T15:36:58.044532Z"
    },
    "id": "brazilian-relative",
    "outputId": "70e85282-5ecf-4243-af0b-f3291001b55e",
    "scrolled": true
   },
   "outputs": [
    {
     "data": {
      "text/html": [
       "<div>\n",
       "<style scoped>\n",
       "    .dataframe tbody tr th:only-of-type {\n",
       "        vertical-align: middle;\n",
       "    }\n",
       "\n",
       "    .dataframe tbody tr th {\n",
       "        vertical-align: top;\n",
       "    }\n",
       "\n",
       "    .dataframe thead th {\n",
       "        text-align: right;\n",
       "    }\n",
       "</style>\n",
       "<table border=\"1\" class=\"dataframe\">\n",
       "  <thead>\n",
       "    <tr style=\"text-align: right;\">\n",
       "      <th></th>\n",
       "      <th>DayOfWeek</th>\n",
       "      <th>Promo</th>\n",
       "      <th>StateHoliday</th>\n",
       "      <th>SchoolHoliday</th>\n",
       "      <th>ordered_day</th>\n",
       "      <th>ordered_week</th>\n",
       "      <th>ordered_month</th>\n",
       "      <th>MonthOfYear</th>\n",
       "      <th>Promo2</th>\n",
       "      <th>StoreType_a</th>\n",
       "      <th>StoreType_b</th>\n",
       "      <th>StoreType_c</th>\n",
       "      <th>StoreType_d</th>\n",
       "      <th>Assortment_a</th>\n",
       "      <th>Assortment_b</th>\n",
       "      <th>Assortment_c</th>\n",
       "      <th>EncodedDistance</th>\n",
       "      <th>EncodedCompetitionMonthsFromStart</th>\n",
       "      <th>EncodedPromo2WeeksFromStart</th>\n",
       "      <th>PromoInterval_</th>\n",
       "      <th>PromoInterval_JanAprJulOct</th>\n",
       "      <th>PromoInterval_FebMayAugNov</th>\n",
       "      <th>PromoInterval_MarJunSeptDec</th>\n",
       "      <th>Encoded_Customers</th>\n",
       "      <th>Encoded_sum_target</th>\n",
       "    </tr>\n",
       "  </thead>\n",
       "  <tbody>\n",
       "    <tr>\n",
       "      <th>0</th>\n",
       "      <td>0.833333</td>\n",
       "      <td>0</td>\n",
       "      <td>0</td>\n",
       "      <td>0</td>\n",
       "      <td>1.000000</td>\n",
       "      <td>1.0</td>\n",
       "      <td>1.0</td>\n",
       "      <td>5</td>\n",
       "      <td>0</td>\n",
       "      <td>0.0</td>\n",
       "      <td>0.0</td>\n",
       "      <td>1.0</td>\n",
       "      <td>0.0</td>\n",
       "      <td>1.0</td>\n",
       "      <td>0.0</td>\n",
       "      <td>0.0</td>\n",
       "      <td>-0.321681</td>\n",
       "      <td>0.940159</td>\n",
       "      <td>0.0</td>\n",
       "      <td>1.0</td>\n",
       "      <td>0.0</td>\n",
       "      <td>0.0</td>\n",
       "      <td>0.0</td>\n",
       "      <td>-0.362074</td>\n",
       "      <td>-0.900261</td>\n",
       "    </tr>\n",
       "    <tr>\n",
       "      <th>1</th>\n",
       "      <td>0.666667</td>\n",
       "      <td>0</td>\n",
       "      <td>0</td>\n",
       "      <td>0</td>\n",
       "      <td>0.998880</td>\n",
       "      <td>1.0</td>\n",
       "      <td>1.0</td>\n",
       "      <td>5</td>\n",
       "      <td>0</td>\n",
       "      <td>0.0</td>\n",
       "      <td>0.0</td>\n",
       "      <td>1.0</td>\n",
       "      <td>0.0</td>\n",
       "      <td>1.0</td>\n",
       "      <td>0.0</td>\n",
       "      <td>0.0</td>\n",
       "      <td>-0.321681</td>\n",
       "      <td>0.940159</td>\n",
       "      <td>0.0</td>\n",
       "      <td>1.0</td>\n",
       "      <td>0.0</td>\n",
       "      <td>0.0</td>\n",
       "      <td>0.0</td>\n",
       "      <td>-0.362074</td>\n",
       "      <td>-0.900261</td>\n",
       "    </tr>\n",
       "    <tr>\n",
       "      <th>2</th>\n",
       "      <td>0.500000</td>\n",
       "      <td>0</td>\n",
       "      <td>0</td>\n",
       "      <td>0</td>\n",
       "      <td>0.997760</td>\n",
       "      <td>1.0</td>\n",
       "      <td>1.0</td>\n",
       "      <td>5</td>\n",
       "      <td>0</td>\n",
       "      <td>0.0</td>\n",
       "      <td>0.0</td>\n",
       "      <td>1.0</td>\n",
       "      <td>0.0</td>\n",
       "      <td>1.0</td>\n",
       "      <td>0.0</td>\n",
       "      <td>0.0</td>\n",
       "      <td>-0.321681</td>\n",
       "      <td>0.940159</td>\n",
       "      <td>0.0</td>\n",
       "      <td>1.0</td>\n",
       "      <td>0.0</td>\n",
       "      <td>0.0</td>\n",
       "      <td>0.0</td>\n",
       "      <td>-0.362074</td>\n",
       "      <td>-0.900261</td>\n",
       "    </tr>\n",
       "    <tr>\n",
       "      <th>3</th>\n",
       "      <td>0.333333</td>\n",
       "      <td>0</td>\n",
       "      <td>0</td>\n",
       "      <td>0</td>\n",
       "      <td>0.996641</td>\n",
       "      <td>1.0</td>\n",
       "      <td>1.0</td>\n",
       "      <td>5</td>\n",
       "      <td>0</td>\n",
       "      <td>0.0</td>\n",
       "      <td>0.0</td>\n",
       "      <td>1.0</td>\n",
       "      <td>0.0</td>\n",
       "      <td>1.0</td>\n",
       "      <td>0.0</td>\n",
       "      <td>0.0</td>\n",
       "      <td>-0.321681</td>\n",
       "      <td>0.940159</td>\n",
       "      <td>0.0</td>\n",
       "      <td>1.0</td>\n",
       "      <td>0.0</td>\n",
       "      <td>0.0</td>\n",
       "      <td>0.0</td>\n",
       "      <td>-0.362074</td>\n",
       "      <td>-0.900261</td>\n",
       "    </tr>\n",
       "    <tr>\n",
       "      <th>4</th>\n",
       "      <td>0.166667</td>\n",
       "      <td>0</td>\n",
       "      <td>0</td>\n",
       "      <td>0</td>\n",
       "      <td>0.995521</td>\n",
       "      <td>1.0</td>\n",
       "      <td>1.0</td>\n",
       "      <td>5</td>\n",
       "      <td>0</td>\n",
       "      <td>0.0</td>\n",
       "      <td>0.0</td>\n",
       "      <td>1.0</td>\n",
       "      <td>0.0</td>\n",
       "      <td>1.0</td>\n",
       "      <td>0.0</td>\n",
       "      <td>0.0</td>\n",
       "      <td>-0.321681</td>\n",
       "      <td>0.940159</td>\n",
       "      <td>0.0</td>\n",
       "      <td>1.0</td>\n",
       "      <td>0.0</td>\n",
       "      <td>0.0</td>\n",
       "      <td>0.0</td>\n",
       "      <td>-0.362074</td>\n",
       "      <td>-0.900261</td>\n",
       "    </tr>\n",
       "  </tbody>\n",
       "</table>\n",
       "</div>"
      ],
      "text/plain": [
       "   DayOfWeek  Promo  ...  Encoded_Customers  Encoded_sum_target\n",
       "0   0.833333      0  ...          -0.362074           -0.900261\n",
       "1   0.666667      0  ...          -0.362074           -0.900261\n",
       "2   0.500000      0  ...          -0.362074           -0.900261\n",
       "3   0.333333      0  ...          -0.362074           -0.900261\n",
       "4   0.166667      0  ...          -0.362074           -0.900261\n",
       "\n",
       "[5 rows x 25 columns]"
      ]
     },
     "execution_count": 17,
     "metadata": {},
     "output_type": "execute_result"
    }
   ],
   "source": [
    "X_train_norm.head()"
   ]
  },
  {
   "cell_type": "code",
   "execution_count": null,
   "id": "imperial-bankruptcy",
   "metadata": {
    "ExecuteTime": {
     "end_time": "2021-11-29T07:51:16.315956Z",
     "start_time": "2021-11-29T07:51:16.007044Z"
    },
    "execution": {
     "iopub.execute_input": "2021-12-11T15:37:13.148508Z",
     "iopub.status.busy": "2021-12-11T15:37:13.147515Z",
     "iopub.status.idle": "2021-12-11T15:37:13.899103Z",
     "shell.execute_reply": "2021-12-11T15:37:13.896110Z",
     "shell.execute_reply.started": "2021-12-11T15:37:13.148508Z"
    },
    "id": "weird-launch"
   },
   "outputs": [],
   "source": [
    "X_train_norm_nonzero = X_train_norm[y_train != 0]\n",
    "y_train_norm_nonzero = y_train[y_train != 0]\n",
    "\n",
    "X_val_norm_nonzero = X_val_norm[y_val != 0]\n",
    "y_val_norm_nonzero = y_val[y_val != 0]"
   ]
  },
  {
   "cell_type": "code",
   "execution_count": null,
   "id": "younger-retreat",
   "metadata": {
    "id": "quarterly-somalia"
   },
   "outputs": [],
   "source": [
    "lin_reg = ElasticNet()\n",
    "lin_reg.fit(X_train_norm_nonzero, y_train_norm_nonzero, sample_weight=1/y_train_norm_nonzero**2)\n",
    "lin_reg_predicted = lin_reg.predict(X_val_norm_nonzero)"
   ]
  },
  {
   "cell_type": "code",
   "execution_count": null,
   "id": "divine-newsletter",
   "metadata": {
    "colab": {
     "base_uri": "https://localhost:8080/"
    },
    "id": "miniature-remedy",
    "outputId": "babc5cf5-8046-46a6-ace1-47c4110be660"
   },
   "outputs": [
    {
     "data": {
      "text/plain": [
       "0.2668527236908827"
      ]
     },
     "execution_count": 20,
     "metadata": {},
     "output_type": "execute_result"
    }
   ],
   "source": [
    "RMSPE(y_val_norm_nonzero, lin_reg_predicted)"
   ]
  },
  {
   "cell_type": "markdown",
   "id": "parental-appreciation",
   "metadata": {
    "id": "southeast-tracy"
   },
   "source": [
    "# kNN"
   ]
  },
  {
   "cell_type": "code",
   "execution_count": 22,
   "id": "accessible-median",
   "metadata": {
    "ExecuteTime": {
     "end_time": "2021-12-04T17:14:56.171835Z",
     "start_time": "2021-12-04T17:14:56.151866Z"
    },
    "colab": {
     "base_uri": "https://localhost:8080/"
    },
    "id": "covered-steering",
    "outputId": "f9c73094-1e47-4924-fd95-394081e7c675",
    "tags": []
   },
   "outputs": [
    {
     "name": "stdout",
     "output_type": "stream",
     "text": [
      "n_neighbors: 2 \n",
      "\n",
      "n_neighbors: 4 \n",
      "\n",
      "n_neighbors: 6 \n",
      "\n",
      "n_neighbors: 8 \n",
      "\n",
      "n_neighbors: 10 \n",
      "\n",
      "n_neighbors: 12 \n",
      "\n",
      "n_neighbors: 14 \n",
      "\n",
      "n_neighbors: 16 \n",
      "\n"
     ]
    }
   ],
   "source": [
    "knn_scores = []\n",
    "knn_n_neighbors = range(2, 17, 2)\n",
    "for n_neighbors in knn_n_neighbors:\n",
    "    print('n_neighbors:', n_neighbors, '\\n')\n",
    "    knn = KNeighborsRegressor(n_neighbors=n_neighbors)\n",
    "    knn.fit(X_train_norm, y_train)\n",
    "    knn_predicted = knn.predict(X_val_norm)\n",
    "    knn_scores.append(RMSPE(y_val, knn_predicted))"
   ]
  },
  {
   "cell_type": "code",
   "execution_count": 23,
   "id": "another-bearing",
   "metadata": {
    "colab": {
     "base_uri": "https://localhost:8080/",
     "height": 459
    },
    "id": "generous-making",
    "outputId": "d88e1f92-1e0c-4689-e40f-1b3926875143"
   },
   "outputs": [
    {
     "data": {
      "image/png": "[encoded data removed]",
      "text/plain": [
       "<Figure size 864x504 with 1 Axes>"
      ]
     },
     "metadata": {
      "needs_background": "light"
     },
     "output_type": "display_data"
    }
   ],
   "source": [
    "plt.figure(figsize=(12, 7))\n",
    "plt.plot(knn_n_neighbors, knn_scores)\n",
    "plt.xlabel('n_neighbors')\n",
    "plt.ylabel('rmspe')\n",
    "plt.title('rmspe of knn model')\n",
    "plt.xticks(ticks=knn_n_neighbors, labels=knn_n_neighbors)\n",
    "plt.show()"
   ]
  },
  {
   "cell_type": "markdown",
   "id": "linear-thursday",
   "metadata": {
    "id": "married-injection"
   },
   "source": [
    "# Submitting"
   ]
  },
  {
   "cell_type": "code",
   "execution_count": 20,
   "id": "dependent-reasoning",
   "metadata": {
    "execution": {
     "iopub.execute_input": "2021-12-14T13:48:51.427538Z",
     "iopub.status.busy": "2021-12-14T13:48:51.427538Z",
     "iopub.status.idle": "2021-12-14T13:48:51.567884Z",
     "shell.execute_reply": "2021-12-14T13:48:51.567884Z",
     "shell.execute_reply.started": "2021-12-14T13:48:51.427538Z"
    },
    "id": "dramatic-handle",
    "tags": []
   },
   "outputs": [],
   "source": [
    "X = pd.concat([X_train, X_val], ignore_index=True)\n",
    "y = pd.concat([y_train, y_val], ignore_index=True)"
   ]
  },
  {
   "cell_type": "code",
   "execution_count": 21,
   "id": "consistent-companion",
   "metadata": {
    "execution": {
     "iopub.execute_input": "2021-12-14T13:48:52.266770Z",
     "iopub.status.busy": "2021-12-14T13:48:52.265770Z",
     "iopub.status.idle": "2021-12-14T13:48:52.290728Z",
     "shell.execute_reply": "2021-12-14T13:48:52.287730Z",
     "shell.execute_reply.started": "2021-12-14T13:48:52.266770Z"
    },
    "tags": []
   },
   "outputs": [],
   "source": [
    "mu_best = 0.3"
   ]
  },
  {
   "cell_type": "markdown",
   "id": "polyphonic-university",
   "metadata": {
    "id": "spanish-needle"
   },
   "source": [
    "The number of estimators equals 1447 because it was the best iteration for the best model when tuning the box-cox parameters."
   ]
  },
  {
   "cell_type": "code",
   "execution_count": 22,
   "id": "palestinian-opposition",
   "metadata": {
    "colab": {
     "base_uri": "https://localhost:8080/"
    },
    "execution": {
     "iopub.execute_input": "2021-12-14T13:48:53.132178Z",
     "iopub.status.busy": "2021-12-14T13:48:53.132178Z",
     "iopub.status.idle": "2021-12-14T13:50:15.089880Z",
     "shell.execute_reply": "2021-12-14T13:50:15.086827Z",
     "shell.execute_reply.started": "2021-12-14T13:48:53.132178Z"
    },
    "id": "radical-concern",
    "outputId": "526942b8-4d6b-4071-e80a-5da87a940acd",
    "tags": []
   },
   "outputs": [
    {
     "data": {
      "text/plain": [
       "LGBMRegressor(n_estimators=1447, num_leaves=70, random_state=205)"
      ]
     },
     "execution_count": 22,
     "metadata": {},
     "output_type": "execute_result"
    }
   ],
   "source": [
    "lgbm_final = LGBMRegressor(num_leaves=70, max_depth=-1, learning_rate=0.1, n_estimators=1447, random_state=205)\n",
    "lgbm_final.fit(X, box_cox(y, mu=mu_best, shift=1.0),)"
   ]
  },
  {
   "cell_type": "code",
   "execution_count": 23,
   "id": "consistent-furniture",
   "metadata": {
    "execution": {
     "iopub.execute_input": "2021-12-14T13:50:15.091922Z",
     "iopub.status.busy": "2021-12-14T13:50:15.091922Z",
     "iopub.status.idle": "2021-12-14T13:54:12.290039Z",
     "shell.execute_reply": "2021-12-14T13:54:12.290039Z",
     "shell.execute_reply.started": "2021-12-14T13:50:15.091922Z"
    },
    "id": "biul4NG4-uSa",
    "tags": []
   },
   "outputs": [],
   "source": [
    "train_prediction = inv_box_cox(lgbm_final.predict(X_train), mu=mu_best, shift=1.0)\n",
    "val_prediction = inv_box_cox(lgbm_final.predict(X_val), mu=mu_best, shift=1.0)\n",
    "test_prediction = inv_box_cox(lgbm_final.predict(X_test), mu=mu_best, shift=1.0)"
   ]
  },
  {
   "cell_type": "code",
   "execution_count": 24,
   "id": "intelligent-trinity",
   "metadata": {
    "colab": {
     "base_uri": "https://localhost:8080/"
    },
    "execution": {
     "iopub.execute_input": "2021-12-14T13:54:12.298038Z",
     "iopub.status.busy": "2021-12-14T13:54:12.298038Z",
     "iopub.status.idle": "2021-12-14T13:54:12.593986Z",
     "shell.execute_reply": "2021-12-14T13:54:12.593986Z",
     "shell.execute_reply.started": "2021-12-14T13:54:12.298038Z"
    },
    "id": "TGKTBjzB-kl8",
    "outputId": "71fedca2-83e6-4035-89fc-7df24e014224",
    "tags": []
   },
   "outputs": [
    {
     "data": {
      "text/plain": [
       "0.10086177760789446"
      ]
     },
     "execution_count": 24,
     "metadata": {},
     "output_type": "execute_result"
    }
   ],
   "source": [
    "RMSPE(y_train, train_prediction)"
   ]
  },
  {
   "cell_type": "code",
   "execution_count": 25,
   "id": "tender-participation",
   "metadata": {
    "colab": {
     "base_uri": "https://localhost:8080/"
    },
    "execution": {
     "iopub.execute_input": "2021-12-14T13:54:12.609984Z",
     "iopub.status.busy": "2021-12-14T13:54:12.601986Z",
     "iopub.status.idle": "2021-12-14T13:54:12.641984Z",
     "shell.execute_reply": "2021-12-14T13:54:12.641984Z",
     "shell.execute_reply.started": "2021-12-14T13:54:12.609984Z"
    },
    "id": "4Utgb03q-kgC",
    "outputId": "7da80222-d37f-4c51-9938-eaaf45be2dc4",
    "tags": []
   },
   "outputs": [
    {
     "data": {
      "text/plain": [
       "0.0782054307208756"
      ]
     },
     "execution_count": 25,
     "metadata": {},
     "output_type": "execute_result"
    }
   ],
   "source": [
    "RMSPE(y_val, val_prediction)"
   ]
  },
  {
   "cell_type": "markdown",
   "id": "serial-motivation",
   "metadata": {
    "id": "C_3U1dlz__w9"
   },
   "source": [
    "saving the submission"
   ]
  },
  {
   "cell_type": "code",
   "execution_count": 18,
   "id": "brilliant-learning",
   "metadata": {
    "execution": {
     "iopub.execute_input": "2021-12-14T13:48:43.390813Z",
     "iopub.status.busy": "2021-12-14T13:48:43.390813Z",
     "iopub.status.idle": "2021-12-14T13:48:44.546301Z",
     "shell.execute_reply": "2021-12-14T13:48:44.546301Z",
     "shell.execute_reply.started": "2021-12-14T13:48:43.390813Z"
    },
    "tags": []
   },
   "outputs": [],
   "source": [
    "train_predict_df = X_train.copy()\n",
    "train_predict_df.loc[:, 'Store'] = train_stores\n",
    "train_predict_df.loc[:, 'target'] = y_train\n",
    "\n",
    "val_predict_df = X_val.copy()\n",
    "val_predict_df.loc[:, 'Store'] = val_stores\n",
    "val_predict_df.loc[:, 'target'] = y_val\n",
    "\n",
    "test_predict_df = X_test.copy()\n",
    "test_predict_df.loc[:, 'Store'] = test_stores"
   ]
  },
  {
   "cell_type": "code",
   "execution_count": 26,
   "id": "fantastic-serve",
   "metadata": {
    "execution": {
     "iopub.execute_input": "2021-12-14T13:54:12.649978Z",
     "iopub.status.busy": "2021-12-14T13:54:12.649978Z",
     "iopub.status.idle": "2021-12-14T13:54:15.176167Z",
     "shell.execute_reply": "2021-12-14T13:54:15.176167Z",
     "shell.execute_reply.started": "2021-12-14T13:54:12.649978Z"
    },
    "id": "least-extraction",
    "tags": []
   },
   "outputs": [],
   "source": [
    "test['ordered_day'] = test.Date.apply(lambda date: (datetime.datetime.strptime(date, '%Y-%m-%d') - datetime.datetime(2013, 1, 1)).days)"
   ]
  },
  {
   "cell_type": "code",
   "execution_count": 27,
   "id": "acknowledged-daniel",
   "metadata": {
    "execution": {
     "iopub.execute_input": "2021-12-14T13:54:15.186747Z",
     "iopub.status.busy": "2021-12-14T13:54:15.176167Z",
     "iopub.status.idle": "2021-12-14T13:54:15.268292Z",
     "shell.execute_reply": "2021-12-14T13:54:15.268292Z",
     "shell.execute_reply.started": "2021-12-14T13:54:15.184286Z"
    },
    "id": "premium-desire",
    "tags": []
   },
   "outputs": [],
   "source": [
    "test_predict_df['prediction'] = test_prediction\n",
    "test_predict_df['Store'] = test_stores"
   ]
  },
  {
   "cell_type": "code",
   "execution_count": 28,
   "id": "expected-authentication",
   "metadata": {
    "execution": {
     "iopub.execute_input": "2021-12-14T13:54:15.276290Z",
     "iopub.status.busy": "2021-12-14T13:54:15.276290Z",
     "iopub.status.idle": "2021-12-14T13:54:15.605516Z",
     "shell.execute_reply": "2021-12-14T13:54:15.605516Z",
     "shell.execute_reply.started": "2021-12-14T13:54:15.276290Z"
    },
    "id": "persistent-permission",
    "tags": []
   },
   "outputs": [],
   "source": [
    "prediction = test[['Id', 'Store', 'ordered_day']].merge(test_predict_df[['Store', 'ordered_day', 'prediction']])[['Id', 'prediction']]"
   ]
  },
  {
   "cell_type": "code",
   "execution_count": 29,
   "id": "different-criminal",
   "metadata": {
    "execution": {
     "iopub.execute_input": "2021-12-14T13:54:15.613516Z",
     "iopub.status.busy": "2021-12-14T13:54:15.605516Z",
     "iopub.status.idle": "2021-12-14T13:54:16.353366Z",
     "shell.execute_reply": "2021-12-14T13:54:16.350947Z",
     "shell.execute_reply.started": "2021-12-14T13:54:15.613516Z"
    },
    "id": "automated-medium",
    "tags": []
   },
   "outputs": [],
   "source": [
    "submission = pd.read_csv(data_folder + 'sample_submission.csv')\n",
    "submission = submission[['Id']].merge(prediction, on='Id', how='left').fillna(0).rename(columns={'prediction': 'Sales'})\n",
    "submission.to_csv(data_folder + 'submission_lgbm.csv', index=False)"
   ]
  },
  {
   "cell_type": "markdown",
   "id": "parliamentary-reasoning",
   "metadata": {
    "id": "heavy-reporter"
   },
   "source": [
    "rmspe = 0.16765"
   ]
  },
  {
   "cell_type": "code",
   "execution_count": 30,
   "id": "accredited-record",
   "metadata": {
    "execution": {
     "iopub.execute_input": "2021-12-14T13:54:16.361360Z",
     "iopub.status.busy": "2021-12-14T13:54:16.361360Z",
     "iopub.status.idle": "2021-12-14T13:54:16.657309Z",
     "shell.execute_reply": "2021-12-14T13:54:16.657309Z",
     "shell.execute_reply.started": "2021-12-14T13:54:16.361360Z"
    },
    "id": "nddlU9rx9gja",
    "tags": []
   },
   "outputs": [],
   "source": [
    "train_predict_df.loc[:, 'full_prediction'] = train_prediction\n",
    "val_predict_df.loc[:, 'full_prediction'] = val_prediction\n",
    "test_predict_df.loc[:, 'full_prediction'] = test_prediction"
   ]
  },
  {
   "cell_type": "code",
   "execution_count": null,
   "id": "competent-musician",
   "metadata": {},
   "outputs": [],
   "source": []
  },
  {
   "cell_type": "code",
   "execution_count": 14,
   "id": "changing-depression",
   "metadata": {
    "execution": {
     "iopub.execute_input": "2021-12-14T13:42:51.034113Z",
     "iopub.status.busy": "2021-12-14T13:42:51.034113Z",
     "iopub.status.idle": "2021-12-14T13:44:12.515982Z",
     "shell.execute_reply": "2021-12-14T13:44:12.513536Z",
     "shell.execute_reply.started": "2021-12-14T13:42:51.034113Z"
    },
    "tags": []
   },
   "outputs": [
    {
     "data": {
      "text/plain": [
       "LGBMRegressor(n_estimators=1447, num_leaves=70, random_state=205)"
      ]
     },
     "execution_count": 14,
     "metadata": {},
     "output_type": "execute_result"
    }
   ],
   "source": [
    "lgbm_best = LGBMRegressor(num_leaves=70, max_depth=-1, learning_rate=0.1, n_estimators=1447, random_state=205)\n",
    "lgbm_best.fit(X_train, box_cox(y_train, mu=mu_best, shift=1.0),)"
   ]
  },
  {
   "cell_type": "code",
   "execution_count": 16,
   "id": "novel-essence",
   "metadata": {
    "execution": {
     "iopub.execute_input": "2021-12-14T13:44:32.513665Z",
     "iopub.status.busy": "2021-12-14T13:44:32.513665Z",
     "iopub.status.idle": "2021-12-14T13:48:38.074831Z",
     "shell.execute_reply": "2021-12-14T13:48:38.072785Z",
     "shell.execute_reply.started": "2021-12-14T13:44:32.513665Z"
    },
    "tags": []
   },
   "outputs": [],
   "source": [
    "train_prediction = inv_box_cox(lgbm_best.predict(X_train), mu=mu_best, shift=1.0)\n",
    "val_prediction = inv_box_cox(lgbm_best.predict(X_val), mu=mu_best, shift=1.0)\n",
    "test_prediction = inv_box_cox(lgbm_best.predict(X_test), mu=mu_best, shift=1.0)"
   ]
  },
  {
   "cell_type": "code",
   "execution_count": 19,
   "id": "dental-humanity",
   "metadata": {
    "execution": {
     "iopub.execute_input": "2021-12-14T13:48:47.047089Z",
     "iopub.status.busy": "2021-12-14T13:48:47.047089Z",
     "iopub.status.idle": "2021-12-14T13:48:47.493914Z",
     "shell.execute_reply": "2021-12-14T13:48:47.493914Z",
     "shell.execute_reply.started": "2021-12-14T13:48:47.047089Z"
    },
    "tags": []
   },
   "outputs": [],
   "source": [
    "train_predict_df.loc[:, 'part_prediction'] = train_prediction\n",
    "val_predict_df.loc[:, 'part_prediction'] = val_prediction\n",
    "test_predict_df.loc[:, 'part_prediction'] = test_prediction"
   ]
  },
  {
   "cell_type": "code",
   "execution_count": null,
   "id": "private-myanmar",
   "metadata": {},
   "outputs": [],
   "source": []
  },
  {
   "cell_type": "code",
   "execution_count": 31,
   "id": "stupid-albuquerque",
   "metadata": {
    "execution": {
     "iopub.execute_input": "2021-12-14T13:54:16.665308Z",
     "iopub.status.busy": "2021-12-14T13:54:16.665308Z",
     "iopub.status.idle": "2021-12-14T13:54:31.442988Z",
     "shell.execute_reply": "2021-12-14T13:54:31.442988Z",
     "shell.execute_reply.started": "2021-12-14T13:54:16.665308Z"
    },
    "id": "Cgtt5ySg9iks",
    "tags": []
   },
   "outputs": [],
   "source": [
    "train_predict_df[['Store', 'ordered_day', 'ordered_week', 'ordered_month', 'target', 'full_prediction', 'part_prediction']]\\\n",
    "                                                                                    .to_csv(data_folder + 'train_prediction.csv', index=False)\n",
    "val_predict_df[['Store', 'ordered_day', 'ordered_week', 'ordered_month', 'target', 'full_prediction', 'part_prediction']]\\\n",
    "                                                                                    .to_csv(data_folder + 'val_prediction.csv', index=False)\n",
    "test_predict_df[['Store', 'ordered_day', 'ordered_week', 'ordered_month', 'full_prediction', 'part_prediction']]\\\n",
    "                                                                                    .to_csv(data_folder + 'test_prediction.csv', index=False)"
   ]
  },
  {
   "cell_type": "code",
   "execution_count": null,
   "id": "handmade-amber",
   "metadata": {},
   "outputs": [],
   "source": []
  }
 ],
 "metadata": {
  "colab": {
   "collapsed_sections": [],
   "name": "Experiments.ipynb",
   "provenance": []
  },
  "kernelspec": {
   "display_name": "Python 3",
   "language": "python",
   "name": "python3"
  },
  "language_info": {
   "codemirror_mode": {
    "name": "ipython",
    "version": 3
   },
   "file_extension": ".py",
   "mimetype": "text/x-python",
   "name": "python",
   "nbconvert_exporter": "python",
   "pygments_lexer": "ipython3",
   "version": "3.9.0"
  },
  "toc": {
   "base_numbering": 1,
   "nav_menu": {
    "height": "120px",
    "width": "238px"
   },
   "number_sections": true,
   "sideBar": true,
   "skip_h1_title": false,
   "title_cell": "Table of Contents",
   "title_sidebar": "Contents",
   "toc_cell": false,
   "toc_position": {
    "height": "calc(100% - 180px)",
    "left": "10px",
    "top": "150px",
    "width": "273.188px"
   },
   "toc_section_display": true,
   "toc_window_display": false
  }
 },
 "nbformat": 4,
 "nbformat_minor": 5
}
