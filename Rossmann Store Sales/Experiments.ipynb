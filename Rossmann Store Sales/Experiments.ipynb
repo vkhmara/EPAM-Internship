{
 "cells": [
  {
   "cell_type": "code",
   "execution_count": 1,
   "id": "isolated-topic",
   "metadata": {
    "ExecuteTime": {
     "end_time": "2021-12-05T06:47:56.711615Z",
     "start_time": "2021-12-05T06:47:47.837921Z"
    },
    "execution": {
     "iopub.execute_input": "2021-12-13T06:14:52.625975Z",
     "iopub.status.busy": "2021-12-13T06:14:52.624980Z",
     "iopub.status.idle": "2021-12-13T06:14:57.660720Z",
     "shell.execute_reply": "2021-12-13T06:14:57.657957Z",
     "shell.execute_reply.started": "2021-12-13T06:14:52.625975Z"
    },
    "id": "necessary-oracle",
    "tags": []
   },
   "outputs": [],
   "source": [
    "import matplotlib.pyplot as plt\n",
    "import numpy as np\n",
    "import pandas as pd\n",
    "import seaborn as sns\n",
    "from functools import partial\n",
    "from itertools import product\n",
    "from lightgbm import LGBMRegressor\n",
    "from sklearn.linear_model import ElasticNet, SGDClassifier\n",
    "from sklearn.preprocessing import MinMaxScaler\n",
    "from sklearn.neighbors import KNeighborsRegressor\n",
    "import re\n",
    "import time\n",
    "\n",
    "from my_modules.plot_and_stat_funcs import *\n",
    "from my_modules.transformations import *"
   ]
  },
  {
   "cell_type": "code",
   "execution_count": 2,
   "id": "weekly-stewart",
   "metadata": {
    "ExecuteTime": {
     "end_time": "2021-12-05T06:48:02.884609Z",
     "start_time": "2021-12-05T06:47:56.831430Z"
    },
    "execution": {
     "iopub.execute_input": "2021-12-13T06:14:57.668720Z",
     "iopub.status.busy": "2021-12-13T06:14:57.660720Z",
     "iopub.status.idle": "2021-12-13T06:15:03.669317Z",
     "shell.execute_reply": "2021-12-13T06:15:03.669317Z",
     "shell.execute_reply.started": "2021-12-13T06:14:57.660720Z"
    },
    "id": "sealed-monster",
    "tags": []
   },
   "outputs": [],
   "source": [
    "X_train = pd.read_csv('data/X_train.csv')\n",
    "y_train = pd.read_csv('data/y_train.csv').target\n",
    "X_val = pd.read_csv('data/X_val.csv')\n",
    "y_val = pd.read_csv('data/y_val.csv').target"
   ]
  },
  {
   "cell_type": "code",
   "execution_count": 3,
   "id": "helpful-things",
   "metadata": {
    "colab": {
     "base_uri": "https://localhost:8080/",
     "height": 226
    },
    "execution": {
     "iopub.execute_input": "2021-12-13T06:15:03.681757Z",
     "iopub.status.busy": "2021-12-13T06:15:03.677830Z",
     "iopub.status.idle": "2021-12-13T06:15:03.783593Z",
     "shell.execute_reply": "2021-12-13T06:15:03.780600Z",
     "shell.execute_reply.started": "2021-12-13T06:15:03.681757Z"
    },
    "id": "directed-wrong",
    "outputId": "70a2b364-055d-46da-96bc-7901dc4f1ad6",
    "tags": []
   },
   "outputs": [
    {
     "data": {
      "text/html": [
       "<div>\n",
       "<style scoped>\n",
       "    .dataframe tbody tr th:only-of-type {\n",
       "        vertical-align: middle;\n",
       "    }\n",
       "\n",
       "    .dataframe tbody tr th {\n",
       "        vertical-align: top;\n",
       "    }\n",
       "\n",
       "    .dataframe thead th {\n",
       "        text-align: right;\n",
       "    }\n",
       "</style>\n",
       "<table border=\"1\" class=\"dataframe\">\n",
       "  <thead>\n",
       "    <tr style=\"text-align: right;\">\n",
       "      <th></th>\n",
       "      <th>Store</th>\n",
       "      <th>DayOfWeek</th>\n",
       "      <th>Promo</th>\n",
       "      <th>StateHoliday</th>\n",
       "      <th>SchoolHoliday</th>\n",
       "      <th>ordered_day</th>\n",
       "      <th>ordered_week</th>\n",
       "      <th>ordered_month</th>\n",
       "      <th>MonthOfYear</th>\n",
       "      <th>Promo2</th>\n",
       "      <th>...</th>\n",
       "      <th>Assortment_c</th>\n",
       "      <th>EncodedDistance</th>\n",
       "      <th>EncodedCompetitionMonthsFromStart</th>\n",
       "      <th>EncodedPromo2WeeksFromStart</th>\n",
       "      <th>PromoInterval_</th>\n",
       "      <th>PromoInterval_Jan,Apr,Jul,Oct</th>\n",
       "      <th>PromoInterval_Feb,May,Aug,Nov</th>\n",
       "      <th>PromoInterval_Mar,Jun,Sept,Dec</th>\n",
       "      <th>Encoded_Customers</th>\n",
       "      <th>Encoded_sum_target</th>\n",
       "    </tr>\n",
       "  </thead>\n",
       "  <tbody>\n",
       "    <tr>\n",
       "      <th>0</th>\n",
       "      <td>1</td>\n",
       "      <td>6</td>\n",
       "      <td>0</td>\n",
       "      <td>0</td>\n",
       "      <td>0</td>\n",
       "      <td>893</td>\n",
       "      <td>127</td>\n",
       "      <td>29</td>\n",
       "      <td>5</td>\n",
       "      <td>0</td>\n",
       "      <td>...</td>\n",
       "      <td>0.0</td>\n",
       "      <td>-0.321681</td>\n",
       "      <td>0.940159</td>\n",
       "      <td>0.0</td>\n",
       "      <td>1.0</td>\n",
       "      <td>0.0</td>\n",
       "      <td>0.0</td>\n",
       "      <td>0.0</td>\n",
       "      <td>-0.362074</td>\n",
       "      <td>-0.900261</td>\n",
       "    </tr>\n",
       "    <tr>\n",
       "      <th>1</th>\n",
       "      <td>1</td>\n",
       "      <td>5</td>\n",
       "      <td>0</td>\n",
       "      <td>0</td>\n",
       "      <td>0</td>\n",
       "      <td>892</td>\n",
       "      <td>127</td>\n",
       "      <td>29</td>\n",
       "      <td>5</td>\n",
       "      <td>0</td>\n",
       "      <td>...</td>\n",
       "      <td>0.0</td>\n",
       "      <td>-0.321681</td>\n",
       "      <td>0.940159</td>\n",
       "      <td>0.0</td>\n",
       "      <td>1.0</td>\n",
       "      <td>0.0</td>\n",
       "      <td>0.0</td>\n",
       "      <td>0.0</td>\n",
       "      <td>-0.362074</td>\n",
       "      <td>-0.900261</td>\n",
       "    </tr>\n",
       "    <tr>\n",
       "      <th>2</th>\n",
       "      <td>1</td>\n",
       "      <td>4</td>\n",
       "      <td>0</td>\n",
       "      <td>0</td>\n",
       "      <td>0</td>\n",
       "      <td>891</td>\n",
       "      <td>127</td>\n",
       "      <td>29</td>\n",
       "      <td>5</td>\n",
       "      <td>0</td>\n",
       "      <td>...</td>\n",
       "      <td>0.0</td>\n",
       "      <td>-0.321681</td>\n",
       "      <td>0.940159</td>\n",
       "      <td>0.0</td>\n",
       "      <td>1.0</td>\n",
       "      <td>0.0</td>\n",
       "      <td>0.0</td>\n",
       "      <td>0.0</td>\n",
       "      <td>-0.362074</td>\n",
       "      <td>-0.900261</td>\n",
       "    </tr>\n",
       "    <tr>\n",
       "      <th>3</th>\n",
       "      <td>1</td>\n",
       "      <td>3</td>\n",
       "      <td>0</td>\n",
       "      <td>0</td>\n",
       "      <td>0</td>\n",
       "      <td>890</td>\n",
       "      <td>127</td>\n",
       "      <td>29</td>\n",
       "      <td>5</td>\n",
       "      <td>0</td>\n",
       "      <td>...</td>\n",
       "      <td>0.0</td>\n",
       "      <td>-0.321681</td>\n",
       "      <td>0.940159</td>\n",
       "      <td>0.0</td>\n",
       "      <td>1.0</td>\n",
       "      <td>0.0</td>\n",
       "      <td>0.0</td>\n",
       "      <td>0.0</td>\n",
       "      <td>-0.362074</td>\n",
       "      <td>-0.900261</td>\n",
       "    </tr>\n",
       "    <tr>\n",
       "      <th>4</th>\n",
       "      <td>1</td>\n",
       "      <td>2</td>\n",
       "      <td>0</td>\n",
       "      <td>0</td>\n",
       "      <td>0</td>\n",
       "      <td>889</td>\n",
       "      <td>127</td>\n",
       "      <td>29</td>\n",
       "      <td>5</td>\n",
       "      <td>0</td>\n",
       "      <td>...</td>\n",
       "      <td>0.0</td>\n",
       "      <td>-0.321681</td>\n",
       "      <td>0.940159</td>\n",
       "      <td>0.0</td>\n",
       "      <td>1.0</td>\n",
       "      <td>0.0</td>\n",
       "      <td>0.0</td>\n",
       "      <td>0.0</td>\n",
       "      <td>-0.362074</td>\n",
       "      <td>-0.900261</td>\n",
       "    </tr>\n",
       "  </tbody>\n",
       "</table>\n",
       "<p>5 rows × 26 columns</p>\n",
       "</div>"
      ],
      "text/plain": [
       "   Store  DayOfWeek  Promo  StateHoliday  SchoolHoliday  ordered_day  \\\n",
       "0      1          6      0             0              0          893   \n",
       "1      1          5      0             0              0          892   \n",
       "2      1          4      0             0              0          891   \n",
       "3      1          3      0             0              0          890   \n",
       "4      1          2      0             0              0          889   \n",
       "\n",
       "   ordered_week  ordered_month  MonthOfYear  Promo2  ...  Assortment_c  \\\n",
       "0           127             29            5       0  ...           0.0   \n",
       "1           127             29            5       0  ...           0.0   \n",
       "2           127             29            5       0  ...           0.0   \n",
       "3           127             29            5       0  ...           0.0   \n",
       "4           127             29            5       0  ...           0.0   \n",
       "\n",
       "   EncodedDistance  EncodedCompetitionMonthsFromStart  \\\n",
       "0        -0.321681                           0.940159   \n",
       "1        -0.321681                           0.940159   \n",
       "2        -0.321681                           0.940159   \n",
       "3        -0.321681                           0.940159   \n",
       "4        -0.321681                           0.940159   \n",
       "\n",
       "   EncodedPromo2WeeksFromStart  PromoInterval_  PromoInterval_Jan,Apr,Jul,Oct  \\\n",
       "0                          0.0             1.0                            0.0   \n",
       "1                          0.0             1.0                            0.0   \n",
       "2                          0.0             1.0                            0.0   \n",
       "3                          0.0             1.0                            0.0   \n",
       "4                          0.0             1.0                            0.0   \n",
       "\n",
       "   PromoInterval_Feb,May,Aug,Nov  PromoInterval_Mar,Jun,Sept,Dec  \\\n",
       "0                            0.0                             0.0   \n",
       "1                            0.0                             0.0   \n",
       "2                            0.0                             0.0   \n",
       "3                            0.0                             0.0   \n",
       "4                            0.0                             0.0   \n",
       "\n",
       "   Encoded_Customers  Encoded_sum_target  \n",
       "0          -0.362074           -0.900261  \n",
       "1          -0.362074           -0.900261  \n",
       "2          -0.362074           -0.900261  \n",
       "3          -0.362074           -0.900261  \n",
       "4          -0.362074           -0.900261  \n",
       "\n",
       "[5 rows x 26 columns]"
      ]
     },
     "execution_count": 3,
     "metadata": {},
     "output_type": "execute_result"
    }
   ],
   "source": [
    "X_train.head()"
   ]
  },
  {
   "cell_type": "markdown",
   "id": "healthy-vaccine",
   "metadata": {
    "id": "palestinian-robin"
   },
   "source": [
    "As light GBM allows only alphanumeric characters and underscores in column names remove other characters."
   ]
  },
  {
   "cell_type": "code",
   "execution_count": 4,
   "id": "unlimited-terrorism",
   "metadata": {
    "ExecuteTime": {
     "end_time": "2021-12-05T06:48:03.105754Z",
     "start_time": "2021-12-05T06:48:02.884609Z"
    },
    "execution": {
     "iopub.execute_input": "2021-12-13T06:15:03.789586Z",
     "iopub.status.busy": "2021-12-13T06:15:03.788585Z",
     "iopub.status.idle": "2021-12-13T06:15:04.033296Z",
     "shell.execute_reply": "2021-12-13T06:15:04.029301Z",
     "shell.execute_reply.started": "2021-12-13T06:15:03.789586Z"
    },
    "id": "piano-organizer",
    "tags": []
   },
   "outputs": [],
   "source": [
    "X_train = X_train.rename(columns = lambda x:re.sub('[^A-Za-z0-9_]+', '', x))\n",
    "X_val = X_val.rename(columns = lambda x:re.sub('[^A-Za-z0-9_]+', '', x))"
   ]
  },
  {
   "cell_type": "code",
   "execution_count": 5,
   "id": "legislative-special",
   "metadata": {
    "execution": {
     "iopub.execute_input": "2021-12-13T06:15:04.039287Z",
     "iopub.status.busy": "2021-12-13T06:15:04.038289Z",
     "iopub.status.idle": "2021-12-13T06:15:04.620369Z",
     "shell.execute_reply": "2021-12-13T06:15:04.616226Z",
     "shell.execute_reply.started": "2021-12-13T06:15:04.039287Z"
    },
    "id": "following-stopping",
    "tags": []
   },
   "outputs": [],
   "source": [
    "X_train, y_train = X_train[y_train != 0], y_train[y_train != 0]\n",
    "X_val, y_val = X_val[y_val != 0], y_val[y_val != 0]"
   ]
  },
  {
   "cell_type": "code",
   "execution_count": 6,
   "id": "deluxe-welcome",
   "metadata": {
    "ExecuteTime": {
     "end_time": "2021-12-05T06:48:03.137698Z",
     "start_time": "2021-12-05T06:48:03.113735Z"
    },
    "execution": {
     "iopub.execute_input": "2021-12-13T06:15:04.632543Z",
     "iopub.status.busy": "2021-12-13T06:15:04.622422Z",
     "iopub.status.idle": "2021-12-13T06:15:04.687237Z",
     "shell.execute_reply": "2021-12-13T06:15:04.680244Z",
     "shell.execute_reply.started": "2021-12-13T06:15:04.630478Z"
    },
    "id": "short-python",
    "tags": []
   },
   "outputs": [],
   "source": [
    "def RMSPE(y_true, y_pred):\n",
    "    y_t, y_p = np.array(y_true), np.array(y_pred)\n",
    "    y_t, y_p = y_t[y_t != 0], y_p[y_t != 0]\n",
    "    return np.sqrt(np.mean(\n",
    "        ((y_true - y_pred) / y_true)**2\n",
    "    ))"
   ]
  },
  {
   "cell_type": "code",
   "execution_count": 7,
   "id": "directed-seeking",
   "metadata": {
    "ExecuteTime": {
     "end_time": "2021-12-05T09:40:58.799735Z",
     "start_time": "2021-12-05T09:40:58.777771Z"
    },
    "execution": {
     "iopub.execute_input": "2021-12-13T06:15:04.696222Z",
     "iopub.status.busy": "2021-12-13T06:15:04.694226Z",
     "iopub.status.idle": "2021-12-13T06:15:04.748143Z",
     "shell.execute_reply": "2021-12-13T06:15:04.744150Z",
     "shell.execute_reply.started": "2021-12-13T06:15:04.696222Z"
    },
    "id": "asian-region",
    "tags": []
   },
   "outputs": [],
   "source": [
    "def all_info_about_model(model_init, X_train, y_train, X_val, y_val, metric, param_grid, include_train=True, show_loop_params=True, *fit_args, **fit_kwargs):\n",
    "    param_names = list(param_grid.keys())\n",
    "    param_values = list(product(*list(param_grid.values())))\n",
    "    scores_df = pd.DataFrame(param_values, columns=param_names)\n",
    "    if include_train:\n",
    "        train_scores = []\n",
    "    val_scores = []\n",
    "    eval_time = []\n",
    "    for i, param_value in enumerate(param_values):\n",
    "        start = time.time()\n",
    "        params = dict(zip(param_names, param_value))\n",
    "        if show_loop_params:\n",
    "            print('\\n', params, '\\n')\n",
    "        model = model_init(**params)\n",
    "        model.fit(X_train, y_train, *fit_args, **fit_kwargs)\n",
    "        if include_train:\n",
    "            train_scores.append(metric(y_train, model.predict(X_train)))\n",
    "        val_scores.append(metric(y_val, model.predict(X_val)))\n",
    "        eval_time.append(time.time() - start)\n",
    "    \n",
    "    if include_train:\n",
    "        scores_df.loc[:, 'train_metric'] = train_scores\n",
    "    scores_df.loc[:, 'val_metric'] = val_scores\n",
    "    scores_df.loc[:, 'eval_time (sec)'] = eval_time\n",
    "    \n",
    "    return scores_df"
   ]
  },
  {
   "cell_type": "code",
   "execution_count": 15,
   "id": "major-adrian",
   "metadata": {
    "execution": {
     "iopub.execute_input": "2021-12-13T06:25:06.053243Z",
     "iopub.status.busy": "2021-12-13T06:25:06.051249Z",
     "iopub.status.idle": "2021-12-13T06:25:06.079203Z",
     "shell.execute_reply": "2021-12-13T06:25:06.075210Z",
     "shell.execute_reply.started": "2021-12-13T06:25:06.053243Z"
    },
    "tags": []
   },
   "outputs": [],
   "source": [
    "def plot_eval_results(x, data,):\n",
    "    plt.figure(figsize=(12, 7))\n",
    "    plt.plot(data[x], data['train_metric'])\n",
    "    plt.plot(data[x], data['val_metric'])\n",
    "    plt.legend(['train_rmspe', 'val_rmspe'])\n",
    "    plt.xlabel(x)\n",
    "    plt.ylabel('rmspe')\n",
    "    plt.title(f'rmspe on train and validation datasets depending on {x}')\n",
    "    plt.xticks(ticks=data[x], labels=data[x])\n",
    "    plt.show()"
   ]
  },
  {
   "cell_type": "markdown",
   "id": "funky-costume",
   "metadata": {
    "id": "radical-basics"
   },
   "source": [
    "# LGBM"
   ]
  },
  {
   "cell_type": "markdown",
   "id": "documented-reasoning",
   "metadata": {
    "id": "analyzed-colon"
   },
   "source": [
    "## Origin target"
   ]
  },
  {
   "cell_type": "markdown",
   "id": "motivated-survivor",
   "metadata": {
    "id": "educational-clone"
   },
   "source": [
    "restart this and change params to tune"
   ]
  },
  {
   "cell_type": "code",
   "execution_count": null,
   "id": "imperial-isaac",
   "metadata": {
    "colab": {
     "base_uri": "https://localhost:8080/"
    },
    "id": "vital-netherlands",
    "outputId": "ee7da7ee-c897-43ee-e4e8-8da94cd1154c",
    "tags": []
   },
   "outputs": [],
   "source": [
    "max_depth_results = all_info_about_model(partial(LGBMRegressor, num_leaves=1000, n_estimators=1000, random_state=205,),\n",
    "                     X_train, y_train, X_val, y_val, RMSPE,\n",
    "                     {\n",
    "                         'max_depth': [-1] + list(range(1, 20)),\n",
    "                     },\n",
    "                                         show_loop_params=True,\n",
    ")\n",
    "max_depth_results.to_csv('data/results/max_depth_results.csv', index=False)"
   ]
  },
  {
   "cell_type": "code",
   "execution_count": 8,
   "id": "related-resort",
   "metadata": {
    "colab": {
     "base_uri": "https://localhost:8080/",
     "height": 677
    },
    "execution": {
     "iopub.execute_input": "2021-12-13T06:15:04.757128Z",
     "iopub.status.busy": "2021-12-13T06:15:04.756136Z",
     "iopub.status.idle": "2021-12-13T06:15:04.780090Z",
     "shell.execute_reply": "2021-12-13T06:15:04.776093Z",
     "shell.execute_reply.started": "2021-12-13T06:15:04.757128Z"
    },
    "id": "vocal-bolivia",
    "outputId": "afe2d699-1367-49e5-af01-c0d7c6054ef8",
    "tags": []
   },
   "outputs": [],
   "source": [
    "max_depth_results = pd.read_csv('data/results/max_depth_results.csv')"
   ]
  },
  {
   "cell_type": "code",
   "execution_count": 16,
   "id": "quality-binding",
   "metadata": {
    "execution": {
     "iopub.execute_input": "2021-12-13T06:25:09.361154Z",
     "iopub.status.busy": "2021-12-13T06:25:09.360148Z",
     "iopub.status.idle": "2021-12-13T06:25:10.304400Z",
     "shell.execute_reply": "2021-12-13T06:25:10.300403Z",
     "shell.execute_reply.started": "2021-12-13T06:25:09.361154Z"
    },
    "tags": []
   },
   "outputs": [
    {
     "data": {
      "image/png": "[encoded data removed]",
      "text/plain": [
       "<Figure size 864x504 with 1 Axes>"
      ]
     },
     "metadata": {
      "needs_background": "light"
     },
     "output_type": "display_data"
    }
   ],
   "source": [
    "plot_eval_results('max_depth', max_depth_results)"
   ]
  },
  {
   "cell_type": "markdown",
   "id": "fitted-progress",
   "metadata": {},
   "source": [
    "The least val rmspe is for max_depth in \\[5, 6, 7\\]."
   ]
  },
  {
   "cell_type": "code",
   "execution_count": null,
   "id": "hawaiian-chuck",
   "metadata": {
    "colab": {
     "base_uri": "https://localhost:8080/"
    },
    "id": "surface-lindsay",
    "outputId": "c0a1bb42-6efb-4ac9-ccf7-066aa5890d0f",
    "tags": []
   },
   "outputs": [],
   "source": [
    "num_leaves_results = all_info_about_model(partial(LGBMRegressor, n_estimators=1000, random_state=205,),\n",
    "                     X_train, y_train, X_val, y_val, RMSPE,\n",
    "                     {\n",
    "                         'num_leaves': list(range(10, 121, 10)),\n",
    "                     },\n",
    "                                         show_loop_params=True,\n",
    ")\n",
    "num_leaves_results.to_csv('data/results/num_leaves_results.csv', index=False)"
   ]
  },
  {
   "cell_type": "code",
   "execution_count": 12,
   "id": "monetary-employer",
   "metadata": {
    "colab": {
     "base_uri": "https://localhost:8080/",
     "height": 426
    },
    "execution": {
     "iopub.execute_input": "2021-12-13T06:24:03.367503Z",
     "iopub.status.busy": "2021-12-13T06:24:03.366506Z",
     "iopub.status.idle": "2021-12-13T06:24:03.395461Z",
     "shell.execute_reply": "2021-12-13T06:24:03.392468Z",
     "shell.execute_reply.started": "2021-12-13T06:24:03.367503Z"
    },
    "id": "committed-coaching",
    "outputId": "0ba7b290-d67c-437d-9c08-85fa9dd68473",
    "tags": []
   },
   "outputs": [],
   "source": [
    "num_leaves_results = pd.read_csv('data/results/num_leaves_results.csv')"
   ]
  },
  {
   "cell_type": "code",
   "execution_count": 17,
   "id": "graphic-advocate",
   "metadata": {
    "execution": {
     "iopub.execute_input": "2021-12-13T06:25:18.942299Z",
     "iopub.status.busy": "2021-12-13T06:25:18.941303Z",
     "iopub.status.idle": "2021-12-13T06:25:19.655572Z",
     "shell.execute_reply": "2021-12-13T06:25:19.651575Z",
     "shell.execute_reply.started": "2021-12-13T06:25:18.942299Z"
    },
    "id": "bronze-playing",
    "tags": []
   },
   "outputs": [
    {
     "data": {
      "image/png": "[encoded data removed]",
      "text/plain": [
       "<Figure size 864x504 with 1 Axes>"
      ]
     },
     "metadata": {
      "needs_background": "light"
     },
     "output_type": "display_data"
    }
   ],
   "source": [
    "plot_eval_results('num_leaves', num_leaves_results)"
   ]
  },
  {
   "cell_type": "code",
   "execution_count": null,
   "id": "green-natural",
   "metadata": {
    "id": "entire-print"
   },
   "outputs": [],
   "source": []
  },
  {
   "cell_type": "code",
   "execution_count": null,
   "id": "guilty-determination",
   "metadata": {
    "colab": {
     "base_uri": "https://localhost:8080/"
    },
    "id": "waiting-gender",
    "outputId": "b18ebd83-2f37-4324-816a-ee938ca62ad0",
    "tags": []
   },
   "outputs": [],
   "source": [
    "max_depth_num_leaves_results = all_info_about_model(partial(LGBMRegressor, n_estimators=1000, random_state=205, ),\n",
    "                     X_train, y_train, X_val, y_val, RMSPE,\n",
    "                     {\n",
    "                         'max_depth': [-1, 5, 6, 7],\n",
    "                         'num_leaves': [60, 70, 80],\n",
    "                     },\n",
    "                                         show_loop_params=True,\n",
    ")\n",
    "max_depth_num_leaves_results.to_csv('data/results/max_depth_num_leaves_results.csv', index=False)"
   ]
  },
  {
   "cell_type": "code",
   "execution_count": 20,
   "id": "plain-measure",
   "metadata": {
    "colab": {
     "base_uri": "https://localhost:8080/",
     "height": 426
    },
    "execution": {
     "iopub.execute_input": "2021-12-13T06:37:05.585843Z",
     "iopub.status.busy": "2021-12-13T06:37:05.584844Z",
     "iopub.status.idle": "2021-12-13T06:37:05.621780Z",
     "shell.execute_reply": "2021-12-13T06:37:05.619784Z",
     "shell.execute_reply.started": "2021-12-13T06:37:05.585843Z"
    },
    "id": "ZdvrT2HyzoWT",
    "outputId": "58fda2b3-71ce-4a72-a79f-95b01c3e51d0",
    "tags": []
   },
   "outputs": [],
   "source": [
    "max_depth_num_leaves_results = pd.read_csv('data/results/max_depth_num_leaves_results.csv')"
   ]
  },
  {
   "cell_type": "code",
   "execution_count": 21,
   "id": "moral-helena",
   "metadata": {
    "execution": {
     "iopub.execute_input": "2021-12-13T06:37:08.370738Z",
     "iopub.status.busy": "2021-12-13T06:37:08.369739Z",
     "iopub.status.idle": "2021-12-13T06:37:09.058483Z",
     "shell.execute_reply": "2021-12-13T06:37:09.052926Z",
     "shell.execute_reply.started": "2021-12-13T06:37:08.370738Z"
    },
    "id": "1IIgq_7DzoPi",
    "tags": []
   },
   "outputs": [
    {
     "data": {
      "image/png": "[encoded data removed]",
      "text/plain": [
       "<Figure size 432x288 with 2 Axes>"
      ]
     },
     "metadata": {
      "needs_background": "light"
     },
     "output_type": "display_data"
    }
   ],
   "source": [
    "sns.heatmap(max_depth_num_leaves_results.set_index(['max_depth', 'num_leaves']).unstack()['val_metric'])\n",
    "plt.show()"
   ]
  },
  {
   "cell_type": "markdown",
   "id": "dedicated-mirror",
   "metadata": {},
   "source": [
    "So the parameters that minimize rmspe are max_depth=-1 and num_leaves=70"
   ]
  },
  {
   "cell_type": "markdown",
   "id": "russian-peoples",
   "metadata": {},
   "source": [
    "Let's see how the error depends on learning_rate parameter."
   ]
  },
  {
   "cell_type": "code",
   "execution_count": null,
   "id": "afraid-loading",
   "metadata": {
    "colab": {
     "base_uri": "https://localhost:8080/"
    },
    "id": "DrIHctDDzoKQ",
    "outputId": "dd433a29-719d-474b-ec5f-7105141f7e64",
    "tags": []
   },
   "outputs": [],
   "source": [
    "total_results = all_info_about_model(partial(LGBMRegressor, max_depth=-1, num_leaves=70, n_estimators=5000, random_state=205, ),\n",
    "                     X_train, y_train, X_val, y_val, RMSPE,\n",
    "                     {\n",
    "                         'learning_rate': np.linspace(0.05, 0.15, 11),\n",
    "                     },\n",
    "                                     eval_set=[(X_val, y_val)],\n",
    "         eval_metric=lambda y_true, y_pred: ('RMSPE', RMSPE(y_true, y_pred), False),\n",
    "                                     early_stopping_rounds=150,\n",
    "                                     verbose=100,\n",
    "                                         show_loop_params=True,\n",
    ")"
   ]
  },
  {
   "cell_type": "code",
   "execution_count": 22,
   "id": "greatest-excerpt",
   "metadata": {
    "colab": {
     "base_uri": "https://localhost:8080/",
     "height": 394
    },
    "execution": {
     "iopub.execute_input": "2021-12-13T06:38:52.197735Z",
     "iopub.status.busy": "2021-12-13T06:38:52.196738Z",
     "iopub.status.idle": "2021-12-13T06:38:52.230686Z",
     "shell.execute_reply": "2021-12-13T06:38:52.227689Z",
     "shell.execute_reply.started": "2021-12-13T06:38:52.197735Z"
    },
    "id": "blind-commercial",
    "outputId": "c4b8f14c-ed87-4f4f-b44c-88a8c66a9d40"
   },
   "outputs": [],
   "source": [
    "total_results = pd.read_csv('data/results/total_results.csv')"
   ]
  },
  {
   "cell_type": "code",
   "execution_count": 23,
   "id": "central-tracker",
   "metadata": {
    "execution": {
     "iopub.execute_input": "2021-12-13T06:39:09.143957Z",
     "iopub.status.busy": "2021-12-13T06:39:09.142959Z",
     "iopub.status.idle": "2021-12-13T06:39:09.802515Z",
     "shell.execute_reply": "2021-12-13T06:39:09.802515Z",
     "shell.execute_reply.started": "2021-12-13T06:39:09.143957Z"
    }
   },
   "outputs": [
    {
     "data": {
      "image/png": "[encoded data removed]",
      "text/plain": [
       "<Figure size 864x504 with 1 Axes>"
      ]
     },
     "metadata": {
      "needs_background": "light"
     },
     "output_type": "display_data"
    }
   ],
   "source": [
    "plot_eval_results('learning_rate', total_results)"
   ]
  },
  {
   "cell_type": "markdown",
   "id": "determined-breed",
   "metadata": {},
   "source": [
    "Let's see the row with minimum rmspe."
   ]
  },
  {
   "cell_type": "code",
   "execution_count": 26,
   "id": "absolute-turning",
   "metadata": {
    "execution": {
     "iopub.execute_input": "2021-12-13T06:40:12.993471Z",
     "iopub.status.busy": "2021-12-13T06:40:12.991475Z",
     "iopub.status.idle": "2021-12-13T06:40:13.032410Z",
     "shell.execute_reply": "2021-12-13T06:40:13.028414Z",
     "shell.execute_reply.started": "2021-12-13T06:40:12.992475Z"
    },
    "tags": []
   },
   "outputs": [
    {
     "data": {
      "text/html": [
       "<div>\n",
       "<style scoped>\n",
       "    .dataframe tbody tr th:only-of-type {\n",
       "        vertical-align: middle;\n",
       "    }\n",
       "\n",
       "    .dataframe tbody tr th {\n",
       "        vertical-align: top;\n",
       "    }\n",
       "\n",
       "    .dataframe thead th {\n",
       "        text-align: right;\n",
       "    }\n",
       "</style>\n",
       "<table border=\"1\" class=\"dataframe\">\n",
       "  <thead>\n",
       "    <tr style=\"text-align: right;\">\n",
       "      <th></th>\n",
       "      <th>learning_rate</th>\n",
       "      <th>train_metric</th>\n",
       "      <th>val_metric</th>\n",
       "      <th>eval_time (sec)</th>\n",
       "    </tr>\n",
       "  </thead>\n",
       "  <tbody>\n",
       "    <tr>\n",
       "      <th>4</th>\n",
       "      <td>0.09</td>\n",
       "      <td>0.171015</td>\n",
       "      <td>0.123062</td>\n",
       "      <td>189.95584</td>\n",
       "    </tr>\n",
       "  </tbody>\n",
       "</table>\n",
       "</div>"
      ],
      "text/plain": [
       "   learning_rate  train_metric  val_metric  eval_time (sec)\n",
       "4           0.09      0.171015    0.123062        189.95584"
      ]
     },
     "execution_count": 26,
     "metadata": {},
     "output_type": "execute_result"
    }
   ],
   "source": [
    "total_results.loc[[total_results.val_metric.argmin()]]"
   ]
  },
  {
   "cell_type": "markdown",
   "id": "decent-vertex",
   "metadata": {
    "id": "BpDFWoCKKOkX"
   },
   "source": [
    "The best params are max_depth=-1, num_leaves=70, learning_rate=0.09"
   ]
  },
  {
   "cell_type": "markdown",
   "id": "sunrise-individual",
   "metadata": {
    "id": "verbal-contest"
   },
   "source": [
    "## Transformed target"
   ]
  },
  {
   "cell_type": "markdown",
   "id": "musical-vinyl",
   "metadata": {
    "id": "existing-proceeding"
   },
   "source": [
    "Boks-Koks transforming  \n",
    "$\n",
    "z = \\begin{cases}\n",
    "\\frac{(y+a)^\\lambda - 1}{\\lambda}, \\lambda \\ne 0\\\\\n",
    "ln(y+a), \\lambda=0\n",
    "\\end{cases}\n",
    "$"
   ]
  },
  {
   "cell_type": "code",
   "execution_count": null,
   "id": "metric-treatment",
   "metadata": {
    "execution": {
     "iopub.execute_input": "2021-12-07T13:45:35.341417Z",
     "iopub.status.busy": "2021-12-07T13:45:35.341417Z",
     "iopub.status.idle": "2021-12-07T13:45:35.381581Z",
     "shell.execute_reply": "2021-12-07T13:45:35.381581Z",
     "shell.execute_reply.started": "2021-12-07T13:45:35.341417Z"
    },
    "id": "competent-mounting",
    "tags": []
   },
   "outputs": [],
   "source": [
    "def box_cox(y, mu, shift=0.0):\n",
    "    if mu == 0.0:\n",
    "        return np.log(y + shift)\n",
    "    return ((y + shift)**mu - 1) / mu\n",
    "\n",
    "def inv_box_cox(z, mu, shift=0.0):\n",
    "    if mu == 0.0:\n",
    "        return np.e**z - shift\n",
    "    return (1 + z * mu)**(1 / mu) - shift\n",
    "\n",
    "def box_cox_RMSPE(y_true, y_pred, mu, shift):\n",
    "    return RMSPE(inv_box_cox(y_true, mu, shift), inv_box_cox(y_pred, mu, shift))"
   ]
  },
  {
   "cell_type": "code",
   "execution_count": null,
   "id": "naughty-pricing",
   "metadata": {
    "colab": {
     "base_uri": "https://localhost:8080/"
    },
    "collapsed": true,
    "id": "9MX9k6htL4IM",
    "jupyter": {
     "outputs_hidden": true
    },
    "outputId": "707b71f6-d68e-4e0e-e960-9c1ad7a17add",
    "tags": []
   },
   "outputs": [
    {
     "name": "stdout",
     "output_type": "stream",
     "text": [
      "Training until validation scores don't improve for 150 rounds.\n",
      "[100]\tvalid_0's l2: 0.00752589\tvalid_0's RMSPE: 0.261396\n",
      "[200]\tvalid_0's l2: 0.00705103\tvalid_0's RMSPE: 0.249926\n",
      "[300]\tvalid_0's l2: 0.00671317\tvalid_0's RMSPE: 0.242144\n",
      "[400]\tvalid_0's l2: 0.00657628\tvalid_0's RMSPE: 0.239089\n",
      "[500]\tvalid_0's l2: 0.00648056\tvalid_0's RMSPE: 0.23692\n",
      "[600]\tvalid_0's l2: 0.00639249\tvalid_0's RMSPE: 0.234849\n",
      "[700]\tvalid_0's l2: 0.00633729\tvalid_0's RMSPE: 0.23346\n",
      "[800]\tvalid_0's l2: 0.00628428\tvalid_0's RMSPE: 0.232236\n",
      "[900]\tvalid_0's l2: 0.00625667\tvalid_0's RMSPE: 0.231586\n",
      "[1000]\tvalid_0's l2: 0.00623837\tvalid_0's RMSPE: 0.231187\n",
      "[1100]\tvalid_0's l2: 0.00622878\tvalid_0's RMSPE: 0.23095\n",
      "[1200]\tvalid_0's l2: 0.00623008\tvalid_0's RMSPE: 0.230939\n",
      "[1300]\tvalid_0's l2: 0.00620784\tvalid_0's RMSPE: 0.230428\n",
      "[1400]\tvalid_0's l2: 0.00620061\tvalid_0's RMSPE: 0.230249\n",
      "[1500]\tvalid_0's l2: 0.00620446\tvalid_0's RMSPE: 0.230318\n",
      "Early stopping, best iteration is:\n",
      "[1423]\tvalid_0's l2: 0.00619693\tvalid_0's RMSPE: 0.230158\n"
     ]
    },
    {
     "data": {
      "text/plain": [
       "LGBMRegressor(learning_rate=0.09, n_estimators=5000, num_leaves=70,\n",
       "              random_state=205)"
      ]
     },
     "execution_count": 52,
     "metadata": {},
     "output_type": "execute_result"
    }
   ],
   "source": [
    "lgbm_boxcox = LGBMRegressor(num_leaves=70, max_depth=-1, learning_rate=0.09, n_estimators=5000, random_state=205)\n",
    "lgbm_boxcox.fit(X_train, y_train_boxcox,\n",
    "                                     eval_set=[(X_val, y_val_boxcox)],\n",
    "                         eval_metric=lambda y_true, y_pred: ('RMSPE', RMSPE(inv_boxcox(y_true, lmbda), inv_boxcox(y_pred, lmbda)), False),\n",
    "                                     early_stopping_rounds=150,\n",
    "                                     verbose=100,\n",
    ")"
   ]
  },
  {
   "cell_type": "code",
   "execution_count": null,
   "id": "judicial-voluntary",
   "metadata": {
    "colab": {
     "base_uri": "https://localhost:8080/"
    },
    "collapsed": true,
    "id": "7xA2m86FKiSB",
    "jupyter": {
     "outputs_hidden": true
    },
    "outputId": "67254fec-e347-4562-bae1-8c90736c6d94",
    "tags": []
   },
   "outputs": [
    {
     "name": "stdout",
     "output_type": "stream",
     "text": [
      "Training until validation scores don't improve for 150 rounds.\n",
      "[100]\tvalid_0's l2: 9.55686e-10\tvalid_0's RMSPE: 0.159354\n",
      "[200]\tvalid_0's l2: 8.53389e-10\tvalid_0's RMSPE: 0.151291\n",
      "[300]\tvalid_0's l2: 7.88489e-10\tvalid_0's RMSPE: 0.14664\n",
      "[400]\tvalid_0's l2: 7.4936e-10\tvalid_0's RMSPE: 0.143479\n",
      "[500]\tvalid_0's l2: 7.24952e-10\tvalid_0's RMSPE: 0.141256\n",
      "[600]\tvalid_0's l2: 7.09081e-10\tvalid_0's RMSPE: 0.139665\n",
      "[700]\tvalid_0's l2: 6.93434e-10\tvalid_0's RMSPE: 0.138166\n",
      "[800]\tvalid_0's l2: 6.83753e-10\tvalid_0's RMSPE: 0.137211\n",
      "[900]\tvalid_0's l2: 6.7698e-10\tvalid_0's RMSPE: 0.136345\n",
      "[1000]\tvalid_0's l2: 6.68417e-10\tvalid_0's RMSPE: 0.135259\n",
      "[1100]\tvalid_0's l2: 6.59817e-10\tvalid_0's RMSPE: 0.134197\n",
      "[1200]\tvalid_0's l2: 6.57772e-10\tvalid_0's RMSPE: 0.133985\n",
      "[1300]\tvalid_0's l2: 6.52027e-10\tvalid_0's RMSPE: 0.133383\n",
      "[1400]\tvalid_0's l2: 6.48539e-10\tvalid_0's RMSPE: 0.132946\n",
      "[1500]\tvalid_0's l2: 6.46756e-10\tvalid_0's RMSPE: 0.132781\n",
      "[1600]\tvalid_0's l2: 6.49782e-10\tvalid_0's RMSPE: 0.133176\n",
      "Early stopping, best iteration is:\n",
      "[1516]\tvalid_0's l2: 6.46369e-10\tvalid_0's RMSPE: 0.132731\n",
      "Training until validation scores don't improve for 150 rounds.\n",
      "[100]\tvalid_0's l2: 2.24072e-09\tvalid_0's RMSPE: 0.161124\n",
      "[200]\tvalid_0's l2: 1.98295e-09\tvalid_0's RMSPE: 0.153304\n",
      "[300]\tvalid_0's l2: 1.84236e-09\tvalid_0's RMSPE: 0.14868\n",
      "[400]\tvalid_0's l2: 1.73266e-09\tvalid_0's RMSPE: 0.145103\n",
      "[500]\tvalid_0's l2: 1.67317e-09\tvalid_0's RMSPE: 0.143244\n",
      "[600]\tvalid_0's l2: 1.6301e-09\tvalid_0's RMSPE: 0.141307\n",
      "[700]\tvalid_0's l2: 1.59309e-09\tvalid_0's RMSPE: 0.139816\n",
      "[800]\tvalid_0's l2: 1.57712e-09\tvalid_0's RMSPE: 0.139149\n",
      "[900]\tvalid_0's l2: 1.55604e-09\tvalid_0's RMSPE: 0.138323\n",
      "[1000]\tvalid_0's l2: 1.56581e-09\tvalid_0's RMSPE: 0.138522\n",
      "Early stopping, best iteration is:\n",
      "[892]\tvalid_0's l2: 1.55274e-09\tvalid_0's RMSPE: 0.13818\n",
      "Training until validation scores don't improve for 150 rounds.\n",
      "[100]\tvalid_0's l2: 4.77036e-09\tvalid_0's RMSPE: 0.154738\n",
      "[200]\tvalid_0's l2: 4.14515e-09\tvalid_0's RMSPE: 0.145427\n",
      "[300]\tvalid_0's l2: 3.95669e-09\tvalid_0's RMSPE: 0.142469\n",
      "[400]\tvalid_0's l2: 3.76712e-09\tvalid_0's RMSPE: 0.139182\n",
      "[500]\tvalid_0's l2: 3.63806e-09\tvalid_0's RMSPE: 0.136829\n",
      "[600]\tvalid_0's l2: 3.5602e-09\tvalid_0's RMSPE: 0.135452\n",
      "[700]\tvalid_0's l2: 3.51196e-09\tvalid_0's RMSPE: 0.134573\n",
      "[800]\tvalid_0's l2: 3.47561e-09\tvalid_0's RMSPE: 0.133949\n",
      "[900]\tvalid_0's l2: 3.4474e-09\tvalid_0's RMSPE: 0.133309\n",
      "[1000]\tvalid_0's l2: 3.43377e-09\tvalid_0's RMSPE: 0.132907\n",
      "[1100]\tvalid_0's l2: 3.41765e-09\tvalid_0's RMSPE: 0.132499\n",
      "[1200]\tvalid_0's l2: 3.43138e-09\tvalid_0's RMSPE: 0.132613\n",
      "Early stopping, best iteration is:\n",
      "[1065]\tvalid_0's l2: 3.40815e-09\tvalid_0's RMSPE: 0.132482\n",
      "Training until validation scores don't improve for 150 rounds.\n",
      "[100]\tvalid_0's l2: 1.06056e-08\tvalid_0's RMSPE: 0.151379\n",
      "[200]\tvalid_0's l2: 9.46342e-09\tvalid_0's RMSPE: 0.143462\n",
      "[300]\tvalid_0's l2: 8.60177e-09\tvalid_0's RMSPE: 0.137592\n",
      "[400]\tvalid_0's l2: 8.07579e-09\tvalid_0's RMSPE: 0.134045\n",
      "[500]\tvalid_0's l2: 7.75781e-09\tvalid_0's RMSPE: 0.131625\n",
      "[600]\tvalid_0's l2: 7.52086e-09\tvalid_0's RMSPE: 0.12977\n",
      "[700]\tvalid_0's l2: 7.36118e-09\tvalid_0's RMSPE: 0.128421\n",
      "[800]\tvalid_0's l2: 7.23169e-09\tvalid_0's RMSPE: 0.127346\n",
      "[900]\tvalid_0's l2: 7.1547e-09\tvalid_0's RMSPE: 0.12672\n",
      "[1000]\tvalid_0's l2: 7.07837e-09\tvalid_0's RMSPE: 0.126044\n",
      "[1100]\tvalid_0's l2: 7.03587e-09\tvalid_0's RMSPE: 0.125501\n",
      "[1200]\tvalid_0's l2: 7.03508e-09\tvalid_0's RMSPE: 0.12543\n",
      "[1300]\tvalid_0's l2: 6.98927e-09\tvalid_0's RMSPE: 0.125063\n",
      "[1400]\tvalid_0's l2: 6.95203e-09\tvalid_0's RMSPE: 0.124765\n",
      "[1500]\tvalid_0's l2: 6.9737e-09\tvalid_0's RMSPE: 0.12501\n",
      "Early stopping, best iteration is:\n",
      "[1440]\tvalid_0's l2: 6.94109e-09\tvalid_0's RMSPE: 0.124676\n",
      "Training until validation scores don't improve for 150 rounds.\n",
      "[100]\tvalid_0's l2: 2.53172e-08\tvalid_0's RMSPE: 0.153046\n",
      "[200]\tvalid_0's l2: 2.2002e-08\tvalid_0's RMSPE: 0.143462\n",
      "[300]\tvalid_0's l2: 2.01574e-08\tvalid_0's RMSPE: 0.138249\n",
      "[400]\tvalid_0's l2: 1.89536e-08\tvalid_0's RMSPE: 0.134654\n",
      "[500]\tvalid_0's l2: 1.82711e-08\tvalid_0's RMSPE: 0.132554\n",
      "[600]\tvalid_0's l2: 1.78322e-08\tvalid_0's RMSPE: 0.131131\n",
      "[700]\tvalid_0's l2: 1.74109e-08\tvalid_0's RMSPE: 0.129568\n",
      "[800]\tvalid_0's l2: 1.71143e-08\tvalid_0's RMSPE: 0.128659\n",
      "[900]\tvalid_0's l2: 1.68927e-08\tvalid_0's RMSPE: 0.127954\n",
      "[1000]\tvalid_0's l2: 1.67295e-08\tvalid_0's RMSPE: 0.127417\n",
      "[1100]\tvalid_0's l2: 1.66381e-08\tvalid_0's RMSPE: 0.126967\n",
      "[1200]\tvalid_0's l2: 1.6588e-08\tvalid_0's RMSPE: 0.126684\n",
      "[1300]\tvalid_0's l2: 1.65166e-08\tvalid_0's RMSPE: 0.126486\n",
      "[1400]\tvalid_0's l2: 1.65223e-08\tvalid_0's RMSPE: 0.126547\n",
      "[1500]\tvalid_0's l2: 1.65224e-08\tvalid_0's RMSPE: 0.126617\n",
      "Early stopping, best iteration is:\n",
      "[1437]\tvalid_0's l2: 1.6486e-08\tvalid_0's RMSPE: 0.126397\n",
      "Training until validation scores don't improve for 150 rounds.\n",
      "[100]\tvalid_0's l2: 5.88766e-08\tvalid_0's RMSPE: 0.153694\n",
      "[200]\tvalid_0's l2: 5.10511e-08\tvalid_0's RMSPE: 0.143766\n",
      "[300]\tvalid_0's l2: 4.66756e-08\tvalid_0's RMSPE: 0.138405\n",
      "[400]\tvalid_0's l2: 4.37634e-08\tvalid_0's RMSPE: 0.134542\n",
      "[500]\tvalid_0's l2: 4.2139e-08\tvalid_0's RMSPE: 0.132305\n",
      "[600]\tvalid_0's l2: 4.08082e-08\tvalid_0's RMSPE: 0.13041\n",
      "[700]\tvalid_0's l2: 4.00276e-08\tvalid_0's RMSPE: 0.129265\n",
      "[800]\tvalid_0's l2: 3.93427e-08\tvalid_0's RMSPE: 0.128164\n",
      "[900]\tvalid_0's l2: 3.88409e-08\tvalid_0's RMSPE: 0.127313\n",
      "[1000]\tvalid_0's l2: 3.82707e-08\tvalid_0's RMSPE: 0.126472\n",
      "[1100]\tvalid_0's l2: 3.78568e-08\tvalid_0's RMSPE: 0.125786\n",
      "[1200]\tvalid_0's l2: 3.7519e-08\tvalid_0's RMSPE: 0.125238\n",
      "[1300]\tvalid_0's l2: 3.72526e-08\tvalid_0's RMSPE: 0.124839\n",
      "[1400]\tvalid_0's l2: 3.71036e-08\tvalid_0's RMSPE: 0.124517\n",
      "[1500]\tvalid_0's l2: 3.6981e-08\tvalid_0's RMSPE: 0.124342\n",
      "[1600]\tvalid_0's l2: 3.68941e-08\tvalid_0's RMSPE: 0.124227\n",
      "[1700]\tvalid_0's l2: 3.68985e-08\tvalid_0's RMSPE: 0.124239\n",
      "[1800]\tvalid_0's l2: 3.67425e-08\tvalid_0's RMSPE: 0.124014\n",
      "[1900]\tvalid_0's l2: 3.66583e-08\tvalid_0's RMSPE: 0.123889\n",
      "[2000]\tvalid_0's l2: 3.65597e-08\tvalid_0's RMSPE: 0.123718\n",
      "[2100]\tvalid_0's l2: 3.68373e-08\tvalid_0's RMSPE: 0.124178\n",
      "Early stopping, best iteration is:\n",
      "[2007]\tvalid_0's l2: 3.65522e-08\tvalid_0's RMSPE: 0.123702\n",
      "Training until validation scores don't improve for 150 rounds.\n",
      "[100]\tvalid_0's l2: 1.37851e-07\tvalid_0's RMSPE: 0.153584\n",
      "[200]\tvalid_0's l2: 1.20449e-07\tvalid_0's RMSPE: 0.143946\n",
      "[300]\tvalid_0's l2: 1.11212e-07\tvalid_0's RMSPE: 0.138798\n",
      "[400]\tvalid_0's l2: 1.05029e-07\tvalid_0's RMSPE: 0.135422\n",
      "[500]\tvalid_0's l2: 9.91621e-08\tvalid_0's RMSPE: 0.132068\n",
      "[600]\tvalid_0's l2: 9.64325e-08\tvalid_0's RMSPE: 0.130605\n",
      "[700]\tvalid_0's l2: 9.49052e-08\tvalid_0's RMSPE: 0.129579\n",
      "[800]\tvalid_0's l2: 9.29595e-08\tvalid_0's RMSPE: 0.12832\n",
      "[900]\tvalid_0's l2: 9.24052e-08\tvalid_0's RMSPE: 0.127865\n",
      "[1000]\tvalid_0's l2: 9.18426e-08\tvalid_0's RMSPE: 0.127532\n",
      "[1100]\tvalid_0's l2: 9.26599e-08\tvalid_0's RMSPE: 0.128063\n",
      "Early stopping, best iteration is:\n",
      "[1018]\tvalid_0's l2: 9.15757e-08\tvalid_0's RMSPE: 0.127395\n",
      "Training until validation scores don't improve for 150 rounds.\n",
      "[100]\tvalid_0's l2: 3.25185e-07\tvalid_0's RMSPE: 0.153886\n",
      "[200]\tvalid_0's l2: 2.9042e-07\tvalid_0's RMSPE: 0.145449\n",
      "[300]\tvalid_0's l2: 2.6136e-07\tvalid_0's RMSPE: 0.138628\n",
      "[400]\tvalid_0's l2: 2.45894e-07\tvalid_0's RMSPE: 0.134923\n",
      "[500]\tvalid_0's l2: 2.37403e-07\tvalid_0's RMSPE: 0.132634\n",
      "[600]\tvalid_0's l2: 2.31147e-07\tvalid_0's RMSPE: 0.130961\n",
      "[700]\tvalid_0's l2: 2.26002e-07\tvalid_0's RMSPE: 0.129759\n",
      "[800]\tvalid_0's l2: 2.23177e-07\tvalid_0's RMSPE: 0.128949\n",
      "[900]\tvalid_0's l2: 2.1988e-07\tvalid_0's RMSPE: 0.128076\n",
      "[1000]\tvalid_0's l2: 2.17699e-07\tvalid_0's RMSPE: 0.127465\n",
      "[1100]\tvalid_0's l2: 2.15924e-07\tvalid_0's RMSPE: 0.127031\n",
      "[1200]\tvalid_0's l2: 2.14206e-07\tvalid_0's RMSPE: 0.126544\n",
      "[1300]\tvalid_0's l2: 2.12046e-07\tvalid_0's RMSPE: 0.125982\n",
      "[1400]\tvalid_0's l2: 2.10818e-07\tvalid_0's RMSPE: 0.125731\n",
      "[1500]\tvalid_0's l2: 2.10336e-07\tvalid_0's RMSPE: 0.125635\n",
      "[1600]\tvalid_0's l2: 2.09491e-07\tvalid_0's RMSPE: 0.125351\n",
      "[1700]\tvalid_0's l2: 2.08968e-07\tvalid_0's RMSPE: 0.125204\n",
      "[1800]\tvalid_0's l2: 2.08674e-07\tvalid_0's RMSPE: 0.125092\n",
      "[1900]\tvalid_0's l2: 2.08151e-07\tvalid_0's RMSPE: 0.1249\n",
      "[2000]\tvalid_0's l2: 2.07514e-07\tvalid_0's RMSPE: 0.124753\n",
      "[2100]\tvalid_0's l2: 2.07844e-07\tvalid_0's RMSPE: 0.12497\n",
      "Early stopping, best iteration is:\n",
      "[1968]\tvalid_0's l2: 2.07476e-07\tvalid_0's RMSPE: 0.124765\n",
      "Training until validation scores don't improve for 150 rounds.\n",
      "[100]\tvalid_0's l2: 7.64114e-07\tvalid_0's RMSPE: 0.15365\n",
      "[200]\tvalid_0's l2: 6.70744e-07\tvalid_0's RMSPE: 0.143962\n",
      "[300]\tvalid_0's l2: 6.09204e-07\tvalid_0's RMSPE: 0.137874\n",
      "[400]\tvalid_0's l2: 5.81806e-07\tvalid_0's RMSPE: 0.134945\n",
      "[500]\tvalid_0's l2: 5.63071e-07\tvalid_0's RMSPE: 0.132655\n",
      "[600]\tvalid_0's l2: 5.48325e-07\tvalid_0's RMSPE: 0.130886\n",
      "[700]\tvalid_0's l2: 5.37951e-07\tvalid_0's RMSPE: 0.12976\n",
      "[800]\tvalid_0's l2: 5.24088e-07\tvalid_0's RMSPE: 0.128405\n",
      "[900]\tvalid_0's l2: 5.15743e-07\tvalid_0's RMSPE: 0.127525\n",
      "[1000]\tvalid_0's l2: 5.11825e-07\tvalid_0's RMSPE: 0.127023\n",
      "[1100]\tvalid_0's l2: 5.1145e-07\tvalid_0's RMSPE: 0.126856\n",
      "[1200]\tvalid_0's l2: 5.11436e-07\tvalid_0's RMSPE: 0.126714\n",
      "Early stopping, best iteration is:\n",
      "[1057]\tvalid_0's l2: 5.11167e-07\tvalid_0's RMSPE: 0.126873\n",
      "Training until validation scores don't improve for 150 rounds.\n",
      "[100]\tvalid_0's l2: 1.68085e-06\tvalid_0's RMSPE: 0.151134\n",
      "[200]\tvalid_0's l2: 1.47623e-06\tvalid_0's RMSPE: 0.141775\n",
      "[300]\tvalid_0's l2: 1.32508e-06\tvalid_0's RMSPE: 0.135195\n",
      "[400]\tvalid_0's l2: 1.26617e-06\tvalid_0's RMSPE: 0.132209\n",
      "[500]\tvalid_0's l2: 1.22769e-06\tvalid_0's RMSPE: 0.130213\n",
      "[600]\tvalid_0's l2: 1.19379e-06\tvalid_0's RMSPE: 0.128455\n",
      "[700]\tvalid_0's l2: 1.16785e-06\tvalid_0's RMSPE: 0.127287\n",
      "[800]\tvalid_0's l2: 1.14255e-06\tvalid_0's RMSPE: 0.126007\n",
      "[900]\tvalid_0's l2: 1.13062e-06\tvalid_0's RMSPE: 0.125507\n",
      "[1000]\tvalid_0's l2: 1.12332e-06\tvalid_0's RMSPE: 0.125155\n",
      "[1100]\tvalid_0's l2: 1.12033e-06\tvalid_0's RMSPE: 0.125044\n",
      "[1200]\tvalid_0's l2: 1.11613e-06\tvalid_0's RMSPE: 0.124799\n",
      "[1300]\tvalid_0's l2: 1.12193e-06\tvalid_0's RMSPE: 0.125193\n",
      "[1400]\tvalid_0's l2: 1.12515e-06\tvalid_0's RMSPE: 0.125493\n",
      "Early stopping, best iteration is:\n",
      "[1260]\tvalid_0's l2: 1.11387e-06\tvalid_0's RMSPE: 0.12469\n",
      "Training until validation scores don't improve for 150 rounds.\n",
      "[100]\tvalid_0's l2: 4.09725e-06\tvalid_0's RMSPE: 0.153429\n",
      "[200]\tvalid_0's l2: 3.54134e-06\tvalid_0's RMSPE: 0.142492\n",
      "[300]\tvalid_0's l2: 3.29653e-06\tvalid_0's RMSPE: 0.137639\n",
      "[400]\tvalid_0's l2: 3.06879e-06\tvalid_0's RMSPE: 0.133242\n",
      "[500]\tvalid_0's l2: 2.94748e-06\tvalid_0's RMSPE: 0.130977\n",
      "[600]\tvalid_0's l2: 2.8523e-06\tvalid_0's RMSPE: 0.129233\n",
      "[700]\tvalid_0's l2: 2.81081e-06\tvalid_0's RMSPE: 0.128363\n",
      "[800]\tvalid_0's l2: 2.7628e-06\tvalid_0's RMSPE: 0.127448\n",
      "[900]\tvalid_0's l2: 2.73131e-06\tvalid_0's RMSPE: 0.126747\n",
      "[1000]\tvalid_0's l2: 2.70244e-06\tvalid_0's RMSPE: 0.126037\n",
      "[1100]\tvalid_0's l2: 2.67647e-06\tvalid_0's RMSPE: 0.125538\n",
      "[1200]\tvalid_0's l2: 2.66174e-06\tvalid_0's RMSPE: 0.125348\n",
      "[1300]\tvalid_0's l2: 2.63946e-06\tvalid_0's RMSPE: 0.124966\n",
      "[1400]\tvalid_0's l2: 2.62916e-06\tvalid_0's RMSPE: 0.124733\n",
      "[1500]\tvalid_0's l2: 2.61554e-06\tvalid_0's RMSPE: 0.124483\n",
      "[1600]\tvalid_0's l2: 2.60405e-06\tvalid_0's RMSPE: 0.124334\n",
      "[1700]\tvalid_0's l2: 2.59605e-06\tvalid_0's RMSPE: 0.124152\n",
      "[1800]\tvalid_0's l2: 2.58209e-06\tvalid_0's RMSPE: 0.123932\n",
      "[1900]\tvalid_0's l2: 2.57686e-06\tvalid_0's RMSPE: 0.123831\n",
      "[2000]\tvalid_0's l2: 2.56918e-06\tvalid_0's RMSPE: 0.123695\n",
      "[2100]\tvalid_0's l2: 2.56662e-06\tvalid_0's RMSPE: 0.123724\n",
      "Early stopping, best iteration is:\n",
      "[2016]\tvalid_0's l2: 2.56717e-06\tvalid_0's RMSPE: 0.123653\n",
      "Training until validation scores don't improve for 150 rounds.\n",
      "[100]\tvalid_0's l2: 9.58356e-06\tvalid_0's RMSPE: 0.152284\n",
      "[200]\tvalid_0's l2: 8.4379e-06\tvalid_0's RMSPE: 0.142738\n",
      "[300]\tvalid_0's l2: 7.83692e-06\tvalid_0's RMSPE: 0.137815\n",
      "[400]\tvalid_0's l2: 7.35756e-06\tvalid_0's RMSPE: 0.13373\n",
      "[500]\tvalid_0's l2: 7.04403e-06\tvalid_0's RMSPE: 0.130928\n",
      "[600]\tvalid_0's l2: 6.85364e-06\tvalid_0's RMSPE: 0.129309\n",
      "[700]\tvalid_0's l2: 6.70639e-06\tvalid_0's RMSPE: 0.127982\n",
      "[800]\tvalid_0's l2: 6.57064e-06\tvalid_0's RMSPE: 0.126784\n",
      "[900]\tvalid_0's l2: 6.49483e-06\tvalid_0's RMSPE: 0.12607\n",
      "[1000]\tvalid_0's l2: 6.41837e-06\tvalid_0's RMSPE: 0.125439\n",
      "[1100]\tvalid_0's l2: 6.36875e-06\tvalid_0's RMSPE: 0.125039\n",
      "[1200]\tvalid_0's l2: 6.32951e-06\tvalid_0's RMSPE: 0.124706\n",
      "[1300]\tvalid_0's l2: 6.27779e-06\tvalid_0's RMSPE: 0.124309\n",
      "[1400]\tvalid_0's l2: 6.26223e-06\tvalid_0's RMSPE: 0.124157\n",
      "[1500]\tvalid_0's l2: 6.24146e-06\tvalid_0's RMSPE: 0.123914\n",
      "[1600]\tvalid_0's l2: 6.22607e-06\tvalid_0's RMSPE: 0.123779\n",
      "[1700]\tvalid_0's l2: 6.22715e-06\tvalid_0's RMSPE: 0.123799\n",
      "Early stopping, best iteration is:\n",
      "[1573]\tvalid_0's l2: 6.22285e-06\tvalid_0's RMSPE: 0.123757\n",
      "Training until validation scores don't improve for 150 rounds.\n",
      "[100]\tvalid_0's l2: 2.25777e-05\tvalid_0's RMSPE: 0.154056\n",
      "[200]\tvalid_0's l2: 1.94811e-05\tvalid_0's RMSPE: 0.142827\n",
      "[300]\tvalid_0's l2: 1.78285e-05\tvalid_0's RMSPE: 0.136933\n",
      "[400]\tvalid_0's l2: 1.66962e-05\tvalid_0's RMSPE: 0.132815\n",
      "[500]\tvalid_0's l2: 1.59538e-05\tvalid_0's RMSPE: 0.129986\n",
      "[600]\tvalid_0's l2: 1.55113e-05\tvalid_0's RMSPE: 0.12823\n",
      "[700]\tvalid_0's l2: 1.51936e-05\tvalid_0's RMSPE: 0.126885\n",
      "[800]\tvalid_0's l2: 1.49113e-05\tvalid_0's RMSPE: 0.125748\n",
      "[900]\tvalid_0's l2: 1.48077e-05\tvalid_0's RMSPE: 0.125401\n",
      "[1000]\tvalid_0's l2: 1.46295e-05\tvalid_0's RMSPE: 0.124728\n",
      "[1100]\tvalid_0's l2: 1.45119e-05\tvalid_0's RMSPE: 0.124363\n",
      "[1200]\tvalid_0's l2: 1.44538e-05\tvalid_0's RMSPE: 0.124267\n",
      "[1300]\tvalid_0's l2: 1.43748e-05\tvalid_0's RMSPE: 0.123953\n",
      "[1400]\tvalid_0's l2: 1.43301e-05\tvalid_0's RMSPE: 0.123838\n",
      "[1500]\tvalid_0's l2: 1.4332e-05\tvalid_0's RMSPE: 0.123881\n",
      "[1600]\tvalid_0's l2: 1.43165e-05\tvalid_0's RMSPE: 0.123857\n",
      "Early stopping, best iteration is:\n",
      "[1537]\tvalid_0's l2: 1.43074e-05\tvalid_0's RMSPE: 0.123748\n",
      "Training until validation scores don't improve for 150 rounds.\n",
      "[100]\tvalid_0's l2: 5.35049e-05\tvalid_0's RMSPE: 0.151816\n",
      "[200]\tvalid_0's l2: 4.6855e-05\tvalid_0's RMSPE: 0.142442\n",
      "[300]\tvalid_0's l2: 4.30336e-05\tvalid_0's RMSPE: 0.136922\n",
      "[400]\tvalid_0's l2: 4.01496e-05\tvalid_0's RMSPE: 0.132396\n",
      "[500]\tvalid_0's l2: 3.87007e-05\tvalid_0's RMSPE: 0.130134\n",
      "[600]\tvalid_0's l2: 3.75274e-05\tvalid_0's RMSPE: 0.128439\n",
      "[700]\tvalid_0's l2: 3.69724e-05\tvalid_0's RMSPE: 0.127555\n",
      "[800]\tvalid_0's l2: 3.63613e-05\tvalid_0's RMSPE: 0.12661\n",
      "[900]\tvalid_0's l2: 3.597e-05\tvalid_0's RMSPE: 0.126011\n",
      "[1000]\tvalid_0's l2: 3.56672e-05\tvalid_0's RMSPE: 0.12565\n",
      "[1100]\tvalid_0's l2: 3.53338e-05\tvalid_0's RMSPE: 0.125145\n",
      "[1200]\tvalid_0's l2: 3.51026e-05\tvalid_0's RMSPE: 0.124864\n",
      "[1300]\tvalid_0's l2: 3.49605e-05\tvalid_0's RMSPE: 0.124772\n",
      "[1400]\tvalid_0's l2: 3.48955e-05\tvalid_0's RMSPE: 0.124651\n",
      "[1500]\tvalid_0's l2: 3.51982e-05\tvalid_0's RMSPE: 0.125278\n",
      "Early stopping, best iteration is:\n",
      "[1410]\tvalid_0's l2: 3.4882e-05\tvalid_0's RMSPE: 0.124622\n",
      "Training until validation scores don't improve for 150 rounds.\n",
      "[100]\tvalid_0's l2: 0.000126107\tvalid_0's RMSPE: 0.151901\n",
      "[200]\tvalid_0's l2: 0.000108586\tvalid_0's RMSPE: 0.140993\n",
      "[300]\tvalid_0's l2: 0.000101262\tvalid_0's RMSPE: 0.136323\n",
      "[400]\tvalid_0's l2: 9.46901e-05\tvalid_0's RMSPE: 0.132553\n",
      "[500]\tvalid_0's l2: 9.17415e-05\tvalid_0's RMSPE: 0.130471\n",
      "[600]\tvalid_0's l2: 8.92332e-05\tvalid_0's RMSPE: 0.128692\n",
      "[700]\tvalid_0's l2: 8.74553e-05\tvalid_0's RMSPE: 0.127408\n",
      "[800]\tvalid_0's l2: 8.59062e-05\tvalid_0's RMSPE: 0.126375\n",
      "[900]\tvalid_0's l2: 8.43705e-05\tvalid_0's RMSPE: 0.125396\n",
      "[1000]\tvalid_0's l2: 8.3378e-05\tvalid_0's RMSPE: 0.124897\n",
      "[1100]\tvalid_0's l2: 8.28083e-05\tvalid_0's RMSPE: 0.124666\n",
      "[1200]\tvalid_0's l2: 8.25028e-05\tvalid_0's RMSPE: 0.124509\n",
      "[1300]\tvalid_0's l2: 8.19104e-05\tvalid_0's RMSPE: 0.124202\n",
      "[1400]\tvalid_0's l2: 8.17473e-05\tvalid_0's RMSPE: 0.12417\n",
      "[1500]\tvalid_0's l2: 8.17469e-05\tvalid_0's RMSPE: 0.124237\n",
      "[1600]\tvalid_0's l2: 8.18306e-05\tvalid_0's RMSPE: 0.124387\n",
      "Early stopping, best iteration is:\n",
      "[1491]\tvalid_0's l2: 8.14398e-05\tvalid_0's RMSPE: 0.124005\n",
      "Training until validation scores don't improve for 150 rounds.\n",
      "[100]\tvalid_0's l2: 0.000304325\tvalid_0's RMSPE: 0.156577\n",
      "[200]\tvalid_0's l2: 0.000260622\tvalid_0's RMSPE: 0.144414\n",
      "[300]\tvalid_0's l2: 0.000239678\tvalid_0's RMSPE: 0.138536\n",
      "[400]\tvalid_0's l2: 0.000227706\tvalid_0's RMSPE: 0.134934\n",
      "[500]\tvalid_0's l2: 0.000218049\tvalid_0's RMSPE: 0.13208\n",
      "[600]\tvalid_0's l2: 0.000211047\tvalid_0's RMSPE: 0.130294\n",
      "[700]\tvalid_0's l2: 0.000205817\tvalid_0's RMSPE: 0.128856\n",
      "[800]\tvalid_0's l2: 0.000201925\tvalid_0's RMSPE: 0.127876\n",
      "[900]\tvalid_0's l2: 0.000200015\tvalid_0's RMSPE: 0.127309\n",
      "[1000]\tvalid_0's l2: 0.000197432\tvalid_0's RMSPE: 0.126602\n",
      "[1100]\tvalid_0's l2: 0.000194957\tvalid_0's RMSPE: 0.126078\n",
      "[1200]\tvalid_0's l2: 0.000194094\tvalid_0's RMSPE: 0.125761\n",
      "[1300]\tvalid_0's l2: 0.00019298\tvalid_0's RMSPE: 0.12536\n",
      "[1400]\tvalid_0's l2: 0.000192179\tvalid_0's RMSPE: 0.125114\n",
      "[1500]\tvalid_0's l2: 0.000191724\tvalid_0's RMSPE: 0.125115\n",
      "[1600]\tvalid_0's l2: 0.000191928\tvalid_0's RMSPE: 0.125256\n",
      "Early stopping, best iteration is:\n",
      "[1486]\tvalid_0's l2: 0.000191502\tvalid_0's RMSPE: 0.125011\n",
      "Training until validation scores don't improve for 150 rounds.\n",
      "[100]\tvalid_0's l2: 0.000732439\tvalid_0's RMSPE: 0.154517\n",
      "[200]\tvalid_0's l2: 0.000631449\tvalid_0's RMSPE: 0.143466\n",
      "[300]\tvalid_0's l2: 0.000577266\tvalid_0's RMSPE: 0.137706\n",
      "[400]\tvalid_0's l2: 0.000535016\tvalid_0's RMSPE: 0.132643\n",
      "[500]\tvalid_0's l2: 0.0005141\tvalid_0's RMSPE: 0.130064\n",
      "[600]\tvalid_0's l2: 0.000501997\tvalid_0's RMSPE: 0.128566\n",
      "[700]\tvalid_0's l2: 0.000489171\tvalid_0's RMSPE: 0.126989\n",
      "[800]\tvalid_0's l2: 0.000480575\tvalid_0's RMSPE: 0.125871\n",
      "[900]\tvalid_0's l2: 0.000472232\tvalid_0's RMSPE: 0.124852\n",
      "[1000]\tvalid_0's l2: 0.00046757\tvalid_0's RMSPE: 0.124339\n",
      "[1100]\tvalid_0's l2: 0.000463688\tvalid_0's RMSPE: 0.123948\n",
      "[1200]\tvalid_0's l2: 0.000462058\tvalid_0's RMSPE: 0.123771\n",
      "[1300]\tvalid_0's l2: 0.000459811\tvalid_0's RMSPE: 0.123511\n",
      "[1400]\tvalid_0's l2: 0.000458537\tvalid_0's RMSPE: 0.123361\n",
      "[1500]\tvalid_0's l2: 0.000457081\tvalid_0's RMSPE: 0.123177\n",
      "[1600]\tvalid_0's l2: 0.000455428\tvalid_0's RMSPE: 0.122956\n",
      "[1700]\tvalid_0's l2: 0.000458686\tvalid_0's RMSPE: 0.12345\n",
      "Early stopping, best iteration is:\n",
      "[1584]\tvalid_0's l2: 0.000455196\tvalid_0's RMSPE: 0.122939\n",
      "Training until validation scores don't improve for 150 rounds.\n",
      "[100]\tvalid_0's l2: 0.001649\tvalid_0's RMSPE: 0.154668\n",
      "[200]\tvalid_0's l2: 0.00143403\tvalid_0's RMSPE: 0.142885\n",
      "[300]\tvalid_0's l2: 0.00132217\tvalid_0's RMSPE: 0.137016\n",
      "[400]\tvalid_0's l2: 0.00124346\tvalid_0's RMSPE: 0.132753\n",
      "[500]\tvalid_0's l2: 0.00118935\tvalid_0's RMSPE: 0.12963\n",
      "[600]\tvalid_0's l2: 0.00115729\tvalid_0's RMSPE: 0.127799\n",
      "[700]\tvalid_0's l2: 0.00113463\tvalid_0's RMSPE: 0.126466\n",
      "[800]\tvalid_0's l2: 0.00111861\tvalid_0's RMSPE: 0.125697\n",
      "[900]\tvalid_0's l2: 0.00109968\tvalid_0's RMSPE: 0.12464\n",
      "[1000]\tvalid_0's l2: 0.00108748\tvalid_0's RMSPE: 0.124035\n",
      "[1100]\tvalid_0's l2: 0.00107522\tvalid_0's RMSPE: 0.123458\n",
      "[1200]\tvalid_0's l2: 0.00106761\tvalid_0's RMSPE: 0.123137\n",
      "[1300]\tvalid_0's l2: 0.00106318\tvalid_0's RMSPE: 0.123076\n",
      "[1400]\tvalid_0's l2: 0.00106119\tvalid_0's RMSPE: 0.123106\n",
      "Early stopping, best iteration is:\n",
      "[1280]\tvalid_0's l2: 0.00106218\tvalid_0's RMSPE: 0.122938\n",
      "Training until validation scores don't improve for 150 rounds.\n",
      "[100]\tvalid_0's l2: 0.00398253\tvalid_0's RMSPE: 0.152962\n",
      "[200]\tvalid_0's l2: 0.00339476\tvalid_0's RMSPE: 0.14101\n",
      "[300]\tvalid_0's l2: 0.00312776\tvalid_0's RMSPE: 0.135404\n",
      "[400]\tvalid_0's l2: 0.00296488\tvalid_0's RMSPE: 0.131738\n",
      "[500]\tvalid_0's l2: 0.0028173\tvalid_0's RMSPE: 0.12847\n",
      "[600]\tvalid_0's l2: 0.00273785\tvalid_0's RMSPE: 0.126624\n",
      "[700]\tvalid_0's l2: 0.00266868\tvalid_0's RMSPE: 0.125254\n",
      "[800]\tvalid_0's l2: 0.00262774\tvalid_0's RMSPE: 0.124541\n",
      "[900]\tvalid_0's l2: 0.00259176\tvalid_0's RMSPE: 0.12395\n",
      "[1000]\tvalid_0's l2: 0.0025753\tvalid_0's RMSPE: 0.123727\n",
      "[1100]\tvalid_0's l2: 0.00256759\tvalid_0's RMSPE: 0.123685\n",
      "[1200]\tvalid_0's l2: 0.00255857\tvalid_0's RMSPE: 0.123513\n",
      "[1300]\tvalid_0's l2: 0.00254509\tvalid_0's RMSPE: 0.12322\n",
      "[1400]\tvalid_0's l2: 0.00254941\tvalid_0's RMSPE: 0.123457\n",
      "Early stopping, best iteration is:\n",
      "[1324]\tvalid_0's l2: 0.00254101\tvalid_0's RMSPE: 0.123132\n",
      "Training until validation scores don't improve for 150 rounds.\n",
      "[100]\tvalid_0's l2: 0.00942919\tvalid_0's RMSPE: 0.156569\n",
      "[200]\tvalid_0's l2: 0.00816135\tvalid_0's RMSPE: 0.145499\n",
      "[300]\tvalid_0's l2: 0.00753417\tvalid_0's RMSPE: 0.139576\n",
      "[400]\tvalid_0's l2: 0.00720146\tvalid_0's RMSPE: 0.136558\n",
      "[500]\tvalid_0's l2: 0.00689456\tvalid_0's RMSPE: 0.133439\n",
      "[600]\tvalid_0's l2: 0.00672672\tvalid_0's RMSPE: 0.131937\n",
      "[700]\tvalid_0's l2: 0.00657546\tvalid_0's RMSPE: 0.130366\n",
      "[800]\tvalid_0's l2: 0.00645788\tvalid_0's RMSPE: 0.129311\n",
      "[900]\tvalid_0's l2: 0.00639095\tvalid_0's RMSPE: 0.128957\n",
      "[1000]\tvalid_0's l2: 0.00635826\tvalid_0's RMSPE: 0.128891\n",
      "[1100]\tvalid_0's l2: 0.00631567\tvalid_0's RMSPE: 0.128604\n",
      "[1200]\tvalid_0's l2: 0.00628922\tvalid_0's RMSPE: 0.128516\n",
      "[1300]\tvalid_0's l2: 0.0062911\tvalid_0's RMSPE: 0.128616\n",
      "[1400]\tvalid_0's l2: 0.00626771\tvalid_0's RMSPE: 0.128401\n",
      "[1500]\tvalid_0's l2: 0.006289\tvalid_0's RMSPE: 0.128682\n",
      "Early stopping, best iteration is:\n",
      "[1422]\tvalid_0's l2: 0.00625956\tvalid_0's RMSPE: 0.128309\n",
      "Training until validation scores don't improve for 150 rounds.\n",
      "[100]\tvalid_0's l2: 0.0236331\tvalid_0's RMSPE: 0.155184\n",
      "[200]\tvalid_0's l2: 0.0205052\tvalid_0's RMSPE: 0.142595\n",
      "[300]\tvalid_0's l2: 0.0188109\tvalid_0's RMSPE: 0.137195\n",
      "[400]\tvalid_0's l2: 0.0176275\tvalid_0's RMSPE: 0.132464\n",
      "[500]\tvalid_0's l2: 0.0168873\tvalid_0's RMSPE: 0.129669\n",
      "[600]\tvalid_0's l2: 0.0165515\tvalid_0's RMSPE: 0.12823\n",
      "[700]\tvalid_0's l2: 0.0160577\tvalid_0's RMSPE: 0.12642\n",
      "[800]\tvalid_0's l2: 0.0157124\tvalid_0's RMSPE: 0.124986\n",
      "[900]\tvalid_0's l2: 0.0155001\tvalid_0's RMSPE: 0.124143\n",
      "[1000]\tvalid_0's l2: 0.0153182\tvalid_0's RMSPE: 0.123416\n",
      "[1100]\tvalid_0's l2: 0.0152137\tvalid_0's RMSPE: 0.123249\n",
      "[1200]\tvalid_0's l2: 0.0150902\tvalid_0's RMSPE: 0.122951\n",
      "[1300]\tvalid_0's l2: 0.0150327\tvalid_0's RMSPE: 0.122846\n",
      "[1400]\tvalid_0's l2: 0.0150486\tvalid_0's RMSPE: 0.12303\n",
      "Early stopping, best iteration is:\n",
      "[1310]\tvalid_0's l2: 0.0150242\tvalid_0's RMSPE: 0.122828\n",
      "Training until validation scores don't improve for 150 rounds.\n",
      "[100]\tvalid_0's l2: 0.0558297\tvalid_0's RMSPE: 0.155099\n",
      "[200]\tvalid_0's l2: 0.0491588\tvalid_0's RMSPE: 0.143963\n",
      "[300]\tvalid_0's l2: 0.0451949\tvalid_0's RMSPE: 0.137429\n",
      "[400]\tvalid_0's l2: 0.0424175\tvalid_0's RMSPE: 0.133068\n",
      "[500]\tvalid_0's l2: 0.0401912\tvalid_0's RMSPE: 0.129368\n",
      "[600]\tvalid_0's l2: 0.0391372\tvalid_0's RMSPE: 0.127483\n",
      "[700]\tvalid_0's l2: 0.0383667\tvalid_0's RMSPE: 0.126214\n",
      "[800]\tvalid_0's l2: 0.0377602\tvalid_0's RMSPE: 0.125297\n",
      "[900]\tvalid_0's l2: 0.0374422\tvalid_0's RMSPE: 0.124766\n",
      "[1000]\tvalid_0's l2: 0.0370808\tvalid_0's RMSPE: 0.124219\n",
      "[1100]\tvalid_0's l2: 0.0366408\tvalid_0's RMSPE: 0.123566\n",
      "[1200]\tvalid_0's l2: 0.0363478\tvalid_0's RMSPE: 0.12303\n",
      "[1300]\tvalid_0's l2: 0.0361944\tvalid_0's RMSPE: 0.122811\n",
      "[1400]\tvalid_0's l2: 0.0361211\tvalid_0's RMSPE: 0.122921\n",
      "[1500]\tvalid_0's l2: 0.0359731\tvalid_0's RMSPE: 0.122795\n",
      "Early stopping, best iteration is:\n",
      "[1360]\tvalid_0's l2: 0.0361005\tvalid_0's RMSPE: 0.122771\n",
      "Training until validation scores don't improve for 150 rounds.\n",
      "[100]\tvalid_0's l2: 0.142382\tvalid_0's RMSPE: 0.156539\n",
      "[200]\tvalid_0's l2: 0.125784\tvalid_0's RMSPE: 0.145448\n",
      "[300]\tvalid_0's l2: 0.116425\tvalid_0's RMSPE: 0.139469\n",
      "[400]\tvalid_0's l2: 0.109412\tvalid_0's RMSPE: 0.134714\n",
      "[500]\tvalid_0's l2: 0.105306\tvalid_0's RMSPE: 0.132059\n",
      "[600]\tvalid_0's l2: 0.101238\tvalid_0's RMSPE: 0.12942\n",
      "[700]\tvalid_0's l2: 0.098638\tvalid_0's RMSPE: 0.128039\n",
      "[800]\tvalid_0's l2: 0.096207\tvalid_0's RMSPE: 0.126596\n",
      "[900]\tvalid_0's l2: 0.0944638\tvalid_0's RMSPE: 0.125415\n",
      "[1000]\tvalid_0's l2: 0.0935716\tvalid_0's RMSPE: 0.124841\n",
      "[1100]\tvalid_0's l2: 0.0928417\tvalid_0's RMSPE: 0.124268\n",
      "[1200]\tvalid_0's l2: 0.091997\tvalid_0's RMSPE: 0.123777\n",
      "[1300]\tvalid_0's l2: 0.09173\tvalid_0's RMSPE: 0.123608\n",
      "[1400]\tvalid_0's l2: 0.0912586\tvalid_0's RMSPE: 0.123318\n",
      "[1500]\tvalid_0's l2: 0.0908434\tvalid_0's RMSPE: 0.123055\n",
      "[1600]\tvalid_0's l2: 0.090555\tvalid_0's RMSPE: 0.122816\n",
      "[1700]\tvalid_0's l2: 0.0903524\tvalid_0's RMSPE: 0.122738\n",
      "[1800]\tvalid_0's l2: 0.0899308\tvalid_0's RMSPE: 0.122513\n",
      "[1900]\tvalid_0's l2: 0.089766\tvalid_0's RMSPE: 0.122452\n",
      "[2000]\tvalid_0's l2: 0.0894644\tvalid_0's RMSPE: 0.122286\n",
      "[2100]\tvalid_0's l2: 0.0893176\tvalid_0's RMSPE: 0.122225\n",
      "[2200]\tvalid_0's l2: 0.0893213\tvalid_0's RMSPE: 0.122287\n",
      "[2300]\tvalid_0's l2: 0.0892734\tvalid_0's RMSPE: 0.122307\n",
      "Early stopping, best iteration is:\n",
      "[2187]\tvalid_0's l2: 0.0892242\tvalid_0's RMSPE: 0.122211\n",
      "Training until validation scores don't improve for 150 rounds.\n",
      "[100]\tvalid_0's l2: 0.320537\tvalid_0's RMSPE: 0.156081\n",
      "[200]\tvalid_0's l2: 0.27708\tvalid_0's RMSPE: 0.142653\n",
      "[300]\tvalid_0's l2: 0.255919\tvalid_0's RMSPE: 0.136571\n",
      "[400]\tvalid_0's l2: 0.238407\tvalid_0's RMSPE: 0.131851\n",
      "[500]\tvalid_0's l2: 0.228751\tvalid_0's RMSPE: 0.12892\n",
      "[600]\tvalid_0's l2: 0.222294\tvalid_0's RMSPE: 0.127233\n",
      "[700]\tvalid_0's l2: 0.217515\tvalid_0's RMSPE: 0.125666\n",
      "[800]\tvalid_0's l2: 0.214192\tvalid_0's RMSPE: 0.124607\n",
      "[900]\tvalid_0's l2: 0.211284\tvalid_0's RMSPE: 0.123643\n",
      "[1000]\tvalid_0's l2: 0.209128\tvalid_0's RMSPE: 0.122977\n",
      "[1100]\tvalid_0's l2: 0.207557\tvalid_0's RMSPE: 0.122529\n",
      "[1200]\tvalid_0's l2: 0.206535\tvalid_0's RMSPE: 0.122237\n",
      "[1300]\tvalid_0's l2: 0.206146\tvalid_0's RMSPE: 0.122221\n",
      "[1400]\tvalid_0's l2: 0.205846\tvalid_0's RMSPE: 0.122192\n",
      "[1500]\tvalid_0's l2: 0.205764\tvalid_0's RMSPE: 0.122259\n",
      "Early stopping, best iteration is:\n",
      "[1378]\tvalid_0's l2: 0.205445\tvalid_0's RMSPE: 0.12201\n",
      "Training until validation scores don't improve for 150 rounds.\n",
      "[100]\tvalid_0's l2: 0.789728\tvalid_0's RMSPE: 0.15711\n",
      "[200]\tvalid_0's l2: 0.691807\tvalid_0's RMSPE: 0.144282\n",
      "[300]\tvalid_0's l2: 0.639577\tvalid_0's RMSPE: 0.137959\n",
      "[400]\tvalid_0's l2: 0.606186\tvalid_0's RMSPE: 0.134071\n",
      "[500]\tvalid_0's l2: 0.58077\tvalid_0's RMSPE: 0.130913\n",
      "[600]\tvalid_0's l2: 0.560487\tvalid_0's RMSPE: 0.128507\n",
      "[700]\tvalid_0's l2: 0.549489\tvalid_0's RMSPE: 0.127321\n",
      "[800]\tvalid_0's l2: 0.539226\tvalid_0's RMSPE: 0.126058\n",
      "[900]\tvalid_0's l2: 0.534009\tvalid_0's RMSPE: 0.12552\n",
      "[1000]\tvalid_0's l2: 0.527579\tvalid_0's RMSPE: 0.124687\n",
      "[1100]\tvalid_0's l2: 0.522904\tvalid_0's RMSPE: 0.12423\n",
      "[1200]\tvalid_0's l2: 0.519863\tvalid_0's RMSPE: 0.123857\n",
      "[1300]\tvalid_0's l2: 0.519716\tvalid_0's RMSPE: 0.12398\n",
      "[1400]\tvalid_0's l2: 0.518274\tvalid_0's RMSPE: 0.123845\n",
      "[1500]\tvalid_0's l2: 0.516947\tvalid_0's RMSPE: 0.123805\n",
      "[1600]\tvalid_0's l2: 0.515803\tvalid_0's RMSPE: 0.123736\n",
      "[1700]\tvalid_0's l2: 0.517048\tvalid_0's RMSPE: 0.124017\n",
      "Early stopping, best iteration is:\n",
      "[1562]\tvalid_0's l2: 0.515504\tvalid_0's RMSPE: 0.123678\n",
      "Training until validation scores don't improve for 150 rounds.\n",
      "[100]\tvalid_0's l2: 1.81545\tvalid_0's RMSPE: 0.154634\n",
      "[200]\tvalid_0's l2: 1.61446\tvalid_0's RMSPE: 0.144058\n",
      "[300]\tvalid_0's l2: 1.50278\tvalid_0's RMSPE: 0.137671\n",
      "[400]\tvalid_0's l2: 1.42906\tvalid_0's RMSPE: 0.133746\n",
      "[500]\tvalid_0's l2: 1.37802\tvalid_0's RMSPE: 0.130755\n",
      "[600]\tvalid_0's l2: 1.33728\tvalid_0's RMSPE: 0.128415\n",
      "[700]\tvalid_0's l2: 1.30372\tvalid_0's RMSPE: 0.126459\n",
      "[800]\tvalid_0's l2: 1.28679\tvalid_0's RMSPE: 0.125566\n",
      "[900]\tvalid_0's l2: 1.27305\tvalid_0's RMSPE: 0.124911\n",
      "[1000]\tvalid_0's l2: 1.2521\tvalid_0's RMSPE: 0.123991\n",
      "[1100]\tvalid_0's l2: 1.24411\tvalid_0's RMSPE: 0.123731\n",
      "[1200]\tvalid_0's l2: 1.23696\tvalid_0's RMSPE: 0.12346\n",
      "[1300]\tvalid_0's l2: 1.23443\tvalid_0's RMSPE: 0.123516\n",
      "[1400]\tvalid_0's l2: 1.22697\tvalid_0's RMSPE: 0.123128\n",
      "[1500]\tvalid_0's l2: 1.22666\tvalid_0's RMSPE: 0.123058\n",
      "[1600]\tvalid_0's l2: 1.23097\tvalid_0's RMSPE: 0.123405\n",
      "Early stopping, best iteration is:\n",
      "[1464]\tvalid_0's l2: 1.22456\tvalid_0's RMSPE: 0.122984\n",
      "Training until validation scores don't improve for 150 rounds.\n",
      "[100]\tvalid_0's l2: 4.48196\tvalid_0's RMSPE: 0.15579\n",
      "[200]\tvalid_0's l2: 3.92439\tvalid_0's RMSPE: 0.142902\n",
      "[300]\tvalid_0's l2: 3.6231\tvalid_0's RMSPE: 0.136418\n",
      "[400]\tvalid_0's l2: 3.42721\tvalid_0's RMSPE: 0.132228\n",
      "[500]\tvalid_0's l2: 3.25675\tvalid_0's RMSPE: 0.128191\n",
      "[600]\tvalid_0's l2: 3.13859\tvalid_0's RMSPE: 0.125462\n",
      "[700]\tvalid_0's l2: 3.08133\tvalid_0's RMSPE: 0.124359\n",
      "[800]\tvalid_0's l2: 3.03213\tvalid_0's RMSPE: 0.123506\n",
      "[900]\tvalid_0's l2: 2.9864\tvalid_0's RMSPE: 0.122763\n",
      "[1000]\tvalid_0's l2: 2.95077\tvalid_0's RMSPE: 0.121993\n",
      "[1100]\tvalid_0's l2: 2.91869\tvalid_0's RMSPE: 0.121481\n",
      "[1200]\tvalid_0's l2: 2.90467\tvalid_0's RMSPE: 0.121257\n",
      "[1300]\tvalid_0's l2: 2.90105\tvalid_0's RMSPE: 0.121279\n",
      "Early stopping, best iteration is:\n",
      "[1234]\tvalid_0's l2: 2.90127\tvalid_0's RMSPE: 0.121183\n",
      "Training until validation scores don't improve for 150 rounds.\n",
      "[100]\tvalid_0's l2: 11.033\tvalid_0's RMSPE: 0.159177\n",
      "[200]\tvalid_0's l2: 9.83646\tvalid_0's RMSPE: 0.148221\n",
      "[300]\tvalid_0's l2: 9.09821\tvalid_0's RMSPE: 0.140758\n",
      "[400]\tvalid_0's l2: 8.58306\tvalid_0's RMSPE: 0.136398\n",
      "[500]\tvalid_0's l2: 8.28932\tvalid_0's RMSPE: 0.133524\n",
      "[600]\tvalid_0's l2: 8.05223\tvalid_0's RMSPE: 0.131297\n",
      "[700]\tvalid_0's l2: 7.84497\tvalid_0's RMSPE: 0.129316\n",
      "[800]\tvalid_0's l2: 7.72818\tvalid_0's RMSPE: 0.128217\n",
      "[900]\tvalid_0's l2: 7.6189\tvalid_0's RMSPE: 0.127287\n",
      "[1000]\tvalid_0's l2: 7.57549\tvalid_0's RMSPE: 0.12702\n",
      "[1100]\tvalid_0's l2: 7.54076\tvalid_0's RMSPE: 0.126857\n",
      "[1200]\tvalid_0's l2: 7.50447\tvalid_0's RMSPE: 0.126586\n",
      "[1300]\tvalid_0's l2: 7.48632\tvalid_0's RMSPE: 0.126475\n",
      "[1400]\tvalid_0's l2: 7.47059\tvalid_0's RMSPE: 0.126459\n",
      "[1500]\tvalid_0's l2: 7.47345\tvalid_0's RMSPE: 0.12659\n",
      "Early stopping, best iteration is:\n",
      "[1351]\tvalid_0's l2: 7.46114\tvalid_0's RMSPE: 0.126333\n",
      "Training until validation scores don't improve for 150 rounds.\n",
      "[100]\tvalid_0's l2: 26.7343\tvalid_0's RMSPE: 0.156656\n",
      "[200]\tvalid_0's l2: 23.8461\tvalid_0's RMSPE: 0.14456\n",
      "[300]\tvalid_0's l2: 22.1968\tvalid_0's RMSPE: 0.138146\n",
      "[400]\tvalid_0's l2: 21.0302\tvalid_0's RMSPE: 0.133726\n",
      "[500]\tvalid_0's l2: 20.208\tvalid_0's RMSPE: 0.130599\n",
      "[600]\tvalid_0's l2: 19.4903\tvalid_0's RMSPE: 0.128646\n",
      "[700]\tvalid_0's l2: 19.0767\tvalid_0's RMSPE: 0.127149\n",
      "[800]\tvalid_0's l2: 18.7911\tvalid_0's RMSPE: 0.125886\n",
      "[900]\tvalid_0's l2: 18.6068\tvalid_0's RMSPE: 0.12525\n",
      "[1000]\tvalid_0's l2: 18.3419\tvalid_0's RMSPE: 0.12442\n",
      "[1100]\tvalid_0's l2: 18.1573\tvalid_0's RMSPE: 0.12383\n",
      "[1200]\tvalid_0's l2: 17.9981\tvalid_0's RMSPE: 0.123256\n",
      "[1300]\tvalid_0's l2: 17.9466\tvalid_0's RMSPE: 0.123052\n",
      "[1400]\tvalid_0's l2: 17.8689\tvalid_0's RMSPE: 0.122747\n",
      "[1500]\tvalid_0's l2: 17.8455\tvalid_0's RMSPE: 0.122768\n",
      "[1600]\tvalid_0's l2: 17.8513\tvalid_0's RMSPE: 0.12291\n",
      "Early stopping, best iteration is:\n",
      "[1465]\tvalid_0's l2: 17.8431\tvalid_0's RMSPE: 0.122674\n",
      "Training until validation scores don't improve for 150 rounds.\n",
      "[100]\tvalid_0's l2: 64.388\tvalid_0's RMSPE: 0.15897\n",
      "[200]\tvalid_0's l2: 56.9098\tvalid_0's RMSPE: 0.1458\n",
      "[300]\tvalid_0's l2: 53.1762\tvalid_0's RMSPE: 0.140072\n",
      "[400]\tvalid_0's l2: 50.5276\tvalid_0's RMSPE: 0.135964\n",
      "[500]\tvalid_0's l2: 48.7297\tvalid_0's RMSPE: 0.133165\n",
      "[600]\tvalid_0's l2: 47.0544\tvalid_0's RMSPE: 0.130882\n",
      "[700]\tvalid_0's l2: 46.202\tvalid_0's RMSPE: 0.129774\n",
      "[800]\tvalid_0's l2: 45.5598\tvalid_0's RMSPE: 0.128575\n",
      "[900]\tvalid_0's l2: 45.0282\tvalid_0's RMSPE: 0.127763\n",
      "[1000]\tvalid_0's l2: 44.5515\tvalid_0's RMSPE: 0.12721\n",
      "[1100]\tvalid_0's l2: 44.1685\tvalid_0's RMSPE: 0.12681\n",
      "[1200]\tvalid_0's l2: 43.8514\tvalid_0's RMSPE: 0.126411\n",
      "[1300]\tvalid_0's l2: 43.6563\tvalid_0's RMSPE: 0.126231\n",
      "[1400]\tvalid_0's l2: 43.6368\tvalid_0's RMSPE: 0.12631\n",
      "[1500]\tvalid_0's l2: 43.5873\tvalid_0's RMSPE: 0.126282\n",
      "Early stopping, best iteration is:\n",
      "[1361]\tvalid_0's l2: 43.5419\tvalid_0's RMSPE: 0.126068\n",
      "Training until validation scores don't improve for 150 rounds.\n",
      "[100]\tvalid_0's l2: 157.617\tvalid_0's RMSPE: 0.160933\n",
      "[200]\tvalid_0's l2: 137.911\tvalid_0's RMSPE: 0.146624\n",
      "[300]\tvalid_0's l2: 128.094\tvalid_0's RMSPE: 0.13908\n",
      "[400]\tvalid_0's l2: 121.21\tvalid_0's RMSPE: 0.134286\n",
      "[500]\tvalid_0's l2: 116.61\tvalid_0's RMSPE: 0.131698\n",
      "[600]\tvalid_0's l2: 113.698\tvalid_0's RMSPE: 0.129319\n",
      "[700]\tvalid_0's l2: 111.766\tvalid_0's RMSPE: 0.127801\n",
      "[800]\tvalid_0's l2: 109.973\tvalid_0's RMSPE: 0.126994\n",
      "[900]\tvalid_0's l2: 109.324\tvalid_0's RMSPE: 0.126581\n",
      "[1000]\tvalid_0's l2: 108.328\tvalid_0's RMSPE: 0.125933\n",
      "[1100]\tvalid_0's l2: 107.62\tvalid_0's RMSPE: 0.125517\n",
      "[1200]\tvalid_0's l2: 107.105\tvalid_0's RMSPE: 0.125131\n",
      "[1300]\tvalid_0's l2: 107.047\tvalid_0's RMSPE: 0.12509\n",
      "[1400]\tvalid_0's l2: 106.566\tvalid_0's RMSPE: 0.124835\n",
      "[1500]\tvalid_0's l2: 106.821\tvalid_0's RMSPE: 0.125142\n",
      "Early stopping, best iteration is:\n",
      "[1432]\tvalid_0's l2: 106.502\tvalid_0's RMSPE: 0.124789\n",
      "Training until validation scores don't improve for 150 rounds.\n",
      "[100]\tvalid_0's l2: 393.82\tvalid_0's RMSPE: 0.159534\n",
      "[200]\tvalid_0's l2: 350.281\tvalid_0's RMSPE: 0.146158\n",
      "[300]\tvalid_0's l2: 330.831\tvalid_0's RMSPE: 0.139985\n",
      "[400]\tvalid_0's l2: 310.738\tvalid_0's RMSPE: 0.13505\n",
      "[500]\tvalid_0's l2: 298.689\tvalid_0's RMSPE: 0.131447\n",
      "[600]\tvalid_0's l2: 293.961\tvalid_0's RMSPE: 0.129751\n",
      "[700]\tvalid_0's l2: 289.016\tvalid_0's RMSPE: 0.12819\n",
      "[800]\tvalid_0's l2: 282.931\tvalid_0's RMSPE: 0.126568\n",
      "[900]\tvalid_0's l2: 279.074\tvalid_0's RMSPE: 0.125566\n",
      "[1000]\tvalid_0's l2: 275.413\tvalid_0's RMSPE: 0.124798\n",
      "[1100]\tvalid_0's l2: 273.363\tvalid_0's RMSPE: 0.124437\n",
      "[1200]\tvalid_0's l2: 271.93\tvalid_0's RMSPE: 0.12398\n",
      "[1300]\tvalid_0's l2: 270.26\tvalid_0's RMSPE: 0.123684\n",
      "[1400]\tvalid_0's l2: 269.187\tvalid_0's RMSPE: 0.123473\n",
      "[1500]\tvalid_0's l2: 268.836\tvalid_0's RMSPE: 0.123391\n",
      "[1600]\tvalid_0's l2: 267.482\tvalid_0's RMSPE: 0.123221\n",
      "[1700]\tvalid_0's l2: 266.441\tvalid_0's RMSPE: 0.123035\n",
      "[1800]\tvalid_0's l2: 266.92\tvalid_0's RMSPE: 0.123122\n",
      "Early stopping, best iteration is:\n",
      "[1713]\tvalid_0's l2: 266.37\tvalid_0's RMSPE: 0.123006\n",
      "Training until validation scores don't improve for 150 rounds.\n",
      "[100]\tvalid_0's l2: 912.136\tvalid_0's RMSPE: 0.162575\n",
      "[200]\tvalid_0's l2: 799.469\tvalid_0's RMSPE: 0.147499\n",
      "[300]\tvalid_0's l2: 757.975\tvalid_0's RMSPE: 0.142706\n",
      "[400]\tvalid_0's l2: 722.53\tvalid_0's RMSPE: 0.138713\n",
      "[500]\tvalid_0's l2: 697.566\tvalid_0's RMSPE: 0.135662\n",
      "[600]\tvalid_0's l2: 674.276\tvalid_0's RMSPE: 0.133244\n",
      "[700]\tvalid_0's l2: 661.141\tvalid_0's RMSPE: 0.131576\n",
      "[800]\tvalid_0's l2: 654.012\tvalid_0's RMSPE: 0.130657\n",
      "[900]\tvalid_0's l2: 646.038\tvalid_0's RMSPE: 0.129512\n",
      "[1000]\tvalid_0's l2: 640.758\tvalid_0's RMSPE: 0.128884\n",
      "[1100]\tvalid_0's l2: 638.007\tvalid_0's RMSPE: 0.128695\n",
      "[1200]\tvalid_0's l2: 636.457\tvalid_0's RMSPE: 0.128559\n",
      "[1300]\tvalid_0's l2: 634.144\tvalid_0's RMSPE: 0.128243\n",
      "[1400]\tvalid_0's l2: 630.608\tvalid_0's RMSPE: 0.127899\n",
      "[1500]\tvalid_0's l2: 628.673\tvalid_0's RMSPE: 0.127696\n",
      "[1600]\tvalid_0's l2: 628.656\tvalid_0's RMSPE: 0.127813\n",
      "Early stopping, best iteration is:\n",
      "[1497]\tvalid_0's l2: 628.642\tvalid_0's RMSPE: 0.127684\n",
      "Training until validation scores don't improve for 150 rounds.\n",
      "[100]\tvalid_0's l2: 2328.01\tvalid_0's RMSPE: 0.161405\n",
      "[200]\tvalid_0's l2: 2050.34\tvalid_0's RMSPE: 0.145988\n",
      "[300]\tvalid_0's l2: 1933.05\tvalid_0's RMSPE: 0.140166\n",
      "[400]\tvalid_0's l2: 1840.89\tvalid_0's RMSPE: 0.135824\n",
      "[500]\tvalid_0's l2: 1788.12\tvalid_0's RMSPE: 0.132976\n",
      "[600]\tvalid_0's l2: 1740.49\tvalid_0's RMSPE: 0.131591\n",
      "[700]\tvalid_0's l2: 1689.92\tvalid_0's RMSPE: 0.129346\n",
      "[800]\tvalid_0's l2: 1662.37\tvalid_0's RMSPE: 0.127875\n",
      "[900]\tvalid_0's l2: 1639.09\tvalid_0's RMSPE: 0.126742\n",
      "[1000]\tvalid_0's l2: 1624.45\tvalid_0's RMSPE: 0.126024\n",
      "[1100]\tvalid_0's l2: 1610.91\tvalid_0's RMSPE: 0.125275\n",
      "[1200]\tvalid_0's l2: 1608.65\tvalid_0's RMSPE: 0.125048\n",
      "[1300]\tvalid_0's l2: 1604.28\tvalid_0's RMSPE: 0.124932\n",
      "[1400]\tvalid_0's l2: 1602.85\tvalid_0's RMSPE: 0.124958\n",
      "[1500]\tvalid_0's l2: 1600.06\tvalid_0's RMSPE: 0.124784\n",
      "[1600]\tvalid_0's l2: 1596.17\tvalid_0's RMSPE: 0.124503\n",
      "[1700]\tvalid_0's l2: 1592.7\tvalid_0's RMSPE: 0.124351\n",
      "[1800]\tvalid_0's l2: 1593.3\tvalid_0's RMSPE: 0.124362\n",
      "Early stopping, best iteration is:\n",
      "[1718]\tvalid_0's l2: 1592.5\tvalid_0's RMSPE: 0.124328\n",
      "Training until validation scores don't improve for 150 rounds.\n",
      "[100]\tvalid_0's l2: 5736.79\tvalid_0's RMSPE: 0.160832\n",
      "[200]\tvalid_0's l2: 5115.14\tvalid_0's RMSPE: 0.147141\n",
      "[300]\tvalid_0's l2: 4768.85\tvalid_0's RMSPE: 0.139127\n",
      "[400]\tvalid_0's l2: 4559.82\tvalid_0's RMSPE: 0.134407\n",
      "[500]\tvalid_0's l2: 4333.24\tvalid_0's RMSPE: 0.130472\n",
      "[600]\tvalid_0's l2: 4254.05\tvalid_0's RMSPE: 0.129102\n",
      "[700]\tvalid_0's l2: 4152.45\tvalid_0's RMSPE: 0.126882\n",
      "[800]\tvalid_0's l2: 4094.85\tvalid_0's RMSPE: 0.125662\n",
      "[900]\tvalid_0's l2: 4042.46\tvalid_0's RMSPE: 0.124914\n",
      "[1000]\tvalid_0's l2: 4007.8\tvalid_0's RMSPE: 0.124229\n",
      "[1100]\tvalid_0's l2: 3982.32\tvalid_0's RMSPE: 0.123851\n",
      "[1200]\tvalid_0's l2: 3973.4\tvalid_0's RMSPE: 0.123656\n",
      "[1300]\tvalid_0's l2: 3951.6\tvalid_0's RMSPE: 0.123442\n",
      "[1400]\tvalid_0's l2: 3935.87\tvalid_0's RMSPE: 0.123181\n",
      "[1500]\tvalid_0's l2: 3923.12\tvalid_0's RMSPE: 0.123007\n",
      "[1600]\tvalid_0's l2: 3936.04\tvalid_0's RMSPE: 0.123421\n",
      "Early stopping, best iteration is:\n",
      "[1515]\tvalid_0's l2: 3922.04\tvalid_0's RMSPE: 0.122984\n",
      "Training until validation scores don't improve for 150 rounds.\n",
      "[100]\tvalid_0's l2: 14089.9\tvalid_0's RMSPE: 0.162077\n",
      "[200]\tvalid_0's l2: 12557.6\tvalid_0's RMSPE: 0.149143\n",
      "[300]\tvalid_0's l2: 11759.7\tvalid_0's RMSPE: 0.141754\n",
      "[400]\tvalid_0's l2: 11284.7\tvalid_0's RMSPE: 0.136821\n",
      "[500]\tvalid_0's l2: 10959\tvalid_0's RMSPE: 0.133281\n",
      "[600]\tvalid_0's l2: 10679.6\tvalid_0's RMSPE: 0.130781\n",
      "[700]\tvalid_0's l2: 10501.6\tvalid_0's RMSPE: 0.129426\n",
      "[800]\tvalid_0's l2: 10297.9\tvalid_0's RMSPE: 0.12765\n",
      "[900]\tvalid_0's l2: 10148\tvalid_0's RMSPE: 0.126711\n",
      "[1000]\tvalid_0's l2: 10030.5\tvalid_0's RMSPE: 0.125981\n",
      "[1100]\tvalid_0's l2: 9977.98\tvalid_0's RMSPE: 0.125597\n",
      "[1200]\tvalid_0's l2: 9937.93\tvalid_0's RMSPE: 0.125399\n",
      "[1300]\tvalid_0's l2: 9888.24\tvalid_0's RMSPE: 0.125143\n",
      "[1400]\tvalid_0's l2: 9857.1\tvalid_0's RMSPE: 0.125024\n",
      "[1500]\tvalid_0's l2: 9822.21\tvalid_0's RMSPE: 0.124786\n",
      "[1600]\tvalid_0's l2: 9783.02\tvalid_0's RMSPE: 0.124372\n",
      "[1700]\tvalid_0's l2: 9771.67\tvalid_0's RMSPE: 0.124514\n",
      "Early stopping, best iteration is:\n",
      "[1633]\tvalid_0's l2: 9763.09\tvalid_0's RMSPE: 0.124279\n",
      "Training until validation scores don't improve for 150 rounds.\n",
      "[100]\tvalid_0's l2: 34096\tvalid_0's RMSPE: 0.165122\n",
      "[200]\tvalid_0's l2: 30952.7\tvalid_0's RMSPE: 0.154382\n",
      "[300]\tvalid_0's l2: 28865.6\tvalid_0's RMSPE: 0.147443\n",
      "[400]\tvalid_0's l2: 27637.5\tvalid_0's RMSPE: 0.142327\n",
      "[500]\tvalid_0's l2: 26542.5\tvalid_0's RMSPE: 0.139113\n",
      "[600]\tvalid_0's l2: 25831.3\tvalid_0's RMSPE: 0.137156\n",
      "[700]\tvalid_0's l2: 25352\tvalid_0's RMSPE: 0.135492\n",
      "[800]\tvalid_0's l2: 25045.6\tvalid_0's RMSPE: 0.134432\n",
      "[900]\tvalid_0's l2: 24802.4\tvalid_0's RMSPE: 0.133312\n",
      "[1000]\tvalid_0's l2: 24586.7\tvalid_0's RMSPE: 0.13254\n",
      "[1100]\tvalid_0's l2: 24385\tvalid_0's RMSPE: 0.131891\n",
      "[1200]\tvalid_0's l2: 24300\tvalid_0's RMSPE: 0.13174\n",
      "[1300]\tvalid_0's l2: 24238.7\tvalid_0's RMSPE: 0.131615\n",
      "[1400]\tvalid_0's l2: 24197.4\tvalid_0's RMSPE: 0.131504\n",
      "[1500]\tvalid_0's l2: 24124.5\tvalid_0's RMSPE: 0.131397\n",
      "[1600]\tvalid_0's l2: 24097.4\tvalid_0's RMSPE: 0.1314\n",
      "[1700]\tvalid_0's l2: 24101.2\tvalid_0's RMSPE: 0.131363\n",
      "[1800]\tvalid_0's l2: 24100\tvalid_0's RMSPE: 0.131384\n",
      "Early stopping, best iteration is:\n",
      "[1683]\tvalid_0's l2: 24031.1\tvalid_0's RMSPE: 0.131201\n",
      "Training until validation scores don't improve for 150 rounds.\n",
      "[100]\tvalid_0's l2: 84634.1\tvalid_0's RMSPE: 0.158704\n",
      "[200]\tvalid_0's l2: 75353\tvalid_0's RMSPE: 0.147436\n",
      "[300]\tvalid_0's l2: 69943.9\tvalid_0's RMSPE: 0.138372\n",
      "[400]\tvalid_0's l2: 66728.3\tvalid_0's RMSPE: 0.133112\n",
      "[500]\tvalid_0's l2: 64969\tvalid_0's RMSPE: 0.131069\n",
      "[600]\tvalid_0's l2: 63442.1\tvalid_0's RMSPE: 0.129506\n",
      "[700]\tvalid_0's l2: 61785.6\tvalid_0's RMSPE: 0.127382\n",
      "[800]\tvalid_0's l2: 60823.6\tvalid_0's RMSPE: 0.126175\n",
      "[900]\tvalid_0's l2: 59899.3\tvalid_0's RMSPE: 0.124793\n",
      "[1000]\tvalid_0's l2: 59159.6\tvalid_0's RMSPE: 0.123978\n",
      "[1100]\tvalid_0's l2: 58749.9\tvalid_0's RMSPE: 0.123486\n",
      "[1200]\tvalid_0's l2: 58459.7\tvalid_0's RMSPE: 0.123109\n",
      "[1300]\tvalid_0's l2: 58288.6\tvalid_0's RMSPE: 0.122928\n",
      "[1400]\tvalid_0's l2: 58230\tvalid_0's RMSPE: 0.122784\n",
      "[1500]\tvalid_0's l2: 58127.4\tvalid_0's RMSPE: 0.12277\n",
      "[1600]\tvalid_0's l2: 57884.4\tvalid_0's RMSPE: 0.122435\n",
      "[1700]\tvalid_0's l2: 57792.1\tvalid_0's RMSPE: 0.12234\n",
      "[1800]\tvalid_0's l2: 57829.5\tvalid_0's RMSPE: 0.122363\n",
      "Early stopping, best iteration is:\n",
      "[1743]\tvalid_0's l2: 57744.9\tvalid_0's RMSPE: 0.122286\n",
      "Training until validation scores don't improve for 150 rounds.\n",
      "[100]\tvalid_0's l2: 209999\tvalid_0's RMSPE: 0.166614\n",
      "[200]\tvalid_0's l2: 187710\tvalid_0's RMSPE: 0.15096\n",
      "[300]\tvalid_0's l2: 176312\tvalid_0's RMSPE: 0.142926\n",
      "[400]\tvalid_0's l2: 167953\tvalid_0's RMSPE: 0.138817\n",
      "[500]\tvalid_0's l2: 162447\tvalid_0's RMSPE: 0.134502\n",
      "[600]\tvalid_0's l2: 159114\tvalid_0's RMSPE: 0.132653\n",
      "[700]\tvalid_0's l2: 156376\tvalid_0's RMSPE: 0.131034\n",
      "[800]\tvalid_0's l2: 153827\tvalid_0's RMSPE: 0.129176\n",
      "[900]\tvalid_0's l2: 152392\tvalid_0's RMSPE: 0.128255\n",
      "[1000]\tvalid_0's l2: 151325\tvalid_0's RMSPE: 0.127767\n",
      "[1100]\tvalid_0's l2: 149640\tvalid_0's RMSPE: 0.127001\n",
      "[1200]\tvalid_0's l2: 148762\tvalid_0's RMSPE: 0.126699\n",
      "[1300]\tvalid_0's l2: 148210\tvalid_0's RMSPE: 0.126486\n",
      "[1400]\tvalid_0's l2: 148031\tvalid_0's RMSPE: 0.126399\n",
      "[1500]\tvalid_0's l2: 147494\tvalid_0's RMSPE: 0.12624\n",
      "[1600]\tvalid_0's l2: 146993\tvalid_0's RMSPE: 0.125929\n",
      "[1700]\tvalid_0's l2: 146578\tvalid_0's RMSPE: 0.125637\n",
      "[1800]\tvalid_0's l2: 146144\tvalid_0's RMSPE: 0.125412\n",
      "[1900]\tvalid_0's l2: 145802\tvalid_0's RMSPE: 0.125193\n",
      "[2000]\tvalid_0's l2: 145611\tvalid_0's RMSPE: 0.124999\n",
      "[2100]\tvalid_0's l2: 145395\tvalid_0's RMSPE: 0.125025\n",
      "[2200]\tvalid_0's l2: 145005\tvalid_0's RMSPE: 0.124868\n",
      "[2300]\tvalid_0's l2: 145201\tvalid_0's RMSPE: 0.125016\n",
      "Early stopping, best iteration is:\n",
      "[2182]\tvalid_0's l2: 144996\tvalid_0's RMSPE: 0.124797\n",
      "Training until validation scores don't improve for 150 rounds.\n",
      "[100]\tvalid_0's l2: 527288\tvalid_0's RMSPE: 0.165237\n",
      "[200]\tvalid_0's l2: 468751\tvalid_0's RMSPE: 0.149675\n",
      "[300]\tvalid_0's l2: 435512\tvalid_0's RMSPE: 0.140561\n",
      "[400]\tvalid_0's l2: 418670\tvalid_0's RMSPE: 0.136244\n",
      "[500]\tvalid_0's l2: 404974\tvalid_0's RMSPE: 0.132594\n",
      "[600]\tvalid_0's l2: 397953\tvalid_0's RMSPE: 0.13018\n",
      "[700]\tvalid_0's l2: 391261\tvalid_0's RMSPE: 0.128797\n",
      "[800]\tvalid_0's l2: 386057\tvalid_0's RMSPE: 0.127759\n",
      "[900]\tvalid_0's l2: 380560\tvalid_0's RMSPE: 0.126691\n",
      "[1000]\tvalid_0's l2: 377588\tvalid_0's RMSPE: 0.125865\n",
      "[1100]\tvalid_0's l2: 376826\tvalid_0's RMSPE: 0.125488\n",
      "[1200]\tvalid_0's l2: 374454\tvalid_0's RMSPE: 0.124938\n",
      "[1300]\tvalid_0's l2: 372811\tvalid_0's RMSPE: 0.124481\n",
      "[1400]\tvalid_0's l2: 372057\tvalid_0's RMSPE: 0.124405\n",
      "[1500]\tvalid_0's l2: 370416\tvalid_0's RMSPE: 0.124259\n",
      "[1600]\tvalid_0's l2: 369156\tvalid_0's RMSPE: 0.124111\n",
      "[1700]\tvalid_0's l2: 368973\tvalid_0's RMSPE: 0.124231\n",
      "Early stopping, best iteration is:\n",
      "[1613]\tvalid_0's l2: 369021\tvalid_0's RMSPE: 0.124051\n",
      "Training until validation scores don't improve for 150 rounds.\n",
      "[100]\tvalid_0's l2: 1.29837e+06\tvalid_0's RMSPE: 0.164828\n",
      "[200]\tvalid_0's l2: 1.17894e+06\tvalid_0's RMSPE: 0.150299\n",
      "[300]\tvalid_0's l2: 1.10517e+06\tvalid_0's RMSPE: 0.142392\n",
      "[400]\tvalid_0's l2: 1.0662e+06\tvalid_0's RMSPE: 0.137247\n",
      "[500]\tvalid_0's l2: 1.03137e+06\tvalid_0's RMSPE: 0.13339\n",
      "[600]\tvalid_0's l2: 1.00933e+06\tvalid_0's RMSPE: 0.130459\n",
      "[700]\tvalid_0's l2: 987317\tvalid_0's RMSPE: 0.127922\n",
      "[800]\tvalid_0's l2: 972735\tvalid_0's RMSPE: 0.126486\n",
      "[900]\tvalid_0's l2: 963313\tvalid_0's RMSPE: 0.125517\n",
      "[1000]\tvalid_0's l2: 954189\tvalid_0's RMSPE: 0.124861\n",
      "[1100]\tvalid_0's l2: 947450\tvalid_0's RMSPE: 0.124519\n",
      "[1200]\tvalid_0's l2: 941922\tvalid_0's RMSPE: 0.124155\n",
      "[1300]\tvalid_0's l2: 936827\tvalid_0's RMSPE: 0.123824\n",
      "[1400]\tvalid_0's l2: 933553\tvalid_0's RMSPE: 0.123635\n",
      "[1500]\tvalid_0's l2: 930821\tvalid_0's RMSPE: 0.123434\n",
      "[1600]\tvalid_0's l2: 930323\tvalid_0's RMSPE: 0.123372\n",
      "[1700]\tvalid_0's l2: 927585\tvalid_0's RMSPE: 0.123067\n",
      "[1800]\tvalid_0's l2: 927261\tvalid_0's RMSPE: 0.123249\n",
      "Early stopping, best iteration is:\n",
      "[1701]\tvalid_0's l2: 927630\tvalid_0's RMSPE: 0.123062\n"
     ]
    }
   ],
   "source": [
    "boxcox_scores = []\n",
    "mus = np.linspace(-1, 1, 41)\n",
    "for mu in mus:\n",
    "    \n",
    "    shift = 1\n",
    "    y_train_boxcox = box_cox(y_train, mu, shift)\n",
    "    y_val_boxcox = box_cox(y_val, mu, shift)\n",
    "    \n",
    "    lgbm_boxcox = LGBMRegressor(num_leaves=70, max_depth=-1, learning_rate=0.09, n_estimators=5000, random_state=205)\n",
    "    lgbm_boxcox.fit(X_train, y_train_boxcox,\n",
    "                                        eval_set=[(X_val, y_val_boxcox)],\n",
    "                            eval_metric=lambda y_true, y_pred: ('RMSPE', box_cox_RMSPE(y_true, y_pred, mu, shift), False),\n",
    "                                        early_stopping_rounds=150,\n",
    "                                        verbose=100,\n",
    "    )\n",
    "    boxcox_scores.append(box_cox_RMSPE(y_val_boxcox, lgbm_boxcox.predict(X_val), mu, shift))"
   ]
  },
  {
   "cell_type": "code",
   "execution_count": null,
   "id": "wireless-advertiser",
   "metadata": {
    "colab": {
     "base_uri": "https://localhost:8080/",
     "height": 458
    },
    "id": "mZ4DIcrBSzlS",
    "outputId": "a585bb51-0017-4a08-ad7f-ccd6cd231b3b"
   },
   "outputs": [
    {
     "data": {
      "image/png": "[encoded data removed]",
      "text/plain": [
       "<Figure size 864x504 with 1 Axes>"
      ]
     },
     "metadata": {
      "needs_background": "light"
     },
     "output_type": "display_data"
    }
   ],
   "source": [
    "plt.figure(figsize=(12, 7))\n",
    "plt.plot(mus, boxcox_scores)\n",
    "plt.xlabel('mu')\n",
    "plt.ylabel('rmspe')\n",
    "plt.title('rmspe of lgbm with box-cox')\n",
    "plt.show()"
   ]
  },
  {
   "cell_type": "code",
   "execution_count": null,
   "id": "skilled-treatment",
   "metadata": {
    "colab": {
     "base_uri": "https://localhost:8080/"
    },
    "id": "wbg3ANo7Szd0",
    "outputId": "8d10be66-e043-4a10-d5a1-4d2f9c7266a1"
   },
   "outputs": [
    {
     "name": "stdout",
     "output_type": "stream",
     "text": [
      "The minimum rmspe: 0.1211832864962335\n",
      "The mu parameter: 0.30000000000000004\n"
     ]
    }
   ],
   "source": [
    "print('The minimum rmspe:', min(boxcox_scores))\n",
    "print('The mu parameter:', mus[np.argmin(boxcox_scores)])"
   ]
  },
  {
   "cell_type": "code",
   "execution_count": null,
   "id": "refined-steel",
   "metadata": {
    "id": "56ay9XjwSzYx"
   },
   "outputs": [],
   "source": [
    "mu = 0.3\n",
    "shift = 1\n",
    "y_train_boxcox = box_cox(y_train, mu, shift)\n",
    "y_val_boxcox = box_cox(y_val, mu, shift)"
   ]
  },
  {
   "cell_type": "code",
   "execution_count": null,
   "id": "coordinated-joseph",
   "metadata": {
    "id": "UAc-iJ-bkJXZ"
   },
   "outputs": [],
   "source": []
  },
  {
   "cell_type": "code",
   "execution_count": null,
   "id": "immune-porter",
   "metadata": {
    "id": "color-green"
   },
   "outputs": [],
   "source": []
  },
  {
   "cell_type": "markdown",
   "id": "spread-subject",
   "metadata": {
    "id": "romance-egyptian"
   },
   "source": [
    "# Linear Regression"
   ]
  },
  {
   "cell_type": "code",
   "execution_count": null,
   "id": "requested-possession",
   "metadata": {
    "ExecuteTime": {
     "end_time": "2021-11-29T07:48:33.881499Z",
     "start_time": "2021-11-29T07:48:33.783655Z"
    },
    "colab": {
     "base_uri": "https://localhost:8080/",
     "height": 226
    },
    "execution": {
     "iopub.execute_input": "2021-12-11T15:36:38.228312Z",
     "iopub.status.busy": "2021-12-11T15:36:38.227311Z",
     "iopub.status.idle": "2021-12-11T15:36:38.308178Z",
     "shell.execute_reply": "2021-12-11T15:36:38.305184Z",
     "shell.execute_reply.started": "2021-12-11T15:36:38.228312Z"
    },
    "id": "registered-authorization",
    "outputId": "b02e0af7-8175-47f2-d845-fdd138f7030a",
    "scrolled": true,
    "tags": []
   },
   "outputs": [
    {
     "data": {
      "text/html": [
       "<div>\n",
       "<style scoped>\n",
       "    .dataframe tbody tr th:only-of-type {\n",
       "        vertical-align: middle;\n",
       "    }\n",
       "\n",
       "    .dataframe tbody tr th {\n",
       "        vertical-align: top;\n",
       "    }\n",
       "\n",
       "    .dataframe thead th {\n",
       "        text-align: right;\n",
       "    }\n",
       "</style>\n",
       "<table border=\"1\" class=\"dataframe\">\n",
       "  <thead>\n",
       "    <tr style=\"text-align: right;\">\n",
       "      <th></th>\n",
       "      <th>Store</th>\n",
       "      <th>DayOfWeek</th>\n",
       "      <th>Promo</th>\n",
       "      <th>StateHoliday</th>\n",
       "      <th>SchoolHoliday</th>\n",
       "      <th>ordered_day</th>\n",
       "      <th>ordered_week</th>\n",
       "      <th>ordered_month</th>\n",
       "      <th>MonthOfYear</th>\n",
       "      <th>Promo2</th>\n",
       "      <th>StoreType_a</th>\n",
       "      <th>StoreType_b</th>\n",
       "      <th>StoreType_c</th>\n",
       "      <th>StoreType_d</th>\n",
       "      <th>Assortment_a</th>\n",
       "      <th>Assortment_b</th>\n",
       "      <th>Assortment_c</th>\n",
       "      <th>EncodedDistance</th>\n",
       "      <th>EncodedCompetitionMonthsFromStart</th>\n",
       "      <th>EncodedPromo2WeeksFromStart</th>\n",
       "      <th>PromoInterval_</th>\n",
       "      <th>PromoInterval_JanAprJulOct</th>\n",
       "      <th>PromoInterval_FebMayAugNov</th>\n",
       "      <th>PromoInterval_MarJunSeptDec</th>\n",
       "      <th>Encoded_Customers</th>\n",
       "      <th>Encoded_sum_target</th>\n",
       "    </tr>\n",
       "  </thead>\n",
       "  <tbody>\n",
       "    <tr>\n",
       "      <th>0</th>\n",
       "      <td>1</td>\n",
       "      <td>6</td>\n",
       "      <td>0</td>\n",
       "      <td>0</td>\n",
       "      <td>0</td>\n",
       "      <td>893</td>\n",
       "      <td>127</td>\n",
       "      <td>29</td>\n",
       "      <td>5</td>\n",
       "      <td>0</td>\n",
       "      <td>0.0</td>\n",
       "      <td>0.0</td>\n",
       "      <td>1.0</td>\n",
       "      <td>0.0</td>\n",
       "      <td>1.0</td>\n",
       "      <td>0.0</td>\n",
       "      <td>0.0</td>\n",
       "      <td>-0.321681</td>\n",
       "      <td>0.940159</td>\n",
       "      <td>0.0</td>\n",
       "      <td>1.0</td>\n",
       "      <td>0.0</td>\n",
       "      <td>0.0</td>\n",
       "      <td>0.0</td>\n",
       "      <td>-0.362074</td>\n",
       "      <td>-0.900261</td>\n",
       "    </tr>\n",
       "    <tr>\n",
       "      <th>1</th>\n",
       "      <td>1</td>\n",
       "      <td>5</td>\n",
       "      <td>0</td>\n",
       "      <td>0</td>\n",
       "      <td>0</td>\n",
       "      <td>892</td>\n",
       "      <td>127</td>\n",
       "      <td>29</td>\n",
       "      <td>5</td>\n",
       "      <td>0</td>\n",
       "      <td>0.0</td>\n",
       "      <td>0.0</td>\n",
       "      <td>1.0</td>\n",
       "      <td>0.0</td>\n",
       "      <td>1.0</td>\n",
       "      <td>0.0</td>\n",
       "      <td>0.0</td>\n",
       "      <td>-0.321681</td>\n",
       "      <td>0.940159</td>\n",
       "      <td>0.0</td>\n",
       "      <td>1.0</td>\n",
       "      <td>0.0</td>\n",
       "      <td>0.0</td>\n",
       "      <td>0.0</td>\n",
       "      <td>-0.362074</td>\n",
       "      <td>-0.900261</td>\n",
       "    </tr>\n",
       "    <tr>\n",
       "      <th>2</th>\n",
       "      <td>1</td>\n",
       "      <td>4</td>\n",
       "      <td>0</td>\n",
       "      <td>0</td>\n",
       "      <td>0</td>\n",
       "      <td>891</td>\n",
       "      <td>127</td>\n",
       "      <td>29</td>\n",
       "      <td>5</td>\n",
       "      <td>0</td>\n",
       "      <td>0.0</td>\n",
       "      <td>0.0</td>\n",
       "      <td>1.0</td>\n",
       "      <td>0.0</td>\n",
       "      <td>1.0</td>\n",
       "      <td>0.0</td>\n",
       "      <td>0.0</td>\n",
       "      <td>-0.321681</td>\n",
       "      <td>0.940159</td>\n",
       "      <td>0.0</td>\n",
       "      <td>1.0</td>\n",
       "      <td>0.0</td>\n",
       "      <td>0.0</td>\n",
       "      <td>0.0</td>\n",
       "      <td>-0.362074</td>\n",
       "      <td>-0.900261</td>\n",
       "    </tr>\n",
       "    <tr>\n",
       "      <th>3</th>\n",
       "      <td>1</td>\n",
       "      <td>3</td>\n",
       "      <td>0</td>\n",
       "      <td>0</td>\n",
       "      <td>0</td>\n",
       "      <td>890</td>\n",
       "      <td>127</td>\n",
       "      <td>29</td>\n",
       "      <td>5</td>\n",
       "      <td>0</td>\n",
       "      <td>0.0</td>\n",
       "      <td>0.0</td>\n",
       "      <td>1.0</td>\n",
       "      <td>0.0</td>\n",
       "      <td>1.0</td>\n",
       "      <td>0.0</td>\n",
       "      <td>0.0</td>\n",
       "      <td>-0.321681</td>\n",
       "      <td>0.940159</td>\n",
       "      <td>0.0</td>\n",
       "      <td>1.0</td>\n",
       "      <td>0.0</td>\n",
       "      <td>0.0</td>\n",
       "      <td>0.0</td>\n",
       "      <td>-0.362074</td>\n",
       "      <td>-0.900261</td>\n",
       "    </tr>\n",
       "    <tr>\n",
       "      <th>4</th>\n",
       "      <td>1</td>\n",
       "      <td>2</td>\n",
       "      <td>0</td>\n",
       "      <td>0</td>\n",
       "      <td>0</td>\n",
       "      <td>889</td>\n",
       "      <td>127</td>\n",
       "      <td>29</td>\n",
       "      <td>5</td>\n",
       "      <td>0</td>\n",
       "      <td>0.0</td>\n",
       "      <td>0.0</td>\n",
       "      <td>1.0</td>\n",
       "      <td>0.0</td>\n",
       "      <td>1.0</td>\n",
       "      <td>0.0</td>\n",
       "      <td>0.0</td>\n",
       "      <td>-0.321681</td>\n",
       "      <td>0.940159</td>\n",
       "      <td>0.0</td>\n",
       "      <td>1.0</td>\n",
       "      <td>0.0</td>\n",
       "      <td>0.0</td>\n",
       "      <td>0.0</td>\n",
       "      <td>-0.362074</td>\n",
       "      <td>-0.900261</td>\n",
       "    </tr>\n",
       "  </tbody>\n",
       "</table>\n",
       "</div>"
      ],
      "text/plain": [
       "   Store  DayOfWeek  ...  Encoded_Customers  Encoded_sum_target\n",
       "0      1          6  ...          -0.362074           -0.900261\n",
       "1      1          5  ...          -0.362074           -0.900261\n",
       "2      1          4  ...          -0.362074           -0.900261\n",
       "3      1          3  ...          -0.362074           -0.900261\n",
       "4      1          2  ...          -0.362074           -0.900261\n",
       "\n",
       "[5 rows x 26 columns]"
      ]
     },
     "execution_count": 87,
     "metadata": {},
     "output_type": "execute_result"
    }
   ],
   "source": [
    "X_train.head()"
   ]
  },
  {
   "cell_type": "code",
   "execution_count": null,
   "id": "addressed-secretariat",
   "metadata": {
    "ExecuteTime": {
     "end_time": "2021-12-04T17:14:26.231669Z",
     "start_time": "2021-12-04T17:14:24.374637Z"
    },
    "execution": {
     "iopub.execute_input": "2021-12-11T15:36:52.015330Z",
     "iopub.status.busy": "2021-12-11T15:36:52.014332Z",
     "iopub.status.idle": "2021-12-11T15:36:53.885620Z",
     "shell.execute_reply": "2021-12-11T15:36:53.885620Z",
     "shell.execute_reply.started": "2021-12-11T15:36:52.015330Z"
    },
    "id": "designed-track"
   },
   "outputs": [],
   "source": [
    "cols_to_normalize = ['DayOfWeek', 'ordered_day', 'ordered_week', 'ordered_month']\n",
    "scaler = MinMaxScaler()\n",
    "\n",
    "X_train_norm = X_train.copy()\n",
    "X_train_norm.loc[:, cols_to_normalize] = scaler.fit_transform(X_train_norm[cols_to_normalize])\n",
    "\n",
    "X_val_norm = X_val.copy()\n",
    "X_val_norm.loc[:, cols_to_normalize] = scaler.transform(X_val_norm[cols_to_normalize])"
   ]
  },
  {
   "cell_type": "code",
   "execution_count": null,
   "id": "boring-making",
   "metadata": {
    "ExecuteTime": {
     "end_time": "2021-12-04T17:14:26.358295Z",
     "start_time": "2021-12-04T17:14:26.231669Z"
    },
    "colab": {
     "base_uri": "https://localhost:8080/",
     "height": 226
    },
    "execution": {
     "iopub.execute_input": "2021-12-11T15:36:58.044532Z",
     "iopub.status.busy": "2021-12-11T15:36:58.043537Z",
     "iopub.status.idle": "2021-12-11T15:36:58.358669Z",
     "shell.execute_reply": "2021-12-11T15:36:58.352679Z",
     "shell.execute_reply.started": "2021-12-11T15:36:58.044532Z"
    },
    "id": "civilian-alexandria",
    "outputId": "b2f5943b-704d-41ee-e1a8-a9bbd1ef752e",
    "scrolled": true
   },
   "outputs": [
    {
     "data": {
      "text/html": [
       "<div>\n",
       "<style scoped>\n",
       "    .dataframe tbody tr th:only-of-type {\n",
       "        vertical-align: middle;\n",
       "    }\n",
       "\n",
       "    .dataframe tbody tr th {\n",
       "        vertical-align: top;\n",
       "    }\n",
       "\n",
       "    .dataframe thead th {\n",
       "        text-align: right;\n",
       "    }\n",
       "</style>\n",
       "<table border=\"1\" class=\"dataframe\">\n",
       "  <thead>\n",
       "    <tr style=\"text-align: right;\">\n",
       "      <th></th>\n",
       "      <th>Store</th>\n",
       "      <th>DayOfWeek</th>\n",
       "      <th>Promo</th>\n",
       "      <th>StateHoliday</th>\n",
       "      <th>SchoolHoliday</th>\n",
       "      <th>ordered_day</th>\n",
       "      <th>ordered_week</th>\n",
       "      <th>ordered_month</th>\n",
       "      <th>MonthOfYear</th>\n",
       "      <th>Promo2</th>\n",
       "      <th>StoreType_a</th>\n",
       "      <th>StoreType_b</th>\n",
       "      <th>StoreType_c</th>\n",
       "      <th>StoreType_d</th>\n",
       "      <th>Assortment_a</th>\n",
       "      <th>Assortment_b</th>\n",
       "      <th>Assortment_c</th>\n",
       "      <th>EncodedDistance</th>\n",
       "      <th>EncodedCompetitionMonthsFromStart</th>\n",
       "      <th>EncodedPromo2WeeksFromStart</th>\n",
       "      <th>PromoInterval_</th>\n",
       "      <th>PromoInterval_JanAprJulOct</th>\n",
       "      <th>PromoInterval_FebMayAugNov</th>\n",
       "      <th>PromoInterval_MarJunSeptDec</th>\n",
       "      <th>Encoded_Customers</th>\n",
       "      <th>Encoded_sum_target</th>\n",
       "    </tr>\n",
       "  </thead>\n",
       "  <tbody>\n",
       "    <tr>\n",
       "      <th>0</th>\n",
       "      <td>1</td>\n",
       "      <td>0.833333</td>\n",
       "      <td>0</td>\n",
       "      <td>0</td>\n",
       "      <td>0</td>\n",
       "      <td>1.000000</td>\n",
       "      <td>1.0</td>\n",
       "      <td>1.0</td>\n",
       "      <td>5</td>\n",
       "      <td>0</td>\n",
       "      <td>0.0</td>\n",
       "      <td>0.0</td>\n",
       "      <td>1.0</td>\n",
       "      <td>0.0</td>\n",
       "      <td>1.0</td>\n",
       "      <td>0.0</td>\n",
       "      <td>0.0</td>\n",
       "      <td>-0.321681</td>\n",
       "      <td>0.940159</td>\n",
       "      <td>0.0</td>\n",
       "      <td>1.0</td>\n",
       "      <td>0.0</td>\n",
       "      <td>0.0</td>\n",
       "      <td>0.0</td>\n",
       "      <td>-0.362074</td>\n",
       "      <td>-0.900261</td>\n",
       "    </tr>\n",
       "    <tr>\n",
       "      <th>1</th>\n",
       "      <td>1</td>\n",
       "      <td>0.666667</td>\n",
       "      <td>0</td>\n",
       "      <td>0</td>\n",
       "      <td>0</td>\n",
       "      <td>0.998880</td>\n",
       "      <td>1.0</td>\n",
       "      <td>1.0</td>\n",
       "      <td>5</td>\n",
       "      <td>0</td>\n",
       "      <td>0.0</td>\n",
       "      <td>0.0</td>\n",
       "      <td>1.0</td>\n",
       "      <td>0.0</td>\n",
       "      <td>1.0</td>\n",
       "      <td>0.0</td>\n",
       "      <td>0.0</td>\n",
       "      <td>-0.321681</td>\n",
       "      <td>0.940159</td>\n",
       "      <td>0.0</td>\n",
       "      <td>1.0</td>\n",
       "      <td>0.0</td>\n",
       "      <td>0.0</td>\n",
       "      <td>0.0</td>\n",
       "      <td>-0.362074</td>\n",
       "      <td>-0.900261</td>\n",
       "    </tr>\n",
       "    <tr>\n",
       "      <th>2</th>\n",
       "      <td>1</td>\n",
       "      <td>0.500000</td>\n",
       "      <td>0</td>\n",
       "      <td>0</td>\n",
       "      <td>0</td>\n",
       "      <td>0.997760</td>\n",
       "      <td>1.0</td>\n",
       "      <td>1.0</td>\n",
       "      <td>5</td>\n",
       "      <td>0</td>\n",
       "      <td>0.0</td>\n",
       "      <td>0.0</td>\n",
       "      <td>1.0</td>\n",
       "      <td>0.0</td>\n",
       "      <td>1.0</td>\n",
       "      <td>0.0</td>\n",
       "      <td>0.0</td>\n",
       "      <td>-0.321681</td>\n",
       "      <td>0.940159</td>\n",
       "      <td>0.0</td>\n",
       "      <td>1.0</td>\n",
       "      <td>0.0</td>\n",
       "      <td>0.0</td>\n",
       "      <td>0.0</td>\n",
       "      <td>-0.362074</td>\n",
       "      <td>-0.900261</td>\n",
       "    </tr>\n",
       "    <tr>\n",
       "      <th>3</th>\n",
       "      <td>1</td>\n",
       "      <td>0.333333</td>\n",
       "      <td>0</td>\n",
       "      <td>0</td>\n",
       "      <td>0</td>\n",
       "      <td>0.996641</td>\n",
       "      <td>1.0</td>\n",
       "      <td>1.0</td>\n",
       "      <td>5</td>\n",
       "      <td>0</td>\n",
       "      <td>0.0</td>\n",
       "      <td>0.0</td>\n",
       "      <td>1.0</td>\n",
       "      <td>0.0</td>\n",
       "      <td>1.0</td>\n",
       "      <td>0.0</td>\n",
       "      <td>0.0</td>\n",
       "      <td>-0.321681</td>\n",
       "      <td>0.940159</td>\n",
       "      <td>0.0</td>\n",
       "      <td>1.0</td>\n",
       "      <td>0.0</td>\n",
       "      <td>0.0</td>\n",
       "      <td>0.0</td>\n",
       "      <td>-0.362074</td>\n",
       "      <td>-0.900261</td>\n",
       "    </tr>\n",
       "    <tr>\n",
       "      <th>4</th>\n",
       "      <td>1</td>\n",
       "      <td>0.166667</td>\n",
       "      <td>0</td>\n",
       "      <td>0</td>\n",
       "      <td>0</td>\n",
       "      <td>0.995521</td>\n",
       "      <td>1.0</td>\n",
       "      <td>1.0</td>\n",
       "      <td>5</td>\n",
       "      <td>0</td>\n",
       "      <td>0.0</td>\n",
       "      <td>0.0</td>\n",
       "      <td>1.0</td>\n",
       "      <td>0.0</td>\n",
       "      <td>1.0</td>\n",
       "      <td>0.0</td>\n",
       "      <td>0.0</td>\n",
       "      <td>-0.321681</td>\n",
       "      <td>0.940159</td>\n",
       "      <td>0.0</td>\n",
       "      <td>1.0</td>\n",
       "      <td>0.0</td>\n",
       "      <td>0.0</td>\n",
       "      <td>0.0</td>\n",
       "      <td>-0.362074</td>\n",
       "      <td>-0.900261</td>\n",
       "    </tr>\n",
       "  </tbody>\n",
       "</table>\n",
       "</div>"
      ],
      "text/plain": [
       "   Store  DayOfWeek  ...  Encoded_Customers  Encoded_sum_target\n",
       "0      1   0.833333  ...          -0.362074           -0.900261\n",
       "1      1   0.666667  ...          -0.362074           -0.900261\n",
       "2      1   0.500000  ...          -0.362074           -0.900261\n",
       "3      1   0.333333  ...          -0.362074           -0.900261\n",
       "4      1   0.166667  ...          -0.362074           -0.900261\n",
       "\n",
       "[5 rows x 26 columns]"
      ]
     },
     "execution_count": 77,
     "metadata": {},
     "output_type": "execute_result"
    }
   ],
   "source": [
    "X_train_norm.head()"
   ]
  },
  {
   "cell_type": "code",
   "execution_count": null,
   "id": "mathematical-confidentiality",
   "metadata": {
    "ExecuteTime": {
     "end_time": "2021-11-29T07:51:16.315956Z",
     "start_time": "2021-11-29T07:51:16.007044Z"
    },
    "execution": {
     "iopub.execute_input": "2021-12-11T15:37:13.148508Z",
     "iopub.status.busy": "2021-12-11T15:37:13.147515Z",
     "iopub.status.idle": "2021-12-11T15:37:13.899103Z",
     "shell.execute_reply": "2021-12-11T15:37:13.896110Z",
     "shell.execute_reply.started": "2021-12-11T15:37:13.148508Z"
    },
    "id": "behind-paint"
   },
   "outputs": [],
   "source": [
    "X_train_norm_nonzero = X_train_norm[y_train != 0]\n",
    "y_train_norm_nonzero = y_train[y_train != 0]\n",
    "\n",
    "X_val_norm_nonzero = X_val_norm[y_val != 0]\n",
    "y_val_norm_nonzero = y_val[y_val != 0]"
   ]
  },
  {
   "cell_type": "code",
   "execution_count": null,
   "id": "heated-speed",
   "metadata": {
    "id": "jewish-escape"
   },
   "outputs": [],
   "source": [
    "lin_reg = ElasticNet()\n",
    "lin_reg.fit(X_train_norm_nonzero, y_train_norm_nonzero, sample_weight=1/y_train_norm_nonzero**2)\n",
    "lin_reg_predicted = lin_reg.predict(X_val_norm_nonzero)"
   ]
  },
  {
   "cell_type": "code",
   "execution_count": null,
   "id": "looking-difficulty",
   "metadata": {
    "colab": {
     "base_uri": "https://localhost:8080/"
    },
    "id": "3NOwBW_WyDse",
    "outputId": "7ef078ef-9711-4b12-ef76-5b77fe044369"
   },
   "outputs": [
    {
     "data": {
      "text/plain": [
       "0.28976072656230173"
      ]
     },
     "execution_count": 83,
     "metadata": {},
     "output_type": "execute_result"
    }
   ],
   "source": [
    "RMSPE(y_val_norm_nonzero, lin_reg_predicted)"
   ]
  },
  {
   "cell_type": "markdown",
   "id": "upset-america",
   "metadata": {
    "id": "closing-parks"
   },
   "source": [
    "# kNN"
   ]
  },
  {
   "cell_type": "code",
   "execution_count": null,
   "id": "monthly-feelings",
   "metadata": {
    "ExecuteTime": {
     "end_time": "2021-12-04T17:14:56.171835Z",
     "start_time": "2021-12-04T17:14:56.151866Z"
    },
    "colab": {
     "base_uri": "https://localhost:8080/"
    },
    "id": "sound-space",
    "outputId": "cd2e8f9e-c7ce-47d6-be02-aa65c2c6fd06",
    "tags": []
   },
   "outputs": [],
   "source": [
    "knn_scores = []\n",
    "knn_n_neighbors = range(2, 21, 2)\n",
    "for n_neighbors in knn_n_neighbors:\n",
    "    print('n_neighbors:', n_neighbors, '\\n')\n",
    "    knn = KNeighborsRegressor(n_neighbors=n_neighbors)\n",
    "    knn.fit(X_train_norm, y_train)\n",
    "    knn_predicted = knn.predict(X_val_norm)\n",
    "    knn_scores.append(RMSPE(y_val, knn_predicted))"
   ]
  },
  {
   "cell_type": "code",
   "execution_count": null,
   "id": "manual-clock",
   "metadata": {
    "colab": {
     "base_uri": "https://localhost:8080/",
     "height": 459
    },
    "id": "confident-technical",
    "outputId": "4145205d-3a52-43de-b49c-a408d79e7db9"
   },
   "outputs": [
    {
     "data": {
      "image/png": "[encoded data removed]",
      "text/plain": [
       "<Figure size 864x504 with 1 Axes>"
      ]
     },
     "metadata": {
      "needs_background": "light"
     },
     "output_type": "display_data"
    }
   ],
   "source": [
    "plt.figure(figsize=(12, 7))\n",
    "plt.plot(knn_n_neighbors, knn_scores)\n",
    "plt.xlabel('n_neighbors')\n",
    "plt.ylabel('rmspe')\n",
    "plt.title('rmspe of knn model')\n",
    "plt.show()"
   ]
  },
  {
   "cell_type": "code",
   "execution_count": null,
   "id": "important-julian",
   "metadata": {
    "id": "i2jw0XQaVQLI"
   },
   "outputs": [],
   "source": []
  }
 ],
 "metadata": {
  "colab": {
   "collapsed_sections": [],
   "name": "Experiments.ipynb",
   "provenance": []
  },
  "kernelspec": {
   "display_name": "Python 3",
   "language": "python",
   "name": "python3"
  },
  "language_info": {
   "codemirror_mode": {
    "name": "ipython",
    "version": 3
   },
   "file_extension": ".py",
   "mimetype": "text/x-python",
   "name": "python",
   "nbconvert_exporter": "python",
   "pygments_lexer": "ipython3",
   "version": "3.9.0"
  },
  "toc": {
   "base_numbering": 1,
   "nav_menu": {
    "height": "120px",
    "width": "238px"
   },
   "number_sections": true,
   "sideBar": true,
   "skip_h1_title": false,
   "title_cell": "Table of Contents",
   "title_sidebar": "Contents",
   "toc_cell": false,
   "toc_position": {
    "height": "calc(100% - 180px)",
    "left": "10px",
    "top": "150px",
    "width": "273.188px"
   },
   "toc_section_display": true,
   "toc_window_display": false
  }
 },
 "nbformat": 4,
 "nbformat_minor": 5
}
