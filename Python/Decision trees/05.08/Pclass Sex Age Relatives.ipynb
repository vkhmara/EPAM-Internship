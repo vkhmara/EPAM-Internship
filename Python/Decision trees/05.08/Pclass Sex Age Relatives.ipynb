{
 "cells": [
  {
   "cell_type": "code",
   "execution_count": 76,
   "id": "vocational-fellow",
   "metadata": {},
   "outputs": [],
   "source": [
    "import pandas as pd\n",
    "import numpy as np\n",
    "import matplotlib.pyplot as plt\n",
    "import seaborn as sns\n",
    "from sklearn.tree import DecisionTreeClassifier, plot_tree\n",
    "from sklearn.model_selection import train_test_split, GridSearchCV, RandomizedSearchCV\n",
    "from sklearn.metrics import precision_score, recall_score\n",
    "import time"
   ]
  },
  {
   "cell_type": "markdown",
   "id": "beneficial-wrong",
   "metadata": {},
   "source": [
    "Preparing data"
   ]
  },
  {
   "cell_type": "code",
   "execution_count": 77,
   "id": "coupled-decimal",
   "metadata": {},
   "outputs": [],
   "source": [
    "df = pd.read_csv('my_data/train.csv')"
   ]
  },
  {
   "cell_type": "code",
   "execution_count": 78,
   "id": "rotary-kingdom",
   "metadata": {
    "collapsed": true
   },
   "outputs": [
    {
     "name": "stderr",
     "output_type": "stream",
     "text": [
      "<ipython-input-78-0b3c85013a1f>:2: SettingWithCopyWarning: \n",
      "A value is trying to be set on a copy of a slice from a DataFrame.\n",
      "Try using .loc[row_indexer,col_indexer] = value instead\n",
      "\n",
      "See the caveats in the documentation: https://pandas.pydata.org/pandas-docs/stable/user_guide/indexing.html#returning-a-view-versus-a-copy\n",
      "  other_df['Relatives'] = df.SibSp + df.Parch\n"
     ]
    }
   ],
   "source": [
    "other_df = df[['Survived', 'Pclass', 'Sex', 'Age']]\n",
    "other_df['Relatives'] = df.SibSp + df.Parch\n",
    "other_df = other_df.dropna()\n",
    "other_df.Sex.replace(to_replace=['male', 'female'], value=[0, 1], inplace=True)"
   ]
  },
  {
   "cell_type": "code",
   "execution_count": 79,
   "id": "interested-rating",
   "metadata": {},
   "outputs": [],
   "source": [
    "X = other_df.drop('Survived', axis=1)\n",
    "y = other_df['Survived']"
   ]
  },
  {
   "cell_type": "code",
   "execution_count": 80,
   "id": "sustainable-bulgaria",
   "metadata": {},
   "outputs": [],
   "source": [
    "X_train, X_test, y_train, y_test = train_test_split(X, y, test_size=0.20, random_state=0)"
   ]
  },
  {
   "cell_type": "markdown",
   "id": "eight-database",
   "metadata": {},
   "source": [
    "------------------"
   ]
  },
  {
   "cell_type": "markdown",
   "id": "minute-arctic",
   "metadata": {},
   "source": [
    "Simple decision tree"
   ]
  },
  {
   "cell_type": "code",
   "execution_count": 81,
   "id": "dated-marking",
   "metadata": {
    "scrolled": false
   },
   "outputs": [
    {
     "name": "stdout",
     "output_type": "stream",
     "text": [
      "Train score: 0.7714241398030143\n",
      "Test score: 0.74682039085927\n"
     ]
    }
   ],
   "source": [
    "clf_simple = DecisionTreeClassifier()\n",
    "clf_simple.fit(X_train, y_train)\n",
    "print('Train score:', clf_simple.score(X_train, y_train))\n",
    "print('Test score:', clf_simple.score(X_test, y_test))"
   ]
  },
  {
   "cell_type": "code",
   "execution_count": 82,
   "id": "actual-latter",
   "metadata": {},
   "outputs": [
    {
     "data": {
      "text/plain": [
       "26"
      ]
     },
     "execution_count": 82,
     "metadata": {},
     "output_type": "execute_result"
    }
   ],
   "source": [
    "clf_simple.get_depth()"
   ]
  },
  {
   "cell_type": "code",
   "execution_count": 83,
   "id": "manufactured-operation",
   "metadata": {},
   "outputs": [
    {
     "data": {
      "text/plain": [
       "array([0.11790009, 0.7401389 , 0.0954973 , 0.04646372])"
      ]
     },
     "execution_count": 83,
     "metadata": {},
     "output_type": "execute_result"
    }
   ],
   "source": [
    "clf_simple.feature_importances_"
   ]
  },
  {
   "cell_type": "code",
   "execution_count": 84,
   "id": "double-offset",
   "metadata": {},
   "outputs": [
    {
     "name": "stdout",
     "output_type": "stream",
     "text": [
      "Precision: 0.672984065668759\n",
      "Recall: 0.718150199665078\n"
     ]
    }
   ],
   "source": [
    "predicted = clf_simple.predict(X_test)\n",
    "print('Precision:', precision_score(predicted, y_test))\n",
    "print('Recall:', recall_score(predicted, y_test))"
   ]
  },
  {
   "cell_type": "markdown",
   "id": "sexual-challenge",
   "metadata": {},
   "source": [
    "-------------------"
   ]
  },
  {
   "cell_type": "markdown",
   "id": "lasting-commission",
   "metadata": {},
   "source": [
    "Small decision tree"
   ]
  },
  {
   "cell_type": "code",
   "execution_count": 85,
   "id": "entertaining-destination",
   "metadata": {},
   "outputs": [
    {
     "data": {
      "text/plain": [
       "DecisionTreeClassifier(max_depth=2)"
      ]
     },
     "execution_count": 85,
     "metadata": {},
     "output_type": "execute_result"
    }
   ],
   "source": [
    "clf_small = DecisionTreeClassifier(max_depth=2)\n",
    "clf_small.fit(X_train, y_train)"
   ]
  },
  {
   "cell_type": "code",
   "execution_count": 86,
   "id": "worldwide-pasta",
   "metadata": {
    "scrolled": false
   },
   "outputs": [
    {
     "name": "stdout",
     "output_type": "stream",
     "text": [
      "Train score: 0.7590802161156064\n",
      "Test score: 0.7539034226036604\n"
     ]
    }
   ],
   "source": [
    "print('Train score:', clf_small.score(X_train, y_train))\n",
    "print('Test score:', clf_small.score(X_test, y_test))"
   ]
  },
  {
   "cell_type": "code",
   "execution_count": 87,
   "id": "parallel-overhead",
   "metadata": {},
   "outputs": [
    {
     "data": {
      "text/plain": [
       "array([0.12319308, 0.87680692, 0.        , 0.        ])"
      ]
     },
     "execution_count": 87,
     "metadata": {},
     "output_type": "execute_result"
    }
   ],
   "source": [
    "clf_small.feature_importances_"
   ]
  },
  {
   "cell_type": "code",
   "execution_count": 88,
   "id": "strong-celebration",
   "metadata": {
    "scrolled": true
   },
   "outputs": [
    {
     "data": {
      "image/png": "[encoded data removed]",
      "text/plain": [
       "<Figure size 432x288 with 1 Axes>"
      ]
     },
     "metadata": {
      "needs_background": "light"
     },
     "output_type": "display_data"
    }
   ],
   "source": [
    "plot_tree(clf_small);"
   ]
  },
  {
   "cell_type": "code",
   "execution_count": 89,
   "id": "bearing-advocacy",
   "metadata": {},
   "outputs": [
    {
     "name": "stdout",
     "output_type": "stream",
     "text": [
      "Precision: 0.7251327860936746\n",
      "Recall: 0.7075382803297998\n"
     ]
    }
   ],
   "source": [
    "predicted = clf_small.predict(X_test)\n",
    "print('Precision:', precision_score(predicted, y_test))\n",
    "print('Recall:', recall_score(predicted, y_test))"
   ]
  },
  {
   "cell_type": "markdown",
   "id": "forced-vietnam",
   "metadata": {},
   "source": [
    "-------------------"
   ]
  },
  {
   "cell_type": "markdown",
   "id": "mediterranean-parcel",
   "metadata": {},
   "source": [
    "Dependency on maximal tree depth"
   ]
  },
  {
   "cell_type": "code",
   "execution_count": 90,
   "id": "experienced-speaker",
   "metadata": {},
   "outputs": [
    {
     "data": {
      "image/png": "[encoded data removed]",
      "text/plain": [
       "<Figure size 432x288 with 1 Axes>"
      ]
     },
     "metadata": {
      "needs_background": "light"
     },
     "output_type": "display_data"
    }
   ],
   "source": [
    "acc = []\n",
    "for max_depth in range(2, 30):\n",
    "    clf = DecisionTreeClassifier(max_depth=max_depth)\n",
    "    clf.fit(X_train, y_train)\n",
    "    acc.append(clf.score(X_test, y_test))\n",
    "plt.plot(acc)\n",
    "plt.title('max_depth')\n",
    "plt.show()"
   ]
  },
  {
   "cell_type": "markdown",
   "id": "diagnostic-buyer",
   "metadata": {},
   "source": [
    "------------------"
   ]
  },
  {
   "cell_type": "markdown",
   "id": "opposite-greenhouse",
   "metadata": {},
   "source": [
    "Dependency on min_samples_leaf parameter"
   ]
  },
  {
   "cell_type": "code",
   "execution_count": 91,
   "id": "handy-swedish",
   "metadata": {
    "scrolled": true
   },
   "outputs": [
    {
     "data": {
      "image/png": "[encoded data removed]",
      "text/plain": [
       "<Figure size 432x288 with 1 Axes>"
      ]
     },
     "metadata": {
      "needs_background": "light"
     },
     "output_type": "display_data"
    }
   ],
   "source": [
    "acc = []\n",
    "values = range(2, 400, 5)\n",
    "for min_samples_split in values:\n",
    "    clf = DecisionTreeClassifier(min_samples_split=min_samples_split)\n",
    "    clf.fit(X_train, y_train)\n",
    "    acc.append(clf.score(X_test, y_test))\n",
    "plt.plot(values, acc)\n",
    "plt.title('min_samples_split')\n",
    "plt.show()"
   ]
  },
  {
   "cell_type": "markdown",
   "id": "buried-retention",
   "metadata": {},
   "source": [
    "-----------------------"
   ]
  },
  {
   "cell_type": "markdown",
   "id": "supported-strike",
   "metadata": {},
   "source": [
    "Dependency on min_samples_leaf parameter"
   ]
  },
  {
   "cell_type": "code",
   "execution_count": 92,
   "id": "freelance-underground",
   "metadata": {
    "scrolled": true
   },
   "outputs": [
    {
     "data": {
      "image/png": "[encoded data removed]",
      "text/plain": [
       "<Figure size 432x288 with 1 Axes>"
      ]
     },
     "metadata": {
      "needs_background": "light"
     },
     "output_type": "display_data"
    }
   ],
   "source": [
    "acc = []\n",
    "values = range(2, 400, 5)\n",
    "for min_samples_leaf in values:\n",
    "    clf = DecisionTreeClassifier(min_samples_leaf=min_samples_leaf)\n",
    "    clf.fit(X_train, y_train)\n",
    "    acc.append(clf.score(X_test, y_test))\n",
    "plt.plot(values, acc)\n",
    "plt.title('min_samples_leaf')\n",
    "plt.show()"
   ]
  },
  {
   "cell_type": "markdown",
   "id": "planned-silver",
   "metadata": {},
   "source": [
    "-----------------------"
   ]
  },
  {
   "cell_type": "markdown",
   "id": "hired-renaissance",
   "metadata": {},
   "source": [
    "Searching the best variant with RandomizedSearchCV"
   ]
  },
  {
   "cell_type": "code",
   "execution_count": 93,
   "id": "advance-explanation",
   "metadata": {},
   "outputs": [],
   "source": [
    "clf_best = RandomizedSearchCV(DecisionTreeClassifier(), {\n",
    "    'min_samples_split': range(100, 350),\n",
    "    'min_samples_leaf': range(50, 200),\n",
    "    'max_depth': range(2, 15),\n",
    "}, n_iter=100, cv=10)"
   ]
  },
  {
   "cell_type": "code",
   "execution_count": 94,
   "id": "brazilian-community",
   "metadata": {},
   "outputs": [
    {
     "name": "stdout",
     "output_type": "stream",
     "text": [
      "146.56101155281067\n"
     ]
    }
   ],
   "source": [
    "start = time.time()\n",
    "clf_best.fit(X_train, y_train)\n",
    "print(time.time() - start)"
   ]
  },
  {
   "cell_type": "code",
   "execution_count": 95,
   "id": "unusual-history",
   "metadata": {},
   "outputs": [
    {
     "name": "stdout",
     "output_type": "stream",
     "text": [
      "Train score: 0.7602822945479927\n",
      "Test score: 0.7548857408747802\n"
     ]
    }
   ],
   "source": [
    "print('Train score:', clf_best.score(X_train, y_train))\n",
    "print('Test score:', clf_best.score(X_test, y_test))"
   ]
  },
  {
   "cell_type": "code",
   "execution_count": 96,
   "id": "behind-apartment",
   "metadata": {
    "scrolled": true
   },
   "outputs": [
    {
     "data": {
      "text/plain": [
       "DecisionTreeClassifier(max_depth=5, min_samples_leaf=192, min_samples_split=226)"
      ]
     },
     "execution_count": 96,
     "metadata": {},
     "output_type": "execute_result"
    }
   ],
   "source": [
    "clf_best.best_estimator_"
   ]
  },
  {
   "cell_type": "code",
   "execution_count": 97,
   "id": "automotive-cornell",
   "metadata": {
    "scrolled": true
   },
   "outputs": [
    {
     "data": {
      "text/plain": [
       "array([0.1324909 , 0.8372714 , 0.00643484, 0.02380285])"
      ]
     },
     "execution_count": 97,
     "metadata": {},
     "output_type": "execute_result"
    }
   ],
   "source": [
    "clf_best.best_estimator_.feature_importances_"
   ]
  },
  {
   "cell_type": "code",
   "execution_count": 98,
   "id": "searching-steel",
   "metadata": {},
   "outputs": [
    {
     "name": "stdout",
     "output_type": "stream",
     "text": [
      "Precision: 0.7060598744567842\n",
      "Recall: 0.7172286940527284\n"
     ]
    }
   ],
   "source": [
    "predicted = clf_best.predict(X_test)\n",
    "print('Precision:', precision_score(predicted, y_test))\n",
    "print('Recall:', recall_score(predicted, y_test))"
   ]
  },
  {
   "cell_type": "markdown",
   "id": "conceptual-variety",
   "metadata": {},
   "source": [
    "-----------------------"
   ]
  },
  {
   "cell_type": "markdown",
   "id": "periodic-citizenship",
   "metadata": {},
   "source": [
    "All the trees above give almost the same score on test dataset. In all trees the most important feature is \"Sex\". It was expected because the correlation between features \"Survived\" and \"Sex\" is about 0.5.\n",
    "\n",
    "In graphs of dependency on parameters *min_samples_leaf* and *min_samples_split* score increases with increasing the parameters. It can be explained by the tree overfitting. If the parameters are too small then tree has a lot of branches. It this case tree searches not general but specific for this dataset dependency.\n",
    "\n",
    "With increasing the *max_depth* parameter the score is decreasing by the same reasons."
   ]
  }
 ],
 "metadata": {
  "kernelspec": {
   "display_name": "Python 3",
   "language": "python",
   "name": "python3"
  },
  "language_info": {
   "codemirror_mode": {
    "name": "ipython",
    "version": 3
   },
   "file_extension": ".py",
   "mimetype": "text/x-python",
   "name": "python",
   "nbconvert_exporter": "python",
   "pygments_lexer": "ipython3",
   "version": "3.9.0"
  }
 },
 "nbformat": 4,
 "nbformat_minor": 5
}
