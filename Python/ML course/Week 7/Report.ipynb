{
 "cells": [
  {
   "cell_type": "code",
   "execution_count": 1,
   "id": "defensive-geology",
   "metadata": {
    "ExecuteTime": {
     "end_time": "2021-09-24T09:05:32.123093Z",
     "start_time": "2021-09-24T09:05:23.596623Z"
    }
   },
   "outputs": [],
   "source": [
    "import numpy as np\n",
    "import pandas as pd\n",
    "import matplotlib.pyplot as plt\n",
    "from sklearn.model_selection import KFold, cross_val_score, GridSearchCV\n",
    "import datetime\n",
    "from sklearn.ensemble import GradientBoostingClassifier\n",
    "from sklearn.metrics import roc_auc_score\n",
    "from sklearn.linear_model import LogisticRegression\n",
    "from itertools import product\n",
    "from functools import reduce\n",
    "from operator import methodcaller\n",
    "from sklearn.preprocessing import StandardScaler"
   ]
  },
  {
   "cell_type": "code",
   "execution_count": 2,
   "id": "crazy-software",
   "metadata": {
    "ExecuteTime": {
     "end_time": "2021-09-24T09:05:32.170206Z",
     "start_time": "2021-09-24T09:05:32.123093Z"
    }
   },
   "outputs": [],
   "source": [
    "heroes = pd.read_csv('data/dictionaries/heroes.csv', index_col='id')"
   ]
  },
  {
   "cell_type": "code",
   "execution_count": 3,
   "id": "hindu-yugoslavia",
   "metadata": {
    "ExecuteTime": {
     "end_time": "2021-09-24T09:05:36.388216Z",
     "start_time": "2021-09-24T09:05:32.186180Z"
    }
   },
   "outputs": [],
   "source": [
    "features = pd.read_csv('data/features.csv', index_col='match_id')"
   ]
  },
  {
   "cell_type": "markdown",
   "id": "graphic-butterfly",
   "metadata": {},
   "source": [
    "# Подход 1: градиентный бустинг \"в лоб\""
   ]
  },
  {
   "cell_type": "markdown",
   "id": "altered-battle",
   "metadata": {},
   "source": [
    "Удалены фичи, связанные с итогами матча."
   ]
  },
  {
   "cell_type": "code",
   "execution_count": 4,
   "id": "latest-bumper",
   "metadata": {
    "ExecuteTime": {
     "end_time": "2021-09-24T09:05:36.513535Z",
     "start_time": "2021-09-24T09:05:36.399180Z"
    }
   },
   "outputs": [],
   "source": [
    "df_1 = features.drop(['duration', 'radiant_win', 'tower_status_radiant',\n",
    "                     'tower_status_dire', 'barracks_status_radiant', 'barracks_status_dire'], axis=1)"
   ]
  },
  {
   "cell_type": "markdown",
   "id": "better-ballet",
   "metadata": {},
   "source": [
    "## Вопрос 1\n",
    "**Какие признаки имеют пропуски среди своих значений? Что могут означать пропуски в этих признаках (ответьте на этот вопрос для двух любых признаков)?**"
   ]
  },
  {
   "cell_type": "code",
   "execution_count": 5,
   "id": "fossil-brake",
   "metadata": {
    "ExecuteTime": {
     "end_time": "2021-09-24T09:05:36.688770Z",
     "start_time": "2021-09-24T09:05:36.521515Z"
    }
   },
   "outputs": [
    {
     "name": "stdout",
     "output_type": "stream",
     "text": [
      "Пропущенные значения есть в следующих столбцах:\n"
     ]
    },
    {
     "data": {
      "text/html": [
       "<div>\n",
       "<style scoped>\n",
       "    .dataframe tbody tr th:only-of-type {\n",
       "        vertical-align: middle;\n",
       "    }\n",
       "\n",
       "    .dataframe tbody tr th {\n",
       "        vertical-align: top;\n",
       "    }\n",
       "\n",
       "    .dataframe thead th {\n",
       "        text-align: right;\n",
       "    }\n",
       "</style>\n",
       "<table border=\"1\" class=\"dataframe\">\n",
       "  <thead>\n",
       "    <tr style=\"text-align: right;\">\n",
       "      <th></th>\n",
       "      <th>missing_values</th>\n",
       "    </tr>\n",
       "  </thead>\n",
       "  <tbody>\n",
       "    <tr>\n",
       "      <th>first_blood_time</th>\n",
       "      <td>19553</td>\n",
       "    </tr>\n",
       "    <tr>\n",
       "      <th>first_blood_team</th>\n",
       "      <td>19553</td>\n",
       "    </tr>\n",
       "    <tr>\n",
       "      <th>first_blood_player1</th>\n",
       "      <td>19553</td>\n",
       "    </tr>\n",
       "    <tr>\n",
       "      <th>first_blood_player2</th>\n",
       "      <td>43987</td>\n",
       "    </tr>\n",
       "    <tr>\n",
       "      <th>radiant_bottle_time</th>\n",
       "      <td>15691</td>\n",
       "    </tr>\n",
       "    <tr>\n",
       "      <th>radiant_courier_time</th>\n",
       "      <td>692</td>\n",
       "    </tr>\n",
       "    <tr>\n",
       "      <th>radiant_flying_courier_time</th>\n",
       "      <td>27479</td>\n",
       "    </tr>\n",
       "    <tr>\n",
       "      <th>radiant_first_ward_time</th>\n",
       "      <td>1836</td>\n",
       "    </tr>\n",
       "    <tr>\n",
       "      <th>dire_bottle_time</th>\n",
       "      <td>16143</td>\n",
       "    </tr>\n",
       "    <tr>\n",
       "      <th>dire_courier_time</th>\n",
       "      <td>676</td>\n",
       "    </tr>\n",
       "    <tr>\n",
       "      <th>dire_flying_courier_time</th>\n",
       "      <td>26098</td>\n",
       "    </tr>\n",
       "    <tr>\n",
       "      <th>dire_first_ward_time</th>\n",
       "      <td>1826</td>\n",
       "    </tr>\n",
       "  </tbody>\n",
       "</table>\n",
       "</div>"
      ],
      "text/plain": [
       "                             missing_values\n",
       "first_blood_time                      19553\n",
       "first_blood_team                      19553\n",
       "first_blood_player1                   19553\n",
       "first_blood_player2                   43987\n",
       "radiant_bottle_time                   15691\n",
       "radiant_courier_time                    692\n",
       "radiant_flying_courier_time           27479\n",
       "radiant_first_ward_time                1836\n",
       "dire_bottle_time                      16143\n",
       "dire_courier_time                       676\n",
       "dire_flying_courier_time              26098\n",
       "dire_first_ward_time                   1826"
      ]
     },
     "execution_count": 5,
     "metadata": {},
     "output_type": "execute_result"
    }
   ],
   "source": [
    "n = df_1.shape[0]\n",
    "counter = df_1.count()\n",
    "print('Пропущенные значения есть в следующих столбцах:')\n",
    "pd.DataFrame({'missing_values': n - counter[counter != n]})"
   ]
  },
  {
   "cell_type": "markdown",
   "id": "metropolitan-education",
   "metadata": {},
   "source": [
    "Пропуск в признаке *first_blood_time* означает, что событие \"first blood\" не наступило до конца пятой минуты.  \n",
    "Пропуск в признаке *dire_courier_time* означает, что предмет \"courier\" не был приобретён командой \"dire\"."
   ]
  },
  {
   "cell_type": "code",
   "execution_count": 6,
   "id": "framed-worker",
   "metadata": {
    "ExecuteTime": {
     "end_time": "2021-09-24T09:05:36.736692Z",
     "start_time": "2021-09-24T09:05:36.696757Z"
    }
   },
   "outputs": [],
   "source": [
    "df_1.fillna(value=0, inplace=True)"
   ]
  },
  {
   "cell_type": "markdown",
   "id": "latest-florence",
   "metadata": {},
   "source": [
    "## Вопрос 2\n",
    "**Как называется столбец, содержащий целевую переменную?**"
   ]
  },
  {
   "cell_type": "markdown",
   "id": "historical-armor",
   "metadata": {},
   "source": [
    "Столбец, содержащий целевую переменную, называется *radiant_win*. Он указывает, победила ли команда \"radiant\" или проиграла."
   ]
  },
  {
   "cell_type": "code",
   "execution_count": 7,
   "id": "mounted-nylon",
   "metadata": {
    "ExecuteTime": {
     "end_time": "2021-09-24T09:05:36.768646Z",
     "start_time": "2021-09-24T09:05:36.746678Z"
    }
   },
   "outputs": [],
   "source": [
    "target = features.radiant_win"
   ]
  },
  {
   "cell_type": "markdown",
   "id": "removable-yeast",
   "metadata": {},
   "source": [
    "## Вопрос 3\n",
    "**Как долго проводилась кросс-валидация для градиентного бустинга с 30 деревьями? Инструкцию по измерению времени можно найти ниже по тексту. Какое качество при этом получилось? Напомним, что в данном задании мы используем метрику качества AUC-ROC.**"
   ]
  },
  {
   "cell_type": "code",
   "execution_count": 8,
   "id": "french-swaziland",
   "metadata": {
    "ExecuteTime": {
     "end_time": "2021-09-24T09:05:36.800589Z",
     "start_time": "2021-09-24T09:05:36.782621Z"
    }
   },
   "outputs": [],
   "source": [
    "kfold = KFold(shuffle=True, random_state=512)\n",
    "boosting = GradientBoostingClassifier(n_estimators=10, random_state=471)"
   ]
  },
  {
   "cell_type": "markdown",
   "id": "mathematical-poverty",
   "metadata": {},
   "source": [
    "Подсчёт метрики для кросс-валидации и времени работы для количества деревьев 10, 20, 30, 40, 50, 60."
   ]
  },
  {
   "cell_type": "code",
   "execution_count": 9,
   "id": "flush-accordance",
   "metadata": {
    "ExecuteTime": {
     "end_time": "2021-09-24T09:50:16.720502Z",
     "start_time": "2021-09-24T09:05:36.811574Z"
    }
   },
   "outputs": [],
   "source": [
    "kfold = KFold(shuffle=True, random_state=512)\n",
    "grad_boost_scores = []\n",
    "grad_boost_times = []\n",
    "for n_estimators in range(10, 70, 10):\n",
    "    start = datetime.datetime.now()\n",
    "    boosting = GradientBoostingClassifier(n_estimators=n_estimators, random_state=471)\n",
    "    grad_boost_scores.append(cross_val_score(boosting, df_1, target, scoring='roc_auc', cv=kfold))\n",
    "    grad_boost_times.append(datetime.datetime.now() - start)"
   ]
  },
  {
   "cell_type": "code",
   "execution_count": 10,
   "id": "coral-variation",
   "metadata": {
    "ExecuteTime": {
     "end_time": "2021-09-24T09:50:16.910065Z",
     "start_time": "2021-09-24T09:50:16.720502Z"
    },
    "scrolled": true
   },
   "outputs": [
    {
     "data": {
      "text/html": [
       "<div>\n",
       "<style scoped>\n",
       "    .dataframe tbody tr th:only-of-type {\n",
       "        vertical-align: middle;\n",
       "    }\n",
       "\n",
       "    .dataframe tbody tr th {\n",
       "        vertical-align: top;\n",
       "    }\n",
       "\n",
       "    .dataframe thead th {\n",
       "        text-align: right;\n",
       "    }\n",
       "</style>\n",
       "<table border=\"1\" class=\"dataframe\">\n",
       "  <thead>\n",
       "    <tr style=\"text-align: right;\">\n",
       "      <th></th>\n",
       "      <th>score</th>\n",
       "      <th>time, sec</th>\n",
       "    </tr>\n",
       "  </thead>\n",
       "  <tbody>\n",
       "    <tr>\n",
       "      <th>10</th>\n",
       "      <td>0.664513</td>\n",
       "      <td>132.511580</td>\n",
       "    </tr>\n",
       "    <tr>\n",
       "      <th>20</th>\n",
       "      <td>0.682591</td>\n",
       "      <td>255.360794</td>\n",
       "    </tr>\n",
       "    <tr>\n",
       "      <th>30</th>\n",
       "      <td>0.689441</td>\n",
       "      <td>389.976364</td>\n",
       "    </tr>\n",
       "    <tr>\n",
       "      <th>40</th>\n",
       "      <td>0.694353</td>\n",
       "      <td>510.419979</td>\n",
       "    </tr>\n",
       "    <tr>\n",
       "      <th>50</th>\n",
       "      <td>0.697628</td>\n",
       "      <td>646.997368</td>\n",
       "    </tr>\n",
       "    <tr>\n",
       "      <th>60</th>\n",
       "      <td>0.700355</td>\n",
       "      <td>744.602589</td>\n",
       "    </tr>\n",
       "  </tbody>\n",
       "</table>\n",
       "</div>"
      ],
      "text/plain": [
       "       score   time, sec\n",
       "10  0.664513  132.511580\n",
       "20  0.682591  255.360794\n",
       "30  0.689441  389.976364\n",
       "40  0.694353  510.419979\n",
       "50  0.697628  646.997368\n",
       "60  0.700355  744.602589"
      ]
     },
     "execution_count": 10,
     "metadata": {},
     "output_type": "execute_result"
    }
   ],
   "source": [
    "grad_boost_scores = list(map(np.mean, grad_boost_scores))\n",
    "pd.DataFrame({'score': grad_boost_scores, 'time, sec': map(methodcaller('total_seconds'), grad_boost_times)}, index=range(10, 70, 10))"
   ]
  },
  {
   "cell_type": "markdown",
   "id": "bored-grocery",
   "metadata": {},
   "source": [
    "Время кросс-валидации для 30 деревьев равно 6 минут 53.767331 секунд.  \n",
    "Качество равно 0.689441."
   ]
  },
  {
   "cell_type": "markdown",
   "id": "honey-portable",
   "metadata": {},
   "source": [
    "## Вопрос 4\n",
    "**Имеет ли смысл использовать больше 30 деревьев в градиентном бустинге? Что бы вы предложили делать, чтобы ускорить его обучение при увеличении количества деревьев?**"
   ]
  },
  {
   "cell_type": "markdown",
   "id": "distant-retailer",
   "metadata": {},
   "source": [
    "В данном случае можно попробовать использовать больше, так как качество модели с увеличением количества деревьев только увеличивалось.  \n",
    "Для ускорения обучения деревьев можно увеличить степень регуляризации: уменьшить максимальную глубину деревьев, увеличить гиперпараметр *learning rate* самого бустинга или использовать стохастический градиентный бустинг."
   ]
  },
  {
   "cell_type": "code",
   "execution_count": 11,
   "id": "extra-terrorist",
   "metadata": {
    "ExecuteTime": {
     "end_time": "2021-09-24T09:50:17.964052Z",
     "start_time": "2021-09-24T09:50:16.918065Z"
    }
   },
   "outputs": [
    {
     "data": {
      "image/png": "[encoded data removed]",
      "text/plain": [
       "<Figure size 432x288 with 1 Axes>"
      ]
     },
     "metadata": {
      "needs_background": "light"
     },
     "output_type": "display_data"
    }
   ],
   "source": [
    "plt.plot(range(10, 70, 10), grad_boost_scores)\n",
    "plt.xlabel('n_estimators')\n",
    "plt.ylabel('roc_auc_score')\n",
    "plt.show()"
   ]
  },
  {
   "cell_type": "markdown",
   "id": "crucial-personality",
   "metadata": {},
   "source": [
    "# Подход 2: логистическая регрессия"
   ]
  },
  {
   "cell_type": "markdown",
   "id": "acoustic-trustee",
   "metadata": {},
   "source": [
    "## Вопрос 1\n",
    "**Какое качество получилось у логистической регрессии над всеми исходными признаками? Как оно соотносится с качеством градиентного бустинга? Чем вы можете объяснить эту разницу? Быстрее ли работает логистическая регрессия по сравнению с градиентным бустингом?**"
   ]
  },
  {
   "cell_type": "code",
   "execution_count": 12,
   "id": "legendary-fourth",
   "metadata": {
    "ExecuteTime": {
     "end_time": "2021-09-24T09:50:17.996002Z",
     "start_time": "2021-09-24T09:50:17.971046Z"
    }
   },
   "outputs": [],
   "source": [
    "C_param_values = 10.**np.arange(-5, 5)"
   ]
  },
  {
   "cell_type": "code",
   "execution_count": 13,
   "id": "humanitarian-currency",
   "metadata": {
    "ExecuteTime": {
     "end_time": "2021-09-24T09:50:19.094870Z",
     "start_time": "2021-09-24T09:50:18.002992Z"
    }
   },
   "outputs": [],
   "source": [
    "df_scaled = pd.DataFrame(StandardScaler().fit_transform(df_1), index=df_1.index, columns=df_1.columns)"
   ]
  },
  {
   "cell_type": "code",
   "execution_count": 14,
   "id": "stunning-jamaica",
   "metadata": {
    "ExecuteTime": {
     "end_time": "2021-09-24T09:52:11.203788Z",
     "start_time": "2021-09-24T09:50:19.103861Z"
    }
   },
   "outputs": [],
   "source": [
    "log_reg_1_scores = []\n",
    "log_reg_1_times = []\n",
    "for C in C_param_values:\n",
    "    start = datetime.datetime.now()\n",
    "    log_reg = LogisticRegression(random_state=192, C=C)\n",
    "    log_reg_1_scores.append(cross_val_score(log_reg, df_scaled, target, scoring='roc_auc', cv=kfold))\n",
    "    log_reg_1_times.append(datetime.datetime.now() - start)"
   ]
  },
  {
   "cell_type": "markdown",
   "id": "signed-junction",
   "metadata": {},
   "source": [
    "Качество модели и время обучения на кроссвалидации в зависимости от параметра C."
   ]
  },
  {
   "cell_type": "code",
   "execution_count": 15,
   "id": "baking-notification",
   "metadata": {
    "ExecuteTime": {
     "end_time": "2021-09-24T09:52:11.266804Z",
     "start_time": "2021-09-24T09:52:11.203788Z"
    }
   },
   "outputs": [
    {
     "data": {
      "text/html": [
       "<div>\n",
       "<style scoped>\n",
       "    .dataframe tbody tr th:only-of-type {\n",
       "        vertical-align: middle;\n",
       "    }\n",
       "\n",
       "    .dataframe tbody tr th {\n",
       "        vertical-align: top;\n",
       "    }\n",
       "\n",
       "    .dataframe thead th {\n",
       "        text-align: right;\n",
       "    }\n",
       "</style>\n",
       "<table border=\"1\" class=\"dataframe\">\n",
       "  <thead>\n",
       "    <tr style=\"text-align: right;\">\n",
       "      <th></th>\n",
       "      <th>score</th>\n",
       "      <th>time, sec</th>\n",
       "    </tr>\n",
       "  </thead>\n",
       "  <tbody>\n",
       "    <tr>\n",
       "      <th>0.00001</th>\n",
       "      <td>0.695006</td>\n",
       "      <td>4.645815</td>\n",
       "    </tr>\n",
       "    <tr>\n",
       "      <th>0.00010</th>\n",
       "      <td>0.711085</td>\n",
       "      <td>5.606818</td>\n",
       "    </tr>\n",
       "    <tr>\n",
       "      <th>0.00100</th>\n",
       "      <td>0.716015</td>\n",
       "      <td>9.046581</td>\n",
       "    </tr>\n",
       "    <tr>\n",
       "      <th>0.01000</th>\n",
       "      <td>0.716187</td>\n",
       "      <td>12.890351</td>\n",
       "    </tr>\n",
       "    <tr>\n",
       "      <th>0.10000</th>\n",
       "      <td>0.716163</td>\n",
       "      <td>13.233933</td>\n",
       "    </tr>\n",
       "    <tr>\n",
       "      <th>1.00000</th>\n",
       "      <td>0.716158</td>\n",
       "      <td>13.233931</td>\n",
       "    </tr>\n",
       "    <tr>\n",
       "      <th>10.00000</th>\n",
       "      <td>0.716158</td>\n",
       "      <td>13.406597</td>\n",
       "    </tr>\n",
       "    <tr>\n",
       "      <th>100.00000</th>\n",
       "      <td>0.716158</td>\n",
       "      <td>13.343301</td>\n",
       "    </tr>\n",
       "    <tr>\n",
       "      <th>1000.00000</th>\n",
       "      <td>0.716158</td>\n",
       "      <td>13.218307</td>\n",
       "    </tr>\n",
       "    <tr>\n",
       "      <th>10000.00000</th>\n",
       "      <td>0.716158</td>\n",
       "      <td>13.452678</td>\n",
       "    </tr>\n",
       "  </tbody>\n",
       "</table>\n",
       "</div>"
      ],
      "text/plain": [
       "                score  time, sec\n",
       "0.00001      0.695006   4.645815\n",
       "0.00010      0.711085   5.606818\n",
       "0.00100      0.716015   9.046581\n",
       "0.01000      0.716187  12.890351\n",
       "0.10000      0.716163  13.233933\n",
       "1.00000      0.716158  13.233931\n",
       "10.00000     0.716158  13.406597\n",
       "100.00000    0.716158  13.343301\n",
       "1000.00000   0.716158  13.218307\n",
       "10000.00000  0.716158  13.452678"
      ]
     },
     "execution_count": 15,
     "metadata": {},
     "output_type": "execute_result"
    }
   ],
   "source": [
    "log_reg_1_scores = np.array(list(map(np.mean, log_reg_1_scores)))\n",
    "pd.DataFrame({'score': log_reg_1_scores, 'time, sec': map(methodcaller('total_seconds'), log_reg_1_times)}, index=C_param_values)"
   ]
  },
  {
   "cell_type": "markdown",
   "id": "united-thanks",
   "metadata": {},
   "source": [
    "График качества модели от параметра C."
   ]
  },
  {
   "cell_type": "code",
   "execution_count": 16,
   "id": "corporate-trinidad",
   "metadata": {
    "ExecuteTime": {
     "end_time": "2021-09-24T09:52:12.897817Z",
     "start_time": "2021-09-24T09:52:11.274795Z"
    }
   },
   "outputs": [
    {
     "data": {
      "image/png": "[encoded data removed]",
      "text/plain": [
       "<Figure size 432x288 with 1 Axes>"
      ]
     },
     "metadata": {
      "needs_background": "light"
     },
     "output_type": "display_data"
    }
   ],
   "source": [
    "plt.plot(C_param_values, log_reg_1_scores)\n",
    "plt.xlabel('C')\n",
    "plt.ylabel('roc_auc_score')\n",
    "plt.xscale('log')\n",
    "plt.show()"
   ]
  },
  {
   "cell_type": "markdown",
   "id": "tender-jersey",
   "metadata": {},
   "source": [
    "Значение параметра C, при котором качество достигает максимума."
   ]
  },
  {
   "cell_type": "code",
   "execution_count": 17,
   "id": "apart-klein",
   "metadata": {
    "ExecuteTime": {
     "end_time": "2021-09-24T09:52:12.927544Z",
     "start_time": "2021-09-24T09:52:12.906575Z"
    }
   },
   "outputs": [
    {
     "data": {
      "text/plain": [
       "0.01"
      ]
     },
     "execution_count": 17,
     "metadata": {},
     "output_type": "execute_result"
    }
   ],
   "source": [
    "C_param_values[log_reg_1_scores.argmax()]"
   ]
  },
  {
   "cell_type": "markdown",
   "id": "superior-jonathan",
   "metadata": {},
   "source": [
    "Максимальное качество"
   ]
  },
  {
   "cell_type": "code",
   "execution_count": 18,
   "id": "native-corpus",
   "metadata": {
    "ExecuteTime": {
     "end_time": "2021-09-24T09:52:12.975466Z",
     "start_time": "2021-09-24T09:52:12.934538Z"
    }
   },
   "outputs": [
    {
     "data": {
      "text/plain": [
       "0.7161868008507322"
      ]
     },
     "execution_count": 18,
     "metadata": {},
     "output_type": "execute_result"
    }
   ],
   "source": [
    "log_reg_1_scores.max()"
   ]
  },
  {
   "cell_type": "markdown",
   "id": "minute-shadow",
   "metadata": {},
   "source": [
    "Таким образом, качество логистической регрессии 0.716187 получилось выше качества градиентного бустинга 0.700355 на 60 деревьях. Это может быть связано с тем, что количество деревьев недостаточное, ведь качество модели только увеличивалось. Также это может быть связано с качеством данных. Например, категориальные признаки были использованы как числовые, использован признак время начала. Логистическая регрессия работает быстрее в 811.2/12.5 = 64.896 раз по сравнению с градиентным бустингом на 60 деревьях."
   ]
  },
  {
   "cell_type": "markdown",
   "id": "still-spine",
   "metadata": {},
   "source": [
    "## Вопрос 2\n",
    "**Как влияет на качество логистической регрессии удаление категориальных признаков (укажите новое значение метрики качества)? Чем вы можете объяснить это изменение?**"
   ]
  },
  {
   "cell_type": "code",
   "execution_count": 19,
   "id": "dressed-paint",
   "metadata": {
    "ExecuteTime": {
     "end_time": "2021-09-24T09:52:13.007413Z",
     "start_time": "2021-09-24T09:52:12.990444Z"
    }
   },
   "outputs": [],
   "source": [
    "dropped_features = ['lobby_type'] + [f'{team}{n}_hero' for team, n in product(['r', 'd'], range(1, 6))]"
   ]
  },
  {
   "cell_type": "code",
   "execution_count": 20,
   "id": "paperback-proposal",
   "metadata": {
    "ExecuteTime": {
     "end_time": "2021-09-24T09:52:13.102265Z",
     "start_time": "2021-09-24T09:52:13.016409Z"
    }
   },
   "outputs": [],
   "source": [
    "df_2 = df_scaled.drop(dropped_features, axis=1)"
   ]
  },
  {
   "cell_type": "code",
   "execution_count": 21,
   "id": "white-height",
   "metadata": {
    "ExecuteTime": {
     "end_time": "2021-09-24T09:54:04.796333Z",
     "start_time": "2021-09-24T09:52:13.111258Z"
    }
   },
   "outputs": [],
   "source": [
    "log_reg_2_scores = []\n",
    "log_reg_2_times = []\n",
    "for C in C_param_values:\n",
    "    start = datetime.datetime.now()\n",
    "    log_reg = LogisticRegression(random_state=192, C=C)\n",
    "    log_reg_2_scores.append(cross_val_score(log_reg, df_2, target, scoring='roc_auc', cv=kfold))\n",
    "    log_reg_2_times.append(datetime.datetime.now() - start)"
   ]
  },
  {
   "cell_type": "markdown",
   "id": "supported-munich",
   "metadata": {},
   "source": [
    "Качество модели и время обучения на кроссвалидации в зависимости от параметра C."
   ]
  },
  {
   "cell_type": "code",
   "execution_count": 22,
   "id": "parliamentary-programming",
   "metadata": {
    "ExecuteTime": {
     "end_time": "2021-09-24T09:54:04.853267Z",
     "start_time": "2021-09-24T09:54:04.796333Z"
    },
    "scrolled": true
   },
   "outputs": [
    {
     "data": {
      "text/html": [
       "<div>\n",
       "<style scoped>\n",
       "    .dataframe tbody tr th:only-of-type {\n",
       "        vertical-align: middle;\n",
       "    }\n",
       "\n",
       "    .dataframe tbody tr th {\n",
       "        vertical-align: top;\n",
       "    }\n",
       "\n",
       "    .dataframe thead th {\n",
       "        text-align: right;\n",
       "    }\n",
       "</style>\n",
       "<table border=\"1\" class=\"dataframe\">\n",
       "  <thead>\n",
       "    <tr style=\"text-align: right;\">\n",
       "      <th></th>\n",
       "      <th>score</th>\n",
       "      <th>time, sec</th>\n",
       "    </tr>\n",
       "  </thead>\n",
       "  <tbody>\n",
       "    <tr>\n",
       "      <th>0.00001</th>\n",
       "      <td>0.694947</td>\n",
       "      <td>4.772420</td>\n",
       "    </tr>\n",
       "    <tr>\n",
       "      <th>0.00010</th>\n",
       "      <td>0.711086</td>\n",
       "      <td>5.171600</td>\n",
       "    </tr>\n",
       "    <tr>\n",
       "      <th>0.00100</th>\n",
       "      <td>0.716059</td>\n",
       "      <td>8.577838</td>\n",
       "    </tr>\n",
       "    <tr>\n",
       "      <th>0.01000</th>\n",
       "      <td>0.716234</td>\n",
       "      <td>12.858946</td>\n",
       "    </tr>\n",
       "    <tr>\n",
       "      <th>0.10000</th>\n",
       "      <td>0.716213</td>\n",
       "      <td>13.024294</td>\n",
       "    </tr>\n",
       "    <tr>\n",
       "      <th>1.00000</th>\n",
       "      <td>0.716210</td>\n",
       "      <td>13.408189</td>\n",
       "    </tr>\n",
       "    <tr>\n",
       "      <th>10.00000</th>\n",
       "      <td>0.716209</td>\n",
       "      <td>12.838018</td>\n",
       "    </tr>\n",
       "    <tr>\n",
       "      <th>100.00000</th>\n",
       "      <td>0.716209</td>\n",
       "      <td>13.513581</td>\n",
       "    </tr>\n",
       "    <tr>\n",
       "      <th>1000.00000</th>\n",
       "      <td>0.716209</td>\n",
       "      <td>14.133208</td>\n",
       "    </tr>\n",
       "    <tr>\n",
       "      <th>10000.00000</th>\n",
       "      <td>0.716209</td>\n",
       "      <td>13.347745</td>\n",
       "    </tr>\n",
       "  </tbody>\n",
       "</table>\n",
       "</div>"
      ],
      "text/plain": [
       "                score  time, sec\n",
       "0.00001      0.694947   4.772420\n",
       "0.00010      0.711086   5.171600\n",
       "0.00100      0.716059   8.577838\n",
       "0.01000      0.716234  12.858946\n",
       "0.10000      0.716213  13.024294\n",
       "1.00000      0.716210  13.408189\n",
       "10.00000     0.716209  12.838018\n",
       "100.00000    0.716209  13.513581\n",
       "1000.00000   0.716209  14.133208\n",
       "10000.00000  0.716209  13.347745"
      ]
     },
     "execution_count": 22,
     "metadata": {},
     "output_type": "execute_result"
    }
   ],
   "source": [
    "log_reg_2_scores = np.array(list(map(np.mean, log_reg_2_scores)))\n",
    "pd.DataFrame({'score': log_reg_2_scores, 'time, sec': map(methodcaller('total_seconds'), log_reg_2_times)}, index=C_param_values)"
   ]
  },
  {
   "cell_type": "markdown",
   "id": "nonprofit-turner",
   "metadata": {},
   "source": [
    "График качества модели от параметра C."
   ]
  },
  {
   "cell_type": "code",
   "execution_count": 23,
   "id": "mature-slave",
   "metadata": {
    "ExecuteTime": {
     "end_time": "2021-09-24T09:54:05.940912Z",
     "start_time": "2021-09-24T09:54:04.862253Z"
    }
   },
   "outputs": [
    {
     "data": {
      "image/png": "[encoded data removed]",
      "text/plain": [
       "<Figure size 432x288 with 1 Axes>"
      ]
     },
     "metadata": {
      "needs_background": "light"
     },
     "output_type": "display_data"
    }
   ],
   "source": [
    "plt.plot(C_param_values, log_reg_2_scores)\n",
    "plt.xlabel('C')\n",
    "plt.ylabel('roc_auc_score')\n",
    "plt.xscale('log')\n",
    "plt.show()"
   ]
  },
  {
   "cell_type": "markdown",
   "id": "acquired-abuse",
   "metadata": {},
   "source": [
    "Значение параметра C, при котором качество достигает максимума."
   ]
  },
  {
   "cell_type": "code",
   "execution_count": 24,
   "id": "favorite-resort",
   "metadata": {
    "ExecuteTime": {
     "end_time": "2021-09-24T09:54:05.971895Z",
     "start_time": "2021-09-24T09:54:05.940912Z"
    }
   },
   "outputs": [
    {
     "data": {
      "text/plain": [
       "0.01"
      ]
     },
     "execution_count": 24,
     "metadata": {},
     "output_type": "execute_result"
    }
   ],
   "source": [
    "C_param_values[log_reg_2_scores.argmax()]"
   ]
  },
  {
   "cell_type": "markdown",
   "id": "external-vessel",
   "metadata": {},
   "source": [
    "Максимальное качество"
   ]
  },
  {
   "cell_type": "code",
   "execution_count": 25,
   "id": "mobile-information",
   "metadata": {
    "ExecuteTime": {
     "end_time": "2021-09-24T09:54:06.004941Z",
     "start_time": "2021-09-24T09:54:05.974036Z"
    }
   },
   "outputs": [
    {
     "data": {
      "text/plain": [
       "0.7162342365982566"
      ]
     },
     "execution_count": 25,
     "metadata": {},
     "output_type": "execute_result"
    }
   ],
   "source": [
    "log_reg_2_scores.max()"
   ]
  },
  {
   "cell_type": "markdown",
   "id": "previous-understanding",
   "metadata": {},
   "source": [
    "Качество стало 0.716234, оно увеличилось ненамного — на 0.716234-0.716187=0.000047=4.7e-5. Это связано с тем, что веса удаленных признаков в логистической регрессии было небольшим. "
   ]
  },
  {
   "cell_type": "markdown",
   "id": "periodic-sending",
   "metadata": {},
   "source": [
    "## Вопрос 3\n",
    "**Сколько различных идентификаторов героев существует в данной игре?**"
   ]
  },
  {
   "cell_type": "code",
   "execution_count": 26,
   "id": "aquatic-generic",
   "metadata": {
    "ExecuteTime": {
     "end_time": "2021-09-24T09:54:06.052471Z",
     "start_time": "2021-09-24T09:54:06.025514Z"
    }
   },
   "outputs": [
    {
     "data": {
      "text/plain": [
       "112"
      ]
     },
     "execution_count": 26,
     "metadata": {},
     "output_type": "execute_result"
    }
   ],
   "source": [
    "len(heroes.index)"
   ]
  },
  {
   "cell_type": "markdown",
   "id": "hindu-collectible",
   "metadata": {},
   "source": [
    "Значит, всего в данной игре 112 различных героев."
   ]
  },
  {
   "cell_type": "markdown",
   "id": "martial-status",
   "metadata": {},
   "source": [
    "## Вопрос 4\n",
    "**Какое получилось качество при добавлении \"мешка слов\" по героям? Улучшилось ли оно по сравнению с предыдущим вариантом? Чем вы можете это объяснить?**"
   ]
  },
  {
   "cell_type": "code",
   "execution_count": 27,
   "id": "complimentary-setting",
   "metadata": {
    "ExecuteTime": {
     "end_time": "2021-09-24T09:54:48.972410Z",
     "start_time": "2021-09-24T09:54:06.062459Z"
    }
   },
   "outputs": [],
   "source": [
    "N = len(heroes.index)\n",
    "X_pick = np.zeros((df_1.shape[0], N))\n",
    "for i, match_id in enumerate(df_1.index):\n",
    "    for p in range(5):\n",
    "        X_pick[i, df_1.loc[match_id, 'r%d_hero' % (p + 1)] - 1] = 1\n",
    "        X_pick[i, df_1.loc[match_id, 'd%d_hero' % (p + 1)] - 1] = -1"
   ]
  },
  {
   "cell_type": "code",
   "execution_count": 28,
   "id": "loved-stations",
   "metadata": {
    "ExecuteTime": {
     "end_time": "2021-09-24T09:54:49.080745Z",
     "start_time": "2021-09-24T09:54:48.972410Z"
    }
   },
   "outputs": [],
   "source": [
    "df_3 = df_2.copy()"
   ]
  },
  {
   "cell_type": "code",
   "execution_count": 29,
   "id": "closing-emission",
   "metadata": {
    "ExecuteTime": {
     "end_time": "2021-09-24T09:54:50.364735Z",
     "start_time": "2021-09-24T09:54:49.088742Z"
    }
   },
   "outputs": [],
   "source": [
    "df_3[[f'hero_{i}' for i in heroes.index]] = X_pick"
   ]
  },
  {
   "cell_type": "code",
   "execution_count": 30,
   "id": "acceptable-abuse",
   "metadata": {
    "ExecuteTime": {
     "end_time": "2021-09-24T09:59:52.995493Z",
     "start_time": "2021-09-24T09:54:50.376524Z"
    }
   },
   "outputs": [
    {
     "name": "stderr",
     "output_type": "stream",
     "text": [
      "c:\\users\\user\\appdata\\local\\programs\\python\\python39\\lib\\site-packages\\sklearn\\linear_model\\_logistic.py:763: ConvergenceWarning: lbfgs failed to converge (status=1):\n",
      "STOP: TOTAL NO. of ITERATIONS REACHED LIMIT.\n",
      "\n",
      "Increase the number of iterations (max_iter) or scale the data as shown in:\n",
      "    https://scikit-learn.org/stable/modules/preprocessing.html\n",
      "Please also refer to the documentation for alternative solver options:\n",
      "    https://scikit-learn.org/stable/modules/linear_model.html#logistic-regression\n",
      "  n_iter_i = _check_optimize_result(\n",
      "c:\\users\\user\\appdata\\local\\programs\\python\\python39\\lib\\site-packages\\sklearn\\linear_model\\_logistic.py:763: ConvergenceWarning: lbfgs failed to converge (status=1):\n",
      "STOP: TOTAL NO. of ITERATIONS REACHED LIMIT.\n",
      "\n",
      "Increase the number of iterations (max_iter) or scale the data as shown in:\n",
      "    https://scikit-learn.org/stable/modules/preprocessing.html\n",
      "Please also refer to the documentation for alternative solver options:\n",
      "    https://scikit-learn.org/stable/modules/linear_model.html#logistic-regression\n",
      "  n_iter_i = _check_optimize_result(\n",
      "c:\\users\\user\\appdata\\local\\programs\\python\\python39\\lib\\site-packages\\sklearn\\linear_model\\_logistic.py:763: ConvergenceWarning: lbfgs failed to converge (status=1):\n",
      "STOP: TOTAL NO. of ITERATIONS REACHED LIMIT.\n",
      "\n",
      "Increase the number of iterations (max_iter) or scale the data as shown in:\n",
      "    https://scikit-learn.org/stable/modules/preprocessing.html\n",
      "Please also refer to the documentation for alternative solver options:\n",
      "    https://scikit-learn.org/stable/modules/linear_model.html#logistic-regression\n",
      "  n_iter_i = _check_optimize_result(\n",
      "c:\\users\\user\\appdata\\local\\programs\\python\\python39\\lib\\site-packages\\sklearn\\linear_model\\_logistic.py:763: ConvergenceWarning: lbfgs failed to converge (status=1):\n",
      "STOP: TOTAL NO. of ITERATIONS REACHED LIMIT.\n",
      "\n",
      "Increase the number of iterations (max_iter) or scale the data as shown in:\n",
      "    https://scikit-learn.org/stable/modules/preprocessing.html\n",
      "Please also refer to the documentation for alternative solver options:\n",
      "    https://scikit-learn.org/stable/modules/linear_model.html#logistic-regression\n",
      "  n_iter_i = _check_optimize_result(\n",
      "c:\\users\\user\\appdata\\local\\programs\\python\\python39\\lib\\site-packages\\sklearn\\linear_model\\_logistic.py:763: ConvergenceWarning: lbfgs failed to converge (status=1):\n",
      "STOP: TOTAL NO. of ITERATIONS REACHED LIMIT.\n",
      "\n",
      "Increase the number of iterations (max_iter) or scale the data as shown in:\n",
      "    https://scikit-learn.org/stable/modules/preprocessing.html\n",
      "Please also refer to the documentation for alternative solver options:\n",
      "    https://scikit-learn.org/stable/modules/linear_model.html#logistic-regression\n",
      "  n_iter_i = _check_optimize_result(\n",
      "c:\\users\\user\\appdata\\local\\programs\\python\\python39\\lib\\site-packages\\sklearn\\linear_model\\_logistic.py:763: ConvergenceWarning: lbfgs failed to converge (status=1):\n",
      "STOP: TOTAL NO. of ITERATIONS REACHED LIMIT.\n",
      "\n",
      "Increase the number of iterations (max_iter) or scale the data as shown in:\n",
      "    https://scikit-learn.org/stable/modules/preprocessing.html\n",
      "Please also refer to the documentation for alternative solver options:\n",
      "    https://scikit-learn.org/stable/modules/linear_model.html#logistic-regression\n",
      "  n_iter_i = _check_optimize_result(\n",
      "c:\\users\\user\\appdata\\local\\programs\\python\\python39\\lib\\site-packages\\sklearn\\linear_model\\_logistic.py:763: ConvergenceWarning: lbfgs failed to converge (status=1):\n",
      "STOP: TOTAL NO. of ITERATIONS REACHED LIMIT.\n",
      "\n",
      "Increase the number of iterations (max_iter) or scale the data as shown in:\n",
      "    https://scikit-learn.org/stable/modules/preprocessing.html\n",
      "Please also refer to the documentation for alternative solver options:\n",
      "    https://scikit-learn.org/stable/modules/linear_model.html#logistic-regression\n",
      "  n_iter_i = _check_optimize_result(\n",
      "c:\\users\\user\\appdata\\local\\programs\\python\\python39\\lib\\site-packages\\sklearn\\linear_model\\_logistic.py:763: ConvergenceWarning: lbfgs failed to converge (status=1):\n",
      "STOP: TOTAL NO. of ITERATIONS REACHED LIMIT.\n",
      "\n",
      "Increase the number of iterations (max_iter) or scale the data as shown in:\n",
      "    https://scikit-learn.org/stable/modules/preprocessing.html\n",
      "Please also refer to the documentation for alternative solver options:\n",
      "    https://scikit-learn.org/stable/modules/linear_model.html#logistic-regression\n",
      "  n_iter_i = _check_optimize_result(\n",
      "c:\\users\\user\\appdata\\local\\programs\\python\\python39\\lib\\site-packages\\sklearn\\linear_model\\_logistic.py:763: ConvergenceWarning: lbfgs failed to converge (status=1):\n",
      "STOP: TOTAL NO. of ITERATIONS REACHED LIMIT.\n",
      "\n",
      "Increase the number of iterations (max_iter) or scale the data as shown in:\n",
      "    https://scikit-learn.org/stable/modules/preprocessing.html\n",
      "Please also refer to the documentation for alternative solver options:\n",
      "    https://scikit-learn.org/stable/modules/linear_model.html#logistic-regression\n",
      "  n_iter_i = _check_optimize_result(\n",
      "c:\\users\\user\\appdata\\local\\programs\\python\\python39\\lib\\site-packages\\sklearn\\linear_model\\_logistic.py:763: ConvergenceWarning: lbfgs failed to converge (status=1):\n",
      "STOP: TOTAL NO. of ITERATIONS REACHED LIMIT.\n",
      "\n",
      "Increase the number of iterations (max_iter) or scale the data as shown in:\n",
      "    https://scikit-learn.org/stable/modules/preprocessing.html\n",
      "Please also refer to the documentation for alternative solver options:\n",
      "    https://scikit-learn.org/stable/modules/linear_model.html#logistic-regression\n",
      "  n_iter_i = _check_optimize_result(\n",
      "c:\\users\\user\\appdata\\local\\programs\\python\\python39\\lib\\site-packages\\sklearn\\linear_model\\_logistic.py:763: ConvergenceWarning: lbfgs failed to converge (status=1):\n",
      "STOP: TOTAL NO. of ITERATIONS REACHED LIMIT.\n",
      "\n",
      "Increase the number of iterations (max_iter) or scale the data as shown in:\n",
      "    https://scikit-learn.org/stable/modules/preprocessing.html\n",
      "Please also refer to the documentation for alternative solver options:\n",
      "    https://scikit-learn.org/stable/modules/linear_model.html#logistic-regression\n",
      "  n_iter_i = _check_optimize_result(\n",
      "c:\\users\\user\\appdata\\local\\programs\\python\\python39\\lib\\site-packages\\sklearn\\linear_model\\_logistic.py:763: ConvergenceWarning: lbfgs failed to converge (status=1):\n",
      "STOP: TOTAL NO. of ITERATIONS REACHED LIMIT.\n",
      "\n",
      "Increase the number of iterations (max_iter) or scale the data as shown in:\n",
      "    https://scikit-learn.org/stable/modules/preprocessing.html\n",
      "Please also refer to the documentation for alternative solver options:\n",
      "    https://scikit-learn.org/stable/modules/linear_model.html#logistic-regression\n",
      "  n_iter_i = _check_optimize_result(\n",
      "c:\\users\\user\\appdata\\local\\programs\\python\\python39\\lib\\site-packages\\sklearn\\linear_model\\_logistic.py:763: ConvergenceWarning: lbfgs failed to converge (status=1):\n",
      "STOP: TOTAL NO. of ITERATIONS REACHED LIMIT.\n",
      "\n",
      "Increase the number of iterations (max_iter) or scale the data as shown in:\n",
      "    https://scikit-learn.org/stable/modules/preprocessing.html\n",
      "Please also refer to the documentation for alternative solver options:\n",
      "    https://scikit-learn.org/stable/modules/linear_model.html#logistic-regression\n",
      "  n_iter_i = _check_optimize_result(\n",
      "c:\\users\\user\\appdata\\local\\programs\\python\\python39\\lib\\site-packages\\sklearn\\linear_model\\_logistic.py:763: ConvergenceWarning: lbfgs failed to converge (status=1):\n",
      "STOP: TOTAL NO. of ITERATIONS REACHED LIMIT.\n",
      "\n",
      "Increase the number of iterations (max_iter) or scale the data as shown in:\n",
      "    https://scikit-learn.org/stable/modules/preprocessing.html\n",
      "Please also refer to the documentation for alternative solver options:\n",
      "    https://scikit-learn.org/stable/modules/linear_model.html#logistic-regression\n",
      "  n_iter_i = _check_optimize_result(\n",
      "c:\\users\\user\\appdata\\local\\programs\\python\\python39\\lib\\site-packages\\sklearn\\linear_model\\_logistic.py:763: ConvergenceWarning: lbfgs failed to converge (status=1):\n",
      "STOP: TOTAL NO. of ITERATIONS REACHED LIMIT.\n",
      "\n",
      "Increase the number of iterations (max_iter) or scale the data as shown in:\n",
      "    https://scikit-learn.org/stable/modules/preprocessing.html\n",
      "Please also refer to the documentation for alternative solver options:\n",
      "    https://scikit-learn.org/stable/modules/linear_model.html#logistic-regression\n",
      "  n_iter_i = _check_optimize_result(\n",
      "c:\\users\\user\\appdata\\local\\programs\\python\\python39\\lib\\site-packages\\sklearn\\linear_model\\_logistic.py:763: ConvergenceWarning: lbfgs failed to converge (status=1):\n",
      "STOP: TOTAL NO. of ITERATIONS REACHED LIMIT.\n",
      "\n",
      "Increase the number of iterations (max_iter) or scale the data as shown in:\n",
      "    https://scikit-learn.org/stable/modules/preprocessing.html\n",
      "Please also refer to the documentation for alternative solver options:\n",
      "    https://scikit-learn.org/stable/modules/linear_model.html#logistic-regression\n",
      "  n_iter_i = _check_optimize_result(\n"
     ]
    },
    {
     "name": "stderr",
     "output_type": "stream",
     "text": [
      "c:\\users\\user\\appdata\\local\\programs\\python\\python39\\lib\\site-packages\\sklearn\\linear_model\\_logistic.py:763: ConvergenceWarning: lbfgs failed to converge (status=1):\n",
      "STOP: TOTAL NO. of ITERATIONS REACHED LIMIT.\n",
      "\n",
      "Increase the number of iterations (max_iter) or scale the data as shown in:\n",
      "    https://scikit-learn.org/stable/modules/preprocessing.html\n",
      "Please also refer to the documentation for alternative solver options:\n",
      "    https://scikit-learn.org/stable/modules/linear_model.html#logistic-regression\n",
      "  n_iter_i = _check_optimize_result(\n",
      "c:\\users\\user\\appdata\\local\\programs\\python\\python39\\lib\\site-packages\\sklearn\\linear_model\\_logistic.py:763: ConvergenceWarning: lbfgs failed to converge (status=1):\n",
      "STOP: TOTAL NO. of ITERATIONS REACHED LIMIT.\n",
      "\n",
      "Increase the number of iterations (max_iter) or scale the data as shown in:\n",
      "    https://scikit-learn.org/stable/modules/preprocessing.html\n",
      "Please also refer to the documentation for alternative solver options:\n",
      "    https://scikit-learn.org/stable/modules/linear_model.html#logistic-regression\n",
      "  n_iter_i = _check_optimize_result(\n",
      "c:\\users\\user\\appdata\\local\\programs\\python\\python39\\lib\\site-packages\\sklearn\\linear_model\\_logistic.py:763: ConvergenceWarning: lbfgs failed to converge (status=1):\n",
      "STOP: TOTAL NO. of ITERATIONS REACHED LIMIT.\n",
      "\n",
      "Increase the number of iterations (max_iter) or scale the data as shown in:\n",
      "    https://scikit-learn.org/stable/modules/preprocessing.html\n",
      "Please also refer to the documentation for alternative solver options:\n",
      "    https://scikit-learn.org/stable/modules/linear_model.html#logistic-regression\n",
      "  n_iter_i = _check_optimize_result(\n",
      "c:\\users\\user\\appdata\\local\\programs\\python\\python39\\lib\\site-packages\\sklearn\\linear_model\\_logistic.py:763: ConvergenceWarning: lbfgs failed to converge (status=1):\n",
      "STOP: TOTAL NO. of ITERATIONS REACHED LIMIT.\n",
      "\n",
      "Increase the number of iterations (max_iter) or scale the data as shown in:\n",
      "    https://scikit-learn.org/stable/modules/preprocessing.html\n",
      "Please also refer to the documentation for alternative solver options:\n",
      "    https://scikit-learn.org/stable/modules/linear_model.html#logistic-regression\n",
      "  n_iter_i = _check_optimize_result(\n",
      "c:\\users\\user\\appdata\\local\\programs\\python\\python39\\lib\\site-packages\\sklearn\\linear_model\\_logistic.py:763: ConvergenceWarning: lbfgs failed to converge (status=1):\n",
      "STOP: TOTAL NO. of ITERATIONS REACHED LIMIT.\n",
      "\n",
      "Increase the number of iterations (max_iter) or scale the data as shown in:\n",
      "    https://scikit-learn.org/stable/modules/preprocessing.html\n",
      "Please also refer to the documentation for alternative solver options:\n",
      "    https://scikit-learn.org/stable/modules/linear_model.html#logistic-regression\n",
      "  n_iter_i = _check_optimize_result(\n",
      "c:\\users\\user\\appdata\\local\\programs\\python\\python39\\lib\\site-packages\\sklearn\\linear_model\\_logistic.py:763: ConvergenceWarning: lbfgs failed to converge (status=1):\n",
      "STOP: TOTAL NO. of ITERATIONS REACHED LIMIT.\n",
      "\n",
      "Increase the number of iterations (max_iter) or scale the data as shown in:\n",
      "    https://scikit-learn.org/stable/modules/preprocessing.html\n",
      "Please also refer to the documentation for alternative solver options:\n",
      "    https://scikit-learn.org/stable/modules/linear_model.html#logistic-regression\n",
      "  n_iter_i = _check_optimize_result(\n",
      "c:\\users\\user\\appdata\\local\\programs\\python\\python39\\lib\\site-packages\\sklearn\\linear_model\\_logistic.py:763: ConvergenceWarning: lbfgs failed to converge (status=1):\n",
      "STOP: TOTAL NO. of ITERATIONS REACHED LIMIT.\n",
      "\n",
      "Increase the number of iterations (max_iter) or scale the data as shown in:\n",
      "    https://scikit-learn.org/stable/modules/preprocessing.html\n",
      "Please also refer to the documentation for alternative solver options:\n",
      "    https://scikit-learn.org/stable/modules/linear_model.html#logistic-regression\n",
      "  n_iter_i = _check_optimize_result(\n",
      "c:\\users\\user\\appdata\\local\\programs\\python\\python39\\lib\\site-packages\\sklearn\\linear_model\\_logistic.py:763: ConvergenceWarning: lbfgs failed to converge (status=1):\n",
      "STOP: TOTAL NO. of ITERATIONS REACHED LIMIT.\n",
      "\n",
      "Increase the number of iterations (max_iter) or scale the data as shown in:\n",
      "    https://scikit-learn.org/stable/modules/preprocessing.html\n",
      "Please also refer to the documentation for alternative solver options:\n",
      "    https://scikit-learn.org/stable/modules/linear_model.html#logistic-regression\n",
      "  n_iter_i = _check_optimize_result(\n",
      "c:\\users\\user\\appdata\\local\\programs\\python\\python39\\lib\\site-packages\\sklearn\\linear_model\\_logistic.py:763: ConvergenceWarning: lbfgs failed to converge (status=1):\n",
      "STOP: TOTAL NO. of ITERATIONS REACHED LIMIT.\n",
      "\n",
      "Increase the number of iterations (max_iter) or scale the data as shown in:\n",
      "    https://scikit-learn.org/stable/modules/preprocessing.html\n",
      "Please also refer to the documentation for alternative solver options:\n",
      "    https://scikit-learn.org/stable/modules/linear_model.html#logistic-regression\n",
      "  n_iter_i = _check_optimize_result(\n",
      "c:\\users\\user\\appdata\\local\\programs\\python\\python39\\lib\\site-packages\\sklearn\\linear_model\\_logistic.py:763: ConvergenceWarning: lbfgs failed to converge (status=1):\n",
      "STOP: TOTAL NO. of ITERATIONS REACHED LIMIT.\n",
      "\n",
      "Increase the number of iterations (max_iter) or scale the data as shown in:\n",
      "    https://scikit-learn.org/stable/modules/preprocessing.html\n",
      "Please also refer to the documentation for alternative solver options:\n",
      "    https://scikit-learn.org/stable/modules/linear_model.html#logistic-regression\n",
      "  n_iter_i = _check_optimize_result(\n",
      "c:\\users\\user\\appdata\\local\\programs\\python\\python39\\lib\\site-packages\\sklearn\\linear_model\\_logistic.py:763: ConvergenceWarning: lbfgs failed to converge (status=1):\n",
      "STOP: TOTAL NO. of ITERATIONS REACHED LIMIT.\n",
      "\n",
      "Increase the number of iterations (max_iter) or scale the data as shown in:\n",
      "    https://scikit-learn.org/stable/modules/preprocessing.html\n",
      "Please also refer to the documentation for alternative solver options:\n",
      "    https://scikit-learn.org/stable/modules/linear_model.html#logistic-regression\n",
      "  n_iter_i = _check_optimize_result(\n",
      "c:\\users\\user\\appdata\\local\\programs\\python\\python39\\lib\\site-packages\\sklearn\\linear_model\\_logistic.py:763: ConvergenceWarning: lbfgs failed to converge (status=1):\n",
      "STOP: TOTAL NO. of ITERATIONS REACHED LIMIT.\n",
      "\n",
      "Increase the number of iterations (max_iter) or scale the data as shown in:\n",
      "    https://scikit-learn.org/stable/modules/preprocessing.html\n",
      "Please also refer to the documentation for alternative solver options:\n",
      "    https://scikit-learn.org/stable/modules/linear_model.html#logistic-regression\n",
      "  n_iter_i = _check_optimize_result(\n",
      "c:\\users\\user\\appdata\\local\\programs\\python\\python39\\lib\\site-packages\\sklearn\\linear_model\\_logistic.py:763: ConvergenceWarning: lbfgs failed to converge (status=1):\n",
      "STOP: TOTAL NO. of ITERATIONS REACHED LIMIT.\n",
      "\n",
      "Increase the number of iterations (max_iter) or scale the data as shown in:\n",
      "    https://scikit-learn.org/stable/modules/preprocessing.html\n",
      "Please also refer to the documentation for alternative solver options:\n",
      "    https://scikit-learn.org/stable/modules/linear_model.html#logistic-regression\n",
      "  n_iter_i = _check_optimize_result(\n"
     ]
    }
   ],
   "source": [
    "log_reg_3_scores = []\n",
    "log_reg_3_times = []\n",
    "for C in C_param_values:\n",
    "    start = datetime.datetime.now()\n",
    "    log_reg = LogisticRegression(random_state=192, C=C)\n",
    "    log_reg_3_scores.append(cross_val_score(log_reg, df_3, target, scoring='roc_auc', cv=kfold))\n",
    "    log_reg_3_times.append(datetime.datetime.now() - start)"
   ]
  },
  {
   "cell_type": "markdown",
   "id": "sudden-lawyer",
   "metadata": {},
   "source": [
    "Качество модели и время обучения на кроссвалидации в зависимости от параметра C."
   ]
  },
  {
   "cell_type": "code",
   "execution_count": 31,
   "id": "hundred-single",
   "metadata": {
    "ExecuteTime": {
     "end_time": "2021-09-24T09:59:53.210333Z",
     "start_time": "2021-09-24T09:59:53.009724Z"
    }
   },
   "outputs": [
    {
     "data": {
      "text/html": [
       "<div>\n",
       "<style scoped>\n",
       "    .dataframe tbody tr th:only-of-type {\n",
       "        vertical-align: middle;\n",
       "    }\n",
       "\n",
       "    .dataframe tbody tr th {\n",
       "        vertical-align: top;\n",
       "    }\n",
       "\n",
       "    .dataframe thead th {\n",
       "        text-align: right;\n",
       "    }\n",
       "</style>\n",
       "<table border=\"1\" class=\"dataframe\">\n",
       "  <thead>\n",
       "    <tr style=\"text-align: right;\">\n",
       "      <th></th>\n",
       "      <th>score</th>\n",
       "      <th>time, sec</th>\n",
       "    </tr>\n",
       "  </thead>\n",
       "  <tbody>\n",
       "    <tr>\n",
       "      <th>0.00001</th>\n",
       "      <td>0.699011</td>\n",
       "      <td>7.088208</td>\n",
       "    </tr>\n",
       "    <tr>\n",
       "      <th>0.00010</th>\n",
       "      <td>0.724767</td>\n",
       "      <td>8.812205</td>\n",
       "    </tr>\n",
       "    <tr>\n",
       "      <th>0.00100</th>\n",
       "      <td>0.746009</td>\n",
       "      <td>18.567501</td>\n",
       "    </tr>\n",
       "    <tr>\n",
       "      <th>0.01000</th>\n",
       "      <td>0.751485</td>\n",
       "      <td>31.200797</td>\n",
       "    </tr>\n",
       "    <tr>\n",
       "      <th>0.10000</th>\n",
       "      <td>0.751720</td>\n",
       "      <td>38.881069</td>\n",
       "    </tr>\n",
       "    <tr>\n",
       "      <th>1.00000</th>\n",
       "      <td>0.751706</td>\n",
       "      <td>39.248072</td>\n",
       "    </tr>\n",
       "    <tr>\n",
       "      <th>10.00000</th>\n",
       "      <td>0.751707</td>\n",
       "      <td>39.396234</td>\n",
       "    </tr>\n",
       "    <tr>\n",
       "      <th>100.00000</th>\n",
       "      <td>0.751706</td>\n",
       "      <td>40.477075</td>\n",
       "    </tr>\n",
       "    <tr>\n",
       "      <th>1000.00000</th>\n",
       "      <td>0.751706</td>\n",
       "      <td>39.097379</td>\n",
       "    </tr>\n",
       "    <tr>\n",
       "      <th>10000.00000</th>\n",
       "      <td>0.751706</td>\n",
       "      <td>39.827926</td>\n",
       "    </tr>\n",
       "  </tbody>\n",
       "</table>\n",
       "</div>"
      ],
      "text/plain": [
       "                score  time, sec\n",
       "0.00001      0.699011   7.088208\n",
       "0.00010      0.724767   8.812205\n",
       "0.00100      0.746009  18.567501\n",
       "0.01000      0.751485  31.200797\n",
       "0.10000      0.751720  38.881069\n",
       "1.00000      0.751706  39.248072\n",
       "10.00000     0.751707  39.396234\n",
       "100.00000    0.751706  40.477075\n",
       "1000.00000   0.751706  39.097379\n",
       "10000.00000  0.751706  39.827926"
      ]
     },
     "execution_count": 31,
     "metadata": {},
     "output_type": "execute_result"
    }
   ],
   "source": [
    "log_reg_3_scores = np.array(list(map(np.mean, log_reg_3_scores)))\n",
    "pd.DataFrame({'score': log_reg_3_scores, 'time, sec': map(methodcaller('total_seconds'), log_reg_3_times)}, index=C_param_values)"
   ]
  },
  {
   "cell_type": "markdown",
   "id": "aggregate-branch",
   "metadata": {},
   "source": [
    "График качества модели от параметра C."
   ]
  },
  {
   "cell_type": "code",
   "execution_count": 32,
   "id": "patent-affect",
   "metadata": {
    "ExecuteTime": {
     "end_time": "2021-09-24T09:59:54.758691Z",
     "start_time": "2021-09-24T09:59:53.220316Z"
    }
   },
   "outputs": [
    {
     "data": {
      "image/png": "[encoded data removed]",
      "text/plain": [
       "<Figure size 432x288 with 1 Axes>"
      ]
     },
     "metadata": {
      "needs_background": "light"
     },
     "output_type": "display_data"
    }
   ],
   "source": [
    "plt.plot(C_param_values, log_reg_3_scores)\n",
    "plt.xlabel('C')\n",
    "plt.ylabel('roc_auc_score')\n",
    "plt.xscale('log')\n",
    "plt.show()"
   ]
  },
  {
   "cell_type": "markdown",
   "id": "improving-consistency",
   "metadata": {},
   "source": [
    "Значение параметра C, при котором качество достигает максимума."
   ]
  },
  {
   "cell_type": "code",
   "execution_count": 33,
   "id": "promotional-basketball",
   "metadata": {
    "ExecuteTime": {
     "end_time": "2021-09-24T09:59:54.806615Z",
     "start_time": "2021-09-24T09:59:54.766681Z"
    }
   },
   "outputs": [
    {
     "data": {
      "text/plain": [
       "0.1"
      ]
     },
     "execution_count": 33,
     "metadata": {},
     "output_type": "execute_result"
    }
   ],
   "source": [
    "C_param_values[log_reg_3_scores.argmax()]"
   ]
  },
  {
   "cell_type": "markdown",
   "id": "favorite-socket",
   "metadata": {},
   "source": [
    "Максимальное качество"
   ]
  },
  {
   "cell_type": "code",
   "execution_count": 34,
   "id": "every-basis",
   "metadata": {
    "ExecuteTime": {
     "end_time": "2021-09-24T09:59:54.840570Z",
     "start_time": "2021-09-24T09:59:54.814606Z"
    }
   },
   "outputs": [
    {
     "data": {
      "text/plain": [
       "0.7517199228284378"
      ]
     },
     "execution_count": 34,
     "metadata": {},
     "output_type": "execute_result"
    }
   ],
   "source": [
    "log_reg_3_scores.max()"
   ]
  },
  {
   "cell_type": "markdown",
   "id": "deluxe-registrar",
   "metadata": {},
   "source": [
    "Качество на новых данных равно 0.751520, достигается при C=0.1. Оно несомненно увеличилось. Это связано с тем, что категориальная переменная теперь закодирована и используется именно как категориальная, а не числовая."
   ]
  },
  {
   "cell_type": "markdown",
   "id": "declared-trace",
   "metadata": {},
   "source": [
    "## Вопрос 5\n",
    "**Какое минимальное и максимальное значение прогноза на тестовой выборке получилось у лучшего из алгоритмов?**"
   ]
  },
  {
   "cell_type": "code",
   "execution_count": 35,
   "id": "affecting-verse",
   "metadata": {
    "ExecuteTime": {
     "end_time": "2021-09-24T09:59:55.593836Z",
     "start_time": "2021-09-24T09:59:54.849555Z"
    }
   },
   "outputs": [],
   "source": [
    "features_test = pd.read_csv('data/features_test.csv', index_col='match_id')"
   ]
  },
  {
   "cell_type": "markdown",
   "id": "seeing-bacteria",
   "metadata": {},
   "source": [
    "Преобразование данных, как и тренировочных"
   ]
  },
  {
   "cell_type": "code",
   "execution_count": 36,
   "id": "applicable-assets",
   "metadata": {
    "ExecuteTime": {
     "end_time": "2021-09-24T09:59:55.862561Z",
     "start_time": "2021-09-24T09:59:55.593836Z"
    }
   },
   "outputs": [],
   "source": [
    "features_test.fillna(value=0, inplace=True)\n",
    "test_df_scaled = pd.DataFrame(StandardScaler().fit_transform(features_test), index=features_test.index, columns=features_test.columns)"
   ]
  },
  {
   "cell_type": "code",
   "execution_count": 37,
   "id": "alive-geology",
   "metadata": {
    "ExecuteTime": {
     "end_time": "2021-09-24T10:00:03.497635Z",
     "start_time": "2021-09-24T09:59:55.871555Z"
    }
   },
   "outputs": [],
   "source": [
    "N = len(heroes.index)\n",
    "X_pick_test = np.zeros((features_test.shape[0], N))\n",
    "for i, match_id in enumerate(features_test.index):\n",
    "    for p in range(5):\n",
    "        X_pick_test[i, features_test.loc[match_id, 'r%d_hero' % (p + 1)] - 1] = 1\n",
    "        X_pick_test[i, features_test.loc[match_id, 'd%d_hero' % (p + 1)] - 1] = -1"
   ]
  },
  {
   "cell_type": "code",
   "execution_count": 38,
   "id": "obvious-evaluation",
   "metadata": {
    "ExecuteTime": {
     "end_time": "2021-09-24T10:00:03.984787Z",
     "start_time": "2021-09-24T10:00:03.497635Z"
    }
   },
   "outputs": [],
   "source": [
    "test_df_scaled[[f'hero_{i}' for i in heroes.index]] = X_pick_test\n",
    "test_df_scaled.drop(dropped_features, axis=1, inplace=True)"
   ]
  },
  {
   "cell_type": "markdown",
   "id": "solved-campus",
   "metadata": {},
   "source": [
    "Тренировка лучшей модели"
   ]
  },
  {
   "cell_type": "code",
   "execution_count": 39,
   "id": "engaging-chart",
   "metadata": {
    "ExecuteTime": {
     "end_time": "2021-09-24T10:00:04.016858Z",
     "start_time": "2021-09-24T10:00:03.984787Z"
    }
   },
   "outputs": [],
   "source": [
    "log_reg_best = LogisticRegression(random_state=192, C=0.1)"
   ]
  },
  {
   "cell_type": "code",
   "execution_count": 40,
   "id": "sound-allowance",
   "metadata": {
    "ExecuteTime": {
     "end_time": "2021-09-24T10:00:13.478674Z",
     "start_time": "2021-09-24T10:00:04.025846Z"
    },
    "scrolled": true
   },
   "outputs": [
    {
     "name": "stderr",
     "output_type": "stream",
     "text": [
      "c:\\users\\user\\appdata\\local\\programs\\python\\python39\\lib\\site-packages\\sklearn\\linear_model\\_logistic.py:763: ConvergenceWarning: lbfgs failed to converge (status=1):\n",
      "STOP: TOTAL NO. of ITERATIONS REACHED LIMIT.\n",
      "\n",
      "Increase the number of iterations (max_iter) or scale the data as shown in:\n",
      "    https://scikit-learn.org/stable/modules/preprocessing.html\n",
      "Please also refer to the documentation for alternative solver options:\n",
      "    https://scikit-learn.org/stable/modules/linear_model.html#logistic-regression\n",
      "  n_iter_i = _check_optimize_result(\n"
     ]
    },
    {
     "data": {
      "text/plain": [
       "LogisticRegression(C=0.1, random_state=192)"
      ]
     },
     "execution_count": 40,
     "metadata": {},
     "output_type": "execute_result"
    }
   ],
   "source": [
    "log_reg_best.fit(df_3, target)"
   ]
  },
  {
   "cell_type": "code",
   "execution_count": 41,
   "id": "liquid-scene",
   "metadata": {
    "ExecuteTime": {
     "end_time": "2021-09-24T10:00:13.557250Z",
     "start_time": "2021-09-24T10:00:13.487631Z"
    }
   },
   "outputs": [],
   "source": [
    "predicted = log_reg_best.predict_proba(test_df_scaled)"
   ]
  },
  {
   "cell_type": "code",
   "execution_count": 42,
   "id": "naval-enough",
   "metadata": {
    "ExecuteTime": {
     "end_time": "2021-09-24T10:00:13.589201Z",
     "start_time": "2021-09-24T10:00:13.570239Z"
    }
   },
   "outputs": [],
   "source": [
    "predicted_r_win = predicted[:, 1]"
   ]
  },
  {
   "cell_type": "markdown",
   "id": "acceptable-adventure",
   "metadata": {},
   "source": [
    "Минимальное значение прогноза"
   ]
  },
  {
   "cell_type": "code",
   "execution_count": 43,
   "id": "strange-wrist",
   "metadata": {
    "ExecuteTime": {
     "end_time": "2021-09-24T10:00:13.621159Z",
     "start_time": "2021-09-24T10:00:13.598189Z"
    }
   },
   "outputs": [
    {
     "data": {
      "text/plain": [
       "0.008583784557471335"
      ]
     },
     "execution_count": 43,
     "metadata": {},
     "output_type": "execute_result"
    }
   ],
   "source": [
    "predicted_r_win.min()"
   ]
  },
  {
   "cell_type": "markdown",
   "id": "progressive-rabbit",
   "metadata": {},
   "source": [
    "Максимальное значение прогноза"
   ]
  },
  {
   "cell_type": "code",
   "execution_count": 44,
   "id": "working-preliminary",
   "metadata": {
    "ExecuteTime": {
     "end_time": "2021-09-24T10:00:13.653107Z",
     "start_time": "2021-09-24T10:00:13.631136Z"
    }
   },
   "outputs": [
    {
     "data": {
      "text/plain": [
       "0.9964598059905446"
      ]
     },
     "execution_count": 44,
     "metadata": {},
     "output_type": "execute_result"
    }
   ],
   "source": [
    "predicted_r_win.max()"
   ]
  },
  {
   "cell_type": "markdown",
   "id": "three-associate",
   "metadata": {},
   "source": [
    "Минимальное значение прогноза - 0.00858  \n",
    "Максимальное значение прогноза - 0.99646"
   ]
  },
  {
   "cell_type": "markdown",
   "id": "broadband-living",
   "metadata": {},
   "source": [
    "# My experiments"
   ]
  },
  {
   "cell_type": "markdown",
   "id": "statewide-diana",
   "metadata": {},
   "source": [
    "I tried to fill nans with -10000 and 10000 as outliers, 0 and the mean values as default. I used logistic regression, gradient and adaptive boostings, kNN method, SGD and stacking. Also I reduced the dimension of the data in case filling nans with -10000."
   ]
  },
  {
   "cell_type": "code",
   "execution_count": 1,
   "id": "loose-october",
   "metadata": {
    "ExecuteTime": {
     "end_time": "2021-10-25T19:48:45.280751Z",
     "start_time": "2021-10-25T19:48:40.717733Z"
    }
   },
   "outputs": [],
   "source": [
    "import datetime\n",
    "from functools import reduce\n",
    "from itertools import product\n",
    "import matplotlib.pyplot as plt\n",
    "import numpy as np\n",
    "import pandas as pd\n",
    "from sklearn.ensemble import GradientBoostingClassifier, AdaBoostClassifier\n",
    "from sklearn.linear_model import LogisticRegression, SGDClassifier\n",
    "from sklearn.metrics import roc_auc_score\n",
    "from sklearn.model_selection import KFold, cross_val_score, GridSearchCV, train_test_split\n",
    "from sklearn.neighbors import KNeighborsClassifier\n",
    "from sklearn.preprocessing import StandardScaler\n",
    "from sklearn.svm import SVC, LinearSVC\n",
    "from sklearn.tree import DecisionTreeClassifier\n",
    "from lightgbm import LGBMClassifier\n",
    "import json"
   ]
  },
  {
   "cell_type": "code",
   "execution_count": 2,
   "id": "sixth-vinyl",
   "metadata": {
    "ExecuteTime": {
     "end_time": "2021-10-25T19:48:49.335771Z",
     "start_time": "2021-10-25T19:48:45.290735Z"
    }
   },
   "outputs": [],
   "source": [
    "heroes = pd.read_csv('data/dictionaries/heroes.csv', index_col='id')\n",
    "lobbies = pd.read_csv('data/dictionaries/lobbies.csv', index_col='id')\n",
    "features = pd.read_csv('data/features.csv', index_col='match_id')"
   ]
  },
  {
   "cell_type": "code",
   "execution_count": 3,
   "id": "bright-overall",
   "metadata": {
    "ExecuteTime": {
     "end_time": "2021-10-25T19:48:49.382248Z",
     "start_time": "2021-10-25T19:48:49.335771Z"
    }
   },
   "outputs": [
    {
     "data": {
      "text/plain": [
       "1    55962\n",
       "7    28550\n",
       "0    12718\n",
       "Name: lobby_type, dtype: int64"
      ]
     },
     "execution_count": 3,
     "metadata": {},
     "output_type": "execute_result"
    }
   ],
   "source": [
    "features.lobby_type.value_counts()"
   ]
  },
  {
   "cell_type": "code",
   "execution_count": 4,
   "id": "municipal-fusion",
   "metadata": {
    "ExecuteTime": {
     "end_time": "2021-10-25T19:48:49.444152Z",
     "start_time": "2021-10-25T19:48:49.393234Z"
    }
   },
   "outputs": [],
   "source": [
    "class StackingEnsemble:\n",
    "    \"\"\"\n",
    "    Stacking ensemble\n",
    "    ---------\n",
    "    layers: list of lists of classifiers\n",
    "    \n",
    "    It consists of the lists of classifiers used in\n",
    "    layers for stacking. The last layer must consist of 1 classifier\n",
    "    otherwise the exception will be thrown\"\"\"\n",
    "    def __init__(self, layers):\n",
    "        assert len(layers[-1]) == 1\n",
    "        assert type(layers) is list\n",
    "        assert all(map(lambda layer: type(layer) is list, layers))\n",
    "        self.layers = []\n",
    "        for layer in layers:\n",
    "            self.layers.append(layer.copy())\n",
    "        self.n_layers = len(self.layers)\n",
    "    \n",
    "    def fit(self, X, y):\n",
    "        current_X = X.copy()\n",
    "        current_y = y.copy()\n",
    "        for i, layer in enumerate(self.layers):\n",
    "            if i == self.n_layers - 1:\n",
    "                layer[0].fit(current_X, current_y)\n",
    "                break\n",
    "            X_train, X_test, y_train, y_test = train_test_split(current_X, current_y,\n",
    "                                                                train_size=len(current_X) // (self.n_layers - i))\n",
    "            for clf in layer:\n",
    "                clf.fit(X_train, y_train)\n",
    "            current_X = pd.DataFrame({\n",
    "                k: clf.predict(X_test)\n",
    "                for k, clf in enumerate(layer)\n",
    "            })\n",
    "            current_y = y_test\n",
    "    \n",
    "    def predict(self, X):\n",
    "        current_X = X.copy()\n",
    "        for layer in self.layers:\n",
    "            current_X = pd.DataFrame({\n",
    "                k: clf.predict(current_X)\n",
    "                for k, clf in enumerate(layer)\n",
    "            })\n",
    "        return current_X\n",
    "    \n",
    "    def predict_proba(self, X):\n",
    "        current_X = X.copy()\n",
    "        for layer in self.layers:\n",
    "            current_X = pd.DataFrame({\n",
    "                k: clf.predict_proba(current_X)[:, 1]\n",
    "                for k, clf in enumerate(layer)\n",
    "            })\n",
    "        return current_X"
   ]
  },
  {
   "cell_type": "code",
   "execution_count": 5,
   "id": "medium-nebraska",
   "metadata": {
    "ExecuteTime": {
     "end_time": "2021-10-25T19:49:00.303743Z",
     "start_time": "2021-10-25T19:48:49.451144Z"
    }
   },
   "outputs": [],
   "source": [
    "X = pd.read_csv('data/X.csv', index_col='match_id')\n",
    "y = pd.read_csv('data/y.csv', index_col='match_id')"
   ]
  },
  {
   "cell_type": "code",
   "execution_count": 6,
   "id": "considered-stupid",
   "metadata": {
    "ExecuteTime": {
     "end_time": "2021-10-25T19:49:00.541069Z",
     "start_time": "2021-10-25T19:49:00.303743Z"
    }
   },
   "outputs": [
    {
     "name": "stdout",
     "output_type": "stream",
     "text": [
      "[108, 109, 111, 113]\n"
     ]
    }
   ],
   "source": [
    "print([i for i in heroes.index if (X[f'r_hero_{i}'] == 0).all()])"
   ]
  },
  {
   "cell_type": "code",
   "execution_count": 7,
   "id": "affecting-mexico",
   "metadata": {
    "ExecuteTime": {
     "end_time": "2021-10-25T19:49:00.588991Z",
     "start_time": "2021-10-25T19:49:00.550057Z"
    },
    "scrolled": true
   },
   "outputs": [
    {
     "name": "stdout",
     "output_type": "stream",
     "text": [
      "[-1, 2, 3, 4, 5, 6, 8]\n"
     ]
    }
   ],
   "source": [
    "print([i for i in lobbies.index if (X[f'lobby_type_{i}'] == 0).all()])"
   ]
  },
  {
   "cell_type": "markdown",
   "id": "progressive-psychiatry",
   "metadata": {},
   "source": [
    "So these columns contains only zeros. They can be removed"
   ]
  },
  {
   "cell_type": "code",
   "execution_count": 8,
   "id": "analyzed-bandwidth",
   "metadata": {
    "ExecuteTime": {
     "end_time": "2021-10-25T19:49:00.636923Z",
     "start_time": "2021-10-25T19:49:00.599978Z"
    }
   },
   "outputs": [],
   "source": [
    "columns_to_drop = ['start_time'] + [f'lobby_type_{k}' for k in [-1, 2, 3, 4, 5, 6, 8]] +\\\n",
    "                                        [f'{team}_hero_{hero}' for team, hero in product(['r', 'd'], [108, 109, 111, 113])]"
   ]
  },
  {
   "cell_type": "code",
   "execution_count": 9,
   "id": "musical-villa",
   "metadata": {
    "ExecuteTime": {
     "end_time": "2021-10-25T19:49:00.907491Z",
     "start_time": "2021-10-25T19:49:00.653894Z"
    }
   },
   "outputs": [],
   "source": [
    "X.drop(columns=columns_to_drop, inplace=True)"
   ]
  },
  {
   "cell_type": "code",
   "execution_count": 10,
   "id": "acquired-inspection",
   "metadata": {
    "ExecuteTime": {
     "end_time": "2021-10-25T19:49:01.460082Z",
     "start_time": "2021-10-25T19:49:00.918478Z"
    }
   },
   "outputs": [],
   "source": [
    "X_with_nans = X.replace(to_replace=-10000, value=np.nan)"
   ]
  },
  {
   "cell_type": "code",
   "execution_count": 11,
   "id": "regulated-blond",
   "metadata": {
    "ExecuteTime": {
     "end_time": "2021-10-25T19:49:01.570274Z",
     "start_time": "2021-10-25T19:49:01.468433Z"
    }
   },
   "outputs": [
    {
     "data": {
      "text/html": [
       "<div>\n",
       "<style scoped>\n",
       "    .dataframe tbody tr th:only-of-type {\n",
       "        vertical-align: middle;\n",
       "    }\n",
       "\n",
       "    .dataframe tbody tr th {\n",
       "        vertical-align: top;\n",
       "    }\n",
       "\n",
       "    .dataframe thead th {\n",
       "        text-align: right;\n",
       "    }\n",
       "</style>\n",
       "<table border=\"1\" class=\"dataframe\">\n",
       "  <thead>\n",
       "    <tr style=\"text-align: right;\">\n",
       "      <th></th>\n",
       "      <th>first_blood_time</th>\n",
       "      <th>radiant_bottle_time</th>\n",
       "      <th>radiant_courier_time</th>\n",
       "      <th>radiant_flying_courier_time</th>\n",
       "      <th>radiant_tpscroll_count</th>\n",
       "      <th>radiant_boots_count</th>\n",
       "      <th>radiant_ward_observer_count</th>\n",
       "      <th>radiant_ward_sentry_count</th>\n",
       "      <th>radiant_first_ward_time</th>\n",
       "      <th>dire_bottle_time</th>\n",
       "      <th>...</th>\n",
       "      <th>d_team_gold</th>\n",
       "      <th>d_team_lh</th>\n",
       "      <th>d_team_kills</th>\n",
       "      <th>d_team_deaths</th>\n",
       "      <th>d_team_items</th>\n",
       "      <th>lobby_type_0</th>\n",
       "      <th>lobby_type_1</th>\n",
       "      <th>lobby_type_7</th>\n",
       "      <th>was_first_blood</th>\n",
       "      <th>first_blood_r</th>\n",
       "    </tr>\n",
       "    <tr>\n",
       "      <th>match_id</th>\n",
       "      <th></th>\n",
       "      <th></th>\n",
       "      <th></th>\n",
       "      <th></th>\n",
       "      <th></th>\n",
       "      <th></th>\n",
       "      <th></th>\n",
       "      <th></th>\n",
       "      <th></th>\n",
       "      <th></th>\n",
       "      <th></th>\n",
       "      <th></th>\n",
       "      <th></th>\n",
       "      <th></th>\n",
       "      <th></th>\n",
       "      <th></th>\n",
       "      <th></th>\n",
       "      <th></th>\n",
       "      <th></th>\n",
       "      <th></th>\n",
       "      <th></th>\n",
       "    </tr>\n",
       "  </thead>\n",
       "  <tbody>\n",
       "    <tr>\n",
       "      <th>0</th>\n",
       "      <td>7.0</td>\n",
       "      <td>134.0</td>\n",
       "      <td>-80.0</td>\n",
       "      <td>244.0</td>\n",
       "      <td>2</td>\n",
       "      <td>2</td>\n",
       "      <td>2</td>\n",
       "      <td>0</td>\n",
       "      <td>35.0</td>\n",
       "      <td>103.0</td>\n",
       "      <td>...</td>\n",
       "      <td>5021</td>\n",
       "      <td>52</td>\n",
       "      <td>1</td>\n",
       "      <td>0</td>\n",
       "      <td>33</td>\n",
       "      <td>0.0</td>\n",
       "      <td>0.0</td>\n",
       "      <td>1.0</td>\n",
       "      <td>1.0</td>\n",
       "      <td>0.0</td>\n",
       "    </tr>\n",
       "    <tr>\n",
       "      <th>1</th>\n",
       "      <td>54.0</td>\n",
       "      <td>173.0</td>\n",
       "      <td>-80.0</td>\n",
       "      <td>NaN</td>\n",
       "      <td>2</td>\n",
       "      <td>0</td>\n",
       "      <td>2</td>\n",
       "      <td>0</td>\n",
       "      <td>-20.0</td>\n",
       "      <td>149.0</td>\n",
       "      <td>...</td>\n",
       "      <td>5505</td>\n",
       "      <td>43</td>\n",
       "      <td>2</td>\n",
       "      <td>1</td>\n",
       "      <td>41</td>\n",
       "      <td>1.0</td>\n",
       "      <td>0.0</td>\n",
       "      <td>0.0</td>\n",
       "      <td>1.0</td>\n",
       "      <td>0.0</td>\n",
       "    </tr>\n",
       "    <tr>\n",
       "      <th>2</th>\n",
       "      <td>224.0</td>\n",
       "      <td>63.0</td>\n",
       "      <td>-82.0</td>\n",
       "      <td>NaN</td>\n",
       "      <td>2</td>\n",
       "      <td>5</td>\n",
       "      <td>2</td>\n",
       "      <td>1</td>\n",
       "      <td>-39.0</td>\n",
       "      <td>45.0</td>\n",
       "      <td>...</td>\n",
       "      <td>5786</td>\n",
       "      <td>70</td>\n",
       "      <td>1</td>\n",
       "      <td>2</td>\n",
       "      <td>42</td>\n",
       "      <td>0.0</td>\n",
       "      <td>0.0</td>\n",
       "      <td>1.0</td>\n",
       "      <td>1.0</td>\n",
       "      <td>1.0</td>\n",
       "    </tr>\n",
       "    <tr>\n",
       "      <th>3</th>\n",
       "      <td>NaN</td>\n",
       "      <td>208.0</td>\n",
       "      <td>-75.0</td>\n",
       "      <td>NaN</td>\n",
       "      <td>0</td>\n",
       "      <td>3</td>\n",
       "      <td>2</td>\n",
       "      <td>0</td>\n",
       "      <td>-30.0</td>\n",
       "      <td>124.0</td>\n",
       "      <td>...</td>\n",
       "      <td>4729</td>\n",
       "      <td>51</td>\n",
       "      <td>0</td>\n",
       "      <td>0</td>\n",
       "      <td>37</td>\n",
       "      <td>0.0</td>\n",
       "      <td>1.0</td>\n",
       "      <td>0.0</td>\n",
       "      <td>0.0</td>\n",
       "      <td>0.0</td>\n",
       "    </tr>\n",
       "    <tr>\n",
       "      <th>4</th>\n",
       "      <td>-21.0</td>\n",
       "      <td>166.0</td>\n",
       "      <td>-81.0</td>\n",
       "      <td>181.0</td>\n",
       "      <td>1</td>\n",
       "      <td>4</td>\n",
       "      <td>2</td>\n",
       "      <td>0</td>\n",
       "      <td>46.0</td>\n",
       "      <td>182.0</td>\n",
       "      <td>...</td>\n",
       "      <td>5068</td>\n",
       "      <td>46</td>\n",
       "      <td>1</td>\n",
       "      <td>3</td>\n",
       "      <td>40</td>\n",
       "      <td>0.0</td>\n",
       "      <td>0.0</td>\n",
       "      <td>1.0</td>\n",
       "      <td>1.0</td>\n",
       "      <td>0.0</td>\n",
       "    </tr>\n",
       "  </tbody>\n",
       "</table>\n",
       "<p>5 rows × 250 columns</p>\n",
       "</div>"
      ],
      "text/plain": [
       "          first_blood_time  radiant_bottle_time  radiant_courier_time  \\\n",
       "match_id                                                                \n",
       "0                      7.0                134.0                 -80.0   \n",
       "1                     54.0                173.0                 -80.0   \n",
       "2                    224.0                 63.0                 -82.0   \n",
       "3                      NaN                208.0                 -75.0   \n",
       "4                    -21.0                166.0                 -81.0   \n",
       "\n",
       "          radiant_flying_courier_time  radiant_tpscroll_count  \\\n",
       "match_id                                                        \n",
       "0                               244.0                       2   \n",
       "1                                 NaN                       2   \n",
       "2                                 NaN                       2   \n",
       "3                                 NaN                       0   \n",
       "4                               181.0                       1   \n",
       "\n",
       "          radiant_boots_count  radiant_ward_observer_count  \\\n",
       "match_id                                                     \n",
       "0                           2                            2   \n",
       "1                           0                            2   \n",
       "2                           5                            2   \n",
       "3                           3                            2   \n",
       "4                           4                            2   \n",
       "\n",
       "          radiant_ward_sentry_count  radiant_first_ward_time  \\\n",
       "match_id                                                       \n",
       "0                                 0                     35.0   \n",
       "1                                 0                    -20.0   \n",
       "2                                 1                    -39.0   \n",
       "3                                 0                    -30.0   \n",
       "4                                 0                     46.0   \n",
       "\n",
       "          dire_bottle_time  ...  d_team_gold  d_team_lh  d_team_kills  \\\n",
       "match_id                    ...                                         \n",
       "0                    103.0  ...         5021         52             1   \n",
       "1                    149.0  ...         5505         43             2   \n",
       "2                     45.0  ...         5786         70             1   \n",
       "3                    124.0  ...         4729         51             0   \n",
       "4                    182.0  ...         5068         46             1   \n",
       "\n",
       "          d_team_deaths  d_team_items  lobby_type_0  lobby_type_1  \\\n",
       "match_id                                                            \n",
       "0                     0            33           0.0           0.0   \n",
       "1                     1            41           1.0           0.0   \n",
       "2                     2            42           0.0           0.0   \n",
       "3                     0            37           0.0           1.0   \n",
       "4                     3            40           0.0           0.0   \n",
       "\n",
       "          lobby_type_7  was_first_blood  first_blood_r  \n",
       "match_id                                                \n",
       "0                  1.0              1.0            0.0  \n",
       "1                  0.0              1.0            0.0  \n",
       "2                  1.0              1.0            1.0  \n",
       "3                  0.0              0.0            0.0  \n",
       "4                  1.0              1.0            0.0  \n",
       "\n",
       "[5 rows x 250 columns]"
      ]
     },
     "execution_count": 11,
     "metadata": {},
     "output_type": "execute_result"
    }
   ],
   "source": [
    "X_with_nans.head()"
   ]
  },
  {
   "cell_type": "markdown",
   "id": "alive-juvenile",
   "metadata": {},
   "source": [
    "## Common experiments"
   ]
  },
  {
   "cell_type": "code",
   "execution_count": 12,
   "id": "colored-ladder",
   "metadata": {
    "ExecuteTime": {
     "end_time": "2021-10-26T04:47:10.079081Z",
     "start_time": "2021-10-25T19:49:01.578267Z"
    },
    "scrolled": true
   },
   "outputs": [
    {
     "name": "stdout",
     "output_type": "stream",
     "text": [
      "Fill nans with -10000 \n",
      "\n",
      "LightGBM\n",
      "\n",
      "max_depth: 1\n",
      "score: 0.7524443465484303 \n",
      "\n",
      "max_depth: 2\n",
      "score: 0.7543545228126283 \n",
      "\n",
      "max_depth: 3\n",
      "score: 0.7531357456815493 \n",
      "\n",
      "max_depth: 4\n",
      "score: 0.7513837859944169 \n",
      "\n",
      "max_depth: 5\n",
      "score: 0.7513464165036298 \n",
      "\n",
      "max_depth: 6\n",
      "score: 0.7505946838615755 \n",
      "\n",
      "___________________\n",
      "\n",
      "AdaBoost\n",
      "\n",
      "max_depth: 1\n",
      "score: 0.751156582032573 \n",
      "\n",
      "max_depth: 2\n",
      "score: 0.7445449626313037 \n",
      "\n",
      "max_depth: 3\n",
      "score: 0.7354272358657289 \n",
      "\n",
      "___________________\n",
      "\n",
      "knn classifier\n",
      "\n",
      "n_neighbors: 1000\n",
      "score: 0.7354272358657289 \n",
      "\n",
      "n_neighbors: 4000\n",
      "score: 0.7354272358657289 \n",
      "\n",
      "n_neighbors: 7000\n",
      "score: 0.7354272358657289 \n",
      "\n",
      "n_neighbors: 10000\n",
      "score: 0.7354272358657289 \n",
      "\n",
      "n_neighbors: 13000\n",
      "score: 0.7354272358657289 \n",
      "\n",
      "___________________\n",
      "\n",
      "logistic regression\n",
      "\n",
      "score: 0.7545974774640416 \n",
      "\n",
      "####################################\n",
      "\n",
      "Fill nans with 0 \n",
      "\n",
      "LightGBM\n",
      "\n",
      "max_depth: 1\n",
      "score: 0.7526200191688116 \n",
      "\n",
      "max_depth: 2\n",
      "score: 0.7547203900408824 \n",
      "\n",
      "max_depth: 3\n",
      "score: 0.7537650106216529 \n",
      "\n",
      "max_depth: 4\n",
      "score: 0.7521190900423071 \n",
      "\n",
      "max_depth: 5\n",
      "score: 0.7504119673887639 \n",
      "\n",
      "max_depth: 6\n",
      "score: 0.7501646275420032 \n",
      "\n",
      "___________________\n",
      "\n",
      "AdaBoost\n",
      "\n",
      "max_depth: 1\n",
      "score: 0.7516374706044944 \n",
      "\n",
      "max_depth: 2\n",
      "score: 0.7435148865995369 \n",
      "\n",
      "max_depth: 3\n",
      "score: 0.7359302675557033 \n",
      "\n",
      "___________________\n",
      "\n",
      "knn classifier\n",
      "\n",
      "n_neighbors: 1000\n",
      "score: 0.7359302675557033 \n",
      "\n",
      "n_neighbors: 4000\n",
      "score: 0.7359302675557033 \n",
      "\n",
      "n_neighbors: 7000\n",
      "score: 0.7359302675557033 \n",
      "\n",
      "n_neighbors: 10000\n",
      "score: 0.7359302675557033 \n",
      "\n",
      "n_neighbors: 13000\n",
      "score: 0.7359302675557033 \n",
      "\n",
      "___________________\n",
      "\n",
      "logistic regression\n",
      "\n",
      "score: 0.7543449050411899 \n",
      "\n",
      "####################################\n",
      "\n",
      "Fill nans with 10000 \n",
      "\n",
      "LightGBM\n",
      "\n",
      "max_depth: 1\n",
      "score: 0.7529503493671362 \n",
      "\n",
      "max_depth: 2\n",
      "score: 0.755100853402443 \n",
      "\n",
      "max_depth: 3\n",
      "score: 0.7537879216785045 \n",
      "\n",
      "max_depth: 4\n",
      "score: 0.7522896571937091 \n",
      "\n",
      "max_depth: 5\n",
      "score: 0.7507377111388145 \n",
      "\n",
      "max_depth: 6\n",
      "score: 0.7512540308180725 \n",
      "\n",
      "___________________\n",
      "\n",
      "AdaBoost\n",
      "\n",
      "max_depth: 1\n",
      "score: 0.7517016914725904 \n",
      "\n",
      "max_depth: 2\n",
      "score: 0.7441077353521898 \n",
      "\n",
      "max_depth: 3\n",
      "score: 0.739596338531361 \n",
      "\n",
      "___________________\n",
      "\n",
      "knn classifier\n",
      "\n",
      "n_neighbors: 1000\n",
      "score: 0.739596338531361 \n",
      "\n",
      "n_neighbors: 4000\n",
      "score: 0.739596338531361 \n",
      "\n",
      "n_neighbors: 7000\n",
      "score: 0.739596338531361 \n",
      "\n",
      "n_neighbors: 10000\n",
      "score: 0.739596338531361 \n",
      "\n",
      "n_neighbors: 13000\n",
      "score: 0.739596338531361 \n",
      "\n",
      "___________________\n",
      "\n",
      "logistic regression\n",
      "\n",
      "score: 0.7546451002618246 \n",
      "\n",
      "####################################\n",
      "\n",
      "Fill nans with mean \n",
      "\n",
      "LightGBM\n",
      "\n",
      "max_depth: 1\n",
      "score: 0.7525737309956994 \n",
      "\n",
      "max_depth: 2\n",
      "score: 0.7544963425723079 \n",
      "\n",
      "max_depth: 3\n",
      "score: 0.753497090015085 \n",
      "\n",
      "max_depth: 4\n",
      "score: 0.7520293841983511 \n",
      "\n",
      "max_depth: 5\n",
      "score: 0.750435651680544 \n",
      "\n",
      "max_depth: 6\n",
      "score: 0.7508273746137334 \n",
      "\n",
      "___________________\n",
      "\n",
      "AdaBoost\n",
      "\n",
      "max_depth: 1\n",
      "score: 0.7510631900823829 \n",
      "\n",
      "max_depth: 2\n",
      "score: 0.7449444973557219 \n",
      "\n",
      "max_depth: 3\n",
      "score: 0.7343925680895584 \n",
      "\n",
      "___________________\n",
      "\n",
      "knn classifier\n",
      "\n",
      "n_neighbors: 1000\n",
      "score: 0.7343925680895584 \n",
      "\n",
      "n_neighbors: 4000\n",
      "score: 0.7343925680895584 \n",
      "\n",
      "n_neighbors: 7000\n",
      "score: 0.7343925680895584 \n",
      "\n",
      "n_neighbors: 10000\n",
      "score: 0.7343925680895584 \n",
      "\n",
      "n_neighbors: 13000\n",
      "score: 0.7343925680895584 \n",
      "\n",
      "___________________\n",
      "\n",
      "logistic regression\n",
      "\n",
      "score: 0.7542446069379405 \n",
      "\n",
      "####################################\n",
      "\n"
     ]
    }
   ],
   "source": [
    "cases = ['-10000', '0', '10000', 'mean']\n",
    "fill_nan_values = [-10000, 0, 10000, X_with_nans.mean()]\n",
    "models = ['ada', 'lgbm', 'knn', 'log_reg']\n",
    "\n",
    "all_models_info = {\n",
    "    case: {\n",
    "        model: {\n",
    "            'tuned_params': {},\n",
    "            'params': {},\n",
    "            'scores': [],\n",
    "            'eval_time_values': []\n",
    "        } for model in models\n",
    "    } for case in cases\n",
    "}\n",
    "\n",
    "now = datetime.datetime.now\n",
    "\n",
    "for fill_nan_value, case in zip(fill_nan_values, cases):\n",
    "\n",
    "    print('Fill nans with', case, '\\n')\n",
    "    \n",
    "    X = X_with_nans.fillna(fill_nan_value)\n",
    "    X_train, X_test, y_train, y_test = train_test_split(\n",
    "        X, y, test_size=0.2, shuffle=True, random_state=148)\n",
    "    y_train, y_test = y_train.radiant_win, y_test.radiant_win\n",
    "\n",
    "    # Light GBM\n",
    "\n",
    "    print('LightGBM\\n')\n",
    "    n_trees = 2000\n",
    "    n_estimators_to_check_scores = np.arange(100, n_trees + 1, 100)\n",
    "    n_estimators_values = n_estimators_to_check_scores\n",
    "    lgbm_scores = {}\n",
    "    best_lgbm_n_estimators = {}\n",
    "    eval_time_values = {}\n",
    "    max_depths = range(1, 7)\n",
    "\n",
    "    for max_depth in max_depths:\n",
    "\n",
    "        print(f'max_depth: {max_depth}')\n",
    "        start = now()\n",
    "\n",
    "        lgbm = LGBMClassifier(n_estimators=n_trees, max_depth=max_depth)\n",
    "        lgbm.fit(X_train, y_train)\n",
    "\n",
    "        scores = np.array([roc_auc_score(y_test, lgbm.predict_proba(X_test, num_iteration=i)[:, 1])\n",
    "                           for i in n_estimators_to_check_scores])\n",
    "        \n",
    "        eval_time_values[max_depth] = now() - start\n",
    "        best_score = scores.max()\n",
    "        \n",
    "        lgbm_scores[max_depth] = scores.max()\n",
    "        best_lgbm_n_estimators[max_depth] = n_estimators_values[scores.argmax()]\n",
    "        print('score:', scores.max(), '\\n')\n",
    "\n",
    "    all_models_info[case]['lgbm'] = {\n",
    "        'tuned_params': {'max_depth': max_depths},\n",
    "        'params': {'n_estimators': best_lgbm_n_estimators},\n",
    "        'scores': list(lgbm_scores.values()),\n",
    "        'eval_time_values': list(eval_time_values.values())\n",
    "    }\n",
    "    print('___________________\\n')\n",
    "\n",
    "\n",
    "#################################\n",
    "\n",
    "    # AdaBoost\n",
    "\n",
    "    print('AdaBoost\\n')\n",
    "    n_trees = 1000\n",
    "    n_estimator_values = np.arange(1, n_trees + 1)\n",
    "    ada_scores = {}\n",
    "    best_ada_n_estimators = {}\n",
    "    eval_time_values = {}\n",
    "    max_depths = range(1, 4)\n",
    "\n",
    "    for max_depth in max_depths:\n",
    "\n",
    "        print(f'max_depth: {max_depth}')\n",
    "        start = now()\n",
    "\n",
    "        ada_boosting = AdaBoostClassifier(base_estimator=DecisionTreeClassifier(max_depth=max_depth),\n",
    "                                          n_estimators=n_trees)\n",
    "        ada_boosting.fit(X_train, y_train)\n",
    "\n",
    "        scores = np.array([roc_auc_score(y_test, predicted[:, 1])\n",
    "                           for predicted in ada_boosting.staged_predict_proba(X_test)])\n",
    "        \n",
    "        eval_time_values[max_depth] = now() - start\n",
    "        ada_scores[max_depth] = scores.max()\n",
    "        best_ada_n_estimators[max_depth] = n_estimator_values[scores.argmax()]\n",
    "        print('score:', scores.max(), '\\n')\n",
    "\n",
    "    all_models_info[case]['ada'] = {\n",
    "        'tuned_params': {'max_depth': max_depths},\n",
    "        'params': {'n_estimators': best_ada_n_estimators},\n",
    "        'scores': list(ada_scores.values()),\n",
    "        'eval_time_values': list(eval_time_values.values())\n",
    "    }\n",
    "    print('___________________\\n')\n",
    "\n",
    "#################################\n",
    "\n",
    "\n",
    "    # scaling the data for knn classifier logistic regression\n",
    "    scaler = StandardScaler()\n",
    "    scaled_X_train = scaler.fit_transform(X_train)\n",
    "    scaled_X_test = scaler.transform(X_test)\n",
    "\n",
    "    # knn classifier\n",
    "    print('knn classifier\\n')\n",
    "    n_neighbors_values = np.arange(1000, 16000, 3000)\n",
    "    knn_scores = {}\n",
    "    eval_time_values = {}\n",
    "\n",
    "    for n_neighbors in n_neighbors_values:\n",
    "        print('n_neighbors:', n_neighbors)\n",
    "        start = now()\n",
    "        \n",
    "        knn = KNeighborsClassifier(n_neighbors=n_neighbors)\n",
    "        knn.fit(scaled_X_train, y_train)\n",
    "        knn_scores[n_neighbors] = roc_auc_score(\n",
    "            y_test, knn.predict_proba(scaled_X_test)[:, 1])\n",
    "        \n",
    "        eval_time_values[max_depth] = now() - start\n",
    "        \n",
    "        print('score:', scores.max(), '\\n')\n",
    "\n",
    "    all_models_info[case]['knn'] = {\n",
    "        'tuned_params': {'knn': n_neighbors_values},\n",
    "        'scores': list(knn_scores.values()),\n",
    "        'eval_time_values': list(eval_time_values.values())\n",
    "    }\n",
    "    print('___________________\\n')\n",
    "\n",
    "#################################\n",
    "\n",
    "    # logistic regression\n",
    "    \n",
    "    print('logistic regression\\n')\n",
    "    start = now()\n",
    "    log_reg = LogisticRegression(max_iter=1000)\n",
    "    log_reg.fit(scaled_X_train, y_train)\n",
    "    score = roc_auc_score(y_test, log_reg.predict_proba(scaled_X_test)[:, 1])\n",
    "    print('score:', score, '\\n')\n",
    "    \n",
    "    all_models_info[case]['log_reg'] = {\n",
    "        'tuned_params': {},\n",
    "        'scores': [score],\n",
    "        'eval_time_values': [now() - start]\n",
    "    }\n",
    "    print('####################################\\n')    "
   ]
  },
  {
   "cell_type": "code",
   "execution_count": 19,
   "id": "dedicated-medicare",
   "metadata": {
    "ExecuteTime": {
     "end_time": "2021-10-26T05:49:44.842966Z",
     "start_time": "2021-10-26T05:49:44.812015Z"
    }
   },
   "outputs": [
    {
     "name": "stdout",
     "output_type": "stream",
     "text": [
      "{\n",
      "  \"-10000\": {\n",
      "    \"ada\": {\n",
      "      \"tuned_params\": {\n",
      "        \"max_depth\": \"range(1, 4)\"\n",
      "      },\n",
      "      \"params\": {\n",
      "        \"n_estimators\": {\n",
      "          \"1\": \"816\",\n",
      "          \"2\": \"96\",\n",
      "          \"3\": \"31\"\n",
      "        }\n",
      "      },\n",
      "      \"scores\": [\n",
      "        0.751156582032573,\n",
      "        0.7445449626313037,\n",
      "        0.7354272358657289\n",
      "      ],\n",
      "      \"eval_time_values\": [\n",
      "        \"0:19:18.435356\",\n",
      "        \"0:32:18.584246\",\n",
      "        \"0:45:16.099661\"\n",
      "      ]\n",
      "    },\n",
      "    \"lgbm\": {\n",
      "      \"tuned_params\": {\n",
      "        \"max_depth\": \"range(1, 7)\"\n",
      "      },\n",
      "      \"params\": {\n",
      "        \"n_estimators\": {\n",
      "          \"1\": \"2000\",\n",
      "          \"2\": \"1800\",\n",
      "          \"3\": \"600\",\n",
      "          \"4\": \"600\",\n",
      "          \"5\": \"400\",\n",
      "          \"6\": \"300\"\n",
      "        }\n",
      "      },\n",
      "      \"scores\": [\n",
      "        0.7524443465484303,\n",
      "        0.7543545228126283,\n",
      "        0.7531357456815493,\n",
      "        0.7513837859944169,\n",
      "        0.7513464165036298,\n",
      "        0.7505946838615755\n",
      "      ],\n",
      "      \"eval_time_values\": [\n",
      "        \"0:00:46.512307\",\n",
      "        \"0:00:57.589390\",\n",
      "        \"0:01:12.875172\",\n",
      "        \"0:01:29.253120\",\n",
      "        \"0:01:53.057533\",\n",
      "        \"0:01:55.906516\"\n",
      "      ]\n",
      "    },\n",
      "    \"knn\": {\n",
      "      \"tuned_params\": {\n",
      "        \"knn\": \"[ 1000  4000  7000 10000 13000]\"\n",
      "      },\n",
      "      \"scores\": [\n",
      "        0.7267735665720583,\n",
      "        0.728212509108681,\n",
      "        0.7262569185327624,\n",
      "        0.7251405844374395,\n",
      "        0.7238787074032955\n",
      "      ],\n",
      "      \"eval_time_values\": [\n",
      "        \"0:09:12.454956\"\n",
      "      ]\n",
      "    },\n",
      "    \"log_reg\": {\n",
      "      \"tuned_params\": {},\n",
      "      \"scores\": [\n",
      "        0.7545974774640416\n",
      "      ],\n",
      "      \"eval_time_values\": [\n",
      "        \"0:00:10.478387\"\n",
      "      ]\n",
      "    }\n",
      "  },\n",
      "  \"0\": {\n",
      "    \"ada\": {\n",
      "      \"tuned_params\": {\n",
      "        \"max_depth\": \"range(1, 4)\"\n",
      "      },\n",
      "      \"params\": {\n",
      "        \"n_estimators\": {\n",
      "          \"1\": \"994\",\n",
      "          \"2\": \"87\",\n",
      "          \"3\": \"28\"\n",
      "        }\n",
      "      },\n",
      "      \"scores\": [\n",
      "        0.7516374706044944,\n",
      "        0.7435148865995369,\n",
      "        0.7359302675557033\n",
      "      ],\n",
      "      \"eval_time_values\": [\n",
      "        \"0:19:17.410323\",\n",
      "        \"0:32:03.324378\",\n",
      "        \"0:45:12.887491\"\n",
      "      ]\n",
      "    },\n",
      "    \"lgbm\": {\n",
      "      \"tuned_params\": {\n",
      "        \"max_depth\": \"range(1, 7)\"\n",
      "      },\n",
      "      \"params\": {\n",
      "        \"n_estimators\": {\n",
      "          \"1\": \"2000\",\n",
      "          \"2\": \"1300\",\n",
      "          \"3\": \"800\",\n",
      "          \"4\": \"600\",\n",
      "          \"5\": \"500\",\n",
      "          \"6\": \"300\"\n",
      "        }\n",
      "      },\n",
      "      \"scores\": [\n",
      "        0.7526200191688116,\n",
      "        0.7547203900408824,\n",
      "        0.7537650106216529,\n",
      "        0.7521190900423071,\n",
      "        0.7504119673887639,\n",
      "        0.7501646275420032\n",
      "      ],\n",
      "      \"eval_time_values\": [\n",
      "        \"0:00:43.455067\",\n",
      "        \"0:01:00.402433\",\n",
      "        \"0:01:11.878105\",\n",
      "        \"0:01:31.357770\",\n",
      "        \"0:01:49.235718\",\n",
      "        \"0:01:55.127521\"\n",
      "      ]\n",
      "    },\n",
      "    \"knn\": {\n",
      "      \"tuned_params\": {\n",
      "        \"knn\": \"[ 1000  4000  7000 10000 13000]\"\n",
      "      },\n",
      "      \"scores\": [\n",
      "        0.7259022208419331,\n",
      "        0.7276281924208889,\n",
      "        0.7263969746812697,\n",
      "        0.7254121858541118,\n",
      "        0.7243677679032617\n",
      "      ],\n",
      "      \"eval_time_values\": [\n",
      "        \"0:09:14.770054\"\n",
      "      ]\n",
      "    },\n",
      "    \"log_reg\": {\n",
      "      \"tuned_params\": {},\n",
      "      \"scores\": [\n",
      "        0.7543449050411899\n",
      "      ],\n",
      "      \"eval_time_values\": [\n",
      "        \"0:00:06.128270\"\n",
      "      ]\n",
      "    }\n",
      "  },\n",
      "  \"10000\": {\n",
      "    \"ada\": {\n",
      "      \"tuned_params\": {\n",
      "        \"max_depth\": \"range(1, 4)\"\n",
      "      },\n",
      "      \"params\": {\n",
      "        \"n_estimators\": {\n",
      "          \"1\": \"700\",\n",
      "          \"2\": \"85\",\n",
      "          \"3\": \"43\"\n",
      "        }\n",
      "      },\n",
      "      \"scores\": [\n",
      "        0.7517016914725904,\n",
      "        0.7441077353521898,\n",
      "        0.739596338531361\n",
      "      ],\n",
      "      \"eval_time_values\": [\n",
      "        \"0:19:03.080968\",\n",
      "        \"0:31:35.727185\",\n",
      "        \"0:44:22.354097\"\n",
      "      ]\n",
      "    },\n",
      "    \"lgbm\": {\n",
      "      \"tuned_params\": {\n",
      "        \"max_depth\": \"range(1, 7)\"\n",
      "      },\n",
      "      \"params\": {\n",
      "        \"n_estimators\": {\n",
      "          \"1\": \"2000\",\n",
      "          \"2\": \"1700\",\n",
      "          \"3\": \"600\",\n",
      "          \"4\": \"600\",\n",
      "          \"5\": \"300\",\n",
      "          \"6\": \"300\"\n",
      "        }\n",
      "      },\n",
      "      \"scores\": [\n",
      "        0.7529503493671362,\n",
      "        0.755100853402443,\n",
      "        0.7537879216785045,\n",
      "        0.7522896571937091,\n",
      "        0.7507377111388145,\n",
      "        0.7512540308180725\n",
      "      ],\n",
      "      \"eval_time_values\": [\n",
      "        \"0:00:42.425874\",\n",
      "        \"0:00:56.565521\",\n",
      "        \"0:01:14.756141\",\n",
      "        \"0:01:30.494412\",\n",
      "        \"0:01:55.497866\",\n",
      "        \"0:01:58.440026\"\n",
      "      ]\n",
      "    },\n",
      "    \"knn\": {\n",
      "      \"tuned_params\": {\n",
      "        \"knn\": \"[ 1000  4000  7000 10000 13000]\"\n",
      "      },\n",
      "      \"scores\": [\n",
      "        0.7266763667046523,\n",
      "        0.7282251933391848,\n",
      "        0.7263293642901997,\n",
      "        0.7252002400417801,\n",
      "        0.7239078202279635\n",
      "      ],\n",
      "      \"eval_time_values\": [\n",
      "        \"0:09:05.585789\"\n",
      "      ]\n",
      "    },\n",
      "    \"log_reg\": {\n",
      "      \"tuned_params\": {},\n",
      "      \"scores\": [\n",
      "        0.7546451002618246\n",
      "      ],\n",
      "      \"eval_time_values\": [\n",
      "        \"0:00:10.155929\"\n",
      "      ]\n",
      "    }\n",
      "  },\n",
      "  \"mean\": {\n",
      "    \"ada\": {\n",
      "      \"tuned_params\": {\n",
      "        \"max_depth\": \"range(1, 4)\"\n",
      "      },\n",
      "      \"params\": {\n",
      "        \"n_estimators\": {\n",
      "          \"1\": \"761\",\n",
      "          \"2\": \"114\",\n",
      "          \"3\": \"22\"\n",
      "        }\n",
      "      },\n",
      "      \"scores\": [\n",
      "        0.7510631900823829,\n",
      "        0.7449444973557219,\n",
      "        0.7343925680895584\n",
      "      ],\n",
      "      \"eval_time_values\": [\n",
      "        \"0:19:03.118727\",\n",
      "        \"0:31:35.324668\",\n",
      "        \"0:44:37.959511\"\n",
      "      ]\n",
      "    },\n",
      "    \"lgbm\": {\n",
      "      \"tuned_params\": {\n",
      "        \"max_depth\": \"range(1, 7)\"\n",
      "      },\n",
      "      \"params\": {\n",
      "        \"n_estimators\": {\n",
      "          \"1\": \"2000\",\n",
      "          \"2\": \"1500\",\n",
      "          \"3\": \"800\",\n",
      "          \"4\": \"600\",\n",
      "          \"5\": \"500\",\n",
      "          \"6\": \"400\"\n",
      "        }\n",
      "      },\n",
      "      \"scores\": [\n",
      "        0.7525737309956994,\n",
      "        0.7544963425723079,\n",
      "        0.753497090015085,\n",
      "        0.7520293841983511,\n",
      "        0.750435651680544,\n",
      "        0.7508273746137334\n",
      "      ],\n",
      "      \"eval_time_values\": [\n",
      "        \"0:00:42.562635\",\n",
      "        \"0:00:57.437165\",\n",
      "        \"0:01:11.280486\",\n",
      "        \"0:01:28.609972\",\n",
      "        \"0:01:47.637407\",\n",
      "        \"0:01:55.652567\"\n",
      "      ]\n",
      "    },\n",
      "    \"knn\": {\n",
      "      \"tuned_params\": {\n",
      "        \"knn\": \"[ 1000  4000  7000 10000 13000]\"\n",
      "      },\n",
      "      \"scores\": [\n",
      "        0.7253237775619192,\n",
      "        0.72803533238748,\n",
      "        0.7262682045850395,\n",
      "        0.7251528079046642,\n",
      "        0.7243754737718977\n",
      "      ],\n",
      "      \"eval_time_values\": [\n",
      "        \"0:09:06.241578\"\n",
      "      ]\n",
      "    },\n",
      "    \"log_reg\": {\n",
      "      \"tuned_params\": {},\n",
      "      \"scores\": [\n",
      "        0.7542446069379405\n",
      "      ],\n",
      "      \"eval_time_values\": [\n",
      "        \"0:00:06.862162\"\n",
      "      ]\n",
      "    }\n",
      "  }\n",
      "}\n"
     ]
    }
   ],
   "source": [
    "print(json.dumps(all_models_info, default=str, indent=2))"
   ]
  },
  {
   "cell_type": "code",
   "execution_count": 21,
   "id": "behavioral-professional",
   "metadata": {
    "ExecuteTime": {
     "end_time": "2021-10-26T05:51:26.980065Z",
     "start_time": "2021-10-26T05:51:26.955154Z"
    }
   },
   "outputs": [],
   "source": [
    "f = open('all_models_info.txt', 'w')\n",
    "f.write(json.dumps(all_models_info, default=str, indent=2))\n",
    "f.close()"
   ]
  },
  {
   "cell_type": "code",
   "execution_count": 69,
   "id": "existing-beginning",
   "metadata": {
    "ExecuteTime": {
     "end_time": "2021-10-26T06:47:15.212596Z",
     "start_time": "2021-10-26T06:47:11.623520Z"
    },
    "scrolled": false
   },
   "outputs": [
    {
     "data": {
      "image/png": "[encoded data removed]",
      "text/plain": [
       "<Figure size 864x2016 with 4 Axes>"
      ]
     },
     "metadata": {
      "needs_background": "light"
     },
     "output_type": "display_data"
    }
   ],
   "source": [
    "fig, axes = plt.subplots(4, 1,\n",
    "                         figsize=(12, 7 * 4),\n",
    "                         constrained_layout=True)\n",
    "for case in cases:\n",
    "    \n",
    "    case_info = all_models_info[case]\n",
    "    \n",
    "    lgbm_info = case_info['lgbm']\n",
    "    ada_info = case_info['ada']\n",
    "    knn_info = case_info['knn']\n",
    "    log_reg_info = case_info['log_reg']\n",
    "    \n",
    "    for i, model_info, model_name in zip([0, 1], [lgbm_info, ada_info], ['LGBM', 'AdaBoost']):\n",
    "        axes[i].set_title(model_name)\n",
    "        axes[i].plot(model_info['tuned_params']['max_depth'], model_info['scores'])\n",
    "        axes[i].set_xlabel('max_depth')\n",
    "        axes[i].set_ylabel('roc auc score')\n",
    "        axes[i].legend(cases)\n",
    "\n",
    "    axes[2].set_title('KNN')\n",
    "    axes[2].plot(knn_info['tuned_params']['knn'], knn_info['scores'])\n",
    "    axes[2].set_xlabel('n_neighbors')\n",
    "    axes[2].set_ylabel('roc auc score')\n",
    "    axes[2].legend(cases)\n",
    "\n",
    "axes[3].set_title('logistic regression')\n",
    "axes[3].plot(range(4), [all_models_info[case]['log_reg']['scores'][0] for case in cases])\n",
    "axes[3].set_xticks(ticks=range(4))\n",
    "axes[3].set_xticklabels(cases)\n",
    "axes[3].set_xlabel('filling nans case')\n",
    "axes[3].set_ylabel('roc auc score')\n",
    "\n",
    "plt.show()"
   ]
  },
  {
   "cell_type": "code",
   "execution_count": 87,
   "id": "silent-affect",
   "metadata": {
    "ExecuteTime": {
     "end_time": "2021-10-26T06:58:11.006525Z",
     "start_time": "2021-10-26T06:58:10.953607Z"
    }
   },
   "outputs": [
    {
     "data": {
      "text/html": [
       "<div>\n",
       "<style scoped>\n",
       "    .dataframe tbody tr th:only-of-type {\n",
       "        vertical-align: middle;\n",
       "    }\n",
       "\n",
       "    .dataframe tbody tr th {\n",
       "        vertical-align: top;\n",
       "    }\n",
       "\n",
       "    .dataframe thead th {\n",
       "        text-align: right;\n",
       "    }\n",
       "</style>\n",
       "<table border=\"1\" class=\"dataframe\">\n",
       "  <thead>\n",
       "    <tr style=\"text-align: right;\">\n",
       "      <th></th>\n",
       "      <th></th>\n",
       "      <th>score</th>\n",
       "    </tr>\n",
       "    <tr>\n",
       "      <th>model</th>\n",
       "      <th>case</th>\n",
       "      <th></th>\n",
       "    </tr>\n",
       "  </thead>\n",
       "  <tbody>\n",
       "    <tr>\n",
       "      <th rowspan=\"4\" valign=\"top\">knn</th>\n",
       "      <th>0</th>\n",
       "      <td>0.727628</td>\n",
       "    </tr>\n",
       "    <tr>\n",
       "      <th>mean</th>\n",
       "      <td>0.728035</td>\n",
       "    </tr>\n",
       "    <tr>\n",
       "      <th>-10000</th>\n",
       "      <td>0.728213</td>\n",
       "    </tr>\n",
       "    <tr>\n",
       "      <th>10000</th>\n",
       "      <td>0.728225</td>\n",
       "    </tr>\n",
       "    <tr>\n",
       "      <th rowspan=\"4\" valign=\"top\">ada</th>\n",
       "      <th>mean</th>\n",
       "      <td>0.751063</td>\n",
       "    </tr>\n",
       "    <tr>\n",
       "      <th>-10000</th>\n",
       "      <td>0.751157</td>\n",
       "    </tr>\n",
       "    <tr>\n",
       "      <th>0</th>\n",
       "      <td>0.751637</td>\n",
       "    </tr>\n",
       "    <tr>\n",
       "      <th>10000</th>\n",
       "      <td>0.751702</td>\n",
       "    </tr>\n",
       "    <tr>\n",
       "      <th rowspan=\"2\" valign=\"top\">log_reg</th>\n",
       "      <th>mean</th>\n",
       "      <td>0.754245</td>\n",
       "    </tr>\n",
       "    <tr>\n",
       "      <th>0</th>\n",
       "      <td>0.754345</td>\n",
       "    </tr>\n",
       "    <tr>\n",
       "      <th rowspan=\"2\" valign=\"top\">lgbm</th>\n",
       "      <th>-10000</th>\n",
       "      <td>0.754355</td>\n",
       "    </tr>\n",
       "    <tr>\n",
       "      <th>mean</th>\n",
       "      <td>0.754496</td>\n",
       "    </tr>\n",
       "    <tr>\n",
       "      <th rowspan=\"2\" valign=\"top\">log_reg</th>\n",
       "      <th>-10000</th>\n",
       "      <td>0.754597</td>\n",
       "    </tr>\n",
       "    <tr>\n",
       "      <th>10000</th>\n",
       "      <td>0.754645</td>\n",
       "    </tr>\n",
       "    <tr>\n",
       "      <th rowspan=\"2\" valign=\"top\">lgbm</th>\n",
       "      <th>0</th>\n",
       "      <td>0.754720</td>\n",
       "    </tr>\n",
       "    <tr>\n",
       "      <th>10000</th>\n",
       "      <td>0.755101</td>\n",
       "    </tr>\n",
       "  </tbody>\n",
       "</table>\n",
       "</div>"
      ],
      "text/plain": [
       "                   score\n",
       "model   case            \n",
       "knn     0       0.727628\n",
       "        mean    0.728035\n",
       "        -10000  0.728213\n",
       "        10000   0.728225\n",
       "ada     mean    0.751063\n",
       "        -10000  0.751157\n",
       "        0       0.751637\n",
       "        10000   0.751702\n",
       "log_reg mean    0.754245\n",
       "        0       0.754345\n",
       "lgbm    -10000  0.754355\n",
       "        mean    0.754496\n",
       "log_reg -10000  0.754597\n",
       "        10000   0.754645\n",
       "lgbm    0       0.754720\n",
       "        10000   0.755101"
      ]
     },
     "execution_count": 87,
     "metadata": {},
     "output_type": "execute_result"
    }
   ],
   "source": [
    "scores_df = pd.DataFrame({'score': [max(all_models_info[case][model]['scores']) for case, model in product(cases, models)],\n",
    "                         'case': [case for case, model in product(cases, models)],\n",
    "                          'model': [model for case, model in product(cases, models)]}).set_index(['model', 'case'])\n",
    "scores_df.sort_values(by='score')"
   ]
  },
  {
   "cell_type": "code",
   "execution_count": 106,
   "id": "august-radar",
   "metadata": {
    "ExecuteTime": {
     "end_time": "2021-10-26T07:16:09.626950Z",
     "start_time": "2021-10-26T07:16:09.613979Z"
    }
   },
   "outputs": [],
   "source": [
    "from operator import methodcaller"
   ]
  },
  {
   "cell_type": "code",
   "execution_count": 109,
   "id": "exact-fountain",
   "metadata": {
    "ExecuteTime": {
     "end_time": "2021-10-26T07:17:46.280531Z",
     "start_time": "2021-10-26T07:17:46.236606Z"
    }
   },
   "outputs": [
    {
     "data": {
      "text/html": [
       "<div>\n",
       "<style scoped>\n",
       "    .dataframe tbody tr th:only-of-type {\n",
       "        vertical-align: middle;\n",
       "    }\n",
       "\n",
       "    .dataframe tbody tr th {\n",
       "        vertical-align: top;\n",
       "    }\n",
       "\n",
       "    .dataframe thead th {\n",
       "        text-align: right;\n",
       "    }\n",
       "</style>\n",
       "<table border=\"1\" class=\"dataframe\">\n",
       "  <thead>\n",
       "    <tr style=\"text-align: right;\">\n",
       "      <th></th>\n",
       "      <th>max_depth</th>\n",
       "      <th>n_estimators</th>\n",
       "      <th>scores</th>\n",
       "      <th>eval_time_values</th>\n",
       "    </tr>\n",
       "  </thead>\n",
       "  <tbody>\n",
       "    <tr>\n",
       "      <th>0</th>\n",
       "      <td>1</td>\n",
       "      <td>2000</td>\n",
       "      <td>0.752950</td>\n",
       "      <td>42.425874</td>\n",
       "    </tr>\n",
       "    <tr>\n",
       "      <th>1</th>\n",
       "      <td>2</td>\n",
       "      <td>1700</td>\n",
       "      <td>0.755101</td>\n",
       "      <td>56.565521</td>\n",
       "    </tr>\n",
       "    <tr>\n",
       "      <th>2</th>\n",
       "      <td>3</td>\n",
       "      <td>600</td>\n",
       "      <td>0.753788</td>\n",
       "      <td>74.756141</td>\n",
       "    </tr>\n",
       "    <tr>\n",
       "      <th>3</th>\n",
       "      <td>4</td>\n",
       "      <td>600</td>\n",
       "      <td>0.752290</td>\n",
       "      <td>90.494412</td>\n",
       "    </tr>\n",
       "    <tr>\n",
       "      <th>4</th>\n",
       "      <td>5</td>\n",
       "      <td>300</td>\n",
       "      <td>0.750738</td>\n",
       "      <td>115.497866</td>\n",
       "    </tr>\n",
       "    <tr>\n",
       "      <th>5</th>\n",
       "      <td>6</td>\n",
       "      <td>300</td>\n",
       "      <td>0.751254</td>\n",
       "      <td>118.440026</td>\n",
       "    </tr>\n",
       "  </tbody>\n",
       "</table>\n",
       "</div>"
      ],
      "text/plain": [
       "   max_depth  n_estimators    scores  eval_time_values\n",
       "0          1          2000  0.752950         42.425874\n",
       "1          2          1700  0.755101         56.565521\n",
       "2          3           600  0.753788         74.756141\n",
       "3          4           600  0.752290         90.494412\n",
       "4          5           300  0.750738        115.497866\n",
       "5          6           300  0.751254        118.440026"
      ]
     },
     "execution_count": 109,
     "metadata": {},
     "output_type": "execute_result"
    }
   ],
   "source": [
    "best_lgbm_info = all_models_info['10000']['lgbm'].copy()\n",
    "best_lgbm_info.update({\n",
    "    'tuned_params': best_lgbm_info['tuned_params']['max_depth'],\n",
    "    'params': best_lgbm_info['params']['n_estimators'].values(),\n",
    "    'eval_time_values': list(map(methodcaller('total_seconds'), best_lgbm_info['eval_time_values']))\n",
    "}\n",
    ")\n",
    "pd.DataFrame(best_lgbm_info).rename(columns={'tuned_params': 'max_depth', 'params': 'n_estimators'})"
   ]
  },
  {
   "cell_type": "markdown",
   "id": "manual-turkish",
   "metadata": {},
   "source": [
    "The max score is for lgbm model in case filling value equals 10000, the max_depth parameter of model equals 2 and n_estimators equals 1700.  \n",
    "The max score is 0.755101."
   ]
  },
  {
   "cell_type": "markdown",
   "id": "married-adjustment",
   "metadata": {},
   "source": [
    "## Stacking"
   ]
  },
  {
   "cell_type": "code",
   "execution_count": 112,
   "id": "streaming-worst",
   "metadata": {
    "ExecuteTime": {
     "end_time": "2021-10-26T07:27:35.891289Z",
     "start_time": "2021-10-26T07:27:14.877084Z"
    }
   },
   "outputs": [],
   "source": [
    "X = X_with_nans.fillna(10000)\n",
    "X_train, X_test, y_train, y_test = train_test_split(\n",
    "    X, y, test_size=0.2, shuffle=True, random_state=148)\n",
    "y_train, y_test = y_train.radiant_win, y_test.radiant_win\n",
    "\n",
    "scaler = StandardScaler()\n",
    "scaled_X_train = scaler.fit_transform(X_train)\n",
    "scaled_X_test = scaler.transform(X_test)"
   ]
  },
  {
   "cell_type": "code",
   "execution_count": 113,
   "id": "actual-ground",
   "metadata": {
    "ExecuteTime": {
     "end_time": "2021-10-26T09:01:48.620743Z",
     "start_time": "2021-10-26T07:53:56.318588Z"
    },
    "scrolled": true
   },
   "outputs": [
    {
     "data": {
      "text/plain": [
       "0.7445651461813872"
      ]
     },
     "execution_count": 113,
     "metadata": {},
     "output_type": "execute_result"
    }
   ],
   "source": [
    "stacking = StackingEnsemble(\n",
    "    layers=[\n",
    "        [KNeighborsClassifier(n_neighbors=4000),\n",
    "         LGBMClassifier(max_depth=2, n_estimators=1000),\n",
    "         LogisticRegression(max_iter=1000),\n",
    "         AdaBoostClassifier(n_estimators=500)]\n",
    "        for k in range(5)] + [[LogisticRegression(max_iter=1000)]])\n",
    "\n",
    "stacking.fit(scaled_X_train, y_train)\n",
    "roc_auc_score(y_test, stacking.predict_proba(scaled_X_test))"
   ]
  },
  {
   "cell_type": "markdown",
   "id": "native-nepal",
   "metadata": {},
   "source": [
    "The score is lower than the score of lgbm."
   ]
  }
 ],
 "metadata": {
  "kernelspec": {
   "display_name": "Python 3",
   "language": "python",
   "name": "python3"
  },
  "language_info": {
   "codemirror_mode": {
    "name": "ipython",
    "version": 3
   },
   "file_extension": ".py",
   "mimetype": "text/x-python",
   "name": "python",
   "nbconvert_exporter": "python",
   "pygments_lexer": "ipython3",
   "version": "3.9.0"
  },
  "toc": {
   "base_numbering": 1,
   "nav_menu": {},
   "number_sections": false,
   "sideBar": true,
   "skip_h1_title": false,
   "title_cell": "Table of Contents",
   "title_sidebar": "Contents",
   "toc_cell": false,
   "toc_position": {
    "height": "calc(100% - 180px)",
    "left": "10px",
    "top": "150px",
    "width": "278.188px"
   },
   "toc_section_display": true,
   "toc_window_display": true
  }
 },
 "nbformat": 4,
 "nbformat_minor": 5
}
