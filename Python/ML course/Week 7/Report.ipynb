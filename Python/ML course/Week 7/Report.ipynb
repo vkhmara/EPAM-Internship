{
 "cells": [
  {
   "cell_type": "code",
   "execution_count": 1,
   "id": "defensive-geology",
   "metadata": {
    "ExecuteTime": {
     "end_time": "2021-09-24T09:05:32.123093Z",
     "start_time": "2021-09-24T09:05:23.596623Z"
    }
   },
   "outputs": [],
   "source": [
    "import numpy as np\n",
    "import pandas as pd\n",
    "import matplotlib.pyplot as plt\n",
    "from sklearn.model_selection import KFold, cross_val_score, GridSearchCV\n",
    "import datetime\n",
    "from sklearn.ensemble import GradientBoostingClassifier\n",
    "from sklearn.metrics import roc_auc_score\n",
    "from sklearn.linear_model import LogisticRegression\n",
    "from itertools import product\n",
    "from functools import reduce\n",
    "from operator import methodcaller\n",
    "from sklearn.preprocessing import StandardScaler"
   ]
  },
  {
   "cell_type": "code",
   "execution_count": 2,
   "id": "crazy-software",
   "metadata": {
    "ExecuteTime": {
     "end_time": "2021-09-24T09:05:32.170206Z",
     "start_time": "2021-09-24T09:05:32.123093Z"
    }
   },
   "outputs": [],
   "source": [
    "heroes = pd.read_csv('data/dictionaries/heroes.csv', index_col='id')"
   ]
  },
  {
   "cell_type": "code",
   "execution_count": 3,
   "id": "hindu-yugoslavia",
   "metadata": {
    "ExecuteTime": {
     "end_time": "2021-09-24T09:05:36.388216Z",
     "start_time": "2021-09-24T09:05:32.186180Z"
    }
   },
   "outputs": [],
   "source": [
    "features = pd.read_csv('data/features.csv', index_col='match_id')"
   ]
  },
  {
   "cell_type": "markdown",
   "id": "graphic-butterfly",
   "metadata": {},
   "source": [
    "# Подход 1: градиентный бустинг \"в лоб\""
   ]
  },
  {
   "cell_type": "markdown",
   "id": "altered-battle",
   "metadata": {},
   "source": [
    "Удалены фичи, связанные с итогами матча."
   ]
  },
  {
   "cell_type": "code",
   "execution_count": 4,
   "id": "latest-bumper",
   "metadata": {
    "ExecuteTime": {
     "end_time": "2021-09-24T09:05:36.513535Z",
     "start_time": "2021-09-24T09:05:36.399180Z"
    }
   },
   "outputs": [],
   "source": [
    "df_1 = features.drop(['duration', 'radiant_win', 'tower_status_radiant',\n",
    "                     'tower_status_dire', 'barracks_status_radiant', 'barracks_status_dire'], axis=1)"
   ]
  },
  {
   "cell_type": "markdown",
   "id": "better-ballet",
   "metadata": {},
   "source": [
    "## Вопрос 1\n",
    "**Какие признаки имеют пропуски среди своих значений? Что могут означать пропуски в этих признаках (ответьте на этот вопрос для двух любых признаков)?**"
   ]
  },
  {
   "cell_type": "code",
   "execution_count": 5,
   "id": "fossil-brake",
   "metadata": {
    "ExecuteTime": {
     "end_time": "2021-09-24T09:05:36.688770Z",
     "start_time": "2021-09-24T09:05:36.521515Z"
    }
   },
   "outputs": [
    {
     "name": "stdout",
     "output_type": "stream",
     "text": [
      "Пропущенные значения есть в следующих столбцах:\n"
     ]
    },
    {
     "data": {
      "text/html": [
       "<div>\n",
       "<style scoped>\n",
       "    .dataframe tbody tr th:only-of-type {\n",
       "        vertical-align: middle;\n",
       "    }\n",
       "\n",
       "    .dataframe tbody tr th {\n",
       "        vertical-align: top;\n",
       "    }\n",
       "\n",
       "    .dataframe thead th {\n",
       "        text-align: right;\n",
       "    }\n",
       "</style>\n",
       "<table border=\"1\" class=\"dataframe\">\n",
       "  <thead>\n",
       "    <tr style=\"text-align: right;\">\n",
       "      <th></th>\n",
       "      <th>missing_values</th>\n",
       "    </tr>\n",
       "  </thead>\n",
       "  <tbody>\n",
       "    <tr>\n",
       "      <th>first_blood_time</th>\n",
       "      <td>19553</td>\n",
       "    </tr>\n",
       "    <tr>\n",
       "      <th>first_blood_team</th>\n",
       "      <td>19553</td>\n",
       "    </tr>\n",
       "    <tr>\n",
       "      <th>first_blood_player1</th>\n",
       "      <td>19553</td>\n",
       "    </tr>\n",
       "    <tr>\n",
       "      <th>first_blood_player2</th>\n",
       "      <td>43987</td>\n",
       "    </tr>\n",
       "    <tr>\n",
       "      <th>radiant_bottle_time</th>\n",
       "      <td>15691</td>\n",
       "    </tr>\n",
       "    <tr>\n",
       "      <th>radiant_courier_time</th>\n",
       "      <td>692</td>\n",
       "    </tr>\n",
       "    <tr>\n",
       "      <th>radiant_flying_courier_time</th>\n",
       "      <td>27479</td>\n",
       "    </tr>\n",
       "    <tr>\n",
       "      <th>radiant_first_ward_time</th>\n",
       "      <td>1836</td>\n",
       "    </tr>\n",
       "    <tr>\n",
       "      <th>dire_bottle_time</th>\n",
       "      <td>16143</td>\n",
       "    </tr>\n",
       "    <tr>\n",
       "      <th>dire_courier_time</th>\n",
       "      <td>676</td>\n",
       "    </tr>\n",
       "    <tr>\n",
       "      <th>dire_flying_courier_time</th>\n",
       "      <td>26098</td>\n",
       "    </tr>\n",
       "    <tr>\n",
       "      <th>dire_first_ward_time</th>\n",
       "      <td>1826</td>\n",
       "    </tr>\n",
       "  </tbody>\n",
       "</table>\n",
       "</div>"
      ],
      "text/plain": [
       "                             missing_values\n",
       "first_blood_time                      19553\n",
       "first_blood_team                      19553\n",
       "first_blood_player1                   19553\n",
       "first_blood_player2                   43987\n",
       "radiant_bottle_time                   15691\n",
       "radiant_courier_time                    692\n",
       "radiant_flying_courier_time           27479\n",
       "radiant_first_ward_time                1836\n",
       "dire_bottle_time                      16143\n",
       "dire_courier_time                       676\n",
       "dire_flying_courier_time              26098\n",
       "dire_first_ward_time                   1826"
      ]
     },
     "execution_count": 5,
     "metadata": {},
     "output_type": "execute_result"
    }
   ],
   "source": [
    "n = df_1.shape[0]\n",
    "counter = df_1.count()\n",
    "print('Пропущенные значения есть в следующих столбцах:')\n",
    "pd.DataFrame({'missing_values': n - counter[counter != n]})"
   ]
  },
  {
   "cell_type": "markdown",
   "id": "metropolitan-education",
   "metadata": {},
   "source": [
    "Пропуск в признаке *first_blood_time* означает, что событие \"first blood\" не наступило до конца пятой минуты.  \n",
    "Пропуск в признаке *dire_courier_time* означает, что предмет \"courier\" не был приобретён командой \"dire\"."
   ]
  },
  {
   "cell_type": "code",
   "execution_count": 6,
   "id": "framed-worker",
   "metadata": {
    "ExecuteTime": {
     "end_time": "2021-09-24T09:05:36.736692Z",
     "start_time": "2021-09-24T09:05:36.696757Z"
    }
   },
   "outputs": [],
   "source": [
    "df_1.fillna(value=0, inplace=True)"
   ]
  },
  {
   "cell_type": "markdown",
   "id": "latest-florence",
   "metadata": {},
   "source": [
    "## Вопрос 2\n",
    "**Как называется столбец, содержащий целевую переменную?**"
   ]
  },
  {
   "cell_type": "markdown",
   "id": "historical-armor",
   "metadata": {},
   "source": [
    "Столбец, содержащий целевую переменную, называется *radiant_win*. Он указывает, победила ли команда \"radiant\" или проиграла."
   ]
  },
  {
   "cell_type": "code",
   "execution_count": 7,
   "id": "mounted-nylon",
   "metadata": {
    "ExecuteTime": {
     "end_time": "2021-09-24T09:05:36.768646Z",
     "start_time": "2021-09-24T09:05:36.746678Z"
    }
   },
   "outputs": [],
   "source": [
    "target = features.radiant_win"
   ]
  },
  {
   "cell_type": "markdown",
   "id": "removable-yeast",
   "metadata": {},
   "source": [
    "## Вопрос 3\n",
    "**Как долго проводилась кросс-валидация для градиентного бустинга с 30 деревьями? Инструкцию по измерению времени можно найти ниже по тексту. Какое качество при этом получилось? Напомним, что в данном задании мы используем метрику качества AUC-ROC.**"
   ]
  },
  {
   "cell_type": "code",
   "execution_count": 8,
   "id": "french-swaziland",
   "metadata": {
    "ExecuteTime": {
     "end_time": "2021-09-24T09:05:36.800589Z",
     "start_time": "2021-09-24T09:05:36.782621Z"
    }
   },
   "outputs": [],
   "source": [
    "kfold = KFold(shuffle=True, random_state=512)\n",
    "boosting = GradientBoostingClassifier(n_estimators=10, random_state=471)"
   ]
  },
  {
   "cell_type": "markdown",
   "id": "mathematical-poverty",
   "metadata": {},
   "source": [
    "Подсчёт метрики для кросс-валидации и времени работы для количества деревьев 10, 20, 30, 40, 50, 60."
   ]
  },
  {
   "cell_type": "code",
   "execution_count": 9,
   "id": "flush-accordance",
   "metadata": {
    "ExecuteTime": {
     "end_time": "2021-09-24T09:50:16.720502Z",
     "start_time": "2021-09-24T09:05:36.811574Z"
    }
   },
   "outputs": [],
   "source": [
    "kfold = KFold(shuffle=True, random_state=512)\n",
    "grad_boost_scores = []\n",
    "grad_boost_times = []\n",
    "for n_estimators in range(10, 70, 10):\n",
    "    start = datetime.datetime.now()\n",
    "    boosting = GradientBoostingClassifier(n_estimators=n_estimators, random_state=471)\n",
    "    grad_boost_scores.append(cross_val_score(boosting, df_1, target, scoring='roc_auc', cv=kfold))\n",
    "    grad_boost_times.append(datetime.datetime.now() - start)"
   ]
  },
  {
   "cell_type": "code",
   "execution_count": 10,
   "id": "coral-variation",
   "metadata": {
    "ExecuteTime": {
     "end_time": "2021-09-24T09:50:16.910065Z",
     "start_time": "2021-09-24T09:50:16.720502Z"
    },
    "scrolled": true
   },
   "outputs": [
    {
     "data": {
      "text/html": [
       "<div>\n",
       "<style scoped>\n",
       "    .dataframe tbody tr th:only-of-type {\n",
       "        vertical-align: middle;\n",
       "    }\n",
       "\n",
       "    .dataframe tbody tr th {\n",
       "        vertical-align: top;\n",
       "    }\n",
       "\n",
       "    .dataframe thead th {\n",
       "        text-align: right;\n",
       "    }\n",
       "</style>\n",
       "<table border=\"1\" class=\"dataframe\">\n",
       "  <thead>\n",
       "    <tr style=\"text-align: right;\">\n",
       "      <th></th>\n",
       "      <th>score</th>\n",
       "      <th>time, sec</th>\n",
       "    </tr>\n",
       "  </thead>\n",
       "  <tbody>\n",
       "    <tr>\n",
       "      <th>10</th>\n",
       "      <td>0.664513</td>\n",
       "      <td>132.511580</td>\n",
       "    </tr>\n",
       "    <tr>\n",
       "      <th>20</th>\n",
       "      <td>0.682591</td>\n",
       "      <td>255.360794</td>\n",
       "    </tr>\n",
       "    <tr>\n",
       "      <th>30</th>\n",
       "      <td>0.689441</td>\n",
       "      <td>389.976364</td>\n",
       "    </tr>\n",
       "    <tr>\n",
       "      <th>40</th>\n",
       "      <td>0.694353</td>\n",
       "      <td>510.419979</td>\n",
       "    </tr>\n",
       "    <tr>\n",
       "      <th>50</th>\n",
       "      <td>0.697628</td>\n",
       "      <td>646.997368</td>\n",
       "    </tr>\n",
       "    <tr>\n",
       "      <th>60</th>\n",
       "      <td>0.700355</td>\n",
       "      <td>744.602589</td>\n",
       "    </tr>\n",
       "  </tbody>\n",
       "</table>\n",
       "</div>"
      ],
      "text/plain": [
       "       score   time, sec\n",
       "10  0.664513  132.511580\n",
       "20  0.682591  255.360794\n",
       "30  0.689441  389.976364\n",
       "40  0.694353  510.419979\n",
       "50  0.697628  646.997368\n",
       "60  0.700355  744.602589"
      ]
     },
     "execution_count": 10,
     "metadata": {},
     "output_type": "execute_result"
    }
   ],
   "source": [
    "grad_boost_scores = list(map(np.mean, grad_boost_scores))\n",
    "pd.DataFrame({'score': grad_boost_scores, 'time, sec': map(methodcaller('total_seconds'), grad_boost_times)}, index=range(10, 70, 10))"
   ]
  },
  {
   "cell_type": "markdown",
   "id": "bored-grocery",
   "metadata": {},
   "source": [
    "Время кросс-валидации для 30 деревьев равно 6 минут 53.767331 секунд.  \n",
    "Качество равно 0.689441."
   ]
  },
  {
   "cell_type": "markdown",
   "id": "honey-portable",
   "metadata": {},
   "source": [
    "## Вопрос 4\n",
    "**Имеет ли смысл использовать больше 30 деревьев в градиентном бустинге? Что бы вы предложили делать, чтобы ускорить его обучение при увеличении количества деревьев?**"
   ]
  },
  {
   "cell_type": "markdown",
   "id": "distant-retailer",
   "metadata": {},
   "source": [
    "В данном случае можно попробовать использовать больше, так как качество модели с увеличением количества деревьев только увеличивалось.  \n",
    "Для ускорения обучения деревьев можно увеличить степень регуляризации: уменьшить максимальную глубину деревьев, увеличить гиперпараметр *learning rate* самого бустинга или использовать стохастический градиентный бустинг."
   ]
  },
  {
   "cell_type": "code",
   "execution_count": 11,
   "id": "extra-terrorist",
   "metadata": {
    "ExecuteTime": {
     "end_time": "2021-09-24T09:50:17.964052Z",
     "start_time": "2021-09-24T09:50:16.918065Z"
    }
   },
   "outputs": [
    {
     "data": {
      "image/png": "[encoded data removed]",
      "text/plain": [
       "<Figure size 432x288 with 1 Axes>"
      ]
     },
     "metadata": {
      "needs_background": "light"
     },
     "output_type": "display_data"
    }
   ],
   "source": [
    "plt.plot(range(10, 70, 10), grad_boost_scores)\n",
    "plt.xlabel('n_estimators')\n",
    "plt.ylabel('roc_auc_score')\n",
    "plt.show()"
   ]
  },
  {
   "cell_type": "markdown",
   "id": "crucial-personality",
   "metadata": {},
   "source": [
    "# Подход 2: логистическая регрессия"
   ]
  },
  {
   "cell_type": "markdown",
   "id": "acoustic-trustee",
   "metadata": {},
   "source": [
    "## Вопрос 1\n",
    "**Какое качество получилось у логистической регрессии над всеми исходными признаками? Как оно соотносится с качеством градиентного бустинга? Чем вы можете объяснить эту разницу? Быстрее ли работает логистическая регрессия по сравнению с градиентным бустингом?**"
   ]
  },
  {
   "cell_type": "code",
   "execution_count": 12,
   "id": "legendary-fourth",
   "metadata": {
    "ExecuteTime": {
     "end_time": "2021-09-24T09:50:17.996002Z",
     "start_time": "2021-09-24T09:50:17.971046Z"
    }
   },
   "outputs": [],
   "source": [
    "C_param_values = 10.**np.arange(-5, 5)"
   ]
  },
  {
   "cell_type": "code",
   "execution_count": 13,
   "id": "humanitarian-currency",
   "metadata": {
    "ExecuteTime": {
     "end_time": "2021-09-24T09:50:19.094870Z",
     "start_time": "2021-09-24T09:50:18.002992Z"
    }
   },
   "outputs": [],
   "source": [
    "df_scaled = pd.DataFrame(StandardScaler().fit_transform(df_1), index=df_1.index, columns=df_1.columns)"
   ]
  },
  {
   "cell_type": "code",
   "execution_count": 14,
   "id": "stunning-jamaica",
   "metadata": {
    "ExecuteTime": {
     "end_time": "2021-09-24T09:52:11.203788Z",
     "start_time": "2021-09-24T09:50:19.103861Z"
    }
   },
   "outputs": [],
   "source": [
    "log_reg_1_scores = []\n",
    "log_reg_1_times = []\n",
    "for C in C_param_values:\n",
    "    start = datetime.datetime.now()\n",
    "    log_reg = LogisticRegression(random_state=192, C=C)\n",
    "    log_reg_1_scores.append(cross_val_score(log_reg, df_scaled, target, scoring='roc_auc', cv=kfold))\n",
    "    log_reg_1_times.append(datetime.datetime.now() - start)"
   ]
  },
  {
   "cell_type": "markdown",
   "id": "signed-junction",
   "metadata": {},
   "source": [
    "Качество модели и время обучения на кроссвалидации в зависимости от параметра C."
   ]
  },
  {
   "cell_type": "code",
   "execution_count": 15,
   "id": "baking-notification",
   "metadata": {
    "ExecuteTime": {
     "end_time": "2021-09-24T09:52:11.266804Z",
     "start_time": "2021-09-24T09:52:11.203788Z"
    }
   },
   "outputs": [
    {
     "data": {
      "text/html": [
       "<div>\n",
       "<style scoped>\n",
       "    .dataframe tbody tr th:only-of-type {\n",
       "        vertical-align: middle;\n",
       "    }\n",
       "\n",
       "    .dataframe tbody tr th {\n",
       "        vertical-align: top;\n",
       "    }\n",
       "\n",
       "    .dataframe thead th {\n",
       "        text-align: right;\n",
       "    }\n",
       "</style>\n",
       "<table border=\"1\" class=\"dataframe\">\n",
       "  <thead>\n",
       "    <tr style=\"text-align: right;\">\n",
       "      <th></th>\n",
       "      <th>score</th>\n",
       "      <th>time, sec</th>\n",
       "    </tr>\n",
       "  </thead>\n",
       "  <tbody>\n",
       "    <tr>\n",
       "      <th>0.00001</th>\n",
       "      <td>0.695006</td>\n",
       "      <td>4.645815</td>\n",
       "    </tr>\n",
       "    <tr>\n",
       "      <th>0.00010</th>\n",
       "      <td>0.711085</td>\n",
       "      <td>5.606818</td>\n",
       "    </tr>\n",
       "    <tr>\n",
       "      <th>0.00100</th>\n",
       "      <td>0.716015</td>\n",
       "      <td>9.046581</td>\n",
       "    </tr>\n",
       "    <tr>\n",
       "      <th>0.01000</th>\n",
       "      <td>0.716187</td>\n",
       "      <td>12.890351</td>\n",
       "    </tr>\n",
       "    <tr>\n",
       "      <th>0.10000</th>\n",
       "      <td>0.716163</td>\n",
       "      <td>13.233933</td>\n",
       "    </tr>\n",
       "    <tr>\n",
       "      <th>1.00000</th>\n",
       "      <td>0.716158</td>\n",
       "      <td>13.233931</td>\n",
       "    </tr>\n",
       "    <tr>\n",
       "      <th>10.00000</th>\n",
       "      <td>0.716158</td>\n",
       "      <td>13.406597</td>\n",
       "    </tr>\n",
       "    <tr>\n",
       "      <th>100.00000</th>\n",
       "      <td>0.716158</td>\n",
       "      <td>13.343301</td>\n",
       "    </tr>\n",
       "    <tr>\n",
       "      <th>1000.00000</th>\n",
       "      <td>0.716158</td>\n",
       "      <td>13.218307</td>\n",
       "    </tr>\n",
       "    <tr>\n",
       "      <th>10000.00000</th>\n",
       "      <td>0.716158</td>\n",
       "      <td>13.452678</td>\n",
       "    </tr>\n",
       "  </tbody>\n",
       "</table>\n",
       "</div>"
      ],
      "text/plain": [
       "                score  time, sec\n",
       "0.00001      0.695006   4.645815\n",
       "0.00010      0.711085   5.606818\n",
       "0.00100      0.716015   9.046581\n",
       "0.01000      0.716187  12.890351\n",
       "0.10000      0.716163  13.233933\n",
       "1.00000      0.716158  13.233931\n",
       "10.00000     0.716158  13.406597\n",
       "100.00000    0.716158  13.343301\n",
       "1000.00000   0.716158  13.218307\n",
       "10000.00000  0.716158  13.452678"
      ]
     },
     "execution_count": 15,
     "metadata": {},
     "output_type": "execute_result"
    }
   ],
   "source": [
    "log_reg_1_scores = np.array(list(map(np.mean, log_reg_1_scores)))\n",
    "pd.DataFrame({'score': log_reg_1_scores, 'time, sec': map(methodcaller('total_seconds'), log_reg_1_times)}, index=C_param_values)"
   ]
  },
  {
   "cell_type": "markdown",
   "id": "united-thanks",
   "metadata": {},
   "source": [
    "График качества модели от параметра C."
   ]
  },
  {
   "cell_type": "code",
   "execution_count": 16,
   "id": "corporate-trinidad",
   "metadata": {
    "ExecuteTime": {
     "end_time": "2021-09-24T09:52:12.897817Z",
     "start_time": "2021-09-24T09:52:11.274795Z"
    }
   },
   "outputs": [
    {
     "data": {
      "image/png": "[encoded data removed]",
      "text/plain": [
       "<Figure size 432x288 with 1 Axes>"
      ]
     },
     "metadata": {
      "needs_background": "light"
     },
     "output_type": "display_data"
    }
   ],
   "source": [
    "plt.plot(C_param_values, log_reg_1_scores)\n",
    "plt.xlabel('C')\n",
    "plt.ylabel('roc_auc_score')\n",
    "plt.xscale('log')\n",
    "plt.show()"
   ]
  },
  {
   "cell_type": "markdown",
   "id": "tender-jersey",
   "metadata": {},
   "source": [
    "Значение параметра C, при котором качество достигает максимума."
   ]
  },
  {
   "cell_type": "code",
   "execution_count": 17,
   "id": "apart-klein",
   "metadata": {
    "ExecuteTime": {
     "end_time": "2021-09-24T09:52:12.927544Z",
     "start_time": "2021-09-24T09:52:12.906575Z"
    }
   },
   "outputs": [
    {
     "data": {
      "text/plain": [
       "0.01"
      ]
     },
     "execution_count": 17,
     "metadata": {},
     "output_type": "execute_result"
    }
   ],
   "source": [
    "C_param_values[log_reg_1_scores.argmax()]"
   ]
  },
  {
   "cell_type": "markdown",
   "id": "superior-jonathan",
   "metadata": {},
   "source": [
    "Максимальное качество"
   ]
  },
  {
   "cell_type": "code",
   "execution_count": 18,
   "id": "native-corpus",
   "metadata": {
    "ExecuteTime": {
     "end_time": "2021-09-24T09:52:12.975466Z",
     "start_time": "2021-09-24T09:52:12.934538Z"
    }
   },
   "outputs": [
    {
     "data": {
      "text/plain": [
       "0.7161868008507322"
      ]
     },
     "execution_count": 18,
     "metadata": {},
     "output_type": "execute_result"
    }
   ],
   "source": [
    "log_reg_1_scores.max()"
   ]
  },
  {
   "cell_type": "markdown",
   "id": "minute-shadow",
   "metadata": {},
   "source": [
    "Таким образом, качество логистической регрессии 0.716187 получилось выше качества градиентного бустинга 0.700355 на 60 деревьях. Это может быть связано с тем, что количество деревьев недостаточное, ведь качество модели только увеличивалось. Также это может быть связано с качеством данных. Например, категориальные признаки были использованы как числовые, использован признак время начала. Логистическая регрессия работает быстрее в 811.2/12.5 = 64.896 раз по сравнению с градиентным бустингом на 60 деревьях."
   ]
  },
  {
   "cell_type": "markdown",
   "id": "still-spine",
   "metadata": {},
   "source": [
    "## Вопрос 2\n",
    "**Как влияет на качество логистической регрессии удаление категориальных признаков (укажите новое значение метрики качества)? Чем вы можете объяснить это изменение?**"
   ]
  },
  {
   "cell_type": "code",
   "execution_count": 19,
   "id": "dressed-paint",
   "metadata": {
    "ExecuteTime": {
     "end_time": "2021-09-24T09:52:13.007413Z",
     "start_time": "2021-09-24T09:52:12.990444Z"
    }
   },
   "outputs": [],
   "source": [
    "dropped_features = ['lobby_type'] + [f'{team}{n}_hero' for team, n in product(['r', 'd'], range(1, 6))]"
   ]
  },
  {
   "cell_type": "code",
   "execution_count": 20,
   "id": "paperback-proposal",
   "metadata": {
    "ExecuteTime": {
     "end_time": "2021-09-24T09:52:13.102265Z",
     "start_time": "2021-09-24T09:52:13.016409Z"
    }
   },
   "outputs": [],
   "source": [
    "df_2 = df_scaled.drop(dropped_features, axis=1)"
   ]
  },
  {
   "cell_type": "code",
   "execution_count": 21,
   "id": "white-height",
   "metadata": {
    "ExecuteTime": {
     "end_time": "2021-09-24T09:54:04.796333Z",
     "start_time": "2021-09-24T09:52:13.111258Z"
    }
   },
   "outputs": [],
   "source": [
    "log_reg_2_scores = []\n",
    "log_reg_2_times = []\n",
    "for C in C_param_values:\n",
    "    start = datetime.datetime.now()\n",
    "    log_reg = LogisticRegression(random_state=192, C=C)\n",
    "    log_reg_2_scores.append(cross_val_score(log_reg, df_2, target, scoring='roc_auc', cv=kfold))\n",
    "    log_reg_2_times.append(datetime.datetime.now() - start)"
   ]
  },
  {
   "cell_type": "markdown",
   "id": "supported-munich",
   "metadata": {},
   "source": [
    "Качество модели и время обучения на кроссвалидации в зависимости от параметра C."
   ]
  },
  {
   "cell_type": "code",
   "execution_count": 22,
   "id": "parliamentary-programming",
   "metadata": {
    "ExecuteTime": {
     "end_time": "2021-09-24T09:54:04.853267Z",
     "start_time": "2021-09-24T09:54:04.796333Z"
    },
    "scrolled": true
   },
   "outputs": [
    {
     "data": {
      "text/html": [
       "<div>\n",
       "<style scoped>\n",
       "    .dataframe tbody tr th:only-of-type {\n",
       "        vertical-align: middle;\n",
       "    }\n",
       "\n",
       "    .dataframe tbody tr th {\n",
       "        vertical-align: top;\n",
       "    }\n",
       "\n",
       "    .dataframe thead th {\n",
       "        text-align: right;\n",
       "    }\n",
       "</style>\n",
       "<table border=\"1\" class=\"dataframe\">\n",
       "  <thead>\n",
       "    <tr style=\"text-align: right;\">\n",
       "      <th></th>\n",
       "      <th>score</th>\n",
       "      <th>time, sec</th>\n",
       "    </tr>\n",
       "  </thead>\n",
       "  <tbody>\n",
       "    <tr>\n",
       "      <th>0.00001</th>\n",
       "      <td>0.694947</td>\n",
       "      <td>4.772420</td>\n",
       "    </tr>\n",
       "    <tr>\n",
       "      <th>0.00010</th>\n",
       "      <td>0.711086</td>\n",
       "      <td>5.171600</td>\n",
       "    </tr>\n",
       "    <tr>\n",
       "      <th>0.00100</th>\n",
       "      <td>0.716059</td>\n",
       "      <td>8.577838</td>\n",
       "    </tr>\n",
       "    <tr>\n",
       "      <th>0.01000</th>\n",
       "      <td>0.716234</td>\n",
       "      <td>12.858946</td>\n",
       "    </tr>\n",
       "    <tr>\n",
       "      <th>0.10000</th>\n",
       "      <td>0.716213</td>\n",
       "      <td>13.024294</td>\n",
       "    </tr>\n",
       "    <tr>\n",
       "      <th>1.00000</th>\n",
       "      <td>0.716210</td>\n",
       "      <td>13.408189</td>\n",
       "    </tr>\n",
       "    <tr>\n",
       "      <th>10.00000</th>\n",
       "      <td>0.716209</td>\n",
       "      <td>12.838018</td>\n",
       "    </tr>\n",
       "    <tr>\n",
       "      <th>100.00000</th>\n",
       "      <td>0.716209</td>\n",
       "      <td>13.513581</td>\n",
       "    </tr>\n",
       "    <tr>\n",
       "      <th>1000.00000</th>\n",
       "      <td>0.716209</td>\n",
       "      <td>14.133208</td>\n",
       "    </tr>\n",
       "    <tr>\n",
       "      <th>10000.00000</th>\n",
       "      <td>0.716209</td>\n",
       "      <td>13.347745</td>\n",
       "    </tr>\n",
       "  </tbody>\n",
       "</table>\n",
       "</div>"
      ],
      "text/plain": [
       "                score  time, sec\n",
       "0.00001      0.694947   4.772420\n",
       "0.00010      0.711086   5.171600\n",
       "0.00100      0.716059   8.577838\n",
       "0.01000      0.716234  12.858946\n",
       "0.10000      0.716213  13.024294\n",
       "1.00000      0.716210  13.408189\n",
       "10.00000     0.716209  12.838018\n",
       "100.00000    0.716209  13.513581\n",
       "1000.00000   0.716209  14.133208\n",
       "10000.00000  0.716209  13.347745"
      ]
     },
     "execution_count": 22,
     "metadata": {},
     "output_type": "execute_result"
    }
   ],
   "source": [
    "log_reg_2_scores = np.array(list(map(np.mean, log_reg_2_scores)))\n",
    "pd.DataFrame({'score': log_reg_2_scores, 'time, sec': map(methodcaller('total_seconds'), log_reg_2_times)}, index=C_param_values)"
   ]
  },
  {
   "cell_type": "markdown",
   "id": "nonprofit-turner",
   "metadata": {},
   "source": [
    "График качества модели от параметра C."
   ]
  },
  {
   "cell_type": "code",
   "execution_count": 23,
   "id": "mature-slave",
   "metadata": {
    "ExecuteTime": {
     "end_time": "2021-09-24T09:54:05.940912Z",
     "start_time": "2021-09-24T09:54:04.862253Z"
    }
   },
   "outputs": [
    {
     "data": {
      "image/png": "[encoded data removed]",
      "text/plain": [
       "<Figure size 432x288 with 1 Axes>"
      ]
     },
     "metadata": {
      "needs_background": "light"
     },
     "output_type": "display_data"
    }
   ],
   "source": [
    "plt.plot(C_param_values, log_reg_2_scores)\n",
    "plt.xlabel('C')\n",
    "plt.ylabel('roc_auc_score')\n",
    "plt.xscale('log')\n",
    "plt.show()"
   ]
  },
  {
   "cell_type": "markdown",
   "id": "acquired-abuse",
   "metadata": {},
   "source": [
    "Значение параметра C, при котором качество достигает максимума."
   ]
  },
  {
   "cell_type": "code",
   "execution_count": 24,
   "id": "favorite-resort",
   "metadata": {
    "ExecuteTime": {
     "end_time": "2021-09-24T09:54:05.971895Z",
     "start_time": "2021-09-24T09:54:05.940912Z"
    }
   },
   "outputs": [
    {
     "data": {
      "text/plain": [
       "0.01"
      ]
     },
     "execution_count": 24,
     "metadata": {},
     "output_type": "execute_result"
    }
   ],
   "source": [
    "C_param_values[log_reg_2_scores.argmax()]"
   ]
  },
  {
   "cell_type": "markdown",
   "id": "external-vessel",
   "metadata": {},
   "source": [
    "Максимальное качество"
   ]
  },
  {
   "cell_type": "code",
   "execution_count": 25,
   "id": "mobile-information",
   "metadata": {
    "ExecuteTime": {
     "end_time": "2021-09-24T09:54:06.004941Z",
     "start_time": "2021-09-24T09:54:05.974036Z"
    }
   },
   "outputs": [
    {
     "data": {
      "text/plain": [
       "0.7162342365982566"
      ]
     },
     "execution_count": 25,
     "metadata": {},
     "output_type": "execute_result"
    }
   ],
   "source": [
    "log_reg_2_scores.max()"
   ]
  },
  {
   "cell_type": "markdown",
   "id": "previous-understanding",
   "metadata": {},
   "source": [
    "Качество стало 0.716234, оно увеличилось ненамного — на 0.716234-0.716187=0.000047=4.7e-5. Это связано с тем, что веса удаленных признаков в логистической регрессии было небольшим. "
   ]
  },
  {
   "cell_type": "markdown",
   "id": "periodic-sending",
   "metadata": {},
   "source": [
    "## Вопрос 3\n",
    "**Сколько различных идентификаторов героев существует в данной игре?**"
   ]
  },
  {
   "cell_type": "code",
   "execution_count": 26,
   "id": "aquatic-generic",
   "metadata": {
    "ExecuteTime": {
     "end_time": "2021-09-24T09:54:06.052471Z",
     "start_time": "2021-09-24T09:54:06.025514Z"
    }
   },
   "outputs": [
    {
     "data": {
      "text/plain": [
       "112"
      ]
     },
     "execution_count": 26,
     "metadata": {},
     "output_type": "execute_result"
    }
   ],
   "source": [
    "len(heroes.index)"
   ]
  },
  {
   "cell_type": "markdown",
   "id": "hindu-collectible",
   "metadata": {},
   "source": [
    "Значит, всего в данной игре 112 различных героев."
   ]
  },
  {
   "cell_type": "markdown",
   "id": "martial-status",
   "metadata": {},
   "source": [
    "## Вопрос 4\n",
    "**Какое получилось качество при добавлении \"мешка слов\" по героям? Улучшилось ли оно по сравнению с предыдущим вариантом? Чем вы можете это объяснить?**"
   ]
  },
  {
   "cell_type": "code",
   "execution_count": 27,
   "id": "complimentary-setting",
   "metadata": {
    "ExecuteTime": {
     "end_time": "2021-09-24T09:54:48.972410Z",
     "start_time": "2021-09-24T09:54:06.062459Z"
    }
   },
   "outputs": [],
   "source": [
    "N = len(heroes.index)\n",
    "X_pick = np.zeros((df_1.shape[0], N))\n",
    "for i, match_id in enumerate(df_1.index):\n",
    "    for p in range(5):\n",
    "        X_pick[i, df_1.loc[match_id, 'r%d_hero' % (p + 1)] - 1] = 1\n",
    "        X_pick[i, df_1.loc[match_id, 'd%d_hero' % (p + 1)] - 1] = -1"
   ]
  },
  {
   "cell_type": "code",
   "execution_count": 28,
   "id": "loved-stations",
   "metadata": {
    "ExecuteTime": {
     "end_time": "2021-09-24T09:54:49.080745Z",
     "start_time": "2021-09-24T09:54:48.972410Z"
    }
   },
   "outputs": [],
   "source": [
    "df_3 = df_2.copy()"
   ]
  },
  {
   "cell_type": "code",
   "execution_count": 29,
   "id": "closing-emission",
   "metadata": {
    "ExecuteTime": {
     "end_time": "2021-09-24T09:54:50.364735Z",
     "start_time": "2021-09-24T09:54:49.088742Z"
    }
   },
   "outputs": [],
   "source": [
    "df_3[[f'hero_{i}' for i in heroes.index]] = X_pick"
   ]
  },
  {
   "cell_type": "code",
   "execution_count": 30,
   "id": "acceptable-abuse",
   "metadata": {
    "ExecuteTime": {
     "end_time": "2021-09-24T09:59:52.995493Z",
     "start_time": "2021-09-24T09:54:50.376524Z"
    }
   },
   "outputs": [
    {
     "name": "stderr",
     "output_type": "stream",
     "text": [
      "c:\\users\\user\\appdata\\local\\programs\\python\\python39\\lib\\site-packages\\sklearn\\linear_model\\_logistic.py:763: ConvergenceWarning: lbfgs failed to converge (status=1):\n",
      "STOP: TOTAL NO. of ITERATIONS REACHED LIMIT.\n",
      "\n",
      "Increase the number of iterations (max_iter) or scale the data as shown in:\n",
      "    https://scikit-learn.org/stable/modules/preprocessing.html\n",
      "Please also refer to the documentation for alternative solver options:\n",
      "    https://scikit-learn.org/stable/modules/linear_model.html#logistic-regression\n",
      "  n_iter_i = _check_optimize_result(\n",
      "c:\\users\\user\\appdata\\local\\programs\\python\\python39\\lib\\site-packages\\sklearn\\linear_model\\_logistic.py:763: ConvergenceWarning: lbfgs failed to converge (status=1):\n",
      "STOP: TOTAL NO. of ITERATIONS REACHED LIMIT.\n",
      "\n",
      "Increase the number of iterations (max_iter) or scale the data as shown in:\n",
      "    https://scikit-learn.org/stable/modules/preprocessing.html\n",
      "Please also refer to the documentation for alternative solver options:\n",
      "    https://scikit-learn.org/stable/modules/linear_model.html#logistic-regression\n",
      "  n_iter_i = _check_optimize_result(\n",
      "c:\\users\\user\\appdata\\local\\programs\\python\\python39\\lib\\site-packages\\sklearn\\linear_model\\_logistic.py:763: ConvergenceWarning: lbfgs failed to converge (status=1):\n",
      "STOP: TOTAL NO. of ITERATIONS REACHED LIMIT.\n",
      "\n",
      "Increase the number of iterations (max_iter) or scale the data as shown in:\n",
      "    https://scikit-learn.org/stable/modules/preprocessing.html\n",
      "Please also refer to the documentation for alternative solver options:\n",
      "    https://scikit-learn.org/stable/modules/linear_model.html#logistic-regression\n",
      "  n_iter_i = _check_optimize_result(\n",
      "c:\\users\\user\\appdata\\local\\programs\\python\\python39\\lib\\site-packages\\sklearn\\linear_model\\_logistic.py:763: ConvergenceWarning: lbfgs failed to converge (status=1):\n",
      "STOP: TOTAL NO. of ITERATIONS REACHED LIMIT.\n",
      "\n",
      "Increase the number of iterations (max_iter) or scale the data as shown in:\n",
      "    https://scikit-learn.org/stable/modules/preprocessing.html\n",
      "Please also refer to the documentation for alternative solver options:\n",
      "    https://scikit-learn.org/stable/modules/linear_model.html#logistic-regression\n",
      "  n_iter_i = _check_optimize_result(\n",
      "c:\\users\\user\\appdata\\local\\programs\\python\\python39\\lib\\site-packages\\sklearn\\linear_model\\_logistic.py:763: ConvergenceWarning: lbfgs failed to converge (status=1):\n",
      "STOP: TOTAL NO. of ITERATIONS REACHED LIMIT.\n",
      "\n",
      "Increase the number of iterations (max_iter) or scale the data as shown in:\n",
      "    https://scikit-learn.org/stable/modules/preprocessing.html\n",
      "Please also refer to the documentation for alternative solver options:\n",
      "    https://scikit-learn.org/stable/modules/linear_model.html#logistic-regression\n",
      "  n_iter_i = _check_optimize_result(\n",
      "c:\\users\\user\\appdata\\local\\programs\\python\\python39\\lib\\site-packages\\sklearn\\linear_model\\_logistic.py:763: ConvergenceWarning: lbfgs failed to converge (status=1):\n",
      "STOP: TOTAL NO. of ITERATIONS REACHED LIMIT.\n",
      "\n",
      "Increase the number of iterations (max_iter) or scale the data as shown in:\n",
      "    https://scikit-learn.org/stable/modules/preprocessing.html\n",
      "Please also refer to the documentation for alternative solver options:\n",
      "    https://scikit-learn.org/stable/modules/linear_model.html#logistic-regression\n",
      "  n_iter_i = _check_optimize_result(\n",
      "c:\\users\\user\\appdata\\local\\programs\\python\\python39\\lib\\site-packages\\sklearn\\linear_model\\_logistic.py:763: ConvergenceWarning: lbfgs failed to converge (status=1):\n",
      "STOP: TOTAL NO. of ITERATIONS REACHED LIMIT.\n",
      "\n",
      "Increase the number of iterations (max_iter) or scale the data as shown in:\n",
      "    https://scikit-learn.org/stable/modules/preprocessing.html\n",
      "Please also refer to the documentation for alternative solver options:\n",
      "    https://scikit-learn.org/stable/modules/linear_model.html#logistic-regression\n",
      "  n_iter_i = _check_optimize_result(\n",
      "c:\\users\\user\\appdata\\local\\programs\\python\\python39\\lib\\site-packages\\sklearn\\linear_model\\_logistic.py:763: ConvergenceWarning: lbfgs failed to converge (status=1):\n",
      "STOP: TOTAL NO. of ITERATIONS REACHED LIMIT.\n",
      "\n",
      "Increase the number of iterations (max_iter) or scale the data as shown in:\n",
      "    https://scikit-learn.org/stable/modules/preprocessing.html\n",
      "Please also refer to the documentation for alternative solver options:\n",
      "    https://scikit-learn.org/stable/modules/linear_model.html#logistic-regression\n",
      "  n_iter_i = _check_optimize_result(\n",
      "c:\\users\\user\\appdata\\local\\programs\\python\\python39\\lib\\site-packages\\sklearn\\linear_model\\_logistic.py:763: ConvergenceWarning: lbfgs failed to converge (status=1):\n",
      "STOP: TOTAL NO. of ITERATIONS REACHED LIMIT.\n",
      "\n",
      "Increase the number of iterations (max_iter) or scale the data as shown in:\n",
      "    https://scikit-learn.org/stable/modules/preprocessing.html\n",
      "Please also refer to the documentation for alternative solver options:\n",
      "    https://scikit-learn.org/stable/modules/linear_model.html#logistic-regression\n",
      "  n_iter_i = _check_optimize_result(\n",
      "c:\\users\\user\\appdata\\local\\programs\\python\\python39\\lib\\site-packages\\sklearn\\linear_model\\_logistic.py:763: ConvergenceWarning: lbfgs failed to converge (status=1):\n",
      "STOP: TOTAL NO. of ITERATIONS REACHED LIMIT.\n",
      "\n",
      "Increase the number of iterations (max_iter) or scale the data as shown in:\n",
      "    https://scikit-learn.org/stable/modules/preprocessing.html\n",
      "Please also refer to the documentation for alternative solver options:\n",
      "    https://scikit-learn.org/stable/modules/linear_model.html#logistic-regression\n",
      "  n_iter_i = _check_optimize_result(\n",
      "c:\\users\\user\\appdata\\local\\programs\\python\\python39\\lib\\site-packages\\sklearn\\linear_model\\_logistic.py:763: ConvergenceWarning: lbfgs failed to converge (status=1):\n",
      "STOP: TOTAL NO. of ITERATIONS REACHED LIMIT.\n",
      "\n",
      "Increase the number of iterations (max_iter) or scale the data as shown in:\n",
      "    https://scikit-learn.org/stable/modules/preprocessing.html\n",
      "Please also refer to the documentation for alternative solver options:\n",
      "    https://scikit-learn.org/stable/modules/linear_model.html#logistic-regression\n",
      "  n_iter_i = _check_optimize_result(\n",
      "c:\\users\\user\\appdata\\local\\programs\\python\\python39\\lib\\site-packages\\sklearn\\linear_model\\_logistic.py:763: ConvergenceWarning: lbfgs failed to converge (status=1):\n",
      "STOP: TOTAL NO. of ITERATIONS REACHED LIMIT.\n",
      "\n",
      "Increase the number of iterations (max_iter) or scale the data as shown in:\n",
      "    https://scikit-learn.org/stable/modules/preprocessing.html\n",
      "Please also refer to the documentation for alternative solver options:\n",
      "    https://scikit-learn.org/stable/modules/linear_model.html#logistic-regression\n",
      "  n_iter_i = _check_optimize_result(\n",
      "c:\\users\\user\\appdata\\local\\programs\\python\\python39\\lib\\site-packages\\sklearn\\linear_model\\_logistic.py:763: ConvergenceWarning: lbfgs failed to converge (status=1):\n",
      "STOP: TOTAL NO. of ITERATIONS REACHED LIMIT.\n",
      "\n",
      "Increase the number of iterations (max_iter) or scale the data as shown in:\n",
      "    https://scikit-learn.org/stable/modules/preprocessing.html\n",
      "Please also refer to the documentation for alternative solver options:\n",
      "    https://scikit-learn.org/stable/modules/linear_model.html#logistic-regression\n",
      "  n_iter_i = _check_optimize_result(\n",
      "c:\\users\\user\\appdata\\local\\programs\\python\\python39\\lib\\site-packages\\sklearn\\linear_model\\_logistic.py:763: ConvergenceWarning: lbfgs failed to converge (status=1):\n",
      "STOP: TOTAL NO. of ITERATIONS REACHED LIMIT.\n",
      "\n",
      "Increase the number of iterations (max_iter) or scale the data as shown in:\n",
      "    https://scikit-learn.org/stable/modules/preprocessing.html\n",
      "Please also refer to the documentation for alternative solver options:\n",
      "    https://scikit-learn.org/stable/modules/linear_model.html#logistic-regression\n",
      "  n_iter_i = _check_optimize_result(\n",
      "c:\\users\\user\\appdata\\local\\programs\\python\\python39\\lib\\site-packages\\sklearn\\linear_model\\_logistic.py:763: ConvergenceWarning: lbfgs failed to converge (status=1):\n",
      "STOP: TOTAL NO. of ITERATIONS REACHED LIMIT.\n",
      "\n",
      "Increase the number of iterations (max_iter) or scale the data as shown in:\n",
      "    https://scikit-learn.org/stable/modules/preprocessing.html\n",
      "Please also refer to the documentation for alternative solver options:\n",
      "    https://scikit-learn.org/stable/modules/linear_model.html#logistic-regression\n",
      "  n_iter_i = _check_optimize_result(\n",
      "c:\\users\\user\\appdata\\local\\programs\\python\\python39\\lib\\site-packages\\sklearn\\linear_model\\_logistic.py:763: ConvergenceWarning: lbfgs failed to converge (status=1):\n",
      "STOP: TOTAL NO. of ITERATIONS REACHED LIMIT.\n",
      "\n",
      "Increase the number of iterations (max_iter) or scale the data as shown in:\n",
      "    https://scikit-learn.org/stable/modules/preprocessing.html\n",
      "Please also refer to the documentation for alternative solver options:\n",
      "    https://scikit-learn.org/stable/modules/linear_model.html#logistic-regression\n",
      "  n_iter_i = _check_optimize_result(\n"
     ]
    },
    {
     "name": "stderr",
     "output_type": "stream",
     "text": [
      "c:\\users\\user\\appdata\\local\\programs\\python\\python39\\lib\\site-packages\\sklearn\\linear_model\\_logistic.py:763: ConvergenceWarning: lbfgs failed to converge (status=1):\n",
      "STOP: TOTAL NO. of ITERATIONS REACHED LIMIT.\n",
      "\n",
      "Increase the number of iterations (max_iter) or scale the data as shown in:\n",
      "    https://scikit-learn.org/stable/modules/preprocessing.html\n",
      "Please also refer to the documentation for alternative solver options:\n",
      "    https://scikit-learn.org/stable/modules/linear_model.html#logistic-regression\n",
      "  n_iter_i = _check_optimize_result(\n",
      "c:\\users\\user\\appdata\\local\\programs\\python\\python39\\lib\\site-packages\\sklearn\\linear_model\\_logistic.py:763: ConvergenceWarning: lbfgs failed to converge (status=1):\n",
      "STOP: TOTAL NO. of ITERATIONS REACHED LIMIT.\n",
      "\n",
      "Increase the number of iterations (max_iter) or scale the data as shown in:\n",
      "    https://scikit-learn.org/stable/modules/preprocessing.html\n",
      "Please also refer to the documentation for alternative solver options:\n",
      "    https://scikit-learn.org/stable/modules/linear_model.html#logistic-regression\n",
      "  n_iter_i = _check_optimize_result(\n",
      "c:\\users\\user\\appdata\\local\\programs\\python\\python39\\lib\\site-packages\\sklearn\\linear_model\\_logistic.py:763: ConvergenceWarning: lbfgs failed to converge (status=1):\n",
      "STOP: TOTAL NO. of ITERATIONS REACHED LIMIT.\n",
      "\n",
      "Increase the number of iterations (max_iter) or scale the data as shown in:\n",
      "    https://scikit-learn.org/stable/modules/preprocessing.html\n",
      "Please also refer to the documentation for alternative solver options:\n",
      "    https://scikit-learn.org/stable/modules/linear_model.html#logistic-regression\n",
      "  n_iter_i = _check_optimize_result(\n",
      "c:\\users\\user\\appdata\\local\\programs\\python\\python39\\lib\\site-packages\\sklearn\\linear_model\\_logistic.py:763: ConvergenceWarning: lbfgs failed to converge (status=1):\n",
      "STOP: TOTAL NO. of ITERATIONS REACHED LIMIT.\n",
      "\n",
      "Increase the number of iterations (max_iter) or scale the data as shown in:\n",
      "    https://scikit-learn.org/stable/modules/preprocessing.html\n",
      "Please also refer to the documentation for alternative solver options:\n",
      "    https://scikit-learn.org/stable/modules/linear_model.html#logistic-regression\n",
      "  n_iter_i = _check_optimize_result(\n",
      "c:\\users\\user\\appdata\\local\\programs\\python\\python39\\lib\\site-packages\\sklearn\\linear_model\\_logistic.py:763: ConvergenceWarning: lbfgs failed to converge (status=1):\n",
      "STOP: TOTAL NO. of ITERATIONS REACHED LIMIT.\n",
      "\n",
      "Increase the number of iterations (max_iter) or scale the data as shown in:\n",
      "    https://scikit-learn.org/stable/modules/preprocessing.html\n",
      "Please also refer to the documentation for alternative solver options:\n",
      "    https://scikit-learn.org/stable/modules/linear_model.html#logistic-regression\n",
      "  n_iter_i = _check_optimize_result(\n",
      "c:\\users\\user\\appdata\\local\\programs\\python\\python39\\lib\\site-packages\\sklearn\\linear_model\\_logistic.py:763: ConvergenceWarning: lbfgs failed to converge (status=1):\n",
      "STOP: TOTAL NO. of ITERATIONS REACHED LIMIT.\n",
      "\n",
      "Increase the number of iterations (max_iter) or scale the data as shown in:\n",
      "    https://scikit-learn.org/stable/modules/preprocessing.html\n",
      "Please also refer to the documentation for alternative solver options:\n",
      "    https://scikit-learn.org/stable/modules/linear_model.html#logistic-regression\n",
      "  n_iter_i = _check_optimize_result(\n",
      "c:\\users\\user\\appdata\\local\\programs\\python\\python39\\lib\\site-packages\\sklearn\\linear_model\\_logistic.py:763: ConvergenceWarning: lbfgs failed to converge (status=1):\n",
      "STOP: TOTAL NO. of ITERATIONS REACHED LIMIT.\n",
      "\n",
      "Increase the number of iterations (max_iter) or scale the data as shown in:\n",
      "    https://scikit-learn.org/stable/modules/preprocessing.html\n",
      "Please also refer to the documentation for alternative solver options:\n",
      "    https://scikit-learn.org/stable/modules/linear_model.html#logistic-regression\n",
      "  n_iter_i = _check_optimize_result(\n",
      "c:\\users\\user\\appdata\\local\\programs\\python\\python39\\lib\\site-packages\\sklearn\\linear_model\\_logistic.py:763: ConvergenceWarning: lbfgs failed to converge (status=1):\n",
      "STOP: TOTAL NO. of ITERATIONS REACHED LIMIT.\n",
      "\n",
      "Increase the number of iterations (max_iter) or scale the data as shown in:\n",
      "    https://scikit-learn.org/stable/modules/preprocessing.html\n",
      "Please also refer to the documentation for alternative solver options:\n",
      "    https://scikit-learn.org/stable/modules/linear_model.html#logistic-regression\n",
      "  n_iter_i = _check_optimize_result(\n",
      "c:\\users\\user\\appdata\\local\\programs\\python\\python39\\lib\\site-packages\\sklearn\\linear_model\\_logistic.py:763: ConvergenceWarning: lbfgs failed to converge (status=1):\n",
      "STOP: TOTAL NO. of ITERATIONS REACHED LIMIT.\n",
      "\n",
      "Increase the number of iterations (max_iter) or scale the data as shown in:\n",
      "    https://scikit-learn.org/stable/modules/preprocessing.html\n",
      "Please also refer to the documentation for alternative solver options:\n",
      "    https://scikit-learn.org/stable/modules/linear_model.html#logistic-regression\n",
      "  n_iter_i = _check_optimize_result(\n",
      "c:\\users\\user\\appdata\\local\\programs\\python\\python39\\lib\\site-packages\\sklearn\\linear_model\\_logistic.py:763: ConvergenceWarning: lbfgs failed to converge (status=1):\n",
      "STOP: TOTAL NO. of ITERATIONS REACHED LIMIT.\n",
      "\n",
      "Increase the number of iterations (max_iter) or scale the data as shown in:\n",
      "    https://scikit-learn.org/stable/modules/preprocessing.html\n",
      "Please also refer to the documentation for alternative solver options:\n",
      "    https://scikit-learn.org/stable/modules/linear_model.html#logistic-regression\n",
      "  n_iter_i = _check_optimize_result(\n",
      "c:\\users\\user\\appdata\\local\\programs\\python\\python39\\lib\\site-packages\\sklearn\\linear_model\\_logistic.py:763: ConvergenceWarning: lbfgs failed to converge (status=1):\n",
      "STOP: TOTAL NO. of ITERATIONS REACHED LIMIT.\n",
      "\n",
      "Increase the number of iterations (max_iter) or scale the data as shown in:\n",
      "    https://scikit-learn.org/stable/modules/preprocessing.html\n",
      "Please also refer to the documentation for alternative solver options:\n",
      "    https://scikit-learn.org/stable/modules/linear_model.html#logistic-regression\n",
      "  n_iter_i = _check_optimize_result(\n",
      "c:\\users\\user\\appdata\\local\\programs\\python\\python39\\lib\\site-packages\\sklearn\\linear_model\\_logistic.py:763: ConvergenceWarning: lbfgs failed to converge (status=1):\n",
      "STOP: TOTAL NO. of ITERATIONS REACHED LIMIT.\n",
      "\n",
      "Increase the number of iterations (max_iter) or scale the data as shown in:\n",
      "    https://scikit-learn.org/stable/modules/preprocessing.html\n",
      "Please also refer to the documentation for alternative solver options:\n",
      "    https://scikit-learn.org/stable/modules/linear_model.html#logistic-regression\n",
      "  n_iter_i = _check_optimize_result(\n",
      "c:\\users\\user\\appdata\\local\\programs\\python\\python39\\lib\\site-packages\\sklearn\\linear_model\\_logistic.py:763: ConvergenceWarning: lbfgs failed to converge (status=1):\n",
      "STOP: TOTAL NO. of ITERATIONS REACHED LIMIT.\n",
      "\n",
      "Increase the number of iterations (max_iter) or scale the data as shown in:\n",
      "    https://scikit-learn.org/stable/modules/preprocessing.html\n",
      "Please also refer to the documentation for alternative solver options:\n",
      "    https://scikit-learn.org/stable/modules/linear_model.html#logistic-regression\n",
      "  n_iter_i = _check_optimize_result(\n"
     ]
    }
   ],
   "source": [
    "log_reg_3_scores = []\n",
    "log_reg_3_times = []\n",
    "for C in C_param_values:\n",
    "    start = datetime.datetime.now()\n",
    "    log_reg = LogisticRegression(random_state=192, C=C)\n",
    "    log_reg_3_scores.append(cross_val_score(log_reg, df_3, target, scoring='roc_auc', cv=kfold))\n",
    "    log_reg_3_times.append(datetime.datetime.now() - start)"
   ]
  },
  {
   "cell_type": "markdown",
   "id": "sudden-lawyer",
   "metadata": {},
   "source": [
    "Качество модели и время обучения на кроссвалидации в зависимости от параметра C."
   ]
  },
  {
   "cell_type": "code",
   "execution_count": 31,
   "id": "hundred-single",
   "metadata": {
    "ExecuteTime": {
     "end_time": "2021-09-24T09:59:53.210333Z",
     "start_time": "2021-09-24T09:59:53.009724Z"
    }
   },
   "outputs": [
    {
     "data": {
      "text/html": [
       "<div>\n",
       "<style scoped>\n",
       "    .dataframe tbody tr th:only-of-type {\n",
       "        vertical-align: middle;\n",
       "    }\n",
       "\n",
       "    .dataframe tbody tr th {\n",
       "        vertical-align: top;\n",
       "    }\n",
       "\n",
       "    .dataframe thead th {\n",
       "        text-align: right;\n",
       "    }\n",
       "</style>\n",
       "<table border=\"1\" class=\"dataframe\">\n",
       "  <thead>\n",
       "    <tr style=\"text-align: right;\">\n",
       "      <th></th>\n",
       "      <th>score</th>\n",
       "      <th>time, sec</th>\n",
       "    </tr>\n",
       "  </thead>\n",
       "  <tbody>\n",
       "    <tr>\n",
       "      <th>0.00001</th>\n",
       "      <td>0.699011</td>\n",
       "      <td>7.088208</td>\n",
       "    </tr>\n",
       "    <tr>\n",
       "      <th>0.00010</th>\n",
       "      <td>0.724767</td>\n",
       "      <td>8.812205</td>\n",
       "    </tr>\n",
       "    <tr>\n",
       "      <th>0.00100</th>\n",
       "      <td>0.746009</td>\n",
       "      <td>18.567501</td>\n",
       "    </tr>\n",
       "    <tr>\n",
       "      <th>0.01000</th>\n",
       "      <td>0.751485</td>\n",
       "      <td>31.200797</td>\n",
       "    </tr>\n",
       "    <tr>\n",
       "      <th>0.10000</th>\n",
       "      <td>0.751720</td>\n",
       "      <td>38.881069</td>\n",
       "    </tr>\n",
       "    <tr>\n",
       "      <th>1.00000</th>\n",
       "      <td>0.751706</td>\n",
       "      <td>39.248072</td>\n",
       "    </tr>\n",
       "    <tr>\n",
       "      <th>10.00000</th>\n",
       "      <td>0.751707</td>\n",
       "      <td>39.396234</td>\n",
       "    </tr>\n",
       "    <tr>\n",
       "      <th>100.00000</th>\n",
       "      <td>0.751706</td>\n",
       "      <td>40.477075</td>\n",
       "    </tr>\n",
       "    <tr>\n",
       "      <th>1000.00000</th>\n",
       "      <td>0.751706</td>\n",
       "      <td>39.097379</td>\n",
       "    </tr>\n",
       "    <tr>\n",
       "      <th>10000.00000</th>\n",
       "      <td>0.751706</td>\n",
       "      <td>39.827926</td>\n",
       "    </tr>\n",
       "  </tbody>\n",
       "</table>\n",
       "</div>"
      ],
      "text/plain": [
       "                score  time, sec\n",
       "0.00001      0.699011   7.088208\n",
       "0.00010      0.724767   8.812205\n",
       "0.00100      0.746009  18.567501\n",
       "0.01000      0.751485  31.200797\n",
       "0.10000      0.751720  38.881069\n",
       "1.00000      0.751706  39.248072\n",
       "10.00000     0.751707  39.396234\n",
       "100.00000    0.751706  40.477075\n",
       "1000.00000   0.751706  39.097379\n",
       "10000.00000  0.751706  39.827926"
      ]
     },
     "execution_count": 31,
     "metadata": {},
     "output_type": "execute_result"
    }
   ],
   "source": [
    "log_reg_3_scores = np.array(list(map(np.mean, log_reg_3_scores)))\n",
    "pd.DataFrame({'score': log_reg_3_scores, 'time, sec': map(methodcaller('total_seconds'), log_reg_3_times)}, index=C_param_values)"
   ]
  },
  {
   "cell_type": "markdown",
   "id": "aggregate-branch",
   "metadata": {},
   "source": [
    "График качества модели от параметра C."
   ]
  },
  {
   "cell_type": "code",
   "execution_count": 32,
   "id": "patent-affect",
   "metadata": {
    "ExecuteTime": {
     "end_time": "2021-09-24T09:59:54.758691Z",
     "start_time": "2021-09-24T09:59:53.220316Z"
    }
   },
   "outputs": [
    {
     "data": {
      "image/png": "[encoded data removed]",
      "text/plain": [
       "<Figure size 432x288 with 1 Axes>"
      ]
     },
     "metadata": {
      "needs_background": "light"
     },
     "output_type": "display_data"
    }
   ],
   "source": [
    "plt.plot(C_param_values, log_reg_3_scores)\n",
    "plt.xlabel('C')\n",
    "plt.ylabel('roc_auc_score')\n",
    "plt.xscale('log')\n",
    "plt.show()"
   ]
  },
  {
   "cell_type": "markdown",
   "id": "improving-consistency",
   "metadata": {},
   "source": [
    "Значение параметра C, при котором качество достигает максимума."
   ]
  },
  {
   "cell_type": "code",
   "execution_count": 33,
   "id": "promotional-basketball",
   "metadata": {
    "ExecuteTime": {
     "end_time": "2021-09-24T09:59:54.806615Z",
     "start_time": "2021-09-24T09:59:54.766681Z"
    }
   },
   "outputs": [
    {
     "data": {
      "text/plain": [
       "0.1"
      ]
     },
     "execution_count": 33,
     "metadata": {},
     "output_type": "execute_result"
    }
   ],
   "source": [
    "C_param_values[log_reg_3_scores.argmax()]"
   ]
  },
  {
   "cell_type": "markdown",
   "id": "favorite-socket",
   "metadata": {},
   "source": [
    "Максимальное качество"
   ]
  },
  {
   "cell_type": "code",
   "execution_count": 34,
   "id": "every-basis",
   "metadata": {
    "ExecuteTime": {
     "end_time": "2021-09-24T09:59:54.840570Z",
     "start_time": "2021-09-24T09:59:54.814606Z"
    }
   },
   "outputs": [
    {
     "data": {
      "text/plain": [
       "0.7517199228284378"
      ]
     },
     "execution_count": 34,
     "metadata": {},
     "output_type": "execute_result"
    }
   ],
   "source": [
    "log_reg_3_scores.max()"
   ]
  },
  {
   "cell_type": "markdown",
   "id": "deluxe-registrar",
   "metadata": {},
   "source": [
    "Качество на новых данных равно 0.751520, достигается при C=0.1. Оно несомненно увеличилось. Это связано с тем, что категориальная переменная теперь закодирована и используется именно как категориальная, а не числовая."
   ]
  },
  {
   "cell_type": "markdown",
   "id": "declared-trace",
   "metadata": {},
   "source": [
    "## Вопрос 5\n",
    "**Какое минимальное и максимальное значение прогноза на тестовой выборке получилось у лучшего из алгоритмов?**"
   ]
  },
  {
   "cell_type": "code",
   "execution_count": 35,
   "id": "affecting-verse",
   "metadata": {
    "ExecuteTime": {
     "end_time": "2021-09-24T09:59:55.593836Z",
     "start_time": "2021-09-24T09:59:54.849555Z"
    }
   },
   "outputs": [],
   "source": [
    "features_test = pd.read_csv('data/features_test.csv', index_col='match_id')"
   ]
  },
  {
   "cell_type": "markdown",
   "id": "seeing-bacteria",
   "metadata": {},
   "source": [
    "Преобразование данных, как и тренировочных"
   ]
  },
  {
   "cell_type": "code",
   "execution_count": 36,
   "id": "applicable-assets",
   "metadata": {
    "ExecuteTime": {
     "end_time": "2021-09-24T09:59:55.862561Z",
     "start_time": "2021-09-24T09:59:55.593836Z"
    }
   },
   "outputs": [],
   "source": [
    "features_test.fillna(value=0, inplace=True)\n",
    "test_df_scaled = pd.DataFrame(StandardScaler().fit_transform(features_test), index=features_test.index, columns=features_test.columns)"
   ]
  },
  {
   "cell_type": "code",
   "execution_count": 37,
   "id": "alive-geology",
   "metadata": {
    "ExecuteTime": {
     "end_time": "2021-09-24T10:00:03.497635Z",
     "start_time": "2021-09-24T09:59:55.871555Z"
    }
   },
   "outputs": [],
   "source": [
    "N = len(heroes.index)\n",
    "X_pick_test = np.zeros((features_test.shape[0], N))\n",
    "for i, match_id in enumerate(features_test.index):\n",
    "    for p in range(5):\n",
    "        X_pick_test[i, features_test.loc[match_id, 'r%d_hero' % (p + 1)] - 1] = 1\n",
    "        X_pick_test[i, features_test.loc[match_id, 'd%d_hero' % (p + 1)] - 1] = -1"
   ]
  },
  {
   "cell_type": "code",
   "execution_count": 38,
   "id": "obvious-evaluation",
   "metadata": {
    "ExecuteTime": {
     "end_time": "2021-09-24T10:00:03.984787Z",
     "start_time": "2021-09-24T10:00:03.497635Z"
    }
   },
   "outputs": [],
   "source": [
    "test_df_scaled[[f'hero_{i}' for i in heroes.index]] = X_pick_test\n",
    "test_df_scaled.drop(dropped_features, axis=1, inplace=True)"
   ]
  },
  {
   "cell_type": "markdown",
   "id": "solved-campus",
   "metadata": {},
   "source": [
    "Тренировка лучшей модели"
   ]
  },
  {
   "cell_type": "code",
   "execution_count": 39,
   "id": "engaging-chart",
   "metadata": {
    "ExecuteTime": {
     "end_time": "2021-09-24T10:00:04.016858Z",
     "start_time": "2021-09-24T10:00:03.984787Z"
    }
   },
   "outputs": [],
   "source": [
    "log_reg_best = LogisticRegression(random_state=192, C=0.1)"
   ]
  },
  {
   "cell_type": "code",
   "execution_count": 40,
   "id": "sound-allowance",
   "metadata": {
    "ExecuteTime": {
     "end_time": "2021-09-24T10:00:13.478674Z",
     "start_time": "2021-09-24T10:00:04.025846Z"
    },
    "scrolled": true
   },
   "outputs": [
    {
     "name": "stderr",
     "output_type": "stream",
     "text": [
      "c:\\users\\user\\appdata\\local\\programs\\python\\python39\\lib\\site-packages\\sklearn\\linear_model\\_logistic.py:763: ConvergenceWarning: lbfgs failed to converge (status=1):\n",
      "STOP: TOTAL NO. of ITERATIONS REACHED LIMIT.\n",
      "\n",
      "Increase the number of iterations (max_iter) or scale the data as shown in:\n",
      "    https://scikit-learn.org/stable/modules/preprocessing.html\n",
      "Please also refer to the documentation for alternative solver options:\n",
      "    https://scikit-learn.org/stable/modules/linear_model.html#logistic-regression\n",
      "  n_iter_i = _check_optimize_result(\n"
     ]
    },
    {
     "data": {
      "text/plain": [
       "LogisticRegression(C=0.1, random_state=192)"
      ]
     },
     "execution_count": 40,
     "metadata": {},
     "output_type": "execute_result"
    }
   ],
   "source": [
    "log_reg_best.fit(df_3, target)"
   ]
  },
  {
   "cell_type": "code",
   "execution_count": 41,
   "id": "liquid-scene",
   "metadata": {
    "ExecuteTime": {
     "end_time": "2021-09-24T10:00:13.557250Z",
     "start_time": "2021-09-24T10:00:13.487631Z"
    }
   },
   "outputs": [],
   "source": [
    "predicted = log_reg_best.predict_proba(test_df_scaled)"
   ]
  },
  {
   "cell_type": "code",
   "execution_count": 42,
   "id": "naval-enough",
   "metadata": {
    "ExecuteTime": {
     "end_time": "2021-09-24T10:00:13.589201Z",
     "start_time": "2021-09-24T10:00:13.570239Z"
    }
   },
   "outputs": [],
   "source": [
    "predicted_r_win = predicted[:, 1]"
   ]
  },
  {
   "cell_type": "markdown",
   "id": "acceptable-adventure",
   "metadata": {},
   "source": [
    "Минимальное значение прогноза"
   ]
  },
  {
   "cell_type": "code",
   "execution_count": 43,
   "id": "strange-wrist",
   "metadata": {
    "ExecuteTime": {
     "end_time": "2021-09-24T10:00:13.621159Z",
     "start_time": "2021-09-24T10:00:13.598189Z"
    }
   },
   "outputs": [
    {
     "data": {
      "text/plain": [
       "0.008583784557471335"
      ]
     },
     "execution_count": 43,
     "metadata": {},
     "output_type": "execute_result"
    }
   ],
   "source": [
    "predicted_r_win.min()"
   ]
  },
  {
   "cell_type": "markdown",
   "id": "progressive-rabbit",
   "metadata": {},
   "source": [
    "Максимальное значение прогноза"
   ]
  },
  {
   "cell_type": "code",
   "execution_count": 44,
   "id": "working-preliminary",
   "metadata": {
    "ExecuteTime": {
     "end_time": "2021-09-24T10:00:13.653107Z",
     "start_time": "2021-09-24T10:00:13.631136Z"
    }
   },
   "outputs": [
    {
     "data": {
      "text/plain": [
       "0.9964598059905446"
      ]
     },
     "execution_count": 44,
     "metadata": {},
     "output_type": "execute_result"
    }
   ],
   "source": [
    "predicted_r_win.max()"
   ]
  },
  {
   "cell_type": "markdown",
   "id": "three-associate",
   "metadata": {},
   "source": [
    "Минимальное значение прогноза - 0.00858  \n",
    "Максимальное значение прогноза - 0.99646"
   ]
  },
  {
   "cell_type": "markdown",
   "id": "broadband-living",
   "metadata": {},
   "source": [
    "# My experiments"
   ]
  },
  {
   "cell_type": "markdown",
   "id": "statewide-diana",
   "metadata": {},
   "source": [
    "I tried to fill nans with -10000 and 10000 as outliers, 0 and the mean values as default. I used logistic regression, gradient and adaptive boostings, kNN method, SGD and stacking. Also I reduced the dimension of the data in case filling nans with -10000."
   ]
  },
  {
   "cell_type": "code",
   "execution_count": 1,
   "id": "loose-october",
   "metadata": {
    "ExecuteTime": {
     "end_time": "2021-10-13T07:53:27.369705Z",
     "start_time": "2021-10-13T07:53:19.075672Z"
    }
   },
   "outputs": [],
   "source": [
    "import datetime\n",
    "from functools import reduce\n",
    "from itertools import product\n",
    "import matplotlib.pyplot as plt\n",
    "import numpy as np\n",
    "from operator import methodcaller\n",
    "import pandas as pd\n",
    "from sklearn.base import BaseEstimator, TransformerMixin\n",
    "from sklearn.compose import ColumnTransformer\n",
    "from sklearn.decomposition import PCA\n",
    "from sklearn.ensemble import GradientBoostingClassifier, AdaBoostClassifier\n",
    "from sklearn.impute import SimpleImputer\n",
    "from sklearn.linear_model import LogisticRegression, SGDClassifier\n",
    "from sklearn.metrics import roc_auc_score\n",
    "from sklearn.model_selection import KFold, cross_val_score, GridSearchCV, train_test_split\n",
    "from sklearn.neighbors import KNeighborsClassifier\n",
    "from sklearn.pipeline import Pipeline, FeatureUnion\n",
    "from sklearn.preprocessing import OneHotEncoder, OrdinalEncoder, KBinsDiscretizer, StandardScaler\n",
    "from sklearn.svm import SVC, LinearSVC\n",
    "from sklearn.manifold import MDS"
   ]
  },
  {
   "cell_type": "code",
   "execution_count": 2,
   "id": "sixth-vinyl",
   "metadata": {
    "ExecuteTime": {
     "end_time": "2021-10-13T07:53:31.975096Z",
     "start_time": "2021-10-13T07:53:27.377693Z"
    }
   },
   "outputs": [],
   "source": [
    "heroes = pd.read_csv('data/dictionaries/heroes.csv', index_col='id')\n",
    "lobbies = pd.read_csv('data/dictionaries/lobbies.csv', index_col='id')\n",
    "features = pd.read_csv('data/features.csv', index_col='match_id')"
   ]
  },
  {
   "cell_type": "code",
   "execution_count": 3,
   "id": "bright-overall",
   "metadata": {
    "ExecuteTime": {
     "end_time": "2021-10-07T10:35:20.448131Z",
     "start_time": "2021-10-07T10:35:20.400141Z"
    }
   },
   "outputs": [
    {
     "data": {
      "text/plain": [
       "1    55962\n",
       "7    28550\n",
       "0    12718\n",
       "Name: lobby_type, dtype: int64"
      ]
     },
     "execution_count": 3,
     "metadata": {},
     "output_type": "execute_result"
    }
   ],
   "source": [
    "features.lobby_type.value_counts()"
   ]
  },
  {
   "cell_type": "code",
   "execution_count": 3,
   "id": "municipal-fusion",
   "metadata": {
    "ExecuteTime": {
     "end_time": "2021-10-08T08:37:39.911959Z",
     "start_time": "2021-10-08T08:37:39.865507Z"
    }
   },
   "outputs": [],
   "source": [
    "class StackingEnsemble:\n",
    "    \"\"\"\n",
    "    Stacking ensemble\n",
    "    ---------\n",
    "    layers: list of lists of classifiers\n",
    "    \n",
    "    It consists of the lists of classifiers used in\n",
    "    layers for stacking. The last layer must consist of 1 classifier\n",
    "    otherwise the exception will be thrown\"\"\"\n",
    "    def __init__(self, layers):\n",
    "        assert len(layers[-1]) == 1\n",
    "        assert type(layers) is list\n",
    "        assert all(map(lambda layer: type(layer) is list, layers))\n",
    "        self.layers = []\n",
    "        for layer in layers:\n",
    "            self.layers.append(layer.copy())\n",
    "        self.n_layers = len(self.layers)\n",
    "    \n",
    "    def fit(self, X, y):\n",
    "        current_X = X.copy()\n",
    "        current_y = y.copy()\n",
    "        for i, layer in enumerate(self.layers):\n",
    "            if i == self.n_layers - 1:\n",
    "                layer[0].fit(current_X, current_y)\n",
    "                break\n",
    "            X_train, X_test, y_train, y_test = train_test_split(current_X, current_y,\n",
    "                                                                train_size=len(current_X) // (self.n_layers - i))\n",
    "            for clf in layer:\n",
    "                clf.fit(X_train, y_train)\n",
    "            current_X = pd.DataFrame({\n",
    "                k: clf.predict(X_test)\n",
    "                for k, clf in enumerate(layer)\n",
    "            })\n",
    "            current_y = y_test\n",
    "    \n",
    "    def predict(self, X):\n",
    "        current_X = X.copy()\n",
    "        for layer in self.layers:\n",
    "            current_X = pd.DataFrame({\n",
    "                k: clf.predict(current_X)\n",
    "                for k, clf in enumerate(layer)\n",
    "            })\n",
    "        return current_X\n",
    "    \n",
    "    def predict_proba(self, X):\n",
    "        current_X = X.copy()\n",
    "        for layer in self.layers:\n",
    "            current_X = pd.DataFrame({\n",
    "                k: clf.predict_proba(current_X)[:, 1]\n",
    "                for k, clf in enumerate(layer)\n",
    "            })\n",
    "        return current_X"
   ]
  },
  {
   "cell_type": "code",
   "execution_count": 4,
   "id": "final-alpha",
   "metadata": {
    "ExecuteTime": {
     "end_time": "2021-10-07T10:35:20.529294Z",
     "start_time": "2021-10-07T10:35:20.457303Z"
    }
   },
   "outputs": [],
   "source": [
    "class MyTransformer(BaseEstimator, TransformerMixin):\n",
    "\n",
    "    def __all_gamer_features(self, feature_name):\n",
    "        return [f'{team}{num}_{feature_name}' for team, num in product(['r', 'd'], range(1, 6))]\n",
    "\n",
    "    def __init__(self):\n",
    "        self.__gamer_features = ['hero', 'level', 'xp',\n",
    "                                 'gold', 'lh', 'kills', 'deaths', 'items']\n",
    "        self.__hero_features = self.__all_gamer_features('hero')\n",
    "        self.__hero_encoder = OneHotEncoder(categories=[sorted(\n",
    "            list(heroes.index)) for f in self.__hero_features], sparse=False)\n",
    "        \n",
    "        self.__lobby_type_encoder = OneHotEncoder(\n",
    "            categories=[lobbies.index.to_list()], sparse=False)\n",
    "        \n",
    "        self.__first_blood_team_encoder = OneHotEncoder(\n",
    "            categories=[[-1, 0, 1]], sparse=False)\n",
    "        \n",
    "        self.__time_features = ['first_blood_time',\n",
    "                                'radiant_bottle_time',\n",
    "                                'radiant_courier_time',\n",
    "                                'radiant_flying_courier_time',\n",
    "                                'radiant_first_ward_time',\n",
    "                                'dire_bottle_time',\n",
    "                                'dire_courier_time',\n",
    "                                'dire_flying_courier_time',\n",
    "                                'dire_first_ward_time']\n",
    "        self.__time_features_encoder = SimpleImputer(strategy='constant', fill_value=-10000)\n",
    "\n",
    "    def fit(self, X):\n",
    "        self.__hero_encoder.fit(X[self.__all_gamer_features('hero')])\n",
    "        self.__lobby_type_encoder.fit(X[['lobby_type']])\n",
    "        self.__time_features_encoder.fit(X[self.__time_features])\n",
    "        return self\n",
    "\n",
    "    def transform(self, X):\n",
    "        X_transformed = X.copy().drop(self.__hero_features +\n",
    "                                      self.__all_gamer_features('level'), axis=1)\n",
    "\n",
    "        hero_info = self.__hero_encoder.transform(X[self.__hero_features])\n",
    "        r_hero_team = sum(np.array(\n",
    "            X[f'r{k + 1}_level']).reshape((-1, 1)) * hero_info[:, 112*k:112*(k+1)] for k in range(5))\n",
    "        d_hero_team = sum(\n",
    "            np.array(X[f'd{k - 4}_hero']).reshape((-1, 1)) * hero_info[:, 112*k:112*(k+1)] for k in range(5, 10))\n",
    "\n",
    "        X_transformed[[\n",
    "            f'r_hero_{hero_index}' for hero_index in heroes.index]] = r_hero_team\n",
    "        X_transformed[[\n",
    "            f'd_hero_{hero_index}' for hero_index in heroes.index]] = d_hero_team\n",
    "\n",
    "        for team, gamer_feature in product(['r', 'd'], self.__gamer_features[2:]):\n",
    "            X_transformed[f'{team}_team_{gamer_feature}'] = X_transformed[[\n",
    "                f'{team}{k}_{gamer_feature}' for k in range(1, 6)]].sum(axis=1)\n",
    "            X_transformed.drop(\n",
    "                [f'{team}{k}_{gamer_feature}' for k in range(1, 6)], axis=1, inplace=True)\n",
    "\n",
    "        X_transformed[[f'lobby_type_{k}' for k in lobbies.index]] =\\\n",
    "            self.__lobby_type_encoder.transform(X_transformed[['lobby_type']])\n",
    "        X_transformed.drop('lobby_type', axis=1, inplace=True)\n",
    "\n",
    "        first_blood_team = self.__first_blood_team_encoder.fit_transform(\n",
    "            X_transformed[['first_blood_team']].fillna(-1))\n",
    "        X_transformed['was_first_blood'] = 1 - first_blood_team[:, 0]\n",
    "        X_transformed['first_blood_r'] = first_blood_team[:, 1]\n",
    "        X_transformed.drop(['first_blood_player1', 'first_blood_player2',\n",
    "                           'first_blood_team'], axis=1, inplace=True)\n",
    "\n",
    "        X_transformed[self.__time_features] = self.__time_features_encoder.transform(X_transformed[self.__time_features])\n",
    "        \n",
    "        return X_transformed"
   ]
  },
  {
   "cell_type": "code",
   "execution_count": 5,
   "id": "outside-cooking",
   "metadata": {
    "ExecuteTime": {
     "end_time": "2021-10-07T10:35:25.535581Z",
     "start_time": "2021-10-07T10:35:20.537295Z"
    },
    "collapsed": true
   },
   "outputs": [
    {
     "ename": "KeyboardInterrupt",
     "evalue": "",
     "output_type": "error",
     "traceback": [
      "\u001b[1;31m---------------------------------------------------------------------------\u001b[0m",
      "\u001b[1;31mKeyboardInterrupt\u001b[0m                         Traceback (most recent call last)",
      "\u001b[1;32m<ipython-input-5-4a9176bc9376>\u001b[0m in \u001b[0;36m<module>\u001b[1;34m\u001b[0m\n\u001b[0;32m      1\u001b[0m \u001b[0mtr\u001b[0m \u001b[1;33m=\u001b[0m \u001b[0mMyTransformer\u001b[0m\u001b[1;33m(\u001b[0m\u001b[1;33m)\u001b[0m\u001b[1;33m.\u001b[0m\u001b[0mfit\u001b[0m\u001b[1;33m(\u001b[0m\u001b[0mfeatures\u001b[0m\u001b[1;33m)\u001b[0m\u001b[1;33m\u001b[0m\u001b[1;33m\u001b[0m\u001b[0m\n\u001b[1;32m----> 2\u001b[1;33m \u001b[0mtransformed_features\u001b[0m \u001b[1;33m=\u001b[0m \u001b[0mtr\u001b[0m\u001b[1;33m.\u001b[0m\u001b[0mtransform\u001b[0m\u001b[1;33m(\u001b[0m\u001b[0mfeatures\u001b[0m\u001b[1;33m)\u001b[0m\u001b[1;33m\u001b[0m\u001b[1;33m\u001b[0m\u001b[0m\n\u001b[0m",
      "\u001b[1;32m<ipython-input-4-7674ec3e5e9e>\u001b[0m in \u001b[0;36mtransform\u001b[1;34m(self, X)\u001b[0m\n\u001b[0;32m     39\u001b[0m \u001b[1;33m\u001b[0m\u001b[0m\n\u001b[0;32m     40\u001b[0m         \u001b[0mhero_info\u001b[0m \u001b[1;33m=\u001b[0m \u001b[0mself\u001b[0m\u001b[1;33m.\u001b[0m\u001b[0m__hero_encoder\u001b[0m\u001b[1;33m.\u001b[0m\u001b[0mtransform\u001b[0m\u001b[1;33m(\u001b[0m\u001b[0mX\u001b[0m\u001b[1;33m[\u001b[0m\u001b[0mself\u001b[0m\u001b[1;33m.\u001b[0m\u001b[0m__hero_features\u001b[0m\u001b[1;33m]\u001b[0m\u001b[1;33m)\u001b[0m\u001b[1;33m\u001b[0m\u001b[1;33m\u001b[0m\u001b[0m\n\u001b[1;32m---> 41\u001b[1;33m         r_hero_team = sum(np.array(\n\u001b[0m\u001b[0;32m     42\u001b[0m             X[f'r{k + 1}_level']).reshape((-1, 1)) * hero_info[:, 112*k:112*(k+1)] for k in range(5))\n\u001b[0;32m     43\u001b[0m         d_hero_team = sum(\n",
      "\u001b[1;32m<ipython-input-4-7674ec3e5e9e>\u001b[0m in \u001b[0;36m<genexpr>\u001b[1;34m(.0)\u001b[0m\n\u001b[0;32m     39\u001b[0m \u001b[1;33m\u001b[0m\u001b[0m\n\u001b[0;32m     40\u001b[0m         \u001b[0mhero_info\u001b[0m \u001b[1;33m=\u001b[0m \u001b[0mself\u001b[0m\u001b[1;33m.\u001b[0m\u001b[0m__hero_encoder\u001b[0m\u001b[1;33m.\u001b[0m\u001b[0mtransform\u001b[0m\u001b[1;33m(\u001b[0m\u001b[0mX\u001b[0m\u001b[1;33m[\u001b[0m\u001b[0mself\u001b[0m\u001b[1;33m.\u001b[0m\u001b[0m__hero_features\u001b[0m\u001b[1;33m]\u001b[0m\u001b[1;33m)\u001b[0m\u001b[1;33m\u001b[0m\u001b[1;33m\u001b[0m\u001b[0m\n\u001b[1;32m---> 41\u001b[1;33m         r_hero_team = sum(np.array(\n\u001b[0m\u001b[0;32m     42\u001b[0m             X[f'r{k + 1}_level']).reshape((-1, 1)) * hero_info[:, 112*k:112*(k+1)] for k in range(5))\n\u001b[0;32m     43\u001b[0m         d_hero_team = sum(\n",
      "\u001b[1;31mKeyboardInterrupt\u001b[0m: "
     ]
    }
   ],
   "source": [
    "tr = MyTransformer().fit(features)\n",
    "transformed_features = tr.transform(features)"
   ]
  },
  {
   "cell_type": "code",
   "execution_count": 3,
   "id": "medium-nebraska",
   "metadata": {
    "ExecuteTime": {
     "end_time": "2021-10-13T07:53:44.684402Z",
     "start_time": "2021-10-13T07:53:31.984085Z"
    }
   },
   "outputs": [],
   "source": [
    "X = pd.read_csv('data/X.csv', index_col='match_id')\n",
    "y = pd.read_csv('data/y.csv', index_col='match_id')"
   ]
  },
  {
   "cell_type": "code",
   "execution_count": 4,
   "id": "considered-stupid",
   "metadata": {
    "ExecuteTime": {
     "end_time": "2021-10-11T06:26:48.792728Z",
     "start_time": "2021-10-11T06:26:48.447501Z"
    }
   },
   "outputs": [
    {
     "name": "stdout",
     "output_type": "stream",
     "text": [
      "[108, 109, 111, 113]\n"
     ]
    }
   ],
   "source": [
    "print([i for i in heroes.index if (X[f'r_hero_{i}'] == 0).all()])"
   ]
  },
  {
   "cell_type": "code",
   "execution_count": 5,
   "id": "affecting-mexico",
   "metadata": {
    "ExecuteTime": {
     "end_time": "2021-10-11T06:26:48.853633Z",
     "start_time": "2021-10-11T06:26:48.804711Z"
    },
    "scrolled": true
   },
   "outputs": [
    {
     "name": "stdout",
     "output_type": "stream",
     "text": [
      "[-1, 2, 3, 4, 5, 6, 8]\n"
     ]
    }
   ],
   "source": [
    "print([i for i in lobbies.index if (X[f'lobby_type_{i}'] == 0).all()])"
   ]
  },
  {
   "cell_type": "markdown",
   "id": "progressive-psychiatry",
   "metadata": {},
   "source": [
    "So these columns contains only zeros. They can be removed"
   ]
  },
  {
   "cell_type": "code",
   "execution_count": 4,
   "id": "analyzed-bandwidth",
   "metadata": {
    "ExecuteTime": {
     "end_time": "2021-10-13T07:53:44.732326Z",
     "start_time": "2021-10-13T07:53:44.697382Z"
    }
   },
   "outputs": [],
   "source": [
    "columns_to_drop = ['start_time'] + [f'lobby_type_{k}' for k in [-1, 2, 3, 4, 5, 6, 8]] +\\\n",
    "                                        [f'{team}_hero_{hero}' for team, hero in product(['r', 'd'], [108, 109, 111, 113])]"
   ]
  },
  {
   "cell_type": "code",
   "execution_count": 5,
   "id": "musical-villa",
   "metadata": {
    "ExecuteTime": {
     "end_time": "2021-10-13T07:53:45.016684Z",
     "start_time": "2021-10-13T07:53:44.741313Z"
    }
   },
   "outputs": [],
   "source": [
    "X.drop(columns=columns_to_drop, inplace=True)"
   ]
  },
  {
   "cell_type": "code",
   "execution_count": 6,
   "id": "acquired-inspection",
   "metadata": {
    "ExecuteTime": {
     "end_time": "2021-10-13T07:53:45.890312Z",
     "start_time": "2021-10-13T07:53:45.024682Z"
    }
   },
   "outputs": [],
   "source": [
    "X_with_nans = X.replace(to_replace=-10000, value=np.nan)"
   ]
  },
  {
   "cell_type": "code",
   "execution_count": 7,
   "id": "victorian-danger",
   "metadata": {
    "ExecuteTime": {
     "end_time": "2021-10-13T07:53:47.065455Z",
     "start_time": "2021-10-13T07:53:45.898300Z"
    }
   },
   "outputs": [],
   "source": [
    "X_train, X_test, y_train, y_test = train_test_split(X, y, test_size=0.2, shuffle=True, random_state=148)\n",
    "y_train, y_test = y_train.radiant_win, y_test.radiant_win"
   ]
  },
  {
   "cell_type": "markdown",
   "id": "foreign-germany",
   "metadata": {},
   "source": [
    "## nan -> -10000"
   ]
  },
  {
   "cell_type": "markdown",
   "id": "sublime-liabilities",
   "metadata": {},
   "source": [
    "### simple data"
   ]
  },
  {
   "cell_type": "markdown",
   "id": "academic-score",
   "metadata": {},
   "source": [
    "#### gradient boosting"
   ]
  },
  {
   "cell_type": "code",
   "execution_count": 25,
   "id": "early-martin",
   "metadata": {
    "ExecuteTime": {
     "end_time": "2021-10-07T07:11:12.748040Z",
     "start_time": "2021-10-07T07:11:11.416704Z"
    }
   },
   "outputs": [
    {
     "data": {
      "text/plain": [
       "0.7431592567898898"
      ]
     },
     "execution_count": 25,
     "metadata": {},
     "output_type": "execute_result"
    }
   ],
   "source": [
    "boosting = GradientBoostingClassifier(n_estimators=200, max_depth=8, random_state=163)\n",
    "boosting.fit(X_train, y_train)\n",
    "roc_auc_score(y_test, boosting.predict_proba(X_test)[:, 1])"
   ]
  },
  {
   "cell_type": "markdown",
   "id": "ecological-camel",
   "metadata": {},
   "source": [
    "#### logistic regression"
   ]
  },
  {
   "cell_type": "markdown",
   "id": "mineral-mother",
   "metadata": {},
   "source": [
    "scaling of the data"
   ]
  },
  {
   "cell_type": "code",
   "execution_count": 31,
   "id": "photographic-ethics",
   "metadata": {
    "ExecuteTime": {
     "end_time": "2021-10-08T07:08:10.847874Z",
     "start_time": "2021-10-08T07:08:07.934206Z"
    }
   },
   "outputs": [],
   "source": [
    "scaler = StandardScaler()\n",
    "scaled_X_train = scaler.fit_transform(X_train)\n",
    "scaled_X_test = scaler.transform(X_test)"
   ]
  },
  {
   "cell_type": "code",
   "execution_count": 31,
   "id": "interstate-reporter",
   "metadata": {
    "ExecuteTime": {
     "end_time": "2021-10-07T07:12:22.627924Z",
     "start_time": "2021-10-07T07:12:15.292006Z"
    }
   },
   "outputs": [
    {
     "data": {
      "text/plain": [
       "0.7545974774640416"
      ]
     },
     "execution_count": 31,
     "metadata": {},
     "output_type": "execute_result"
    }
   ],
   "source": [
    "log_reg = LogisticRegression()\n",
    "log_reg.fit(scaled_X_train, y_train)\n",
    "roc_auc_score(y_test, log_reg.predict_proba(scaled_X_test)[:, 1])"
   ]
  },
  {
   "cell_type": "markdown",
   "id": "arabic-teacher",
   "metadata": {},
   "source": [
    "#### adaptive boosting"
   ]
  },
  {
   "cell_type": "markdown",
   "id": "decent-image",
   "metadata": {},
   "source": [
    "200 trees"
   ]
  },
  {
   "cell_type": "code",
   "execution_count": 32,
   "id": "innocent-candle",
   "metadata": {
    "ExecuteTime": {
     "end_time": "2021-10-07T07:16:14.389137Z",
     "start_time": "2021-10-07T07:12:25.741725Z"
    }
   },
   "outputs": [
    {
     "data": {
      "text/plain": [
       "0.7490102036822612"
      ]
     },
     "execution_count": 32,
     "metadata": {},
     "output_type": "execute_result"
    }
   ],
   "source": [
    "ada_boosting = AdaBoostClassifier(n_estimators=200)\n",
    "ada_boosting.fit(X_train, y_train)\n",
    "roc_auc_score(y_test, ada_boosting.predict_proba(X_test)[:, 1])"
   ]
  },
  {
   "cell_type": "markdown",
   "id": "concrete-bailey",
   "metadata": {},
   "source": [
    "1000 trees"
   ]
  },
  {
   "cell_type": "code",
   "execution_count": 33,
   "id": "efficient-whole",
   "metadata": {
    "ExecuteTime": {
     "end_time": "2021-10-07T07:35:05.939874Z",
     "start_time": "2021-10-07T07:16:14.397130Z"
    }
   },
   "outputs": [
    {
     "data": {
      "text/plain": [
       "0.7521827389284013"
      ]
     },
     "execution_count": 33,
     "metadata": {},
     "output_type": "execute_result"
    }
   ],
   "source": [
    "big_ada_boosting = AdaBoostClassifier(n_estimators=1000, learning_rate=0.5)\n",
    "big_ada_boosting.fit(X_train, y_train)\n",
    "roc_auc_score(y_test, big_ada_boosting.predict_proba(X_test)[:, 1])"
   ]
  },
  {
   "cell_type": "markdown",
   "id": "short-playback",
   "metadata": {},
   "source": [
    "adaptive boosting with log regression"
   ]
  },
  {
   "cell_type": "code",
   "execution_count": 30,
   "id": "killing-ceiling",
   "metadata": {
    "ExecuteTime": {
     "end_time": "2021-10-07T14:54:52.427828Z",
     "start_time": "2021-10-07T14:31:48.855491Z"
    }
   },
   "outputs": [
    {
     "name": "stderr",
     "output_type": "stream",
     "text": [
      "c:\\users\\user\\appdata\\local\\programs\\python\\python39\\lib\\site-packages\\sklearn\\linear_model\\_logistic.py:763: ConvergenceWarning: lbfgs failed to converge (status=1):\n",
      "STOP: TOTAL NO. of ITERATIONS REACHED LIMIT.\n",
      "\n",
      "Increase the number of iterations (max_iter) or scale the data as shown in:\n",
      "    https://scikit-learn.org/stable/modules/preprocessing.html\n",
      "Please also refer to the documentation for alternative solver options:\n",
      "    https://scikit-learn.org/stable/modules/linear_model.html#logistic-regression\n",
      "  n_iter_i = _check_optimize_result(\n",
      "c:\\users\\user\\appdata\\local\\programs\\python\\python39\\lib\\site-packages\\sklearn\\linear_model\\_logistic.py:763: ConvergenceWarning: lbfgs failed to converge (status=1):\n",
      "STOP: TOTAL NO. of ITERATIONS REACHED LIMIT.\n",
      "\n",
      "Increase the number of iterations (max_iter) or scale the data as shown in:\n",
      "    https://scikit-learn.org/stable/modules/preprocessing.html\n",
      "Please also refer to the documentation for alternative solver options:\n",
      "    https://scikit-learn.org/stable/modules/linear_model.html#logistic-regression\n",
      "  n_iter_i = _check_optimize_result(\n",
      "c:\\users\\user\\appdata\\local\\programs\\python\\python39\\lib\\site-packages\\sklearn\\linear_model\\_logistic.py:763: ConvergenceWarning: lbfgs failed to converge (status=1):\n",
      "STOP: TOTAL NO. of ITERATIONS REACHED LIMIT.\n",
      "\n",
      "Increase the number of iterations (max_iter) or scale the data as shown in:\n",
      "    https://scikit-learn.org/stable/modules/preprocessing.html\n",
      "Please also refer to the documentation for alternative solver options:\n",
      "    https://scikit-learn.org/stable/modules/linear_model.html#logistic-regression\n",
      "  n_iter_i = _check_optimize_result(\n"
     ]
    },
    {
     "data": {
      "text/plain": [
       "0.7488524054994375"
      ]
     },
     "execution_count": 30,
     "metadata": {},
     "output_type": "execute_result"
    }
   ],
   "source": [
    "log_reg_big_ada_boosting = AdaBoostClassifier(base_estimator=LogisticRegression(max_iter=2000), n_estimators=50, learning_rate=0.5)\n",
    "log_reg_big_ada_boosting.fit(X_train, y_train)\n",
    "roc_auc_score(y_test, log_reg_big_ada_boosting.predict_proba(X_test)[:, 1])"
   ]
  },
  {
   "cell_type": "markdown",
   "id": "institutional-proof",
   "metadata": {},
   "source": [
    "#### k-neighbors classifier"
   ]
  },
  {
   "cell_type": "code",
   "execution_count": 36,
   "id": "great-pottery",
   "metadata": {
    "ExecuteTime": {
     "end_time": "2021-10-07T08:16:31.746796Z",
     "start_time": "2021-10-07T07:53:38.280510Z"
    },
    "scrolled": true
   },
   "outputs": [
    {
     "name": "stdout",
     "output_type": "stream",
     "text": [
      "5: 0.5816251788171973\n",
      "10: 0.60664683866342\n",
      "15: 0.6209510757842787\n",
      "20: 0.6331680764345905\n",
      "25: 0.6406623276182621\n",
      "30: 0.6484392491295679\n",
      "35: 0.6528545688624756\n",
      "40: 0.6586063986885088\n",
      "45: 0.659705578619906\n"
     ]
    }
   ],
   "source": [
    "for n_neighbors in range(5, 50, 5):\n",
    "    knn = KNeighborsClassifier(n_neighbors=n_neighbors)\n",
    "    knn.fit(scaled_X_train, y_train)\n",
    "    print(f'{n_neighbors}:', roc_auc_score(y_test, knn.predict_proba(scaled_X_test)[:, 1]))"
   ]
  },
  {
   "cell_type": "code",
   "execution_count": 33,
   "id": "seasonal-aside",
   "metadata": {
    "ExecuteTime": {
     "end_time": "2021-10-07T16:03:39.969008Z",
     "start_time": "2021-10-07T15:00:02.199654Z"
    }
   },
   "outputs": [
    {
     "name": "stdout",
     "output_type": "stream",
     "text": [
      "50: 0.6623292388778497\n",
      "70: 0.6733394793152506\n",
      "90: 0.679879712185012\n",
      "110: 0.6855493407827987\n",
      "130: 0.6886124738788266\n",
      "150: 0.6900543981364403\n",
      "170: 0.6940017571498941\n",
      "190: 0.6954340901167178\n",
      "210: 0.6993666941129759\n",
      "230: 0.7009065544000165\n",
      "250: 0.702397128904565\n",
      "270: 0.7048093835554009\n",
      "290: 0.7068651133506796\n",
      "310: 0.7089966678341102\n",
      "330: 0.7112580728242189\n",
      "350: 0.7123735436504092\n",
      "370: 0.7134702132163538\n",
      "390: 0.7149883275950653\n",
      "410: 0.7157642370689565\n",
      "430: 0.7166652517173626\n",
      "450: 0.7173980401036707\n",
      "470: 0.7177328614199358\n",
      "490: 0.7190736825625939\n"
     ]
    }
   ],
   "source": [
    "for n_neighbors in range(50, 500, 20):\n",
    "    knn = KNeighborsClassifier(n_neighbors=n_neighbors)\n",
    "    knn.fit(scaled_X_train, y_train)\n",
    "    print(f'{n_neighbors}:', roc_auc_score(y_test, knn.predict_proba(scaled_X_test)[:, 1]))"
   ]
  },
  {
   "cell_type": "code",
   "execution_count": 32,
   "id": "optimum-bosnia",
   "metadata": {
    "ExecuteTime": {
     "end_time": "2021-10-08T07:20:03.066319Z",
     "start_time": "2021-10-08T07:08:14.474522Z"
    }
   },
   "outputs": [
    {
     "name": "stdout",
     "output_type": "stream",
     "text": [
      "10000: 0.7256182211857578\n"
     ]
    }
   ],
   "source": [
    "knn = KNeighborsClassifier(n_neighbors=10000, weights='distance')\n",
    "knn.fit(scaled_X_train, y_train)\n",
    "print(f'{10000}:', roc_auc_score(y_test, knn.predict_proba(scaled_X_test)[:, 1]))"
   ]
  },
  {
   "cell_type": "markdown",
   "id": "united-apple",
   "metadata": {},
   "source": [
    "### reduced data"
   ]
  },
  {
   "cell_type": "code",
   "execution_count": 10,
   "id": "extra-acrylic",
   "metadata": {
    "ExecuteTime": {
     "end_time": "2021-10-11T06:27:38.297826Z",
     "start_time": "2021-10-11T06:27:06.088895Z"
    }
   },
   "outputs": [
    {
     "data": {
      "text/plain": [
       "PCA(n_components=150)"
      ]
     },
     "execution_count": 10,
     "metadata": {},
     "output_type": "execute_result"
    }
   ],
   "source": [
    "pca = PCA(n_components=150)\n",
    "pca.fit(X_train)"
   ]
  },
  {
   "cell_type": "code",
   "execution_count": 11,
   "id": "blond-vegetable",
   "metadata": {
    "ExecuteTime": {
     "end_time": "2021-10-11T06:27:39.414984Z",
     "start_time": "2021-10-11T06:27:38.305374Z"
    }
   },
   "outputs": [
    {
     "data": {
      "image/png": "[encoded data removed]",
      "text/plain": [
       "<Figure size 432x288 with 1 Axes>"
      ]
     },
     "metadata": {
      "needs_background": "light"
     },
     "output_type": "display_data"
    }
   ],
   "source": [
    "plt.plot(pca.singular_values_)\n",
    "plt.show()"
   ]
  },
  {
   "cell_type": "code",
   "execution_count": 12,
   "id": "solar-survivor",
   "metadata": {
    "ExecuteTime": {
     "end_time": "2021-10-11T06:27:41.318030Z",
     "start_time": "2021-10-11T06:27:39.426968Z"
    }
   },
   "outputs": [],
   "source": [
    "reduced_X_train = pca.transform(X_train)\n",
    "reduced_X_test = pca.transform(X_test)"
   ]
  },
  {
   "cell_type": "markdown",
   "id": "intimate-matthew",
   "metadata": {},
   "source": [
    "#### gradient boosting"
   ]
  },
  {
   "cell_type": "code",
   "execution_count": 20,
   "id": "bacterial-berkeley",
   "metadata": {
    "ExecuteTime": {
     "end_time": "2021-10-11T08:35:13.657684Z",
     "start_time": "2021-10-11T06:50:50.221232Z"
    }
   },
   "outputs": [
    {
     "data": {
      "text/plain": [
       "0.7335875934561658"
      ]
     },
     "execution_count": 20,
     "metadata": {},
     "output_type": "execute_result"
    }
   ],
   "source": [
    "boosting_2 = GradientBoostingClassifier(n_estimators=200, max_depth=8, random_state=163)\n",
    "boosting_2.fit(reduced_X_train, y_train)\n",
    "roc_auc_score(y_test, boosting_2.predict_proba(reduced_X_test)[:, 1])"
   ]
  },
  {
   "cell_type": "markdown",
   "id": "comparative-contractor",
   "metadata": {},
   "source": [
    "#### logistic regression"
   ]
  },
  {
   "cell_type": "code",
   "execution_count": 21,
   "id": "governmental-prairie",
   "metadata": {
    "ExecuteTime": {
     "end_time": "2021-10-08T09:47:38.314465Z",
     "start_time": "2021-10-08T09:47:37.219326Z"
    }
   },
   "outputs": [],
   "source": [
    "reduced_scaler = StandardScaler()\n",
    "reduced_scaled_X_train = reduced_scaler.fit_transform(reduced_X_train)\n",
    "reduced_scaled_X_test = reduced_scaler.transform(reduced_X_test)"
   ]
  },
  {
   "cell_type": "code",
   "execution_count": null,
   "id": "duplicate-spokesman",
   "metadata": {},
   "outputs": [],
   "source": []
  },
  {
   "cell_type": "code",
   "execution_count": 22,
   "id": "received-diving",
   "metadata": {
    "ExecuteTime": {
     "end_time": "2021-10-08T09:47:42.870365Z",
     "start_time": "2021-10-08T09:47:42.246842Z"
    }
   },
   "outputs": [
    {
     "data": {
      "text/plain": [
       "0.744805336253125"
      ]
     },
     "execution_count": 22,
     "metadata": {},
     "output_type": "execute_result"
    }
   ],
   "source": [
    "reduced_log_reg = LogisticRegression()\n",
    "reduced_log_reg.fit(reduced_scaled_X_train, y_train)\n",
    "roc_auc_score(y_test, reduced_log_reg.predict_proba(reduced_scaled_X_test)[:, 1])"
   ]
  },
  {
   "cell_type": "markdown",
   "id": "substantial-korean",
   "metadata": {},
   "source": [
    "#### adaptive boosting"
   ]
  },
  {
   "cell_type": "markdown",
   "id": "rough-owner",
   "metadata": {},
   "source": [
    "200 trees"
   ]
  },
  {
   "cell_type": "code",
   "execution_count": 23,
   "id": "needed-southwest",
   "metadata": {
    "ExecuteTime": {
     "end_time": "2021-10-08T10:06:45.770409Z",
     "start_time": "2021-10-08T09:47:58.177612Z"
    }
   },
   "outputs": [
    {
     "data": {
      "text/plain": [
       "0.7351100506611874"
      ]
     },
     "execution_count": 23,
     "metadata": {},
     "output_type": "execute_result"
    }
   ],
   "source": [
    "reduced_ada_boosting = AdaBoostClassifier(n_estimators=200)\n",
    "reduced_ada_boosting.fit(reduced_X_train, y_train)\n",
    "roc_auc_score(y_test, reduced_ada_boosting.predict_proba(reduced_X_test)[:, 1])"
   ]
  },
  {
   "cell_type": "markdown",
   "id": "premium-mainland",
   "metadata": {},
   "source": [
    "## nan -> mean"
   ]
  },
  {
   "cell_type": "code",
   "execution_count": 16,
   "id": "applicable-japan",
   "metadata": {
    "ExecuteTime": {
     "end_time": "2021-10-07T10:42:36.833110Z",
     "start_time": "2021-10-07T10:42:35.914928Z"
    }
   },
   "outputs": [],
   "source": [
    "X_with_mean = X_with_nans.fillna(value=X_with_nans.mean())"
   ]
  },
  {
   "cell_type": "code",
   "execution_count": 17,
   "id": "african-vertex",
   "metadata": {
    "ExecuteTime": {
     "end_time": "2021-10-07T10:42:37.834855Z",
     "start_time": "2021-10-07T10:42:36.841113Z"
    }
   },
   "outputs": [],
   "source": [
    "X_with_mean_train, X_with_mean_test, y_with_mean_train, y_with_mean_test = train_test_split(X_with_mean, y, test_size=0.2, shuffle=True, random_state=148)\n",
    "y_with_mean_train, y_with_mean_test = y_with_mean_train.radiant_win, y_with_mean_test.radiant_win"
   ]
  },
  {
   "cell_type": "markdown",
   "id": "lined-assumption",
   "metadata": {},
   "source": [
    "### gradient boosting"
   ]
  },
  {
   "cell_type": "code",
   "execution_count": 18,
   "id": "rental-fountain",
   "metadata": {
    "ExecuteTime": {
     "end_time": "2021-10-07T11:03:00.633950Z",
     "start_time": "2021-10-07T10:42:39.166314Z"
    }
   },
   "outputs": [
    {
     "data": {
      "text/plain": [
       "0.7452443006627629"
      ]
     },
     "execution_count": 18,
     "metadata": {},
     "output_type": "execute_result"
    }
   ],
   "source": [
    "boosting_with_mean = GradientBoostingClassifier(n_estimators=200, max_depth=8, random_state=163)\n",
    "boosting_with_mean.fit(X_with_mean_train, y_with_mean_train)\n",
    "roc_auc_score(y_with_mean_test, boosting_with_mean.predict_proba(X_with_mean_test)[:, 1])"
   ]
  },
  {
   "cell_type": "markdown",
   "id": "special-russian",
   "metadata": {},
   "source": [
    "### logistic regression"
   ]
  },
  {
   "cell_type": "markdown",
   "id": "practical-export",
   "metadata": {},
   "source": [
    "scaling of the data"
   ]
  },
  {
   "cell_type": "code",
   "execution_count": 19,
   "id": "compatible-tomato",
   "metadata": {
    "ExecuteTime": {
     "end_time": "2021-10-07T11:03:03.229502Z",
     "start_time": "2021-10-07T11:03:00.633950Z"
    }
   },
   "outputs": [],
   "source": [
    "scaler_mean = StandardScaler()\n",
    "scaled_X_with_mean_train = scaler_mean.fit_transform(X_with_mean_train)\n",
    "scaled_X_with_mean_test = scaler_mean.transform(X_with_mean_test)"
   ]
  },
  {
   "cell_type": "markdown",
   "id": "composed-madrid",
   "metadata": {},
   "source": [
    "the quality of model"
   ]
  },
  {
   "cell_type": "code",
   "execution_count": 20,
   "id": "front-canvas",
   "metadata": {
    "ExecuteTime": {
     "end_time": "2021-10-07T11:03:07.327960Z",
     "start_time": "2021-10-07T11:03:03.229502Z"
    }
   },
   "outputs": [
    {
     "data": {
      "text/plain": [
       "0.7542446069379405"
      ]
     },
     "execution_count": 20,
     "metadata": {},
     "output_type": "execute_result"
    }
   ],
   "source": [
    "log_reg_with_mean = LogisticRegression()\n",
    "log_reg_with_mean.fit(scaled_X_with_mean_train, y_with_mean_train)\n",
    "roc_auc_score(y_with_mean_test, log_reg_with_mean.predict_proba(scaled_X_with_mean_test)[:, 1])"
   ]
  },
  {
   "cell_type": "markdown",
   "id": "magnetic-morocco",
   "metadata": {},
   "source": [
    "### adaptive boosting"
   ]
  },
  {
   "cell_type": "markdown",
   "id": "advisory-saver",
   "metadata": {},
   "source": [
    "200 trees"
   ]
  },
  {
   "cell_type": "code",
   "execution_count": 21,
   "id": "limiting-european",
   "metadata": {
    "ExecuteTime": {
     "end_time": "2021-10-07T11:07:02.326021Z",
     "start_time": "2021-10-07T11:03:07.335959Z"
    }
   },
   "outputs": [
    {
     "data": {
      "text/plain": [
       "0.7490294815941752"
      ]
     },
     "execution_count": 21,
     "metadata": {},
     "output_type": "execute_result"
    }
   ],
   "source": [
    "ada_boosting_with_mean = AdaBoostClassifier(n_estimators=200)\n",
    "ada_boosting_with_mean.fit(X_with_mean_train, y_with_mean_train)\n",
    "roc_auc_score(y_with_mean_test, ada_boosting_with_mean.predict_proba(X_with_mean_test)[:, 1])"
   ]
  },
  {
   "cell_type": "markdown",
   "id": "involved-supervision",
   "metadata": {},
   "source": [
    "1000 trees"
   ]
  },
  {
   "cell_type": "code",
   "execution_count": 23,
   "id": "inclusive-subject",
   "metadata": {
    "ExecuteTime": {
     "end_time": "2021-10-07T13:24:04.988398Z",
     "start_time": "2021-10-07T13:03:56.802105Z"
    }
   },
   "outputs": [
    {
     "data": {
      "text/plain": [
       "0.7518642826527444"
      ]
     },
     "execution_count": 23,
     "metadata": {},
     "output_type": "execute_result"
    }
   ],
   "source": [
    "big_ada_boosting_with_mean = AdaBoostClassifier(n_estimators=1000, learning_rate=0.5)\n",
    "big_ada_boosting_with_mean.fit(X_with_mean_train, y_with_mean_train)\n",
    "roc_auc_score(y_with_mean_test, big_ada_boosting_with_mean.predict_proba(X_with_mean_test)[:, 1])"
   ]
  },
  {
   "cell_type": "markdown",
   "id": "ethical-parts",
   "metadata": {},
   "source": [
    "## nan -> 0"
   ]
  },
  {
   "cell_type": "code",
   "execution_count": 8,
   "id": "earned-retailer",
   "metadata": {
    "ExecuteTime": {
     "end_time": "2021-10-07T17:29:46.154296Z",
     "start_time": "2021-10-07T17:29:45.858466Z"
    }
   },
   "outputs": [],
   "source": [
    "X_with_zeroes = X_with_nans.fillna(value=0)"
   ]
  },
  {
   "cell_type": "code",
   "execution_count": 9,
   "id": "naked-landing",
   "metadata": {
    "ExecuteTime": {
     "end_time": "2021-10-07T17:30:33.900123Z",
     "start_time": "2021-10-07T17:30:32.984309Z"
    }
   },
   "outputs": [],
   "source": [
    "X_with_zeroes_train, X_with_zeroes_test, y_with_zeroes_train, y_with_zeroes_test = train_test_split(X_with_zeroes, y, test_size=0.2, shuffle=True, random_state=148)\n",
    "y_with_zeroes_train, y_with_zeroes_test = y_with_zeroes_train.radiant_win, y_with_zeroes_test.radiant_win"
   ]
  },
  {
   "cell_type": "markdown",
   "id": "victorian-exposure",
   "metadata": {},
   "source": [
    "### gradient boosting"
   ]
  },
  {
   "cell_type": "code",
   "execution_count": 10,
   "id": "brief-bermuda",
   "metadata": {
    "ExecuteTime": {
     "end_time": "2021-10-07T17:53:44.115637Z",
     "start_time": "2021-10-07T17:33:31.985610Z"
    }
   },
   "outputs": [
    {
     "data": {
      "text/plain": [
       "0.7434506498430518"
      ]
     },
     "execution_count": 10,
     "metadata": {},
     "output_type": "execute_result"
    }
   ],
   "source": [
    "boosting_with_zeroes = GradientBoostingClassifier(n_estimators=200, max_depth=8, random_state=163)\n",
    "boosting_with_zeroes.fit(X_with_zeroes_train, y_with_zeroes_train)\n",
    "roc_auc_score(y_with_zeroes_test, boosting_with_zeroes.predict_proba(X_with_zeroes_test)[:, 1])"
   ]
  },
  {
   "cell_type": "markdown",
   "id": "detected-enforcement",
   "metadata": {},
   "source": [
    "### logistic regression"
   ]
  },
  {
   "cell_type": "markdown",
   "id": "accurate-payment",
   "metadata": {},
   "source": [
    "scaling of the data"
   ]
  },
  {
   "cell_type": "code",
   "execution_count": 11,
   "id": "alive-commitment",
   "metadata": {
    "ExecuteTime": {
     "end_time": "2021-10-07T17:53:46.480476Z",
     "start_time": "2021-10-07T17:53:44.123686Z"
    }
   },
   "outputs": [],
   "source": [
    "scaler_zeroes = StandardScaler()\n",
    "scaled_X_with_zeroes_train = scaler_zeroes.fit_transform(X_with_zeroes_train)\n",
    "scaled_X_with_zeroes_test = scaler_zeroes.transform(X_with_zeroes_test)"
   ]
  },
  {
   "cell_type": "code",
   "execution_count": null,
   "id": "specialized-storm",
   "metadata": {},
   "outputs": [],
   "source": []
  },
  {
   "cell_type": "code",
   "execution_count": 12,
   "id": "unauthorized-paraguay",
   "metadata": {
    "ExecuteTime": {
     "end_time": "2021-10-07T17:53:50.040455Z",
     "start_time": "2021-10-07T17:53:46.480476Z"
    }
   },
   "outputs": [
    {
     "data": {
      "text/plain": [
       "0.7543449050411899"
      ]
     },
     "execution_count": 12,
     "metadata": {},
     "output_type": "execute_result"
    }
   ],
   "source": [
    "log_reg_with_zeroes = LogisticRegression()\n",
    "log_reg_with_zeroes.fit(scaled_X_with_zeroes_train, y_with_zeroes_train)\n",
    "roc_auc_score(y_with_zeroes_test, log_reg_with_zeroes.predict_proba(scaled_X_with_zeroes_test)[:, 1])"
   ]
  },
  {
   "cell_type": "markdown",
   "id": "harmful-healthcare",
   "metadata": {},
   "source": [
    "### adaptive boosting"
   ]
  },
  {
   "cell_type": "code",
   "execution_count": 14,
   "id": "given-litigation",
   "metadata": {
    "ExecuteTime": {
     "end_time": "2021-10-07T18:14:23.079538Z",
     "start_time": "2021-10-07T17:55:26.045607Z"
    }
   },
   "outputs": [
    {
     "data": {
      "text/plain": [
       "0.7517583388752915"
      ]
     },
     "execution_count": 14,
     "metadata": {},
     "output_type": "execute_result"
    }
   ],
   "source": [
    "big_ada_boosting_with_zeroes = AdaBoostClassifier(n_estimators=1000, learning_rate=0.5)\n",
    "big_ada_boosting_with_zeroes.fit(X_with_zeroes_train, y_with_zeroes_train)\n",
    "roc_auc_score(y_with_zeroes_test, big_ada_boosting_with_zeroes.predict_proba(X_with_zeroes_test)[:, 1])"
   ]
  },
  {
   "cell_type": "markdown",
   "id": "amino-freeware",
   "metadata": {},
   "source": [
    "## nan -> 10000"
   ]
  },
  {
   "cell_type": "code",
   "execution_count": 10,
   "id": "variable-andorra",
   "metadata": {
    "ExecuteTime": {
     "end_time": "2021-10-08T06:08:18.594726Z",
     "start_time": "2021-10-08T06:08:18.070623Z"
    }
   },
   "outputs": [],
   "source": [
    "X_with_10000 = X_with_nans.fillna(value=10000)"
   ]
  },
  {
   "cell_type": "code",
   "execution_count": 11,
   "id": "backed-rwanda",
   "metadata": {
    "ExecuteTime": {
     "end_time": "2021-10-08T06:08:52.333479Z",
     "start_time": "2021-10-08T06:08:51.323034Z"
    }
   },
   "outputs": [],
   "source": [
    "X_with_10000_train, X_with_10000_test, y_with_10000_train, y_with_10000_test = train_test_split(X_with_10000, y, test_size=0.2, shuffle=True, random_state=148)\n",
    "y_with_10000_train, y_with_10000_test = y_with_10000_train.radiant_win, y_with_10000_test.radiant_win"
   ]
  },
  {
   "cell_type": "markdown",
   "id": "comfortable-operator",
   "metadata": {},
   "source": [
    "### logistic regression"
   ]
  },
  {
   "cell_type": "markdown",
   "id": "fewer-demand",
   "metadata": {},
   "source": [
    "scaling of the data"
   ]
  },
  {
   "cell_type": "code",
   "execution_count": 12,
   "id": "wired-endorsement",
   "metadata": {
    "ExecuteTime": {
     "end_time": "2021-10-08T06:09:24.129897Z",
     "start_time": "2021-10-08T06:09:19.674004Z"
    }
   },
   "outputs": [],
   "source": [
    "scaler_10000 = StandardScaler()\n",
    "scaled_X_with_10000_train = scaler_10000.fit_transform(X_with_10000_train)\n",
    "scaled_X_with_10000_test = scaler_10000.transform(X_with_10000_test)"
   ]
  },
  {
   "cell_type": "code",
   "execution_count": null,
   "id": "brutal-fundamental",
   "metadata": {},
   "outputs": [],
   "source": []
  },
  {
   "cell_type": "code",
   "execution_count": 13,
   "id": "worse-filing",
   "metadata": {
    "ExecuteTime": {
     "end_time": "2021-10-08T06:10:47.758888Z",
     "start_time": "2021-10-08T06:10:38.693159Z"
    }
   },
   "outputs": [
    {
     "data": {
      "text/plain": [
       "0.7546451002618246"
      ]
     },
     "execution_count": 13,
     "metadata": {},
     "output_type": "execute_result"
    }
   ],
   "source": [
    "log_reg_with_10000 = LogisticRegression()\n",
    "log_reg_with_10000.fit(scaled_X_with_10000_train, y_with_10000_train)\n",
    "roc_auc_score(y_with_10000_test, log_reg_with_10000.predict_proba(scaled_X_with_10000_test)[:, 1])"
   ]
  },
  {
   "cell_type": "markdown",
   "id": "social-vertex",
   "metadata": {},
   "source": [
    "### SGD"
   ]
  },
  {
   "cell_type": "code",
   "execution_count": 18,
   "id": "hawaiian-postcard",
   "metadata": {
    "ExecuteTime": {
     "end_time": "2021-10-08T06:43:37.804160Z",
     "start_time": "2021-10-08T06:43:26.330504Z"
    }
   },
   "outputs": [
    {
     "data": {
      "text/plain": [
       "0.7296182184317705"
      ]
     },
     "execution_count": 18,
     "metadata": {},
     "output_type": "execute_result"
    }
   ],
   "source": [
    "sgd_with_10000 = SGDClassifier(loss='log')\n",
    "sgd_with_10000.fit(scaled_X_with_10000_train, y_with_10000_train)\n",
    "roc_auc_score(y_with_10000_test, sgd_with_10000.predict_proba(scaled_X_with_10000_test)[:, 1])"
   ]
  },
  {
   "cell_type": "markdown",
   "id": "suitable-joint",
   "metadata": {},
   "source": [
    "### adaptive boosting"
   ]
  },
  {
   "cell_type": "code",
   "execution_count": 14,
   "id": "czech-conditioning",
   "metadata": {
    "ExecuteTime": {
     "end_time": "2021-10-08T06:30:33.958357Z",
     "start_time": "2021-10-08T06:11:20.283278Z"
    }
   },
   "outputs": [
    {
     "data": {
      "text/plain": [
       "0.7522607403258381"
      ]
     },
     "execution_count": 14,
     "metadata": {},
     "output_type": "execute_result"
    }
   ],
   "source": [
    "big_ada_boosting_with_10000 = AdaBoostClassifier(n_estimators=1000, learning_rate=0.5)\n",
    "big_ada_boosting_with_10000.fit(X_with_10000_train, y_with_10000_train)\n",
    "roc_auc_score(y_with_10000_test, big_ada_boosting_with_10000.predict_proba(X_with_10000_test)[:, 1])"
   ]
  },
  {
   "cell_type": "markdown",
   "id": "married-adjustment",
   "metadata": {},
   "source": [
    "### stacking"
   ]
  },
  {
   "cell_type": "code",
   "execution_count": 29,
   "id": "actual-ground",
   "metadata": {
    "ExecuteTime": {
     "end_time": "2021-10-08T07:00:58.768695Z",
     "start_time": "2021-10-08T07:00:50.267111Z"
    },
    "scrolled": true
   },
   "outputs": [
    {
     "data": {
      "text/plain": [
       "0.7456590723521748"
      ]
     },
     "execution_count": 29,
     "metadata": {},
     "output_type": "execute_result"
    }
   ],
   "source": [
    "stacking_with_10000 = StackingEnsemble(\n",
    "    layers=[\n",
    "        [LogisticRegression(max_iter=100),\n",
    "         LogisticRegression(max_iter=400),\n",
    "         LogisticRegression(max_iter=700),\n",
    "         LogisticRegression(max_iter=1000),\n",
    "         LogisticRegression(max_iter=1300)]\n",
    "        for k in range(5)] + [[LogisticRegression(max_iter=1000)]])\n",
    "stacking_with_10000.fit(scaled_X_with_10000_train, y_with_10000_train)\n",
    "roc_auc_score(y_with_10000_test, stacking_with_10000.predict_proba(scaled_X_with_10000_test))"
   ]
  },
  {
   "cell_type": "markdown",
   "id": "liberal-snapshot",
   "metadata": {},
   "source": [
    "## logistic regression"
   ]
  },
  {
   "cell_type": "markdown",
   "id": "reflected-buffalo",
   "metadata": {},
   "source": [
    "the dependency of quality from the value to fill nan fields."
   ]
  },
  {
   "cell_type": "code",
   "execution_count": 19,
   "id": "public-passing",
   "metadata": {
    "ExecuteTime": {
     "end_time": "2021-10-11T06:49:12.219751Z",
     "start_time": "2021-10-11T06:45:44.052332Z"
    }
   },
   "outputs": [
    {
     "name": "stdout",
     "output_type": "stream",
     "text": [
      "-9000: 0.754595\n",
      "-8000: 0.754593\n",
      "-7000: 0.754587\n",
      "-6000: 0.754580\n",
      "-5000: 0.754572\n",
      "-4000: 0.754562\n",
      "-3000: 0.754548\n",
      "-2000: 0.754513\n",
      "-1000: 0.754423\n",
      "-300: 0.754261\n",
      "300: 0.755076\n",
      "1000: 0.754811\n",
      "2000: 0.754719\n",
      "3000: 0.754682\n",
      "4000: 0.754667\n",
      "5000: 0.754658\n",
      "6000: 0.754651\n",
      "7000: 0.754649\n",
      "8000: 0.754645\n",
      "9000: 0.754644\n"
     ]
    }
   ],
   "source": [
    "values = list(range(-9000, 0, 1000)) + [-300, 300] + list(range(1000, 10000, 1000))\n",
    "for value in values:\n",
    "    X_log_reg = X_with_nans.fillna(value=value)\n",
    "    X_log_reg_train, X_log_reg_test, y_log_reg_train, y_log_reg_test = train_test_split(X_log_reg, y, test_size=0.2, shuffle=True, random_state=148)\n",
    "    y_log_reg_train, y_log_reg_test = y_log_reg_train.radiant_win, y_log_reg_test.radiant_win\n",
    "    scaler_mean = StandardScaler()\n",
    "    scaled_X_log_reg_train = scaler_mean.fit_transform(X_log_reg_train)\n",
    "    scaled_X_log_reg_test = scaler_mean.transform(X_log_reg_test)\n",
    "    log_reg = LogisticRegression()\n",
    "    log_reg.fit(scaled_X_log_reg_train, y_log_reg_train)\n",
    "    print('%d: %f' % (value, roc_auc_score(y_log_reg_test, log_reg.predict_proba(scaled_X_log_reg_test)[:, 1])))"
   ]
  },
  {
   "cell_type": "markdown",
   "id": "underlying-protocol",
   "metadata": {},
   "source": [
    "## xgb"
   ]
  },
  {
   "cell_type": "code",
   "execution_count": 31,
   "id": "geological-panama",
   "metadata": {
    "ExecuteTime": {
     "end_time": "2021-10-13T09:06:51.996723Z",
     "start_time": "2021-10-13T09:06:51.982754Z"
    }
   },
   "outputs": [],
   "source": [
    "from xgboost import XGBClassifier\n",
    "import warnings"
   ]
  },
  {
   "cell_type": "code",
   "execution_count": 34,
   "id": "looking-malawi",
   "metadata": {
    "ExecuteTime": {
     "end_time": "2021-10-13T09:08:13.624377Z",
     "start_time": "2021-10-13T09:08:13.609406Z"
    },
    "collapsed": true
   },
   "outputs": [
    {
     "name": "stderr",
     "output_type": "stream",
     "text": [
      "c:\\users\\user\\appdata\\local\\programs\\python\\python39\\lib\\site-packages\\ipykernel\\ipkernel.py:283: DeprecationWarning: `should_run_async` will not call `transform_cell` automatically in the future. Please pass the result to `transformed_cell` argument and any exception that happen during thetransform in `preprocessing_exc_tuple` in IPython 7.17 and above.\n",
      "  and should_run_async(code)\n"
     ]
    }
   ],
   "source": [
    "warnings.filterwarnings(\"ignore\")"
   ]
  },
  {
   "cell_type": "code",
   "execution_count": 36,
   "id": "functional-montreal",
   "metadata": {
    "ExecuteTime": {
     "end_time": "2021-10-13T10:04:02.066636Z",
     "start_time": "2021-10-13T09:08:56.684732Z"
    }
   },
   "outputs": [
    {
     "name": "stdout",
     "output_type": "stream",
     "text": [
      "[12:08:58] WARNING: C:/Users/Administrator/workspace/xgboost-win64_release_1.4.0/src/learner.cc:1095: Starting in XGBoost 1.3.0, the default evaluation metric used with the objective 'binary:logistic' was changed from 'error' to 'logloss'. Explicitly set eval_metric if you'd like to restore the old behavior.\n",
      "[12:12:38] WARNING: C:/Users/Administrator/workspace/xgboost-win64_release_1.4.0/src/learner.cc:1095: Starting in XGBoost 1.3.0, the default evaluation metric used with the objective 'binary:logistic' was changed from 'error' to 'logloss'. Explicitly set eval_metric if you'd like to restore the old behavior.\n",
      "[12:18:28] WARNING: C:/Users/Administrator/workspace/xgboost-win64_release_1.4.0/src/learner.cc:1095: Starting in XGBoost 1.3.0, the default evaluation metric used with the objective 'binary:logistic' was changed from 'error' to 'logloss'. Explicitly set eval_metric if you'd like to restore the old behavior.\n",
      "[12:26:14] WARNING: C:/Users/Administrator/workspace/xgboost-win64_release_1.4.0/src/learner.cc:1095: Starting in XGBoost 1.3.0, the default evaluation metric used with the objective 'binary:logistic' was changed from 'error' to 'logloss'. Explicitly set eval_metric if you'd like to restore the old behavior.\n",
      "[12:36:18] WARNING: C:/Users/Administrator/workspace/xgboost-win64_release_1.4.0/src/learner.cc:1095: Starting in XGBoost 1.3.0, the default evaluation metric used with the objective 'binary:logistic' was changed from 'error' to 'logloss'. Explicitly set eval_metric if you'd like to restore the old behavior.\n",
      "[12:48:47] WARNING: C:/Users/Administrator/workspace/xgboost-win64_release_1.4.0/src/learner.cc:1095: Starting in XGBoost 1.3.0, the default evaluation metric used with the objective 'binary:logistic' was changed from 'error' to 'logloss'. Explicitly set eval_metric if you'd like to restore the old behavior.\n"
     ]
    }
   ],
   "source": [
    "scores = {}\n",
    "for max_depth in range(1, 7):\n",
    "    xgb = XGBClassifier(n_estimators=1500, max_depth=max_depth)\n",
    "    xgb.fit(X_train, y_train)\n",
    "    scores[max_depth] = roc_auc_score(y_test, xgb.predict_proba(X_test)[:, 1])"
   ]
  },
  {
   "cell_type": "code",
   "execution_count": 37,
   "id": "victorian-tumor",
   "metadata": {
    "ExecuteTime": {
     "end_time": "2021-10-13T10:04:02.207308Z",
     "start_time": "2021-10-13T10:04:02.082264Z"
    }
   },
   "outputs": [
    {
     "data": {
      "text/plain": [
       "{1: 0.753625425828684,\n",
       " 2: 0.7503018290766309,\n",
       " 3: 0.7400856956145876,\n",
       " 4: 0.7287012200640904,\n",
       " 5: 0.7209582573360797,\n",
       " 6: 0.7194739799296812}"
      ]
     },
     "execution_count": 37,
     "metadata": {},
     "output_type": "execute_result"
    }
   ],
   "source": [
    "scores"
   ]
  },
  {
   "cell_type": "markdown",
   "id": "postal-production",
   "metadata": {},
   "source": [
    "## lightgbm"
   ]
  },
  {
   "cell_type": "code",
   "execution_count": 16,
   "id": "yellow-material",
   "metadata": {
    "ExecuteTime": {
     "end_time": "2021-10-13T08:05:22.573797Z",
     "start_time": "2021-10-13T08:05:22.551835Z"
    }
   },
   "outputs": [],
   "source": [
    "from lightgbm import LGBMClassifier"
   ]
  },
  {
   "cell_type": "code",
   "execution_count": 29,
   "id": "material-frederick",
   "metadata": {
    "ExecuteTime": {
     "end_time": "2021-10-13T08:44:39.569307Z",
     "start_time": "2021-10-13T08:19:15.385493Z"
    }
   },
   "outputs": [
    {
     "name": "stdout",
     "output_type": "stream",
     "text": [
      "1000 trees\n",
      "1: 0.748664022167904\n",
      "2: 0.7534958613130069\n",
      "3: 0.7527666478142105\n",
      "4: 0.7498132187476846\n",
      "5: 0.7468194331732508\n",
      "6: 0.7443094172652662\n",
      "7: 0.7432305426949344\n",
      "8: 0.7415394143529244\n",
      "9: 0.7441250695845234\n",
      "----------------------------\n",
      "1200 trees\n",
      "1: 0.7499540322427314\n",
      "2: 0.7540388417089064\n",
      "3: 0.7527141525771524\n",
      "4: 0.749187491622185\n",
      "5: 0.7461575864435604\n",
      "6: 0.7424779203030997\n",
      "7: 0.7418771909095324\n",
      "8: 0.7396503590537575\n",
      "9: 0.7429370629666918\n",
      "----------------------------\n",
      "1400 trees\n",
      "1: 0.7508249383940959\n",
      "2: 0.754320977127446\n",
      "3: 0.7525706592405044\n",
      "4: 0.7483040760125947\n",
      "5: 0.7446140188657671\n",
      "6: 0.74059010429827\n",
      "7: 0.7408662868670866\n",
      "8: 0.7382585891438982\n",
      "9: 0.7419853590614369\n",
      "----------------------------\n",
      "1600 trees\n",
      "1: 0.7514889035756448\n",
      "2: 0.7542900265457906\n",
      "3: 0.7521138680584755\n",
      "4: 0.7474307230493336\n",
      "5: 0.7435488718634797\n",
      "6: 0.7389608029737557\n",
      "7: 0.7394080293456425\n",
      "8: 0.7371881777887419\n",
      "9: 0.7406052300445412\n",
      "----------------------------\n",
      "1800 trees\n",
      "1: 0.7519862737030268\n",
      "2: 0.7543545228126283\n",
      "3: 0.7514881091561979\n",
      "4: 0.7464895690343349\n",
      "5: 0.7417466836827782\n",
      "6: 0.7378475353374983\n",
      "7: 0.7390051633556765\n",
      "8: 0.7364646523331861\n",
      "9: 0.7392407669791401\n",
      "----------------------------\n",
      "2000 trees\n",
      "1: 0.7524443465484303\n",
      "2: 0.754319134074329\n",
      "3: 0.7508459110674969\n",
      "4: 0.7456954249860698\n",
      "5: 0.7402523489261805\n",
      "6: 0.7369633041239425\n",
      "7: 0.7371030689853193\n",
      "8: 0.7355617469664961\n",
      "9: 0.7384746394567061\n",
      "----------------------------\n"
     ]
    }
   ],
   "source": [
    "for n_estimators in range(1000, 2001, 200):\n",
    "    print(n_estimators, 'trees')\n",
    "    for max_depth in range(1, 10):\n",
    "        lgbm = LGBMClassifier(n_estimators=n_estimators, max_depth=max_depth)\n",
    "        lgbm.fit(X_train, y_train)\n",
    "        print(f'{max_depth}: {roc_auc_score(y_test, lgbm.predict_proba(X_test)[:, 1])}')\n",
    "    print('----------------------------')"
   ]
  },
  {
   "cell_type": "code",
   "execution_count": 24,
   "id": "answering-internet",
   "metadata": {
    "ExecuteTime": {
     "end_time": "2021-10-13T08:16:01.198013Z",
     "start_time": "2021-10-13T08:15:37.555704Z"
    }
   },
   "outputs": [
    {
     "name": "stdout",
     "output_type": "stream",
     "text": [
      "5: 0.754319134074329\n"
     ]
    }
   ],
   "source": [
    "lgbm = LGBMClassifier(n_estimators=2000, max_depth=2)\n",
    "lgbm.fit(X_train, y_train)\n",
    "print(f'{max_depth}: {roc_auc_score(y_test, lgbm.predict_proba(X_test)[:, 1])}')"
   ]
  },
  {
   "cell_type": "markdown",
   "id": "saving-equipment",
   "metadata": {},
   "source": [
    "## Conclusion"
   ]
  },
  {
   "cell_type": "markdown",
   "id": "focused-newfoundland",
   "metadata": {},
   "source": [
    "The logistic regression is the best classifier in each case. The best value to fill the nans is 300 for logistic regression. The best quality is 0.755076"
   ]
  },
  {
   "cell_type": "markdown",
   "id": "processed-pilot",
   "metadata": {},
   "source": [
    "The best xgboost case is 1500 trees and max_depth equals 1. The score is 0.7536.\n",
    "The best lightgbm case is 1800 trees and max_depth equals 2. The score is 0.7543."
   ]
  },
  {
   "cell_type": "code",
   "execution_count": null,
   "id": "favorite-wichita",
   "metadata": {},
   "outputs": [],
   "source": []
  },
  {
   "cell_type": "code",
   "execution_count": null,
   "id": "flexible-family",
   "metadata": {},
   "outputs": [],
   "source": []
  }
 ],
 "metadata": {
  "kernelspec": {
   "display_name": "Python 3",
   "language": "python",
   "name": "python3"
  },
  "language_info": {
   "codemirror_mode": {
    "name": "ipython",
    "version": 3
   },
   "file_extension": ".py",
   "mimetype": "text/x-python",
   "name": "python",
   "nbconvert_exporter": "python",
   "pygments_lexer": "ipython3",
   "version": "3.9.0"
  },
  "toc": {
   "base_numbering": 1,
   "nav_menu": {},
   "number_sections": false,
   "sideBar": true,
   "skip_h1_title": false,
   "title_cell": "Table of Contents",
   "title_sidebar": "Contents",
   "toc_cell": false,
   "toc_position": {
    "height": "calc(100% - 180px)",
    "left": "10px",
    "top": "150px",
    "width": "278.188px"
   },
   "toc_section_display": true,
   "toc_window_display": true
  }
 },
 "nbformat": 4,
 "nbformat_minor": 5
}
