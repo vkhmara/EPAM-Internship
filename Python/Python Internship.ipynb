{
 "cells": [
  {
   "cell_type": "code",
   "execution_count": 4,
   "id": "going-values",
   "metadata": {},
   "outputs": [
    {
     "data": {
      "text/plain": [
       "2.4158453015843406e-13"
      ]
     },
     "execution_count": 4,
     "metadata": {},
     "output_type": "execute_result"
    }
   ],
   "source": [
    "import math\n",
    "abs(4 * sum((-1)**k / (2 * k + 1) for k in range(10000)) + 0.0001 - math.pi)"
   ]
  },
  {
   "cell_type": "code",
   "execution_count": 9,
   "id": "talented-yesterday",
   "metadata": {
    "collapsed": true
   },
   "outputs": [
    {
     "name": "stdout",
     "output_type": "stream",
     "text": [
      "  3           0 LOAD_CONST               1 (4)\n",
      "              2 LOAD_GLOBAL              0 (sum)\n",
      "              4 LOAD_CONST               2 (<code object <genexpr> at 0x00000241B7E3E7C0, file \"<ipython-input-9-68ba9cd5136b>\", line 3>)\n",
      "              6 LOAD_CONST               3 ('my_pi.<locals>.<genexpr>')\n",
      "              8 MAKE_FUNCTION            0\n",
      "             10 LOAD_GLOBAL              1 (range)\n",
      "             12 LOAD_CONST               4 (10000)\n",
      "             14 CALL_FUNCTION            1\n",
      "             16 GET_ITER\n",
      "             18 CALL_FUNCTION            1\n",
      "             20 CALL_FUNCTION            1\n",
      "             22 BINARY_MULTIPLY\n",
      "             24 RETURN_VALUE\n",
      "\n",
      "Disassembly of <code object <genexpr> at 0x00000241B7E3E7C0, file \"<ipython-input-9-68ba9cd5136b>\", line 3>:\n",
      "  3           0 LOAD_FAST                0 (.0)\n",
      "        >>    2 FOR_ITER                26 (to 30)\n",
      "              4 STORE_FAST               1 (k)\n",
      "              6 LOAD_CONST               0 (-1)\n",
      "              8 LOAD_FAST                1 (k)\n",
      "             10 BINARY_POWER\n",
      "             12 LOAD_CONST               1 (2)\n",
      "             14 LOAD_FAST                1 (k)\n",
      "             16 BINARY_MULTIPLY\n",
      "             18 LOAD_CONST               2 (1)\n",
      "             20 BINARY_ADD\n",
      "             22 BINARY_TRUE_DIVIDE\n",
      "             24 YIELD_VALUE\n",
      "             26 POP_TOP\n",
      "             28 JUMP_ABSOLUTE            2\n",
      "        >>   30 LOAD_CONST               3 (None)\n",
      "             32 RETURN_VALUE\n"
     ]
    }
   ],
   "source": [
    "import dis\n",
    "def my_pi():\n",
    "    return 4 * sum((-1)**k / (2 * k + 1) for k in range(10000))\n",
    "\n",
    "dis.dis(my_pi)"
   ]
  },
  {
   "cell_type": "code",
   "execution_count": 38,
   "id": "nearby-tragedy",
   "metadata": {},
   "outputs": [],
   "source": [
    "arr = [11, 36, 7, 0, 0]\n",
    "enum = enumerate(arr)"
   ]
  },
  {
   "cell_type": "code",
   "execution_count": 39,
   "id": "ruled-removal",
   "metadata": {},
   "outputs": [],
   "source": [
    "aarr = [1, 2, 4, 0]"
   ]
  },
  {
   "cell_type": "code",
   "execution_count": 40,
   "id": "driving-telescope",
   "metadata": {},
   "outputs": [],
   "source": [
    "b = zip(arr, aarr)"
   ]
  },
  {
   "cell_type": "code",
   "execution_count": 41,
   "id": "mounted-charger",
   "metadata": {},
   "outputs": [
    {
     "name": "stdout",
     "output_type": "stream",
     "text": [
      "(11, 1)\n",
      "(36, 2)\n",
      "(7, 4)\n",
      "(0, 0)\n"
     ]
    }
   ],
   "source": [
    "for i in b:\n",
    "    print(i)"
   ]
  },
  {
   "cell_type": "code",
   "execution_count": 42,
   "id": "outer-drinking",
   "metadata": {},
   "outputs": [],
   "source": [
    "def my_sin(x: float):\n",
    "    s = x\n",
    "    a = x\n",
    "    n = 0\n",
    "    while True:\n",
    "        yield n, s\n",
    "        a *= (-x**2 / (2 * n + 2) / (2 * n + 3))\n",
    "        s += a\n",
    "        n += 1"
   ]
  },
  {
   "cell_type": "code",
   "execution_count": 45,
   "id": "static-consent",
   "metadata": {},
   "outputs": [
    {
     "name": "stdout",
     "output_type": "stream",
     "text": [
      "(0, 1.5707963267948966)\n",
      "(1, 0.9248322292886504)\n",
      "(2, 1.0045248555348174)\n",
      "(3, 0.9998431013994987)\n",
      "(4, 1.0000035425842861)\n",
      "(5, 0.999999943741051)\n",
      "(6, 1.0000000006627803)\n",
      "(7, 0.9999999999939768)\n",
      "(8, 1.0000000000000437)\n",
      "(9, 1.0)\n"
     ]
    }
   ],
   "source": [
    "\n",
    "ms = my_sin(math.pi / 2)\n",
    "for i in range(10):\n",
    "    print(next(ms))"
   ]
  },
  {
   "cell_type": "code",
   "execution_count": 47,
   "id": "general-stylus",
   "metadata": {},
   "outputs": [],
   "source": [
    "import collections"
   ]
  },
  {
   "cell_type": "code",
   "execution_count": 48,
   "id": "determined-african",
   "metadata": {},
   "outputs": [],
   "source": [
    "some_tuple = collections.namedtuple('named_tuple', ['pos_1', 'pos_2'])"
   ]
  },
  {
   "cell_type": "code",
   "execution_count": 49,
   "id": "amateur-selling",
   "metadata": {},
   "outputs": [
    {
     "data": {
      "text/plain": [
       "type"
      ]
     },
     "execution_count": 49,
     "metadata": {},
     "output_type": "execute_result"
    }
   ],
   "source": [
    "type(some_tuple)"
   ]
  },
  {
   "cell_type": "code",
   "execution_count": 50,
   "id": "scientific-kenya",
   "metadata": {},
   "outputs": [
    {
     "data": {
      "text/plain": [
       "__main__.named_tuple"
      ]
     },
     "execution_count": 50,
     "metadata": {},
     "output_type": "execute_result"
    }
   ],
   "source": [
    "some_tuple"
   ]
  },
  {
   "cell_type": "code",
   "execution_count": 52,
   "id": "sonic-association",
   "metadata": {},
   "outputs": [],
   "source": [
    "a = some_tuple('1', '2')"
   ]
  },
  {
   "cell_type": "code",
   "execution_count": 57,
   "id": "dated-composite",
   "metadata": {},
   "outputs": [
    {
     "data": {
      "text/plain": [
       "'1'"
      ]
     },
     "execution_count": 57,
     "metadata": {},
     "output_type": "execute_result"
    }
   ],
   "source": [
    "a.pos_1"
   ]
  },
  {
   "cell_type": "code",
   "execution_count": 58,
   "id": "moved-potato",
   "metadata": {},
   "outputs": [],
   "source": [
    "s = {'1': 0, '2': 0}"
   ]
  },
  {
   "cell_type": "code",
   "execution_count": 59,
   "id": "finnish-flight",
   "metadata": {},
   "outputs": [],
   "source": [
    "s['1'] += 1"
   ]
  },
  {
   "cell_type": "code",
   "execution_count": 61,
   "id": "premier-bradford",
   "metadata": {},
   "outputs": [],
   "source": [
    "s['2'] = some_tuple(0, 9)"
   ]
  },
  {
   "cell_type": "code",
   "execution_count": 62,
   "id": "atlantic-mattress",
   "metadata": {},
   "outputs": [
    {
     "data": {
      "text/plain": [
       "{'1': 1, '2': named_tuple(pos_1=0, pos_2=9)}"
      ]
     },
     "execution_count": 62,
     "metadata": {},
     "output_type": "execute_result"
    }
   ],
   "source": [
    "s"
   ]
  },
  {
   "cell_type": "code",
   "execution_count": 74,
   "id": "domestic-morrison",
   "metadata": {},
   "outputs": [],
   "source": [
    "r = [('1', 1), ('5', 5, 6)]"
   ]
  },
  {
   "cell_type": "code",
   "execution_count": 76,
   "id": "interior-league",
   "metadata": {},
   "outputs": [],
   "source": [
    "d = collections.defaultdict(list)"
   ]
  },
  {
   "cell_type": "code",
   "execution_count": 80,
   "id": "careful-dancing",
   "metadata": {},
   "outputs": [],
   "source": [
    "d['1'] = [1]"
   ]
  },
  {
   "cell_type": "code",
   "execution_count": 81,
   "id": "arabic-counter",
   "metadata": {},
   "outputs": [],
   "source": [
    "d['2'] = 1"
   ]
  },
  {
   "cell_type": "code",
   "execution_count": 82,
   "id": "international-terror",
   "metadata": {},
   "outputs": [
    {
     "data": {
      "text/plain": [
       "defaultdict(list, {'1': [1], '2': 1})"
      ]
     },
     "execution_count": 82,
     "metadata": {},
     "output_type": "execute_result"
    }
   ],
   "source": [
    "d"
   ]
  },
  {
   "cell_type": "code",
   "execution_count": 83,
   "id": "given-exclusive",
   "metadata": {},
   "outputs": [
    {
     "name": "stdout",
     "output_type": "stream",
     "text": [
      "The Zen of Python, by Tim Peters\n",
      "\n",
      "Beautiful is better than ugly.\n",
      "Explicit is better than implicit.\n",
      "Simple is better than complex.\n",
      "Complex is better than complicated.\n",
      "Flat is better than nested.\n",
      "Sparse is better than dense.\n",
      "Readability counts.\n",
      "Special cases aren't special enough to break the rules.\n",
      "Although practicality beats purity.\n",
      "Errors should never pass silently.\n",
      "Unless explicitly silenced.\n",
      "In the face of ambiguity, refuse the temptation to guess.\n",
      "There should be one-- and preferably only one --obvious way to do it.\n",
      "Although that way may not be obvious at first unless you're Dutch.\n",
      "Now is better than never.\n",
      "Although never is often better than *right* now.\n",
      "If the implementation is hard to explain, it's a bad idea.\n",
      "If the implementation is easy to explain, it may be a good idea.\n",
      "Namespaces are one honking great idea -- let's do more of those!\n"
     ]
    }
   ],
   "source": [
    "import this"
   ]
  },
  {
   "cell_type": "code",
   "execution_count": 84,
   "id": "metric-blues",
   "metadata": {},
   "outputs": [
    {
     "data": {
      "text/plain": [
       "set"
      ]
     },
     "execution_count": 84,
     "metadata": {},
     "output_type": "execute_result"
    }
   ],
   "source": [
    "type({1,2,3})"
   ]
  },
  {
   "cell_type": "code",
   "execution_count": 85,
   "id": "forward-upgrade",
   "metadata": {},
   "outputs": [
    {
     "data": {
      "text/plain": [
       "list"
      ]
     },
     "execution_count": 85,
     "metadata": {},
     "output_type": "execute_result"
    }
   ],
   "source": [
    "type(sorted({1, 3, 2}))"
   ]
  },
  {
   "cell_type": "code",
   "execution_count": 92,
   "id": "respected-mistake",
   "metadata": {},
   "outputs": [],
   "source": [
    "set1 = {i for i in range(50) if i % 2 == 0}\n",
    "set2 = {i for i in range(50) if i % 3 == 0}"
   ]
  },
  {
   "cell_type": "code",
   "execution_count": 97,
   "id": "manual-circle",
   "metadata": {},
   "outputs": [
    {
     "data": {
      "text/plain": [
       "{1, 5, 7, 11, 13, 17, 19, 23, 25, 29, 31, 35, 37, 41, 43, 47, 49}"
      ]
     },
     "execution_count": 97,
     "metadata": {},
     "output_type": "execute_result"
    }
   ],
   "source": [
    "set(range(50)) - (set1 | set2)"
   ]
  },
  {
   "cell_type": "code",
   "execution_count": 98,
   "id": "harmful-chance",
   "metadata": {},
   "outputs": [
    {
     "data": {
      "text/plain": [
       "'not ahaha no'"
      ]
     },
     "execution_count": 98,
     "metadata": {},
     "output_type": "execute_result"
    }
   ],
   "source": [
    "'%s ahaha %s' % ('not', 'no')"
   ]
  },
  {
   "cell_type": "code",
   "execution_count": 109,
   "id": "rotary-bacon",
   "metadata": {},
   "outputs": [],
   "source": [
    "my_dict = collections.namedtuple('nt', ['a', 'b'])"
   ]
  },
  {
   "cell_type": "code",
   "execution_count": 111,
   "id": "difficult-blogger",
   "metadata": {},
   "outputs": [],
   "source": [
    "tup = my_dict(1, 2)"
   ]
  },
  {
   "cell_type": "code",
   "execution_count": 115,
   "id": "conceptual-filename",
   "metadata": {},
   "outputs": [
    {
     "data": {
      "text/plain": [
       "'1 + 2 = ...'"
      ]
     },
     "execution_count": 115,
     "metadata": {},
     "output_type": "execute_result"
    }
   ],
   "source": [
    "'{some_obj.a} + {some_obj.b} = ...'.format(some_obj=tup)"
   ]
  },
  {
   "cell_type": "code",
   "execution_count": 108,
   "id": "recent-speaking",
   "metadata": {},
   "outputs": [
    {
     "data": {
      "text/plain": [
       "2"
      ]
     },
     "execution_count": 108,
     "metadata": {},
     "output_type": "execute_result"
    }
   ],
   "source": [
    "my_dict['b']"
   ]
  },
  {
   "cell_type": "code",
   "execution_count": 120,
   "id": "architectural-feeding",
   "metadata": {},
   "outputs": [
    {
     "data": {
      "text/plain": [
       "'1 + 2 = 3'"
      ]
     },
     "execution_count": 120,
     "metadata": {},
     "output_type": "execute_result"
    }
   ],
   "source": [
    "f'{tup.a} + {tup.b} = {tup.a + tup.b}'"
   ]
  },
  {
   "cell_type": "code",
   "execution_count": 4,
   "id": "warming-figure",
   "metadata": {},
   "outputs": [],
   "source": [
    "import collections"
   ]
  },
  {
   "cell_type": "code",
   "execution_count": 8,
   "id": "therapeutic-dressing",
   "metadata": {},
   "outputs": [
    {
     "data": {
      "text/plain": [
       "3"
      ]
     },
     "execution_count": 8,
     "metadata": {},
     "output_type": "execute_result"
    }
   ],
   "source": [
    "len(collections.Counter([3, 2, 3, 1, 2, 1, 2]))"
   ]
  },
  {
   "cell_type": "code",
   "execution_count": 1,
   "id": "dress-contractor",
   "metadata": {},
   "outputs": [],
   "source": [
    "a = [1, 2, 3]"
   ]
  },
  {
   "cell_type": "code",
   "execution_count": 3,
   "id": "established-fancy",
   "metadata": {},
   "outputs": [
    {
     "name": "stdout",
     "output_type": "stream",
     "text": [
      "1\n",
      "2\n",
      "3\n"
     ]
    },
    {
     "data": {
      "text/plain": [
       "[None, None, None]"
      ]
     },
     "execution_count": 3,
     "metadata": {},
     "output_type": "execute_result"
    }
   ],
   "source": []
  },
  {
   "cell_type": "code",
   "execution_count": null,
   "id": "digital-college",
   "metadata": {},
   "outputs": [],
   "source": []
  },
  {
   "cell_type": "code",
   "execution_count": null,
   "id": "floating-young",
   "metadata": {},
   "outputs": [],
   "source": []
  },
  {
   "cell_type": "code",
   "execution_count": null,
   "id": "entitled-christianity",
   "metadata": {},
   "outputs": [],
   "source": []
  },
  {
   "cell_type": "code",
   "execution_count": 5,
   "id": "political-claim",
   "metadata": {},
   "outputs": [],
   "source": [
    "import functools\n",
    "import itertools"
   ]
  },
  {
   "cell_type": "code",
   "execution_count": 2,
   "id": "monetary-proceeding",
   "metadata": {},
   "outputs": [],
   "source": [
    "fun_1 = functools.partial(int, '1')"
   ]
  },
  {
   "cell_type": "code",
   "execution_count": 3,
   "id": "express-familiar",
   "metadata": {},
   "outputs": [
    {
     "data": {
      "text/plain": [
       "functools.partial"
      ]
     },
     "execution_count": 3,
     "metadata": {},
     "output_type": "execute_result"
    }
   ],
   "source": [
    "type(fun_1)"
   ]
  },
  {
   "cell_type": "code",
   "execution_count": 4,
   "id": "strange-elephant",
   "metadata": {},
   "outputs": [
    {
     "data": {
      "text/plain": [
       "1"
      ]
     },
     "execution_count": 4,
     "metadata": {},
     "output_type": "execute_result"
    }
   ],
   "source": [
    "fun_1()"
   ]
  },
  {
   "cell_type": "code",
   "execution_count": 25,
   "id": "antique-celebration",
   "metadata": {},
   "outputs": [
    {
     "data": {
      "text/plain": [
       "3.141514110828136"
      ]
     },
     "execution_count": 25,
     "metadata": {},
     "output_type": "execute_result"
    }
   ],
   "source": [
    "functools.reduce(lambda acc, curr: acc * (4 * curr**2) / (4 * curr**2 - 1), [n for n in range(1, 10000)], 2)"
   ]
  },
  {
   "cell_type": "code",
   "execution_count": 2,
   "id": "hawaiian-period",
   "metadata": {},
   "outputs": [
    {
     "data": {
      "text/plain": [
       "[(0, 0), (1, 0), (2, 0)]"
      ]
     },
     "execution_count": 2,
     "metadata": {},
     "output_type": "execute_result"
    }
   ],
   "source": [
    "list(enumerate([0,0,0]))"
   ]
  },
  {
   "cell_type": "code",
   "execution_count": 6,
   "id": "prompt-constitution",
   "metadata": {},
   "outputs": [],
   "source": [
    "rep_1 = itertools.repeat(1)"
   ]
  },
  {
   "cell_type": "code",
   "execution_count": 10,
   "id": "different-trade",
   "metadata": {},
   "outputs": [],
   "source": [
    "s = sum((next(rep_1) for i in range(10000)))"
   ]
  },
  {
   "cell_type": "code",
   "execution_count": 11,
   "id": "helpful-physics",
   "metadata": {},
   "outputs": [
    {
     "data": {
      "text/plain": [
       "10000"
      ]
     },
     "execution_count": 11,
     "metadata": {},
     "output_type": "execute_result"
    }
   ],
   "source": [
    "s"
   ]
  },
  {
   "cell_type": "code",
   "execution_count": 26,
   "id": "optical-regular",
   "metadata": {},
   "outputs": [],
   "source": [
    "class A:\n",
    "    def __init__(self):\n",
    "        self.a = 'a'\n",
    "        \n",
    "class B(A):\n",
    "    def __init__(self):\n",
    "        self.b = 'b'"
   ]
  },
  {
   "cell_type": "code",
   "execution_count": 27,
   "id": "continuous-explanation",
   "metadata": {},
   "outputs": [],
   "source": [
    "b_obj = B()"
   ]
  },
  {
   "cell_type": "code",
   "execution_count": 29,
   "id": "fuzzy-family",
   "metadata": {},
   "outputs": [],
   "source": [
    "super(B, b_obj).__init__()"
   ]
  },
  {
   "cell_type": "code",
   "execution_count": 30,
   "id": "gorgeous-cover",
   "metadata": {},
   "outputs": [
    {
     "data": {
      "text/plain": [
       "'a'"
      ]
     },
     "execution_count": 30,
     "metadata": {},
     "output_type": "execute_result"
    }
   ],
   "source": [
    "b_obj.a"
   ]
  },
  {
   "cell_type": "code",
   "execution_count": 33,
   "id": "respected-venue",
   "metadata": {},
   "outputs": [],
   "source": [
    "from collections import namedtuple"
   ]
  },
  {
   "cell_type": "code",
   "execution_count": 34,
   "id": "educated-healthcare",
   "metadata": {},
   "outputs": [],
   "source": [
    "s = namedtuple('s', ['a', 'b'])"
   ]
  },
  {
   "cell_type": "code",
   "execution_count": 37,
   "id": "delayed-divorce",
   "metadata": {},
   "outputs": [],
   "source": [
    "ss = s(*[1, 2])"
   ]
  },
  {
   "cell_type": "code",
   "execution_count": 42,
   "id": "greek-association",
   "metadata": {},
   "outputs": [
    {
     "data": {
      "text/plain": [
       "1"
      ]
     },
     "execution_count": 42,
     "metadata": {},
     "output_type": "execute_result"
    }
   ],
   "source": [
    "ss.a"
   ]
  },
  {
   "cell_type": "code",
   "execution_count": 41,
   "id": "collectible-syntax",
   "metadata": {},
   "outputs": [
    {
     "data": {
      "text/plain": [
       "['aaa', 'aaa']"
      ]
     },
     "execution_count": 41,
     "metadata": {},
     "output_type": "execute_result"
    }
   ],
   "source": [
    "import re\n",
    "re.split(r'\\s+', 'aaa    aaa')"
   ]
  },
  {
   "cell_type": "code",
   "execution_count": 46,
   "id": "numerous-calculation",
   "metadata": {},
   "outputs": [
    {
     "ename": "SyntaxError",
     "evalue": "can't use starred expression here (<ipython-input-46-93ec4de52a05>, line 1)",
     "output_type": "error",
     "traceback": [
      "\u001b[1;36m  File \u001b[1;32m\"<ipython-input-46-93ec4de52a05>\"\u001b[1;36m, line \u001b[1;32m1\u001b[0m\n\u001b[1;33m    (*[1, 2, 3])\u001b[0m\n\u001b[1;37m     ^\u001b[0m\n\u001b[1;31mSyntaxError\u001b[0m\u001b[1;31m:\u001b[0m can't use starred expression here\n"
     ]
    }
   ],
   "source": [
    "(*[1, 2, 3])"
   ]
  },
  {
   "cell_type": "code",
   "execution_count": 48,
   "id": "mechanical-webster",
   "metadata": {},
   "outputs": [
    {
     "name": "stdout",
     "output_type": "stream",
     "text": [
      "decorated\n",
      "Описание функции.\n",
      "wrapper\n",
      "Описание обёртки.\n"
     ]
    }
   ],
   "source": [
    "from functools import wraps\n",
    "\n",
    "\n",
    "def decorator(func):   \n",
    "    @wraps(func)\n",
    "    def wrapper():\n",
    "        \"\"\"Описание обёртки.\"\"\"\n",
    "        return func()\n",
    "    return wrapper\n",
    "\n",
    "\n",
    "@decorator\n",
    "def decorated():\n",
    "    \"\"\"Описание функции.\"\"\"\n",
    "\n",
    "\n",
    "print(decorated.__name__)  # decorated\n",
    "print(decorated.__doc__)  # Описание функции.\n",
    "\n",
    "\n",
    "# А если не использовать wraps, то получим следующее:\n",
    "\n",
    "def decorator_nowraps(func):\n",
    "    def wrapper():\n",
    "        \"\"\"Описание обёртки.\"\"\"\n",
    "        return func()\n",
    "    return wrapper\n",
    "\n",
    "\n",
    "@decorator_nowraps\n",
    "def decorated():\n",
    "    \"\"\"Описание функции.\"\"\"\n",
    "\n",
    "\n",
    "print(decorated.__name__)  # wrapper\n",
    "print(decorated.__doc__)  # Описание обёртки."
   ]
  },
  {
   "cell_type": "code",
   "execution_count": 49,
   "id": "sublime-bridge",
   "metadata": {},
   "outputs": [],
   "source": [
    "a, b = [1, 2]"
   ]
  },
  {
   "cell_type": "code",
   "execution_count": 50,
   "id": "together-ethernet",
   "metadata": {},
   "outputs": [
    {
     "data": {
      "text/plain": [
       "(1, 2)"
      ]
     },
     "execution_count": 50,
     "metadata": {},
     "output_type": "execute_result"
    }
   ],
   "source": [
    "a, b"
   ]
  },
  {
   "cell_type": "code",
   "execution_count": 53,
   "id": "killing-light",
   "metadata": {},
   "outputs": [],
   "source": [
    "def f():\n",
    "    pass\n",
    "f(*[])"
   ]
  },
  {
   "cell_type": "code",
   "execution_count": 54,
   "id": "express-fishing",
   "metadata": {},
   "outputs": [
    {
     "data": {
      "text/plain": [
       "[]"
      ]
     },
     "execution_count": 54,
     "metadata": {},
     "output_type": "execute_result"
    }
   ],
   "source": [
    "a = [1]\n",
    "a[:-1]"
   ]
  },
  {
   "cell_type": "code",
   "execution_count": 57,
   "id": "breeding-sample",
   "metadata": {},
   "outputs": [
    {
     "name": "stdout",
     "output_type": "stream",
     "text": [
      "12\n",
      "insert 0 5\n",
      "insert\n",
      "['insert', '0', '5']\n"
     ]
    },
    {
     "ename": "ValueError",
     "evalue": "invalid literal for int() with base 10: 'i'",
     "output_type": "error",
     "traceback": [
      "\u001b[1;31m---------------------------------------------------------------------------\u001b[0m",
      "\u001b[1;31mValueError\u001b[0m                                Traceback (most recent call last)",
      "\u001b[1;32m<ipython-input-57-d7ab95d45bf0>\u001b[0m in \u001b[0;36m<module>\u001b[1;34m\u001b[0m\n\u001b[0;32m     15\u001b[0m     \u001b[0mprint\u001b[0m\u001b[1;33m(\u001b[0m\u001b[0mcommand\u001b[0m\u001b[1;33m)\u001b[0m\u001b[1;33m\u001b[0m\u001b[1;33m\u001b[0m\u001b[0m\n\u001b[0;32m     16\u001b[0m     \u001b[0mprint\u001b[0m\u001b[1;33m(\u001b[0m\u001b[0ms\u001b[0m\u001b[1;33m)\u001b[0m\u001b[1;33m\u001b[0m\u001b[1;33m\u001b[0m\u001b[0m\n\u001b[1;32m---> 17\u001b[1;33m     \u001b[0mfuncs\u001b[0m\u001b[1;33m[\u001b[0m\u001b[0mcommand\u001b[0m\u001b[1;33m]\u001b[0m\u001b[1;33m(\u001b[0m\u001b[1;33m*\u001b[0m\u001b[0mmap\u001b[0m\u001b[1;33m(\u001b[0m\u001b[0mint\u001b[0m\u001b[1;33m,\u001b[0m \u001b[0ms\u001b[0m\u001b[1;33m[\u001b[0m\u001b[1;33m:\u001b[0m\u001b[1;33m:\u001b[0m\u001b[1;33m-\u001b[0m\u001b[1;36m1\u001b[0m\u001b[1;33m]\u001b[0m\u001b[1;33m[\u001b[0m\u001b[1;33m-\u001b[0m\u001b[1;36m1\u001b[0m\u001b[1;33m]\u001b[0m\u001b[1;33m)\u001b[0m\u001b[1;33m)\u001b[0m\u001b[1;33m\u001b[0m\u001b[1;33m\u001b[0m\u001b[0m\n\u001b[0m",
      "\u001b[1;31mValueError\u001b[0m: invalid literal for int() with base 10: 'i'"
     ]
    }
   ],
   "source": [
    "l = []\n",
    "n = int(input())\n",
    "funcs = {\n",
    "    'insert': l.insert,\n",
    "    'print': lambda : print(l),\n",
    "    'remove': l.remove,\n",
    "    'append': l.append,\n",
    "    'sort': lambda: l.sort(),\n",
    "    'pop': l.pop,\n",
    "    'reverse': l.reverse\n",
    "}\n",
    "for i in range(n):\n",
    "    s = input().split(' ')\n",
    "    command = s[0]\n",
    "    print(command)\n",
    "    funcs[command](*map(int, s[::-1][:-1]))\n"
   ]
  },
  {
   "cell_type": "code",
   "execution_count": 58,
   "id": "looking-packet",
   "metadata": {},
   "outputs": [
    {
     "data": {
      "text/plain": [
       "[]"
      ]
     },
     "execution_count": 58,
     "metadata": {},
     "output_type": "execute_result"
    }
   ],
   "source": [
    "[1,2,3][1000:]"
   ]
  },
  {
   "cell_type": "code",
   "execution_count": null,
   "id": "unexpected-congo",
   "metadata": {},
   "outputs": [],
   "source": []
  }
 ],
 "metadata": {
  "kernelspec": {
   "display_name": "Python 3",
   "language": "python",
   "name": "python3"
  },
  "language_info": {
   "codemirror_mode": {
    "name": "ipython",
    "version": 3
   },
   "file_extension": ".py",
   "mimetype": "text/x-python",
   "name": "python",
   "nbconvert_exporter": "python",
   "pygments_lexer": "ipython3",
   "version": "3.9.0"
  }
 },
 "nbformat": 4,
 "nbformat_minor": 5
}
