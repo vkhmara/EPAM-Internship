{
 "cells": [
  {
   "cell_type": "code",
   "execution_count": 99,
   "id": "postal-ticket",
   "metadata": {
    "ExecuteTime": {
     "end_time": "2021-10-01T09:04:56.806472Z",
     "start_time": "2021-10-01T09:04:56.783510Z"
    }
   },
   "outputs": [],
   "source": [
    "import numpy as np\n",
    "import pandas as pd\n",
    "import datetime\n",
    "import matplotlib.pyplot as plt\n",
    "from sklearn.tree import DecisionTreeRegressor\n",
    "from sklearn.ensemble import RandomForestRegressor, GradientBoostingRegressor\n",
    "from itertools import product"
   ]
  },
  {
   "cell_type": "code",
   "execution_count": 2,
   "id": "least-logic",
   "metadata": {
    "ExecuteTime": {
     "end_time": "2021-10-01T06:05:20.103658Z",
     "start_time": "2021-10-01T06:05:13.571996Z"
    }
   },
   "outputs": [],
   "source": [
    "item_categories = pd.read_csv('data/item_categories.csv', index_col='item_category_id')\n",
    "items = pd.read_csv('data/items.csv', index_col='item_id')\n",
    "shops = pd.read_csv('data/shops.csv', index_col='shop_id')\n",
    "train_df = pd.read_csv('data/train_dataset.csv')\n",
    "test_df = pd.read_csv('data/test_dataset.csv')"
   ]
  },
  {
   "cell_type": "code",
   "execution_count": 54,
   "id": "annual-familiar",
   "metadata": {
    "ExecuteTime": {
     "end_time": "2021-09-30T13:42:23.163833Z",
     "start_time": "2021-09-30T13:42:23.107844Z"
    },
    "scrolled": true
   },
   "outputs": [
    {
     "data": {
      "text/html": [
       "<div>\n",
       "<style scoped>\n",
       "    .dataframe tbody tr th:only-of-type {\n",
       "        vertical-align: middle;\n",
       "    }\n",
       "\n",
       "    .dataframe tbody tr th {\n",
       "        vertical-align: top;\n",
       "    }\n",
       "\n",
       "    .dataframe thead th {\n",
       "        text-align: right;\n",
       "    }\n",
       "</style>\n",
       "<table border=\"1\" class=\"dataframe\">\n",
       "  <thead>\n",
       "    <tr style=\"text-align: right;\">\n",
       "      <th></th>\n",
       "      <th>date</th>\n",
       "      <th>date_block_num</th>\n",
       "      <th>shop_id</th>\n",
       "      <th>item_id</th>\n",
       "      <th>item_price</th>\n",
       "      <th>item_cnt_day</th>\n",
       "      <th>item_category_id</th>\n",
       "      <th>total_income</th>\n",
       "      <th>days</th>\n",
       "      <th>weeks</th>\n",
       "    </tr>\n",
       "  </thead>\n",
       "  <tbody>\n",
       "    <tr>\n",
       "      <th>0</th>\n",
       "      <td>2013-01-01</td>\n",
       "      <td>0</td>\n",
       "      <td>18</td>\n",
       "      <td>5823</td>\n",
       "      <td>2500.0</td>\n",
       "      <td>1.0</td>\n",
       "      <td>35</td>\n",
       "      <td>2500.0</td>\n",
       "      <td>0</td>\n",
       "      <td>0</td>\n",
       "    </tr>\n",
       "    <tr>\n",
       "      <th>1</th>\n",
       "      <td>2013-01-01</td>\n",
       "      <td>0</td>\n",
       "      <td>27</td>\n",
       "      <td>5573</td>\n",
       "      <td>849.0</td>\n",
       "      <td>1.0</td>\n",
       "      <td>2</td>\n",
       "      <td>849.0</td>\n",
       "      <td>0</td>\n",
       "      <td>0</td>\n",
       "    </tr>\n",
       "    <tr>\n",
       "      <th>2</th>\n",
       "      <td>2013-01-01</td>\n",
       "      <td>0</td>\n",
       "      <td>7</td>\n",
       "      <td>1006</td>\n",
       "      <td>399.0</td>\n",
       "      <td>1.0</td>\n",
       "      <td>67</td>\n",
       "      <td>399.0</td>\n",
       "      <td>0</td>\n",
       "      <td>0</td>\n",
       "    </tr>\n",
       "    <tr>\n",
       "      <th>3</th>\n",
       "      <td>2013-01-01</td>\n",
       "      <td>0</td>\n",
       "      <td>19</td>\n",
       "      <td>17707</td>\n",
       "      <td>899.0</td>\n",
       "      <td>1.0</td>\n",
       "      <td>19</td>\n",
       "      <td>899.0</td>\n",
       "      <td>0</td>\n",
       "      <td>0</td>\n",
       "    </tr>\n",
       "    <tr>\n",
       "      <th>4</th>\n",
       "      <td>2013-01-01</td>\n",
       "      <td>0</td>\n",
       "      <td>14</td>\n",
       "      <td>19548</td>\n",
       "      <td>149.0</td>\n",
       "      <td>1.0</td>\n",
       "      <td>40</td>\n",
       "      <td>149.0</td>\n",
       "      <td>0</td>\n",
       "      <td>0</td>\n",
       "    </tr>\n",
       "  </tbody>\n",
       "</table>\n",
       "</div>"
      ],
      "text/plain": [
       "         date  date_block_num  shop_id  item_id  item_price  item_cnt_day  \\\n",
       "0  2013-01-01               0       18     5823      2500.0           1.0   \n",
       "1  2013-01-01               0       27     5573       849.0           1.0   \n",
       "2  2013-01-01               0        7     1006       399.0           1.0   \n",
       "3  2013-01-01               0       19    17707       899.0           1.0   \n",
       "4  2013-01-01               0       14    19548       149.0           1.0   \n",
       "\n",
       "   item_category_id  total_income  days  weeks  \n",
       "0                35        2500.0     0      0  \n",
       "1                 2         849.0     0      0  \n",
       "2                67         399.0     0      0  \n",
       "3                19         899.0     0      0  \n",
       "4                40         149.0     0      0  "
      ]
     },
     "execution_count": 54,
     "metadata": {},
     "output_type": "execute_result"
    }
   ],
   "source": [
    "train_df.head()"
   ]
  },
  {
   "cell_type": "code",
   "execution_count": 3,
   "id": "electoral-interpretation",
   "metadata": {
    "ExecuteTime": {
     "end_time": "2021-10-01T06:05:34.242643Z",
     "start_time": "2021-10-01T06:05:29.362566Z"
    }
   },
   "outputs": [],
   "source": [
    "train_sales = train_df.groupby(['shop_id', 'item_id', 'date_block_num']).agg({'item_cnt_day': 'sum', 'item_category_id': 'mean'}).reset_index()\n",
    "test_sales = test_df.groupby(['shop_id', 'item_id', 'date_block_num']).agg({'item_cnt_day': 'sum', 'item_category_id': 'mean'}).reset_index()"
   ]
  },
  {
   "cell_type": "code",
   "execution_count": 43,
   "id": "quick-provider",
   "metadata": {
    "ExecuteTime": {
     "end_time": "2021-10-01T06:26:39.628910Z",
     "start_time": "2021-10-01T06:26:34.462265Z"
    }
   },
   "outputs": [
    {
     "data": {
      "text/html": [
       "<div>\n",
       "<style scoped>\n",
       "    .dataframe tbody tr th:only-of-type {\n",
       "        vertical-align: middle;\n",
       "    }\n",
       "\n",
       "    .dataframe tbody tr th {\n",
       "        vertical-align: top;\n",
       "    }\n",
       "\n",
       "    .dataframe thead th {\n",
       "        text-align: right;\n",
       "    }\n",
       "</style>\n",
       "<table border=\"1\" class=\"dataframe\">\n",
       "  <thead>\n",
       "    <tr style=\"text-align: right;\">\n",
       "      <th></th>\n",
       "      <th>shop_id</th>\n",
       "      <th>item_id</th>\n",
       "      <th>date_block_num</th>\n",
       "      <th>item_cnt_day</th>\n",
       "      <th>item_category_id</th>\n",
       "    </tr>\n",
       "  </thead>\n",
       "  <tbody>\n",
       "    <tr>\n",
       "      <th>0</th>\n",
       "      <td>0</td>\n",
       "      <td>30</td>\n",
       "      <td>1</td>\n",
       "      <td>31.0</td>\n",
       "      <td>40</td>\n",
       "    </tr>\n",
       "    <tr>\n",
       "      <th>1</th>\n",
       "      <td>0</td>\n",
       "      <td>31</td>\n",
       "      <td>1</td>\n",
       "      <td>11.0</td>\n",
       "      <td>37</td>\n",
       "    </tr>\n",
       "    <tr>\n",
       "      <th>2</th>\n",
       "      <td>0</td>\n",
       "      <td>32</td>\n",
       "      <td>0</td>\n",
       "      <td>6.0</td>\n",
       "      <td>40</td>\n",
       "    </tr>\n",
       "    <tr>\n",
       "      <th>3</th>\n",
       "      <td>0</td>\n",
       "      <td>32</td>\n",
       "      <td>1</td>\n",
       "      <td>10.0</td>\n",
       "      <td>40</td>\n",
       "    </tr>\n",
       "    <tr>\n",
       "      <th>4</th>\n",
       "      <td>0</td>\n",
       "      <td>33</td>\n",
       "      <td>0</td>\n",
       "      <td>3.0</td>\n",
       "      <td>37</td>\n",
       "    </tr>\n",
       "    <tr>\n",
       "      <th>...</th>\n",
       "      <td>...</td>\n",
       "      <td>...</td>\n",
       "      <td>...</td>\n",
       "      <td>...</td>\n",
       "      <td>...</td>\n",
       "    </tr>\n",
       "    <tr>\n",
       "      <th>1577588</th>\n",
       "      <td>59</td>\n",
       "      <td>22164</td>\n",
       "      <td>27</td>\n",
       "      <td>2.0</td>\n",
       "      <td>37</td>\n",
       "    </tr>\n",
       "    <tr>\n",
       "      <th>1577589</th>\n",
       "      <td>59</td>\n",
       "      <td>22164</td>\n",
       "      <td>30</td>\n",
       "      <td>1.0</td>\n",
       "      <td>37</td>\n",
       "    </tr>\n",
       "    <tr>\n",
       "      <th>1577590</th>\n",
       "      <td>59</td>\n",
       "      <td>22167</td>\n",
       "      <td>9</td>\n",
       "      <td>1.0</td>\n",
       "      <td>49</td>\n",
       "    </tr>\n",
       "    <tr>\n",
       "      <th>1577591</th>\n",
       "      <td>59</td>\n",
       "      <td>22167</td>\n",
       "      <td>11</td>\n",
       "      <td>2.0</td>\n",
       "      <td>49</td>\n",
       "    </tr>\n",
       "    <tr>\n",
       "      <th>1577592</th>\n",
       "      <td>59</td>\n",
       "      <td>22167</td>\n",
       "      <td>17</td>\n",
       "      <td>1.0</td>\n",
       "      <td>49</td>\n",
       "    </tr>\n",
       "  </tbody>\n",
       "</table>\n",
       "<p>1577593 rows × 5 columns</p>\n",
       "</div>"
      ],
      "text/plain": [
       "         shop_id  item_id  date_block_num  item_cnt_day  item_category_id\n",
       "0              0       30               1          31.0                40\n",
       "1              0       31               1          11.0                37\n",
       "2              0       32               0           6.0                40\n",
       "3              0       32               1          10.0                40\n",
       "4              0       33               0           3.0                37\n",
       "...          ...      ...             ...           ...               ...\n",
       "1577588       59    22164              27           2.0                37\n",
       "1577589       59    22164              30           1.0                37\n",
       "1577590       59    22167               9           1.0                49\n",
       "1577591       59    22167              11           2.0                49\n",
       "1577592       59    22167              17           1.0                49\n",
       "\n",
       "[1577593 rows x 5 columns]"
      ]
     },
     "execution_count": 43,
     "metadata": {},
     "output_type": "execute_result"
    }
   ],
   "source": [
    "train_df.groupby(['shop_id', 'item_id', 'date_block_num']).agg({'item_cnt_day': 'sum', 'item_category_id': 'mean'}).reset_index()"
   ]
  },
  {
   "cell_type": "code",
   "execution_count": null,
   "id": "primary-exclusive",
   "metadata": {},
   "outputs": [],
   "source": []
  },
  {
   "cell_type": "code",
   "execution_count": 71,
   "id": "close-massachusetts",
   "metadata": {
    "ExecuteTime": {
     "end_time": "2021-10-01T06:45:33.935356Z",
     "start_time": "2021-10-01T06:45:29.842008Z"
    }
   },
   "outputs": [],
   "source": [
    "train_sales = pd.read_csv('data/sales_train.csv')"
   ]
  },
  {
   "cell_type": "code",
   "execution_count": 72,
   "id": "naval-partnership",
   "metadata": {
    "ExecuteTime": {
     "end_time": "2021-10-01T06:45:36.839768Z",
     "start_time": "2021-10-01T06:45:33.949332Z"
    }
   },
   "outputs": [],
   "source": [
    "train_sales = train_sales.groupby(['shop_id', 'item_id', 'date_block_num']).agg({'item_cnt_day': 'sum'}).reset_index()"
   ]
  },
  {
   "cell_type": "code",
   "execution_count": 39,
   "id": "infrared-software",
   "metadata": {
    "ExecuteTime": {
     "end_time": "2021-10-01T06:16:04.219602Z",
     "start_time": "2021-10-01T06:16:03.482717Z"
    }
   },
   "outputs": [
    {
     "data": {
      "text/html": [
       "<div>\n",
       "<style scoped>\n",
       "    .dataframe tbody tr th:only-of-type {\n",
       "        vertical-align: middle;\n",
       "    }\n",
       "\n",
       "    .dataframe tbody tr th {\n",
       "        vertical-align: top;\n",
       "    }\n",
       "\n",
       "    .dataframe thead th {\n",
       "        text-align: right;\n",
       "    }\n",
       "</style>\n",
       "<table border=\"1\" class=\"dataframe\">\n",
       "  <thead>\n",
       "    <tr style=\"text-align: right;\">\n",
       "      <th></th>\n",
       "      <th></th>\n",
       "      <th></th>\n",
       "      <th>item_cnt_day</th>\n",
       "      <th>item_name</th>\n",
       "      <th>item_category_id</th>\n",
       "    </tr>\n",
       "    <tr>\n",
       "      <th>shop_id</th>\n",
       "      <th>item_id</th>\n",
       "      <th>date_block_num</th>\n",
       "      <th></th>\n",
       "      <th></th>\n",
       "      <th></th>\n",
       "    </tr>\n",
       "  </thead>\n",
       "  <tbody>\n",
       "    <tr>\n",
       "      <th rowspan=\"5\" valign=\"top\">0</th>\n",
       "      <th>30</th>\n",
       "      <th>1</th>\n",
       "      <td>31.0</td>\n",
       "      <td>007: КООРДИНАТЫ «СКАЙФОЛЛ»</td>\n",
       "      <td>40</td>\n",
       "    </tr>\n",
       "    <tr>\n",
       "      <th>31</th>\n",
       "      <th>1</th>\n",
       "      <td>11.0</td>\n",
       "      <td>007: КООРДИНАТЫ «СКАЙФОЛЛ» (BD)</td>\n",
       "      <td>37</td>\n",
       "    </tr>\n",
       "    <tr>\n",
       "      <th rowspan=\"2\" valign=\"top\">32</th>\n",
       "      <th>0</th>\n",
       "      <td>6.0</td>\n",
       "      <td>1+1</td>\n",
       "      <td>40</td>\n",
       "    </tr>\n",
       "    <tr>\n",
       "      <th>1</th>\n",
       "      <td>10.0</td>\n",
       "      <td>1+1</td>\n",
       "      <td>40</td>\n",
       "    </tr>\n",
       "    <tr>\n",
       "      <th>33</th>\n",
       "      <th>0</th>\n",
       "      <td>3.0</td>\n",
       "      <td>1+1 (BD)</td>\n",
       "      <td>37</td>\n",
       "    </tr>\n",
       "    <tr>\n",
       "      <th>...</th>\n",
       "      <th>...</th>\n",
       "      <th>...</th>\n",
       "      <td>...</td>\n",
       "      <td>...</td>\n",
       "      <td>...</td>\n",
       "    </tr>\n",
       "    <tr>\n",
       "      <th rowspan=\"5\" valign=\"top\">59</th>\n",
       "      <th rowspan=\"2\" valign=\"top\">22164</th>\n",
       "      <th>27</th>\n",
       "      <td>2.0</td>\n",
       "      <td>ЯРОСТЬ (BD)</td>\n",
       "      <td>37</td>\n",
       "    </tr>\n",
       "    <tr>\n",
       "      <th>30</th>\n",
       "      <td>1.0</td>\n",
       "      <td>ЯРОСТЬ (BD)</td>\n",
       "      <td>37</td>\n",
       "    </tr>\n",
       "    <tr>\n",
       "      <th rowspan=\"3\" valign=\"top\">22167</th>\n",
       "      <th>9</th>\n",
       "      <td>1.0</td>\n",
       "      <td>Язык запросов 1С:Предприятия 8 (+CD). Хрустале...</td>\n",
       "      <td>49</td>\n",
       "    </tr>\n",
       "    <tr>\n",
       "      <th>11</th>\n",
       "      <td>2.0</td>\n",
       "      <td>Язык запросов 1С:Предприятия 8 (+CD). Хрустале...</td>\n",
       "      <td>49</td>\n",
       "    </tr>\n",
       "    <tr>\n",
       "      <th>17</th>\n",
       "      <td>1.0</td>\n",
       "      <td>Язык запросов 1С:Предприятия 8 (+CD). Хрустале...</td>\n",
       "      <td>49</td>\n",
       "    </tr>\n",
       "  </tbody>\n",
       "</table>\n",
       "<p>1609124 rows × 3 columns</p>\n",
       "</div>"
      ],
      "text/plain": [
       "                                item_cnt_day  \\\n",
       "shop_id item_id date_block_num                 \n",
       "0       30      1                       31.0   \n",
       "        31      1                       11.0   \n",
       "        32      0                        6.0   \n",
       "                1                       10.0   \n",
       "        33      0                        3.0   \n",
       "...                                      ...   \n",
       "59      22164   27                       2.0   \n",
       "                30                       1.0   \n",
       "        22167   9                        1.0   \n",
       "                11                       2.0   \n",
       "                17                       1.0   \n",
       "\n",
       "                                                                        item_name  \\\n",
       "shop_id item_id date_block_num                                                      \n",
       "0       30      1                                      007: КООРДИНАТЫ «СКАЙФОЛЛ»   \n",
       "        31      1                                 007: КООРДИНАТЫ «СКАЙФОЛЛ» (BD)   \n",
       "        32      0                                                             1+1   \n",
       "                1                                                             1+1   \n",
       "        33      0                                                        1+1 (BD)   \n",
       "...                                                                           ...   \n",
       "59      22164   27                                                    ЯРОСТЬ (BD)   \n",
       "                30                                                    ЯРОСТЬ (BD)   \n",
       "        22167   9               Язык запросов 1С:Предприятия 8 (+CD). Хрустале...   \n",
       "                11              Язык запросов 1С:Предприятия 8 (+CD). Хрустале...   \n",
       "                17              Язык запросов 1С:Предприятия 8 (+CD). Хрустале...   \n",
       "\n",
       "                                item_category_id  \n",
       "shop_id item_id date_block_num                    \n",
       "0       30      1                             40  \n",
       "        31      1                             37  \n",
       "        32      0                             40  \n",
       "                1                             40  \n",
       "        33      0                             37  \n",
       "...                                          ...  \n",
       "59      22164   27                            37  \n",
       "                30                            37  \n",
       "        22167   9                             49  \n",
       "                11                            49  \n",
       "                17                            49  \n",
       "\n",
       "[1609124 rows x 3 columns]"
      ]
     },
     "execution_count": 39,
     "metadata": {},
     "output_type": "execute_result"
    }
   ],
   "source": [
    "train_sales.set_index(['shop_id', 'item_id', 'date_block_num'])"
   ]
  },
  {
   "cell_type": "code",
   "execution_count": 41,
   "id": "soviet-morning",
   "metadata": {
    "ExecuteTime": {
     "end_time": "2021-10-01T06:24:24.290988Z",
     "start_time": "2021-10-01T06:24:24.274010Z"
    }
   },
   "outputs": [
    {
     "data": {
      "text/plain": [
       "44471014"
      ]
     },
     "execution_count": 41,
     "metadata": {},
     "output_type": "execute_result"
    }
   ],
   "source": [
    "59*22169*34"
   ]
  },
  {
   "cell_type": "code",
   "execution_count": 46,
   "id": "waiting-tumor",
   "metadata": {
    "ExecuteTime": {
     "end_time": "2021-10-01T06:33:50.732729Z",
     "start_time": "2021-10-01T06:33:12.331828Z"
    },
    "collapsed": true
   },
   "outputs": [
    {
     "data": {
      "text/html": [
       "<div>\n",
       "<style scoped>\n",
       "    .dataframe tbody tr th:only-of-type {\n",
       "        vertical-align: middle;\n",
       "    }\n",
       "\n",
       "    .dataframe tbody tr th {\n",
       "        vertical-align: top;\n",
       "    }\n",
       "\n",
       "    .dataframe thead th {\n",
       "        text-align: right;\n",
       "    }\n",
       "</style>\n",
       "<table border=\"1\" class=\"dataframe\">\n",
       "  <thead>\n",
       "    <tr style=\"text-align: right;\">\n",
       "      <th></th>\n",
       "      <th>date_block_num</th>\n",
       "      <th>shop_id</th>\n",
       "      <th>item_id</th>\n",
       "    </tr>\n",
       "  </thead>\n",
       "  <tbody>\n",
       "    <tr>\n",
       "      <th>0</th>\n",
       "      <td>1</td>\n",
       "      <td>0</td>\n",
       "      <td>30</td>\n",
       "    </tr>\n",
       "    <tr>\n",
       "      <th>1</th>\n",
       "      <td>1</td>\n",
       "      <td>0</td>\n",
       "      <td>31</td>\n",
       "    </tr>\n",
       "    <tr>\n",
       "      <th>2</th>\n",
       "      <td>1</td>\n",
       "      <td>0</td>\n",
       "      <td>32</td>\n",
       "    </tr>\n",
       "    <tr>\n",
       "      <th>3</th>\n",
       "      <td>1</td>\n",
       "      <td>0</td>\n",
       "      <td>33</td>\n",
       "    </tr>\n",
       "    <tr>\n",
       "      <th>4</th>\n",
       "      <td>1</td>\n",
       "      <td>0</td>\n",
       "      <td>35</td>\n",
       "    </tr>\n",
       "    <tr>\n",
       "      <th>...</th>\n",
       "      <td>...</td>\n",
       "      <td>...</td>\n",
       "      <td>...</td>\n",
       "    </tr>\n",
       "    <tr>\n",
       "      <th>10913845</th>\n",
       "      <td>29</td>\n",
       "      <td>59</td>\n",
       "      <td>5395</td>\n",
       "    </tr>\n",
       "    <tr>\n",
       "      <th>10913846</th>\n",
       "      <td>29</td>\n",
       "      <td>59</td>\n",
       "      <td>5865</td>\n",
       "    </tr>\n",
       "    <tr>\n",
       "      <th>10913847</th>\n",
       "      <td>29</td>\n",
       "      <td>59</td>\n",
       "      <td>7806</td>\n",
       "    </tr>\n",
       "    <tr>\n",
       "      <th>10913848</th>\n",
       "      <td>29</td>\n",
       "      <td>59</td>\n",
       "      <td>11876</td>\n",
       "    </tr>\n",
       "    <tr>\n",
       "      <th>10913849</th>\n",
       "      <td>29</td>\n",
       "      <td>59</td>\n",
       "      <td>12695</td>\n",
       "    </tr>\n",
       "  </tbody>\n",
       "</table>\n",
       "<p>10913850 rows × 3 columns</p>\n",
       "</div>"
      ],
      "text/plain": [
       "          date_block_num  shop_id  item_id\n",
       "0                      1        0       30\n",
       "1                      1        0       31\n",
       "2                      1        0       32\n",
       "3                      1        0       33\n",
       "4                      1        0       35\n",
       "...                  ...      ...      ...\n",
       "10913845              29       59     5395\n",
       "10913846              29       59     5865\n",
       "10913847              29       59     7806\n",
       "10913848              29       59    11876\n",
       "10913849              29       59    12695\n",
       "\n",
       "[10913850 rows x 3 columns]"
      ]
     },
     "execution_count": 46,
     "metadata": {},
     "output_type": "execute_result"
    }
   ],
   "source": [
    "train = []\n",
    "\n",
    "for i in train_sales['date_block_num'].unique():\n",
    "    all_shop = train_sales.loc[train_sales['date_block_num']==i, 'shop_id'].unique()\n",
    "    all_item = train_sales.loc[train_sales['date_block_num']==i, 'item_id'].unique()\n",
    "    train.append(np.array(list(product([i], all_shop, all_item))))\n",
    "\n",
    "idx_features = ['date_block_num', 'shop_id', 'item_id']\n",
    "train = pd.DataFrame(np.vstack(train), columns=idx_features)\n",
    "\n",
    "train"
   ]
  },
  {
   "cell_type": "code",
   "execution_count": 75,
   "id": "guided-rebel",
   "metadata": {
    "ExecuteTime": {
     "end_time": "2021-10-01T06:46:17.551637Z",
     "start_time": "2021-10-01T06:46:01.194334Z"
    }
   },
   "outputs": [],
   "source": [
    "all_sales = train.merge(train_sales, how='left', on=idx_features)"
   ]
  },
  {
   "cell_type": "code",
   "execution_count": 76,
   "id": "sharing-springfield",
   "metadata": {
    "ExecuteTime": {
     "end_time": "2021-10-01T06:46:17.630968Z",
     "start_time": "2021-10-01T06:46:17.551637Z"
    }
   },
   "outputs": [
    {
     "data": {
      "text/html": [
       "<div>\n",
       "<style scoped>\n",
       "    .dataframe tbody tr th:only-of-type {\n",
       "        vertical-align: middle;\n",
       "    }\n",
       "\n",
       "    .dataframe tbody tr th {\n",
       "        vertical-align: top;\n",
       "    }\n",
       "\n",
       "    .dataframe thead th {\n",
       "        text-align: right;\n",
       "    }\n",
       "</style>\n",
       "<table border=\"1\" class=\"dataframe\">\n",
       "  <thead>\n",
       "    <tr style=\"text-align: right;\">\n",
       "      <th></th>\n",
       "      <th>date_block_num</th>\n",
       "      <th>shop_id</th>\n",
       "      <th>item_id</th>\n",
       "      <th>item_cnt_day</th>\n",
       "    </tr>\n",
       "  </thead>\n",
       "  <tbody>\n",
       "    <tr>\n",
       "      <th>0</th>\n",
       "      <td>1</td>\n",
       "      <td>0</td>\n",
       "      <td>30</td>\n",
       "      <td>31.0</td>\n",
       "    </tr>\n",
       "    <tr>\n",
       "      <th>1</th>\n",
       "      <td>1</td>\n",
       "      <td>0</td>\n",
       "      <td>31</td>\n",
       "      <td>11.0</td>\n",
       "    </tr>\n",
       "    <tr>\n",
       "      <th>2</th>\n",
       "      <td>1</td>\n",
       "      <td>0</td>\n",
       "      <td>32</td>\n",
       "      <td>10.0</td>\n",
       "    </tr>\n",
       "    <tr>\n",
       "      <th>3</th>\n",
       "      <td>1</td>\n",
       "      <td>0</td>\n",
       "      <td>33</td>\n",
       "      <td>3.0</td>\n",
       "    </tr>\n",
       "    <tr>\n",
       "      <th>4</th>\n",
       "      <td>1</td>\n",
       "      <td>0</td>\n",
       "      <td>35</td>\n",
       "      <td>14.0</td>\n",
       "    </tr>\n",
       "  </tbody>\n",
       "</table>\n",
       "</div>"
      ],
      "text/plain": [
       "   date_block_num  shop_id  item_id  item_cnt_day\n",
       "0               1        0       30          31.0\n",
       "1               1        0       31          11.0\n",
       "2               1        0       32          10.0\n",
       "3               1        0       33           3.0\n",
       "4               1        0       35          14.0"
      ]
     },
     "execution_count": 76,
     "metadata": {},
     "output_type": "execute_result"
    }
   ],
   "source": [
    "all_sales.head()"
   ]
  },
  {
   "cell_type": "code",
   "execution_count": 77,
   "id": "conventional-copyright",
   "metadata": {
    "ExecuteTime": {
     "end_time": "2021-10-01T06:46:23.646676Z",
     "start_time": "2021-10-01T06:46:23.230494Z"
    }
   },
   "outputs": [
    {
     "name": "stdout",
     "output_type": "stream",
     "text": [
      "<class 'pandas.core.frame.DataFrame'>\n",
      "Int64Index: 10913850 entries, 0 to 10913849\n",
      "Data columns (total 4 columns):\n",
      " #   Column          Non-Null Count     Dtype  \n",
      "---  ------          --------------     -----  \n",
      " 0   date_block_num  10913850 non-null  int64  \n",
      " 1   shop_id         10913850 non-null  int64  \n",
      " 2   item_id         10913850 non-null  int64  \n",
      " 3   item_cnt_day    1609124 non-null   float64\n",
      "dtypes: float64(1), int64(3)\n",
      "memory usage: 416.3 MB\n"
     ]
    }
   ],
   "source": [
    "all_sales.info(null_counts=True)"
   ]
  },
  {
   "cell_type": "code",
   "execution_count": 79,
   "id": "alleged-marijuana",
   "metadata": {
    "ExecuteTime": {
     "end_time": "2021-10-01T06:46:55.008494Z",
     "start_time": "2021-10-01T06:46:44.871186Z"
    }
   },
   "outputs": [],
   "source": [
    "all_sales = all_sales.merge(items.drop(columns=['item_name']), how='left', on='item_id')"
   ]
  },
  {
   "cell_type": "code",
   "execution_count": 80,
   "id": "addressed-airplane",
   "metadata": {
    "ExecuteTime": {
     "end_time": "2021-10-01T06:47:03.136741Z",
     "start_time": "2021-10-01T06:47:02.865901Z"
    }
   },
   "outputs": [],
   "source": [
    "all_sales.fillna(value=0, inplace=True)"
   ]
  },
  {
   "cell_type": "code",
   "execution_count": 82,
   "id": "trying-actress",
   "metadata": {
    "ExecuteTime": {
     "end_time": "2021-10-01T06:47:18.078262Z",
     "start_time": "2021-10-01T06:47:15.345010Z"
    }
   },
   "outputs": [
    {
     "name": "stdout",
     "output_type": "stream",
     "text": [
      "<class 'pandas.core.frame.DataFrame'>\n",
      "Int64Index: 10913850 entries, 0 to 10913849\n",
      "Data columns (total 5 columns):\n",
      " #   Column            Non-Null Count     Dtype  \n",
      "---  ------            --------------     -----  \n",
      " 0   date_block_num    10913850 non-null  int64  \n",
      " 1   shop_id           10913850 non-null  int64  \n",
      " 2   item_id           10913850 non-null  int64  \n",
      " 3   item_cnt_day      10913850 non-null  float64\n",
      " 4   item_category_id  10913850 non-null  int64  \n",
      "dtypes: float64(1), int64(4)\n",
      "memory usage: 499.6 MB\n"
     ]
    }
   ],
   "source": [
    "all_sales.info(null_counts=True)"
   ]
  },
  {
   "cell_type": "code",
   "execution_count": null,
   "id": "former-prince",
   "metadata": {},
   "outputs": [],
   "source": []
  },
  {
   "cell_type": "code",
   "execution_count": 83,
   "id": "chemical-springer",
   "metadata": {
    "ExecuteTime": {
     "end_time": "2021-10-01T06:47:23.638616Z",
     "start_time": "2021-10-01T06:47:21.038441Z"
    }
   },
   "outputs": [],
   "source": [
    "train_X = all_sales[all_sales.date_block_num < 33].copy()\n",
    "train_y = train_X.item_cnt_day\n",
    "train_X.drop(columns=['item_cnt_day'], inplace=True)"
   ]
  },
  {
   "cell_type": "code",
   "execution_count": 84,
   "id": "periodic-french",
   "metadata": {
    "ExecuteTime": {
     "end_time": "2021-10-01T06:47:23.796303Z",
     "start_time": "2021-10-01T06:47:23.638616Z"
    }
   },
   "outputs": [],
   "source": [
    "test_X = all_sales[all_sales.date_block_num == 33].copy()\n",
    "test_y = test_X.item_cnt_day\n",
    "test_X.drop(columns=['item_cnt_day'], inplace=True)"
   ]
  },
  {
   "cell_type": "code",
   "execution_count": 85,
   "id": "restricted-killer",
   "metadata": {
    "ExecuteTime": {
     "end_time": "2021-10-01T06:47:23.843225Z",
     "start_time": "2021-10-01T06:47:23.807282Z"
    }
   },
   "outputs": [],
   "source": [
    "boosting = GradientBoostingRegressor(n_estimators=200)"
   ]
  },
  {
   "cell_type": "code",
   "execution_count": 86,
   "id": "understood-translation",
   "metadata": {
    "ExecuteTime": {
     "end_time": "2021-10-01T08:24:18.054077Z",
     "start_time": "2021-10-01T06:47:23.863193Z"
    }
   },
   "outputs": [
    {
     "data": {
      "text/plain": [
       "GradientBoostingRegressor(n_estimators=200)"
      ]
     },
     "execution_count": 86,
     "metadata": {},
     "output_type": "execute_result"
    }
   ],
   "source": [
    "boosting.fit(train_X, train_y)"
   ]
  },
  {
   "cell_type": "code",
   "execution_count": 87,
   "id": "filled-delta",
   "metadata": {
    "ExecuteTime": {
     "end_time": "2021-10-01T08:24:19.671475Z",
     "start_time": "2021-10-01T08:24:18.089195Z"
    }
   },
   "outputs": [],
   "source": [
    "predicted = boosting.predict(test_X)"
   ]
  },
  {
   "cell_type": "code",
   "execution_count": 88,
   "id": "persistent-universe",
   "metadata": {
    "ExecuteTime": {
     "end_time": "2021-10-01T08:24:19.719696Z",
     "start_time": "2021-10-01T08:24:19.671475Z"
    }
   },
   "outputs": [],
   "source": [
    "def MSE(series_true, series_predicted):\n",
    "    return sum((series_true - series_predicted)**2 / len(series_true))**0.5"
   ]
  },
  {
   "cell_type": "code",
   "execution_count": 89,
   "id": "divided-outline",
   "metadata": {
    "ExecuteTime": {
     "end_time": "2021-10-01T08:24:19.891679Z",
     "start_time": "2021-10-01T08:24:19.732676Z"
    }
   },
   "outputs": [
    {
     "data": {
      "text/plain": [
       "5.1730721708771865"
      ]
     },
     "execution_count": 89,
     "metadata": {},
     "output_type": "execute_result"
    }
   ],
   "source": [
    "MSE(test_y, predicted)"
   ]
  },
  {
   "cell_type": "code",
   "execution_count": 96,
   "id": "corrected-roulette",
   "metadata": {
    "ExecuteTime": {
     "end_time": "2021-10-01T08:28:29.060003Z",
     "start_time": "2021-10-01T08:28:11.920834Z"
    }
   },
   "outputs": [],
   "source": [
    "mses = [MSE(test_y, est[0].predict(test_X)) for est in boosting.estimators_]"
   ]
  },
  {
   "cell_type": "code",
   "execution_count": 98,
   "id": "liberal-classic",
   "metadata": {
    "ExecuteTime": {
     "end_time": "2021-10-01T08:29:11.536086Z",
     "start_time": "2021-10-01T08:29:11.517116Z"
    }
   },
   "outputs": [
    {
     "data": {
      "text/plain": [
       "5.200919507987963"
      ]
     },
     "execution_count": 98,
     "metadata": {},
     "output_type": "execute_result"
    }
   ],
   "source": [
    "min(mses)"
   ]
  },
  {
   "cell_type": "code",
   "execution_count": 100,
   "id": "entertaining-ladder",
   "metadata": {
    "ExecuteTime": {
     "end_time": "2021-10-01T09:05:26.814393Z",
     "start_time": "2021-10-01T09:05:26.801410Z"
    }
   },
   "outputs": [],
   "source": [
    "tree = DecisionTreeRegressor(max_depth=20)"
   ]
  },
  {
   "cell_type": "code",
   "execution_count": 101,
   "id": "considered-resident",
   "metadata": {
    "ExecuteTime": {
     "end_time": "2021-10-01T09:07:51.368578Z",
     "start_time": "2021-10-01T09:05:39.909763Z"
    }
   },
   "outputs": [
    {
     "data": {
      "text/plain": [
       "DecisionTreeRegressor(max_depth=20)"
      ]
     },
     "execution_count": 101,
     "metadata": {},
     "output_type": "execute_result"
    }
   ],
   "source": [
    "tree.fit(train_X, train_y)"
   ]
  },
  {
   "cell_type": "code",
   "execution_count": 102,
   "id": "forward-nelson",
   "metadata": {
    "ExecuteTime": {
     "end_time": "2021-10-01T09:07:51.590046Z",
     "start_time": "2021-10-01T09:07:51.379376Z"
    }
   },
   "outputs": [
    {
     "data": {
      "text/plain": [
       "4.971666290284159"
      ]
     },
     "execution_count": 102,
     "metadata": {},
     "output_type": "execute_result"
    }
   ],
   "source": [
    "MSE(test_y, tree.predict(test_X))"
   ]
  },
  {
   "cell_type": "code",
   "execution_count": 103,
   "id": "copyrighted-powell",
   "metadata": {
    "ExecuteTime": {
     "end_time": "2021-10-01T09:46:13.576905Z",
     "start_time": "2021-10-01T09:17:14.485273Z"
    }
   },
   "outputs": [
    {
     "name": "stdout",
     "output_type": "stream",
     "text": [
      "max_depth: 2\n",
      "MSE: 5.340807043723677\n",
      "--------------------------------------------\n",
      "max_depth: 3\n",
      "MSE: 5.338903378052625\n",
      "--------------------------------------------\n",
      "max_depth: 4\n",
      "MSE: 5.226081905338992\n",
      "--------------------------------------------\n",
      "max_depth: 5\n",
      "MSE: 5.229955366147048\n",
      "--------------------------------------------\n",
      "max_depth: 6\n",
      "MSE: 5.287071566530162\n",
      "--------------------------------------------\n",
      "max_depth: 7\n",
      "MSE: 5.153591204994831\n",
      "--------------------------------------------\n",
      "max_depth: 8\n",
      "MSE: 5.132349287491448\n",
      "--------------------------------------------\n",
      "max_depth: 9\n",
      "MSE: 5.0967532830413536\n",
      "--------------------------------------------\n",
      "max_depth: 10\n",
      "MSE: 5.063229204642131\n",
      "--------------------------------------------\n",
      "max_depth: 11\n",
      "MSE: 5.193188084465128\n",
      "--------------------------------------------\n",
      "max_depth: 12\n",
      "MSE: 5.271393432667224\n",
      "--------------------------------------------\n",
      "max_depth: 13\n",
      "MSE: 5.092865718227058\n",
      "--------------------------------------------\n",
      "max_depth: 14\n",
      "MSE: 5.108350639039459\n",
      "--------------------------------------------\n",
      "max_depth: 15\n",
      "MSE: 5.121324816350768\n",
      "--------------------------------------------\n",
      "max_depth: 16\n",
      "MSE: 4.939303360611502\n",
      "--------------------------------------------\n",
      "max_depth: 17\n",
      "MSE: 5.0574392318154615\n",
      "--------------------------------------------\n",
      "max_depth: 18\n",
      "MSE: 4.957542876349726\n",
      "--------------------------------------------\n",
      "max_depth: 19\n",
      "MSE: 4.9639518519742545\n",
      "--------------------------------------------\n",
      "max_depth: 20\n",
      "MSE: 4.971337544439045\n",
      "--------------------------------------------\n"
     ]
    }
   ],
   "source": [
    "mses = {}\n",
    "max_depths = list(range(2, 21))\n",
    "for max_depth in max_depths:\n",
    "    tree = DecisionTreeRegressor(max_depth=max_depth)\n",
    "    tree.fit(train_X, train_y)\n",
    "    mses[max_depth] = MSE(test_y, tree.predict(test_X))\n",
    "    print('max_depth:', max_depth)\n",
    "    print('MSE:', mses[max_depth])\n",
    "    print('--------------------------------------------')"
   ]
  },
  {
   "cell_type": "code",
   "execution_count": null,
   "id": "physical-draft",
   "metadata": {},
   "outputs": [],
   "source": []
  }
 ],
 "metadata": {
  "kernelspec": {
   "display_name": "Python 3",
   "language": "python",
   "name": "python3"
  },
  "language_info": {
   "codemirror_mode": {
    "name": "ipython",
    "version": 3
   },
   "file_extension": ".py",
   "mimetype": "text/x-python",
   "name": "python",
   "nbconvert_exporter": "python",
   "pygments_lexer": "ipython3",
   "version": "3.9.0"
  },
  "toc": {
   "base_numbering": 1,
   "nav_menu": {},
   "number_sections": true,
   "sideBar": true,
   "skip_h1_title": false,
   "title_cell": "Table of Contents",
   "title_sidebar": "Contents",
   "toc_cell": false,
   "toc_position": {},
   "toc_section_display": true,
   "toc_window_display": false
  }
 },
 "nbformat": 4,
 "nbformat_minor": 5
}
