{
 "cells": [
  {
   "cell_type": "code",
   "execution_count": 1,
   "id": "postal-ticket",
   "metadata": {
    "ExecuteTime": {
     "end_time": "2021-10-12T07:31:22.216916Z",
     "start_time": "2021-10-12T07:31:14.854796Z"
    }
   },
   "outputs": [],
   "source": [
    "import numpy as np\n",
    "import pandas as pd\n",
    "import datetime\n",
    "import matplotlib.pyplot as plt\n",
    "from sklearn.tree import DecisionTreeRegressor\n",
    "from sklearn.ensemble import RandomForestRegressor, GradientBoostingRegressor\n",
    "from itertools import product"
   ]
  },
  {
   "cell_type": "code",
   "execution_count": 26,
   "id": "least-logic",
   "metadata": {
    "ExecuteTime": {
     "end_time": "2021-10-12T07:40:57.587360Z",
     "start_time": "2021-10-12T07:40:50.075822Z"
    }
   },
   "outputs": [],
   "source": [
    "item_categories = pd.read_csv('data/item_categories.csv', index_col='item_category_id')\n",
    "items = pd.read_csv('data/items.csv')\n",
    "shops = pd.read_csv('data/shops.csv')\n",
    "train_df = pd.read_csv('data/train_dataset.csv')\n",
    "test_df = pd.read_csv('data/test_dataset.csv')"
   ]
  },
  {
   "cell_type": "code",
   "execution_count": 3,
   "id": "annual-familiar",
   "metadata": {
    "ExecuteTime": {
     "end_time": "2021-10-11T13:06:33.108395Z",
     "start_time": "2021-10-11T13:06:33.009966Z"
    },
    "scrolled": true
   },
   "outputs": [
    {
     "data": {
      "text/html": [
       "<div>\n",
       "<style scoped>\n",
       "    .dataframe tbody tr th:only-of-type {\n",
       "        vertical-align: middle;\n",
       "    }\n",
       "\n",
       "    .dataframe tbody tr th {\n",
       "        vertical-align: top;\n",
       "    }\n",
       "\n",
       "    .dataframe thead th {\n",
       "        text-align: right;\n",
       "    }\n",
       "</style>\n",
       "<table border=\"1\" class=\"dataframe\">\n",
       "  <thead>\n",
       "    <tr style=\"text-align: right;\">\n",
       "      <th></th>\n",
       "      <th>date</th>\n",
       "      <th>date_block_num</th>\n",
       "      <th>shop_id</th>\n",
       "      <th>item_id</th>\n",
       "      <th>item_price</th>\n",
       "      <th>item_cnt_day</th>\n",
       "      <th>item_category_id</th>\n",
       "      <th>total_income</th>\n",
       "      <th>days</th>\n",
       "      <th>weeks</th>\n",
       "    </tr>\n",
       "  </thead>\n",
       "  <tbody>\n",
       "    <tr>\n",
       "      <th>0</th>\n",
       "      <td>2013-01-01</td>\n",
       "      <td>0</td>\n",
       "      <td>18</td>\n",
       "      <td>5823</td>\n",
       "      <td>2500.0</td>\n",
       "      <td>1.0</td>\n",
       "      <td>35</td>\n",
       "      <td>2500.0</td>\n",
       "      <td>0</td>\n",
       "      <td>0</td>\n",
       "    </tr>\n",
       "    <tr>\n",
       "      <th>1</th>\n",
       "      <td>2013-01-01</td>\n",
       "      <td>0</td>\n",
       "      <td>27</td>\n",
       "      <td>5573</td>\n",
       "      <td>849.0</td>\n",
       "      <td>1.0</td>\n",
       "      <td>2</td>\n",
       "      <td>849.0</td>\n",
       "      <td>0</td>\n",
       "      <td>0</td>\n",
       "    </tr>\n",
       "    <tr>\n",
       "      <th>2</th>\n",
       "      <td>2013-01-01</td>\n",
       "      <td>0</td>\n",
       "      <td>7</td>\n",
       "      <td>1006</td>\n",
       "      <td>399.0</td>\n",
       "      <td>1.0</td>\n",
       "      <td>67</td>\n",
       "      <td>399.0</td>\n",
       "      <td>0</td>\n",
       "      <td>0</td>\n",
       "    </tr>\n",
       "    <tr>\n",
       "      <th>3</th>\n",
       "      <td>2013-01-01</td>\n",
       "      <td>0</td>\n",
       "      <td>19</td>\n",
       "      <td>17707</td>\n",
       "      <td>899.0</td>\n",
       "      <td>1.0</td>\n",
       "      <td>19</td>\n",
       "      <td>899.0</td>\n",
       "      <td>0</td>\n",
       "      <td>0</td>\n",
       "    </tr>\n",
       "    <tr>\n",
       "      <th>4</th>\n",
       "      <td>2013-01-01</td>\n",
       "      <td>0</td>\n",
       "      <td>14</td>\n",
       "      <td>19548</td>\n",
       "      <td>149.0</td>\n",
       "      <td>1.0</td>\n",
       "      <td>40</td>\n",
       "      <td>149.0</td>\n",
       "      <td>0</td>\n",
       "      <td>0</td>\n",
       "    </tr>\n",
       "  </tbody>\n",
       "</table>\n",
       "</div>"
      ],
      "text/plain": [
       "         date  date_block_num  shop_id  item_id  item_price  item_cnt_day  \\\n",
       "0  2013-01-01               0       18     5823      2500.0           1.0   \n",
       "1  2013-01-01               0       27     5573       849.0           1.0   \n",
       "2  2013-01-01               0        7     1006       399.0           1.0   \n",
       "3  2013-01-01               0       19    17707       899.0           1.0   \n",
       "4  2013-01-01               0       14    19548       149.0           1.0   \n",
       "\n",
       "   item_category_id  total_income  days  weeks  \n",
       "0                35        2500.0     0      0  \n",
       "1                 2         849.0     0      0  \n",
       "2                67         399.0     0      0  \n",
       "3                19         899.0     0      0  \n",
       "4                40         149.0     0      0  "
      ]
     },
     "execution_count": 3,
     "metadata": {},
     "output_type": "execute_result"
    }
   ],
   "source": [
    "train_df.head()"
   ]
  },
  {
   "cell_type": "code",
   "execution_count": 4,
   "id": "electoral-interpretation",
   "metadata": {
    "ExecuteTime": {
     "end_time": "2021-10-11T13:06:46.957044Z",
     "start_time": "2021-10-11T13:06:42.221682Z"
    }
   },
   "outputs": [],
   "source": [
    "train_sales = train_df.groupby(['shop_id', 'item_id', 'date_block_num']).agg({'item_cnt_day': 'sum', 'item_category_id': 'mean'}).reset_index()\n",
    "test_sales = test_df.groupby(['shop_id', 'item_id', 'date_block_num']).agg({'item_cnt_day': 'sum', 'item_category_id': 'mean'}).reset_index()"
   ]
  },
  {
   "cell_type": "code",
   "execution_count": 5,
   "id": "quick-provider",
   "metadata": {
    "ExecuteTime": {
     "end_time": "2021-10-11T13:06:52.030970Z",
     "start_time": "2021-10-11T13:06:46.965040Z"
    }
   },
   "outputs": [
    {
     "data": {
      "text/html": [
       "<div>\n",
       "<style scoped>\n",
       "    .dataframe tbody tr th:only-of-type {\n",
       "        vertical-align: middle;\n",
       "    }\n",
       "\n",
       "    .dataframe tbody tr th {\n",
       "        vertical-align: top;\n",
       "    }\n",
       "\n",
       "    .dataframe thead th {\n",
       "        text-align: right;\n",
       "    }\n",
       "</style>\n",
       "<table border=\"1\" class=\"dataframe\">\n",
       "  <thead>\n",
       "    <tr style=\"text-align: right;\">\n",
       "      <th></th>\n",
       "      <th>shop_id</th>\n",
       "      <th>item_id</th>\n",
       "      <th>date_block_num</th>\n",
       "      <th>item_cnt_day</th>\n",
       "      <th>item_category_id</th>\n",
       "    </tr>\n",
       "  </thead>\n",
       "  <tbody>\n",
       "    <tr>\n",
       "      <th>0</th>\n",
       "      <td>0</td>\n",
       "      <td>30</td>\n",
       "      <td>1</td>\n",
       "      <td>31.0</td>\n",
       "      <td>40</td>\n",
       "    </tr>\n",
       "    <tr>\n",
       "      <th>1</th>\n",
       "      <td>0</td>\n",
       "      <td>31</td>\n",
       "      <td>1</td>\n",
       "      <td>11.0</td>\n",
       "      <td>37</td>\n",
       "    </tr>\n",
       "    <tr>\n",
       "      <th>2</th>\n",
       "      <td>0</td>\n",
       "      <td>32</td>\n",
       "      <td>0</td>\n",
       "      <td>6.0</td>\n",
       "      <td>40</td>\n",
       "    </tr>\n",
       "    <tr>\n",
       "      <th>3</th>\n",
       "      <td>0</td>\n",
       "      <td>32</td>\n",
       "      <td>1</td>\n",
       "      <td>10.0</td>\n",
       "      <td>40</td>\n",
       "    </tr>\n",
       "    <tr>\n",
       "      <th>4</th>\n",
       "      <td>0</td>\n",
       "      <td>33</td>\n",
       "      <td>0</td>\n",
       "      <td>3.0</td>\n",
       "      <td>37</td>\n",
       "    </tr>\n",
       "    <tr>\n",
       "      <th>...</th>\n",
       "      <td>...</td>\n",
       "      <td>...</td>\n",
       "      <td>...</td>\n",
       "      <td>...</td>\n",
       "      <td>...</td>\n",
       "    </tr>\n",
       "    <tr>\n",
       "      <th>1577588</th>\n",
       "      <td>59</td>\n",
       "      <td>22164</td>\n",
       "      <td>27</td>\n",
       "      <td>2.0</td>\n",
       "      <td>37</td>\n",
       "    </tr>\n",
       "    <tr>\n",
       "      <th>1577589</th>\n",
       "      <td>59</td>\n",
       "      <td>22164</td>\n",
       "      <td>30</td>\n",
       "      <td>1.0</td>\n",
       "      <td>37</td>\n",
       "    </tr>\n",
       "    <tr>\n",
       "      <th>1577590</th>\n",
       "      <td>59</td>\n",
       "      <td>22167</td>\n",
       "      <td>9</td>\n",
       "      <td>1.0</td>\n",
       "      <td>49</td>\n",
       "    </tr>\n",
       "    <tr>\n",
       "      <th>1577591</th>\n",
       "      <td>59</td>\n",
       "      <td>22167</td>\n",
       "      <td>11</td>\n",
       "      <td>2.0</td>\n",
       "      <td>49</td>\n",
       "    </tr>\n",
       "    <tr>\n",
       "      <th>1577592</th>\n",
       "      <td>59</td>\n",
       "      <td>22167</td>\n",
       "      <td>17</td>\n",
       "      <td>1.0</td>\n",
       "      <td>49</td>\n",
       "    </tr>\n",
       "  </tbody>\n",
       "</table>\n",
       "<p>1577593 rows × 5 columns</p>\n",
       "</div>"
      ],
      "text/plain": [
       "         shop_id  item_id  date_block_num  item_cnt_day  item_category_id\n",
       "0              0       30               1          31.0                40\n",
       "1              0       31               1          11.0                37\n",
       "2              0       32               0           6.0                40\n",
       "3              0       32               1          10.0                40\n",
       "4              0       33               0           3.0                37\n",
       "...          ...      ...             ...           ...               ...\n",
       "1577588       59    22164              27           2.0                37\n",
       "1577589       59    22164              30           1.0                37\n",
       "1577590       59    22167               9           1.0                49\n",
       "1577591       59    22167              11           2.0                49\n",
       "1577592       59    22167              17           1.0                49\n",
       "\n",
       "[1577593 rows x 5 columns]"
      ]
     },
     "execution_count": 5,
     "metadata": {},
     "output_type": "execute_result"
    }
   ],
   "source": [
    "train_df.groupby(['shop_id', 'item_id', 'date_block_num']).agg({'item_cnt_day': 'sum', 'item_category_id': 'mean'}).reset_index()"
   ]
  },
  {
   "cell_type": "code",
   "execution_count": null,
   "id": "primary-exclusive",
   "metadata": {},
   "outputs": [],
   "source": []
  },
  {
   "cell_type": "code",
   "execution_count": 3,
   "id": "close-massachusetts",
   "metadata": {
    "ExecuteTime": {
     "end_time": "2021-10-12T07:31:32.913631Z",
     "start_time": "2021-10-12T07:31:28.634352Z"
    }
   },
   "outputs": [],
   "source": [
    "train_sales = pd.read_csv('data/sales_train.csv')"
   ]
  },
  {
   "cell_type": "code",
   "execution_count": 4,
   "id": "naval-partnership",
   "metadata": {
    "ExecuteTime": {
     "end_time": "2021-10-12T07:31:35.857188Z",
     "start_time": "2021-10-12T07:31:32.920146Z"
    }
   },
   "outputs": [],
   "source": [
    "train_sales = train_sales.groupby(['shop_id', 'item_id', 'date_block_num']).agg({'item_cnt_day': 'sum'}).reset_index()"
   ]
  },
  {
   "cell_type": "code",
   "execution_count": 5,
   "id": "infrared-software",
   "metadata": {
    "ExecuteTime": {
     "end_time": "2021-10-12T07:31:36.462981Z",
     "start_time": "2021-10-12T07:31:35.859226Z"
    }
   },
   "outputs": [
    {
     "data": {
      "text/html": [
       "<div>\n",
       "<style scoped>\n",
       "    .dataframe tbody tr th:only-of-type {\n",
       "        vertical-align: middle;\n",
       "    }\n",
       "\n",
       "    .dataframe tbody tr th {\n",
       "        vertical-align: top;\n",
       "    }\n",
       "\n",
       "    .dataframe thead th {\n",
       "        text-align: right;\n",
       "    }\n",
       "</style>\n",
       "<table border=\"1\" class=\"dataframe\">\n",
       "  <thead>\n",
       "    <tr style=\"text-align: right;\">\n",
       "      <th></th>\n",
       "      <th></th>\n",
       "      <th></th>\n",
       "      <th>item_cnt_day</th>\n",
       "    </tr>\n",
       "    <tr>\n",
       "      <th>shop_id</th>\n",
       "      <th>item_id</th>\n",
       "      <th>date_block_num</th>\n",
       "      <th></th>\n",
       "    </tr>\n",
       "  </thead>\n",
       "  <tbody>\n",
       "    <tr>\n",
       "      <th rowspan=\"5\" valign=\"top\">0</th>\n",
       "      <th>30</th>\n",
       "      <th>1</th>\n",
       "      <td>31.0</td>\n",
       "    </tr>\n",
       "    <tr>\n",
       "      <th>31</th>\n",
       "      <th>1</th>\n",
       "      <td>11.0</td>\n",
       "    </tr>\n",
       "    <tr>\n",
       "      <th rowspan=\"2\" valign=\"top\">32</th>\n",
       "      <th>0</th>\n",
       "      <td>6.0</td>\n",
       "    </tr>\n",
       "    <tr>\n",
       "      <th>1</th>\n",
       "      <td>10.0</td>\n",
       "    </tr>\n",
       "    <tr>\n",
       "      <th>33</th>\n",
       "      <th>0</th>\n",
       "      <td>3.0</td>\n",
       "    </tr>\n",
       "    <tr>\n",
       "      <th>...</th>\n",
       "      <th>...</th>\n",
       "      <th>...</th>\n",
       "      <td>...</td>\n",
       "    </tr>\n",
       "    <tr>\n",
       "      <th rowspan=\"5\" valign=\"top\">59</th>\n",
       "      <th rowspan=\"2\" valign=\"top\">22164</th>\n",
       "      <th>27</th>\n",
       "      <td>2.0</td>\n",
       "    </tr>\n",
       "    <tr>\n",
       "      <th>30</th>\n",
       "      <td>1.0</td>\n",
       "    </tr>\n",
       "    <tr>\n",
       "      <th rowspan=\"3\" valign=\"top\">22167</th>\n",
       "      <th>9</th>\n",
       "      <td>1.0</td>\n",
       "    </tr>\n",
       "    <tr>\n",
       "      <th>11</th>\n",
       "      <td>2.0</td>\n",
       "    </tr>\n",
       "    <tr>\n",
       "      <th>17</th>\n",
       "      <td>1.0</td>\n",
       "    </tr>\n",
       "  </tbody>\n",
       "</table>\n",
       "<p>1609124 rows × 1 columns</p>\n",
       "</div>"
      ],
      "text/plain": [
       "                                item_cnt_day\n",
       "shop_id item_id date_block_num              \n",
       "0       30      1                       31.0\n",
       "        31      1                       11.0\n",
       "        32      0                        6.0\n",
       "                1                       10.0\n",
       "        33      0                        3.0\n",
       "...                                      ...\n",
       "59      22164   27                       2.0\n",
       "                30                       1.0\n",
       "        22167   9                        1.0\n",
       "                11                       2.0\n",
       "                17                       1.0\n",
       "\n",
       "[1609124 rows x 1 columns]"
      ]
     },
     "execution_count": 5,
     "metadata": {},
     "output_type": "execute_result"
    }
   ],
   "source": [
    "train_sales.set_index(['shop_id', 'item_id', 'date_block_num'])"
   ]
  },
  {
   "cell_type": "code",
   "execution_count": 41,
   "id": "soviet-morning",
   "metadata": {
    "ExecuteTime": {
     "end_time": "2021-10-01T06:24:24.290988Z",
     "start_time": "2021-10-01T06:24:24.274010Z"
    }
   },
   "outputs": [
    {
     "data": {
      "text/plain": [
       "44471014"
      ]
     },
     "execution_count": 41,
     "metadata": {},
     "output_type": "execute_result"
    }
   ],
   "source": [
    "59*22169*34"
   ]
  },
  {
   "cell_type": "code",
   "execution_count": 6,
   "id": "waiting-tumor",
   "metadata": {
    "ExecuteTime": {
     "end_time": "2021-10-12T07:32:15.259053Z",
     "start_time": "2021-10-12T07:31:36.474870Z"
    }
   },
   "outputs": [
    {
     "data": {
      "text/html": [
       "<div>\n",
       "<style scoped>\n",
       "    .dataframe tbody tr th:only-of-type {\n",
       "        vertical-align: middle;\n",
       "    }\n",
       "\n",
       "    .dataframe tbody tr th {\n",
       "        vertical-align: top;\n",
       "    }\n",
       "\n",
       "    .dataframe thead th {\n",
       "        text-align: right;\n",
       "    }\n",
       "</style>\n",
       "<table border=\"1\" class=\"dataframe\">\n",
       "  <thead>\n",
       "    <tr style=\"text-align: right;\">\n",
       "      <th></th>\n",
       "      <th>date_block_num</th>\n",
       "      <th>shop_id</th>\n",
       "      <th>item_id</th>\n",
       "    </tr>\n",
       "  </thead>\n",
       "  <tbody>\n",
       "    <tr>\n",
       "      <th>0</th>\n",
       "      <td>1</td>\n",
       "      <td>0</td>\n",
       "      <td>30</td>\n",
       "    </tr>\n",
       "    <tr>\n",
       "      <th>1</th>\n",
       "      <td>1</td>\n",
       "      <td>0</td>\n",
       "      <td>31</td>\n",
       "    </tr>\n",
       "    <tr>\n",
       "      <th>2</th>\n",
       "      <td>1</td>\n",
       "      <td>0</td>\n",
       "      <td>32</td>\n",
       "    </tr>\n",
       "    <tr>\n",
       "      <th>3</th>\n",
       "      <td>1</td>\n",
       "      <td>0</td>\n",
       "      <td>33</td>\n",
       "    </tr>\n",
       "    <tr>\n",
       "      <th>4</th>\n",
       "      <td>1</td>\n",
       "      <td>0</td>\n",
       "      <td>35</td>\n",
       "    </tr>\n",
       "    <tr>\n",
       "      <th>...</th>\n",
       "      <td>...</td>\n",
       "      <td>...</td>\n",
       "      <td>...</td>\n",
       "    </tr>\n",
       "    <tr>\n",
       "      <th>10913845</th>\n",
       "      <td>29</td>\n",
       "      <td>59</td>\n",
       "      <td>5395</td>\n",
       "    </tr>\n",
       "    <tr>\n",
       "      <th>10913846</th>\n",
       "      <td>29</td>\n",
       "      <td>59</td>\n",
       "      <td>5865</td>\n",
       "    </tr>\n",
       "    <tr>\n",
       "      <th>10913847</th>\n",
       "      <td>29</td>\n",
       "      <td>59</td>\n",
       "      <td>7806</td>\n",
       "    </tr>\n",
       "    <tr>\n",
       "      <th>10913848</th>\n",
       "      <td>29</td>\n",
       "      <td>59</td>\n",
       "      <td>11876</td>\n",
       "    </tr>\n",
       "    <tr>\n",
       "      <th>10913849</th>\n",
       "      <td>29</td>\n",
       "      <td>59</td>\n",
       "      <td>12695</td>\n",
       "    </tr>\n",
       "  </tbody>\n",
       "</table>\n",
       "<p>10913850 rows × 3 columns</p>\n",
       "</div>"
      ],
      "text/plain": [
       "          date_block_num  shop_id  item_id\n",
       "0                      1        0       30\n",
       "1                      1        0       31\n",
       "2                      1        0       32\n",
       "3                      1        0       33\n",
       "4                      1        0       35\n",
       "...                  ...      ...      ...\n",
       "10913845              29       59     5395\n",
       "10913846              29       59     5865\n",
       "10913847              29       59     7806\n",
       "10913848              29       59    11876\n",
       "10913849              29       59    12695\n",
       "\n",
       "[10913850 rows x 3 columns]"
      ]
     },
     "execution_count": 6,
     "metadata": {},
     "output_type": "execute_result"
    }
   ],
   "source": [
    "train = []\n",
    "\n",
    "for i in train_sales['date_block_num'].unique():\n",
    "    all_shop = train_sales.loc[train_sales['date_block_num']==i, 'shop_id'].unique()\n",
    "    all_item = train_sales.loc[train_sales['date_block_num']==i, 'item_id'].unique()\n",
    "    train.append(np.array(list(product([i], all_shop, all_item))))\n",
    "\n",
    "idx_features = ['date_block_num', 'shop_id', 'item_id']\n",
    "train = pd.DataFrame(np.vstack(train), columns=idx_features)\n",
    "\n",
    "train"
   ]
  },
  {
   "cell_type": "code",
   "execution_count": 7,
   "id": "guided-rebel",
   "metadata": {
    "ExecuteTime": {
     "end_time": "2021-10-12T07:32:35.259107Z",
     "start_time": "2021-10-12T07:32:15.269714Z"
    }
   },
   "outputs": [],
   "source": [
    "all_sales = train.merge(train_sales, how='left', on=idx_features)"
   ]
  },
  {
   "cell_type": "code",
   "execution_count": 8,
   "id": "sharing-springfield",
   "metadata": {
    "ExecuteTime": {
     "end_time": "2021-10-12T07:32:35.398856Z",
     "start_time": "2021-10-12T07:32:35.282070Z"
    }
   },
   "outputs": [
    {
     "data": {
      "text/html": [
       "<div>\n",
       "<style scoped>\n",
       "    .dataframe tbody tr th:only-of-type {\n",
       "        vertical-align: middle;\n",
       "    }\n",
       "\n",
       "    .dataframe tbody tr th {\n",
       "        vertical-align: top;\n",
       "    }\n",
       "\n",
       "    .dataframe thead th {\n",
       "        text-align: right;\n",
       "    }\n",
       "</style>\n",
       "<table border=\"1\" class=\"dataframe\">\n",
       "  <thead>\n",
       "    <tr style=\"text-align: right;\">\n",
       "      <th></th>\n",
       "      <th>date_block_num</th>\n",
       "      <th>shop_id</th>\n",
       "      <th>item_id</th>\n",
       "      <th>item_cnt_day</th>\n",
       "    </tr>\n",
       "  </thead>\n",
       "  <tbody>\n",
       "    <tr>\n",
       "      <th>0</th>\n",
       "      <td>1</td>\n",
       "      <td>0</td>\n",
       "      <td>30</td>\n",
       "      <td>31.0</td>\n",
       "    </tr>\n",
       "    <tr>\n",
       "      <th>1</th>\n",
       "      <td>1</td>\n",
       "      <td>0</td>\n",
       "      <td>31</td>\n",
       "      <td>11.0</td>\n",
       "    </tr>\n",
       "    <tr>\n",
       "      <th>2</th>\n",
       "      <td>1</td>\n",
       "      <td>0</td>\n",
       "      <td>32</td>\n",
       "      <td>10.0</td>\n",
       "    </tr>\n",
       "    <tr>\n",
       "      <th>3</th>\n",
       "      <td>1</td>\n",
       "      <td>0</td>\n",
       "      <td>33</td>\n",
       "      <td>3.0</td>\n",
       "    </tr>\n",
       "    <tr>\n",
       "      <th>4</th>\n",
       "      <td>1</td>\n",
       "      <td>0</td>\n",
       "      <td>35</td>\n",
       "      <td>14.0</td>\n",
       "    </tr>\n",
       "  </tbody>\n",
       "</table>\n",
       "</div>"
      ],
      "text/plain": [
       "   date_block_num  shop_id  item_id  item_cnt_day\n",
       "0               1        0       30          31.0\n",
       "1               1        0       31          11.0\n",
       "2               1        0       32          10.0\n",
       "3               1        0       33           3.0\n",
       "4               1        0       35          14.0"
      ]
     },
     "execution_count": 8,
     "metadata": {},
     "output_type": "execute_result"
    }
   ],
   "source": [
    "all_sales.head()"
   ]
  },
  {
   "cell_type": "code",
   "execution_count": 9,
   "id": "conventional-copyright",
   "metadata": {
    "ExecuteTime": {
     "end_time": "2021-10-12T07:32:35.858761Z",
     "start_time": "2021-10-12T07:32:35.411839Z"
    }
   },
   "outputs": [
    {
     "name": "stdout",
     "output_type": "stream",
     "text": [
      "<class 'pandas.core.frame.DataFrame'>\n",
      "Int64Index: 10913850 entries, 0 to 10913849\n",
      "Data columns (total 4 columns):\n",
      " #   Column          Non-Null Count     Dtype  \n",
      "---  ------          --------------     -----  \n",
      " 0   date_block_num  10913850 non-null  int64  \n",
      " 1   shop_id         10913850 non-null  int64  \n",
      " 2   item_id         10913850 non-null  int64  \n",
      " 3   item_cnt_day    1609124 non-null   float64\n",
      "dtypes: float64(1), int64(3)\n",
      "memory usage: 416.3 MB\n"
     ]
    }
   ],
   "source": [
    "all_sales.info(null_counts=True)"
   ]
  },
  {
   "cell_type": "code",
   "execution_count": 10,
   "id": "alleged-marijuana",
   "metadata": {
    "ExecuteTime": {
     "end_time": "2021-10-12T07:32:46.110919Z",
     "start_time": "2021-10-12T07:32:35.868009Z"
    }
   },
   "outputs": [],
   "source": [
    "all_sales = all_sales.merge(items.drop(columns=['item_name']), how='left', on='item_id')"
   ]
  },
  {
   "cell_type": "code",
   "execution_count": 11,
   "id": "addressed-airplane",
   "metadata": {
    "ExecuteTime": {
     "end_time": "2021-10-12T07:32:46.352380Z",
     "start_time": "2021-10-12T07:32:46.117433Z"
    }
   },
   "outputs": [],
   "source": [
    "all_sales.fillna(value=0, inplace=True)"
   ]
  },
  {
   "cell_type": "code",
   "execution_count": 12,
   "id": "trying-actress",
   "metadata": {
    "ExecuteTime": {
     "end_time": "2021-10-12T07:32:50.832316Z",
     "start_time": "2021-10-12T07:32:46.362360Z"
    }
   },
   "outputs": [
    {
     "name": "stdout",
     "output_type": "stream",
     "text": [
      "<class 'pandas.core.frame.DataFrame'>\n",
      "Int64Index: 10913850 entries, 0 to 10913849\n",
      "Data columns (total 5 columns):\n",
      " #   Column            Non-Null Count     Dtype  \n",
      "---  ------            --------------     -----  \n",
      " 0   date_block_num    10913850 non-null  int64  \n",
      " 1   shop_id           10913850 non-null  int64  \n",
      " 2   item_id           10913850 non-null  int64  \n",
      " 3   item_cnt_day      10913850 non-null  float64\n",
      " 4   item_category_id  10913850 non-null  int64  \n",
      "dtypes: float64(1), int64(4)\n",
      "memory usage: 499.6 MB\n"
     ]
    }
   ],
   "source": [
    "all_sales.info(null_counts=True)"
   ]
  },
  {
   "cell_type": "code",
   "execution_count": 13,
   "id": "former-prince",
   "metadata": {
    "ExecuteTime": {
     "end_time": "2021-10-12T07:32:52.028745Z",
     "start_time": "2021-10-12T07:32:50.845873Z"
    }
   },
   "outputs": [],
   "source": [
    "import xgboost as xgb\n",
    "from xgboost import XGBRegressor"
   ]
  },
  {
   "cell_type": "code",
   "execution_count": 14,
   "id": "chemical-springer",
   "metadata": {
    "ExecuteTime": {
     "end_time": "2021-10-11T17:29:49.209166Z",
     "start_time": "2021-10-11T17:29:45.570759Z"
    }
   },
   "outputs": [],
   "source": [
    "train_X = all_sales[all_sales.date_block_num < 33].copy()\n",
    "train_y = train_X.item_cnt_day\n",
    "train_X.drop(columns=['item_cnt_day'], inplace=True)"
   ]
  },
  {
   "cell_type": "code",
   "execution_count": 15,
   "id": "periodic-french",
   "metadata": {
    "ExecuteTime": {
     "end_time": "2021-10-11T17:29:49.371665Z",
     "start_time": "2021-10-11T17:29:49.209166Z"
    }
   },
   "outputs": [],
   "source": [
    "test_X = all_sales[all_sales.date_block_num == 33].copy()\n",
    "test_y = test_X.item_cnt_day\n",
    "test_X.drop(columns=['item_cnt_day'], inplace=True)"
   ]
  },
  {
   "cell_type": "markdown",
   "id": "organizational-correction",
   "metadata": {},
   "source": [
    "xgboost"
   ]
  },
  {
   "cell_type": "code",
   "execution_count": 22,
   "id": "foreign-avenue",
   "metadata": {
    "ExecuteTime": {
     "end_time": "2021-10-11T13:23:07.883317Z",
     "start_time": "2021-10-11T13:23:07.851196Z"
    }
   },
   "outputs": [],
   "source": [
    "xgb_model = XGBRegressor(n_estimators=100, max_depth=6)"
   ]
  },
  {
   "cell_type": "code",
   "execution_count": 24,
   "id": "electric-brother",
   "metadata": {
    "ExecuteTime": {
     "end_time": "2021-10-11T13:56:27.595259Z",
     "start_time": "2021-10-11T13:23:53.573870Z"
    }
   },
   "outputs": [
    {
     "data": {
      "text/plain": [
       "XGBRegressor(base_score=0.5, booster='gbtree', colsample_bylevel=1,\n",
       "             colsample_bynode=1, colsample_bytree=1, gamma=0, gpu_id=-1,\n",
       "             importance_type='gain', interaction_constraints='',\n",
       "             learning_rate=0.300000012, max_delta_step=0, max_depth=6,\n",
       "             min_child_weight=1, missing=nan, monotone_constraints='()',\n",
       "             n_estimators=100, n_jobs=4, num_parallel_tree=1, random_state=0,\n",
       "             reg_alpha=0, reg_lambda=1, scale_pos_weight=1, subsample=1,\n",
       "             tree_method='approx', validate_parameters=1, verbosity=None)"
      ]
     },
     "execution_count": 24,
     "metadata": {},
     "output_type": "execute_result"
    }
   ],
   "source": [
    "xgb_model.fit(train_X, train_y)"
   ]
  },
  {
   "cell_type": "code",
   "execution_count": 27,
   "id": "minor-indication",
   "metadata": {
    "ExecuteTime": {
     "end_time": "2021-10-11T14:34:14.242045Z",
     "start_time": "2021-10-11T14:34:13.693774Z"
    }
   },
   "outputs": [
    {
     "data": {
      "text/plain": [
       "4.995693356637923"
      ]
     },
     "execution_count": 27,
     "metadata": {},
     "output_type": "execute_result"
    }
   ],
   "source": [
    "MSE(test_y, xgb_model.predict(test_X))"
   ]
  },
  {
   "cell_type": "markdown",
   "id": "utility-elder",
   "metadata": {},
   "source": [
    "xgboost with clipping"
   ]
  },
  {
   "cell_type": "code",
   "execution_count": 18,
   "id": "ahead-anchor",
   "metadata": {
    "ExecuteTime": {
     "end_time": "2021-10-11T18:00:17.943083Z",
     "start_time": "2021-10-11T17:31:14.585422Z"
    },
    "collapsed": true
   },
   "outputs": [
    {
     "ename": "NameError",
     "evalue": "name 'MSE' is not defined",
     "output_type": "error",
     "traceback": [
      "\u001b[1;31m---------------------------------------------------------------------------\u001b[0m",
      "\u001b[1;31mNameError\u001b[0m                                 Traceback (most recent call last)",
      "\u001b[1;32m<ipython-input-18-ccebec2467ed>\u001b[0m in \u001b[0;36m<module>\u001b[1;34m\u001b[0m\n\u001b[0;32m      1\u001b[0m \u001b[0mxgb_model\u001b[0m \u001b[1;33m=\u001b[0m \u001b[0mXGBRegressor\u001b[0m\u001b[1;33m(\u001b[0m\u001b[0mn_estimators\u001b[0m\u001b[1;33m=\u001b[0m\u001b[1;36m100\u001b[0m\u001b[1;33m,\u001b[0m \u001b[0mmax_depth\u001b[0m\u001b[1;33m=\u001b[0m\u001b[1;36m6\u001b[0m\u001b[1;33m)\u001b[0m\u001b[1;33m\u001b[0m\u001b[1;33m\u001b[0m\u001b[0m\n\u001b[0;32m      2\u001b[0m \u001b[0mxgb_model\u001b[0m\u001b[1;33m.\u001b[0m\u001b[0mfit\u001b[0m\u001b[1;33m(\u001b[0m\u001b[0mtrain_X\u001b[0m\u001b[1;33m,\u001b[0m \u001b[0mtrain_y\u001b[0m\u001b[1;33m.\u001b[0m\u001b[0mclip\u001b[0m\u001b[1;33m(\u001b[0m\u001b[1;36m0\u001b[0m\u001b[1;33m,\u001b[0m \u001b[1;36m20\u001b[0m\u001b[1;33m)\u001b[0m\u001b[1;33m)\u001b[0m\u001b[1;33m\u001b[0m\u001b[1;33m\u001b[0m\u001b[0m\n\u001b[1;32m----> 3\u001b[1;33m \u001b[0mMSE\u001b[0m\u001b[1;33m(\u001b[0m\u001b[0mtest_y\u001b[0m\u001b[1;33m,\u001b[0m \u001b[0mxgb_model\u001b[0m\u001b[1;33m.\u001b[0m\u001b[0mpredict\u001b[0m\u001b[1;33m(\u001b[0m\u001b[0mtest_X\u001b[0m\u001b[1;33m)\u001b[0m\u001b[1;33m)\u001b[0m\u001b[1;33m\u001b[0m\u001b[1;33m\u001b[0m\u001b[0m\n\u001b[0m",
      "\u001b[1;31mNameError\u001b[0m: name 'MSE' is not defined"
     ]
    }
   ],
   "source": [
    "xgb_model = XGBRegressor(n_estimators=100, max_depth=6)\n",
    "xgb_model.fit(train_X, train_y.clip(0, 20))"
   ]
  },
  {
   "cell_type": "code",
   "execution_count": 23,
   "id": "imperial-characterization",
   "metadata": {
    "ExecuteTime": {
     "end_time": "2021-10-11T18:04:05.410700Z",
     "start_time": "2021-10-11T18:04:04.936662Z"
    },
    "scrolled": true
   },
   "outputs": [
    {
     "data": {
      "text/plain": [
       "1.0138673005794732"
      ]
     },
     "execution_count": 23,
     "metadata": {},
     "output_type": "execute_result"
    }
   ],
   "source": [
    "MSE(test_y.clip(0, 20), xgb_model.predict(test_X))"
   ]
  },
  {
   "cell_type": "code",
   "execution_count": 24,
   "id": "constant-quarterly",
   "metadata": {
    "ExecuteTime": {
     "end_time": "2021-10-11T18:04:29.550386Z",
     "start_time": "2021-10-11T18:04:29.102971Z"
    }
   },
   "outputs": [
    {
     "data": {
      "text/plain": [
       "5.2544421849370195"
      ]
     },
     "execution_count": 24,
     "metadata": {},
     "output_type": "execute_result"
    }
   ],
   "source": [
    "MSE(test_y, xgb_model.predict(test_X))"
   ]
  },
  {
   "cell_type": "markdown",
   "id": "operating-joint",
   "metadata": {},
   "source": [
    "boosting"
   ]
  },
  {
   "cell_type": "code",
   "execution_count": 85,
   "id": "restricted-killer",
   "metadata": {
    "ExecuteTime": {
     "end_time": "2021-10-01T06:47:23.843225Z",
     "start_time": "2021-10-01T06:47:23.807282Z"
    }
   },
   "outputs": [],
   "source": [
    "boosting = GradientBoostingRegressor(n_estimators=200)"
   ]
  },
  {
   "cell_type": "code",
   "execution_count": 86,
   "id": "understood-translation",
   "metadata": {
    "ExecuteTime": {
     "end_time": "2021-10-01T08:24:18.054077Z",
     "start_time": "2021-10-01T06:47:23.863193Z"
    }
   },
   "outputs": [
    {
     "data": {
      "text/plain": [
       "GradientBoostingRegressor(n_estimators=200)"
      ]
     },
     "execution_count": 86,
     "metadata": {},
     "output_type": "execute_result"
    }
   ],
   "source": [
    "boosting.fit(train_X, train_y)"
   ]
  },
  {
   "cell_type": "code",
   "execution_count": 87,
   "id": "filled-delta",
   "metadata": {
    "ExecuteTime": {
     "end_time": "2021-10-01T08:24:19.671475Z",
     "start_time": "2021-10-01T08:24:18.089195Z"
    }
   },
   "outputs": [],
   "source": [
    "predicted = boosting.predict(test_X)"
   ]
  },
  {
   "cell_type": "code",
   "execution_count": 19,
   "id": "persistent-universe",
   "metadata": {
    "ExecuteTime": {
     "end_time": "2021-10-11T18:02:50.771603Z",
     "start_time": "2021-10-11T18:02:50.731613Z"
    }
   },
   "outputs": [],
   "source": [
    "def MSE(series_true, series_predicted):\n",
    "    return sum((series_true - series_predicted)**2 / len(series_true))**0.5"
   ]
  },
  {
   "cell_type": "code",
   "execution_count": 89,
   "id": "divided-outline",
   "metadata": {
    "ExecuteTime": {
     "end_time": "2021-10-01T08:24:19.891679Z",
     "start_time": "2021-10-01T08:24:19.732676Z"
    }
   },
   "outputs": [
    {
     "data": {
      "text/plain": [
       "5.1730721708771865"
      ]
     },
     "execution_count": 89,
     "metadata": {},
     "output_type": "execute_result"
    }
   ],
   "source": [
    "MSE(test_y, predicted)"
   ]
  },
  {
   "cell_type": "code",
   "execution_count": 96,
   "id": "corrected-roulette",
   "metadata": {
    "ExecuteTime": {
     "end_time": "2021-10-01T08:28:29.060003Z",
     "start_time": "2021-10-01T08:28:11.920834Z"
    }
   },
   "outputs": [],
   "source": [
    "mses = [MSE(test_y, est[0].predict(test_X)) for est in boosting.estimators_]"
   ]
  },
  {
   "cell_type": "code",
   "execution_count": 98,
   "id": "liberal-classic",
   "metadata": {
    "ExecuteTime": {
     "end_time": "2021-10-01T08:29:11.536086Z",
     "start_time": "2021-10-01T08:29:11.517116Z"
    }
   },
   "outputs": [
    {
     "data": {
      "text/plain": [
       "5.200919507987963"
      ]
     },
     "execution_count": 98,
     "metadata": {},
     "output_type": "execute_result"
    }
   ],
   "source": [
    "min(mses)"
   ]
  },
  {
   "cell_type": "code",
   "execution_count": 100,
   "id": "entertaining-ladder",
   "metadata": {
    "ExecuteTime": {
     "end_time": "2021-10-01T09:05:26.814393Z",
     "start_time": "2021-10-01T09:05:26.801410Z"
    }
   },
   "outputs": [],
   "source": [
    "tree = DecisionTreeRegressor(max_depth=20)"
   ]
  },
  {
   "cell_type": "code",
   "execution_count": 101,
   "id": "considered-resident",
   "metadata": {
    "ExecuteTime": {
     "end_time": "2021-10-01T09:07:51.368578Z",
     "start_time": "2021-10-01T09:05:39.909763Z"
    }
   },
   "outputs": [
    {
     "data": {
      "text/plain": [
       "DecisionTreeRegressor(max_depth=20)"
      ]
     },
     "execution_count": 101,
     "metadata": {},
     "output_type": "execute_result"
    }
   ],
   "source": [
    "tree.fit(train_X, train_y)"
   ]
  },
  {
   "cell_type": "code",
   "execution_count": 102,
   "id": "forward-nelson",
   "metadata": {
    "ExecuteTime": {
     "end_time": "2021-10-01T09:07:51.590046Z",
     "start_time": "2021-10-01T09:07:51.379376Z"
    }
   },
   "outputs": [
    {
     "data": {
      "text/plain": [
       "4.971666290284159"
      ]
     },
     "execution_count": 102,
     "metadata": {},
     "output_type": "execute_result"
    }
   ],
   "source": [
    "MSE(test_y, tree.predict(test_X))"
   ]
  },
  {
   "cell_type": "code",
   "execution_count": 103,
   "id": "copyrighted-powell",
   "metadata": {
    "ExecuteTime": {
     "end_time": "2021-10-01T09:46:13.576905Z",
     "start_time": "2021-10-01T09:17:14.485273Z"
    },
    "collapsed": true
   },
   "outputs": [
    {
     "name": "stdout",
     "output_type": "stream",
     "text": [
      "max_depth: 2\n",
      "MSE: 5.340807043723677\n",
      "--------------------------------------------\n",
      "max_depth: 3\n",
      "MSE: 5.338903378052625\n",
      "--------------------------------------------\n",
      "max_depth: 4\n",
      "MSE: 5.226081905338992\n",
      "--------------------------------------------\n",
      "max_depth: 5\n",
      "MSE: 5.229955366147048\n",
      "--------------------------------------------\n",
      "max_depth: 6\n",
      "MSE: 5.287071566530162\n",
      "--------------------------------------------\n",
      "max_depth: 7\n",
      "MSE: 5.153591204994831\n",
      "--------------------------------------------\n",
      "max_depth: 8\n",
      "MSE: 5.132349287491448\n",
      "--------------------------------------------\n",
      "max_depth: 9\n",
      "MSE: 5.0967532830413536\n",
      "--------------------------------------------\n",
      "max_depth: 10\n",
      "MSE: 5.063229204642131\n",
      "--------------------------------------------\n",
      "max_depth: 11\n",
      "MSE: 5.193188084465128\n",
      "--------------------------------------------\n",
      "max_depth: 12\n",
      "MSE: 5.271393432667224\n",
      "--------------------------------------------\n",
      "max_depth: 13\n",
      "MSE: 5.092865718227058\n",
      "--------------------------------------------\n",
      "max_depth: 14\n",
      "MSE: 5.108350639039459\n",
      "--------------------------------------------\n",
      "max_depth: 15\n",
      "MSE: 5.121324816350768\n",
      "--------------------------------------------\n",
      "max_depth: 16\n",
      "MSE: 4.939303360611502\n",
      "--------------------------------------------\n",
      "max_depth: 17\n",
      "MSE: 5.0574392318154615\n",
      "--------------------------------------------\n",
      "max_depth: 18\n",
      "MSE: 4.957542876349726\n",
      "--------------------------------------------\n",
      "max_depth: 19\n",
      "MSE: 4.9639518519742545\n",
      "--------------------------------------------\n",
      "max_depth: 20\n",
      "MSE: 4.971337544439045\n",
      "--------------------------------------------\n"
     ]
    }
   ],
   "source": [
    "mses = {}\n",
    "max_depths = list(range(2, 21))\n",
    "for max_depth in max_depths:\n",
    "    tree = DecisionTreeRegressor(max_depth=max_depth)\n",
    "    tree.fit(train_X, train_y)\n",
    "    mses[max_depth] = MSE(test_y, tree.predict(test_X))\n",
    "    print('max_depth:', max_depth)\n",
    "    print('MSE:', mses[max_depth])\n",
    "    print('--------------------------------------------')"
   ]
  },
  {
   "cell_type": "code",
   "execution_count": 33,
   "id": "physical-draft",
   "metadata": {
    "ExecuteTime": {
     "end_time": "2021-10-12T07:44:47.527242Z",
     "start_time": "2021-10-12T07:44:47.501287Z"
    }
   },
   "outputs": [],
   "source": [
    "tree = DecisionTreeRegressor(max_depth=20)"
   ]
  },
  {
   "cell_type": "code",
   "execution_count": 34,
   "id": "particular-escape",
   "metadata": {
    "ExecuteTime": {
     "end_time": "2021-10-12T07:46:53.489625Z",
     "start_time": "2021-10-12T07:44:47.893412Z"
    },
    "scrolled": true
   },
   "outputs": [
    {
     "data": {
      "text/plain": [
       "DecisionTreeRegressor(max_depth=20)"
      ]
     },
     "execution_count": 34,
     "metadata": {},
     "output_type": "execute_result"
    }
   ],
   "source": [
    "tree.fit(all_sales.drop(columns=['item_cnt_day']), all_sales.item_cnt_day.clip(0, 20))"
   ]
  },
  {
   "cell_type": "code",
   "execution_count": 35,
   "id": "challenging-reliance",
   "metadata": {
    "ExecuteTime": {
     "end_time": "2021-10-12T07:46:56.200026Z",
     "start_time": "2021-10-12T07:46:53.513591Z"
    }
   },
   "outputs": [],
   "source": [
    "test = pd.read_csv('data/test.csv', index_col='ID')\n",
    "test['date_block_num'] = 34\n",
    "test = test.merge(items.drop(columns=['item_name']), on='item_id', how='left')\n",
    "test = test[['date_block_num', 'shop_id', 'item_id', 'item_category_id']]\n",
    "\n",
    "submission = pd.read_csv('data/sample_submission.csv')\n",
    "predicted = tree.predict(test)\n",
    "submission.item_cnt_month = predicted\n",
    "submission.to_csv('data/my_submission_3.csv', index=None)"
   ]
  },
  {
   "cell_type": "code",
   "execution_count": 36,
   "id": "other-introduction",
   "metadata": {
    "ExecuteTime": {
     "end_time": "2021-10-12T07:52:44.186759Z",
     "start_time": "2021-10-12T07:52:44.103893Z"
    }
   },
   "outputs": [
    {
     "data": {
      "text/html": [
       "<div>\n",
       "<style scoped>\n",
       "    .dataframe tbody tr th:only-of-type {\n",
       "        vertical-align: middle;\n",
       "    }\n",
       "\n",
       "    .dataframe tbody tr th {\n",
       "        vertical-align: top;\n",
       "    }\n",
       "\n",
       "    .dataframe thead th {\n",
       "        text-align: right;\n",
       "    }\n",
       "</style>\n",
       "<table border=\"1\" class=\"dataframe\">\n",
       "  <thead>\n",
       "    <tr style=\"text-align: right;\">\n",
       "      <th></th>\n",
       "      <th>date_block_num</th>\n",
       "      <th>shop_id</th>\n",
       "      <th>item_id</th>\n",
       "      <th>item_category_id</th>\n",
       "    </tr>\n",
       "  </thead>\n",
       "  <tbody>\n",
       "    <tr>\n",
       "      <th>0</th>\n",
       "      <td>34</td>\n",
       "      <td>5</td>\n",
       "      <td>5037</td>\n",
       "      <td>19</td>\n",
       "    </tr>\n",
       "    <tr>\n",
       "      <th>1</th>\n",
       "      <td>34</td>\n",
       "      <td>5</td>\n",
       "      <td>5320</td>\n",
       "      <td>55</td>\n",
       "    </tr>\n",
       "    <tr>\n",
       "      <th>2</th>\n",
       "      <td>34</td>\n",
       "      <td>5</td>\n",
       "      <td>5233</td>\n",
       "      <td>19</td>\n",
       "    </tr>\n",
       "    <tr>\n",
       "      <th>3</th>\n",
       "      <td>34</td>\n",
       "      <td>5</td>\n",
       "      <td>5232</td>\n",
       "      <td>23</td>\n",
       "    </tr>\n",
       "    <tr>\n",
       "      <th>4</th>\n",
       "      <td>34</td>\n",
       "      <td>5</td>\n",
       "      <td>5268</td>\n",
       "      <td>20</td>\n",
       "    </tr>\n",
       "    <tr>\n",
       "      <th>...</th>\n",
       "      <td>...</td>\n",
       "      <td>...</td>\n",
       "      <td>...</td>\n",
       "      <td>...</td>\n",
       "    </tr>\n",
       "    <tr>\n",
       "      <th>214195</th>\n",
       "      <td>34</td>\n",
       "      <td>45</td>\n",
       "      <td>18454</td>\n",
       "      <td>55</td>\n",
       "    </tr>\n",
       "    <tr>\n",
       "      <th>214196</th>\n",
       "      <td>34</td>\n",
       "      <td>45</td>\n",
       "      <td>16188</td>\n",
       "      <td>64</td>\n",
       "    </tr>\n",
       "    <tr>\n",
       "      <th>214197</th>\n",
       "      <td>34</td>\n",
       "      <td>45</td>\n",
       "      <td>15757</td>\n",
       "      <td>55</td>\n",
       "    </tr>\n",
       "    <tr>\n",
       "      <th>214198</th>\n",
       "      <td>34</td>\n",
       "      <td>45</td>\n",
       "      <td>19648</td>\n",
       "      <td>40</td>\n",
       "    </tr>\n",
       "    <tr>\n",
       "      <th>214199</th>\n",
       "      <td>34</td>\n",
       "      <td>45</td>\n",
       "      <td>969</td>\n",
       "      <td>37</td>\n",
       "    </tr>\n",
       "  </tbody>\n",
       "</table>\n",
       "<p>214200 rows × 4 columns</p>\n",
       "</div>"
      ],
      "text/plain": [
       "        date_block_num  shop_id  item_id  item_category_id\n",
       "0                   34        5     5037                19\n",
       "1                   34        5     5320                55\n",
       "2                   34        5     5233                19\n",
       "3                   34        5     5232                23\n",
       "4                   34        5     5268                20\n",
       "...                ...      ...      ...               ...\n",
       "214195              34       45    18454                55\n",
       "214196              34       45    16188                64\n",
       "214197              34       45    15757                55\n",
       "214198              34       45    19648                40\n",
       "214199              34       45      969                37\n",
       "\n",
       "[214200 rows x 4 columns]"
      ]
     },
     "execution_count": 36,
     "metadata": {},
     "output_type": "execute_result"
    }
   ],
   "source": [
    "test"
   ]
  },
  {
   "cell_type": "markdown",
   "id": "environmental-johns",
   "metadata": {},
   "source": [
    "tree score = 1.15164"
   ]
  },
  {
   "cell_type": "code",
   "execution_count": 40,
   "id": "shaped-fleet",
   "metadata": {
    "ExecuteTime": {
     "end_time": "2021-10-12T08:29:18.898972Z",
     "start_time": "2021-10-12T07:57:11.660458Z"
    }
   },
   "outputs": [
    {
     "data": {
      "text/plain": [
       "XGBRegressor(base_score=0.5, booster='gbtree', colsample_bylevel=1,\n",
       "             colsample_bynode=1, colsample_bytree=1, gamma=0, gpu_id=-1,\n",
       "             importance_type='gain', interaction_constraints='',\n",
       "             learning_rate=0.300000012, max_delta_step=0, max_depth=6,\n",
       "             min_child_weight=1, missing=nan, monotone_constraints='()',\n",
       "             n_estimators=100, n_jobs=4, num_parallel_tree=1, random_state=0,\n",
       "             reg_alpha=0, reg_lambda=1, scale_pos_weight=1, subsample=1,\n",
       "             tree_method='approx', validate_parameters=1, verbosity=None)"
      ]
     },
     "execution_count": 40,
     "metadata": {},
     "output_type": "execute_result"
    }
   ],
   "source": [
    "xgb_model = XGBRegressor(n_estimators=100, max_depth=6)\n",
    "xgb_model.fit(all_sales.drop(columns=['item_cnt_day']), all_sales.item_cnt_day.clip(0, 20))"
   ]
  },
  {
   "cell_type": "code",
   "execution_count": 41,
   "id": "enormous-moisture",
   "metadata": {
    "ExecuteTime": {
     "end_time": "2021-10-12T08:29:21.628421Z",
     "start_time": "2021-10-12T08:29:18.943069Z"
    }
   },
   "outputs": [],
   "source": [
    "xgb_predicted = xgb_model.predict(test)\n",
    "submission.item_cnt_month = xgb_predicted\n",
    "submission.to_csv('data/my_submission_4.csv', index=None)"
   ]
  },
  {
   "cell_type": "markdown",
   "id": "turkish-powell",
   "metadata": {},
   "source": [
    "xgb score = 1.09442"
   ]
  },
  {
   "cell_type": "code",
   "execution_count": null,
   "id": "willing-example",
   "metadata": {},
   "outputs": [],
   "source": []
  }
 ],
 "metadata": {
  "kernelspec": {
   "display_name": "Python 3",
   "language": "python",
   "name": "python3"
  },
  "language_info": {
   "codemirror_mode": {
    "name": "ipython",
    "version": 3
   },
   "file_extension": ".py",
   "mimetype": "text/x-python",
   "name": "python",
   "nbconvert_exporter": "python",
   "pygments_lexer": "ipython3",
   "version": "3.9.0"
  },
  "toc": {
   "base_numbering": 1,
   "nav_menu": {},
   "number_sections": true,
   "sideBar": true,
   "skip_h1_title": false,
   "title_cell": "Table of Contents",
   "title_sidebar": "Contents",
   "toc_cell": false,
   "toc_position": {},
   "toc_section_display": true,
   "toc_window_display": false
  }
 },
 "nbformat": 4,
 "nbformat_minor": 5
}
