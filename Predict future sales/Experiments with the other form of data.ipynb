{
 "cells": [
  {
   "cell_type": "code",
   "execution_count": 1,
   "id": "postal-ticket",
   "metadata": {
    "ExecuteTime": {
     "end_time": "2021-10-15T17:36:27.340169Z",
     "start_time": "2021-10-15T17:36:16.071442Z"
    }
   },
   "outputs": [],
   "source": [
    "import numpy as np\n",
    "import pandas as pd\n",
    "import datetime\n",
    "import matplotlib.pyplot as plt\n",
    "from sklearn.tree import DecisionTreeRegressor\n",
    "from sklearn.ensemble import RandomForestRegressor, GradientBoostingRegressor\n",
    "from itertools import product\n",
    "from lightgbm import LGBMRegressor\n",
    "import xgboost as xgb\n",
    "from xgboost import XGBRegressor\n",
    "def MSE(series_true, series_predicted):\n",
    "    return sum((series_true - series_predicted)**2 / len(series_true))**0.5"
   ]
  },
  {
   "cell_type": "markdown",
   "id": "first-people",
   "metadata": {},
   "source": [
    "Here are the results of modelling with data that contains 4 features: date_block_num, shop_id, item_id and item_category_id"
   ]
  },
  {
   "cell_type": "markdown",
   "id": "organizational-correction",
   "metadata": {},
   "source": [
    "xgboost"
   ]
  },
  {
   "cell_type": "code",
   "execution_count": 22,
   "id": "foreign-avenue",
   "metadata": {
    "ExecuteTime": {
     "end_time": "2021-10-11T13:23:07.883317Z",
     "start_time": "2021-10-11T13:23:07.851196Z"
    }
   },
   "outputs": [],
   "source": [
    "xgb_model = XGBRegressor(n_estimators=100, max_depth=6)"
   ]
  },
  {
   "cell_type": "code",
   "execution_count": 24,
   "id": "electric-brother",
   "metadata": {
    "ExecuteTime": {
     "end_time": "2021-10-11T13:56:27.595259Z",
     "start_time": "2021-10-11T13:23:53.573870Z"
    }
   },
   "outputs": [
    {
     "data": {
      "text/plain": [
       "XGBRegressor(base_score=0.5, booster='gbtree', colsample_bylevel=1,\n",
       "             colsample_bynode=1, colsample_bytree=1, gamma=0, gpu_id=-1,\n",
       "             importance_type='gain', interaction_constraints='',\n",
       "             learning_rate=0.300000012, max_delta_step=0, max_depth=6,\n",
       "             min_child_weight=1, missing=nan, monotone_constraints='()',\n",
       "             n_estimators=100, n_jobs=4, num_parallel_tree=1, random_state=0,\n",
       "             reg_alpha=0, reg_lambda=1, scale_pos_weight=1, subsample=1,\n",
       "             tree_method='approx', validate_parameters=1, verbosity=None)"
      ]
     },
     "execution_count": 24,
     "metadata": {},
     "output_type": "execute_result"
    }
   ],
   "source": [
    "xgb_model.fit(train_X, train_y)"
   ]
  },
  {
   "cell_type": "code",
   "execution_count": 27,
   "id": "minor-indication",
   "metadata": {
    "ExecuteTime": {
     "end_time": "2021-10-11T14:34:14.242045Z",
     "start_time": "2021-10-11T14:34:13.693774Z"
    }
   },
   "outputs": [
    {
     "data": {
      "text/plain": [
       "4.995693356637923"
      ]
     },
     "execution_count": 27,
     "metadata": {},
     "output_type": "execute_result"
    }
   ],
   "source": [
    "MSE(test_y, xgb_model.predict(test_X))"
   ]
  },
  {
   "cell_type": "markdown",
   "id": "utility-elder",
   "metadata": {},
   "source": [
    "xgboost with clipping"
   ]
  },
  {
   "cell_type": "code",
   "execution_count": 18,
   "id": "ahead-anchor",
   "metadata": {
    "ExecuteTime": {
     "end_time": "2021-10-11T18:00:17.943083Z",
     "start_time": "2021-10-11T17:31:14.585422Z"
    },
    "collapsed": true
   },
   "outputs": [
    {
     "ename": "NameError",
     "evalue": "name 'MSE' is not defined",
     "output_type": "error",
     "traceback": [
      "\u001b[1;31m---------------------------------------------------------------------------\u001b[0m",
      "\u001b[1;31mNameError\u001b[0m                                 Traceback (most recent call last)",
      "\u001b[1;32m<ipython-input-18-ccebec2467ed>\u001b[0m in \u001b[0;36m<module>\u001b[1;34m\u001b[0m\n\u001b[0;32m      1\u001b[0m \u001b[0mxgb_model\u001b[0m \u001b[1;33m=\u001b[0m \u001b[0mXGBRegressor\u001b[0m\u001b[1;33m(\u001b[0m\u001b[0mn_estimators\u001b[0m\u001b[1;33m=\u001b[0m\u001b[1;36m100\u001b[0m\u001b[1;33m,\u001b[0m \u001b[0mmax_depth\u001b[0m\u001b[1;33m=\u001b[0m\u001b[1;36m6\u001b[0m\u001b[1;33m)\u001b[0m\u001b[1;33m\u001b[0m\u001b[1;33m\u001b[0m\u001b[0m\n\u001b[0;32m      2\u001b[0m \u001b[0mxgb_model\u001b[0m\u001b[1;33m.\u001b[0m\u001b[0mfit\u001b[0m\u001b[1;33m(\u001b[0m\u001b[0mtrain_X\u001b[0m\u001b[1;33m,\u001b[0m \u001b[0mtrain_y\u001b[0m\u001b[1;33m.\u001b[0m\u001b[0mclip\u001b[0m\u001b[1;33m(\u001b[0m\u001b[1;36m0\u001b[0m\u001b[1;33m,\u001b[0m \u001b[1;36m20\u001b[0m\u001b[1;33m)\u001b[0m\u001b[1;33m)\u001b[0m\u001b[1;33m\u001b[0m\u001b[1;33m\u001b[0m\u001b[0m\n\u001b[1;32m----> 3\u001b[1;33m \u001b[0mMSE\u001b[0m\u001b[1;33m(\u001b[0m\u001b[0mtest_y\u001b[0m\u001b[1;33m,\u001b[0m \u001b[0mxgb_model\u001b[0m\u001b[1;33m.\u001b[0m\u001b[0mpredict\u001b[0m\u001b[1;33m(\u001b[0m\u001b[0mtest_X\u001b[0m\u001b[1;33m)\u001b[0m\u001b[1;33m)\u001b[0m\u001b[1;33m\u001b[0m\u001b[1;33m\u001b[0m\u001b[0m\n\u001b[0m",
      "\u001b[1;31mNameError\u001b[0m: name 'MSE' is not defined"
     ]
    }
   ],
   "source": [
    "xgb_model = XGBRegressor(n_estimators=100, max_depth=6)\n",
    "xgb_model.fit(train_X, train_y.clip(0, 20))"
   ]
  },
  {
   "cell_type": "code",
   "execution_count": 23,
   "id": "imperial-characterization",
   "metadata": {
    "ExecuteTime": {
     "end_time": "2021-10-11T18:04:05.410700Z",
     "start_time": "2021-10-11T18:04:04.936662Z"
    },
    "scrolled": true
   },
   "outputs": [
    {
     "data": {
      "text/plain": [
       "1.0138673005794732"
      ]
     },
     "execution_count": 23,
     "metadata": {},
     "output_type": "execute_result"
    }
   ],
   "source": [
    "MSE(test_y.clip(0, 20), xgb_model.predict(test_X))"
   ]
  },
  {
   "cell_type": "code",
   "execution_count": 24,
   "id": "constant-quarterly",
   "metadata": {
    "ExecuteTime": {
     "end_time": "2021-10-11T18:04:29.550386Z",
     "start_time": "2021-10-11T18:04:29.102971Z"
    }
   },
   "outputs": [
    {
     "data": {
      "text/plain": [
       "5.2544421849370195"
      ]
     },
     "execution_count": 24,
     "metadata": {},
     "output_type": "execute_result"
    }
   ],
   "source": [
    "MSE(test_y, xgb_model.predict(test_X))"
   ]
  },
  {
   "cell_type": "markdown",
   "id": "operating-joint",
   "metadata": {},
   "source": [
    "boosting"
   ]
  },
  {
   "cell_type": "code",
   "execution_count": 85,
   "id": "restricted-killer",
   "metadata": {
    "ExecuteTime": {
     "end_time": "2021-10-01T06:47:23.843225Z",
     "start_time": "2021-10-01T06:47:23.807282Z"
    }
   },
   "outputs": [],
   "source": [
    "boosting = GradientBoostingRegressor(n_estimators=200)"
   ]
  },
  {
   "cell_type": "code",
   "execution_count": 86,
   "id": "understood-translation",
   "metadata": {
    "ExecuteTime": {
     "end_time": "2021-10-01T08:24:18.054077Z",
     "start_time": "2021-10-01T06:47:23.863193Z"
    }
   },
   "outputs": [
    {
     "data": {
      "text/plain": [
       "GradientBoostingRegressor(n_estimators=200)"
      ]
     },
     "execution_count": 86,
     "metadata": {},
     "output_type": "execute_result"
    }
   ],
   "source": [
    "boosting.fit(train_X, train_y)"
   ]
  },
  {
   "cell_type": "code",
   "execution_count": 87,
   "id": "filled-delta",
   "metadata": {
    "ExecuteTime": {
     "end_time": "2021-10-01T08:24:19.671475Z",
     "start_time": "2021-10-01T08:24:18.089195Z"
    }
   },
   "outputs": [],
   "source": [
    "predicted = boosting.predict(test_X)"
   ]
  },
  {
   "cell_type": "code",
   "execution_count": 33,
   "id": "physical-draft",
   "metadata": {
    "ExecuteTime": {
     "end_time": "2021-10-12T07:44:47.527242Z",
     "start_time": "2021-10-12T07:44:47.501287Z"
    }
   },
   "outputs": [],
   "source": [
    "tree = DecisionTreeRegressor(max_depth=20)"
   ]
  },
  {
   "cell_type": "code",
   "execution_count": 34,
   "id": "particular-escape",
   "metadata": {
    "ExecuteTime": {
     "end_time": "2021-10-12T07:46:53.489625Z",
     "start_time": "2021-10-12T07:44:47.893412Z"
    },
    "scrolled": true
   },
   "outputs": [
    {
     "data": {
      "text/plain": [
       "DecisionTreeRegressor(max_depth=20)"
      ]
     },
     "execution_count": 34,
     "metadata": {},
     "output_type": "execute_result"
    }
   ],
   "source": [
    "tree.fit(all_sales.drop(columns=['item_cnt_day']), all_sales.item_cnt_day.clip(0, 20))"
   ]
  },
  {
   "cell_type": "code",
   "execution_count": 35,
   "id": "challenging-reliance",
   "metadata": {
    "ExecuteTime": {
     "end_time": "2021-10-12T07:46:56.200026Z",
     "start_time": "2021-10-12T07:46:53.513591Z"
    }
   },
   "outputs": [],
   "source": [
    "test = pd.read_csv('data/test.csv', index_col='ID')\n",
    "test['date_block_num'] = 34\n",
    "test = test.merge(items.drop(columns=['item_name']), on='item_id', how='left')\n",
    "test = test[['date_block_num', 'shop_id', 'item_id', 'item_category_id']]\n",
    "\n",
    "submission = pd.read_csv('data/sample_submission.csv')\n",
    "predicted = tree.predict(test)\n",
    "submission.item_cnt_month = predicted\n",
    "submission.to_csv('data/my_submission_3.csv', index=None)"
   ]
  },
  {
   "cell_type": "code",
   "execution_count": 36,
   "id": "other-introduction",
   "metadata": {
    "ExecuteTime": {
     "end_time": "2021-10-12T07:52:44.186759Z",
     "start_time": "2021-10-12T07:52:44.103893Z"
    }
   },
   "outputs": [
    {
     "data": {
      "text/html": [
       "<div>\n",
       "<style scoped>\n",
       "    .dataframe tbody tr th:only-of-type {\n",
       "        vertical-align: middle;\n",
       "    }\n",
       "\n",
       "    .dataframe tbody tr th {\n",
       "        vertical-align: top;\n",
       "    }\n",
       "\n",
       "    .dataframe thead th {\n",
       "        text-align: right;\n",
       "    }\n",
       "</style>\n",
       "<table border=\"1\" class=\"dataframe\">\n",
       "  <thead>\n",
       "    <tr style=\"text-align: right;\">\n",
       "      <th></th>\n",
       "      <th>date_block_num</th>\n",
       "      <th>shop_id</th>\n",
       "      <th>item_id</th>\n",
       "      <th>item_category_id</th>\n",
       "    </tr>\n",
       "  </thead>\n",
       "  <tbody>\n",
       "    <tr>\n",
       "      <th>0</th>\n",
       "      <td>34</td>\n",
       "      <td>5</td>\n",
       "      <td>5037</td>\n",
       "      <td>19</td>\n",
       "    </tr>\n",
       "    <tr>\n",
       "      <th>1</th>\n",
       "      <td>34</td>\n",
       "      <td>5</td>\n",
       "      <td>5320</td>\n",
       "      <td>55</td>\n",
       "    </tr>\n",
       "    <tr>\n",
       "      <th>2</th>\n",
       "      <td>34</td>\n",
       "      <td>5</td>\n",
       "      <td>5233</td>\n",
       "      <td>19</td>\n",
       "    </tr>\n",
       "    <tr>\n",
       "      <th>3</th>\n",
       "      <td>34</td>\n",
       "      <td>5</td>\n",
       "      <td>5232</td>\n",
       "      <td>23</td>\n",
       "    </tr>\n",
       "    <tr>\n",
       "      <th>4</th>\n",
       "      <td>34</td>\n",
       "      <td>5</td>\n",
       "      <td>5268</td>\n",
       "      <td>20</td>\n",
       "    </tr>\n",
       "    <tr>\n",
       "      <th>...</th>\n",
       "      <td>...</td>\n",
       "      <td>...</td>\n",
       "      <td>...</td>\n",
       "      <td>...</td>\n",
       "    </tr>\n",
       "    <tr>\n",
       "      <th>214195</th>\n",
       "      <td>34</td>\n",
       "      <td>45</td>\n",
       "      <td>18454</td>\n",
       "      <td>55</td>\n",
       "    </tr>\n",
       "    <tr>\n",
       "      <th>214196</th>\n",
       "      <td>34</td>\n",
       "      <td>45</td>\n",
       "      <td>16188</td>\n",
       "      <td>64</td>\n",
       "    </tr>\n",
       "    <tr>\n",
       "      <th>214197</th>\n",
       "      <td>34</td>\n",
       "      <td>45</td>\n",
       "      <td>15757</td>\n",
       "      <td>55</td>\n",
       "    </tr>\n",
       "    <tr>\n",
       "      <th>214198</th>\n",
       "      <td>34</td>\n",
       "      <td>45</td>\n",
       "      <td>19648</td>\n",
       "      <td>40</td>\n",
       "    </tr>\n",
       "    <tr>\n",
       "      <th>214199</th>\n",
       "      <td>34</td>\n",
       "      <td>45</td>\n",
       "      <td>969</td>\n",
       "      <td>37</td>\n",
       "    </tr>\n",
       "  </tbody>\n",
       "</table>\n",
       "<p>214200 rows × 4 columns</p>\n",
       "</div>"
      ],
      "text/plain": [
       "        date_block_num  shop_id  item_id  item_category_id\n",
       "0                   34        5     5037                19\n",
       "1                   34        5     5320                55\n",
       "2                   34        5     5233                19\n",
       "3                   34        5     5232                23\n",
       "4                   34        5     5268                20\n",
       "...                ...      ...      ...               ...\n",
       "214195              34       45    18454                55\n",
       "214196              34       45    16188                64\n",
       "214197              34       45    15757                55\n",
       "214198              34       45    19648                40\n",
       "214199              34       45      969                37\n",
       "\n",
       "[214200 rows x 4 columns]"
      ]
     },
     "execution_count": 36,
     "metadata": {},
     "output_type": "execute_result"
    }
   ],
   "source": [
    "test"
   ]
  },
  {
   "cell_type": "markdown",
   "id": "environmental-johns",
   "metadata": {},
   "source": [
    "tree score = 1.15164"
   ]
  },
  {
   "cell_type": "code",
   "execution_count": 40,
   "id": "shaped-fleet",
   "metadata": {
    "ExecuteTime": {
     "end_time": "2021-10-12T08:29:18.898972Z",
     "start_time": "2021-10-12T07:57:11.660458Z"
    }
   },
   "outputs": [
    {
     "data": {
      "text/plain": [
       "XGBRegressor(base_score=0.5, booster='gbtree', colsample_bylevel=1,\n",
       "             colsample_bynode=1, colsample_bytree=1, gamma=0, gpu_id=-1,\n",
       "             importance_type='gain', interaction_constraints='',\n",
       "             learning_rate=0.300000012, max_delta_step=0, max_depth=6,\n",
       "             min_child_weight=1, missing=nan, monotone_constraints='()',\n",
       "             n_estimators=100, n_jobs=4, num_parallel_tree=1, random_state=0,\n",
       "             reg_alpha=0, reg_lambda=1, scale_pos_weight=1, subsample=1,\n",
       "             tree_method='approx', validate_parameters=1, verbosity=None)"
      ]
     },
     "execution_count": 40,
     "metadata": {},
     "output_type": "execute_result"
    }
   ],
   "source": [
    "xgb_model = XGBRegressor(n_estimators=100, max_depth=6)\n",
    "xgb_model.fit(all_sales.drop(columns=['item_cnt_day']), all_sales.item_cnt_day.clip(0, 20))"
   ]
  },
  {
   "cell_type": "code",
   "execution_count": 41,
   "id": "enormous-moisture",
   "metadata": {
    "ExecuteTime": {
     "end_time": "2021-10-12T08:29:21.628421Z",
     "start_time": "2021-10-12T08:29:18.943069Z"
    }
   },
   "outputs": [],
   "source": [
    "xgb_predicted = xgb_model.predict(test)\n",
    "submission.item_cnt_month = xgb_predicted\n",
    "submission.to_csv('data/my_submission_4.csv', index=None)"
   ]
  },
  {
   "cell_type": "markdown",
   "id": "turkish-powell",
   "metadata": {},
   "source": [
    "xgb score = 1.09442"
   ]
  },
  {
   "cell_type": "markdown",
   "id": "fewer-script",
   "metadata": {},
   "source": [
    "Here is feature engineering."
   ]
  },
  {
   "cell_type": "markdown",
   "id": "separate-register",
   "metadata": {},
   "source": [
    "The function that creates lag features"
   ]
  },
  {
   "cell_type": "code",
   "execution_count": 2,
   "id": "mighty-reputation",
   "metadata": {
    "ExecuteTime": {
     "end_time": "2021-10-15T17:36:27.372161Z",
     "start_time": "2021-10-15T17:36:27.348167Z"
    }
   },
   "outputs": [],
   "source": [
    "def lag_feature(df, lag, col, merge_cols):        \n",
    "    temp = df[merge_cols + [col]]\n",
    "    temp = temp.groupby(merge_cols).agg({f'{col}':'first'}).reset_index()\n",
    "    temp.columns = merge_cols + [f'{col}_lag{lag}']\n",
    "    temp['date_block_num'] += lag\n",
    "    df = pd.merge(df, temp, on=merge_cols, how='left')\n",
    "    df[f'{col}_lag{lag}'] = df[f'{col}_lag{lag}'].fillna(0).astype('float32')\n",
    "    return df"
   ]
  },
  {
   "cell_type": "markdown",
   "id": "guilty-workshop",
   "metadata": {},
   "source": [
    "Expanding the test table for concatenating it with the train table"
   ]
  },
  {
   "cell_type": "code",
   "execution_count": 3,
   "id": "heated-intermediate",
   "metadata": {
    "ExecuteTime": {
     "end_time": "2021-10-15T17:36:27.933998Z",
     "start_time": "2021-10-15T17:36:27.618595Z"
    }
   },
   "outputs": [],
   "source": [
    "test = pd.read_csv('data/test.csv', index_col='ID')\n",
    "test['date_block_num'] = 34\n",
    "test = test[['date_block_num', 'shop_id', 'item_id']]\n",
    "test['item_cnt_day'] = test['item_price'] = 0"
   ]
  },
  {
   "cell_type": "markdown",
   "id": "corresponding-vaccine",
   "metadata": {},
   "source": [
    "Here the table train + test is expanded by adding rows for each month such that all rows of each month contain info about all (shop, item) elements if at least one of them is \"active\" (there are rows with this value)."
   ]
  },
  {
   "cell_type": "code",
   "execution_count": 4,
   "id": "crude-irish",
   "metadata": {
    "ExecuteTime": {
     "end_time": "2021-10-15T17:37:32.308364Z",
     "start_time": "2021-10-15T17:36:28.547963Z"
    }
   },
   "outputs": [],
   "source": [
    "train_sales = pd.read_csv('data/sales_train.csv').drop(columns='date')\n",
    "train_sales = pd.concat([train_sales, test], ignore_index=True)\n",
    "train_sales = train_sales.groupby(['shop_id', 'item_id', 'date_block_num']).agg({'item_cnt_day': 'sum'}).reset_index()\n",
    "\n",
    "train = []\n",
    "\n",
    "for i in train_sales['date_block_num'].unique():\n",
    "    all_shop = train_sales.loc[train_sales['date_block_num']==i, 'shop_id'].unique()\n",
    "    all_item = train_sales.loc[train_sales['date_block_num']==i, 'item_id'].unique()\n",
    "    train.append(np.array(list(product([i], all_shop, all_item))))\n",
    "\n",
    "idx_features = ['date_block_num', 'shop_id', 'item_id']\n",
    "train = pd.DataFrame(np.vstack(train), columns=idx_features)\n",
    "\n",
    "all_sales = train.merge(train_sales, how='left', on=idx_features)\n",
    "all_sales.fillna(value=0, inplace=True)"
   ]
  },
  {
   "cell_type": "markdown",
   "id": "committed-monroe",
   "metadata": {},
   "source": [
    "Reducing the memory size."
   ]
  },
  {
   "cell_type": "code",
   "execution_count": 5,
   "id": "junior-partition",
   "metadata": {
    "ExecuteTime": {
     "end_time": "2021-10-15T17:37:32.400042Z",
     "start_time": "2021-10-15T17:37:32.308364Z"
    }
   },
   "outputs": [],
   "source": [
    "del train_sales\n",
    "del train\n",
    "del all_shop\n",
    "del all_item"
   ]
  },
  {
   "cell_type": "code",
   "execution_count": 6,
   "id": "blond-genre",
   "metadata": {
    "ExecuteTime": {
     "end_time": "2021-10-15T17:37:32.863960Z",
     "start_time": "2021-10-15T17:37:32.408041Z"
    }
   },
   "outputs": [],
   "source": [
    "all_sales = all_sales.astype({\n",
    "    'date_block_num': 'int8',\n",
    "    'shop_id': 'int32',\n",
    "    'item_id': 'int32',\n",
    "    'item_cnt_day': 'int32'\n",
    "})"
   ]
  },
  {
   "cell_type": "code",
   "execution_count": 7,
   "id": "collect-latino",
   "metadata": {
    "ExecuteTime": {
     "end_time": "2021-10-15T17:37:33.224678Z",
     "start_time": "2021-10-15T17:37:32.871966Z"
    },
    "scrolled": true
   },
   "outputs": [
    {
     "name": "stdout",
     "output_type": "stream",
     "text": [
      "<class 'pandas.core.frame.DataFrame'>\n",
      "Int64Index: 11128050 entries, 0 to 11128049\n",
      "Data columns (total 4 columns):\n",
      " #   Column          Non-Null Count     Dtype\n",
      "---  ------          --------------     -----\n",
      " 0   date_block_num  11128050 non-null  int8 \n",
      " 1   shop_id         11128050 non-null  int32\n",
      " 2   item_id         11128050 non-null  int32\n",
      " 3   item_cnt_day    11128050 non-null  int32\n",
      "dtypes: int32(3), int8(1)\n",
      "memory usage: 222.9 MB\n"
     ]
    }
   ],
   "source": [
    "all_sales.info(null_counts=True)"
   ]
  },
  {
   "cell_type": "markdown",
   "id": "fiscal-reunion",
   "metadata": {},
   "source": [
    "Replacing all shop_ids that equals to 0, 1 or 10 to the value 57, 58 or 11 respectively."
   ]
  },
  {
   "cell_type": "code",
   "execution_count": 8,
   "id": "conscious-newsletter",
   "metadata": {
    "ExecuteTime": {
     "end_time": "2021-10-15T17:37:33.847079Z",
     "start_time": "2021-10-15T17:37:33.232680Z"
    }
   },
   "outputs": [],
   "source": [
    "all_sales.shop_id.replace(to_replace=[0, 1, 10], value=[57, 58, 11], inplace=True)"
   ]
  },
  {
   "cell_type": "code",
   "execution_count": 9,
   "id": "continental-amendment",
   "metadata": {
    "ExecuteTime": {
     "end_time": "2021-10-15T17:37:34.033217Z",
     "start_time": "2021-10-15T17:37:33.847079Z"
    }
   },
   "outputs": [],
   "source": [
    "item_categories = pd.read_csv('data/item_categories_1.csv', dtype='int8')\n",
    "shops = pd.read_csv('data/shops_1.csv', dtype='int8')\n",
    "\n",
    "items = pd.read_csv('data/items.csv')\n",
    "items.drop(columns='item_name', inplace=True)\n",
    "items = items.astype('int32')"
   ]
  },
  {
   "cell_type": "markdown",
   "id": "forced-ordering",
   "metadata": {},
   "source": [
    "As I used one-hot-encoding for encoding the items and shops, now I use label encoding. This function \"converts\" one-hot-encoding to label encoding."
   ]
  },
  {
   "cell_type": "code",
   "execution_count": 10,
   "id": "progressive-costume",
   "metadata": {
    "ExecuteTime": {
     "end_time": "2021-10-15T17:37:34.065216Z",
     "start_time": "2021-10-15T17:37:34.033217Z"
    }
   },
   "outputs": [],
   "source": [
    "def from_one_hot_to_label(df, cols, dtype='int8'):\n",
    "    return (df[cols] * range(len(cols))).sum(axis=1).astype(dtype)"
   ]
  },
  {
   "cell_type": "code",
   "execution_count": 11,
   "id": "changed-brother",
   "metadata": {
    "ExecuteTime": {
     "end_time": "2021-10-15T17:37:34.145203Z",
     "start_time": "2021-10-15T17:37:34.073215Z"
    },
    "scrolled": false
   },
   "outputs": [],
   "source": [
    "item_super_categories = item_categories.columns[item_categories.columns.str.endswith('_super_category')]\n",
    "item_categories['super_category_label'] = from_one_hot_to_label(item_categories, item_super_categories)\n",
    "\n",
    "item_simple_categories = item_categories.columns[item_categories.columns.str.endswith('_category')]\n",
    "item_categories['simple_category_label'] = from_one_hot_to_label(item_categories, item_simple_categories)\n",
    "\n",
    "item_categories = item_categories[['item_category_id', 'super_category_label', 'simple_category_label']]"
   ]
  },
  {
   "cell_type": "code",
   "execution_count": 12,
   "id": "numeric-henry",
   "metadata": {
    "ExecuteTime": {
     "end_time": "2021-10-15T17:37:34.209196Z",
     "start_time": "2021-10-15T17:37:34.153200Z"
    }
   },
   "outputs": [],
   "source": [
    "shop_types = shops.columns[shops.columns.str.endswith('_shop_type')]\n",
    "shops['type_label'] = from_one_hot_to_label(shops, shop_types)\n",
    "\n",
    "shop_cities = shops.columns[shops.columns.str.endswith('_city')]\n",
    "shops['city_label'] = from_one_hot_to_label(shops, shop_cities)\n",
    "\n",
    "shops = shops[['shop_id', 'type_label', 'city_label']]"
   ]
  },
  {
   "cell_type": "markdown",
   "id": "modular-courage",
   "metadata": {},
   "source": [
    "Adding the shop and item labels to the all_sales table."
   ]
  },
  {
   "cell_type": "code",
   "execution_count": 13,
   "id": "understood-valve",
   "metadata": {
    "ExecuteTime": {
     "end_time": "2021-10-15T17:37:45.844281Z",
     "start_time": "2021-10-15T17:37:34.217192Z"
    }
   },
   "outputs": [],
   "source": [
    "all_sales = all_sales.merge(items.merge(item_categories, on='item_category_id', how='left'),\n",
    "                            on='item_id', how='left').merge(shops, on='shop_id', how='left')"
   ]
  },
  {
   "cell_type": "code",
   "execution_count": 14,
   "id": "directed-current",
   "metadata": {
    "ExecuteTime": {
     "end_time": "2021-10-15T17:37:45.925274Z",
     "start_time": "2021-10-15T17:37:45.844281Z"
    },
    "scrolled": true
   },
   "outputs": [
    {
     "name": "stdout",
     "output_type": "stream",
     "text": [
      "<class 'pandas.core.frame.DataFrame'>\n",
      "Int64Index: 11128050 entries, 0 to 11128049\n",
      "Data columns (total 9 columns):\n",
      " #   Column                 Dtype\n",
      "---  ------                 -----\n",
      " 0   date_block_num         int8 \n",
      " 1   shop_id                int64\n",
      " 2   item_id                int32\n",
      " 3   item_cnt_day           int32\n",
      " 4   item_category_id       int32\n",
      " 5   super_category_label   int8 \n",
      " 6   simple_category_label  int8 \n",
      " 7   type_label             int8 \n",
      " 8   city_label             int8 \n",
      "dtypes: int32(3), int64(1), int8(5)\n",
      "memory usage: 350.2 MB\n"
     ]
    },
    {
     "data": {
      "text/html": [
       "<div>\n",
       "<style scoped>\n",
       "    .dataframe tbody tr th:only-of-type {\n",
       "        vertical-align: middle;\n",
       "    }\n",
       "\n",
       "    .dataframe tbody tr th {\n",
       "        vertical-align: top;\n",
       "    }\n",
       "\n",
       "    .dataframe thead th {\n",
       "        text-align: right;\n",
       "    }\n",
       "</style>\n",
       "<table border=\"1\" class=\"dataframe\">\n",
       "  <thead>\n",
       "    <tr style=\"text-align: right;\">\n",
       "      <th></th>\n",
       "      <th>date_block_num</th>\n",
       "      <th>shop_id</th>\n",
       "      <th>item_id</th>\n",
       "      <th>item_cnt_day</th>\n",
       "      <th>item_category_id</th>\n",
       "      <th>super_category_label</th>\n",
       "      <th>simple_category_label</th>\n",
       "      <th>type_label</th>\n",
       "      <th>city_label</th>\n",
       "    </tr>\n",
       "  </thead>\n",
       "  <tbody>\n",
       "    <tr>\n",
       "      <th>0</th>\n",
       "      <td>1</td>\n",
       "      <td>57</td>\n",
       "      <td>30</td>\n",
       "      <td>31</td>\n",
       "      <td>40</td>\n",
       "      <td>9</td>\n",
       "      <td>31</td>\n",
       "      <td>0</td>\n",
       "      <td>27</td>\n",
       "    </tr>\n",
       "    <tr>\n",
       "      <th>1</th>\n",
       "      <td>1</td>\n",
       "      <td>57</td>\n",
       "      <td>31</td>\n",
       "      <td>11</td>\n",
       "      <td>37</td>\n",
       "      <td>9</td>\n",
       "      <td>26</td>\n",
       "      <td>0</td>\n",
       "      <td>27</td>\n",
       "    </tr>\n",
       "    <tr>\n",
       "      <th>2</th>\n",
       "      <td>1</td>\n",
       "      <td>57</td>\n",
       "      <td>32</td>\n",
       "      <td>10</td>\n",
       "      <td>40</td>\n",
       "      <td>9</td>\n",
       "      <td>31</td>\n",
       "      <td>0</td>\n",
       "      <td>27</td>\n",
       "    </tr>\n",
       "    <tr>\n",
       "      <th>3</th>\n",
       "      <td>1</td>\n",
       "      <td>57</td>\n",
       "      <td>33</td>\n",
       "      <td>3</td>\n",
       "      <td>37</td>\n",
       "      <td>9</td>\n",
       "      <td>26</td>\n",
       "      <td>0</td>\n",
       "      <td>27</td>\n",
       "    </tr>\n",
       "    <tr>\n",
       "      <th>4</th>\n",
       "      <td>1</td>\n",
       "      <td>57</td>\n",
       "      <td>35</td>\n",
       "      <td>14</td>\n",
       "      <td>40</td>\n",
       "      <td>9</td>\n",
       "      <td>31</td>\n",
       "      <td>0</td>\n",
       "      <td>27</td>\n",
       "    </tr>\n",
       "  </tbody>\n",
       "</table>\n",
       "</div>"
      ],
      "text/plain": [
       "   date_block_num  shop_id  item_id  item_cnt_day  item_category_id  \\\n",
       "0               1       57       30            31                40   \n",
       "1               1       57       31            11                37   \n",
       "2               1       57       32            10                40   \n",
       "3               1       57       33             3                37   \n",
       "4               1       57       35            14                40   \n",
       "\n",
       "   super_category_label  simple_category_label  type_label  city_label  \n",
       "0                     9                     31           0          27  \n",
       "1                     9                     26           0          27  \n",
       "2                     9                     31           0          27  \n",
       "3                     9                     26           0          27  \n",
       "4                     9                     31           0          27  "
      ]
     },
     "execution_count": 14,
     "metadata": {},
     "output_type": "execute_result"
    }
   ],
   "source": [
    "all_sales.info()\n",
    "all_sales.head()"
   ]
  },
  {
   "cell_type": "markdown",
   "id": "recreational-skating",
   "metadata": {},
   "source": [
    "Little reducing memory and clipping the target feature."
   ]
  },
  {
   "cell_type": "code",
   "execution_count": 15,
   "id": "natural-patent",
   "metadata": {
    "ExecuteTime": {
     "end_time": "2021-10-15T17:37:46.565162Z",
     "start_time": "2021-10-15T17:37:45.933273Z"
    },
    "scrolled": true
   },
   "outputs": [
    {
     "name": "stdout",
     "output_type": "stream",
     "text": [
      "<class 'pandas.core.frame.DataFrame'>\n",
      "Int64Index: 11128050 entries, 0 to 11128049\n",
      "Data columns (total 9 columns):\n",
      " #   Column                 Dtype\n",
      "---  ------                 -----\n",
      " 0   date_block_num         int8 \n",
      " 1   shop_id                int32\n",
      " 2   item_id                int32\n",
      " 3   item_cnt_day           int32\n",
      " 4   item_category_id       int32\n",
      " 5   super_category_label   int8 \n",
      " 6   simple_category_label  int8 \n",
      " 7   type_label             int8 \n",
      " 8   city_label             int8 \n",
      "dtypes: int32(4), int8(5)\n",
      "memory usage: 307.8 MB\n"
     ]
    }
   ],
   "source": [
    "all_sales.shop_id = all_sales.shop_id.astype('int32')\n",
    "all_sales.item_cnt_day = all_sales.item_cnt_day.clip(0, 20)\n",
    "all_sales.info()"
   ]
  },
  {
   "cell_type": "code",
   "execution_count": 16,
   "id": "small-utility",
   "metadata": {
    "ExecuteTime": {
     "end_time": "2021-10-15T17:37:46.597158Z",
     "start_time": "2021-10-15T17:37:46.573165Z"
    }
   },
   "outputs": [],
   "source": [
    "all_sales.rename(columns={'item_cnt_day': 'item_cnt'}, inplace=True)"
   ]
  },
  {
   "cell_type": "markdown",
   "id": "green-balloon",
   "metadata": {},
   "source": [
    "It is needed to do experiments to research if the lag features are necessary."
   ]
  },
  {
   "cell_type": "code",
   "execution_count": 17,
   "id": "confused-resolution",
   "metadata": {
    "ExecuteTime": {
     "end_time": "2021-10-15T17:37:46.859703Z",
     "start_time": "2021-10-15T17:37:46.605155Z"
    }
   },
   "outputs": [],
   "source": [
    "all_sales_without_lags = all_sales.copy()"
   ]
  },
  {
   "cell_type": "code",
   "execution_count": 20,
   "id": "hungarian-circulation",
   "metadata": {
    "ExecuteTime": {
     "end_time": "2021-10-15T17:39:23.048371Z",
     "start_time": "2021-10-15T17:39:20.406229Z"
    }
   },
   "outputs": [
    {
     "data": {
      "text/html": [
       "<div>\n",
       "<style scoped>\n",
       "    .dataframe tbody tr th:only-of-type {\n",
       "        vertical-align: middle;\n",
       "    }\n",
       "\n",
       "    .dataframe tbody tr th {\n",
       "        vertical-align: top;\n",
       "    }\n",
       "\n",
       "    .dataframe thead th {\n",
       "        text-align: right;\n",
       "    }\n",
       "</style>\n",
       "<table border=\"1\" class=\"dataframe\">\n",
       "  <thead>\n",
       "    <tr style=\"text-align: right;\">\n",
       "      <th></th>\n",
       "      <th>date_block_num</th>\n",
       "      <th>item_cnt</th>\n",
       "      <th>super_category_label</th>\n",
       "      <th>simple_category_label</th>\n",
       "      <th>type_label</th>\n",
       "      <th>city_label</th>\n",
       "    </tr>\n",
       "  </thead>\n",
       "  <tbody>\n",
       "    <tr>\n",
       "      <th>0</th>\n",
       "      <td>1</td>\n",
       "      <td>20</td>\n",
       "      <td>9</td>\n",
       "      <td>31</td>\n",
       "      <td>0</td>\n",
       "      <td>27</td>\n",
       "    </tr>\n",
       "    <tr>\n",
       "      <th>1</th>\n",
       "      <td>1</td>\n",
       "      <td>11</td>\n",
       "      <td>9</td>\n",
       "      <td>26</td>\n",
       "      <td>0</td>\n",
       "      <td>27</td>\n",
       "    </tr>\n",
       "    <tr>\n",
       "      <th>2</th>\n",
       "      <td>1</td>\n",
       "      <td>10</td>\n",
       "      <td>9</td>\n",
       "      <td>31</td>\n",
       "      <td>0</td>\n",
       "      <td>27</td>\n",
       "    </tr>\n",
       "    <tr>\n",
       "      <th>3</th>\n",
       "      <td>1</td>\n",
       "      <td>3</td>\n",
       "      <td>9</td>\n",
       "      <td>26</td>\n",
       "      <td>0</td>\n",
       "      <td>27</td>\n",
       "    </tr>\n",
       "    <tr>\n",
       "      <th>4</th>\n",
       "      <td>1</td>\n",
       "      <td>14</td>\n",
       "      <td>9</td>\n",
       "      <td>31</td>\n",
       "      <td>0</td>\n",
       "      <td>27</td>\n",
       "    </tr>\n",
       "  </tbody>\n",
       "</table>\n",
       "</div>"
      ],
      "text/plain": [
       "   date_block_num  item_cnt  super_category_label  simple_category_label  \\\n",
       "0               1        20                     9                     31   \n",
       "1               1        11                     9                     26   \n",
       "2               1        10                     9                     31   \n",
       "3               1         3                     9                     26   \n",
       "4               1        14                     9                     31   \n",
       "\n",
       "   type_label  city_label  \n",
       "0           0          27  \n",
       "1           0          27  \n",
       "2           0          27  \n",
       "3           0          27  \n",
       "4           0          27  "
      ]
     },
     "execution_count": 20,
     "metadata": {},
     "output_type": "execute_result"
    }
   ],
   "source": [
    "all_sales_without_lags_and_origin_ids = all_sales_without_lags.drop(columns=['shop_id', 'item_id', 'item_category_id'])\n",
    "all_sales_without_lags_and_origin_ids.head()"
   ]
  },
  {
   "cell_type": "markdown",
   "id": "binary-grenada",
   "metadata": {},
   "source": [
    "Creating lag features."
   ]
  },
  {
   "cell_type": "code",
   "execution_count": 18,
   "id": "streaming-insurance",
   "metadata": {
    "ExecuteTime": {
     "end_time": "2021-10-15T17:37:52.416698Z",
     "start_time": "2021-10-15T17:37:46.859703Z"
    },
    "collapsed": true
   },
   "outputs": [
    {
     "ename": "KeyboardInterrupt",
     "evalue": "",
     "output_type": "error",
     "traceback": [
      "\u001b[1;31m---------------------------------------------------------------------------\u001b[0m",
      "\u001b[1;31mKeyboardInterrupt\u001b[0m                         Traceback (most recent call last)",
      "\u001b[1;32m<ipython-input-18-bfb0371893ca>\u001b[0m in \u001b[0;36m<module>\u001b[1;34m\u001b[0m\n\u001b[0;32m      1\u001b[0m \u001b[1;32mfor\u001b[0m \u001b[0mi\u001b[0m \u001b[1;32min\u001b[0m \u001b[0mrange\u001b[0m\u001b[1;33m(\u001b[0m\u001b[1;36m1\u001b[0m\u001b[1;33m,\u001b[0m \u001b[1;36m13\u001b[0m\u001b[1;33m)\u001b[0m\u001b[1;33m:\u001b[0m\u001b[1;33m\u001b[0m\u001b[1;33m\u001b[0m\u001b[0m\n\u001b[1;32m----> 2\u001b[1;33m     \u001b[0mall_sales\u001b[0m \u001b[1;33m=\u001b[0m \u001b[0mlag_feature\u001b[0m\u001b[1;33m(\u001b[0m\u001b[0mall_sales\u001b[0m\u001b[1;33m,\u001b[0m \u001b[0mi\u001b[0m\u001b[1;33m,\u001b[0m \u001b[1;34m'item_cnt'\u001b[0m\u001b[1;33m,\u001b[0m \u001b[1;33m[\u001b[0m\u001b[1;34m'date_block_num'\u001b[0m\u001b[1;33m,\u001b[0m \u001b[1;34m'shop_id'\u001b[0m\u001b[1;33m,\u001b[0m \u001b[1;34m'item_id'\u001b[0m\u001b[1;33m]\u001b[0m\u001b[1;33m)\u001b[0m\u001b[1;33m\u001b[0m\u001b[1;33m\u001b[0m\u001b[0m\n\u001b[0m",
      "\u001b[1;32m<ipython-input-2-4a8886dcf587>\u001b[0m in \u001b[0;36mlag_feature\u001b[1;34m(df, lag, col, merge_cols)\u001b[0m\n\u001b[0;32m      1\u001b[0m \u001b[1;32mdef\u001b[0m \u001b[0mlag_feature\u001b[0m\u001b[1;33m(\u001b[0m\u001b[0mdf\u001b[0m\u001b[1;33m,\u001b[0m \u001b[0mlag\u001b[0m\u001b[1;33m,\u001b[0m \u001b[0mcol\u001b[0m\u001b[1;33m,\u001b[0m \u001b[0mmerge_cols\u001b[0m\u001b[1;33m)\u001b[0m\u001b[1;33m:\u001b[0m\u001b[1;33m\u001b[0m\u001b[1;33m\u001b[0m\u001b[0m\n\u001b[0;32m      2\u001b[0m     \u001b[0mtemp\u001b[0m \u001b[1;33m=\u001b[0m \u001b[0mdf\u001b[0m\u001b[1;33m[\u001b[0m\u001b[0mmerge_cols\u001b[0m \u001b[1;33m+\u001b[0m \u001b[1;33m[\u001b[0m\u001b[0mcol\u001b[0m\u001b[1;33m]\u001b[0m\u001b[1;33m]\u001b[0m\u001b[1;33m\u001b[0m\u001b[1;33m\u001b[0m\u001b[0m\n\u001b[1;32m----> 3\u001b[1;33m     \u001b[0mtemp\u001b[0m \u001b[1;33m=\u001b[0m \u001b[0mtemp\u001b[0m\u001b[1;33m.\u001b[0m\u001b[0mgroupby\u001b[0m\u001b[1;33m(\u001b[0m\u001b[0mmerge_cols\u001b[0m\u001b[1;33m)\u001b[0m\u001b[1;33m.\u001b[0m\u001b[0magg\u001b[0m\u001b[1;33m(\u001b[0m\u001b[1;33m{\u001b[0m\u001b[1;34mf'{col}'\u001b[0m\u001b[1;33m:\u001b[0m\u001b[1;34m'first'\u001b[0m\u001b[1;33m}\u001b[0m\u001b[1;33m)\u001b[0m\u001b[1;33m.\u001b[0m\u001b[0mreset_index\u001b[0m\u001b[1;33m(\u001b[0m\u001b[1;33m)\u001b[0m\u001b[1;33m\u001b[0m\u001b[1;33m\u001b[0m\u001b[0m\n\u001b[0m\u001b[0;32m      4\u001b[0m     \u001b[0mtemp\u001b[0m\u001b[1;33m.\u001b[0m\u001b[0mcolumns\u001b[0m \u001b[1;33m=\u001b[0m \u001b[0mmerge_cols\u001b[0m \u001b[1;33m+\u001b[0m \u001b[1;33m[\u001b[0m\u001b[1;34mf'{col}_lag{lag}'\u001b[0m\u001b[1;33m]\u001b[0m\u001b[1;33m\u001b[0m\u001b[1;33m\u001b[0m\u001b[0m\n\u001b[0;32m      5\u001b[0m     \u001b[0mtemp\u001b[0m\u001b[1;33m[\u001b[0m\u001b[1;34m'date_block_num'\u001b[0m\u001b[1;33m]\u001b[0m \u001b[1;33m+=\u001b[0m \u001b[0mlag\u001b[0m\u001b[1;33m\u001b[0m\u001b[1;33m\u001b[0m\u001b[0m\n",
      "\u001b[1;32mc:\\users\\user\\appdata\\local\\programs\\python\\python39\\lib\\site-packages\\pandas\\core\\groupby\\generic.py\u001b[0m in \u001b[0;36maggregate\u001b[1;34m(self, func, engine, engine_kwargs, *args, **kwargs)\u001b[0m\n\u001b[0;32m    949\u001b[0m         \u001b[0mfunc\u001b[0m \u001b[1;33m=\u001b[0m \u001b[0mmaybe_mangle_lambdas\u001b[0m\u001b[1;33m(\u001b[0m\u001b[0mfunc\u001b[0m\u001b[1;33m)\u001b[0m\u001b[1;33m\u001b[0m\u001b[1;33m\u001b[0m\u001b[0m\n\u001b[0;32m    950\u001b[0m \u001b[1;33m\u001b[0m\u001b[0m\n\u001b[1;32m--> 951\u001b[1;33m         \u001b[0mresult\u001b[0m\u001b[1;33m,\u001b[0m \u001b[0mhow\u001b[0m \u001b[1;33m=\u001b[0m \u001b[0mself\u001b[0m\u001b[1;33m.\u001b[0m\u001b[0m_aggregate\u001b[0m\u001b[1;33m(\u001b[0m\u001b[0mfunc\u001b[0m\u001b[1;33m,\u001b[0m \u001b[1;33m*\u001b[0m\u001b[0margs\u001b[0m\u001b[1;33m,\u001b[0m \u001b[1;33m**\u001b[0m\u001b[0mkwargs\u001b[0m\u001b[1;33m)\u001b[0m\u001b[1;33m\u001b[0m\u001b[1;33m\u001b[0m\u001b[0m\n\u001b[0m\u001b[0;32m    952\u001b[0m         \u001b[1;32mif\u001b[0m \u001b[0mhow\u001b[0m \u001b[1;32mis\u001b[0m \u001b[1;32mNone\u001b[0m\u001b[1;33m:\u001b[0m\u001b[1;33m\u001b[0m\u001b[1;33m\u001b[0m\u001b[0m\n\u001b[0;32m    953\u001b[0m             \u001b[1;32mreturn\u001b[0m \u001b[0mresult\u001b[0m\u001b[1;33m\u001b[0m\u001b[1;33m\u001b[0m\u001b[0m\n",
      "\u001b[1;32mc:\\users\\user\\appdata\\local\\programs\\python\\python39\\lib\\site-packages\\pandas\\core\\base.py\u001b[0m in \u001b[0;36m_aggregate\u001b[1;34m(self, arg, *args, **kwargs)\u001b[0m\n\u001b[0;32m    414\u001b[0m \u001b[1;33m\u001b[0m\u001b[0m\n\u001b[0;32m    415\u001b[0m                 \u001b[1;32mtry\u001b[0m\u001b[1;33m:\u001b[0m\u001b[1;33m\u001b[0m\u001b[1;33m\u001b[0m\u001b[0m\n\u001b[1;32m--> 416\u001b[1;33m                     \u001b[0mresult\u001b[0m \u001b[1;33m=\u001b[0m \u001b[0m_agg\u001b[0m\u001b[1;33m(\u001b[0m\u001b[0marg\u001b[0m\u001b[1;33m,\u001b[0m \u001b[0m_agg_1dim\u001b[0m\u001b[1;33m)\u001b[0m\u001b[1;33m\u001b[0m\u001b[1;33m\u001b[0m\u001b[0m\n\u001b[0m\u001b[0;32m    417\u001b[0m                 \u001b[1;32mexcept\u001b[0m \u001b[0mSpecificationError\u001b[0m\u001b[1;33m:\u001b[0m\u001b[1;33m\u001b[0m\u001b[1;33m\u001b[0m\u001b[0m\n\u001b[0;32m    418\u001b[0m \u001b[1;33m\u001b[0m\u001b[0m\n",
      "\u001b[1;32mc:\\users\\user\\appdata\\local\\programs\\python\\python39\\lib\\site-packages\\pandas\\core\\base.py\u001b[0m in \u001b[0;36m_agg\u001b[1;34m(arg, func)\u001b[0m\n\u001b[0;32m    381\u001b[0m                 \u001b[0mresult\u001b[0m \u001b[1;33m=\u001b[0m \u001b[1;33m{\u001b[0m\u001b[1;33m}\u001b[0m\u001b[1;33m\u001b[0m\u001b[1;33m\u001b[0m\u001b[0m\n\u001b[0;32m    382\u001b[0m                 \u001b[1;32mfor\u001b[0m \u001b[0mfname\u001b[0m\u001b[1;33m,\u001b[0m \u001b[0magg_how\u001b[0m \u001b[1;32min\u001b[0m \u001b[0marg\u001b[0m\u001b[1;33m.\u001b[0m\u001b[0mitems\u001b[0m\u001b[1;33m(\u001b[0m\u001b[1;33m)\u001b[0m\u001b[1;33m:\u001b[0m\u001b[1;33m\u001b[0m\u001b[1;33m\u001b[0m\u001b[0m\n\u001b[1;32m--> 383\u001b[1;33m                     \u001b[0mresult\u001b[0m\u001b[1;33m[\u001b[0m\u001b[0mfname\u001b[0m\u001b[1;33m]\u001b[0m \u001b[1;33m=\u001b[0m \u001b[0mfunc\u001b[0m\u001b[1;33m(\u001b[0m\u001b[0mfname\u001b[0m\u001b[1;33m,\u001b[0m \u001b[0magg_how\u001b[0m\u001b[1;33m)\u001b[0m\u001b[1;33m\u001b[0m\u001b[1;33m\u001b[0m\u001b[0m\n\u001b[0m\u001b[0;32m    384\u001b[0m                 \u001b[1;32mreturn\u001b[0m \u001b[0mresult\u001b[0m\u001b[1;33m\u001b[0m\u001b[1;33m\u001b[0m\u001b[0m\n\u001b[0;32m    385\u001b[0m \u001b[1;33m\u001b[0m\u001b[0m\n",
      "\u001b[1;32mc:\\users\\user\\appdata\\local\\programs\\python\\python39\\lib\\site-packages\\pandas\\core\\base.py\u001b[0m in \u001b[0;36m_agg_1dim\u001b[1;34m(name, how, subset)\u001b[0m\n\u001b[0;32m    365\u001b[0m                         \u001b[1;34m\"nested dictionary is ambiguous in aggregation\"\u001b[0m\u001b[1;33m\u001b[0m\u001b[1;33m\u001b[0m\u001b[0m\n\u001b[0;32m    366\u001b[0m                     )\n\u001b[1;32m--> 367\u001b[1;33m                 \u001b[1;32mreturn\u001b[0m \u001b[0mcolg\u001b[0m\u001b[1;33m.\u001b[0m\u001b[0maggregate\u001b[0m\u001b[1;33m(\u001b[0m\u001b[0mhow\u001b[0m\u001b[1;33m)\u001b[0m\u001b[1;33m\u001b[0m\u001b[1;33m\u001b[0m\u001b[0m\n\u001b[0m\u001b[0;32m    368\u001b[0m \u001b[1;33m\u001b[0m\u001b[0m\n\u001b[0;32m    369\u001b[0m             \u001b[1;32mdef\u001b[0m \u001b[0m_agg_2dim\u001b[0m\u001b[1;33m(\u001b[0m\u001b[0mhow\u001b[0m\u001b[1;33m)\u001b[0m\u001b[1;33m:\u001b[0m\u001b[1;33m\u001b[0m\u001b[1;33m\u001b[0m\u001b[0m\n",
      "\u001b[1;32mc:\\users\\user\\appdata\\local\\programs\\python\\python39\\lib\\site-packages\\pandas\\core\\groupby\\generic.py\u001b[0m in \u001b[0;36maggregate\u001b[1;34m(self, func, engine, engine_kwargs, *args, **kwargs)\u001b[0m\n\u001b[0;32m    238\u001b[0m \u001b[1;33m\u001b[0m\u001b[0m\n\u001b[0;32m    239\u001b[0m         \u001b[1;32mif\u001b[0m \u001b[0misinstance\u001b[0m\u001b[1;33m(\u001b[0m\u001b[0mfunc\u001b[0m\u001b[1;33m,\u001b[0m \u001b[0mstr\u001b[0m\u001b[1;33m)\u001b[0m\u001b[1;33m:\u001b[0m\u001b[1;33m\u001b[0m\u001b[1;33m\u001b[0m\u001b[0m\n\u001b[1;32m--> 240\u001b[1;33m             \u001b[1;32mreturn\u001b[0m \u001b[0mgetattr\u001b[0m\u001b[1;33m(\u001b[0m\u001b[0mself\u001b[0m\u001b[1;33m,\u001b[0m \u001b[0mfunc\u001b[0m\u001b[1;33m)\u001b[0m\u001b[1;33m(\u001b[0m\u001b[1;33m*\u001b[0m\u001b[0margs\u001b[0m\u001b[1;33m,\u001b[0m \u001b[1;33m**\u001b[0m\u001b[0mkwargs\u001b[0m\u001b[1;33m)\u001b[0m\u001b[1;33m\u001b[0m\u001b[1;33m\u001b[0m\u001b[0m\n\u001b[0m\u001b[0;32m    241\u001b[0m \u001b[1;33m\u001b[0m\u001b[0m\n\u001b[0;32m    242\u001b[0m         \u001b[1;32melif\u001b[0m \u001b[0misinstance\u001b[0m\u001b[1;33m(\u001b[0m\u001b[0mfunc\u001b[0m\u001b[1;33m,\u001b[0m \u001b[0mabc\u001b[0m\u001b[1;33m.\u001b[0m\u001b[0mIterable\u001b[0m\u001b[1;33m)\u001b[0m\u001b[1;33m:\u001b[0m\u001b[1;33m\u001b[0m\u001b[1;33m\u001b[0m\u001b[0m\n",
      "\u001b[1;32mc:\\users\\user\\appdata\\local\\programs\\python\\python39\\lib\\site-packages\\pandas\\core\\groupby\\groupby.py\u001b[0m in \u001b[0;36mfirst\u001b[1;34m(self, numeric_only, min_count)\u001b[0m\n\u001b[0;32m   1579\u001b[0m                 \u001b[1;32mraise\u001b[0m \u001b[0mTypeError\u001b[0m\u001b[1;33m(\u001b[0m\u001b[0mtype\u001b[0m\u001b[1;33m(\u001b[0m\u001b[0mobj\u001b[0m\u001b[1;33m)\u001b[0m\u001b[1;33m)\u001b[0m\u001b[1;33m\u001b[0m\u001b[1;33m\u001b[0m\u001b[0m\n\u001b[0;32m   1580\u001b[0m \u001b[1;33m\u001b[0m\u001b[0m\n\u001b[1;32m-> 1581\u001b[1;33m         return self._agg_general(\n\u001b[0m\u001b[0;32m   1582\u001b[0m             \u001b[0mnumeric_only\u001b[0m\u001b[1;33m=\u001b[0m\u001b[0mnumeric_only\u001b[0m\u001b[1;33m,\u001b[0m\u001b[1;33m\u001b[0m\u001b[1;33m\u001b[0m\u001b[0m\n\u001b[0;32m   1583\u001b[0m             \u001b[0mmin_count\u001b[0m\u001b[1;33m=\u001b[0m\u001b[0mmin_count\u001b[0m\u001b[1;33m,\u001b[0m\u001b[1;33m\u001b[0m\u001b[1;33m\u001b[0m\u001b[0m\n",
      "\u001b[1;32mc:\\users\\user\\appdata\\local\\programs\\python\\python39\\lib\\site-packages\\pandas\\core\\groupby\\groupby.py\u001b[0m in \u001b[0;36m_agg_general\u001b[1;34m(self, numeric_only, min_count, alias, npfunc)\u001b[0m\n\u001b[0;32m    998\u001b[0m         \u001b[1;31m# try a cython aggregation if we can\u001b[0m\u001b[1;33m\u001b[0m\u001b[1;33m\u001b[0m\u001b[1;33m\u001b[0m\u001b[0m\n\u001b[0;32m    999\u001b[0m         \u001b[1;32mtry\u001b[0m\u001b[1;33m:\u001b[0m\u001b[1;33m\u001b[0m\u001b[1;33m\u001b[0m\u001b[0m\n\u001b[1;32m-> 1000\u001b[1;33m             result = self._cython_agg_general(\n\u001b[0m\u001b[0;32m   1001\u001b[0m                 \u001b[0mhow\u001b[0m\u001b[1;33m=\u001b[0m\u001b[0malias\u001b[0m\u001b[1;33m,\u001b[0m \u001b[0malt\u001b[0m\u001b[1;33m=\u001b[0m\u001b[0mnpfunc\u001b[0m\u001b[1;33m,\u001b[0m \u001b[0mnumeric_only\u001b[0m\u001b[1;33m=\u001b[0m\u001b[0mnumeric_only\u001b[0m\u001b[1;33m,\u001b[0m \u001b[0mmin_count\u001b[0m\u001b[1;33m=\u001b[0m\u001b[0mmin_count\u001b[0m\u001b[1;33m,\u001b[0m\u001b[1;33m\u001b[0m\u001b[1;33m\u001b[0m\u001b[0m\n\u001b[0;32m   1002\u001b[0m             )\n",
      "\u001b[1;32mc:\\users\\user\\appdata\\local\\programs\\python\\python39\\lib\\site-packages\\pandas\\core\\groupby\\groupby.py\u001b[0m in \u001b[0;36m_cython_agg_general\u001b[1;34m(self, how, alt, numeric_only, min_count)\u001b[0m\n\u001b[0;32m   1033\u001b[0m                 \u001b[1;32mcontinue\u001b[0m\u001b[1;33m\u001b[0m\u001b[1;33m\u001b[0m\u001b[0m\n\u001b[0;32m   1034\u001b[0m \u001b[1;33m\u001b[0m\u001b[0m\n\u001b[1;32m-> 1035\u001b[1;33m             result, agg_names = self.grouper.aggregate(\n\u001b[0m\u001b[0;32m   1036\u001b[0m                 \u001b[0mobj\u001b[0m\u001b[1;33m.\u001b[0m\u001b[0m_values\u001b[0m\u001b[1;33m,\u001b[0m \u001b[0mhow\u001b[0m\u001b[1;33m,\u001b[0m \u001b[0mmin_count\u001b[0m\u001b[1;33m=\u001b[0m\u001b[0mmin_count\u001b[0m\u001b[1;33m\u001b[0m\u001b[1;33m\u001b[0m\u001b[0m\n\u001b[0;32m   1037\u001b[0m             )\n",
      "\u001b[1;32mc:\\users\\user\\appdata\\local\\programs\\python\\python39\\lib\\site-packages\\pandas\\core\\groupby\\ops.py\u001b[0m in \u001b[0;36maggregate\u001b[1;34m(self, values, how, axis, min_count)\u001b[0m\n\u001b[0;32m    582\u001b[0m         \u001b[0mself\u001b[0m\u001b[1;33m,\u001b[0m \u001b[0mvalues\u001b[0m\u001b[1;33m,\u001b[0m \u001b[0mhow\u001b[0m\u001b[1;33m:\u001b[0m \u001b[0mstr\u001b[0m\u001b[1;33m,\u001b[0m \u001b[0maxis\u001b[0m\u001b[1;33m:\u001b[0m \u001b[0mint\u001b[0m \u001b[1;33m=\u001b[0m \u001b[1;36m0\u001b[0m\u001b[1;33m,\u001b[0m \u001b[0mmin_count\u001b[0m\u001b[1;33m:\u001b[0m \u001b[0mint\u001b[0m \u001b[1;33m=\u001b[0m \u001b[1;33m-\u001b[0m\u001b[1;36m1\u001b[0m\u001b[1;33m\u001b[0m\u001b[1;33m\u001b[0m\u001b[0m\n\u001b[0;32m    583\u001b[0m     ) -> Tuple[np.ndarray, Optional[List[str]]]:\n\u001b[1;32m--> 584\u001b[1;33m         return self._cython_operation(\n\u001b[0m\u001b[0;32m    585\u001b[0m             \u001b[1;34m\"aggregate\"\u001b[0m\u001b[1;33m,\u001b[0m \u001b[0mvalues\u001b[0m\u001b[1;33m,\u001b[0m \u001b[0mhow\u001b[0m\u001b[1;33m,\u001b[0m \u001b[0maxis\u001b[0m\u001b[1;33m,\u001b[0m \u001b[0mmin_count\u001b[0m\u001b[1;33m=\u001b[0m\u001b[0mmin_count\u001b[0m\u001b[1;33m\u001b[0m\u001b[1;33m\u001b[0m\u001b[0m\n\u001b[0;32m    586\u001b[0m         )\n",
      "\u001b[1;32mc:\\users\\user\\appdata\\local\\programs\\python\\python39\\lib\\site-packages\\pandas\\core\\groupby\\ops.py\u001b[0m in \u001b[0;36m_cython_operation\u001b[1;34m(self, kind, values, how, axis, min_count, **kwargs)\u001b[0m\n\u001b[0;32m    506\u001b[0m         \u001b[1;32mif\u001b[0m \u001b[0mvdim\u001b[0m \u001b[1;33m==\u001b[0m \u001b[1;36m1\u001b[0m\u001b[1;33m:\u001b[0m\u001b[1;33m\u001b[0m\u001b[1;33m\u001b[0m\u001b[0m\n\u001b[0;32m    507\u001b[0m             \u001b[0mvalues\u001b[0m \u001b[1;33m=\u001b[0m \u001b[0mvalues\u001b[0m\u001b[1;33m[\u001b[0m\u001b[1;33m:\u001b[0m\u001b[1;33m,\u001b[0m \u001b[1;32mNone\u001b[0m\u001b[1;33m]\u001b[0m\u001b[1;33m\u001b[0m\u001b[1;33m\u001b[0m\u001b[0m\n\u001b[1;32m--> 508\u001b[1;33m             \u001b[0mout_shape\u001b[0m \u001b[1;33m=\u001b[0m \u001b[1;33m(\u001b[0m\u001b[0mself\u001b[0m\u001b[1;33m.\u001b[0m\u001b[0mngroups\u001b[0m\u001b[1;33m,\u001b[0m \u001b[0marity\u001b[0m\u001b[1;33m)\u001b[0m\u001b[1;33m\u001b[0m\u001b[1;33m\u001b[0m\u001b[0m\n\u001b[0m\u001b[0;32m    509\u001b[0m         \u001b[1;32melse\u001b[0m\u001b[1;33m:\u001b[0m\u001b[1;33m\u001b[0m\u001b[1;33m\u001b[0m\u001b[0m\n\u001b[0;32m    510\u001b[0m             \u001b[1;32mif\u001b[0m \u001b[0maxis\u001b[0m \u001b[1;33m>\u001b[0m \u001b[1;36m0\u001b[0m\u001b[1;33m:\u001b[0m\u001b[1;33m\u001b[0m\u001b[1;33m\u001b[0m\u001b[0m\n",
      "\u001b[1;32mpandas\\_libs\\properties.pyx\u001b[0m in \u001b[0;36mpandas._libs.properties.CachedProperty.__get__\u001b[1;34m()\u001b[0m\n",
      "\u001b[1;32mc:\\users\\user\\appdata\\local\\programs\\python\\python39\\lib\\site-packages\\pandas\\core\\groupby\\ops.py\u001b[0m in \u001b[0;36mngroups\u001b[1;34m(self)\u001b[0m\n\u001b[0;32m    295\u001b[0m     \u001b[1;33m@\u001b[0m\u001b[0mcache_readonly\u001b[0m\u001b[1;33m\u001b[0m\u001b[1;33m\u001b[0m\u001b[0m\n\u001b[0;32m    296\u001b[0m     \u001b[1;32mdef\u001b[0m \u001b[0mngroups\u001b[0m\u001b[1;33m(\u001b[0m\u001b[0mself\u001b[0m\u001b[1;33m)\u001b[0m \u001b[1;33m->\u001b[0m \u001b[0mint\u001b[0m\u001b[1;33m:\u001b[0m\u001b[1;33m\u001b[0m\u001b[1;33m\u001b[0m\u001b[0m\n\u001b[1;32m--> 297\u001b[1;33m         \u001b[1;32mreturn\u001b[0m \u001b[0mlen\u001b[0m\u001b[1;33m(\u001b[0m\u001b[0mself\u001b[0m\u001b[1;33m.\u001b[0m\u001b[0mresult_index\u001b[0m\u001b[1;33m)\u001b[0m\u001b[1;33m\u001b[0m\u001b[1;33m\u001b[0m\u001b[0m\n\u001b[0m\u001b[0;32m    298\u001b[0m \u001b[1;33m\u001b[0m\u001b[0m\n\u001b[0;32m    299\u001b[0m     \u001b[1;33m@\u001b[0m\u001b[0mproperty\u001b[0m\u001b[1;33m\u001b[0m\u001b[1;33m\u001b[0m\u001b[0m\n",
      "\u001b[1;32mpandas\\_libs\\properties.pyx\u001b[0m in \u001b[0;36mpandas._libs.properties.CachedProperty.__get__\u001b[1;34m()\u001b[0m\n",
      "\u001b[1;32mc:\\users\\user\\appdata\\local\\programs\\python\\python39\\lib\\site-packages\\pandas\\core\\groupby\\ops.py\u001b[0m in \u001b[0;36mresult_index\u001b[1;34m(self)\u001b[0m\n\u001b[0;32m    308\u001b[0m             \u001b[1;32mreturn\u001b[0m \u001b[0mself\u001b[0m\u001b[1;33m.\u001b[0m\u001b[0mgroupings\u001b[0m\u001b[1;33m[\u001b[0m\u001b[1;36m0\u001b[0m\u001b[1;33m]\u001b[0m\u001b[1;33m.\u001b[0m\u001b[0mresult_index\u001b[0m\u001b[1;33m.\u001b[0m\u001b[0mrename\u001b[0m\u001b[1;33m(\u001b[0m\u001b[0mself\u001b[0m\u001b[1;33m.\u001b[0m\u001b[0mnames\u001b[0m\u001b[1;33m[\u001b[0m\u001b[1;36m0\u001b[0m\u001b[1;33m]\u001b[0m\u001b[1;33m)\u001b[0m\u001b[1;33m\u001b[0m\u001b[1;33m\u001b[0m\u001b[0m\n\u001b[0;32m    309\u001b[0m \u001b[1;33m\u001b[0m\u001b[0m\n\u001b[1;32m--> 310\u001b[1;33m         \u001b[0mcodes\u001b[0m \u001b[1;33m=\u001b[0m \u001b[0mself\u001b[0m\u001b[1;33m.\u001b[0m\u001b[0mreconstructed_codes\u001b[0m\u001b[1;33m\u001b[0m\u001b[1;33m\u001b[0m\u001b[0m\n\u001b[0m\u001b[0;32m    311\u001b[0m         \u001b[0mlevels\u001b[0m \u001b[1;33m=\u001b[0m \u001b[1;33m[\u001b[0m\u001b[0mping\u001b[0m\u001b[1;33m.\u001b[0m\u001b[0mresult_index\u001b[0m \u001b[1;32mfor\u001b[0m \u001b[0mping\u001b[0m \u001b[1;32min\u001b[0m \u001b[0mself\u001b[0m\u001b[1;33m.\u001b[0m\u001b[0mgroupings\u001b[0m\u001b[1;33m]\u001b[0m\u001b[1;33m\u001b[0m\u001b[1;33m\u001b[0m\u001b[0m\n\u001b[0;32m    312\u001b[0m         result = MultiIndex(\n",
      "\u001b[1;32mc:\\users\\user\\appdata\\local\\programs\\python\\python39\\lib\\site-packages\\pandas\\core\\groupby\\ops.py\u001b[0m in \u001b[0;36mreconstructed_codes\u001b[1;34m(self)\u001b[0m\n\u001b[0;32m    299\u001b[0m     \u001b[1;33m@\u001b[0m\u001b[0mproperty\u001b[0m\u001b[1;33m\u001b[0m\u001b[1;33m\u001b[0m\u001b[0m\n\u001b[0;32m    300\u001b[0m     \u001b[1;32mdef\u001b[0m \u001b[0mreconstructed_codes\u001b[0m\u001b[1;33m(\u001b[0m\u001b[0mself\u001b[0m\u001b[1;33m)\u001b[0m \u001b[1;33m->\u001b[0m \u001b[0mList\u001b[0m\u001b[1;33m[\u001b[0m\u001b[0mnp\u001b[0m\u001b[1;33m.\u001b[0m\u001b[0mndarray\u001b[0m\u001b[1;33m]\u001b[0m\u001b[1;33m:\u001b[0m\u001b[1;33m\u001b[0m\u001b[1;33m\u001b[0m\u001b[0m\n\u001b[1;32m--> 301\u001b[1;33m         \u001b[0mcodes\u001b[0m \u001b[1;33m=\u001b[0m \u001b[0mself\u001b[0m\u001b[1;33m.\u001b[0m\u001b[0mcodes\u001b[0m\u001b[1;33m\u001b[0m\u001b[1;33m\u001b[0m\u001b[0m\n\u001b[0m\u001b[0;32m    302\u001b[0m         \u001b[0mcomp_ids\u001b[0m\u001b[1;33m,\u001b[0m \u001b[0mobs_ids\u001b[0m\u001b[1;33m,\u001b[0m \u001b[0m_\u001b[0m \u001b[1;33m=\u001b[0m \u001b[0mself\u001b[0m\u001b[1;33m.\u001b[0m\u001b[0mgroup_info\u001b[0m\u001b[1;33m\u001b[0m\u001b[1;33m\u001b[0m\u001b[0m\n\u001b[0;32m    303\u001b[0m         \u001b[1;32mreturn\u001b[0m \u001b[0mdecons_obs_group_ids\u001b[0m\u001b[1;33m(\u001b[0m\u001b[0mcomp_ids\u001b[0m\u001b[1;33m,\u001b[0m \u001b[0mobs_ids\u001b[0m\u001b[1;33m,\u001b[0m \u001b[0mself\u001b[0m\u001b[1;33m.\u001b[0m\u001b[0mshape\u001b[0m\u001b[1;33m,\u001b[0m \u001b[0mcodes\u001b[0m\u001b[1;33m,\u001b[0m \u001b[0mxnull\u001b[0m\u001b[1;33m=\u001b[0m\u001b[1;32mTrue\u001b[0m\u001b[1;33m)\u001b[0m\u001b[1;33m\u001b[0m\u001b[1;33m\u001b[0m\u001b[0m\n",
      "\u001b[1;32mc:\\users\\user\\appdata\\local\\programs\\python\\python39\\lib\\site-packages\\pandas\\core\\groupby\\ops.py\u001b[0m in \u001b[0;36mcodes\u001b[1;34m(self)\u001b[0m\n\u001b[0;32m    230\u001b[0m     \u001b[1;33m@\u001b[0m\u001b[0mproperty\u001b[0m\u001b[1;33m\u001b[0m\u001b[1;33m\u001b[0m\u001b[0m\n\u001b[0;32m    231\u001b[0m     \u001b[1;32mdef\u001b[0m \u001b[0mcodes\u001b[0m\u001b[1;33m(\u001b[0m\u001b[0mself\u001b[0m\u001b[1;33m)\u001b[0m \u001b[1;33m->\u001b[0m \u001b[0mList\u001b[0m\u001b[1;33m[\u001b[0m\u001b[0mnp\u001b[0m\u001b[1;33m.\u001b[0m\u001b[0mndarray\u001b[0m\u001b[1;33m]\u001b[0m\u001b[1;33m:\u001b[0m\u001b[1;33m\u001b[0m\u001b[1;33m\u001b[0m\u001b[0m\n\u001b[1;32m--> 232\u001b[1;33m         \u001b[1;32mreturn\u001b[0m \u001b[1;33m[\u001b[0m\u001b[0mping\u001b[0m\u001b[1;33m.\u001b[0m\u001b[0mcodes\u001b[0m \u001b[1;32mfor\u001b[0m \u001b[0mping\u001b[0m \u001b[1;32min\u001b[0m \u001b[0mself\u001b[0m\u001b[1;33m.\u001b[0m\u001b[0mgroupings\u001b[0m\u001b[1;33m]\u001b[0m\u001b[1;33m\u001b[0m\u001b[1;33m\u001b[0m\u001b[0m\n\u001b[0m\u001b[0;32m    233\u001b[0m \u001b[1;33m\u001b[0m\u001b[0m\n\u001b[0;32m    234\u001b[0m     \u001b[1;33m@\u001b[0m\u001b[0mproperty\u001b[0m\u001b[1;33m\u001b[0m\u001b[1;33m\u001b[0m\u001b[0m\n",
      "\u001b[1;32mc:\\users\\user\\appdata\\local\\programs\\python\\python39\\lib\\site-packages\\pandas\\core\\groupby\\ops.py\u001b[0m in \u001b[0;36m<listcomp>\u001b[1;34m(.0)\u001b[0m\n\u001b[0;32m    230\u001b[0m     \u001b[1;33m@\u001b[0m\u001b[0mproperty\u001b[0m\u001b[1;33m\u001b[0m\u001b[1;33m\u001b[0m\u001b[0m\n\u001b[0;32m    231\u001b[0m     \u001b[1;32mdef\u001b[0m \u001b[0mcodes\u001b[0m\u001b[1;33m(\u001b[0m\u001b[0mself\u001b[0m\u001b[1;33m)\u001b[0m \u001b[1;33m->\u001b[0m \u001b[0mList\u001b[0m\u001b[1;33m[\u001b[0m\u001b[0mnp\u001b[0m\u001b[1;33m.\u001b[0m\u001b[0mndarray\u001b[0m\u001b[1;33m]\u001b[0m\u001b[1;33m:\u001b[0m\u001b[1;33m\u001b[0m\u001b[1;33m\u001b[0m\u001b[0m\n\u001b[1;32m--> 232\u001b[1;33m         \u001b[1;32mreturn\u001b[0m \u001b[1;33m[\u001b[0m\u001b[0mping\u001b[0m\u001b[1;33m.\u001b[0m\u001b[0mcodes\u001b[0m \u001b[1;32mfor\u001b[0m \u001b[0mping\u001b[0m \u001b[1;32min\u001b[0m \u001b[0mself\u001b[0m\u001b[1;33m.\u001b[0m\u001b[0mgroupings\u001b[0m\u001b[1;33m]\u001b[0m\u001b[1;33m\u001b[0m\u001b[1;33m\u001b[0m\u001b[0m\n\u001b[0m\u001b[0;32m    233\u001b[0m \u001b[1;33m\u001b[0m\u001b[0m\n\u001b[0;32m    234\u001b[0m     \u001b[1;33m@\u001b[0m\u001b[0mproperty\u001b[0m\u001b[1;33m\u001b[0m\u001b[1;33m\u001b[0m\u001b[0m\n",
      "\u001b[1;32mc:\\users\\user\\appdata\\local\\programs\\python\\python39\\lib\\site-packages\\pandas\\core\\groupby\\grouper.py\u001b[0m in \u001b[0;36mcodes\u001b[1;34m(self)\u001b[0m\n\u001b[0;32m    568\u001b[0m     \u001b[1;32mdef\u001b[0m \u001b[0mcodes\u001b[0m\u001b[1;33m(\u001b[0m\u001b[0mself\u001b[0m\u001b[1;33m)\u001b[0m \u001b[1;33m->\u001b[0m \u001b[0mnp\u001b[0m\u001b[1;33m.\u001b[0m\u001b[0mndarray\u001b[0m\u001b[1;33m:\u001b[0m\u001b[1;33m\u001b[0m\u001b[1;33m\u001b[0m\u001b[0m\n\u001b[0;32m    569\u001b[0m         \u001b[1;32mif\u001b[0m \u001b[0mself\u001b[0m\u001b[1;33m.\u001b[0m\u001b[0m_codes\u001b[0m \u001b[1;32mis\u001b[0m \u001b[1;32mNone\u001b[0m\u001b[1;33m:\u001b[0m\u001b[1;33m\u001b[0m\u001b[1;33m\u001b[0m\u001b[0m\n\u001b[1;32m--> 570\u001b[1;33m             \u001b[0mself\u001b[0m\u001b[1;33m.\u001b[0m\u001b[0m_make_codes\u001b[0m\u001b[1;33m(\u001b[0m\u001b[1;33m)\u001b[0m\u001b[1;33m\u001b[0m\u001b[1;33m\u001b[0m\u001b[0m\n\u001b[0m\u001b[0;32m    571\u001b[0m         \u001b[1;32mreturn\u001b[0m \u001b[0mself\u001b[0m\u001b[1;33m.\u001b[0m\u001b[0m_codes\u001b[0m\u001b[1;33m\u001b[0m\u001b[1;33m\u001b[0m\u001b[0m\n\u001b[0;32m    572\u001b[0m \u001b[1;33m\u001b[0m\u001b[0m\n",
      "\u001b[1;32mc:\\users\\user\\appdata\\local\\programs\\python\\python39\\lib\\site-packages\\pandas\\core\\groupby\\grouper.py\u001b[0m in \u001b[0;36m_make_codes\u001b[1;34m(self)\u001b[0m\n\u001b[0;32m    596\u001b[0m                 \u001b[1;32melse\u001b[0m\u001b[1;33m:\u001b[0m\u001b[1;33m\u001b[0m\u001b[1;33m\u001b[0m\u001b[0m\n\u001b[0;32m    597\u001b[0m                     \u001b[0mna_sentinel\u001b[0m \u001b[1;33m=\u001b[0m \u001b[1;33m-\u001b[0m\u001b[1;36m1\u001b[0m\u001b[1;33m\u001b[0m\u001b[1;33m\u001b[0m\u001b[0m\n\u001b[1;32m--> 598\u001b[1;33m                 codes, uniques = algorithms.factorize(\n\u001b[0m\u001b[0;32m    599\u001b[0m                     \u001b[0mself\u001b[0m\u001b[1;33m.\u001b[0m\u001b[0mgrouper\u001b[0m\u001b[1;33m,\u001b[0m \u001b[0msort\u001b[0m\u001b[1;33m=\u001b[0m\u001b[0mself\u001b[0m\u001b[1;33m.\u001b[0m\u001b[0msort\u001b[0m\u001b[1;33m,\u001b[0m \u001b[0mna_sentinel\u001b[0m\u001b[1;33m=\u001b[0m\u001b[0mna_sentinel\u001b[0m\u001b[1;33m\u001b[0m\u001b[1;33m\u001b[0m\u001b[0m\n\u001b[0;32m    600\u001b[0m                 )\n",
      "\u001b[1;32mc:\\users\\user\\appdata\\local\\programs\\python\\python39\\lib\\site-packages\\pandas\\core\\algorithms.py\u001b[0m in \u001b[0;36mfactorize\u001b[1;34m(values, sort, na_sentinel, size_hint)\u001b[0m\n\u001b[0;32m    684\u001b[0m         )\n\u001b[0;32m    685\u001b[0m \u001b[1;33m\u001b[0m\u001b[0m\n\u001b[1;32m--> 686\u001b[1;33m     \u001b[0mcode_is_na\u001b[0m \u001b[1;33m=\u001b[0m \u001b[0mcodes\u001b[0m \u001b[1;33m==\u001b[0m \u001b[0mna_sentinel\u001b[0m\u001b[1;33m\u001b[0m\u001b[1;33m\u001b[0m\u001b[0m\n\u001b[0m\u001b[0;32m    687\u001b[0m     \u001b[1;32mif\u001b[0m \u001b[1;32mnot\u001b[0m \u001b[0mdropna\u001b[0m \u001b[1;32mand\u001b[0m \u001b[0mcode_is_na\u001b[0m\u001b[1;33m.\u001b[0m\u001b[0many\u001b[0m\u001b[1;33m(\u001b[0m\u001b[1;33m)\u001b[0m\u001b[1;33m:\u001b[0m\u001b[1;33m\u001b[0m\u001b[1;33m\u001b[0m\u001b[0m\n\u001b[0;32m    688\u001b[0m         \u001b[1;31m# na_value is set based on the dtype of uniques, and compat set to False is\u001b[0m\u001b[1;33m\u001b[0m\u001b[1;33m\u001b[0m\u001b[1;33m\u001b[0m\u001b[0m\n",
      "\u001b[1;31mKeyboardInterrupt\u001b[0m: "
     ]
    }
   ],
   "source": [
    "for i in range(1, 13):\n",
    "    all_sales = lag_feature(all_sales, i, 'item_cnt', ['date_block_num', 'shop_id', 'item_id'])"
   ]
  },
  {
   "cell_type": "markdown",
   "id": "rolled-compound",
   "metadata": {},
   "source": [
    "For rows until the January of 2014 the lag feature item_cnt_lag12 is obviously undefined. So these rows are removed."
   ]
  },
  {
   "cell_type": "code",
   "execution_count": null,
   "id": "limited-conviction",
   "metadata": {
    "ExecuteTime": {
     "end_time": "2021-10-15T17:37:52.419387Z",
     "start_time": "2021-10-15T17:36:39.825Z"
    }
   },
   "outputs": [],
   "source": [
    "all_sales = all_sales[all_sales.date_block_num >= 12]"
   ]
  },
  {
   "cell_type": "code",
   "execution_count": null,
   "id": "governing-russell",
   "metadata": {
    "ExecuteTime": {
     "end_time": "2021-10-15T17:37:52.427385Z",
     "start_time": "2021-10-15T17:36:42.810Z"
    }
   },
   "outputs": [],
   "source": [
    "all_sales.info()"
   ]
  },
  {
   "cell_type": "code",
   "execution_count": null,
   "id": "simple-balloon",
   "metadata": {},
   "outputs": [],
   "source": []
  },
  {
   "cell_type": "markdown",
   "id": "generic-trust",
   "metadata": {},
   "source": [
    "Creating the train, valid and test datasets."
   ]
  },
  {
   "cell_type": "code",
   "execution_count": null,
   "id": "latter-parks",
   "metadata": {
    "ExecuteTime": {
     "end_time": "2021-10-15T17:37:52.435389Z",
     "start_time": "2021-10-15T17:36:59.649Z"
    }
   },
   "outputs": [],
   "source": [
    "X_train = all_sales[all_sales.date_block_num < 33]\n",
    "X_train, y_train = X_train.drop(columns=['item_cnt']), X_train.item_cnt\n",
    "\n",
    "X_val = all_sales[all_sales.date_block_num == 33]\n",
    "X_val, y_val = X_val.drop(columns=['item_cnt']), X_val.item_cnt\n",
    "\n",
    "X_test = all_sales[all_sales.date_block_num == 34]\n",
    "X_test, y_test = X_test.drop(columns=['item_cnt']), X_test.item_cnt"
   ]
  },
  {
   "cell_type": "markdown",
   "id": "medical-grove",
   "metadata": {},
   "source": [
    "Creating the train, valid and test datasets without lag features. So the train dataset also contain the information of the 2013-th year."
   ]
  },
  {
   "cell_type": "code",
   "execution_count": 53,
   "id": "public-fancy",
   "metadata": {
    "ExecuteTime": {
     "end_time": "2021-10-15T06:48:08.577025Z",
     "start_time": "2021-10-15T06:48:03.837403Z"
    }
   },
   "outputs": [],
   "source": [
    "X_train_without_lags = all_sales_without_lags[all_sales_without_lags.date_block_num < 33]\n",
    "X_train_without_lags, y_train_without_lags = X_train_without_lags.drop(columns=['item_cnt']), X_train_without_lags.item_cnt\n",
    "\n",
    "X_val_without_lags = all_sales_without_lags[all_sales_without_lags.date_block_num == 33]\n",
    "X_val_without_lags, y_val_without_lags = X_val_without_lags.drop(columns=['item_cnt']), X_val_without_lags.item_cnt\n",
    "\n",
    "X_test_without_lags = all_sales_without_lags[all_sales_without_lags.date_block_num == 34]\n",
    "X_test_without_lags, y_test_without_lags = X_test_without_lags.drop(columns=['item_cnt']), X_test_without_lags.item_cnt"
   ]
  },
  {
   "cell_type": "markdown",
   "id": "suburban-admission",
   "metadata": {},
   "source": [
    "Creating the train, valid and test datasets without lag features and shop, item and item_categories ids."
   ]
  },
  {
   "cell_type": "code",
   "execution_count": 23,
   "id": "architectural-helmet",
   "metadata": {
    "ExecuteTime": {
     "end_time": "2021-10-15T17:42:54.947940Z",
     "start_time": "2021-10-15T17:42:53.308707Z"
    }
   },
   "outputs": [],
   "source": [
    "X_train_without_lags_and_origin_ids = all_sales_without_lags_and_origin_ids[all_sales_without_lags_and_origin_ids.date_block_num < 33]\n",
    "y_train_without_lags_and_origin_ids = X_train_without_lags_and_origin_ids.item_cnt\n",
    "X_train_without_lags_and_origin_ids = X_train_without_lags_and_origin_ids.drop(columns=['item_cnt'])\n",
    "\n",
    "X_val_without_lags_and_origin_ids = all_sales_without_lags_and_origin_ids[all_sales_without_lags_and_origin_ids.date_block_num == 33]\n",
    "y_val_without_lags_and_origin_ids = X_val_without_lags_and_origin_ids.item_cnt\n",
    "X_val_without_lags_and_origin_ids = X_val_without_lags_and_origin_ids.drop(columns=['item_cnt'])\n",
    "\n",
    "X_test_without_lags_and_origin_ids = all_sales_without_lags_and_origin_ids[all_sales_without_lags_and_origin_ids.date_block_num == 34]\n",
    "y_test_without_lags_and_origin_ids = X_test_without_lags_and_origin_ids.item_cnt\n",
    "X_test_without_lags_and_origin_ids = X_test_without_lags_and_origin_ids.drop(columns=['item_cnt'])"
   ]
  },
  {
   "cell_type": "markdown",
   "id": "lined-pointer",
   "metadata": {},
   "source": [
    "LGBM with lag features. I interrupted the kernel because the evaluation time was 2 hours and 47 minutes."
   ]
  },
  {
   "cell_type": "code",
   "execution_count": 24,
   "id": "headed-springfield",
   "metadata": {
    "ExecuteTime": {
     "end_time": "2021-10-15T12:18:18.103509Z",
     "start_time": "2021-10-15T09:30:54.355685Z"
    }
   },
   "outputs": [
    {
     "name": "stdout",
     "output_type": "stream",
     "text": [
      "max_depth: 1\n",
      "learning_rate: 0.001\n",
      "train MSE: 1.095962615314234  |  val MSE: 1.0763562729158567\n",
      "\n",
      "learning_rate: 0.005\n",
      "train MSE: 0.9768033011890065  |  val MSE: 1.001453345325884\n",
      "\n",
      "learning_rate: 0.01\n",
      "train MSE: 0.9439501488933028  |  val MSE: 0.9813068496617915\n",
      "\n",
      "learning_rate: 0.05\n",
      "train MSE: 0.9265822280150141  |  val MSE: 0.9691955580332376\n",
      "\n",
      "learning_rate: 0.1\n",
      "train MSE: 0.9253391992397709  |  val MSE: 0.9681577568901751\n",
      "\n",
      "------------------------------------------------------\n",
      "max_depth: 2\n",
      "learning_rate: 0.001\n",
      "train MSE: 1.0590534720009877  |  val MSE: 1.0504024338798983\n",
      "\n",
      "learning_rate: 0.005\n",
      "train MSE: 0.9399787780196266  |  val MSE: 0.9763319047258446\n",
      "\n",
      "learning_rate: 0.01\n",
      "train MSE: 0.9250243129120677  |  val MSE: 0.9673339707027268\n",
      "\n",
      "learning_rate: 0.05\n",
      "train MSE: 0.9146711521210809  |  val MSE: 0.9580111486193177\n",
      "\n",
      "learning_rate: 0.1\n",
      "train MSE: 0.9103928469073523  |  val MSE: 0.9545165736597221\n",
      "\n",
      "------------------------------------------------------\n",
      "max_depth: 3\n",
      "learning_rate: 0.001\n",
      "train MSE: 1.0456000444793445  |  val MSE: 1.0402738635976103\n",
      "\n",
      "learning_rate: 0.005\n",
      "train MSE: 0.9300104835977414  |  val MSE: 0.969446338286848\n",
      "\n",
      "learning_rate: 0.01\n",
      "train MSE: 0.9192705537564851  |  val MSE: 0.9631444862797577\n",
      "\n",
      "learning_rate: 0.05\n",
      "train MSE: 0.9025036763302721  |  val MSE: 0.9486886833705805\n",
      "\n",
      "learning_rate: 0.1\n",
      "train MSE: 0.8950815082799095  |  val MSE: 0.9456513567424749\n",
      "\n",
      "------------------------------------------------------\n",
      "max_depth: 4\n",
      "learning_rate: 0.001\n",
      "train MSE: 1.0382669004979  |  val MSE: 1.0349309990931783\n",
      "\n",
      "learning_rate: 0.005\n",
      "train MSE: 0.9248070986830234  |  val MSE: 0.9668497099082631\n",
      "\n",
      "learning_rate: 0.01\n",
      "train MSE: 0.9126566724742325  |  val MSE: 0.9589543911170955\n",
      "\n",
      "learning_rate: 0.05\n",
      "train MSE: 0.8897655522276868  |  val MSE: 0.9444968570007777\n",
      "\n",
      "learning_rate: 0.1\n",
      "train MSE: 0.877479819850491  |  val MSE: 0.9416962772091529\n",
      "\n",
      "------------------------------------------------------\n",
      "max_depth: 5\n",
      "learning_rate: 0.001\n",
      "train MSE: 1.034087011219794  |  val MSE: 1.031568313640184\n",
      "\n",
      "learning_rate: 0.005\n",
      "train MSE: 0.9186091004130001  |  val MSE: 0.9619371046994978\n",
      "\n",
      "learning_rate: 0.01\n",
      "train MSE: 0.9043076833039599  |  val MSE: 0.95392305592015\n",
      "\n",
      "learning_rate: 0.05\n",
      "train MSE: 0.8741556009469044  |  val MSE: 0.9420435674233373\n",
      "\n",
      "learning_rate: 0.1\n",
      "train MSE: 0.8549109750782562  |  val MSE: 0.9531063763691096\n",
      "\n",
      "------------------------------------------------------\n",
      "max_depth: 6\n",
      "learning_rate: 0.001\n",
      "train MSE: 1.033713881886087  |  val MSE: 1.031109567321576\n",
      "\n",
      "learning_rate: 0.005\n"
     ]
    },
    {
     "ename": "KeyboardInterrupt",
     "evalue": "",
     "output_type": "error",
     "traceback": [
      "\u001b[1;31m---------------------------------------------------------------------------\u001b[0m",
      "\u001b[1;31mKeyboardInterrupt\u001b[0m                         Traceback (most recent call last)",
      "\u001b[1;32m<ipython-input-24-e986c883d2e6>\u001b[0m in \u001b[0;36m<module>\u001b[1;34m\u001b[0m\n\u001b[0;32m      4\u001b[0m         \u001b[0mprint\u001b[0m\u001b[1;33m(\u001b[0m\u001b[1;34m'learning_rate:'\u001b[0m\u001b[1;33m,\u001b[0m \u001b[0mlearning_rate\u001b[0m\u001b[1;33m)\u001b[0m\u001b[1;33m\u001b[0m\u001b[1;33m\u001b[0m\u001b[0m\n\u001b[0;32m      5\u001b[0m         \u001b[0mlgbm\u001b[0m \u001b[1;33m=\u001b[0m \u001b[0mLGBMRegressor\u001b[0m\u001b[1;33m(\u001b[0m\u001b[0mn_estimators\u001b[0m\u001b[1;33m=\u001b[0m\u001b[1;36m500\u001b[0m\u001b[1;33m,\u001b[0m \u001b[0mmax_depth\u001b[0m\u001b[1;33m=\u001b[0m\u001b[0mmax_depth\u001b[0m\u001b[1;33m,\u001b[0m \u001b[0mlearning_rate\u001b[0m\u001b[1;33m=\u001b[0m\u001b[0mlearning_rate\u001b[0m\u001b[1;33m)\u001b[0m\u001b[1;33m\u001b[0m\u001b[1;33m\u001b[0m\u001b[0m\n\u001b[1;32m----> 6\u001b[1;33m         \u001b[0mlgbm\u001b[0m\u001b[1;33m.\u001b[0m\u001b[0mfit\u001b[0m\u001b[1;33m(\u001b[0m\u001b[0mX_train\u001b[0m\u001b[1;33m,\u001b[0m \u001b[0my_train\u001b[0m\u001b[1;33m)\u001b[0m\u001b[1;33m\u001b[0m\u001b[1;33m\u001b[0m\u001b[0m\n\u001b[0m\u001b[0;32m      7\u001b[0m         \u001b[0mprint\u001b[0m\u001b[1;33m(\u001b[0m\u001b[1;34m'train MSE:'\u001b[0m\u001b[1;33m,\u001b[0m \u001b[0mMSE\u001b[0m\u001b[1;33m(\u001b[0m\u001b[0my_train\u001b[0m\u001b[1;33m,\u001b[0m \u001b[0mlgbm\u001b[0m\u001b[1;33m.\u001b[0m\u001b[0mpredict\u001b[0m\u001b[1;33m(\u001b[0m\u001b[0mX_train\u001b[0m\u001b[1;33m)\u001b[0m\u001b[1;33m.\u001b[0m\u001b[0mclip\u001b[0m\u001b[1;33m(\u001b[0m\u001b[1;36m0\u001b[0m\u001b[1;33m,\u001b[0m \u001b[1;36m20\u001b[0m\u001b[1;33m)\u001b[0m\u001b[1;33m)\u001b[0m\u001b[1;33m,\u001b[0m \u001b[1;34m' | '\u001b[0m\u001b[1;33m,\u001b[0m \u001b[1;34m'val MSE:'\u001b[0m\u001b[1;33m,\u001b[0m \u001b[0mMSE\u001b[0m\u001b[1;33m(\u001b[0m\u001b[0my_val\u001b[0m\u001b[1;33m,\u001b[0m \u001b[0mlgbm\u001b[0m\u001b[1;33m.\u001b[0m\u001b[0mpredict\u001b[0m\u001b[1;33m(\u001b[0m\u001b[0mX_val\u001b[0m\u001b[1;33m)\u001b[0m\u001b[1;33m.\u001b[0m\u001b[0mclip\u001b[0m\u001b[1;33m(\u001b[0m\u001b[1;36m0\u001b[0m\u001b[1;33m,\u001b[0m \u001b[1;36m20\u001b[0m\u001b[1;33m)\u001b[0m\u001b[1;33m)\u001b[0m\u001b[1;33m)\u001b[0m\u001b[1;33m\u001b[0m\u001b[1;33m\u001b[0m\u001b[0m\n\u001b[0;32m      8\u001b[0m         \u001b[0mprint\u001b[0m\u001b[1;33m(\u001b[0m\u001b[1;33m)\u001b[0m\u001b[1;33m\u001b[0m\u001b[1;33m\u001b[0m\u001b[0m\n",
      "\u001b[1;32mc:\\users\\user\\appdata\\local\\programs\\python\\python39\\lib\\site-packages\\lightgbm\\sklearn.py\u001b[0m in \u001b[0;36mfit\u001b[1;34m(self, X, y, sample_weight, init_score, eval_set, eval_names, eval_sample_weight, eval_init_score, eval_metric, early_stopping_rounds, verbose, feature_name, categorical_feature, callbacks, init_model)\u001b[0m\n\u001b[0;32m    893\u001b[0m             callbacks=None, init_model=None):\n\u001b[0;32m    894\u001b[0m         \u001b[1;34m\"\"\"Docstring is inherited from the LGBMModel.\"\"\"\u001b[0m\u001b[1;33m\u001b[0m\u001b[1;33m\u001b[0m\u001b[0m\n\u001b[1;32m--> 895\u001b[1;33m         super().fit(X, y, sample_weight=sample_weight, init_score=init_score,\n\u001b[0m\u001b[0;32m    896\u001b[0m                     \u001b[0meval_set\u001b[0m\u001b[1;33m=\u001b[0m\u001b[0meval_set\u001b[0m\u001b[1;33m,\u001b[0m \u001b[0meval_names\u001b[0m\u001b[1;33m=\u001b[0m\u001b[0meval_names\u001b[0m\u001b[1;33m,\u001b[0m \u001b[0meval_sample_weight\u001b[0m\u001b[1;33m=\u001b[0m\u001b[0meval_sample_weight\u001b[0m\u001b[1;33m,\u001b[0m\u001b[1;33m\u001b[0m\u001b[1;33m\u001b[0m\u001b[0m\n\u001b[0;32m    897\u001b[0m                     \u001b[0meval_init_score\u001b[0m\u001b[1;33m=\u001b[0m\u001b[0meval_init_score\u001b[0m\u001b[1;33m,\u001b[0m \u001b[0meval_metric\u001b[0m\u001b[1;33m=\u001b[0m\u001b[0meval_metric\u001b[0m\u001b[1;33m,\u001b[0m\u001b[1;33m\u001b[0m\u001b[1;33m\u001b[0m\u001b[0m\n",
      "\u001b[1;32mc:\\users\\user\\appdata\\local\\programs\\python\\python39\\lib\\site-packages\\lightgbm\\sklearn.py\u001b[0m in \u001b[0;36mfit\u001b[1;34m(self, X, y, sample_weight, init_score, group, eval_set, eval_names, eval_sample_weight, eval_class_weight, eval_init_score, eval_group, eval_metric, early_stopping_rounds, verbose, feature_name, categorical_feature, callbacks, init_model)\u001b[0m\n\u001b[0;32m    746\u001b[0m         \u001b[0mcallbacks\u001b[0m\u001b[1;33m.\u001b[0m\u001b[0mappend\u001b[0m\u001b[1;33m(\u001b[0m\u001b[0mrecord_evaluation\u001b[0m\u001b[1;33m(\u001b[0m\u001b[0mevals_result\u001b[0m\u001b[1;33m)\u001b[0m\u001b[1;33m)\u001b[0m\u001b[1;33m\u001b[0m\u001b[1;33m\u001b[0m\u001b[0m\n\u001b[0;32m    747\u001b[0m \u001b[1;33m\u001b[0m\u001b[0m\n\u001b[1;32m--> 748\u001b[1;33m         self._Booster = train(\n\u001b[0m\u001b[0;32m    749\u001b[0m             \u001b[0mparams\u001b[0m\u001b[1;33m=\u001b[0m\u001b[0mparams\u001b[0m\u001b[1;33m,\u001b[0m\u001b[1;33m\u001b[0m\u001b[1;33m\u001b[0m\u001b[0m\n\u001b[0;32m    750\u001b[0m             \u001b[0mtrain_set\u001b[0m\u001b[1;33m=\u001b[0m\u001b[0mtrain_set\u001b[0m\u001b[1;33m,\u001b[0m\u001b[1;33m\u001b[0m\u001b[1;33m\u001b[0m\u001b[0m\n",
      "\u001b[1;32mc:\\users\\user\\appdata\\local\\programs\\python\\python39\\lib\\site-packages\\lightgbm\\engine.py\u001b[0m in \u001b[0;36mtrain\u001b[1;34m(params, train_set, num_boost_round, valid_sets, valid_names, fobj, feval, init_model, feature_name, categorical_feature, early_stopping_rounds, evals_result, verbose_eval, learning_rates, keep_training_booster, callbacks)\u001b[0m\n\u001b[0;32m    291\u001b[0m                                     evaluation_result_list=None))\n\u001b[0;32m    292\u001b[0m \u001b[1;33m\u001b[0m\u001b[0m\n\u001b[1;32m--> 293\u001b[1;33m         \u001b[0mbooster\u001b[0m\u001b[1;33m.\u001b[0m\u001b[0mupdate\u001b[0m\u001b[1;33m(\u001b[0m\u001b[0mfobj\u001b[0m\u001b[1;33m=\u001b[0m\u001b[0mfobj\u001b[0m\u001b[1;33m)\u001b[0m\u001b[1;33m\u001b[0m\u001b[1;33m\u001b[0m\u001b[0m\n\u001b[0m\u001b[0;32m    294\u001b[0m \u001b[1;33m\u001b[0m\u001b[0m\n\u001b[0;32m    295\u001b[0m         \u001b[0mevaluation_result_list\u001b[0m \u001b[1;33m=\u001b[0m \u001b[1;33m[\u001b[0m\u001b[1;33m]\u001b[0m\u001b[1;33m\u001b[0m\u001b[1;33m\u001b[0m\u001b[0m\n",
      "\u001b[1;32mc:\\users\\user\\appdata\\local\\programs\\python\\python39\\lib\\site-packages\\lightgbm\\basic.py\u001b[0m in \u001b[0;36mupdate\u001b[1;34m(self, train_set, fobj)\u001b[0m\n\u001b[0;32m   3019\u001b[0m             \u001b[1;32mif\u001b[0m \u001b[0mself\u001b[0m\u001b[1;33m.\u001b[0m\u001b[0m__set_objective_to_none\u001b[0m\u001b[1;33m:\u001b[0m\u001b[1;33m\u001b[0m\u001b[1;33m\u001b[0m\u001b[0m\n\u001b[0;32m   3020\u001b[0m                 \u001b[1;32mraise\u001b[0m \u001b[0mLightGBMError\u001b[0m\u001b[1;33m(\u001b[0m\u001b[1;34m'Cannot update due to null objective function.'\u001b[0m\u001b[1;33m)\u001b[0m\u001b[1;33m\u001b[0m\u001b[1;33m\u001b[0m\u001b[0m\n\u001b[1;32m-> 3021\u001b[1;33m             _safe_call(_LIB.LGBM_BoosterUpdateOneIter(\n\u001b[0m\u001b[0;32m   3022\u001b[0m                 \u001b[0mself\u001b[0m\u001b[1;33m.\u001b[0m\u001b[0mhandle\u001b[0m\u001b[1;33m,\u001b[0m\u001b[1;33m\u001b[0m\u001b[1;33m\u001b[0m\u001b[0m\n\u001b[0;32m   3023\u001b[0m                 ctypes.byref(is_finished)))\n",
      "\u001b[1;31mKeyboardInterrupt\u001b[0m: "
     ]
    }
   ],
   "source": [
    "for max_depth in range(1, 9):\n",
    "    print('max_depth:', max_depth)\n",
    "    for learning_rate in [0.001, 0.005, 0.01, 0.05, 0.1]:\n",
    "        print('learning_rate:', learning_rate)\n",
    "        lgbm = LGBMRegressor(n_estimators=500, max_depth=max_depth, learning_rate=learning_rate)\n",
    "        lgbm.fit(X_train, y_train)\n",
    "        print('train MSE:', MSE(y_train, lgbm.predict(X_train).clip(0, 20)), ' | ', 'val MSE:', MSE(y_val, lgbm.predict(X_val).clip(0, 20)))\n",
    "        print()\n",
    "    print('------------------------------------------------------')"
   ]
  },
  {
   "cell_type": "code",
   "execution_count": 30,
   "id": "exact-likelihood",
   "metadata": {
    "ExecuteTime": {
     "end_time": "2021-10-15T18:16:56.281060Z",
     "start_time": "2021-10-15T18:04:04.184248Z"
    },
    "scrolled": false
   },
   "outputs": [
    {
     "name": "stdout",
     "output_type": "stream",
     "text": [
      "max_depth: 1\n"
     ]
    },
    {
     "name": "stderr",
     "output_type": "stream",
     "text": [
      "c:\\users\\user\\appdata\\local\\programs\\python\\python39\\lib\\site-packages\\lightgbm\\sklearn.py:736: UserWarning: 'verbose' argument is deprecated and will be removed in a future release of LightGBM. Pass 'log_evaluation()' callback via 'callbacks' argument instead.\n",
      "  _log_warning(\"'verbose' argument is deprecated and will be removed in a future release of LightGBM. \"\n"
     ]
    },
    {
     "name": "stdout",
     "output_type": "stream",
     "text": [
      "[10]\tvalid_0's l2: 1.2866\n",
      "[20]\tvalid_0's l2: 1.28284\n",
      "[30]\tvalid_0's l2: 1.28083\n",
      "[40]\tvalid_0's l2: 1.27977\n",
      "[50]\tvalid_0's l2: 1.27743\n",
      "[60]\tvalid_0's l2: 1.27624\n",
      "[70]\tvalid_0's l2: 1.27393\n",
      "[80]\tvalid_0's l2: 1.27365\n",
      "[90]\tvalid_0's l2: 1.27201\n",
      "[100]\tvalid_0's l2: 1.27138\n",
      "train MSE: 1.2029902387074427  |  val MSE: 1.1274861203037285\n",
      "------------------------------------------------------\n",
      "max_depth: 2\n",
      "[10]\tvalid_0's l2: 1.27042\n",
      "[20]\tvalid_0's l2: 1.26581\n",
      "[30]\tvalid_0's l2: 1.25987\n",
      "[40]\tvalid_0's l2: 1.25597\n",
      "[50]\tvalid_0's l2: 1.25432\n",
      "[60]\tvalid_0's l2: 1.25013\n",
      "[70]\tvalid_0's l2: 1.24816\n",
      "[80]\tvalid_0's l2: 1.24352\n",
      "[90]\tvalid_0's l2: 1.24011\n",
      "[100]\tvalid_0's l2: 1.23595\n",
      "train MSE: 1.1878138337219746  |  val MSE: 1.1117299421278757\n",
      "------------------------------------------------------\n",
      "max_depth: 3\n",
      "[10]\tvalid_0's l2: 1.24963\n",
      "[20]\tvalid_0's l2: 1.23842\n",
      "[30]\tvalid_0's l2: 1.22701\n",
      "[40]\tvalid_0's l2: 1.2213\n",
      "[50]\tvalid_0's l2: 1.21521\n",
      "[60]\tvalid_0's l2: 1.19822\n",
      "[70]\tvalid_0's l2: 1.18542\n",
      "[80]\tvalid_0's l2: 1.17643\n",
      "[90]\tvalid_0's l2: 1.16998\n",
      "[100]\tvalid_0's l2: 1.16496\n",
      "train MSE: 1.1646742746909582  |  val MSE: 1.0792388689514107\n",
      "------------------------------------------------------\n",
      "max_depth: 4\n",
      "[10]\tvalid_0's l2: 1.23463\n",
      "[20]\tvalid_0's l2: 1.2154\n",
      "[30]\tvalid_0's l2: 1.19979\n",
      "[40]\tvalid_0's l2: 1.19191\n",
      "[50]\tvalid_0's l2: 1.17388\n",
      "[60]\tvalid_0's l2: 1.16171\n",
      "[70]\tvalid_0's l2: 1.14662\n",
      "[80]\tvalid_0's l2: 1.14133\n",
      "[90]\tvalid_0's l2: 1.14032\n",
      "[100]\tvalid_0's l2: 1.13226\n",
      "train MSE: 1.1520099235813082  |  val MSE: 1.0639055665989903\n",
      "------------------------------------------------------\n",
      "max_depth: 5\n",
      "[10]\tvalid_0's l2: 1.21858\n",
      "[20]\tvalid_0's l2: 1.20034\n",
      "[30]\tvalid_0's l2: 1.17947\n",
      "[40]\tvalid_0's l2: 1.15045\n",
      "[50]\tvalid_0's l2: 1.14128\n",
      "[60]\tvalid_0's l2: 1.13023\n",
      "[70]\tvalid_0's l2: 1.12202\n",
      "[80]\tvalid_0's l2: 1.1154\n",
      "[90]\tvalid_0's l2: 1.11255\n",
      "[100]\tvalid_0's l2: 1.10515\n",
      "train MSE: 1.1401312388739255  |  val MSE: 1.0511240552380887\n",
      "------------------------------------------------------\n",
      "max_depth: 6\n",
      "[10]\tvalid_0's l2: 1.21104\n",
      "[20]\tvalid_0's l2: 1.17276\n",
      "[30]\tvalid_0's l2: 1.15264\n",
      "[40]\tvalid_0's l2: 1.14508\n",
      "[50]\tvalid_0's l2: 1.13683\n",
      "[60]\tvalid_0's l2: 1.12487\n",
      "[70]\tvalid_0's l2: 1.11628\n",
      "[80]\tvalid_0's l2: 1.10776\n",
      "[90]\tvalid_0's l2: 1.1\n",
      "[100]\tvalid_0's l2: 1.09923\n",
      "train MSE: 1.134274208933169  |  val MSE: 1.0483747044666198\n",
      "------------------------------------------------------\n",
      "max_depth: 7\n",
      "[10]\tvalid_0's l2: 1.20902\n",
      "[20]\tvalid_0's l2: 1.1603\n",
      "[30]\tvalid_0's l2: 1.13808\n",
      "[40]\tvalid_0's l2: 1.125\n",
      "[50]\tvalid_0's l2: 1.11786\n",
      "[60]\tvalid_0's l2: 1.11233\n",
      "[70]\tvalid_0's l2: 1.10796\n",
      "[80]\tvalid_0's l2: 1.0995\n",
      "[90]\tvalid_0's l2: 1.09475\n",
      "[100]\tvalid_0's l2: 1.0903\n",
      "train MSE: 1.1320675223379517  |  val MSE: 1.0441418599031025\n",
      "------------------------------------------------------\n",
      "max_depth: 8\n",
      "[10]\tvalid_0's l2: 1.19943\n",
      "[20]\tvalid_0's l2: 1.15977\n",
      "[30]\tvalid_0's l2: 1.13935\n",
      "[40]\tvalid_0's l2: 1.12389\n",
      "[50]\tvalid_0's l2: 1.10971\n",
      "[60]\tvalid_0's l2: 1.1041\n",
      "[70]\tvalid_0's l2: 1.09726\n",
      "[80]\tvalid_0's l2: 1.09269\n",
      "[90]\tvalid_0's l2: 1.09005\n",
      "[100]\tvalid_0's l2: 1.08516\n",
      "train MSE: 1.1312469187788892  |  val MSE: 1.0416905758091517\n",
      "------------------------------------------------------\n"
     ]
    }
   ],
   "source": [
    "for max_depth in range(1, 9):\n",
    "    print('max_depth:', max_depth)\n",
    "    lgbm = LGBMRegressor(max_depth=max_depth)\n",
    "    lgbm.fit(X_train_without_lags_and_origin_ids,\n",
    "             y_train_without_lags_and_origin_ids,\n",
    "             eval_set=[(X_val_without_lags_and_origin_ids, y_val_without_lags_and_origin_ids)],\n",
    "             eval_metric='l2',\n",
    "             early_stopping_rounds=20,\n",
    "             verbose=10)\n",
    "    print('train MSE:', MSE(y_train_without_lags_and_origin_ids, lgbm.predict(X_train_without_lags_and_origin_ids).clip(0, 20)), ' | ',\n",
    "          'val MSE:', MSE(y_val_without_lags_and_origin_ids, lgbm.predict(X_val_without_lags_and_origin_ids).clip(0, 20)))\n",
    "    print('------------------------------------------------------')"
   ]
  },
  {
   "cell_type": "markdown",
   "id": "third-debut",
   "metadata": {},
   "source": [
    "Creating lag features."
   ]
  },
  {
   "cell_type": "code",
   "execution_count": 102,
   "id": "particular-cricket",
   "metadata": {
    "ExecuteTime": {
     "end_time": "2021-10-15T09:08:08.809489Z",
     "start_time": "2021-10-15T08:19:59.195686Z"
    },
    "scrolled": true
   },
   "outputs": [
    {
     "name": "stdout",
     "output_type": "stream",
     "text": [
      "max_depth: 1\n",
      "train MSE: 0.9292286170038948  |  val MSE: 0.9715517056653525\n",
      "max_depth: 2\n",
      "train MSE: 0.914220336935386  |  val MSE: 0.9583789865727568\n",
      "max_depth: 3\n",
      "train MSE: 0.9003089591874074  |  val MSE: 0.9497599942201541\n",
      "max_depth: 4\n"
     ]
    },
    {
     "ename": "KeyboardInterrupt",
     "evalue": "",
     "output_type": "error",
     "traceback": [
      "\u001b[1;31m---------------------------------------------------------------------------\u001b[0m",
      "\u001b[1;31mKeyboardInterrupt\u001b[0m                         Traceback (most recent call last)",
      "\u001b[1;32m<ipython-input-102-316775139fc4>\u001b[0m in \u001b[0;36m<module>\u001b[1;34m\u001b[0m\n\u001b[0;32m      2\u001b[0m     \u001b[0mprint\u001b[0m\u001b[1;33m(\u001b[0m\u001b[1;34m'max_depth:'\u001b[0m\u001b[1;33m,\u001b[0m \u001b[0mmax_depth\u001b[0m\u001b[1;33m)\u001b[0m\u001b[1;33m\u001b[0m\u001b[1;33m\u001b[0m\u001b[0m\n\u001b[0;32m      3\u001b[0m     \u001b[0mxgb\u001b[0m \u001b[1;33m=\u001b[0m \u001b[0mXGBRegressor\u001b[0m\u001b[1;33m(\u001b[0m\u001b[0mn_estimators\u001b[0m\u001b[1;33m=\u001b[0m\u001b[1;36m100\u001b[0m\u001b[1;33m,\u001b[0m \u001b[0mmax_depth\u001b[0m\u001b[1;33m=\u001b[0m\u001b[0mmax_depth\u001b[0m\u001b[1;33m)\u001b[0m\u001b[1;33m\u001b[0m\u001b[1;33m\u001b[0m\u001b[0m\n\u001b[1;32m----> 4\u001b[1;33m     \u001b[0mxgb\u001b[0m\u001b[1;33m.\u001b[0m\u001b[0mfit\u001b[0m\u001b[1;33m(\u001b[0m\u001b[0mX_train\u001b[0m\u001b[1;33m,\u001b[0m \u001b[0my_train\u001b[0m\u001b[1;33m)\u001b[0m\u001b[1;33m\u001b[0m\u001b[1;33m\u001b[0m\u001b[0m\n\u001b[0m\u001b[0;32m      5\u001b[0m     \u001b[0mprint\u001b[0m\u001b[1;33m(\u001b[0m\u001b[1;34m'train MSE:'\u001b[0m\u001b[1;33m,\u001b[0m \u001b[0mMSE\u001b[0m\u001b[1;33m(\u001b[0m\u001b[0my_train\u001b[0m\u001b[1;33m,\u001b[0m \u001b[0mxgb\u001b[0m\u001b[1;33m.\u001b[0m\u001b[0mpredict\u001b[0m\u001b[1;33m(\u001b[0m\u001b[0mX_train\u001b[0m\u001b[1;33m)\u001b[0m\u001b[1;33m.\u001b[0m\u001b[0mclip\u001b[0m\u001b[1;33m(\u001b[0m\u001b[1;36m0\u001b[0m\u001b[1;33m,\u001b[0m \u001b[1;36m20\u001b[0m\u001b[1;33m)\u001b[0m\u001b[1;33m)\u001b[0m\u001b[1;33m,\u001b[0m \u001b[1;34m' | '\u001b[0m\u001b[1;33m,\u001b[0m \u001b[1;34m'val MSE:'\u001b[0m\u001b[1;33m,\u001b[0m \u001b[0mMSE\u001b[0m\u001b[1;33m(\u001b[0m\u001b[0my_val\u001b[0m\u001b[1;33m,\u001b[0m \u001b[0mxgb\u001b[0m\u001b[1;33m.\u001b[0m\u001b[0mpredict\u001b[0m\u001b[1;33m(\u001b[0m\u001b[0mX_val\u001b[0m\u001b[1;33m)\u001b[0m\u001b[1;33m.\u001b[0m\u001b[0mclip\u001b[0m\u001b[1;33m(\u001b[0m\u001b[1;36m0\u001b[0m\u001b[1;33m,\u001b[0m \u001b[1;36m20\u001b[0m\u001b[1;33m)\u001b[0m\u001b[1;33m)\u001b[0m\u001b[1;33m)\u001b[0m\u001b[1;33m\u001b[0m\u001b[1;33m\u001b[0m\u001b[0m\n",
      "\u001b[1;32mc:\\users\\user\\appdata\\local\\programs\\python\\python39\\lib\\site-packages\\xgboost\\core.py\u001b[0m in \u001b[0;36minner_f\u001b[1;34m(*args, **kwargs)\u001b[0m\n\u001b[0;32m    434\u001b[0m         \u001b[1;32mfor\u001b[0m \u001b[0mk\u001b[0m\u001b[1;33m,\u001b[0m \u001b[0marg\u001b[0m \u001b[1;32min\u001b[0m \u001b[0mzip\u001b[0m\u001b[1;33m(\u001b[0m\u001b[0msig\u001b[0m\u001b[1;33m.\u001b[0m\u001b[0mparameters\u001b[0m\u001b[1;33m,\u001b[0m \u001b[0margs\u001b[0m\u001b[1;33m)\u001b[0m\u001b[1;33m:\u001b[0m\u001b[1;33m\u001b[0m\u001b[1;33m\u001b[0m\u001b[0m\n\u001b[0;32m    435\u001b[0m             \u001b[0mkwargs\u001b[0m\u001b[1;33m[\u001b[0m\u001b[0mk\u001b[0m\u001b[1;33m]\u001b[0m \u001b[1;33m=\u001b[0m \u001b[0marg\u001b[0m\u001b[1;33m\u001b[0m\u001b[1;33m\u001b[0m\u001b[0m\n\u001b[1;32m--> 436\u001b[1;33m         \u001b[1;32mreturn\u001b[0m \u001b[0mf\u001b[0m\u001b[1;33m(\u001b[0m\u001b[1;33m**\u001b[0m\u001b[0mkwargs\u001b[0m\u001b[1;33m)\u001b[0m\u001b[1;33m\u001b[0m\u001b[1;33m\u001b[0m\u001b[0m\n\u001b[0m\u001b[0;32m    437\u001b[0m \u001b[1;33m\u001b[0m\u001b[0m\n\u001b[0;32m    438\u001b[0m     \u001b[1;32mreturn\u001b[0m \u001b[0minner_f\u001b[0m\u001b[1;33m\u001b[0m\u001b[1;33m\u001b[0m\u001b[0m\n",
      "\u001b[1;32mc:\\users\\user\\appdata\\local\\programs\\python\\python39\\lib\\site-packages\\xgboost\\sklearn.py\u001b[0m in \u001b[0;36mfit\u001b[1;34m(self, X, y, sample_weight, base_margin, eval_set, eval_metric, early_stopping_rounds, verbose, xgb_model, sample_weight_eval_set, base_margin_eval_set, feature_weights, callbacks)\u001b[0m\n\u001b[0;32m    734\u001b[0m \u001b[1;33m\u001b[0m\u001b[0m\n\u001b[0;32m    735\u001b[0m         \u001b[0mmodel\u001b[0m\u001b[1;33m,\u001b[0m \u001b[0mfeval\u001b[0m\u001b[1;33m,\u001b[0m \u001b[0mparams\u001b[0m \u001b[1;33m=\u001b[0m \u001b[0mself\u001b[0m\u001b[1;33m.\u001b[0m\u001b[0m_configure_fit\u001b[0m\u001b[1;33m(\u001b[0m\u001b[0mxgb_model\u001b[0m\u001b[1;33m,\u001b[0m \u001b[0meval_metric\u001b[0m\u001b[1;33m,\u001b[0m \u001b[0mparams\u001b[0m\u001b[1;33m)\u001b[0m\u001b[1;33m\u001b[0m\u001b[1;33m\u001b[0m\u001b[0m\n\u001b[1;32m--> 736\u001b[1;33m         self._Booster = train(\n\u001b[0m\u001b[0;32m    737\u001b[0m             \u001b[0mparams\u001b[0m\u001b[1;33m,\u001b[0m\u001b[1;33m\u001b[0m\u001b[1;33m\u001b[0m\u001b[0m\n\u001b[0;32m    738\u001b[0m             \u001b[0mtrain_dmatrix\u001b[0m\u001b[1;33m,\u001b[0m\u001b[1;33m\u001b[0m\u001b[1;33m\u001b[0m\u001b[0m\n",
      "\u001b[1;32mc:\\users\\user\\appdata\\local\\programs\\python\\python39\\lib\\site-packages\\xgboost\\training.py\u001b[0m in \u001b[0;36mtrain\u001b[1;34m(params, dtrain, num_boost_round, evals, obj, feval, maximize, early_stopping_rounds, evals_result, verbose_eval, xgb_model, callbacks)\u001b[0m\n\u001b[0;32m    187\u001b[0m     \u001b[0mBooster\u001b[0m \u001b[1;33m:\u001b[0m \u001b[0ma\u001b[0m \u001b[0mtrained\u001b[0m \u001b[0mbooster\u001b[0m \u001b[0mmodel\u001b[0m\u001b[1;33m\u001b[0m\u001b[1;33m\u001b[0m\u001b[0m\n\u001b[0;32m    188\u001b[0m     \"\"\"\n\u001b[1;32m--> 189\u001b[1;33m     bst = _train_internal(params, dtrain,\n\u001b[0m\u001b[0;32m    190\u001b[0m                           \u001b[0mnum_boost_round\u001b[0m\u001b[1;33m=\u001b[0m\u001b[0mnum_boost_round\u001b[0m\u001b[1;33m,\u001b[0m\u001b[1;33m\u001b[0m\u001b[1;33m\u001b[0m\u001b[0m\n\u001b[0;32m    191\u001b[0m                           \u001b[0mevals\u001b[0m\u001b[1;33m=\u001b[0m\u001b[0mevals\u001b[0m\u001b[1;33m,\u001b[0m\u001b[1;33m\u001b[0m\u001b[1;33m\u001b[0m\u001b[0m\n",
      "\u001b[1;32mc:\\users\\user\\appdata\\local\\programs\\python\\python39\\lib\\site-packages\\xgboost\\training.py\u001b[0m in \u001b[0;36m_train_internal\u001b[1;34m(params, dtrain, num_boost_round, evals, obj, feval, xgb_model, callbacks, evals_result, maximize, verbose_eval, early_stopping_rounds)\u001b[0m\n\u001b[0;32m     79\u001b[0m         \u001b[1;32mif\u001b[0m \u001b[0mcallbacks\u001b[0m\u001b[1;33m.\u001b[0m\u001b[0mbefore_iteration\u001b[0m\u001b[1;33m(\u001b[0m\u001b[0mbst\u001b[0m\u001b[1;33m,\u001b[0m \u001b[0mi\u001b[0m\u001b[1;33m,\u001b[0m \u001b[0mdtrain\u001b[0m\u001b[1;33m,\u001b[0m \u001b[0mevals\u001b[0m\u001b[1;33m)\u001b[0m\u001b[1;33m:\u001b[0m\u001b[1;33m\u001b[0m\u001b[1;33m\u001b[0m\u001b[0m\n\u001b[0;32m     80\u001b[0m             \u001b[1;32mbreak\u001b[0m\u001b[1;33m\u001b[0m\u001b[1;33m\u001b[0m\u001b[0m\n\u001b[1;32m---> 81\u001b[1;33m         \u001b[0mbst\u001b[0m\u001b[1;33m.\u001b[0m\u001b[0mupdate\u001b[0m\u001b[1;33m(\u001b[0m\u001b[0mdtrain\u001b[0m\u001b[1;33m,\u001b[0m \u001b[0mi\u001b[0m\u001b[1;33m,\u001b[0m \u001b[0mobj\u001b[0m\u001b[1;33m)\u001b[0m\u001b[1;33m\u001b[0m\u001b[1;33m\u001b[0m\u001b[0m\n\u001b[0m\u001b[0;32m     82\u001b[0m         \u001b[1;32mif\u001b[0m \u001b[0mcallbacks\u001b[0m\u001b[1;33m.\u001b[0m\u001b[0mafter_iteration\u001b[0m\u001b[1;33m(\u001b[0m\u001b[0mbst\u001b[0m\u001b[1;33m,\u001b[0m \u001b[0mi\u001b[0m\u001b[1;33m,\u001b[0m \u001b[0mdtrain\u001b[0m\u001b[1;33m,\u001b[0m \u001b[0mevals\u001b[0m\u001b[1;33m)\u001b[0m\u001b[1;33m:\u001b[0m\u001b[1;33m\u001b[0m\u001b[1;33m\u001b[0m\u001b[0m\n\u001b[0;32m     83\u001b[0m             \u001b[1;32mbreak\u001b[0m\u001b[1;33m\u001b[0m\u001b[1;33m\u001b[0m\u001b[0m\n",
      "\u001b[1;32mc:\\users\\user\\appdata\\local\\programs\\python\\python39\\lib\\site-packages\\xgboost\\core.py\u001b[0m in \u001b[0;36mupdate\u001b[1;34m(self, dtrain, iteration, fobj)\u001b[0m\n\u001b[0;32m   1497\u001b[0m \u001b[1;33m\u001b[0m\u001b[0m\n\u001b[0;32m   1498\u001b[0m         \u001b[1;32mif\u001b[0m \u001b[0mfobj\u001b[0m \u001b[1;32mis\u001b[0m \u001b[1;32mNone\u001b[0m\u001b[1;33m:\u001b[0m\u001b[1;33m\u001b[0m\u001b[1;33m\u001b[0m\u001b[0m\n\u001b[1;32m-> 1499\u001b[1;33m             _check_call(_LIB.XGBoosterUpdateOneIter(self.handle,\n\u001b[0m\u001b[0;32m   1500\u001b[0m                                                     \u001b[0mctypes\u001b[0m\u001b[1;33m.\u001b[0m\u001b[0mc_int\u001b[0m\u001b[1;33m(\u001b[0m\u001b[0miteration\u001b[0m\u001b[1;33m)\u001b[0m\u001b[1;33m,\u001b[0m\u001b[1;33m\u001b[0m\u001b[1;33m\u001b[0m\u001b[0m\n\u001b[0;32m   1501\u001b[0m                                                     dtrain.handle))\n",
      "\u001b[1;31mKeyboardInterrupt\u001b[0m: "
     ]
    }
   ],
   "source": [
    "for max_depth in range(1, 8):\n",
    "    print('max_depth:', max_depth)\n",
    "    xgb = XGBRegressor(n_estimators=100, max_depth=max_depth)\n",
    "    xgb.fit(X_train, y_train)\n",
    "    print('train MSE:', MSE(y_train, xgb.predict(X_train).clip(0, 20)), ' | ', 'val MSE:', MSE(y_val, xgb.predict(X_val).clip(0, 20)))"
   ]
  },
  {
   "cell_type": "markdown",
   "id": "departmental-cooperation",
   "metadata": {},
   "source": [
    "LGBM without lag features"
   ]
  },
  {
   "cell_type": "code",
   "execution_count": 85,
   "id": "fleet-queensland",
   "metadata": {
    "ExecuteTime": {
     "end_time": "2021-10-15T07:08:29.217638Z",
     "start_time": "2021-10-15T06:58:08.079509Z"
    },
    "collapsed": true
   },
   "outputs": [
    {
     "name": "stdout",
     "output_type": "stream",
     "text": [
      "max_depth: 1\n",
      "MSE: 1.1250655557746896\n",
      "max_depth: 2\n",
      "MSE: 1.1062470898531294\n",
      "max_depth: 3\n",
      "MSE: 1.0799633329985878\n",
      "max_depth: 4\n",
      "MSE: 1.0553583578436607\n",
      "max_depth: 5\n",
      "MSE: 1.0378690599988074\n",
      "max_depth: 6\n",
      "MSE: 1.0349645188174152\n",
      "max_depth: 7\n",
      "MSE: 1.0298975810395792\n",
      "max_depth: 8\n",
      "MSE: 1.0299027230596054\n",
      "max_depth: 9\n",
      "MSE: 1.0327958746789292\n",
      "max_depth: 10\n",
      "MSE: 1.0282905971478133\n"
     ]
    }
   ],
   "source": [
    "for max_depth in range(1, 11):\n",
    "    print('max_depth:', max_depth)\n",
    "    lgbm = LGBMRegressor(n_estimators=100, max_depth=max_depth)\n",
    "    lgbm.fit(X_train_without_lags, y_train_without_lags)\n",
    "    print('MSE:', MSE(y_val_without_lags, lgbm.predict(X_val_without_lags)))"
   ]
  },
  {
   "cell_type": "code",
   "execution_count": 26,
   "id": "contrary-tribune",
   "metadata": {
    "ExecuteTime": {
     "end_time": "2021-10-15T12:20:44.342165Z",
     "start_time": "2021-10-15T12:20:38.885912Z"
    }
   },
   "outputs": [],
   "source": [
    "X_final_train = all_sales[all_sales.date_block_num < 34]\n",
    "X_final_train, y_final_train = X_final_train.drop(columns=['item_cnt']), X_final_train.item_cnt"
   ]
  },
  {
   "cell_type": "code",
   "execution_count": 27,
   "id": "cellular-trust",
   "metadata": {
    "ExecuteTime": {
     "end_time": "2021-10-15T06:24:46.901692Z",
     "start_time": "2021-10-15T06:23:33.061766Z"
    }
   },
   "outputs": [],
   "source": [
    "best_lgbm = LGBMRegressor(n_estimators=100, max_depth=7)\n",
    "best_lgbm.fit(X_final_train, y_final_train)\n",
    "\n",
    "submission = pd.read_csv('data/sample_submission.csv')\n",
    "submission.item_cnt_month = best_lgbm.predict(X_test)\n",
    "submission.to_csv('data/my_submission_7.csv', index=None)"
   ]
  },
  {
   "cell_type": "markdown",
   "id": "dress-problem",
   "metadata": {},
   "source": [
    "SCORE = 1.38356"
   ]
  },
  {
   "cell_type": "code",
   "execution_count": 84,
   "id": "proud-causing",
   "metadata": {
    "ExecuteTime": {
     "end_time": "2021-10-15T06:57:17.811537Z",
     "start_time": "2021-10-15T06:57:15.574091Z"
    }
   },
   "outputs": [],
   "source": [
    "submission_7 = pd.read_csv('data/my_submission_7.csv')\n",
    "submission_7.item_cnt_month = submission_7.item_cnt_month.clip(0, 20)\n",
    "submission_7.to_csv('data/my_submission_8.csv', index=None)"
   ]
  },
  {
   "cell_type": "markdown",
   "id": "dressed-speaking",
   "metadata": {},
   "source": [
    "It is just the clipped previous submission.\n",
    "SCORE = 1.38327"
   ]
  },
  {
   "cell_type": "code",
   "execution_count": 87,
   "id": "constant-mapping",
   "metadata": {
    "ExecuteTime": {
     "end_time": "2021-10-15T07:08:33.294386Z",
     "start_time": "2021-10-15T07:08:30.033374Z"
    }
   },
   "outputs": [],
   "source": [
    "X_final_train_without_lags = all_sales_without_lags[all_sales_without_lags.date_block_num < 34]\n",
    "X_final_train_without_lags, y_final_train_without_lags = X_final_train_without_lags.drop(columns=['item_cnt']), X_final_train_without_lags.item_cnt"
   ]
  },
  {
   "cell_type": "code",
   "execution_count": 90,
   "id": "facial-journalist",
   "metadata": {
    "ExecuteTime": {
     "end_time": "2021-10-15T07:14:48.680798Z",
     "start_time": "2021-10-15T07:13:32.466429Z"
    }
   },
   "outputs": [],
   "source": [
    "best_lgbm_without_lags = LGBMRegressor(n_estimators=100, max_depth=7)\n",
    "best_lgbm_without_lags.fit(X_final_train_without_lags, y_final_train_without_lags)\n",
    "\n",
    "submission = pd.read_csv('data/sample_submission.csv')\n",
    "submission.item_cnt_month = best_lgbm_without_lags.predict(X_test_without_lags).clip(0, 20)\n",
    "submission.to_csv('data/my_submission_9.csv', index=None)"
   ]
  },
  {
   "cell_type": "code",
   "execution_count": 92,
   "id": "viral-grass",
   "metadata": {
    "ExecuteTime": {
     "end_time": "2021-10-15T07:18:30.310255Z",
     "start_time": "2021-10-15T07:18:30.255346Z"
    }
   },
   "outputs": [
    {
     "data": {
      "text/html": [
       "<div>\n",
       "<style scoped>\n",
       "    .dataframe tbody tr th:only-of-type {\n",
       "        vertical-align: middle;\n",
       "    }\n",
       "\n",
       "    .dataframe tbody tr th {\n",
       "        vertical-align: top;\n",
       "    }\n",
       "\n",
       "    .dataframe thead th {\n",
       "        text-align: right;\n",
       "    }\n",
       "</style>\n",
       "<table border=\"1\" class=\"dataframe\">\n",
       "  <thead>\n",
       "    <tr style=\"text-align: right;\">\n",
       "      <th></th>\n",
       "      <th>date_block_num</th>\n",
       "      <th>shop_id</th>\n",
       "      <th>item_id</th>\n",
       "      <th>item_cnt</th>\n",
       "      <th>item_category_id</th>\n",
       "      <th>super_category_label</th>\n",
       "      <th>simple_category_label</th>\n",
       "      <th>type_label</th>\n",
       "      <th>city_label</th>\n",
       "    </tr>\n",
       "  </thead>\n",
       "  <tbody>\n",
       "    <tr>\n",
       "      <th>0</th>\n",
       "      <td>1</td>\n",
       "      <td>57</td>\n",
       "      <td>30</td>\n",
       "      <td>20</td>\n",
       "      <td>40</td>\n",
       "      <td>9</td>\n",
       "      <td>31</td>\n",
       "      <td>0</td>\n",
       "      <td>27</td>\n",
       "    </tr>\n",
       "    <tr>\n",
       "      <th>1</th>\n",
       "      <td>1</td>\n",
       "      <td>57</td>\n",
       "      <td>31</td>\n",
       "      <td>11</td>\n",
       "      <td>37</td>\n",
       "      <td>9</td>\n",
       "      <td>26</td>\n",
       "      <td>0</td>\n",
       "      <td>27</td>\n",
       "    </tr>\n",
       "    <tr>\n",
       "      <th>2</th>\n",
       "      <td>1</td>\n",
       "      <td>57</td>\n",
       "      <td>32</td>\n",
       "      <td>10</td>\n",
       "      <td>40</td>\n",
       "      <td>9</td>\n",
       "      <td>31</td>\n",
       "      <td>0</td>\n",
       "      <td>27</td>\n",
       "    </tr>\n",
       "    <tr>\n",
       "      <th>3</th>\n",
       "      <td>1</td>\n",
       "      <td>57</td>\n",
       "      <td>33</td>\n",
       "      <td>3</td>\n",
       "      <td>37</td>\n",
       "      <td>9</td>\n",
       "      <td>26</td>\n",
       "      <td>0</td>\n",
       "      <td>27</td>\n",
       "    </tr>\n",
       "    <tr>\n",
       "      <th>4</th>\n",
       "      <td>1</td>\n",
       "      <td>57</td>\n",
       "      <td>35</td>\n",
       "      <td>14</td>\n",
       "      <td>40</td>\n",
       "      <td>9</td>\n",
       "      <td>31</td>\n",
       "      <td>0</td>\n",
       "      <td>27</td>\n",
       "    </tr>\n",
       "  </tbody>\n",
       "</table>\n",
       "</div>"
      ],
      "text/plain": [
       "   date_block_num  shop_id  item_id  item_cnt  item_category_id  \\\n",
       "0               1       57       30        20                40   \n",
       "1               1       57       31        11                37   \n",
       "2               1       57       32        10                40   \n",
       "3               1       57       33         3                37   \n",
       "4               1       57       35        14                40   \n",
       "\n",
       "   super_category_label  simple_category_label  type_label  city_label  \n",
       "0                     9                     31           0          27  \n",
       "1                     9                     26           0          27  \n",
       "2                     9                     31           0          27  \n",
       "3                     9                     26           0          27  \n",
       "4                     9                     31           0          27  "
      ]
     },
     "execution_count": 92,
     "metadata": {},
     "output_type": "execute_result"
    }
   ],
   "source": [
    "all_sales_without_lags.head()"
   ]
  },
  {
   "cell_type": "code",
   "execution_count": 27,
   "id": "figured-packing",
   "metadata": {
    "ExecuteTime": {
     "end_time": "2021-10-15T12:24:46.432911Z",
     "start_time": "2021-10-15T12:20:47.975382Z"
    }
   },
   "outputs": [],
   "source": [
    "best_lgbm = LGBMRegressor(n_estimators=500, max_depth=4, learning_rate=0.001)\n",
    "best_lgbm.fit(X_final_train, y_final_train)\n",
    "\n",
    "submission = pd.read_csv('data/sample_submission.csv')\n",
    "submission.item_cnt_month = best_lgbm.predict(X_test).clip(0, 20)\n",
    "submission.to_csv('data/my_submission_10.csv', index=None)"
   ]
  },
  {
   "cell_type": "markdown",
   "id": "false-violin",
   "metadata": {},
   "source": [
    "SCORE = 1.24015"
   ]
  },
  {
   "cell_type": "code",
   "execution_count": 44,
   "id": "transsexual-assurance",
   "metadata": {
    "ExecuteTime": {
     "end_time": "2021-10-15T18:21:10.095064Z",
     "start_time": "2021-10-15T18:21:03.163421Z"
    }
   },
   "outputs": [],
   "source": [
    "X_final_train_without_lags_and_origin_ids = all_sales_without_lags_and_origin_ids[all_sales_without_lags_and_origin_ids.date_block_num < 34]\n",
    "X_final_train_without_lags_and_origin_ids, y_final_train_without_lags_and_origin_ids = X_final_train_without_lags_and_origin_ids.drop(columns=['item_cnt']), X_final_train_without_lags_and_origin_ids.item_cnt"
   ]
  },
  {
   "cell_type": "code",
   "execution_count": 45,
   "id": "light-northeast",
   "metadata": {
    "ExecuteTime": {
     "end_time": "2021-10-15T18:22:48.393169Z",
     "start_time": "2021-10-15T18:21:48.611243Z"
    }
   },
   "outputs": [],
   "source": [
    "best_lgbm = LGBMRegressor(n_estimators=100, max_depth=8)\n",
    "best_lgbm.fit(X_final_train_without_lags_and_origin_ids, y_final_train_without_lags_and_origin_ids)\n",
    "\n",
    "submission = pd.read_csv('data/sample_submission.csv')\n",
    "submission.item_cnt_month = best_lgbm.predict(X_test_without_lags_and_origin_ids).clip(0, 20)\n",
    "submission.to_csv('data/my_submission_11.csv', index=None)"
   ]
  },
  {
   "cell_type": "markdown",
   "id": "humanitarian-defeat",
   "metadata": {},
   "source": [
    "SCORE = 1.27978"
   ]
  },
  {
   "cell_type": "code",
   "execution_count": null,
   "id": "lonely-bearing",
   "metadata": {},
   "outputs": [],
   "source": []
  }
 ],
 "metadata": {
  "kernelspec": {
   "display_name": "Python 3",
   "language": "python",
   "name": "python3"
  },
  "language_info": {
   "codemirror_mode": {
    "name": "ipython",
    "version": 3
   },
   "file_extension": ".py",
   "mimetype": "text/x-python",
   "name": "python",
   "nbconvert_exporter": "python",
   "pygments_lexer": "ipython3",
   "version": "3.9.0"
  },
  "toc": {
   "base_numbering": 1,
   "nav_menu": {},
   "number_sections": true,
   "sideBar": true,
   "skip_h1_title": false,
   "title_cell": "Table of Contents",
   "title_sidebar": "Contents",
   "toc_cell": false,
   "toc_position": {},
   "toc_section_display": true,
   "toc_window_display": false
  }
 },
 "nbformat": 4,
 "nbformat_minor": 5
}
