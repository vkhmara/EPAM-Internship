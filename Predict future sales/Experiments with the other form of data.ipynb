{
 "cells": [
  {
   "cell_type": "code",
   "execution_count": 1,
   "id": "postal-ticket",
   "metadata": {
    "ExecuteTime": {
     "end_time": "2021-10-29T20:07:29.492339Z",
     "start_time": "2021-10-29T20:07:23.458369Z"
    }
   },
   "outputs": [],
   "source": [
    "import numpy as np\n",
    "import pandas as pd\n",
    "import datetime\n",
    "import matplotlib.pyplot as plt\n",
    "from itertools import product\n",
    "from lightgbm import LGBMRegressor\n",
    "from sklearn.preprocessing import StandardScaler\n",
    "import warnings\n",
    "import json\n",
    "warnings.filterwarnings(\"ignore\")\n",
    "\n",
    "def RMSE(series_true, series_predicted):\n",
    "    return sum((series_true - series_predicted)**2 / len(series_true))**0.5"
   ]
  },
  {
   "cell_type": "markdown",
   "id": "color-acquisition",
   "metadata": {},
   "source": [
    "# Read data and change types"
   ]
  },
  {
   "cell_type": "markdown",
   "id": "million-recycling",
   "metadata": {},
   "source": [
    "Here I read train and test tables which don't have lag features and features that are encoded via target encoding "
   ]
  },
  {
   "cell_type": "code",
   "execution_count": 2,
   "id": "intended-anxiety",
   "metadata": {
    "ExecuteTime": {
     "end_time": "2021-10-29T20:07:46.254402Z",
     "start_time": "2021-10-29T20:07:29.503064Z"
    }
   },
   "outputs": [],
   "source": [
    "X_basic = pd.read_csv('data/X_without_lags_and_target_encoding.csv')\n",
    "y_basic = pd.read_csv('data/y_without_lags_and_target_encoding.csv').item_cnt\n",
    "X_test_basic = pd.read_csv('data/test_without_lags_and_target_encoding.csv', index_col='ID')"
   ]
  },
  {
   "cell_type": "code",
   "execution_count": 3,
   "id": "possible-driving",
   "metadata": {
    "ExecuteTime": {
     "end_time": "2021-10-29T20:07:46.316920Z",
     "start_time": "2021-10-29T20:07:46.254402Z"
    },
    "scrolled": true
   },
   "outputs": [
    {
     "name": "stdout",
     "output_type": "stream",
     "text": [
      "<class 'pandas.core.frame.DataFrame'>\n",
      "RangeIndex: 10913850 entries, 0 to 10913849\n",
      "Data columns (total 9 columns):\n",
      " #   Column            Dtype\n",
      "---  ------            -----\n",
      " 0   date_block_num    int64\n",
      " 1   shop_id           int64\n",
      " 2   item_id           int64\n",
      " 3   item_category_id  int64\n",
      " 4   super_category    int64\n",
      " 5   category          int64\n",
      " 6   city              int64\n",
      " 7   shop_type         int64\n",
      " 8   shop_name         int64\n",
      "dtypes: int64(9)\n",
      "memory usage: 749.4 MB\n"
     ]
    }
   ],
   "source": [
    "X_basic.info()"
   ]
  },
  {
   "cell_type": "markdown",
   "id": "approximate-interim",
   "metadata": {},
   "source": [
    "**date_block_num** - the serial number of month since the January, 2013.  \n",
    "**shop_id** - the id of shop. Ranges from 0 to 59.  \n",
    "**item_id** - the id of item. Ranges from 0 to 22169.  \n",
    "**item_category_id** - the id of category. Ranges from 0 to 83.  \n",
    "  \n",
    "All item categories are splitted into super and simple category.  \n",
    "**super_category** - the id of super category. Ranges from 0 to 14.  \n",
    "**category** - the id of simple category. Ranges from 0 to 66.  \n",
    "  \n",
    "All shop names contain the city, type and name of shops.  \n",
    "**city** - the id of city. Ranges from 0 to 28.  \n",
    "**shop_type** - the id of shop type. Ranges from 0 to 8.  \n",
    "**shop_name** - the id of shop name. Ranges from 0 to 50."
   ]
  },
  {
   "cell_type": "markdown",
   "id": "hired-bleeding",
   "metadata": {},
   "source": [
    "The memory is relatively high. So I change the types of all the features."
   ]
  },
  {
   "cell_type": "code",
   "execution_count": 4,
   "id": "christian-kinase",
   "metadata": {
    "ExecuteTime": {
     "end_time": "2021-10-29T20:07:46.347870Z",
     "start_time": "2021-10-29T20:07:46.330901Z"
    }
   },
   "outputs": [],
   "source": [
    "types = {\n",
    "    'date_block_num': 'int8',\n",
    "    'shop_id': 'int8',\n",
    "    'item_id': 'int16',\n",
    "    'item_category_id': 'int8',\n",
    "    'super_category': 'int8',\n",
    "    'category': 'int8',\n",
    "    'city': 'int8',\n",
    "    'shop_type': 'int8',\n",
    "    'shop_name': 'int8'\n",
    "}"
   ]
  },
  {
   "cell_type": "code",
   "execution_count": 5,
   "id": "listed-belief",
   "metadata": {
    "ExecuteTime": {
     "end_time": "2021-10-29T20:07:47.175810Z",
     "start_time": "2021-10-29T20:07:46.355861Z"
    }
   },
   "outputs": [],
   "source": [
    "X_basic = X_basic.astype(types)\n",
    "X_test_basic = X_test_basic.astype(types)"
   ]
  },
  {
   "cell_type": "code",
   "execution_count": 6,
   "id": "freelance-snapshot",
   "metadata": {
    "ExecuteTime": {
     "end_time": "2021-10-29T20:07:47.224277Z",
     "start_time": "2021-10-29T20:07:47.175810Z"
    }
   },
   "outputs": [
    {
     "name": "stdout",
     "output_type": "stream",
     "text": [
      "<class 'pandas.core.frame.DataFrame'>\n",
      "RangeIndex: 10913850 entries, 0 to 10913849\n",
      "Data columns (total 9 columns):\n",
      " #   Column            Dtype\n",
      "---  ------            -----\n",
      " 0   date_block_num    int8 \n",
      " 1   shop_id           int8 \n",
      " 2   item_id           int16\n",
      " 3   item_category_id  int8 \n",
      " 4   super_category    int8 \n",
      " 5   category          int8 \n",
      " 6   city              int8 \n",
      " 7   shop_type         int8 \n",
      " 8   shop_name         int8 \n",
      "dtypes: int16(1), int8(8)\n",
      "memory usage: 104.1 MB\n"
     ]
    }
   ],
   "source": [
    "X_basic.info()"
   ]
  },
  {
   "cell_type": "markdown",
   "id": "alpha-flexibility",
   "metadata": {},
   "source": [
    "As you can see the memory size has decreased by 7 times!"
   ]
  },
  {
   "cell_type": "markdown",
   "id": "generic-trust",
   "metadata": {},
   "source": [
    "Creating the train and valid datasets."
   ]
  },
  {
   "cell_type": "code",
   "execution_count": 7,
   "id": "wound-champagne",
   "metadata": {
    "ExecuteTime": {
     "end_time": "2021-10-29T20:07:47.732472Z",
     "start_time": "2021-10-29T20:07:47.236255Z"
    }
   },
   "outputs": [],
   "source": [
    "X_basic.drop(columns=['shop_id', 'item_id', 'item_category_id'], inplace=True)\n",
    "X_test_basic.drop(columns=['shop_id', 'item_id', 'item_category_id'], inplace=True)"
   ]
  },
  {
   "cell_type": "code",
   "execution_count": 8,
   "id": "latter-parks",
   "metadata": {
    "ExecuteTime": {
     "end_time": "2021-10-29T20:07:49.260916Z",
     "start_time": "2021-10-29T20:07:47.741793Z"
    }
   },
   "outputs": [],
   "source": [
    "X_train_basic = X_basic[X_basic.date_block_num < 33]\n",
    "y_train_basic = y_basic[X_basic.date_block_num < 33]\n",
    "\n",
    "X_val_basic = X_basic[X_basic.date_block_num == 33]\n",
    "y_val_basic = y_basic[X_basic.date_block_num == 33]"
   ]
  },
  {
   "cell_type": "markdown",
   "id": "medical-grove",
   "metadata": {},
   "source": [
    "Here I read train and test tables which have lag features but don't have features that are encoded via target encoding "
   ]
  },
  {
   "cell_type": "code",
   "execution_count": 9,
   "id": "stock-medicine",
   "metadata": {
    "ExecuteTime": {
     "end_time": "2021-10-29T20:08:16.724035Z",
     "start_time": "2021-10-29T20:07:49.260916Z"
    }
   },
   "outputs": [],
   "source": [
    "X_lags = pd.read_csv('data/X_without_target_encoding.csv')\n",
    "y_lags = pd.read_csv('data/y_without_target_encoding.csv').item_cnt\n",
    "X_test_lags = pd.read_csv('data/test_without_target_encoding.csv', index_col='ID')"
   ]
  },
  {
   "cell_type": "code",
   "execution_count": 10,
   "id": "floppy-appeal",
   "metadata": {
    "ExecuteTime": {
     "end_time": "2021-10-29T20:08:17.023768Z",
     "start_time": "2021-10-29T20:08:16.779678Z"
    }
   },
   "outputs": [
    {
     "name": "stdout",
     "output_type": "stream",
     "text": [
      "<class 'pandas.core.frame.DataFrame'>\n",
      "RangeIndex: 6425094 entries, 0 to 6425093\n",
      "Data columns (total 21 columns):\n",
      " #   Column            Dtype\n",
      "---  ------            -----\n",
      " 0   date_block_num    int64\n",
      " 1   shop_id           int64\n",
      " 2   item_id           int64\n",
      " 3   item_category_id  int64\n",
      " 4   super_category    int64\n",
      " 5   category          int64\n",
      " 6   city              int64\n",
      " 7   shop_type         int64\n",
      " 8   shop_name         int64\n",
      " 9   item_cnt_lag1     int64\n",
      " 10  item_cnt_lag2     int64\n",
      " 11  item_cnt_lag3     int64\n",
      " 12  item_cnt_lag4     int64\n",
      " 13  item_cnt_lag5     int64\n",
      " 14  item_cnt_lag6     int64\n",
      " 15  item_cnt_lag7     int64\n",
      " 16  item_cnt_lag8     int64\n",
      " 17  item_cnt_lag9     int64\n",
      " 18  item_cnt_lag10    int64\n",
      " 19  item_cnt_lag11    int64\n",
      " 20  item_cnt_lag12    int64\n",
      "dtypes: int64(21)\n",
      "memory usage: 1.0 GB\n"
     ]
    }
   ],
   "source": [
    "X_lags.info()"
   ]
  },
  {
   "cell_type": "markdown",
   "id": "demanding-civilian",
   "metadata": {},
   "source": [
    "**item_cnt_lag{i}** for *i* from 1 to 12 is the value of **item_cnt** of the same row with **date_block_num** less on *i*."
   ]
  },
  {
   "cell_type": "markdown",
   "id": "miniature-label",
   "metadata": {},
   "source": [
    "As for previous tables, I will decrease the memory usage of this table. As first 8 features are also the features of the **X_basic** dataset, their new types are the same. So I just add new types for lag features."
   ]
  },
  {
   "cell_type": "code",
   "execution_count": 11,
   "id": "constant-survivor",
   "metadata": {
    "ExecuteTime": {
     "end_time": "2021-10-29T20:08:17.055761Z",
     "start_time": "2021-10-29T20:08:17.031767Z"
    }
   },
   "outputs": [],
   "source": [
    "types.update({\n",
    "    f'item_cnt_lag{i}': 'int8' for i in range(1, 13)\n",
    "})"
   ]
  },
  {
   "cell_type": "code",
   "execution_count": 12,
   "id": "composed-negotiation",
   "metadata": {
    "ExecuteTime": {
     "end_time": "2021-10-29T20:08:18.342260Z",
     "start_time": "2021-10-29T20:08:17.063763Z"
    }
   },
   "outputs": [],
   "source": [
    "X_lags = X_lags.astype(types)\n",
    "X_test_lags = X_test_lags.astype(types)"
   ]
  },
  {
   "cell_type": "code",
   "execution_count": 13,
   "id": "regional-eating",
   "metadata": {
    "ExecuteTime": {
     "end_time": "2021-10-29T20:08:18.398632Z",
     "start_time": "2021-10-29T20:08:18.342260Z"
    }
   },
   "outputs": [
    {
     "name": "stdout",
     "output_type": "stream",
     "text": [
      "<class 'pandas.core.frame.DataFrame'>\n",
      "RangeIndex: 6425094 entries, 0 to 6425093\n",
      "Data columns (total 21 columns):\n",
      " #   Column            Dtype\n",
      "---  ------            -----\n",
      " 0   date_block_num    int8 \n",
      " 1   shop_id           int8 \n",
      " 2   item_id           int16\n",
      " 3   item_category_id  int8 \n",
      " 4   super_category    int8 \n",
      " 5   category          int8 \n",
      " 6   city              int8 \n",
      " 7   shop_type         int8 \n",
      " 8   shop_name         int8 \n",
      " 9   item_cnt_lag1     int8 \n",
      " 10  item_cnt_lag2     int8 \n",
      " 11  item_cnt_lag3     int8 \n",
      " 12  item_cnt_lag4     int8 \n",
      " 13  item_cnt_lag5     int8 \n",
      " 14  item_cnt_lag6     int8 \n",
      " 15  item_cnt_lag7     int8 \n",
      " 16  item_cnt_lag8     int8 \n",
      " 17  item_cnt_lag9     int8 \n",
      " 18  item_cnt_lag10    int8 \n",
      " 19  item_cnt_lag11    int8 \n",
      " 20  item_cnt_lag12    int8 \n",
      "dtypes: int16(1), int8(20)\n",
      "memory usage: 134.8 MB\n"
     ]
    }
   ],
   "source": [
    "X_lags.info()"
   ]
  },
  {
   "cell_type": "code",
   "execution_count": 14,
   "id": "unusual-festival",
   "metadata": {
    "ExecuteTime": {
     "end_time": "2021-10-29T20:08:19.284311Z",
     "start_time": "2021-10-29T20:08:18.406629Z"
    }
   },
   "outputs": [],
   "source": [
    "X_lags.drop(columns=['shop_id', 'item_id', 'item_category_id'], inplace=True)\n",
    "X_test_lags.drop(columns=['shop_id', 'item_id', 'item_category_id'], inplace=True)"
   ]
  },
  {
   "cell_type": "markdown",
   "id": "prepared-progressive",
   "metadata": {
    "ExecuteTime": {
     "end_time": "2021-10-20T18:13:25.943392Z",
     "start_time": "2021-10-20T18:13:25.917437Z"
    }
   },
   "source": [
    "Creating the train and valid datasets."
   ]
  },
  {
   "cell_type": "code",
   "execution_count": 15,
   "id": "consistent-invite",
   "metadata": {
    "ExecuteTime": {
     "end_time": "2021-10-29T20:08:20.920670Z",
     "start_time": "2021-10-29T20:08:19.284311Z"
    }
   },
   "outputs": [],
   "source": [
    "X_train_lags = X_lags[X_lags.date_block_num < 33]\n",
    "y_train_lags = y_lags[X_lags.date_block_num < 33]\n",
    "\n",
    "X_val_lags = X_lags[X_lags.date_block_num == 33]\n",
    "y_val_lags = y_lags[X_lags.date_block_num == 33]"
   ]
  },
  {
   "cell_type": "markdown",
   "id": "matched-conflict",
   "metadata": {},
   "source": [
    "Here I read train and test tables which have lag features and features that are encoded via target encoding "
   ]
  },
  {
   "cell_type": "code",
   "execution_count": 16,
   "id": "stretch-mainstream",
   "metadata": {
    "ExecuteTime": {
     "end_time": "2021-10-29T20:09:09.510136Z",
     "start_time": "2021-10-29T20:08:20.920670Z"
    }
   },
   "outputs": [],
   "source": [
    "X_full = pd.read_csv('data/X_full.csv')\n",
    "y_full = pd.read_csv('data/y_full.csv').item_cnt\n",
    "X_test_full = pd.read_csv('data/test_full.csv', index_col='ID')"
   ]
  },
  {
   "cell_type": "code",
   "execution_count": 17,
   "id": "enabling-vietnamese",
   "metadata": {
    "ExecuteTime": {
     "end_time": "2021-10-29T20:09:09.791593Z",
     "start_time": "2021-10-29T20:09:09.541382Z"
    }
   },
   "outputs": [
    {
     "name": "stdout",
     "output_type": "stream",
     "text": [
      "<class 'pandas.core.frame.DataFrame'>\n",
      "RangeIndex: 6425094 entries, 0 to 6425093\n",
      "Data columns (total 29 columns):\n",
      " #   Column                    Dtype  \n",
      "---  ------                    -----  \n",
      " 0   date_block_num            int64  \n",
      " 1   shop_id                   int64  \n",
      " 2   item_id                   int64  \n",
      " 3   item_category_id          int64  \n",
      " 4   super_category            int64  \n",
      " 5   category                  int64  \n",
      " 6   city                      int64  \n",
      " 7   shop_type                 int64  \n",
      " 8   shop_name                 int64  \n",
      " 9   item_cnt_lag1             int64  \n",
      " 10  item_cnt_lag2             int64  \n",
      " 11  item_cnt_lag3             int64  \n",
      " 12  item_cnt_lag4             int64  \n",
      " 13  item_cnt_lag5             int64  \n",
      " 14  item_cnt_lag6             int64  \n",
      " 15  item_cnt_lag7             int64  \n",
      " 16  item_cnt_lag8             int64  \n",
      " 17  item_cnt_lag9             int64  \n",
      " 18  item_cnt_lag10            int64  \n",
      " 19  item_cnt_lag11            int64  \n",
      " 20  item_cnt_lag12            int64  \n",
      " 21  encoded_shop_id           float64\n",
      " 22  encoded_item_id           float64\n",
      " 23  encoded_item_category_id  float64\n",
      " 24  encoded_super_category    float64\n",
      " 25  encoded_category          float64\n",
      " 26  encoded_city              float64\n",
      " 27  encoded_shop_type         float64\n",
      " 28  encoded_shop_name         float64\n",
      "dtypes: float64(8), int64(21)\n",
      "memory usage: 1.4 GB\n"
     ]
    }
   ],
   "source": [
    "X_full.info()"
   ]
  },
  {
   "cell_type": "markdown",
   "id": "armed-fluid",
   "metadata": {},
   "source": [
    "**encoded_{feature}** are encoded features using target encoding."
   ]
  },
  {
   "cell_type": "markdown",
   "id": "legal-musician",
   "metadata": {},
   "source": [
    "As for previous tables, I will decrease the memory usage of this table. As first 21 features are also the features of the **X_lags** dataset, their new types are the same. So I just add new types for encoded features."
   ]
  },
  {
   "cell_type": "code",
   "execution_count": 18,
   "id": "literary-knight",
   "metadata": {
    "ExecuteTime": {
     "end_time": "2021-10-29T20:09:09.837524Z",
     "start_time": "2021-10-29T20:09:09.805572Z"
    }
   },
   "outputs": [],
   "source": [
    "types.update({\n",
    "    col: 'float32' for col in X_full.columns[21:]\n",
    "})"
   ]
  },
  {
   "cell_type": "code",
   "execution_count": 19,
   "id": "eastern-spine",
   "metadata": {
    "ExecuteTime": {
     "end_time": "2021-10-29T20:09:11.924072Z",
     "start_time": "2021-10-29T20:09:09.852502Z"
    }
   },
   "outputs": [],
   "source": [
    "X_full = X_full.astype(types)\n",
    "X_test_full = X_test_full.astype(types)"
   ]
  },
  {
   "cell_type": "code",
   "execution_count": 20,
   "id": "advanced-packaging",
   "metadata": {
    "ExecuteTime": {
     "end_time": "2021-10-29T20:09:11.985332Z",
     "start_time": "2021-10-29T20:09:11.924072Z"
    }
   },
   "outputs": [
    {
     "name": "stdout",
     "output_type": "stream",
     "text": [
      "<class 'pandas.core.frame.DataFrame'>\n",
      "RangeIndex: 6425094 entries, 0 to 6425093\n",
      "Data columns (total 29 columns):\n",
      " #   Column                    Dtype  \n",
      "---  ------                    -----  \n",
      " 0   date_block_num            int8   \n",
      " 1   shop_id                   int8   \n",
      " 2   item_id                   int16  \n",
      " 3   item_category_id          int8   \n",
      " 4   super_category            int8   \n",
      " 5   category                  int8   \n",
      " 6   city                      int8   \n",
      " 7   shop_type                 int8   \n",
      " 8   shop_name                 int8   \n",
      " 9   item_cnt_lag1             int8   \n",
      " 10  item_cnt_lag2             int8   \n",
      " 11  item_cnt_lag3             int8   \n",
      " 12  item_cnt_lag4             int8   \n",
      " 13  item_cnt_lag5             int8   \n",
      " 14  item_cnt_lag6             int8   \n",
      " 15  item_cnt_lag7             int8   \n",
      " 16  item_cnt_lag8             int8   \n",
      " 17  item_cnt_lag9             int8   \n",
      " 18  item_cnt_lag10            int8   \n",
      " 19  item_cnt_lag11            int8   \n",
      " 20  item_cnt_lag12            int8   \n",
      " 21  encoded_shop_id           float32\n",
      " 22  encoded_item_id           float32\n",
      " 23  encoded_item_category_id  float32\n",
      " 24  encoded_super_category    float32\n",
      " 25  encoded_category          float32\n",
      " 26  encoded_city              float32\n",
      " 27  encoded_shop_type         float32\n",
      " 28  encoded_shop_name         float32\n",
      "dtypes: float32(8), int16(1), int8(20)\n",
      "memory usage: 330.9 MB\n"
     ]
    }
   ],
   "source": [
    "X_full.info()"
   ]
  },
  {
   "cell_type": "code",
   "execution_count": 21,
   "id": "micro-comment",
   "metadata": {
    "ExecuteTime": {
     "end_time": "2021-10-29T20:09:13.141017Z",
     "start_time": "2021-10-29T20:09:11.994319Z"
    }
   },
   "outputs": [],
   "source": [
    "X_full.drop(columns=X_full.columns[1:9], inplace=True)\n",
    "X_test_full.drop(columns=X_test_full.columns[1:9], inplace=True)"
   ]
  },
  {
   "cell_type": "markdown",
   "id": "temporal-nursery",
   "metadata": {},
   "source": [
    "Creating the train and valid datasets."
   ]
  },
  {
   "cell_type": "code",
   "execution_count": 22,
   "id": "aggregate-armenia",
   "metadata": {
    "ExecuteTime": {
     "end_time": "2021-10-29T20:09:15.036679Z",
     "start_time": "2021-10-29T20:09:13.141017Z"
    }
   },
   "outputs": [],
   "source": [
    "X_train_full = X_full[X_full.date_block_num < 33]\n",
    "y_train_full = y_full[X_full.date_block_num < 33]\n",
    "\n",
    "X_val_full = X_full[X_full.date_block_num == 33]\n",
    "y_val_full = y_full[X_full.date_block_num == 33]"
   ]
  },
  {
   "cell_type": "markdown",
   "id": "rational-object",
   "metadata": {},
   "source": [
    "# Training models"
   ]
  },
  {
   "cell_type": "markdown",
   "id": "regulation-double",
   "metadata": {},
   "source": [
    "I decided to use gradient boosting because it is the model that gives a high quality. I use lgbm because it is faster than simple gradient boosting or xgboost."
   ]
  },
  {
   "cell_type": "markdown",
   "id": "other-plate",
   "metadata": {},
   "source": [
    "For 3 types of data I tune the **max_depth** parameter of lgbm. Also I use early stopping using validation dataset because it is more efficient than selection some value of the number of estimators. Then I plot the graphics of train and validation score from **max_depth** parameter and choose the values of this parameter which minimize the the validation score."
   ]
  },
  {
   "cell_type": "code",
   "execution_count": 23,
   "id": "temporal-timing",
   "metadata": {
    "ExecuteTime": {
     "end_time": "2021-10-29T20:09:15.099008Z",
     "start_time": "2021-10-29T20:09:15.054080Z"
    }
   },
   "outputs": [],
   "source": [
    "# the values of max_depth parameter to tune\n",
    "max_depths = list(range(1, 25))\n",
    "\n",
    "# cases of datasets\n",
    "cases = [\n",
    "    'basic',\n",
    "    'lags',\n",
    "    'lags and target encoding'\n",
    "]\n",
    "\n",
    "# common names of datasets in each case\n",
    "datasets = {\n",
    "    'basic': {\n",
    "        'X_train': X_train_basic,\n",
    "        'y_train': y_train_basic,\n",
    "        'X_val': X_val_basic,\n",
    "        'y_val': y_val_basic,\n",
    "        'X_submission_train': X_basic,\n",
    "        'y_submission_train': y_basic,\n",
    "        'X_test': X_test_basic\n",
    "    },\n",
    "    'lags': {\n",
    "        'X_train': X_train_lags,\n",
    "        'y_train': y_train_lags,\n",
    "        'X_val': X_val_lags,\n",
    "        'y_val': y_val_lags,\n",
    "        'X_submission_train': X_lags,\n",
    "        'y_submission_train': y_lags,\n",
    "        'X_test': X_test_lags\n",
    "    },\n",
    "    'lags and target encoding': {\n",
    "        'X_train': X_train_full,\n",
    "        'y_train': y_train_full,\n",
    "        'X_val': X_val_full,\n",
    "        'y_val': y_val_full,\n",
    "        'X_submission_train': X_full,\n",
    "        'y_submission_train': y_full,\n",
    "        'X_test': X_test_full\n",
    "    }\n",
    "}\n",
    "\n",
    "# categorical features in each case to set it\n",
    "# as categorical_feature parameter of LGBMRegressor model\n",
    "cat_features = {\n",
    "    'basic': X_train_basic.columns.to_list(),\n",
    "    'lags': X_train_basic.columns.to_list(),\n",
    "    'lags and target encoding': X_train_full.columns[13:].to_list()\n",
    "}\n",
    "\n",
    "# all information about fitted models\n",
    "all_models_info = {\n",
    "    case: {\n",
    "        'tuned_parameters': [],\n",
    "        'train_scores': [],\n",
    "        'val_scores': [],\n",
    "        'best_iterations': [],\n",
    "        'eval_times': [],\n",
    "        'feature_importances': []\n",
    "    }\n",
    "    for case in cases\n",
    "}"
   ]
  },
  {
   "cell_type": "code",
   "execution_count": 24,
   "id": "surrounded-employee",
   "metadata": {
    "ExecuteTime": {
     "end_time": "2021-10-29T22:34:26.981525Z",
     "start_time": "2021-10-29T20:09:15.111993Z"
    }
   },
   "outputs": [
    {
     "name": "stdout",
     "output_type": "stream",
     "text": [
      "basic\n",
      "##########################\n",
      "max_depth: 1\n",
      "train RMSE: 1.1558400341200088  |  val RMSE: 1.078268267067685\n",
      "Evaluation time: 0:01:06.269836\n",
      "------------------------------------------------------\n",
      "max_depth: 2\n",
      "train RMSE: 1.143568958972026  |  val RMSE: 1.0716833866828963\n",
      "Evaluation time: 0:00:55.549544\n",
      "------------------------------------------------------\n",
      "max_depth: 3\n",
      "train RMSE: 1.1203813117239934  |  val RMSE: 1.0524747069663223\n",
      "Evaluation time: 0:02:46.126141\n",
      "------------------------------------------------------\n",
      "max_depth: 4\n",
      "train RMSE: 1.1067299296830853  |  val RMSE: 1.0400077405472847\n",
      "Evaluation time: 0:05:37.406033\n",
      "------------------------------------------------------\n",
      "max_depth: 5\n",
      "train RMSE: 1.1034030451712158  |  val RMSE: 1.0346152800997173\n",
      "Evaluation time: 0:05:56.593648\n",
      "------------------------------------------------------\n",
      "max_depth: 6\n",
      "train RMSE: 1.1029760915733713  |  val RMSE: 1.0339090098685324\n",
      "Evaluation time: 0:04:08.094781\n",
      "------------------------------------------------------\n",
      "max_depth: 7\n",
      "train RMSE: 1.101761507998442  |  val RMSE: 1.034263737622781\n",
      "Evaluation time: 0:04:50.740228\n",
      "------------------------------------------------------\n",
      "max_depth: 8\n",
      "train RMSE: 1.105171561148532  |  val RMSE: 1.0456339574129152\n",
      "Evaluation time: 0:02:39.570576\n",
      "------------------------------------------------------\n",
      "max_depth: 9\n",
      "train RMSE: 1.1027956498660574  |  val RMSE: 1.040374487097745\n",
      "Evaluation time: 0:03:37.036325\n",
      "------------------------------------------------------\n",
      "max_depth: 10\n",
      "train RMSE: 1.1020794575331745  |  val RMSE: 1.0376166136655331\n",
      "Evaluation time: 0:03:59.625396\n",
      "------------------------------------------------------\n",
      "max_depth: 11\n",
      "train RMSE: 1.1048608938683369  |  val RMSE: 1.0394832003742016\n",
      "Evaluation time: 0:02:46.785264\n",
      "------------------------------------------------------\n",
      "max_depth: 12\n",
      "train RMSE: 1.105081585664784  |  val RMSE: 1.0395525086589203\n",
      "Evaluation time: 0:02:40.905477\n",
      "------------------------------------------------------\n",
      "max_depth: 13\n",
      "train RMSE: 1.105081585664784  |  val RMSE: 1.0395525086589203\n",
      "Evaluation time: 0:02:39.596324\n",
      "------------------------------------------------------\n",
      "max_depth: 14\n",
      "train RMSE: 1.105081585664784  |  val RMSE: 1.0395525086589203\n",
      "Evaluation time: 0:02:54.220566\n",
      "------------------------------------------------------\n",
      "max_depth: 15\n",
      "train RMSE: 1.105081585664784  |  val RMSE: 1.0395525086589203\n",
      "Evaluation time: 0:02:42.433397\n",
      "------------------------------------------------------\n",
      "max_depth: 16\n",
      "train RMSE: 1.105081585664784  |  val RMSE: 1.0395525086589203\n",
      "Evaluation time: 0:02:45.062798\n",
      "------------------------------------------------------\n",
      "max_depth: 17\n",
      "train RMSE: 1.105081585664784  |  val RMSE: 1.0395525086589203\n",
      "Evaluation time: 0:02:42.086288\n",
      "------------------------------------------------------\n",
      "max_depth: 18\n",
      "train RMSE: 1.105081585664784  |  val RMSE: 1.0395525086589203\n",
      "Evaluation time: 0:02:39.962408\n",
      "------------------------------------------------------\n",
      "max_depth: 19\n",
      "train RMSE: 1.105081585664784  |  val RMSE: 1.0395525086589203\n",
      "Evaluation time: 0:02:44.647585\n",
      "------------------------------------------------------\n",
      "max_depth: 20\n",
      "train RMSE: 1.105081585664784  |  val RMSE: 1.0395525086589203\n",
      "Evaluation time: 0:02:39.310377\n",
      "------------------------------------------------------\n",
      "max_depth: 21\n",
      "train RMSE: 1.105081585664784  |  val RMSE: 1.0395525086589203\n",
      "Evaluation time: 0:02:40.403893\n",
      "------------------------------------------------------\n",
      "max_depth: 22\n",
      "train RMSE: 1.105081585664784  |  val RMSE: 1.0395525086589203\n",
      "Evaluation time: 0:02:42.347618\n",
      "------------------------------------------------------\n",
      "max_depth: 23\n",
      "train RMSE: 1.105081585664784  |  val RMSE: 1.0395525086589203\n",
      "Evaluation time: 0:02:40.344638\n",
      "------------------------------------------------------\n",
      "max_depth: 24\n",
      "train RMSE: 1.105081585664784  |  val RMSE: 1.0395525086589203\n",
      "Evaluation time: 0:02:39.756939\n",
      "------------------------------------------------------\n",
      "lags\n",
      "##########################\n",
      "max_depth: 1\n",
      "train RMSE: 0.922536446406762  |  val RMSE: 0.9598269426281513\n",
      "Evaluation time: 0:02:05.717364\n",
      "------------------------------------------------------\n",
      "max_depth: 2\n",
      "train RMSE: 0.9015958000146249  |  val RMSE: 0.945303417503552\n",
      "Evaluation time: 0:03:26.323479\n",
      "------------------------------------------------------\n",
      "max_depth: 3\n",
      "train RMSE: 0.8805378724195784  |  val RMSE: 0.9294017125210305\n",
      "Evaluation time: 0:05:18.367622\n",
      "------------------------------------------------------\n",
      "max_depth: 4\n",
      "train RMSE: 0.8708294172466083  |  val RMSE: 0.9269736127930618\n",
      "Evaluation time: 0:04:05.976176\n",
      "------------------------------------------------------\n",
      "max_depth: 5\n",
      "train RMSE: 0.861252030591712  |  val RMSE: 0.9237673576219047\n",
      "Evaluation time: 0:03:12.880898\n",
      "------------------------------------------------------\n",
      "max_depth: 6\n",
      "train RMSE: 0.8638672591490237  |  val RMSE: 0.9301337489575849\n",
      "Evaluation time: 0:02:18.141824\n",
      "------------------------------------------------------\n",
      "max_depth: 7\n",
      "train RMSE: 0.8579340133321046  |  val RMSE: 0.928002645607376\n",
      "Evaluation time: 0:02:14.927297\n",
      "------------------------------------------------------\n",
      "max_depth: 8\n",
      "train RMSE: 0.844574403550106  |  val RMSE: 0.9240036367777628\n",
      "Evaluation time: 0:03:28.115502\n",
      "------------------------------------------------------\n",
      "max_depth: 9\n",
      "train RMSE: 0.8405503003659378  |  val RMSE: 0.9239825883989682\n",
      "Evaluation time: 0:03:47.359681\n",
      "------------------------------------------------------\n",
      "max_depth: 10\n",
      "train RMSE: 0.8582640327412183  |  val RMSE: 0.9295118442152532\n",
      "Evaluation time: 0:01:54.165387\n",
      "------------------------------------------------------\n",
      "max_depth: 11\n",
      "train RMSE: 0.8577276530338996  |  val RMSE: 0.9262893667319018\n",
      "Evaluation time: 0:01:52.123061\n",
      "------------------------------------------------------\n",
      "max_depth: 12\n",
      "train RMSE: 0.8496753375463065  |  val RMSE: 0.9222498764802931\n",
      "Evaluation time: 0:02:18.079477\n",
      "------------------------------------------------------\n",
      "max_depth: 13\n",
      "train RMSE: 0.8421071672607003  |  val RMSE: 0.923197612486266\n",
      "Evaluation time: 0:02:53.004032\n",
      "------------------------------------------------------\n",
      "max_depth: 14\n",
      "train RMSE: 0.852135002913809  |  val RMSE: 0.9257565747946659\n",
      "Evaluation time: 0:02:03.284174\n",
      "------------------------------------------------------\n",
      "max_depth: 15\n",
      "train RMSE: 0.8651605287785848  |  val RMSE: 0.9317185720482647\n",
      "Evaluation time: 0:01:29.091535\n",
      "------------------------------------------------------\n",
      "max_depth: 16\n",
      "train RMSE: 0.8522105764992066  |  val RMSE: 0.9262853230164992\n",
      "Evaluation time: 0:02:05.464560\n",
      "------------------------------------------------------\n",
      "max_depth: 17\n",
      "train RMSE: 0.8516039588378577  |  val RMSE: 0.9240673862158721\n",
      "Evaluation time: 0:02:02.852346\n",
      "------------------------------------------------------\n",
      "max_depth: 18\n",
      "train RMSE: 0.8520706981312305  |  val RMSE: 0.9284054353149854\n",
      "Evaluation time: 0:02:02.691699\n",
      "------------------------------------------------------\n",
      "max_depth: 19\n",
      "train RMSE: 0.8551876580185417  |  val RMSE: 0.9256039326511778\n",
      "Evaluation time: 0:01:51.589956\n",
      "------------------------------------------------------\n",
      "max_depth: 20\n",
      "train RMSE: 0.8552606274751138  |  val RMSE: 0.9247389441458175\n",
      "Evaluation time: 0:01:51.548965\n",
      "------------------------------------------------------\n",
      "max_depth: 21\n",
      "train RMSE: 0.8552606274751138  |  val RMSE: 0.9247389441458175\n",
      "Evaluation time: 0:01:55.092695\n",
      "------------------------------------------------------\n",
      "max_depth: 22\n",
      "train RMSE: 0.8552606274751138  |  val RMSE: 0.9247389441458175\n",
      "Evaluation time: 0:01:53.490531\n",
      "------------------------------------------------------\n",
      "max_depth: 23\n",
      "train RMSE: 0.8552606274751138  |  val RMSE: 0.9247389441458175\n",
      "Evaluation time: 0:01:52.100690\n",
      "------------------------------------------------------\n",
      "max_depth: 24\n",
      "train RMSE: 0.8552606274751138  |  val RMSE: 0.9247389441458175\n",
      "Evaluation time: 0:01:52.049589\n",
      "------------------------------------------------------\n",
      "lags and target encoding\n",
      "##########################\n",
      "max_depth: 1\n",
      "train RMSE: 0.9378332838957124  |  val RMSE: 1.0039270821510242\n",
      "Evaluation time: 0:00:26.635708\n",
      "------------------------------------------------------\n",
      "max_depth: 2\n",
      "train RMSE: 0.9211887769613394  |  val RMSE: 1.0002163784900948\n",
      "Evaluation time: 0:00:24.397027\n",
      "------------------------------------------------------\n",
      "max_depth: 3\n"
     ]
    },
    {
     "name": "stdout",
     "output_type": "stream",
     "text": [
      "train RMSE: 0.9126350214068024  |  val RMSE: 0.9948969786253765\n",
      "Evaluation time: 0:00:24.742481\n",
      "------------------------------------------------------\n",
      "max_depth: 4\n",
      "train RMSE: 0.909702256305441  |  val RMSE: 0.9973783300586889\n",
      "Evaluation time: 0:00:25.909856\n",
      "------------------------------------------------------\n",
      "max_depth: 5\n",
      "train RMSE: 0.8963293312629261  |  val RMSE: 0.991720265211651\n",
      "Evaluation time: 0:00:29.410905\n",
      "------------------------------------------------------\n",
      "max_depth: 6\n",
      "train RMSE: 0.8932328763722943  |  val RMSE: 0.9933569607243835\n",
      "Evaluation time: 0:00:30.259967\n",
      "------------------------------------------------------\n",
      "max_depth: 7\n",
      "train RMSE: 0.8949734223270321  |  val RMSE: 0.9926821025554897\n",
      "Evaluation time: 0:00:29.797258\n",
      "------------------------------------------------------\n",
      "max_depth: 8\n",
      "train RMSE: 0.8934412506084707  |  val RMSE: 0.9935465396234449\n",
      "Evaluation time: 0:00:29.166619\n",
      "------------------------------------------------------\n",
      "max_depth: 9\n",
      "train RMSE: 0.8925819270248431  |  val RMSE: 0.9923496101982973\n",
      "Evaluation time: 0:00:29.906473\n",
      "------------------------------------------------------\n",
      "max_depth: 10\n",
      "train RMSE: 0.892185770107757  |  val RMSE: 0.9922425494213579\n",
      "Evaluation time: 0:00:29.231962\n",
      "------------------------------------------------------\n",
      "max_depth: 11\n",
      "train RMSE: 0.8925288153169018  |  val RMSE: 0.9912675406729393\n",
      "Evaluation time: 0:00:28.900203\n",
      "------------------------------------------------------\n",
      "max_depth: 12\n",
      "train RMSE: 0.8853966088181543  |  val RMSE: 0.9910185615498937\n",
      "Evaluation time: 0:00:30.669959\n",
      "------------------------------------------------------\n",
      "max_depth: 13\n",
      "train RMSE: 0.8887675344156186  |  val RMSE: 0.9913264888337728\n",
      "Evaluation time: 0:00:32.796014\n",
      "------------------------------------------------------\n",
      "max_depth: 14\n",
      "train RMSE: 0.8887675344156186  |  val RMSE: 0.9913264888337728\n",
      "Evaluation time: 0:00:29.217864\n",
      "------------------------------------------------------\n",
      "max_depth: 15\n",
      "train RMSE: 0.8887675344156186  |  val RMSE: 0.9913264888337728\n",
      "Evaluation time: 0:00:32.484386\n",
      "------------------------------------------------------\n",
      "max_depth: 16\n",
      "train RMSE: 0.8887675344156186  |  val RMSE: 0.9913264888337728\n",
      "Evaluation time: 0:00:29.612349\n",
      "------------------------------------------------------\n",
      "max_depth: 17\n",
      "train RMSE: 0.8887675344156186  |  val RMSE: 0.9913264888337728\n",
      "Evaluation time: 0:00:28.953302\n",
      "------------------------------------------------------\n",
      "max_depth: 18\n",
      "train RMSE: 0.8887675344156186  |  val RMSE: 0.9913264888337728\n",
      "Evaluation time: 0:00:29.279596\n",
      "------------------------------------------------------\n",
      "max_depth: 19\n",
      "train RMSE: 0.8887675344156186  |  val RMSE: 0.9913264888337728\n",
      "Evaluation time: 0:00:29.123729\n",
      "------------------------------------------------------\n",
      "max_depth: 20\n",
      "train RMSE: 0.8887675344156186  |  val RMSE: 0.9913264888337728\n",
      "Evaluation time: 0:00:30.596656\n",
      "------------------------------------------------------\n",
      "max_depth: 21\n",
      "train RMSE: 0.8887675344156186  |  val RMSE: 0.9913264888337728\n",
      "Evaluation time: 0:00:29.669041\n",
      "------------------------------------------------------\n",
      "max_depth: 22\n",
      "train RMSE: 0.8887675344156186  |  val RMSE: 0.9913264888337728\n",
      "Evaluation time: 0:00:29.525748\n",
      "------------------------------------------------------\n",
      "max_depth: 23\n",
      "train RMSE: 0.8887675344156186  |  val RMSE: 0.9913264888337728\n",
      "Evaluation time: 0:00:30.493852\n",
      "------------------------------------------------------\n",
      "max_depth: 24\n",
      "train RMSE: 0.8887675344156186  |  val RMSE: 0.9913264888337728\n",
      "Evaluation time: 0:00:31.544072\n",
      "------------------------------------------------------\n"
     ]
    }
   ],
   "source": [
    "for case in cases:\n",
    "    \n",
    "    print(case)\n",
    "    print('##########################')\n",
    "    \n",
    "    model_info = all_models_info[case]\n",
    "    \n",
    "    X_train = datasets[case]['X_train']\n",
    "    y_train = datasets[case]['y_train']\n",
    "    X_val = datasets[case]['X_val']\n",
    "    y_val = datasets[case]['y_val']\n",
    "    \n",
    "    for max_depth in max_depths:\n",
    "        \n",
    "        start = datetime.datetime.now()\n",
    "        model_info['tuned_parameters'] = max_depths\n",
    "        \n",
    "        print('max_depth:', max_depth)\n",
    "        lgbm = LGBMRegressor(max_depth=max_depth, n_estimators=1000)\n",
    "        lgbm.fit(X_train,\n",
    "                 y_train,\n",
    "                 eval_set=[(X_val, y_val)],\n",
    "                 eval_metric='l2',\n",
    "                 early_stopping_rounds=20,\n",
    "                 verbose=-1,\n",
    "                 feature_name=X_train.columns.to_list(),\n",
    "                 categorical_feature=cat_features[case])\n",
    "        \n",
    "        model_info['best_iterations'].append(lgbm.best_iteration_)\n",
    "        model_info['train_scores'].append(RMSE(y_train, lgbm.predict(X_train).clip(0, 20)))\n",
    "        model_info['val_scores'].append(RMSE(y_val, lgbm.predict(X_val).clip(0, 20)))\n",
    "        model_info['eval_times'].append(datetime.datetime.now() - start)\n",
    "        model_info['feature_importances'].append(\n",
    "            list(zip(X_train.columns, lgbm.feature_importances_)))\n",
    "        \n",
    "        print('train RMSE:', model_info['train_scores'][-1], ' | ',\n",
    "              'val RMSE:', model_info['val_scores'][-1])\n",
    "        print('Evaluation time:', model_info['eval_times'][-1])\n",
    "        print('------------------------------------------------------')"
   ]
  },
  {
   "cell_type": "markdown",
   "id": "subjective-celebrity",
   "metadata": {},
   "source": [
    "The graphics of train and validation scores"
   ]
  },
  {
   "cell_type": "code",
   "execution_count": 25,
   "id": "intense-republican",
   "metadata": {
    "ExecuteTime": {
     "end_time": "2021-10-29T22:34:30.041004Z",
     "start_time": "2021-10-29T22:34:27.021191Z"
    }
   },
   "outputs": [
    {
     "data": {
      "image/png": "[encoded data removed]",
      "text/plain": [
       "<Figure size 792x432 with 1 Axes>"
      ]
     },
     "metadata": {
      "needs_background": "light"
     },
     "output_type": "display_data"
    },
    {
     "data": {
      "image/png": "[encoded data removed]",
      "text/plain": [
       "<Figure size 792x432 with 1 Axes>"
      ]
     },
     "metadata": {
      "needs_background": "light"
     },
     "output_type": "display_data"
    },
    {
     "data": {
      "image/png": "[encoded data removed]",
      "text/plain": [
       "<Figure size 792x432 with 1 Axes>"
      ]
     },
     "metadata": {
      "needs_background": "light"
     },
     "output_type": "display_data"
    }
   ],
   "source": [
    "for i, case in enumerate(cases):\n",
    "    model_info = all_models_info[case]\n",
    "    \n",
    "    plt.figure(figsize=(11, 6))\n",
    "    plt.plot(model_info['tuned_parameters'], model_info['val_scores'])\n",
    "    plt.plot(model_info['tuned_parameters'], model_info['train_scores'])\n",
    "    plt.legend(['val scores', 'train scores'])\n",
    "    plt.xlabel('max_depth')\n",
    "    plt.ylabel('roc_auc score')\n",
    "    plt.xticks(ticks=max_depths, labels=max_depths)\n",
    "    plt.title(case)\n",
    "    plt.show()"
   ]
  },
  {
   "cell_type": "code",
   "execution_count": 30,
   "id": "minute-beach",
   "metadata": {
    "ExecuteTime": {
     "end_time": "2021-10-30T03:51:34.632970Z",
     "start_time": "2021-10-30T03:51:33.952953Z"
    }
   },
   "outputs": [
    {
     "data": {
      "image/png": "[encoded data removed]",
      "text/plain": [
       "<Figure size 432x288 with 1 Axes>"
      ]
     },
     "metadata": {
      "needs_background": "light"
     },
     "output_type": "display_data"
    }
   ],
   "source": [
    "rmses = [min(all_models_info[case]['val_scores']) for case in cases]\n",
    "plt.bar(x=cases, height=rmses, width=0.5)\n",
    "plt.ylabel('rmse')\n",
    "plt.title('rmse of best models')\n",
    "for i, rmse in enumerate(rmses):\n",
    "    plt.text(i-0.15, rmse + 0.01, str(round(rmse, 5)))\n",
    "plt.show()"
   ]
  },
  {
   "cell_type": "markdown",
   "id": "covered-consultation",
   "metadata": {},
   "source": [
    "As you can see the best model is the model for dataset with lag features. The encoded features increased the rmse. So in this case they just make noise."
   ]
  },
  {
   "cell_type": "code",
   "execution_count": 27,
   "id": "irish-thesaurus",
   "metadata": {
    "ExecuteTime": {
     "end_time": "2021-10-29T22:34:33.329339Z",
     "start_time": "2021-10-29T22:34:31.238080Z"
    },
    "scrolled": false
   },
   "outputs": [
    {
     "data": {
      "image/png": "[encoded data removed]",
      "text/plain": [
       "<Figure size 792x172.8 with 1 Axes>"
      ]
     },
     "metadata": {
      "needs_background": "light"
     },
     "output_type": "display_data"
    },
    {
     "data": {
      "image/png": "[encoded data removed]",
      "text/plain": [
       "<Figure size 792x518.4 with 1 Axes>"
      ]
     },
     "metadata": {
      "needs_background": "light"
     },
     "output_type": "display_data"
    },
    {
     "data": {
      "image/png": "[encoded data removed]",
      "text/plain": [
       "<Figure size 792x604.8 with 1 Axes>"
      ]
     },
     "metadata": {
      "needs_background": "light"
     },
     "output_type": "display_data"
    }
   ],
   "source": [
    "for case in cases:\n",
    "    model_info = all_models_info[case]\n",
    "    index_min = np.argmin(model_info['val_scores'])\n",
    "    fis = dict(model_info['feature_importances'][index_min])\n",
    "    \n",
    "    plt.figure(figsize=(11, 0.4 * len(fis)))\n",
    "    plt.barh(y=list(fis.keys()), width=np.array(list(fis.values())) / sum(fis.values()), )\n",
    "    plt.title(case)\n",
    "    plt.xlabel('importance')\n",
    "    plt.show()"
   ]
  },
  {
   "cell_type": "markdown",
   "id": "relative-hazard",
   "metadata": {},
   "source": [
    "The **date_block_num**, **category** and **shop_name** features have the highest importance among non-lag and non-encoded features. The **encoded_item_id** and **encoded_shop_id** features have the highest importance among encoded features. The importance of lag features decreases inversely to its remoteness from the current month. The models fitted using the lag features have less rmse than without them. So they are important for training. The **shop_type** and **shop_name** after encoding have zero importance. It might be the reason of increasing rmse - they might be noise features."
   ]
  },
  {
   "cell_type": "markdown",
   "id": "normal-content",
   "metadata": {},
   "source": [
    "# Submission"
   ]
  },
  {
   "cell_type": "code",
   "execution_count": 28,
   "id": "heated-equation",
   "metadata": {
    "ExecuteTime": {
     "end_time": "2021-10-29T22:34:33.361290Z",
     "start_time": "2021-10-29T22:34:33.337331Z"
    }
   },
   "outputs": [],
   "source": [
    "import glob\n",
    "import re\n",
    "\n",
    "def submit(y_predicted):\n",
    "    my_submissions_paths = glob.glob('./data/my_submission_*.csv')\n",
    "    nums = [int(re.findall(r'\\d+', filepath)[0]) for filepath in my_submissions_paths]\n",
    "    n = max(nums) + 1\n",
    "    submission = pd.read_csv('data/sample_submission.csv')\n",
    "    submission.item_cnt_month = y_predicted\n",
    "    submission.to_csv(f'data/my_submission_{n}.csv', index=None)\n",
    "    return f'data/my_submission_{n}.csv'"
   ]
  },
  {
   "cell_type": "markdown",
   "id": "understanding-firewall",
   "metadata": {},
   "source": [
    "For all previous cases I will submit the results just to see the full result of training.  \n",
    "Also in all cases I choose the **max_depth** parameter that minimizes the score on validation dataset.  \n",
    "As I saved all best iterations to variables *best_iterations_\\{basic|lags|full\\}* I will use it to set the **n_estimators** parameter."
   ]
  },
  {
   "cell_type": "code",
   "execution_count": 29,
   "id": "sunrise-antique",
   "metadata": {
    "ExecuteTime": {
     "end_time": "2021-10-29T22:38:26.611575Z",
     "start_time": "2021-10-29T22:34:33.371273Z"
    },
    "scrolled": true
   },
   "outputs": [
    {
     "name": "stdout",
     "output_type": "stream",
     "text": [
      "basic\n",
      "submission file: data/my_submission_28.csv\n",
      "\n",
      "##########################\n",
      "\n",
      "lags\n",
      "submission file: data/my_submission_29.csv\n",
      "\n",
      "##########################\n",
      "\n",
      "lags and target encoding\n",
      "submission file: data/my_submission_30.csv\n",
      "\n",
      "##########################\n",
      "\n"
     ]
    }
   ],
   "source": [
    "for case in cases:\n",
    "    \n",
    "    print(case)\n",
    "    \n",
    "    model_datasets = datasets[case]\n",
    "    model_info = all_models_info[case]\n",
    "    \n",
    "    X_final_train = model_datasets['X_submission_train']\n",
    "    y_final_train = model_datasets['y_submission_train']\n",
    "    X_test = model_datasets['X_test']\n",
    "    \n",
    "    min_score_index = np.argmin(model_info['val_scores'])\n",
    "    best_max_depth = model_info['tuned_parameters'][min_score_index]\n",
    "    best_n_estimators = model_info['best_iterations'][min_score_index]\n",
    "    \n",
    "    best_lgbm = LGBMRegressor(\n",
    "        n_estimators=best_n_estimators,\n",
    "        max_depth=best_max_depth\n",
    "    )\n",
    "    best_lgbm.fit(X_final_train, y_final_train)\n",
    "\n",
    "    print('submission file:', submit(best_lgbm.predict(X_test).clip(0, 20)))\n",
    "    print('\\n##########################\\n')"
   ]
  },
  {
   "cell_type": "markdown",
   "id": "threaded-premium",
   "metadata": {},
   "source": [
    "Basic score: 1.09783  \n",
    "Lags score: 0.99485  \n",
    "Lags and target encoding score: 1.04549"
   ]
  },
  {
   "cell_type": "markdown",
   "id": "progressive-gregory",
   "metadata": {},
   "source": [
    "All scores are a bit greater than validation scores. But they are in same order as validation scores.  \n",
    "As adding target encoding increases the rmse it disturbs the prediction."
   ]
  }
 ],
 "metadata": {
  "kernelspec": {
   "display_name": "Python 3",
   "language": "python",
   "name": "python3"
  },
  "language_info": {
   "codemirror_mode": {
    "name": "ipython",
    "version": 3
   },
   "file_extension": ".py",
   "mimetype": "text/x-python",
   "name": "python",
   "nbconvert_exporter": "python",
   "pygments_lexer": "ipython3",
   "version": "3.9.0"
  },
  "toc": {
   "base_numbering": 1,
   "nav_menu": {},
   "number_sections": true,
   "sideBar": true,
   "skip_h1_title": false,
   "title_cell": "Table of Contents",
   "title_sidebar": "Contents",
   "toc_cell": false,
   "toc_position": {
    "height": "calc(100% - 180px)",
    "left": "10px",
    "top": "150px",
    "width": "273.188px"
   },
   "toc_section_display": true,
   "toc_window_display": true
  }
 },
 "nbformat": 4,
 "nbformat_minor": 5
}
