{
 "cells": [
  {
   "cell_type": "code",
   "execution_count": 113,
   "id": "postal-ticket",
   "metadata": {
    "ExecuteTime": {
     "end_time": "2021-10-27T06:23:55.926637Z",
     "start_time": "2021-10-27T06:23:55.905670Z"
    }
   },
   "outputs": [],
   "source": [
    "import numpy as np\n",
    "import pandas as pd\n",
    "import datetime\n",
    "import matplotlib.pyplot as plt\n",
    "from itertools import product\n",
    "from lightgbm import LGBMRegressor\n",
    "from sklearn.preprocessing import StandardScaler\n",
    "import warnings\n",
    "import json\n",
    "warnings.filterwarnings(\"ignore\")\n",
    "\n",
    "def RMSE(series_true, series_predicted):\n",
    "    return sum((series_true - series_predicted)**2 / len(series_true))**0.5"
   ]
  },
  {
   "cell_type": "markdown",
   "id": "color-acquisition",
   "metadata": {},
   "source": [
    "# Read data and change types"
   ]
  },
  {
   "cell_type": "markdown",
   "id": "million-recycling",
   "metadata": {},
   "source": [
    "Here I read train and test tables which don't have lag features and features that are encoded via target encoding "
   ]
  },
  {
   "cell_type": "code",
   "execution_count": 24,
   "id": "intended-anxiety",
   "metadata": {
    "ExecuteTime": {
     "end_time": "2021-10-26T14:01:55.042454Z",
     "start_time": "2021-10-26T14:01:34.578941Z"
    }
   },
   "outputs": [],
   "source": [
    "X_basic = pd.read_csv('data/X_without_lags_and_target_encoding.csv')\n",
    "y_basic = pd.read_csv('data/y_without_lags_and_target_encoding.csv').item_cnt\n",
    "X_test_basic = pd.read_csv('data/test_without_lags_and_target_encoding.csv', index_col='ID')"
   ]
  },
  {
   "cell_type": "code",
   "execution_count": 25,
   "id": "possible-driving",
   "metadata": {
    "ExecuteTime": {
     "end_time": "2021-10-26T14:01:55.240468Z",
     "start_time": "2021-10-26T14:01:55.042454Z"
    },
    "scrolled": true
   },
   "outputs": [
    {
     "name": "stdout",
     "output_type": "stream",
     "text": [
      "<class 'pandas.core.frame.DataFrame'>\n",
      "RangeIndex: 10913850 entries, 0 to 10913849\n",
      "Data columns (total 9 columns):\n",
      " #   Column            Dtype\n",
      "---  ------            -----\n",
      " 0   date_block_num    int64\n",
      " 1   shop_id           int64\n",
      " 2   item_id           int64\n",
      " 3   item_category_id  int64\n",
      " 4   super_category    int64\n",
      " 5   category          int64\n",
      " 6   city              int64\n",
      " 7   shop_type         int64\n",
      " 8   shop_name         int64\n",
      "dtypes: int64(9)\n",
      "memory usage: 749.4 MB\n"
     ]
    }
   ],
   "source": [
    "X_basic.info()"
   ]
  },
  {
   "cell_type": "markdown",
   "id": "approximate-interim",
   "metadata": {},
   "source": [
    "**date_block_num** - the serial number of month since the January, 2013.  \n",
    "**shop_id** - the id of shop. Ranges from 0 to 59.  \n",
    "**item_id** - the id of item. Ranges from 0 to 22169.  \n",
    "**item_category_id** - the id of category. Ranges from 0 to 83.  \n",
    "  \n",
    "All item categories are splitted into super and simple category.  \n",
    "**super_category** - the id of super category. Ranges from 0 to 14.  \n",
    "**category** - the id of simple category. Ranges from 0 to 66.  \n",
    "  \n",
    "All shop names contain the city, type and name of shops.  \n",
    "**city** - the id of city. Ranges from 0 to 28.  \n",
    "**shop_type** - the id of shop type. Ranges from 0 to 8.  \n",
    "**shop_name** - the id of shop name. Ranges from 0 to 50."
   ]
  },
  {
   "cell_type": "markdown",
   "id": "hired-bleeding",
   "metadata": {},
   "source": [
    "The memory is relatively high. So I change the types of all the features."
   ]
  },
  {
   "cell_type": "code",
   "execution_count": 26,
   "id": "christian-kinase",
   "metadata": {
    "ExecuteTime": {
     "end_time": "2021-10-26T14:01:55.272468Z",
     "start_time": "2021-10-26T14:01:55.248476Z"
    }
   },
   "outputs": [],
   "source": [
    "types = {\n",
    "    'date_block_num': 'int8',\n",
    "    'shop_id': 'int8',\n",
    "    'item_id': 'int16',\n",
    "    'item_category_id': 'int8',\n",
    "    'super_category': 'int8',\n",
    "    'category': 'int8',\n",
    "    'city': 'int8',\n",
    "    'shop_type': 'int8',\n",
    "    'shop_name': 'int8'\n",
    "}"
   ]
  },
  {
   "cell_type": "code",
   "execution_count": 27,
   "id": "listed-belief",
   "metadata": {
    "ExecuteTime": {
     "end_time": "2021-10-26T14:01:56.100298Z",
     "start_time": "2021-10-26T14:01:55.280463Z"
    }
   },
   "outputs": [],
   "source": [
    "X_basic = X_basic.astype(types)\n",
    "X_test_basic = X_test_basic.astype(types)"
   ]
  },
  {
   "cell_type": "code",
   "execution_count": 28,
   "id": "freelance-snapshot",
   "metadata": {
    "ExecuteTime": {
     "end_time": "2021-10-26T14:01:56.143249Z",
     "start_time": "2021-10-26T14:01:56.100298Z"
    }
   },
   "outputs": [
    {
     "name": "stdout",
     "output_type": "stream",
     "text": [
      "<class 'pandas.core.frame.DataFrame'>\n",
      "RangeIndex: 10913850 entries, 0 to 10913849\n",
      "Data columns (total 9 columns):\n",
      " #   Column            Dtype\n",
      "---  ------            -----\n",
      " 0   date_block_num    int8 \n",
      " 1   shop_id           int8 \n",
      " 2   item_id           int16\n",
      " 3   item_category_id  int8 \n",
      " 4   super_category    int8 \n",
      " 5   category          int8 \n",
      " 6   city              int8 \n",
      " 7   shop_type         int8 \n",
      " 8   shop_name         int8 \n",
      "dtypes: int16(1), int8(8)\n",
      "memory usage: 104.1 MB\n"
     ]
    }
   ],
   "source": [
    "X_basic.info()"
   ]
  },
  {
   "cell_type": "markdown",
   "id": "alpha-flexibility",
   "metadata": {},
   "source": [
    "As you can see the memory size has decreased by 7 times!"
   ]
  },
  {
   "cell_type": "markdown",
   "id": "generic-trust",
   "metadata": {},
   "source": [
    "Creating the train and valid datasets."
   ]
  },
  {
   "cell_type": "code",
   "execution_count": 266,
   "id": "wound-champagne",
   "metadata": {
    "ExecuteTime": {
     "end_time": "2021-10-27T08:13:07.447556Z",
     "start_time": "2021-10-27T08:13:07.425635Z"
    }
   },
   "outputs": [],
   "source": [
    "X_basic.drop(columns=['shop_id', 'item_id', 'item_category_id'], inplace=True)\n",
    "X_test_basic.drop(columns=['shop_id', 'item_id', 'item_category_id'], inplace=True)"
   ]
  },
  {
   "cell_type": "code",
   "execution_count": 30,
   "id": "latter-parks",
   "metadata": {
    "ExecuteTime": {
     "end_time": "2021-10-26T14:01:58.185877Z",
     "start_time": "2021-10-26T14:01:56.648479Z"
    }
   },
   "outputs": [],
   "source": [
    "X_train_basic = X_basic[X_basic.date_block_num < 33]\n",
    "y_train_basic = y_basic[X_basic.date_block_num < 33]\n",
    "\n",
    "X_val_basic = X_basic[X_basic.date_block_num == 33]\n",
    "y_val_basic = y_basic[X_basic.date_block_num == 33]"
   ]
  },
  {
   "cell_type": "markdown",
   "id": "medical-grove",
   "metadata": {},
   "source": [
    "Here I read train and test tables which have lag features but don't have features that are encoded via target encoding "
   ]
  },
  {
   "cell_type": "code",
   "execution_count": 31,
   "id": "stock-medicine",
   "metadata": {
    "ExecuteTime": {
     "end_time": "2021-10-26T14:02:26.046957Z",
     "start_time": "2021-10-26T14:01:58.185877Z"
    }
   },
   "outputs": [],
   "source": [
    "X_lags = pd.read_csv('data/X_without_target_encoding.csv')\n",
    "y_lags = pd.read_csv('data/y_without_target_encoding.csv').item_cnt\n",
    "X_test_lags = pd.read_csv('data/test_without_target_encoding.csv', index_col='ID')"
   ]
  },
  {
   "cell_type": "code",
   "execution_count": 32,
   "id": "floppy-appeal",
   "metadata": {
    "ExecuteTime": {
     "end_time": "2021-10-26T14:02:26.198139Z",
     "start_time": "2021-10-26T14:02:26.062578Z"
    }
   },
   "outputs": [
    {
     "name": "stdout",
     "output_type": "stream",
     "text": [
      "<class 'pandas.core.frame.DataFrame'>\n",
      "RangeIndex: 6425094 entries, 0 to 6425093\n",
      "Data columns (total 21 columns):\n",
      " #   Column            Dtype\n",
      "---  ------            -----\n",
      " 0   date_block_num    int64\n",
      " 1   shop_id           int64\n",
      " 2   item_id           int64\n",
      " 3   item_category_id  int64\n",
      " 4   super_category    int64\n",
      " 5   category          int64\n",
      " 6   city              int64\n",
      " 7   shop_type         int64\n",
      " 8   shop_name         int64\n",
      " 9   item_cnt_lag1     int64\n",
      " 10  item_cnt_lag2     int64\n",
      " 11  item_cnt_lag3     int64\n",
      " 12  item_cnt_lag4     int64\n",
      " 13  item_cnt_lag5     int64\n",
      " 14  item_cnt_lag6     int64\n",
      " 15  item_cnt_lag7     int64\n",
      " 16  item_cnt_lag8     int64\n",
      " 17  item_cnt_lag9     int64\n",
      " 18  item_cnt_lag10    int64\n",
      " 19  item_cnt_lag11    int64\n",
      " 20  item_cnt_lag12    int64\n",
      "dtypes: int64(21)\n",
      "memory usage: 1.0 GB\n"
     ]
    }
   ],
   "source": [
    "X_lags.info()"
   ]
  },
  {
   "cell_type": "markdown",
   "id": "demanding-civilian",
   "metadata": {},
   "source": [
    "**item_cnt_lag{i}** for *i* from 1 to 12 is the value of **item_cnt** of the same row with **date_block_num** less on *i*."
   ]
  },
  {
   "cell_type": "markdown",
   "id": "miniature-label",
   "metadata": {},
   "source": [
    "As for previous tables, I will decrease the memory usage of this table. As first 8 features are also the features of the **X_basic** dataset, their new types are the same. So I just add new types for lag features."
   ]
  },
  {
   "cell_type": "code",
   "execution_count": 33,
   "id": "constant-survivor",
   "metadata": {
    "ExecuteTime": {
     "end_time": "2021-10-26T14:02:26.246134Z",
     "start_time": "2021-10-26T14:02:26.206136Z"
    }
   },
   "outputs": [],
   "source": [
    "types.update({\n",
    "    f'item_cnt_lag{i}': 'int8' for i in range(1, 13)\n",
    "})"
   ]
  },
  {
   "cell_type": "code",
   "execution_count": 34,
   "id": "composed-negotiation",
   "metadata": {
    "ExecuteTime": {
     "end_time": "2021-10-26T14:02:27.415596Z",
     "start_time": "2021-10-26T14:02:26.254134Z"
    }
   },
   "outputs": [],
   "source": [
    "X_lags = X_lags.astype(types)\n",
    "X_test_lags = X_test_lags.astype(types)"
   ]
  },
  {
   "cell_type": "code",
   "execution_count": 35,
   "id": "regional-eating",
   "metadata": {
    "ExecuteTime": {
     "end_time": "2021-10-26T14:02:27.466413Z",
     "start_time": "2021-10-26T14:02:27.415596Z"
    }
   },
   "outputs": [
    {
     "name": "stdout",
     "output_type": "stream",
     "text": [
      "<class 'pandas.core.frame.DataFrame'>\n",
      "RangeIndex: 6425094 entries, 0 to 6425093\n",
      "Data columns (total 21 columns):\n",
      " #   Column            Dtype\n",
      "---  ------            -----\n",
      " 0   date_block_num    int8 \n",
      " 1   shop_id           int8 \n",
      " 2   item_id           int16\n",
      " 3   item_category_id  int8 \n",
      " 4   super_category    int8 \n",
      " 5   category          int8 \n",
      " 6   city              int8 \n",
      " 7   shop_type         int8 \n",
      " 8   shop_name         int8 \n",
      " 9   item_cnt_lag1     int8 \n",
      " 10  item_cnt_lag2     int8 \n",
      " 11  item_cnt_lag3     int8 \n",
      " 12  item_cnt_lag4     int8 \n",
      " 13  item_cnt_lag5     int8 \n",
      " 14  item_cnt_lag6     int8 \n",
      " 15  item_cnt_lag7     int8 \n",
      " 16  item_cnt_lag8     int8 \n",
      " 17  item_cnt_lag9     int8 \n",
      " 18  item_cnt_lag10    int8 \n",
      " 19  item_cnt_lag11    int8 \n",
      " 20  item_cnt_lag12    int8 \n",
      "dtypes: int16(1), int8(20)\n",
      "memory usage: 134.8 MB\n"
     ]
    }
   ],
   "source": [
    "X_lags.info()"
   ]
  },
  {
   "cell_type": "code",
   "execution_count": 268,
   "id": "unusual-festival",
   "metadata": {
    "ExecuteTime": {
     "end_time": "2021-10-27T08:13:30.146937Z",
     "start_time": "2021-10-27T08:13:30.099920Z"
    }
   },
   "outputs": [],
   "source": [
    "X_lags.drop(columns=['shop_id', 'item_id', 'item_category_id'], inplace=True)\n",
    "X_test_lags.drop(columns=['shop_id', 'item_id', 'item_category_id'], inplace=True)"
   ]
  },
  {
   "cell_type": "markdown",
   "id": "prepared-progressive",
   "metadata": {
    "ExecuteTime": {
     "end_time": "2021-10-20T18:13:25.943392Z",
     "start_time": "2021-10-20T18:13:25.917437Z"
    }
   },
   "source": [
    "Creating the train and valid datasets."
   ]
  },
  {
   "cell_type": "code",
   "execution_count": 37,
   "id": "consistent-invite",
   "metadata": {
    "ExecuteTime": {
     "end_time": "2021-10-26T14:02:30.191944Z",
     "start_time": "2021-10-26T14:02:28.433479Z"
    }
   },
   "outputs": [],
   "source": [
    "X_train_lags = X_lags[X_lags.date_block_num < 33]\n",
    "y_train_lags = y_lags[X_lags.date_block_num < 33]\n",
    "\n",
    "X_val_lags = X_lags[X_lags.date_block_num == 33]\n",
    "y_val_lags = y_lags[X_lags.date_block_num == 33]"
   ]
  },
  {
   "cell_type": "markdown",
   "id": "matched-conflict",
   "metadata": {},
   "source": [
    "Here I read train and test tables which have lag features and features that are encoded via target encoding "
   ]
  },
  {
   "cell_type": "code",
   "execution_count": 38,
   "id": "stretch-mainstream",
   "metadata": {
    "ExecuteTime": {
     "end_time": "2021-10-26T14:03:25.891314Z",
     "start_time": "2021-10-26T14:02:30.191944Z"
    }
   },
   "outputs": [],
   "source": [
    "X_full = pd.read_csv('data/X_full.csv')\n",
    "y_full = pd.read_csv('data/y_full.csv').item_cnt\n",
    "X_test_full = pd.read_csv('data/test_full.csv', index_col='ID')"
   ]
  },
  {
   "cell_type": "code",
   "execution_count": 39,
   "id": "enabling-vietnamese",
   "metadata": {
    "ExecuteTime": {
     "end_time": "2021-10-26T14:03:26.073340Z",
     "start_time": "2021-10-26T14:03:25.922561Z"
    }
   },
   "outputs": [
    {
     "name": "stdout",
     "output_type": "stream",
     "text": [
      "<class 'pandas.core.frame.DataFrame'>\n",
      "RangeIndex: 6425094 entries, 0 to 6425093\n",
      "Data columns (total 29 columns):\n",
      " #   Column                    Dtype  \n",
      "---  ------                    -----  \n",
      " 0   date_block_num            int64  \n",
      " 1   shop_id                   int64  \n",
      " 2   item_id                   int64  \n",
      " 3   item_category_id          int64  \n",
      " 4   super_category            int64  \n",
      " 5   category                  int64  \n",
      " 6   city                      int64  \n",
      " 7   shop_type                 int64  \n",
      " 8   shop_name                 int64  \n",
      " 9   item_cnt_lag1             int64  \n",
      " 10  item_cnt_lag2             int64  \n",
      " 11  item_cnt_lag3             int64  \n",
      " 12  item_cnt_lag4             int64  \n",
      " 13  item_cnt_lag5             int64  \n",
      " 14  item_cnt_lag6             int64  \n",
      " 15  item_cnt_lag7             int64  \n",
      " 16  item_cnt_lag8             int64  \n",
      " 17  item_cnt_lag9             int64  \n",
      " 18  item_cnt_lag10            int64  \n",
      " 19  item_cnt_lag11            int64  \n",
      " 20  item_cnt_lag12            int64  \n",
      " 21  encoded_shop_id           float64\n",
      " 22  encoded_item_id           float64\n",
      " 23  encoded_item_category_id  float64\n",
      " 24  encoded_super_category    float64\n",
      " 25  encoded_category          float64\n",
      " 26  encoded_city              float64\n",
      " 27  encoded_shop_type         float64\n",
      " 28  encoded_shop_name         float64\n",
      "dtypes: float64(8), int64(21)\n",
      "memory usage: 1.4 GB\n"
     ]
    }
   ],
   "source": [
    "X_full.info()"
   ]
  },
  {
   "cell_type": "markdown",
   "id": "armed-fluid",
   "metadata": {},
   "source": [
    "**encoded_{feature}** are encoded features using target encoding."
   ]
  },
  {
   "cell_type": "markdown",
   "id": "legal-musician",
   "metadata": {},
   "source": [
    "As for previous tables, I will decrease the memory usage of this table. As first 21 features are also the features of the **X_lags** dataset, their new types are the same. So I just add new types for encoded features."
   ]
  },
  {
   "cell_type": "code",
   "execution_count": 40,
   "id": "literary-knight",
   "metadata": {
    "ExecuteTime": {
     "end_time": "2021-10-26T14:03:26.105333Z",
     "start_time": "2021-10-26T14:03:26.073340Z"
    }
   },
   "outputs": [],
   "source": [
    "types.update({\n",
    "    col: 'float32' for col in X_full.columns[21:]\n",
    "})"
   ]
  },
  {
   "cell_type": "code",
   "execution_count": 41,
   "id": "eastern-spine",
   "metadata": {
    "ExecuteTime": {
     "end_time": "2021-10-26T14:03:29.247389Z",
     "start_time": "2021-10-26T14:03:26.113333Z"
    }
   },
   "outputs": [],
   "source": [
    "X_full = X_full.astype(types)\n",
    "X_test_full = X_test_full.astype(types)"
   ]
  },
  {
   "cell_type": "code",
   "execution_count": 42,
   "id": "advanced-packaging",
   "metadata": {
    "ExecuteTime": {
     "end_time": "2021-10-26T14:03:29.327374Z",
     "start_time": "2021-10-26T14:03:29.263387Z"
    }
   },
   "outputs": [
    {
     "name": "stdout",
     "output_type": "stream",
     "text": [
      "<class 'pandas.core.frame.DataFrame'>\n",
      "RangeIndex: 6425094 entries, 0 to 6425093\n",
      "Data columns (total 29 columns):\n",
      " #   Column                    Dtype  \n",
      "---  ------                    -----  \n",
      " 0   date_block_num            int8   \n",
      " 1   shop_id                   int8   \n",
      " 2   item_id                   int16  \n",
      " 3   item_category_id          int8   \n",
      " 4   super_category            int8   \n",
      " 5   category                  int8   \n",
      " 6   city                      int8   \n",
      " 7   shop_type                 int8   \n",
      " 8   shop_name                 int8   \n",
      " 9   item_cnt_lag1             int8   \n",
      " 10  item_cnt_lag2             int8   \n",
      " 11  item_cnt_lag3             int8   \n",
      " 12  item_cnt_lag4             int8   \n",
      " 13  item_cnt_lag5             int8   \n",
      " 14  item_cnt_lag6             int8   \n",
      " 15  item_cnt_lag7             int8   \n",
      " 16  item_cnt_lag8             int8   \n",
      " 17  item_cnt_lag9             int8   \n",
      " 18  item_cnt_lag10            int8   \n",
      " 19  item_cnt_lag11            int8   \n",
      " 20  item_cnt_lag12            int8   \n",
      " 21  encoded_shop_id           float32\n",
      " 22  encoded_item_id           float32\n",
      " 23  encoded_item_category_id  float32\n",
      " 24  encoded_super_category    float32\n",
      " 25  encoded_category          float32\n",
      " 26  encoded_city              float32\n",
      " 27  encoded_shop_type         float32\n",
      " 28  encoded_shop_name         float32\n",
      "dtypes: float32(8), int16(1), int8(20)\n",
      "memory usage: 330.9 MB\n"
     ]
    }
   ],
   "source": [
    "X_full.info()"
   ]
  },
  {
   "cell_type": "code",
   "execution_count": 270,
   "id": "micro-comment",
   "metadata": {
    "ExecuteTime": {
     "end_time": "2021-10-27T08:14:10.672221Z",
     "start_time": "2021-10-27T08:14:10.550416Z"
    }
   },
   "outputs": [],
   "source": [
    "X_full.drop(columns=X_full.columns[1:9], inplace=True)\n",
    "X_test_full.drop(columns=X_test_full.columns[1:9], inplace=True)"
   ]
  },
  {
   "cell_type": "markdown",
   "id": "temporal-nursery",
   "metadata": {},
   "source": [
    "Creating the train and valid datasets."
   ]
  },
  {
   "cell_type": "code",
   "execution_count": 44,
   "id": "aggregate-armenia",
   "metadata": {
    "ExecuteTime": {
     "end_time": "2021-10-26T14:03:33.087131Z",
     "start_time": "2021-10-26T14:03:30.654077Z"
    }
   },
   "outputs": [],
   "source": [
    "X_train_full = X_full[X_full.date_block_num < 33]\n",
    "y_train_full = y_full[X_full.date_block_num < 33]\n",
    "\n",
    "X_val_full = X_full[X_full.date_block_num == 33]\n",
    "y_val_full = y_full[X_full.date_block_num == 33]"
   ]
  },
  {
   "cell_type": "markdown",
   "id": "rational-object",
   "metadata": {},
   "source": [
    "# Training models"
   ]
  },
  {
   "cell_type": "markdown",
   "id": "regulation-double",
   "metadata": {},
   "source": [
    "I decided to use gradient boosting because it is the model that gives a high quality. I use lgbm because it is faster than simple gradient boosting or xgboost."
   ]
  },
  {
   "cell_type": "markdown",
   "id": "other-plate",
   "metadata": {},
   "source": [
    "For 3 types of data I tune the **max_depth** parameter of lgbm. Also I use early stopping using validation dataset because it is more efficient than selection some value of the number of estimators. Then I plot the graphics of train and validation score from **max_depth** parameter and choose the values of this parameter which minimize the the validation score."
   ]
  },
  {
   "cell_type": "code",
   "execution_count": 71,
   "id": "temporal-timing",
   "metadata": {
    "ExecuteTime": {
     "end_time": "2021-10-26T19:32:15.714435Z",
     "start_time": "2021-10-26T19:32:15.676496Z"
    }
   },
   "outputs": [],
   "source": [
    "# the values of max_depth parameter to tune\n",
    "max_depths = list(range(1, 30))\n",
    "\n",
    "# cases of datasets\n",
    "cases = [\n",
    "    'basic',\n",
    "    'lags',\n",
    "    'lags and target encoding'\n",
    "]\n",
    "\n",
    "# common names of datasets in each case\n",
    "datasets = {\n",
    "    'basic': {\n",
    "        'X_train': X_train_basic,\n",
    "        'y_train': y_train_basic,\n",
    "        'X_val': X_val_basic,\n",
    "        'y_val': y_val_basic,\n",
    "        'X_submission_train': X_basic,\n",
    "        'y_submission_train': y_basic,\n",
    "        'X_test': X_test_basic\n",
    "    },\n",
    "    'lags': {\n",
    "        'X_train': X_train_lags,\n",
    "        'y_train': y_train_lags,\n",
    "        'X_val': X_val_lags,\n",
    "        'y_val': y_val_lags,\n",
    "        'X_submission_train': X_lags,\n",
    "        'y_submission_train': y_lags,\n",
    "        'X_test': X_test_lags\n",
    "    },\n",
    "    'lags and target encoding': {\n",
    "        'X_train': X_train_full,\n",
    "        'y_train': y_train_full,\n",
    "        'X_val': X_val_full,\n",
    "        'y_val': y_val_full,\n",
    "        'X_submission_train': X_full,\n",
    "        'y_submission_train': y_full,\n",
    "        'X_test': X_test_full\n",
    "    }\n",
    "}\n",
    "\n",
    "# categorical features in each case to set it\n",
    "# as categorical_feature parameter of LGBMRegressor model\n",
    "cat_features = {\n",
    "    'basic': X_train_basic.columns.to_list(),\n",
    "    'lags': X_train_basic.columns.to_list(),\n",
    "    'lags and target encoding': X_train_full.columns[13:].to_list()\n",
    "}\n",
    "\n",
    "# all information about fitted models\n",
    "all_models_info = {\n",
    "    case: {\n",
    "        'tuned_parameters': [],\n",
    "        'train_scores': [],\n",
    "        'val_scores': [],\n",
    "        'best_iterations': [],\n",
    "        'eval_times': [],\n",
    "        'feature_importances': []\n",
    "    }\n",
    "    for case in cases\n",
    "}"
   ]
  },
  {
   "cell_type": "code",
   "execution_count": 73,
   "id": "surrounded-employee",
   "metadata": {
    "ExecuteTime": {
     "end_time": "2021-10-26T21:12:23.156575Z",
     "start_time": "2021-10-26T19:33:14.437206Z"
    },
    "collapsed": true
   },
   "outputs": [
    {
     "name": "stdout",
     "output_type": "stream",
     "text": [
      "basic\n",
      "##########################\n",
      "max_depth: 1\n",
      "[10]\tvalid_0's l2: 1.22827\n",
      "[20]\tvalid_0's l2: 1.20162\n",
      "[30]\tvalid_0's l2: 1.18526\n",
      "[40]\tvalid_0's l2: 1.17708\n",
      "[50]\tvalid_0's l2: 1.17212\n",
      "[60]\tvalid_0's l2: 1.16931\n",
      "[70]\tvalid_0's l2: 1.16694\n",
      "[80]\tvalid_0's l2: 1.16535\n",
      "[90]\tvalid_0's l2: 1.16494\n",
      "[100]\tvalid_0's l2: 1.16363\n",
      "train RMSE: 1.156488839447422  |  val RMSE: 1.0787172526430224\n",
      "Evaluation time: 0:01:03.500428\n",
      "------------------------------------------------------\n",
      "max_depth: 2\n",
      "[10]\tvalid_0's l2: 1.19187\n",
      "[20]\tvalid_0's l2: 1.16914\n",
      "[30]\tvalid_0's l2: 1.16041\n",
      "[40]\tvalid_0's l2: 1.1573\n",
      "[50]\tvalid_0's l2: 1.15294\n",
      "[60]\tvalid_0's l2: 1.1499\n",
      "[70]\tvalid_0's l2: 1.14958\n",
      "[80]\tvalid_0's l2: 1.15026\n",
      "train RMSE: 1.143568958972026  |  val RMSE: 1.0716833866828963\n",
      "Evaluation time: 0:00:56.726763\n",
      "------------------------------------------------------\n",
      "max_depth: 3\n",
      "[10]\tvalid_0's l2: 1.17267\n",
      "[20]\tvalid_0's l2: 1.15161\n",
      "[30]\tvalid_0's l2: 1.14523\n",
      "[40]\tvalid_0's l2: 1.14307\n",
      "[50]\tvalid_0's l2: 1.13642\n",
      "[60]\tvalid_0's l2: 1.13433\n",
      "[70]\tvalid_0's l2: 1.13172\n",
      "[80]\tvalid_0's l2: 1.12929\n",
      "[90]\tvalid_0's l2: 1.12825\n",
      "[100]\tvalid_0's l2: 1.12058\n",
      "train RMSE: 1.1275740160995724  |  val RMSE: 1.0585575492385368\n",
      "Evaluation time: 0:01:30.755865\n",
      "------------------------------------------------------\n",
      "max_depth: 4\n",
      "[10]\tvalid_0's l2: 1.15419\n",
      "[20]\tvalid_0's l2: 1.1482\n",
      "[30]\tvalid_0's l2: 1.1444\n",
      "[40]\tvalid_0's l2: 1.13712\n",
      "[50]\tvalid_0's l2: 1.13505\n",
      "[60]\tvalid_0's l2: 1.13619\n",
      "[70]\tvalid_0's l2: 1.13157\n",
      "[80]\tvalid_0's l2: 1.12214\n",
      "[90]\tvalid_0's l2: 1.11573\n",
      "[100]\tvalid_0's l2: 1.10953\n",
      "train RMSE: 1.1189041805128122  |  val RMSE: 1.0533280746057212\n",
      "Evaluation time: 0:01:45.095082\n",
      "------------------------------------------------------\n",
      "max_depth: 5\n",
      "[10]\tvalid_0's l2: 1.14293\n",
      "[20]\tvalid_0's l2: 1.13806\n",
      "[30]\tvalid_0's l2: 1.13172\n",
      "[40]\tvalid_0's l2: 1.12282\n",
      "[50]\tvalid_0's l2: 1.11651\n",
      "[60]\tvalid_0's l2: 1.11345\n",
      "[70]\tvalid_0's l2: 1.10661\n",
      "[80]\tvalid_0's l2: 1.09997\n",
      "[90]\tvalid_0's l2: 1.09663\n",
      "[100]\tvalid_0's l2: 1.09254\n",
      "train RMSE: 1.111217494189915  |  val RMSE: 1.0452250264405425\n",
      "Evaluation time: 0:02:02.327152\n",
      "------------------------------------------------------\n",
      "max_depth: 6\n",
      "[10]\tvalid_0's l2: 1.12535\n",
      "[20]\tvalid_0's l2: 1.11293\n",
      "[30]\tvalid_0's l2: 1.11262\n",
      "[40]\tvalid_0's l2: 1.10961\n",
      "[50]\tvalid_0's l2: 1.10524\n",
      "[60]\tvalid_0's l2: 1.10013\n",
      "[70]\tvalid_0's l2: 1.08957\n",
      "[80]\tvalid_0's l2: 1.08651\n",
      "[90]\tvalid_0's l2: 1.08407\n",
      "[100]\tvalid_0's l2: 1.0826\n",
      "train RMSE: 1.1092346429737692  |  val RMSE: 1.0404587827541578\n",
      "Evaluation time: 0:01:49.950748\n",
      "------------------------------------------------------\n",
      "max_depth: 7\n",
      "[10]\tvalid_0's l2: 1.12467\n",
      "[20]\tvalid_0's l2: 1.11239\n",
      "[30]\tvalid_0's l2: 1.1104\n",
      "[40]\tvalid_0's l2: 1.10696\n",
      "[50]\tvalid_0's l2: 1.10069\n",
      "[60]\tvalid_0's l2: 1.09726\n",
      "[70]\tvalid_0's l2: 1.09682\n",
      "[80]\tvalid_0's l2: 1.0882\n",
      "[90]\tvalid_0's l2: 1.08294\n",
      "[100]\tvalid_0's l2: 1.08045\n",
      "train RMSE: 1.108970283495011  |  val RMSE: 1.0394229939275446\n",
      "Evaluation time: 0:01:48.015922\n",
      "------------------------------------------------------\n",
      "max_depth: 8\n",
      "[10]\tvalid_0's l2: 1.12388\n",
      "[20]\tvalid_0's l2: 1.11716\n",
      "[30]\tvalid_0's l2: 1.11987\n",
      "[40]\tvalid_0's l2: 1.11468\n",
      "[50]\tvalid_0's l2: 1.11337\n",
      "[60]\tvalid_0's l2: 1.10787\n",
      "[70]\tvalid_0's l2: 1.10854\n",
      "[80]\tvalid_0's l2: 1.10417\n",
      "[90]\tvalid_0's l2: 1.10065\n",
      "[100]\tvalid_0's l2: 1.09848\n",
      "train RMSE: 1.1080548174824294  |  val RMSE: 1.048068586129301\n",
      "Evaluation time: 0:01:51.245211\n",
      "------------------------------------------------------\n",
      "max_depth: 9\n",
      "[10]\tvalid_0's l2: 1.12482\n",
      "[20]\tvalid_0's l2: 1.11677\n",
      "[30]\tvalid_0's l2: 1.1136\n",
      "[40]\tvalid_0's l2: 1.11089\n",
      "[50]\tvalid_0's l2: 1.10789\n",
      "[60]\tvalid_0's l2: 1.1033\n",
      "[70]\tvalid_0's l2: 1.10131\n",
      "[80]\tvalid_0's l2: 1.09784\n",
      "[90]\tvalid_0's l2: 1.09706\n",
      "[100]\tvalid_0's l2: 1.09314\n",
      "train RMSE: 1.1085640499689033  |  val RMSE: 1.0454959314463483\n",
      "Evaluation time: 0:01:48.380090\n",
      "------------------------------------------------------\n",
      "max_depth: 10\n",
      "[10]\tvalid_0's l2: 1.12498\n",
      "[20]\tvalid_0's l2: 1.11583\n",
      "[30]\tvalid_0's l2: 1.11\n",
      "[40]\tvalid_0's l2: 1.10349\n",
      "[50]\tvalid_0's l2: 1.10293\n",
      "[60]\tvalid_0's l2: 1.09943\n",
      "[70]\tvalid_0's l2: 1.09883\n",
      "[80]\tvalid_0's l2: 1.09661\n",
      "[90]\tvalid_0's l2: 1.09576\n",
      "[100]\tvalid_0's l2: 1.09193\n",
      "train RMSE: 1.108111831802629  |  val RMSE: 1.0449384000892228\n",
      "Evaluation time: 0:01:47.893466\n",
      "------------------------------------------------------\n",
      "max_depth: 11\n",
      "[10]\tvalid_0's l2: 1.1254\n",
      "[20]\tvalid_0's l2: 1.11529\n",
      "[30]\tvalid_0's l2: 1.11361\n",
      "[40]\tvalid_0's l2: 1.10582\n",
      "[50]\tvalid_0's l2: 1.10131\n",
      "[60]\tvalid_0's l2: 1.09426\n",
      "[70]\tvalid_0's l2: 1.09524\n",
      "[80]\tvalid_0's l2: 1.09155\n",
      "[90]\tvalid_0's l2: 1.09008\n",
      "[100]\tvalid_0's l2: 1.08901\n",
      "train RMSE: 1.1086103704788768  |  val RMSE: 1.0435334014159787\n",
      "Evaluation time: 0:01:44.965082\n",
      "------------------------------------------------------\n",
      "max_depth: 12\n",
      "[10]\tvalid_0's l2: 1.1254\n",
      "[20]\tvalid_0's l2: 1.11529\n",
      "[30]\tvalid_0's l2: 1.11361\n",
      "[40]\tvalid_0's l2: 1.10582\n",
      "[50]\tvalid_0's l2: 1.10131\n",
      "[60]\tvalid_0's l2: 1.09424\n",
      "[70]\tvalid_0's l2: 1.09318\n",
      "[80]\tvalid_0's l2: 1.09256\n",
      "[90]\tvalid_0's l2: 1.09052\n",
      "[100]\tvalid_0's l2: 1.08879\n",
      "train RMSE: 1.1081616827810201  |  val RMSE: 1.0433827150244657\n",
      "Evaluation time: 0:01:47.466976\n",
      "------------------------------------------------------\n",
      "max_depth: 13\n",
      "[10]\tvalid_0's l2: 1.1254\n",
      "[20]\tvalid_0's l2: 1.11529\n",
      "[30]\tvalid_0's l2: 1.11361\n",
      "[40]\tvalid_0's l2: 1.10582\n",
      "[50]\tvalid_0's l2: 1.10131\n",
      "[60]\tvalid_0's l2: 1.09424\n",
      "[70]\tvalid_0's l2: 1.09318\n",
      "[80]\tvalid_0's l2: 1.09256\n",
      "[90]\tvalid_0's l2: 1.09052\n",
      "[100]\tvalid_0's l2: 1.08879\n",
      "train RMSE: 1.1081616827810201  |  val RMSE: 1.0433827150244657\n",
      "Evaluation time: 0:01:46.620657\n",
      "------------------------------------------------------\n",
      "max_depth: 14\n",
      "[10]\tvalid_0's l2: 1.1254\n",
      "[20]\tvalid_0's l2: 1.11529\n",
      "[30]\tvalid_0's l2: 1.11361\n",
      "[40]\tvalid_0's l2: 1.10582\n",
      "[50]\tvalid_0's l2: 1.10131\n",
      "[60]\tvalid_0's l2: 1.09424\n",
      "[70]\tvalid_0's l2: 1.09318\n",
      "[80]\tvalid_0's l2: 1.09256\n",
      "[90]\tvalid_0's l2: 1.09052\n",
      "[100]\tvalid_0's l2: 1.08879\n",
      "train RMSE: 1.1081616827810201  |  val RMSE: 1.0433827150244657\n",
      "Evaluation time: 0:01:46.090513\n",
      "------------------------------------------------------\n",
      "max_depth: 15\n",
      "[10]\tvalid_0's l2: 1.1254\n",
      "[20]\tvalid_0's l2: 1.11529\n",
      "[30]\tvalid_0's l2: 1.11361\n",
      "[40]\tvalid_0's l2: 1.10582\n",
      "[50]\tvalid_0's l2: 1.10131\n",
      "[60]\tvalid_0's l2: 1.09424\n",
      "[70]\tvalid_0's l2: 1.09318\n",
      "[80]\tvalid_0's l2: 1.09256\n",
      "[90]\tvalid_0's l2: 1.09052\n",
      "[100]\tvalid_0's l2: 1.08879\n",
      "train RMSE: 1.1081616827810201  |  val RMSE: 1.0433827150244657\n",
      "Evaluation time: 0:01:46.047455\n",
      "------------------------------------------------------\n",
      "max_depth: 16\n",
      "[10]\tvalid_0's l2: 1.1254\n",
      "[20]\tvalid_0's l2: 1.11529\n",
      "[30]\tvalid_0's l2: 1.11361\n",
      "[40]\tvalid_0's l2: 1.10582\n",
      "[50]\tvalid_0's l2: 1.10131\n",
      "[60]\tvalid_0's l2: 1.09424\n",
      "[70]\tvalid_0's l2: 1.09318\n",
      "[80]\tvalid_0's l2: 1.09256\n",
      "[90]\tvalid_0's l2: 1.09052\n",
      "[100]\tvalid_0's l2: 1.08879\n",
      "train RMSE: 1.1081616827810201  |  val RMSE: 1.0433827150244657\n",
      "Evaluation time: 0:01:45.919576\n",
      "------------------------------------------------------\n",
      "max_depth: 17\n",
      "[10]\tvalid_0's l2: 1.1254\n",
      "[20]\tvalid_0's l2: 1.11529\n",
      "[30]\tvalid_0's l2: 1.11361\n",
      "[40]\tvalid_0's l2: 1.10582\n",
      "[50]\tvalid_0's l2: 1.10131\n",
      "[60]\tvalid_0's l2: 1.09424\n",
      "[70]\tvalid_0's l2: 1.09318\n",
      "[80]\tvalid_0's l2: 1.09256\n",
      "[90]\tvalid_0's l2: 1.09052\n",
      "[100]\tvalid_0's l2: 1.08879\n",
      "train RMSE: 1.1081616827810201  |  val RMSE: 1.0433827150244657\n",
      "Evaluation time: 0:01:46.273066\n",
      "------------------------------------------------------\n",
      "max_depth: 18\n",
      "[10]\tvalid_0's l2: 1.1254\n",
      "[20]\tvalid_0's l2: 1.11529\n",
      "[30]\tvalid_0's l2: 1.11361\n",
      "[40]\tvalid_0's l2: 1.10582\n",
      "[50]\tvalid_0's l2: 1.10131\n",
      "[60]\tvalid_0's l2: 1.09424\n",
      "[70]\tvalid_0's l2: 1.09318\n",
      "[80]\tvalid_0's l2: 1.09256\n",
      "[90]\tvalid_0's l2: 1.09052\n",
      "[100]\tvalid_0's l2: 1.08879\n",
      "train RMSE: 1.1081616827810201  |  val RMSE: 1.0433827150244657\n",
      "Evaluation time: 0:01:46.946579\n",
      "------------------------------------------------------\n",
      "max_depth: 19\n",
      "[10]\tvalid_0's l2: 1.1254\n",
      "[20]\tvalid_0's l2: 1.11529\n",
      "[30]\tvalid_0's l2: 1.11361\n",
      "[40]\tvalid_0's l2: 1.10582\n",
      "[50]\tvalid_0's l2: 1.10131\n",
      "[60]\tvalid_0's l2: 1.09424\n",
      "[70]\tvalid_0's l2: 1.09318\n",
      "[80]\tvalid_0's l2: 1.09256\n",
      "[90]\tvalid_0's l2: 1.09052\n",
      "[100]\tvalid_0's l2: 1.08879\n",
      "train RMSE: 1.1081616827810201  |  val RMSE: 1.0433827150244657\n",
      "Evaluation time: 0:01:45.610018\n",
      "------------------------------------------------------\n",
      "max_depth: 20\n"
     ]
    },
    {
     "name": "stdout",
     "output_type": "stream",
     "text": [
      "[10]\tvalid_0's l2: 1.1254\n",
      "[20]\tvalid_0's l2: 1.11529\n",
      "[30]\tvalid_0's l2: 1.11361\n",
      "[40]\tvalid_0's l2: 1.10582\n",
      "[50]\tvalid_0's l2: 1.10131\n",
      "[60]\tvalid_0's l2: 1.09424\n",
      "[70]\tvalid_0's l2: 1.09318\n",
      "[80]\tvalid_0's l2: 1.09256\n",
      "[90]\tvalid_0's l2: 1.09052\n",
      "[100]\tvalid_0's l2: 1.08879\n",
      "train RMSE: 1.1081616827810201  |  val RMSE: 1.0433827150244657\n",
      "Evaluation time: 0:01:47.511207\n",
      "------------------------------------------------------\n",
      "max_depth: 21\n",
      "[10]\tvalid_0's l2: 1.1254\n",
      "[20]\tvalid_0's l2: 1.11529\n",
      "[30]\tvalid_0's l2: 1.11361\n",
      "[40]\tvalid_0's l2: 1.10582\n",
      "[50]\tvalid_0's l2: 1.10131\n",
      "[60]\tvalid_0's l2: 1.09424\n",
      "[70]\tvalid_0's l2: 1.09318\n",
      "[80]\tvalid_0's l2: 1.09256\n",
      "[90]\tvalid_0's l2: 1.09052\n",
      "[100]\tvalid_0's l2: 1.08879\n",
      "train RMSE: 1.1081616827810201  |  val RMSE: 1.0433827150244657\n",
      "Evaluation time: 0:01:46.836249\n",
      "------------------------------------------------------\n",
      "max_depth: 22\n",
      "[10]\tvalid_0's l2: 1.1254\n",
      "[20]\tvalid_0's l2: 1.11529\n",
      "[30]\tvalid_0's l2: 1.11361\n",
      "[40]\tvalid_0's l2: 1.10582\n",
      "[50]\tvalid_0's l2: 1.10131\n",
      "[60]\tvalid_0's l2: 1.09424\n",
      "[70]\tvalid_0's l2: 1.09318\n",
      "[80]\tvalid_0's l2: 1.09256\n",
      "[90]\tvalid_0's l2: 1.09052\n",
      "[100]\tvalid_0's l2: 1.08879\n",
      "train RMSE: 1.1081616827810201  |  val RMSE: 1.0433827150244657\n",
      "Evaluation time: 0:01:46.794740\n",
      "------------------------------------------------------\n",
      "max_depth: 23\n",
      "[10]\tvalid_0's l2: 1.1254\n",
      "[20]\tvalid_0's l2: 1.11529\n",
      "[30]\tvalid_0's l2: 1.11361\n",
      "[40]\tvalid_0's l2: 1.10582\n",
      "[50]\tvalid_0's l2: 1.10131\n",
      "[60]\tvalid_0's l2: 1.09424\n",
      "[70]\tvalid_0's l2: 1.09318\n",
      "[80]\tvalid_0's l2: 1.09256\n",
      "[90]\tvalid_0's l2: 1.09052\n",
      "[100]\tvalid_0's l2: 1.08879\n",
      "train RMSE: 1.1081616827810201  |  val RMSE: 1.0433827150244657\n",
      "Evaluation time: 0:01:46.392667\n",
      "------------------------------------------------------\n",
      "max_depth: 24\n",
      "[10]\tvalid_0's l2: 1.1254\n",
      "[20]\tvalid_0's l2: 1.11529\n",
      "[30]\tvalid_0's l2: 1.11361\n",
      "[40]\tvalid_0's l2: 1.10582\n",
      "[50]\tvalid_0's l2: 1.10131\n",
      "[60]\tvalid_0's l2: 1.09424\n",
      "[70]\tvalid_0's l2: 1.09318\n",
      "[80]\tvalid_0's l2: 1.09256\n",
      "[90]\tvalid_0's l2: 1.09052\n",
      "[100]\tvalid_0's l2: 1.08879\n",
      "train RMSE: 1.1081616827810201  |  val RMSE: 1.0433827150244657\n",
      "Evaluation time: 0:01:45.897455\n",
      "------------------------------------------------------\n",
      "max_depth: 25\n",
      "[10]\tvalid_0's l2: 1.1254\n",
      "[20]\tvalid_0's l2: 1.11529\n",
      "[30]\tvalid_0's l2: 1.11361\n",
      "[40]\tvalid_0's l2: 1.10582\n",
      "[50]\tvalid_0's l2: 1.10131\n",
      "[60]\tvalid_0's l2: 1.09424\n",
      "[70]\tvalid_0's l2: 1.09318\n",
      "[80]\tvalid_0's l2: 1.09256\n",
      "[90]\tvalid_0's l2: 1.09052\n",
      "[100]\tvalid_0's l2: 1.08879\n",
      "train RMSE: 1.1081616827810201  |  val RMSE: 1.0433827150244657\n",
      "Evaluation time: 0:01:46.586509\n",
      "------------------------------------------------------\n",
      "max_depth: 26\n",
      "[10]\tvalid_0's l2: 1.1254\n",
      "[20]\tvalid_0's l2: 1.11529\n",
      "[30]\tvalid_0's l2: 1.11361\n",
      "[40]\tvalid_0's l2: 1.10582\n",
      "[50]\tvalid_0's l2: 1.10131\n",
      "[60]\tvalid_0's l2: 1.09424\n",
      "[70]\tvalid_0's l2: 1.09318\n",
      "[80]\tvalid_0's l2: 1.09256\n",
      "[90]\tvalid_0's l2: 1.09052\n",
      "[100]\tvalid_0's l2: 1.08879\n",
      "train RMSE: 1.1081616827810201  |  val RMSE: 1.0433827150244657\n",
      "Evaluation time: 0:01:53.187372\n",
      "------------------------------------------------------\n",
      "max_depth: 27\n",
      "[10]\tvalid_0's l2: 1.1254\n",
      "[20]\tvalid_0's l2: 1.11529\n",
      "[30]\tvalid_0's l2: 1.11361\n",
      "[40]\tvalid_0's l2: 1.10582\n",
      "[50]\tvalid_0's l2: 1.10131\n",
      "[60]\tvalid_0's l2: 1.09424\n",
      "[70]\tvalid_0's l2: 1.09318\n",
      "[80]\tvalid_0's l2: 1.09256\n",
      "[90]\tvalid_0's l2: 1.09052\n",
      "[100]\tvalid_0's l2: 1.08879\n",
      "train RMSE: 1.1081616827810201  |  val RMSE: 1.0433827150244657\n",
      "Evaluation time: 0:01:46.532608\n",
      "------------------------------------------------------\n",
      "max_depth: 28\n",
      "[10]\tvalid_0's l2: 1.1254\n",
      "[20]\tvalid_0's l2: 1.11529\n",
      "[30]\tvalid_0's l2: 1.11361\n",
      "[40]\tvalid_0's l2: 1.10582\n",
      "[50]\tvalid_0's l2: 1.10131\n",
      "[60]\tvalid_0's l2: 1.09424\n",
      "[70]\tvalid_0's l2: 1.09318\n",
      "[80]\tvalid_0's l2: 1.09256\n",
      "[90]\tvalid_0's l2: 1.09052\n",
      "[100]\tvalid_0's l2: 1.08879\n",
      "train RMSE: 1.1081616827810201  |  val RMSE: 1.0433827150244657\n",
      "Evaluation time: 0:01:45.793839\n",
      "------------------------------------------------------\n",
      "max_depth: 29\n",
      "[10]\tvalid_0's l2: 1.1254\n",
      "[20]\tvalid_0's l2: 1.11529\n",
      "[30]\tvalid_0's l2: 1.11361\n",
      "[40]\tvalid_0's l2: 1.10582\n",
      "[50]\tvalid_0's l2: 1.10131\n",
      "[60]\tvalid_0's l2: 1.09424\n",
      "[70]\tvalid_0's l2: 1.09318\n",
      "[80]\tvalid_0's l2: 1.09256\n",
      "[90]\tvalid_0's l2: 1.09052\n",
      "[100]\tvalid_0's l2: 1.08879\n",
      "train RMSE: 1.1081616827810201  |  val RMSE: 1.0433827150244657\n",
      "Evaluation time: 0:01:47.069891\n",
      "------------------------------------------------------\n",
      "lags\n",
      "##########################\n",
      "max_depth: 1\n",
      "[10]\tvalid_0's l2: 1.077\n",
      "[20]\tvalid_0's l2: 1.01215\n",
      "[30]\tvalid_0's l2: 0.983657\n",
      "[40]\tvalid_0's l2: 0.966222\n",
      "[50]\tvalid_0's l2: 0.955245\n",
      "[60]\tvalid_0's l2: 0.946318\n",
      "[70]\tvalid_0's l2: 0.939397\n",
      "[80]\tvalid_0's l2: 0.934998\n",
      "[90]\tvalid_0's l2: 0.931909\n",
      "[100]\tvalid_0's l2: 0.929871\n",
      "train RMSE: 0.9286770911373112  |  val RMSE: 0.9642979692327726\n",
      "Evaluation time: 0:00:57.533106\n",
      "------------------------------------------------------\n",
      "max_depth: 2\n",
      "[10]\tvalid_0's l2: 1.01687\n",
      "[20]\tvalid_0's l2: 0.955475\n",
      "[30]\tvalid_0's l2: 0.931333\n",
      "[40]\tvalid_0's l2: 0.921454\n",
      "[50]\tvalid_0's l2: 0.91713\n",
      "[60]\tvalid_0's l2: 0.912691\n",
      "[70]\tvalid_0's l2: 0.911032\n",
      "[80]\tvalid_0's l2: 0.909698\n",
      "[90]\tvalid_0's l2: 0.908351\n",
      "[100]\tvalid_0's l2: 0.907454\n",
      "train RMSE: 0.9130381229287677  |  val RMSE: 0.9525550655839967\n",
      "Evaluation time: 0:00:47.363810\n",
      "------------------------------------------------------\n",
      "max_depth: 3\n",
      "[10]\tvalid_0's l2: 0.986043\n",
      "[20]\tvalid_0's l2: 0.932581\n",
      "[30]\tvalid_0's l2: 0.914513\n",
      "[40]\tvalid_0's l2: 0.906673\n",
      "[50]\tvalid_0's l2: 0.90339\n",
      "[60]\tvalid_0's l2: 0.901284\n",
      "[70]\tvalid_0's l2: 0.899697\n",
      "[80]\tvalid_0's l2: 0.898798\n",
      "[90]\tvalid_0's l2: 0.897313\n",
      "[100]\tvalid_0's l2: 0.894404\n",
      "train RMSE: 0.9017219269174626  |  val RMSE: 0.9457287573625294\n",
      "Evaluation time: 0:00:58.266717\n",
      "------------------------------------------------------\n",
      "max_depth: 4\n",
      "[10]\tvalid_0's l2: 0.970264\n",
      "[20]\tvalid_0's l2: 0.919229\n",
      "[30]\tvalid_0's l2: 0.904373\n",
      "[40]\tvalid_0's l2: 0.898876\n",
      "[50]\tvalid_0's l2: 0.895787\n",
      "[60]\tvalid_0's l2: 0.893407\n",
      "[70]\tvalid_0's l2: 0.891963\n",
      "[80]\tvalid_0's l2: 0.890329\n",
      "[90]\tvalid_0's l2: 0.885925\n",
      "[100]\tvalid_0's l2: 0.881992\n",
      "train RMSE: 0.890444813855867  |  val RMSE: 0.939130212877994\n",
      "Evaluation time: 0:01:10.463330\n",
      "------------------------------------------------------\n",
      "max_depth: 5\n",
      "[10]\tvalid_0's l2: 0.962178\n",
      "[20]\tvalid_0's l2: 0.909733\n",
      "[30]\tvalid_0's l2: 0.897328\n",
      "[40]\tvalid_0's l2: 0.891874\n",
      "[50]\tvalid_0's l2: 0.887985\n",
      "[60]\tvalid_0's l2: 0.885827\n",
      "[70]\tvalid_0's l2: 0.882219\n",
      "[80]\tvalid_0's l2: 0.877187\n",
      "[90]\tvalid_0's l2: 0.875694\n",
      "[100]\tvalid_0's l2: 0.873533\n",
      "train RMSE: 0.8785663674870031  |  val RMSE: 0.9346210052059587\n",
      "Evaluation time: 0:01:22.913003\n",
      "------------------------------------------------------\n",
      "max_depth: 6\n",
      "[10]\tvalid_0's l2: 0.959272\n",
      "[20]\tvalid_0's l2: 0.907901\n",
      "[30]\tvalid_0's l2: 0.895517\n",
      "[40]\tvalid_0's l2: 0.889955\n",
      "[50]\tvalid_0's l2: 0.886396\n",
      "[60]\tvalid_0's l2: 0.884093\n",
      "[70]\tvalid_0's l2: 0.881339\n",
      "[80]\tvalid_0's l2: 0.878738\n",
      "[90]\tvalid_0's l2: 0.877818\n",
      "[100]\tvalid_0's l2: 0.875525\n",
      "train RMSE: 0.8767848533255731  |  val RMSE: 0.9356923978344254\n",
      "Evaluation time: 0:01:17.971208\n",
      "------------------------------------------------------\n",
      "max_depth: 7\n",
      "[10]\tvalid_0's l2: 0.958959\n",
      "[20]\tvalid_0's l2: 0.904302\n",
      "[30]\tvalid_0's l2: 0.890541\n",
      "[40]\tvalid_0's l2: 0.884698\n",
      "[50]\tvalid_0's l2: 0.881593\n",
      "[60]\tvalid_0's l2: 0.88019\n",
      "[70]\tvalid_0's l2: 0.877812\n",
      "[80]\tvalid_0's l2: 0.876775\n",
      "[90]\tvalid_0's l2: 0.874842\n",
      "[100]\tvalid_0's l2: 0.873691\n",
      "train RMSE: 0.8745475306572629  |  val RMSE: 0.934706639579817\n",
      "Evaluation time: 0:01:14.138560\n",
      "------------------------------------------------------\n",
      "max_depth: 8\n",
      "[10]\tvalid_0's l2: 0.9584\n",
      "[20]\tvalid_0's l2: 0.905848\n",
      "[30]\tvalid_0's l2: 0.892414\n",
      "[40]\tvalid_0's l2: 0.888205\n",
      "[50]\tvalid_0's l2: 0.885576\n",
      "[60]\tvalid_0's l2: 0.884477\n",
      "[70]\tvalid_0's l2: 0.882866\n",
      "[80]\tvalid_0's l2: 0.88033\n",
      "[90]\tvalid_0's l2: 0.879249\n",
      "[100]\tvalid_0's l2: 0.873514\n",
      "train RMSE: 0.8737499044011472  |  val RMSE: 0.9346178878875276\n",
      "Evaluation time: 0:01:18.672179\n",
      "------------------------------------------------------\n",
      "max_depth: 9\n",
      "[10]\tvalid_0's l2: 0.959059\n",
      "[20]\tvalid_0's l2: 0.90501\n",
      "[30]\tvalid_0's l2: 0.890834\n",
      "[40]\tvalid_0's l2: 0.885507\n",
      "[50]\tvalid_0's l2: 0.882778\n",
      "[60]\tvalid_0's l2: 0.881894\n",
      "[70]\tvalid_0's l2: 0.88107\n",
      "[80]\tvalid_0's l2: 0.878319\n",
      "[90]\tvalid_0's l2: 0.87726\n",
      "[100]\tvalid_0's l2: 0.876387\n"
     ]
    },
    {
     "name": "stdout",
     "output_type": "stream",
     "text": [
      "train RMSE: 0.8735684931493533  |  val RMSE: 0.9361193097952029\n",
      "Evaluation time: 0:01:14.174894\n",
      "------------------------------------------------------\n",
      "max_depth: 10\n",
      "[10]\tvalid_0's l2: 0.959059\n",
      "[20]\tvalid_0's l2: 0.905964\n",
      "[30]\tvalid_0's l2: 0.891594\n",
      "[40]\tvalid_0's l2: 0.886133\n",
      "[50]\tvalid_0's l2: 0.883381\n",
      "[60]\tvalid_0's l2: 0.879855\n",
      "[70]\tvalid_0's l2: 0.878695\n",
      "[80]\tvalid_0's l2: 0.878068\n",
      "[90]\tvalid_0's l2: 0.877025\n",
      "[100]\tvalid_0's l2: 0.872363\n",
      "train RMSE: 0.872415034021423  |  val RMSE: 0.9340014253537697\n",
      "Evaluation time: 0:01:11.801234\n",
      "------------------------------------------------------\n",
      "max_depth: 11\n",
      "[10]\tvalid_0's l2: 0.959059\n",
      "[20]\tvalid_0's l2: 0.905976\n",
      "[30]\tvalid_0's l2: 0.890007\n",
      "[40]\tvalid_0's l2: 0.884168\n",
      "[50]\tvalid_0's l2: 0.879345\n",
      "[60]\tvalid_0's l2: 0.876539\n",
      "[70]\tvalid_0's l2: 0.874731\n",
      "[80]\tvalid_0's l2: 0.872393\n",
      "[90]\tvalid_0's l2: 0.869664\n",
      "[100]\tvalid_0's l2: 0.869226\n",
      "train RMSE: 0.8717514914662642  |  val RMSE: 0.9322664024261538\n",
      "Evaluation time: 0:01:12.051458\n",
      "------------------------------------------------------\n",
      "max_depth: 12\n",
      "[10]\tvalid_0's l2: 0.959059\n",
      "[20]\tvalid_0's l2: 0.902384\n",
      "[30]\tvalid_0's l2: 0.888105\n",
      "[40]\tvalid_0's l2: 0.882056\n",
      "[50]\tvalid_0's l2: 0.878846\n",
      "[60]\tvalid_0's l2: 0.877963\n",
      "[70]\tvalid_0's l2: 0.875534\n",
      "[80]\tvalid_0's l2: 0.871603\n",
      "[90]\tvalid_0's l2: 0.869144\n",
      "[100]\tvalid_0's l2: 0.864213\n",
      "train RMSE: 0.8715790044026468  |  val RMSE: 0.9296087305380424\n",
      "Evaluation time: 0:01:12.680559\n",
      "------------------------------------------------------\n",
      "max_depth: 13\n",
      "[10]\tvalid_0's l2: 0.959059\n",
      "[20]\tvalid_0's l2: 0.904723\n",
      "[30]\tvalid_0's l2: 0.890016\n",
      "[40]\tvalid_0's l2: 0.883191\n",
      "[50]\tvalid_0's l2: 0.879087\n",
      "[60]\tvalid_0's l2: 0.874914\n",
      "[70]\tvalid_0's l2: 0.874145\n",
      "[80]\tvalid_0's l2: 0.873782\n",
      "[90]\tvalid_0's l2: 0.872897\n",
      "[100]\tvalid_0's l2: 0.870297\n",
      "train RMSE: 0.8704417720602358  |  val RMSE: 0.9328891015594022\n",
      "Evaluation time: 0:01:12.372668\n",
      "------------------------------------------------------\n",
      "max_depth: 14\n",
      "[10]\tvalid_0's l2: 0.959059\n",
      "[20]\tvalid_0's l2: 0.904723\n",
      "[30]\tvalid_0's l2: 0.890259\n",
      "[40]\tvalid_0's l2: 0.883065\n",
      "[50]\tvalid_0's l2: 0.880223\n",
      "[60]\tvalid_0's l2: 0.8768\n",
      "[70]\tvalid_0's l2: 0.875392\n",
      "[80]\tvalid_0's l2: 0.874804\n",
      "[90]\tvalid_0's l2: 0.874164\n",
      "[100]\tvalid_0's l2: 0.868012\n",
      "train RMSE: 0.8698866598851669  |  val RMSE: 0.9316715461055792\n",
      "Evaluation time: 0:01:11.485949\n",
      "------------------------------------------------------\n",
      "max_depth: 15\n",
      "[10]\tvalid_0's l2: 0.959059\n",
      "[20]\tvalid_0's l2: 0.904723\n",
      "[30]\tvalid_0's l2: 0.890259\n",
      "[40]\tvalid_0's l2: 0.883378\n",
      "[50]\tvalid_0's l2: 0.880123\n",
      "[60]\tvalid_0's l2: 0.878134\n",
      "[70]\tvalid_0's l2: 0.877067\n",
      "[80]\tvalid_0's l2: 0.876734\n",
      "[90]\tvalid_0's l2: 0.876014\n",
      "[100]\tvalid_0's l2: 0.872093\n",
      "train RMSE: 0.8702769767213826  |  val RMSE: 0.933857530014582\n",
      "Evaluation time: 0:01:11.508479\n",
      "------------------------------------------------------\n",
      "max_depth: 16\n",
      "[10]\tvalid_0's l2: 0.959059\n",
      "[20]\tvalid_0's l2: 0.904723\n",
      "[30]\tvalid_0's l2: 0.890259\n",
      "[40]\tvalid_0's l2: 0.883724\n",
      "[50]\tvalid_0's l2: 0.880612\n",
      "[60]\tvalid_0's l2: 0.87939\n",
      "[70]\tvalid_0's l2: 0.874361\n",
      "[80]\tvalid_0's l2: 0.873712\n",
      "[90]\tvalid_0's l2: 0.872029\n",
      "[100]\tvalid_0's l2: 0.871614\n",
      "train RMSE: 0.8707172909661417  |  val RMSE: 0.933601312855026\n",
      "Evaluation time: 0:01:10.929419\n",
      "------------------------------------------------------\n",
      "max_depth: 17\n",
      "[10]\tvalid_0's l2: 0.959059\n",
      "[20]\tvalid_0's l2: 0.904723\n",
      "[30]\tvalid_0's l2: 0.890259\n",
      "[40]\tvalid_0's l2: 0.882542\n",
      "[50]\tvalid_0's l2: 0.880095\n",
      "[60]\tvalid_0's l2: 0.877722\n",
      "[70]\tvalid_0's l2: 0.876016\n",
      "[80]\tvalid_0's l2: 0.875523\n",
      "[90]\tvalid_0's l2: 0.870937\n",
      "[100]\tvalid_0's l2: 0.867306\n",
      "train RMSE: 0.8702766496110848  |  val RMSE: 0.9312883714414483\n",
      "Evaluation time: 0:01:11.758695\n",
      "------------------------------------------------------\n",
      "max_depth: 18\n",
      "[10]\tvalid_0's l2: 0.959059\n",
      "[20]\tvalid_0's l2: 0.904723\n",
      "[30]\tvalid_0's l2: 0.890259\n",
      "[40]\tvalid_0's l2: 0.882542\n",
      "[50]\tvalid_0's l2: 0.880095\n",
      "[60]\tvalid_0's l2: 0.877722\n",
      "[70]\tvalid_0's l2: 0.876016\n",
      "[80]\tvalid_0's l2: 0.875419\n",
      "[90]\tvalid_0's l2: 0.873556\n",
      "[100]\tvalid_0's l2: 0.873156\n",
      "train RMSE: 0.8714376670925844  |  val RMSE: 0.9344275646108229\n",
      "Evaluation time: 0:01:11.268156\n",
      "------------------------------------------------------\n",
      "max_depth: 19\n",
      "[10]\tvalid_0's l2: 0.959059\n",
      "[20]\tvalid_0's l2: 0.904723\n",
      "[30]\tvalid_0's l2: 0.890259\n",
      "[40]\tvalid_0's l2: 0.882542\n",
      "[50]\tvalid_0's l2: 0.880095\n",
      "[60]\tvalid_0's l2: 0.877722\n",
      "[70]\tvalid_0's l2: 0.876016\n",
      "[80]\tvalid_0's l2: 0.875521\n",
      "[90]\tvalid_0's l2: 0.873634\n",
      "[100]\tvalid_0's l2: 0.873558\n",
      "train RMSE: 0.8729789400051781  |  val RMSE: 0.9345462251515579\n",
      "Evaluation time: 0:01:09.032814\n",
      "------------------------------------------------------\n",
      "max_depth: 20\n",
      "[10]\tvalid_0's l2: 0.959059\n",
      "[20]\tvalid_0's l2: 0.904723\n",
      "[30]\tvalid_0's l2: 0.890259\n",
      "[40]\tvalid_0's l2: 0.882542\n",
      "[50]\tvalid_0's l2: 0.880095\n",
      "[60]\tvalid_0's l2: 0.877722\n",
      "[70]\tvalid_0's l2: 0.876016\n",
      "[80]\tvalid_0's l2: 0.875521\n",
      "[90]\tvalid_0's l2: 0.873501\n",
      "[100]\tvalid_0's l2: 0.872949\n",
      "train RMSE: 0.8710579789043891  |  val RMSE: 0.9343160526923019\n",
      "Evaluation time: 0:01:12.444012\n",
      "------------------------------------------------------\n",
      "max_depth: 21\n",
      "[10]\tvalid_0's l2: 0.959059\n",
      "[20]\tvalid_0's l2: 0.904723\n",
      "[30]\tvalid_0's l2: 0.890259\n",
      "[40]\tvalid_0's l2: 0.882542\n",
      "[50]\tvalid_0's l2: 0.880095\n",
      "[60]\tvalid_0's l2: 0.877722\n",
      "[70]\tvalid_0's l2: 0.876016\n",
      "[80]\tvalid_0's l2: 0.875521\n",
      "[90]\tvalid_0's l2: 0.873501\n",
      "[100]\tvalid_0's l2: 0.872949\n",
      "train RMSE: 0.8710579789043891  |  val RMSE: 0.9343160526923019\n",
      "Evaluation time: 0:01:11.645049\n",
      "------------------------------------------------------\n",
      "max_depth: 22\n",
      "[10]\tvalid_0's l2: 0.959059\n",
      "[20]\tvalid_0's l2: 0.904723\n",
      "[30]\tvalid_0's l2: 0.890259\n",
      "[40]\tvalid_0's l2: 0.882542\n",
      "[50]\tvalid_0's l2: 0.880095\n",
      "[60]\tvalid_0's l2: 0.877722\n",
      "[70]\tvalid_0's l2: 0.876016\n",
      "[80]\tvalid_0's l2: 0.875521\n",
      "[90]\tvalid_0's l2: 0.873501\n",
      "[100]\tvalid_0's l2: 0.872949\n",
      "train RMSE: 0.8710579789043891  |  val RMSE: 0.9343160526923019\n",
      "Evaluation time: 0:01:11.573283\n",
      "------------------------------------------------------\n",
      "max_depth: 23\n",
      "[10]\tvalid_0's l2: 0.959059\n",
      "[20]\tvalid_0's l2: 0.904723\n",
      "[30]\tvalid_0's l2: 0.890259\n",
      "[40]\tvalid_0's l2: 0.882542\n",
      "[50]\tvalid_0's l2: 0.880095\n",
      "[60]\tvalid_0's l2: 0.877722\n",
      "[70]\tvalid_0's l2: 0.876016\n",
      "[80]\tvalid_0's l2: 0.875521\n",
      "[90]\tvalid_0's l2: 0.873501\n",
      "[100]\tvalid_0's l2: 0.872949\n",
      "train RMSE: 0.8710579789043891  |  val RMSE: 0.9343160526923019\n",
      "Evaluation time: 0:01:10.639116\n",
      "------------------------------------------------------\n",
      "max_depth: 24\n",
      "[10]\tvalid_0's l2: 0.959059\n",
      "[20]\tvalid_0's l2: 0.904723\n",
      "[30]\tvalid_0's l2: 0.890259\n",
      "[40]\tvalid_0's l2: 0.882542\n",
      "[50]\tvalid_0's l2: 0.880095\n",
      "[60]\tvalid_0's l2: 0.877722\n",
      "[70]\tvalid_0's l2: 0.876016\n",
      "[80]\tvalid_0's l2: 0.875521\n",
      "[90]\tvalid_0's l2: 0.873501\n",
      "[100]\tvalid_0's l2: 0.872949\n",
      "train RMSE: 0.8710579789043891  |  val RMSE: 0.9343160526923019\n",
      "Evaluation time: 0:01:11.834988\n",
      "------------------------------------------------------\n",
      "max_depth: 25\n",
      "[10]\tvalid_0's l2: 0.959059\n",
      "[20]\tvalid_0's l2: 0.904723\n",
      "[30]\tvalid_0's l2: 0.890259\n",
      "[40]\tvalid_0's l2: 0.882542\n",
      "[50]\tvalid_0's l2: 0.880095\n",
      "[60]\tvalid_0's l2: 0.877722\n",
      "[70]\tvalid_0's l2: 0.876016\n",
      "[80]\tvalid_0's l2: 0.875521\n",
      "[90]\tvalid_0's l2: 0.873501\n",
      "[100]\tvalid_0's l2: 0.872949\n",
      "train RMSE: 0.8710579789043891  |  val RMSE: 0.9343160526923019\n",
      "Evaluation time: 0:01:10.999448\n",
      "------------------------------------------------------\n",
      "max_depth: 26\n",
      "[10]\tvalid_0's l2: 0.959059\n",
      "[20]\tvalid_0's l2: 0.904723\n",
      "[30]\tvalid_0's l2: 0.890259\n",
      "[40]\tvalid_0's l2: 0.882542\n",
      "[50]\tvalid_0's l2: 0.880095\n",
      "[60]\tvalid_0's l2: 0.877722\n",
      "[70]\tvalid_0's l2: 0.876016\n",
      "[80]\tvalid_0's l2: 0.875521\n",
      "[90]\tvalid_0's l2: 0.873501\n",
      "[100]\tvalid_0's l2: 0.872949\n",
      "train RMSE: 0.8710579789043891  |  val RMSE: 0.9343160526923019\n",
      "Evaluation time: 0:01:11.377107\n",
      "------------------------------------------------------\n",
      "max_depth: 27\n",
      "[10]\tvalid_0's l2: 0.959059\n",
      "[20]\tvalid_0's l2: 0.904723\n",
      "[30]\tvalid_0's l2: 0.890259\n",
      "[40]\tvalid_0's l2: 0.882542\n",
      "[50]\tvalid_0's l2: 0.880095\n",
      "[60]\tvalid_0's l2: 0.877722\n",
      "[70]\tvalid_0's l2: 0.876016\n",
      "[80]\tvalid_0's l2: 0.875521\n",
      "[90]\tvalid_0's l2: 0.873501\n",
      "[100]\tvalid_0's l2: 0.872949\n",
      "train RMSE: 0.8710579789043891  |  val RMSE: 0.9343160526923019\n",
      "Evaluation time: 0:01:10.891433\n",
      "------------------------------------------------------\n",
      "max_depth: 28\n",
      "[10]\tvalid_0's l2: 0.959059\n"
     ]
    },
    {
     "name": "stdout",
     "output_type": "stream",
     "text": [
      "[20]\tvalid_0's l2: 0.904723\n",
      "[30]\tvalid_0's l2: 0.890259\n",
      "[40]\tvalid_0's l2: 0.882542\n",
      "[50]\tvalid_0's l2: 0.880095\n",
      "[60]\tvalid_0's l2: 0.877722\n",
      "[70]\tvalid_0's l2: 0.876016\n",
      "[80]\tvalid_0's l2: 0.875521\n",
      "[90]\tvalid_0's l2: 0.873501\n",
      "[100]\tvalid_0's l2: 0.872949\n",
      "train RMSE: 0.8710579789043891  |  val RMSE: 0.9343160526923019\n",
      "Evaluation time: 0:01:10.401875\n",
      "------------------------------------------------------\n",
      "max_depth: 29\n",
      "[10]\tvalid_0's l2: 0.959059\n",
      "[20]\tvalid_0's l2: 0.904723\n",
      "[30]\tvalid_0's l2: 0.890259\n",
      "[40]\tvalid_0's l2: 0.882542\n",
      "[50]\tvalid_0's l2: 0.880095\n",
      "[60]\tvalid_0's l2: 0.877722\n",
      "[70]\tvalid_0's l2: 0.876016\n",
      "[80]\tvalid_0's l2: 0.875521\n",
      "[90]\tvalid_0's l2: 0.873501\n",
      "[100]\tvalid_0's l2: 0.872949\n",
      "train RMSE: 0.8710579789043891  |  val RMSE: 0.9343160526923019\n",
      "Evaluation time: 0:01:12.841788\n",
      "------------------------------------------------------\n",
      "lags and target encoding\n",
      "##########################\n",
      "max_depth: 1\n",
      "[10]\tvalid_0's l2: 1.07586\n",
      "[20]\tvalid_0's l2: 1.02502\n",
      "[30]\tvalid_0's l2: 1.0111\n",
      "[40]\tvalid_0's l2: 1.01612\n",
      "[50]\tvalid_0's l2: 1.01891\n",
      "train RMSE: 0.9378332838957124  |  val RMSE: 1.0039270821510242\n",
      "Evaluation time: 0:00:26.463659\n",
      "------------------------------------------------------\n",
      "max_depth: 2\n",
      "[10]\tvalid_0's l2: 1.02639\n",
      "[20]\tvalid_0's l2: 1.00303\n",
      "[30]\tvalid_0's l2: 1.00741\n",
      "[40]\tvalid_0's l2: 1.01661\n",
      "train RMSE: 0.9211887769613394  |  val RMSE: 1.0002163784900948\n",
      "Evaluation time: 0:00:24.388128\n",
      "------------------------------------------------------\n",
      "max_depth: 3\n",
      "[10]\tvalid_0's l2: 1.00966\n",
      "[20]\tvalid_0's l2: 0.990344\n",
      "[30]\tvalid_0's l2: 0.997738\n",
      "train RMSE: 0.9126350214068024  |  val RMSE: 0.9948969786253765\n",
      "Evaluation time: 0:00:28.085020\n",
      "------------------------------------------------------\n",
      "max_depth: 4\n",
      "[10]\tvalid_0's l2: 1.00741\n",
      "[20]\tvalid_0's l2: 0.998822\n",
      "[30]\tvalid_0's l2: 1.01149\n",
      "train RMSE: 0.909702256305441  |  val RMSE: 0.9973783300586889\n",
      "Evaluation time: 0:00:28.868610\n",
      "------------------------------------------------------\n",
      "max_depth: 5\n",
      "[10]\tvalid_0's l2: 0.997059\n",
      "[20]\tvalid_0's l2: 0.987233\n",
      "[30]\tvalid_0's l2: 1.00544\n",
      "train RMSE: 0.8963293312629261  |  val RMSE: 0.991720265211651\n",
      "Evaluation time: 0:00:29.315772\n",
      "------------------------------------------------------\n",
      "max_depth: 6\n",
      "[10]\tvalid_0's l2: 0.997511\n",
      "[20]\tvalid_0's l2: 0.990717\n",
      "[30]\tvalid_0's l2: 1.00291\n",
      "train RMSE: 0.8932328763722943  |  val RMSE: 0.9933569607243835\n",
      "Evaluation time: 0:00:31.304064\n",
      "------------------------------------------------------\n",
      "max_depth: 7\n",
      "[10]\tvalid_0's l2: 0.998017\n",
      "[20]\tvalid_0's l2: 0.987835\n",
      "[30]\tvalid_0's l2: 0.997001\n",
      "train RMSE: 0.8949734223270321  |  val RMSE: 0.9926821025554897\n",
      "Evaluation time: 0:00:35.123961\n",
      "------------------------------------------------------\n",
      "max_depth: 8\n",
      "[10]\tvalid_0's l2: 1.00009\n",
      "[20]\tvalid_0's l2: 0.988863\n",
      "[30]\tvalid_0's l2: 0.998854\n",
      "train RMSE: 0.8934412506084707  |  val RMSE: 0.9935465396234449\n",
      "Evaluation time: 0:00:28.909674\n",
      "------------------------------------------------------\n",
      "max_depth: 9\n",
      "[10]\tvalid_0's l2: 0.998954\n",
      "[20]\tvalid_0's l2: 0.986435\n",
      "[30]\tvalid_0's l2: 0.99235\n",
      "train RMSE: 0.8925819270248431  |  val RMSE: 0.9923496101982973\n",
      "Evaluation time: 0:00:29.491455\n",
      "------------------------------------------------------\n",
      "max_depth: 10\n",
      "[10]\tvalid_0's l2: 0.999041\n",
      "[20]\tvalid_0's l2: 0.987554\n",
      "[30]\tvalid_0's l2: 0.991302\n",
      "train RMSE: 0.892185770107757  |  val RMSE: 0.9922425494213579\n",
      "Evaluation time: 0:00:34.023133\n",
      "------------------------------------------------------\n",
      "max_depth: 11\n",
      "[10]\tvalid_0's l2: 0.999041\n",
      "[20]\tvalid_0's l2: 0.985701\n",
      "[30]\tvalid_0's l2: 0.991688\n",
      "train RMSE: 0.8925288153169018  |  val RMSE: 0.9912675406729393\n",
      "Evaluation time: 0:00:29.384741\n",
      "------------------------------------------------------\n",
      "max_depth: 12\n",
      "[10]\tvalid_0's l2: 0.999041\n",
      "[20]\tvalid_0's l2: 0.982987\n",
      "[30]\tvalid_0's l2: 0.990404\n",
      "train RMSE: 0.8853966088181543  |  val RMSE: 0.9910185615498937\n",
      "Evaluation time: 0:00:32.951907\n",
      "------------------------------------------------------\n",
      "max_depth: 13\n",
      "[10]\tvalid_0's l2: 0.999041\n",
      "[20]\tvalid_0's l2: 0.983901\n",
      "[30]\tvalid_0's l2: 0.988287\n",
      "train RMSE: 0.8887675344156186  |  val RMSE: 0.9913264888337728\n",
      "Evaluation time: 0:00:32.584785\n",
      "------------------------------------------------------\n",
      "max_depth: 14\n",
      "[10]\tvalid_0's l2: 0.999041\n",
      "[20]\tvalid_0's l2: 0.983901\n",
      "[30]\tvalid_0's l2: 0.989716\n",
      "train RMSE: 0.8887675344156186  |  val RMSE: 0.9913264888337728\n",
      "Evaluation time: 0:00:29.228005\n",
      "------------------------------------------------------\n",
      "max_depth: 15\n",
      "[10]\tvalid_0's l2: 0.999041\n",
      "[20]\tvalid_0's l2: 0.983901\n",
      "[30]\tvalid_0's l2: 0.989618\n",
      "train RMSE: 0.8887675344156186  |  val RMSE: 0.9913264888337728\n",
      "Evaluation time: 0:00:29.721141\n",
      "------------------------------------------------------\n",
      "max_depth: 16\n",
      "[10]\tvalid_0's l2: 0.999041\n",
      "[20]\tvalid_0's l2: 0.983901\n",
      "[30]\tvalid_0's l2: 0.989816\n",
      "train RMSE: 0.8887675344156186  |  val RMSE: 0.9913264888337728\n",
      "Evaluation time: 0:00:32.605856\n",
      "------------------------------------------------------\n",
      "max_depth: 17\n",
      "[10]\tvalid_0's l2: 0.999041\n",
      "[20]\tvalid_0's l2: 0.983901\n",
      "[30]\tvalid_0's l2: 0.989847\n",
      "train RMSE: 0.8887675344156186  |  val RMSE: 0.9913264888337728\n",
      "Evaluation time: 0:00:32.674980\n",
      "------------------------------------------------------\n",
      "max_depth: 18\n",
      "[10]\tvalid_0's l2: 0.999041\n",
      "[20]\tvalid_0's l2: 0.983901\n",
      "[30]\tvalid_0's l2: 0.989847\n",
      "train RMSE: 0.8887675344156186  |  val RMSE: 0.9913264888337728\n",
      "Evaluation time: 0:00:29.522983\n",
      "------------------------------------------------------\n",
      "max_depth: 19\n",
      "[10]\tvalid_0's l2: 0.999041\n",
      "[20]\tvalid_0's l2: 0.983901\n",
      "[30]\tvalid_0's l2: 0.989847\n",
      "train RMSE: 0.8887675344156186  |  val RMSE: 0.9913264888337728\n",
      "Evaluation time: 0:00:30.254925\n",
      "------------------------------------------------------\n",
      "max_depth: 20\n",
      "[10]\tvalid_0's l2: 0.999041\n",
      "[20]\tvalid_0's l2: 0.983901\n",
      "[30]\tvalid_0's l2: 0.989847\n",
      "train RMSE: 0.8887675344156186  |  val RMSE: 0.9913264888337728\n",
      "Evaluation time: 0:00:29.490059\n",
      "------------------------------------------------------\n",
      "max_depth: 21\n",
      "[10]\tvalid_0's l2: 0.999041\n",
      "[20]\tvalid_0's l2: 0.983901\n",
      "[30]\tvalid_0's l2: 0.989847\n",
      "train RMSE: 0.8887675344156186  |  val RMSE: 0.9913264888337728\n",
      "Evaluation time: 0:00:34.471351\n",
      "------------------------------------------------------\n",
      "max_depth: 22\n",
      "[10]\tvalid_0's l2: 0.999041\n",
      "[20]\tvalid_0's l2: 0.983901\n",
      "[30]\tvalid_0's l2: 0.989847\n",
      "train RMSE: 0.8887675344156186  |  val RMSE: 0.9913264888337728\n",
      "Evaluation time: 0:00:32.718013\n",
      "------------------------------------------------------\n",
      "max_depth: 23\n",
      "[10]\tvalid_0's l2: 0.999041\n",
      "[20]\tvalid_0's l2: 0.983901\n",
      "[30]\tvalid_0's l2: 0.989847\n",
      "train RMSE: 0.8887675344156186  |  val RMSE: 0.9913264888337728\n",
      "Evaluation time: 0:00:30.208233\n",
      "------------------------------------------------------\n",
      "max_depth: 24\n",
      "[10]\tvalid_0's l2: 0.999041\n",
      "[20]\tvalid_0's l2: 0.983901\n",
      "[30]\tvalid_0's l2: 0.989847\n",
      "train RMSE: 0.8887675344156186  |  val RMSE: 0.9913264888337728\n",
      "Evaluation time: 0:00:29.404057\n",
      "------------------------------------------------------\n",
      "max_depth: 25\n",
      "[10]\tvalid_0's l2: 0.999041\n",
      "[20]\tvalid_0's l2: 0.983901\n",
      "[30]\tvalid_0's l2: 0.989847\n",
      "train RMSE: 0.8887675344156186  |  val RMSE: 0.9913264888337728\n",
      "Evaluation time: 0:00:32.342575\n",
      "------------------------------------------------------\n",
      "max_depth: 26\n",
      "[10]\tvalid_0's l2: 0.999041\n",
      "[20]\tvalid_0's l2: 0.983901\n",
      "[30]\tvalid_0's l2: 0.989847\n",
      "train RMSE: 0.8887675344156186  |  val RMSE: 0.9913264888337728\n",
      "Evaluation time: 0:00:32.422484\n",
      "------------------------------------------------------\n",
      "max_depth: 27\n",
      "[10]\tvalid_0's l2: 0.999041\n",
      "[20]\tvalid_0's l2: 0.983901\n",
      "[30]\tvalid_0's l2: 0.989847\n",
      "train RMSE: 0.8887675344156186  |  val RMSE: 0.9913264888337728\n",
      "Evaluation time: 0:00:29.366908\n",
      "------------------------------------------------------\n",
      "max_depth: 28\n",
      "[10]\tvalid_0's l2: 0.999041\n",
      "[20]\tvalid_0's l2: 0.983901\n",
      "[30]\tvalid_0's l2: 0.989847\n",
      "train RMSE: 0.8887675344156186  |  val RMSE: 0.9913264888337728\n",
      "Evaluation time: 0:00:29.704943\n",
      "------------------------------------------------------\n",
      "max_depth: 29\n",
      "[10]\tvalid_0's l2: 0.999041\n",
      "[20]\tvalid_0's l2: 0.983901\n",
      "[30]\tvalid_0's l2: 0.989847\n",
      "train RMSE: 0.8887675344156186  |  val RMSE: 0.9913264888337728\n",
      "Evaluation time: 0:00:29.926630\n",
      "------------------------------------------------------\n"
     ]
    }
   ],
   "source": [
    "for case in cases:\n",
    "    \n",
    "    print(case)\n",
    "    print('##########################')\n",
    "    \n",
    "    model_info = all_models_info[case]\n",
    "    \n",
    "    X_train = datasets[case]['X_train']\n",
    "    y_train = datasets[case]['y_train']\n",
    "    X_val = datasets[case]['X_val']\n",
    "    y_val = datasets[case]['y_val']\n",
    "    \n",
    "    for max_depth in max_depths:\n",
    "        \n",
    "        start = datetime.datetime.now()\n",
    "        model_info['tuned_parameters'] = max_depths\n",
    "        \n",
    "        print('max_depth:', max_depth)\n",
    "        lgbm = LGBMRegressor(max_depth=max_depth)\n",
    "        lgbm.fit(X_train,\n",
    "                 y_train,\n",
    "                 eval_set=[(X_val, y_val)],\n",
    "                 eval_metric='l2',\n",
    "                 early_stopping_rounds=20,\n",
    "                 verbose=-1,\n",
    "                 feature_name=X_train.columns.to_list(),\n",
    "                 categorical_feature=cat_features[case])\n",
    "        \n",
    "        model_info['best_iterations'].append(lgbm.best_iteration_)\n",
    "        model_info['train_scores'].append(RMSE(y_train, lgbm.predict(X_train).clip(0, 20)))\n",
    "        model_info['val_scores'].append(RMSE(y_val, lgbm.predict(X_val).clip(0, 20)))\n",
    "        model_info['eval_times'].append(datetime.datetime.now() - start)\n",
    "        model_info['feature_importances'].append(\n",
    "            list(zip(X_train.columns, lgbm.feature_importances_)))\n",
    "        \n",
    "        print('train RMSE:', model_info['train_scores'][-1], ' | ',\n",
    "              'val RMSE:', model_info['val_scores'][-1])\n",
    "        print('Evaluation time:', model_info['eval_times'][-1])\n",
    "        print('------------------------------------------------------')"
   ]
  },
  {
   "cell_type": "markdown",
   "id": "subjective-celebrity",
   "metadata": {},
   "source": [
    "The graphics of train and validation scores"
   ]
  },
  {
   "cell_type": "code",
   "execution_count": 245,
   "id": "intense-republican",
   "metadata": {
    "ExecuteTime": {
     "end_time": "2021-10-27T07:40:47.106393Z",
     "start_time": "2021-10-27T07:40:42.241341Z"
    }
   },
   "outputs": [
    {
     "data": {
      "image/png": "[encoded data removed]",
      "text/plain": [
       "<Figure size 792x432 with 1 Axes>"
      ]
     },
     "metadata": {
      "needs_background": "light"
     },
     "output_type": "display_data"
    },
    {
     "data": {
      "image/png": "[encoded data removed]",
      "text/plain": [
       "<Figure size 792x432 with 1 Axes>"
      ]
     },
     "metadata": {
      "needs_background": "light"
     },
     "output_type": "display_data"
    },
    {
     "data": {
      "image/png": "[encoded data removed]",
      "text/plain": [
       "<Figure size 792x432 with 1 Axes>"
      ]
     },
     "metadata": {
      "needs_background": "light"
     },
     "output_type": "display_data"
    }
   ],
   "source": [
    "for i, case in enumerate(cases):\n",
    "    model_info = all_models_info[case]\n",
    "    \n",
    "    plt.figure(figsize=(11, 6))\n",
    "    plt.plot(model_info['tuned_parameters'], model_info['val_scores'])\n",
    "    plt.plot(model_info['tuned_parameters'], model_info['train_scores'])\n",
    "    plt.legend(['val scores', 'train scores'])\n",
    "    plt.xlabel('max_depth')\n",
    "    plt.ylabel('roc_auc score')\n",
    "    plt.xticks(ticks=max_depths, labels=max_depths)\n",
    "    plt.title(case)\n",
    "    plt.show()"
   ]
  },
  {
   "cell_type": "code",
   "execution_count": 281,
   "id": "minute-beach",
   "metadata": {
    "ExecuteTime": {
     "end_time": "2021-10-27T08:50:17.613788Z",
     "start_time": "2021-10-27T08:50:17.180495Z"
    }
   },
   "outputs": [
    {
     "data": {
      "image/png": "[encoded data removed]",
      "text/plain": [
       "<Figure size 432x288 with 1 Axes>"
      ]
     },
     "metadata": {
      "needs_background": "light"
     },
     "output_type": "display_data"
    }
   ],
   "source": [
    "rmses = [max(all_models_info[case]['val_scores']) for case in cases]\n",
    "plt.bar(x=cases, height=rmses, width=0.5)\n",
    "plt.ylabel('rmse')\n",
    "plt.title('rmse of best models')\n",
    "for i, rmse in enumerate(rmses):\n",
    "    plt.text(i-0.15, rmse + 0.01, str(round(rmse, 5)))\n",
    "plt.show()"
   ]
  },
  {
   "cell_type": "markdown",
   "id": "covered-consultation",
   "metadata": {},
   "source": [
    "As you can see the best model is the model for dataset with lag features. The encoded features increased the rmse. So in this case they just make noise."
   ]
  },
  {
   "cell_type": "code",
   "execution_count": 246,
   "id": "irish-thesaurus",
   "metadata": {
    "ExecuteTime": {
     "end_time": "2021-10-27T07:41:05.605566Z",
     "start_time": "2021-10-27T07:41:02.972938Z"
    },
    "scrolled": false
   },
   "outputs": [
    {
     "data": {
      "image/png": "[encoded data removed]",
      "text/plain": [
       "<Figure size 792x172.8 with 1 Axes>"
      ]
     },
     "metadata": {
      "needs_background": "light"
     },
     "output_type": "display_data"
    },
    {
     "data": {
      "image/png": "[encoded data removed]",
      "text/plain": [
       "<Figure size 792x518.4 with 1 Axes>"
      ]
     },
     "metadata": {
      "needs_background": "light"
     },
     "output_type": "display_data"
    },
    {
     "data": {
      "image/png": "[encoded data removed]",
      "text/plain": [
       "<Figure size 792x604.8 with 1 Axes>"
      ]
     },
     "metadata": {
      "needs_background": "light"
     },
     "output_type": "display_data"
    }
   ],
   "source": [
    "for case in cases:\n",
    "    model_info = all_models_info[case]\n",
    "    index_min = np.argmin(model_info['val_scores'])\n",
    "    fis = dict(model_info['feature_importances'][index_min])\n",
    "    \n",
    "    plt.figure(figsize=(11, 0.4 * len(fis)))\n",
    "    plt.barh(y=list(fis.keys()), width=np.array(list(fis.values())) / sum(fis.values()), )\n",
    "    plt.title(case)\n",
    "    plt.xlabel('importance')\n",
    "    plt.show()"
   ]
  },
  {
   "cell_type": "markdown",
   "id": "relative-hazard",
   "metadata": {},
   "source": [
    "The **date_block_num**, **category** and **shop_name** features have the highest importance among non-lag and non-encoded features. The **encoded_item_id** and **encoded_shop_id** features have the highest importance among encoded features. The importance of lag features decreases inversely to its remoteness from the current month. The models fitted using the lag features have less rmse than without them. So they are important for training. The **shop_type** and **shop_name** after encoding have zero importance. It might be the reason of increasing rmse - they might be noise features."
   ]
  },
  {
   "cell_type": "markdown",
   "id": "normal-content",
   "metadata": {},
   "source": [
    "# Submission"
   ]
  },
  {
   "cell_type": "code",
   "execution_count": 254,
   "id": "heated-equation",
   "metadata": {
    "ExecuteTime": {
     "end_time": "2021-10-27T08:05:05.870652Z",
     "start_time": "2021-10-27T08:05:05.839552Z"
    }
   },
   "outputs": [],
   "source": [
    "import glob\n",
    "import re\n",
    "\n",
    "def submit(y_predicted):\n",
    "    my_submissions_paths = glob.glob('./data/my_submission_*.csv')\n",
    "    nums = [int(re.findall(r'\\d+', filepath)[0]) for filepath in my_submissions_paths]\n",
    "    n = max(nums) + 1\n",
    "    submission = pd.read_csv('data/sample_submission.csv')\n",
    "    submission.item_cnt_month = y_predicted\n",
    "    submission.to_csv(f'data/my_submission_{n}.csv', index=None)\n",
    "    return f'data/my_submission_{n}.csv'"
   ]
  },
  {
   "cell_type": "markdown",
   "id": "understanding-firewall",
   "metadata": {},
   "source": [
    "For all previous cases I will submit the results just to see the full result of training.  \n",
    "Also in all cases I choose the **max_depth** parameter that minimizes the score on validation dataset.  \n",
    "As I saved all best iterations to variables *best_iterations_\\{basic|lags|full\\}* I will use it to set the **n_estimators** parameter."
   ]
  },
  {
   "cell_type": "code",
   "execution_count": 273,
   "id": "sunrise-antique",
   "metadata": {
    "ExecuteTime": {
     "end_time": "2021-10-27T08:19:30.483717Z",
     "start_time": "2021-10-27T08:17:03.463445Z"
    }
   },
   "outputs": [
    {
     "name": "stdout",
     "output_type": "stream",
     "text": [
      "basic\n",
      "submission file: data/my_submission_25.csv\n",
      "\n",
      "##########################\n",
      "\n",
      "lags\n",
      "submission file: data/my_submission_26.csv\n",
      "\n",
      "##########################\n",
      "\n",
      "lags and target encoding\n",
      "submission file: data/my_submission_27.csv\n",
      "\n",
      "##########################\n",
      "\n"
     ]
    }
   ],
   "source": [
    "for case in cases:\n",
    "    \n",
    "    print(case)\n",
    "    \n",
    "    model_datasets = datasets[case]\n",
    "    model_info = all_models_info[case]\n",
    "    \n",
    "    X_final_train = model_datasets['X_submission_train']\n",
    "    y_final_train = model_datasets['y_submission_train']\n",
    "    X_test = model_datasets['X_test']\n",
    "    \n",
    "    min_score_index = np.argmin(model_info['val_scores'])\n",
    "    best_max_depth = model_info['tuned_parameters'][min_score_index]\n",
    "    best_n_estimators = model_info['best_iterations'][min_score_index]\n",
    "    \n",
    "    best_lgbm = LGBMRegressor(\n",
    "        n_estimators=best_n_estimators,\n",
    "        max_depth=best_max_depth\n",
    "    )\n",
    "    best_lgbm.fit(X_final_train, y_final_train)\n",
    "\n",
    "    print('submission file:', submit(best_lgbm.predict(X_test).clip(0, 20)))\n",
    "    print('\\n##########################\\n')"
   ]
  },
  {
   "cell_type": "markdown",
   "id": "threaded-premium",
   "metadata": {},
   "source": [
    "Basic score: 1.10808  \n",
    "Lags score: 1.00452  \n",
    "Lags and target encoding score: 1.04549"
   ]
  },
  {
   "cell_type": "markdown",
   "id": "progressive-gregory",
   "metadata": {},
   "source": [
    "All scores are a bit greater than validation scores. But they are in same order as validation scores.  \n",
    "As adding target encoding increases the rmse it disturbs the prediction."
   ]
  }
 ],
 "metadata": {
  "kernelspec": {
   "display_name": "Python 3",
   "language": "python",
   "name": "python3"
  },
  "language_info": {
   "codemirror_mode": {
    "name": "ipython",
    "version": 3
   },
   "file_extension": ".py",
   "mimetype": "text/x-python",
   "name": "python",
   "nbconvert_exporter": "python",
   "pygments_lexer": "ipython3",
   "version": "3.9.0"
  },
  "toc": {
   "base_numbering": 1,
   "nav_menu": {},
   "number_sections": true,
   "sideBar": true,
   "skip_h1_title": false,
   "title_cell": "Table of Contents",
   "title_sidebar": "Contents",
   "toc_cell": false,
   "toc_position": {
    "height": "calc(100% - 180px)",
    "left": "10px",
    "top": "150px",
    "width": "273.188px"
   },
   "toc_section_display": true,
   "toc_window_display": true
  }
 },
 "nbformat": 4,
 "nbformat_minor": 5
}
