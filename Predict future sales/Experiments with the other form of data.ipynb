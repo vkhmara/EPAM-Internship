{
 "cells": [
  {
   "cell_type": "code",
   "execution_count": 1,
   "id": "postal-ticket",
   "metadata": {
    "ExecuteTime": {
     "end_time": "2021-10-20T20:12:58.448700Z",
     "start_time": "2021-10-20T20:12:50.845546Z"
    }
   },
   "outputs": [],
   "source": [
    "import numpy as np\n",
    "import pandas as pd\n",
    "import datetime\n",
    "import matplotlib.pyplot as plt\n",
    "from itertools import product\n",
    "from lightgbm import LGBMRegressor\n",
    "\n",
    "def RMSE(series_true, series_predicted):\n",
    "    return sum((series_true - series_predicted)**2 / len(series_true))**0.5"
   ]
  },
  {
   "cell_type": "markdown",
   "id": "color-acquisition",
   "metadata": {},
   "source": [
    "# Read data and change types"
   ]
  },
  {
   "cell_type": "markdown",
   "id": "million-recycling",
   "metadata": {},
   "source": [
    "Here I read train and test tables which don't have lag features and features that are encoded via target encoding "
   ]
  },
  {
   "cell_type": "code",
   "execution_count": 2,
   "id": "intended-anxiety",
   "metadata": {
    "ExecuteTime": {
     "end_time": "2021-10-20T20:13:17.142498Z",
     "start_time": "2021-10-20T20:12:58.448700Z"
    }
   },
   "outputs": [],
   "source": [
    "X_basic = pd.read_csv('data/X_without_lags_and_target_encoding.csv')\n",
    "y_basic = pd.read_csv('data/y_without_lags_and_target_encoding.csv').item_cnt\n",
    "X_test_basic = pd.read_csv('data/test_without_lags_and_target_encoding.csv')"
   ]
  },
  {
   "cell_type": "code",
   "execution_count": 3,
   "id": "possible-driving",
   "metadata": {
    "ExecuteTime": {
     "end_time": "2021-10-20T20:13:17.285139Z",
     "start_time": "2021-10-20T20:13:17.142498Z"
    },
    "scrolled": true
   },
   "outputs": [
    {
     "name": "stdout",
     "output_type": "stream",
     "text": [
      "<class 'pandas.core.frame.DataFrame'>\n",
      "RangeIndex: 10913850 entries, 0 to 10913849\n",
      "Data columns (total 9 columns):\n",
      " #   Column            Dtype\n",
      "---  ------            -----\n",
      " 0   date_block_num    int64\n",
      " 1   shop_id           int64\n",
      " 2   item_id           int64\n",
      " 3   item_category_id  int64\n",
      " 4   super_category    int64\n",
      " 5   category          int64\n",
      " 6   city              int64\n",
      " 7   shop_type         int64\n",
      " 8   shop_name         int64\n",
      "dtypes: int64(9)\n",
      "memory usage: 749.4 MB\n"
     ]
    }
   ],
   "source": [
    "X_basic.info()"
   ]
  },
  {
   "cell_type": "markdown",
   "id": "approximate-interim",
   "metadata": {},
   "source": [
    "**date_block_num** - the serial number of month since the January, 2013.  \n",
    "**shop_id** - the id of shop. Ranges from 0 to 59.  \n",
    "**item_id** - the id of item. Ranges from 0 to 22169.  \n",
    "**item_category_id** - the id of category. Ranges from 0 to 83.  \n",
    "  \n",
    "All item categories are splitted into super and simple category.  \n",
    "**super_category** - the id of super category. Ranges from 0 to 14.  \n",
    "**category** - the id of simple category. Ranges from 0 to 66.  \n",
    "  \n",
    "All shop names contain the city, type and name of shops.  \n",
    "**city** - the id of city. Ranges from 0 to 28.  \n",
    "**shop_type** - the id of shop type. Ranges from 0 to 8.  \n",
    "**shop_name** - the id of shop name. Ranges from 0 to 50."
   ]
  },
  {
   "cell_type": "markdown",
   "id": "hired-bleeding",
   "metadata": {},
   "source": [
    "The memory is relatively high. So I change the types of all the features."
   ]
  },
  {
   "cell_type": "code",
   "execution_count": 4,
   "id": "christian-kinase",
   "metadata": {
    "ExecuteTime": {
     "end_time": "2021-10-20T20:13:17.316088Z",
     "start_time": "2021-10-20T20:13:17.296124Z"
    }
   },
   "outputs": [],
   "source": [
    "types = {\n",
    "    'date_block_num': 'int8',\n",
    "    'shop_id': 'int8',\n",
    "    'item_id': 'int16',\n",
    "    'item_category_id': 'int8',\n",
    "    'super_category': 'int8',\n",
    "    'category': 'int8',\n",
    "    'city': 'int8',\n",
    "    'shop_type': 'int8',\n",
    "    'shop_name': 'int8'\n",
    "}"
   ]
  },
  {
   "cell_type": "code",
   "execution_count": 5,
   "id": "listed-belief",
   "metadata": {
    "ExecuteTime": {
     "end_time": "2021-10-20T20:13:18.131946Z",
     "start_time": "2021-10-20T20:13:17.327075Z"
    }
   },
   "outputs": [],
   "source": [
    "X_basic = X_basic.astype(types)\n",
    "X_test_basic = X_test_basic.astype(types)"
   ]
  },
  {
   "cell_type": "code",
   "execution_count": 6,
   "id": "freelance-snapshot",
   "metadata": {
    "ExecuteTime": {
     "end_time": "2021-10-20T20:13:18.179284Z",
     "start_time": "2021-10-20T20:13:18.131946Z"
    }
   },
   "outputs": [
    {
     "name": "stdout",
     "output_type": "stream",
     "text": [
      "<class 'pandas.core.frame.DataFrame'>\n",
      "RangeIndex: 10913850 entries, 0 to 10913849\n",
      "Data columns (total 9 columns):\n",
      " #   Column            Dtype\n",
      "---  ------            -----\n",
      " 0   date_block_num    int8 \n",
      " 1   shop_id           int8 \n",
      " 2   item_id           int16\n",
      " 3   item_category_id  int8 \n",
      " 4   super_category    int8 \n",
      " 5   category          int8 \n",
      " 6   city              int8 \n",
      " 7   shop_type         int8 \n",
      " 8   shop_name         int8 \n",
      "dtypes: int16(1), int8(8)\n",
      "memory usage: 104.1 MB\n"
     ]
    }
   ],
   "source": [
    "X_basic.info()"
   ]
  },
  {
   "cell_type": "markdown",
   "id": "alpha-flexibility",
   "metadata": {},
   "source": [
    "As you can see the memory size has decreased by 7 times!"
   ]
  },
  {
   "cell_type": "markdown",
   "id": "generic-trust",
   "metadata": {},
   "source": [
    "Creating the train and valid datasets."
   ]
  },
  {
   "cell_type": "code",
   "execution_count": 7,
   "id": "latter-parks",
   "metadata": {
    "ExecuteTime": {
     "end_time": "2021-10-20T20:13:20.327382Z",
     "start_time": "2021-10-20T20:13:18.188278Z"
    }
   },
   "outputs": [],
   "source": [
    "X_train_basic = X_basic[X_basic.date_block_num < 33]\n",
    "y_train_basic = y_basic[X_basic.date_block_num < 33]\n",
    "\n",
    "X_val_basic = X_basic[X_basic.date_block_num == 33]\n",
    "y_val_basic = y_basic[X_basic.date_block_num == 33]"
   ]
  },
  {
   "cell_type": "markdown",
   "id": "medical-grove",
   "metadata": {},
   "source": [
    "Here I read train and test tables which have lag features but don't have features that are encoded via target encoding "
   ]
  },
  {
   "cell_type": "code",
   "execution_count": 8,
   "id": "stock-medicine",
   "metadata": {
    "ExecuteTime": {
     "end_time": "2021-10-20T20:13:51.977122Z",
     "start_time": "2021-10-20T20:13:20.327382Z"
    }
   },
   "outputs": [],
   "source": [
    "X_lags = pd.read_csv('data/X_without_target_encoding.csv')\n",
    "y_lags = pd.read_csv('data/y_without_target_encoding.csv').item_cnt\n",
    "X_test_lags = pd.read_csv('data/test_without_target_encoding.csv')"
   ]
  },
  {
   "cell_type": "code",
   "execution_count": 9,
   "id": "floppy-appeal",
   "metadata": {
    "ExecuteTime": {
     "end_time": "2021-10-20T20:13:52.194940Z",
     "start_time": "2021-10-20T20:13:52.033368Z"
    }
   },
   "outputs": [
    {
     "name": "stdout",
     "output_type": "stream",
     "text": [
      "<class 'pandas.core.frame.DataFrame'>\n",
      "RangeIndex: 6425094 entries, 0 to 6425093\n",
      "Data columns (total 21 columns):\n",
      " #   Column            Dtype\n",
      "---  ------            -----\n",
      " 0   date_block_num    int64\n",
      " 1   shop_id           int64\n",
      " 2   item_id           int64\n",
      " 3   item_category_id  int64\n",
      " 4   super_category    int64\n",
      " 5   category          int64\n",
      " 6   city              int64\n",
      " 7   shop_type         int64\n",
      " 8   shop_name         int64\n",
      " 9   item_cnt_lag1     int64\n",
      " 10  item_cnt_lag2     int64\n",
      " 11  item_cnt_lag3     int64\n",
      " 12  item_cnt_lag4     int64\n",
      " 13  item_cnt_lag5     int64\n",
      " 14  item_cnt_lag6     int64\n",
      " 15  item_cnt_lag7     int64\n",
      " 16  item_cnt_lag8     int64\n",
      " 17  item_cnt_lag9     int64\n",
      " 18  item_cnt_lag10    int64\n",
      " 19  item_cnt_lag11    int64\n",
      " 20  item_cnt_lag12    int64\n",
      "dtypes: int64(21)\n",
      "memory usage: 1.0 GB\n"
     ]
    }
   ],
   "source": [
    "X_lags.info()"
   ]
  },
  {
   "cell_type": "markdown",
   "id": "demanding-civilian",
   "metadata": {},
   "source": [
    "**item_cnt_lag{i}** for *i* from 1 to 12 is the value of **item_cnt** of the same row with **date_block_num** less on *i*."
   ]
  },
  {
   "cell_type": "markdown",
   "id": "miniature-label",
   "metadata": {},
   "source": [
    "As for previous tables, I will decrease the memory usage of this table. As first 8 features are also the features of the **X_basic** dataset, their new types are the same. So I just add new types for lag features."
   ]
  },
  {
   "cell_type": "code",
   "execution_count": 10,
   "id": "constant-survivor",
   "metadata": {
    "ExecuteTime": {
     "end_time": "2021-10-20T20:13:52.257846Z",
     "start_time": "2021-10-20T20:13:52.213914Z"
    }
   },
   "outputs": [],
   "source": [
    "types.update({\n",
    "    f'item_cnt_lag{i}': 'int8' for i in range(1, 13)\n",
    "})"
   ]
  },
  {
   "cell_type": "code",
   "execution_count": 11,
   "id": "composed-negotiation",
   "metadata": {
    "ExecuteTime": {
     "end_time": "2021-10-20T20:13:53.360257Z",
     "start_time": "2021-10-20T20:13:52.267829Z"
    }
   },
   "outputs": [],
   "source": [
    "X_lags = X_lags.astype(types)\n",
    "X_test_lags = X_test_lags.astype(types)"
   ]
  },
  {
   "cell_type": "code",
   "execution_count": 12,
   "id": "regional-eating",
   "metadata": {
    "ExecuteTime": {
     "end_time": "2021-10-20T20:13:53.411492Z",
     "start_time": "2021-10-20T20:13:53.364090Z"
    }
   },
   "outputs": [
    {
     "name": "stdout",
     "output_type": "stream",
     "text": [
      "<class 'pandas.core.frame.DataFrame'>\n",
      "RangeIndex: 6425094 entries, 0 to 6425093\n",
      "Data columns (total 21 columns):\n",
      " #   Column            Dtype\n",
      "---  ------            -----\n",
      " 0   date_block_num    int8 \n",
      " 1   shop_id           int8 \n",
      " 2   item_id           int16\n",
      " 3   item_category_id  int8 \n",
      " 4   super_category    int8 \n",
      " 5   category          int8 \n",
      " 6   city              int8 \n",
      " 7   shop_type         int8 \n",
      " 8   shop_name         int8 \n",
      " 9   item_cnt_lag1     int8 \n",
      " 10  item_cnt_lag2     int8 \n",
      " 11  item_cnt_lag3     int8 \n",
      " 12  item_cnt_lag4     int8 \n",
      " 13  item_cnt_lag5     int8 \n",
      " 14  item_cnt_lag6     int8 \n",
      " 15  item_cnt_lag7     int8 \n",
      " 16  item_cnt_lag8     int8 \n",
      " 17  item_cnt_lag9     int8 \n",
      " 18  item_cnt_lag10    int8 \n",
      " 19  item_cnt_lag11    int8 \n",
      " 20  item_cnt_lag12    int8 \n",
      "dtypes: int16(1), int8(20)\n",
      "memory usage: 134.8 MB\n"
     ]
    }
   ],
   "source": [
    "X_lags.info()"
   ]
  },
  {
   "cell_type": "markdown",
   "id": "prepared-progressive",
   "metadata": {
    "ExecuteTime": {
     "end_time": "2021-10-20T18:13:25.943392Z",
     "start_time": "2021-10-20T18:13:25.917437Z"
    }
   },
   "source": [
    "Creating the train and valid datasets."
   ]
  },
  {
   "cell_type": "code",
   "execution_count": 13,
   "id": "consistent-invite",
   "metadata": {
    "ExecuteTime": {
     "end_time": "2021-10-20T20:13:55.483678Z",
     "start_time": "2021-10-20T20:13:53.422472Z"
    }
   },
   "outputs": [],
   "source": [
    "X_train_lags = X_lags[X_lags.date_block_num < 33]\n",
    "y_train_lags = y_lags[X_lags.date_block_num < 33]\n",
    "\n",
    "X_val_lags = X_lags[X_lags.date_block_num == 33]\n",
    "y_val_lags = y_lags[X_lags.date_block_num == 33]"
   ]
  },
  {
   "cell_type": "markdown",
   "id": "matched-conflict",
   "metadata": {},
   "source": [
    "Here I read train and test tables which have lag features and features that are encoded via target encoding "
   ]
  },
  {
   "cell_type": "code",
   "execution_count": 40,
   "id": "stretch-mainstream",
   "metadata": {
    "ExecuteTime": {
     "end_time": "2021-10-21T06:25:27.679600Z",
     "start_time": "2021-10-21T06:24:31.486255Z"
    }
   },
   "outputs": [],
   "source": [
    "X_full = pd.read_csv('data/X_full.csv')\n",
    "y_full = pd.read_csv('data/y_full.csv').item_cnt\n",
    "X_test_full = pd.read_csv('data/test_full.csv')"
   ]
  },
  {
   "cell_type": "code",
   "execution_count": 41,
   "id": "enabling-vietnamese",
   "metadata": {
    "ExecuteTime": {
     "end_time": "2021-10-21T06:25:28.147461Z",
     "start_time": "2021-10-21T06:25:27.757724Z"
    }
   },
   "outputs": [
    {
     "name": "stdout",
     "output_type": "stream",
     "text": [
      "<class 'pandas.core.frame.DataFrame'>\n",
      "RangeIndex: 6425094 entries, 0 to 6425093\n",
      "Data columns (total 29 columns):\n",
      " #   Column                    Dtype  \n",
      "---  ------                    -----  \n",
      " 0   date_block_num            int64  \n",
      " 1   shop_id                   int64  \n",
      " 2   item_id                   int64  \n",
      " 3   item_category_id          int64  \n",
      " 4   super_category            int64  \n",
      " 5   category                  int64  \n",
      " 6   city                      int64  \n",
      " 7   shop_type                 int64  \n",
      " 8   shop_name                 int64  \n",
      " 9   item_cnt_lag1             int64  \n",
      " 10  item_cnt_lag2             int64  \n",
      " 11  item_cnt_lag3             int64  \n",
      " 12  item_cnt_lag4             int64  \n",
      " 13  item_cnt_lag5             int64  \n",
      " 14  item_cnt_lag6             int64  \n",
      " 15  item_cnt_lag7             int64  \n",
      " 16  item_cnt_lag8             int64  \n",
      " 17  item_cnt_lag9             int64  \n",
      " 18  item_cnt_lag10            int64  \n",
      " 19  item_cnt_lag11            int64  \n",
      " 20  item_cnt_lag12            int64  \n",
      " 21  encoded_shop_id           float64\n",
      " 22  encoded_item_id           float64\n",
      " 23  encoded_item_category_id  float64\n",
      " 24  encoded_super_category    float64\n",
      " 25  encoded_category          float64\n",
      " 26  encoded_city              float64\n",
      " 27  encoded_shop_type         float64\n",
      " 28  encoded_shop_name         float64\n",
      "dtypes: float64(8), int64(21)\n",
      "memory usage: 1.4 GB\n"
     ]
    }
   ],
   "source": [
    "X_full.info()"
   ]
  },
  {
   "cell_type": "markdown",
   "id": "armed-fluid",
   "metadata": {},
   "source": [
    "**encoded_{feature}** are encoded features using target encoding."
   ]
  },
  {
   "cell_type": "markdown",
   "id": "legal-musician",
   "metadata": {},
   "source": [
    "As for previous tables, I will decrease the memory usage of this table. As first 21 features are also the features of the **X_lags** dataset, their new types are the same. So I just add new types for encoded features."
   ]
  },
  {
   "cell_type": "code",
   "execution_count": 42,
   "id": "literary-knight",
   "metadata": {
    "ExecuteTime": {
     "end_time": "2021-10-21T06:25:28.211320Z",
     "start_time": "2021-10-21T06:25:28.166445Z"
    }
   },
   "outputs": [],
   "source": [
    "types.update({\n",
    "    col: 'float32' for col in X_full.columns[21:]\n",
    "})"
   ]
  },
  {
   "cell_type": "code",
   "execution_count": 43,
   "id": "eastern-spine",
   "metadata": {
    "ExecuteTime": {
     "end_time": "2021-10-21T06:25:31.060328Z",
     "start_time": "2021-10-21T06:25:28.223576Z"
    }
   },
   "outputs": [],
   "source": [
    "X_full = X_full.astype(types)\n",
    "X_test_full = X_test_full.astype(types)"
   ]
  },
  {
   "cell_type": "code",
   "execution_count": 44,
   "id": "advanced-packaging",
   "metadata": {
    "ExecuteTime": {
     "end_time": "2021-10-21T06:25:31.139307Z",
     "start_time": "2021-10-21T06:25:31.080393Z"
    }
   },
   "outputs": [
    {
     "name": "stdout",
     "output_type": "stream",
     "text": [
      "<class 'pandas.core.frame.DataFrame'>\n",
      "RangeIndex: 6425094 entries, 0 to 6425093\n",
      "Data columns (total 29 columns):\n",
      " #   Column                    Dtype  \n",
      "---  ------                    -----  \n",
      " 0   date_block_num            int8   \n",
      " 1   shop_id                   int8   \n",
      " 2   item_id                   int16  \n",
      " 3   item_category_id          int8   \n",
      " 4   super_category            int8   \n",
      " 5   category                  int8   \n",
      " 6   city                      int8   \n",
      " 7   shop_type                 int8   \n",
      " 8   shop_name                 int8   \n",
      " 9   item_cnt_lag1             int8   \n",
      " 10  item_cnt_lag2             int8   \n",
      " 11  item_cnt_lag3             int8   \n",
      " 12  item_cnt_lag4             int8   \n",
      " 13  item_cnt_lag5             int8   \n",
      " 14  item_cnt_lag6             int8   \n",
      " 15  item_cnt_lag7             int8   \n",
      " 16  item_cnt_lag8             int8   \n",
      " 17  item_cnt_lag9             int8   \n",
      " 18  item_cnt_lag10            int8   \n",
      " 19  item_cnt_lag11            int8   \n",
      " 20  item_cnt_lag12            int8   \n",
      " 21  encoded_shop_id           float32\n",
      " 22  encoded_item_id           float32\n",
      " 23  encoded_item_category_id  float32\n",
      " 24  encoded_super_category    float32\n",
      " 25  encoded_category          float32\n",
      " 26  encoded_city              float32\n",
      " 27  encoded_shop_type         float32\n",
      " 28  encoded_shop_name         float32\n",
      "dtypes: float32(8), int16(1), int8(20)\n",
      "memory usage: 330.9 MB\n"
     ]
    }
   ],
   "source": [
    "X_full.info()"
   ]
  },
  {
   "cell_type": "markdown",
   "id": "temporal-nursery",
   "metadata": {},
   "source": [
    "Creating the train and valid datasets."
   ]
  },
  {
   "cell_type": "code",
   "execution_count": 45,
   "id": "aggregate-armenia",
   "metadata": {
    "ExecuteTime": {
     "end_time": "2021-10-21T06:25:33.723060Z",
     "start_time": "2021-10-21T06:25:31.149284Z"
    }
   },
   "outputs": [],
   "source": [
    "X_train_full = X_full[X_full.date_block_num < 33]\n",
    "y_train_full = y_full[X_full.date_block_num < 33]\n",
    "\n",
    "X_val_full = X_full[X_full.date_block_num == 33]\n",
    "y_val_full = y_full[X_full.date_block_num == 33]"
   ]
  },
  {
   "cell_type": "markdown",
   "id": "liquid-detroit",
   "metadata": {},
   "source": [
    "Here I drop \"unencoded\" features - the features that was encoded."
   ]
  },
  {
   "cell_type": "code",
   "execution_count": 58,
   "id": "optical-cream",
   "metadata": {
    "ExecuteTime": {
     "end_time": "2021-10-21T07:21:14.596485Z",
     "start_time": "2021-10-21T07:21:13.346300Z"
    }
   },
   "outputs": [],
   "source": [
    "X_full_reduced = X_full.drop(columns=X_full.columns[1:9])\n",
    "y_full_reduced = y_full.copy()\n",
    "X_test_full_reduced = X_test_full.drop(columns=X_test_full.columns[1:9])"
   ]
  },
  {
   "cell_type": "markdown",
   "id": "european-edgar",
   "metadata": {},
   "source": [
    "Creating the train and valid datasets."
   ]
  },
  {
   "cell_type": "code",
   "execution_count": 60,
   "id": "distant-chart",
   "metadata": {
    "ExecuteTime": {
     "end_time": "2021-10-21T07:21:57.959568Z",
     "start_time": "2021-10-21T07:21:55.523483Z"
    }
   },
   "outputs": [],
   "source": [
    "X_train_full_reduced = X_full_reduced[X_full_reduced.date_block_num < 33]\n",
    "y_train_full_reduced = y_full_reduced[X_full_reduced.date_block_num < 33]\n",
    "\n",
    "X_val_full_reduced = X_full_reduced[X_full_reduced.date_block_num == 33]\n",
    "y_val_full_reduced = y_full_reduced[X_full_reduced.date_block_num == 33]"
   ]
  },
  {
   "cell_type": "markdown",
   "id": "rational-object",
   "metadata": {},
   "source": [
    "# Training models"
   ]
  },
  {
   "cell_type": "markdown",
   "id": "regulation-double",
   "metadata": {},
   "source": [
    "I decided to use gradient boosting because it is the model that gives a high quality. I use lgbm because it is faster than simple gradient boosting or xgboost."
   ]
  },
  {
   "cell_type": "markdown",
   "id": "other-plate",
   "metadata": {},
   "source": [
    "For 4 types of data I tune the **max_depth** parameter of lgbm. Also I use early stopping using validation dataset because it is more efficient than selection some value of the number of estimators. Then I plot the graphics of train and validation score from **max_depth** parameter and choose the values of this parameter which minimize the train score and the validation score."
   ]
  },
  {
   "cell_type": "markdown",
   "id": "altered-treat",
   "metadata": {},
   "source": [
    "## Data without lag features and target encoding"
   ]
  },
  {
   "cell_type": "markdown",
   "id": "contrary-alloy",
   "metadata": {},
   "source": [
    "Training LGBM models with different values of max_depth"
   ]
  },
  {
   "cell_type": "code",
   "execution_count": 20,
   "id": "exact-likelihood",
   "metadata": {
    "ExecuteTime": {
     "end_time": "2021-10-20T21:13:08.041280Z",
     "start_time": "2021-10-20T20:14:54.358208Z"
    },
    "scrolled": true
   },
   "outputs": [
    {
     "name": "stdout",
     "output_type": "stream",
     "text": [
      "max_depth: 1\n"
     ]
    },
    {
     "name": "stderr",
     "output_type": "stream",
     "text": [
      "c:\\users\\user\\appdata\\local\\programs\\python\\python39\\lib\\site-packages\\lightgbm\\sklearn.py:726: UserWarning: 'early_stopping_rounds' argument is deprecated and will be removed in a future release of LightGBM. Pass 'early_stopping()' callback via 'callbacks' argument instead.\n",
      "  _log_warning(\"'early_stopping_rounds' argument is deprecated and will be removed in a future release of LightGBM. \"\n",
      "c:\\users\\user\\appdata\\local\\programs\\python\\python39\\lib\\site-packages\\lightgbm\\sklearn.py:736: UserWarning: 'verbose' argument is deprecated and will be removed in a future release of LightGBM. Pass 'log_evaluation()' callback via 'callbacks' argument instead.\n",
      "  _log_warning(\"'verbose' argument is deprecated and will be removed in a future release of LightGBM. \"\n"
     ]
    },
    {
     "name": "stdout",
     "output_type": "stream",
     "text": [
      "[10]\tvalid_0's l2: 1.26053\n",
      "[20]\tvalid_0's l2: 1.25568\n",
      "[30]\tvalid_0's l2: 1.25299\n",
      "[40]\tvalid_0's l2: 1.25116\n",
      "[50]\tvalid_0's l2: 1.24925\n",
      "[60]\tvalid_0's l2: 1.24793\n",
      "[70]\tvalid_0's l2: 1.24568\n",
      "[80]\tvalid_0's l2: 1.24491\n",
      "[90]\tvalid_0's l2: 1.24348\n",
      "[100]\tvalid_0's l2: 1.24258\n",
      "train RMSE: 1.189269057903918  |  val RMSE: 1.114703750989341\n",
      "Evaluation time: 0:01:07.538141\n",
      "------------------------------------------------------\n",
      "max_depth: 2\n",
      "[10]\tvalid_0's l2: 1.24964\n",
      "[20]\tvalid_0's l2: 1.24161\n",
      "[30]\tvalid_0's l2: 1.23557\n",
      "[40]\tvalid_0's l2: 1.22783\n",
      "[50]\tvalid_0's l2: 1.21805\n",
      "[60]\tvalid_0's l2: 1.20756\n",
      "[70]\tvalid_0's l2: 1.19576\n",
      "[80]\tvalid_0's l2: 1.18824\n",
      "[90]\tvalid_0's l2: 1.17906\n",
      "[100]\tvalid_0's l2: 1.17827\n",
      "train RMSE: 1.1647516888667555  |  val RMSE: 1.0854664080163805\n",
      "Evaluation time: 0:01:22.521754\n",
      "------------------------------------------------------\n",
      "max_depth: 3\n",
      "[10]\tvalid_0's l2: 1.23995\n",
      "[20]\tvalid_0's l2: 1.22781\n",
      "[30]\tvalid_0's l2: 1.21538\n",
      "[40]\tvalid_0's l2: 1.19735\n",
      "[50]\tvalid_0's l2: 1.17708\n",
      "[60]\tvalid_0's l2: 1.16595\n",
      "[70]\tvalid_0's l2: 1.16005\n",
      "[80]\tvalid_0's l2: 1.15168\n",
      "[90]\tvalid_0's l2: 1.14504\n",
      "[100]\tvalid_0's l2: 1.1412\n",
      "train RMSE: 1.1483767829999871  |  val RMSE: 1.0682459253371297\n",
      "Evaluation time: 0:01:42.934879\n",
      "------------------------------------------------------\n",
      "max_depth: 4\n",
      "[10]\tvalid_0's l2: 1.22313\n",
      "[20]\tvalid_0's l2: 1.19929\n",
      "[30]\tvalid_0's l2: 1.18156\n",
      "[40]\tvalid_0's l2: 1.15021\n",
      "[50]\tvalid_0's l2: 1.13925\n",
      "[60]\tvalid_0's l2: 1.1257\n",
      "[70]\tvalid_0's l2: 1.11621\n",
      "[80]\tvalid_0's l2: 1.11023\n",
      "[90]\tvalid_0's l2: 1.10541\n",
      "[100]\tvalid_0's l2: 1.10153\n",
      "train RMSE: 1.134203424267978  |  val RMSE: 1.0494722798879934\n",
      "Evaluation time: 0:02:01.461505\n",
      "------------------------------------------------------\n",
      "max_depth: 5\n",
      "[10]\tvalid_0's l2: 1.21292\n",
      "[20]\tvalid_0's l2: 1.16782\n",
      "[30]\tvalid_0's l2: 1.13818\n",
      "[40]\tvalid_0's l2: 1.1139\n",
      "[50]\tvalid_0's l2: 1.10135\n",
      "[60]\tvalid_0's l2: 1.09244\n",
      "[70]\tvalid_0's l2: 1.08545\n",
      "[80]\tvalid_0's l2: 1.08142\n",
      "[90]\tvalid_0's l2: 1.07857\n",
      "[100]\tvalid_0's l2: 1.07433\n",
      "train RMSE: 1.1192392450321687  |  val RMSE: 1.036349704553855\n",
      "Evaluation time: 0:02:12.345403\n",
      "------------------------------------------------------\n",
      "max_depth: 6\n",
      "[10]\tvalid_0's l2: 1.18823\n",
      "[20]\tvalid_0's l2: 1.15378\n",
      "[30]\tvalid_0's l2: 1.12973\n",
      "[40]\tvalid_0's l2: 1.11201\n",
      "[50]\tvalid_0's l2: 1.09761\n",
      "[60]\tvalid_0's l2: 1.0906\n",
      "[70]\tvalid_0's l2: 1.08377\n",
      "[80]\tvalid_0's l2: 1.07853\n",
      "[90]\tvalid_0's l2: 1.07103\n",
      "[100]\tvalid_0's l2: 1.06835\n",
      "train RMSE: 1.1117506276700015  |  val RMSE: 1.0334985207212533\n",
      "Evaluation time: 0:02:21.817567\n",
      "------------------------------------------------------\n",
      "max_depth: 7\n",
      "[10]\tvalid_0's l2: 1.17501\n",
      "[20]\tvalid_0's l2: 1.13659\n",
      "[30]\tvalid_0's l2: 1.11696\n",
      "[40]\tvalid_0's l2: 1.10217\n",
      "[50]\tvalid_0's l2: 1.09463\n",
      "[60]\tvalid_0's l2: 1.08502\n",
      "[70]\tvalid_0's l2: 1.08024\n",
      "[80]\tvalid_0's l2: 1.07591\n",
      "[90]\tvalid_0's l2: 1.0702\n",
      "[100]\tvalid_0's l2: 1.06685\n",
      "train RMSE: 1.1089310126691305  |  val RMSE: 1.0328011833485935\n",
      "Evaluation time: 0:02:17.303079\n",
      "------------------------------------------------------\n",
      "max_depth: 8\n",
      "[10]\tvalid_0's l2: 1.18109\n",
      "[20]\tvalid_0's l2: 1.14026\n",
      "[30]\tvalid_0's l2: 1.11999\n",
      "[40]\tvalid_0's l2: 1.10398\n",
      "[50]\tvalid_0's l2: 1.09853\n",
      "[60]\tvalid_0's l2: 1.08906\n",
      "[70]\tvalid_0's l2: 1.08124\n",
      "[80]\tvalid_0's l2: 1.07808\n",
      "[90]\tvalid_0's l2: 1.07406\n",
      "[100]\tvalid_0's l2: 1.07118\n",
      "train RMSE: 1.1060226221039107  |  val RMSE: 1.0349298284059099\n",
      "Evaluation time: 0:02:11.351140\n",
      "------------------------------------------------------\n",
      "max_depth: 9\n",
      "[10]\tvalid_0's l2: 1.17753\n",
      "[20]\tvalid_0's l2: 1.14427\n",
      "[30]\tvalid_0's l2: 1.12447\n",
      "[40]\tvalid_0's l2: 1.10388\n",
      "[50]\tvalid_0's l2: 1.09486\n",
      "[60]\tvalid_0's l2: 1.0872\n",
      "[70]\tvalid_0's l2: 1.07671\n",
      "[80]\tvalid_0's l2: 1.07255\n",
      "[90]\tvalid_0's l2: 1.06743\n",
      "[100]\tvalid_0's l2: 1.06289\n",
      "train RMSE: 1.104359992409578  |  val RMSE: 1.0309194986159065\n",
      "Evaluation time: 0:02:08.659322\n",
      "------------------------------------------------------\n",
      "max_depth: 10\n",
      "[10]\tvalid_0's l2: 1.17246\n",
      "[20]\tvalid_0's l2: 1.13507\n",
      "[30]\tvalid_0's l2: 1.12079\n",
      "[40]\tvalid_0's l2: 1.10136\n",
      "[50]\tvalid_0's l2: 1.08983\n",
      "[60]\tvalid_0's l2: 1.08175\n",
      "[70]\tvalid_0's l2: 1.07361\n",
      "[80]\tvalid_0's l2: 1.07033\n",
      "[90]\tvalid_0's l2: 1.06784\n",
      "[100]\tvalid_0's l2: 1.06273\n",
      "train RMSE: 1.103799316388325  |  val RMSE: 1.0308606919073569\n",
      "Evaluation time: 0:02:07.719807\n",
      "------------------------------------------------------\n",
      "max_depth: 11\n",
      "[10]\tvalid_0's l2: 1.17259\n",
      "[20]\tvalid_0's l2: 1.14078\n",
      "[30]\tvalid_0's l2: 1.12264\n",
      "[40]\tvalid_0's l2: 1.10268\n",
      "[50]\tvalid_0's l2: 1.09246\n",
      "[60]\tvalid_0's l2: 1.08385\n",
      "[70]\tvalid_0's l2: 1.08002\n",
      "[80]\tvalid_0's l2: 1.07526\n",
      "[90]\tvalid_0's l2: 1.07036\n",
      "[100]\tvalid_0's l2: 1.06471\n",
      "train RMSE: 1.1024869146631329  |  val RMSE: 1.0318263298883743\n",
      "Evaluation time: 0:02:03.190844\n",
      "------------------------------------------------------\n",
      "max_depth: 12\n",
      "[10]\tvalid_0's l2: 1.16972\n",
      "[20]\tvalid_0's l2: 1.13682\n",
      "[30]\tvalid_0's l2: 1.12289\n",
      "[40]\tvalid_0's l2: 1.10597\n",
      "[50]\tvalid_0's l2: 1.09795\n",
      "[60]\tvalid_0's l2: 1.0905\n",
      "[70]\tvalid_0's l2: 1.08453\n",
      "[80]\tvalid_0's l2: 1.07811\n",
      "[90]\tvalid_0's l2: 1.07168\n",
      "[100]\tvalid_0's l2: 1.06716\n",
      "train RMSE: 1.1024683802872155  |  val RMSE: 1.0329928362279561\n",
      "Evaluation time: 0:02:05.012677\n",
      "------------------------------------------------------\n",
      "max_depth: 13\n",
      "[10]\tvalid_0's l2: 1.16972\n",
      "[20]\tvalid_0's l2: 1.13682\n",
      "[30]\tvalid_0's l2: 1.12649\n",
      "[40]\tvalid_0's l2: 1.10839\n",
      "[50]\tvalid_0's l2: 1.09835\n",
      "[60]\tvalid_0's l2: 1.08975\n",
      "[70]\tvalid_0's l2: 1.08265\n",
      "[80]\tvalid_0's l2: 1.07494\n",
      "[90]\tvalid_0's l2: 1.06943\n",
      "[100]\tvalid_0's l2: 1.06522\n",
      "train RMSE: 1.1018773292526967  |  val RMSE: 1.0320498614817044\n",
      "Evaluation time: 0:02:03.110082\n",
      "------------------------------------------------------\n",
      "max_depth: 14\n",
      "[10]\tvalid_0's l2: 1.16972\n",
      "[20]\tvalid_0's l2: 1.13682\n",
      "[30]\tvalid_0's l2: 1.1265\n",
      "[40]\tvalid_0's l2: 1.10841\n",
      "[50]\tvalid_0's l2: 1.09805\n",
      "[60]\tvalid_0's l2: 1.09027\n",
      "[70]\tvalid_0's l2: 1.08501\n",
      "[80]\tvalid_0's l2: 1.07991\n",
      "[90]\tvalid_0's l2: 1.07526\n",
      "[100]\tvalid_0's l2: 1.06997\n",
      "train RMSE: 1.1020093397223947  |  val RMSE: 1.0343540383419094\n",
      "Evaluation time: 0:02:03.051636\n",
      "------------------------------------------------------\n",
      "max_depth: 15\n",
      "[10]\tvalid_0's l2: 1.16972\n",
      "[20]\tvalid_0's l2: 1.13682\n",
      "[30]\tvalid_0's l2: 1.1265\n",
      "[40]\tvalid_0's l2: 1.10841\n",
      "[50]\tvalid_0's l2: 1.10016\n",
      "[60]\tvalid_0's l2: 1.09153\n",
      "[70]\tvalid_0's l2: 1.08669\n",
      "[80]\tvalid_0's l2: 1.08113\n",
      "[90]\tvalid_0's l2: 1.07664\n",
      "[100]\tvalid_0's l2: 1.06971\n",
      "train RMSE: 1.10216367695272  |  val RMSE: 1.0342413664974783\n",
      "Evaluation time: 0:02:04.664303\n",
      "------------------------------------------------------\n",
      "max_depth: 16\n",
      "[10]\tvalid_0's l2: 1.16972\n",
      "[20]\tvalid_0's l2: 1.13682\n",
      "[30]\tvalid_0's l2: 1.1265\n",
      "[40]\tvalid_0's l2: 1.10841\n",
      "[50]\tvalid_0's l2: 1.10016\n",
      "[60]\tvalid_0's l2: 1.09153\n",
      "[70]\tvalid_0's l2: 1.08669\n",
      "[80]\tvalid_0's l2: 1.0811\n",
      "[90]\tvalid_0's l2: 1.07661\n",
      "[100]\tvalid_0's l2: 1.06812\n",
      "train RMSE: 1.102108682836578  |  val RMSE: 1.0334697428101804\n",
      "Evaluation time: 0:02:01.581655\n",
      "------------------------------------------------------\n",
      "max_depth: 17\n",
      "[10]\tvalid_0's l2: 1.16972\n",
      "[20]\tvalid_0's l2: 1.13682\n",
      "[30]\tvalid_0's l2: 1.1265\n",
      "[40]\tvalid_0's l2: 1.10841\n",
      "[50]\tvalid_0's l2: 1.10016\n",
      "[60]\tvalid_0's l2: 1.09153\n",
      "[70]\tvalid_0's l2: 1.08669\n",
      "[80]\tvalid_0's l2: 1.0811\n",
      "[90]\tvalid_0's l2: 1.07661\n",
      "[100]\tvalid_0's l2: 1.06812\n",
      "train RMSE: 1.102108682836578  |  val RMSE: 1.0334697428101804\n",
      "Evaluation time: 0:02:02.182417\n",
      "------------------------------------------------------\n",
      "max_depth: 18\n",
      "[10]\tvalid_0's l2: 1.16972\n",
      "[20]\tvalid_0's l2: 1.13682\n",
      "[30]\tvalid_0's l2: 1.1265\n",
      "[40]\tvalid_0's l2: 1.10841\n",
      "[50]\tvalid_0's l2: 1.10016\n",
      "[60]\tvalid_0's l2: 1.09153\n",
      "[70]\tvalid_0's l2: 1.08669\n",
      "[80]\tvalid_0's l2: 1.0811\n",
      "[90]\tvalid_0's l2: 1.07661\n",
      "[100]\tvalid_0's l2: 1.06812\n",
      "train RMSE: 1.102108682836578  |  val RMSE: 1.0334697428101804\n",
      "Evaluation time: 0:02:01.118702\n",
      "------------------------------------------------------\n",
      "max_depth: 19\n",
      "[10]\tvalid_0's l2: 1.16972\n",
      "[20]\tvalid_0's l2: 1.13682\n",
      "[30]\tvalid_0's l2: 1.1265\n",
      "[40]\tvalid_0's l2: 1.10841\n",
      "[50]\tvalid_0's l2: 1.10016\n",
      "[60]\tvalid_0's l2: 1.09153\n",
      "[70]\tvalid_0's l2: 1.08669\n",
      "[80]\tvalid_0's l2: 1.0811\n",
      "[90]\tvalid_0's l2: 1.07661\n",
      "[100]\tvalid_0's l2: 1.06812\n",
      "train RMSE: 1.102108682836578  |  val RMSE: 1.0334697428101804\n",
      "Evaluation time: 0:02:00.857921\n",
      "------------------------------------------------------\n",
      "max_depth: 20\n"
     ]
    },
    {
     "name": "stdout",
     "output_type": "stream",
     "text": [
      "[10]\tvalid_0's l2: 1.16972\n",
      "[20]\tvalid_0's l2: 1.13682\n",
      "[30]\tvalid_0's l2: 1.1265\n",
      "[40]\tvalid_0's l2: 1.10841\n",
      "[50]\tvalid_0's l2: 1.10016\n",
      "[60]\tvalid_0's l2: 1.09153\n",
      "[70]\tvalid_0's l2: 1.08669\n",
      "[80]\tvalid_0's l2: 1.0811\n",
      "[90]\tvalid_0's l2: 1.07661\n",
      "[100]\tvalid_0's l2: 1.06812\n",
      "train RMSE: 1.102108682836578  |  val RMSE: 1.0334697428101804\n",
      "Evaluation time: 0:02:01.057225\n",
      "------------------------------------------------------\n",
      "max_depth: 21\n",
      "[10]\tvalid_0's l2: 1.16972\n",
      "[20]\tvalid_0's l2: 1.13682\n",
      "[30]\tvalid_0's l2: 1.1265\n",
      "[40]\tvalid_0's l2: 1.10841\n",
      "[50]\tvalid_0's l2: 1.10016\n",
      "[60]\tvalid_0's l2: 1.09153\n",
      "[70]\tvalid_0's l2: 1.08669\n",
      "[80]\tvalid_0's l2: 1.0811\n",
      "[90]\tvalid_0's l2: 1.07661\n",
      "[100]\tvalid_0's l2: 1.06812\n",
      "train RMSE: 1.102108682836578  |  val RMSE: 1.0334697428101804\n",
      "Evaluation time: 0:02:00.887285\n",
      "------------------------------------------------------\n",
      "max_depth: 22\n",
      "[10]\tvalid_0's l2: 1.16972\n",
      "[20]\tvalid_0's l2: 1.13682\n",
      "[30]\tvalid_0's l2: 1.1265\n",
      "[40]\tvalid_0's l2: 1.10841\n",
      "[50]\tvalid_0's l2: 1.10016\n",
      "[60]\tvalid_0's l2: 1.09153\n",
      "[70]\tvalid_0's l2: 1.08669\n",
      "[80]\tvalid_0's l2: 1.0811\n",
      "[90]\tvalid_0's l2: 1.07661\n",
      "[100]\tvalid_0's l2: 1.06812\n",
      "train RMSE: 1.102108682836578  |  val RMSE: 1.0334697428101804\n",
      "Evaluation time: 0:02:00.449014\n",
      "------------------------------------------------------\n",
      "max_depth: 23\n",
      "[10]\tvalid_0's l2: 1.16972\n",
      "[20]\tvalid_0's l2: 1.13682\n",
      "[30]\tvalid_0's l2: 1.1265\n",
      "[40]\tvalid_0's l2: 1.10841\n",
      "[50]\tvalid_0's l2: 1.10016\n",
      "[60]\tvalid_0's l2: 1.09153\n",
      "[70]\tvalid_0's l2: 1.08669\n",
      "[80]\tvalid_0's l2: 1.0811\n",
      "[90]\tvalid_0's l2: 1.07661\n",
      "[100]\tvalid_0's l2: 1.06812\n",
      "train RMSE: 1.102108682836578  |  val RMSE: 1.0334697428101804\n",
      "Evaluation time: 0:02:01.854419\n",
      "------------------------------------------------------\n",
      "max_depth: 24\n",
      "[10]\tvalid_0's l2: 1.16972\n",
      "[20]\tvalid_0's l2: 1.13682\n",
      "[30]\tvalid_0's l2: 1.1265\n",
      "[40]\tvalid_0's l2: 1.10841\n",
      "[50]\tvalid_0's l2: 1.10016\n",
      "[60]\tvalid_0's l2: 1.09153\n",
      "[70]\tvalid_0's l2: 1.08669\n",
      "[80]\tvalid_0's l2: 1.0811\n",
      "[90]\tvalid_0's l2: 1.07661\n",
      "[100]\tvalid_0's l2: 1.06812\n",
      "train RMSE: 1.102108682836578  |  val RMSE: 1.0334697428101804\n",
      "Evaluation time: 0:02:00.533903\n",
      "------------------------------------------------------\n",
      "max_depth: 25\n",
      "[10]\tvalid_0's l2: 1.16972\n",
      "[20]\tvalid_0's l2: 1.13682\n",
      "[30]\tvalid_0's l2: 1.1265\n",
      "[40]\tvalid_0's l2: 1.10841\n",
      "[50]\tvalid_0's l2: 1.10016\n",
      "[60]\tvalid_0's l2: 1.09153\n",
      "[70]\tvalid_0's l2: 1.08669\n",
      "[80]\tvalid_0's l2: 1.0811\n",
      "[90]\tvalid_0's l2: 1.07661\n",
      "[100]\tvalid_0's l2: 1.06812\n",
      "train RMSE: 1.102108682836578  |  val RMSE: 1.0334697428101804\n",
      "Evaluation time: 0:02:00.675852\n",
      "------------------------------------------------------\n",
      "max_depth: 26\n",
      "[10]\tvalid_0's l2: 1.16972\n",
      "[20]\tvalid_0's l2: 1.13682\n",
      "[30]\tvalid_0's l2: 1.1265\n",
      "[40]\tvalid_0's l2: 1.10841\n",
      "[50]\tvalid_0's l2: 1.10016\n",
      "[60]\tvalid_0's l2: 1.09153\n",
      "[70]\tvalid_0's l2: 1.08669\n",
      "[80]\tvalid_0's l2: 1.0811\n",
      "[90]\tvalid_0's l2: 1.07661\n",
      "[100]\tvalid_0's l2: 1.06812\n",
      "train RMSE: 1.102108682836578  |  val RMSE: 1.0334697428101804\n",
      "Evaluation time: 0:02:00.353847\n",
      "------------------------------------------------------\n",
      "max_depth: 27\n",
      "[10]\tvalid_0's l2: 1.16972\n",
      "[20]\tvalid_0's l2: 1.13682\n",
      "[30]\tvalid_0's l2: 1.1265\n",
      "[40]\tvalid_0's l2: 1.10841\n",
      "[50]\tvalid_0's l2: 1.10016\n",
      "[60]\tvalid_0's l2: 1.09153\n",
      "[70]\tvalid_0's l2: 1.08669\n",
      "[80]\tvalid_0's l2: 1.0811\n",
      "[90]\tvalid_0's l2: 1.07661\n",
      "[100]\tvalid_0's l2: 1.06812\n",
      "train RMSE: 1.102108682836578  |  val RMSE: 1.0334697428101804\n",
      "Evaluation time: 0:02:02.285441\n",
      "------------------------------------------------------\n",
      "max_depth: 28\n",
      "[10]\tvalid_0's l2: 1.16972\n",
      "[20]\tvalid_0's l2: 1.13682\n",
      "[30]\tvalid_0's l2: 1.1265\n",
      "[40]\tvalid_0's l2: 1.10841\n",
      "[50]\tvalid_0's l2: 1.10016\n",
      "[60]\tvalid_0's l2: 1.09153\n",
      "[70]\tvalid_0's l2: 1.08669\n",
      "[80]\tvalid_0's l2: 1.0811\n",
      "[90]\tvalid_0's l2: 1.07661\n",
      "[100]\tvalid_0's l2: 1.06812\n",
      "train RMSE: 1.102108682836578  |  val RMSE: 1.0334697428101804\n",
      "Evaluation time: 0:02:03.036389\n",
      "------------------------------------------------------\n",
      "max_depth: 29\n",
      "[10]\tvalid_0's l2: 1.16972\n",
      "[20]\tvalid_0's l2: 1.13682\n",
      "[30]\tvalid_0's l2: 1.1265\n",
      "[40]\tvalid_0's l2: 1.10841\n",
      "[50]\tvalid_0's l2: 1.10016\n",
      "[60]\tvalid_0's l2: 1.09153\n",
      "[70]\tvalid_0's l2: 1.08669\n",
      "[80]\tvalid_0's l2: 1.0811\n",
      "[90]\tvalid_0's l2: 1.07661\n",
      "[100]\tvalid_0's l2: 1.06812\n",
      "train RMSE: 1.102108682836578  |  val RMSE: 1.0334697428101804\n",
      "Evaluation time: 0:02:04.028726\n",
      "------------------------------------------------------\n"
     ]
    }
   ],
   "source": [
    "lgbm_train_basic_rmses = {}\n",
    "lgbm_val_basic_rmses = {}\n",
    "best_iterations_basic = {}\n",
    "max_depths = range(1, 30)\n",
    "for max_depth in max_depths:\n",
    "    start = datetime.datetime.now()\n",
    "    print('max_depth:', max_depth)\n",
    "    lgbm = LGBMRegressor(max_depth=max_depth)\n",
    "    lgbm.fit(X_train_basic,\n",
    "             y_train_basic,\n",
    "             eval_set=[(X_val_basic, y_val_basic)],\n",
    "             eval_metric='l2',\n",
    "             early_stopping_rounds=20,\n",
    "             verbose=10)\n",
    "    best_iterations_basic[max_depth] = lgbm.best_iteration_\n",
    "    lgbm_train_basic_rmses[max_depth] = RMSE(y_train_basic, lgbm.predict(X_train_basic).clip(0, 20))\n",
    "    lgbm_val_basic_rmses[max_depth] = RMSE(y_val_basic, lgbm.predict(X_val_basic).clip(0, 20))\n",
    "    print('train RMSE:', lgbm_train_basic_rmses[max_depth], ' | ',\n",
    "          'val RMSE:', lgbm_val_basic_rmses[max_depth])\n",
    "    print('Evaluation time:', datetime.datetime.now() - start)\n",
    "    print('------------------------------------------------------')"
   ]
  },
  {
   "cell_type": "code",
   "execution_count": 21,
   "id": "republican-bradley",
   "metadata": {
    "ExecuteTime": {
     "end_time": "2021-10-20T21:13:09.328354Z",
     "start_time": "2021-10-20T21:13:08.055570Z"
    }
   },
   "outputs": [
    {
     "data": {
      "image/png": "[encoded data removed]",
      "text/plain": [
       "<Figure size 432x288 with 1 Axes>"
      ]
     },
     "metadata": {
      "needs_background": "light"
     },
     "output_type": "display_data"
    }
   ],
   "source": [
    "plt.title('LGBM basic')\n",
    "plt.plot(max_depths, lgbm_train_basic_rmses.values())\n",
    "plt.plot(max_depths, lgbm_val_basic_rmses.values())\n",
    "plt.legend(['train', 'val'])\n",
    "plt.xlabel('max_depth')\n",
    "plt.ylabel('rmse')\n",
    "plt.show()"
   ]
  },
  {
   "cell_type": "markdown",
   "id": "optional-direction",
   "metadata": {},
   "source": [
    "The maximum depths of the best lgbm models according to train or validate mse"
   ]
  },
  {
   "cell_type": "code",
   "execution_count": 22,
   "id": "sophisticated-banana",
   "metadata": {
    "ExecuteTime": {
     "end_time": "2021-10-20T21:13:09.360311Z",
     "start_time": "2021-10-20T21:13:09.337342Z"
    },
    "scrolled": true
   },
   "outputs": [
    {
     "name": "stdout",
     "output_type": "stream",
     "text": [
      "max depth according to train rmse: 13\n",
      "max depth according to val rmse: 10\n"
     ]
    }
   ],
   "source": [
    "lgbm_train_basic_rmses = np.array(list(lgbm_train_basic_rmses.values()))\n",
    "lgbm_val_basic_rmses = np.array(list(lgbm_val_basic_rmses.values()))\n",
    "\n",
    "print('max depth according to train rmse:', max_depths[lgbm_train_basic_rmses.argmin()])\n",
    "print('max depth according to val rmse:', max_depths[lgbm_val_basic_rmses.argmin()])"
   ]
  },
  {
   "cell_type": "markdown",
   "id": "existing-phenomenon",
   "metadata": {},
   "source": [
    "For max depth equals 10 the rmse's are:  \n",
    "train RMSE: 1.10380  |  val RMSE: 1.03086  \n",
    "For max depth equals 13 the rmse's are:  \n",
    "train RMSE: 1.10188  |  val RMSE: 1.03205"
   ]
  },
  {
   "cell_type": "markdown",
   "id": "departmental-cooperation",
   "metadata": {},
   "source": [
    "## Data with lag features but without target encoding"
   ]
  },
  {
   "cell_type": "code",
   "execution_count": 23,
   "id": "fleet-queensland",
   "metadata": {
    "ExecuteTime": {
     "end_time": "2021-10-20T21:52:09.403105Z",
     "start_time": "2021-10-20T21:13:09.368295Z"
    }
   },
   "outputs": [
    {
     "name": "stdout",
     "output_type": "stream",
     "text": [
      "max_depth: 1\n",
      "[10]\tvalid_0's l2: 1.077\n",
      "[20]\tvalid_0's l2: 1.01215\n",
      "[30]\tvalid_0's l2: 0.983657\n",
      "[40]\tvalid_0's l2: 0.968926\n",
      "[50]\tvalid_0's l2: 0.959526\n",
      "[60]\tvalid_0's l2: 0.953576\n",
      "[70]\tvalid_0's l2: 0.94962\n",
      "[80]\tvalid_0's l2: 0.946364\n",
      "[90]\tvalid_0's l2: 0.944301\n",
      "[100]\tvalid_0's l2: 0.942641\n",
      "train RMSE: 0.9333920434895312  |  val RMSE: 0.9708972245567559\n",
      "Evaluation time: 0:00:51.636278\n",
      "------------------------------------------------------\n",
      "max_depth: 2\n",
      "[10]\tvalid_0's l2: 1.01926\n",
      "[20]\tvalid_0's l2: 0.963583\n",
      "[30]\tvalid_0's l2: 0.94479\n",
      "[40]\tvalid_0's l2: 0.938376\n",
      "[50]\tvalid_0's l2: 0.935242\n",
      "[60]\tvalid_0's l2: 0.9331\n",
      "[70]\tvalid_0's l2: 0.931623\n",
      "[80]\tvalid_0's l2: 0.929324\n",
      "[90]\tvalid_0's l2: 0.926933\n",
      "[100]\tvalid_0's l2: 0.92314\n",
      "train RMSE: 0.9222783565323427  |  val RMSE: 0.9608016201525409\n",
      "Evaluation time: 0:00:56.293821\n",
      "------------------------------------------------------\n",
      "max_depth: 3\n",
      "[10]\tvalid_0's l2: 0.992964\n",
      "[20]\tvalid_0's l2: 0.945835\n",
      "[30]\tvalid_0's l2: 0.934558\n",
      "[40]\tvalid_0's l2: 0.930321\n",
      "[50]\tvalid_0's l2: 0.927527\n",
      "[60]\tvalid_0's l2: 0.922862\n",
      "[70]\tvalid_0's l2: 0.920092\n",
      "[80]\tvalid_0's l2: 0.916826\n",
      "[90]\tvalid_0's l2: 0.913986\n",
      "[100]\tvalid_0's l2: 0.912286\n",
      "train RMSE: 0.9140960797628188  |  val RMSE: 0.955136210306645\n",
      "Evaluation time: 0:01:07.149710\n",
      "------------------------------------------------------\n",
      "max_depth: 4\n",
      "[10]\tvalid_0's l2: 0.979894\n",
      "[20]\tvalid_0's l2: 0.938365\n",
      "[30]\tvalid_0's l2: 0.929151\n",
      "[40]\tvalid_0's l2: 0.921633\n",
      "[50]\tvalid_0's l2: 0.918035\n",
      "[60]\tvalid_0's l2: 0.912529\n",
      "[70]\tvalid_0's l2: 0.90777\n",
      "[80]\tvalid_0's l2: 0.905501\n",
      "[90]\tvalid_0's l2: 0.903998\n",
      "[100]\tvalid_0's l2: 0.903267\n",
      "train RMSE: 0.9055627896242909  |  val RMSE: 0.9503972498690684\n",
      "Evaluation time: 0:01:17.347390\n",
      "------------------------------------------------------\n",
      "max_depth: 5\n",
      "[10]\tvalid_0's l2: 0.972768\n",
      "[20]\tvalid_0's l2: 0.931944\n",
      "[30]\tvalid_0's l2: 0.922665\n",
      "[40]\tvalid_0's l2: 0.91669\n",
      "[50]\tvalid_0's l2: 0.912277\n",
      "[60]\tvalid_0's l2: 0.907124\n",
      "[70]\tvalid_0's l2: 0.903126\n",
      "[80]\tvalid_0's l2: 0.900367\n",
      "[90]\tvalid_0's l2: 0.898581\n",
      "[100]\tvalid_0's l2: 0.898265\n",
      "train RMSE: 0.8939391088376685  |  val RMSE: 0.9477548941061219\n",
      "Evaluation time: 0:01:30.126708\n",
      "------------------------------------------------------\n",
      "max_depth: 6\n",
      "[10]\tvalid_0's l2: 0.970271\n",
      "[20]\tvalid_0's l2: 0.926171\n",
      "[30]\tvalid_0's l2: 0.915845\n",
      "[40]\tvalid_0's l2: 0.909428\n",
      "[50]\tvalid_0's l2: 0.906045\n",
      "[60]\tvalid_0's l2: 0.902076\n",
      "[70]\tvalid_0's l2: 0.899444\n",
      "[80]\tvalid_0's l2: 0.898872\n",
      "[90]\tvalid_0's l2: 0.893281\n",
      "[100]\tvalid_0's l2: 0.892355\n",
      "train RMSE: 0.8906885454028171  |  val RMSE: 0.9446209600253197\n",
      "Evaluation time: 0:01:33.886965\n",
      "------------------------------------------------------\n",
      "max_depth: 7\n",
      "[10]\tvalid_0's l2: 0.969983\n",
      "[20]\tvalid_0's l2: 0.928556\n",
      "[30]\tvalid_0's l2: 0.916494\n",
      "[40]\tvalid_0's l2: 0.910813\n",
      "[50]\tvalid_0's l2: 0.906816\n",
      "[60]\tvalid_0's l2: 0.903269\n",
      "[70]\tvalid_0's l2: 0.896933\n",
      "[80]\tvalid_0's l2: 0.892166\n",
      "[90]\tvalid_0's l2: 0.888702\n",
      "[100]\tvalid_0's l2: 0.887458\n",
      "train RMSE: 0.8862901778934393  |  val RMSE: 0.9420451941044858\n",
      "Evaluation time: 0:01:30.650720\n",
      "------------------------------------------------------\n",
      "max_depth: 8\n",
      "[10]\tvalid_0's l2: 0.970376\n",
      "[20]\tvalid_0's l2: 0.929427\n",
      "[30]\tvalid_0's l2: 0.919318\n",
      "[40]\tvalid_0's l2: 0.913739\n",
      "[50]\tvalid_0's l2: 0.910369\n",
      "[60]\tvalid_0's l2: 0.906811\n",
      "[70]\tvalid_0's l2: 0.892847\n",
      "[80]\tvalid_0's l2: 0.889348\n",
      "[90]\tvalid_0's l2: 0.890109\n",
      "[100]\tvalid_0's l2: 0.890649\n",
      "train RMSE: 0.887140495759337  |  val RMSE: 0.9430293392094209\n",
      "Evaluation time: 0:01:24.619528\n",
      "------------------------------------------------------\n",
      "max_depth: 9\n",
      "[10]\tvalid_0's l2: 0.970452\n",
      "[20]\tvalid_0's l2: 0.927579\n",
      "[30]\tvalid_0's l2: 0.916828\n",
      "[40]\tvalid_0's l2: 0.91142\n",
      "[50]\tvalid_0's l2: 0.90745\n",
      "[60]\tvalid_0's l2: 0.904002\n",
      "[70]\tvalid_0's l2: 0.899567\n",
      "[80]\tvalid_0's l2: 0.898759\n",
      "[90]\tvalid_0's l2: 0.897032\n",
      "[100]\tvalid_0's l2: 0.897316\n",
      "train RMSE: 0.8842629090691982  |  val RMSE: 0.9466836491700161\n",
      "Evaluation time: 0:01:23.033335\n",
      "------------------------------------------------------\n",
      "max_depth: 10\n",
      "[10]\tvalid_0's l2: 0.970452\n",
      "[20]\tvalid_0's l2: 0.926375\n",
      "[30]\tvalid_0's l2: 0.916647\n",
      "[40]\tvalid_0's l2: 0.913267\n",
      "[50]\tvalid_0's l2: 0.910542\n",
      "[60]\tvalid_0's l2: 0.907584\n",
      "[70]\tvalid_0's l2: 0.903213\n",
      "[80]\tvalid_0's l2: 0.902082\n",
      "[90]\tvalid_0's l2: 0.901936\n",
      "[100]\tvalid_0's l2: 0.90017\n",
      "train RMSE: 0.8825219512568063  |  val RMSE: 0.9486126958006953\n",
      "Evaluation time: 0:01:22.105930\n",
      "------------------------------------------------------\n",
      "max_depth: 11\n",
      "[10]\tvalid_0's l2: 0.970452\n",
      "[20]\tvalid_0's l2: 0.926934\n",
      "[30]\tvalid_0's l2: 0.915826\n",
      "[40]\tvalid_0's l2: 0.910908\n",
      "[50]\tvalid_0's l2: 0.907268\n",
      "[60]\tvalid_0's l2: 0.899806\n",
      "[70]\tvalid_0's l2: 0.89734\n",
      "[80]\tvalid_0's l2: 0.895479\n",
      "[90]\tvalid_0's l2: 0.894185\n",
      "[100]\tvalid_0's l2: 0.889269\n",
      "train RMSE: 0.8771128430068383  |  val RMSE: 0.9430099917779654\n",
      "Evaluation time: 0:01:22.894539\n",
      "------------------------------------------------------\n",
      "max_depth: 12\n",
      "[10]\tvalid_0's l2: 0.970452\n",
      "[20]\tvalid_0's l2: 0.927899\n",
      "[30]\tvalid_0's l2: 0.917829\n",
      "[40]\tvalid_0's l2: 0.910831\n",
      "[50]\tvalid_0's l2: 0.903233\n",
      "[60]\tvalid_0's l2: 0.899904\n",
      "[70]\tvalid_0's l2: 0.894046\n",
      "[80]\tvalid_0's l2: 0.891609\n",
      "[90]\tvalid_0's l2: 0.886818\n",
      "[100]\tvalid_0's l2: 0.891492\n",
      "train RMSE: 0.8798540909075035  |  val RMSE: 0.9414240892192343\n",
      "Evaluation time: 0:01:27.836032\n",
      "------------------------------------------------------\n",
      "max_depth: 13\n",
      "[10]\tvalid_0's l2: 0.970452\n",
      "[20]\tvalid_0's l2: 0.927899\n",
      "[30]\tvalid_0's l2: 0.918143\n",
      "[40]\tvalid_0's l2: 0.910826\n",
      "[50]\tvalid_0's l2: 0.9076\n",
      "[60]\tvalid_0's l2: 0.905197\n",
      "[70]\tvalid_0's l2: 0.897318\n",
      "[80]\tvalid_0's l2: 0.890167\n",
      "[90]\tvalid_0's l2: 0.887123\n",
      "[100]\tvalid_0's l2: 0.885473\n",
      "train RMSE: 0.8756943117306795  |  val RMSE: 0.9406401360328426\n",
      "Evaluation time: 0:01:21.434940\n",
      "------------------------------------------------------\n",
      "max_depth: 14\n",
      "[10]\tvalid_0's l2: 0.970452\n",
      "[20]\tvalid_0's l2: 0.927899\n",
      "[30]\tvalid_0's l2: 0.918143\n",
      "[40]\tvalid_0's l2: 0.910826\n",
      "[50]\tvalid_0's l2: 0.906932\n",
      "[60]\tvalid_0's l2: 0.895272\n",
      "[70]\tvalid_0's l2: 0.89185\n",
      "[80]\tvalid_0's l2: 0.890572\n",
      "[90]\tvalid_0's l2: 0.889935\n",
      "[100]\tvalid_0's l2: 0.894702\n",
      "train RMSE: 0.8807910915458311  |  val RMSE: 0.9433572808060695\n",
      "Evaluation time: 0:01:22.000230\n",
      "------------------------------------------------------\n",
      "max_depth: 15\n",
      "[10]\tvalid_0's l2: 0.970452\n",
      "[20]\tvalid_0's l2: 0.927899\n",
      "[30]\tvalid_0's l2: 0.918143\n",
      "[40]\tvalid_0's l2: 0.91081\n",
      "[50]\tvalid_0's l2: 0.90706\n",
      "[60]\tvalid_0's l2: 0.904574\n",
      "[70]\tvalid_0's l2: 0.897725\n",
      "[80]\tvalid_0's l2: 0.895972\n",
      "[90]\tvalid_0's l2: 0.890175\n",
      "[100]\tvalid_0's l2: 0.892393\n",
      "train RMSE: 0.879164252088465  |  val RMSE: 0.9434828353669343\n",
      "Evaluation time: 0:01:22.134438\n",
      "------------------------------------------------------\n",
      "max_depth: 16\n",
      "[10]\tvalid_0's l2: 0.970452\n",
      "[20]\tvalid_0's l2: 0.927899\n",
      "[30]\tvalid_0's l2: 0.918143\n",
      "[40]\tvalid_0's l2: 0.91081\n",
      "[50]\tvalid_0's l2: 0.907088\n",
      "[60]\tvalid_0's l2: 0.903876\n",
      "[70]\tvalid_0's l2: 0.896248\n",
      "[80]\tvalid_0's l2: 0.890336\n",
      "[90]\tvalid_0's l2: 0.892226\n",
      "[100]\tvalid_0's l2: 0.890051\n",
      "train RMSE: 0.8817232552380506  |  val RMSE: 0.9433947505186175\n",
      "Evaluation time: 0:01:20.352339\n",
      "------------------------------------------------------\n",
      "max_depth: 17\n",
      "[10]\tvalid_0's l2: 0.970452\n",
      "[20]\tvalid_0's l2: 0.927899\n",
      "[30]\tvalid_0's l2: 0.918143\n",
      "[40]\tvalid_0's l2: 0.91081\n",
      "[50]\tvalid_0's l2: 0.906779\n",
      "[60]\tvalid_0's l2: 0.904692\n",
      "[70]\tvalid_0's l2: 0.897502\n",
      "[80]\tvalid_0's l2: 0.895231\n",
      "[90]\tvalid_0's l2: 0.893234\n",
      "[100]\tvalid_0's l2: 0.894062\n",
      "train RMSE: 0.8787183244087234  |  val RMSE: 0.9451032683192796\n",
      "Evaluation time: 0:01:18.260458\n",
      "------------------------------------------------------\n",
      "max_depth: 18\n",
      "[10]\tvalid_0's l2: 0.970452\n",
      "[20]\tvalid_0's l2: 0.927899\n",
      "[30]\tvalid_0's l2: 0.918143\n",
      "[40]\tvalid_0's l2: 0.91081\n",
      "[50]\tvalid_0's l2: 0.905145\n",
      "[60]\tvalid_0's l2: 0.902803\n",
      "[70]\tvalid_0's l2: 0.89495\n",
      "[80]\tvalid_0's l2: 0.893151\n",
      "[90]\tvalid_0's l2: 0.892235\n",
      "[100]\tvalid_0's l2: 0.893358\n",
      "train RMSE: 0.8795472424089551  |  val RMSE: 0.944572601583593\n",
      "Evaluation time: 0:01:18.703901\n",
      "------------------------------------------------------\n",
      "max_depth: 19\n",
      "[10]\tvalid_0's l2: 0.970452\n",
      "[20]\tvalid_0's l2: 0.927899\n",
      "[30]\tvalid_0's l2: 0.918143\n",
      "[40]\tvalid_0's l2: 0.91081\n",
      "[50]\tvalid_0's l2: 0.906417\n",
      "[60]\tvalid_0's l2: 0.902145\n",
      "[70]\tvalid_0's l2: 0.898516\n"
     ]
    },
    {
     "name": "stdout",
     "output_type": "stream",
     "text": [
      "[80]\tvalid_0's l2: 0.893113\n",
      "[90]\tvalid_0's l2: 0.888604\n",
      "[100]\tvalid_0's l2: 0.886321\n",
      "train RMSE: 0.8769934645174721  |  val RMSE: 0.941037465998777\n",
      "Evaluation time: 0:01:22.761338\n",
      "------------------------------------------------------\n",
      "max_depth: 20\n",
      "[10]\tvalid_0's l2: 0.970452\n",
      "[20]\tvalid_0's l2: 0.927899\n",
      "[30]\tvalid_0's l2: 0.918143\n",
      "[40]\tvalid_0's l2: 0.91081\n",
      "[50]\tvalid_0's l2: 0.90721\n",
      "[60]\tvalid_0's l2: 0.89641\n",
      "[70]\tvalid_0's l2: 0.889441\n",
      "[80]\tvalid_0's l2: 0.885592\n",
      "[90]\tvalid_0's l2: 0.884454\n",
      "[100]\tvalid_0's l2: 0.884591\n",
      "train RMSE: 0.8801624368858316  |  val RMSE: 0.9400738102386127\n",
      "Evaluation time: 0:01:20.409662\n",
      "------------------------------------------------------\n",
      "max_depth: 21\n",
      "[10]\tvalid_0's l2: 0.970452\n",
      "[20]\tvalid_0's l2: 0.927899\n",
      "[30]\tvalid_0's l2: 0.918143\n",
      "[40]\tvalid_0's l2: 0.91081\n",
      "[50]\tvalid_0's l2: 0.90721\n",
      "[60]\tvalid_0's l2: 0.896287\n",
      "[70]\tvalid_0's l2: 0.889537\n",
      "[80]\tvalid_0's l2: 0.88722\n",
      "[90]\tvalid_0's l2: 0.885942\n",
      "[100]\tvalid_0's l2: 0.88925\n",
      "train RMSE: 0.8777476698497476  |  val RMSE: 0.9412397906252132\n",
      "Evaluation time: 0:01:21.053535\n",
      "------------------------------------------------------\n",
      "max_depth: 22\n",
      "[10]\tvalid_0's l2: 0.970452\n",
      "[20]\tvalid_0's l2: 0.927899\n",
      "[30]\tvalid_0's l2: 0.918143\n",
      "[40]\tvalid_0's l2: 0.91081\n",
      "[50]\tvalid_0's l2: 0.90721\n",
      "[60]\tvalid_0's l2: 0.896076\n",
      "[70]\tvalid_0's l2: 0.889369\n",
      "[80]\tvalid_0's l2: 0.886323\n",
      "[90]\tvalid_0's l2: 0.885007\n",
      "[100]\tvalid_0's l2: 0.887613\n",
      "train RMSE: 0.8750109481829538  |  val RMSE: 0.9405345812666197\n",
      "Evaluation time: 0:01:23.704991\n",
      "------------------------------------------------------\n",
      "max_depth: 23\n",
      "[10]\tvalid_0's l2: 0.970452\n",
      "[20]\tvalid_0's l2: 0.927899\n",
      "[30]\tvalid_0's l2: 0.918143\n",
      "[40]\tvalid_0's l2: 0.91081\n",
      "[50]\tvalid_0's l2: 0.90721\n",
      "[60]\tvalid_0's l2: 0.896076\n",
      "[70]\tvalid_0's l2: 0.889369\n",
      "[80]\tvalid_0's l2: 0.886323\n",
      "[90]\tvalid_0's l2: 0.885007\n",
      "[100]\tvalid_0's l2: 0.887613\n",
      "train RMSE: 0.8750109481829538  |  val RMSE: 0.9405345812666197\n",
      "Evaluation time: 0:01:21.445704\n",
      "------------------------------------------------------\n",
      "max_depth: 24\n",
      "[10]\tvalid_0's l2: 0.970452\n",
      "[20]\tvalid_0's l2: 0.927899\n",
      "[30]\tvalid_0's l2: 0.918143\n",
      "[40]\tvalid_0's l2: 0.91081\n",
      "[50]\tvalid_0's l2: 0.90721\n",
      "[60]\tvalid_0's l2: 0.896076\n",
      "[70]\tvalid_0's l2: 0.889369\n",
      "[80]\tvalid_0's l2: 0.886323\n",
      "[90]\tvalid_0's l2: 0.885007\n",
      "[100]\tvalid_0's l2: 0.887613\n",
      "train RMSE: 0.8750109481829538  |  val RMSE: 0.9405345812666197\n",
      "Evaluation time: 0:01:23.713237\n",
      "------------------------------------------------------\n",
      "max_depth: 25\n",
      "[10]\tvalid_0's l2: 0.970452\n",
      "[20]\tvalid_0's l2: 0.927899\n",
      "[30]\tvalid_0's l2: 0.918143\n",
      "[40]\tvalid_0's l2: 0.91081\n",
      "[50]\tvalid_0's l2: 0.90721\n",
      "[60]\tvalid_0's l2: 0.896076\n",
      "[70]\tvalid_0's l2: 0.889369\n",
      "[80]\tvalid_0's l2: 0.886323\n",
      "[90]\tvalid_0's l2: 0.885007\n",
      "[100]\tvalid_0's l2: 0.887613\n",
      "train RMSE: 0.8750109481829538  |  val RMSE: 0.9405345812666197\n",
      "Evaluation time: 0:01:21.439881\n",
      "------------------------------------------------------\n",
      "max_depth: 26\n",
      "[10]\tvalid_0's l2: 0.970452\n",
      "[20]\tvalid_0's l2: 0.927899\n",
      "[30]\tvalid_0's l2: 0.918143\n",
      "[40]\tvalid_0's l2: 0.91081\n",
      "[50]\tvalid_0's l2: 0.90721\n",
      "[60]\tvalid_0's l2: 0.896076\n",
      "[70]\tvalid_0's l2: 0.889369\n",
      "[80]\tvalid_0's l2: 0.886323\n",
      "[90]\tvalid_0's l2: 0.885007\n",
      "[100]\tvalid_0's l2: 0.887613\n",
      "train RMSE: 0.8750109481829538  |  val RMSE: 0.9405345812666197\n",
      "Evaluation time: 0:01:25.106782\n",
      "------------------------------------------------------\n",
      "max_depth: 27\n",
      "[10]\tvalid_0's l2: 0.970452\n",
      "[20]\tvalid_0's l2: 0.927899\n",
      "[30]\tvalid_0's l2: 0.918143\n",
      "[40]\tvalid_0's l2: 0.91081\n",
      "[50]\tvalid_0's l2: 0.90721\n",
      "[60]\tvalid_0's l2: 0.896076\n",
      "[70]\tvalid_0's l2: 0.889369\n",
      "[80]\tvalid_0's l2: 0.886323\n",
      "[90]\tvalid_0's l2: 0.885007\n",
      "[100]\tvalid_0's l2: 0.887613\n",
      "train RMSE: 0.8750109481829538  |  val RMSE: 0.9405345812666197\n",
      "Evaluation time: 0:01:22.215442\n",
      "------------------------------------------------------\n",
      "max_depth: 28\n",
      "[10]\tvalid_0's l2: 0.970452\n",
      "[20]\tvalid_0's l2: 0.927899\n",
      "[30]\tvalid_0's l2: 0.918143\n",
      "[40]\tvalid_0's l2: 0.91081\n",
      "[50]\tvalid_0's l2: 0.90721\n",
      "[60]\tvalid_0's l2: 0.896076\n",
      "[70]\tvalid_0's l2: 0.889369\n",
      "[80]\tvalid_0's l2: 0.886323\n",
      "[90]\tvalid_0's l2: 0.885007\n",
      "[100]\tvalid_0's l2: 0.887613\n",
      "train RMSE: 0.8750109481829538  |  val RMSE: 0.9405345812666197\n",
      "Evaluation time: 0:01:23.469363\n",
      "------------------------------------------------------\n",
      "max_depth: 29\n",
      "[10]\tvalid_0's l2: 0.970452\n",
      "[20]\tvalid_0's l2: 0.927899\n",
      "[30]\tvalid_0's l2: 0.918143\n",
      "[40]\tvalid_0's l2: 0.91081\n",
      "[50]\tvalid_0's l2: 0.90721\n",
      "[60]\tvalid_0's l2: 0.896076\n",
      "[70]\tvalid_0's l2: 0.889369\n",
      "[80]\tvalid_0's l2: 0.886323\n",
      "[90]\tvalid_0's l2: 0.885007\n",
      "[100]\tvalid_0's l2: 0.887613\n",
      "train RMSE: 0.8750109481829538  |  val RMSE: 0.9405345812666197\n",
      "Evaluation time: 0:01:24.199919\n",
      "------------------------------------------------------\n"
     ]
    }
   ],
   "source": [
    "lgbm_train_lags_rmses = {}\n",
    "lgbm_val_lags_rmses = {}\n",
    "best_iterations_lags = {}\n",
    "max_depths = range(1, 30)\n",
    "for max_depth in max_depths:\n",
    "    start = datetime.datetime.now()\n",
    "    print('max_depth:', max_depth)\n",
    "    lgbm = LGBMRegressor(max_depth=max_depth)\n",
    "    lgbm.fit(X_train_lags,\n",
    "             y_train_lags,\n",
    "             eval_set=[(X_val_lags, y_val_lags)],\n",
    "             eval_metric='l2',\n",
    "             early_stopping_rounds=20,\n",
    "             verbose=10)\n",
    "    best_iterations_lags[max_depth] = lgbm.best_iteration_\n",
    "    lgbm_train_lags_rmses[max_depth] = RMSE(y_train_lags, lgbm.predict(X_train_lags).clip(0, 20))\n",
    "    lgbm_val_lags_rmses[max_depth] = RMSE(y_val_lags, lgbm.predict(X_val_lags).clip(0, 20))\n",
    "    print('train RMSE:', lgbm_train_lags_rmses[max_depth], ' | ',\n",
    "          'val RMSE:', lgbm_val_lags_rmses[max_depth])\n",
    "    print('Evaluation time:', datetime.datetime.now() - start)\n",
    "    print('------------------------------------------------------')"
   ]
  },
  {
   "cell_type": "code",
   "execution_count": 24,
   "id": "noted-eligibility",
   "metadata": {
    "ExecuteTime": {
     "end_time": "2021-10-20T21:52:10.163616Z",
     "start_time": "2021-10-20T21:52:09.416084Z"
    }
   },
   "outputs": [
    {
     "data": {
      "image/png": "[encoded data removed]",
      "text/plain": [
       "<Figure size 432x288 with 1 Axes>"
      ]
     },
     "metadata": {
      "needs_background": "light"
     },
     "output_type": "display_data"
    }
   ],
   "source": [
    "plt.title('LGBM lags')\n",
    "plt.plot(max_depths, lgbm_train_lags_rmses.values())\n",
    "plt.plot(max_depths, lgbm_val_lags_rmses.values())\n",
    "plt.legend(['train', 'val'])\n",
    "plt.xlabel('max_depth')\n",
    "plt.ylabel('rmse')\n",
    "plt.show()"
   ]
  },
  {
   "cell_type": "code",
   "execution_count": 25,
   "id": "tracked-employer",
   "metadata": {
    "ExecuteTime": {
     "end_time": "2021-10-20T21:52:10.211534Z",
     "start_time": "2021-10-20T21:52:10.172601Z"
    }
   },
   "outputs": [
    {
     "name": "stdout",
     "output_type": "stream",
     "text": [
      "max depth according to train rmse: 22\n",
      "max depth according to val rmse: 20\n"
     ]
    }
   ],
   "source": [
    "lgbm_train_lags_rmses = np.array(list(lgbm_train_lags_rmses.values()))\n",
    "lgbm_val_lags_rmses = np.array(list(lgbm_val_lags_rmses.values()))\n",
    "\n",
    "print('max depth according to train rmse:', max_depths[lgbm_train_lags_rmses.argmin()])\n",
    "print('max depth according to val rmse:', max_depths[lgbm_val_lags_rmses.argmin()])"
   ]
  },
  {
   "cell_type": "markdown",
   "id": "applied-maldives",
   "metadata": {},
   "source": [
    "For max depth equals 20 the rmse's are:  \n",
    "train RMSE: 0.88016  |  val RMSE: 0.94007  \n",
    "For max depth equals 22 the rmse's are:  \n",
    "train RMSE: 0.87501  |  val RMSE: 0.94053"
   ]
  },
  {
   "cell_type": "markdown",
   "id": "quantitative-thread",
   "metadata": {},
   "source": [
    "The quality is better than without lag features. It means that they help for predicting."
   ]
  },
  {
   "cell_type": "markdown",
   "id": "international-empire",
   "metadata": {},
   "source": [
    "## Data with lag features and target encoding"
   ]
  },
  {
   "cell_type": "code",
   "execution_count": 46,
   "id": "specific-intellectual",
   "metadata": {
    "ExecuteTime": {
     "end_time": "2021-10-21T07:06:35.529785Z",
     "start_time": "2021-10-21T06:25:56.404041Z"
    },
    "scrolled": true
   },
   "outputs": [
    {
     "name": "stdout",
     "output_type": "stream",
     "text": [
      "max_depth: 1\n"
     ]
    },
    {
     "name": "stderr",
     "output_type": "stream",
     "text": [
      "c:\\users\\user\\appdata\\local\\programs\\python\\python39\\lib\\site-packages\\lightgbm\\sklearn.py:726: UserWarning: 'early_stopping_rounds' argument is deprecated and will be removed in a future release of LightGBM. Pass 'early_stopping()' callback via 'callbacks' argument instead.\n",
      "  _log_warning(\"'early_stopping_rounds' argument is deprecated and will be removed in a future release of LightGBM. \"\n",
      "c:\\users\\user\\appdata\\local\\programs\\python\\python39\\lib\\site-packages\\lightgbm\\sklearn.py:736: UserWarning: 'verbose' argument is deprecated and will be removed in a future release of LightGBM. Pass 'log_evaluation()' callback via 'callbacks' argument instead.\n",
      "  _log_warning(\"'verbose' argument is deprecated and will be removed in a future release of LightGBM. \"\n"
     ]
    },
    {
     "name": "stdout",
     "output_type": "stream",
     "text": [
      "[10]\tvalid_0's l2: 1.05804\n",
      "[20]\tvalid_0's l2: 0.97222\n",
      "[30]\tvalid_0's l2: 0.935631\n",
      "[40]\tvalid_0's l2: 0.91928\n",
      "[50]\tvalid_0's l2: 0.912208\n",
      "[60]\tvalid_0's l2: 0.910027\n",
      "[70]\tvalid_0's l2: 0.906265\n",
      "[80]\tvalid_0's l2: 0.905566\n",
      "[90]\tvalid_0's l2: 0.903546\n",
      "[100]\tvalid_0's l2: 0.902194\n",
      "train RMSE: 0.9015515552342537  |  val RMSE: 0.949829759662076\n",
      "Evaluation time: 0:01:00.484080\n",
      "------------------------------------------------------\n",
      "max_depth: 2\n",
      "[10]\tvalid_0's l2: 0.980616\n",
      "[20]\tvalid_0's l2: 0.90725\n",
      "[30]\tvalid_0's l2: 0.889468\n",
      "[40]\tvalid_0's l2: 0.877867\n",
      "[50]\tvalid_0's l2: 0.866671\n",
      "[60]\tvalid_0's l2: 0.861197\n",
      "[70]\tvalid_0's l2: 0.855438\n",
      "[80]\tvalid_0's l2: 0.851868\n",
      "[90]\tvalid_0's l2: 0.84923\n",
      "[100]\tvalid_0's l2: 0.846868\n",
      "train RMSE: 0.8739489117971887  |  val RMSE: 0.9200841244738556\n",
      "Evaluation time: 0:01:07.887882\n",
      "------------------------------------------------------\n",
      "max_depth: 3\n",
      "[10]\tvalid_0's l2: 0.933016\n",
      "[20]\tvalid_0's l2: 0.864749\n",
      "[30]\tvalid_0's l2: 0.840662\n",
      "[40]\tvalid_0's l2: 0.831254\n",
      "[50]\tvalid_0's l2: 0.823728\n",
      "[60]\tvalid_0's l2: 0.820463\n",
      "[70]\tvalid_0's l2: 0.817632\n",
      "[80]\tvalid_0's l2: 0.811145\n",
      "[90]\tvalid_0's l2: 0.805489\n",
      "[100]\tvalid_0's l2: 0.80182\n",
      "train RMSE: 0.8472447951124014  |  val RMSE: 0.8953453537518701\n",
      "Evaluation time: 0:01:16.546684\n",
      "------------------------------------------------------\n",
      "max_depth: 4\n",
      "[10]\tvalid_0's l2: 0.901085\n",
      "[20]\tvalid_0's l2: 0.83012\n",
      "[30]\tvalid_0's l2: 0.797224\n",
      "[40]\tvalid_0's l2: 0.788077\n",
      "[50]\tvalid_0's l2: 0.784048\n",
      "[60]\tvalid_0's l2: 0.779727\n",
      "[70]\tvalid_0's l2: 0.77431\n",
      "[80]\tvalid_0's l2: 0.768109\n",
      "[90]\tvalid_0's l2: 0.763865\n",
      "[100]\tvalid_0's l2: 0.760725\n",
      "train RMSE: 0.8205529434378196  |  val RMSE: 0.872124055341509\n",
      "Evaluation time: 0:01:29.336262\n",
      "------------------------------------------------------\n",
      "max_depth: 5\n",
      "[10]\tvalid_0's l2: 0.861439\n",
      "[20]\tvalid_0's l2: 0.793074\n",
      "[30]\tvalid_0's l2: 0.76271\n",
      "[40]\tvalid_0's l2: 0.755639\n",
      "[50]\tvalid_0's l2: 0.750612\n",
      "[60]\tvalid_0's l2: 0.746444\n",
      "[70]\tvalid_0's l2: 0.742685\n",
      "[80]\tvalid_0's l2: 0.740596\n",
      "[90]\tvalid_0's l2: 0.741157\n",
      "[100]\tvalid_0's l2: 0.739645\n",
      "train RMSE: 0.798193904229238  |  val RMSE: 0.8597800309364222\n",
      "Evaluation time: 0:01:38.460475\n",
      "------------------------------------------------------\n",
      "max_depth: 6\n",
      "[10]\tvalid_0's l2: 0.837824\n",
      "[20]\tvalid_0's l2: 0.779326\n",
      "[30]\tvalid_0's l2: 0.757556\n",
      "[40]\tvalid_0's l2: 0.751643\n",
      "[50]\tvalid_0's l2: 0.750846\n",
      "[60]\tvalid_0's l2: 0.748273\n",
      "[70]\tvalid_0's l2: 0.746853\n",
      "[80]\tvalid_0's l2: 0.74324\n",
      "[90]\tvalid_0's l2: 0.744422\n",
      "[100]\tvalid_0's l2: 0.741686\n",
      "train RMSE: 0.7883023825773386  |  val RMSE: 0.8611563228435639\n",
      "Evaluation time: 0:01:31.597299\n",
      "------------------------------------------------------\n",
      "max_depth: 7\n",
      "[10]\tvalid_0's l2: 0.829905\n",
      "[20]\tvalid_0's l2: 0.770053\n",
      "[30]\tvalid_0's l2: 0.755375\n",
      "[40]\tvalid_0's l2: 0.750515\n",
      "[50]\tvalid_0's l2: 0.749633\n",
      "[60]\tvalid_0's l2: 0.744785\n",
      "[70]\tvalid_0's l2: 0.744958\n",
      "[80]\tvalid_0's l2: 0.743334\n",
      "[90]\tvalid_0's l2: 0.743298\n",
      "[100]\tvalid_0's l2: 0.743883\n",
      "train RMSE: 0.7867508175783899  |  val RMSE: 0.861211615221573\n",
      "Evaluation time: 0:01:22.834890\n",
      "------------------------------------------------------\n",
      "max_depth: 8\n",
      "[10]\tvalid_0's l2: 0.832044\n",
      "[20]\tvalid_0's l2: 0.776179\n",
      "[30]\tvalid_0's l2: 0.757424\n",
      "[40]\tvalid_0's l2: 0.74917\n",
      "[50]\tvalid_0's l2: 0.746989\n",
      "[60]\tvalid_0's l2: 0.743407\n",
      "[70]\tvalid_0's l2: 0.734712\n",
      "[80]\tvalid_0's l2: 0.732764\n",
      "[90]\tvalid_0's l2: 0.732191\n",
      "[100]\tvalid_0's l2: 0.729375\n",
      "train RMSE: 0.7768231540942473  |  val RMSE: 0.8540026223830688\n",
      "Evaluation time: 0:01:29.973117\n",
      "------------------------------------------------------\n",
      "max_depth: 9\n",
      "[10]\tvalid_0's l2: 0.824898\n",
      "[20]\tvalid_0's l2: 0.763822\n",
      "[30]\tvalid_0's l2: 0.748653\n",
      "[40]\tvalid_0's l2: 0.743325\n",
      "[50]\tvalid_0's l2: 0.742266\n",
      "[60]\tvalid_0's l2: 0.739076\n",
      "[70]\tvalid_0's l2: 0.736007\n",
      "[80]\tvalid_0's l2: 0.729759\n",
      "[90]\tvalid_0's l2: 0.728921\n",
      "[100]\tvalid_0's l2: 0.729295\n",
      "train RMSE: 0.7772965310222715  |  val RMSE: 0.8533670014046609\n",
      "Evaluation time: 0:01:25.638711\n",
      "------------------------------------------------------\n",
      "max_depth: 10\n",
      "[10]\tvalid_0's l2: 0.823434\n",
      "[20]\tvalid_0's l2: 0.761562\n",
      "[30]\tvalid_0's l2: 0.7418\n",
      "[40]\tvalid_0's l2: 0.736622\n",
      "[50]\tvalid_0's l2: 0.733947\n",
      "[60]\tvalid_0's l2: 0.735933\n",
      "train RMSE: 0.7976389811069633  |  val RMSE: 0.8566088474933347\n",
      "Evaluation time: 0:01:03.629269\n",
      "------------------------------------------------------\n",
      "max_depth: 11\n",
      "[10]\tvalid_0's l2: 0.823434\n",
      "[20]\tvalid_0's l2: 0.762553\n",
      "[30]\tvalid_0's l2: 0.744044\n",
      "[40]\tvalid_0's l2: 0.743728\n",
      "[50]\tvalid_0's l2: 0.739825\n",
      "[60]\tvalid_0's l2: 0.734426\n",
      "[70]\tvalid_0's l2: 0.727656\n",
      "[80]\tvalid_0's l2: 0.724559\n",
      "[90]\tvalid_0's l2: 0.723169\n",
      "[100]\tvalid_0's l2: 0.717144\n",
      "train RMSE: 0.768881601911104  |  val RMSE: 0.8464482406772303\n",
      "Evaluation time: 0:01:29.174643\n",
      "------------------------------------------------------\n",
      "max_depth: 12\n",
      "[10]\tvalid_0's l2: 0.823434\n",
      "[20]\tvalid_0's l2: 0.76507\n",
      "[30]\tvalid_0's l2: 0.746416\n",
      "[40]\tvalid_0's l2: 0.733308\n",
      "[50]\tvalid_0's l2: 0.736925\n",
      "[60]\tvalid_0's l2: 0.734171\n",
      "train RMSE: 0.7967173258030916  |  val RMSE: 0.8559521867615009\n",
      "Evaluation time: 0:01:02.320116\n",
      "------------------------------------------------------\n",
      "max_depth: 13\n",
      "[10]\tvalid_0's l2: 0.823434\n",
      "[20]\tvalid_0's l2: 0.761417\n",
      "[30]\tvalid_0's l2: 0.73902\n",
      "[40]\tvalid_0's l2: 0.732441\n",
      "[50]\tvalid_0's l2: 0.729978\n",
      "[60]\tvalid_0's l2: 0.720875\n",
      "[70]\tvalid_0's l2: 0.719951\n",
      "[80]\tvalid_0's l2: 0.71818\n",
      "[90]\tvalid_0's l2: 0.711462\n",
      "[100]\tvalid_0's l2: 0.709801\n",
      "train RMSE: 0.7654202319815488  |  val RMSE: 0.8424639771972711\n",
      "Evaluation time: 0:02:01.813884\n",
      "------------------------------------------------------\n",
      "max_depth: 14\n",
      "[10]\tvalid_0's l2: 0.823434\n",
      "[20]\tvalid_0's l2: 0.761412\n",
      "[30]\tvalid_0's l2: 0.734498\n",
      "[40]\tvalid_0's l2: 0.729955\n",
      "[50]\tvalid_0's l2: 0.724901\n",
      "[60]\tvalid_0's l2: 0.720464\n",
      "[70]\tvalid_0's l2: 0.718439\n",
      "[80]\tvalid_0's l2: 0.71812\n",
      "[90]\tvalid_0's l2: 0.715768\n",
      "[100]\tvalid_0's l2: 0.712491\n",
      "train RMSE: 0.765791231030213  |  val RMSE: 0.844081764723123\n",
      "Evaluation time: 0:01:28.386018\n",
      "------------------------------------------------------\n",
      "max_depth: 15\n",
      "[10]\tvalid_0's l2: 0.823434\n",
      "[20]\tvalid_0's l2: 0.761412\n",
      "[30]\tvalid_0's l2: 0.741267\n",
      "[40]\tvalid_0's l2: 0.732907\n",
      "[50]\tvalid_0's l2: 0.730196\n",
      "[60]\tvalid_0's l2: 0.728616\n",
      "[70]\tvalid_0's l2: 0.72646\n",
      "[80]\tvalid_0's l2: 0.725382\n",
      "[90]\tvalid_0's l2: 0.724553\n",
      "[100]\tvalid_0's l2: 0.722324\n",
      "train RMSE: 0.76633571251242  |  val RMSE: 0.8475730022337543\n",
      "Evaluation time: 0:01:40.785224\n",
      "------------------------------------------------------\n",
      "max_depth: 16\n",
      "[10]\tvalid_0's l2: 0.823434\n",
      "[20]\tvalid_0's l2: 0.761412\n",
      "[30]\tvalid_0's l2: 0.741215\n",
      "[40]\tvalid_0's l2: 0.72385\n",
      "[50]\tvalid_0's l2: 0.723014\n",
      "[60]\tvalid_0's l2: 0.719493\n",
      "[70]\tvalid_0's l2: 0.721122\n",
      "[80]\tvalid_0's l2: 0.715565\n",
      "[90]\tvalid_0's l2: 0.715721\n",
      "[100]\tvalid_0's l2: 0.710967\n",
      "train RMSE: 0.7634883910614416  |  val RMSE: 0.8431657969395371\n",
      "Evaluation time: 0:01:33.001982\n",
      "------------------------------------------------------\n",
      "max_depth: 17\n",
      "[10]\tvalid_0's l2: 0.823434\n",
      "[20]\tvalid_0's l2: 0.761412\n",
      "[30]\tvalid_0's l2: 0.744814\n",
      "[40]\tvalid_0's l2: 0.732868\n",
      "[50]\tvalid_0's l2: 0.731618\n",
      "[60]\tvalid_0's l2: 0.729132\n",
      "[70]\tvalid_0's l2: 0.727217\n",
      "[80]\tvalid_0's l2: 0.722776\n",
      "[90]\tvalid_0's l2: 0.72228\n",
      "[100]\tvalid_0's l2: 0.722034\n",
      "train RMSE: 0.7699036876700566  |  val RMSE: 0.8494529954345263\n",
      "Evaluation time: 0:01:35.085013\n",
      "------------------------------------------------------\n",
      "max_depth: 18\n",
      "[10]\tvalid_0's l2: 0.823434\n",
      "[20]\tvalid_0's l2: 0.761412\n",
      "[30]\tvalid_0's l2: 0.741481\n",
      "[40]\tvalid_0's l2: 0.72801\n",
      "[50]\tvalid_0's l2: 0.726246\n",
      "[60]\tvalid_0's l2: 0.720945\n",
      "[70]\tvalid_0's l2: 0.716499\n",
      "[80]\tvalid_0's l2: 0.71419\n",
      "[90]\tvalid_0's l2: 0.712802\n",
      "[100]\tvalid_0's l2: 0.711228\n",
      "train RMSE: 0.7638195374874784  |  val RMSE: 0.8430575970917985\n",
      "Evaluation time: 0:01:33.923835\n",
      "------------------------------------------------------\n",
      "max_depth: 19\n",
      "[10]\tvalid_0's l2: 0.823434\n",
      "[20]\tvalid_0's l2: 0.761412\n",
      "[30]\tvalid_0's l2: 0.741481\n",
      "[40]\tvalid_0's l2: 0.72801\n",
      "[50]\tvalid_0's l2: 0.726246\n",
      "[60]\tvalid_0's l2: 0.720944\n",
      "[70]\tvalid_0's l2: 0.717139\n",
      "[80]\tvalid_0's l2: 0.714506\n",
      "[90]\tvalid_0's l2: 0.713187\n",
      "[100]\tvalid_0's l2: 0.711704\n",
      "train RMSE: 0.7635868075215766  |  val RMSE: 0.8436101571647162\n",
      "Evaluation time: 0:01:28.546928\n",
      "------------------------------------------------------\n",
      "max_depth: 20\n"
     ]
    },
    {
     "name": "stdout",
     "output_type": "stream",
     "text": [
      "[10]\tvalid_0's l2: 0.823434\n",
      "[20]\tvalid_0's l2: 0.761412\n",
      "[30]\tvalid_0's l2: 0.741481\n",
      "[40]\tvalid_0's l2: 0.72801\n",
      "[50]\tvalid_0's l2: 0.726246\n",
      "[60]\tvalid_0's l2: 0.720945\n",
      "[70]\tvalid_0's l2: 0.716627\n",
      "[80]\tvalid_0's l2: 0.714391\n",
      "[90]\tvalid_0's l2: 0.712963\n",
      "[100]\tvalid_0's l2: 0.710092\n",
      "train RMSE: 0.7631245102416568  |  val RMSE: 0.84265848968965\n",
      "Evaluation time: 0:01:23.094939\n",
      "------------------------------------------------------\n",
      "max_depth: 21\n",
      "[10]\tvalid_0's l2: 0.823434\n",
      "[20]\tvalid_0's l2: 0.761412\n",
      "[30]\tvalid_0's l2: 0.741481\n",
      "[40]\tvalid_0's l2: 0.72801\n",
      "[50]\tvalid_0's l2: 0.726246\n",
      "[60]\tvalid_0's l2: 0.720239\n",
      "[70]\tvalid_0's l2: 0.715295\n",
      "[80]\tvalid_0's l2: 0.711426\n",
      "[90]\tvalid_0's l2: 0.710662\n",
      "[100]\tvalid_0's l2: 0.710429\n",
      "train RMSE: 0.7696939245014939  |  val RMSE: 0.8426296654543233\n",
      "Evaluation time: 0:01:19.998603\n",
      "------------------------------------------------------\n",
      "max_depth: 22\n",
      "[10]\tvalid_0's l2: 0.823434\n",
      "[20]\tvalid_0's l2: 0.761412\n",
      "[30]\tvalid_0's l2: 0.741481\n",
      "[40]\tvalid_0's l2: 0.72801\n",
      "[50]\tvalid_0's l2: 0.726246\n",
      "[60]\tvalid_0's l2: 0.720239\n",
      "[70]\tvalid_0's l2: 0.715295\n",
      "[80]\tvalid_0's l2: 0.711426\n",
      "[90]\tvalid_0's l2: 0.710662\n",
      "[100]\tvalid_0's l2: 0.710429\n",
      "train RMSE: 0.7696939245014939  |  val RMSE: 0.8426296654543233\n",
      "Evaluation time: 0:01:20.046633\n",
      "------------------------------------------------------\n",
      "max_depth: 23\n",
      "[10]\tvalid_0's l2: 0.823434\n",
      "[20]\tvalid_0's l2: 0.761412\n",
      "[30]\tvalid_0's l2: 0.741481\n",
      "[40]\tvalid_0's l2: 0.72801\n",
      "[50]\tvalid_0's l2: 0.726246\n",
      "[60]\tvalid_0's l2: 0.720239\n",
      "[70]\tvalid_0's l2: 0.715295\n",
      "[80]\tvalid_0's l2: 0.711426\n",
      "[90]\tvalid_0's l2: 0.710662\n",
      "[100]\tvalid_0's l2: 0.710429\n",
      "train RMSE: 0.7696939245014939  |  val RMSE: 0.8426296654543233\n",
      "Evaluation time: 0:01:21.362512\n",
      "------------------------------------------------------\n",
      "max_depth: 24\n",
      "[10]\tvalid_0's l2: 0.823434\n",
      "[20]\tvalid_0's l2: 0.761412\n",
      "[30]\tvalid_0's l2: 0.741481\n",
      "[40]\tvalid_0's l2: 0.72801\n",
      "[50]\tvalid_0's l2: 0.726246\n",
      "[60]\tvalid_0's l2: 0.720239\n",
      "[70]\tvalid_0's l2: 0.715295\n",
      "[80]\tvalid_0's l2: 0.711426\n",
      "[90]\tvalid_0's l2: 0.710662\n",
      "[100]\tvalid_0's l2: 0.710429\n",
      "train RMSE: 0.7696939245014939  |  val RMSE: 0.8426296654543233\n",
      "Evaluation time: 0:01:19.134827\n",
      "------------------------------------------------------\n",
      "max_depth: 25\n",
      "[10]\tvalid_0's l2: 0.823434\n",
      "[20]\tvalid_0's l2: 0.761412\n",
      "[30]\tvalid_0's l2: 0.741481\n",
      "[40]\tvalid_0's l2: 0.72801\n",
      "[50]\tvalid_0's l2: 0.726246\n",
      "[60]\tvalid_0's l2: 0.720239\n",
      "[70]\tvalid_0's l2: 0.715295\n",
      "[80]\tvalid_0's l2: 0.711426\n",
      "[90]\tvalid_0's l2: 0.710662\n",
      "[100]\tvalid_0's l2: 0.710429\n",
      "train RMSE: 0.7696939245014939  |  val RMSE: 0.8426296654543233\n",
      "Evaluation time: 0:01:19.118485\n",
      "------------------------------------------------------\n",
      "max_depth: 26\n",
      "[10]\tvalid_0's l2: 0.823434\n",
      "[20]\tvalid_0's l2: 0.761412\n",
      "[30]\tvalid_0's l2: 0.741481\n",
      "[40]\tvalid_0's l2: 0.72801\n",
      "[50]\tvalid_0's l2: 0.726246\n",
      "[60]\tvalid_0's l2: 0.720239\n",
      "[70]\tvalid_0's l2: 0.715295\n",
      "[80]\tvalid_0's l2: 0.711426\n",
      "[90]\tvalid_0's l2: 0.710662\n",
      "[100]\tvalid_0's l2: 0.710429\n",
      "train RMSE: 0.7696939245014939  |  val RMSE: 0.8426296654543233\n",
      "Evaluation time: 0:01:17.615700\n",
      "------------------------------------------------------\n",
      "max_depth: 27\n",
      "[10]\tvalid_0's l2: 0.823434\n",
      "[20]\tvalid_0's l2: 0.761412\n",
      "[30]\tvalid_0's l2: 0.741481\n",
      "[40]\tvalid_0's l2: 0.72801\n",
      "[50]\tvalid_0's l2: 0.726246\n",
      "[60]\tvalid_0's l2: 0.720239\n",
      "[70]\tvalid_0's l2: 0.715295\n",
      "[80]\tvalid_0's l2: 0.711426\n",
      "[90]\tvalid_0's l2: 0.710662\n",
      "[100]\tvalid_0's l2: 0.710429\n",
      "train RMSE: 0.7696939245014939  |  val RMSE: 0.8426296654543233\n",
      "Evaluation time: 0:01:21.739555\n",
      "------------------------------------------------------\n",
      "max_depth: 28\n",
      "[10]\tvalid_0's l2: 0.823434\n",
      "[20]\tvalid_0's l2: 0.761412\n",
      "[30]\tvalid_0's l2: 0.741481\n",
      "[40]\tvalid_0's l2: 0.72801\n",
      "[50]\tvalid_0's l2: 0.726246\n",
      "[60]\tvalid_0's l2: 0.720239\n",
      "[70]\tvalid_0's l2: 0.715295\n",
      "[80]\tvalid_0's l2: 0.711426\n",
      "[90]\tvalid_0's l2: 0.710662\n",
      "[100]\tvalid_0's l2: 0.710429\n",
      "train RMSE: 0.7696939245014939  |  val RMSE: 0.8426296654543233\n",
      "Evaluation time: 0:01:18.648174\n",
      "------------------------------------------------------\n",
      "max_depth: 29\n",
      "[10]\tvalid_0's l2: 0.823434\n",
      "[20]\tvalid_0's l2: 0.761412\n",
      "[30]\tvalid_0's l2: 0.741481\n",
      "[40]\tvalid_0's l2: 0.72801\n",
      "[50]\tvalid_0's l2: 0.726246\n",
      "[60]\tvalid_0's l2: 0.720239\n",
      "[70]\tvalid_0's l2: 0.715295\n",
      "[80]\tvalid_0's l2: 0.711426\n",
      "[90]\tvalid_0's l2: 0.710662\n",
      "[100]\tvalid_0's l2: 0.710429\n",
      "train RMSE: 0.7696939245014939  |  val RMSE: 0.8426296654543233\n",
      "Evaluation time: 0:01:18.795030\n",
      "------------------------------------------------------\n"
     ]
    }
   ],
   "source": [
    "lgbm_train_full_rmses = {}\n",
    "lgbm_val_full_rmses = {}\n",
    "best_iterations_full = {}\n",
    "max_depths = range(1, 30)\n",
    "for max_depth in max_depths:\n",
    "    start = datetime.datetime.now()\n",
    "    print('max_depth:', max_depth)\n",
    "    lgbm = LGBMRegressor(max_depth=max_depth)\n",
    "    lgbm.fit(X_train_full,\n",
    "             y_train_full,\n",
    "             eval_set=[(X_val_full, y_val_full)],\n",
    "             eval_metric='l2',\n",
    "             early_stopping_rounds=20,\n",
    "             verbose=10)\n",
    "    best_iterations_full[max_depth] = lgbm.best_iteration_\n",
    "    lgbm_train_full_rmses[max_depth] = RMSE(y_train_full, lgbm.predict(X_train_full).clip(0, 20))\n",
    "    lgbm_val_full_rmses[max_depth] = RMSE(y_val_full, lgbm.predict(X_val_full).clip(0, 20))\n",
    "    print('train RMSE:', lgbm_train_full_rmses[max_depth], ' | ',\n",
    "          'val RMSE:', lgbm_val_full_rmses[max_depth])\n",
    "    print('Evaluation time:', datetime.datetime.now() - start)\n",
    "    print('------------------------------------------------------')"
   ]
  },
  {
   "cell_type": "code",
   "execution_count": 47,
   "id": "mineral-operation",
   "metadata": {
    "ExecuteTime": {
     "end_time": "2021-10-21T07:06:36.849224Z",
     "start_time": "2021-10-21T07:06:35.565734Z"
    }
   },
   "outputs": [
    {
     "data": {
      "image/png": "[encoded data removed]",
      "text/plain": [
       "<Figure size 432x288 with 1 Axes>"
      ]
     },
     "metadata": {
      "needs_background": "light"
     },
     "output_type": "display_data"
    }
   ],
   "source": [
    "plt.title('LGBM full')\n",
    "plt.plot(max_depths, lgbm_train_full_rmses.values())\n",
    "plt.plot(max_depths, lgbm_val_full_rmses.values())\n",
    "plt.legend(['train', 'val'])\n",
    "plt.xlabel('max_depth')\n",
    "plt.ylabel('rmse')\n",
    "plt.show()"
   ]
  },
  {
   "cell_type": "code",
   "execution_count": 48,
   "id": "returning-zimbabwe",
   "metadata": {
    "ExecuteTime": {
     "end_time": "2021-10-21T07:06:36.881192Z",
     "start_time": "2021-10-21T07:06:36.860211Z"
    }
   },
   "outputs": [
    {
     "name": "stdout",
     "output_type": "stream",
     "text": [
      "max depth according to train rmse: 20\n",
      "max depth according to val rmse: 13\n"
     ]
    }
   ],
   "source": [
    "lgbm_train_full_rmses = np.array(list(lgbm_train_full_rmses.values()))\n",
    "lgbm_val_full_rmses = np.array(list(lgbm_val_full_rmses.values()))\n",
    "\n",
    "print('max depth according to train rmse:', max_depths[lgbm_train_full_rmses.argmin()])\n",
    "print('max depth according to val rmse:', max_depths[lgbm_val_full_rmses.argmin()])"
   ]
  },
  {
   "cell_type": "markdown",
   "id": "seven-lyric",
   "metadata": {},
   "source": [
    "For max depth equals 13 the rmse's are:  \n",
    "train RMSE: 0.76542  |  val RMSE: 0.84246  \n",
    "For max depth equals 20 the rmse's are:  \n",
    "train RMSE: 0.76312  |  val RMSE: 0.84266"
   ]
  },
  {
   "cell_type": "markdown",
   "id": "technical-female",
   "metadata": {},
   "source": [
    "The quality is better than without target encoded features. It means that they help for predicting."
   ]
  },
  {
   "cell_type": "markdown",
   "id": "freelance-touch",
   "metadata": {},
   "source": [
    "##  Data with lag features and only target encoded features"
   ]
  },
  {
   "cell_type": "code",
   "execution_count": 82,
   "id": "verbal-pathology",
   "metadata": {
    "ExecuteTime": {
     "end_time": "2021-10-21T08:11:32.410578Z",
     "start_time": "2021-10-21T07:35:21.768520Z"
    },
    "scrolled": true
   },
   "outputs": [
    {
     "name": "stdout",
     "output_type": "stream",
     "text": [
      "max_depth: 1\n"
     ]
    },
    {
     "name": "stderr",
     "output_type": "stream",
     "text": [
      "c:\\users\\user\\appdata\\local\\programs\\python\\python39\\lib\\site-packages\\lightgbm\\sklearn.py:726: UserWarning: 'early_stopping_rounds' argument is deprecated and will be removed in a future release of LightGBM. Pass 'early_stopping()' callback via 'callbacks' argument instead.\n",
      "  _log_warning(\"'early_stopping_rounds' argument is deprecated and will be removed in a future release of LightGBM. \"\n",
      "c:\\users\\user\\appdata\\local\\programs\\python\\python39\\lib\\site-packages\\lightgbm\\sklearn.py:736: UserWarning: 'verbose' argument is deprecated and will be removed in a future release of LightGBM. Pass 'log_evaluation()' callback via 'callbacks' argument instead.\n",
      "  _log_warning(\"'verbose' argument is deprecated and will be removed in a future release of LightGBM. \"\n"
     ]
    },
    {
     "name": "stdout",
     "output_type": "stream",
     "text": [
      "[10]\tvalid_0's l2: 1.05804\n",
      "[20]\tvalid_0's l2: 0.97222\n",
      "[30]\tvalid_0's l2: 0.935631\n",
      "[40]\tvalid_0's l2: 0.91928\n",
      "[50]\tvalid_0's l2: 0.912208\n",
      "[60]\tvalid_0's l2: 0.910027\n",
      "[70]\tvalid_0's l2: 0.906265\n",
      "[80]\tvalid_0's l2: 0.905566\n",
      "[90]\tvalid_0's l2: 0.903546\n",
      "[100]\tvalid_0's l2: 0.902194\n",
      "train RMSE: 0.9015515552342537  |  val RMSE: 0.949829759662076\n",
      "Evaluation time: 0:00:50.611071\n",
      "------------------------------------------------------\n",
      "max_depth: 2\n",
      "[10]\tvalid_0's l2: 0.980616\n",
      "[20]\tvalid_0's l2: 0.90725\n",
      "[30]\tvalid_0's l2: 0.890272\n",
      "[40]\tvalid_0's l2: 0.87963\n",
      "[50]\tvalid_0's l2: 0.869829\n",
      "[60]\tvalid_0's l2: 0.86423\n",
      "[70]\tvalid_0's l2: 0.858207\n",
      "[80]\tvalid_0's l2: 0.854594\n",
      "[90]\tvalid_0's l2: 0.851638\n",
      "[100]\tvalid_0's l2: 0.849312\n",
      "train RMSE: 0.8743863241820032  |  val RMSE: 0.9214334360154242\n",
      "Evaluation time: 0:01:01.243210\n",
      "------------------------------------------------------\n",
      "max_depth: 3\n",
      "[10]\tvalid_0's l2: 0.93348\n",
      "[20]\tvalid_0's l2: 0.867095\n",
      "[30]\tvalid_0's l2: 0.843247\n",
      "[40]\tvalid_0's l2: 0.833828\n",
      "[50]\tvalid_0's l2: 0.825013\n",
      "[60]\tvalid_0's l2: 0.822168\n",
      "[70]\tvalid_0's l2: 0.820532\n",
      "[80]\tvalid_0's l2: 0.815875\n",
      "[90]\tvalid_0's l2: 0.81205\n",
      "[100]\tvalid_0's l2: 0.807859\n",
      "train RMSE: 0.8485092729858273  |  val RMSE: 0.8987489095692093\n",
      "Evaluation time: 0:01:12.234626\n",
      "------------------------------------------------------\n",
      "max_depth: 4\n",
      "[10]\tvalid_0's l2: 0.90219\n",
      "[20]\tvalid_0's l2: 0.83659\n",
      "[30]\tvalid_0's l2: 0.801717\n",
      "[40]\tvalid_0's l2: 0.789952\n",
      "[50]\tvalid_0's l2: 0.785764\n",
      "[60]\tvalid_0's l2: 0.782865\n",
      "[70]\tvalid_0's l2: 0.77822\n",
      "[80]\tvalid_0's l2: 0.775466\n",
      "[90]\tvalid_0's l2: 0.771944\n",
      "[100]\tvalid_0's l2: 0.767902\n",
      "train RMSE: 0.8231298305075911  |  val RMSE: 0.8762580452722073\n",
      "Evaluation time: 0:01:19.620350\n",
      "------------------------------------------------------\n",
      "max_depth: 5\n",
      "[10]\tvalid_0's l2: 0.859036\n",
      "[20]\tvalid_0's l2: 0.795446\n",
      "[30]\tvalid_0's l2: 0.77381\n",
      "[40]\tvalid_0's l2: 0.768309\n",
      "[50]\tvalid_0's l2: 0.765342\n",
      "[60]\tvalid_0's l2: 0.760509\n",
      "[70]\tvalid_0's l2: 0.757874\n",
      "[80]\tvalid_0's l2: 0.754204\n",
      "[90]\tvalid_0's l2: 0.752247\n",
      "[100]\tvalid_0's l2: 0.749731\n",
      "train RMSE: 0.8025285623404961  |  val RMSE: 0.865841813713976\n",
      "Evaluation time: 0:01:35.800078\n",
      "------------------------------------------------------\n",
      "max_depth: 6\n",
      "[10]\tvalid_0's l2: 0.83995\n",
      "[20]\tvalid_0's l2: 0.78221\n",
      "[30]\tvalid_0's l2: 0.765152\n",
      "[40]\tvalid_0's l2: 0.76148\n",
      "[50]\tvalid_0's l2: 0.758537\n",
      "[60]\tvalid_0's l2: 0.755152\n",
      "[70]\tvalid_0's l2: 0.752096\n",
      "[80]\tvalid_0's l2: 0.746099\n",
      "[90]\tvalid_0's l2: 0.745681\n",
      "[100]\tvalid_0's l2: 0.743998\n",
      "train RMSE: 0.7926478708431121  |  val RMSE: 0.8625199187234429\n",
      "Evaluation time: 0:01:24.120508\n",
      "------------------------------------------------------\n",
      "max_depth: 7\n",
      "[10]\tvalid_0's l2: 0.834919\n",
      "[20]\tvalid_0's l2: 0.776042\n",
      "[30]\tvalid_0's l2: 0.758277\n",
      "[40]\tvalid_0's l2: 0.752209\n",
      "[50]\tvalid_0's l2: 0.752087\n",
      "[60]\tvalid_0's l2: 0.750793\n",
      "[70]\tvalid_0's l2: 0.746442\n",
      "[80]\tvalid_0's l2: 0.745414\n",
      "[90]\tvalid_0's l2: 0.74552\n",
      "[100]\tvalid_0's l2: 0.744774\n",
      "train RMSE: 0.7896155811378969  |  val RMSE: 0.862673845087987\n",
      "Evaluation time: 0:01:18.812314\n",
      "------------------------------------------------------\n",
      "max_depth: 8\n",
      "[10]\tvalid_0's l2: 0.829459\n",
      "[20]\tvalid_0's l2: 0.767742\n",
      "[30]\tvalid_0's l2: 0.752381\n",
      "[40]\tvalid_0's l2: 0.747868\n",
      "[50]\tvalid_0's l2: 0.743584\n",
      "[60]\tvalid_0's l2: 0.742165\n",
      "[70]\tvalid_0's l2: 0.733595\n",
      "[80]\tvalid_0's l2: 0.728658\n",
      "[90]\tvalid_0's l2: 0.726035\n",
      "[100]\tvalid_0's l2: 0.727215\n",
      "train RMSE: 0.786943993384197  |  val RMSE: 0.8517306975583359\n",
      "Evaluation time: 0:01:13.505188\n",
      "------------------------------------------------------\n",
      "max_depth: 9\n",
      "[10]\tvalid_0's l2: 0.839837\n",
      "[20]\tvalid_0's l2: 0.769388\n",
      "[30]\tvalid_0's l2: 0.749375\n",
      "[40]\tvalid_0's l2: 0.736731\n",
      "[50]\tvalid_0's l2: 0.733742\n",
      "[60]\tvalid_0's l2: 0.725786\n",
      "[70]\tvalid_0's l2: 0.725555\n",
      "[80]\tvalid_0's l2: 0.722187\n",
      "[90]\tvalid_0's l2: 0.721414\n",
      "[100]\tvalid_0's l2: 0.718798\n",
      "train RMSE: 0.7814323095244315  |  val RMSE: 0.8476715407029533\n",
      "Evaluation time: 0:01:15.639275\n",
      "------------------------------------------------------\n",
      "max_depth: 10\n",
      "[10]\tvalid_0's l2: 0.829956\n",
      "[20]\tvalid_0's l2: 0.767646\n",
      "[30]\tvalid_0's l2: 0.746462\n",
      "[40]\tvalid_0's l2: 0.736634\n",
      "[50]\tvalid_0's l2: 0.735528\n",
      "[60]\tvalid_0's l2: 0.734855\n",
      "[70]\tvalid_0's l2: 0.733257\n",
      "[80]\tvalid_0's l2: 0.731437\n",
      "[90]\tvalid_0's l2: 0.730058\n",
      "[100]\tvalid_0's l2: 0.729991\n",
      "train RMSE: 0.7818104321557156  |  val RMSE: 0.8542503195042116\n",
      "Evaluation time: 0:01:13.871190\n",
      "------------------------------------------------------\n",
      "max_depth: 11\n",
      "[10]\tvalid_0's l2: 0.830415\n",
      "[20]\tvalid_0's l2: 0.775119\n",
      "[30]\tvalid_0's l2: 0.751162\n",
      "[40]\tvalid_0's l2: 0.741507\n",
      "[50]\tvalid_0's l2: 0.737836\n",
      "[60]\tvalid_0's l2: 0.735477\n",
      "[70]\tvalid_0's l2: 0.73251\n",
      "[80]\tvalid_0's l2: 0.730222\n",
      "[90]\tvalid_0's l2: 0.729508\n",
      "[100]\tvalid_0's l2: 0.72924\n",
      "train RMSE: 0.7794495745046173  |  val RMSE: 0.8532654348610901\n",
      "Evaluation time: 0:01:10.671709\n",
      "------------------------------------------------------\n",
      "max_depth: 12\n",
      "[10]\tvalid_0's l2: 0.830415\n",
      "[20]\tvalid_0's l2: 0.771525\n",
      "[30]\tvalid_0's l2: 0.757001\n",
      "[40]\tvalid_0's l2: 0.744598\n",
      "[50]\tvalid_0's l2: 0.738538\n",
      "[60]\tvalid_0's l2: 0.735857\n",
      "[70]\tvalid_0's l2: 0.732419\n",
      "[80]\tvalid_0's l2: 0.729389\n",
      "[90]\tvalid_0's l2: 0.722609\n",
      "[100]\tvalid_0's l2: 0.714711\n",
      "train RMSE: 0.775072171066074  |  val RMSE: 0.8453811977437147\n",
      "Evaluation time: 0:01:19.939243\n",
      "------------------------------------------------------\n",
      "max_depth: 13\n",
      "[10]\tvalid_0's l2: 0.830415\n",
      "[20]\tvalid_0's l2: 0.77165\n",
      "[30]\tvalid_0's l2: 0.753744\n",
      "[40]\tvalid_0's l2: 0.744115\n",
      "[50]\tvalid_0's l2: 0.739688\n",
      "[60]\tvalid_0's l2: 0.737631\n",
      "[70]\tvalid_0's l2: 0.734801\n",
      "[80]\tvalid_0's l2: 0.733418\n",
      "[90]\tvalid_0's l2: 0.732767\n",
      "[100]\tvalid_0's l2: 0.730801\n",
      "train RMSE: 0.7746626253570829  |  val RMSE: 0.8548632359740579\n",
      "Evaluation time: 0:01:13.279566\n",
      "------------------------------------------------------\n",
      "max_depth: 14\n",
      "[10]\tvalid_0's l2: 0.830415\n",
      "[20]\tvalid_0's l2: 0.77165\n",
      "[30]\tvalid_0's l2: 0.751321\n",
      "[40]\tvalid_0's l2: 0.740043\n",
      "[50]\tvalid_0's l2: 0.734392\n",
      "[60]\tvalid_0's l2: 0.729828\n",
      "[70]\tvalid_0's l2: 0.728208\n",
      "[80]\tvalid_0's l2: 0.725877\n",
      "[90]\tvalid_0's l2: 0.723317\n",
      "[100]\tvalid_0's l2: 0.720761\n",
      "train RMSE: 0.7730322870200047  |  val RMSE: 0.8487348369954397\n",
      "Evaluation time: 0:01:14.140703\n",
      "------------------------------------------------------\n",
      "max_depth: 15\n",
      "[10]\tvalid_0's l2: 0.830415\n",
      "[20]\tvalid_0's l2: 0.77165\n",
      "[30]\tvalid_0's l2: 0.751366\n",
      "[40]\tvalid_0's l2: 0.740752\n",
      "[50]\tvalid_0's l2: 0.736845\n",
      "[60]\tvalid_0's l2: 0.730132\n",
      "[70]\tvalid_0's l2: 0.726278\n",
      "[80]\tvalid_0's l2: 0.723671\n",
      "[90]\tvalid_0's l2: 0.714708\n",
      "[100]\tvalid_0's l2: 0.710502\n",
      "train RMSE: 0.7720585479975762  |  val RMSE: 0.8428807524840594\n",
      "Evaluation time: 0:01:24.490380\n",
      "------------------------------------------------------\n",
      "max_depth: 16\n",
      "[10]\tvalid_0's l2: 0.830415\n",
      "[20]\tvalid_0's l2: 0.77165\n",
      "[30]\tvalid_0's l2: 0.751589\n",
      "[40]\tvalid_0's l2: 0.742157\n",
      "[50]\tvalid_0's l2: 0.736336\n",
      "[60]\tvalid_0's l2: 0.734645\n",
      "[70]\tvalid_0's l2: 0.729021\n",
      "[80]\tvalid_0's l2: 0.723377\n",
      "[90]\tvalid_0's l2: 0.71915\n",
      "[100]\tvalid_0's l2: 0.718161\n",
      "train RMSE: 0.7721365989913265  |  val RMSE: 0.8474236120115586\n",
      "Evaluation time: 0:01:11.843931\n",
      "------------------------------------------------------\n",
      "max_depth: 17\n",
      "[10]\tvalid_0's l2: 0.830415\n",
      "[20]\tvalid_0's l2: 0.77165\n",
      "[30]\tvalid_0's l2: 0.751589\n",
      "[40]\tvalid_0's l2: 0.742157\n",
      "[50]\tvalid_0's l2: 0.740548\n",
      "[60]\tvalid_0's l2: 0.734316\n",
      "[70]\tvalid_0's l2: 0.732625\n",
      "[80]\tvalid_0's l2: 0.729959\n",
      "[90]\tvalid_0's l2: 0.725126\n",
      "[100]\tvalid_0's l2: 0.721282\n",
      "train RMSE: 0.7734086521561202  |  val RMSE: 0.8492565599841829\n",
      "Evaluation time: 0:01:14.751457\n",
      "------------------------------------------------------\n",
      "max_depth: 18\n",
      "[10]\tvalid_0's l2: 0.830415\n",
      "[20]\tvalid_0's l2: 0.77165\n",
      "[30]\tvalid_0's l2: 0.751589\n",
      "[40]\tvalid_0's l2: 0.742157\n",
      "[50]\tvalid_0's l2: 0.741179\n",
      "[60]\tvalid_0's l2: 0.734239\n",
      "[70]\tvalid_0's l2: 0.728211\n",
      "[80]\tvalid_0's l2: 0.725518\n",
      "[90]\tvalid_0's l2: 0.724226\n",
      "[100]\tvalid_0's l2: 0.724861\n",
      "train RMSE: 0.7747109374263759  |  val RMSE: 0.8505572328752603\n",
      "Evaluation time: 0:01:12.118752\n",
      "------------------------------------------------------\n",
      "max_depth: 19\n",
      "[10]\tvalid_0's l2: 0.830415\n",
      "[20]\tvalid_0's l2: 0.77165\n",
      "[30]\tvalid_0's l2: 0.751589\n",
      "[40]\tvalid_0's l2: 0.742157\n",
      "[50]\tvalid_0's l2: 0.741179\n",
      "[60]\tvalid_0's l2: 0.734239\n",
      "[70]\tvalid_0's l2: 0.728211\n",
      "[80]\tvalid_0's l2: 0.725518\n"
     ]
    },
    {
     "name": "stdout",
     "output_type": "stream",
     "text": [
      "[90]\tvalid_0's l2: 0.724226\n",
      "[100]\tvalid_0's l2: 0.724861\n",
      "train RMSE: 0.7747109374263759  |  val RMSE: 0.8505572328752603\n",
      "Evaluation time: 0:01:15.365801\n",
      "------------------------------------------------------\n",
      "max_depth: 20\n",
      "[10]\tvalid_0's l2: 0.830415\n",
      "[20]\tvalid_0's l2: 0.77165\n",
      "[30]\tvalid_0's l2: 0.751589\n",
      "[40]\tvalid_0's l2: 0.742157\n",
      "[50]\tvalid_0's l2: 0.741179\n",
      "[60]\tvalid_0's l2: 0.734239\n",
      "[70]\tvalid_0's l2: 0.728211\n",
      "[80]\tvalid_0's l2: 0.725518\n",
      "[90]\tvalid_0's l2: 0.724226\n",
      "[100]\tvalid_0's l2: 0.724861\n",
      "train RMSE: 0.7747109374263759  |  val RMSE: 0.8505572328752603\n",
      "Evaluation time: 0:01:11.395628\n",
      "------------------------------------------------------\n",
      "max_depth: 21\n",
      "[10]\tvalid_0's l2: 0.830415\n",
      "[20]\tvalid_0's l2: 0.77165\n",
      "[30]\tvalid_0's l2: 0.751589\n",
      "[40]\tvalid_0's l2: 0.742157\n",
      "[50]\tvalid_0's l2: 0.741179\n",
      "[60]\tvalid_0's l2: 0.734239\n",
      "[70]\tvalid_0's l2: 0.728211\n",
      "[80]\tvalid_0's l2: 0.725518\n",
      "[90]\tvalid_0's l2: 0.724226\n",
      "[100]\tvalid_0's l2: 0.724861\n",
      "train RMSE: 0.7747109374263759  |  val RMSE: 0.8505572328752603\n",
      "Evaluation time: 0:01:14.290186\n",
      "------------------------------------------------------\n",
      "max_depth: 22\n",
      "[10]\tvalid_0's l2: 0.830415\n",
      "[20]\tvalid_0's l2: 0.77165\n",
      "[30]\tvalid_0's l2: 0.751589\n",
      "[40]\tvalid_0's l2: 0.742157\n",
      "[50]\tvalid_0's l2: 0.741179\n",
      "[60]\tvalid_0's l2: 0.734239\n",
      "[70]\tvalid_0's l2: 0.728211\n",
      "[80]\tvalid_0's l2: 0.725518\n",
      "[90]\tvalid_0's l2: 0.724226\n",
      "[100]\tvalid_0's l2: 0.724861\n",
      "train RMSE: 0.7747109374263759  |  val RMSE: 0.8505572328752603\n",
      "Evaluation time: 0:01:11.429061\n",
      "------------------------------------------------------\n",
      "max_depth: 23\n",
      "[10]\tvalid_0's l2: 0.830415\n",
      "[20]\tvalid_0's l2: 0.77165\n",
      "[30]\tvalid_0's l2: 0.751589\n",
      "[40]\tvalid_0's l2: 0.742157\n",
      "[50]\tvalid_0's l2: 0.741179\n",
      "[60]\tvalid_0's l2: 0.734239\n",
      "[70]\tvalid_0's l2: 0.728211\n",
      "[80]\tvalid_0's l2: 0.725518\n",
      "[90]\tvalid_0's l2: 0.724226\n",
      "[100]\tvalid_0's l2: 0.724861\n",
      "train RMSE: 0.7747109374263759  |  val RMSE: 0.8505572328752603\n",
      "Evaluation time: 0:01:15.750845\n",
      "------------------------------------------------------\n",
      "max_depth: 24\n",
      "[10]\tvalid_0's l2: 0.830415\n",
      "[20]\tvalid_0's l2: 0.77165\n",
      "[30]\tvalid_0's l2: 0.751589\n",
      "[40]\tvalid_0's l2: 0.742157\n",
      "[50]\tvalid_0's l2: 0.741179\n",
      "[60]\tvalid_0's l2: 0.734239\n",
      "[70]\tvalid_0's l2: 0.728211\n",
      "[80]\tvalid_0's l2: 0.725518\n",
      "[90]\tvalid_0's l2: 0.724226\n",
      "[100]\tvalid_0's l2: 0.724861\n",
      "train RMSE: 0.7747109374263759  |  val RMSE: 0.8505572328752603\n",
      "Evaluation time: 0:01:18.131954\n",
      "------------------------------------------------------\n",
      "max_depth: 25\n",
      "[10]\tvalid_0's l2: 0.830415\n",
      "[20]\tvalid_0's l2: 0.77165\n",
      "[30]\tvalid_0's l2: 0.751589\n",
      "[40]\tvalid_0's l2: 0.742157\n",
      "[50]\tvalid_0's l2: 0.741179\n",
      "[60]\tvalid_0's l2: 0.734239\n",
      "[70]\tvalid_0's l2: 0.728211\n",
      "[80]\tvalid_0's l2: 0.725518\n",
      "[90]\tvalid_0's l2: 0.724226\n",
      "[100]\tvalid_0's l2: 0.724861\n",
      "train RMSE: 0.7747109374263759  |  val RMSE: 0.8505572328752603\n",
      "Evaluation time: 0:01:17.186408\n",
      "------------------------------------------------------\n",
      "max_depth: 26\n",
      "[10]\tvalid_0's l2: 0.830415\n",
      "[20]\tvalid_0's l2: 0.77165\n",
      "[30]\tvalid_0's l2: 0.751589\n",
      "[40]\tvalid_0's l2: 0.742157\n",
      "[50]\tvalid_0's l2: 0.741179\n",
      "[60]\tvalid_0's l2: 0.734239\n",
      "[70]\tvalid_0's l2: 0.728211\n",
      "[80]\tvalid_0's l2: 0.725518\n",
      "[90]\tvalid_0's l2: 0.724226\n",
      "[100]\tvalid_0's l2: 0.724861\n",
      "train RMSE: 0.7747109374263759  |  val RMSE: 0.8505572328752603\n",
      "Evaluation time: 0:01:11.678353\n",
      "------------------------------------------------------\n",
      "max_depth: 27\n",
      "[10]\tvalid_0's l2: 0.830415\n",
      "[20]\tvalid_0's l2: 0.77165\n",
      "[30]\tvalid_0's l2: 0.751589\n",
      "[40]\tvalid_0's l2: 0.742157\n",
      "[50]\tvalid_0's l2: 0.741179\n",
      "[60]\tvalid_0's l2: 0.734239\n",
      "[70]\tvalid_0's l2: 0.728211\n",
      "[80]\tvalid_0's l2: 0.725518\n",
      "[90]\tvalid_0's l2: 0.724226\n",
      "[100]\tvalid_0's l2: 0.724861\n",
      "train RMSE: 0.7747109374263759  |  val RMSE: 0.8505572328752603\n",
      "Evaluation time: 0:01:12.200189\n",
      "------------------------------------------------------\n",
      "max_depth: 28\n",
      "[10]\tvalid_0's l2: 0.830415\n",
      "[20]\tvalid_0's l2: 0.77165\n",
      "[30]\tvalid_0's l2: 0.751589\n",
      "[40]\tvalid_0's l2: 0.742157\n",
      "[50]\tvalid_0's l2: 0.741179\n",
      "[60]\tvalid_0's l2: 0.734239\n",
      "[70]\tvalid_0's l2: 0.728211\n",
      "[80]\tvalid_0's l2: 0.725518\n",
      "[90]\tvalid_0's l2: 0.724226\n",
      "[100]\tvalid_0's l2: 0.724861\n",
      "train RMSE: 0.7747109374263759  |  val RMSE: 0.8505572328752603\n",
      "Evaluation time: 0:01:17.401717\n",
      "------------------------------------------------------\n",
      "max_depth: 29\n",
      "[10]\tvalid_0's l2: 0.830415\n",
      "[20]\tvalid_0's l2: 0.77165\n",
      "[30]\tvalid_0's l2: 0.751589\n",
      "[40]\tvalid_0's l2: 0.742157\n",
      "[50]\tvalid_0's l2: 0.741179\n",
      "[60]\tvalid_0's l2: 0.734239\n",
      "[70]\tvalid_0's l2: 0.728211\n",
      "[80]\tvalid_0's l2: 0.725518\n",
      "[90]\tvalid_0's l2: 0.724226\n",
      "[100]\tvalid_0's l2: 0.724861\n",
      "train RMSE: 0.7747109374263759  |  val RMSE: 0.8505572328752603\n",
      "Evaluation time: 0:01:18.996253\n",
      "------------------------------------------------------\n"
     ]
    }
   ],
   "source": [
    "lgbm_train_full_reduced_rmses = {}\n",
    "lgbm_val_full_reduced_rmses = {}\n",
    "best_iterations_full_reduced = {}\n",
    "max_depths = range(1, 30)\n",
    "for max_depth in max_depths:\n",
    "    start = datetime.datetime.now()\n",
    "    print('max_depth:', max_depth)\n",
    "    lgbm = LGBMRegressor(max_depth=max_depth)\n",
    "    lgbm.fit(X_train_full_reduced,\n",
    "             y_train_full_reduced,\n",
    "             eval_set=[(X_val_full_reduced, y_val_full_reduced)],\n",
    "             eval_metric='l2',\n",
    "             early_stopping_rounds=20,\n",
    "             verbose=10)\n",
    "    best_iterations_full_reduced[max_depth] = lgbm.best_iteration_\n",
    "    lgbm_train_full_reduced_rmses[max_depth] = RMSE(y_train_full_reduced, lgbm.predict(X_train_full_reduced).clip(0, 20))\n",
    "    lgbm_val_full_reduced_rmses[max_depth] = RMSE(y_val_full_reduced, lgbm.predict(X_val_full_reduced).clip(0, 20))\n",
    "    print('train RMSE:', lgbm_train_full_reduced_rmses[max_depth], ' | ',\n",
    "          'val RMSE:', lgbm_val_full_reduced_rmses[max_depth])\n",
    "    print('Evaluation time:', datetime.datetime.now() - start)\n",
    "    print('------------------------------------------------------')"
   ]
  },
  {
   "cell_type": "code",
   "execution_count": 83,
   "id": "disabled-submission",
   "metadata": {
    "ExecuteTime": {
     "end_time": "2021-10-21T08:11:33.628996Z",
     "start_time": "2021-10-21T08:11:32.448679Z"
    }
   },
   "outputs": [
    {
     "data": {
      "image/png": "[encoded data removed]",
      "text/plain": [
       "<Figure size 432x288 with 1 Axes>"
      ]
     },
     "metadata": {
      "needs_background": "light"
     },
     "output_type": "display_data"
    }
   ],
   "source": [
    "plt.title('LGBM full_reduced')\n",
    "plt.plot(max_depths, lgbm_train_full_reduced_rmses.values())\n",
    "plt.plot(max_depths, lgbm_val_full_reduced_rmses.values())\n",
    "plt.legend(['train', 'val'])\n",
    "plt.xlabel('max_depth')\n",
    "plt.ylabel('rmse')\n",
    "plt.show()"
   ]
  },
  {
   "cell_type": "code",
   "execution_count": 84,
   "id": "incorporated-teddy",
   "metadata": {
    "ExecuteTime": {
     "end_time": "2021-10-21T08:11:33.675098Z",
     "start_time": "2021-10-21T08:11:33.639285Z"
    }
   },
   "outputs": [
    {
     "name": "stdout",
     "output_type": "stream",
     "text": [
      "max depth according to train rmse: 15\n",
      "max depth according to val rmse: 15\n"
     ]
    }
   ],
   "source": [
    "lgbm_train_full_reduced_rmses = np.array(list(lgbm_train_full_reduced_rmses.values()))\n",
    "lgbm_val_full_reduced_rmses = np.array(list(lgbm_val_full_reduced_rmses.values()))\n",
    "\n",
    "print('max depth according to train rmse:', max_depths[lgbm_train_full_reduced_rmses.argmin()])\n",
    "print('max depth according to val rmse:', max_depths[lgbm_val_full_reduced_rmses.argmin()])"
   ]
  },
  {
   "cell_type": "markdown",
   "id": "unexpected-wrist",
   "metadata": {},
   "source": [
    "For max depth equals 15 the rmse's are:  \n",
    "train RMSE: 0.77206  |  val RMSE: 0.84288"
   ]
  },
  {
   "cell_type": "markdown",
   "id": "completed-alexandria",
   "metadata": {},
   "source": [
    "The quality is worse than with all the features. Maybe because the number of features is less than earlier."
   ]
  },
  {
   "cell_type": "markdown",
   "id": "normal-content",
   "metadata": {},
   "source": [
    "# Submission"
   ]
  },
  {
   "cell_type": "code",
   "execution_count": 29,
   "id": "heated-equation",
   "metadata": {
    "ExecuteTime": {
     "end_time": "2021-10-21T05:42:53.092929Z",
     "start_time": "2021-10-21T05:42:53.045008Z"
    }
   },
   "outputs": [],
   "source": [
    "import glob\n",
    "import re\n",
    "\n",
    "def submit(y_predicted):\n",
    "    my_submissions_paths = glob.glob('./data/my_submission_*.csv')\n",
    "    nums = [int(re.findall(r'\\d+', filepath)[0]) for filepath in my_submissions_paths]\n",
    "    n = max(nums) + 1\n",
    "    submission = pd.read_csv('data/sample_submission.csv')\n",
    "    submission.item_cnt_month = y_predicted\n",
    "    submission.to_csv(f'data/my_submission_{n}.csv', index=None)\n",
    "    return f'data/my_submission_{n}.csv'"
   ]
  },
  {
   "cell_type": "markdown",
   "id": "understanding-firewall",
   "metadata": {},
   "source": [
    "For all previous cases I will submit the results just to see the full result of training.  \n",
    "Also in all cases I choose the **max_depth** parameter that minimizes the score on validation dataset.  \n",
    "As I saved all best iterations to variables *best_iterations_\\{basic|lags|full\\}* I will use it to set the **n_estimators** parameter."
   ]
  },
  {
   "cell_type": "markdown",
   "id": "friendly-mayor",
   "metadata": {},
   "source": [
    "I forgot that the test datasets contain the ID column so I drop it only here."
   ]
  },
  {
   "cell_type": "code",
   "execution_count": 33,
   "id": "double-zimbabwe",
   "metadata": {
    "ExecuteTime": {
     "end_time": "2021-10-21T06:07:28.477668Z",
     "start_time": "2021-10-21T06:07:28.233561Z"
    }
   },
   "outputs": [],
   "source": [
    "X_test_basic.drop(columns='ID', inplace=True)\n",
    "X_test_lags.drop(columns='ID', inplace=True)\n",
    "X_test_full.drop(columns='ID', inplace=True)"
   ]
  },
  {
   "cell_type": "markdown",
   "id": "computational-congo",
   "metadata": {},
   "source": [
    "## Data without lag features and target encoding"
   ]
  },
  {
   "cell_type": "code",
   "execution_count": 34,
   "id": "cellular-trust",
   "metadata": {
    "ExecuteTime": {
     "end_time": "2021-10-21T06:08:42.984966Z",
     "start_time": "2021-10-21T06:07:30.256184Z"
    }
   },
   "outputs": [
    {
     "data": {
      "text/plain": [
       "'data/my_submission_20.csv'"
      ]
     },
     "execution_count": 34,
     "metadata": {},
     "output_type": "execute_result"
    }
   ],
   "source": [
    "best_max_depth = 10\n",
    "best_n_estimators = best_iterations_basic[best_max_depth]\n",
    "\n",
    "best_lgbm = LGBMRegressor(\n",
    "    n_estimators=best_n_estimators,\n",
    "    max_depth=best_max_depth\n",
    ")\n",
    "best_lgbm.fit(X_basic, y_basic)\n",
    "\n",
    "submit(best_lgbm.predict(X_test_basic).clip(0, 20))"
   ]
  },
  {
   "cell_type": "markdown",
   "id": "dress-problem",
   "metadata": {},
   "source": [
    "SCORE = 1.10421"
   ]
  },
  {
   "cell_type": "markdown",
   "id": "metric-malawi",
   "metadata": {},
   "source": [
    "## Data with lag features but without target encoding"
   ]
  },
  {
   "cell_type": "code",
   "execution_count": 35,
   "id": "featured-controversy",
   "metadata": {
    "ExecuteTime": {
     "end_time": "2021-10-21T06:09:39.586469Z",
     "start_time": "2021-10-21T06:08:42.993949Z"
    }
   },
   "outputs": [
    {
     "data": {
      "text/plain": [
       "'data/my_submission_21.csv'"
      ]
     },
     "execution_count": 35,
     "metadata": {},
     "output_type": "execute_result"
    }
   ],
   "source": [
    "best_max_depth = 20\n",
    "best_n_estimators = best_iterations_lags[best_max_depth]\n",
    "\n",
    "best_lgbm = LGBMRegressor(\n",
    "    n_estimators=best_n_estimators,\n",
    "    max_depth=best_max_depth\n",
    ")\n",
    "best_lgbm.fit(X_lags, y_lags)\n",
    "\n",
    "submit(best_lgbm.predict(X_test_lags).clip(0, 20))"
   ]
  },
  {
   "cell_type": "markdown",
   "id": "sharp-state",
   "metadata": {},
   "source": [
    "SCORE = 1.00936"
   ]
  },
  {
   "cell_type": "markdown",
   "id": "radio-legend",
   "metadata": {},
   "source": [
    "The score is lower than in previous case. It means that lag features help for predicting.  "
   ]
  },
  {
   "cell_type": "markdown",
   "id": "norman-canon",
   "metadata": {},
   "source": [
    "## Data with lag features and target encoding"
   ]
  },
  {
   "cell_type": "code",
   "execution_count": 52,
   "id": "backed-income",
   "metadata": {
    "ExecuteTime": {
     "end_time": "2021-10-21T07:12:01.824948Z",
     "start_time": "2021-10-21T07:11:04.359496Z"
    }
   },
   "outputs": [
    {
     "data": {
      "text/plain": [
       "'data/my_submission_22.csv'"
      ]
     },
     "execution_count": 52,
     "metadata": {},
     "output_type": "execute_result"
    }
   ],
   "source": [
    "best_max_depth = 13\n",
    "best_n_estimators = best_iterations_full[best_max_depth]\n",
    "\n",
    "best_lgbm = LGBMRegressor(\n",
    "    n_estimators=best_n_estimators,\n",
    "    max_depth=best_max_depth\n",
    ")\n",
    "best_lgbm.fit(X_full, y_full)\n",
    "\n",
    "submit(best_lgbm.predict(X_test_full).clip(0, 20))"
   ]
  },
  {
   "cell_type": "markdown",
   "id": "empty-submission",
   "metadata": {},
   "source": [
    "SCORE = 1.02926"
   ]
  },
  {
   "cell_type": "markdown",
   "id": "lasting-discharge",
   "metadata": {},
   "source": [
    "The score is higher than in previous case. It is very strange because the train and validation scores are lower than for data without target encoded features."
   ]
  },
  {
   "cell_type": "markdown",
   "id": "included-fleet",
   "metadata": {},
   "source": [
    "## Data with lag features and only target encoded features"
   ]
  },
  {
   "cell_type": "code",
   "execution_count": 85,
   "id": "secondary-princeton",
   "metadata": {
    "ExecuteTime": {
     "end_time": "2021-10-21T08:14:18.731400Z",
     "start_time": "2021-10-21T08:13:30.815455Z"
    }
   },
   "outputs": [
    {
     "data": {
      "text/plain": [
       "'data/my_submission_23.csv'"
      ]
     },
     "execution_count": 85,
     "metadata": {},
     "output_type": "execute_result"
    }
   ],
   "source": [
    "best_max_depth = 15\n",
    "best_n_estimators = best_iterations_full_reduced[best_max_depth]\n",
    "\n",
    "best_lgbm = LGBMRegressor(\n",
    "    n_estimators=best_n_estimators,\n",
    "    max_depth=best_max_depth\n",
    ")\n",
    "best_lgbm.fit(X_train_full_reduced, y_train_full_reduced)\n",
    "\n",
    "submit(best_lgbm.predict(X_test_full_reduced).clip(0, 20))"
   ]
  },
  {
   "cell_type": "markdown",
   "id": "comic-evanescence",
   "metadata": {},
   "source": [
    "SCORE = 1.04886"
   ]
  },
  {
   "cell_type": "markdown",
   "id": "dominant-vessel",
   "metadata": {},
   "source": [
    "The score is higher than in previous case. It might mean that target encoded features don't help for predicting. But it was impossible to predict this fact according to training and checking the quality on validation dataset.  \n",
    "Also it might be an overfitting. But almost all the graphics of train and validation scores are the same: val score is higher.  \n",
    "So I don't know the reason of these high scores for sure.  \n",
    "The best model is lgbm for data only with lag features."
   ]
  }
 ],
 "metadata": {
  "kernelspec": {
   "display_name": "Python 3",
   "language": "python",
   "name": "python3"
  },
  "language_info": {
   "codemirror_mode": {
    "name": "ipython",
    "version": 3
   },
   "file_extension": ".py",
   "mimetype": "text/x-python",
   "name": "python",
   "nbconvert_exporter": "python",
   "pygments_lexer": "ipython3",
   "version": "3.9.0"
  },
  "toc": {
   "base_numbering": 1,
   "nav_menu": {},
   "number_sections": true,
   "sideBar": true,
   "skip_h1_title": false,
   "title_cell": "Table of Contents",
   "title_sidebar": "Contents",
   "toc_cell": false,
   "toc_position": {
    "height": "calc(100% - 180px)",
    "left": "10px",
    "top": "150px",
    "width": "273.188px"
   },
   "toc_section_display": true,
   "toc_window_display": true
  }
 },
 "nbformat": 4,
 "nbformat_minor": 5
}
