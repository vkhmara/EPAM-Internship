{
 "cells": [
  {
   "cell_type": "code",
   "execution_count": 3,
   "id": "caroline-lindsay",
   "metadata": {
    "ExecuteTime": {
     "end_time": "2021-09-09T13:09:28.626085Z",
     "start_time": "2021-09-09T13:09:27.718053Z"
    }
   },
   "outputs": [],
   "source": [
    "import numpy as np\n",
    "import pandas as pd\n",
    "import datetime\n",
    "import matplotlib.pyplot as plt"
   ]
  },
  {
   "cell_type": "code",
   "execution_count": 113,
   "id": "patient-compatibility",
   "metadata": {
    "ExecuteTime": {
     "end_time": "2021-09-09T13:59:22.334412Z",
     "start_time": "2021-09-09T13:59:17.765067Z"
    }
   },
   "outputs": [],
   "source": [
    "item_categories = pd.read_csv('data/item_categories.csv')\n",
    "items = pd.read_csv('data/items.csv')\n",
    "sales_train = pd.read_csv('data/sales_train.csv')\n",
    "shops = pd.read_csv('data/shops.csv')\n",
    "sample_submission = pd.read_csv('data/sample_submission.csv')\n",
    "test = pd.read_csv('data/test.csv')"
   ]
  },
  {
   "cell_type": "code",
   "execution_count": 114,
   "id": "applicable-acrylic",
   "metadata": {
    "ExecuteTime": {
     "end_time": "2021-09-09T13:59:23.428646Z",
     "start_time": "2021-09-09T13:59:22.334412Z"
    }
   },
   "outputs": [],
   "source": [
    "item_categories = item_categories.set_index(item_categories.item_category_id).drop('item_category_id', axis=1)\n",
    "items = items.set_index(items.item_id).drop('item_id', axis=1)\n",
    "items['item_category_name'] = item_categories.loc[items['item_category_id'].array].item_category_name.array\n",
    "shops = shops.set_index(shops.shop_id).drop('shop_id', axis=1)\n",
    "sales_train['item_category_id'] = items.loc[sales_train.item_id].item_category_id.array\n",
    "sales_train['total_income'] = sales_train.item_price * sales_train.item_cnt_day"
   ]
  },
  {
   "cell_type": "code",
   "execution_count": 43,
   "id": "precious-entrance",
   "metadata": {
    "ExecuteTime": {
     "end_time": "2021-09-09T13:27:29.319651Z",
     "start_time": "2021-09-09T13:27:29.279700Z"
    }
   },
   "outputs": [],
   "source": [
    "def str_to_date(s_date):\n",
    "    day, month, year = map(int, s_date.split('.'))\n",
    "    return datetime.date(year, month, day)"
   ]
  },
  {
   "cell_type": "code",
   "execution_count": 117,
   "id": "alpine-sheffield",
   "metadata": {
    "ExecuteTime": {
     "end_time": "2021-09-09T13:59:39.358220Z",
     "start_time": "2021-09-09T13:59:27.836929Z"
    }
   },
   "outputs": [],
   "source": [
    "date_col = sales_train.date.apply(str_to_date)"
   ]
  },
  {
   "cell_type": "code",
   "execution_count": 59,
   "id": "collected-berlin",
   "metadata": {
    "ExecuteTime": {
     "end_time": "2021-09-09T13:33:34.124823Z",
     "start_time": "2021-09-09T13:33:33.726098Z"
    }
   },
   "outputs": [],
   "source": [
    "start_date = sorted(date_col.unique())[0]"
   ]
  },
  {
   "cell_type": "code",
   "execution_count": 118,
   "id": "broke-reward",
   "metadata": {
    "ExecuteTime": {
     "end_time": "2021-09-09T13:59:39.534191Z",
     "start_time": "2021-09-09T13:59:39.366221Z"
    }
   },
   "outputs": [],
   "source": [
    "sales_train['date'] = date_col"
   ]
  },
  {
   "cell_type": "code",
   "execution_count": 119,
   "id": "automatic-support",
   "metadata": {
    "ExecuteTime": {
     "end_time": "2021-09-09T13:59:47.203156Z",
     "start_time": "2021-09-09T13:59:39.542189Z"
    }
   },
   "outputs": [],
   "source": [
    "sales_train['days'] = sales_train['date'].apply(lambda date: (date - start_date).days)\n",
    "sales_train['weeks'] = sales_train['days'].apply(lambda days: (days + start_date.weekday()) // 7)"
   ]
  },
  {
   "cell_type": "code",
   "execution_count": 97,
   "id": "final-bones",
   "metadata": {
    "ExecuteTime": {
     "end_time": "2021-09-09T13:51:00.211258Z",
     "start_time": "2021-09-09T13:51:00.155398Z"
    }
   },
   "outputs": [
    {
     "data": {
      "text/html": [
       "<div>\n",
       "<style scoped>\n",
       "    .dataframe tbody tr th:only-of-type {\n",
       "        vertical-align: middle;\n",
       "    }\n",
       "\n",
       "    .dataframe tbody tr th {\n",
       "        vertical-align: top;\n",
       "    }\n",
       "\n",
       "    .dataframe thead th {\n",
       "        text-align: right;\n",
       "    }\n",
       "</style>\n",
       "<table border=\"1\" class=\"dataframe\">\n",
       "  <thead>\n",
       "    <tr style=\"text-align: right;\">\n",
       "      <th></th>\n",
       "      <th>date</th>\n",
       "      <th>date_block_num</th>\n",
       "      <th>shop_id</th>\n",
       "      <th>item_id</th>\n",
       "      <th>item_price</th>\n",
       "      <th>item_cnt_day</th>\n",
       "      <th>item_category_id</th>\n",
       "      <th>total_income</th>\n",
       "      <th>days</th>\n",
       "      <th>weeks</th>\n",
       "    </tr>\n",
       "  </thead>\n",
       "  <tbody>\n",
       "    <tr>\n",
       "      <th>0</th>\n",
       "      <td>2013-01-02</td>\n",
       "      <td>0</td>\n",
       "      <td>59</td>\n",
       "      <td>22154</td>\n",
       "      <td>999.00</td>\n",
       "      <td>1.0</td>\n",
       "      <td>37</td>\n",
       "      <td>999.00</td>\n",
       "      <td>1</td>\n",
       "      <td>0</td>\n",
       "    </tr>\n",
       "    <tr>\n",
       "      <th>1</th>\n",
       "      <td>2013-01-03</td>\n",
       "      <td>0</td>\n",
       "      <td>25</td>\n",
       "      <td>2552</td>\n",
       "      <td>899.00</td>\n",
       "      <td>1.0</td>\n",
       "      <td>58</td>\n",
       "      <td>899.00</td>\n",
       "      <td>2</td>\n",
       "      <td>0</td>\n",
       "    </tr>\n",
       "    <tr>\n",
       "      <th>2</th>\n",
       "      <td>2013-01-05</td>\n",
       "      <td>0</td>\n",
       "      <td>25</td>\n",
       "      <td>2552</td>\n",
       "      <td>899.00</td>\n",
       "      <td>-1.0</td>\n",
       "      <td>58</td>\n",
       "      <td>-899.00</td>\n",
       "      <td>4</td>\n",
       "      <td>0</td>\n",
       "    </tr>\n",
       "    <tr>\n",
       "      <th>3</th>\n",
       "      <td>2013-01-06</td>\n",
       "      <td>0</td>\n",
       "      <td>25</td>\n",
       "      <td>2554</td>\n",
       "      <td>1709.05</td>\n",
       "      <td>1.0</td>\n",
       "      <td>58</td>\n",
       "      <td>1709.05</td>\n",
       "      <td>5</td>\n",
       "      <td>0</td>\n",
       "    </tr>\n",
       "    <tr>\n",
       "      <th>4</th>\n",
       "      <td>2013-01-15</td>\n",
       "      <td>0</td>\n",
       "      <td>25</td>\n",
       "      <td>2555</td>\n",
       "      <td>1099.00</td>\n",
       "      <td>1.0</td>\n",
       "      <td>56</td>\n",
       "      <td>1099.00</td>\n",
       "      <td>14</td>\n",
       "      <td>1</td>\n",
       "    </tr>\n",
       "  </tbody>\n",
       "</table>\n",
       "</div>"
      ],
      "text/plain": [
       "         date  date_block_num  shop_id  item_id  item_price  item_cnt_day  \\\n",
       "0  2013-01-02               0       59    22154      999.00           1.0   \n",
       "1  2013-01-03               0       25     2552      899.00           1.0   \n",
       "2  2013-01-05               0       25     2552      899.00          -1.0   \n",
       "3  2013-01-06               0       25     2554     1709.05           1.0   \n",
       "4  2013-01-15               0       25     2555     1099.00           1.0   \n",
       "\n",
       "   item_category_id  total_income  days  weeks  \n",
       "0                37        999.00     1      0  \n",
       "1                58        899.00     2      0  \n",
       "2                58       -899.00     4      0  \n",
       "3                58       1709.05     5      0  \n",
       "4                56       1099.00    14      1  "
      ]
     },
     "execution_count": 97,
     "metadata": {},
     "output_type": "execute_result"
    }
   ],
   "source": [
    "sales_train.head()"
   ]
  },
  {
   "cell_type": "code",
   "execution_count": 120,
   "id": "consistent-style",
   "metadata": {
    "ExecuteTime": {
     "end_time": "2021-09-09T13:59:48.580543Z",
     "start_time": "2021-09-09T13:59:47.211042Z"
    }
   },
   "outputs": [
    {
     "data": {
      "image/png": "[encoded data removed]",
      "text/plain": [
       "<Figure size 432x288 with 1 Axes>"
      ]
     },
     "metadata": {
      "needs_background": "light"
     },
     "output_type": "display_data"
    }
   ],
   "source": [
    "sub_sales_train = sales_train[(sales_train.shop_id == 28) & (sales_train.item_id == 20949)]\n",
    "day_info = sub_sales_train.groupby('days').item_cnt_day.sum().sort_index()\n",
    "plt.plot(day_info)\n",
    "plt.show()"
   ]
  },
  {
   "cell_type": "code",
   "execution_count": 121,
   "id": "crude-march",
   "metadata": {
    "ExecuteTime": {
     "end_time": "2021-09-09T13:59:49.241901Z",
     "start_time": "2021-09-09T13:59:48.589126Z"
    }
   },
   "outputs": [
    {
     "data": {
      "image/png": "[encoded data removed]",
      "text/plain": [
       "<Figure size 432x288 with 1 Axes>"
      ]
     },
     "metadata": {
      "needs_background": "light"
     },
     "output_type": "display_data"
    }
   ],
   "source": [
    "sub_sales_train = sales_train[(sales_train.shop_id == 28) & (sales_train.item_id == 20949)]\n",
    "week_info = sub_sales_train.groupby('weeks').item_cnt_day.sum().sort_index()\n",
    "plt.plot(week_info)\n",
    "plt.show()"
   ]
  },
  {
   "cell_type": "code",
   "execution_count": 123,
   "id": "innocent-racing",
   "metadata": {
    "ExecuteTime": {
     "end_time": "2021-09-09T14:00:03.955042Z",
     "start_time": "2021-09-09T14:00:03.442945Z"
    },
    "collapsed": true
   },
   "outputs": [
    {
     "data": {
      "image/png": "[encoded data removed]",
      "text/plain": [
       "<Figure size 432x288 with 1 Axes>"
      ]
     },
     "metadata": {
      "needs_background": "light"
     },
     "output_type": "display_data"
    }
   ],
   "source": [
    "plt.plot(day_info[:30])\n",
    "plt.show()"
   ]
  },
  {
   "cell_type": "code",
   "execution_count": 96,
   "id": "unauthorized-peninsula",
   "metadata": {
    "ExecuteTime": {
     "end_time": "2021-09-09T13:46:47.959202Z",
     "start_time": "2021-09-09T13:46:47.419405Z"
    },
    "collapsed": true
   },
   "outputs": [
    {
     "data": {
      "image/png": "[encoded data removed]",
      "text/plain": [
       "<Figure size 432x288 with 1 Axes>"
      ]
     },
     "metadata": {
      "needs_background": "light"
     },
     "output_type": "display_data"
    }
   ],
   "source": [
    "plt.plot(week_info.rolling(4).mean())\n",
    "plt.show()"
   ]
  },
  {
   "cell_type": "code",
   "execution_count": 124,
   "id": "after-asthma",
   "metadata": {
    "ExecuteTime": {
     "end_time": "2021-09-09T14:00:20.154179Z",
     "start_time": "2021-09-09T14:00:10.707935Z"
    }
   },
   "outputs": [],
   "source": [
    "sales_train.sort_values(by='date', inplace=True)"
   ]
  },
  {
   "cell_type": "code",
   "execution_count": 125,
   "id": "living-surgeon",
   "metadata": {
    "ExecuteTime": {
     "end_time": "2021-09-09T14:00:20.232222Z",
     "start_time": "2021-09-09T14:00:20.154179Z"
    }
   },
   "outputs": [
    {
     "data": {
      "text/html": [
       "<div>\n",
       "<style scoped>\n",
       "    .dataframe tbody tr th:only-of-type {\n",
       "        vertical-align: middle;\n",
       "    }\n",
       "\n",
       "    .dataframe tbody tr th {\n",
       "        vertical-align: top;\n",
       "    }\n",
       "\n",
       "    .dataframe thead th {\n",
       "        text-align: right;\n",
       "    }\n",
       "</style>\n",
       "<table border=\"1\" class=\"dataframe\">\n",
       "  <thead>\n",
       "    <tr style=\"text-align: right;\">\n",
       "      <th></th>\n",
       "      <th>date</th>\n",
       "      <th>date_block_num</th>\n",
       "      <th>shop_id</th>\n",
       "      <th>item_id</th>\n",
       "      <th>item_price</th>\n",
       "      <th>item_cnt_day</th>\n",
       "      <th>item_category_id</th>\n",
       "      <th>total_income</th>\n",
       "      <th>days</th>\n",
       "      <th>weeks</th>\n",
       "    </tr>\n",
       "  </thead>\n",
       "  <tbody>\n",
       "    <tr>\n",
       "      <th>2885098</th>\n",
       "      <td>2015-10-31</td>\n",
       "      <td>33</td>\n",
       "      <td>41</td>\n",
       "      <td>21386</td>\n",
       "      <td>169.0</td>\n",
       "      <td>1.0</td>\n",
       "      <td>40</td>\n",
       "      <td>169.0</td>\n",
       "      <td>1033</td>\n",
       "      <td>147</td>\n",
       "    </tr>\n",
       "    <tr>\n",
       "      <th>2930981</th>\n",
       "      <td>2015-10-31</td>\n",
       "      <td>33</td>\n",
       "      <td>21</td>\n",
       "      <td>988</td>\n",
       "      <td>199.0</td>\n",
       "      <td>1.0</td>\n",
       "      <td>37</td>\n",
       "      <td>199.0</td>\n",
       "      <td>1033</td>\n",
       "      <td>147</td>\n",
       "    </tr>\n",
       "    <tr>\n",
       "      <th>2885097</th>\n",
       "      <td>2015-10-31</td>\n",
       "      <td>33</td>\n",
       "      <td>41</td>\n",
       "      <td>21377</td>\n",
       "      <td>169.0</td>\n",
       "      <td>1.0</td>\n",
       "      <td>40</td>\n",
       "      <td>169.0</td>\n",
       "      <td>1033</td>\n",
       "      <td>147</td>\n",
       "    </tr>\n",
       "    <tr>\n",
       "      <th>2930993</th>\n",
       "      <td>2015-10-31</td>\n",
       "      <td>33</td>\n",
       "      <td>22</td>\n",
       "      <td>10207</td>\n",
       "      <td>1199.0</td>\n",
       "      <td>1.0</td>\n",
       "      <td>30</td>\n",
       "      <td>1199.0</td>\n",
       "      <td>1033</td>\n",
       "      <td>147</td>\n",
       "    </tr>\n",
       "    <tr>\n",
       "      <th>2928850</th>\n",
       "      <td>2015-10-31</td>\n",
       "      <td>33</td>\n",
       "      <td>24</td>\n",
       "      <td>3042</td>\n",
       "      <td>3199.0</td>\n",
       "      <td>1.0</td>\n",
       "      <td>20</td>\n",
       "      <td>3199.0</td>\n",
       "      <td>1033</td>\n",
       "      <td>147</td>\n",
       "    </tr>\n",
       "  </tbody>\n",
       "</table>\n",
       "</div>"
      ],
      "text/plain": [
       "               date  date_block_num  shop_id  item_id  item_price  \\\n",
       "2885098  2015-10-31              33       41    21386       169.0   \n",
       "2930981  2015-10-31              33       21      988       199.0   \n",
       "2885097  2015-10-31              33       41    21377       169.0   \n",
       "2930993  2015-10-31              33       22    10207      1199.0   \n",
       "2928850  2015-10-31              33       24     3042      3199.0   \n",
       "\n",
       "         item_cnt_day  item_category_id  total_income  days  weeks  \n",
       "2885098           1.0                40         169.0  1033    147  \n",
       "2930981           1.0                37         199.0  1033    147  \n",
       "2885097           1.0                40         169.0  1033    147  \n",
       "2930993           1.0                30        1199.0  1033    147  \n",
       "2928850           1.0                20        3199.0  1033    147  "
      ]
     },
     "execution_count": 125,
     "metadata": {},
     "output_type": "execute_result"
    }
   ],
   "source": [
    "sales_train.tail()"
   ]
  },
  {
   "cell_type": "code",
   "execution_count": 127,
   "id": "british-child",
   "metadata": {
    "ExecuteTime": {
     "end_time": "2021-09-09T14:00:37.525881Z",
     "start_time": "2021-09-09T14:00:35.900513Z"
    }
   },
   "outputs": [],
   "source": [
    "train_dataset = sales_train[sales_train.date < datetime.date(2015, 10, 1)]"
   ]
  },
  {
   "cell_type": "code",
   "execution_count": 128,
   "id": "freelance-small",
   "metadata": {
    "ExecuteTime": {
     "end_time": "2021-09-09T14:00:37.795610Z",
     "start_time": "2021-09-09T14:00:37.731621Z"
    }
   },
   "outputs": [
    {
     "data": {
      "text/html": [
       "<div>\n",
       "<style scoped>\n",
       "    .dataframe tbody tr th:only-of-type {\n",
       "        vertical-align: middle;\n",
       "    }\n",
       "\n",
       "    .dataframe tbody tr th {\n",
       "        vertical-align: top;\n",
       "    }\n",
       "\n",
       "    .dataframe thead th {\n",
       "        text-align: right;\n",
       "    }\n",
       "</style>\n",
       "<table border=\"1\" class=\"dataframe\">\n",
       "  <thead>\n",
       "    <tr style=\"text-align: right;\">\n",
       "      <th></th>\n",
       "      <th>date</th>\n",
       "      <th>date_block_num</th>\n",
       "      <th>shop_id</th>\n",
       "      <th>item_id</th>\n",
       "      <th>item_price</th>\n",
       "      <th>item_cnt_day</th>\n",
       "      <th>item_category_id</th>\n",
       "      <th>total_income</th>\n",
       "      <th>days</th>\n",
       "      <th>weeks</th>\n",
       "    </tr>\n",
       "  </thead>\n",
       "  <tbody>\n",
       "    <tr>\n",
       "      <th>2849816</th>\n",
       "      <td>2015-09-30</td>\n",
       "      <td>32</td>\n",
       "      <td>50</td>\n",
       "      <td>15483</td>\n",
       "      <td>549.0</td>\n",
       "      <td>1.0</td>\n",
       "      <td>63</td>\n",
       "      <td>549.0</td>\n",
       "      <td>1002</td>\n",
       "      <td>143</td>\n",
       "    </tr>\n",
       "    <tr>\n",
       "      <th>2849791</th>\n",
       "      <td>2015-09-30</td>\n",
       "      <td>32</td>\n",
       "      <td>50</td>\n",
       "      <td>15069</td>\n",
       "      <td>2499.0</td>\n",
       "      <td>3.0</td>\n",
       "      <td>28</td>\n",
       "      <td>7497.0</td>\n",
       "      <td>1002</td>\n",
       "      <td>143</td>\n",
       "    </tr>\n",
       "    <tr>\n",
       "      <th>2849769</th>\n",
       "      <td>2015-09-30</td>\n",
       "      <td>32</td>\n",
       "      <td>50</td>\n",
       "      <td>10518</td>\n",
       "      <td>399.0</td>\n",
       "      <td>1.0</td>\n",
       "      <td>55</td>\n",
       "      <td>399.0</td>\n",
       "      <td>1002</td>\n",
       "      <td>143</td>\n",
       "    </tr>\n",
       "    <tr>\n",
       "      <th>2849911</th>\n",
       "      <td>2015-09-30</td>\n",
       "      <td>32</td>\n",
       "      <td>50</td>\n",
       "      <td>13881</td>\n",
       "      <td>659.0</td>\n",
       "      <td>1.0</td>\n",
       "      <td>55</td>\n",
       "      <td>659.0</td>\n",
       "      <td>1002</td>\n",
       "      <td>143</td>\n",
       "    </tr>\n",
       "    <tr>\n",
       "      <th>2832824</th>\n",
       "      <td>2015-09-30</td>\n",
       "      <td>32</td>\n",
       "      <td>42</td>\n",
       "      <td>13339</td>\n",
       "      <td>359.0</td>\n",
       "      <td>1.0</td>\n",
       "      <td>47</td>\n",
       "      <td>359.0</td>\n",
       "      <td>1002</td>\n",
       "      <td>143</td>\n",
       "    </tr>\n",
       "  </tbody>\n",
       "</table>\n",
       "</div>"
      ],
      "text/plain": [
       "               date  date_block_num  shop_id  item_id  item_price  \\\n",
       "2849816  2015-09-30              32       50    15483       549.0   \n",
       "2849791  2015-09-30              32       50    15069      2499.0   \n",
       "2849769  2015-09-30              32       50    10518       399.0   \n",
       "2849911  2015-09-30              32       50    13881       659.0   \n",
       "2832824  2015-09-30              32       42    13339       359.0   \n",
       "\n",
       "         item_cnt_day  item_category_id  total_income  days  weeks  \n",
       "2849816           1.0                63         549.0  1002    143  \n",
       "2849791           3.0                28        7497.0  1002    143  \n",
       "2849769           1.0                55         399.0  1002    143  \n",
       "2849911           1.0                55         659.0  1002    143  \n",
       "2832824           1.0                47         359.0  1002    143  "
      ]
     },
     "execution_count": 128,
     "metadata": {},
     "output_type": "execute_result"
    }
   ],
   "source": [
    "train_dataset.tail()"
   ]
  },
  {
   "cell_type": "code",
   "execution_count": 129,
   "id": "burning-milan",
   "metadata": {
    "ExecuteTime": {
     "end_time": "2021-09-09T14:00:41.925168Z",
     "start_time": "2021-09-09T14:00:41.127604Z"
    }
   },
   "outputs": [],
   "source": [
    "test_dataset = sales_train[sales_train.date >= datetime.date(2015, 10, 1)]"
   ]
  },
  {
   "cell_type": "code",
   "execution_count": 132,
   "id": "composed-manner",
   "metadata": {
    "ExecuteTime": {
     "end_time": "2021-09-09T14:02:12.767586Z",
     "start_time": "2021-09-09T14:01:16.993621Z"
    }
   },
   "outputs": [],
   "source": [
    "train_dataset.to_csv('data/train_dataset.csv', index=None)\n",
    "test_dataset.to_csv('data/test_dataset.csv', index=None)"
   ]
  },
  {
   "cell_type": "code",
   "execution_count": null,
   "id": "announced-europe",
   "metadata": {},
   "outputs": [],
   "source": []
  }
 ],
 "metadata": {
  "kernelspec": {
   "display_name": "Python 3",
   "language": "python",
   "name": "python3"
  },
  "language_info": {
   "codemirror_mode": {
    "name": "ipython",
    "version": 3
   },
   "file_extension": ".py",
   "mimetype": "text/x-python",
   "name": "python",
   "nbconvert_exporter": "python",
   "pygments_lexer": "ipython3",
   "version": "3.9.0"
  },
  "toc": {
   "base_numbering": 1,
   "nav_menu": {},
   "number_sections": true,
   "sideBar": true,
   "skip_h1_title": false,
   "title_cell": "Table of Contents",
   "title_sidebar": "Contents",
   "toc_cell": false,
   "toc_position": {},
   "toc_section_display": true,
   "toc_window_display": false
  }
 },
 "nbformat": 4,
 "nbformat_minor": 5
}
