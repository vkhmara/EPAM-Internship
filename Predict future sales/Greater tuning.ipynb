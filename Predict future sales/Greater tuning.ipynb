{
 "cells": [
  {
   "cell_type": "code",
   "execution_count": 1,
   "id": "loaded-junior",
   "metadata": {
    "ExecuteTime": {
     "end_time": "2021-11-02T06:51:36.380037Z",
     "start_time": "2021-11-02T06:51:28.417275Z"
    }
   },
   "outputs": [],
   "source": [
    "import numpy as np\n",
    "import pandas as pd\n",
    "import datetime\n",
    "import matplotlib.pyplot as plt\n",
    "from itertools import product\n",
    "from lightgbm import LGBMRegressor\n",
    "from sklearn.preprocessing import StandardScaler\n",
    "import warnings\n",
    "import json\n",
    "warnings.filterwarnings(\"ignore\")\n",
    "\n",
    "def RMSE(series_true, series_predicted):\n",
    "    return sum((series_true - series_predicted)**2 / len(series_true))**0.5"
   ]
  },
  {
   "cell_type": "code",
   "execution_count": 2,
   "id": "asian-blond",
   "metadata": {
    "ExecuteTime": {
     "end_time": "2021-11-02T06:52:03.758593Z",
     "start_time": "2021-11-02T06:51:36.390018Z"
    }
   },
   "outputs": [],
   "source": [
    "X_lags = pd.read_csv('data/X_without_target_encoding.csv')\n",
    "y_lags = pd.read_csv('data/y_without_target_encoding.csv').item_cnt\n",
    "X_test_lags = pd.read_csv('data/test_without_target_encoding.csv', index_col='ID')"
   ]
  },
  {
   "cell_type": "code",
   "execution_count": 3,
   "id": "increasing-outreach",
   "metadata": {
    "ExecuteTime": {
     "end_time": "2021-11-02T06:52:05.431771Z",
     "start_time": "2021-11-02T06:52:03.758593Z"
    }
   },
   "outputs": [],
   "source": [
    "types = {\n",
    "    'date_block_num': 'int8',\n",
    "    'shop_id': 'int8',\n",
    "    'item_id': 'int16',\n",
    "    'item_category_id': 'int8',\n",
    "    'super_category': 'int8',\n",
    "    'category': 'int8',\n",
    "    'city': 'int8',\n",
    "    'shop_type': 'int8',\n",
    "    'shop_name': 'int8'\n",
    "}\n",
    "types.update({\n",
    "    f'item_cnt_lag{i}': 'int8' for i in range(1, 13)\n",
    "})\n",
    "X_lags = X_lags.astype(types)\n",
    "X_test_lags = X_test_lags.astype(types)"
   ]
  },
  {
   "cell_type": "code",
   "execution_count": 4,
   "id": "lined-subscriber",
   "metadata": {
    "ExecuteTime": {
     "end_time": "2021-11-02T06:52:06.337989Z",
     "start_time": "2021-11-02T06:52:05.431771Z"
    }
   },
   "outputs": [],
   "source": [
    "X_lags.drop(columns=['shop_id', 'item_id', 'item_category_id'], inplace=True)\n",
    "X_test_lags.drop(columns=['shop_id', 'item_id', 'item_category_id'], inplace=True)"
   ]
  },
  {
   "cell_type": "code",
   "execution_count": 5,
   "id": "technical-intro",
   "metadata": {
    "ExecuteTime": {
     "end_time": "2021-11-02T06:52:08.239044Z",
     "start_time": "2021-11-02T06:52:06.337989Z"
    }
   },
   "outputs": [],
   "source": [
    "X_train = X_lags[X_lags.date_block_num < 33]\n",
    "y_train = y_lags[X_lags.date_block_num < 33]\n",
    "\n",
    "X_val = X_lags[X_lags.date_block_num == 33]\n",
    "y_val = y_lags[X_lags.date_block_num == 33]"
   ]
  },
  {
   "cell_type": "code",
   "execution_count": 6,
   "id": "civil-colony",
   "metadata": {
    "ExecuteTime": {
     "end_time": "2021-11-02T06:52:08.270296Z",
     "start_time": "2021-11-02T06:52:08.239044Z"
    }
   },
   "outputs": [],
   "source": [
    "cat_features = X_train.columns.to_list()[:6]"
   ]
  },
  {
   "cell_type": "code",
   "execution_count": 7,
   "id": "orange-detective",
   "metadata": {
    "ExecuteTime": {
     "end_time": "2021-11-02T06:52:08.301542Z",
     "start_time": "2021-11-02T06:52:08.285921Z"
    }
   },
   "outputs": [],
   "source": [
    "train_scores = {}\n",
    "val_scores = {}"
   ]
  },
  {
   "cell_type": "code",
   "execution_count": 9,
   "id": "reported-capitol",
   "metadata": {
    "ExecuteTime": {
     "end_time": "2021-11-02T14:07:45.817594Z",
     "start_time": "2021-11-02T07:36:17.089551Z"
    }
   },
   "outputs": [],
   "source": [
    "for learning_rate, early_stopping_rounds in product([0.01, 0.05, 0.1, 0.5, 1], range(10, 91, 20)):\n",
    "    lgbm = LGBMRegressor(max_depth=12, learning_rate=learning_rate, n_estimators=1000)\n",
    "    lgbm.fit(X_train,\n",
    "             y_train,\n",
    "             eval_metric='l2',\n",
    "             eval_set=[(X_val, y_val)],\n",
    "             early_stopping_rounds=early_stopping_rounds,\n",
    "             verbose=-1,\n",
    "             feature_name=X_train.columns.to_list(),\n",
    "             categorical_feature=cat_features\n",
    "             )\n",
    "    train_scores[(12, learning_rate, early_stopping_rounds)] = RMSE(\n",
    "        y_train, lgbm.predict(X_train).clip(0, 20))\n",
    "    val_scores[(12, learning_rate, early_stopping_rounds)] = RMSE(\n",
    "        y_val, lgbm.predict(X_val).clip(0, 20))"
   ]
  },
  {
   "cell_type": "code",
   "execution_count": 16,
   "id": "steady-findings",
   "metadata": {
    "ExecuteTime": {
     "end_time": "2021-11-02T14:18:11.564758Z",
     "start_time": "2021-11-02T14:18:11.500768Z"
    }
   },
   "outputs": [],
   "source": [
    "val_scores_df = pd.DataFrame(val_scores, index=[1]).T.reset_index()\\\n",
    "    .rename(columns={\n",
    "    'level_0': 'max_depth',\n",
    "    'level_1': 'learning_rate',\n",
    "    'level_2': 'early_stopping_rounds',\n",
    "    1: 'val_score'\n",
    "}).drop(columns='max_depth')\n",
    "\n",
    "val_scores_df.to_csv('data/val_scores.csv', index=None)"
   ]
  },
  {
   "cell_type": "code",
   "execution_count": 20,
   "id": "internal-aquarium",
   "metadata": {
    "ExecuteTime": {
     "end_time": "2021-11-02T14:18:50.890184Z",
     "start_time": "2021-11-02T14:18:50.834200Z"
    }
   },
   "outputs": [],
   "source": [
    "train_scores_df = pd.DataFrame(train_scores, index=[1]).T.reset_index()    .rename(columns={\n",
    "    'level_0': 'max_depth',\n",
    "    'level_1': 'learning_rate',\n",
    "    'level_2': 'early_stopping_rounds',\n",
    "    1: 'train_score'\n",
    "}).drop(columns='max_depth')\n",
    "\n",
    "train_scores_df.to_csv('data/train_scores.csv', index=None)"
   ]
  },
  {
   "cell_type": "code",
   "execution_count": 21,
   "id": "cleared-province",
   "metadata": {
    "ExecuteTime": {
     "end_time": "2021-11-02T14:18:51.776395Z",
     "start_time": "2021-11-02T14:18:51.736715Z"
    }
   },
   "outputs": [
    {
     "data": {
      "text/html": [
       "<div>\n",
       "<style scoped>\n",
       "    .dataframe tbody tr th:only-of-type {\n",
       "        vertical-align: middle;\n",
       "    }\n",
       "\n",
       "    .dataframe tbody tr th {\n",
       "        vertical-align: top;\n",
       "    }\n",
       "\n",
       "    .dataframe thead th {\n",
       "        text-align: right;\n",
       "    }\n",
       "</style>\n",
       "<table border=\"1\" class=\"dataframe\">\n",
       "  <thead>\n",
       "    <tr style=\"text-align: right;\">\n",
       "      <th></th>\n",
       "      <th>learning_rate</th>\n",
       "      <th>early_stopping_rounds</th>\n",
       "      <th>val_score</th>\n",
       "    </tr>\n",
       "  </thead>\n",
       "  <tbody>\n",
       "    <tr>\n",
       "      <th>12</th>\n",
       "      <td>0.1</td>\n",
       "      <td>50</td>\n",
       "      <td>0.919165</td>\n",
       "    </tr>\n",
       "    <tr>\n",
       "      <th>13</th>\n",
       "      <td>0.1</td>\n",
       "      <td>70</td>\n",
       "      <td>0.919165</td>\n",
       "    </tr>\n",
       "    <tr>\n",
       "      <th>14</th>\n",
       "      <td>0.1</td>\n",
       "      <td>90</td>\n",
       "      <td>0.919165</td>\n",
       "    </tr>\n",
       "  </tbody>\n",
       "</table>\n",
       "</div>"
      ],
      "text/plain": [
       "    learning_rate  early_stopping_rounds  val_score\n",
       "12            0.1                     50   0.919165\n",
       "13            0.1                     70   0.919165\n",
       "14            0.1                     90   0.919165"
      ]
     },
     "execution_count": 21,
     "metadata": {},
     "output_type": "execute_result"
    }
   ],
   "source": [
    "val_scores_df[val_scores_df.val_score == val_scores_df.val_score.min()]"
   ]
  },
  {
   "cell_type": "code",
   "execution_count": 22,
   "id": "creative-license",
   "metadata": {
    "ExecuteTime": {
     "end_time": "2021-11-02T14:18:52.340348Z",
     "start_time": "2021-11-02T14:18:52.292398Z"
    }
   },
   "outputs": [
    {
     "data": {
      "text/html": [
       "<div>\n",
       "<style scoped>\n",
       "    .dataframe tbody tr th:only-of-type {\n",
       "        vertical-align: middle;\n",
       "    }\n",
       "\n",
       "    .dataframe tbody tr th {\n",
       "        vertical-align: top;\n",
       "    }\n",
       "\n",
       "    .dataframe thead th {\n",
       "        text-align: right;\n",
       "    }\n",
       "</style>\n",
       "<table border=\"1\" class=\"dataframe\">\n",
       "  <thead>\n",
       "    <tr style=\"text-align: right;\">\n",
       "      <th></th>\n",
       "      <th>learning_rate</th>\n",
       "      <th>early_stopping_rounds</th>\n",
       "      <th>train_score</th>\n",
       "    </tr>\n",
       "  </thead>\n",
       "  <tbody>\n",
       "    <tr>\n",
       "      <th>12</th>\n",
       "      <td>0.1</td>\n",
       "      <td>50</td>\n",
       "      <td>0.829572</td>\n",
       "    </tr>\n",
       "    <tr>\n",
       "      <th>13</th>\n",
       "      <td>0.1</td>\n",
       "      <td>70</td>\n",
       "      <td>0.829572</td>\n",
       "    </tr>\n",
       "    <tr>\n",
       "      <th>14</th>\n",
       "      <td>0.1</td>\n",
       "      <td>90</td>\n",
       "      <td>0.829572</td>\n",
       "    </tr>\n",
       "  </tbody>\n",
       "</table>\n",
       "</div>"
      ],
      "text/plain": [
       "    learning_rate  early_stopping_rounds  train_score\n",
       "12            0.1                     50     0.829572\n",
       "13            0.1                     70     0.829572\n",
       "14            0.1                     90     0.829572"
      ]
     },
     "execution_count": 22,
     "metadata": {},
     "output_type": "execute_result"
    }
   ],
   "source": [
    "train_scores_df[train_scores_df.train_score == train_scores_df.train_score.min()]"
   ]
  },
  {
   "cell_type": "code",
   "execution_count": null,
   "id": "posted-adjustment",
   "metadata": {},
   "outputs": [],
   "source": []
  }
 ],
 "metadata": {
  "kernelspec": {
   "display_name": "Python 3",
   "language": "python",
   "name": "python3"
  },
  "language_info": {
   "codemirror_mode": {
    "name": "ipython",
    "version": 3
   },
   "file_extension": ".py",
   "mimetype": "text/x-python",
   "name": "python",
   "nbconvert_exporter": "python",
   "pygments_lexer": "ipython3",
   "version": "3.9.0"
  },
  "toc": {
   "base_numbering": 1,
   "nav_menu": {},
   "number_sections": true,
   "sideBar": true,
   "skip_h1_title": false,
   "title_cell": "Table of Contents",
   "title_sidebar": "Contents",
   "toc_cell": false,
   "toc_position": {},
   "toc_section_display": true,
   "toc_window_display": false
  }
 },
 "nbformat": 4,
 "nbformat_minor": 5
}
