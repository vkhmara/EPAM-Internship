{
 "cells": [
  {
   "cell_type": "code",
   "execution_count": 1,
   "id": "understanding-batch",
   "metadata": {
    "ExecuteTime": {
     "end_time": "2021-10-01T06:03:03.417763Z",
     "start_time": "2021-10-01T06:02:54.405858Z"
    }
   },
   "outputs": [],
   "source": [
    "import numpy as np\n",
    "import pandas as pd\n",
    "import datetime\n",
    "import matplotlib.pyplot as plt\n",
    "from sklearn.ensemble import RandomForestRegressor, GradientBoostingRegressor\n",
    "from itertools import product"
   ]
  },
  {
   "cell_type": "code",
   "execution_count": 2,
   "id": "extreme-interface",
   "metadata": {
    "ExecuteTime": {
     "end_time": "2021-10-01T06:03:10.225575Z",
     "start_time": "2021-10-01T06:03:03.431737Z"
    }
   },
   "outputs": [],
   "source": [
    "item_categories = pd.read_csv('data/item_categories.csv', index_col='item_category_id')\n",
    "items = pd.read_csv('data/items.csv', index_col='item_id')\n",
    "shops = pd.read_csv('data/shops.csv', index_col='shop_id')\n",
    "train_X = pd.read_csv('data/train_dataset.csv')\n",
    "test_df = pd.read_csv('data/test_dataset.csv')"
   ]
  },
  {
   "cell_type": "code",
   "execution_count": 3,
   "id": "upper-secondary",
   "metadata": {
    "ExecuteTime": {
     "end_time": "2021-10-01T06:03:10.586442Z",
     "start_time": "2021-10-01T06:03:10.234565Z"
    }
   },
   "outputs": [],
   "source": [
    "other_test_df = test_df.groupby(['shop_id', 'item_id', 'date_block_num']).item_cnt_day.sum().unstack()\n",
    "test_X = pd.DataFrame(map(list, other_test_df.index), columns=['shop_id', 'item_id'])\n",
    "test_target = other_test_df[33]"
   ]
  },
  {
   "cell_type": "code",
   "execution_count": 4,
   "id": "pleased-europe",
   "metadata": {
    "ExecuteTime": {
     "end_time": "2021-09-15T06:05:01.291877Z",
     "start_time": "2021-09-15T06:04:59.490302Z"
    },
    "scrolled": true
   },
   "outputs": [
    {
     "data": {
      "text/plain": [
       "shop_id  item_id\n",
       "38       1065         1\n",
       "19       20057        1\n",
       "41       6004         1\n",
       "         6009         1\n",
       "19       20072        1\n",
       "                   ... \n",
       "42       20949      803\n",
       "22       20949      824\n",
       "31       20949      832\n",
       "28       20949      837\n",
       "53       20949      840\n",
       "Name: item_cnt_day, Length: 417004, dtype: int64"
      ]
     },
     "execution_count": 4,
     "metadata": {},
     "output_type": "execute_result"
    }
   ],
   "source": [
    "train_X.groupby(['shop_id', 'item_id']).item_cnt_day.count().sort_values()"
   ]
  },
  {
   "cell_type": "code",
   "execution_count": 15,
   "id": "aware-storage",
   "metadata": {
    "ExecuteTime": {
     "end_time": "2021-09-15T06:08:26.527547Z",
     "start_time": "2021-09-15T06:08:26.510577Z"
    }
   },
   "outputs": [],
   "source": [
    "shop_id = 53\n",
    "item_id = 20949"
   ]
  },
  {
   "cell_type": "code",
   "execution_count": 16,
   "id": "metropolitan-latest",
   "metadata": {
    "ExecuteTime": {
     "end_time": "2021-09-15T06:08:28.218274Z",
     "start_time": "2021-09-15T06:08:28.144236Z"
    }
   },
   "outputs": [],
   "source": [
    "series = train_df[(train_df.shop_id == shop_id) & (train_df.item_id == item_id)].groupby('date_block_num').item_cnt_day.sum()"
   ]
  },
  {
   "cell_type": "code",
   "execution_count": 18,
   "id": "legislative-romance",
   "metadata": {
    "ExecuteTime": {
     "end_time": "2021-09-15T06:09:00.379474Z",
     "start_time": "2021-09-15T06:09:00.348522Z"
    }
   },
   "outputs": [],
   "source": [
    "y = test_df[(test_df.shop_id == shop_id) & (test_df.item_id == item_id)].item_cnt_day.sum()"
   ]
  },
  {
   "cell_type": "markdown",
   "id": "processed-beach",
   "metadata": {},
   "source": [
    "# Some functions"
   ]
  },
  {
   "cell_type": "code",
   "execution_count": 4,
   "id": "offensive-nelson",
   "metadata": {
    "ExecuteTime": {
     "end_time": "2021-10-01T06:03:10.617644Z",
     "start_time": "2021-10-01T06:03:10.586442Z"
    }
   },
   "outputs": [],
   "source": [
    "def MSE(series_true, series_predicted):\n",
    "    return sum((series_true - series_predicted)**2 / len(series_true))**0.5"
   ]
  },
  {
   "cell_type": "code",
   "execution_count": 5,
   "id": "reliable-maker",
   "metadata": {
    "ExecuteTime": {
     "end_time": "2021-10-01T06:03:10.695765Z",
     "start_time": "2021-10-01T06:03:10.680143Z"
    }
   },
   "outputs": [],
   "source": [
    "def EMA(ser, alpha):\n",
    "    y_1 = ser[0]\n",
    "    for y in ser:\n",
    "        y_1 = (1 - alpha) * y_1 + alpha * y\n",
    "    return y_1"
   ]
  },
  {
   "cell_type": "markdown",
   "id": "adequate-schedule",
   "metadata": {},
   "source": [
    "# Experiments"
   ]
  },
  {
   "cell_type": "code",
   "execution_count": 58,
   "id": "ceramic-maldives",
   "metadata": {
    "ExecuteTime": {
     "end_time": "2021-09-15T06:39:24.334018Z",
     "start_time": "2021-09-15T06:39:24.320045Z"
    }
   },
   "outputs": [],
   "source": [
    "import statsmodels.api as sm\n",
    "from statsmodels.tsa.arima.model import ARIMA\n",
    "from statsmodels.tsa.arima_model import ARMA"
   ]
  },
  {
   "cell_type": "markdown",
   "id": "union-international",
   "metadata": {},
   "source": [
    "## ARIMA for month data"
   ]
  },
  {
   "cell_type": "code",
   "execution_count": 105,
   "id": "featured-shooting",
   "metadata": {
    "ExecuteTime": {
     "end_time": "2021-09-15T06:59:17.486130Z",
     "start_time": "2021-09-15T06:59:17.395278Z"
    }
   },
   "outputs": [],
   "source": [
    "month_series = train_df[(train_df.shop_id == shop_id) & (train_df.item_id == item_id)].groupby('date_block_num').item_cnt_day.sum()\n",
    "month_y = test_df[(test_df.shop_id == shop_id) & (test_df.item_id == item_id)].item_cnt_day.sum()"
   ]
  },
  {
   "cell_type": "code",
   "execution_count": 106,
   "id": "center-maker",
   "metadata": {
    "ExecuteTime": {
     "end_time": "2021-09-15T06:59:22.716941Z",
     "start_time": "2021-09-15T06:59:22.128250Z"
    }
   },
   "outputs": [
    {
     "data": {
      "image/png": "[encoded data removed]",
      "text/plain": [
       "<Figure size 432x288 with 1 Axes>"
      ]
     },
     "metadata": {
      "needs_background": "light"
     },
     "output_type": "display_data"
    }
   ],
   "source": [
    "sm.graphics.tsa.plot_acf(month_series, lags=25);"
   ]
  },
  {
   "cell_type": "code",
   "execution_count": 107,
   "id": "incorporated-gospel",
   "metadata": {
    "ExecuteTime": {
     "end_time": "2021-09-15T06:59:26.166642Z",
     "start_time": "2021-09-15T06:59:25.586099Z"
    }
   },
   "outputs": [
    {
     "data": {
      "image/png": "[encoded data removed]",
      "text/plain": [
       "<Figure size 432x288 with 1 Axes>"
      ]
     },
     "metadata": {
      "needs_background": "light"
     },
     "output_type": "display_data"
    }
   ],
   "source": [
    "fig = sm.graphics.tsa.plot_pacf(month_series, lags=14);"
   ]
  },
  {
   "cell_type": "code",
   "execution_count": 108,
   "id": "forbidden-smart",
   "metadata": {
    "ExecuteTime": {
     "end_time": "2021-09-15T06:59:31.044760Z",
     "start_time": "2021-09-15T06:59:30.518141Z"
    }
   },
   "outputs": [
    {
     "data": {
      "image/png": "[encoded data removed]",
      "text/plain": [
       "<Figure size 432x288 with 1 Axes>"
      ]
     },
     "metadata": {
      "needs_background": "light"
     },
     "output_type": "display_data"
    }
   ],
   "source": [
    "plt.plot(month_series)\n",
    "plt.show()"
   ]
  },
  {
   "cell_type": "code",
   "execution_count": 109,
   "id": "durable-offense",
   "metadata": {
    "ExecuteTime": {
     "end_time": "2021-09-15T06:59:34.640390Z",
     "start_time": "2021-09-15T06:59:34.598460Z"
    },
    "scrolled": false
   },
   "outputs": [
    {
     "name": "stdout",
     "output_type": "stream",
     "text": [
      "adf:  -0.7898213644472372\n",
      "p-value:  0.8220936954595429\n",
      "Critical values:  {'1%': -3.6996079738860943, '5%': -2.9764303469999494, '10%': -2.627601001371742}\n",
      "есть единичные корни, ряд не стационарен\n"
     ]
    }
   ],
   "source": [
    "test = sm.tsa.adfuller(month_series)\n",
    "print('adf: ', test[0])\n",
    "print('p-value: ', test[1])\n",
    "print('Critical values: ', test[4])\n",
    "if test[0]> test[4]['5%']: \n",
    "    print('есть единичные корни, ряд не стационарен')\n",
    "else:\n",
    "    print('единичных корней нет, ряд стационарен')"
   ]
  },
  {
   "cell_type": "code",
   "execution_count": 110,
   "id": "guilty-pakistan",
   "metadata": {
    "ExecuteTime": {
     "end_time": "2021-09-15T06:59:40.366792Z",
     "start_time": "2021-09-15T06:59:40.315878Z"
    }
   },
   "outputs": [
    {
     "name": "stdout",
     "output_type": "stream",
     "text": [
      "adf:  -3.4283539175570596\n",
      "p-value:  0.010029438569048822\n",
      "Critical values:  {'1%': -3.7883858816542486, '5%': -3.013097747543462, '10%': -2.6463967573696143}\n",
      "единичных корней нет, ряд стационарен\n"
     ]
    }
   ],
   "source": [
    "series_diff = month_series.diff().dropna()\n",
    "test_diff = sm.tsa.adfuller(series_diff)\n",
    "print('adf: ', test_diff[0])\n",
    "print('p-value: ', test_diff[1])\n",
    "print('Critical values: ', test_diff[4])\n",
    "if test_diff[0]> test_diff[4]['5%']: \n",
    "    print('есть единичные корни, ряд не стационарен')\n",
    "else:\n",
    "    print('единичных корней нет, ряд стационарен')"
   ]
  },
  {
   "cell_type": "code",
   "execution_count": 111,
   "id": "parliamentary-tenant",
   "metadata": {
    "ExecuteTime": {
     "end_time": "2021-09-15T07:00:01.673754Z",
     "start_time": "2021-09-15T07:00:00.822109Z"
    }
   },
   "outputs": [
    {
     "name": "stderr",
     "output_type": "stream",
     "text": [
      "c:\\users\\user\\appdata\\local\\programs\\python\\python39\\lib\\site-packages\\statsmodels\\tsa\\base\\tsa_model.py:578: ValueWarning: An unsupported index was provided and will be ignored when e.g. forecasting.\n",
      "  warnings.warn('An unsupported index was provided and will be'\n",
      "c:\\users\\user\\appdata\\local\\programs\\python\\python39\\lib\\site-packages\\statsmodels\\tsa\\base\\tsa_model.py:578: ValueWarning: An unsupported index was provided and will be ignored when e.g. forecasting.\n",
      "  warnings.warn('An unsupported index was provided and will be'\n",
      "c:\\users\\user\\appdata\\local\\programs\\python\\python39\\lib\\site-packages\\statsmodels\\tsa\\base\\tsa_model.py:578: ValueWarning: An unsupported index was provided and will be ignored when e.g. forecasting.\n",
      "  warnings.warn('An unsupported index was provided and will be'\n",
      "c:\\users\\user\\appdata\\local\\programs\\python\\python39\\lib\\site-packages\\statsmodels\\base\\model.py:566: ConvergenceWarning: Maximum Likelihood optimization failed to converge. Check mle_retvals\n",
      "  warnings.warn(\"Maximum Likelihood optimization failed to \"\n"
     ]
    }
   ],
   "source": [
    "p, d, q = 3, 1, 2\n",
    "arima = ARIMA(month_series, order=(p, d, q)).fit()"
   ]
  },
  {
   "cell_type": "code",
   "execution_count": 112,
   "id": "mediterranean-soviet",
   "metadata": {
    "ExecuteTime": {
     "end_time": "2021-09-15T07:00:02.921834Z",
     "start_time": "2021-09-15T07:00:02.854934Z"
    },
    "scrolled": true
   },
   "outputs": [
    {
     "data": {
      "text/html": [
       "<table class=\"simpletable\">\n",
       "<caption>SARIMAX Results</caption>\n",
       "<tr>\n",
       "  <th>Dep. Variable:</th>     <td>item_cnt_day</td>   <th>  No. Observations:  </th>    <td>30</td>   \n",
       "</tr>\n",
       "<tr>\n",
       "  <th>Model:</th>            <td>ARIMA(3, 1, 2)</td>  <th>  Log Likelihood     </th> <td>-142.045</td>\n",
       "</tr>\n",
       "<tr>\n",
       "  <th>Date:</th>            <td>Wed, 15 Sep 2021</td> <th>  AIC                </th>  <td>296.089</td>\n",
       "</tr>\n",
       "<tr>\n",
       "  <th>Time:</th>                <td>10:00:02</td>     <th>  BIC                </th>  <td>304.293</td>\n",
       "</tr>\n",
       "<tr>\n",
       "  <th>Sample:</th>                  <td>0</td>        <th>  HQIC               </th>  <td>298.658</td>\n",
       "</tr>\n",
       "<tr>\n",
       "  <th></th>                       <td> - 30</td>      <th>                     </th>     <td> </td>   \n",
       "</tr>\n",
       "<tr>\n",
       "  <th>Covariance Type:</th>        <td>opg</td>       <th>                     </th>     <td> </td>   \n",
       "</tr>\n",
       "</table>\n",
       "<table class=\"simpletable\">\n",
       "<tr>\n",
       "     <td></td>       <th>coef</th>     <th>std err</th>      <th>z</th>      <th>P>|z|</th>  <th>[0.025</th>    <th>0.975]</th>  \n",
       "</tr>\n",
       "<tr>\n",
       "  <th>ar.L1</th>  <td>    0.4496</td> <td>    0.293</td> <td>    1.533</td> <td> 0.125</td> <td>   -0.125</td> <td>    1.024</td>\n",
       "</tr>\n",
       "<tr>\n",
       "  <th>ar.L2</th>  <td>   -0.3049</td> <td>    0.298</td> <td>   -1.023</td> <td> 0.306</td> <td>   -0.889</td> <td>    0.279</td>\n",
       "</tr>\n",
       "<tr>\n",
       "  <th>ar.L3</th>  <td>    0.1387</td> <td>    0.314</td> <td>    0.442</td> <td> 0.658</td> <td>   -0.476</td> <td>    0.753</td>\n",
       "</tr>\n",
       "<tr>\n",
       "  <th>ma.L1</th>  <td>   -1.2515</td> <td>    0.566</td> <td>   -2.212</td> <td> 0.027</td> <td>   -2.361</td> <td>   -0.142</td>\n",
       "</tr>\n",
       "<tr>\n",
       "  <th>ma.L2</th>  <td>    0.9658</td> <td>    0.813</td> <td>    1.188</td> <td> 0.235</td> <td>   -0.627</td> <td>    2.559</td>\n",
       "</tr>\n",
       "<tr>\n",
       "  <th>sigma2</th> <td>  899.7551</td> <td>  650.611</td> <td>    1.383</td> <td> 0.167</td> <td> -375.420</td> <td> 2174.930</td>\n",
       "</tr>\n",
       "</table>\n",
       "<table class=\"simpletable\">\n",
       "<tr>\n",
       "  <th>Ljung-Box (L1) (Q):</th>     <td>1.27</td> <th>  Jarque-Bera (JB):  </th> <td>2.68</td>\n",
       "</tr>\n",
       "<tr>\n",
       "  <th>Prob(Q):</th>                <td>0.26</td> <th>  Prob(JB):          </th> <td>0.26</td>\n",
       "</tr>\n",
       "<tr>\n",
       "  <th>Heteroskedasticity (H):</th> <td>0.38</td> <th>  Skew:              </th> <td>0.67</td>\n",
       "</tr>\n",
       "<tr>\n",
       "  <th>Prob(H) (two-sided):</th>    <td>0.15</td> <th>  Kurtosis:          </th> <td>3.65</td>\n",
       "</tr>\n",
       "</table><br/><br/>Warnings:<br/>[1] Covariance matrix calculated using the outer product of gradients (complex-step)."
      ],
      "text/plain": [
       "<class 'statsmodels.iolib.summary.Summary'>\n",
       "\"\"\"\n",
       "                               SARIMAX Results                                \n",
       "==============================================================================\n",
       "Dep. Variable:           item_cnt_day   No. Observations:                   30\n",
       "Model:                 ARIMA(3, 1, 2)   Log Likelihood                -142.045\n",
       "Date:                Wed, 15 Sep 2021   AIC                            296.089\n",
       "Time:                        10:00:02   BIC                            304.293\n",
       "Sample:                             0   HQIC                           298.658\n",
       "                                 - 30                                         \n",
       "Covariance Type:                  opg                                         \n",
       "==============================================================================\n",
       "                 coef    std err          z      P>|z|      [0.025      0.975]\n",
       "------------------------------------------------------------------------------\n",
       "ar.L1          0.4496      0.293      1.533      0.125      -0.125       1.024\n",
       "ar.L2         -0.3049      0.298     -1.023      0.306      -0.889       0.279\n",
       "ar.L3          0.1387      0.314      0.442      0.658      -0.476       0.753\n",
       "ma.L1         -1.2515      0.566     -2.212      0.027      -2.361      -0.142\n",
       "ma.L2          0.9658      0.813      1.188      0.235      -0.627       2.559\n",
       "sigma2       899.7551    650.611      1.383      0.167    -375.420    2174.930\n",
       "===================================================================================\n",
       "Ljung-Box (L1) (Q):                   1.27   Jarque-Bera (JB):                 2.68\n",
       "Prob(Q):                              0.26   Prob(JB):                         0.26\n",
       "Heteroskedasticity (H):               0.38   Skew:                             0.67\n",
       "Prob(H) (two-sided):                  0.15   Kurtosis:                         3.65\n",
       "===================================================================================\n",
       "\n",
       "Warnings:\n",
       "[1] Covariance matrix calculated using the outer product of gradients (complex-step).\n",
       "\"\"\""
      ]
     },
     "execution_count": 112,
     "metadata": {},
     "output_type": "execute_result"
    }
   ],
   "source": [
    "arima.summary()"
   ]
  },
  {
   "cell_type": "code",
   "execution_count": 113,
   "id": "studied-basis",
   "metadata": {
    "ExecuteTime": {
     "end_time": "2021-09-15T07:00:08.719603Z",
     "start_time": "2021-09-15T07:00:08.075861Z"
    }
   },
   "outputs": [
    {
     "data": {
      "image/png": "[encoded data removed]",
      "text/plain": [
       "<Figure size 432x288 with 1 Axes>"
      ]
     },
     "metadata": {
      "needs_background": "light"
     },
     "output_type": "display_data"
    }
   ],
   "source": [
    "plt.plot(arima.predict())\n",
    "plt.plot(month_series)\n",
    "plt.legend(['predicted', 'real'])\n",
    "plt.show()"
   ]
  },
  {
   "cell_type": "code",
   "execution_count": 114,
   "id": "pediatric-shannon",
   "metadata": {
    "ExecuteTime": {
     "end_time": "2021-09-15T07:00:12.260129Z",
     "start_time": "2021-09-15T07:00:11.599415Z"
    }
   },
   "outputs": [
    {
     "name": "stderr",
     "output_type": "stream",
     "text": [
      "c:\\users\\user\\appdata\\local\\programs\\python\\python39\\lib\\site-packages\\statsmodels\\tsa\\base\\tsa_model.py:376: ValueWarning: No supported index is available. Prediction results will be given with an integer index beginning at `start`.\n",
      "  warnings.warn('No supported index is available.'\n"
     ]
    },
    {
     "data": {
      "image/png": "[encoded data removed]",
      "text/plain": [
       "<Figure size 432x288 with 1 Axes>"
      ]
     },
     "metadata": {
      "needs_background": "light"
     },
     "output_type": "display_data"
    }
   ],
   "source": [
    "plt.plot(arima.predict(end=50))\n",
    "plt.plot(month_series)\n",
    "plt.legend(['predicted', 'real'])\n",
    "plt.show()"
   ]
  },
  {
   "cell_type": "code",
   "execution_count": 116,
   "id": "minimal-russia",
   "metadata": {
    "ExecuteTime": {
     "end_time": "2021-09-15T07:00:24.572306Z",
     "start_time": "2021-09-15T07:00:24.065578Z"
    }
   },
   "outputs": [
    {
     "data": {
      "image/png": "[encoded data removed]",
      "text/plain": [
       "<Figure size 432x288 with 1 Axes>"
      ]
     },
     "metadata": {
      "needs_background": "light"
     },
     "output_type": "display_data"
    }
   ],
   "source": [
    "error = month_series - arima.predict()\n",
    "plt.plot(error)\n",
    "plt.show()"
   ]
  },
  {
   "cell_type": "code",
   "execution_count": 117,
   "id": "champion-violence",
   "metadata": {
    "ExecuteTime": {
     "end_time": "2021-09-15T07:00:26.538142Z",
     "start_time": "2021-09-15T07:00:25.911674Z"
    }
   },
   "outputs": [
    {
     "data": {
      "text/plain": [
       "<AxesSubplot:>"
      ]
     },
     "execution_count": 117,
     "metadata": {},
     "output_type": "execute_result"
    },
    {
     "data": {
      "image/png": "[encoded data removed]",
      "text/plain": [
       "<Figure size 432x288 with 1 Axes>"
      ]
     },
     "metadata": {
      "needs_background": "light"
     },
     "output_type": "display_data"
    }
   ],
   "source": [
    "error.hist()"
   ]
  },
  {
   "cell_type": "code",
   "execution_count": 118,
   "id": "configured-helping",
   "metadata": {
    "ExecuteTime": {
     "end_time": "2021-09-15T07:00:33.207369Z",
     "start_time": "2021-09-15T07:00:33.183404Z"
    }
   },
   "outputs": [
    {
     "data": {
      "text/plain": [
       "35.34647206580642"
      ]
     },
     "execution_count": 118,
     "metadata": {},
     "output_type": "execute_result"
    }
   ],
   "source": [
    "MSE(month_series, arima.predict())"
   ]
  },
  {
   "cell_type": "markdown",
   "id": "listed-republican",
   "metadata": {},
   "source": [
    "## ARMA for week data"
   ]
  },
  {
   "cell_type": "code",
   "execution_count": 56,
   "id": "reduced-klein",
   "metadata": {
    "ExecuteTime": {
     "end_time": "2021-09-15T06:37:50.568619Z",
     "start_time": "2021-09-15T06:37:50.499725Z"
    }
   },
   "outputs": [],
   "source": [
    "week_series = train_df[(train_df.shop_id == shop_id) & (train_df.item_id == item_id)].groupby('weeks').item_cnt_day.sum()"
   ]
  },
  {
   "cell_type": "code",
   "execution_count": 57,
   "id": "egyptian-opposition",
   "metadata": {
    "ExecuteTime": {
     "end_time": "2021-09-15T06:38:14.758249Z",
     "start_time": "2021-09-15T06:38:14.695351Z"
    }
   },
   "outputs": [
    {
     "name": "stdout",
     "output_type": "stream",
     "text": [
      "adf:  -6.1043191255224825\n",
      "p-value:  9.6665604927332e-08\n",
      "Critical values:  {'1%': -3.4833462346078936, '5%': -2.8847655969877666, '10%': -2.5791564575459813}\n",
      "единичных корней нет, ряд стационарен\n"
     ]
    }
   ],
   "source": [
    "test = sm.tsa.adfuller(week_series)\n",
    "print('adf: ', test[0])\n",
    "print('p-value: ', test[1])\n",
    "print('Critical values: ', test[4])\n",
    "if test[0]> test[4]['5%']: \n",
    "    print('есть единичные корни, ряд не стационарен')\n",
    "else:\n",
    "    print('единичных корней нет, ряд стационарен')"
   ]
  },
  {
   "cell_type": "code",
   "execution_count": 59,
   "id": "impossible-entity",
   "metadata": {
    "ExecuteTime": {
     "end_time": "2021-09-15T06:40:34.539575Z",
     "start_time": "2021-09-15T06:40:33.973049Z"
    }
   },
   "outputs": [
    {
     "data": {
      "image/png": "[encoded data removed]",
      "text/plain": [
       "<Figure size 432x288 with 1 Axes>"
      ]
     },
     "metadata": {
      "needs_background": "light"
     },
     "output_type": "display_data"
    }
   ],
   "source": [
    "sm.graphics.tsa.plot_acf(week_series, lags=25);"
   ]
  },
  {
   "cell_type": "code",
   "execution_count": 67,
   "id": "collect-devices",
   "metadata": {
    "ExecuteTime": {
     "end_time": "2021-09-15T06:50:06.896999Z",
     "start_time": "2021-09-15T06:50:03.671236Z"
    },
    "collapsed": true
   },
   "outputs": [
    {
     "name": "stderr",
     "output_type": "stream",
     "text": [
      "c:\\users\\user\\appdata\\local\\programs\\python\\python39\\lib\\site-packages\\statsmodels\\tsa\\base\\tsa_model.py:578: ValueWarning: An unsupported index was provided and will be ignored when e.g. forecasting.\n",
      "  warnings.warn('An unsupported index was provided and will be'\n",
      "c:\\users\\user\\appdata\\local\\programs\\python\\python39\\lib\\site-packages\\statsmodels\\tsa\\base\\tsa_model.py:578: ValueWarning: An unsupported index was provided and will be ignored when e.g. forecasting.\n",
      "  warnings.warn('An unsupported index was provided and will be'\n",
      "c:\\users\\user\\appdata\\local\\programs\\python\\python39\\lib\\site-packages\\statsmodels\\tsa\\base\\tsa_model.py:578: ValueWarning: An unsupported index was provided and will be ignored when e.g. forecasting.\n",
      "  warnings.warn('An unsupported index was provided and will be'\n",
      "c:\\users\\user\\appdata\\local\\programs\\python\\python39\\lib\\site-packages\\statsmodels\\tsa\\statespace\\sarimax.py:966: UserWarning: Non-stationary starting autoregressive parameters found. Using zeros as starting parameters.\n",
      "  warn('Non-stationary starting autoregressive parameters'\n",
      "c:\\users\\user\\appdata\\local\\programs\\python\\python39\\lib\\site-packages\\statsmodels\\tsa\\statespace\\sarimax.py:978: UserWarning: Non-invertible starting MA parameters found. Using zeros as starting parameters.\n",
      "  warn('Non-invertible starting MA parameters found.'\n",
      "c:\\users\\user\\appdata\\local\\programs\\python\\python39\\lib\\site-packages\\statsmodels\\base\\model.py:566: ConvergenceWarning: Maximum Likelihood optimization failed to converge. Check mle_retvals\n",
      "  warnings.warn(\"Maximum Likelihood optimization failed to \"\n"
     ]
    }
   ],
   "source": [
    "p, d, q = 8, 0, 6\n",
    "arma = ARIMA(week_series, order=(p, d, q)).fit()"
   ]
  },
  {
   "cell_type": "code",
   "execution_count": 68,
   "id": "comparable-parameter",
   "metadata": {
    "ExecuteTime": {
     "end_time": "2021-09-15T06:50:07.024799Z",
     "start_time": "2021-09-15T06:50:06.905988Z"
    }
   },
   "outputs": [
    {
     "data": {
      "text/html": [
       "<table class=\"simpletable\">\n",
       "<caption>SARIMAX Results</caption>\n",
       "<tr>\n",
       "  <th>Dep. Variable:</th>     <td>item_cnt_day</td>   <th>  No. Observations:  </th>    <td>127</td>  \n",
       "</tr>\n",
       "<tr>\n",
       "  <th>Model:</th>            <td>ARIMA(8, 0, 6)</td>  <th>  Log Likelihood     </th> <td>-460.234</td>\n",
       "</tr>\n",
       "<tr>\n",
       "  <th>Date:</th>            <td>Wed, 15 Sep 2021</td> <th>  AIC                </th>  <td>952.469</td>\n",
       "</tr>\n",
       "<tr>\n",
       "  <th>Time:</th>                <td>09:50:06</td>     <th>  BIC                </th>  <td>997.976</td>\n",
       "</tr>\n",
       "<tr>\n",
       "  <th>Sample:</th>                  <td>0</td>        <th>  HQIC               </th>  <td>970.957</td>\n",
       "</tr>\n",
       "<tr>\n",
       "  <th></th>                      <td> - 127</td>      <th>                     </th>     <td> </td>   \n",
       "</tr>\n",
       "<tr>\n",
       "  <th>Covariance Type:</th>        <td>opg</td>       <th>                     </th>     <td> </td>   \n",
       "</tr>\n",
       "</table>\n",
       "<table class=\"simpletable\">\n",
       "<tr>\n",
       "     <td></td>       <th>coef</th>     <th>std err</th>      <th>z</th>      <th>P>|z|</th>  <th>[0.025</th>    <th>0.975]</th>  \n",
       "</tr>\n",
       "<tr>\n",
       "  <th>const</th>  <td>   27.2141</td> <td>    8.909</td> <td>    3.055</td> <td> 0.002</td> <td>    9.753</td> <td>   44.676</td>\n",
       "</tr>\n",
       "<tr>\n",
       "  <th>ar.L1</th>  <td>    0.6759</td> <td>    0.420</td> <td>    1.609</td> <td> 0.108</td> <td>   -0.148</td> <td>    1.499</td>\n",
       "</tr>\n",
       "<tr>\n",
       "  <th>ar.L2</th>  <td>   -0.4764</td> <td>    0.381</td> <td>   -1.250</td> <td> 0.211</td> <td>   -1.223</td> <td>    0.270</td>\n",
       "</tr>\n",
       "<tr>\n",
       "  <th>ar.L3</th>  <td>    0.2556</td> <td>    0.289</td> <td>    0.884</td> <td> 0.377</td> <td>   -0.311</td> <td>    0.823</td>\n",
       "</tr>\n",
       "<tr>\n",
       "  <th>ar.L4</th>  <td>    0.2785</td> <td>    0.360</td> <td>    0.774</td> <td> 0.439</td> <td>   -0.426</td> <td>    0.984</td>\n",
       "</tr>\n",
       "<tr>\n",
       "  <th>ar.L5</th>  <td>   -0.4655</td> <td>    0.308</td> <td>   -1.512</td> <td> 0.130</td> <td>   -1.069</td> <td>    0.138</td>\n",
       "</tr>\n",
       "<tr>\n",
       "  <th>ar.L6</th>  <td>    0.6994</td> <td>    0.317</td> <td>    2.208</td> <td> 0.027</td> <td>    0.079</td> <td>    1.320</td>\n",
       "</tr>\n",
       "<tr>\n",
       "  <th>ar.L7</th>  <td>   -0.2159</td> <td>    0.174</td> <td>   -1.239</td> <td> 0.215</td> <td>   -0.557</td> <td>    0.125</td>\n",
       "</tr>\n",
       "<tr>\n",
       "  <th>ar.L8</th>  <td>    0.1836</td> <td>    0.126</td> <td>    1.460</td> <td> 0.144</td> <td>   -0.063</td> <td>    0.430</td>\n",
       "</tr>\n",
       "<tr>\n",
       "  <th>ma.L1</th>  <td>   -0.2174</td> <td>    0.451</td> <td>   -0.482</td> <td> 0.630</td> <td>   -1.102</td> <td>    0.667</td>\n",
       "</tr>\n",
       "<tr>\n",
       "  <th>ma.L2</th>  <td>    0.3457</td> <td>    0.536</td> <td>    0.645</td> <td> 0.519</td> <td>   -0.705</td> <td>    1.396</td>\n",
       "</tr>\n",
       "<tr>\n",
       "  <th>ma.L3</th>  <td>   -0.0321</td> <td>    0.531</td> <td>   -0.061</td> <td> 0.952</td> <td>   -1.072</td> <td>    1.008</td>\n",
       "</tr>\n",
       "<tr>\n",
       "  <th>ma.L4</th>  <td>   -0.4355</td> <td>    0.409</td> <td>   -1.064</td> <td> 0.287</td> <td>   -1.237</td> <td>    0.366</td>\n",
       "</tr>\n",
       "<tr>\n",
       "  <th>ma.L5</th>  <td>    0.5196</td> <td>    0.476</td> <td>    1.092</td> <td> 0.275</td> <td>   -0.413</td> <td>    1.452</td>\n",
       "</tr>\n",
       "<tr>\n",
       "  <th>ma.L6</th>  <td>   -0.5960</td> <td>    0.414</td> <td>   -1.440</td> <td> 0.150</td> <td>   -1.407</td> <td>    0.215</td>\n",
       "</tr>\n",
       "<tr>\n",
       "  <th>sigma2</th> <td>   78.8996</td> <td>   26.827</td> <td>    2.941</td> <td> 0.003</td> <td>   26.319</td> <td>  131.480</td>\n",
       "</tr>\n",
       "</table>\n",
       "<table class=\"simpletable\">\n",
       "<tr>\n",
       "  <th>Ljung-Box (L1) (Q):</th>     <td>0.00</td> <th>  Jarque-Bera (JB):  </th> <td>44.17</td>\n",
       "</tr>\n",
       "<tr>\n",
       "  <th>Prob(Q):</th>                <td>1.00</td> <th>  Prob(JB):          </th> <td>0.00</td> \n",
       "</tr>\n",
       "<tr>\n",
       "  <th>Heteroskedasticity (H):</th> <td>1.03</td> <th>  Skew:              </th> <td>1.07</td> \n",
       "</tr>\n",
       "<tr>\n",
       "  <th>Prob(H) (two-sided):</th>    <td>0.92</td> <th>  Kurtosis:          </th> <td>4.93</td> \n",
       "</tr>\n",
       "</table><br/><br/>Warnings:<br/>[1] Covariance matrix calculated using the outer product of gradients (complex-step)."
      ],
      "text/plain": [
       "<class 'statsmodels.iolib.summary.Summary'>\n",
       "\"\"\"\n",
       "                               SARIMAX Results                                \n",
       "==============================================================================\n",
       "Dep. Variable:           item_cnt_day   No. Observations:                  127\n",
       "Model:                 ARIMA(8, 0, 6)   Log Likelihood                -460.234\n",
       "Date:                Wed, 15 Sep 2021   AIC                            952.469\n",
       "Time:                        09:50:06   BIC                            997.976\n",
       "Sample:                             0   HQIC                           970.957\n",
       "                                - 127                                         \n",
       "Covariance Type:                  opg                                         \n",
       "==============================================================================\n",
       "                 coef    std err          z      P>|z|      [0.025      0.975]\n",
       "------------------------------------------------------------------------------\n",
       "const         27.2141      8.909      3.055      0.002       9.753      44.676\n",
       "ar.L1          0.6759      0.420      1.609      0.108      -0.148       1.499\n",
       "ar.L2         -0.4764      0.381     -1.250      0.211      -1.223       0.270\n",
       "ar.L3          0.2556      0.289      0.884      0.377      -0.311       0.823\n",
       "ar.L4          0.2785      0.360      0.774      0.439      -0.426       0.984\n",
       "ar.L5         -0.4655      0.308     -1.512      0.130      -1.069       0.138\n",
       "ar.L6          0.6994      0.317      2.208      0.027       0.079       1.320\n",
       "ar.L7         -0.2159      0.174     -1.239      0.215      -0.557       0.125\n",
       "ar.L8          0.1836      0.126      1.460      0.144      -0.063       0.430\n",
       "ma.L1         -0.2174      0.451     -0.482      0.630      -1.102       0.667\n",
       "ma.L2          0.3457      0.536      0.645      0.519      -0.705       1.396\n",
       "ma.L3         -0.0321      0.531     -0.061      0.952      -1.072       1.008\n",
       "ma.L4         -0.4355      0.409     -1.064      0.287      -1.237       0.366\n",
       "ma.L5          0.5196      0.476      1.092      0.275      -0.413       1.452\n",
       "ma.L6         -0.5960      0.414     -1.440      0.150      -1.407       0.215\n",
       "sigma2        78.8996     26.827      2.941      0.003      26.319     131.480\n",
       "===================================================================================\n",
       "Ljung-Box (L1) (Q):                   0.00   Jarque-Bera (JB):                44.17\n",
       "Prob(Q):                              1.00   Prob(JB):                         0.00\n",
       "Heteroskedasticity (H):               1.03   Skew:                             1.07\n",
       "Prob(H) (two-sided):                  0.92   Kurtosis:                         4.93\n",
       "===================================================================================\n",
       "\n",
       "Warnings:\n",
       "[1] Covariance matrix calculated using the outer product of gradients (complex-step).\n",
       "\"\"\""
      ]
     },
     "execution_count": 68,
     "metadata": {},
     "output_type": "execute_result"
    }
   ],
   "source": [
    "arma.summary()"
   ]
  },
  {
   "cell_type": "code",
   "execution_count": 69,
   "id": "increasing-marks",
   "metadata": {
    "ExecuteTime": {
     "end_time": "2021-09-15T06:50:15.593920Z",
     "start_time": "2021-09-15T06:50:14.943546Z"
    }
   },
   "outputs": [
    {
     "data": {
      "image/png": "[encoded data removed]",
      "text/plain": [
       "<Figure size 432x288 with 1 Axes>"
      ]
     },
     "metadata": {
      "needs_background": "light"
     },
     "output_type": "display_data"
    }
   ],
   "source": [
    "plt.plot(arma.predict())\n",
    "plt.plot(week_series)\n",
    "plt.legend(['predicted', 'real'])\n",
    "plt.show()"
   ]
  },
  {
   "cell_type": "code",
   "execution_count": 74,
   "id": "afraid-yugoslavia",
   "metadata": {
    "ExecuteTime": {
     "end_time": "2021-09-15T06:51:18.791895Z",
     "start_time": "2021-09-15T06:51:18.100455Z"
    }
   },
   "outputs": [
    {
     "data": {
      "text/plain": [
       "<AxesSubplot:>"
      ]
     },
     "execution_count": 74,
     "metadata": {},
     "output_type": "execute_result"
    },
    {
     "data": {
      "image/png": "[encoded data removed]",
      "text/plain": [
       "<Figure size 432x288 with 1 Axes>"
      ]
     },
     "metadata": {
      "needs_background": "light"
     },
     "output_type": "display_data"
    }
   ],
   "source": [
    "(arma.predict() - week_series).hist(bins=30)"
   ]
  },
  {
   "cell_type": "code",
   "execution_count": 79,
   "id": "prescription-strip",
   "metadata": {
    "ExecuteTime": {
     "end_time": "2021-09-15T06:55:02.364822Z",
     "start_time": "2021-09-15T06:55:02.340860Z"
    }
   },
   "outputs": [
    {
     "data": {
      "text/plain": [
       "9.033604280596286"
      ]
     },
     "execution_count": 79,
     "metadata": {},
     "output_type": "execute_result"
    }
   ],
   "source": [
    "MSE(week_series, arma.predict())"
   ]
  },
  {
   "cell_type": "code",
   "execution_count": null,
   "id": "casual-relationship",
   "metadata": {},
   "outputs": [],
   "source": []
  },
  {
   "cell_type": "markdown",
   "id": "celtic-portfolio",
   "metadata": {},
   "source": [
    "## Standart algorithms"
   ]
  },
  {
   "cell_type": "code",
   "execution_count": 132,
   "id": "embedded-newark",
   "metadata": {
    "ExecuteTime": {
     "end_time": "2021-09-15T07:10:18.870915Z",
     "start_time": "2021-09-15T07:10:18.843972Z"
    }
   },
   "outputs": [],
   "source": [
    "window = 12\n",
    "week_df = pd.DataFrame({f'feature_{i}': week_series[i: i + len(week_series) - window].array for i in range(window)})\n",
    "week_df['target'] = week_series[window:].array"
   ]
  },
  {
   "cell_type": "code",
   "execution_count": 135,
   "id": "political-binary",
   "metadata": {
    "ExecuteTime": {
     "end_time": "2021-09-15T07:10:34.607440Z",
     "start_time": "2021-09-15T07:10:34.543544Z"
    }
   },
   "outputs": [
    {
     "data": {
      "text/html": [
       "<div>\n",
       "<style scoped>\n",
       "    .dataframe tbody tr th:only-of-type {\n",
       "        vertical-align: middle;\n",
       "    }\n",
       "\n",
       "    .dataframe tbody tr th {\n",
       "        vertical-align: top;\n",
       "    }\n",
       "\n",
       "    .dataframe thead th {\n",
       "        text-align: right;\n",
       "    }\n",
       "</style>\n",
       "<table border=\"1\" class=\"dataframe\">\n",
       "  <thead>\n",
       "    <tr style=\"text-align: right;\">\n",
       "      <th></th>\n",
       "      <th>feature_0</th>\n",
       "      <th>feature_1</th>\n",
       "      <th>feature_2</th>\n",
       "      <th>feature_3</th>\n",
       "      <th>feature_4</th>\n",
       "      <th>feature_5</th>\n",
       "      <th>feature_6</th>\n",
       "      <th>feature_7</th>\n",
       "      <th>feature_8</th>\n",
       "      <th>feature_9</th>\n",
       "      <th>feature_10</th>\n",
       "      <th>feature_11</th>\n",
       "      <th>target</th>\n",
       "    </tr>\n",
       "  </thead>\n",
       "  <tbody>\n",
       "    <tr>\n",
       "      <th>0</th>\n",
       "      <td>34.0</td>\n",
       "      <td>31.0</td>\n",
       "      <td>33.0</td>\n",
       "      <td>27.0</td>\n",
       "      <td>30.0</td>\n",
       "      <td>33.0</td>\n",
       "      <td>36.0</td>\n",
       "      <td>25.0</td>\n",
       "      <td>29.0</td>\n",
       "      <td>21.0</td>\n",
       "      <td>28.0</td>\n",
       "      <td>38.0</td>\n",
       "      <td>16.0</td>\n",
       "    </tr>\n",
       "    <tr>\n",
       "      <th>1</th>\n",
       "      <td>31.0</td>\n",
       "      <td>33.0</td>\n",
       "      <td>27.0</td>\n",
       "      <td>30.0</td>\n",
       "      <td>33.0</td>\n",
       "      <td>36.0</td>\n",
       "      <td>25.0</td>\n",
       "      <td>29.0</td>\n",
       "      <td>21.0</td>\n",
       "      <td>28.0</td>\n",
       "      <td>38.0</td>\n",
       "      <td>16.0</td>\n",
       "      <td>34.0</td>\n",
       "    </tr>\n",
       "    <tr>\n",
       "      <th>2</th>\n",
       "      <td>33.0</td>\n",
       "      <td>27.0</td>\n",
       "      <td>30.0</td>\n",
       "      <td>33.0</td>\n",
       "      <td>36.0</td>\n",
       "      <td>25.0</td>\n",
       "      <td>29.0</td>\n",
       "      <td>21.0</td>\n",
       "      <td>28.0</td>\n",
       "      <td>38.0</td>\n",
       "      <td>16.0</td>\n",
       "      <td>34.0</td>\n",
       "      <td>27.0</td>\n",
       "    </tr>\n",
       "    <tr>\n",
       "      <th>3</th>\n",
       "      <td>27.0</td>\n",
       "      <td>30.0</td>\n",
       "      <td>33.0</td>\n",
       "      <td>36.0</td>\n",
       "      <td>25.0</td>\n",
       "      <td>29.0</td>\n",
       "      <td>21.0</td>\n",
       "      <td>28.0</td>\n",
       "      <td>38.0</td>\n",
       "      <td>16.0</td>\n",
       "      <td>34.0</td>\n",
       "      <td>27.0</td>\n",
       "      <td>30.0</td>\n",
       "    </tr>\n",
       "    <tr>\n",
       "      <th>4</th>\n",
       "      <td>30.0</td>\n",
       "      <td>33.0</td>\n",
       "      <td>36.0</td>\n",
       "      <td>25.0</td>\n",
       "      <td>29.0</td>\n",
       "      <td>21.0</td>\n",
       "      <td>28.0</td>\n",
       "      <td>38.0</td>\n",
       "      <td>16.0</td>\n",
       "      <td>34.0</td>\n",
       "      <td>27.0</td>\n",
       "      <td>30.0</td>\n",
       "      <td>42.0</td>\n",
       "    </tr>\n",
       "  </tbody>\n",
       "</table>\n",
       "</div>"
      ],
      "text/plain": [
       "   feature_0  feature_1  feature_2  feature_3  feature_4  feature_5  \\\n",
       "0       34.0       31.0       33.0       27.0       30.0       33.0   \n",
       "1       31.0       33.0       27.0       30.0       33.0       36.0   \n",
       "2       33.0       27.0       30.0       33.0       36.0       25.0   \n",
       "3       27.0       30.0       33.0       36.0       25.0       29.0   \n",
       "4       30.0       33.0       36.0       25.0       29.0       21.0   \n",
       "\n",
       "   feature_6  feature_7  feature_8  feature_9  feature_10  feature_11  target  \n",
       "0       36.0       25.0       29.0       21.0        28.0        38.0    16.0  \n",
       "1       25.0       29.0       21.0       28.0        38.0        16.0    34.0  \n",
       "2       29.0       21.0       28.0       38.0        16.0        34.0    27.0  \n",
       "3       21.0       28.0       38.0       16.0        34.0        27.0    30.0  \n",
       "4       28.0       38.0       16.0       34.0        27.0        30.0    42.0  "
      ]
     },
     "execution_count": 135,
     "metadata": {},
     "output_type": "execute_result"
    }
   ],
   "source": [
    "week_df.head()"
   ]
  },
  {
   "cell_type": "code",
   "execution_count": 136,
   "id": "stuck-corporation",
   "metadata": {
    "ExecuteTime": {
     "end_time": "2021-09-15T07:11:04.470790Z",
     "start_time": "2021-09-15T07:11:04.458811Z"
    }
   },
   "outputs": [],
   "source": [
    "from sklearn.tree import DecisionTreeRegressor"
   ]
  },
  {
   "cell_type": "code",
   "execution_count": 154,
   "id": "integral-lecture",
   "metadata": {
    "ExecuteTime": {
     "end_time": "2021-09-15T07:17:48.300610Z",
     "start_time": "2021-09-15T07:17:48.289629Z"
    }
   },
   "outputs": [],
   "source": [
    "week_tree = DecisionTreeRegressor(max_depth=10)"
   ]
  },
  {
   "cell_type": "code",
   "execution_count": 155,
   "id": "bridal-dollar",
   "metadata": {
    "ExecuteTime": {
     "end_time": "2021-09-15T07:17:52.938510Z",
     "start_time": "2021-09-15T07:17:52.900574Z"
    }
   },
   "outputs": [
    {
     "data": {
      "text/plain": [
       "DecisionTreeRegressor(max_depth=10)"
      ]
     },
     "execution_count": 155,
     "metadata": {},
     "output_type": "execute_result"
    }
   ],
   "source": [
    "week_tree.fit(week_df.drop('target', axis=1), week_df.target)"
   ]
  },
  {
   "cell_type": "code",
   "execution_count": 157,
   "id": "arabic-secretary",
   "metadata": {
    "ExecuteTime": {
     "end_time": "2021-09-15T07:18:02.707147Z",
     "start_time": "2021-09-15T07:18:02.686177Z"
    }
   },
   "outputs": [],
   "source": [
    "week_tree_predicted = week_tree.predict(week_df.drop('target', axis=1))"
   ]
  },
  {
   "cell_type": "code",
   "execution_count": 160,
   "id": "interested-regular",
   "metadata": {
    "ExecuteTime": {
     "end_time": "2021-09-15T07:18:23.885790Z",
     "start_time": "2021-09-15T07:18:23.251176Z"
    }
   },
   "outputs": [
    {
     "data": {
      "image/png": "[encoded data removed]",
      "text/plain": [
       "<Figure size 432x288 with 1 Axes>"
      ]
     },
     "metadata": {
      "needs_background": "light"
     },
     "output_type": "display_data"
    }
   ],
   "source": [
    "plt.plot(week_tree_predicted)\n",
    "plt.plot(week_df.target)\n",
    "plt.legend(['predicted', 'real'])\n",
    "plt.show()"
   ]
  },
  {
   "cell_type": "code",
   "execution_count": null,
   "id": "recreational-comparison",
   "metadata": {},
   "outputs": [],
   "source": []
  },
  {
   "cell_type": "code",
   "execution_count": null,
   "id": "congressional-flexibility",
   "metadata": {},
   "outputs": [],
   "source": []
  },
  {
   "cell_type": "code",
   "execution_count": 147,
   "id": "thousand-badge",
   "metadata": {
    "ExecuteTime": {
     "end_time": "2021-09-15T07:16:15.856437Z",
     "start_time": "2021-09-15T07:16:15.828480Z"
    }
   },
   "outputs": [],
   "source": [
    "window = 4\n",
    "month_df = pd.DataFrame({f'feature_{i}': month_series[i: i + len(month_series) - window].array for i in range(window)})\n",
    "month_df['target'] = month_series[window:].array"
   ]
  },
  {
   "cell_type": "code",
   "execution_count": 180,
   "id": "finite-cycling",
   "metadata": {
    "ExecuteTime": {
     "end_time": "2021-09-15T07:22:03.890312Z",
     "start_time": "2021-09-15T07:22:03.872337Z"
    }
   },
   "outputs": [],
   "source": [
    "month_tree = DecisionTreeRegressor(max_depth=5)"
   ]
  },
  {
   "cell_type": "code",
   "execution_count": 181,
   "id": "valued-feeling",
   "metadata": {
    "ExecuteTime": {
     "end_time": "2021-09-15T07:22:04.192782Z",
     "start_time": "2021-09-15T07:22:04.155843Z"
    },
    "scrolled": true
   },
   "outputs": [
    {
     "data": {
      "text/plain": [
       "DecisionTreeRegressor(max_depth=5)"
      ]
     },
     "execution_count": 181,
     "metadata": {},
     "output_type": "execute_result"
    }
   ],
   "source": [
    "month_tree.fit(month_df.drop('target', axis=1), month_df.target)"
   ]
  },
  {
   "cell_type": "code",
   "execution_count": 182,
   "id": "variable-stereo",
   "metadata": {
    "ExecuteTime": {
     "end_time": "2021-09-15T07:22:04.416443Z",
     "start_time": "2021-09-15T07:22:04.389488Z"
    }
   },
   "outputs": [],
   "source": [
    "month_tree_predicted = month_tree.predict(month_df.drop('target', axis=1))"
   ]
  },
  {
   "cell_type": "code",
   "execution_count": 183,
   "id": "leading-vertical",
   "metadata": {
    "ExecuteTime": {
     "end_time": "2021-09-15T07:22:05.309885Z",
     "start_time": "2021-09-15T07:22:04.648035Z"
    }
   },
   "outputs": [
    {
     "data": {
      "image/png": "[encoded data removed]",
      "text/plain": [
       "<Figure size 432x288 with 1 Axes>"
      ]
     },
     "metadata": {
      "needs_background": "light"
     },
     "output_type": "display_data"
    }
   ],
   "source": [
    "plt.plot(month_tree_predicted)\n",
    "plt.plot(month_df.target)\n",
    "plt.legend(['predicted', 'real'])\n",
    "plt.show()"
   ]
  },
  {
   "cell_type": "code",
   "execution_count": 184,
   "id": "sudden-engineering",
   "metadata": {
    "ExecuteTime": {
     "end_time": "2021-09-15T07:22:05.357811Z",
     "start_time": "2021-09-15T07:22:05.318875Z"
    }
   },
   "outputs": [
    {
     "data": {
      "text/plain": [
       "array([88.])"
      ]
     },
     "execution_count": 184,
     "metadata": {},
     "output_type": "execute_result"
    }
   ],
   "source": [
    "month_tree.predict(pd.DataFrame({f'feature_{i}': [month_series[len(month_series) - window + i]] for i in range(window)}))"
   ]
  },
  {
   "cell_type": "code",
   "execution_count": 185,
   "id": "soviet-bosnia",
   "metadata": {
    "ExecuteTime": {
     "end_time": "2021-09-15T07:22:05.879743Z",
     "start_time": "2021-09-15T07:22:05.860776Z"
    }
   },
   "outputs": [
    {
     "data": {
      "text/plain": [
       "73.0"
      ]
     },
     "execution_count": 185,
     "metadata": {},
     "output_type": "execute_result"
    }
   ],
   "source": [
    "month_y"
   ]
  },
  {
   "cell_type": "markdown",
   "id": "criminal-motel",
   "metadata": {},
   "source": [
    "## Predicting all"
   ]
  },
  {
   "cell_type": "code",
   "execution_count": 4,
   "id": "constitutional-dialogue",
   "metadata": {
    "ExecuteTime": {
     "end_time": "2021-09-30T06:21:16.184560Z",
     "start_time": "2021-09-30T06:21:16.168988Z"
    }
   },
   "outputs": [],
   "source": [
    "from sklearn.tree import DecisionTreeRegressor\n",
    "from sklearn.linear_model import LinearRegression, Ridge, Lasso"
   ]
  },
  {
   "cell_type": "code",
   "execution_count": 5,
   "id": "average-tourism",
   "metadata": {
    "ExecuteTime": {
     "end_time": "2021-09-28T06:12:33.569028Z",
     "start_time": "2021-09-28T06:12:32.973535Z"
    },
    "scrolled": true
   },
   "outputs": [
    {
     "data": {
      "text/plain": [
       "array(['2013-01-01', '2013-01-02', '2013-01-03', ..., '2015-09-28',\n",
       "       '2015-09-29', '2015-09-30'], dtype=object)"
      ]
     },
     "execution_count": 5,
     "metadata": {},
     "output_type": "execute_result"
    }
   ],
   "source": [
    "train_df.date.unique()"
   ]
  },
  {
   "cell_type": "code",
   "execution_count": 6,
   "id": "binding-wireless",
   "metadata": {
    "ExecuteTime": {
     "end_time": "2021-09-28T06:12:37.454592Z",
     "start_time": "2021-09-28T06:12:37.308664Z"
    }
   },
   "outputs": [
    {
     "data": {
      "text/html": [
       "<div>\n",
       "<style scoped>\n",
       "    .dataframe tbody tr th:only-of-type {\n",
       "        vertical-align: middle;\n",
       "    }\n",
       "\n",
       "    .dataframe tbody tr th {\n",
       "        vertical-align: top;\n",
       "    }\n",
       "\n",
       "    .dataframe thead th {\n",
       "        text-align: right;\n",
       "    }\n",
       "</style>\n",
       "<table border=\"1\" class=\"dataframe\">\n",
       "  <thead>\n",
       "    <tr style=\"text-align: right;\">\n",
       "      <th></th>\n",
       "      <th>date</th>\n",
       "      <th>date_block_num</th>\n",
       "      <th>shop_id</th>\n",
       "      <th>item_id</th>\n",
       "      <th>item_price</th>\n",
       "      <th>item_cnt_day</th>\n",
       "      <th>item_category_id</th>\n",
       "      <th>total_income</th>\n",
       "      <th>days</th>\n",
       "      <th>weeks</th>\n",
       "    </tr>\n",
       "  </thead>\n",
       "  <tbody>\n",
       "    <tr>\n",
       "      <th>0</th>\n",
       "      <td>2015-10-01</td>\n",
       "      <td>33</td>\n",
       "      <td>9</td>\n",
       "      <td>20631</td>\n",
       "      <td>699.0</td>\n",
       "      <td>2.0</td>\n",
       "      <td>72</td>\n",
       "      <td>1398.0</td>\n",
       "      <td>1003</td>\n",
       "      <td>143</td>\n",
       "    </tr>\n",
       "    <tr>\n",
       "      <th>1</th>\n",
       "      <td>2015-10-01</td>\n",
       "      <td>33</td>\n",
       "      <td>9</td>\n",
       "      <td>20612</td>\n",
       "      <td>1099.0</td>\n",
       "      <td>1.0</td>\n",
       "      <td>72</td>\n",
       "      <td>1099.0</td>\n",
       "      <td>1003</td>\n",
       "      <td>143</td>\n",
       "    </tr>\n",
       "    <tr>\n",
       "      <th>2</th>\n",
       "      <td>2015-10-01</td>\n",
       "      <td>33</td>\n",
       "      <td>55</td>\n",
       "      <td>7102</td>\n",
       "      <td>229.0</td>\n",
       "      <td>1.0</td>\n",
       "      <td>31</td>\n",
       "      <td>229.0</td>\n",
       "      <td>1003</td>\n",
       "      <td>143</td>\n",
       "    </tr>\n",
       "    <tr>\n",
       "      <th>3</th>\n",
       "      <td>2015-10-01</td>\n",
       "      <td>33</td>\n",
       "      <td>9</td>\n",
       "      <td>4201</td>\n",
       "      <td>399.0</td>\n",
       "      <td>1.0</td>\n",
       "      <td>75</td>\n",
       "      <td>399.0</td>\n",
       "      <td>1003</td>\n",
       "      <td>143</td>\n",
       "    </tr>\n",
       "    <tr>\n",
       "      <th>4</th>\n",
       "      <td>2015-10-01</td>\n",
       "      <td>33</td>\n",
       "      <td>55</td>\n",
       "      <td>7667</td>\n",
       "      <td>6900.0</td>\n",
       "      <td>1.0</td>\n",
       "      <td>76</td>\n",
       "      <td>6900.0</td>\n",
       "      <td>1003</td>\n",
       "      <td>143</td>\n",
       "    </tr>\n",
       "  </tbody>\n",
       "</table>\n",
       "</div>"
      ],
      "text/plain": [
       "         date  date_block_num  shop_id  item_id  item_price  item_cnt_day  \\\n",
       "0  2015-10-01              33        9    20631       699.0           2.0   \n",
       "1  2015-10-01              33        9    20612      1099.0           1.0   \n",
       "2  2015-10-01              33       55     7102       229.0           1.0   \n",
       "3  2015-10-01              33        9     4201       399.0           1.0   \n",
       "4  2015-10-01              33       55     7667      6900.0           1.0   \n",
       "\n",
       "   item_category_id  total_income  days  weeks  \n",
       "0                72        1398.0  1003    143  \n",
       "1                72        1099.0  1003    143  \n",
       "2                31         229.0  1003    143  \n",
       "3                75         399.0  1003    143  \n",
       "4                76        6900.0  1003    143  "
      ]
     },
     "execution_count": 6,
     "metadata": {},
     "output_type": "execute_result"
    }
   ],
   "source": [
    "test_df.head()"
   ]
  },
  {
   "cell_type": "code",
   "execution_count": 13,
   "id": "cheap-lithuania",
   "metadata": {
    "ExecuteTime": {
     "end_time": "2021-09-27T13:19:57.030996Z",
     "start_time": "2021-09-27T13:19:40.987841Z"
    }
   },
   "outputs": [],
   "source": [
    "train_tups = set(map(tuple, train_df[['shop_id', 'item_id']].values))"
   ]
  },
  {
   "cell_type": "code",
   "execution_count": 14,
   "id": "educational-offense",
   "metadata": {
    "ExecuteTime": {
     "end_time": "2021-09-27T13:19:57.377318Z",
     "start_time": "2021-09-27T13:19:57.041373Z"
    }
   },
   "outputs": [],
   "source": [
    "test_tups = set(map(tuple, test_df[['shop_id', 'item_id']].values))"
   ]
  },
  {
   "cell_type": "code",
   "execution_count": 16,
   "id": "printable-static",
   "metadata": {
    "ExecuteTime": {
     "end_time": "2021-09-27T13:20:03.828979Z",
     "start_time": "2021-09-27T13:20:03.629726Z"
    }
   },
   "outputs": [
    {
     "data": {
      "text/plain": [
       "392593"
      ]
     },
     "execution_count": 16,
     "metadata": {},
     "output_type": "execute_result"
    }
   ],
   "source": [
    "len(train_tups.difference(test_tups))"
   ]
  },
  {
   "cell_type": "code",
   "execution_count": 17,
   "id": "permanent-fraction",
   "metadata": {
    "ExecuteTime": {
     "end_time": "2021-09-27T13:20:33.547492Z",
     "start_time": "2021-09-27T13:20:33.491543Z"
    }
   },
   "outputs": [
    {
     "data": {
      "text/plain": [
       "7120"
      ]
     },
     "execution_count": 17,
     "metadata": {},
     "output_type": "execute_result"
    }
   ],
   "source": [
    "len(test_tups.difference(train_tups))"
   ]
  },
  {
   "cell_type": "markdown",
   "id": "educated-marble",
   "metadata": {},
   "source": [
    "### class MyAbstractModel"
   ]
  },
  {
   "cell_type": "code",
   "execution_count": 5,
   "id": "welsh-memorial",
   "metadata": {
    "ExecuteTime": {
     "end_time": "2021-09-30T06:21:18.470098Z",
     "start_time": "2021-09-30T06:21:18.427177Z"
    }
   },
   "outputs": [],
   "source": [
    "# divide into two classes because of model_init\n",
    "class MyAbstractModel:\n",
    "    def __init__(self, model_init, *model_args, **model_kwargs):\n",
    "        self.model_init = model_init\n",
    "        self.model_args = model_args\n",
    "        self.model_kwargs = model_kwargs\n",
    "        \n",
    "    def fit(self, X_train):\n",
    "        self.all_series = X_train.groupby(\n",
    "            ['shop_id', 'item_id', 'date_block_num']).item_cnt_day.sum().unstack(fill_value=0)\n",
    "\n",
    "    def predict_shop_item(self, shop_id, item_id):\n",
    "        return None\n",
    "\n",
    "    def predict(self, X):\n",
    "        return [self.predict_shop_item(shop_id, item_id) for shop_id, item_id in X[['shop_id', 'item_id']].values]"
   ]
  },
  {
   "cell_type": "markdown",
   "id": "homeless-triangle",
   "metadata": {},
   "source": [
    "### class MyModel"
   ]
  },
  {
   "cell_type": "code",
   "execution_count": 38,
   "id": "sublime-causing",
   "metadata": {
    "ExecuteTime": {
     "end_time": "2021-09-30T07:49:58.241463Z",
     "start_time": "2021-09-30T07:49:58.134083Z"
    }
   },
   "outputs": [],
   "source": [
    "class MyModel(MyAbstractModel):\n",
    "    def __init__(self, model_init, window=12, *model_args, **model_kwargs):\n",
    "        MyAbstractModel.__init__(self, model_init, *model_args, **model_kwargs)\n",
    "        self.window = window\n",
    "\n",
    "    def predict_shop_item(self, shop_id, item_id):\n",
    "        try:\n",
    "            ser = list(self.all_series.loc[(shop_id, item_id)])\n",
    "        except KeyError as e:\n",
    "            return 0\n",
    "        window_df = pd.DataFrame([ser[k : k + self.window] for k in range(len(ser) - self.window + 1)])\n",
    "        X, y = window_df.drop(columns=[self.window - 1]), window_df[self.window - 1]\n",
    "        model = self.model_init(*self.model_args, **self.model_kwargs)\n",
    "        model.fit(X, y)\n",
    "        return model.predict(pd.DataFrame([ser[-self.window + 1:]]))[0]"
   ]
  },
  {
   "cell_type": "code",
   "execution_count": 18,
   "id": "necessary-future",
   "metadata": {
    "ExecuteTime": {
     "end_time": "2021-09-28T06:15:05.998410Z",
     "start_time": "2021-09-28T06:15:05.941499Z"
    }
   },
   "outputs": [],
   "source": [
    "my_model = MyModel(DecisionTreeRegressor, window=10, max_depth=6)"
   ]
  },
  {
   "cell_type": "code",
   "execution_count": 19,
   "id": "unlike-electron",
   "metadata": {
    "ExecuteTime": {
     "end_time": "2021-09-28T06:15:12.712805Z",
     "start_time": "2021-09-28T06:15:06.858198Z"
    }
   },
   "outputs": [],
   "source": [
    "my_model.fit(train_X)"
   ]
  },
  {
   "cell_type": "code",
   "execution_count": 20,
   "id": "responsible-personal",
   "metadata": {
    "ExecuteTime": {
     "end_time": "2021-09-28T06:15:14.368076Z",
     "start_time": "2021-09-28T06:15:14.104496Z"
    }
   },
   "outputs": [
    {
     "data": {
      "text/plain": [
       "70.0"
      ]
     },
     "execution_count": 20,
     "metadata": {},
     "output_type": "execute_result"
    }
   ],
   "source": [
    "my_model.predict_shop_item(53, 20949)"
   ]
  },
  {
   "cell_type": "code",
   "execution_count": 16,
   "id": "wanted-trade",
   "metadata": {
    "ExecuteTime": {
     "end_time": "2021-09-28T06:14:44.110314Z",
     "start_time": "2021-09-28T06:14:41.824901Z"
    },
    "collapsed": true
   },
   "outputs": [
    {
     "data": {
      "text/plain": [
       "shop_id  item_id\n",
       "38       1065         1\n",
       "19       20057        1\n",
       "41       6004         1\n",
       "         6009         1\n",
       "19       20072        1\n",
       "                   ... \n",
       "42       20949      803\n",
       "22       20949      824\n",
       "31       20949      832\n",
       "28       20949      837\n",
       "53       20949      840\n",
       "Name: item_cnt_day, Length: 417004, dtype: int64"
      ]
     },
     "execution_count": 16,
     "metadata": {},
     "output_type": "execute_result"
    }
   ],
   "source": [
    "train_df.groupby(['shop_id', 'item_id']).item_cnt_day.count().sort_values()"
   ]
  },
  {
   "cell_type": "code",
   "execution_count": 24,
   "id": "piano-second",
   "metadata": {
    "ExecuteTime": {
     "end_time": "2021-09-28T06:26:05.922313Z",
     "start_time": "2021-09-28T06:18:00.499491Z"
    }
   },
   "outputs": [],
   "source": [
    "predicted = my_model.predict(test_X)"
   ]
  },
  {
   "cell_type": "code",
   "execution_count": 25,
   "id": "invisible-bunny",
   "metadata": {
    "ExecuteTime": {
     "end_time": "2021-09-28T06:26:06.005450Z",
     "start_time": "2021-09-28T06:26:05.931379Z"
    }
   },
   "outputs": [
    {
     "data": {
      "text/plain": [
       "10.543114299603069"
      ]
     },
     "execution_count": 25,
     "metadata": {},
     "output_type": "execute_result"
    }
   ],
   "source": [
    "MSE(test_target, predicted)"
   ]
  },
  {
   "cell_type": "code",
   "execution_count": 153,
   "id": "familiar-development",
   "metadata": {
    "ExecuteTime": {
     "end_time": "2021-09-27T17:40:58.437588Z",
     "start_time": "2021-09-27T17:40:58.415617Z"
    }
   },
   "outputs": [
    {
     "data": {
      "text/plain": [
       "(53514, 10)"
      ]
     },
     "execution_count": 153,
     "metadata": {},
     "output_type": "execute_result"
    }
   ],
   "source": [
    "test_df.shape"
   ]
  },
  {
   "cell_type": "code",
   "execution_count": 101,
   "id": "activated-radical",
   "metadata": {
    "ExecuteTime": {
     "end_time": "2021-09-28T07:41:19.103632Z",
     "start_time": "2021-09-28T07:41:17.471635Z"
    }
   },
   "outputs": [
    {
     "data": {
      "image/png": "[encoded data removed]",
      "text/plain": [
       "<Figure size 432x288 with 1 Axes>"
      ]
     },
     "metadata": {
      "needs_background": "light"
     },
     "output_type": "display_data"
    }
   ],
   "source": [
    "plt.hist(predicted, bins=30)\n",
    "plt.show()"
   ]
  },
  {
   "cell_type": "code",
   "execution_count": 102,
   "id": "mediterranean-syracuse",
   "metadata": {
    "ExecuteTime": {
     "end_time": "2021-09-28T07:41:34.928878Z",
     "start_time": "2021-09-28T07:41:34.701237Z"
    }
   },
   "outputs": [
    {
     "data": {
      "text/plain": [
       "count    31531.000000\n",
       "mean         1.135084\n",
       "std          6.857297\n",
       "min         -1.000000\n",
       "25%          0.000000\n",
       "50%          0.055556\n",
       "75%          1.000000\n",
       "max        742.000000\n",
       "dtype: float64"
      ]
     },
     "execution_count": 102,
     "metadata": {},
     "output_type": "execute_result"
    }
   ],
   "source": [
    "pd.Series(predicted).describe()"
   ]
  },
  {
   "cell_type": "code",
   "execution_count": null,
   "id": "digital-manor",
   "metadata": {},
   "outputs": [],
   "source": []
  },
  {
   "cell_type": "code",
   "execution_count": 94,
   "id": "killing-belly",
   "metadata": {
    "ExecuteTime": {
     "end_time": "2021-09-28T07:22:35.889637Z",
     "start_time": "2021-09-28T07:22:35.870671Z"
    }
   },
   "outputs": [],
   "source": [
    "my_model_2 = MyModel(DecisionTreeRegressor, window=6, max_depth=6)"
   ]
  },
  {
   "cell_type": "code",
   "execution_count": 96,
   "id": "accepting-motivation",
   "metadata": {
    "ExecuteTime": {
     "end_time": "2021-09-28T07:23:05.445436Z",
     "start_time": "2021-09-28T07:22:59.877001Z"
    }
   },
   "outputs": [],
   "source": [
    "my_model_2.fit(train_df)"
   ]
  },
  {
   "cell_type": "code",
   "execution_count": 97,
   "id": "general-canberra",
   "metadata": {
    "ExecuteTime": {
     "end_time": "2021-09-28T07:31:04.598647Z",
     "start_time": "2021-09-28T07:23:13.336445Z"
    }
   },
   "outputs": [],
   "source": [
    "predicted_2 = my_model_2.predict(test_X)"
   ]
  },
  {
   "cell_type": "code",
   "execution_count": 98,
   "id": "stone-banner",
   "metadata": {
    "ExecuteTime": {
     "end_time": "2021-09-28T07:31:04.661547Z",
     "start_time": "2021-09-28T07:31:04.609633Z"
    }
   },
   "outputs": [
    {
     "data": {
      "text/plain": [
       "13.898492364884332"
      ]
     },
     "execution_count": 98,
     "metadata": {},
     "output_type": "execute_result"
    }
   ],
   "source": [
    "MSE(test_target, predicted_2)"
   ]
  },
  {
   "cell_type": "code",
   "execution_count": null,
   "id": "announced-momentum",
   "metadata": {},
   "outputs": [],
   "source": []
  },
  {
   "cell_type": "code",
   "execution_count": 104,
   "id": "answering-paradise",
   "metadata": {
    "ExecuteTime": {
     "end_time": "2021-09-28T08:59:27.163679Z",
     "start_time": "2021-09-28T08:59:27.148705Z"
    }
   },
   "outputs": [],
   "source": [
    "my_model_3 = MyModel(Ridge)"
   ]
  },
  {
   "cell_type": "code",
   "execution_count": 106,
   "id": "collected-foster",
   "metadata": {
    "ExecuteTime": {
     "end_time": "2021-09-28T08:59:54.426215Z",
     "start_time": "2021-09-28T08:59:49.304635Z"
    }
   },
   "outputs": [],
   "source": [
    "my_model_3.fit(train_df)"
   ]
  },
  {
   "cell_type": "code",
   "execution_count": 107,
   "id": "hidden-samoa",
   "metadata": {
    "ExecuteTime": {
     "end_time": "2021-09-28T09:07:55.398002Z",
     "start_time": "2021-09-28T08:59:54.426215Z"
    }
   },
   "outputs": [],
   "source": [
    "predicted_3 = my_model_3.predict(test_X)"
   ]
  },
  {
   "cell_type": "code",
   "execution_count": 108,
   "id": "electronic-corps",
   "metadata": {
    "ExecuteTime": {
     "end_time": "2021-09-28T09:07:55.460130Z",
     "start_time": "2021-09-28T09:07:55.398002Z"
    }
   },
   "outputs": [
    {
     "data": {
      "text/plain": [
       "1898.6489846839138"
      ]
     },
     "execution_count": 108,
     "metadata": {},
     "output_type": "execute_result"
    }
   ],
   "source": [
    "MSE(test_target, predicted_3)"
   ]
  },
  {
   "cell_type": "code",
   "execution_count": null,
   "id": "animal-mediterranean",
   "metadata": {},
   "outputs": [],
   "source": []
  },
  {
   "cell_type": "code",
   "execution_count": 110,
   "id": "young-clark",
   "metadata": {
    "ExecuteTime": {
     "end_time": "2021-09-28T10:07:24.284611Z",
     "start_time": "2021-09-28T09:26:18.878561Z"
    }
   },
   "outputs": [
    {
     "name": "stdout",
     "output_type": "stream",
     "text": [
      "alpha: 0.1     MSE: 1898.6489846839138\n",
      "alpha: 1.0     MSE: 1898.6489846839138\n",
      "alpha: 10.0     MSE: 1898.6489846839138\n",
      "alpha: 100.0     MSE: 1898.6489846839138\n",
      "alpha: 1000.0     MSE: 1898.6489846839138\n"
     ]
    }
   ],
   "source": [
    "alpha_params = 10.**np.arange(-1, 4)\n",
    "MSEs = {}\n",
    "for alpha in alpha_params:\n",
    "    model = MyModel(Ridge)\n",
    "    model.fit(train_df)\n",
    "    predicted = model.predict(test_X)\n",
    "    MSEs[alpha] = MSE(test_target, predicted)\n",
    "    print('alpha:', alpha, '    MSE:', MSEs[alpha])"
   ]
  },
  {
   "cell_type": "code",
   "execution_count": 114,
   "id": "detected-progressive",
   "metadata": {
    "ExecuteTime": {
     "end_time": "2021-09-28T12:42:15.400299Z",
     "start_time": "2021-09-28T12:42:14.014206Z"
    }
   },
   "outputs": [
    {
     "data": {
      "image/png": "[encoded data removed]",
      "text/plain": [
       "<Figure size 432x288 with 1 Axes>"
      ]
     },
     "metadata": {
      "needs_background": "light"
     },
     "output_type": "display_data"
    }
   ],
   "source": [
    "plt.hist(predicted, bins=30)\n",
    "plt.show()"
   ]
  },
  {
   "cell_type": "code",
   "execution_count": 116,
   "id": "domestic-luther",
   "metadata": {
    "ExecuteTime": {
     "end_time": "2021-09-28T12:42:25.491325Z",
     "start_time": "2021-09-28T12:42:25.457374Z"
    }
   },
   "outputs": [
    {
     "data": {
      "text/plain": [
       "156.47142854391814"
      ]
     },
     "execution_count": 116,
     "metadata": {},
     "output_type": "execute_result"
    }
   ],
   "source": [
    "np.percentile(predicted, 99.9)"
   ]
  },
  {
   "cell_type": "code",
   "execution_count": 118,
   "id": "level-victim",
   "metadata": {
    "ExecuteTime": {
     "end_time": "2021-09-28T12:42:50.248012Z",
     "start_time": "2021-09-28T12:42:50.163146Z"
    },
    "collapsed": true
   },
   "outputs": [
    {
     "data": {
      "text/plain": [
       "[-6795.269084692509,\n",
       " -592.4444017037243,\n",
       " -507.65511301872596,\n",
       " -351.9210288952907,\n",
       " -218.87199702798603,\n",
       " -183.0465896188096,\n",
       " -165.6014069672668,\n",
       " -151.90792787166697,\n",
       " -151.07074410310165,\n",
       " -148.4235788604006]"
      ]
     },
     "execution_count": 118,
     "metadata": {},
     "output_type": "execute_result"
    }
   ],
   "source": [
    "sorted(predicted)[:10]"
   ]
  },
  {
   "cell_type": "code",
   "execution_count": 119,
   "id": "democratic-browser",
   "metadata": {
    "ExecuteTime": {
     "end_time": "2021-09-28T12:43:04.051870Z",
     "start_time": "2021-09-28T12:43:03.971994Z"
    },
    "collapsed": true
   },
   "outputs": [
    {
     "data": {
      "text/plain": [
       "[444.5917292848238,\n",
       " 480.1489974725545,\n",
       " 533.8187756147161,\n",
       " 591.1999235705898,\n",
       " 721.6887736198589,\n",
       " 752.1846209999062,\n",
       " 828.1535152570614,\n",
       " 1019.8245016625431,\n",
       " 1346.7061570819865,\n",
       " 337557.1194525762]"
      ]
     },
     "execution_count": 119,
     "metadata": {},
     "output_type": "execute_result"
    }
   ],
   "source": [
    "sorted(predicted)[-10:]"
   ]
  },
  {
   "cell_type": "code",
   "execution_count": 120,
   "id": "accomplished-cliff",
   "metadata": {
    "ExecuteTime": {
     "end_time": "2021-09-28T12:43:38.818451Z",
     "start_time": "2021-09-28T12:43:38.785506Z"
    }
   },
   "outputs": [
    {
     "data": {
      "text/plain": [
       "4812"
      ]
     },
     "execution_count": 120,
     "metadata": {},
     "output_type": "execute_result"
    }
   ],
   "source": [
    "np.array(predicted).argmax()"
   ]
  },
  {
   "cell_type": "code",
   "execution_count": 122,
   "id": "equal-hydrogen",
   "metadata": {
    "ExecuteTime": {
     "end_time": "2021-09-28T12:45:03.240692Z",
     "start_time": "2021-09-28T12:45:03.192768Z"
    }
   },
   "outputs": [
    {
     "data": {
      "text/plain": [
       "shop_id       12\n",
       "item_id    20949\n",
       "Name: 4812, dtype: int64"
      ]
     },
     "execution_count": 122,
     "metadata": {},
     "output_type": "execute_result"
    }
   ],
   "source": [
    "test_X.loc[4812]"
   ]
  },
  {
   "cell_type": "code",
   "execution_count": 134,
   "id": "former-christopher",
   "metadata": {
    "ExecuteTime": {
     "end_time": "2021-09-28T12:47:45.928819Z",
     "start_time": "2021-09-28T12:47:45.894867Z"
    }
   },
   "outputs": [],
   "source": [
    "mmodel = MyModel(Ridge, alpha=1)"
   ]
  },
  {
   "cell_type": "code",
   "execution_count": 135,
   "id": "lucky-norwegian",
   "metadata": {
    "ExecuteTime": {
     "end_time": "2021-09-28T12:47:51.018773Z",
     "start_time": "2021-09-28T12:47:46.145954Z"
    }
   },
   "outputs": [],
   "source": [
    "mmodel.fit(train_df)"
   ]
  },
  {
   "cell_type": "code",
   "execution_count": 136,
   "id": "adult-calculation",
   "metadata": {
    "ExecuteTime": {
     "end_time": "2021-09-28T12:47:51.272088Z",
     "start_time": "2021-09-28T12:47:51.018773Z"
    }
   },
   "outputs": [
    {
     "name": "stdout",
     "output_type": "stream",
     "text": [
      "[0.0, 0.0, 0.0, 0.0, 0.0, 0.0, 0.0, 0.0, 0.0, 0.0, 0.0, 0.0, 0.0, 0.0, 0.0, 0.0, 0.0, 0.0, 0.0, 0.0, 0.0, 0.0, 0.0, 500.0, 1000.0, 0.0, 0.0, 0.0, 0.0, 0.0, 0.0, 0.0, 0.0]\n",
      "[   0.            0.          337.50683008 -168.80437943   84.35358798\n",
      "  -42.23062734   21.07219672  -10.60077471    5.27889316   -2.74733685\n",
      "    1.43858634]\n"
     ]
    },
    {
     "data": {
      "text/plain": [
       "337557.1194525762"
      ]
     },
     "execution_count": 136,
     "metadata": {},
     "output_type": "execute_result"
    }
   ],
   "source": [
    "mmodel.predict_shop_item(12, 20949)"
   ]
  },
  {
   "cell_type": "code",
   "execution_count": null,
   "id": "lonely-arrest",
   "metadata": {},
   "outputs": [],
   "source": []
  },
  {
   "cell_type": "code",
   "execution_count": null,
   "id": "literary-meeting",
   "metadata": {},
   "outputs": [],
   "source": []
  },
  {
   "cell_type": "code",
   "execution_count": 28,
   "id": "lesser-painting",
   "metadata": {
    "ExecuteTime": {
     "end_time": "2021-09-28T06:32:06.567048Z",
     "start_time": "2021-09-28T06:32:01.605216Z"
    }
   },
   "outputs": [],
   "source": [
    "all_series = train_df.groupby(\n",
    "            ['shop_id', 'item_id', 'date_block_num']).item_cnt_day.sum().unstack(fill_value=0)"
   ]
  },
  {
   "cell_type": "code",
   "execution_count": 61,
   "id": "loved-impression",
   "metadata": {
    "ExecuteTime": {
     "end_time": "2021-09-28T06:59:49.597169Z",
     "start_time": "2021-09-28T06:59:49.123165Z"
    },
    "collapsed": true
   },
   "outputs": [
    {
     "data": {
      "text/html": [
       "<div>\n",
       "<style scoped>\n",
       "    .dataframe tbody tr th:only-of-type {\n",
       "        vertical-align: middle;\n",
       "    }\n",
       "\n",
       "    .dataframe tbody tr th {\n",
       "        vertical-align: top;\n",
       "    }\n",
       "\n",
       "    .dataframe thead th {\n",
       "        text-align: right;\n",
       "    }\n",
       "</style>\n",
       "<table border=\"1\" class=\"dataframe\">\n",
       "  <thead>\n",
       "    <tr style=\"text-align: right;\">\n",
       "      <th></th>\n",
       "      <th>date_block_num</th>\n",
       "      <th>0</th>\n",
       "      <th>1</th>\n",
       "      <th>2</th>\n",
       "      <th>3</th>\n",
       "      <th>4</th>\n",
       "      <th>5</th>\n",
       "      <th>6</th>\n",
       "      <th>7</th>\n",
       "      <th>8</th>\n",
       "      <th>9</th>\n",
       "      <th>...</th>\n",
       "      <th>23</th>\n",
       "      <th>24</th>\n",
       "      <th>25</th>\n",
       "      <th>26</th>\n",
       "      <th>27</th>\n",
       "      <th>28</th>\n",
       "      <th>29</th>\n",
       "      <th>30</th>\n",
       "      <th>31</th>\n",
       "      <th>32</th>\n",
       "    </tr>\n",
       "    <tr>\n",
       "      <th>shop_id</th>\n",
       "      <th>item_id</th>\n",
       "      <th></th>\n",
       "      <th></th>\n",
       "      <th></th>\n",
       "      <th></th>\n",
       "      <th></th>\n",
       "      <th></th>\n",
       "      <th></th>\n",
       "      <th></th>\n",
       "      <th></th>\n",
       "      <th></th>\n",
       "      <th></th>\n",
       "      <th></th>\n",
       "      <th></th>\n",
       "      <th></th>\n",
       "      <th></th>\n",
       "      <th></th>\n",
       "      <th></th>\n",
       "      <th></th>\n",
       "      <th></th>\n",
       "      <th></th>\n",
       "      <th></th>\n",
       "    </tr>\n",
       "  </thead>\n",
       "  <tbody>\n",
       "    <tr>\n",
       "      <th rowspan=\"5\" valign=\"top\">2</th>\n",
       "      <th>53</th>\n",
       "      <td>0.0</td>\n",
       "      <td>0.0</td>\n",
       "      <td>0.0</td>\n",
       "      <td>0.0</td>\n",
       "      <td>0.0</td>\n",
       "      <td>0.0</td>\n",
       "      <td>0.0</td>\n",
       "      <td>0.0</td>\n",
       "      <td>0.0</td>\n",
       "      <td>0.0</td>\n",
       "      <td>...</td>\n",
       "      <td>0.0</td>\n",
       "      <td>0.0</td>\n",
       "      <td>1.0</td>\n",
       "      <td>0.0</td>\n",
       "      <td>0.0</td>\n",
       "      <td>0.0</td>\n",
       "      <td>0.0</td>\n",
       "      <td>0.0</td>\n",
       "      <td>0.0</td>\n",
       "      <td>0.0</td>\n",
       "    </tr>\n",
       "    <tr>\n",
       "      <th>59</th>\n",
       "      <td>0.0</td>\n",
       "      <td>0.0</td>\n",
       "      <td>0.0</td>\n",
       "      <td>0.0</td>\n",
       "      <td>0.0</td>\n",
       "      <td>0.0</td>\n",
       "      <td>0.0</td>\n",
       "      <td>0.0</td>\n",
       "      <td>0.0</td>\n",
       "      <td>0.0</td>\n",
       "      <td>...</td>\n",
       "      <td>0.0</td>\n",
       "      <td>0.0</td>\n",
       "      <td>1.0</td>\n",
       "      <td>0.0</td>\n",
       "      <td>0.0</td>\n",
       "      <td>0.0</td>\n",
       "      <td>0.0</td>\n",
       "      <td>0.0</td>\n",
       "      <td>0.0</td>\n",
       "      <td>0.0</td>\n",
       "    </tr>\n",
       "    <tr>\n",
       "      <th>67</th>\n",
       "      <td>0.0</td>\n",
       "      <td>0.0</td>\n",
       "      <td>0.0</td>\n",
       "      <td>0.0</td>\n",
       "      <td>0.0</td>\n",
       "      <td>0.0</td>\n",
       "      <td>0.0</td>\n",
       "      <td>0.0</td>\n",
       "      <td>0.0</td>\n",
       "      <td>0.0</td>\n",
       "      <td>...</td>\n",
       "      <td>0.0</td>\n",
       "      <td>1.0</td>\n",
       "      <td>1.0</td>\n",
       "      <td>0.0</td>\n",
       "      <td>0.0</td>\n",
       "      <td>0.0</td>\n",
       "      <td>0.0</td>\n",
       "      <td>0.0</td>\n",
       "      <td>0.0</td>\n",
       "      <td>0.0</td>\n",
       "    </tr>\n",
       "    <tr>\n",
       "      <th>70</th>\n",
       "      <td>0.0</td>\n",
       "      <td>0.0</td>\n",
       "      <td>0.0</td>\n",
       "      <td>0.0</td>\n",
       "      <td>0.0</td>\n",
       "      <td>0.0</td>\n",
       "      <td>0.0</td>\n",
       "      <td>0.0</td>\n",
       "      <td>0.0</td>\n",
       "      <td>0.0</td>\n",
       "      <td>...</td>\n",
       "      <td>0.0</td>\n",
       "      <td>0.0</td>\n",
       "      <td>0.0</td>\n",
       "      <td>0.0</td>\n",
       "      <td>1.0</td>\n",
       "      <td>0.0</td>\n",
       "      <td>0.0</td>\n",
       "      <td>0.0</td>\n",
       "      <td>1.0</td>\n",
       "      <td>0.0</td>\n",
       "    </tr>\n",
       "    <tr>\n",
       "      <th>257</th>\n",
       "      <td>0.0</td>\n",
       "      <td>0.0</td>\n",
       "      <td>0.0</td>\n",
       "      <td>0.0</td>\n",
       "      <td>0.0</td>\n",
       "      <td>0.0</td>\n",
       "      <td>0.0</td>\n",
       "      <td>0.0</td>\n",
       "      <td>0.0</td>\n",
       "      <td>0.0</td>\n",
       "      <td>...</td>\n",
       "      <td>0.0</td>\n",
       "      <td>0.0</td>\n",
       "      <td>1.0</td>\n",
       "      <td>0.0</td>\n",
       "      <td>0.0</td>\n",
       "      <td>0.0</td>\n",
       "      <td>0.0</td>\n",
       "      <td>0.0</td>\n",
       "      <td>0.0</td>\n",
       "      <td>0.0</td>\n",
       "    </tr>\n",
       "    <tr>\n",
       "      <th>...</th>\n",
       "      <th>...</th>\n",
       "      <td>...</td>\n",
       "      <td>...</td>\n",
       "      <td>...</td>\n",
       "      <td>...</td>\n",
       "      <td>...</td>\n",
       "      <td>...</td>\n",
       "      <td>...</td>\n",
       "      <td>...</td>\n",
       "      <td>...</td>\n",
       "      <td>...</td>\n",
       "      <td>...</td>\n",
       "      <td>...</td>\n",
       "      <td>...</td>\n",
       "      <td>...</td>\n",
       "      <td>...</td>\n",
       "      <td>...</td>\n",
       "      <td>...</td>\n",
       "      <td>...</td>\n",
       "      <td>...</td>\n",
       "      <td>...</td>\n",
       "      <td>...</td>\n",
       "    </tr>\n",
       "    <tr>\n",
       "      <th rowspan=\"5\" valign=\"top\">59</th>\n",
       "      <th>22106</th>\n",
       "      <td>0.0</td>\n",
       "      <td>0.0</td>\n",
       "      <td>0.0</td>\n",
       "      <td>0.0</td>\n",
       "      <td>0.0</td>\n",
       "      <td>0.0</td>\n",
       "      <td>0.0</td>\n",
       "      <td>0.0</td>\n",
       "      <td>0.0</td>\n",
       "      <td>0.0</td>\n",
       "      <td>...</td>\n",
       "      <td>0.0</td>\n",
       "      <td>1.0</td>\n",
       "      <td>0.0</td>\n",
       "      <td>0.0</td>\n",
       "      <td>0.0</td>\n",
       "      <td>0.0</td>\n",
       "      <td>0.0</td>\n",
       "      <td>0.0</td>\n",
       "      <td>0.0</td>\n",
       "      <td>0.0</td>\n",
       "    </tr>\n",
       "    <tr>\n",
       "      <th>22118</th>\n",
       "      <td>0.0</td>\n",
       "      <td>0.0</td>\n",
       "      <td>0.0</td>\n",
       "      <td>0.0</td>\n",
       "      <td>0.0</td>\n",
       "      <td>0.0</td>\n",
       "      <td>0.0</td>\n",
       "      <td>0.0</td>\n",
       "      <td>0.0</td>\n",
       "      <td>0.0</td>\n",
       "      <td>...</td>\n",
       "      <td>0.0</td>\n",
       "      <td>0.0</td>\n",
       "      <td>0.0</td>\n",
       "      <td>1.0</td>\n",
       "      <td>0.0</td>\n",
       "      <td>0.0</td>\n",
       "      <td>0.0</td>\n",
       "      <td>0.0</td>\n",
       "      <td>0.0</td>\n",
       "      <td>0.0</td>\n",
       "    </tr>\n",
       "    <tr>\n",
       "      <th>22139</th>\n",
       "      <td>0.0</td>\n",
       "      <td>0.0</td>\n",
       "      <td>0.0</td>\n",
       "      <td>0.0</td>\n",
       "      <td>0.0</td>\n",
       "      <td>0.0</td>\n",
       "      <td>0.0</td>\n",
       "      <td>0.0</td>\n",
       "      <td>0.0</td>\n",
       "      <td>0.0</td>\n",
       "      <td>...</td>\n",
       "      <td>0.0</td>\n",
       "      <td>1.0</td>\n",
       "      <td>0.0</td>\n",
       "      <td>0.0</td>\n",
       "      <td>0.0</td>\n",
       "      <td>0.0</td>\n",
       "      <td>0.0</td>\n",
       "      <td>0.0</td>\n",
       "      <td>0.0</td>\n",
       "      <td>1.0</td>\n",
       "    </tr>\n",
       "    <tr>\n",
       "      <th>22162</th>\n",
       "      <td>0.0</td>\n",
       "      <td>0.0</td>\n",
       "      <td>0.0</td>\n",
       "      <td>0.0</td>\n",
       "      <td>0.0</td>\n",
       "      <td>0.0</td>\n",
       "      <td>0.0</td>\n",
       "      <td>0.0</td>\n",
       "      <td>0.0</td>\n",
       "      <td>0.0</td>\n",
       "      <td>...</td>\n",
       "      <td>0.0</td>\n",
       "      <td>0.0</td>\n",
       "      <td>9.0</td>\n",
       "      <td>4.0</td>\n",
       "      <td>1.0</td>\n",
       "      <td>1.0</td>\n",
       "      <td>0.0</td>\n",
       "      <td>0.0</td>\n",
       "      <td>1.0</td>\n",
       "      <td>0.0</td>\n",
       "    </tr>\n",
       "    <tr>\n",
       "      <th>22164</th>\n",
       "      <td>0.0</td>\n",
       "      <td>0.0</td>\n",
       "      <td>0.0</td>\n",
       "      <td>0.0</td>\n",
       "      <td>0.0</td>\n",
       "      <td>0.0</td>\n",
       "      <td>0.0</td>\n",
       "      <td>0.0</td>\n",
       "      <td>0.0</td>\n",
       "      <td>0.0</td>\n",
       "      <td>...</td>\n",
       "      <td>0.0</td>\n",
       "      <td>0.0</td>\n",
       "      <td>2.0</td>\n",
       "      <td>1.0</td>\n",
       "      <td>2.0</td>\n",
       "      <td>0.0</td>\n",
       "      <td>0.0</td>\n",
       "      <td>1.0</td>\n",
       "      <td>0.0</td>\n",
       "      <td>0.0</td>\n",
       "    </tr>\n",
       "  </tbody>\n",
       "</table>\n",
       "<p>90009 rows × 33 columns</p>\n",
       "</div>"
      ],
      "text/plain": [
       "date_block_num    0    1    2    3    4    5    6    7    8    9   ...   23  \\\n",
       "shop_id item_id                                                    ...        \n",
       "2       53       0.0  0.0  0.0  0.0  0.0  0.0  0.0  0.0  0.0  0.0  ...  0.0   \n",
       "        59       0.0  0.0  0.0  0.0  0.0  0.0  0.0  0.0  0.0  0.0  ...  0.0   \n",
       "        67       0.0  0.0  0.0  0.0  0.0  0.0  0.0  0.0  0.0  0.0  ...  0.0   \n",
       "        70       0.0  0.0  0.0  0.0  0.0  0.0  0.0  0.0  0.0  0.0  ...  0.0   \n",
       "        257      0.0  0.0  0.0  0.0  0.0  0.0  0.0  0.0  0.0  0.0  ...  0.0   \n",
       "...              ...  ...  ...  ...  ...  ...  ...  ...  ...  ...  ...  ...   \n",
       "59      22106    0.0  0.0  0.0  0.0  0.0  0.0  0.0  0.0  0.0  0.0  ...  0.0   \n",
       "        22118    0.0  0.0  0.0  0.0  0.0  0.0  0.0  0.0  0.0  0.0  ...  0.0   \n",
       "        22139    0.0  0.0  0.0  0.0  0.0  0.0  0.0  0.0  0.0  0.0  ...  0.0   \n",
       "        22162    0.0  0.0  0.0  0.0  0.0  0.0  0.0  0.0  0.0  0.0  ...  0.0   \n",
       "        22164    0.0  0.0  0.0  0.0  0.0  0.0  0.0  0.0  0.0  0.0  ...  0.0   \n",
       "\n",
       "date_block_num    24   25   26   27   28   29   30   31   32  \n",
       "shop_id item_id                                               \n",
       "2       53       0.0  1.0  0.0  0.0  0.0  0.0  0.0  0.0  0.0  \n",
       "        59       0.0  1.0  0.0  0.0  0.0  0.0  0.0  0.0  0.0  \n",
       "        67       1.0  1.0  0.0  0.0  0.0  0.0  0.0  0.0  0.0  \n",
       "        70       0.0  0.0  0.0  1.0  0.0  0.0  0.0  1.0  0.0  \n",
       "        257      0.0  1.0  0.0  0.0  0.0  0.0  0.0  0.0  0.0  \n",
       "...              ...  ...  ...  ...  ...  ...  ...  ...  ...  \n",
       "59      22106    1.0  0.0  0.0  0.0  0.0  0.0  0.0  0.0  0.0  \n",
       "        22118    0.0  0.0  1.0  0.0  0.0  0.0  0.0  0.0  0.0  \n",
       "        22139    1.0  0.0  0.0  0.0  0.0  0.0  0.0  0.0  1.0  \n",
       "        22162    0.0  9.0  4.0  1.0  1.0  0.0  0.0  1.0  0.0  \n",
       "        22164    0.0  2.0  1.0  2.0  0.0  0.0  1.0  0.0  0.0  \n",
       "\n",
       "[90009 rows x 33 columns]"
      ]
     },
     "execution_count": 61,
     "metadata": {},
     "output_type": "execute_result"
    }
   ],
   "source": [
    "all_series[((all_series[list(range(20))] == 0).sum(axis=1) == 20)]"
   ]
  },
  {
   "cell_type": "code",
   "execution_count": null,
   "id": "silent-calgary",
   "metadata": {},
   "outputs": [],
   "source": []
  },
  {
   "cell_type": "code",
   "execution_count": 87,
   "id": "numerous-details",
   "metadata": {
    "ExecuteTime": {
     "end_time": "2021-09-28T07:14:31.116779Z",
     "start_time": "2021-09-28T07:14:30.367411Z"
    },
    "collapsed": true
   },
   "outputs": [
    {
     "data": {
      "text/html": [
       "<div>\n",
       "<style scoped>\n",
       "    .dataframe tbody tr th:only-of-type {\n",
       "        vertical-align: middle;\n",
       "    }\n",
       "\n",
       "    .dataframe tbody tr th {\n",
       "        vertical-align: top;\n",
       "    }\n",
       "\n",
       "    .dataframe thead th {\n",
       "        text-align: right;\n",
       "    }\n",
       "</style>\n",
       "<table border=\"1\" class=\"dataframe\">\n",
       "  <thead>\n",
       "    <tr style=\"text-align: right;\">\n",
       "      <th></th>\n",
       "      <th>date_block_num</th>\n",
       "      <th>0</th>\n",
       "      <th>1</th>\n",
       "      <th>2</th>\n",
       "      <th>3</th>\n",
       "      <th>4</th>\n",
       "      <th>5</th>\n",
       "      <th>6</th>\n",
       "      <th>7</th>\n",
       "      <th>8</th>\n",
       "      <th>9</th>\n",
       "      <th>...</th>\n",
       "      <th>23</th>\n",
       "      <th>24</th>\n",
       "      <th>25</th>\n",
       "      <th>26</th>\n",
       "      <th>27</th>\n",
       "      <th>28</th>\n",
       "      <th>29</th>\n",
       "      <th>30</th>\n",
       "      <th>31</th>\n",
       "      <th>32</th>\n",
       "    </tr>\n",
       "    <tr>\n",
       "      <th>shop_id</th>\n",
       "      <th>item_id</th>\n",
       "      <th></th>\n",
       "      <th></th>\n",
       "      <th></th>\n",
       "      <th></th>\n",
       "      <th></th>\n",
       "      <th></th>\n",
       "      <th></th>\n",
       "      <th></th>\n",
       "      <th></th>\n",
       "      <th></th>\n",
       "      <th></th>\n",
       "      <th></th>\n",
       "      <th></th>\n",
       "      <th></th>\n",
       "      <th></th>\n",
       "      <th></th>\n",
       "      <th></th>\n",
       "      <th></th>\n",
       "      <th></th>\n",
       "      <th></th>\n",
       "      <th></th>\n",
       "    </tr>\n",
       "  </thead>\n",
       "  <tbody>\n",
       "    <tr>\n",
       "      <th rowspan=\"5\" valign=\"top\">0</th>\n",
       "      <th>30</th>\n",
       "      <td>0.0</td>\n",
       "      <td>31.0</td>\n",
       "      <td>0.0</td>\n",
       "      <td>0.0</td>\n",
       "      <td>0.0</td>\n",
       "      <td>0.0</td>\n",
       "      <td>0.0</td>\n",
       "      <td>0.0</td>\n",
       "      <td>0.0</td>\n",
       "      <td>0.0</td>\n",
       "      <td>...</td>\n",
       "      <td>0.0</td>\n",
       "      <td>0.0</td>\n",
       "      <td>0.0</td>\n",
       "      <td>0.0</td>\n",
       "      <td>0.0</td>\n",
       "      <td>0.0</td>\n",
       "      <td>0.0</td>\n",
       "      <td>0.0</td>\n",
       "      <td>0.0</td>\n",
       "      <td>0.0</td>\n",
       "    </tr>\n",
       "    <tr>\n",
       "      <th>31</th>\n",
       "      <td>0.0</td>\n",
       "      <td>11.0</td>\n",
       "      <td>0.0</td>\n",
       "      <td>0.0</td>\n",
       "      <td>0.0</td>\n",
       "      <td>0.0</td>\n",
       "      <td>0.0</td>\n",
       "      <td>0.0</td>\n",
       "      <td>0.0</td>\n",
       "      <td>0.0</td>\n",
       "      <td>...</td>\n",
       "      <td>0.0</td>\n",
       "      <td>0.0</td>\n",
       "      <td>0.0</td>\n",
       "      <td>0.0</td>\n",
       "      <td>0.0</td>\n",
       "      <td>0.0</td>\n",
       "      <td>0.0</td>\n",
       "      <td>0.0</td>\n",
       "      <td>0.0</td>\n",
       "      <td>0.0</td>\n",
       "    </tr>\n",
       "    <tr>\n",
       "      <th>32</th>\n",
       "      <td>6.0</td>\n",
       "      <td>10.0</td>\n",
       "      <td>0.0</td>\n",
       "      <td>0.0</td>\n",
       "      <td>0.0</td>\n",
       "      <td>0.0</td>\n",
       "      <td>0.0</td>\n",
       "      <td>0.0</td>\n",
       "      <td>0.0</td>\n",
       "      <td>0.0</td>\n",
       "      <td>...</td>\n",
       "      <td>0.0</td>\n",
       "      <td>0.0</td>\n",
       "      <td>0.0</td>\n",
       "      <td>0.0</td>\n",
       "      <td>0.0</td>\n",
       "      <td>0.0</td>\n",
       "      <td>0.0</td>\n",
       "      <td>0.0</td>\n",
       "      <td>0.0</td>\n",
       "      <td>0.0</td>\n",
       "    </tr>\n",
       "    <tr>\n",
       "      <th>33</th>\n",
       "      <td>3.0</td>\n",
       "      <td>3.0</td>\n",
       "      <td>0.0</td>\n",
       "      <td>0.0</td>\n",
       "      <td>0.0</td>\n",
       "      <td>0.0</td>\n",
       "      <td>0.0</td>\n",
       "      <td>0.0</td>\n",
       "      <td>0.0</td>\n",
       "      <td>0.0</td>\n",
       "      <td>...</td>\n",
       "      <td>0.0</td>\n",
       "      <td>0.0</td>\n",
       "      <td>0.0</td>\n",
       "      <td>0.0</td>\n",
       "      <td>0.0</td>\n",
       "      <td>0.0</td>\n",
       "      <td>0.0</td>\n",
       "      <td>0.0</td>\n",
       "      <td>0.0</td>\n",
       "      <td>0.0</td>\n",
       "    </tr>\n",
       "    <tr>\n",
       "      <th>35</th>\n",
       "      <td>1.0</td>\n",
       "      <td>14.0</td>\n",
       "      <td>0.0</td>\n",
       "      <td>0.0</td>\n",
       "      <td>0.0</td>\n",
       "      <td>0.0</td>\n",
       "      <td>0.0</td>\n",
       "      <td>0.0</td>\n",
       "      <td>0.0</td>\n",
       "      <td>0.0</td>\n",
       "      <td>...</td>\n",
       "      <td>0.0</td>\n",
       "      <td>0.0</td>\n",
       "      <td>0.0</td>\n",
       "      <td>0.0</td>\n",
       "      <td>0.0</td>\n",
       "      <td>0.0</td>\n",
       "      <td>0.0</td>\n",
       "      <td>0.0</td>\n",
       "      <td>0.0</td>\n",
       "      <td>0.0</td>\n",
       "    </tr>\n",
       "    <tr>\n",
       "      <th>...</th>\n",
       "      <th>...</th>\n",
       "      <td>...</td>\n",
       "      <td>...</td>\n",
       "      <td>...</td>\n",
       "      <td>...</td>\n",
       "      <td>...</td>\n",
       "      <td>...</td>\n",
       "      <td>...</td>\n",
       "      <td>...</td>\n",
       "      <td>...</td>\n",
       "      <td>...</td>\n",
       "      <td>...</td>\n",
       "      <td>...</td>\n",
       "      <td>...</td>\n",
       "      <td>...</td>\n",
       "      <td>...</td>\n",
       "      <td>...</td>\n",
       "      <td>...</td>\n",
       "      <td>...</td>\n",
       "      <td>...</td>\n",
       "      <td>...</td>\n",
       "      <td>...</td>\n",
       "    </tr>\n",
       "    <tr>\n",
       "      <th rowspan=\"5\" valign=\"top\">59</th>\n",
       "      <th>22154</th>\n",
       "      <td>1.0</td>\n",
       "      <td>0.0</td>\n",
       "      <td>0.0</td>\n",
       "      <td>0.0</td>\n",
       "      <td>0.0</td>\n",
       "      <td>0.0</td>\n",
       "      <td>0.0</td>\n",
       "      <td>0.0</td>\n",
       "      <td>0.0</td>\n",
       "      <td>0.0</td>\n",
       "      <td>...</td>\n",
       "      <td>0.0</td>\n",
       "      <td>0.0</td>\n",
       "      <td>0.0</td>\n",
       "      <td>0.0</td>\n",
       "      <td>0.0</td>\n",
       "      <td>0.0</td>\n",
       "      <td>0.0</td>\n",
       "      <td>0.0</td>\n",
       "      <td>0.0</td>\n",
       "      <td>0.0</td>\n",
       "    </tr>\n",
       "    <tr>\n",
       "      <th>22155</th>\n",
       "      <td>0.0</td>\n",
       "      <td>0.0</td>\n",
       "      <td>0.0</td>\n",
       "      <td>0.0</td>\n",
       "      <td>0.0</td>\n",
       "      <td>0.0</td>\n",
       "      <td>1.0</td>\n",
       "      <td>0.0</td>\n",
       "      <td>0.0</td>\n",
       "      <td>0.0</td>\n",
       "      <td>...</td>\n",
       "      <td>0.0</td>\n",
       "      <td>0.0</td>\n",
       "      <td>0.0</td>\n",
       "      <td>0.0</td>\n",
       "      <td>0.0</td>\n",
       "      <td>0.0</td>\n",
       "      <td>0.0</td>\n",
       "      <td>0.0</td>\n",
       "      <td>0.0</td>\n",
       "      <td>0.0</td>\n",
       "    </tr>\n",
       "    <tr>\n",
       "      <th>22162</th>\n",
       "      <td>0.0</td>\n",
       "      <td>0.0</td>\n",
       "      <td>0.0</td>\n",
       "      <td>0.0</td>\n",
       "      <td>0.0</td>\n",
       "      <td>0.0</td>\n",
       "      <td>0.0</td>\n",
       "      <td>0.0</td>\n",
       "      <td>0.0</td>\n",
       "      <td>0.0</td>\n",
       "      <td>...</td>\n",
       "      <td>0.0</td>\n",
       "      <td>0.0</td>\n",
       "      <td>9.0</td>\n",
       "      <td>4.0</td>\n",
       "      <td>1.0</td>\n",
       "      <td>1.0</td>\n",
       "      <td>0.0</td>\n",
       "      <td>0.0</td>\n",
       "      <td>1.0</td>\n",
       "      <td>0.0</td>\n",
       "    </tr>\n",
       "    <tr>\n",
       "      <th>22164</th>\n",
       "      <td>0.0</td>\n",
       "      <td>0.0</td>\n",
       "      <td>0.0</td>\n",
       "      <td>0.0</td>\n",
       "      <td>0.0</td>\n",
       "      <td>0.0</td>\n",
       "      <td>0.0</td>\n",
       "      <td>0.0</td>\n",
       "      <td>0.0</td>\n",
       "      <td>0.0</td>\n",
       "      <td>...</td>\n",
       "      <td>0.0</td>\n",
       "      <td>0.0</td>\n",
       "      <td>2.0</td>\n",
       "      <td>1.0</td>\n",
       "      <td>2.0</td>\n",
       "      <td>0.0</td>\n",
       "      <td>0.0</td>\n",
       "      <td>1.0</td>\n",
       "      <td>0.0</td>\n",
       "      <td>0.0</td>\n",
       "    </tr>\n",
       "    <tr>\n",
       "      <th>22167</th>\n",
       "      <td>0.0</td>\n",
       "      <td>0.0</td>\n",
       "      <td>0.0</td>\n",
       "      <td>0.0</td>\n",
       "      <td>0.0</td>\n",
       "      <td>0.0</td>\n",
       "      <td>0.0</td>\n",
       "      <td>0.0</td>\n",
       "      <td>0.0</td>\n",
       "      <td>1.0</td>\n",
       "      <td>...</td>\n",
       "      <td>0.0</td>\n",
       "      <td>0.0</td>\n",
       "      <td>0.0</td>\n",
       "      <td>0.0</td>\n",
       "      <td>0.0</td>\n",
       "      <td>0.0</td>\n",
       "      <td>0.0</td>\n",
       "      <td>0.0</td>\n",
       "      <td>0.0</td>\n",
       "      <td>0.0</td>\n",
       "    </tr>\n",
       "  </tbody>\n",
       "</table>\n",
       "<p>417004 rows × 33 columns</p>\n",
       "</div>"
      ],
      "text/plain": [
       "date_block_num    0     1    2    3    4    5    6    7    8    9   ...   23  \\\n",
       "shop_id item_id                                                     ...        \n",
       "0       30       0.0  31.0  0.0  0.0  0.0  0.0  0.0  0.0  0.0  0.0  ...  0.0   \n",
       "        31       0.0  11.0  0.0  0.0  0.0  0.0  0.0  0.0  0.0  0.0  ...  0.0   \n",
       "        32       6.0  10.0  0.0  0.0  0.0  0.0  0.0  0.0  0.0  0.0  ...  0.0   \n",
       "        33       3.0   3.0  0.0  0.0  0.0  0.0  0.0  0.0  0.0  0.0  ...  0.0   \n",
       "        35       1.0  14.0  0.0  0.0  0.0  0.0  0.0  0.0  0.0  0.0  ...  0.0   \n",
       "...              ...   ...  ...  ...  ...  ...  ...  ...  ...  ...  ...  ...   \n",
       "59      22154    1.0   0.0  0.0  0.0  0.0  0.0  0.0  0.0  0.0  0.0  ...  0.0   \n",
       "        22155    0.0   0.0  0.0  0.0  0.0  0.0  1.0  0.0  0.0  0.0  ...  0.0   \n",
       "        22162    0.0   0.0  0.0  0.0  0.0  0.0  0.0  0.0  0.0  0.0  ...  0.0   \n",
       "        22164    0.0   0.0  0.0  0.0  0.0  0.0  0.0  0.0  0.0  0.0  ...  0.0   \n",
       "        22167    0.0   0.0  0.0  0.0  0.0  0.0  0.0  0.0  0.0  1.0  ...  0.0   \n",
       "\n",
       "date_block_num    24   25   26   27   28   29   30   31   32  \n",
       "shop_id item_id                                               \n",
       "0       30       0.0  0.0  0.0  0.0  0.0  0.0  0.0  0.0  0.0  \n",
       "        31       0.0  0.0  0.0  0.0  0.0  0.0  0.0  0.0  0.0  \n",
       "        32       0.0  0.0  0.0  0.0  0.0  0.0  0.0  0.0  0.0  \n",
       "        33       0.0  0.0  0.0  0.0  0.0  0.0  0.0  0.0  0.0  \n",
       "        35       0.0  0.0  0.0  0.0  0.0  0.0  0.0  0.0  0.0  \n",
       "...              ...  ...  ...  ...  ...  ...  ...  ...  ...  \n",
       "59      22154    0.0  0.0  0.0  0.0  0.0  0.0  0.0  0.0  0.0  \n",
       "        22155    0.0  0.0  0.0  0.0  0.0  0.0  0.0  0.0  0.0  \n",
       "        22162    0.0  9.0  4.0  1.0  1.0  0.0  0.0  1.0  0.0  \n",
       "        22164    0.0  2.0  1.0  2.0  0.0  0.0  1.0  0.0  0.0  \n",
       "        22167    0.0  0.0  0.0  0.0  0.0  0.0  0.0  0.0  0.0  \n",
       "\n",
       "[417004 rows x 33 columns]"
      ]
     },
     "execution_count": 87,
     "metadata": {},
     "output_type": "execute_result"
    }
   ],
   "source": [
    "all_series"
   ]
  },
  {
   "cell_type": "code",
   "execution_count": 45,
   "id": "breeding-capture",
   "metadata": {
    "ExecuteTime": {
     "end_time": "2021-09-28T06:38:53.003304Z",
     "start_time": "2021-09-28T06:38:52.961369Z"
    }
   },
   "outputs": [
    {
     "data": {
      "text/plain": [
       "0.5294117647058824"
      ]
     },
     "execution_count": 45,
     "metadata": {},
     "output_type": "execute_result"
    }
   ],
   "source": [
    "my_model.predict_shop_item(59, 22162)"
   ]
  },
  {
   "cell_type": "code",
   "execution_count": null,
   "id": "powerful-brunswick",
   "metadata": {},
   "outputs": [],
   "source": []
  },
  {
   "cell_type": "code",
   "execution_count": 47,
   "id": "synthetic-pound",
   "metadata": {
    "ExecuteTime": {
     "end_time": "2021-09-28T06:41:10.660774Z",
     "start_time": "2021-09-28T06:41:10.638798Z"
    }
   },
   "outputs": [],
   "source": [
    "lin_reg_model = MyModel(LinearRegression)"
   ]
  },
  {
   "cell_type": "code",
   "execution_count": 48,
   "id": "successful-discovery",
   "metadata": {
    "ExecuteTime": {
     "end_time": "2021-09-28T06:41:37.539736Z",
     "start_time": "2021-09-28T06:41:31.625008Z"
    }
   },
   "outputs": [],
   "source": [
    "lin_reg_model.fit(train_df)"
   ]
  },
  {
   "cell_type": "code",
   "execution_count": 49,
   "id": "sustained-border",
   "metadata": {
    "ExecuteTime": {
     "end_time": "2021-09-28T06:50:05.031861Z",
     "start_time": "2021-09-28T06:41:56.229961Z"
    }
   },
   "outputs": [],
   "source": [
    "lin_reg_predicted = lin_reg_model.predict(test_X)"
   ]
  },
  {
   "cell_type": "code",
   "execution_count": 50,
   "id": "separated-direction",
   "metadata": {
    "ExecuteTime": {
     "end_time": "2021-09-28T06:50:05.095214Z",
     "start_time": "2021-09-28T06:50:05.031861Z"
    }
   },
   "outputs": [
    {
     "data": {
      "text/plain": [
       "113878915037619.22"
      ]
     },
     "execution_count": 50,
     "metadata": {},
     "output_type": "execute_result"
    }
   ],
   "source": [
    "MSE(test_target, lin_reg_predicted)"
   ]
  },
  {
   "cell_type": "code",
   "execution_count": 55,
   "id": "identical-medline",
   "metadata": {
    "ExecuteTime": {
     "end_time": "2021-09-28T06:51:00.935413Z",
     "start_time": "2021-09-28T06:50:59.653703Z"
    },
    "scrolled": true
   },
   "outputs": [
    {
     "data": {
      "image/png": "[encoded data removed]",
      "text/plain": [
       "<Figure size 432x288 with 1 Axes>"
      ]
     },
     "metadata": {
      "needs_background": "light"
     },
     "output_type": "display_data"
    }
   ],
   "source": [
    "plt.hist(lin_reg_predicted, bins=30)\n",
    "plt.show()"
   ]
  },
  {
   "cell_type": "code",
   "execution_count": null,
   "id": "thermal-rolling",
   "metadata": {},
   "outputs": [],
   "source": []
  },
  {
   "cell_type": "code",
   "execution_count": 151,
   "id": "bacterial-right",
   "metadata": {
    "ExecuteTime": {
     "end_time": "2021-09-28T12:58:33.194314Z",
     "start_time": "2021-09-28T12:58:33.155383Z"
    }
   },
   "outputs": [],
   "source": [
    "other_mmodel = MyOtherModel(Ridge, alpha=1)"
   ]
  },
  {
   "cell_type": "code",
   "execution_count": 152,
   "id": "better-election",
   "metadata": {
    "ExecuteTime": {
     "end_time": "2021-09-28T12:58:38.412304Z",
     "start_time": "2021-09-28T12:58:33.513002Z"
    }
   },
   "outputs": [],
   "source": [
    "other_mmodel.fit(train_df)"
   ]
  },
  {
   "cell_type": "code",
   "execution_count": 153,
   "id": "gorgeous-constitution",
   "metadata": {
    "ExecuteTime": {
     "end_time": "2021-09-28T12:58:38.619085Z",
     "start_time": "2021-09-28T12:58:38.412304Z"
    }
   },
   "outputs": [
    {
     "data": {
      "text/plain": [
       "8.734003199999997"
      ]
     },
     "execution_count": 153,
     "metadata": {},
     "output_type": "execute_result"
    }
   ],
   "source": [
    "other_mmodel.predict_shop_item(12, 20949)"
   ]
  },
  {
   "cell_type": "code",
   "execution_count": null,
   "id": "vulnerable-musical",
   "metadata": {},
   "outputs": [],
   "source": []
  },
  {
   "cell_type": "code",
   "execution_count": 43,
   "id": "disciplinary-understanding",
   "metadata": {
    "ExecuteTime": {
     "end_time": "2021-09-30T08:37:43.033672Z",
     "start_time": "2021-09-30T08:11:43.501109Z"
    }
   },
   "outputs": [
    {
     "data": {
      "text/plain": [
       "11.308963570528544"
      ]
     },
     "execution_count": 43,
     "metadata": {},
     "output_type": "execute_result"
    }
   ],
   "source": [
    "boosting_model = MyModel(GradientBoostingRegressor, n_estimators=50)\n",
    "boosting_model.fit(train_X)\n",
    "boosting_model_predicted = boosting_model.predict(test_X)\n",
    "MSE(test_target, boosting_model_predicted)"
   ]
  },
  {
   "cell_type": "code",
   "execution_count": null,
   "id": "received-beginning",
   "metadata": {},
   "outputs": [],
   "source": []
  },
  {
   "cell_type": "code",
   "execution_count": null,
   "id": "domestic-intranet",
   "metadata": {},
   "outputs": [],
   "source": []
  },
  {
   "cell_type": "code",
   "execution_count": null,
   "id": "monthly-ticket",
   "metadata": {},
   "outputs": [],
   "source": []
  },
  {
   "cell_type": "code",
   "execution_count": null,
   "id": "sacred-rwanda",
   "metadata": {},
   "outputs": [],
   "source": []
  },
  {
   "cell_type": "markdown",
   "id": "polyphonic-format",
   "metadata": {},
   "source": [
    "### class MyOtherModel"
   ]
  },
  {
   "cell_type": "code",
   "execution_count": 24,
   "id": "outstanding-creator",
   "metadata": {
    "ExecuteTime": {
     "end_time": "2021-09-29T06:01:17.852981Z",
     "start_time": "2021-09-29T06:01:17.822131Z"
    }
   },
   "outputs": [],
   "source": [
    "class MyOtherModel(MyAbstractModel):\n",
    "    def __init__(self, model_init, window=12, *model_args, **model_kwargs):\n",
    "        MyAbstractModel.__init__(self, model_init, *model_args, **model_kwargs)\n",
    "        self.window = window\n",
    "\n",
    "    def predict_shop_item(self, shop_id, item_id):\n",
    "        try:\n",
    "            ser = list(self.all_series.loc[(shop_id, item_id)])\n",
    "        except KeyError as e:\n",
    "            return 0\n",
    "        if all(np.array(ser)[:-self.window] == 0):\n",
    "            return EMA(ser, 0.4)\n",
    "        window_df = pd.DataFrame([ser[k : k + self.window] for k in range(len(ser) - self.window + 1)])\n",
    "        X, y = window_df.drop(columns=[self.window - 1]), window_df[self.window - 1]\n",
    "        model = self.model_init(*self.model_args, **self.model_kwargs)\n",
    "        model.fit(X, y)\n",
    "        return model.predict(pd.DataFrame([ser[-self.window + 1:]]))[0]"
   ]
  },
  {
   "cell_type": "code",
   "execution_count": 154,
   "id": "afraid-cowboy",
   "metadata": {
    "ExecuteTime": {
     "end_time": "2021-09-28T12:59:00.225276Z",
     "start_time": "2021-09-28T12:59:00.194024Z"
    }
   },
   "outputs": [],
   "source": [
    "other_model = MyOtherModel(DecisionTreeRegressor, window=10, max_depth=6)"
   ]
  },
  {
   "cell_type": "code",
   "execution_count": 155,
   "id": "radical-lawsuit",
   "metadata": {
    "ExecuteTime": {
     "end_time": "2021-09-28T12:59:06.407790Z",
     "start_time": "2021-09-28T12:59:01.218848Z"
    }
   },
   "outputs": [],
   "source": [
    "other_model.fit(train_df)"
   ]
  },
  {
   "cell_type": "code",
   "execution_count": 156,
   "id": "soviet-hanging",
   "metadata": {
    "ExecuteTime": {
     "end_time": "2021-09-28T13:03:59.777829Z",
     "start_time": "2021-09-28T12:59:06.418776Z"
    }
   },
   "outputs": [],
   "source": [
    "other_predicted = other_model.predict(test_X)"
   ]
  },
  {
   "cell_type": "code",
   "execution_count": 157,
   "id": "proud-fetish",
   "metadata": {
    "ExecuteTime": {
     "end_time": "2021-09-28T13:03:59.835230Z",
     "start_time": "2021-09-28T13:03:59.777829Z"
    }
   },
   "outputs": [
    {
     "data": {
      "text/plain": [
       "10.161748912401112"
      ]
     },
     "execution_count": 157,
     "metadata": {},
     "output_type": "execute_result"
    }
   ],
   "source": [
    "MSE(test_target, other_predicted)"
   ]
  },
  {
   "cell_type": "code",
   "execution_count": 166,
   "id": "knowing-rachel",
   "metadata": {
    "ExecuteTime": {
     "end_time": "2021-09-28T13:44:54.135070Z",
     "start_time": "2021-09-28T13:11:54.567564Z"
    }
   },
   "outputs": [
    {
     "name": "stdout",
     "output_type": "stream",
     "text": [
      "window: 6\n",
      "MSE: 13.821688292128732\n",
      "window: 7\n",
      "MSE: 10.380090475260893\n",
      "window: 8\n",
      "MSE: 10.259780182325331\n",
      "window: 9\n",
      "MSE: 10.908684711041696\n",
      "window: 10\n",
      "MSE: 10.476324097645731\n",
      "window: 11\n",
      "MSE: 10.256466709709299\n",
      "window: 12\n",
      "MSE: 10.557158510510032\n"
     ]
    }
   ],
   "source": [
    "for window in range(6, 13):\n",
    "    model = MyOtherModel(DecisionTreeRegressor, window=window, max_depth=6)\n",
    "    model.fit(train_df)\n",
    "    predicted = model.predict(test_X)\n",
    "    print('window:', window)\n",
    "    print('MSE:', MSE(test_target, predicted))"
   ]
  },
  {
   "cell_type": "code",
   "execution_count": null,
   "id": "invisible-schedule",
   "metadata": {},
   "outputs": [],
   "source": []
  },
  {
   "cell_type": "code",
   "execution_count": 30,
   "id": "characteristic-charleston",
   "metadata": {
    "ExecuteTime": {
     "end_time": "2021-09-29T06:14:36.091884Z",
     "start_time": "2021-09-29T06:14:36.048952Z"
    }
   },
   "outputs": [],
   "source": [
    "other_model_3 = MyOtherModel(RandomForestRegressor, max_depth=6, n_estimators=10)"
   ]
  },
  {
   "cell_type": "code",
   "execution_count": 31,
   "id": "confirmed-booking",
   "metadata": {
    "ExecuteTime": {
     "end_time": "2021-09-29T06:14:41.356989Z",
     "start_time": "2021-09-29T06:14:36.329305Z"
    }
   },
   "outputs": [],
   "source": [
    "other_model_3.fit(train_X)"
   ]
  },
  {
   "cell_type": "code",
   "execution_count": 32,
   "id": "worldwide-martin",
   "metadata": {
    "ExecuteTime": {
     "end_time": "2021-09-29T06:27:06.364789Z",
     "start_time": "2021-09-29T06:14:41.356989Z"
    }
   },
   "outputs": [],
   "source": [
    "other_predicted_3 = other_model_3.predict(test_X)"
   ]
  },
  {
   "cell_type": "code",
   "execution_count": 33,
   "id": "outside-confusion",
   "metadata": {
    "ExecuteTime": {
     "end_time": "2021-09-29T06:27:06.412609Z",
     "start_time": "2021-09-29T06:27:06.364789Z"
    }
   },
   "outputs": [
    {
     "data": {
      "text/plain": [
       "11.254962777394418"
      ]
     },
     "execution_count": 33,
     "metadata": {},
     "output_type": "execute_result"
    }
   ],
   "source": [
    "MSE(test_target, other_predicted_3)"
   ]
  },
  {
   "cell_type": "markdown",
   "id": "dressed-transition",
   "metadata": {},
   "source": [
    "### class LinRegModel"
   ]
  },
  {
   "cell_type": "code",
   "execution_count": 34,
   "id": "excess-catalog",
   "metadata": {
    "ExecuteTime": {
     "end_time": "2021-09-29T06:27:06.442564Z",
     "start_time": "2021-09-29T06:27:06.424590Z"
    }
   },
   "outputs": [],
   "source": [
    "from sklearn.preprocessing import StandardScaler"
   ]
  },
  {
   "cell_type": "code",
   "execution_count": 35,
   "id": "capable-desperate",
   "metadata": {
    "ExecuteTime": {
     "end_time": "2021-09-29T06:27:06.490282Z",
     "start_time": "2021-09-29T06:27:06.449550Z"
    }
   },
   "outputs": [],
   "source": [
    "class LinRegModel(MyAbstractModel):\n",
    "    def __init__(self, penalty='l2', window=12, *model_args, **model_kwargs):\n",
    "        if penalty == 'l2':\n",
    "            model_init = Ridge\n",
    "        elif penalty == 'l1':\n",
    "            model_init = Lasso\n",
    "        else:\n",
    "            model_init= LinearRegression\n",
    "        MyAbstractModel.__init__(self, model_init, *model_args, **model_kwargs)\n",
    "        self.window = window\n",
    "    \n",
    "    def predict_shop_item(self, shop_id, item_id):\n",
    "        try:\n",
    "            ser = list(self.all_series.loc[(shop_id, item_id)])\n",
    "        except KeyError as e:\n",
    "            return 0\n",
    "        if all(np.array(ser)[:-self.window] == 0):\n",
    "            return EMA(ser, 0.4)\n",
    "        \n",
    "        window_df = pd.DataFrame([ser[k : k + self.window] for k in range(len(ser) - self.window + 1)])\n",
    "        X, y = window_df.drop(columns=[self.window - 1]), window_df[self.window - 1]\n",
    "        \n",
    "        scaler = StandardScaler()\n",
    "        X = scaler.fit_transform(X)\n",
    "        \n",
    "        model = self.model_init(*self.model_args, **self.model_kwargs)\n",
    "        model.fit(X, y)\n",
    "        test_X = scaler.transform(pd.DataFrame([ser[-self.window + 1:]]))\n",
    "        return model.predict(test_X)[0]"
   ]
  },
  {
   "cell_type": "code",
   "execution_count": 36,
   "id": "killing-treasurer",
   "metadata": {
    "ExecuteTime": {
     "end_time": "2021-09-29T06:27:06.538208Z",
     "start_time": "2021-09-29T06:27:06.500263Z"
    }
   },
   "outputs": [],
   "source": [
    "ridge_model = LinRegModel(penalty='l2', window=12, alpha=1.0)"
   ]
  },
  {
   "cell_type": "code",
   "execution_count": 37,
   "id": "interesting-phoenix",
   "metadata": {
    "ExecuteTime": {
     "end_time": "2021-09-29T06:27:11.840993Z",
     "start_time": "2021-09-29T06:27:06.550188Z"
    }
   },
   "outputs": [],
   "source": [
    "ridge_model.fit(train_X)"
   ]
  },
  {
   "cell_type": "code",
   "execution_count": 38,
   "id": "filled-chosen",
   "metadata": {
    "ExecuteTime": {
     "end_time": "2021-09-29T06:32:32.546310Z",
     "start_time": "2021-09-29T06:27:11.854979Z"
    }
   },
   "outputs": [],
   "source": [
    "ridge_predicted = ridge_model.predict(test_X)"
   ]
  },
  {
   "cell_type": "code",
   "execution_count": 39,
   "id": "induced-rings",
   "metadata": {
    "ExecuteTime": {
     "end_time": "2021-09-29T06:32:32.608889Z",
     "start_time": "2021-09-29T06:32:32.546310Z"
    }
   },
   "outputs": [
    {
     "data": {
      "text/plain": [
       "13.401348790127614"
      ]
     },
     "execution_count": 39,
     "metadata": {},
     "output_type": "execute_result"
    }
   ],
   "source": [
    "MSE(test_target, ridge_predicted)"
   ]
  },
  {
   "cell_type": "code",
   "execution_count": 40,
   "id": "endangered-brown",
   "metadata": {
    "ExecuteTime": {
     "end_time": "2021-09-29T06:37:43.974992Z",
     "start_time": "2021-09-29T06:37:42.363510Z"
    }
   },
   "outputs": [
    {
     "data": {
      "image/png": "[encoded data removed]",
      "text/plain": [
       "<Figure size 432x288 with 1 Axes>"
      ]
     },
     "metadata": {
      "needs_background": "light"
     },
     "output_type": "display_data"
    }
   ],
   "source": [
    "plt.hist(ridge_predicted)\n",
    "plt.show()"
   ]
  },
  {
   "cell_type": "code",
   "execution_count": 50,
   "id": "damaged-participation",
   "metadata": {
    "ExecuteTime": {
     "end_time": "2021-09-29T06:39:54.166129Z",
     "start_time": "2021-09-29T06:39:54.118326Z"
    }
   },
   "outputs": [
    {
     "data": {
      "text/html": [
       "<div>\n",
       "<style scoped>\n",
       "    .dataframe tbody tr th:only-of-type {\n",
       "        vertical-align: middle;\n",
       "    }\n",
       "\n",
       "    .dataframe tbody tr th {\n",
       "        vertical-align: top;\n",
       "    }\n",
       "\n",
       "    .dataframe thead th {\n",
       "        text-align: right;\n",
       "    }\n",
       "</style>\n",
       "<table border=\"1\" class=\"dataframe\">\n",
       "  <thead>\n",
       "    <tr style=\"text-align: right;\">\n",
       "      <th></th>\n",
       "      <th>shop_id</th>\n",
       "      <th>item_id</th>\n",
       "    </tr>\n",
       "  </thead>\n",
       "  <tbody>\n",
       "    <tr>\n",
       "      <th>4531</th>\n",
       "      <td>12</td>\n",
       "      <td>11370</td>\n",
       "    </tr>\n",
       "    <tr>\n",
       "      <th>12915</th>\n",
       "      <td>25</td>\n",
       "      <td>20949</td>\n",
       "    </tr>\n",
       "    <tr>\n",
       "      <th>17224</th>\n",
       "      <td>31</td>\n",
       "      <td>20949</td>\n",
       "    </tr>\n",
       "  </tbody>\n",
       "</table>\n",
       "</div>"
      ],
      "text/plain": [
       "       shop_id  item_id\n",
       "4531        12    11370\n",
       "12915       25    20949\n",
       "17224       31    20949"
      ]
     },
     "execution_count": 50,
     "metadata": {},
     "output_type": "execute_result"
    }
   ],
   "source": [
    "test_X[np.array(ridge_predicted) > 500]"
   ]
  },
  {
   "cell_type": "code",
   "execution_count": 51,
   "id": "governmental-recruitment",
   "metadata": {
    "ExecuteTime": {
     "end_time": "2021-09-29T06:40:00.062548Z",
     "start_time": "2021-09-29T06:39:59.997656Z"
    }
   },
   "outputs": [
    {
     "data": {
      "text/plain": [
       "1085.9536592157317"
      ]
     },
     "execution_count": 51,
     "metadata": {},
     "output_type": "execute_result"
    }
   ],
   "source": [
    "ridge_model.predict_shop_item(12, 11370)"
   ]
  },
  {
   "cell_type": "markdown",
   "id": "familiar-database",
   "metadata": {},
   "source": [
    "### class OnlyEMA"
   ]
  },
  {
   "cell_type": "code",
   "execution_count": 61,
   "id": "closed-heading",
   "metadata": {
    "ExecuteTime": {
     "end_time": "2021-09-29T06:45:44.142883Z",
     "start_time": "2021-09-29T06:45:44.119915Z"
    }
   },
   "outputs": [],
   "source": [
    "class OnlyEMA(MyAbstractModel):\n",
    "    def __init__(self, alpha=0.4):\n",
    "        self.alpha = alpha\n",
    "    def predict_shop_item(self, shop_id, item_id):\n",
    "        try:\n",
    "            ser = list(self.all_series.loc[(shop_id, item_id)])\n",
    "        except KeyError as e:\n",
    "            return 0\n",
    "        return EMA(ser, self.alpha)  "
   ]
  },
  {
   "cell_type": "code",
   "execution_count": 63,
   "id": "novel-angel",
   "metadata": {
    "ExecuteTime": {
     "end_time": "2021-09-29T06:45:50.131658Z",
     "start_time": "2021-09-29T06:45:50.108694Z"
    }
   },
   "outputs": [],
   "source": [
    "ema_model = OnlyEMA()"
   ]
  },
  {
   "cell_type": "code",
   "execution_count": 64,
   "id": "according-perry",
   "metadata": {
    "ExecuteTime": {
     "end_time": "2021-09-29T06:45:55.657712Z",
     "start_time": "2021-09-29T06:45:50.812853Z"
    }
   },
   "outputs": [],
   "source": [
    "ema_model.fit(train_X)"
   ]
  },
  {
   "cell_type": "code",
   "execution_count": 65,
   "id": "private-brake",
   "metadata": {
    "ExecuteTime": {
     "end_time": "2021-09-29T06:45:58.533825Z",
     "start_time": "2021-09-29T06:45:55.657712Z"
    },
    "collapsed": true
   },
   "outputs": [
    {
     "ename": "KeyboardInterrupt",
     "evalue": "",
     "output_type": "error",
     "traceback": [
      "\u001b[1;31m---------------------------------------------------------------------------\u001b[0m",
      "\u001b[1;31mKeyboardInterrupt\u001b[0m                         Traceback (most recent call last)",
      "\u001b[1;32m<ipython-input-65-6a2ca94d31cf>\u001b[0m in \u001b[0;36m<module>\u001b[1;34m\u001b[0m\n\u001b[1;32m----> 1\u001b[1;33m \u001b[0mema_predicted\u001b[0m \u001b[1;33m=\u001b[0m \u001b[0mema_model\u001b[0m\u001b[1;33m.\u001b[0m\u001b[0mpredict\u001b[0m\u001b[1;33m(\u001b[0m\u001b[0mtest_X\u001b[0m\u001b[1;33m)\u001b[0m\u001b[1;33m\u001b[0m\u001b[1;33m\u001b[0m\u001b[0m\n\u001b[0m",
      "\u001b[1;32m<ipython-input-55-ced0a2861226>\u001b[0m in \u001b[0;36mpredict\u001b[1;34m(self, X)\u001b[0m\n\u001b[0;32m     14\u001b[0m \u001b[1;33m\u001b[0m\u001b[0m\n\u001b[0;32m     15\u001b[0m     \u001b[1;32mdef\u001b[0m \u001b[0mpredict\u001b[0m\u001b[1;33m(\u001b[0m\u001b[0mself\u001b[0m\u001b[1;33m,\u001b[0m \u001b[0mX\u001b[0m\u001b[1;33m)\u001b[0m\u001b[1;33m:\u001b[0m\u001b[1;33m\u001b[0m\u001b[1;33m\u001b[0m\u001b[0m\n\u001b[1;32m---> 16\u001b[1;33m         \u001b[1;32mreturn\u001b[0m \u001b[1;33m[\u001b[0m\u001b[0mself\u001b[0m\u001b[1;33m.\u001b[0m\u001b[0mpredict_shop_item\u001b[0m\u001b[1;33m(\u001b[0m\u001b[0mshop_id\u001b[0m\u001b[1;33m,\u001b[0m \u001b[0mitem_id\u001b[0m\u001b[1;33m)\u001b[0m \u001b[1;32mfor\u001b[0m \u001b[0mshop_id\u001b[0m\u001b[1;33m,\u001b[0m \u001b[0mitem_id\u001b[0m \u001b[1;32min\u001b[0m \u001b[0mX\u001b[0m\u001b[1;33m[\u001b[0m\u001b[1;33m[\u001b[0m\u001b[1;34m'shop_id'\u001b[0m\u001b[1;33m,\u001b[0m \u001b[1;34m'item_id'\u001b[0m\u001b[1;33m]\u001b[0m\u001b[1;33m]\u001b[0m\u001b[1;33m.\u001b[0m\u001b[0mvalues\u001b[0m\u001b[1;33m]\u001b[0m\u001b[1;33m\u001b[0m\u001b[1;33m\u001b[0m\u001b[0m\n\u001b[0m",
      "\u001b[1;32m<ipython-input-55-ced0a2861226>\u001b[0m in \u001b[0;36m<listcomp>\u001b[1;34m(.0)\u001b[0m\n\u001b[0;32m     14\u001b[0m \u001b[1;33m\u001b[0m\u001b[0m\n\u001b[0;32m     15\u001b[0m     \u001b[1;32mdef\u001b[0m \u001b[0mpredict\u001b[0m\u001b[1;33m(\u001b[0m\u001b[0mself\u001b[0m\u001b[1;33m,\u001b[0m \u001b[0mX\u001b[0m\u001b[1;33m)\u001b[0m\u001b[1;33m:\u001b[0m\u001b[1;33m\u001b[0m\u001b[1;33m\u001b[0m\u001b[0m\n\u001b[1;32m---> 16\u001b[1;33m         \u001b[1;32mreturn\u001b[0m \u001b[1;33m[\u001b[0m\u001b[0mself\u001b[0m\u001b[1;33m.\u001b[0m\u001b[0mpredict_shop_item\u001b[0m\u001b[1;33m(\u001b[0m\u001b[0mshop_id\u001b[0m\u001b[1;33m,\u001b[0m \u001b[0mitem_id\u001b[0m\u001b[1;33m)\u001b[0m \u001b[1;32mfor\u001b[0m \u001b[0mshop_id\u001b[0m\u001b[1;33m,\u001b[0m \u001b[0mitem_id\u001b[0m \u001b[1;32min\u001b[0m \u001b[0mX\u001b[0m\u001b[1;33m[\u001b[0m\u001b[1;33m[\u001b[0m\u001b[1;34m'shop_id'\u001b[0m\u001b[1;33m,\u001b[0m \u001b[1;34m'item_id'\u001b[0m\u001b[1;33m]\u001b[0m\u001b[1;33m]\u001b[0m\u001b[1;33m.\u001b[0m\u001b[0mvalues\u001b[0m\u001b[1;33m]\u001b[0m\u001b[1;33m\u001b[0m\u001b[1;33m\u001b[0m\u001b[0m\n\u001b[0m",
      "\u001b[1;32m<ipython-input-61-ae1891e9a88c>\u001b[0m in \u001b[0;36mpredict_shop_item\u001b[1;34m(self, shop_id, item_id)\u001b[0m\n\u001b[0;32m      4\u001b[0m     \u001b[1;32mdef\u001b[0m \u001b[0mpredict_shop_item\u001b[0m\u001b[1;33m(\u001b[0m\u001b[0mself\u001b[0m\u001b[1;33m,\u001b[0m \u001b[0mshop_id\u001b[0m\u001b[1;33m,\u001b[0m \u001b[0mitem_id\u001b[0m\u001b[1;33m)\u001b[0m\u001b[1;33m:\u001b[0m\u001b[1;33m\u001b[0m\u001b[1;33m\u001b[0m\u001b[0m\n\u001b[0;32m      5\u001b[0m         \u001b[1;32mtry\u001b[0m\u001b[1;33m:\u001b[0m\u001b[1;33m\u001b[0m\u001b[1;33m\u001b[0m\u001b[0m\n\u001b[1;32m----> 6\u001b[1;33m             \u001b[0mser\u001b[0m \u001b[1;33m=\u001b[0m \u001b[0mlist\u001b[0m\u001b[1;33m(\u001b[0m\u001b[0mself\u001b[0m\u001b[1;33m.\u001b[0m\u001b[0mall_series\u001b[0m\u001b[1;33m.\u001b[0m\u001b[0mloc\u001b[0m\u001b[1;33m[\u001b[0m\u001b[1;33m(\u001b[0m\u001b[0mshop_id\u001b[0m\u001b[1;33m,\u001b[0m \u001b[0mitem_id\u001b[0m\u001b[1;33m)\u001b[0m\u001b[1;33m]\u001b[0m\u001b[1;33m)\u001b[0m\u001b[1;33m\u001b[0m\u001b[1;33m\u001b[0m\u001b[0m\n\u001b[0m\u001b[0;32m      7\u001b[0m         \u001b[1;32mexcept\u001b[0m \u001b[0mKeyError\u001b[0m \u001b[1;32mas\u001b[0m \u001b[0me\u001b[0m\u001b[1;33m:\u001b[0m\u001b[1;33m\u001b[0m\u001b[1;33m\u001b[0m\u001b[0m\n\u001b[0;32m      8\u001b[0m             \u001b[1;32mreturn\u001b[0m \u001b[1;36m0\u001b[0m\u001b[1;33m\u001b[0m\u001b[1;33m\u001b[0m\u001b[0m\n",
      "\u001b[1;32mc:\\users\\user\\appdata\\local\\programs\\python\\python39\\lib\\site-packages\\pandas\\core\\indexing.py\u001b[0m in \u001b[0;36m__getitem__\u001b[1;34m(self, key)\u001b[0m\n\u001b[0;32m    871\u001b[0m                     \u001b[1;31m# AttributeError for IntervalTree get_value\u001b[0m\u001b[1;33m\u001b[0m\u001b[1;33m\u001b[0m\u001b[1;33m\u001b[0m\u001b[0m\n\u001b[0;32m    872\u001b[0m                     \u001b[1;32mpass\u001b[0m\u001b[1;33m\u001b[0m\u001b[1;33m\u001b[0m\u001b[0m\n\u001b[1;32m--> 873\u001b[1;33m             \u001b[1;32mreturn\u001b[0m \u001b[0mself\u001b[0m\u001b[1;33m.\u001b[0m\u001b[0m_getitem_tuple\u001b[0m\u001b[1;33m(\u001b[0m\u001b[0mkey\u001b[0m\u001b[1;33m)\u001b[0m\u001b[1;33m\u001b[0m\u001b[1;33m\u001b[0m\u001b[0m\n\u001b[0m\u001b[0;32m    874\u001b[0m         \u001b[1;32melse\u001b[0m\u001b[1;33m:\u001b[0m\u001b[1;33m\u001b[0m\u001b[1;33m\u001b[0m\u001b[0m\n\u001b[0;32m    875\u001b[0m             \u001b[1;31m# we by definition only have the 0th axis\u001b[0m\u001b[1;33m\u001b[0m\u001b[1;33m\u001b[0m\u001b[1;33m\u001b[0m\u001b[0m\n",
      "\u001b[1;32mc:\\users\\user\\appdata\\local\\programs\\python\\python39\\lib\\site-packages\\pandas\\core\\indexing.py\u001b[0m in \u001b[0;36m_getitem_tuple\u001b[1;34m(self, tup)\u001b[0m\n\u001b[0;32m   1042\u001b[0m     \u001b[1;32mdef\u001b[0m \u001b[0m_getitem_tuple\u001b[0m\u001b[1;33m(\u001b[0m\u001b[0mself\u001b[0m\u001b[1;33m,\u001b[0m \u001b[0mtup\u001b[0m\u001b[1;33m:\u001b[0m \u001b[0mTuple\u001b[0m\u001b[1;33m)\u001b[0m\u001b[1;33m:\u001b[0m\u001b[1;33m\u001b[0m\u001b[1;33m\u001b[0m\u001b[0m\n\u001b[0;32m   1043\u001b[0m         \u001b[1;32mtry\u001b[0m\u001b[1;33m:\u001b[0m\u001b[1;33m\u001b[0m\u001b[1;33m\u001b[0m\u001b[0m\n\u001b[1;32m-> 1044\u001b[1;33m             \u001b[1;32mreturn\u001b[0m \u001b[0mself\u001b[0m\u001b[1;33m.\u001b[0m\u001b[0m_getitem_lowerdim\u001b[0m\u001b[1;33m(\u001b[0m\u001b[0mtup\u001b[0m\u001b[1;33m)\u001b[0m\u001b[1;33m\u001b[0m\u001b[1;33m\u001b[0m\u001b[0m\n\u001b[0m\u001b[0;32m   1045\u001b[0m         \u001b[1;32mexcept\u001b[0m \u001b[0mIndexingError\u001b[0m\u001b[1;33m:\u001b[0m\u001b[1;33m\u001b[0m\u001b[1;33m\u001b[0m\u001b[0m\n\u001b[0;32m   1046\u001b[0m             \u001b[1;32mpass\u001b[0m\u001b[1;33m\u001b[0m\u001b[1;33m\u001b[0m\u001b[0m\n",
      "\u001b[1;32mc:\\users\\user\\appdata\\local\\programs\\python\\python39\\lib\\site-packages\\pandas\\core\\indexing.py\u001b[0m in \u001b[0;36m_getitem_lowerdim\u001b[1;34m(self, tup)\u001b[0m\n\u001b[0;32m    784\u001b[0m                 \u001b[1;31m# We don't need to check for tuples here because those are\u001b[0m\u001b[1;33m\u001b[0m\u001b[1;33m\u001b[0m\u001b[1;33m\u001b[0m\u001b[0m\n\u001b[0;32m    785\u001b[0m                 \u001b[1;31m#  caught by the _is_nested_tuple_indexer check above.\u001b[0m\u001b[1;33m\u001b[0m\u001b[1;33m\u001b[0m\u001b[1;33m\u001b[0m\u001b[0m\n\u001b[1;32m--> 786\u001b[1;33m                 \u001b[0msection\u001b[0m \u001b[1;33m=\u001b[0m \u001b[0mself\u001b[0m\u001b[1;33m.\u001b[0m\u001b[0m_getitem_axis\u001b[0m\u001b[1;33m(\u001b[0m\u001b[0mkey\u001b[0m\u001b[1;33m,\u001b[0m \u001b[0maxis\u001b[0m\u001b[1;33m=\u001b[0m\u001b[0mi\u001b[0m\u001b[1;33m)\u001b[0m\u001b[1;33m\u001b[0m\u001b[1;33m\u001b[0m\u001b[0m\n\u001b[0m\u001b[0;32m    787\u001b[0m \u001b[1;33m\u001b[0m\u001b[0m\n\u001b[0;32m    788\u001b[0m                 \u001b[1;31m# We should never have a scalar section here, because\u001b[0m\u001b[1;33m\u001b[0m\u001b[1;33m\u001b[0m\u001b[1;33m\u001b[0m\u001b[0m\n",
      "\u001b[1;32mc:\\users\\user\\appdata\\local\\programs\\python\\python39\\lib\\site-packages\\pandas\\core\\indexing.py\u001b[0m in \u001b[0;36m_getitem_axis\u001b[1;34m(self, key, axis)\u001b[0m\n\u001b[0;32m   1108\u001b[0m         \u001b[1;31m# fall thru to straight lookup\u001b[0m\u001b[1;33m\u001b[0m\u001b[1;33m\u001b[0m\u001b[1;33m\u001b[0m\u001b[0m\n\u001b[0;32m   1109\u001b[0m         \u001b[0mself\u001b[0m\u001b[1;33m.\u001b[0m\u001b[0m_validate_key\u001b[0m\u001b[1;33m(\u001b[0m\u001b[0mkey\u001b[0m\u001b[1;33m,\u001b[0m \u001b[0maxis\u001b[0m\u001b[1;33m)\u001b[0m\u001b[1;33m\u001b[0m\u001b[1;33m\u001b[0m\u001b[0m\n\u001b[1;32m-> 1110\u001b[1;33m         \u001b[1;32mreturn\u001b[0m \u001b[0mself\u001b[0m\u001b[1;33m.\u001b[0m\u001b[0m_get_label\u001b[0m\u001b[1;33m(\u001b[0m\u001b[0mkey\u001b[0m\u001b[1;33m,\u001b[0m \u001b[0maxis\u001b[0m\u001b[1;33m=\u001b[0m\u001b[0maxis\u001b[0m\u001b[1;33m)\u001b[0m\u001b[1;33m\u001b[0m\u001b[1;33m\u001b[0m\u001b[0m\n\u001b[0m\u001b[0;32m   1111\u001b[0m \u001b[1;33m\u001b[0m\u001b[0m\n\u001b[0;32m   1112\u001b[0m     \u001b[1;32mdef\u001b[0m \u001b[0m_get_slice_axis\u001b[0m\u001b[1;33m(\u001b[0m\u001b[0mself\u001b[0m\u001b[1;33m,\u001b[0m \u001b[0mslice_obj\u001b[0m\u001b[1;33m:\u001b[0m \u001b[0mslice\u001b[0m\u001b[1;33m,\u001b[0m \u001b[0maxis\u001b[0m\u001b[1;33m:\u001b[0m \u001b[0mint\u001b[0m\u001b[1;33m)\u001b[0m\u001b[1;33m:\u001b[0m\u001b[1;33m\u001b[0m\u001b[1;33m\u001b[0m\u001b[0m\n",
      "\u001b[1;32mc:\\users\\user\\appdata\\local\\programs\\python\\python39\\lib\\site-packages\\pandas\\core\\indexing.py\u001b[0m in \u001b[0;36m_get_label\u001b[1;34m(self, label, axis)\u001b[0m\n\u001b[0;32m   1057\u001b[0m     \u001b[1;32mdef\u001b[0m \u001b[0m_get_label\u001b[0m\u001b[1;33m(\u001b[0m\u001b[0mself\u001b[0m\u001b[1;33m,\u001b[0m \u001b[0mlabel\u001b[0m\u001b[1;33m,\u001b[0m \u001b[0maxis\u001b[0m\u001b[1;33m:\u001b[0m \u001b[0mint\u001b[0m\u001b[1;33m)\u001b[0m\u001b[1;33m:\u001b[0m\u001b[1;33m\u001b[0m\u001b[1;33m\u001b[0m\u001b[0m\n\u001b[0;32m   1058\u001b[0m         \u001b[1;31m# GH#5667 this will fail if the label is not present in the axis.\u001b[0m\u001b[1;33m\u001b[0m\u001b[1;33m\u001b[0m\u001b[1;33m\u001b[0m\u001b[0m\n\u001b[1;32m-> 1059\u001b[1;33m         \u001b[1;32mreturn\u001b[0m \u001b[0mself\u001b[0m\u001b[1;33m.\u001b[0m\u001b[0mobj\u001b[0m\u001b[1;33m.\u001b[0m\u001b[0mxs\u001b[0m\u001b[1;33m(\u001b[0m\u001b[0mlabel\u001b[0m\u001b[1;33m,\u001b[0m \u001b[0maxis\u001b[0m\u001b[1;33m=\u001b[0m\u001b[0maxis\u001b[0m\u001b[1;33m)\u001b[0m\u001b[1;33m\u001b[0m\u001b[1;33m\u001b[0m\u001b[0m\n\u001b[0m\u001b[0;32m   1060\u001b[0m \u001b[1;33m\u001b[0m\u001b[0m\n\u001b[0;32m   1061\u001b[0m     \u001b[1;32mdef\u001b[0m \u001b[0m_handle_lowerdim_multi_index_axis0\u001b[0m\u001b[1;33m(\u001b[0m\u001b[0mself\u001b[0m\u001b[1;33m,\u001b[0m \u001b[0mtup\u001b[0m\u001b[1;33m:\u001b[0m \u001b[0mTuple\u001b[0m\u001b[1;33m)\u001b[0m\u001b[1;33m:\u001b[0m\u001b[1;33m\u001b[0m\u001b[1;33m\u001b[0m\u001b[0m\n",
      "\u001b[1;32mc:\\users\\user\\appdata\\local\\programs\\python\\python39\\lib\\site-packages\\pandas\\core\\generic.py\u001b[0m in \u001b[0;36mxs\u001b[1;34m(self, key, axis, level, drop_level)\u001b[0m\n\u001b[0;32m   3487\u001b[0m         \u001b[0mindex\u001b[0m \u001b[1;33m=\u001b[0m \u001b[0mself\u001b[0m\u001b[1;33m.\u001b[0m\u001b[0mindex\u001b[0m\u001b[1;33m\u001b[0m\u001b[1;33m\u001b[0m\u001b[0m\n\u001b[0;32m   3488\u001b[0m         \u001b[1;32mif\u001b[0m \u001b[0misinstance\u001b[0m\u001b[1;33m(\u001b[0m\u001b[0mindex\u001b[0m\u001b[1;33m,\u001b[0m \u001b[0mMultiIndex\u001b[0m\u001b[1;33m)\u001b[0m\u001b[1;33m:\u001b[0m\u001b[1;33m\u001b[0m\u001b[1;33m\u001b[0m\u001b[0m\n\u001b[1;32m-> 3489\u001b[1;33m             \u001b[0mloc\u001b[0m\u001b[1;33m,\u001b[0m \u001b[0mnew_index\u001b[0m \u001b[1;33m=\u001b[0m \u001b[0mself\u001b[0m\u001b[1;33m.\u001b[0m\u001b[0mindex\u001b[0m\u001b[1;33m.\u001b[0m\u001b[0mget_loc_level\u001b[0m\u001b[1;33m(\u001b[0m\u001b[0mkey\u001b[0m\u001b[1;33m,\u001b[0m \u001b[0mdrop_level\u001b[0m\u001b[1;33m=\u001b[0m\u001b[0mdrop_level\u001b[0m\u001b[1;33m)\u001b[0m\u001b[1;33m\u001b[0m\u001b[1;33m\u001b[0m\u001b[0m\n\u001b[0m\u001b[0;32m   3490\u001b[0m         \u001b[1;32melse\u001b[0m\u001b[1;33m:\u001b[0m\u001b[1;33m\u001b[0m\u001b[1;33m\u001b[0m\u001b[0m\n\u001b[0;32m   3491\u001b[0m             \u001b[0mloc\u001b[0m \u001b[1;33m=\u001b[0m \u001b[0mself\u001b[0m\u001b[1;33m.\u001b[0m\u001b[0mindex\u001b[0m\u001b[1;33m.\u001b[0m\u001b[0mget_loc\u001b[0m\u001b[1;33m(\u001b[0m\u001b[0mkey\u001b[0m\u001b[1;33m)\u001b[0m\u001b[1;33m\u001b[0m\u001b[1;33m\u001b[0m\u001b[0m\n",
      "\u001b[1;32mc:\\users\\user\\appdata\\local\\programs\\python\\python39\\lib\\site-packages\\pandas\\core\\indexes\\multi.py\u001b[0m in \u001b[0;36mget_loc_level\u001b[1;34m(self, key, level, drop_level)\u001b[0m\n\u001b[0;32m   2883\u001b[0m                 \u001b[1;32mreturn\u001b[0m \u001b[0mindexer\u001b[0m\u001b[1;33m,\u001b[0m \u001b[0mmaybe_mi_droplevels\u001b[0m\u001b[1;33m(\u001b[0m\u001b[0mindexer\u001b[0m\u001b[1;33m,\u001b[0m \u001b[0milevels\u001b[0m\u001b[1;33m,\u001b[0m \u001b[0mdrop_level\u001b[0m\u001b[1;33m)\u001b[0m\u001b[1;33m\u001b[0m\u001b[1;33m\u001b[0m\u001b[0m\n\u001b[0;32m   2884\u001b[0m         \u001b[1;32melse\u001b[0m\u001b[1;33m:\u001b[0m\u001b[1;33m\u001b[0m\u001b[1;33m\u001b[0m\u001b[0m\n\u001b[1;32m-> 2885\u001b[1;33m             \u001b[0mindexer\u001b[0m \u001b[1;33m=\u001b[0m \u001b[0mself\u001b[0m\u001b[1;33m.\u001b[0m\u001b[0m_get_level_indexer\u001b[0m\u001b[1;33m(\u001b[0m\u001b[0mkey\u001b[0m\u001b[1;33m,\u001b[0m \u001b[0mlevel\u001b[0m\u001b[1;33m=\u001b[0m\u001b[0mlevel\u001b[0m\u001b[1;33m)\u001b[0m\u001b[1;33m\u001b[0m\u001b[1;33m\u001b[0m\u001b[0m\n\u001b[0m\u001b[0;32m   2886\u001b[0m             \u001b[1;32mreturn\u001b[0m \u001b[0mindexer\u001b[0m\u001b[1;33m,\u001b[0m \u001b[0mmaybe_mi_droplevels\u001b[0m\u001b[1;33m(\u001b[0m\u001b[0mindexer\u001b[0m\u001b[1;33m,\u001b[0m \u001b[1;33m[\u001b[0m\u001b[0mlevel\u001b[0m\u001b[1;33m]\u001b[0m\u001b[1;33m,\u001b[0m \u001b[0mdrop_level\u001b[0m\u001b[1;33m)\u001b[0m\u001b[1;33m\u001b[0m\u001b[1;33m\u001b[0m\u001b[0m\n\u001b[0;32m   2887\u001b[0m \u001b[1;33m\u001b[0m\u001b[0m\n",
      "\u001b[1;32mc:\\users\\user\\appdata\\local\\programs\\python\\python39\\lib\\site-packages\\pandas\\core\\indexes\\multi.py\u001b[0m in \u001b[0;36m_get_level_indexer\u001b[1;34m(self, key, level, indexer)\u001b[0m\n\u001b[0;32m   2977\u001b[0m                 \u001b[1;32mreturn\u001b[0m \u001b[0mlocs\u001b[0m\u001b[1;33m\u001b[0m\u001b[1;33m\u001b[0m\u001b[0m\n\u001b[0;32m   2978\u001b[0m \u001b[1;33m\u001b[0m\u001b[0m\n\u001b[1;32m-> 2979\u001b[1;33m             \u001b[0mi\u001b[0m \u001b[1;33m=\u001b[0m \u001b[0mlevel_codes\u001b[0m\u001b[1;33m.\u001b[0m\u001b[0msearchsorted\u001b[0m\u001b[1;33m(\u001b[0m\u001b[0mcode\u001b[0m\u001b[1;33m,\u001b[0m \u001b[0mside\u001b[0m\u001b[1;33m=\u001b[0m\u001b[1;34m\"left\"\u001b[0m\u001b[1;33m)\u001b[0m\u001b[1;33m\u001b[0m\u001b[1;33m\u001b[0m\u001b[0m\n\u001b[0m\u001b[0;32m   2980\u001b[0m             \u001b[0mj\u001b[0m \u001b[1;33m=\u001b[0m \u001b[0mlevel_codes\u001b[0m\u001b[1;33m.\u001b[0m\u001b[0msearchsorted\u001b[0m\u001b[1;33m(\u001b[0m\u001b[0mcode\u001b[0m\u001b[1;33m,\u001b[0m \u001b[0mside\u001b[0m\u001b[1;33m=\u001b[0m\u001b[1;34m\"right\"\u001b[0m\u001b[1;33m)\u001b[0m\u001b[1;33m\u001b[0m\u001b[1;33m\u001b[0m\u001b[0m\n\u001b[0;32m   2981\u001b[0m             \u001b[1;32mif\u001b[0m \u001b[0mi\u001b[0m \u001b[1;33m==\u001b[0m \u001b[0mj\u001b[0m\u001b[1;33m:\u001b[0m\u001b[1;33m\u001b[0m\u001b[1;33m\u001b[0m\u001b[0m\n",
      "\u001b[1;31mKeyboardInterrupt\u001b[0m: "
     ]
    }
   ],
   "source": [
    "ema_predicted = ema_model.predict(test_X)"
   ]
  },
  {
   "cell_type": "code",
   "execution_count": 60,
   "id": "diagnostic-journey",
   "metadata": {
    "ExecuteTime": {
     "end_time": "2021-09-29T06:44:37.107339Z",
     "start_time": "2021-09-29T06:44:37.059626Z"
    }
   },
   "outputs": [
    {
     "data": {
      "text/plain": [
       "12.552665282646151"
      ]
     },
     "execution_count": 60,
     "metadata": {},
     "output_type": "execute_result"
    }
   ],
   "source": [
    "MSE(test_target, ema_predicted)"
   ]
  },
  {
   "cell_type": "code",
   "execution_count": 68,
   "id": "blond-tutorial",
   "metadata": {
    "ExecuteTime": {
     "end_time": "2021-09-29T07:01:36.355503Z",
     "start_time": "2021-09-29T06:52:45.106291Z"
    }
   },
   "outputs": [],
   "source": [
    "mses = []\n",
    "for alpha in np.arange(1, 10) / 10:\n",
    "    ema_model = OnlyEMA(alpha)\n",
    "    ema_model.fit(train_X)\n",
    "    ema_predicted = ema_model.predict(test_X)\n",
    "    mses.append(MSE(test_target, ema_predicted))"
   ]
  },
  {
   "cell_type": "code",
   "execution_count": 69,
   "id": "hawaiian-damage",
   "metadata": {
    "ExecuteTime": {
     "end_time": "2021-09-29T07:01:37.064851Z",
     "start_time": "2021-09-29T07:01:36.355503Z"
    }
   },
   "outputs": [
    {
     "data": {
      "image/png": "[encoded data removed]",
      "text/plain": [
       "<Figure size 432x288 with 1 Axes>"
      ]
     },
     "metadata": {
      "needs_background": "light"
     },
     "output_type": "display_data"
    }
   ],
   "source": [
    "plt.plot(np.arange(1, 10) / 10, mses)\n",
    "plt.show()"
   ]
  },
  {
   "cell_type": "code",
   "execution_count": 71,
   "id": "documentary-worst",
   "metadata": {
    "ExecuteTime": {
     "end_time": "2021-09-29T07:01:56.709021Z",
     "start_time": "2021-09-29T07:01:56.682069Z"
    }
   },
   "outputs": [
    {
     "name": "stdout",
     "output_type": "stream",
     "text": [
      "min mse: 12.49847259200977\n",
      "alpha: 1\n"
     ]
    }
   ],
   "source": [
    "mses = np.array(mses)\n",
    "print('min mse:', mses.min())\n",
    "print('alpha:', mses.argmin())"
   ]
  },
  {
   "cell_type": "markdown",
   "id": "fabulous-battery",
   "metadata": {},
   "source": [
    "### class PartEMAModel"
   ]
  },
  {
   "cell_type": "code",
   "execution_count": 8,
   "id": "controlling-fishing",
   "metadata": {
    "ExecuteTime": {
     "end_time": "2021-09-30T06:26:37.381970Z",
     "start_time": "2021-09-30T06:26:37.349021Z"
    }
   },
   "outputs": [],
   "source": [
    "class PartEMAModel(MyAbstractModel):\n",
    "    def __init__(self, model_init, threshold, window=12, alpha=0.2, *model_args, **model_kwargs):\n",
    "        MyAbstractModel.__init__(self, model_init, *model_args, **model_kwargs)\n",
    "        self.window = window\n",
    "        self.alpha = alpha\n",
    "        self.threshold = threshold\n",
    "    \n",
    "    def predict_shop_item(self, shop_id, item_id):\n",
    "        try:\n",
    "            ser = list(self.all_series.loc[(shop_id, item_id)])\n",
    "        except KeyError as e:\n",
    "            return 0\n",
    "        if all(np.array(ser)[:self.threshold] == 0):\n",
    "            return EMA(ser[self.threshold:], self.alpha)\n",
    "\n",
    "        window_df = pd.DataFrame([ser[k : k + self.window] for k in range(len(ser) - self.window + 1)])\n",
    "        X, y = window_df.drop(columns=[self.window - 1]), window_df[self.window - 1]\n",
    "        \n",
    "        model = self.model_init(*self.model_args, **self.model_kwargs)\n",
    "        model.fit(X, y)\n",
    "        return model.predict(pd.DataFrame([ser[-self.window + 1:]]))[0]"
   ]
  },
  {
   "cell_type": "code",
   "execution_count": 86,
   "id": "refined-moldova",
   "metadata": {
    "ExecuteTime": {
     "end_time": "2021-09-29T07:18:02.439150Z",
     "start_time": "2021-09-29T07:18:02.418181Z"
    }
   },
   "outputs": [],
   "source": [
    "part_ema_model = PartEMAModel(DecisionTreeRegressor, threshold=10, max_depth=6)"
   ]
  },
  {
   "cell_type": "code",
   "execution_count": 87,
   "id": "organized-alfred",
   "metadata": {
    "ExecuteTime": {
     "end_time": "2021-09-29T07:18:07.699351Z",
     "start_time": "2021-09-29T07:18:02.836897Z"
    }
   },
   "outputs": [],
   "source": [
    "part_ema_model.fit(train_X)"
   ]
  },
  {
   "cell_type": "code",
   "execution_count": 88,
   "id": "fitted-locking",
   "metadata": {
    "ExecuteTime": {
     "end_time": "2021-09-29T07:21:12.299796Z",
     "start_time": "2021-09-29T07:18:07.699351Z"
    }
   },
   "outputs": [],
   "source": [
    "part_ema_predicted = part_ema_model.predict(test_X)"
   ]
  },
  {
   "cell_type": "code",
   "execution_count": 89,
   "id": "premier-olympus",
   "metadata": {
    "ExecuteTime": {
     "end_time": "2021-09-29T07:21:12.342424Z",
     "start_time": "2021-09-29T07:21:12.310242Z"
    }
   },
   "outputs": [
    {
     "data": {
      "text/plain": [
       "10.195765297638657"
      ]
     },
     "execution_count": 89,
     "metadata": {},
     "output_type": "execute_result"
    }
   ],
   "source": [
    "MSE(part_ema_predicted, test_target)"
   ]
  },
  {
   "cell_type": "code",
   "execution_count": 102,
   "id": "second-disposition",
   "metadata": {
    "ExecuteTime": {
     "end_time": "2021-09-29T11:54:06.771610Z",
     "start_time": "2021-09-29T11:54:06.747540Z"
    }
   },
   "outputs": [],
   "source": [
    "part_ema_model_2 = PartEMAModel(DecisionTreeRegressor, threshold=20, max_depth=6)"
   ]
  },
  {
   "cell_type": "code",
   "execution_count": 103,
   "id": "enormous-roommate",
   "metadata": {
    "ExecuteTime": {
     "end_time": "2021-09-29T11:54:17.407724Z",
     "start_time": "2021-09-29T11:54:12.131008Z"
    }
   },
   "outputs": [],
   "source": [
    "part_ema_model_2.fit(train_X)"
   ]
  },
  {
   "cell_type": "code",
   "execution_count": 105,
   "id": "absent-group",
   "metadata": {
    "ExecuteTime": {
     "end_time": "2021-09-29T11:58:20.002549Z",
     "start_time": "2021-09-29T11:54:33.296717Z"
    }
   },
   "outputs": [],
   "source": [
    "part_ema_predicted_2 = part_ema_model_2.predict(test_X)"
   ]
  },
  {
   "cell_type": "code",
   "execution_count": 106,
   "id": "numeric-talent",
   "metadata": {
    "ExecuteTime": {
     "end_time": "2021-09-29T11:58:20.061026Z",
     "start_time": "2021-09-29T11:58:20.002549Z"
    }
   },
   "outputs": [
    {
     "data": {
      "text/plain": [
       "10.254528873642665"
      ]
     },
     "execution_count": 106,
     "metadata": {},
     "output_type": "execute_result"
    }
   ],
   "source": [
    "MSE(part_ema_predicted_2, test_target)"
   ]
  },
  {
   "cell_type": "code",
   "execution_count": null,
   "id": "developed-breathing",
   "metadata": {},
   "outputs": [],
   "source": []
  },
  {
   "cell_type": "code",
   "execution_count": null,
   "id": "adjacent-speaking",
   "metadata": {},
   "outputs": [],
   "source": []
  },
  {
   "cell_type": "code",
   "execution_count": 107,
   "id": "pending-mineral",
   "metadata": {
    "ExecuteTime": {
     "end_time": "2021-09-29T15:14:10.156110Z",
     "start_time": "2021-09-29T13:04:13.269934Z"
    }
   },
   "outputs": [],
   "source": [
    "part_ema_mses = []\n",
    "for threshold in range(1, 33):\n",
    "    part_ema_model = PartEMAModel(DecisionTreeRegressor, threshold=threshold, max_depth=6)\n",
    "    part_ema_model.fit(train_X)\n",
    "    part_ema_predicted = part_ema_model.predict(test_X)\n",
    "    part_ema_mses.append(MSE(part_ema_predicted, test_target))"
   ]
  },
  {
   "cell_type": "code",
   "execution_count": 112,
   "id": "reduced-version",
   "metadata": {
    "ExecuteTime": {
     "end_time": "2021-09-29T15:16:02.475568Z",
     "start_time": "2021-09-29T15:16:02.371587Z"
    }
   },
   "outputs": [
    {
     "data": {
      "application/javascript": [
       "/* Put everything inside the global mpl namespace */\n",
       "/* global mpl */\n",
       "window.mpl = {};\n",
       "\n",
       "mpl.get_websocket_type = function () {\n",
       "    if (typeof WebSocket !== 'undefined') {\n",
       "        return WebSocket;\n",
       "    } else if (typeof MozWebSocket !== 'undefined') {\n",
       "        return MozWebSocket;\n",
       "    } else {\n",
       "        alert(\n",
       "            'Your browser does not have WebSocket support. ' +\n",
       "                'Please try Chrome, Safari or Firefox ≥ 6. ' +\n",
       "                'Firefox 4 and 5 are also supported but you ' +\n",
       "                'have to enable WebSockets in about:config.'\n",
       "        );\n",
       "    }\n",
       "};\n",
       "\n",
       "mpl.figure = function (figure_id, websocket, ondownload, parent_element) {\n",
       "    this.id = figure_id;\n",
       "\n",
       "    this.ws = websocket;\n",
       "\n",
       "    this.supports_binary = this.ws.binaryType !== undefined;\n",
       "\n",
       "    if (!this.supports_binary) {\n",
       "        var warnings = document.getElementById('mpl-warnings');\n",
       "        if (warnings) {\n",
       "            warnings.style.display = 'block';\n",
       "            warnings.textContent =\n",
       "                'This browser does not support binary websocket messages. ' +\n",
       "                'Performance may be slow.';\n",
       "        }\n",
       "    }\n",
       "\n",
       "    this.imageObj = new Image();\n",
       "\n",
       "    this.context = undefined;\n",
       "    this.message = undefined;\n",
       "    this.canvas = undefined;\n",
       "    this.rubberband_canvas = undefined;\n",
       "    this.rubberband_context = undefined;\n",
       "    this.format_dropdown = undefined;\n",
       "\n",
       "    this.image_mode = 'full';\n",
       "\n",
       "    this.root = document.createElement('div');\n",
       "    this.root.setAttribute('style', 'display: inline-block');\n",
       "    this._root_extra_style(this.root);\n",
       "\n",
       "    parent_element.appendChild(this.root);\n",
       "\n",
       "    this._init_header(this);\n",
       "    this._init_canvas(this);\n",
       "    this._init_toolbar(this);\n",
       "\n",
       "    var fig = this;\n",
       "\n",
       "    this.waiting = false;\n",
       "\n",
       "    this.ws.onopen = function () {\n",
       "        fig.send_message('supports_binary', { value: fig.supports_binary });\n",
       "        fig.send_message('send_image_mode', {});\n",
       "        if (fig.ratio !== 1) {\n",
       "            fig.send_message('set_dpi_ratio', { dpi_ratio: fig.ratio });\n",
       "        }\n",
       "        fig.send_message('refresh', {});\n",
       "    };\n",
       "\n",
       "    this.imageObj.onload = function () {\n",
       "        if (fig.image_mode === 'full') {\n",
       "            // Full images could contain transparency (where diff images\n",
       "            // almost always do), so we need to clear the canvas so that\n",
       "            // there is no ghosting.\n",
       "            fig.context.clearRect(0, 0, fig.canvas.width, fig.canvas.height);\n",
       "        }\n",
       "        fig.context.drawImage(fig.imageObj, 0, 0);\n",
       "    };\n",
       "\n",
       "    this.imageObj.onunload = function () {\n",
       "        fig.ws.close();\n",
       "    };\n",
       "\n",
       "    this.ws.onmessage = this._make_on_message_function(this);\n",
       "\n",
       "    this.ondownload = ondownload;\n",
       "};\n",
       "\n",
       "mpl.figure.prototype._init_header = function () {\n",
       "    var titlebar = document.createElement('div');\n",
       "    titlebar.classList =\n",
       "        'ui-dialog-titlebar ui-widget-header ui-corner-all ui-helper-clearfix';\n",
       "    var titletext = document.createElement('div');\n",
       "    titletext.classList = 'ui-dialog-title';\n",
       "    titletext.setAttribute(\n",
       "        'style',\n",
       "        'width: 100%; text-align: center; padding: 3px;'\n",
       "    );\n",
       "    titlebar.appendChild(titletext);\n",
       "    this.root.appendChild(titlebar);\n",
       "    this.header = titletext;\n",
       "};\n",
       "\n",
       "mpl.figure.prototype._canvas_extra_style = function (_canvas_div) {};\n",
       "\n",
       "mpl.figure.prototype._root_extra_style = function (_canvas_div) {};\n",
       "\n",
       "mpl.figure.prototype._init_canvas = function () {\n",
       "    var fig = this;\n",
       "\n",
       "    var canvas_div = (this.canvas_div = document.createElement('div'));\n",
       "    canvas_div.setAttribute(\n",
       "        'style',\n",
       "        'border: 1px solid #ddd;' +\n",
       "            'box-sizing: content-box;' +\n",
       "            'clear: both;' +\n",
       "            'min-height: 1px;' +\n",
       "            'min-width: 1px;' +\n",
       "            'outline: 0;' +\n",
       "            'overflow: hidden;' +\n",
       "            'position: relative;' +\n",
       "            'resize: both;'\n",
       "    );\n",
       "\n",
       "    function on_keyboard_event_closure(name) {\n",
       "        return function (event) {\n",
       "            return fig.key_event(event, name);\n",
       "        };\n",
       "    }\n",
       "\n",
       "    canvas_div.addEventListener(\n",
       "        'keydown',\n",
       "        on_keyboard_event_closure('key_press')\n",
       "    );\n",
       "    canvas_div.addEventListener(\n",
       "        'keyup',\n",
       "        on_keyboard_event_closure('key_release')\n",
       "    );\n",
       "\n",
       "    this._canvas_extra_style(canvas_div);\n",
       "    this.root.appendChild(canvas_div);\n",
       "\n",
       "    var canvas = (this.canvas = document.createElement('canvas'));\n",
       "    canvas.classList.add('mpl-canvas');\n",
       "    canvas.setAttribute('style', 'box-sizing: content-box;');\n",
       "\n",
       "    this.context = canvas.getContext('2d');\n",
       "\n",
       "    var backingStore =\n",
       "        this.context.backingStorePixelRatio ||\n",
       "        this.context.webkitBackingStorePixelRatio ||\n",
       "        this.context.mozBackingStorePixelRatio ||\n",
       "        this.context.msBackingStorePixelRatio ||\n",
       "        this.context.oBackingStorePixelRatio ||\n",
       "        this.context.backingStorePixelRatio ||\n",
       "        1;\n",
       "\n",
       "    this.ratio = (window.devicePixelRatio || 1) / backingStore;\n",
       "    if (this.ratio !== 1) {\n",
       "        fig.send_message('set_dpi_ratio', { dpi_ratio: this.ratio });\n",
       "    }\n",
       "\n",
       "    var rubberband_canvas = (this.rubberband_canvas = document.createElement(\n",
       "        'canvas'\n",
       "    ));\n",
       "    rubberband_canvas.setAttribute(\n",
       "        'style',\n",
       "        'box-sizing: content-box; position: absolute; left: 0; top: 0; z-index: 1;'\n",
       "    );\n",
       "\n",
       "    // Apply a ponyfill if ResizeObserver is not implemented by browser.\n",
       "    if (this.ResizeObserver === undefined) {\n",
       "        if (window.ResizeObserver !== undefined) {\n",
       "            this.ResizeObserver = window.ResizeObserver;\n",
       "        } else {\n",
       "            var obs = _JSXTOOLS_RESIZE_OBSERVER({});\n",
       "            this.ResizeObserver = obs.ResizeObserver;\n",
       "        }\n",
       "    }\n",
       "\n",
       "    this.resizeObserverInstance = new this.ResizeObserver(function (entries) {\n",
       "        var nentries = entries.length;\n",
       "        for (var i = 0; i < nentries; i++) {\n",
       "            var entry = entries[i];\n",
       "            var width, height;\n",
       "            if (entry.contentBoxSize) {\n",
       "                if (entry.contentBoxSize instanceof Array) {\n",
       "                    // Chrome 84 implements new version of spec.\n",
       "                    width = entry.contentBoxSize[0].inlineSize;\n",
       "                    height = entry.contentBoxSize[0].blockSize;\n",
       "                } else {\n",
       "                    // Firefox implements old version of spec.\n",
       "                    width = entry.contentBoxSize.inlineSize;\n",
       "                    height = entry.contentBoxSize.blockSize;\n",
       "                }\n",
       "            } else {\n",
       "                // Chrome <84 implements even older version of spec.\n",
       "                width = entry.contentRect.width;\n",
       "                height = entry.contentRect.height;\n",
       "            }\n",
       "\n",
       "            // Keep the size of the canvas and rubber band canvas in sync with\n",
       "            // the canvas container.\n",
       "            if (entry.devicePixelContentBoxSize) {\n",
       "                // Chrome 84 implements new version of spec.\n",
       "                canvas.setAttribute(\n",
       "                    'width',\n",
       "                    entry.devicePixelContentBoxSize[0].inlineSize\n",
       "                );\n",
       "                canvas.setAttribute(\n",
       "                    'height',\n",
       "                    entry.devicePixelContentBoxSize[0].blockSize\n",
       "                );\n",
       "            } else {\n",
       "                canvas.setAttribute('width', width * fig.ratio);\n",
       "                canvas.setAttribute('height', height * fig.ratio);\n",
       "            }\n",
       "            canvas.setAttribute(\n",
       "                'style',\n",
       "                'width: ' + width + 'px; height: ' + height + 'px;'\n",
       "            );\n",
       "\n",
       "            rubberband_canvas.setAttribute('width', width);\n",
       "            rubberband_canvas.setAttribute('height', height);\n",
       "\n",
       "            // And update the size in Python. We ignore the initial 0/0 size\n",
       "            // that occurs as the element is placed into the DOM, which should\n",
       "            // otherwise not happen due to the minimum size styling.\n",
       "            if (width != 0 && height != 0) {\n",
       "                fig.request_resize(width, height);\n",
       "            }\n",
       "        }\n",
       "    });\n",
       "    this.resizeObserverInstance.observe(canvas_div);\n",
       "\n",
       "    function on_mouse_event_closure(name) {\n",
       "        return function (event) {\n",
       "            return fig.mouse_event(event, name);\n",
       "        };\n",
       "    }\n",
       "\n",
       "    rubberband_canvas.addEventListener(\n",
       "        'mousedown',\n",
       "        on_mouse_event_closure('button_press')\n",
       "    );\n",
       "    rubberband_canvas.addEventListener(\n",
       "        'mouseup',\n",
       "        on_mouse_event_closure('button_release')\n",
       "    );\n",
       "    // Throttle sequential mouse events to 1 every 20ms.\n",
       "    rubberband_canvas.addEventListener(\n",
       "        'mousemove',\n",
       "        on_mouse_event_closure('motion_notify')\n",
       "    );\n",
       "\n",
       "    rubberband_canvas.addEventListener(\n",
       "        'mouseenter',\n",
       "        on_mouse_event_closure('figure_enter')\n",
       "    );\n",
       "    rubberband_canvas.addEventListener(\n",
       "        'mouseleave',\n",
       "        on_mouse_event_closure('figure_leave')\n",
       "    );\n",
       "\n",
       "    canvas_div.addEventListener('wheel', function (event) {\n",
       "        if (event.deltaY < 0) {\n",
       "            event.step = 1;\n",
       "        } else {\n",
       "            event.step = -1;\n",
       "        }\n",
       "        on_mouse_event_closure('scroll')(event);\n",
       "    });\n",
       "\n",
       "    canvas_div.appendChild(canvas);\n",
       "    canvas_div.appendChild(rubberband_canvas);\n",
       "\n",
       "    this.rubberband_context = rubberband_canvas.getContext('2d');\n",
       "    this.rubberband_context.strokeStyle = '#000000';\n",
       "\n",
       "    this._resize_canvas = function (width, height, forward) {\n",
       "        if (forward) {\n",
       "            canvas_div.style.width = width + 'px';\n",
       "            canvas_div.style.height = height + 'px';\n",
       "        }\n",
       "    };\n",
       "\n",
       "    // Disable right mouse context menu.\n",
       "    this.rubberband_canvas.addEventListener('contextmenu', function (_e) {\n",
       "        event.preventDefault();\n",
       "        return false;\n",
       "    });\n",
       "\n",
       "    function set_focus() {\n",
       "        canvas.focus();\n",
       "        canvas_div.focus();\n",
       "    }\n",
       "\n",
       "    window.setTimeout(set_focus, 100);\n",
       "};\n",
       "\n",
       "mpl.figure.prototype._init_toolbar = function () {\n",
       "    var fig = this;\n",
       "\n",
       "    var toolbar = document.createElement('div');\n",
       "    toolbar.classList = 'mpl-toolbar';\n",
       "    this.root.appendChild(toolbar);\n",
       "\n",
       "    function on_click_closure(name) {\n",
       "        return function (_event) {\n",
       "            return fig.toolbar_button_onclick(name);\n",
       "        };\n",
       "    }\n",
       "\n",
       "    function on_mouseover_closure(tooltip) {\n",
       "        return function (event) {\n",
       "            if (!event.currentTarget.disabled) {\n",
       "                return fig.toolbar_button_onmouseover(tooltip);\n",
       "            }\n",
       "        };\n",
       "    }\n",
       "\n",
       "    fig.buttons = {};\n",
       "    var buttonGroup = document.createElement('div');\n",
       "    buttonGroup.classList = 'mpl-button-group';\n",
       "    for (var toolbar_ind in mpl.toolbar_items) {\n",
       "        var name = mpl.toolbar_items[toolbar_ind][0];\n",
       "        var tooltip = mpl.toolbar_items[toolbar_ind][1];\n",
       "        var image = mpl.toolbar_items[toolbar_ind][2];\n",
       "        var method_name = mpl.toolbar_items[toolbar_ind][3];\n",
       "\n",
       "        if (!name) {\n",
       "            /* Instead of a spacer, we start a new button group. */\n",
       "            if (buttonGroup.hasChildNodes()) {\n",
       "                toolbar.appendChild(buttonGroup);\n",
       "            }\n",
       "            buttonGroup = document.createElement('div');\n",
       "            buttonGroup.classList = 'mpl-button-group';\n",
       "            continue;\n",
       "        }\n",
       "\n",
       "        var button = (fig.buttons[name] = document.createElement('button'));\n",
       "        button.classList = 'mpl-widget';\n",
       "        button.setAttribute('role', 'button');\n",
       "        button.setAttribute('aria-disabled', 'false');\n",
       "        button.addEventListener('click', on_click_closure(method_name));\n",
       "        button.addEventListener('mouseover', on_mouseover_closure(tooltip));\n",
       "\n",
       "        var icon_img = document.createElement('img');\n",
       "        icon_img.src = '_images/' + image + '.png';\n",
       "        icon_img.srcset = '_images/' + image + '_large.png 2x';\n",
       "        icon_img.alt = tooltip;\n",
       "        button.appendChild(icon_img);\n",
       "\n",
       "        buttonGroup.appendChild(button);\n",
       "    }\n",
       "\n",
       "    if (buttonGroup.hasChildNodes()) {\n",
       "        toolbar.appendChild(buttonGroup);\n",
       "    }\n",
       "\n",
       "    var fmt_picker = document.createElement('select');\n",
       "    fmt_picker.classList = 'mpl-widget';\n",
       "    toolbar.appendChild(fmt_picker);\n",
       "    this.format_dropdown = fmt_picker;\n",
       "\n",
       "    for (var ind in mpl.extensions) {\n",
       "        var fmt = mpl.extensions[ind];\n",
       "        var option = document.createElement('option');\n",
       "        option.selected = fmt === mpl.default_extension;\n",
       "        option.innerHTML = fmt;\n",
       "        fmt_picker.appendChild(option);\n",
       "    }\n",
       "\n",
       "    var status_bar = document.createElement('span');\n",
       "    status_bar.classList = 'mpl-message';\n",
       "    toolbar.appendChild(status_bar);\n",
       "    this.message = status_bar;\n",
       "};\n",
       "\n",
       "mpl.figure.prototype.request_resize = function (x_pixels, y_pixels) {\n",
       "    // Request matplotlib to resize the figure. Matplotlib will then trigger a resize in the client,\n",
       "    // which will in turn request a refresh of the image.\n",
       "    this.send_message('resize', { width: x_pixels, height: y_pixels });\n",
       "};\n",
       "\n",
       "mpl.figure.prototype.send_message = function (type, properties) {\n",
       "    properties['type'] = type;\n",
       "    properties['figure_id'] = this.id;\n",
       "    this.ws.send(JSON.stringify(properties));\n",
       "};\n",
       "\n",
       "mpl.figure.prototype.send_draw_message = function () {\n",
       "    if (!this.waiting) {\n",
       "        this.waiting = true;\n",
       "        this.ws.send(JSON.stringify({ type: 'draw', figure_id: this.id }));\n",
       "    }\n",
       "};\n",
       "\n",
       "mpl.figure.prototype.handle_save = function (fig, _msg) {\n",
       "    var format_dropdown = fig.format_dropdown;\n",
       "    var format = format_dropdown.options[format_dropdown.selectedIndex].value;\n",
       "    fig.ondownload(fig, format);\n",
       "};\n",
       "\n",
       "mpl.figure.prototype.handle_resize = function (fig, msg) {\n",
       "    var size = msg['size'];\n",
       "    if (size[0] !== fig.canvas.width || size[1] !== fig.canvas.height) {\n",
       "        fig._resize_canvas(size[0], size[1], msg['forward']);\n",
       "        fig.send_message('refresh', {});\n",
       "    }\n",
       "};\n",
       "\n",
       "mpl.figure.prototype.handle_rubberband = function (fig, msg) {\n",
       "    var x0 = msg['x0'] / fig.ratio;\n",
       "    var y0 = (fig.canvas.height - msg['y0']) / fig.ratio;\n",
       "    var x1 = msg['x1'] / fig.ratio;\n",
       "    var y1 = (fig.canvas.height - msg['y1']) / fig.ratio;\n",
       "    x0 = Math.floor(x0) + 0.5;\n",
       "    y0 = Math.floor(y0) + 0.5;\n",
       "    x1 = Math.floor(x1) + 0.5;\n",
       "    y1 = Math.floor(y1) + 0.5;\n",
       "    var min_x = Math.min(x0, x1);\n",
       "    var min_y = Math.min(y0, y1);\n",
       "    var width = Math.abs(x1 - x0);\n",
       "    var height = Math.abs(y1 - y0);\n",
       "\n",
       "    fig.rubberband_context.clearRect(\n",
       "        0,\n",
       "        0,\n",
       "        fig.canvas.width / fig.ratio,\n",
       "        fig.canvas.height / fig.ratio\n",
       "    );\n",
       "\n",
       "    fig.rubberband_context.strokeRect(min_x, min_y, width, height);\n",
       "};\n",
       "\n",
       "mpl.figure.prototype.handle_figure_label = function (fig, msg) {\n",
       "    // Updates the figure title.\n",
       "    fig.header.textContent = msg['label'];\n",
       "};\n",
       "\n",
       "mpl.figure.prototype.handle_cursor = function (fig, msg) {\n",
       "    var cursor = msg['cursor'];\n",
       "    switch (cursor) {\n",
       "        case 0:\n",
       "            cursor = 'pointer';\n",
       "            break;\n",
       "        case 1:\n",
       "            cursor = 'default';\n",
       "            break;\n",
       "        case 2:\n",
       "            cursor = 'crosshair';\n",
       "            break;\n",
       "        case 3:\n",
       "            cursor = 'move';\n",
       "            break;\n",
       "    }\n",
       "    fig.rubberband_canvas.style.cursor = cursor;\n",
       "};\n",
       "\n",
       "mpl.figure.prototype.handle_message = function (fig, msg) {\n",
       "    fig.message.textContent = msg['message'];\n",
       "};\n",
       "\n",
       "mpl.figure.prototype.handle_draw = function (fig, _msg) {\n",
       "    // Request the server to send over a new figure.\n",
       "    fig.send_draw_message();\n",
       "};\n",
       "\n",
       "mpl.figure.prototype.handle_image_mode = function (fig, msg) {\n",
       "    fig.image_mode = msg['mode'];\n",
       "};\n",
       "\n",
       "mpl.figure.prototype.handle_history_buttons = function (fig, msg) {\n",
       "    for (var key in msg) {\n",
       "        if (!(key in fig.buttons)) {\n",
       "            continue;\n",
       "        }\n",
       "        fig.buttons[key].disabled = !msg[key];\n",
       "        fig.buttons[key].setAttribute('aria-disabled', !msg[key]);\n",
       "    }\n",
       "};\n",
       "\n",
       "mpl.figure.prototype.handle_navigate_mode = function (fig, msg) {\n",
       "    if (msg['mode'] === 'PAN') {\n",
       "        fig.buttons['Pan'].classList.add('active');\n",
       "        fig.buttons['Zoom'].classList.remove('active');\n",
       "    } else if (msg['mode'] === 'ZOOM') {\n",
       "        fig.buttons['Pan'].classList.remove('active');\n",
       "        fig.buttons['Zoom'].classList.add('active');\n",
       "    } else {\n",
       "        fig.buttons['Pan'].classList.remove('active');\n",
       "        fig.buttons['Zoom'].classList.remove('active');\n",
       "    }\n",
       "};\n",
       "\n",
       "mpl.figure.prototype.updated_canvas_event = function () {\n",
       "    // Called whenever the canvas gets updated.\n",
       "    this.send_message('ack', {});\n",
       "};\n",
       "\n",
       "// A function to construct a web socket function for onmessage handling.\n",
       "// Called in the figure constructor.\n",
       "mpl.figure.prototype._make_on_message_function = function (fig) {\n",
       "    return function socket_on_message(evt) {\n",
       "        if (evt.data instanceof Blob) {\n",
       "            /* FIXME: We get \"Resource interpreted as Image but\n",
       "             * transferred with MIME type text/plain:\" errors on\n",
       "             * Chrome.  But how to set the MIME type?  It doesn't seem\n",
       "             * to be part of the websocket stream */\n",
       "            evt.data.type = 'image/png';\n",
       "\n",
       "            /* Free the memory for the previous frames */\n",
       "            if (fig.imageObj.src) {\n",
       "                (window.URL || window.webkitURL).revokeObjectURL(\n",
       "                    fig.imageObj.src\n",
       "                );\n",
       "            }\n",
       "\n",
       "            fig.imageObj.src = (window.URL || window.webkitURL).createObjectURL(\n",
       "                evt.data\n",
       "            );\n",
       "            fig.updated_canvas_event();\n",
       "            fig.waiting = false;\n",
       "            return;\n",
       "        } else if (\n",
       "            typeof evt.data === 'string' &&\n",
       "            evt.data.slice(0, 21) === 'data:image/png;base64'\n",
       "        ) {\n",
       "            fig.imageObj.src = evt.data;\n",
       "            fig.updated_canvas_event();\n",
       "            fig.waiting = false;\n",
       "            return;\n",
       "        }\n",
       "\n",
       "        var msg = JSON.parse(evt.data);\n",
       "        var msg_type = msg['type'];\n",
       "\n",
       "        // Call the  \"handle_{type}\" callback, which takes\n",
       "        // the figure and JSON message as its only arguments.\n",
       "        try {\n",
       "            var callback = fig['handle_' + msg_type];\n",
       "        } catch (e) {\n",
       "            console.log(\n",
       "                \"No handler for the '\" + msg_type + \"' message type: \",\n",
       "                msg\n",
       "            );\n",
       "            return;\n",
       "        }\n",
       "\n",
       "        if (callback) {\n",
       "            try {\n",
       "                // console.log(\"Handling '\" + msg_type + \"' message: \", msg);\n",
       "                callback(fig, msg);\n",
       "            } catch (e) {\n",
       "                console.log(\n",
       "                    \"Exception inside the 'handler_\" + msg_type + \"' callback:\",\n",
       "                    e,\n",
       "                    e.stack,\n",
       "                    msg\n",
       "                );\n",
       "            }\n",
       "        }\n",
       "    };\n",
       "};\n",
       "\n",
       "// from http://stackoverflow.com/questions/1114465/getting-mouse-location-in-canvas\n",
       "mpl.findpos = function (e) {\n",
       "    //this section is from http://www.quirksmode.org/js/events_properties.html\n",
       "    var targ;\n",
       "    if (!e) {\n",
       "        e = window.event;\n",
       "    }\n",
       "    if (e.target) {\n",
       "        targ = e.target;\n",
       "    } else if (e.srcElement) {\n",
       "        targ = e.srcElement;\n",
       "    }\n",
       "    if (targ.nodeType === 3) {\n",
       "        // defeat Safari bug\n",
       "        targ = targ.parentNode;\n",
       "    }\n",
       "\n",
       "    // pageX,Y are the mouse positions relative to the document\n",
       "    var boundingRect = targ.getBoundingClientRect();\n",
       "    var x = e.pageX - (boundingRect.left + document.body.scrollLeft);\n",
       "    var y = e.pageY - (boundingRect.top + document.body.scrollTop);\n",
       "\n",
       "    return { x: x, y: y };\n",
       "};\n",
       "\n",
       "/*\n",
       " * return a copy of an object with only non-object keys\n",
       " * we need this to avoid circular references\n",
       " * http://stackoverflow.com/a/24161582/3208463\n",
       " */\n",
       "function simpleKeys(original) {\n",
       "    return Object.keys(original).reduce(function (obj, key) {\n",
       "        if (typeof original[key] !== 'object') {\n",
       "            obj[key] = original[key];\n",
       "        }\n",
       "        return obj;\n",
       "    }, {});\n",
       "}\n",
       "\n",
       "mpl.figure.prototype.mouse_event = function (event, name) {\n",
       "    var canvas_pos = mpl.findpos(event);\n",
       "\n",
       "    if (name === 'button_press') {\n",
       "        this.canvas.focus();\n",
       "        this.canvas_div.focus();\n",
       "    }\n",
       "\n",
       "    var x = canvas_pos.x * this.ratio;\n",
       "    var y = canvas_pos.y * this.ratio;\n",
       "\n",
       "    this.send_message(name, {\n",
       "        x: x,\n",
       "        y: y,\n",
       "        button: event.button,\n",
       "        step: event.step,\n",
       "        guiEvent: simpleKeys(event),\n",
       "    });\n",
       "\n",
       "    /* This prevents the web browser from automatically changing to\n",
       "     * the text insertion cursor when the button is pressed.  We want\n",
       "     * to control all of the cursor setting manually through the\n",
       "     * 'cursor' event from matplotlib */\n",
       "    event.preventDefault();\n",
       "    return false;\n",
       "};\n",
       "\n",
       "mpl.figure.prototype._key_event_extra = function (_event, _name) {\n",
       "    // Handle any extra behaviour associated with a key event\n",
       "};\n",
       "\n",
       "mpl.figure.prototype.key_event = function (event, name) {\n",
       "    // Prevent repeat events\n",
       "    if (name === 'key_press') {\n",
       "        if (event.which === this._key) {\n",
       "            return;\n",
       "        } else {\n",
       "            this._key = event.which;\n",
       "        }\n",
       "    }\n",
       "    if (name === 'key_release') {\n",
       "        this._key = null;\n",
       "    }\n",
       "\n",
       "    var value = '';\n",
       "    if (event.ctrlKey && event.which !== 17) {\n",
       "        value += 'ctrl+';\n",
       "    }\n",
       "    if (event.altKey && event.which !== 18) {\n",
       "        value += 'alt+';\n",
       "    }\n",
       "    if (event.shiftKey && event.which !== 16) {\n",
       "        value += 'shift+';\n",
       "    }\n",
       "\n",
       "    value += 'k';\n",
       "    value += event.which.toString();\n",
       "\n",
       "    this._key_event_extra(event, name);\n",
       "\n",
       "    this.send_message(name, { key: value, guiEvent: simpleKeys(event) });\n",
       "    return false;\n",
       "};\n",
       "\n",
       "mpl.figure.prototype.toolbar_button_onclick = function (name) {\n",
       "    if (name === 'download') {\n",
       "        this.handle_save(this, null);\n",
       "    } else {\n",
       "        this.send_message('toolbar_button', { name: name });\n",
       "    }\n",
       "};\n",
       "\n",
       "mpl.figure.prototype.toolbar_button_onmouseover = function (tooltip) {\n",
       "    this.message.textContent = tooltip;\n",
       "};\n",
       "\n",
       "///////////////// REMAINING CONTENT GENERATED BY embed_js.py /////////////////\n",
       "// prettier-ignore\n",
       "var _JSXTOOLS_RESIZE_OBSERVER=function(A){var t,i=new WeakMap,n=new WeakMap,a=new WeakMap,r=new WeakMap,o=new Set;function s(e){if(!(this instanceof s))throw new TypeError(\"Constructor requires 'new' operator\");i.set(this,e)}function h(){throw new TypeError(\"Function is not a constructor\")}function c(e,t,i,n){e=0 in arguments?Number(arguments[0]):0,t=1 in arguments?Number(arguments[1]):0,i=2 in arguments?Number(arguments[2]):0,n=3 in arguments?Number(arguments[3]):0,this.right=(this.x=this.left=e)+(this.width=i),this.bottom=(this.y=this.top=t)+(this.height=n),Object.freeze(this)}function d(){t=requestAnimationFrame(d);var s=new WeakMap,p=new Set;o.forEach((function(t){r.get(t).forEach((function(i){var r=t instanceof window.SVGElement,o=a.get(t),d=r?0:parseFloat(o.paddingTop),f=r?0:parseFloat(o.paddingRight),l=r?0:parseFloat(o.paddingBottom),u=r?0:parseFloat(o.paddingLeft),g=r?0:parseFloat(o.borderTopWidth),m=r?0:parseFloat(o.borderRightWidth),w=r?0:parseFloat(o.borderBottomWidth),b=u+f,F=d+l,v=(r?0:parseFloat(o.borderLeftWidth))+m,W=g+w,y=r?0:t.offsetHeight-W-t.clientHeight,E=r?0:t.offsetWidth-v-t.clientWidth,R=b+v,z=F+W,M=r?t.width:parseFloat(o.width)-R-E,O=r?t.height:parseFloat(o.height)-z-y;if(n.has(t)){var k=n.get(t);if(k[0]===M&&k[1]===O)return}n.set(t,[M,O]);var S=Object.create(h.prototype);S.target=t,S.contentRect=new c(u,d,M,O),s.has(i)||(s.set(i,[]),p.add(i)),s.get(i).push(S)}))})),p.forEach((function(e){i.get(e).call(e,s.get(e),e)}))}return s.prototype.observe=function(i){if(i instanceof window.Element){r.has(i)||(r.set(i,new Set),o.add(i),a.set(i,window.getComputedStyle(i)));var n=r.get(i);n.has(this)||n.add(this),cancelAnimationFrame(t),t=requestAnimationFrame(d)}},s.prototype.unobserve=function(i){if(i instanceof window.Element&&r.has(i)){var n=r.get(i);n.has(this)&&(n.delete(this),n.size||(r.delete(i),o.delete(i))),n.size||r.delete(i),o.size||cancelAnimationFrame(t)}},A.DOMRectReadOnly=c,A.ResizeObserver=s,A.ResizeObserverEntry=h,A}; // eslint-disable-line\n",
       "mpl.toolbar_items = [[\"Home\", \"Reset original view\", \"fa fa-home icon-home\", \"home\"], [\"Back\", \"Back to previous view\", \"fa fa-arrow-left icon-arrow-left\", \"back\"], [\"Forward\", \"Forward to next view\", \"fa fa-arrow-right icon-arrow-right\", \"forward\"], [\"\", \"\", \"\", \"\"], [\"Pan\", \"Left button pans, Right button zooms\\nx/y fixes axis, CTRL fixes aspect\", \"fa fa-arrows icon-move\", \"pan\"], [\"Zoom\", \"Zoom to rectangle\\nx/y fixes axis, CTRL fixes aspect\", \"fa fa-square-o icon-check-empty\", \"zoom\"], [\"\", \"\", \"\", \"\"], [\"Download\", \"Download plot\", \"fa fa-floppy-o icon-save\", \"download\"]];\n",
       "\n",
       "mpl.extensions = [\"eps\", \"jpeg\", \"pdf\", \"png\", \"ps\", \"raw\", \"svg\", \"tif\"];\n",
       "\n",
       "mpl.default_extension = \"png\";/* global mpl */\n",
       "\n",
       "var comm_websocket_adapter = function (comm) {\n",
       "    // Create a \"websocket\"-like object which calls the given IPython comm\n",
       "    // object with the appropriate methods. Currently this is a non binary\n",
       "    // socket, so there is still some room for performance tuning.\n",
       "    var ws = {};\n",
       "\n",
       "    ws.close = function () {\n",
       "        comm.close();\n",
       "    };\n",
       "    ws.send = function (m) {\n",
       "        //console.log('sending', m);\n",
       "        comm.send(m);\n",
       "    };\n",
       "    // Register the callback with on_msg.\n",
       "    comm.on_msg(function (msg) {\n",
       "        //console.log('receiving', msg['content']['data'], msg);\n",
       "        // Pass the mpl event to the overridden (by mpl) onmessage function.\n",
       "        ws.onmessage(msg['content']['data']);\n",
       "    });\n",
       "    return ws;\n",
       "};\n",
       "\n",
       "mpl.mpl_figure_comm = function (comm, msg) {\n",
       "    // This is the function which gets called when the mpl process\n",
       "    // starts-up an IPython Comm through the \"matplotlib\" channel.\n",
       "\n",
       "    var id = msg.content.data.id;\n",
       "    // Get hold of the div created by the display call when the Comm\n",
       "    // socket was opened in Python.\n",
       "    var element = document.getElementById(id);\n",
       "    var ws_proxy = comm_websocket_adapter(comm);\n",
       "\n",
       "    function ondownload(figure, _format) {\n",
       "        window.open(figure.canvas.toDataURL());\n",
       "    }\n",
       "\n",
       "    var fig = new mpl.figure(id, ws_proxy, ondownload, element);\n",
       "\n",
       "    // Call onopen now - mpl needs it, as it is assuming we've passed it a real\n",
       "    // web socket which is closed, not our websocket->open comm proxy.\n",
       "    ws_proxy.onopen();\n",
       "\n",
       "    fig.parent_element = element;\n",
       "    fig.cell_info = mpl.find_output_cell(\"<div id='\" + id + \"'></div>\");\n",
       "    if (!fig.cell_info) {\n",
       "        console.error('Failed to find cell for figure', id, fig);\n",
       "        return;\n",
       "    }\n",
       "    fig.cell_info[0].output_area.element.on(\n",
       "        'cleared',\n",
       "        { fig: fig },\n",
       "        fig._remove_fig_handler\n",
       "    );\n",
       "};\n",
       "\n",
       "mpl.figure.prototype.handle_close = function (fig, msg) {\n",
       "    var width = fig.canvas.width / fig.ratio;\n",
       "    fig.cell_info[0].output_area.element.off(\n",
       "        'cleared',\n",
       "        fig._remove_fig_handler\n",
       "    );\n",
       "    fig.resizeObserverInstance.unobserve(fig.canvas_div);\n",
       "\n",
       "    // Update the output cell to use the data from the current canvas.\n",
       "    fig.push_to_output();\n",
       "    var dataURL = fig.canvas.toDataURL();\n",
       "    // Re-enable the keyboard manager in IPython - without this line, in FF,\n",
       "    // the notebook keyboard shortcuts fail.\n",
       "    IPython.keyboard_manager.enable();\n",
       "    fig.parent_element.innerHTML =\n",
       "        '<img src=\"' + dataURL + '\" width=\"' + width + '\">';\n",
       "    fig.close_ws(fig, msg);\n",
       "};\n",
       "\n",
       "mpl.figure.prototype.close_ws = function (fig, msg) {\n",
       "    fig.send_message('closing', msg);\n",
       "    // fig.ws.close()\n",
       "};\n",
       "\n",
       "mpl.figure.prototype.push_to_output = function (_remove_interactive) {\n",
       "    // Turn the data on the canvas into data in the output cell.\n",
       "    var width = this.canvas.width / this.ratio;\n",
       "    var dataURL = this.canvas.toDataURL();\n",
       "    this.cell_info[1]['text/html'] =\n",
       "        '<img src=\"' + dataURL + '\" width=\"' + width + '\">';\n",
       "};\n",
       "\n",
       "mpl.figure.prototype.updated_canvas_event = function () {\n",
       "    // Tell IPython that the notebook contents must change.\n",
       "    IPython.notebook.set_dirty(true);\n",
       "    this.send_message('ack', {});\n",
       "    var fig = this;\n",
       "    // Wait a second, then push the new image to the DOM so\n",
       "    // that it is saved nicely (might be nice to debounce this).\n",
       "    setTimeout(function () {\n",
       "        fig.push_to_output();\n",
       "    }, 1000);\n",
       "};\n",
       "\n",
       "mpl.figure.prototype._init_toolbar = function () {\n",
       "    var fig = this;\n",
       "\n",
       "    var toolbar = document.createElement('div');\n",
       "    toolbar.classList = 'btn-toolbar';\n",
       "    this.root.appendChild(toolbar);\n",
       "\n",
       "    function on_click_closure(name) {\n",
       "        return function (_event) {\n",
       "            return fig.toolbar_button_onclick(name);\n",
       "        };\n",
       "    }\n",
       "\n",
       "    function on_mouseover_closure(tooltip) {\n",
       "        return function (event) {\n",
       "            if (!event.currentTarget.disabled) {\n",
       "                return fig.toolbar_button_onmouseover(tooltip);\n",
       "            }\n",
       "        };\n",
       "    }\n",
       "\n",
       "    fig.buttons = {};\n",
       "    var buttonGroup = document.createElement('div');\n",
       "    buttonGroup.classList = 'btn-group';\n",
       "    var button;\n",
       "    for (var toolbar_ind in mpl.toolbar_items) {\n",
       "        var name = mpl.toolbar_items[toolbar_ind][0];\n",
       "        var tooltip = mpl.toolbar_items[toolbar_ind][1];\n",
       "        var image = mpl.toolbar_items[toolbar_ind][2];\n",
       "        var method_name = mpl.toolbar_items[toolbar_ind][3];\n",
       "\n",
       "        if (!name) {\n",
       "            /* Instead of a spacer, we start a new button group. */\n",
       "            if (buttonGroup.hasChildNodes()) {\n",
       "                toolbar.appendChild(buttonGroup);\n",
       "            }\n",
       "            buttonGroup = document.createElement('div');\n",
       "            buttonGroup.classList = 'btn-group';\n",
       "            continue;\n",
       "        }\n",
       "\n",
       "        button = fig.buttons[name] = document.createElement('button');\n",
       "        button.classList = 'btn btn-default';\n",
       "        button.href = '#';\n",
       "        button.title = name;\n",
       "        button.innerHTML = '<i class=\"fa ' + image + ' fa-lg\"></i>';\n",
       "        button.addEventListener('click', on_click_closure(method_name));\n",
       "        button.addEventListener('mouseover', on_mouseover_closure(tooltip));\n",
       "        buttonGroup.appendChild(button);\n",
       "    }\n",
       "\n",
       "    if (buttonGroup.hasChildNodes()) {\n",
       "        toolbar.appendChild(buttonGroup);\n",
       "    }\n",
       "\n",
       "    // Add the status bar.\n",
       "    var status_bar = document.createElement('span');\n",
       "    status_bar.classList = 'mpl-message pull-right';\n",
       "    toolbar.appendChild(status_bar);\n",
       "    this.message = status_bar;\n",
       "\n",
       "    // Add the close button to the window.\n",
       "    var buttongrp = document.createElement('div');\n",
       "    buttongrp.classList = 'btn-group inline pull-right';\n",
       "    button = document.createElement('button');\n",
       "    button.classList = 'btn btn-mini btn-primary';\n",
       "    button.href = '#';\n",
       "    button.title = 'Stop Interaction';\n",
       "    button.innerHTML = '<i class=\"fa fa-power-off icon-remove icon-large\"></i>';\n",
       "    button.addEventListener('click', function (_evt) {\n",
       "        fig.handle_close(fig, {});\n",
       "    });\n",
       "    button.addEventListener(\n",
       "        'mouseover',\n",
       "        on_mouseover_closure('Stop Interaction')\n",
       "    );\n",
       "    buttongrp.appendChild(button);\n",
       "    var titlebar = this.root.querySelector('.ui-dialog-titlebar');\n",
       "    titlebar.insertBefore(buttongrp, titlebar.firstChild);\n",
       "};\n",
       "\n",
       "mpl.figure.prototype._remove_fig_handler = function (event) {\n",
       "    var fig = event.data.fig;\n",
       "    if (event.target !== this) {\n",
       "        // Ignore bubbled events from children.\n",
       "        return;\n",
       "    }\n",
       "    fig.close_ws(fig, {});\n",
       "};\n",
       "\n",
       "mpl.figure.prototype._root_extra_style = function (el) {\n",
       "    el.style.boxSizing = 'content-box'; // override notebook setting of border-box.\n",
       "};\n",
       "\n",
       "mpl.figure.prototype._canvas_extra_style = function (el) {\n",
       "    // this is important to make the div 'focusable\n",
       "    el.setAttribute('tabindex', 0);\n",
       "    // reach out to IPython and tell the keyboard manager to turn it's self\n",
       "    // off when our div gets focus\n",
       "\n",
       "    // location in version 3\n",
       "    if (IPython.notebook.keyboard_manager) {\n",
       "        IPython.notebook.keyboard_manager.register_events(el);\n",
       "    } else {\n",
       "        // location in version 2\n",
       "        IPython.keyboard_manager.register_events(el);\n",
       "    }\n",
       "};\n",
       "\n",
       "mpl.figure.prototype._key_event_extra = function (event, _name) {\n",
       "    var manager = IPython.notebook.keyboard_manager;\n",
       "    if (!manager) {\n",
       "        manager = IPython.keyboard_manager;\n",
       "    }\n",
       "\n",
       "    // Check for shift+enter\n",
       "    if (event.shiftKey && event.which === 13) {\n",
       "        this.canvas_div.blur();\n",
       "        // select the cell after this one\n",
       "        var index = IPython.notebook.find_cell_index(this.cell_info[0]);\n",
       "        IPython.notebook.select(index + 1);\n",
       "    }\n",
       "};\n",
       "\n",
       "mpl.figure.prototype.handle_save = function (fig, _msg) {\n",
       "    fig.ondownload(fig, null);\n",
       "};\n",
       "\n",
       "mpl.find_output_cell = function (html_output) {\n",
       "    // Return the cell and output element which can be found *uniquely* in the notebook.\n",
       "    // Note - this is a bit hacky, but it is done because the \"notebook_saving.Notebook\"\n",
       "    // IPython event is triggered only after the cells have been serialised, which for\n",
       "    // our purposes (turning an active figure into a static one), is too late.\n",
       "    var cells = IPython.notebook.get_cells();\n",
       "    var ncells = cells.length;\n",
       "    for (var i = 0; i < ncells; i++) {\n",
       "        var cell = cells[i];\n",
       "        if (cell.cell_type === 'code') {\n",
       "            for (var j = 0; j < cell.output_area.outputs.length; j++) {\n",
       "                var data = cell.output_area.outputs[j];\n",
       "                if (data.data) {\n",
       "                    // IPython >= 3 moved mimebundle to data attribute of output\n",
       "                    data = data.data;\n",
       "                }\n",
       "                if (data['text/html'] === html_output) {\n",
       "                    return [cell, data, j];\n",
       "                }\n",
       "            }\n",
       "        }\n",
       "    }\n",
       "};\n",
       "\n",
       "// Register the function which deals with the matplotlib target/channel.\n",
       "// The kernel may be null if the page has been refreshed.\n",
       "if (IPython.notebook.kernel !== null) {\n",
       "    IPython.notebook.kernel.comm_manager.register_target(\n",
       "        'matplotlib',\n",
       "        mpl.mpl_figure_comm\n",
       "    );\n",
       "}\n"
      ],
      "text/plain": [
       "<IPython.core.display.Javascript object>"
      ]
     },
     "metadata": {},
     "output_type": "display_data"
    },
    {
     "data": {
      "text/html": [
       "<img src=\"data:image/png;base64,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\" width=\"640\">"
      ],
      "text/plain": [
       "<IPython.core.display.HTML object>"
      ]
     },
     "metadata": {},
     "output_type": "display_data"
    }
   ],
   "source": [
    "plt.plot(range(1, 33), part_ema_mses)\n",
    "plt.show()"
   ]
  },
  {
   "cell_type": "code",
   "execution_count": 109,
   "id": "assisted-radar",
   "metadata": {
    "ExecuteTime": {
     "end_time": "2021-09-29T15:14:10.550009Z",
     "start_time": "2021-09-29T15:14:10.513922Z"
    }
   },
   "outputs": [
    {
     "data": {
      "text/plain": [
       "10.012887571669099"
      ]
     },
     "execution_count": 109,
     "metadata": {},
     "output_type": "execute_result"
    }
   ],
   "source": [
    "part_ema_mses = np.array(part_ema_mses)\n",
    "part_ema_mses.min()"
   ]
  },
  {
   "cell_type": "code",
   "execution_count": 110,
   "id": "virgin-enforcement",
   "metadata": {
    "ExecuteTime": {
     "end_time": "2021-09-29T15:14:10.590281Z",
     "start_time": "2021-09-29T15:14:10.558280Z"
    }
   },
   "outputs": [
    {
     "data": {
      "text/plain": [
       "1"
      ]
     },
     "execution_count": 110,
     "metadata": {},
     "output_type": "execute_result"
    }
   ],
   "source": [
    "part_ema_mses.argmin()"
   ]
  },
  {
   "cell_type": "code",
   "execution_count": 113,
   "id": "spanish-grass",
   "metadata": {
    "ExecuteTime": {
     "end_time": "2021-09-29T15:16:45.605477Z",
     "start_time": "2021-09-29T15:16:45.573868Z"
    }
   },
   "outputs": [
    {
     "data": {
      "text/plain": [
       "array([10.07823778, 10.01288757, 12.98915311, 10.15492798, 10.31857908,\n",
       "       10.33531247, 10.4571842 , 10.13784233, 13.26140228, 10.19948988,\n",
       "       10.16729846, 10.50736734, 10.36327664, 10.41079509, 13.35792667,\n",
       "       10.61605286, 10.27766116, 10.36860359, 13.26077024, 10.35419101,\n",
       "       10.38220146, 10.34867258, 10.3041026 , 10.46287163, 10.37136145,\n",
       "       10.40970574, 11.02757525, 10.64214089, 10.57695813, 10.41717924,\n",
       "       10.44128837, 10.56203643])"
      ]
     },
     "execution_count": 113,
     "metadata": {},
     "output_type": "execute_result"
    }
   ],
   "source": []
  },
  {
   "cell_type": "code",
   "execution_count": 115,
   "id": "imported-middle",
   "metadata": {
    "ExecuteTime": {
     "end_time": "2021-09-29T15:21:52.363067Z",
     "start_time": "2021-09-29T15:17:54.739565Z"
    }
   },
   "outputs": [
    {
     "data": {
      "text/plain": [
       "13.294193319326052"
      ]
     },
     "execution_count": 115,
     "metadata": {},
     "output_type": "execute_result"
    }
   ],
   "source": [
    "part_ema_model_2 = PartEMAModel(DecisionTreeRegressor, threshold=20, max_depth=6)\n",
    "part_ema_model_2.fit(train_X)\n",
    "part_ema_predicted_2 = part_ema_model_2.predict(test_X)\n",
    "MSE(part_ema_predicted_2, test_target)"
   ]
  },
  {
   "cell_type": "code",
   "execution_count": 116,
   "id": "broadband-ridge",
   "metadata": {
    "ExecuteTime": {
     "end_time": "2021-09-29T15:26:00.507539Z",
     "start_time": "2021-09-29T15:21:52.368606Z"
    }
   },
   "outputs": [
    {
     "data": {
      "text/plain": [
       "13.205236282105133"
      ]
     },
     "execution_count": 116,
     "metadata": {},
     "output_type": "execute_result"
    }
   ],
   "source": [
    "part_ema_model_2 = PartEMAModel(DecisionTreeRegressor, threshold=20, max_depth=6)\n",
    "part_ema_model_2.fit(train_X)\n",
    "part_ema_predicted_2 = part_ema_model_2.predict(test_X)\n",
    "MSE(part_ema_predicted_2, test_target)"
   ]
  },
  {
   "cell_type": "markdown",
   "id": "empirical-success",
   "metadata": {},
   "source": [
    "### class PartEMAAndConstModel"
   ]
  },
  {
   "cell_type": "code",
   "execution_count": 28,
   "id": "desirable-finish",
   "metadata": {
    "ExecuteTime": {
     "end_time": "2021-09-30T06:36:16.758218Z",
     "start_time": "2021-09-30T06:36:16.731267Z"
    }
   },
   "outputs": [],
   "source": [
    "class PartEMAAndConstModel(MyAbstractModel):\n",
    "    def __init__(self, model_init, ema_threshold, const_threshold, window=12, alpha=0.4, *model_args, **model_kwargs):\n",
    "        MyAbstractModel.__init__(self, model_init, *model_args, **model_kwargs)\n",
    "        self.window = window\n",
    "        self.ema_threshold = ema_threshold\n",
    "        self.const_threshold = const_threshold\n",
    "        self.alpha = alpha\n",
    "    \n",
    "    def predict_shop_item(self, shop_id, item_id):\n",
    "        try:\n",
    "            ser = list(self.all_series.loc[(shop_id, item_id)])\n",
    "        except KeyError as e:\n",
    "            return 0\n",
    "        \n",
    "        if all(np.array(ser)[self.const_threshold:] == 0):\n",
    "            return 0\n",
    "        \n",
    "        if all(np.array(ser)[:self.ema_threshold] == 0):\n",
    "            return EMA(ser[self.ema_threshold:], self.alpha)\n",
    "\n",
    "        window_df = pd.DataFrame([ser[k : k + self.window] for k in range(len(ser) - self.window + 1)])\n",
    "        X, y = window_df.drop(columns=[self.window - 1]), window_df[self.window - 1]\n",
    "        \n",
    "        model = self.model_init(*self.model_args, **self.model_kwargs)\n",
    "        model.fit(X, y)\n",
    "        return model.predict(pd.DataFrame([ser[-self.window + 1:]]))[0]        "
   ]
  },
  {
   "cell_type": "code",
   "execution_count": 29,
   "id": "planned-bacon",
   "metadata": {
    "ExecuteTime": {
     "end_time": "2021-09-30T06:36:17.635831Z",
     "start_time": "2021-09-30T06:36:17.594899Z"
    }
   },
   "outputs": [],
   "source": [
    "part_ema_and_const_model = PartEMAAndConstModel(DecisionTreeRegressor, 2, -4, max_depth=6)"
   ]
  },
  {
   "cell_type": "code",
   "execution_count": 30,
   "id": "proved-sigma",
   "metadata": {
    "ExecuteTime": {
     "end_time": "2021-09-30T06:36:22.852211Z",
     "start_time": "2021-09-30T06:36:18.000272Z"
    }
   },
   "outputs": [],
   "source": [
    "part_ema_and_const_model.fit(train_X)"
   ]
  },
  {
   "cell_type": "code",
   "execution_count": 31,
   "id": "vital-situation",
   "metadata": {
    "ExecuteTime": {
     "end_time": "2021-09-30T06:37:52.959330Z",
     "start_time": "2021-09-30T06:36:22.852211Z"
    }
   },
   "outputs": [],
   "source": [
    "part_ema_and_const_predicted = part_ema_and_const_model.predict(test_X)"
   ]
  },
  {
   "cell_type": "code",
   "execution_count": 32,
   "id": "excessive-adult",
   "metadata": {
    "ExecuteTime": {
     "end_time": "2021-09-30T06:37:53.006248Z",
     "start_time": "2021-09-30T06:37:52.959330Z"
    }
   },
   "outputs": [
    {
     "data": {
      "text/plain": [
       "9.998569429137785"
      ]
     },
     "execution_count": 32,
     "metadata": {},
     "output_type": "execute_result"
    }
   ],
   "source": [
    "MSE(test_target, part_ema_and_const_predicted)"
   ]
  },
  {
   "cell_type": "code",
   "execution_count": null,
   "id": "double-dressing",
   "metadata": {},
   "outputs": [],
   "source": []
  },
  {
   "cell_type": "code",
   "execution_count": 36,
   "id": "bibliographic-genius",
   "metadata": {
    "ExecuteTime": {
     "end_time": "2021-09-30T07:28:47.518816Z",
     "start_time": "2021-09-30T06:46:06.159615Z"
    },
    "scrolled": false
   },
   "outputs": [
    {
     "name": "stdout",
     "output_type": "stream",
     "text": [
      "const_threshold: -1\n",
      "ema_treshold: 2\n",
      "MSE: 10.065178986102556\n",
      "------------------------------------------\n",
      "const_threshold: -1\n",
      "ema_treshold: 6\n",
      "MSE: 13.360293931698672\n",
      "------------------------------------------\n",
      "const_threshold: -1\n",
      "ema_treshold: 10\n",
      "MSE: 10.3020412139954\n",
      "------------------------------------------\n",
      "const_threshold: -1\n",
      "ema_treshold: 14\n",
      "MSE: 13.23761182634297\n",
      "------------------------------------------\n",
      "const_threshold: -1\n",
      "ema_treshold: 18\n",
      "MSE: 10.486323183709885\n",
      "------------------------------------------\n",
      "const_threshold: -2\n",
      "ema_treshold: 2\n",
      "MSE: 13.068600910274565\n",
      "------------------------------------------\n",
      "const_threshold: -2\n",
      "ema_treshold: 6\n",
      "MSE: 10.342856655879395\n",
      "------------------------------------------\n",
      "const_threshold: -2\n",
      "ema_treshold: 10\n",
      "MSE: 10.444131601467358\n",
      "------------------------------------------\n",
      "const_threshold: -2\n",
      "ema_treshold: 14\n",
      "MSE: 10.465797716144891\n",
      "------------------------------------------\n",
      "const_threshold: -2\n",
      "ema_treshold: 18\n",
      "MSE: 10.417866623002128\n",
      "------------------------------------------\n",
      "const_threshold: -3\n",
      "ema_treshold: 2\n",
      "MSE: 9.991687340904404\n",
      "------------------------------------------\n",
      "const_threshold: -3\n",
      "ema_treshold: 6\n",
      "MSE: 10.420482964268757\n",
      "------------------------------------------\n",
      "const_threshold: -3\n",
      "ema_treshold: 10\n",
      "MSE: 13.279707300469761\n",
      "------------------------------------------\n",
      "const_threshold: -3\n",
      "ema_treshold: 14\n",
      "MSE: 10.316594069433066\n",
      "------------------------------------------\n",
      "const_threshold: -3\n",
      "ema_treshold: 18\n",
      "MSE: 10.765949093586272\n",
      "------------------------------------------\n",
      "const_threshold: -4\n",
      "ema_treshold: 2\n",
      "MSE: 13.013549433865906\n",
      "------------------------------------------\n",
      "const_threshold: -4\n",
      "ema_treshold: 6\n",
      "MSE: 10.318687300123884\n",
      "------------------------------------------\n",
      "const_threshold: -4\n",
      "ema_treshold: 10\n",
      "MSE: 13.31814698896509\n",
      "------------------------------------------\n",
      "const_threshold: -4\n",
      "ema_treshold: 14\n",
      "MSE: 10.415628935968462\n",
      "------------------------------------------\n",
      "const_threshold: -4\n",
      "ema_treshold: 18\n",
      "MSE: 10.338477269915359\n",
      "------------------------------------------\n"
     ]
    }
   ],
   "source": [
    "mses = {}\n",
    "for const_threshold, ema_threshold in product(range(-1, -5, -1), range(2, 22, 4)):\n",
    "    part_ema_and_const_model_2 = PartEMAAndConstModel(DecisionTreeRegressor, ema_threshold, const_threshold, max_depth=6)\n",
    "    part_ema_and_const_model_2.fit(train_X)\n",
    "    part_ema_and_const_predicted_2 = part_ema_and_const_model_2.predict(test_X)\n",
    "    mses[(const_threshold, ema_threshold)] = MSE(test_target, part_ema_and_const_predicted_2)\n",
    "    print('const_threshold:', const_threshold)\n",
    "    print('ema_treshold:', ema_threshold)\n",
    "    print('MSE:', mses[(const_threshold, ema_threshold)])\n",
    "    print('------------------------------------------')"
   ]
  },
  {
   "cell_type": "markdown",
   "id": "guilty-given",
   "metadata": {},
   "source": [
    "### class PartlyConstModel"
   ]
  },
  {
   "cell_type": "code",
   "execution_count": 44,
   "id": "future-snapshot",
   "metadata": {
    "ExecuteTime": {
     "end_time": "2021-09-30T08:42:55.210871Z",
     "start_time": "2021-09-30T08:42:55.160954Z"
    }
   },
   "outputs": [],
   "source": [
    "class PartlyConstModel(MyAbstractModel):\n",
    "    def __init__(self, model_init, const_threshold, window=12, *model_args, **model_kwargs):\n",
    "        MyAbstractModel.__init__(self, model_init, *model_args, **model_kwargs)\n",
    "        self.window = window\n",
    "        self.const_threshold = const_threshold\n",
    "    \n",
    "    def predict_shop_item(self, shop_id, item_id):\n",
    "        try:\n",
    "            ser = list(self.all_series.loc[(shop_id, item_id)])\n",
    "        except KeyError as e:\n",
    "            return 1\n",
    "        \n",
    "        if all(np.array(ser)[self.const_threshold:] == 0):\n",
    "            return 0        \n",
    "\n",
    "        window_df = pd.DataFrame([ser[k : k + self.window] for k in range(len(ser) - self.window + 1)])\n",
    "        X, y = window_df.drop(columns=[self.window - 1]), window_df[self.window - 1]\n",
    "        \n",
    "        model = self.model_init(*self.model_args, **self.model_kwargs)\n",
    "        model.fit(X, y)\n",
    "        return model.predict(pd.DataFrame([ser[-self.window + 1:]]))[0]        "
   ]
  },
  {
   "cell_type": "code",
   "execution_count": 46,
   "id": "improved-delicious",
   "metadata": {
    "ExecuteTime": {
     "end_time": "2021-09-30T09:19:05.574764Z",
     "start_time": "2021-09-30T09:11:01.942372Z"
    }
   },
   "outputs": [
    {
     "data": {
      "text/plain": [
       "10.464287673468128"
      ]
     },
     "execution_count": 46,
     "metadata": {},
     "output_type": "execute_result"
    }
   ],
   "source": [
    "partly_const_model = PartlyConstModel(DecisionTreeRegressor, -4, max_depth=10)\n",
    "partly_const_model.fit(train_X)\n",
    "partly_const_predicted = partly_const_model.predict(test_X)\n",
    "MSE(test_target, partly_const_predicted)"
   ]
  },
  {
   "cell_type": "markdown",
   "id": "attended-copying",
   "metadata": {},
   "source": [
    "### class MeanModel"
   ]
  },
  {
   "cell_type": "code",
   "execution_count": 50,
   "id": "running-salon",
   "metadata": {
    "ExecuteTime": {
     "end_time": "2021-09-30T09:36:35.146626Z",
     "start_time": "2021-09-30T09:36:35.128656Z"
    }
   },
   "outputs": [],
   "source": [
    "class MeanModel(MyAbstractModel):\n",
    "    def __init__(self):\n",
    "        pass\n",
    "    def predict_shop_item(self, shop_id, item_id):\n",
    "        try:\n",
    "            ser = list(self.all_series.loc[(shop_id, item_id)])\n",
    "        except KeyError as e:\n",
    "            return 2\n",
    "        return np.mean(ser)"
   ]
  },
  {
   "cell_type": "code",
   "execution_count": 51,
   "id": "photographic-interview",
   "metadata": {
    "ExecuteTime": {
     "end_time": "2021-09-30T09:37:41.570930Z",
     "start_time": "2021-09-30T09:36:35.633328Z"
    }
   },
   "outputs": [
    {
     "data": {
      "text/plain": [
       "13.05963379903199"
      ]
     },
     "execution_count": 51,
     "metadata": {},
     "output_type": "execute_result"
    }
   ],
   "source": [
    "mean_model = MeanModel()\n",
    "mean_model.fit(train_X)\n",
    "mean_predicted = mean_model.predict(test_X)\n",
    "MSE(test_target, mean_predicted)"
   ]
  },
  {
   "cell_type": "code",
   "execution_count": null,
   "id": "dominant-vehicle",
   "metadata": {},
   "outputs": [],
   "source": []
  }
 ],
 "metadata": {
  "kernelspec": {
   "display_name": "Python 3",
   "language": "python",
   "name": "python3"
  },
  "language_info": {
   "codemirror_mode": {
    "name": "ipython",
    "version": 3
   },
   "file_extension": ".py",
   "mimetype": "text/x-python",
   "name": "python",
   "nbconvert_exporter": "python",
   "pygments_lexer": "ipython3",
   "version": "3.9.0"
  },
  "toc": {
   "base_numbering": 1,
   "nav_menu": {},
   "number_sections": true,
   "sideBar": true,
   "skip_h1_title": false,
   "title_cell": "Table of Contents",
   "title_sidebar": "Contents",
   "toc_cell": false,
   "toc_position": {
    "height": "calc(100% - 180px)",
    "left": "10px",
    "top": "150px",
    "width": "273.188px"
   },
   "toc_section_display": true,
   "toc_window_display": true
  }
 },
 "nbformat": 4,
 "nbformat_minor": 5
}
