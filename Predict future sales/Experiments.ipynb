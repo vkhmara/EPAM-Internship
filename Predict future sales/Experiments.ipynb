{
 "cells": [
  {
   "cell_type": "code",
   "execution_count": 1,
   "id": "understanding-batch",
   "metadata": {
    "ExecuteTime": {
     "end_time": "2021-11-02T19:32:42.794056Z",
     "start_time": "2021-11-02T19:32:35.089798Z"
    }
   },
   "outputs": [],
   "source": [
    "import numpy as np\n",
    "import pandas as pd\n",
    "import datetime\n",
    "import matplotlib.pyplot as plt\n",
    "from sklearn.tree import DecisionTreeRegressor\n",
    "from sklearn.linear_model import ElasticNet\n",
    "from sklearn.preprocessing import StandardScaler\n",
    "from lightgbm import LGBMRegressor\n",
    "from itertools import product\n",
    "import glob\n",
    "import re\n",
    "import warnings\n",
    "from random import sample\n",
    "warnings.filterwarnings(\"ignore\")"
   ]
  },
  {
   "cell_type": "code",
   "execution_count": 2,
   "id": "fitting-action",
   "metadata": {
    "ExecuteTime": {
     "end_time": "2021-11-02T19:33:03.133404Z",
     "start_time": "2021-11-02T19:32:42.794056Z"
    }
   },
   "outputs": [],
   "source": [
    "X = pd.read_csv('data/X_without_lags_and_target_encoding.csv')\n",
    "y = pd.read_csv('data/y_without_lags_and_target_encoding.csv').item_cnt\n",
    "X_test = pd.read_csv('data/test_without_lags_and_target_encoding.csv', index_col='ID')"
   ]
  },
  {
   "cell_type": "code",
   "execution_count": 3,
   "id": "binary-tunisia",
   "metadata": {
    "ExecuteTime": {
     "end_time": "2021-11-02T19:33:03.980807Z",
     "start_time": "2021-11-02T19:33:03.133404Z"
    }
   },
   "outputs": [],
   "source": [
    "types = {\n",
    "    'date_block_num': 'int8',\n",
    "    'shop_id': 'int8',\n",
    "    'item_id': 'int16',\n",
    "    'item_category_id': 'int8',\n",
    "    'super_category': 'int8',\n",
    "    'category': 'int8',\n",
    "    'city': 'int8',\n",
    "    'shop_type': 'int8',\n",
    "    'shop_name': 'int8'\n",
    "}\n",
    "X = X.astype(types)\n",
    "X_test = X_test.astype(types)"
   ]
  },
  {
   "cell_type": "code",
   "execution_count": 4,
   "id": "occupational-variable",
   "metadata": {
    "ExecuteTime": {
     "end_time": "2021-11-02T19:33:06.002541Z",
     "start_time": "2021-11-02T19:33:03.980807Z"
    }
   },
   "outputs": [],
   "source": [
    "X_train = X[X.date_block_num < 33]\n",
    "y_train = y[X.date_block_num < 33]\n",
    "\n",
    "X_val = X[X.date_block_num == 33]\n",
    "y_val = y[X.date_block_num == 33]"
   ]
  },
  {
   "cell_type": "markdown",
   "id": "processed-beach",
   "metadata": {},
   "source": [
    "# Some functions"
   ]
  },
  {
   "cell_type": "code",
   "execution_count": 5,
   "id": "offensive-nelson",
   "metadata": {
    "ExecuteTime": {
     "end_time": "2021-11-02T19:33:06.033487Z",
     "start_time": "2021-11-02T19:33:06.002541Z"
    }
   },
   "outputs": [],
   "source": [
    "def RMSE(series_true, series_predicted):\n",
    "    return sum((series_true - series_predicted)**2 / len(series_true))**0.5"
   ]
  },
  {
   "cell_type": "code",
   "execution_count": 6,
   "id": "reliable-maker",
   "metadata": {
    "ExecuteTime": {
     "end_time": "2021-11-02T19:33:06.065437Z",
     "start_time": "2021-11-02T19:33:06.046466Z"
    }
   },
   "outputs": [],
   "source": [
    "def EMA(ser, alpha):\n",
    "    y_1 = ser[0]\n",
    "    for y in ser:\n",
    "        y_1 = (1 - alpha) * y_1 + alpha * y\n",
    "    return y_1"
   ]
  },
  {
   "cell_type": "code",
   "execution_count": 7,
   "id": "visible-pharmaceutical",
   "metadata": {
    "ExecuteTime": {
     "end_time": "2021-11-02T19:33:06.098387Z",
     "start_time": "2021-11-02T19:33:06.075424Z"
    }
   },
   "outputs": [],
   "source": [
    "def submit(y_predicted):\n",
    "    my_submissions_paths = glob.glob('./data/my_submission_*.csv')\n",
    "    nums = [int(re.findall(r'\\d+', filepath)[0]) for filepath in my_submissions_paths]\n",
    "    n = max(nums) + 1\n",
    "    submission = pd.read_csv('data/sample_submission.csv')\n",
    "    submission.item_cnt_month = y_predicted\n",
    "    submission.to_csv(f'data/my_submission_{n}.csv', index=None)\n",
    "    return f'data/my_submission_{n}.csv'"
   ]
  },
  {
   "cell_type": "markdown",
   "id": "straight-default",
   "metadata": {},
   "source": [
    "# Training models"
   ]
  },
  {
   "cell_type": "markdown",
   "id": "educated-marble",
   "metadata": {},
   "source": [
    "### class MyAbstractModel"
   ]
  },
  {
   "cell_type": "markdown",
   "id": "broadband-regular",
   "metadata": {},
   "source": [
    "The interface of classes.  \n",
    "The *fit* method extract all time series for each (shop_id, item_id) element.  \n",
    "The *predict_shop_item* method returns the prediction for one (shop_id, item_id) element.  \n",
    "The *predict* method returns the array of clipped predictions for each of the (shop_id, item_id) element.  "
   ]
  },
  {
   "cell_type": "code",
   "execution_count": 8,
   "id": "welsh-memorial",
   "metadata": {
    "ExecuteTime": {
     "end_time": "2021-11-02T19:33:06.143310Z",
     "start_time": "2021-11-02T19:33:06.109366Z"
    }
   },
   "outputs": [],
   "source": [
    "class MyAbstractModel:\n",
    "    def __init__(self, model_init, *model_args, **model_kwargs):\n",
    "        self.model_init = model_init\n",
    "        self.model_args = model_args\n",
    "        self.model_kwargs = model_kwargs\n",
    "        \n",
    "    def fit(self, X_train, y_train):\n",
    "        X = X_train.copy()\n",
    "        X['target'] = y_train\n",
    "        self.all_series = X.groupby(\n",
    "            ['shop_id', 'item_id', 'date_block_num']).target.sum().unstack(fill_value=0).clip(0, 20)\n",
    "        \n",
    "    def predict_shop_item(self, shop_id, item_id):\n",
    "        pass\n",
    "\n",
    "    def predict(self, X):\n",
    "        return np.clip(\n",
    "            [self.predict_shop_item(shop_id, item_id) for shop_id, item_id in X[['shop_id', 'item_id']].values],\n",
    "            0, 20)"
   ]
  },
  {
   "cell_type": "markdown",
   "id": "north-durham",
   "metadata": {},
   "source": [
    "### class AbstractModelEMADefault"
   ]
  },
  {
   "cell_type": "markdown",
   "id": "psychological-ensemble",
   "metadata": {},
   "source": [
    "It expands the previous interface with the *predict_small_history* method which is used when the time series has a lot of zeros. The meaning of \"a lot of zeros\" is defined for each subclass (e.g. the number of zeros is greater than 20)."
   ]
  },
  {
   "cell_type": "code",
   "execution_count": 9,
   "id": "accomplished-spring",
   "metadata": {
    "ExecuteTime": {
     "end_time": "2021-11-02T19:33:06.175265Z",
     "start_time": "2021-11-02T19:33:06.156293Z"
    }
   },
   "outputs": [],
   "source": [
    "class AbstractModelEMADefault(MyAbstractModel):\n",
    "    def __init__(self, model_init, ema_koeff=0.4, *model_args, **model_kwargs):\n",
    "        MyAbstractModel.__init__(self, model_init, *model_args, **model_kwargs)\n",
    "        self.ema_koeff = ema_koeff\n",
    "\n",
    "    def predict_small_history(self, shop_id, item_id):\n",
    "        ser = list(self.all_series.loc[(shop_id, item_id)])\n",
    "        return EMA(ser, self.ema_koeff)       "
   ]
  },
  {
   "cell_type": "markdown",
   "id": "dressed-transition",
   "metadata": {},
   "source": [
    "## class LinRegModel"
   ]
  },
  {
   "cell_type": "markdown",
   "id": "unauthorized-mechanics",
   "metadata": {},
   "source": [
    "This class uses linear regression for the predicting. For each time series new dataframe that contains lag features is built. The parameter *window* defined the number of lag features. And for this dataframe the linear regression is fitted."
   ]
  },
  {
   "cell_type": "code",
   "execution_count": 10,
   "id": "capable-desperate",
   "metadata": {
    "ExecuteTime": {
     "end_time": "2021-11-02T19:33:06.238164Z",
     "start_time": "2021-11-02T19:33:06.191239Z"
    }
   },
   "outputs": [],
   "source": [
    "class LinRegModel(AbstractModelEMADefault):\n",
    "    def __init__(self, window=12, ema_koeff=0.4, *model_args, **model_kwargs):\n",
    "        \n",
    "        model_init = ElasticNet\n",
    "        AbstractModelEMADefault.__init__(self, model_init, ema_koeff, *model_args, **model_kwargs)\n",
    "        self.window = window\n",
    "    \n",
    "    def predict_shop_item(self, shop_id, item_id):\n",
    "        \n",
    "        try:\n",
    "            ser = list(self.all_series.loc[(shop_id, item_id)])\n",
    "        except KeyError as e:\n",
    "            return 0\n",
    "        if all(np.array(ser)[:-self.window] == 0):\n",
    "            return self.predict_small_history(shop_id, item_id)\n",
    "        \n",
    "        window_df = pd.DataFrame([ser[k : k + self.window] for k in range(len(ser) - self.window + 1)])\n",
    "        X, y = window_df.drop(columns=[self.window - 1]), window_df[self.window - 1]\n",
    "        \n",
    "        scaler = StandardScaler()\n",
    "        X = scaler.fit_transform(X)\n",
    "        \n",
    "        model = self.model_init(*self.model_args, **self.model_kwargs)\n",
    "        model.fit(X, y)\n",
    "        test_X = scaler.transform(pd.DataFrame([ser[-self.window + 1:]]))\n",
    "        return model.predict(test_X)[0]"
   ]
  },
  {
   "cell_type": "code",
   "execution_count": 11,
   "id": "killing-treasurer",
   "metadata": {
    "ExecuteTime": {
     "end_time": "2021-11-02T20:07:07.508588Z",
     "start_time": "2021-11-02T19:33:06.246152Z"
    }
   },
   "outputs": [
    {
     "data": {
      "text/plain": [
       "1.0445877034628965"
      ]
     },
     "execution_count": 11,
     "metadata": {},
     "output_type": "execute_result"
    }
   ],
   "source": [
    "lin_reg_model = LinRegModel()\n",
    "lin_reg_model.fit(X_train, y_train)\n",
    "lin_reg_predicted = lin_reg_model.predict(X_val)\n",
    "RMSE(y_val, lin_reg_predicted)"
   ]
  },
  {
   "cell_type": "markdown",
   "id": "empirical-success",
   "metadata": {},
   "source": [
    "## class PartEMAAndConstModel"
   ]
  },
  {
   "cell_type": "markdown",
   "id": "overall-visibility",
   "metadata": {},
   "source": [
    "This class uses the following idea: if there are a lot of zeros at the beginning of time series, then EMA is used. If there are some zeros at the end, then the predicted value is 0. Otherwise some model is used. I chose the lightGBM because it's a powerful and relatively fast model."
   ]
  },
  {
   "cell_type": "code",
   "execution_count": 12,
   "id": "desirable-finish",
   "metadata": {
    "ExecuteTime": {
     "end_time": "2021-11-02T20:07:07.570744Z",
     "start_time": "2021-11-02T20:07:07.522496Z"
    }
   },
   "outputs": [],
   "source": [
    "class PartEMAAndConstModel(AbstractModelEMADefault):\n",
    "    \n",
    "    def __init__(self, model_init, ema_threshold, const_threshold, window=12, ema_koeff=0.4, *model_args, **model_kwargs):\n",
    "\n",
    "        AbstractModelEMADefault.__init__(self, model_init, ema_koeff, *model_args, **model_kwargs)\n",
    "        self.window = window\n",
    "        self.ema_threshold = ema_threshold\n",
    "        self.const_threshold = const_threshold\n",
    "    \n",
    "    def predict_shop_item(self, shop_id, item_id):\n",
    "        try:\n",
    "            ser = list(self.all_series.loc[(shop_id, item_id)])\n",
    "        except KeyError as e:\n",
    "            return 0\n",
    "        \n",
    "        if all(np.array(ser)[self.const_threshold:] == 0):\n",
    "            return 0\n",
    "        \n",
    "        if all(np.array(ser)[:self.ema_threshold] == 0):\n",
    "            return self.predict_small_history(shop_id, item_id)\n",
    "\n",
    "        window_df = pd.DataFrame([ser[k : k + self.window] for k in range(len(ser) - self.window + 1)])\n",
    "        X, y = window_df.drop(columns=[self.window - 1]), window_df[self.window - 1]\n",
    "        \n",
    "        model = self.model_init(*self.model_args, **self.model_kwargs)\n",
    "        model.fit(X, y)\n",
    "        return model.predict(pd.DataFrame([ser[-self.window + 1:]]))[0]        "
   ]
  },
  {
   "cell_type": "markdown",
   "id": "thrown-register",
   "metadata": {},
   "source": [
    "The score for some parameters:"
   ]
  },
  {
   "cell_type": "code",
   "execution_count": 13,
   "id": "medium-trading",
   "metadata": {
    "ExecuteTime": {
     "end_time": "2021-11-02T20:17:38.246736Z",
     "start_time": "2021-11-02T20:07:07.584627Z"
    }
   },
   "outputs": [
    {
     "data": {
      "text/plain": [
       "1.0120234520105569"
      ]
     },
     "execution_count": 13,
     "metadata": {},
     "output_type": "execute_result"
    }
   ],
   "source": [
    "part_ema_and_const_model = PartEMAAndConstModel(LGBMRegressor, 2, -4, max_depth=2, n_estimators=100)\n",
    "part_ema_and_const_model.fit(X_train, y_train)\n",
    "part_ema_and_const_predicted = part_ema_and_const_model.predict(X_val)\n",
    "RMSE(y_val, part_ema_and_const_predicted)"
   ]
  },
  {
   "cell_type": "markdown",
   "id": "emotional-dallas",
   "metadata": {},
   "source": [
    "These parameters mean that the predicted value equals 0, if the last 4 elements equal 0, EMA of the series if the first 2 elements of time series equal 0. Otherwise it is calculated using lightGBM. Let's take a look at scores for different parameters."
   ]
  },
  {
   "cell_type": "code",
   "execution_count": 14,
   "id": "double-dressing",
   "metadata": {
    "ExecuteTime": {
     "end_time": "2021-11-02T20:17:38.310290Z",
     "start_time": "2021-11-02T20:17:38.256378Z"
    },
    "collapsed": true
   },
   "outputs": [
    {
     "data": {
      "text/plain": [
       "[(3, -5, 19),\n",
       " (2, -10, 15),\n",
       " (2, -7, 19),\n",
       " (1, -7, 21),\n",
       " (3, -7, 18),\n",
       " (1, -9, 22),\n",
       " (1, -9, 17),\n",
       " (2, -7, 23),\n",
       " (1, -9, 12),\n",
       " (2, -5, 22),\n",
       " (2, -9, 16),\n",
       " (3, -6, 19),\n",
       " (3, -3, 20),\n",
       " (3, -5, 23),\n",
       " (2, -2, 18),\n",
       " (3, -2, 19),\n",
       " (2, -6, 15),\n",
       " (1, -9, 18),\n",
       " (1, -8, 23),\n",
       " (3, -4, 23),\n",
       " (1, -2, 18),\n",
       " (1, -4, 13),\n",
       " (1, -2, 17),\n",
       " (2, -9, 17),\n",
       " (2, -3, 20),\n",
       " (1, -2, 16),\n",
       " (2, -8, 14),\n",
       " (1, -2, 14),\n",
       " (1, -3, 17),\n",
       " (3, -4, 19),\n",
       " (1, -8, 22),\n",
       " (2, -7, 17),\n",
       " (2, -6, 20),\n",
       " (3, -5, 14),\n",
       " (1, -4, 16),\n",
       " (1, -5, 14),\n",
       " (1, -10, 16),\n",
       " (3, -7, 15),\n",
       " (1, -6, 14),\n",
       " (1, -7, 23),\n",
       " (2, -8, 17),\n",
       " (3, -7, 17),\n",
       " (3, -5, 20),\n",
       " (1, -6, 21),\n",
       " (1, -4, 20),\n",
       " (2, -3, 12),\n",
       " (1, -2, 19),\n",
       " (3, -4, 18),\n",
       " (2, -7, 18),\n",
       " (2, -9, 12)]"
      ]
     },
     "execution_count": 14,
     "metadata": {},
     "output_type": "execute_result"
    }
   ],
   "source": [
    "tune_params = sample(list(product(range(1, 4), range(-10, -1), range(12, 24))), 50)\n",
    "tune_params"
   ]
  },
  {
   "cell_type": "code",
   "execution_count": 15,
   "id": "bibliographic-genius",
   "metadata": {
    "ExecuteTime": {
     "end_time": "2021-11-03T13:07:57.213487Z",
     "start_time": "2021-11-02T20:17:38.322269Z"
    }
   },
   "outputs": [
    {
     "name": "stdout",
     "output_type": "stream",
     "text": [
      "max_depth: 3\n",
      "const_threshold: -5\n",
      "ema_treshold: 19\n",
      "val score: 1.044985608192232\n",
      "------------------------------------------\n",
      "max_depth: 2\n",
      "const_threshold: -10\n",
      "ema_treshold: 15\n",
      "val score: 1.0472865095157557\n",
      "------------------------------------------\n",
      "max_depth: 2\n",
      "const_threshold: -7\n",
      "ema_treshold: 19\n",
      "val score: 1.0483762939258048\n",
      "------------------------------------------\n",
      "max_depth: 1\n",
      "const_threshold: -7\n",
      "ema_treshold: 21\n",
      "val score: 1.0465864102535547\n",
      "------------------------------------------\n",
      "max_depth: 3\n",
      "const_threshold: -7\n",
      "ema_treshold: 18\n",
      "val score: 1.04662983305087\n",
      "------------------------------------------\n",
      "max_depth: 1\n",
      "const_threshold: -9\n",
      "ema_treshold: 22\n",
      "val score: 1.0489616458704587\n",
      "------------------------------------------\n",
      "max_depth: 1\n",
      "const_threshold: -9\n",
      "ema_treshold: 17\n",
      "val score: 1.0487146909131089\n",
      "------------------------------------------\n",
      "max_depth: 2\n",
      "const_threshold: -7\n",
      "ema_treshold: 23\n",
      "val score: 1.0478320350970232\n",
      "------------------------------------------\n",
      "max_depth: 1\n",
      "const_threshold: -9\n",
      "ema_treshold: 12\n",
      "val score: 1.0429880783869085\n",
      "------------------------------------------\n",
      "max_depth: 2\n",
      "const_threshold: -5\n",
      "ema_treshold: 22\n",
      "val score: 1.0432114896763542\n",
      "------------------------------------------\n",
      "max_depth: 2\n",
      "const_threshold: -9\n",
      "ema_treshold: 16\n",
      "val score: 1.048148909041368\n",
      "------------------------------------------\n",
      "max_depth: 3\n",
      "const_threshold: -6\n",
      "ema_treshold: 19\n",
      "val score: 1.046793505738227\n",
      "------------------------------------------\n",
      "max_depth: 3\n",
      "const_threshold: -3\n",
      "ema_treshold: 20\n",
      "val score: 1.0374424795075525\n",
      "------------------------------------------\n",
      "max_depth: 3\n",
      "const_threshold: -5\n",
      "ema_treshold: 23\n",
      "val score: 1.0441130797676692\n",
      "------------------------------------------\n",
      "max_depth: 2\n",
      "const_threshold: -2\n",
      "ema_treshold: 18\n",
      "val score: 1.0320555161258935\n",
      "------------------------------------------\n",
      "max_depth: 3\n",
      "const_threshold: -2\n",
      "ema_treshold: 19\n",
      "val score: 1.0335216473704754\n",
      "------------------------------------------\n",
      "max_depth: 2\n",
      "const_threshold: -6\n",
      "ema_treshold: 15\n",
      "val score: 1.0434655591797655\n",
      "------------------------------------------\n",
      "max_depth: 1\n",
      "const_threshold: -9\n",
      "ema_treshold: 18\n",
      "val score: 1.0487368352354842\n",
      "------------------------------------------\n",
      "max_depth: 1\n",
      "const_threshold: -8\n",
      "ema_treshold: 23\n",
      "val score: 1.0493618233404252\n",
      "------------------------------------------\n",
      "max_depth: 3\n",
      "const_threshold: -4\n",
      "ema_treshold: 23\n",
      "val score: 1.0412040879764313\n",
      "------------------------------------------\n",
      "max_depth: 1\n",
      "const_threshold: -2\n",
      "ema_treshold: 18\n",
      "val score: 1.0320555161258935\n",
      "------------------------------------------\n",
      "max_depth: 1\n",
      "const_threshold: -4\n",
      "ema_treshold: 13\n",
      "val score: 1.0364909469582813\n",
      "------------------------------------------\n",
      "max_depth: 1\n",
      "const_threshold: -2\n",
      "ema_treshold: 17\n",
      "val score: 1.0323644992096241\n",
      "------------------------------------------\n",
      "max_depth: 2\n",
      "const_threshold: -9\n",
      "ema_treshold: 17\n",
      "val score: 1.0487146909131089\n",
      "------------------------------------------\n",
      "max_depth: 2\n",
      "const_threshold: -3\n",
      "ema_treshold: 20\n",
      "val score: 1.0374424795075525\n",
      "------------------------------------------\n",
      "max_depth: 1\n",
      "const_threshold: -2\n",
      "ema_treshold: 16\n",
      "val score: 1.0325573305269224\n",
      "------------------------------------------\n",
      "max_depth: 2\n",
      "const_threshold: -8\n",
      "ema_treshold: 14\n",
      "val score: 1.0441470692780295\n",
      "------------------------------------------\n",
      "max_depth: 1\n",
      "const_threshold: -2\n",
      "ema_treshold: 14\n",
      "val score: 1.0300214519333803\n",
      "------------------------------------------\n",
      "max_depth: 1\n",
      "const_threshold: -3\n",
      "ema_treshold: 17\n",
      "val score: 1.0361709736950293\n",
      "------------------------------------------\n",
      "max_depth: 3\n",
      "const_threshold: -4\n",
      "ema_treshold: 19\n",
      "val score: 1.0425628996640115\n",
      "------------------------------------------\n",
      "max_depth: 1\n",
      "const_threshold: -8\n",
      "ema_treshold: 22\n",
      "val score: 1.0484256071028666\n",
      "------------------------------------------\n",
      "max_depth: 2\n",
      "const_threshold: -7\n",
      "ema_treshold: 17\n",
      "val score: 1.0466395671921707\n",
      "------------------------------------------\n",
      "max_depth: 2\n",
      "const_threshold: -6\n",
      "ema_treshold: 20\n",
      "val score: 1.0466005136286096\n",
      "------------------------------------------\n",
      "max_depth: 3\n",
      "const_threshold: -5\n",
      "ema_treshold: 14\n",
      "val score: 1.0397092675859254\n",
      "------------------------------------------\n",
      "max_depth: 1\n",
      "const_threshold: -4\n",
      "ema_treshold: 16\n",
      "val score: 1.0407055229460982\n",
      "------------------------------------------\n",
      "max_depth: 1\n",
      "const_threshold: -5\n",
      "ema_treshold: 14\n",
      "val score: 1.0397092675859254\n",
      "------------------------------------------\n",
      "max_depth: 1\n",
      "const_threshold: -10\n",
      "ema_treshold: 16\n",
      "val score: 1.0485666513690157\n",
      "------------------------------------------\n",
      "max_depth: 3\n",
      "const_threshold: -7\n",
      "ema_treshold: 15\n",
      "val score: 1.0449334063077944\n",
      "------------------------------------------\n",
      "max_depth: 1\n",
      "const_threshold: -6\n",
      "ema_treshold: 14\n",
      "val score: 1.0412991749109877\n",
      "------------------------------------------\n",
      "max_depth: 1\n",
      "const_threshold: -7\n",
      "ema_treshold: 23\n",
      "val score: 1.0478320350970232\n",
      "------------------------------------------\n",
      "max_depth: 2\n",
      "const_threshold: -8\n",
      "ema_treshold: 17\n",
      "val score: 1.0482305271628154\n",
      "------------------------------------------\n",
      "max_depth: 3\n",
      "const_threshold: -7\n",
      "ema_treshold: 17\n",
      "val score: 1.0466395671921707\n",
      "------------------------------------------\n",
      "max_depth: 3\n",
      "const_threshold: -5\n",
      "ema_treshold: 20\n",
      "val score: 1.0448124185637664\n",
      "------------------------------------------\n",
      "max_depth: 1\n",
      "const_threshold: -6\n",
      "ema_treshold: 21\n",
      "val score: 1.044919784270886\n",
      "------------------------------------------\n",
      "max_depth: 1\n",
      "const_threshold: -4\n",
      "ema_treshold: 20\n",
      "val score: 1.0423674042417275\n",
      "------------------------------------------\n",
      "max_depth: 2\n",
      "const_threshold: -3\n",
      "ema_treshold: 12\n",
      "val score: 1.0319276802776933\n",
      "------------------------------------------\n",
      "max_depth: 1\n",
      "const_threshold: -2\n",
      "ema_treshold: 19\n",
      "val score: 1.0335216473704754\n",
      "------------------------------------------\n",
      "max_depth: 3\n",
      "const_threshold: -4\n",
      "ema_treshold: 18\n",
      "val score: 1.0408939347997395\n",
      "------------------------------------------\n",
      "max_depth: 2\n",
      "const_threshold: -7\n",
      "ema_treshold: 18\n",
      "val score: 1.04662983305087\n",
      "------------------------------------------\n",
      "max_depth: 2\n",
      "const_threshold: -9\n",
      "ema_treshold: 12\n",
      "val score: 1.0429880783869085\n",
      "------------------------------------------\n"
     ]
    }
   ],
   "source": [
    "train_scores = {}\n",
    "val_scores = {}\n",
    "\n",
    "for max_depth, const_threshold, ema_threshold in tune_params:\n",
    "    part_ema_and_const_model = PartEMAAndConstModel(LGBMRegressor,\n",
    "                                                      ema_threshold, const_threshold,\n",
    "                                                      max_depth=max_depth, n_estimators=100)\n",
    "    part_ema_and_const_model.fit(X_train, y_train)\n",
    "    \n",
    "    part_ema_and_const_predicted_val = part_ema_and_const_model.predict(X_val)\n",
    "    val_scores[(max_depth, const_threshold, ema_threshold)] = RMSE(y_val, part_ema_and_const_predicted_val)\n",
    "    \n",
    "    print('max_depth:', max_depth)\n",
    "    print('const_threshold:', const_threshold)\n",
    "    print('ema_treshold:', ema_threshold)\n",
    "    print('val score:', val_scores[(max_depth, const_threshold, ema_threshold)])\n",
    "    print('------------------------------------------')"
   ]
  },
  {
   "cell_type": "code",
   "execution_count": 18,
   "id": "alleged-newsletter",
   "metadata": {
    "ExecuteTime": {
     "end_time": "2021-11-03T13:08:48.743980Z",
     "start_time": "2021-11-03T13:08:48.579236Z"
    }
   },
   "outputs": [
    {
     "data": {
      "text/html": [
       "<div>\n",
       "<style scoped>\n",
       "    .dataframe tbody tr th:only-of-type {\n",
       "        vertical-align: middle;\n",
       "    }\n",
       "\n",
       "    .dataframe tbody tr th {\n",
       "        vertical-align: top;\n",
       "    }\n",
       "\n",
       "    .dataframe thead th {\n",
       "        text-align: right;\n",
       "    }\n",
       "</style>\n",
       "<table border=\"1\" class=\"dataframe\">\n",
       "  <thead>\n",
       "    <tr style=\"text-align: right;\">\n",
       "      <th></th>\n",
       "      <th>max_depth</th>\n",
       "      <th>const_threshold</th>\n",
       "      <th>ema_threshold</th>\n",
       "      <th>val_score</th>\n",
       "    </tr>\n",
       "  </thead>\n",
       "  <tbody>\n",
       "    <tr>\n",
       "      <th>27</th>\n",
       "      <td>1</td>\n",
       "      <td>-2</td>\n",
       "      <td>14</td>\n",
       "      <td>1.030021</td>\n",
       "    </tr>\n",
       "  </tbody>\n",
       "</table>\n",
       "</div>"
      ],
      "text/plain": [
       "    max_depth  const_threshold  ema_threshold  val_score\n",
       "27          1               -2             14   1.030021"
      ]
     },
     "execution_count": 18,
     "metadata": {},
     "output_type": "execute_result"
    }
   ],
   "source": [
    "val_scores_df = pd.DataFrame(val_scores, index=[1]).T.reset_index()\\\n",
    "    .rename(columns={\n",
    "    'level_0': 'max_depth',\n",
    "    'level_1': 'const_threshold',\n",
    "    'level_2': 'ema_threshold',\n",
    "    1: 'val_score'\n",
    "})\n",
    "\n",
    "val_scores_df[val_scores_df.val_score == val_scores_df.val_score.min()]"
   ]
  },
  {
   "cell_type": "markdown",
   "id": "early-public",
   "metadata": {},
   "source": [
    "So the best model with parametres among *tune_params* has a score 1.030021. It is higher than the score of model with params ema_threshold equals 2 and const_threshold equals -4. It might mean that the ema model is better for the most of series."
   ]
  },
  {
   "cell_type": "markdown",
   "id": "hollywood-glucose",
   "metadata": {},
   "source": [
    "## EMA model"
   ]
  },
  {
   "cell_type": "code",
   "execution_count": 27,
   "id": "fitted-california",
   "metadata": {
    "ExecuteTime": {
     "end_time": "2021-11-03T13:23:29.064768Z",
     "start_time": "2021-11-03T13:23:29.038810Z"
    }
   },
   "outputs": [],
   "source": [
    "class EMAModel(MyAbstractModel):\n",
    "    \n",
    "    def __init__(self, ema_koeff):\n",
    "\n",
    "        MyAbstractModel.__init__(self, None)\n",
    "        self.ema_koeff = ema_koeff\n",
    "        \n",
    "    def predict_shop_item(self, shop_id, item_id):\n",
    "        try:\n",
    "            ser = list(self.all_series.loc[(shop_id, item_id)])\n",
    "        except KeyError as e:\n",
    "            return 0\n",
    "        \n",
    "        return EMA(ser, self.ema_koeff)"
   ]
  },
  {
   "cell_type": "code",
   "execution_count": 32,
   "id": "catholic-present",
   "metadata": {
    "ExecuteTime": {
     "end_time": "2021-11-03T15:55:42.100410Z",
     "start_time": "2021-11-03T14:46:03.034495Z"
    }
   },
   "outputs": [],
   "source": [
    "ema_scores = {}\n",
    "for ema_koeff in np.linspace(0.1, 0.9, 9):\n",
    "    ema_model = EMAModel(ema_koeff=ema_koeff)\n",
    "    ema_model.fit(X_train, y_train)\n",
    "    ema_predicted = ema_model.predict(X_val)\n",
    "    ema_scores[ema_koeff] = RMSE(y_val, ema_predicted)"
   ]
  },
  {
   "cell_type": "code",
   "execution_count": 33,
   "id": "every-degree",
   "metadata": {
    "ExecuteTime": {
     "end_time": "2021-11-03T15:55:43.151390Z",
     "start_time": "2021-11-03T15:55:42.162906Z"
    },
    "scrolled": true
   },
   "outputs": [
    {
     "data": {
      "image/png": "[encoded data removed]",
      "text/plain": [
       "<Figure size 432x288 with 1 Axes>"
      ]
     },
     "metadata": {
      "needs_background": "light"
     },
     "output_type": "display_data"
    }
   ],
   "source": [
    "plt.plot(ema_scores.keys(), ema_scores.values())\n",
    "plt.show()"
   ]
  },
  {
   "cell_type": "markdown",
   "id": "processed-scale",
   "metadata": {},
   "source": [
    "The best score:"
   ]
  },
  {
   "cell_type": "code",
   "execution_count": 39,
   "id": "advisory-alexandria",
   "metadata": {
    "ExecuteTime": {
     "end_time": "2021-11-03T16:26:29.834850Z",
     "start_time": "2021-11-03T16:26:29.805899Z"
    }
   },
   "outputs": [
    {
     "data": {
      "text/plain": [
       "0.9941518427652923"
      ]
     },
     "execution_count": 39,
     "metadata": {},
     "output_type": "execute_result"
    }
   ],
   "source": [
    "min(ema_scores.values())"
   ]
  },
  {
   "cell_type": "markdown",
   "id": "remarkable-stomach",
   "metadata": {},
   "source": [
    "The ema_koeff equals 0.3. So the ema model is better than partly const and ema model and the model with linear regression."
   ]
  },
  {
   "cell_type": "markdown",
   "id": "bottom-timothy",
   "metadata": {},
   "source": [
    "# final predictions"
   ]
  },
  {
   "cell_type": "code",
   "execution_count": 34,
   "id": "outdoor-italic",
   "metadata": {
    "ExecuteTime": {
     "end_time": "2021-11-03T16:07:40.076906Z",
     "start_time": "2021-11-03T16:07:39.992158Z"
    }
   },
   "outputs": [],
   "source": [
    "final_model = EMAModel(ema_koeff=0.3)"
   ]
  },
  {
   "cell_type": "code",
   "execution_count": 35,
   "id": "north-repository",
   "metadata": {
    "ExecuteTime": {
     "end_time": "2021-11-03T16:08:37.930090Z",
     "start_time": "2021-11-03T16:07:40.605154Z"
    }
   },
   "outputs": [],
   "source": [
    "final_model.fit(X, y)"
   ]
  },
  {
   "cell_type": "code",
   "execution_count": 36,
   "id": "distinguished-truck",
   "metadata": {
    "ExecuteTime": {
     "end_time": "2021-11-03T16:18:01.802430Z",
     "start_time": "2021-11-03T16:08:37.980306Z"
    }
   },
   "outputs": [],
   "source": [
    "final_prediction = final_model.predict(X_test)"
   ]
  },
  {
   "cell_type": "code",
   "execution_count": 37,
   "id": "curious-adventure",
   "metadata": {
    "ExecuteTime": {
     "end_time": "2021-11-03T16:18:04.431806Z",
     "start_time": "2021-11-03T16:18:01.814419Z"
    }
   },
   "outputs": [
    {
     "data": {
      "text/plain": [
       "'data/my_submission_32.csv'"
      ]
     },
     "execution_count": 37,
     "metadata": {},
     "output_type": "execute_result"
    }
   ],
   "source": [
    "submit(final_prediction)"
   ]
  },
  {
   "cell_type": "markdown",
   "id": "regular-beginning",
   "metadata": {},
   "source": [
    "The score is 1.05381. It is greater than the score of the model fitted on the dataset with lag features and some categories. It is obviously because EMA is a simple algorithm and the dataset doesn't contain information about items, their categories and shops."
   ]
  }
 ],
 "metadata": {
  "kernelspec": {
   "display_name": "Python 3",
   "language": "python",
   "name": "python3"
  },
  "language_info": {
   "codemirror_mode": {
    "name": "ipython",
    "version": 3
   },
   "file_extension": ".py",
   "mimetype": "text/x-python",
   "name": "python",
   "nbconvert_exporter": "python",
   "pygments_lexer": "ipython3",
   "version": "3.9.0"
  },
  "toc": {
   "base_numbering": 1,
   "nav_menu": {},
   "number_sections": true,
   "sideBar": true,
   "skip_h1_title": false,
   "title_cell": "Table of Contents",
   "title_sidebar": "Contents",
   "toc_cell": false,
   "toc_position": {
    "height": "calc(100% - 180px)",
    "left": "10px",
    "top": "150px",
    "width": "273.188px"
   },
   "toc_section_display": true,
   "toc_window_display": true
  }
 },
 "nbformat": 4,
 "nbformat_minor": 5
}
