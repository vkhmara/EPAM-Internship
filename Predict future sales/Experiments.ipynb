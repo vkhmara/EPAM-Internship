{
 "cells": [
  {
   "cell_type": "code",
   "execution_count": 42,
   "id": "understanding-batch",
   "metadata": {
    "ExecuteTime": {
     "end_time": "2021-09-10T06:39:04.683543Z",
     "start_time": "2021-09-10T06:38:59.707873Z"
    }
   },
   "outputs": [],
   "source": [
    "import numpy as np\n",
    "import pandas as pd\n",
    "import datetime\n",
    "import matplotlib.pyplot as plt"
   ]
  },
  {
   "cell_type": "code",
   "execution_count": 43,
   "id": "extreme-interface",
   "metadata": {
    "ExecuteTime": {
     "end_time": "2021-09-10T06:39:11.106958Z",
     "start_time": "2021-09-10T06:39:04.683543Z"
    }
   },
   "outputs": [],
   "source": [
    "item_categories = pd.read_csv('data/item_categories.csv')\n",
    "items = pd.read_csv('data/items.csv')\n",
    "train = pd.read_csv('data/train_dataset.csv')\n",
    "shops = pd.read_csv('data/shops.csv')\n",
    "sample_submission = pd.read_csv('data/sample_submission.csv')\n",
    "test = pd.read_csv('data/test_dataset.csv')"
   ]
  },
  {
   "cell_type": "code",
   "execution_count": 44,
   "id": "stupid-stranger",
   "metadata": {
    "ExecuteTime": {
     "end_time": "2021-09-10T06:39:11.294556Z",
     "start_time": "2021-09-10T06:39:11.106958Z"
    }
   },
   "outputs": [],
   "source": [
    "item_categories = item_categories.set_index(item_categories.item_category_id).drop('item_category_id', axis=1)\n",
    "items = items.set_index(items.item_id).drop('item_id', axis=1)\n",
    "items['item_category_name'] = item_categories.loc[items['item_category_id'].array].item_category_name.array\n",
    "shops = shops.set_index(shops.shop_id).drop('shop_id', axis=1)"
   ]
  },
  {
   "cell_type": "code",
   "execution_count": 4,
   "id": "sufficient-palestinian",
   "metadata": {
    "ExecuteTime": {
     "end_time": "2021-09-09T16:39:37.084912Z",
     "start_time": "2021-09-09T16:39:37.020926Z"
    },
    "scrolled": true
   },
   "outputs": [
    {
     "data": {
      "text/html": [
       "<div>\n",
       "<style scoped>\n",
       "    .dataframe tbody tr th:only-of-type {\n",
       "        vertical-align: middle;\n",
       "    }\n",
       "\n",
       "    .dataframe tbody tr th {\n",
       "        vertical-align: top;\n",
       "    }\n",
       "\n",
       "    .dataframe thead th {\n",
       "        text-align: right;\n",
       "    }\n",
       "</style>\n",
       "<table border=\"1\" class=\"dataframe\">\n",
       "  <thead>\n",
       "    <tr style=\"text-align: right;\">\n",
       "      <th></th>\n",
       "      <th>date</th>\n",
       "      <th>date_block_num</th>\n",
       "      <th>shop_id</th>\n",
       "      <th>item_id</th>\n",
       "      <th>item_price</th>\n",
       "      <th>item_cnt_day</th>\n",
       "      <th>item_category_id</th>\n",
       "      <th>total_income</th>\n",
       "      <th>days</th>\n",
       "      <th>weeks</th>\n",
       "    </tr>\n",
       "  </thead>\n",
       "  <tbody>\n",
       "    <tr>\n",
       "      <th>0</th>\n",
       "      <td>2013-01-01</td>\n",
       "      <td>0</td>\n",
       "      <td>18</td>\n",
       "      <td>5823</td>\n",
       "      <td>2500.0</td>\n",
       "      <td>1.0</td>\n",
       "      <td>35</td>\n",
       "      <td>2500.0</td>\n",
       "      <td>0</td>\n",
       "      <td>0</td>\n",
       "    </tr>\n",
       "    <tr>\n",
       "      <th>1</th>\n",
       "      <td>2013-01-01</td>\n",
       "      <td>0</td>\n",
       "      <td>27</td>\n",
       "      <td>5573</td>\n",
       "      <td>849.0</td>\n",
       "      <td>1.0</td>\n",
       "      <td>2</td>\n",
       "      <td>849.0</td>\n",
       "      <td>0</td>\n",
       "      <td>0</td>\n",
       "    </tr>\n",
       "    <tr>\n",
       "      <th>2</th>\n",
       "      <td>2013-01-01</td>\n",
       "      <td>0</td>\n",
       "      <td>7</td>\n",
       "      <td>1006</td>\n",
       "      <td>399.0</td>\n",
       "      <td>1.0</td>\n",
       "      <td>67</td>\n",
       "      <td>399.0</td>\n",
       "      <td>0</td>\n",
       "      <td>0</td>\n",
       "    </tr>\n",
       "    <tr>\n",
       "      <th>3</th>\n",
       "      <td>2013-01-01</td>\n",
       "      <td>0</td>\n",
       "      <td>19</td>\n",
       "      <td>17707</td>\n",
       "      <td>899.0</td>\n",
       "      <td>1.0</td>\n",
       "      <td>19</td>\n",
       "      <td>899.0</td>\n",
       "      <td>0</td>\n",
       "      <td>0</td>\n",
       "    </tr>\n",
       "    <tr>\n",
       "      <th>4</th>\n",
       "      <td>2013-01-01</td>\n",
       "      <td>0</td>\n",
       "      <td>14</td>\n",
       "      <td>19548</td>\n",
       "      <td>149.0</td>\n",
       "      <td>1.0</td>\n",
       "      <td>40</td>\n",
       "      <td>149.0</td>\n",
       "      <td>0</td>\n",
       "      <td>0</td>\n",
       "    </tr>\n",
       "  </tbody>\n",
       "</table>\n",
       "</div>"
      ],
      "text/plain": [
       "         date  date_block_num  shop_id  item_id  item_price  item_cnt_day  \\\n",
       "0  2013-01-01               0       18     5823      2500.0           1.0   \n",
       "1  2013-01-01               0       27     5573       849.0           1.0   \n",
       "2  2013-01-01               0        7     1006       399.0           1.0   \n",
       "3  2013-01-01               0       19    17707       899.0           1.0   \n",
       "4  2013-01-01               0       14    19548       149.0           1.0   \n",
       "\n",
       "   item_category_id  total_income  days  weeks  \n",
       "0                35        2500.0     0      0  \n",
       "1                 2         849.0     0      0  \n",
       "2                67         399.0     0      0  \n",
       "3                19         899.0     0      0  \n",
       "4                40         149.0     0      0  "
      ]
     },
     "execution_count": 4,
     "metadata": {},
     "output_type": "execute_result"
    }
   ],
   "source": [
    "train.head()"
   ]
  },
  {
   "cell_type": "code",
   "execution_count": 45,
   "id": "hispanic-crack",
   "metadata": {
    "ExecuteTime": {
     "end_time": "2021-09-10T06:39:11.420437Z",
     "start_time": "2021-09-10T06:39:11.301553Z"
    }
   },
   "outputs": [],
   "source": [
    "item_id = 20949\n",
    "shop_id = 28\n",
    "some_item_in_shop = train[(train.item_id == item_id) & (train.shop_id == shop_id)]"
   ]
  },
  {
   "cell_type": "code",
   "execution_count": 57,
   "id": "acute-gallery",
   "metadata": {
    "ExecuteTime": {
     "end_time": "2021-09-10T06:51:39.930905Z",
     "start_time": "2021-09-10T06:51:39.898956Z"
    }
   },
   "outputs": [],
   "source": [
    "week_info = some_item_in_shop.groupby('weeks').agg({'item_cnt_day': 'sum', 'total_income': 'sum'})\n",
    "series = week_info.item_cnt_day"
   ]
  },
  {
   "cell_type": "code",
   "execution_count": 76,
   "id": "recent-expression",
   "metadata": {
    "ExecuteTime": {
     "end_time": "2021-09-10T07:09:20.924002Z",
     "start_time": "2021-09-10T07:09:20.309157Z"
    }
   },
   "outputs": [
    {
     "data": {
      "image/png": "[encoded data removed]",
      "text/plain": [
       "<Figure size 432x288 with 1 Axes>"
      ]
     },
     "metadata": {
      "needs_background": "light"
     },
     "output_type": "display_data"
    }
   ],
   "source": [
    "plt.plot(series)\n",
    "plt.xlabel('weeks')\n",
    "plt.ylabel('item_cnt')\n",
    "plt.show()"
   ]
  },
  {
   "cell_type": "code",
   "execution_count": 48,
   "id": "double-office",
   "metadata": {
    "ExecuteTime": {
     "end_time": "2021-09-10T06:39:27.762943Z",
     "start_time": "2021-09-10T06:39:27.742973Z"
    }
   },
   "outputs": [],
   "source": [
    "month_info = some_item_in_shop.groupby('date_block_num').agg({'item_cnt_day': 'sum', 'total_income': 'sum'})"
   ]
  },
  {
   "cell_type": "code",
   "execution_count": 77,
   "id": "external-technology",
   "metadata": {
    "ExecuteTime": {
     "end_time": "2021-09-10T07:09:33.430756Z",
     "start_time": "2021-09-10T07:09:32.893701Z"
    }
   },
   "outputs": [
    {
     "data": {
      "image/png": "[encoded data removed]",
      "text/plain": [
       "<Figure size 432x288 with 1 Axes>"
      ]
     },
     "metadata": {
      "needs_background": "light"
     },
     "output_type": "display_data"
    }
   ],
   "source": [
    "plt.plot(month_info.item_cnt_day)\n",
    "plt.xlabel('months')\n",
    "plt.ylabel('item_cnt')\n",
    "plt.show()"
   ]
  },
  {
   "cell_type": "code",
   "execution_count": 52,
   "id": "ceramic-maldives",
   "metadata": {
    "ExecuteTime": {
     "end_time": "2021-09-10T06:45:11.796771Z",
     "start_time": "2021-09-10T06:45:07.006773Z"
    }
   },
   "outputs": [],
   "source": [
    "import statsmodels.api as sm"
   ]
  },
  {
   "cell_type": "code",
   "execution_count": 75,
   "id": "center-maker",
   "metadata": {
    "ExecuteTime": {
     "end_time": "2021-09-10T07:08:03.704196Z",
     "start_time": "2021-09-10T07:08:03.172327Z"
    }
   },
   "outputs": [
    {
     "data": {
      "image/png": "[encoded data removed]",
      "text/plain": [
       "<Figure size 432x288 with 1 Axes>"
      ]
     },
     "metadata": {
      "needs_background": "light"
     },
     "output_type": "display_data"
    }
   ],
   "source": [
    "sm.graphics.tsa.plot_acf(series, lags=25);"
   ]
  },
  {
   "cell_type": "code",
   "execution_count": 60,
   "id": "incorporated-gospel",
   "metadata": {
    "ExecuteTime": {
     "end_time": "2021-09-10T06:52:01.465134Z",
     "start_time": "2021-09-10T06:52:00.914210Z"
    },
    "collapsed": true
   },
   "outputs": [
    {
     "data": {
      "image/png": "[encoded data removed]",
      "text/plain": [
       "<Figure size 432x288 with 1 Axes>"
      ]
     },
     "metadata": {
      "needs_background": "light"
     },
     "output_type": "display_data"
    }
   ],
   "source": [
    "fig = sm.graphics.tsa.plot_pacf(series, lags=25);"
   ]
  },
  {
   "cell_type": "code",
   "execution_count": 84,
   "id": "durable-offense",
   "metadata": {
    "ExecuteTime": {
     "end_time": "2021-09-10T07:17:29.107528Z",
     "start_time": "2021-09-10T07:17:29.059603Z"
    }
   },
   "outputs": [
    {
     "name": "stdout",
     "output_type": "stream",
     "text": [
      "adf:  -3.647941465947644\n",
      "p-value:  0.0049079309820174565\n",
      "Critical values:  {'1%': -3.6790595944893187, '5%': -2.9678817237279103, '10%': -2.6231583472057074}\n",
      "единичных корней нет, ряд стационарен\n"
     ]
    }
   ],
   "source": [
    "test = sm.tsa.adfuller(month_info.item_cnt_day)\n",
    "print('adf: ', test[0])\n",
    "print('p-value: ', test[1])\n",
    "print('Critical values: ', test[4])\n",
    "if test[0]> test[4]['5%']: \n",
    "    print('есть единичные корни, ряд не стационарен')\n",
    "else:\n",
    "    print('единичных корней нет, ряд стационарен')"
   ]
  },
  {
   "cell_type": "code",
   "execution_count": 71,
   "id": "similar-artist",
   "metadata": {
    "ExecuteTime": {
     "end_time": "2021-09-10T07:05:53.005510Z",
     "start_time": "2021-09-10T07:05:52.846827Z"
    }
   },
   "outputs": [
    {
     "name": "stdout",
     "output_type": "stream",
     "text": [
      "adf:  -4.070097566413183\n",
      "p-value:  0.0010848179356620102\n",
      "Critical values:  {'1%': -3.438399099271788, '5%': -2.8650928286782857, '10%': -2.568661836350634}\n",
      "единичных корней нет, ряд стационарен\n"
     ]
    }
   ],
   "source": [
    "test = sm.tsa.adfuller(some_item_in_shop.item_cnt_day)\n",
    "print('adf: ', test[0])\n",
    "print('p-value: ', test[1])\n",
    "print('Critical values: ', test[4])\n",
    "if test[0]> test[4]['5%']: \n",
    "    print('есть единичные корни, ряд не стационарен')\n",
    "else:\n",
    "    print('единичных корней нет, ряд стационарен')"
   ]
  },
  {
   "cell_type": "code",
   "execution_count": 66,
   "id": "solar-midnight",
   "metadata": {
    "ExecuteTime": {
     "end_time": "2021-09-10T06:54:17.829764Z",
     "start_time": "2021-09-10T06:54:17.765862Z"
    },
    "scrolled": false
   },
   "outputs": [
    {
     "name": "stdout",
     "output_type": "stream",
     "text": [
      "adf:  -4.523044867398955\n",
      "p-value:  0.0001786217885650731\n",
      "Critical values:  {'1%': -3.485585145896754, '5%': -2.885738566292665, '10%': -2.5796759080663887}\n",
      "единичных корней нет, ряд стационарен\n"
     ]
    }
   ],
   "source": [
    "test = sm.tsa.adfuller(series)\n",
    "print('adf: ', test[0])\n",
    "print('p-value: ', test[1])\n",
    "print('Critical values: ', test[4])\n",
    "if test[0]> test[4]['5%']: \n",
    "    print('есть единичные корни, ряд не стационарен')\n",
    "else:\n",
    "    print('единичных корней нет, ряд стационарен')"
   ]
  },
  {
   "cell_type": "code",
   "execution_count": 69,
   "id": "parliamentary-tenant",
   "metadata": {
    "ExecuteTime": {
     "end_time": "2021-09-10T07:00:58.059492Z",
     "start_time": "2021-09-10T07:00:57.192003Z"
    },
    "collapsed": true
   },
   "outputs": [
    {
     "name": "stderr",
     "output_type": "stream",
     "text": [
      "c:\\users\\user\\appdata\\local\\programs\\python\\python39\\lib\\site-packages\\statsmodels\\tsa\\arima_model.py:472: FutureWarning: \n",
      "statsmodels.tsa.arima_model.ARMA and statsmodels.tsa.arima_model.ARIMA have\n",
      "been deprecated in favor of statsmodels.tsa.arima.model.ARIMA (note the .\n",
      "between arima and model) and\n",
      "statsmodels.tsa.SARIMAX. These will be removed after the 0.12 release.\n",
      "\n",
      "statsmodels.tsa.arima.model.ARIMA makes use of the statespace framework and\n",
      "is both well tested and maintained.\n",
      "\n",
      "To silence this warning and continue using ARMA and ARIMA until they are\n",
      "removed, use:\n",
      "\n",
      "import warnings\n",
      "warnings.filterwarnings('ignore', 'statsmodels.tsa.arima_model.ARMA',\n",
      "                        FutureWarning)\n",
      "warnings.filterwarnings('ignore', 'statsmodels.tsa.arima_model.ARIMA',\n",
      "                        FutureWarning)\n",
      "\n",
      "  warnings.warn(ARIMA_DEPRECATION_WARN, FutureWarning)\n",
      "c:\\users\\user\\appdata\\local\\programs\\python\\python39\\lib\\site-packages\\statsmodels\\tsa\\base\\tsa_model.py:578: ValueWarning: An unsupported index was provided and will be ignored when e.g. forecasting.\n",
      "  warnings.warn('An unsupported index was provided and will be'\n",
      "c:\\users\\user\\appdata\\local\\programs\\python\\python39\\lib\\site-packages\\statsmodels\\tsa\\base\\tsa_model.py:578: ValueWarning: An unsupported index was provided and will be ignored when e.g. forecasting.\n",
      "  warnings.warn('An unsupported index was provided and will be'\n",
      "c:\\users\\user\\appdata\\local\\programs\\python\\python39\\lib\\site-packages\\statsmodels\\tsa\\arima_model.py:472: FutureWarning: \n",
      "statsmodels.tsa.arima_model.ARMA and statsmodels.tsa.arima_model.ARIMA have\n",
      "been deprecated in favor of statsmodels.tsa.arima.model.ARIMA (note the .\n",
      "between arima and model) and\n",
      "statsmodels.tsa.SARIMAX. These will be removed after the 0.12 release.\n",
      "\n",
      "statsmodels.tsa.arima.model.ARIMA makes use of the statespace framework and\n",
      "is both well tested and maintained.\n",
      "\n",
      "To silence this warning and continue using ARMA and ARIMA until they are\n",
      "removed, use:\n",
      "\n",
      "import warnings\n",
      "warnings.filterwarnings('ignore', 'statsmodels.tsa.arima_model.ARMA',\n",
      "                        FutureWarning)\n",
      "warnings.filterwarnings('ignore', 'statsmodels.tsa.arima_model.ARIMA',\n",
      "                        FutureWarning)\n",
      "\n",
      "  warnings.warn(ARIMA_DEPRECATION_WARN, FutureWarning)\n"
     ]
    }
   ],
   "source": [
    "p, d, q = 2, 1, 1\n",
    "model = sm.tsa.ARIMA(week_info.item_cnt_day, order=(p, d, q)).fit(full_output=False, disp=0)"
   ]
  },
  {
   "cell_type": "code",
   "execution_count": 70,
   "id": "mediterranean-soviet",
   "metadata": {
    "ExecuteTime": {
     "end_time": "2021-09-10T07:01:18.514822Z",
     "start_time": "2021-09-10T07:01:18.367057Z"
    }
   },
   "outputs": [
    {
     "data": {
      "text/html": [
       "<table class=\"simpletable\">\n",
       "<caption>ARIMA Model Results</caption>\n",
       "<tr>\n",
       "  <th>Dep. Variable:</th>  <td>D.item_cnt_day</td>  <th>  No. Observations:  </th>    <td>121</td>  \n",
       "</tr>\n",
       "<tr>\n",
       "  <th>Model:</th>          <td>ARIMA(2, 1, 1)</td>  <th>  Log Likelihood     </th> <td>-593.743</td>\n",
       "</tr>\n",
       "<tr>\n",
       "  <th>Method:</th>             <td>css-mle</td>     <th>  S.D. of innovations</th>  <td>32.212</td> \n",
       "</tr>\n",
       "<tr>\n",
       "  <th>Date:</th>          <td>Fri, 10 Sep 2021</td> <th>  AIC                </th> <td>1197.486</td>\n",
       "</tr>\n",
       "<tr>\n",
       "  <th>Time:</th>              <td>10:01:18</td>     <th>  BIC                </th> <td>1211.465</td>\n",
       "</tr>\n",
       "<tr>\n",
       "  <th>Sample:</th>                <td>1</td>        <th>  HQIC               </th> <td>1203.163</td>\n",
       "</tr>\n",
       "<tr>\n",
       "  <th></th>                       <td> </td>        <th>                     </th>     <td> </td>   \n",
       "</tr>\n",
       "</table>\n",
       "<table class=\"simpletable\">\n",
       "<tr>\n",
       "            <td></td>              <th>coef</th>     <th>std err</th>      <th>z</th>      <th>P>|z|</th>  <th>[0.025</th>    <th>0.975]</th>  \n",
       "</tr>\n",
       "<tr>\n",
       "  <th>const</th>                <td>   -0.6459</td> <td>    0.177</td> <td>   -3.646</td> <td> 0.000</td> <td>   -0.993</td> <td>   -0.299</td>\n",
       "</tr>\n",
       "<tr>\n",
       "  <th>ar.L1.D.item_cnt_day</th> <td>    0.7246</td> <td>    0.090</td> <td>    8.007</td> <td> 0.000</td> <td>    0.547</td> <td>    0.902</td>\n",
       "</tr>\n",
       "<tr>\n",
       "  <th>ar.L2.D.item_cnt_day</th> <td>   -0.1842</td> <td>    0.090</td> <td>   -2.036</td> <td> 0.042</td> <td>   -0.362</td> <td>   -0.007</td>\n",
       "</tr>\n",
       "<tr>\n",
       "  <th>ma.L1.D.item_cnt_day</th> <td>   -1.0000</td> <td>    0.027</td> <td>  -37.029</td> <td> 0.000</td> <td>   -1.053</td> <td>   -0.947</td>\n",
       "</tr>\n",
       "</table>\n",
       "<table class=\"simpletable\">\n",
       "<caption>Roots</caption>\n",
       "<tr>\n",
       "    <td></td>   <th>            Real</th>  <th>         Imaginary</th> <th>         Modulus</th>  <th>        Frequency</th>\n",
       "</tr>\n",
       "<tr>\n",
       "  <th>AR.1</th> <td>           1.9665</td> <td>          -1.2492j</td> <td>           2.3298</td> <td>          -0.0901</td>\n",
       "</tr>\n",
       "<tr>\n",
       "  <th>AR.2</th> <td>           1.9665</td> <td>          +1.2492j</td> <td>           2.3298</td> <td>           0.0901</td>\n",
       "</tr>\n",
       "<tr>\n",
       "  <th>MA.1</th> <td>           1.0000</td> <td>          +0.0000j</td> <td>           1.0000</td> <td>           0.0000</td>\n",
       "</tr>\n",
       "</table>"
      ],
      "text/plain": [
       "<class 'statsmodels.iolib.summary.Summary'>\n",
       "\"\"\"\n",
       "                             ARIMA Model Results                              \n",
       "==============================================================================\n",
       "Dep. Variable:         D.item_cnt_day   No. Observations:                  121\n",
       "Model:                 ARIMA(2, 1, 1)   Log Likelihood                -593.743\n",
       "Method:                       css-mle   S.D. of innovations             32.212\n",
       "Date:                Fri, 10 Sep 2021   AIC                           1197.486\n",
       "Time:                        10:01:18   BIC                           1211.465\n",
       "Sample:                             1   HQIC                          1203.163\n",
       "                                                                              \n",
       "========================================================================================\n",
       "                           coef    std err          z      P>|z|      [0.025      0.975]\n",
       "----------------------------------------------------------------------------------------\n",
       "const                   -0.6459      0.177     -3.646      0.000      -0.993      -0.299\n",
       "ar.L1.D.item_cnt_day     0.7246      0.090      8.007      0.000       0.547       0.902\n",
       "ar.L2.D.item_cnt_day    -0.1842      0.090     -2.036      0.042      -0.362      -0.007\n",
       "ma.L1.D.item_cnt_day    -1.0000      0.027    -37.029      0.000      -1.053      -0.947\n",
       "                                    Roots                                    \n",
       "=============================================================================\n",
       "                  Real          Imaginary           Modulus         Frequency\n",
       "-----------------------------------------------------------------------------\n",
       "AR.1            1.9665           -1.2492j            2.3298           -0.0901\n",
       "AR.2            1.9665           +1.2492j            2.3298            0.0901\n",
       "MA.1            1.0000           +0.0000j            1.0000            0.0000\n",
       "-----------------------------------------------------------------------------\n",
       "\"\"\""
      ]
     },
     "execution_count": 70,
     "metadata": {},
     "output_type": "execute_result"
    }
   ],
   "source": [
    "model.summary()"
   ]
  },
  {
   "cell_type": "code",
   "execution_count": 80,
   "id": "decreased-ethnic",
   "metadata": {
    "ExecuteTime": {
     "end_time": "2021-09-10T07:15:39.181354Z",
     "start_time": "2021-09-10T07:15:39.166372Z"
    }
   },
   "outputs": [],
   "source": [
    "def EMA(y, alpha):\n",
    "    y_predict = 0\n",
    "    for y_curr in y:\n",
    "        y_predict = (1 - alpha) * y_predict + alpha * y_curr\n",
    "    y_prev = y_curr\n",
    "    while True:\n",
    "        yield y_predict\n",
    "        y_prev, y_predict = y_predict, (1 - alpha) * y_predict + alpha * y_prev"
   ]
  },
  {
   "cell_type": "code",
   "execution_count": 106,
   "id": "therapeutic-fraction",
   "metadata": {
    "ExecuteTime": {
     "end_time": "2021-09-10T07:19:55.981900Z",
     "start_time": "2021-09-10T07:19:55.961937Z"
    }
   },
   "outputs": [],
   "source": [
    "ema = EMA(month_info.item_cnt_day, 0.3)"
   ]
  },
  {
   "cell_type": "code",
   "execution_count": 107,
   "id": "rough-paste",
   "metadata": {
    "ExecuteTime": {
     "end_time": "2021-09-10T07:19:56.203780Z",
     "start_time": "2021-09-10T07:19:56.185805Z"
    }
   },
   "outputs": [],
   "source": [
    "forecast = next(ema)"
   ]
  },
  {
   "cell_type": "code",
   "execution_count": 108,
   "id": "departmental-invalid",
   "metadata": {
    "ExecuteTime": {
     "end_time": "2021-09-10T07:19:56.408261Z",
     "start_time": "2021-09-10T07:19:56.388290Z"
    }
   },
   "outputs": [
    {
     "data": {
      "text/plain": [
       "283.6554366458727"
      ]
     },
     "execution_count": 108,
     "metadata": {},
     "output_type": "execute_result"
    }
   ],
   "source": [
    "forecast"
   ]
  },
  {
   "cell_type": "code",
   "execution_count": 99,
   "id": "existing-mongolia",
   "metadata": {
    "ExecuteTime": {
     "end_time": "2021-09-10T07:19:45.956058Z",
     "start_time": "2021-09-10T07:19:45.925116Z"
    }
   },
   "outputs": [
    {
     "data": {
      "text/plain": [
       "229.0"
      ]
     },
     "execution_count": 99,
     "metadata": {},
     "output_type": "execute_result"
    }
   ],
   "source": [
    "test[(test.shop_id == shop_id) & (test.item_id == item_id)].item_cnt_day.sum()"
   ]
  },
  {
   "cell_type": "code",
   "execution_count": 110,
   "id": "continent-census",
   "metadata": {
    "ExecuteTime": {
     "end_time": "2021-09-10T07:39:02.891672Z",
     "start_time": "2021-09-10T07:39:02.822784Z"
    }
   },
   "outputs": [
    {
     "data": {
      "text/html": [
       "<div>\n",
       "<style scoped>\n",
       "    .dataframe tbody tr th:only-of-type {\n",
       "        vertical-align: middle;\n",
       "    }\n",
       "\n",
       "    .dataframe tbody tr th {\n",
       "        vertical-align: top;\n",
       "    }\n",
       "\n",
       "    .dataframe thead th {\n",
       "        text-align: right;\n",
       "    }\n",
       "</style>\n",
       "<table border=\"1\" class=\"dataframe\">\n",
       "  <thead>\n",
       "    <tr style=\"text-align: right;\">\n",
       "      <th></th>\n",
       "      <th>date</th>\n",
       "      <th>date_block_num</th>\n",
       "      <th>shop_id</th>\n",
       "      <th>item_id</th>\n",
       "      <th>item_price</th>\n",
       "      <th>item_cnt_day</th>\n",
       "      <th>item_category_id</th>\n",
       "      <th>total_income</th>\n",
       "      <th>days</th>\n",
       "      <th>weeks</th>\n",
       "    </tr>\n",
       "  </thead>\n",
       "  <tbody>\n",
       "    <tr>\n",
       "      <th>0</th>\n",
       "      <td>2013-01-01</td>\n",
       "      <td>0</td>\n",
       "      <td>18</td>\n",
       "      <td>5823</td>\n",
       "      <td>2500.0</td>\n",
       "      <td>1.0</td>\n",
       "      <td>35</td>\n",
       "      <td>2500.0</td>\n",
       "      <td>0</td>\n",
       "      <td>0</td>\n",
       "    </tr>\n",
       "    <tr>\n",
       "      <th>1</th>\n",
       "      <td>2013-01-01</td>\n",
       "      <td>0</td>\n",
       "      <td>27</td>\n",
       "      <td>5573</td>\n",
       "      <td>849.0</td>\n",
       "      <td>1.0</td>\n",
       "      <td>2</td>\n",
       "      <td>849.0</td>\n",
       "      <td>0</td>\n",
       "      <td>0</td>\n",
       "    </tr>\n",
       "    <tr>\n",
       "      <th>2</th>\n",
       "      <td>2013-01-01</td>\n",
       "      <td>0</td>\n",
       "      <td>7</td>\n",
       "      <td>1006</td>\n",
       "      <td>399.0</td>\n",
       "      <td>1.0</td>\n",
       "      <td>67</td>\n",
       "      <td>399.0</td>\n",
       "      <td>0</td>\n",
       "      <td>0</td>\n",
       "    </tr>\n",
       "    <tr>\n",
       "      <th>3</th>\n",
       "      <td>2013-01-01</td>\n",
       "      <td>0</td>\n",
       "      <td>19</td>\n",
       "      <td>17707</td>\n",
       "      <td>899.0</td>\n",
       "      <td>1.0</td>\n",
       "      <td>19</td>\n",
       "      <td>899.0</td>\n",
       "      <td>0</td>\n",
       "      <td>0</td>\n",
       "    </tr>\n",
       "    <tr>\n",
       "      <th>4</th>\n",
       "      <td>2013-01-01</td>\n",
       "      <td>0</td>\n",
       "      <td>14</td>\n",
       "      <td>19548</td>\n",
       "      <td>149.0</td>\n",
       "      <td>1.0</td>\n",
       "      <td>40</td>\n",
       "      <td>149.0</td>\n",
       "      <td>0</td>\n",
       "      <td>0</td>\n",
       "    </tr>\n",
       "  </tbody>\n",
       "</table>\n",
       "</div>"
      ],
      "text/plain": [
       "         date  date_block_num  shop_id  item_id  item_price  item_cnt_day  \\\n",
       "0  2013-01-01               0       18     5823      2500.0           1.0   \n",
       "1  2013-01-01               0       27     5573       849.0           1.0   \n",
       "2  2013-01-01               0        7     1006       399.0           1.0   \n",
       "3  2013-01-01               0       19    17707       899.0           1.0   \n",
       "4  2013-01-01               0       14    19548       149.0           1.0   \n",
       "\n",
       "   item_category_id  total_income  days  weeks  \n",
       "0                35        2500.0     0      0  \n",
       "1                 2         849.0     0      0  \n",
       "2                67         399.0     0      0  \n",
       "3                19         899.0     0      0  \n",
       "4                40         149.0     0      0  "
      ]
     },
     "execution_count": 110,
     "metadata": {},
     "output_type": "execute_result"
    }
   ],
   "source": [
    "train.head()"
   ]
  },
  {
   "cell_type": "code",
   "execution_count": null,
   "id": "instant-operation",
   "metadata": {},
   "outputs": [],
   "source": []
  }
 ],
 "metadata": {
  "kernelspec": {
   "display_name": "Python 3",
   "language": "python",
   "name": "python3"
  },
  "language_info": {
   "codemirror_mode": {
    "name": "ipython",
    "version": 3
   },
   "file_extension": ".py",
   "mimetype": "text/x-python",
   "name": "python",
   "nbconvert_exporter": "python",
   "pygments_lexer": "ipython3",
   "version": "3.9.0"
  },
  "toc": {
   "base_numbering": 1,
   "nav_menu": {},
   "number_sections": true,
   "sideBar": true,
   "skip_h1_title": false,
   "title_cell": "Table of Contents",
   "title_sidebar": "Contents",
   "toc_cell": false,
   "toc_position": {},
   "toc_section_display": true,
   "toc_window_display": false
  }
 },
 "nbformat": 4,
 "nbformat_minor": 5
}
