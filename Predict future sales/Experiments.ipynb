{
 "cells": [
  {
   "cell_type": "code",
   "execution_count": 1,
   "id": "understanding-batch",
   "metadata": {
    "ExecuteTime": {
     "end_time": "2021-11-16T08:02:26.764652Z",
     "start_time": "2021-11-16T08:02:18.921760Z"
    }
   },
   "outputs": [],
   "source": [
    "import numpy as np\n",
    "import pandas as pd\n",
    "import datetime\n",
    "import matplotlib.pyplot as plt\n",
    "from sklearn.tree import DecisionTreeRegressor\n",
    "from sklearn.linear_model import ElasticNet\n",
    "from sklearn.preprocessing import StandardScaler\n",
    "from lightgbm import LGBMRegressor\n",
    "from itertools import product\n",
    "from functools import reduce\n",
    "from sklearn.cluster import MiniBatchKMeans, KMeans\n",
    "import glob\n",
    "import re\n",
    "import warnings\n",
    "warnings.filterwarnings(\"ignore\")"
   ]
  },
  {
   "cell_type": "code",
   "execution_count": 2,
   "id": "fitting-action",
   "metadata": {
    "ExecuteTime": {
     "end_time": "2021-11-16T08:02:44.758399Z",
     "start_time": "2021-11-16T08:02:26.764652Z"
    }
   },
   "outputs": [],
   "source": [
    "X = pd.read_csv('data/X_without_lags_and_target_encoding.csv')\n",
    "y = pd.read_csv('data/y_without_lags_and_target_encoding.csv').item_cnt\n",
    "X_test = pd.read_csv('data/test_without_lags_and_target_encoding.csv', index_col='ID')"
   ]
  },
  {
   "cell_type": "code",
   "execution_count": 3,
   "id": "binary-tunisia",
   "metadata": {
    "ExecuteTime": {
     "end_time": "2021-11-16T08:02:45.626157Z",
     "start_time": "2021-11-16T08:02:44.771388Z"
    }
   },
   "outputs": [],
   "source": [
    "types = {\n",
    "    'date_block_num': 'int8',\n",
    "    'shop_id': 'int8',\n",
    "    'item_id': 'int16',\n",
    "    'item_category_id': 'int8',\n",
    "    'super_category': 'int8',\n",
    "    'category': 'int8',\n",
    "    'city': 'int8',\n",
    "    'shop_type': 'int8',\n",
    "    'shop_name': 'int8'\n",
    "}\n",
    "X = X.astype(types)\n",
    "X_test = X_test.astype(types)"
   ]
  },
  {
   "cell_type": "code",
   "execution_count": 4,
   "id": "occupational-variable",
   "metadata": {
    "ExecuteTime": {
     "end_time": "2021-11-16T08:02:47.664437Z",
     "start_time": "2021-11-16T08:02:45.638138Z"
    }
   },
   "outputs": [],
   "source": [
    "X_train = X[X.date_block_num < 33]\n",
    "y_train = y[X.date_block_num < 33]\n",
    "\n",
    "X_val = X[X.date_block_num == 33]\n",
    "y_val = y[X.date_block_num == 33]"
   ]
  },
  {
   "cell_type": "markdown",
   "id": "processed-beach",
   "metadata": {},
   "source": [
    "# Some functions"
   ]
  },
  {
   "cell_type": "code",
   "execution_count": 5,
   "id": "offensive-nelson",
   "metadata": {
    "ExecuteTime": {
     "end_time": "2021-11-16T08:02:47.695747Z",
     "start_time": "2021-11-16T08:02:47.664437Z"
    }
   },
   "outputs": [],
   "source": [
    "def RMSE(series_true, series_predicted):\n",
    "    true = np.array(series_true)\n",
    "    predicted = np.array(series_predicted)\n",
    "    return sum((true - predicted)**2 / len(true))**0.5"
   ]
  },
  {
   "cell_type": "code",
   "execution_count": 6,
   "id": "reliable-maker",
   "metadata": {
    "ExecuteTime": {
     "end_time": "2021-11-16T08:02:47.727700Z",
     "start_time": "2021-11-16T08:02:47.705737Z"
    }
   },
   "outputs": [],
   "source": [
    "def EMA(ser, alpha):\n",
    "    y_1 = ser[0]\n",
    "    for y in ser:\n",
    "        y_1 = (1 - alpha) * y_1 + alpha * y\n",
    "    return y_1"
   ]
  },
  {
   "cell_type": "code",
   "execution_count": 7,
   "id": "visible-pharmaceutical",
   "metadata": {
    "ExecuteTime": {
     "end_time": "2021-11-16T08:02:47.759653Z",
     "start_time": "2021-11-16T08:02:47.735686Z"
    }
   },
   "outputs": [],
   "source": [
    "def submit(y_predicted):\n",
    "    my_submissions_paths = glob.glob('./data/my_submission_*.csv')\n",
    "    nums = [int(re.findall(r'\\d+', filepath)[0]) for filepath in my_submissions_paths]\n",
    "    n = max(nums) + 1\n",
    "    submission = pd.read_csv('data/sample_submission.csv')\n",
    "    submission.item_cnt_month = y_predicted\n",
    "    submission.to_csv(f'data/my_submission_{n}.csv', index=None)\n",
    "    return f'data/my_submission_{n}.csv'"
   ]
  },
  {
   "cell_type": "code",
   "execution_count": null,
   "id": "choice-rally",
   "metadata": {},
   "outputs": [],
   "source": []
  },
  {
   "cell_type": "code",
   "execution_count": 8,
   "id": "decent-operation",
   "metadata": {
    "ExecuteTime": {
     "end_time": "2021-11-16T08:02:49.554025Z",
     "start_time": "2021-11-16T08:02:47.768643Z"
    }
   },
   "outputs": [],
   "source": [
    "all_series = pd.read_pickle('data/all_series.pickle', compression='bz2')"
   ]
  },
  {
   "cell_type": "code",
   "execution_count": 9,
   "id": "allied-punch",
   "metadata": {
    "ExecuteTime": {
     "end_time": "2021-11-16T08:02:49.679767Z",
     "start_time": "2021-11-16T08:02:49.554025Z"
    }
   },
   "outputs": [
    {
     "data": {
      "text/html": [
       "<div>\n",
       "<style scoped>\n",
       "    .dataframe tbody tr th:only-of-type {\n",
       "        vertical-align: middle;\n",
       "    }\n",
       "\n",
       "    .dataframe tbody tr th {\n",
       "        vertical-align: top;\n",
       "    }\n",
       "\n",
       "    .dataframe thead th {\n",
       "        text-align: right;\n",
       "    }\n",
       "</style>\n",
       "<table border=\"1\" class=\"dataframe\">\n",
       "  <thead>\n",
       "    <tr style=\"text-align: right;\">\n",
       "      <th></th>\n",
       "      <th>shop_id</th>\n",
       "      <th>item_id</th>\n",
       "      <th>0</th>\n",
       "      <th>1</th>\n",
       "      <th>2</th>\n",
       "      <th>3</th>\n",
       "      <th>4</th>\n",
       "      <th>5</th>\n",
       "      <th>6</th>\n",
       "      <th>7</th>\n",
       "      <th>...</th>\n",
       "      <th>24</th>\n",
       "      <th>25</th>\n",
       "      <th>26</th>\n",
       "      <th>27</th>\n",
       "      <th>28</th>\n",
       "      <th>29</th>\n",
       "      <th>30</th>\n",
       "      <th>31</th>\n",
       "      <th>32</th>\n",
       "      <th>33</th>\n",
       "    </tr>\n",
       "  </thead>\n",
       "  <tbody>\n",
       "    <tr>\n",
       "      <th>0</th>\n",
       "      <td>2</td>\n",
       "      <td>0</td>\n",
       "      <td>0</td>\n",
       "      <td>0</td>\n",
       "      <td>0</td>\n",
       "      <td>0</td>\n",
       "      <td>0</td>\n",
       "      <td>0</td>\n",
       "      <td>0</td>\n",
       "      <td>0</td>\n",
       "      <td>...</td>\n",
       "      <td>0</td>\n",
       "      <td>0</td>\n",
       "      <td>0</td>\n",
       "      <td>0</td>\n",
       "      <td>0</td>\n",
       "      <td>0</td>\n",
       "      <td>0</td>\n",
       "      <td>0</td>\n",
       "      <td>0</td>\n",
       "      <td>0</td>\n",
       "    </tr>\n",
       "    <tr>\n",
       "      <th>1</th>\n",
       "      <td>2</td>\n",
       "      <td>1</td>\n",
       "      <td>0</td>\n",
       "      <td>0</td>\n",
       "      <td>0</td>\n",
       "      <td>0</td>\n",
       "      <td>0</td>\n",
       "      <td>0</td>\n",
       "      <td>0</td>\n",
       "      <td>0</td>\n",
       "      <td>...</td>\n",
       "      <td>0</td>\n",
       "      <td>0</td>\n",
       "      <td>0</td>\n",
       "      <td>0</td>\n",
       "      <td>0</td>\n",
       "      <td>0</td>\n",
       "      <td>0</td>\n",
       "      <td>0</td>\n",
       "      <td>0</td>\n",
       "      <td>0</td>\n",
       "    </tr>\n",
       "    <tr>\n",
       "      <th>2</th>\n",
       "      <td>2</td>\n",
       "      <td>2</td>\n",
       "      <td>0</td>\n",
       "      <td>0</td>\n",
       "      <td>0</td>\n",
       "      <td>0</td>\n",
       "      <td>0</td>\n",
       "      <td>0</td>\n",
       "      <td>0</td>\n",
       "      <td>0</td>\n",
       "      <td>...</td>\n",
       "      <td>0</td>\n",
       "      <td>0</td>\n",
       "      <td>0</td>\n",
       "      <td>0</td>\n",
       "      <td>0</td>\n",
       "      <td>0</td>\n",
       "      <td>0</td>\n",
       "      <td>0</td>\n",
       "      <td>0</td>\n",
       "      <td>0</td>\n",
       "    </tr>\n",
       "    <tr>\n",
       "      <th>3</th>\n",
       "      <td>2</td>\n",
       "      <td>3</td>\n",
       "      <td>0</td>\n",
       "      <td>0</td>\n",
       "      <td>0</td>\n",
       "      <td>0</td>\n",
       "      <td>0</td>\n",
       "      <td>0</td>\n",
       "      <td>0</td>\n",
       "      <td>0</td>\n",
       "      <td>...</td>\n",
       "      <td>0</td>\n",
       "      <td>0</td>\n",
       "      <td>0</td>\n",
       "      <td>0</td>\n",
       "      <td>0</td>\n",
       "      <td>0</td>\n",
       "      <td>0</td>\n",
       "      <td>0</td>\n",
       "      <td>0</td>\n",
       "      <td>0</td>\n",
       "    </tr>\n",
       "    <tr>\n",
       "      <th>4</th>\n",
       "      <td>2</td>\n",
       "      <td>4</td>\n",
       "      <td>0</td>\n",
       "      <td>0</td>\n",
       "      <td>0</td>\n",
       "      <td>0</td>\n",
       "      <td>0</td>\n",
       "      <td>0</td>\n",
       "      <td>0</td>\n",
       "      <td>0</td>\n",
       "      <td>...</td>\n",
       "      <td>0</td>\n",
       "      <td>0</td>\n",
       "      <td>0</td>\n",
       "      <td>0</td>\n",
       "      <td>0</td>\n",
       "      <td>0</td>\n",
       "      <td>0</td>\n",
       "      <td>0</td>\n",
       "      <td>0</td>\n",
       "      <td>0</td>\n",
       "    </tr>\n",
       "  </tbody>\n",
       "</table>\n",
       "<p>5 rows × 36 columns</p>\n",
       "</div>"
      ],
      "text/plain": [
       "   shop_id  item_id  0  1  2  3  4  5  6  7  ...  24  25  26  27  28  29  30  \\\n",
       "0        2        0  0  0  0  0  0  0  0  0  ...   0   0   0   0   0   0   0   \n",
       "1        2        1  0  0  0  0  0  0  0  0  ...   0   0   0   0   0   0   0   \n",
       "2        2        2  0  0  0  0  0  0  0  0  ...   0   0   0   0   0   0   0   \n",
       "3        2        3  0  0  0  0  0  0  0  0  ...   0   0   0   0   0   0   0   \n",
       "4        2        4  0  0  0  0  0  0  0  0  ...   0   0   0   0   0   0   0   \n",
       "\n",
       "   31  32  33  \n",
       "0   0   0   0  \n",
       "1   0   0   0  \n",
       "2   0   0   0  \n",
       "3   0   0   0  \n",
       "4   0   0   0  \n",
       "\n",
       "[5 rows x 36 columns]"
      ]
     },
     "execution_count": 9,
     "metadata": {},
     "output_type": "execute_result"
    }
   ],
   "source": [
    "all_series.head()"
   ]
  },
  {
   "cell_type": "markdown",
   "id": "straight-default",
   "metadata": {},
   "source": [
    "# Training models"
   ]
  },
  {
   "cell_type": "markdown",
   "id": "educated-marble",
   "metadata": {},
   "source": [
    "### class MyAbstractModel"
   ]
  },
  {
   "cell_type": "markdown",
   "id": "broadband-regular",
   "metadata": {},
   "source": [
    "The interface of classes.  \n",
    "The *fit* method extract all time series for each (shop_id, item_id) element.  \n",
    "The *predict_shop_item* method returns the prediction for one (shop_id, item_id) element.  \n",
    "The *predict* method returns the array of clipped predictions for each of the (shop_id, item_id) element.  "
   ]
  },
  {
   "cell_type": "code",
   "execution_count": 10,
   "id": "welsh-memorial",
   "metadata": {
    "ExecuteTime": {
     "end_time": "2021-11-16T08:08:26.196156Z",
     "start_time": "2021-11-16T08:08:26.159212Z"
    }
   },
   "outputs": [],
   "source": [
    "class MyAbstractModel:\n",
    "\n",
    "    def __init__(self, model_init, n_clusters=100, *model_args, **model_kwargs):\n",
    "        self.model_init = model_init\n",
    "        self.n_clusters = n_clusters\n",
    "        self.model_args = model_args\n",
    "        self.model_kwargs = model_kwargs\n",
    "\n",
    "    def _fit_cluster_model(self, X_tseries, model_num):\n",
    "        pass\n",
    "\n",
    "    def fit(self, X_train, y_train):\n",
    "        X = X_train.copy()\n",
    "        X['target'] = y_train\n",
    "        self.all_series = X.groupby(\n",
    "            ['shop_id', 'item_id', 'date_block_num']).target.sum().unstack(fill_value=0).clip(0, 20)\n",
    "\n",
    "        if self.n_clusters > 0:\n",
    "            self.kmeans = MiniBatchKMeans(\n",
    "                n_clusters=self.n_clusters, random_state=0)\n",
    "            self.kmeans.fit(self.all_series)\n",
    "\n",
    "        if self.model_init is None:\n",
    "            self.cluster_models = [None] * self.n_clusters\n",
    "            return\n",
    "            \n",
    "        self.cluster_models = []\n",
    "        for i in range(self.n_clusters):\n",
    "            X = self.all_series[self.kmeans.labels_ == i]\n",
    "            model = self.model_init(*self.model_args, **self.model_kwargs)\n",
    "            self.cluster_models.append(model)\n",
    "            self._fit_cluster_model(X, i)\n",
    "\n",
    "    def _predict_with_cluster_model(self, X, model_num):\n",
    "        pass\n",
    "\n",
    "#     def predict_shop_item(self, shop_id, item_id):\n",
    "#         try:\n",
    "#             ser = self.all_series.loc[[(shop_id, item_id)]]\n",
    "#         except KeyError as e:\n",
    "#             return 0\n",
    "\n",
    "#         label = self.kmeans.predict(ser)[0]\n",
    "#         return self._predict_with_cluster_model(ser, self.cluster_models[label])[0]\n",
    "\n",
    "    def predict(self, X):\n",
    "        sers = self.all_series.merge(X[['shop_id', 'item_id']], on=['shop_id', 'item_id'], how='right')\\\n",
    "            .fillna(0).drop(columns=['shop_id', 'item_id'])\n",
    "        prediction = pd.DataFrame({'target': np.zeros(len(sers))})\n",
    "        prediction['cluster'] = self.kmeans.predict(sers)\n",
    "        for cluster in prediction.cluster.unique():\n",
    "            prediction.target[(prediction.cluster == cluster).values] = self._predict_with_cluster_model(\n",
    "                sers[(prediction.cluster == cluster).values],\n",
    "                cluster)\n",
    "        return prediction.target.clip(0, 20)"
   ]
  },
  {
   "cell_type": "markdown",
   "id": "saved-wales",
   "metadata": {},
   "source": [
    "## Model with lag features"
   ]
  },
  {
   "cell_type": "code",
   "execution_count": 47,
   "id": "representative-paris",
   "metadata": {
    "ExecuteTime": {
     "end_time": "2021-11-16T08:22:41.443174Z",
     "start_time": "2021-11-16T08:22:41.396444Z"
    }
   },
   "outputs": [],
   "source": [
    "class ModelWithLags(MyAbstractModel):\n",
    "    \n",
    "    def __init__(self, model_init, n_clusters=100, window=12, scale=False, *model_args, **model_kwargs):\n",
    "        MyAbstractModel.__init__(self, model_init, n_clusters, *model_args, **model_kwargs)\n",
    "        self.window = window\n",
    "        self.scale = scale\n",
    "        if scale:\n",
    "            self.scalers = [StandardScaler() for i in range(self.n_clusters)]\n",
    "    \n",
    "    def _fit_cluster_model(self, X_tseries, model_num):\n",
    "        if len(X_tseries) == 0:\n",
    "            return\n",
    "        X_tseries = X_tseries.rename(columns=str).sample(min(1000, len(X_tseries)), random_state=0)\n",
    "        \n",
    "        X = pd.DataFrame({str(i): [] for i in range(self.window + 1)}, dtype='int8')\n",
    "        for k in range(len(X_tseries.columns) - self.window):\n",
    "            X = pd.concat([X, X_tseries.loc[:, str(k) : str(k + self.window)].set_axis(X.columns, axis=1)])\n",
    "        \n",
    "        X, y = X.drop(columns=str(self.window)), X[str(self.window)]\n",
    "        if self.scale:\n",
    "            X = self.scalers[model_num].fit_transform(X)\n",
    "        self.cluster_models[model_num].fit(X, y)\n",
    "    \n",
    "    def _predict_with_cluster_model(self, X_tseries, model_num):\n",
    "        X = X_tseries.rename(columns=str)\n",
    "        X = X.loc[:, str(len(X.columns) - self.window) : str(len(X.columns) - 1)]\n",
    "        if self.scale:\n",
    "            X = self.scalers[model_num].transform(X)\n",
    "        return self.cluster_models[model_num].predict(X)"
   ]
  },
  {
   "cell_type": "markdown",
   "id": "north-durham",
   "metadata": {},
   "source": [
    "## class ModelEMADefault"
   ]
  },
  {
   "cell_type": "markdown",
   "id": "psychological-ensemble",
   "metadata": {},
   "source": [
    "It expands the previous interface with the *predict_small_history* method which is used when the time series has a lot of zeros. The meaning of \"a lot of zeros\" is defined for each subclass (e.g. the number of zeros is greater than 20)."
   ]
  },
  {
   "cell_type": "code",
   "execution_count": 48,
   "id": "accomplished-spring",
   "metadata": {
    "ExecuteTime": {
     "end_time": "2021-11-16T08:22:43.789297Z",
     "start_time": "2021-11-16T08:22:43.761339Z"
    }
   },
   "outputs": [],
   "source": [
    "class ModelEMADefault(ModelWithLags):\n",
    "\n",
    "    def __init__(self, model_init, n_clusters=100, window=12, scale=False, ema_koeff=0.4, ema_threshold=-12, *model_args, **model_kwargs):\n",
    "        ModelWithLags.__init__(self, model_init, n_clusters, window, scale, *model_args, **model_kwargs)\n",
    "        self.ema_koeff = ema_koeff\n",
    "        self.ema_threshold = ema_threshold\n",
    "\n",
    "    def _predict_small_history(self, X_tseries):\n",
    "        return EMA(X_tseries.iloc[:, :self.ema_threshold].to_numpy().T, self.ema_koeff)\n",
    "    \n",
    "    def predict(self, X):\n",
    "        sers = self.all_series.merge(X[['shop_id', 'item_id']], on=['shop_id', 'item_id'], how='right')\\\n",
    "            .fillna(0).drop(columns=['shop_id', 'item_id'])\n",
    "        prediction = pd.DataFrame({'target': np.zeros(len(sers))})\n",
    "        prediction['cluster'] = self.kmeans.predict(sers)\n",
    "        for cluster in prediction.cluster.unique():\n",
    "            prediction.target[(prediction.cluster == cluster).values] = self._predict_with_cluster_model(\n",
    "                sers[(prediction.cluster == cluster).values],\n",
    "                cluster)\n",
    "        small_series = True\n",
    "        for col in sers.iloc[:, :self.ema_threshold].columns:\n",
    "            small_series &= (sers[col] == 0)\n",
    "        prediction.target[small_series] = self._predict_small_history(sers[small_series])\n",
    "        return prediction.target.clip(0, 20)"
   ]
  },
  {
   "cell_type": "code",
   "execution_count": 92,
   "id": "sensitive-boundary",
   "metadata": {
    "ExecuteTime": {
     "end_time": "2021-11-15T07:43:31.080148Z",
     "start_time": "2021-11-15T07:43:31.065371Z"
    }
   },
   "outputs": [],
   "source": [
    "model_ema = ModelEMADefault(LGBMRegressor)"
   ]
  },
  {
   "cell_type": "code",
   "execution_count": 93,
   "id": "exotic-symbol",
   "metadata": {
    "ExecuteTime": {
     "end_time": "2021-11-15T07:44:56.663082Z",
     "start_time": "2021-11-15T07:43:31.701549Z"
    }
   },
   "outputs": [],
   "source": [
    "model_ema.fit(X_train, y_train)"
   ]
  },
  {
   "cell_type": "code",
   "execution_count": 94,
   "id": "facial-fundamentals",
   "metadata": {
    "ExecuteTime": {
     "end_time": "2021-11-15T07:45:02.993332Z",
     "start_time": "2021-11-15T07:44:56.665125Z"
    }
   },
   "outputs": [],
   "source": [
    "model_ema_predicted = model_ema.predict(X_val)"
   ]
  },
  {
   "cell_type": "code",
   "execution_count": 95,
   "id": "interim-blast",
   "metadata": {
    "ExecuteTime": {
     "end_time": "2021-11-15T07:45:03.169621Z",
     "start_time": "2021-11-15T07:45:02.993332Z"
    }
   },
   "outputs": [
    {
     "data": {
      "text/plain": [
       "1.08448436644212"
      ]
     },
     "execution_count": 95,
     "metadata": {},
     "output_type": "execute_result"
    }
   ],
   "source": [
    "RMSE(y_val, model_ema_predicted)"
   ]
  },
  {
   "cell_type": "code",
   "execution_count": null,
   "id": "honest-analyst",
   "metadata": {},
   "outputs": [],
   "source": []
  },
  {
   "cell_type": "code",
   "execution_count": 23,
   "id": "posted-excellence",
   "metadata": {
    "ExecuteTime": {
     "end_time": "2021-11-15T06:52:08.693851Z",
     "start_time": "2021-11-15T06:52:08.670893Z"
    }
   },
   "outputs": [],
   "source": [
    "model = ModelWithLags(LGBMRegressor)"
   ]
  },
  {
   "cell_type": "code",
   "execution_count": 24,
   "id": "persistent-colony",
   "metadata": {
    "ExecuteTime": {
     "end_time": "2021-11-15T06:53:25.832512Z",
     "start_time": "2021-11-15T06:52:08.969494Z"
    }
   },
   "outputs": [],
   "source": [
    "model.fit(X_train, y_train)"
   ]
  },
  {
   "cell_type": "code",
   "execution_count": 25,
   "id": "incorporate-encoding",
   "metadata": {
    "ExecuteTime": {
     "end_time": "2021-11-15T06:53:32.291128Z",
     "start_time": "2021-11-15T06:53:25.832512Z"
    }
   },
   "outputs": [],
   "source": [
    "lgbm_predicted = model.predict(X_val)"
   ]
  },
  {
   "cell_type": "code",
   "execution_count": 26,
   "id": "electrical-baltimore",
   "metadata": {
    "ExecuteTime": {
     "end_time": "2021-11-15T06:53:32.465045Z",
     "start_time": "2021-11-15T06:53:32.291128Z"
    },
    "scrolled": true
   },
   "outputs": [
    {
     "data": {
      "text/plain": [
       "1.05011346992464"
      ]
     },
     "execution_count": 26,
     "metadata": {},
     "output_type": "execute_result"
    }
   ],
   "source": [
    "RMSE(y_val, lgbm_predicted)"
   ]
  },
  {
   "cell_type": "code",
   "execution_count": null,
   "id": "defensive-compression",
   "metadata": {},
   "outputs": [],
   "source": []
  },
  {
   "cell_type": "code",
   "execution_count": 61,
   "id": "distinct-battle",
   "metadata": {
    "ExecuteTime": {
     "end_time": "2021-11-16T08:26:27.154092Z",
     "start_time": "2021-11-16T08:26:27.141101Z"
    }
   },
   "outputs": [],
   "source": [
    "lin_reg_model = ModelWithLags(ElasticNet)"
   ]
  },
  {
   "cell_type": "code",
   "execution_count": 62,
   "id": "silent-prospect",
   "metadata": {
    "ExecuteTime": {
     "end_time": "2021-11-16T08:27:37.045841Z",
     "start_time": "2021-11-16T08:26:27.468911Z"
    }
   },
   "outputs": [],
   "source": [
    "lin_reg_model.fit(X_train, y_train)"
   ]
  },
  {
   "cell_type": "code",
   "execution_count": 63,
   "id": "mental-slave",
   "metadata": {
    "ExecuteTime": {
     "end_time": "2021-11-16T08:27:46.279002Z",
     "start_time": "2021-11-16T08:27:37.057553Z"
    }
   },
   "outputs": [],
   "source": [
    "lin_reg_predicted = lin_reg_model.predict(X_val)"
   ]
  },
  {
   "cell_type": "code",
   "execution_count": 64,
   "id": "placed-scheme",
   "metadata": {
    "ExecuteTime": {
     "end_time": "2021-11-16T08:27:46.501814Z",
     "start_time": "2021-11-16T08:27:46.291181Z"
    }
   },
   "outputs": [
    {
     "data": {
      "text/plain": [
       "0.9911689580648018"
      ]
     },
     "execution_count": 64,
     "metadata": {},
     "output_type": "execute_result"
    }
   ],
   "source": [
    "RMSE(y_val, lin_reg_predicted)"
   ]
  },
  {
   "cell_type": "code",
   "execution_count": null,
   "id": "environmental-guyana",
   "metadata": {},
   "outputs": [],
   "source": []
  },
  {
   "cell_type": "code",
   "execution_count": 65,
   "id": "exotic-sending",
   "metadata": {
    "ExecuteTime": {
     "end_time": "2021-11-16T08:27:46.562695Z",
     "start_time": "2021-11-16T08:27:46.513993Z"
    }
   },
   "outputs": [],
   "source": [
    "scaled_lin_reg_model = ModelWithLags(ElasticNet, scale=True)"
   ]
  },
  {
   "cell_type": "code",
   "execution_count": 66,
   "id": "jewish-pacific",
   "metadata": {
    "ExecuteTime": {
     "end_time": "2021-11-16T08:29:08.604702Z",
     "start_time": "2021-11-16T08:27:46.572817Z"
    }
   },
   "outputs": [],
   "source": [
    "scaled_lin_reg_model.fit(X_train, y_train)"
   ]
  },
  {
   "cell_type": "code",
   "execution_count": 67,
   "id": "veterinary-library",
   "metadata": {
    "ExecuteTime": {
     "end_time": "2021-11-16T08:29:19.548774Z",
     "start_time": "2021-11-16T08:29:08.617182Z"
    }
   },
   "outputs": [],
   "source": [
    "scaled_lin_reg_predicted = scaled_lin_reg_model.predict(X_val)"
   ]
  },
  {
   "cell_type": "code",
   "execution_count": 68,
   "id": "temporal-uganda",
   "metadata": {
    "ExecuteTime": {
     "end_time": "2021-11-16T08:29:19.815364Z",
     "start_time": "2021-11-16T08:29:19.557765Z"
    }
   },
   "outputs": [
    {
     "data": {
      "text/plain": [
       "1.008301865559978"
      ]
     },
     "execution_count": 68,
     "metadata": {},
     "output_type": "execute_result"
    }
   ],
   "source": [
    "RMSE(y_val, scaled_lin_reg_predicted)"
   ]
  },
  {
   "cell_type": "code",
   "execution_count": 70,
   "id": "mediterranean-british",
   "metadata": {
    "ExecuteTime": {
     "end_time": "2021-11-16T08:30:37.306183Z",
     "start_time": "2021-11-16T08:30:37.274638Z"
    }
   },
   "outputs": [
    {
     "data": {
      "text/plain": [
       "array([0.025     , 0.03042857, 0.03042857, 0.03528571, 0.03985714,\n",
       "       0.04333333, 0.04333333, 0.04333333, 0.04752381, 0.05157143,\n",
       "       0.04628571, 0.0522381 ])"
      ]
     },
     "execution_count": 70,
     "metadata": {},
     "output_type": "execute_result"
    }
   ],
   "source": [
    "scaled_lin_reg_model.scalers[0].mean_"
   ]
  },
  {
   "cell_type": "code",
   "execution_count": 73,
   "id": "fewer-track",
   "metadata": {
    "ExecuteTime": {
     "end_time": "2021-11-16T08:30:59.235377Z",
     "start_time": "2021-11-16T08:30:59.214406Z"
    },
    "scrolled": true
   },
   "outputs": [
    {
     "data": {
      "text/plain": [
       "array([0.02580357, 0.03216934, 0.03216934, 0.0367073 , 0.04093522,\n",
       "       0.04412222, 0.04412222, 0.04412222, 0.0492653 , 0.05329277,\n",
       "       0.04795287, 0.0533188 ])"
      ]
     },
     "execution_count": 73,
     "metadata": {},
     "output_type": "execute_result"
    }
   ],
   "source": [
    "scaled_lin_reg_model.scalers[0].var_"
   ]
  },
  {
   "cell_type": "markdown",
   "id": "hollywood-glucose",
   "metadata": {},
   "source": [
    "## EMA model"
   ]
  },
  {
   "cell_type": "code",
   "execution_count": 135,
   "id": "fitted-california",
   "metadata": {
    "ExecuteTime": {
     "end_time": "2021-11-15T16:28:43.184127Z",
     "start_time": "2021-11-15T16:28:43.120223Z"
    }
   },
   "outputs": [],
   "source": [
    "class Poly:\n",
    "    def __init__(self, coeffs):\n",
    "        self.coeffs = coeffs.copy()\n",
    "        while (len(self.coeffs) > 0) and (self.coeffs[-1] == 0):\n",
    "            self.coeffs = self.coeffs[:-1]\n",
    "        if len(self.coeffs) == 0:\n",
    "            self.coeffs = [0]\n",
    "        self.coeffs = np.array(self.coeffs, dtype='int64')\n",
    "        self.deg = len(self.coeffs) - 1\n",
    "\n",
    "    def __add__(self, other):\n",
    "        d = max(self.deg, other.deg)\n",
    "        return Poly(\n",
    "            np.append(self.coeffs, np.zeros(d - self.deg)) +\n",
    "            np.append(other.coeffs, np.zeros(d - other.deg)))\n",
    "\n",
    "    def __mul__(self, other):\n",
    "        if isinstance(other, (float, int, complex)):\n",
    "            return Poly(self.coeffs * other)\n",
    "        coeffs = np.zeros(self.deg + other.deg + 1)\n",
    "        for i, a in enumerate(self.coeffs):\n",
    "            for j, b in enumerate(other.coeffs):\n",
    "                coeffs[i + j] += a * b\n",
    "        return Poly(coeffs)\n",
    "\n",
    "    def value(self, x):\n",
    "        s = 0\n",
    "        for coeff in self.coeffs[::-1]:\n",
    "            s = s * x + coeff\n",
    "        return s\n",
    "\n",
    "    def der(self):\n",
    "        if self.deg == 0:\n",
    "            return Poly([0])\n",
    "        return Poly(self.coeffs[1:] * np.arange(1, self.deg + 1))\n",
    "\n",
    "    def __repr__(self):\n",
    "        return str(self.coeffs)\n",
    "\n",
    "\n",
    "class EMA_best:\n",
    "\n",
    "    def __init__(self):\n",
    "        self.beta = 1\n",
    "\n",
    "    def fit(self, X):\n",
    "        if len(X) == 0:\n",
    "            return\n",
    "        err_pol = Poly([0])\n",
    "        for x in X.values:\n",
    "            pol = Poly(x[-2::-1] - x[-1:0:-1])\n",
    "            err_pol = err_pol + pol * pol\n",
    "        der_err = err_pol.der()\n",
    "        roots = map(lambda root: root.real,\n",
    "                    list(filter(\n",
    "                        lambda root: (root.imag == 0) and (\n",
    "                            0 <= root.real <= 1),\n",
    "                        np.roots(der_err.coeffs[::-1])\n",
    "                    )))\n",
    "        err_values = {root: err_pol.value(root) for root in roots}\n",
    "        err_values.update({\n",
    "            0: err_pol.value(0),\n",
    "            1: err_pol.value(1)\n",
    "        })\n",
    "        self.beta = list(err_values.keys())[np.argmin(list(err_values.values()))]\n",
    "    \n",
    "    def predict(self, X):\n",
    "        return EMA(X.to_numpy().T, 1 - self.beta)\n",
    "\n",
    "\n",
    "class EMAModel(MyAbstractModel):\n",
    "    \n",
    "    def __init__(self, n_clusters=100):\n",
    "        MyAbstractModel.__init__(self, model_init=EMA_best, n_clusters=n_clusters)\n",
    "\n",
    "    def _fit_cluster_model(self, X_tseries, model_num):\n",
    "        X_tseries = X_tseries.sample(min(1000, len(X_tseries)), random_state=0)\n",
    "        self.model[model_num].fit(X_tseries)\n",
    "\n",
    "    def _predict_with_cluster_model(self, X, model_num):\n",
    "        return self.models[model_num].predict(X)   "
   ]
  },
  {
   "cell_type": "code",
   "execution_count": 116,
   "id": "pediatric-signature",
   "metadata": {
    "ExecuteTime": {
     "end_time": "2021-11-15T15:58:39.715127Z",
     "start_time": "2021-11-15T15:58:39.649235Z"
    }
   },
   "outputs": [],
   "source": [
    "ema_model = EMAModel(n_clusters=10)"
   ]
  },
  {
   "cell_type": "code",
   "execution_count": 117,
   "id": "simplified-lewis",
   "metadata": {
    "ExecuteTime": {
     "end_time": "2021-11-15T15:59:33.326892Z",
     "start_time": "2021-11-15T15:58:39.899837Z"
    },
    "collapsed": true
   },
   "outputs": [
    {
     "name": "stdout",
     "output_type": "stream",
     "text": [
      "{0.7618074168084813: 421.08248817597985, 0: 472, 1: 1044}\n",
      "{0.9866093605984134: 324.8451939817905, 0.7848832020141339: 326.7582333700262, 0.6142336311193872: 326.579754204828, 0: 331, 1: 325}\n",
      "{0: 3, 1: 0}\n",
      "{0.9747532852182332: 921.3638435705543, 0.8973947219367757: 1282.4468557028542, 0.5146784431246885: 665.1215469964154, 0: 936, 1: 1539}\n",
      "{0.5587438797795655: 1871.3792240462503, 0: 2640, 1: 2931}\n",
      "{0.5955556870350796: 269.58133881885396, 0: 360, 1: 24991}\n",
      "{0.9647471109242624: 261.32269648836774, 0.8696869663051927: 302.485543567826, 0.5659071475755265: 240.6400205511168, 0: 359, 1: 380}\n",
      "{0.8855686431916306: 15824.68054432136, 0.5290133963464067: 20757.593910501233, 0.1890943940622447: 19712.17701042125, 0: 20698, 1: 49846}\n"
     ]
    }
   ],
   "source": [
    "ema_model.fit(X_train, y_train)"
   ]
  },
  {
   "cell_type": "code",
   "execution_count": 118,
   "id": "technological-territory",
   "metadata": {
    "ExecuteTime": {
     "end_time": "2021-11-15T15:59:36.841369Z",
     "start_time": "2021-11-15T15:59:33.337882Z"
    },
    "scrolled": true
   },
   "outputs": [],
   "source": [
    "ema_predicted = ema_model.predict(X_val)"
   ]
  },
  {
   "cell_type": "code",
   "execution_count": 119,
   "id": "agreed-bones",
   "metadata": {
    "ExecuteTime": {
     "end_time": "2021-11-15T15:59:37.017093Z",
     "start_time": "2021-11-15T15:59:36.853354Z"
    }
   },
   "outputs": [
    {
     "data": {
      "text/plain": [
       "1.003067150146094"
      ]
     },
     "execution_count": 119,
     "metadata": {},
     "output_type": "execute_result"
    }
   ],
   "source": [
    "RMSE(y_val, ema_predicted)"
   ]
  },
  {
   "cell_type": "markdown",
   "id": "noble-farmer",
   "metadata": {},
   "source": [
    "## Common EMA model"
   ]
  },
  {
   "cell_type": "code",
   "execution_count": 143,
   "id": "identical-laptop",
   "metadata": {
    "ExecuteTime": {
     "end_time": "2021-11-15T16:37:21.639105Z",
     "start_time": "2021-11-15T16:37:21.621133Z"
    }
   },
   "outputs": [],
   "source": [
    "class CommonEMAModel(MyAbstractModel):\n",
    "    def __init__(self, ema_alpha=0.4):\n",
    "        MyAbstractModel.__init__(self, None, n_clusters=0)\n",
    "        self.ema_alpha = ema_alpha\n",
    "    \n",
    "    def predict(self, X):\n",
    "        sers = self.all_series.merge(X[['shop_id', 'item_id']], on=['shop_id', 'item_id'], how='right')\\\n",
    "            .fillna(0).drop(columns=['shop_id', 'item_id'])\n",
    "        return EMA(sers.to_numpy().T, self.ema_alpha)  "
   ]
  },
  {
   "cell_type": "code",
   "execution_count": 153,
   "id": "catholic-present",
   "metadata": {
    "ExecuteTime": {
     "end_time": "2021-11-15T16:53:12.152158Z",
     "start_time": "2021-11-15T16:47:55.919646Z"
    }
   },
   "outputs": [],
   "source": [
    "ema_scores = {}\n",
    "for ema_alpha in np.linspace(0.1, 0.9, 9):\n",
    "    ema_model = CommonEMAModel(ema_alpha=ema_alpha)\n",
    "    ema_model.fit(X_train, y_train)\n",
    "    ema_predicted = ema_model.predict(X_val)\n",
    "    ema_scores[ema_alpha] = RMSE(y_val, ema_predicted)"
   ]
  },
  {
   "cell_type": "code",
   "execution_count": 154,
   "id": "every-degree",
   "metadata": {
    "ExecuteTime": {
     "end_time": "2021-11-15T16:53:12.834466Z",
     "start_time": "2021-11-15T16:53:12.163147Z"
    },
    "scrolled": true
   },
   "outputs": [
    {
     "data": {
      "image/png": "[encoded data removed]",
      "text/plain": [
       "<Figure size 432x288 with 1 Axes>"
      ]
     },
     "metadata": {
      "needs_background": "light"
     },
     "output_type": "display_data"
    }
   ],
   "source": [
    "plt.plot(ema_scores.keys(), ema_scores.values())\n",
    "plt.show()"
   ]
  },
  {
   "cell_type": "markdown",
   "id": "processed-scale",
   "metadata": {},
   "source": [
    "The best score:"
   ]
  },
  {
   "cell_type": "code",
   "execution_count": 155,
   "id": "advisory-alexandria",
   "metadata": {
    "ExecuteTime": {
     "end_time": "2021-11-15T16:53:12.881393Z",
     "start_time": "2021-11-15T16:53:12.844460Z"
    }
   },
   "outputs": [
    {
     "data": {
      "text/plain": [
       "0.9941518427652923"
      ]
     },
     "execution_count": 155,
     "metadata": {},
     "output_type": "execute_result"
    }
   ],
   "source": [
    "min(ema_scores.values())"
   ]
  },
  {
   "cell_type": "markdown",
   "id": "remarkable-stomach",
   "metadata": {},
   "source": [
    "The ema_koeff equals 0.3. So the ema model is better than partly const and ema model and the model with linear regression."
   ]
  },
  {
   "cell_type": "markdown",
   "id": "bottom-timothy",
   "metadata": {},
   "source": [
    "# final predictions"
   ]
  },
  {
   "cell_type": "code",
   "execution_count": 34,
   "id": "outdoor-italic",
   "metadata": {
    "ExecuteTime": {
     "end_time": "2021-11-03T16:07:40.076906Z",
     "start_time": "2021-11-03T16:07:39.992158Z"
    }
   },
   "outputs": [],
   "source": [
    "final_model = EMAModel(ema_koeff=0.3)"
   ]
  },
  {
   "cell_type": "code",
   "execution_count": 35,
   "id": "north-repository",
   "metadata": {
    "ExecuteTime": {
     "end_time": "2021-11-03T16:08:37.930090Z",
     "start_time": "2021-11-03T16:07:40.605154Z"
    }
   },
   "outputs": [],
   "source": [
    "final_model.fit(X, y)"
   ]
  },
  {
   "cell_type": "code",
   "execution_count": 36,
   "id": "distinguished-truck",
   "metadata": {
    "ExecuteTime": {
     "end_time": "2021-11-03T16:18:01.802430Z",
     "start_time": "2021-11-03T16:08:37.980306Z"
    }
   },
   "outputs": [],
   "source": [
    "final_prediction = final_model.predict(X_test)"
   ]
  },
  {
   "cell_type": "code",
   "execution_count": 37,
   "id": "curious-adventure",
   "metadata": {
    "ExecuteTime": {
     "end_time": "2021-11-03T16:18:04.431806Z",
     "start_time": "2021-11-03T16:18:01.814419Z"
    }
   },
   "outputs": [
    {
     "data": {
      "text/plain": [
       "'data/my_submission_32.csv'"
      ]
     },
     "execution_count": 37,
     "metadata": {},
     "output_type": "execute_result"
    }
   ],
   "source": [
    "submit(final_prediction)"
   ]
  },
  {
   "cell_type": "markdown",
   "id": "regular-beginning",
   "metadata": {},
   "source": [
    "The score is 1.05381. It is greater than the score of the model fitted on the dataset with lag features and some categories. It is obviously because EMA is a simple algorithm and the dataset doesn't contain information about items, their categories and shops."
   ]
  }
 ],
 "metadata": {
  "kernelspec": {
   "display_name": "Python 3",
   "language": "python",
   "name": "python3"
  },
  "language_info": {
   "codemirror_mode": {
    "name": "ipython",
    "version": 3
   },
   "file_extension": ".py",
   "mimetype": "text/x-python",
   "name": "python",
   "nbconvert_exporter": "python",
   "pygments_lexer": "ipython3",
   "version": "3.9.0"
  },
  "toc": {
   "base_numbering": 1,
   "nav_menu": {},
   "number_sections": true,
   "sideBar": true,
   "skip_h1_title": false,
   "title_cell": "Table of Contents",
   "title_sidebar": "Contents",
   "toc_cell": false,
   "toc_position": {
    "height": "calc(100% - 180px)",
    "left": "10px",
    "top": "150px",
    "width": "273.188px"
   },
   "toc_section_display": true,
   "toc_window_display": false
  }
 },
 "nbformat": 4,
 "nbformat_minor": 5
}
