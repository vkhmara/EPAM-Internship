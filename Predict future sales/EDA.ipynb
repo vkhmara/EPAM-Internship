{
 "cells": [
  {
   "cell_type": "markdown",
   "id": "received-porcelain",
   "metadata": {},
   "source": [
    "# Loading data"
   ]
  },
  {
   "cell_type": "code",
   "execution_count": 22,
   "id": "positive-invention",
   "metadata": {
    "ExecuteTime": {
     "end_time": "2021-09-14T07:00:47.707095Z",
     "start_time": "2021-09-14T07:00:47.697107Z"
    }
   },
   "outputs": [],
   "source": [
    "import numpy as np\n",
    "import pandas as pd\n",
    "import matplotlib.pyplot as plt"
   ]
  },
  {
   "cell_type": "code",
   "execution_count": 2,
   "id": "european-switch",
   "metadata": {
    "ExecuteTime": {
     "end_time": "2021-09-14T06:25:47.686243Z",
     "start_time": "2021-09-14T06:25:41.606727Z"
    }
   },
   "outputs": [],
   "source": [
    "item_categories = pd.read_csv('data/item_categories.csv')\n",
    "items = pd.read_csv('data/items.csv')\n",
    "shops = pd.read_csv('data/shops.csv')\n",
    "train_df = pd.read_csv('data/train_dataset.csv')\n",
    "test_df = pd.read_csv('data/test_dataset.csv')"
   ]
  },
  {
   "cell_type": "code",
   "execution_count": 3,
   "id": "varying-apache",
   "metadata": {
    "ExecuteTime": {
     "end_time": "2021-09-14T06:25:47.877302Z",
     "start_time": "2021-09-14T06:25:47.698366Z"
    }
   },
   "outputs": [],
   "source": [
    "item_categories = item_categories.set_index(item_categories.item_category_id).drop('item_category_id', axis=1)\n",
    "items = items.set_index(items.item_id).drop('item_id', axis=1)\n",
    "items['item_category_name'] = item_categories.loc[items['item_category_id'].array].item_category_name.array\n",
    "shops = shops.set_index(shops.shop_id).drop('shop_id', axis=1)"
   ]
  },
  {
   "cell_type": "code",
   "execution_count": 4,
   "id": "broad-attempt",
   "metadata": {
    "ExecuteTime": {
     "end_time": "2021-09-13T10:37:35.766881Z",
     "start_time": "2021-09-13T10:37:35.662904Z"
    },
    "collapsed": true
   },
   "outputs": [
    {
     "name": "stdout",
     "output_type": "stream",
     "text": [
      "<class 'pandas.core.frame.DataFrame'>\n",
      "Int64Index: 84 entries, 0 to 83\n",
      "Data columns (total 1 columns):\n",
      " #   Column              Non-Null Count  Dtype \n",
      "---  ------              --------------  ----- \n",
      " 0   item_category_name  84 non-null     object\n",
      "dtypes: object(1)\n",
      "memory usage: 3.8+ KB\n"
     ]
    },
    {
     "data": {
      "text/html": [
       "<div>\n",
       "<style scoped>\n",
       "    .dataframe tbody tr th:only-of-type {\n",
       "        vertical-align: middle;\n",
       "    }\n",
       "\n",
       "    .dataframe tbody tr th {\n",
       "        vertical-align: top;\n",
       "    }\n",
       "\n",
       "    .dataframe thead th {\n",
       "        text-align: right;\n",
       "    }\n",
       "</style>\n",
       "<table border=\"1\" class=\"dataframe\">\n",
       "  <thead>\n",
       "    <tr style=\"text-align: right;\">\n",
       "      <th></th>\n",
       "      <th>item_category_name</th>\n",
       "    </tr>\n",
       "    <tr>\n",
       "      <th>item_category_id</th>\n",
       "      <th></th>\n",
       "    </tr>\n",
       "  </thead>\n",
       "  <tbody>\n",
       "    <tr>\n",
       "      <th>0</th>\n",
       "      <td>PC - Гарнитуры/Наушники</td>\n",
       "    </tr>\n",
       "    <tr>\n",
       "      <th>1</th>\n",
       "      <td>Аксессуары - PS2</td>\n",
       "    </tr>\n",
       "    <tr>\n",
       "      <th>2</th>\n",
       "      <td>Аксессуары - PS3</td>\n",
       "    </tr>\n",
       "    <tr>\n",
       "      <th>3</th>\n",
       "      <td>Аксессуары - PS4</td>\n",
       "    </tr>\n",
       "    <tr>\n",
       "      <th>4</th>\n",
       "      <td>Аксессуары - PSP</td>\n",
       "    </tr>\n",
       "  </tbody>\n",
       "</table>\n",
       "</div>"
      ],
      "text/plain": [
       "                       item_category_name\n",
       "item_category_id                         \n",
       "0                 PC - Гарнитуры/Наушники\n",
       "1                        Аксессуары - PS2\n",
       "2                        Аксессуары - PS3\n",
       "3                        Аксессуары - PS4\n",
       "4                        Аксессуары - PSP"
      ]
     },
     "execution_count": 4,
     "metadata": {},
     "output_type": "execute_result"
    }
   ],
   "source": [
    "item_categories.info()\n",
    "item_categories.head()"
   ]
  },
  {
   "cell_type": "code",
   "execution_count": 5,
   "id": "gross-still",
   "metadata": {
    "ExecuteTime": {
     "end_time": "2021-09-13T10:37:35.862868Z",
     "start_time": "2021-09-13T10:37:35.766881Z"
    },
    "collapsed": true
   },
   "outputs": [
    {
     "name": "stdout",
     "output_type": "stream",
     "text": [
      "<class 'pandas.core.frame.DataFrame'>\n",
      "Int64Index: 22170 entries, 0 to 22169\n",
      "Data columns (total 3 columns):\n",
      " #   Column              Non-Null Count  Dtype \n",
      "---  ------              --------------  ----- \n",
      " 0   item_name           22170 non-null  object\n",
      " 1   item_category_id    22170 non-null  int64 \n",
      " 2   item_category_name  22170 non-null  object\n",
      "dtypes: int64(1), object(2)\n",
      "memory usage: 692.8+ KB\n"
     ]
    },
    {
     "data": {
      "text/html": [
       "<div>\n",
       "<style scoped>\n",
       "    .dataframe tbody tr th:only-of-type {\n",
       "        vertical-align: middle;\n",
       "    }\n",
       "\n",
       "    .dataframe tbody tr th {\n",
       "        vertical-align: top;\n",
       "    }\n",
       "\n",
       "    .dataframe thead th {\n",
       "        text-align: right;\n",
       "    }\n",
       "</style>\n",
       "<table border=\"1\" class=\"dataframe\">\n",
       "  <thead>\n",
       "    <tr style=\"text-align: right;\">\n",
       "      <th></th>\n",
       "      <th>item_name</th>\n",
       "      <th>item_category_id</th>\n",
       "      <th>item_category_name</th>\n",
       "    </tr>\n",
       "    <tr>\n",
       "      <th>item_id</th>\n",
       "      <th></th>\n",
       "      <th></th>\n",
       "      <th></th>\n",
       "    </tr>\n",
       "  </thead>\n",
       "  <tbody>\n",
       "    <tr>\n",
       "      <th>0</th>\n",
       "      <td>! ВО ВЛАСТИ НАВАЖДЕНИЯ (ПЛАСТ.)         D</td>\n",
       "      <td>40</td>\n",
       "      <td>Кино - DVD</td>\n",
       "    </tr>\n",
       "    <tr>\n",
       "      <th>1</th>\n",
       "      <td>!ABBYY FineReader 12 Professional Edition Full...</td>\n",
       "      <td>76</td>\n",
       "      <td>Программы - Для дома и офиса (Цифра)</td>\n",
       "    </tr>\n",
       "    <tr>\n",
       "      <th>2</th>\n",
       "      <td>***В ЛУЧАХ СЛАВЫ   (UNV)                    D</td>\n",
       "      <td>40</td>\n",
       "      <td>Кино - DVD</td>\n",
       "    </tr>\n",
       "    <tr>\n",
       "      <th>3</th>\n",
       "      <td>***ГОЛУБАЯ ВОЛНА  (Univ)                      D</td>\n",
       "      <td>40</td>\n",
       "      <td>Кино - DVD</td>\n",
       "    </tr>\n",
       "    <tr>\n",
       "      <th>4</th>\n",
       "      <td>***КОРОБКА (СТЕКЛО)                       D</td>\n",
       "      <td>40</td>\n",
       "      <td>Кино - DVD</td>\n",
       "    </tr>\n",
       "  </tbody>\n",
       "</table>\n",
       "</div>"
      ],
      "text/plain": [
       "                                                 item_name  item_category_id  \\\n",
       "item_id                                                                        \n",
       "0                ! ВО ВЛАСТИ НАВАЖДЕНИЯ (ПЛАСТ.)         D                40   \n",
       "1        !ABBYY FineReader 12 Professional Edition Full...                76   \n",
       "2            ***В ЛУЧАХ СЛАВЫ   (UNV)                    D                40   \n",
       "3          ***ГОЛУБАЯ ВОЛНА  (Univ)                      D                40   \n",
       "4              ***КОРОБКА (СТЕКЛО)                       D                40   \n",
       "\n",
       "                           item_category_name  \n",
       "item_id                                        \n",
       "0                                  Кино - DVD  \n",
       "1        Программы - Для дома и офиса (Цифра)  \n",
       "2                                  Кино - DVD  \n",
       "3                                  Кино - DVD  \n",
       "4                                  Кино - DVD  "
      ]
     },
     "execution_count": 5,
     "metadata": {},
     "output_type": "execute_result"
    }
   ],
   "source": [
    "items.info()\n",
    "items.head()"
   ]
  },
  {
   "cell_type": "code",
   "execution_count": 6,
   "id": "loving-white",
   "metadata": {
    "ExecuteTime": {
     "end_time": "2021-09-13T10:37:35.910864Z",
     "start_time": "2021-09-13T10:37:35.870864Z"
    },
    "collapsed": true
   },
   "outputs": [
    {
     "data": {
      "text/html": [
       "<div>\n",
       "<style scoped>\n",
       "    .dataframe tbody tr th:only-of-type {\n",
       "        vertical-align: middle;\n",
       "    }\n",
       "\n",
       "    .dataframe tbody tr th {\n",
       "        vertical-align: top;\n",
       "    }\n",
       "\n",
       "    .dataframe thead th {\n",
       "        text-align: right;\n",
       "    }\n",
       "</style>\n",
       "<table border=\"1\" class=\"dataframe\">\n",
       "  <thead>\n",
       "    <tr style=\"text-align: right;\">\n",
       "      <th></th>\n",
       "      <th>shop_name</th>\n",
       "    </tr>\n",
       "    <tr>\n",
       "      <th>shop_id</th>\n",
       "      <th></th>\n",
       "    </tr>\n",
       "  </thead>\n",
       "  <tbody>\n",
       "    <tr>\n",
       "      <th>0</th>\n",
       "      <td>!Якутск Орджоникидзе, 56 фран</td>\n",
       "    </tr>\n",
       "    <tr>\n",
       "      <th>1</th>\n",
       "      <td>!Якутск ТЦ \"Центральный\" фран</td>\n",
       "    </tr>\n",
       "    <tr>\n",
       "      <th>2</th>\n",
       "      <td>Адыгея ТЦ \"Мега\"</td>\n",
       "    </tr>\n",
       "    <tr>\n",
       "      <th>3</th>\n",
       "      <td>Балашиха ТРК \"Октябрь-Киномир\"</td>\n",
       "    </tr>\n",
       "    <tr>\n",
       "      <th>4</th>\n",
       "      <td>Волжский ТЦ \"Волга Молл\"</td>\n",
       "    </tr>\n",
       "  </tbody>\n",
       "</table>\n",
       "</div>"
      ],
      "text/plain": [
       "                              shop_name\n",
       "shop_id                                \n",
       "0         !Якутск Орджоникидзе, 56 фран\n",
       "1         !Якутск ТЦ \"Центральный\" фран\n",
       "2                      Адыгея ТЦ \"Мега\"\n",
       "3        Балашиха ТРК \"Октябрь-Киномир\"\n",
       "4              Волжский ТЦ \"Волга Молл\""
      ]
     },
     "execution_count": 6,
     "metadata": {},
     "output_type": "execute_result"
    }
   ],
   "source": [
    "shops.head()"
   ]
  },
  {
   "cell_type": "markdown",
   "id": "departmental-warrant",
   "metadata": {},
   "source": [
    "There is a row where *item_price* is negative"
   ]
  },
  {
   "cell_type": "code",
   "execution_count": 4,
   "id": "employed-precipitation",
   "metadata": {
    "ExecuteTime": {
     "end_time": "2021-09-14T06:26:06.423422Z",
     "start_time": "2021-09-14T06:26:04.465386Z"
    },
    "scrolled": false
   },
   "outputs": [
    {
     "data": {
      "text/plain": [
       "482092         -1.0000\n",
       "557971          0.0700\n",
       "568841          0.0700\n",
       "557155          0.0875\n",
       "730698          0.0900\n",
       "              ...     \n",
       "1003322     42000.0000\n",
       "2405767     49782.0000\n",
       "1514070     50999.0000\n",
       "891801      59200.0000\n",
       "1165576    307980.0000\n",
       "Name: item_price, Length: 2882335, dtype: float64"
      ]
     },
     "execution_count": 4,
     "metadata": {},
     "output_type": "execute_result"
    }
   ],
   "source": [
    "train_df.item_price.sort_values()"
   ]
  },
  {
   "cell_type": "markdown",
   "id": "returning-winter",
   "metadata": {},
   "source": [
    "The *item_id* of this item is 2973. But in other rows *item_price* is at least 1049.\n",
    "\n",
    "The table with rows where *item_id* is 2973:"
   ]
  },
  {
   "cell_type": "code",
   "execution_count": 6,
   "id": "hybrid-probability",
   "metadata": {
    "ExecuteTime": {
     "end_time": "2021-09-14T06:30:00.306312Z",
     "start_time": "2021-09-14T06:30:00.194482Z"
    },
    "scrolled": true
   },
   "outputs": [
    {
     "data": {
      "text/html": [
       "<div>\n",
       "<style scoped>\n",
       "    .dataframe tbody tr th:only-of-type {\n",
       "        vertical-align: middle;\n",
       "    }\n",
       "\n",
       "    .dataframe tbody tr th {\n",
       "        vertical-align: top;\n",
       "    }\n",
       "\n",
       "    .dataframe thead th {\n",
       "        text-align: right;\n",
       "    }\n",
       "</style>\n",
       "<table border=\"1\" class=\"dataframe\">\n",
       "  <thead>\n",
       "    <tr style=\"text-align: right;\">\n",
       "      <th></th>\n",
       "      <th>date</th>\n",
       "      <th>date_block_num</th>\n",
       "      <th>shop_id</th>\n",
       "      <th>item_id</th>\n",
       "      <th>item_price</th>\n",
       "      <th>item_cnt_day</th>\n",
       "      <th>item_category_id</th>\n",
       "      <th>total_income</th>\n",
       "      <th>days</th>\n",
       "      <th>weeks</th>\n",
       "    </tr>\n",
       "  </thead>\n",
       "  <tbody>\n",
       "    <tr>\n",
       "      <th>482092</th>\n",
       "      <td>2013-05-15</td>\n",
       "      <td>4</td>\n",
       "      <td>32</td>\n",
       "      <td>2973</td>\n",
       "      <td>-1.0</td>\n",
       "      <td>1.0</td>\n",
       "      <td>19</td>\n",
       "      <td>-1.0</td>\n",
       "      <td>134</td>\n",
       "      <td>19</td>\n",
       "    </tr>\n",
       "    <tr>\n",
       "      <th>578348</th>\n",
       "      <td>2013-06-14</td>\n",
       "      <td>5</td>\n",
       "      <td>25</td>\n",
       "      <td>2973</td>\n",
       "      <td>1049.0</td>\n",
       "      <td>1.0</td>\n",
       "      <td>19</td>\n",
       "      <td>1049.0</td>\n",
       "      <td>164</td>\n",
       "      <td>23</td>\n",
       "    </tr>\n",
       "    <tr>\n",
       "      <th>1720112</th>\n",
       "      <td>2014-06-06</td>\n",
       "      <td>17</td>\n",
       "      <td>25</td>\n",
       "      <td>2973</td>\n",
       "      <td>1248.7</td>\n",
       "      <td>1.0</td>\n",
       "      <td>19</td>\n",
       "      <td>1248.7</td>\n",
       "      <td>521</td>\n",
       "      <td>74</td>\n",
       "    </tr>\n",
       "    <tr>\n",
       "      <th>587896</th>\n",
       "      <td>2013-06-17</td>\n",
       "      <td>5</td>\n",
       "      <td>16</td>\n",
       "      <td>2973</td>\n",
       "      <td>1248.9</td>\n",
       "      <td>1.0</td>\n",
       "      <td>19</td>\n",
       "      <td>1248.9</td>\n",
       "      <td>167</td>\n",
       "      <td>24</td>\n",
       "    </tr>\n",
       "    <tr>\n",
       "      <th>579521</th>\n",
       "      <td>2013-06-14</td>\n",
       "      <td>5</td>\n",
       "      <td>21</td>\n",
       "      <td>2973</td>\n",
       "      <td>1249.0</td>\n",
       "      <td>1.0</td>\n",
       "      <td>19</td>\n",
       "      <td>1249.0</td>\n",
       "      <td>164</td>\n",
       "      <td>23</td>\n",
       "    </tr>\n",
       "    <tr>\n",
       "      <th>...</th>\n",
       "      <td>...</td>\n",
       "      <td>...</td>\n",
       "      <td>...</td>\n",
       "      <td>...</td>\n",
       "      <td>...</td>\n",
       "      <td>...</td>\n",
       "      <td>...</td>\n",
       "      <td>...</td>\n",
       "      <td>...</td>\n",
       "      <td>...</td>\n",
       "    </tr>\n",
       "    <tr>\n",
       "      <th>432533</th>\n",
       "      <td>2013-04-28</td>\n",
       "      <td>3</td>\n",
       "      <td>57</td>\n",
       "      <td>2973</td>\n",
       "      <td>2499.0</td>\n",
       "      <td>1.0</td>\n",
       "      <td>19</td>\n",
       "      <td>2499.0</td>\n",
       "      <td>117</td>\n",
       "      <td>16</td>\n",
       "    </tr>\n",
       "    <tr>\n",
       "      <th>418355</th>\n",
       "      <td>2013-04-24</td>\n",
       "      <td>3</td>\n",
       "      <td>57</td>\n",
       "      <td>2973</td>\n",
       "      <td>2499.0</td>\n",
       "      <td>1.0</td>\n",
       "      <td>19</td>\n",
       "      <td>2499.0</td>\n",
       "      <td>113</td>\n",
       "      <td>16</td>\n",
       "    </tr>\n",
       "    <tr>\n",
       "      <th>411569</th>\n",
       "      <td>2013-04-21</td>\n",
       "      <td>3</td>\n",
       "      <td>45</td>\n",
       "      <td>2973</td>\n",
       "      <td>2499.0</td>\n",
       "      <td>1.0</td>\n",
       "      <td>19</td>\n",
       "      <td>2499.0</td>\n",
       "      <td>110</td>\n",
       "      <td>15</td>\n",
       "    </tr>\n",
       "    <tr>\n",
       "      <th>461457</th>\n",
       "      <td>2013-05-07</td>\n",
       "      <td>4</td>\n",
       "      <td>31</td>\n",
       "      <td>2973</td>\n",
       "      <td>2499.0</td>\n",
       "      <td>1.0</td>\n",
       "      <td>19</td>\n",
       "      <td>2499.0</td>\n",
       "      <td>126</td>\n",
       "      <td>18</td>\n",
       "    </tr>\n",
       "    <tr>\n",
       "      <th>60288</th>\n",
       "      <td>2013-01-15</td>\n",
       "      <td>0</td>\n",
       "      <td>56</td>\n",
       "      <td>2973</td>\n",
       "      <td>2499.0</td>\n",
       "      <td>1.0</td>\n",
       "      <td>19</td>\n",
       "      <td>2499.0</td>\n",
       "      <td>14</td>\n",
       "      <td>2</td>\n",
       "    </tr>\n",
       "  </tbody>\n",
       "</table>\n",
       "<p>780 rows × 10 columns</p>\n",
       "</div>"
      ],
      "text/plain": [
       "               date  date_block_num  shop_id  item_id  item_price  \\\n",
       "482092   2013-05-15               4       32     2973        -1.0   \n",
       "578348   2013-06-14               5       25     2973      1049.0   \n",
       "1720112  2014-06-06              17       25     2973      1248.7   \n",
       "587896   2013-06-17               5       16     2973      1248.9   \n",
       "579521   2013-06-14               5       21     2973      1249.0   \n",
       "...             ...             ...      ...      ...         ...   \n",
       "432533   2013-04-28               3       57     2973      2499.0   \n",
       "418355   2013-04-24               3       57     2973      2499.0   \n",
       "411569   2013-04-21               3       45     2973      2499.0   \n",
       "461457   2013-05-07               4       31     2973      2499.0   \n",
       "60288    2013-01-15               0       56     2973      2499.0   \n",
       "\n",
       "         item_cnt_day  item_category_id  total_income  days  weeks  \n",
       "482092            1.0                19          -1.0   134     19  \n",
       "578348            1.0                19        1049.0   164     23  \n",
       "1720112           1.0                19        1248.7   521     74  \n",
       "587896            1.0                19        1248.9   167     24  \n",
       "579521            1.0                19        1249.0   164     23  \n",
       "...               ...               ...           ...   ...    ...  \n",
       "432533            1.0                19        2499.0   117     16  \n",
       "418355            1.0                19        2499.0   113     16  \n",
       "411569            1.0                19        2499.0   110     15  \n",
       "461457            1.0                19        2499.0   126     18  \n",
       "60288             1.0                19        2499.0    14      2  \n",
       "\n",
       "[780 rows x 10 columns]"
      ]
     },
     "execution_count": 6,
     "metadata": {},
     "output_type": "execute_result"
    }
   ],
   "source": [
    "min_price_item_id = train_df.loc[482092].item_id\n",
    "train_df[train_df.item_id == min_price_item_id].sort_values(by='item_price')"
   ]
  },
  {
   "cell_type": "markdown",
   "id": "placed-question",
   "metadata": {},
   "source": [
    "The row with *item_price* -1 contains *shop_id* equals 32 and *item_id* equals 2973.\n",
    "\n",
    "The table with rows where *shop_id* equals 32 and *item_id* equals 2973."
   ]
  },
  {
   "cell_type": "code",
   "execution_count": 9,
   "id": "anticipated-edgar",
   "metadata": {
    "ExecuteTime": {
     "end_time": "2021-09-14T06:33:18.210397Z",
     "start_time": "2021-09-14T06:33:18.106554Z"
    }
   },
   "outputs": [
    {
     "data": {
      "text/html": [
       "<div>\n",
       "<style scoped>\n",
       "    .dataframe tbody tr th:only-of-type {\n",
       "        vertical-align: middle;\n",
       "    }\n",
       "\n",
       "    .dataframe tbody tr th {\n",
       "        vertical-align: top;\n",
       "    }\n",
       "\n",
       "    .dataframe thead th {\n",
       "        text-align: right;\n",
       "    }\n",
       "</style>\n",
       "<table border=\"1\" class=\"dataframe\">\n",
       "  <thead>\n",
       "    <tr style=\"text-align: right;\">\n",
       "      <th></th>\n",
       "      <th>date</th>\n",
       "      <th>date_block_num</th>\n",
       "      <th>shop_id</th>\n",
       "      <th>item_id</th>\n",
       "      <th>item_price</th>\n",
       "      <th>item_cnt_day</th>\n",
       "      <th>item_category_id</th>\n",
       "      <th>total_income</th>\n",
       "      <th>days</th>\n",
       "      <th>weeks</th>\n",
       "    </tr>\n",
       "  </thead>\n",
       "  <tbody>\n",
       "    <tr>\n",
       "      <th>482092</th>\n",
       "      <td>2013-05-15</td>\n",
       "      <td>4</td>\n",
       "      <td>32</td>\n",
       "      <td>2973</td>\n",
       "      <td>-1.0</td>\n",
       "      <td>1.0</td>\n",
       "      <td>19</td>\n",
       "      <td>-1.0</td>\n",
       "      <td>134</td>\n",
       "      <td>19</td>\n",
       "    </tr>\n",
       "    <tr>\n",
       "      <th>505221</th>\n",
       "      <td>2013-05-23</td>\n",
       "      <td>4</td>\n",
       "      <td>32</td>\n",
       "      <td>2973</td>\n",
       "      <td>1249.0</td>\n",
       "      <td>1.0</td>\n",
       "      <td>19</td>\n",
       "      <td>1249.0</td>\n",
       "      <td>142</td>\n",
       "      <td>20</td>\n",
       "    </tr>\n",
       "    <tr>\n",
       "      <th>547868</th>\n",
       "      <td>2013-06-05</td>\n",
       "      <td>5</td>\n",
       "      <td>32</td>\n",
       "      <td>2973</td>\n",
       "      <td>1249.5</td>\n",
       "      <td>1.0</td>\n",
       "      <td>19</td>\n",
       "      <td>1249.5</td>\n",
       "      <td>155</td>\n",
       "      <td>22</td>\n",
       "    </tr>\n",
       "    <tr>\n",
       "      <th>60340</th>\n",
       "      <td>2013-01-15</td>\n",
       "      <td>0</td>\n",
       "      <td>32</td>\n",
       "      <td>2973</td>\n",
       "      <td>2499.0</td>\n",
       "      <td>3.0</td>\n",
       "      <td>19</td>\n",
       "      <td>7497.0</td>\n",
       "      <td>14</td>\n",
       "      <td>2</td>\n",
       "    </tr>\n",
       "    <tr>\n",
       "      <th>65974</th>\n",
       "      <td>2013-01-17</td>\n",
       "      <td>0</td>\n",
       "      <td>32</td>\n",
       "      <td>2973</td>\n",
       "      <td>2499.0</td>\n",
       "      <td>1.0</td>\n",
       "      <td>19</td>\n",
       "      <td>2499.0</td>\n",
       "      <td>16</td>\n",
       "      <td>2</td>\n",
       "    </tr>\n",
       "    <tr>\n",
       "      <th>71320</th>\n",
       "      <td>2013-01-18</td>\n",
       "      <td>0</td>\n",
       "      <td>32</td>\n",
       "      <td>2973</td>\n",
       "      <td>2499.0</td>\n",
       "      <td>1.0</td>\n",
       "      <td>19</td>\n",
       "      <td>2499.0</td>\n",
       "      <td>17</td>\n",
       "      <td>2</td>\n",
       "    </tr>\n",
       "    <tr>\n",
       "      <th>83520</th>\n",
       "      <td>2013-01-21</td>\n",
       "      <td>0</td>\n",
       "      <td>32</td>\n",
       "      <td>2973</td>\n",
       "      <td>2499.0</td>\n",
       "      <td>1.0</td>\n",
       "      <td>19</td>\n",
       "      <td>2499.0</td>\n",
       "      <td>20</td>\n",
       "      <td>3</td>\n",
       "    </tr>\n",
       "    <tr>\n",
       "      <th>85441</th>\n",
       "      <td>2013-01-22</td>\n",
       "      <td>0</td>\n",
       "      <td>32</td>\n",
       "      <td>2973</td>\n",
       "      <td>2499.0</td>\n",
       "      <td>1.0</td>\n",
       "      <td>19</td>\n",
       "      <td>2499.0</td>\n",
       "      <td>21</td>\n",
       "      <td>3</td>\n",
       "    </tr>\n",
       "    <tr>\n",
       "      <th>92628</th>\n",
       "      <td>2013-01-25</td>\n",
       "      <td>0</td>\n",
       "      <td>32</td>\n",
       "      <td>2973</td>\n",
       "      <td>2499.0</td>\n",
       "      <td>1.0</td>\n",
       "      <td>19</td>\n",
       "      <td>2499.0</td>\n",
       "      <td>24</td>\n",
       "      <td>3</td>\n",
       "    </tr>\n",
       "    <tr>\n",
       "      <th>109618</th>\n",
       "      <td>2013-01-29</td>\n",
       "      <td>0</td>\n",
       "      <td>32</td>\n",
       "      <td>2973</td>\n",
       "      <td>2499.0</td>\n",
       "      <td>1.0</td>\n",
       "      <td>19</td>\n",
       "      <td>2499.0</td>\n",
       "      <td>28</td>\n",
       "      <td>4</td>\n",
       "    </tr>\n",
       "    <tr>\n",
       "      <th>132028</th>\n",
       "      <td>2013-02-05</td>\n",
       "      <td>1</td>\n",
       "      <td>32</td>\n",
       "      <td>2973</td>\n",
       "      <td>2499.0</td>\n",
       "      <td>1.0</td>\n",
       "      <td>19</td>\n",
       "      <td>2499.0</td>\n",
       "      <td>35</td>\n",
       "      <td>5</td>\n",
       "    </tr>\n",
       "    <tr>\n",
       "      <th>163644</th>\n",
       "      <td>2013-02-14</td>\n",
       "      <td>1</td>\n",
       "      <td>32</td>\n",
       "      <td>2973</td>\n",
       "      <td>2499.0</td>\n",
       "      <td>1.0</td>\n",
       "      <td>19</td>\n",
       "      <td>2499.0</td>\n",
       "      <td>44</td>\n",
       "      <td>6</td>\n",
       "    </tr>\n",
       "    <tr>\n",
       "      <th>459361</th>\n",
       "      <td>2013-05-06</td>\n",
       "      <td>4</td>\n",
       "      <td>32</td>\n",
       "      <td>2973</td>\n",
       "      <td>2499.0</td>\n",
       "      <td>1.0</td>\n",
       "      <td>19</td>\n",
       "      <td>2499.0</td>\n",
       "      <td>125</td>\n",
       "      <td>18</td>\n",
       "    </tr>\n",
       "  </tbody>\n",
       "</table>\n",
       "</div>"
      ],
      "text/plain": [
       "              date  date_block_num  shop_id  item_id  item_price  \\\n",
       "482092  2013-05-15               4       32     2973        -1.0   \n",
       "505221  2013-05-23               4       32     2973      1249.0   \n",
       "547868  2013-06-05               5       32     2973      1249.5   \n",
       "60340   2013-01-15               0       32     2973      2499.0   \n",
       "65974   2013-01-17               0       32     2973      2499.0   \n",
       "71320   2013-01-18               0       32     2973      2499.0   \n",
       "83520   2013-01-21               0       32     2973      2499.0   \n",
       "85441   2013-01-22               0       32     2973      2499.0   \n",
       "92628   2013-01-25               0       32     2973      2499.0   \n",
       "109618  2013-01-29               0       32     2973      2499.0   \n",
       "132028  2013-02-05               1       32     2973      2499.0   \n",
       "163644  2013-02-14               1       32     2973      2499.0   \n",
       "459361  2013-05-06               4       32     2973      2499.0   \n",
       "\n",
       "        item_cnt_day  item_category_id  total_income  days  weeks  \n",
       "482092           1.0                19          -1.0   134     19  \n",
       "505221           1.0                19        1249.0   142     20  \n",
       "547868           1.0                19        1249.5   155     22  \n",
       "60340            3.0                19        7497.0    14      2  \n",
       "65974            1.0                19        2499.0    16      2  \n",
       "71320            1.0                19        2499.0    17      2  \n",
       "83520            1.0                19        2499.0    20      3  \n",
       "85441            1.0                19        2499.0    21      3  \n",
       "92628            1.0                19        2499.0    24      3  \n",
       "109618           1.0                19        2499.0    28      4  \n",
       "132028           1.0                19        2499.0    35      5  \n",
       "163644           1.0                19        2499.0    44      6  \n",
       "459361           1.0                19        2499.0   125     18  "
      ]
     },
     "execution_count": 9,
     "metadata": {},
     "output_type": "execute_result"
    }
   ],
   "source": [
    "train_df[(train_df.item_id == min_price_item_id) & (train_df.shop_id == 32)].sort_values(by='item_price')"
   ]
  },
  {
   "cell_type": "markdown",
   "id": "visible-devices",
   "metadata": {},
   "source": [
    "The prices of this item in this shop are at least 1249.0. So this negative price can be the input error and can be ignored.\n",
    "\n",
    "Info about this item:"
   ]
  },
  {
   "cell_type": "code",
   "execution_count": 11,
   "id": "emotional-ensemble",
   "metadata": {
    "ExecuteTime": {
     "end_time": "2021-09-14T06:52:41.316568Z",
     "start_time": "2021-09-14T06:52:41.292605Z"
    },
    "scrolled": true
   },
   "outputs": [
    {
     "data": {
      "text/plain": [
       "item_name             DmC Devil May Cry [PS3, русские субтитры]\n",
       "item_category_id                                             19\n",
       "item_category_name                                   Игры - PS3\n",
       "Name: 2973, dtype: object"
      ]
     },
     "execution_count": 11,
     "metadata": {},
     "output_type": "execute_result"
    }
   ],
   "source": [
    "items.loc[min_price_item_id]"
   ]
  },
  {
   "cell_type": "markdown",
   "id": "mounted-diploma",
   "metadata": {},
   "source": [
    "Mean price among all shops and items:"
   ]
  },
  {
   "cell_type": "code",
   "execution_count": 12,
   "id": "coral-locking",
   "metadata": {
    "ExecuteTime": {
     "end_time": "2021-09-14T06:52:45.193427Z",
     "start_time": "2021-09-14T06:52:43.072923Z"
    }
   },
   "outputs": [],
   "source": [
    "prices = train_df.groupby(['shop_id', 'item_id']).item_price.mean()"
   ]
  },
  {
   "cell_type": "code",
   "execution_count": 13,
   "id": "transsexual-layout",
   "metadata": {
    "ExecuteTime": {
     "end_time": "2021-09-14T06:52:48.567935Z",
     "start_time": "2021-09-14T06:52:45.206405Z"
    },
    "scrolled": true
   },
   "outputs": [
    {
     "data": {
      "image/png": "[encoded data removed]",
      "text/plain": [
       "<Figure size 432x288 with 1 Axes>"
      ]
     },
     "metadata": {
      "needs_background": "light"
     },
     "output_type": "display_data"
    }
   ],
   "source": [
    "prices.hist(bins=100);"
   ]
  },
  {
   "cell_type": "markdown",
   "id": "scenic-operation",
   "metadata": {},
   "source": [
    "Almost all prices are less 50000.\n",
    "\n",
    "Sorted prices:"
   ]
  },
  {
   "cell_type": "code",
   "execution_count": 14,
   "id": "constitutional-train",
   "metadata": {
    "ExecuteTime": {
     "end_time": "2021-09-14T06:52:48.824728Z",
     "start_time": "2021-09-14T06:52:48.575128Z"
    }
   },
   "outputs": [
    {
     "data": {
      "text/plain": [
       "shop_id  item_id\n",
       "58       11865           0.090000\n",
       "         20146           0.095833\n",
       "6        11864           0.096667\n",
       "         11872           0.096667\n",
       "44       11853           0.100000\n",
       "                        ...      \n",
       "12       14173       40900.000000\n",
       "         7238        42000.000000\n",
       "         7241        49782.000000\n",
       "25       13199       50999.000000\n",
       "12       6066       307980.000000\n",
       "Name: item_price, Length: 417004, dtype: float64"
      ]
     },
     "execution_count": 14,
     "metadata": {},
     "output_type": "execute_result"
    }
   ],
   "source": [
    "prices.sort_values()"
   ]
  },
  {
   "cell_type": "code",
   "execution_count": 15,
   "id": "classical-information",
   "metadata": {
    "ExecuteTime": {
     "end_time": "2021-09-14T06:52:48.902610Z",
     "start_time": "2021-09-14T06:52:48.831728Z"
    },
    "scrolled": true
   },
   "outputs": [
    {
     "data": {
      "text/plain": [
       "{'95.0 %': 2499.0,\n",
       " '95.5 %': 2599.0,\n",
       " '96.0 %': 2749.0,\n",
       " '96.5 %': 2938.9178999999995,\n",
       " '97.0 %': 3013.8371249999936,\n",
       " '97.5 %': 3374.0,\n",
       " '98.0 %': 3799.0,\n",
       " '98.5 %': 4833.9250000000275,\n",
       " '99.0 %': 7990.0,\n",
       " '99.5 %': 12490.0}"
      ]
     },
     "execution_count": 15,
     "metadata": {},
     "output_type": "execute_result"
    }
   ],
   "source": [
    "{f'{key} %': value for key, value in zip(np.linspace(95, 99.5, 10), np.percentile(prices, np.linspace(95, 99.5, 10)))}"
   ]
  },
  {
   "cell_type": "markdown",
   "id": "duplicate-logistics",
   "metadata": {},
   "source": [
    "So, there are few items with large prices.\n",
    "\n",
    "The most expensive item is:"
   ]
  },
  {
   "cell_type": "code",
   "execution_count": 17,
   "id": "progressive-regulation",
   "metadata": {
    "ExecuteTime": {
     "end_time": "2021-09-14T06:53:23.635858Z",
     "start_time": "2021-09-14T06:53:23.604911Z"
    },
    "scrolled": true
   },
   "outputs": [
    {
     "data": {
      "text/plain": [
       "item_name                     Radmin 3  - 522 лиц.\n",
       "item_category_id                                75\n",
       "item_category_name    Программы - Для дома и офиса\n",
       "Name: 6066, dtype: object"
      ]
     },
     "execution_count": 17,
     "metadata": {},
     "output_type": "execute_result"
    }
   ],
   "source": [
    "items.loc[6066]"
   ]
  },
  {
   "cell_type": "markdown",
   "id": "twelve-poison",
   "metadata": {},
   "source": [
    "The cheapest item is:"
   ]
  },
  {
   "cell_type": "code",
   "execution_count": 18,
   "id": "gorgeous-marble",
   "metadata": {
    "ExecuteTime": {
     "end_time": "2021-09-14T06:53:46.182520Z",
     "start_time": "2021-09-14T06:53:46.154569Z"
    }
   },
   "outputs": [
    {
     "data": {
      "text/plain": [
       "item_name             Змей МАКС антистресс 33 см.\n",
       "item_category_id                               63\n",
       "item_category_name       Подарки - Мягкие игрушки\n",
       "Name: 11865, dtype: object"
      ]
     },
     "execution_count": 18,
     "metadata": {},
     "output_type": "execute_result"
    }
   ],
   "source": [
    "items.loc[11865]"
   ]
  },
  {
   "cell_type": "markdown",
   "id": "adjusted-development",
   "metadata": {},
   "source": [
    "The graphic of the total income of all shops:"
   ]
  },
  {
   "cell_type": "code",
   "execution_count": 19,
   "id": "educational-hostel",
   "metadata": {
    "ExecuteTime": {
     "end_time": "2021-09-14T07:00:09.290104Z",
     "start_time": "2021-09-14T07:00:08.447809Z"
    },
    "scrolled": true
   },
   "outputs": [
    {
     "data": {
      "text/plain": [
       "<AxesSubplot:xlabel='date_block_num'>"
      ]
     },
     "execution_count": 19,
     "metadata": {},
     "output_type": "execute_result"
    },
    {
     "data": {
      "image/png": "[encoded data removed]",
      "text/plain": [
       "<Figure size 432x288 with 1 Axes>"
      ]
     },
     "metadata": {
      "needs_background": "light"
     },
     "output_type": "display_data"
    }
   ],
   "source": [
    "train_df.groupby('date_block_num').total_income.sum().plot()"
   ]
  },
  {
   "cell_type": "markdown",
   "id": "unlikely-midnight",
   "metadata": {},
   "source": [
    "Scatter plot of *item_price* and *item_cnt_day*:"
   ]
  },
  {
   "cell_type": "code",
   "execution_count": 20,
   "id": "vietnamese-plumbing",
   "metadata": {
    "ExecuteTime": {
     "end_time": "2021-09-14T07:00:14.863670Z",
     "start_time": "2021-09-14T07:00:12.062048Z"
    }
   },
   "outputs": [],
   "source": [
    "price_and_count = train_df.groupby(['shop_id', 'item_id']).aggregate({'item_price': 'mean', 'item_cnt_day': 'sum'})"
   ]
  },
  {
   "cell_type": "code",
   "execution_count": 23,
   "id": "boring-accordance",
   "metadata": {
    "ExecuteTime": {
     "end_time": "2021-09-14T07:00:54.434296Z",
     "start_time": "2021-09-14T07:00:53.411441Z"
    },
    "scrolled": true
   },
   "outputs": [
    {
     "data": {
      "image/png": "[encoded data removed]",
      "text/plain": [
       "<Figure size 432x288 with 1 Axes>"
      ]
     },
     "metadata": {
      "needs_background": "light"
     },
     "output_type": "display_data"
    }
   ],
   "source": [
    "cutted_price_and_count = price_and_count[(price_and_count.item_price < 50000) & (price_and_count.item_cnt_day < 10000)]\n",
    "plt.scatter(cutted_price_and_count.item_price, cutted_price_and_count.item_cnt_day, s=0.05)\n",
    "plt.xlabel('item_price')\n",
    "plt.ylabel('item_cnt')\n",
    "plt.show()"
   ]
  },
  {
   "cell_type": "markdown",
   "id": "local-directory",
   "metadata": {},
   "source": [
    "It shows that *item_cnt* is large iff *item_price* is small."
   ]
  },
  {
   "cell_type": "markdown",
   "id": "mechanical-holocaust",
   "metadata": {},
   "source": [
    "Info about start and end selling month:"
   ]
  },
  {
   "cell_type": "code",
   "execution_count": 41,
   "id": "circular-extent",
   "metadata": {
    "ExecuteTime": {
     "end_time": "2021-09-14T09:11:19.129220Z",
     "start_time": "2021-09-14T09:11:16.183113Z"
    }
   },
   "outputs": [],
   "source": [
    "sales_interval = train_df.groupby(['shop_id', 'item_id']).agg({\n",
    "    'date_block_num': ['max', 'min']\n",
    "}).set_axis(['max_date', 'min_date'], axis=1)\n",
    "sales_interval['date_interval'] = sales_interval['max_date'] - sales_interval['min_date'] + 1"
   ]
  },
  {
   "cell_type": "code",
   "execution_count": 42,
   "id": "mental-conference",
   "metadata": {
    "ExecuteTime": {
     "end_time": "2021-09-14T09:11:20.451602Z",
     "start_time": "2021-09-14T09:11:19.512319Z"
    },
    "scrolled": true
   },
   "outputs": [
    {
     "data": {
      "image/png": "[encoded data removed]",
      "text/plain": [
       "<Figure size 432x288 with 1 Axes>"
      ]
     },
     "metadata": {
      "needs_background": "light"
     },
     "output_type": "display_data"
    }
   ],
   "source": [
    "sales_interval.max_date.hist(bins=33)\n",
    "plt.xlabel('date_block_num')\n",
    "plt.ylabel('shop_item count')\n",
    "plt.title('max_date')\n",
    "plt.show()"
   ]
  },
  {
   "cell_type": "markdown",
   "id": "civilian-sunday",
   "metadata": {},
   "source": [
    "So there is a small part of \"shop_items\" for that *max_date* is the last month. \"shop_items\" with small *max_date* have small possibility to be sold. And the amount of such \"shop_items\" is big."
   ]
  },
  {
   "cell_type": "code",
   "execution_count": 34,
   "id": "brave-modern",
   "metadata": {
    "ExecuteTime": {
     "end_time": "2021-09-14T07:09:14.942408Z",
     "start_time": "2021-09-14T07:09:14.143590Z"
    }
   },
   "outputs": [
    {
     "data": {
      "image/png": "[encoded data removed]",
      "text/plain": [
       "<Figure size 432x288 with 1 Axes>"
      ]
     },
     "metadata": {
      "needs_background": "light"
     },
     "output_type": "display_data"
    }
   ],
   "source": [
    "sales_interval.min_date.hist(bins=33)\n",
    "plt.xlabel('date_block_num')\n",
    "plt.ylabel('shop_item count')\n",
    "plt.title('min_date')\n",
    "plt.show()"
   ]
  },
  {
   "cell_type": "markdown",
   "id": "sensitive-being",
   "metadata": {},
   "source": [
    "Also there are many \"shop_items\" for that *min_date* is not 0."
   ]
  },
  {
   "cell_type": "code",
   "execution_count": 35,
   "id": "centered-honolulu",
   "metadata": {
    "ExecuteTime": {
     "end_time": "2021-09-14T07:09:52.392950Z",
     "start_time": "2021-09-14T07:09:51.298390Z"
    },
    "scrolled": true
   },
   "outputs": [
    {
     "data": {
      "image/png": "[encoded data removed]",
      "text/plain": [
       "<Figure size 432x288 with 1 Axes>"
      ]
     },
     "metadata": {
      "needs_background": "light"
     },
     "output_type": "display_data"
    }
   ],
   "source": [
    "sales_interval.date_interval.hist(bins=33)\n",
    "plt.xlabel('date_block_num')\n",
    "plt.ylabel('shop_item count')\n",
    "plt.title('date_interval')\n",
    "plt.show()"
   ]
  },
  {
   "cell_type": "markdown",
   "id": "human-imaging",
   "metadata": {},
   "source": [
    "About 143518/417004 = 34.416% of all \"shop_items\" were being sold only for a month"
   ]
  },
  {
   "cell_type": "code",
   "execution_count": 36,
   "id": "black-playing",
   "metadata": {
    "ExecuteTime": {
     "end_time": "2021-09-14T07:11:42.558681Z",
     "start_time": "2021-09-14T07:11:41.617073Z"
    }
   },
   "outputs": [
    {
     "data": {
      "image/png": "[encoded data removed]",
      "text/plain": [
       "<Figure size 432x288 with 1 Axes>"
      ]
     },
     "metadata": {
      "needs_background": "light"
     },
     "output_type": "display_data"
    }
   ],
   "source": [
    "sales_interval[sales_interval.date_interval == 1].max_date.hist(bins=33)\n",
    "plt.xlabel('date_block_num')\n",
    "plt.ylabel('shop_item count')\n",
    "plt.title('one-month-items')\n",
    "plt.show()"
   ]
  },
  {
   "cell_type": "markdown",
   "id": "light-species",
   "metadata": {},
   "source": [
    "And many of such \"shop_items\" were bere being sold very far. So the predicted selling count is 0."
   ]
  },
  {
   "cell_type": "markdown",
   "id": "opponent-diesel",
   "metadata": {},
   "source": [
    "Here the count of months during that the items were being sold."
   ]
  },
  {
   "cell_type": "code",
   "execution_count": 37,
   "id": "split-sunrise",
   "metadata": {
    "ExecuteTime": {
     "end_time": "2021-09-14T07:12:52.031394Z",
     "start_time": "2021-09-14T07:12:48.203949Z"
    }
   },
   "outputs": [],
   "source": [
    "sales_month_count = train_df.groupby(['shop_id', 'item_id']).date_block_num.nunique()"
   ]
  },
  {
   "cell_type": "code",
   "execution_count": 39,
   "id": "mediterranean-tooth",
   "metadata": {
    "ExecuteTime": {
     "end_time": "2021-09-14T07:13:48.615980Z",
     "start_time": "2021-09-14T07:13:47.779075Z"
    },
    "collapsed": true
   },
   "outputs": [
    {
     "data": {
      "image/png": "[encoded data removed]",
      "text/plain": [
       "<Figure size 432x288 with 1 Axes>"
      ]
     },
     "metadata": {
      "needs_background": "light"
     },
     "output_type": "display_data"
    }
   ],
   "source": [
    "sales_month_count.hist(bins=33)\n",
    "plt.xlabel('date_block_num')\n",
    "plt.ylabel('shop_item count')\n",
    "plt.title('count of months')\n",
    "plt.show()"
   ]
  },
  {
   "cell_type": "markdown",
   "id": "indian-payday",
   "metadata": {},
   "source": [
    "So there are many \"shop_items\" that were being sold for a few months (not necessarily consecutive). It is obviously that this histogram is not the same as the histogram for *date_interval*. It means that there is \"shop_items\" with \"empty\" months (when the selling count is 0). It should be considered."
   ]
  },
  {
   "cell_type": "code",
   "execution_count": 43,
   "id": "stone-bubble",
   "metadata": {
    "ExecuteTime": {
     "end_time": "2021-09-14T09:19:48.911514Z",
     "start_time": "2021-09-14T09:19:43.794217Z"
    }
   },
   "outputs": [],
   "source": [
    "shop_item_info = train_df.groupby(['shop_id', 'item_id', 'date_block_num']).agg({\n",
    "    'item_price': 'mean',\n",
    "    'item_cnt_day': 'sum',\n",
    "    'total_income': 'sum'\n",
    "})"
   ]
  },
  {
   "cell_type": "code",
   "execution_count": 44,
   "id": "departmental-instrumentation",
   "metadata": {
    "ExecuteTime": {
     "end_time": "2021-09-14T09:19:53.599605Z",
     "start_time": "2021-09-14T09:19:53.553675Z"
    }
   },
   "outputs": [
    {
     "data": {
      "text/html": [
       "<div>\n",
       "<style scoped>\n",
       "    .dataframe tbody tr th:only-of-type {\n",
       "        vertical-align: middle;\n",
       "    }\n",
       "\n",
       "    .dataframe tbody tr th {\n",
       "        vertical-align: top;\n",
       "    }\n",
       "\n",
       "    .dataframe thead th {\n",
       "        text-align: right;\n",
       "    }\n",
       "</style>\n",
       "<table border=\"1\" class=\"dataframe\">\n",
       "  <thead>\n",
       "    <tr style=\"text-align: right;\">\n",
       "      <th></th>\n",
       "      <th></th>\n",
       "      <th></th>\n",
       "      <th>item_price</th>\n",
       "      <th>item_cnt_day</th>\n",
       "      <th>total_income</th>\n",
       "    </tr>\n",
       "    <tr>\n",
       "      <th>shop_id</th>\n",
       "      <th>item_id</th>\n",
       "      <th>date_block_num</th>\n",
       "      <th></th>\n",
       "      <th></th>\n",
       "      <th></th>\n",
       "    </tr>\n",
       "  </thead>\n",
       "  <tbody>\n",
       "    <tr>\n",
       "      <th rowspan=\"5\" valign=\"top\">0</th>\n",
       "      <th>30</th>\n",
       "      <th>1</th>\n",
       "      <td>265.0</td>\n",
       "      <td>31.0</td>\n",
       "      <td>8215.0</td>\n",
       "    </tr>\n",
       "    <tr>\n",
       "      <th>31</th>\n",
       "      <th>1</th>\n",
       "      <td>434.0</td>\n",
       "      <td>11.0</td>\n",
       "      <td>4774.0</td>\n",
       "    </tr>\n",
       "    <tr>\n",
       "      <th rowspan=\"2\" valign=\"top\">32</th>\n",
       "      <th>0</th>\n",
       "      <td>221.0</td>\n",
       "      <td>6.0</td>\n",
       "      <td>1326.0</td>\n",
       "    </tr>\n",
       "    <tr>\n",
       "      <th>1</th>\n",
       "      <td>221.0</td>\n",
       "      <td>10.0</td>\n",
       "      <td>2210.0</td>\n",
       "    </tr>\n",
       "    <tr>\n",
       "      <th>33</th>\n",
       "      <th>0</th>\n",
       "      <td>347.0</td>\n",
       "      <td>3.0</td>\n",
       "      <td>1041.0</td>\n",
       "    </tr>\n",
       "  </tbody>\n",
       "</table>\n",
       "</div>"
      ],
      "text/plain": [
       "                                item_price  item_cnt_day  total_income\n",
       "shop_id item_id date_block_num                                        \n",
       "0       30      1                    265.0          31.0        8215.0\n",
       "        31      1                    434.0          11.0        4774.0\n",
       "        32      0                    221.0           6.0        1326.0\n",
       "                1                    221.0          10.0        2210.0\n",
       "        33      0                    347.0           3.0        1041.0"
      ]
     },
     "execution_count": 44,
     "metadata": {},
     "output_type": "execute_result"
    }
   ],
   "source": [
    "shop_item_info.head()"
   ]
  },
  {
   "cell_type": "code",
   "execution_count": 61,
   "id": "sized-defeat",
   "metadata": {
    "ExecuteTime": {
     "end_time": "2021-09-14T09:26:53.887236Z",
     "start_time": "2021-09-14T09:26:53.860271Z"
    },
    "collapsed": true
   },
   "outputs": [
    {
     "data": {
      "text/plain": [
       "['PC - Гарнитуры/Наушники',\n",
       " 'Аксессуары - PS2',\n",
       " 'Аксессуары - PS3',\n",
       " 'Аксессуары - PS4',\n",
       " 'Аксессуары - PSP',\n",
       " 'Аксессуары - PSVita',\n",
       " 'Аксессуары - XBOX 360',\n",
       " 'Аксессуары - XBOX ONE',\n",
       " 'Билеты (Цифра)',\n",
       " 'Доставка товара',\n",
       " 'Игровые консоли - PS2',\n",
       " 'Игровые консоли - PS3',\n",
       " 'Игровые консоли - PS4',\n",
       " 'Игровые консоли - PSP',\n",
       " 'Игровые консоли - PSVita',\n",
       " 'Игровые консоли - XBOX 360',\n",
       " 'Игровые консоли - XBOX ONE',\n",
       " 'Игровые консоли - Прочие',\n",
       " 'Игры - PS2',\n",
       " 'Игры - PS3',\n",
       " 'Игры - PS4',\n",
       " 'Игры - PSP',\n",
       " 'Игры - PSVita',\n",
       " 'Игры - XBOX 360',\n",
       " 'Игры - XBOX ONE',\n",
       " 'Игры - Аксессуары для игр',\n",
       " 'Игры Android - Цифра',\n",
       " 'Игры MAC - Цифра',\n",
       " 'Игры PC - Дополнительные издания',\n",
       " 'Игры PC - Коллекционные издания',\n",
       " 'Игры PC - Стандартные издания',\n",
       " 'Игры PC - Цифра',\n",
       " 'Карты оплаты (Кино, Музыка, Игры)',\n",
       " 'Карты оплаты - Live!',\n",
       " 'Карты оплаты - Live! (Цифра)',\n",
       " 'Карты оплаты - PSN',\n",
       " 'Карты оплаты - Windows (Цифра)',\n",
       " 'Кино - Blu-Ray',\n",
       " 'Кино - Blu-Ray 3D',\n",
       " 'Кино - Blu-Ray 4K',\n",
       " 'Кино - DVD',\n",
       " 'Кино - Коллекционное',\n",
       " 'Книги - Артбуки, энциклопедии',\n",
       " 'Книги - Аудиокниги',\n",
       " 'Книги - Аудиокниги (Цифра)',\n",
       " 'Книги - Аудиокниги 1С',\n",
       " 'Книги - Бизнес литература',\n",
       " 'Книги - Комиксы, манга',\n",
       " 'Книги - Компьютерная литература',\n",
       " 'Книги - Методические материалы 1С',\n",
       " 'Книги - Открытки',\n",
       " 'Книги - Познавательная литература',\n",
       " 'Книги - Путеводители',\n",
       " 'Книги - Художественная литература',\n",
       " 'Книги - Цифра',\n",
       " 'Музыка - CD локального производства',\n",
       " 'Музыка - CD фирменного производства',\n",
       " 'Музыка - MP3',\n",
       " 'Музыка - Винил',\n",
       " 'Музыка - Музыкальное видео',\n",
       " 'Музыка - Подарочные издания',\n",
       " 'Подарки - Атрибутика',\n",
       " 'Подарки - Гаджеты, роботы, спорт',\n",
       " 'Подарки - Мягкие игрушки',\n",
       " 'Подарки - Настольные игры',\n",
       " 'Подарки - Настольные игры (компактные)',\n",
       " 'Подарки - Открытки, наклейки',\n",
       " 'Подарки - Развитие',\n",
       " 'Подарки - Сертификаты, услуги',\n",
       " 'Подарки - Сувениры',\n",
       " 'Подарки - Сувениры (в навеску)',\n",
       " 'Подарки - Сумки, Альбомы, Коврики д/мыши',\n",
       " 'Подарки - Фигурки',\n",
       " 'Программы - 1С:Предприятие 8',\n",
       " 'Программы - MAC (Цифра)',\n",
       " 'Программы - Для дома и офиса',\n",
       " 'Программы - Для дома и офиса (Цифра)',\n",
       " 'Программы - Обучающие',\n",
       " 'Программы - Обучающие (Цифра)',\n",
       " 'Служебные',\n",
       " 'Служебные - Билеты',\n",
       " 'Чистые носители (шпиль)',\n",
       " 'Чистые носители (штучные)',\n",
       " 'Элементы питания']"
      ]
     },
     "execution_count": 61,
     "metadata": {},
     "output_type": "execute_result"
    }
   ],
   "source": [
    "list(item_categories.item_category_name)"
   ]
  },
  {
   "cell_type": "code",
   "execution_count": 80,
   "id": "demographic-extra",
   "metadata": {
    "ExecuteTime": {
     "end_time": "2021-09-14T09:44:36.498849Z",
     "start_time": "2021-09-14T09:44:36.392018Z"
    }
   },
   "outputs": [
    {
     "data": {
      "text/plain": [
       "['Movavi  Видеоредактор  версия Персональная 10 (акция)  [PC, Цифровая версия]',\n",
       " 'Movavi Video Suite версия Персональная 14 (акция)  [PC, Цифровая версия]',\n",
       " 'Movavi Фоторедактор Персональная версия 2 (акция)  [PC, Цифровая версия]']"
      ]
     },
     "execution_count": 80,
     "metadata": {},
     "output_type": "execute_result"
    }
   ],
   "source": [
    "list(items[items.item_name.str.contains('\\Wакция\\W', regex=True)].item_name)"
   ]
  },
  {
   "cell_type": "code",
   "execution_count": 81,
   "id": "decent-selection",
   "metadata": {
    "ExecuteTime": {
     "end_time": "2021-09-14T09:47:36.076070Z",
     "start_time": "2021-09-14T09:47:35.319680Z"
    }
   },
   "outputs": [
    {
     "data": {
      "text/html": [
       "<div>\n",
       "<style scoped>\n",
       "    .dataframe tbody tr th:only-of-type {\n",
       "        vertical-align: middle;\n",
       "    }\n",
       "\n",
       "    .dataframe tbody tr th {\n",
       "        vertical-align: top;\n",
       "    }\n",
       "\n",
       "    .dataframe thead th {\n",
       "        text-align: right;\n",
       "    }\n",
       "</style>\n",
       "<table border=\"1\" class=\"dataframe\">\n",
       "  <thead>\n",
       "    <tr style=\"text-align: right;\">\n",
       "      <th></th>\n",
       "      <th>date</th>\n",
       "      <th>date_block_num</th>\n",
       "      <th>shop_id</th>\n",
       "      <th>item_id</th>\n",
       "      <th>item_price</th>\n",
       "      <th>item_cnt_day</th>\n",
       "      <th>item_category_id_x</th>\n",
       "      <th>total_income</th>\n",
       "      <th>days</th>\n",
       "      <th>weeks</th>\n",
       "      <th>item_name</th>\n",
       "      <th>item_category_id_y</th>\n",
       "      <th>item_category_name</th>\n",
       "    </tr>\n",
       "  </thead>\n",
       "  <tbody>\n",
       "  </tbody>\n",
       "</table>\n",
       "</div>"
      ],
      "text/plain": [
       "Empty DataFrame\n",
       "Columns: [date, date_block_num, shop_id, item_id, item_price, item_cnt_day, item_category_id_x, total_income, days, weeks, item_name, item_category_id_y, item_category_name]\n",
       "Index: []"
      ]
     },
     "execution_count": 81,
     "metadata": {},
     "output_type": "execute_result"
    }
   ],
   "source": [
    "pd.merge(train_df, items[items.item_name.str.contains('\\Wакция\\W', regex=True)], on='item_id', how='inner')"
   ]
  },
  {
   "cell_type": "code",
   "execution_count": 82,
   "id": "worth-patio",
   "metadata": {
    "ExecuteTime": {
     "end_time": "2021-09-14T09:47:53.694770Z",
     "start_time": "2021-09-14T09:47:53.556990Z"
    }
   },
   "outputs": [
    {
     "data": {
      "text/html": [
       "<div>\n",
       "<style scoped>\n",
       "    .dataframe tbody tr th:only-of-type {\n",
       "        vertical-align: middle;\n",
       "    }\n",
       "\n",
       "    .dataframe tbody tr th {\n",
       "        vertical-align: top;\n",
       "    }\n",
       "\n",
       "    .dataframe thead th {\n",
       "        text-align: right;\n",
       "    }\n",
       "</style>\n",
       "<table border=\"1\" class=\"dataframe\">\n",
       "  <thead>\n",
       "    <tr style=\"text-align: right;\">\n",
       "      <th></th>\n",
       "      <th>item_name</th>\n",
       "      <th>item_category_id</th>\n",
       "      <th>item_category_name</th>\n",
       "    </tr>\n",
       "    <tr>\n",
       "      <th>item_id</th>\n",
       "      <th></th>\n",
       "      <th></th>\n",
       "      <th></th>\n",
       "    </tr>\n",
       "  </thead>\n",
       "  <tbody>\n",
       "    <tr>\n",
       "      <th>4914</th>\n",
       "      <td>Movavi  Видеоредактор  версия Персональная 10 ...</td>\n",
       "      <td>76</td>\n",
       "      <td>Программы - Для дома и офиса (Цифра)</td>\n",
       "    </tr>\n",
       "    <tr>\n",
       "      <th>4945</th>\n",
       "      <td>Movavi Video Suite версия Персональная 14 (акц...</td>\n",
       "      <td>76</td>\n",
       "      <td>Программы - Для дома и офиса (Цифра)</td>\n",
       "    </tr>\n",
       "    <tr>\n",
       "      <th>4958</th>\n",
       "      <td>Movavi Фоторедактор Персональная версия 2 (акц...</td>\n",
       "      <td>76</td>\n",
       "      <td>Программы - Для дома и офиса (Цифра)</td>\n",
       "    </tr>\n",
       "  </tbody>\n",
       "</table>\n",
       "</div>"
      ],
      "text/plain": [
       "                                                 item_name  item_category_id  \\\n",
       "item_id                                                                        \n",
       "4914     Movavi  Видеоредактор  версия Персональная 10 ...                76   \n",
       "4945     Movavi Video Suite версия Персональная 14 (акц...                76   \n",
       "4958     Movavi Фоторедактор Персональная версия 2 (акц...                76   \n",
       "\n",
       "                           item_category_name  \n",
       "item_id                                        \n",
       "4914     Программы - Для дома и офиса (Цифра)  \n",
       "4945     Программы - Для дома и офиса (Цифра)  \n",
       "4958     Программы - Для дома и офиса (Цифра)  "
      ]
     },
     "execution_count": 82,
     "metadata": {},
     "output_type": "execute_result"
    }
   ],
   "source": [
    "items[items.item_name.str.contains('\\Wакция\\W', regex=True)]"
   ]
  },
  {
   "cell_type": "code",
   "execution_count": 89,
   "id": "forty-handle",
   "metadata": {
    "ExecuteTime": {
     "end_time": "2021-09-14T09:51:02.754313Z",
     "start_time": "2021-09-14T09:51:00.041421Z"
    }
   },
   "outputs": [
    {
     "data": {
      "text/plain": [
       "Int64Index([   83,   138,   139,   140,   146,   147,   159,   168,   173,\n",
       "              174,\n",
       "            ...\n",
       "            21973, 21974, 21975, 22004, 22005, 22006, 22022, 22035, 22137,\n",
       "            22158],\n",
       "           dtype='int64', name='item_id', length=838)"
      ]
     },
     "execution_count": 89,
     "metadata": {},
     "output_type": "execute_result"
    }
   ],
   "source": [
    "items.index.difference(train_df.item_id)"
   ]
  },
  {
   "cell_type": "markdown",
   "id": "hazardous-dryer",
   "metadata": {},
   "source": [
    "Some items are absent in *train_df*. They can be in *test_df*. So the *item_cnt* can't be predicted for them."
   ]
  },
  {
   "cell_type": "code",
   "execution_count": null,
   "id": "nutritional-cedar",
   "metadata": {},
   "outputs": [],
   "source": []
  }
 ],
 "metadata": {
  "kernelspec": {
   "display_name": "Python 3",
   "language": "python",
   "name": "python3"
  },
  "language_info": {
   "codemirror_mode": {
    "name": "ipython",
    "version": 3
   },
   "file_extension": ".py",
   "mimetype": "text/x-python",
   "name": "python",
   "nbconvert_exporter": "python",
   "pygments_lexer": "ipython3",
   "version": "3.9.0"
  },
  "toc": {
   "base_numbering": 1,
   "nav_menu": {},
   "number_sections": true,
   "sideBar": true,
   "skip_h1_title": false,
   "title_cell": "Table of Contents",
   "title_sidebar": "Contents",
   "toc_cell": false,
   "toc_position": {},
   "toc_section_display": true,
   "toc_window_display": false
  }
 },
 "nbformat": 4,
 "nbformat_minor": 5
}
