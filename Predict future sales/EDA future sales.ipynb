{
 "cells": [
  {
   "cell_type": "markdown",
   "id": "rocky-steering",
   "metadata": {},
   "source": [
    "# EDA"
   ]
  },
  {
   "cell_type": "markdown",
   "id": "received-porcelain",
   "metadata": {},
   "source": [
    "## Loading data"
   ]
  },
  {
   "cell_type": "code",
   "execution_count": 1,
   "id": "positive-invention",
   "metadata": {
    "ExecuteTime": {
     "end_time": "2021-10-22T06:34:14.992808Z",
     "start_time": "2021-10-22T06:34:09.942616Z"
    }
   },
   "outputs": [],
   "source": [
    "import numpy as np\n",
    "import pandas as pd\n",
    "import matplotlib.pyplot as plt\n",
    "from itertools import product\n",
    "from category_encoders import TargetEncoder"
   ]
  },
  {
   "cell_type": "code",
   "execution_count": 2,
   "id": "european-switch",
   "metadata": {
    "ExecuteTime": {
     "end_time": "2021-10-22T06:34:19.061510Z",
     "start_time": "2021-10-22T06:34:14.992808Z"
    }
   },
   "outputs": [],
   "source": [
    "item_categories = pd.read_csv('data/item_categories.csv')\n",
    "items = pd.read_csv('data/items.csv')\n",
    "shops = pd.read_csv('data/shops.csv')\n",
    "sales_train = pd.read_csv('data/sales_train.csv')\n",
    "test = pd.read_csv('data/test.csv')"
   ]
  },
  {
   "cell_type": "markdown",
   "id": "prime-constitutional",
   "metadata": {},
   "source": [
    "## item_categories"
   ]
  },
  {
   "cell_type": "code",
   "execution_count": 3,
   "id": "broad-attempt",
   "metadata": {
    "ExecuteTime": {
     "end_time": "2021-10-22T06:34:19.156367Z",
     "start_time": "2021-10-22T06:34:19.061510Z"
    }
   },
   "outputs": [
    {
     "name": "stdout",
     "output_type": "stream",
     "text": [
      "<class 'pandas.core.frame.DataFrame'>\n",
      "RangeIndex: 84 entries, 0 to 83\n",
      "Data columns (total 2 columns):\n",
      " #   Column              Non-Null Count  Dtype \n",
      "---  ------              --------------  ----- \n",
      " 0   item_category_name  84 non-null     object\n",
      " 1   item_category_id    84 non-null     int64 \n",
      "dtypes: int64(1), object(1)\n",
      "memory usage: 1.4+ KB\n"
     ]
    },
    {
     "data": {
      "text/html": [
       "<div>\n",
       "<style scoped>\n",
       "    .dataframe tbody tr th:only-of-type {\n",
       "        vertical-align: middle;\n",
       "    }\n",
       "\n",
       "    .dataframe tbody tr th {\n",
       "        vertical-align: top;\n",
       "    }\n",
       "\n",
       "    .dataframe thead th {\n",
       "        text-align: right;\n",
       "    }\n",
       "</style>\n",
       "<table border=\"1\" class=\"dataframe\">\n",
       "  <thead>\n",
       "    <tr style=\"text-align: right;\">\n",
       "      <th></th>\n",
       "      <th>item_category_name</th>\n",
       "      <th>item_category_id</th>\n",
       "    </tr>\n",
       "  </thead>\n",
       "  <tbody>\n",
       "    <tr>\n",
       "      <th>0</th>\n",
       "      <td>PC - Гарнитуры/Наушники</td>\n",
       "      <td>0</td>\n",
       "    </tr>\n",
       "    <tr>\n",
       "      <th>1</th>\n",
       "      <td>Аксессуары - PS2</td>\n",
       "      <td>1</td>\n",
       "    </tr>\n",
       "    <tr>\n",
       "      <th>2</th>\n",
       "      <td>Аксессуары - PS3</td>\n",
       "      <td>2</td>\n",
       "    </tr>\n",
       "    <tr>\n",
       "      <th>3</th>\n",
       "      <td>Аксессуары - PS4</td>\n",
       "      <td>3</td>\n",
       "    </tr>\n",
       "    <tr>\n",
       "      <th>4</th>\n",
       "      <td>Аксессуары - PSP</td>\n",
       "      <td>4</td>\n",
       "    </tr>\n",
       "  </tbody>\n",
       "</table>\n",
       "</div>"
      ],
      "text/plain": [
       "        item_category_name  item_category_id\n",
       "0  PC - Гарнитуры/Наушники                 0\n",
       "1         Аксессуары - PS2                 1\n",
       "2         Аксессуары - PS3                 2\n",
       "3         Аксессуары - PS4                 3\n",
       "4         Аксессуары - PSP                 4"
      ]
     },
     "execution_count": 3,
     "metadata": {},
     "output_type": "execute_result"
    }
   ],
   "source": [
    "item_categories.info()\n",
    "item_categories.head()"
   ]
  },
  {
   "cell_type": "code",
   "execution_count": 4,
   "id": "cognitive-uncle",
   "metadata": {
    "ExecuteTime": {
     "end_time": "2021-10-22T06:34:19.203301Z",
     "start_time": "2021-10-22T06:34:19.167349Z"
    }
   },
   "outputs": [
    {
     "data": {
      "text/plain": [
       "['PC - Гарнитуры/Наушники',\n",
       " 'Аксессуары - PS2',\n",
       " 'Аксессуары - PS3',\n",
       " 'Аксессуары - PS4',\n",
       " 'Аксессуары - PSP',\n",
       " 'Аксессуары - PSVita',\n",
       " 'Аксессуары - XBOX 360',\n",
       " 'Аксессуары - XBOX ONE',\n",
       " 'Билеты (Цифра)',\n",
       " 'Доставка товара',\n",
       " 'Игровые консоли - PS2',\n",
       " 'Игровые консоли - PS3',\n",
       " 'Игровые консоли - PS4',\n",
       " 'Игровые консоли - PSP',\n",
       " 'Игровые консоли - PSVita',\n",
       " 'Игровые консоли - XBOX 360',\n",
       " 'Игровые консоли - XBOX ONE',\n",
       " 'Игровые консоли - Прочие',\n",
       " 'Игры - PS2',\n",
       " 'Игры - PS3',\n",
       " 'Игры - PS4',\n",
       " 'Игры - PSP',\n",
       " 'Игры - PSVita',\n",
       " 'Игры - XBOX 360',\n",
       " 'Игры - XBOX ONE',\n",
       " 'Игры - Аксессуары для игр',\n",
       " 'Игры Android - Цифра',\n",
       " 'Игры MAC - Цифра',\n",
       " 'Игры PC - Дополнительные издания',\n",
       " 'Игры PC - Коллекционные издания',\n",
       " 'Игры PC - Стандартные издания',\n",
       " 'Игры PC - Цифра',\n",
       " 'Карты оплаты (Кино, Музыка, Игры)',\n",
       " 'Карты оплаты - Live!',\n",
       " 'Карты оплаты - Live! (Цифра)',\n",
       " 'Карты оплаты - PSN',\n",
       " 'Карты оплаты - Windows (Цифра)',\n",
       " 'Кино - Blu-Ray',\n",
       " 'Кино - Blu-Ray 3D',\n",
       " 'Кино - Blu-Ray 4K',\n",
       " 'Кино - DVD',\n",
       " 'Кино - Коллекционное',\n",
       " 'Книги - Артбуки, энциклопедии',\n",
       " 'Книги - Аудиокниги',\n",
       " 'Книги - Аудиокниги (Цифра)',\n",
       " 'Книги - Аудиокниги 1С',\n",
       " 'Книги - Бизнес литература',\n",
       " 'Книги - Комиксы, манга',\n",
       " 'Книги - Компьютерная литература',\n",
       " 'Книги - Методические материалы 1С',\n",
       " 'Книги - Открытки',\n",
       " 'Книги - Познавательная литература',\n",
       " 'Книги - Путеводители',\n",
       " 'Книги - Художественная литература',\n",
       " 'Книги - Цифра',\n",
       " 'Музыка - CD локального производства',\n",
       " 'Музыка - CD фирменного производства',\n",
       " 'Музыка - MP3',\n",
       " 'Музыка - Винил',\n",
       " 'Музыка - Музыкальное видео',\n",
       " 'Музыка - Подарочные издания',\n",
       " 'Подарки - Атрибутика',\n",
       " 'Подарки - Гаджеты, роботы, спорт',\n",
       " 'Подарки - Мягкие игрушки',\n",
       " 'Подарки - Настольные игры',\n",
       " 'Подарки - Настольные игры (компактные)',\n",
       " 'Подарки - Открытки, наклейки',\n",
       " 'Подарки - Развитие',\n",
       " 'Подарки - Сертификаты, услуги',\n",
       " 'Подарки - Сувениры',\n",
       " 'Подарки - Сувениры (в навеску)',\n",
       " 'Подарки - Сумки, Альбомы, Коврики д/мыши',\n",
       " 'Подарки - Фигурки',\n",
       " 'Программы - 1С:Предприятие 8',\n",
       " 'Программы - MAC (Цифра)',\n",
       " 'Программы - Для дома и офиса',\n",
       " 'Программы - Для дома и офиса (Цифра)',\n",
       " 'Программы - Обучающие',\n",
       " 'Программы - Обучающие (Цифра)',\n",
       " 'Служебные',\n",
       " 'Служебные - Билеты',\n",
       " 'Чистые носители (шпиль)',\n",
       " 'Чистые носители (штучные)',\n",
       " 'Элементы питания']"
      ]
     },
     "execution_count": 4,
     "metadata": {},
     "output_type": "execute_result"
    }
   ],
   "source": [
    "list(item_categories.item_category_name.values)"
   ]
  },
  {
   "cell_type": "markdown",
   "id": "under-circular",
   "metadata": {},
   "source": [
    "The table ***item_categories*** contains all categories of all items. There are 84 categories of items. The table has 2 features.  \n",
    "___________________\n",
    "**item_category_id** *(unique)*  \n",
    "It is the identifier of item category.\n",
    "___________________\n",
    "**item_category_name**  \n",
    "It is the name of category. Almost all category names have the same pattern **'\\[more general category\\] - \\[category\\]'**. So it is possible to split these categories into two: super category and simple category."
   ]
  },
  {
   "cell_type": "markdown",
   "id": "native-visitor",
   "metadata": {},
   "source": [
    "## items"
   ]
  },
  {
   "cell_type": "code",
   "execution_count": 5,
   "id": "gross-still",
   "metadata": {
    "ExecuteTime": {
     "end_time": "2021-10-22T06:34:19.266197Z",
     "start_time": "2021-10-22T06:34:19.211282Z"
    },
    "scrolled": true
   },
   "outputs": [
    {
     "name": "stdout",
     "output_type": "stream",
     "text": [
      "<class 'pandas.core.frame.DataFrame'>\n",
      "RangeIndex: 22170 entries, 0 to 22169\n",
      "Data columns (total 3 columns):\n",
      " #   Column            Non-Null Count  Dtype \n",
      "---  ------            --------------  ----- \n",
      " 0   item_name         22170 non-null  object\n",
      " 1   item_id           22170 non-null  int64 \n",
      " 2   item_category_id  22170 non-null  int64 \n",
      "dtypes: int64(2), object(1)\n",
      "memory usage: 519.7+ KB\n"
     ]
    },
    {
     "data": {
      "text/html": [
       "<div>\n",
       "<style scoped>\n",
       "    .dataframe tbody tr th:only-of-type {\n",
       "        vertical-align: middle;\n",
       "    }\n",
       "\n",
       "    .dataframe tbody tr th {\n",
       "        vertical-align: top;\n",
       "    }\n",
       "\n",
       "    .dataframe thead th {\n",
       "        text-align: right;\n",
       "    }\n",
       "</style>\n",
       "<table border=\"1\" class=\"dataframe\">\n",
       "  <thead>\n",
       "    <tr style=\"text-align: right;\">\n",
       "      <th></th>\n",
       "      <th>item_name</th>\n",
       "      <th>item_id</th>\n",
       "      <th>item_category_id</th>\n",
       "    </tr>\n",
       "  </thead>\n",
       "  <tbody>\n",
       "    <tr>\n",
       "      <th>0</th>\n",
       "      <td>! ВО ВЛАСТИ НАВАЖДЕНИЯ (ПЛАСТ.)         D</td>\n",
       "      <td>0</td>\n",
       "      <td>40</td>\n",
       "    </tr>\n",
       "    <tr>\n",
       "      <th>1</th>\n",
       "      <td>!ABBYY FineReader 12 Professional Edition Full...</td>\n",
       "      <td>1</td>\n",
       "      <td>76</td>\n",
       "    </tr>\n",
       "    <tr>\n",
       "      <th>2</th>\n",
       "      <td>***В ЛУЧАХ СЛАВЫ   (UNV)                    D</td>\n",
       "      <td>2</td>\n",
       "      <td>40</td>\n",
       "    </tr>\n",
       "    <tr>\n",
       "      <th>3</th>\n",
       "      <td>***ГОЛУБАЯ ВОЛНА  (Univ)                      D</td>\n",
       "      <td>3</td>\n",
       "      <td>40</td>\n",
       "    </tr>\n",
       "    <tr>\n",
       "      <th>4</th>\n",
       "      <td>***КОРОБКА (СТЕКЛО)                       D</td>\n",
       "      <td>4</td>\n",
       "      <td>40</td>\n",
       "    </tr>\n",
       "  </tbody>\n",
       "</table>\n",
       "</div>"
      ],
      "text/plain": [
       "                                           item_name  item_id  \\\n",
       "0          ! ВО ВЛАСТИ НАВАЖДЕНИЯ (ПЛАСТ.)         D        0   \n",
       "1  !ABBYY FineReader 12 Professional Edition Full...        1   \n",
       "2      ***В ЛУЧАХ СЛАВЫ   (UNV)                    D        2   \n",
       "3    ***ГОЛУБАЯ ВОЛНА  (Univ)                      D        3   \n",
       "4        ***КОРОБКА (СТЕКЛО)                       D        4   \n",
       "\n",
       "   item_category_id  \n",
       "0                40  \n",
       "1                76  \n",
       "2                40  \n",
       "3                40  \n",
       "4                40  "
      ]
     },
     "execution_count": 5,
     "metadata": {},
     "output_type": "execute_result"
    }
   ],
   "source": [
    "items.info()\n",
    "items.head()"
   ]
  },
  {
   "cell_type": "markdown",
   "id": "romance-advertiser",
   "metadata": {},
   "source": [
    "The table ***items*** contains information about items. There are 22170 items. The table has 3 features.  \n",
    "____________________\n",
    "**item_id** *(unique)*  \n",
    "It is the identifier of item.\n",
    "____________________\n",
    "**item_name**  \n",
    "It is the name of item.\n",
    "____________________\n",
    "**item_category_id**  \n",
    "It is the id of item category. The information about item categories is in the table ***item_categories***. If the item categories are splitted into two other features, it will affect this table."
   ]
  },
  {
   "cell_type": "code",
   "execution_count": 6,
   "id": "increased-material",
   "metadata": {
    "ExecuteTime": {
     "end_time": "2021-10-22T06:34:19.314117Z",
     "start_time": "2021-10-22T06:34:19.274184Z"
    }
   },
   "outputs": [
    {
     "data": {
      "text/plain": [
       "['Фигурка Regular Show Mordecai 8см',\n",
       " 'Несбит Эдит  Сказки о фее  История одного амулета (mp3-CD) (Jewel)',\n",
       " 'ТАСС УПОЛНОМОЧЕН ЗАЯВИТЬ  4DVD',\n",
       " 'PRADA И ЧУВСТВА',\n",
       " 'БЕГ (регион)',\n",
       " 'КОРАЛЛОВЫЙ РИФ (3D BD)',\n",
       " 'Наушники вставные Sonic',\n",
       " 'Diablo III [PS3, русская версия]',\n",
       " 'МИХАЙЛОВ СТАС  Я открою свое сердце',\n",
       " 'СБ. Music.Com  15',\n",
       " 'Borderlands 2. Мистер Торрг устраивает месилово [PC, Цифровая версия]',\n",
       " 'КАК ВЫЙТИ ЗАМУЖ ЗА МИЛЛИАРДЕРА (BD)',\n",
       " 'Коктейли [PC, Цифровая версия]',\n",
       " 'Battlefield 3 [PS3, русская версия]',\n",
       " 'ФИКСИТЕКА  ЭКОЛОГИЯ (регион)',\n",
       " 'Painkiller. Абсолютное зло [PC, Jewel, русская версия]',\n",
       " 'Фигурка Bioshock 2 Series 2 Ladysmith Splicer 7\"',\n",
       " 'КАМЕЛОТ',\n",
       " 'ПЕНА ДНЕЙ (регион)',\n",
       " 'СБ. Мой Рок`Н`Ролл  Легендарные песни 2000-2010 (mp3-CD) (jewel)',\n",
       " 'ЗА ОБЛАКАМИ',\n",
       " 'ИВАН ВАСИЛЬЕВИЧ МЕНЯЕТ ПРОФЕССИЮ (BD)',\n",
       " 'Mortal Kombat. Komplete Edition [PS3, русская документация]',\n",
       " 'Три богатыря и Шамаханская царица [PC, Jewel, русская версия]',\n",
       " 'Evil Within [PC, Цифровая версия]',\n",
       " 'Total War Rome II: Обновленное издание [PC, Jewel, русская версия]',\n",
       " 'Набоков Владимрир  Защита Лужина (mp3-CD) (Jewel)',\n",
       " 'Приключения Тинтина: Тайна Единорога [PC, Цифровая версия]',\n",
       " 'GAROU  Rhythm And Blues',\n",
       " 'HARDCASTLE PAUL  Hardcastle 6 (digipack)',\n",
       " 'Мягкая игрушка Adventure Time Ice King 30см',\n",
       " 'ВВС:ЖИЗНЬ Ч.2 (BD)',\n",
       " 'ВЫСОЦКИЙ ВЛАДИМИР  Подарочное издание  3CD',\n",
       " 'МАГНОЛИЯ (Регион)',\n",
       " '1С:Аудиокниги. Генри Хаггард. Дочь Монтесумы [PC, Цифровая версия]',\n",
       " 'АЛИСА В СТРАНЕ ЧУДЕС Х/Ф wd',\n",
       " 'Зефирные наклейки Сказка белоснежка арт.ТMS001',\n",
       " 'КОЛЛЕКЦИЯ ФИЛЬМОВ  МАСТЕРА КИНОИСКУССТВА  Уэс Андерсон, Вуди Аллен, Роберт Земекис  3DVD',\n",
       " 'PS3: Комплект «Контроллер черный (DS Wireless Black: CECH-ZC2)» + «Клавиатура беспроводная»',\n",
       " 'WARHAMMER 40000 MINIATURES: Chaos Space Marine Raptors (новая версия) арт. 43-13',\n",
       " 'Fallout: New Vegas. Old World Blues [PC, Цифровая версия]',\n",
       " 'СловоЕд Компакт англо-русский и русско-английский словарь со звуковым модулем (Paragon) [PC, Цифрова',\n",
       " 'Хроники Героев. Повелители стихий и Схватки [PC, Цифровая версия]',\n",
       " '22 МИНУТЫ',\n",
       " '1С:Аудиокниги. Happy New English! (Best funny stories) (Digipack)',\n",
       " 'Фигурка South Park Satan & Sadam Talking Bubble-head Set',\n",
       " 'СНАЙПЕР',\n",
       " 'ARMIN VAN BUUREN A State Of Trance 2011 2CD (digipack)',\n",
       " 'МИЛЛЕНИУМ. ТРИЛОГИЯ (3 BD)',\n",
       " 'BRINK. Agents of Change [PC, Цифровая версия]',\n",
       " 'Артбук Мир игры Dead Space',\n",
       " 'ВАЛЕНТИНКА. ТОМ 3 (ПИАНАНО, ГЕРЦОГИНЯ...)',\n",
       " \"Плакат Assassin's Creed Fight your way (100cm x 77cm)\",\n",
       " 'ОДИН ДЕНЬ (регион)',\n",
       " 'ДЖО (сериал)',\n",
       " 'КАТАМАДЗЕ НИНО & INSIGHT  Black',\n",
       " 'Властелин Колец: Война на Севере Day One Edition [Xbox 360, русские субтитры]',\n",
       " 'Манга Без игры жизни нет Том 1',\n",
       " 'Набор волшебных палочек Кубок Трех Волшебников (Гарри Поттер)',\n",
       " 'ПЯТАЯ ВЛАСТЬ',\n",
       " 'GOOD CHARLOTTE  Cardiology',\n",
       " 'Лукьяненко Сергей  Лорд с планеты земля (mp3-CD) (Digipack)',\n",
       " 'MAURIAT PAUL  Love Is Blue',\n",
       " 'Толстовка Minecraft Creeper Premium Zip-up детская зеленая S (36-38)',\n",
       " 'ЛЕГЕНДА (ХХкатВ)',\n",
       " 'СОЛНЕЧНЫЙ УДАР',\n",
       " 'НЕЗНАЙКА НА ЛУНЕ м/ф ч. 2 (Регион)',\n",
       " \"HOOKER JOHN LEE  I'M John Lee Hooker + 4 Bonus Tracks 180 GRAMM LP\",\n",
       " 'Настольная игра Зомбицид арт.1151',\n",
       " 'Футболка Call Of Duty Black Ops Splash Logo белая XL',\n",
       " 'ERASURE  Tomorrow`s World',\n",
       " 'ПОВТОРЯЮЩИЕ РЕАЛЬНОСТЬ',\n",
       " 'PARAMORE  Paramore',\n",
       " 'ШИРЛИ-МЫРЛИ (rem.)',\n",
       " 'Приключения и фантастика  Лучшее  3 (mp3-CD) (DVD-Box)',\n",
       " 'ПИСЬМА С ИВОДЗИМЫ  (регион) WB',\n",
       " 'MOZART W. A.  Requiem  LP',\n",
       " 'ГРАНИЦА (BD)',\n",
       " 'Фигурка Watchmen Rorschach Head Knocker',\n",
       " 'РЖЕВ. НЕИЗВЕСТНАЯ БИТВА ГЕОРГИЯ ЖУКОВА (Регион)',\n",
       " '1С:Аудиокниги. Тургенев И. Записки охотника (Jewel)',\n",
       " 'РАЛЬФ (BD)',\n",
       " 'Мяч Антистресс Cut the Rope',\n",
       " 'JUDAS PRIEST  Redeemer Of Souls',\n",
       " 'Наш Сад. Сборник библиотек №2 (DiComp) [PC, Цифровая версия]',\n",
       " 'Фигурка The Simpsons Series 4 Marge Simpson Working Woman Marge 5\"',\n",
       " 'ПРИКЛЮЧЕНИЯ БУРАТИНО  э (BD)',\n",
       " 'АУКЦЫОН  Юла (фирм.)',\n",
       " 'MINECRAFT PAPERCRAFT - Игровой мир \"Дружелюбные мобы\" 30 деталей',\n",
       " 'SUPERTRAMP  Breakfast In America  LP',\n",
       " 'Кружка ANGRY BIRDS зеленая свинка 3D 400мл',\n",
       " 'НЕУЛОВИМЫЕ (BD)',\n",
       " 'Белый день  MP3 Play (mp3-CD) (digipack)',\n",
       " 'CAVE NICK & THE BAD SEEDS  Push The Sky Away',\n",
       " 'ЛЕПС ГРИГОРИЙ  Полный вперед  LP',\n",
       " 'ОЛДБОЙ (2013) (регион)',\n",
       " 'Gravity Rush [PS Vita, русская документация]',\n",
       " 'РЫБНИКОВ АЛЕКСЕЙ  Юнона и Авось  Рок-опера  Избранное  LP',\n",
       " 'ДЖАНГО  Выше. Еще (фирм.)',\n",
       " 'МСТИТЕЛИ  ЭРА АЛЬТРОНА (BD)']"
      ]
     },
     "execution_count": 6,
     "metadata": {},
     "output_type": "execute_result"
    }
   ],
   "source": [
    "list(items.item_name.sample(100))"
   ]
  },
  {
   "cell_type": "markdown",
   "id": "photographic-converter",
   "metadata": {},
   "source": [
    "It is the random sample of item names. There is no any common patterns. Moreover the amount of such names is 22170 which is very large. So this feature I will ignore."
   ]
  },
  {
   "cell_type": "markdown",
   "id": "anonymous-exemption",
   "metadata": {},
   "source": [
    "## shops"
   ]
  },
  {
   "cell_type": "code",
   "execution_count": 7,
   "id": "loving-white",
   "metadata": {
    "ExecuteTime": {
     "end_time": "2021-10-22T06:34:19.378018Z",
     "start_time": "2021-10-22T06:34:19.322111Z"
    },
    "scrolled": true
   },
   "outputs": [
    {
     "name": "stdout",
     "output_type": "stream",
     "text": [
      "<class 'pandas.core.frame.DataFrame'>\n",
      "RangeIndex: 60 entries, 0 to 59\n",
      "Data columns (total 2 columns):\n",
      " #   Column     Non-Null Count  Dtype \n",
      "---  ------     --------------  ----- \n",
      " 0   shop_name  60 non-null     object\n",
      " 1   shop_id    60 non-null     int64 \n",
      "dtypes: int64(1), object(1)\n",
      "memory usage: 1.1+ KB\n"
     ]
    },
    {
     "data": {
      "text/html": [
       "<div>\n",
       "<style scoped>\n",
       "    .dataframe tbody tr th:only-of-type {\n",
       "        vertical-align: middle;\n",
       "    }\n",
       "\n",
       "    .dataframe tbody tr th {\n",
       "        vertical-align: top;\n",
       "    }\n",
       "\n",
       "    .dataframe thead th {\n",
       "        text-align: right;\n",
       "    }\n",
       "</style>\n",
       "<table border=\"1\" class=\"dataframe\">\n",
       "  <thead>\n",
       "    <tr style=\"text-align: right;\">\n",
       "      <th></th>\n",
       "      <th>shop_name</th>\n",
       "      <th>shop_id</th>\n",
       "    </tr>\n",
       "  </thead>\n",
       "  <tbody>\n",
       "    <tr>\n",
       "      <th>0</th>\n",
       "      <td>!Якутск Орджоникидзе, 56 фран</td>\n",
       "      <td>0</td>\n",
       "    </tr>\n",
       "    <tr>\n",
       "      <th>1</th>\n",
       "      <td>!Якутск ТЦ \"Центральный\" фран</td>\n",
       "      <td>1</td>\n",
       "    </tr>\n",
       "    <tr>\n",
       "      <th>2</th>\n",
       "      <td>Адыгея ТЦ \"Мега\"</td>\n",
       "      <td>2</td>\n",
       "    </tr>\n",
       "    <tr>\n",
       "      <th>3</th>\n",
       "      <td>Балашиха ТРК \"Октябрь-Киномир\"</td>\n",
       "      <td>3</td>\n",
       "    </tr>\n",
       "    <tr>\n",
       "      <th>4</th>\n",
       "      <td>Волжский ТЦ \"Волга Молл\"</td>\n",
       "      <td>4</td>\n",
       "    </tr>\n",
       "  </tbody>\n",
       "</table>\n",
       "</div>"
      ],
      "text/plain": [
       "                        shop_name  shop_id\n",
       "0   !Якутск Орджоникидзе, 56 фран        0\n",
       "1   !Якутск ТЦ \"Центральный\" фран        1\n",
       "2                Адыгея ТЦ \"Мега\"        2\n",
       "3  Балашиха ТРК \"Октябрь-Киномир\"        3\n",
       "4        Волжский ТЦ \"Волга Молл\"        4"
      ]
     },
     "execution_count": 7,
     "metadata": {},
     "output_type": "execute_result"
    }
   ],
   "source": [
    "shops.info()\n",
    "shops.head()"
   ]
  },
  {
   "cell_type": "markdown",
   "id": "vocal-george",
   "metadata": {},
   "source": [
    "The table ***shops*** contains all shops. There are 60 shops. The table has 2 features.  \n",
    "___________________\n",
    "**shop_id** *(unique)*  \n",
    "It is the identifier of shop.\n",
    "___________________\n",
    "**shop_name**  \n",
    "It is the name of shop. Almost all the shop names has the same pattern **'\\[the name of city\\] \\[the type of shop\\] \\[the name or address of shop\\]'**. So it is possible to split this feature into three: city, the type of shop and the name of shop."
   ]
  },
  {
   "cell_type": "markdown",
   "id": "bulgarian-characterization",
   "metadata": {},
   "source": [
    "## sales_train"
   ]
  },
  {
   "cell_type": "code",
   "execution_count": 8,
   "id": "lucky-embassy",
   "metadata": {
    "ExecuteTime": {
     "end_time": "2021-10-22T06:34:19.441927Z",
     "start_time": "2021-10-22T06:34:19.392996Z"
    },
    "scrolled": true
   },
   "outputs": [
    {
     "name": "stdout",
     "output_type": "stream",
     "text": [
      "<class 'pandas.core.frame.DataFrame'>\n",
      "RangeIndex: 2935849 entries, 0 to 2935848\n",
      "Data columns (total 6 columns):\n",
      " #   Column          Dtype  \n",
      "---  ------          -----  \n",
      " 0   date            object \n",
      " 1   date_block_num  int64  \n",
      " 2   shop_id         int64  \n",
      " 3   item_id         int64  \n",
      " 4   item_price      float64\n",
      " 5   item_cnt_day    float64\n",
      "dtypes: float64(2), int64(3), object(1)\n",
      "memory usage: 134.4+ MB\n"
     ]
    },
    {
     "data": {
      "text/html": [
       "<div>\n",
       "<style scoped>\n",
       "    .dataframe tbody tr th:only-of-type {\n",
       "        vertical-align: middle;\n",
       "    }\n",
       "\n",
       "    .dataframe tbody tr th {\n",
       "        vertical-align: top;\n",
       "    }\n",
       "\n",
       "    .dataframe thead th {\n",
       "        text-align: right;\n",
       "    }\n",
       "</style>\n",
       "<table border=\"1\" class=\"dataframe\">\n",
       "  <thead>\n",
       "    <tr style=\"text-align: right;\">\n",
       "      <th></th>\n",
       "      <th>date</th>\n",
       "      <th>date_block_num</th>\n",
       "      <th>shop_id</th>\n",
       "      <th>item_id</th>\n",
       "      <th>item_price</th>\n",
       "      <th>item_cnt_day</th>\n",
       "    </tr>\n",
       "  </thead>\n",
       "  <tbody>\n",
       "    <tr>\n",
       "      <th>0</th>\n",
       "      <td>02.01.2013</td>\n",
       "      <td>0</td>\n",
       "      <td>59</td>\n",
       "      <td>22154</td>\n",
       "      <td>999.00</td>\n",
       "      <td>1.0</td>\n",
       "    </tr>\n",
       "    <tr>\n",
       "      <th>1</th>\n",
       "      <td>03.01.2013</td>\n",
       "      <td>0</td>\n",
       "      <td>25</td>\n",
       "      <td>2552</td>\n",
       "      <td>899.00</td>\n",
       "      <td>1.0</td>\n",
       "    </tr>\n",
       "    <tr>\n",
       "      <th>2</th>\n",
       "      <td>05.01.2013</td>\n",
       "      <td>0</td>\n",
       "      <td>25</td>\n",
       "      <td>2552</td>\n",
       "      <td>899.00</td>\n",
       "      <td>-1.0</td>\n",
       "    </tr>\n",
       "    <tr>\n",
       "      <th>3</th>\n",
       "      <td>06.01.2013</td>\n",
       "      <td>0</td>\n",
       "      <td>25</td>\n",
       "      <td>2554</td>\n",
       "      <td>1709.05</td>\n",
       "      <td>1.0</td>\n",
       "    </tr>\n",
       "    <tr>\n",
       "      <th>4</th>\n",
       "      <td>15.01.2013</td>\n",
       "      <td>0</td>\n",
       "      <td>25</td>\n",
       "      <td>2555</td>\n",
       "      <td>1099.00</td>\n",
       "      <td>1.0</td>\n",
       "    </tr>\n",
       "  </tbody>\n",
       "</table>\n",
       "</div>"
      ],
      "text/plain": [
       "         date  date_block_num  shop_id  item_id  item_price  item_cnt_day\n",
       "0  02.01.2013               0       59    22154      999.00           1.0\n",
       "1  03.01.2013               0       25     2552      899.00           1.0\n",
       "2  05.01.2013               0       25     2552      899.00          -1.0\n",
       "3  06.01.2013               0       25     2554     1709.05           1.0\n",
       "4  15.01.2013               0       25     2555     1099.00           1.0"
      ]
     },
     "execution_count": 8,
     "metadata": {},
     "output_type": "execute_result"
    }
   ],
   "source": [
    "sales_train.info()\n",
    "sales_train.head()"
   ]
  },
  {
   "cell_type": "markdown",
   "id": "personal-barrel",
   "metadata": {},
   "source": [
    "The table ***sales_train*** contains the info about sellings of items in shops from January 2013 to October 2015. It contains 2,935,849 rows. The table has several features.  \n",
    "_________________________\n",
    "\n",
    "**date**  \n",
    "It is the date of selling. It ranges from 01.01.2013 to 31.10.2015. As the task is to predict the selling count in the next month this feature is useless. If every month contained the integer count of weeks, it could be used for training models on weekly data.\n",
    "_________________________\n",
    "\n",
    "**date_block_num**  \n",
    "It is the number of months from January 2013. It ranges from 0 to 33. For rows with the target month this feature equals 34. This feature is categorical and ordered.\n",
    "_________________________\n",
    "\n",
    "**shop_id**  \n",
    "It is the id of shop that sold the item. All info about shops is in table ***shops***. As table ***shops*** will be changed because of splitting the **shop_name** attribute this info can be written in this table.\n",
    "_________________________\n",
    "\n",
    "**item_id**  \n",
    "It is the id of item that was sold. All info about items is in table ***items***. As item info will be changed because of changing the ***item_categories*** table this info can be written in this table.\n",
    "_________________________\n",
    "\n",
    "**item_price**  \n",
    "The price of item in the shop at this day. It can be different for different shops and days.\n",
    "_________________________\n",
    "\n",
    "**item_cnt_day** *(target)*  \n",
    "The count of items sold by the shop at this day. "
   ]
  },
  {
   "cell_type": "markdown",
   "id": "touched-paper",
   "metadata": {},
   "source": [
    "The function to research if all the feature values are present in column."
   ]
  },
  {
   "cell_type": "code",
   "execution_count": 9,
   "id": "passive-digit",
   "metadata": {
    "ExecuteTime": {
     "end_time": "2021-10-22T06:34:19.488842Z",
     "start_time": "2021-10-22T06:34:19.452903Z"
    }
   },
   "outputs": [],
   "source": [
    "def all_feature_values(df, feature_df, feature_name):\n",
    "    return feature_df[feature_name].isin(df[feature_name]).all()"
   ]
  },
  {
   "cell_type": "code",
   "execution_count": 10,
   "id": "higher-cemetery",
   "metadata": {
    "ExecuteTime": {
     "end_time": "2021-10-22T06:34:21.929012Z",
     "start_time": "2021-10-22T06:34:19.495832Z"
    }
   },
   "outputs": [
    {
     "data": {
      "text/plain": [
       "True"
      ]
     },
     "execution_count": 10,
     "metadata": {},
     "output_type": "execute_result"
    }
   ],
   "source": [
    "all_feature_values(\n",
    "    sales_train.merge(items, on='item_id'),\n",
    "    item_categories,\n",
    "    'item_category_id'\n",
    ")"
   ]
  },
  {
   "cell_type": "code",
   "execution_count": 11,
   "id": "cross-benchmark",
   "metadata": {
    "ExecuteTime": {
     "end_time": "2021-10-22T06:34:22.088770Z",
     "start_time": "2021-10-22T06:34:21.936998Z"
    }
   },
   "outputs": [
    {
     "data": {
      "text/plain": [
       "False"
      ]
     },
     "execution_count": 11,
     "metadata": {},
     "output_type": "execute_result"
    }
   ],
   "source": [
    "all_feature_values(\n",
    "    test.merge(items, on='item_id'),\n",
    "    item_categories,\n",
    "    'item_category_id'\n",
    ")"
   ]
  },
  {
   "cell_type": "markdown",
   "id": "suspended-trial",
   "metadata": {},
   "source": [
    "The ***sales_train*** table contains all the ids of item categories."
   ]
  },
  {
   "cell_type": "code",
   "execution_count": 12,
   "id": "dated-bookmark",
   "metadata": {
    "ExecuteTime": {
     "end_time": "2021-10-22T06:34:22.168635Z",
     "start_time": "2021-10-22T06:34:22.096759Z"
    }
   },
   "outputs": [
    {
     "data": {
      "text/plain": [
       "True"
      ]
     },
     "execution_count": 12,
     "metadata": {},
     "output_type": "execute_result"
    }
   ],
   "source": [
    "all_feature_values(\n",
    "    sales_train,\n",
    "    shops,\n",
    "    'shop_id'\n",
    ")"
   ]
  },
  {
   "cell_type": "code",
   "execution_count": 13,
   "id": "known-tenant",
   "metadata": {
    "ExecuteTime": {
     "end_time": "2021-10-22T06:34:22.200581Z",
     "start_time": "2021-10-22T06:34:22.176628Z"
    }
   },
   "outputs": [
    {
     "data": {
      "text/plain": [
       "False"
      ]
     },
     "execution_count": 13,
     "metadata": {},
     "output_type": "execute_result"
    }
   ],
   "source": [
    "all_feature_values(test, shops, 'shop_id')"
   ]
  },
  {
   "cell_type": "markdown",
   "id": "settled-conflict",
   "metadata": {},
   "source": [
    "The ***sales_train*** table contains all the ids of shops."
   ]
  },
  {
   "cell_type": "code",
   "execution_count": 14,
   "id": "elementary-original",
   "metadata": {
    "ExecuteTime": {
     "end_time": "2021-10-22T06:34:22.328381Z",
     "start_time": "2021-10-22T06:34:22.208571Z"
    }
   },
   "outputs": [
    {
     "data": {
      "text/plain": [
       "False"
      ]
     },
     "execution_count": 14,
     "metadata": {},
     "output_type": "execute_result"
    }
   ],
   "source": [
    "all_feature_values(\n",
    "    sales_train,\n",
    "    items,\n",
    "    'item_id'\n",
    ")"
   ]
  },
  {
   "cell_type": "code",
   "execution_count": 15,
   "id": "technical-cloud",
   "metadata": {
    "ExecuteTime": {
     "end_time": "2021-10-22T06:34:22.374319Z",
     "start_time": "2021-10-22T06:34:22.335378Z"
    }
   },
   "outputs": [
    {
     "data": {
      "text/plain": [
       "False"
      ]
     },
     "execution_count": 15,
     "metadata": {},
     "output_type": "execute_result"
    }
   ],
   "source": [
    "all_feature_values(\n",
    "    test,\n",
    "    items,\n",
    "    'item_id'\n",
    ")"
   ]
  },
  {
   "cell_type": "code",
   "execution_count": 16,
   "id": "retained-jamaica",
   "metadata": {
    "ExecuteTime": {
     "end_time": "2021-10-22T06:34:22.581982Z",
     "start_time": "2021-10-22T06:34:22.381306Z"
    }
   },
   "outputs": [
    {
     "data": {
      "text/plain": [
       "True"
      ]
     },
     "execution_count": 16,
     "metadata": {},
     "output_type": "execute_result"
    }
   ],
   "source": [
    "all_feature_values(\n",
    "    pd.concat([sales_train[['item_id']], test[['item_id']]], ignore_index=True),\n",
    "    items,\n",
    "    'item_id'\n",
    ")"
   ]
  },
  {
   "cell_type": "markdown",
   "id": "constitutional-sapphire",
   "metadata": {},
   "source": [
    "The ***sales_train*** table doesn't contain all the ids of items but the union with the ***test*** table contains."
   ]
  },
  {
   "cell_type": "markdown",
   "id": "dental-lease",
   "metadata": {},
   "source": [
    "There is one row where *item_price* is negative"
   ]
  },
  {
   "cell_type": "code",
   "execution_count": 17,
   "id": "employed-precipitation",
   "metadata": {
    "ExecuteTime": {
     "end_time": "2021-10-22T06:34:22.660860Z",
     "start_time": "2021-10-22T06:34:22.589974Z"
    }
   },
   "outputs": [
    {
     "data": {
      "text/plain": [
       "484683   -1.0\n",
       "Name: item_price, dtype: float64"
      ]
     },
     "execution_count": 17,
     "metadata": {},
     "output_type": "execute_result"
    }
   ],
   "source": [
    "sales_train.item_price[sales_train.item_price <= 0]"
   ]
  },
  {
   "cell_type": "markdown",
   "id": "returning-winter",
   "metadata": {},
   "source": [
    "The *item_id* of this item is 2973. But in other rows *item_price* is at least 1049.\n",
    "\n",
    "The table with rows where *item_id* is 2973 and sorted by *item_price*:"
   ]
  },
  {
   "cell_type": "code",
   "execution_count": 18,
   "id": "hybrid-probability",
   "metadata": {
    "ExecuteTime": {
     "end_time": "2021-10-22T06:34:22.756707Z",
     "start_time": "2021-10-22T06:34:22.668850Z"
    },
    "scrolled": true
   },
   "outputs": [
    {
     "data": {
      "text/html": [
       "<div>\n",
       "<style scoped>\n",
       "    .dataframe tbody tr th:only-of-type {\n",
       "        vertical-align: middle;\n",
       "    }\n",
       "\n",
       "    .dataframe tbody tr th {\n",
       "        vertical-align: top;\n",
       "    }\n",
       "\n",
       "    .dataframe thead th {\n",
       "        text-align: right;\n",
       "    }\n",
       "</style>\n",
       "<table border=\"1\" class=\"dataframe\">\n",
       "  <thead>\n",
       "    <tr style=\"text-align: right;\">\n",
       "      <th></th>\n",
       "      <th>date</th>\n",
       "      <th>date_block_num</th>\n",
       "      <th>shop_id</th>\n",
       "      <th>item_id</th>\n",
       "      <th>item_price</th>\n",
       "      <th>item_cnt_day</th>\n",
       "    </tr>\n",
       "  </thead>\n",
       "  <tbody>\n",
       "    <tr>\n",
       "      <th>484683</th>\n",
       "      <td>15.05.2013</td>\n",
       "      <td>4</td>\n",
       "      <td>32</td>\n",
       "      <td>2973</td>\n",
       "      <td>-1.0</td>\n",
       "      <td>1.0</td>\n",
       "    </tr>\n",
       "    <tr>\n",
       "      <th>585870</th>\n",
       "      <td>14.06.2013</td>\n",
       "      <td>5</td>\n",
       "      <td>25</td>\n",
       "      <td>2973</td>\n",
       "      <td>1049.0</td>\n",
       "      <td>1.0</td>\n",
       "    </tr>\n",
       "    <tr>\n",
       "      <th>1711251</th>\n",
       "      <td>06.06.2014</td>\n",
       "      <td>17</td>\n",
       "      <td>25</td>\n",
       "      <td>2973</td>\n",
       "      <td>1248.7</td>\n",
       "      <td>1.0</td>\n",
       "    </tr>\n",
       "    <tr>\n",
       "      <th>572246</th>\n",
       "      <td>17.06.2013</td>\n",
       "      <td>5</td>\n",
       "      <td>16</td>\n",
       "      <td>2973</td>\n",
       "      <td>1248.9</td>\n",
       "      <td>1.0</td>\n",
       "    </tr>\n",
       "    <tr>\n",
       "      <th>529456</th>\n",
       "      <td>23.05.2013</td>\n",
       "      <td>4</td>\n",
       "      <td>50</td>\n",
       "      <td>2973</td>\n",
       "      <td>1249.0</td>\n",
       "      <td>1.0</td>\n",
       "    </tr>\n",
       "    <tr>\n",
       "      <th>...</th>\n",
       "      <td>...</td>\n",
       "      <td>...</td>\n",
       "      <td>...</td>\n",
       "      <td>...</td>\n",
       "      <td>...</td>\n",
       "      <td>...</td>\n",
       "    </tr>\n",
       "    <tr>\n",
       "      <th>120218</th>\n",
       "      <td>03.02.2013</td>\n",
       "      <td>1</td>\n",
       "      <td>52</td>\n",
       "      <td>2973</td>\n",
       "      <td>2499.0</td>\n",
       "      <td>1.0</td>\n",
       "    </tr>\n",
       "    <tr>\n",
       "      <th>122323</th>\n",
       "      <td>05.02.2013</td>\n",
       "      <td>1</td>\n",
       "      <td>42</td>\n",
       "      <td>2973</td>\n",
       "      <td>2499.0</td>\n",
       "      <td>1.0</td>\n",
       "    </tr>\n",
       "    <tr>\n",
       "      <th>122324</th>\n",
       "      <td>23.02.2013</td>\n",
       "      <td>1</td>\n",
       "      <td>42</td>\n",
       "      <td>2973</td>\n",
       "      <td>2499.0</td>\n",
       "      <td>1.0</td>\n",
       "    </tr>\n",
       "    <tr>\n",
       "      <th>122344</th>\n",
       "      <td>01.02.2013</td>\n",
       "      <td>1</td>\n",
       "      <td>42</td>\n",
       "      <td>2973</td>\n",
       "      <td>2499.0</td>\n",
       "      <td>2.0</td>\n",
       "    </tr>\n",
       "    <tr>\n",
       "      <th>208210</th>\n",
       "      <td>16.02.2013</td>\n",
       "      <td>1</td>\n",
       "      <td>27</td>\n",
       "      <td>2973</td>\n",
       "      <td>2499.0</td>\n",
       "      <td>1.0</td>\n",
       "    </tr>\n",
       "  </tbody>\n",
       "</table>\n",
       "<p>780 rows × 6 columns</p>\n",
       "</div>"
      ],
      "text/plain": [
       "               date  date_block_num  shop_id  item_id  item_price  \\\n",
       "484683   15.05.2013               4       32     2973        -1.0   \n",
       "585870   14.06.2013               5       25     2973      1049.0   \n",
       "1711251  06.06.2014              17       25     2973      1248.7   \n",
       "572246   17.06.2013               5       16     2973      1248.9   \n",
       "529456   23.05.2013               4       50     2973      1249.0   \n",
       "...             ...             ...      ...      ...         ...   \n",
       "120218   03.02.2013               1       52     2973      2499.0   \n",
       "122323   05.02.2013               1       42     2973      2499.0   \n",
       "122324   23.02.2013               1       42     2973      2499.0   \n",
       "122344   01.02.2013               1       42     2973      2499.0   \n",
       "208210   16.02.2013               1       27     2973      2499.0   \n",
       "\n",
       "         item_cnt_day  \n",
       "484683            1.0  \n",
       "585870            1.0  \n",
       "1711251           1.0  \n",
       "572246            1.0  \n",
       "529456            1.0  \n",
       "...               ...  \n",
       "120218            1.0  \n",
       "122323            1.0  \n",
       "122324            1.0  \n",
       "122344            2.0  \n",
       "208210            1.0  \n",
       "\n",
       "[780 rows x 6 columns]"
      ]
     },
     "execution_count": 18,
     "metadata": {},
     "output_type": "execute_result"
    }
   ],
   "source": [
    "min_price_item_id = sales_train.loc[484683].item_id\n",
    "sales_train[sales_train.item_id == min_price_item_id].sort_values(by='item_price')"
   ]
  },
  {
   "cell_type": "markdown",
   "id": "placed-question",
   "metadata": {},
   "source": [
    "The row with *item_price* -1 contains *shop_id* equals 32 and *item_id* equals 2973.\n",
    "\n",
    "The table with rows where *shop_id* equals 32 and *item_id* equals 2973."
   ]
  },
  {
   "cell_type": "code",
   "execution_count": 19,
   "id": "anticipated-edgar",
   "metadata": {
    "ExecuteTime": {
     "end_time": "2021-10-22T06:34:22.852562Z",
     "start_time": "2021-10-22T06:34:22.763703Z"
    }
   },
   "outputs": [
    {
     "data": {
      "text/html": [
       "<div>\n",
       "<style scoped>\n",
       "    .dataframe tbody tr th:only-of-type {\n",
       "        vertical-align: middle;\n",
       "    }\n",
       "\n",
       "    .dataframe tbody tr th {\n",
       "        vertical-align: top;\n",
       "    }\n",
       "\n",
       "    .dataframe thead th {\n",
       "        text-align: right;\n",
       "    }\n",
       "</style>\n",
       "<table border=\"1\" class=\"dataframe\">\n",
       "  <thead>\n",
       "    <tr style=\"text-align: right;\">\n",
       "      <th></th>\n",
       "      <th>date</th>\n",
       "      <th>date_block_num</th>\n",
       "      <th>shop_id</th>\n",
       "      <th>item_id</th>\n",
       "      <th>item_price</th>\n",
       "      <th>item_cnt_day</th>\n",
       "    </tr>\n",
       "  </thead>\n",
       "  <tbody>\n",
       "    <tr>\n",
       "      <th>484683</th>\n",
       "      <td>15.05.2013</td>\n",
       "      <td>4</td>\n",
       "      <td>32</td>\n",
       "      <td>2973</td>\n",
       "      <td>-1.0</td>\n",
       "      <td>1.0</td>\n",
       "    </tr>\n",
       "    <tr>\n",
       "      <th>484682</th>\n",
       "      <td>23.05.2013</td>\n",
       "      <td>4</td>\n",
       "      <td>32</td>\n",
       "      <td>2973</td>\n",
       "      <td>1249.0</td>\n",
       "      <td>1.0</td>\n",
       "    </tr>\n",
       "    <tr>\n",
       "      <th>555026</th>\n",
       "      <td>05.06.2013</td>\n",
       "      <td>5</td>\n",
       "      <td>32</td>\n",
       "      <td>2973</td>\n",
       "      <td>1249.5</td>\n",
       "      <td>1.0</td>\n",
       "    </tr>\n",
       "    <tr>\n",
       "      <th>67427</th>\n",
       "      <td>29.01.2013</td>\n",
       "      <td>0</td>\n",
       "      <td>32</td>\n",
       "      <td>2973</td>\n",
       "      <td>2499.0</td>\n",
       "      <td>1.0</td>\n",
       "    </tr>\n",
       "    <tr>\n",
       "      <th>67428</th>\n",
       "      <td>25.01.2013</td>\n",
       "      <td>0</td>\n",
       "      <td>32</td>\n",
       "      <td>2973</td>\n",
       "      <td>2499.0</td>\n",
       "      <td>1.0</td>\n",
       "    </tr>\n",
       "    <tr>\n",
       "      <th>67429</th>\n",
       "      <td>22.01.2013</td>\n",
       "      <td>0</td>\n",
       "      <td>32</td>\n",
       "      <td>2973</td>\n",
       "      <td>2499.0</td>\n",
       "      <td>1.0</td>\n",
       "    </tr>\n",
       "    <tr>\n",
       "      <th>67430</th>\n",
       "      <td>21.01.2013</td>\n",
       "      <td>0</td>\n",
       "      <td>32</td>\n",
       "      <td>2973</td>\n",
       "      <td>2499.0</td>\n",
       "      <td>1.0</td>\n",
       "    </tr>\n",
       "    <tr>\n",
       "      <th>67431</th>\n",
       "      <td>18.01.2013</td>\n",
       "      <td>0</td>\n",
       "      <td>32</td>\n",
       "      <td>2973</td>\n",
       "      <td>2499.0</td>\n",
       "      <td>1.0</td>\n",
       "    </tr>\n",
       "    <tr>\n",
       "      <th>67432</th>\n",
       "      <td>17.01.2013</td>\n",
       "      <td>0</td>\n",
       "      <td>32</td>\n",
       "      <td>2973</td>\n",
       "      <td>2499.0</td>\n",
       "      <td>1.0</td>\n",
       "    </tr>\n",
       "    <tr>\n",
       "      <th>67433</th>\n",
       "      <td>15.01.2013</td>\n",
       "      <td>0</td>\n",
       "      <td>32</td>\n",
       "      <td>2973</td>\n",
       "      <td>2499.0</td>\n",
       "      <td>3.0</td>\n",
       "    </tr>\n",
       "    <tr>\n",
       "      <th>187844</th>\n",
       "      <td>05.02.2013</td>\n",
       "      <td>1</td>\n",
       "      <td>32</td>\n",
       "      <td>2973</td>\n",
       "      <td>2499.0</td>\n",
       "      <td>1.0</td>\n",
       "    </tr>\n",
       "    <tr>\n",
       "      <th>187845</th>\n",
       "      <td>14.02.2013</td>\n",
       "      <td>1</td>\n",
       "      <td>32</td>\n",
       "      <td>2973</td>\n",
       "      <td>2499.0</td>\n",
       "      <td>1.0</td>\n",
       "    </tr>\n",
       "    <tr>\n",
       "      <th>484684</th>\n",
       "      <td>06.05.2013</td>\n",
       "      <td>4</td>\n",
       "      <td>32</td>\n",
       "      <td>2973</td>\n",
       "      <td>2499.0</td>\n",
       "      <td>1.0</td>\n",
       "    </tr>\n",
       "  </tbody>\n",
       "</table>\n",
       "</div>"
      ],
      "text/plain": [
       "              date  date_block_num  shop_id  item_id  item_price  item_cnt_day\n",
       "484683  15.05.2013               4       32     2973        -1.0           1.0\n",
       "484682  23.05.2013               4       32     2973      1249.0           1.0\n",
       "555026  05.06.2013               5       32     2973      1249.5           1.0\n",
       "67427   29.01.2013               0       32     2973      2499.0           1.0\n",
       "67428   25.01.2013               0       32     2973      2499.0           1.0\n",
       "67429   22.01.2013               0       32     2973      2499.0           1.0\n",
       "67430   21.01.2013               0       32     2973      2499.0           1.0\n",
       "67431   18.01.2013               0       32     2973      2499.0           1.0\n",
       "67432   17.01.2013               0       32     2973      2499.0           1.0\n",
       "67433   15.01.2013               0       32     2973      2499.0           3.0\n",
       "187844  05.02.2013               1       32     2973      2499.0           1.0\n",
       "187845  14.02.2013               1       32     2973      2499.0           1.0\n",
       "484684  06.05.2013               4       32     2973      2499.0           1.0"
      ]
     },
     "execution_count": 19,
     "metadata": {},
     "output_type": "execute_result"
    }
   ],
   "source": [
    "sales_train[(sales_train.item_id == min_price_item_id) & (sales_train.shop_id == 32)].sort_values(by='item_price')"
   ]
  },
  {
   "cell_type": "markdown",
   "id": "visible-devices",
   "metadata": {},
   "source": [
    "The prices of this item in this shop are at least 1249.0. So this negative price can be the input error and will be ignored."
   ]
  },
  {
   "cell_type": "markdown",
   "id": "mounted-diploma",
   "metadata": {},
   "source": [
    "Mean price among all shops and items:"
   ]
  },
  {
   "cell_type": "code",
   "execution_count": 20,
   "id": "coral-locking",
   "metadata": {
    "ExecuteTime": {
     "end_time": "2021-10-22T06:34:24.208431Z",
     "start_time": "2021-10-22T06:34:22.861549Z"
    }
   },
   "outputs": [],
   "source": [
    "prices = sales_train.groupby(['shop_id', 'item_id']).item_price.mean()"
   ]
  },
  {
   "cell_type": "code",
   "execution_count": 21,
   "id": "transsexual-layout",
   "metadata": {
    "ExecuteTime": {
     "end_time": "2021-10-22T06:34:25.641176Z",
     "start_time": "2021-10-22T06:34:24.215426Z"
    },
    "scrolled": true
   },
   "outputs": [
    {
     "data": {
      "image/png": "[encoded data removed]",
      "text/plain": [
       "<Figure size 432x288 with 1 Axes>"
      ]
     },
     "metadata": {
      "needs_background": "light"
     },
     "output_type": "display_data"
    }
   ],
   "source": [
    "prices.hist(bins=100)\n",
    "plt.xlabel('price')\n",
    "plt.ylabel('count')\n",
    "plt.title('prices histogram')\n",
    "plt.show()"
   ]
  },
  {
   "cell_type": "markdown",
   "id": "scenic-operation",
   "metadata": {},
   "source": [
    "Almost all prices are less 50000.\n",
    "\n",
    "Sorted prices:"
   ]
  },
  {
   "cell_type": "code",
   "execution_count": 22,
   "id": "constitutional-train",
   "metadata": {
    "ExecuteTime": {
     "end_time": "2021-10-22T06:34:25.864652Z",
     "start_time": "2021-10-22T06:34:25.648173Z"
    }
   },
   "outputs": [
    {
     "data": {
      "text/plain": [
       "shop_id  item_id\n",
       "58       11865           0.090000\n",
       "         20146           0.095833\n",
       "6        11864           0.096667\n",
       "         11872           0.096667\n",
       "16       20144           0.100000\n",
       "                        ...      \n",
       "3        13403       42990.000000\n",
       "22       13403       42990.000000\n",
       "12       7241        49782.000000\n",
       "25       13199       50999.000000\n",
       "12       6066       307980.000000\n",
       "Name: item_price, Length: 424124, dtype: float64"
      ]
     },
     "execution_count": 22,
     "metadata": {},
     "output_type": "execute_result"
    }
   ],
   "source": [
    "prices.sort_values()"
   ]
  },
  {
   "cell_type": "markdown",
   "id": "fabulous-mount",
   "metadata": {},
   "source": [
    "As we can see there are a few extremely large prices."
   ]
  },
  {
   "cell_type": "markdown",
   "id": "fourth-fellow",
   "metadata": {},
   "source": [
    "Percentiles of prices"
   ]
  },
  {
   "cell_type": "code",
   "execution_count": 23,
   "id": "classical-information",
   "metadata": {
    "ExecuteTime": {
     "end_time": "2021-10-22T06:34:25.912578Z",
     "start_time": "2021-10-22T06:34:25.873636Z"
    },
    "scrolled": false
   },
   "outputs": [
    {
     "data": {
      "text/plain": [
       "{'0.5 %': 28.0,\n",
       " '1.0 %': 50.0,\n",
       " '1.5 %': 58.0,\n",
       " '2.0 %': 69.0,\n",
       " '2.5 %': 76.0,\n",
       " '3.0 %': 80.0,\n",
       " '3.5 %': 96.86150000000004,\n",
       " '4.0 %': 98.0,\n",
       " '4.5 %': 99.0,\n",
       " '5.0 %': 99.41227272727285,\n",
       " '95.0 %': 2499.0,\n",
       " '95.5 %': 2599.0,\n",
       " '96.0 %': 2799.0,\n",
       " '96.5 %': 2999.0,\n",
       " '97.0 %': 3176.3243380952376,\n",
       " '97.5 %': 3499.0,\n",
       " '98.0 %': 3999.0,\n",
       " '98.5 %': 4999.0,\n",
       " '99.0 %': 7998.0,\n",
       " '99.5 %': 12741.537083333362}"
      ]
     },
     "execution_count": 23,
     "metadata": {},
     "output_type": "execute_result"
    }
   ],
   "source": [
    "percents = np.append(np.linspace(0.5, 5, 10), np.linspace(95, 99.5, 10))\n",
    "{f'{key} %': value for key, value in zip(percents, np.percentile(prices, percents))}"
   ]
  },
  {
   "cell_type": "markdown",
   "id": "duplicate-logistics",
   "metadata": {},
   "source": [
    "The most expensive items are:"
   ]
  },
  {
   "cell_type": "code",
   "execution_count": 24,
   "id": "progressive-regulation",
   "metadata": {
    "ExecuteTime": {
     "end_time": "2021-10-22T06:34:25.944523Z",
     "start_time": "2021-10-22T06:34:25.919561Z"
    },
    "scrolled": true
   },
   "outputs": [
    {
     "data": {
      "text/plain": [
       "item_name           Radmin 3  - 522 лиц.\n",
       "item_id                             6066\n",
       "item_category_id                      75\n",
       "Name: 6066, dtype: object"
      ]
     },
     "execution_count": 24,
     "metadata": {},
     "output_type": "execute_result"
    }
   ],
   "source": [
    "items.loc[6066]"
   ]
  },
  {
   "cell_type": "code",
   "execution_count": 25,
   "id": "latin-macro",
   "metadata": {
    "ExecuteTime": {
     "end_time": "2021-10-22T06:34:26.008422Z",
     "start_time": "2021-10-22T06:34:25.952510Z"
    },
    "scrolled": true
   },
   "outputs": [
    {
     "data": {
      "text/html": [
       "<div>\n",
       "<style scoped>\n",
       "    .dataframe tbody tr th:only-of-type {\n",
       "        vertical-align: middle;\n",
       "    }\n",
       "\n",
       "    .dataframe tbody tr th {\n",
       "        vertical-align: top;\n",
       "    }\n",
       "\n",
       "    .dataframe thead th {\n",
       "        text-align: right;\n",
       "    }\n",
       "</style>\n",
       "<table border=\"1\" class=\"dataframe\">\n",
       "  <thead>\n",
       "    <tr style=\"text-align: right;\">\n",
       "      <th></th>\n",
       "      <th>date</th>\n",
       "      <th>date_block_num</th>\n",
       "      <th>shop_id</th>\n",
       "      <th>item_id</th>\n",
       "      <th>item_price</th>\n",
       "      <th>item_cnt_day</th>\n",
       "    </tr>\n",
       "  </thead>\n",
       "  <tbody>\n",
       "    <tr>\n",
       "      <th>1163158</th>\n",
       "      <td>13.12.2013</td>\n",
       "      <td>11</td>\n",
       "      <td>12</td>\n",
       "      <td>6066</td>\n",
       "      <td>307980.0</td>\n",
       "      <td>1.0</td>\n",
       "    </tr>\n",
       "  </tbody>\n",
       "</table>\n",
       "</div>"
      ],
      "text/plain": [
       "               date  date_block_num  shop_id  item_id  item_price  \\\n",
       "1163158  13.12.2013              11       12     6066    307980.0   \n",
       "\n",
       "         item_cnt_day  \n",
       "1163158           1.0  "
      ]
     },
     "execution_count": 25,
     "metadata": {},
     "output_type": "execute_result"
    }
   ],
   "source": [
    "sales_train[sales_train.item_id == 6066]"
   ]
  },
  {
   "cell_type": "code",
   "execution_count": 26,
   "id": "royal-eleven",
   "metadata": {
    "ExecuteTime": {
     "end_time": "2021-10-22T06:34:26.056354Z",
     "start_time": "2021-10-22T06:34:26.032390Z"
    }
   },
   "outputs": [
    {
     "data": {
      "text/plain": [
       "item_name           UserGate Proxy & Firewall 6.X с модулем фильтр...\n",
       "item_id                                                          7241\n",
       "item_category_id                                                   75\n",
       "Name: 7241, dtype: object"
      ]
     },
     "execution_count": 26,
     "metadata": {},
     "output_type": "execute_result"
    }
   ],
   "source": [
    "items.loc[7241]"
   ]
  },
  {
   "cell_type": "code",
   "execution_count": 27,
   "id": "viral-hurricane",
   "metadata": {
    "ExecuteTime": {
     "end_time": "2021-10-22T06:34:26.120243Z",
     "start_time": "2021-10-22T06:34:26.071325Z"
    }
   },
   "outputs": [
    {
     "data": {
      "text/html": [
       "<div>\n",
       "<style scoped>\n",
       "    .dataframe tbody tr th:only-of-type {\n",
       "        vertical-align: middle;\n",
       "    }\n",
       "\n",
       "    .dataframe tbody tr th {\n",
       "        vertical-align: top;\n",
       "    }\n",
       "\n",
       "    .dataframe thead th {\n",
       "        text-align: right;\n",
       "    }\n",
       "</style>\n",
       "<table border=\"1\" class=\"dataframe\">\n",
       "  <thead>\n",
       "    <tr style=\"text-align: right;\">\n",
       "      <th></th>\n",
       "      <th>date</th>\n",
       "      <th>date_block_num</th>\n",
       "      <th>shop_id</th>\n",
       "      <th>item_id</th>\n",
       "      <th>item_price</th>\n",
       "      <th>item_cnt_day</th>\n",
       "    </tr>\n",
       "  </thead>\n",
       "  <tbody>\n",
       "    <tr>\n",
       "      <th>2327159</th>\n",
       "      <td>29.01.2015</td>\n",
       "      <td>24</td>\n",
       "      <td>12</td>\n",
       "      <td>7241</td>\n",
       "      <td>49782.0</td>\n",
       "      <td>1.0</td>\n",
       "    </tr>\n",
       "  </tbody>\n",
       "</table>\n",
       "</div>"
      ],
      "text/plain": [
       "               date  date_block_num  shop_id  item_id  item_price  \\\n",
       "2327159  29.01.2015              24       12     7241     49782.0   \n",
       "\n",
       "         item_cnt_day  \n",
       "2327159           1.0  "
      ]
     },
     "execution_count": 27,
     "metadata": {},
     "output_type": "execute_result"
    }
   ],
   "source": [
    "sales_train[sales_train.item_id == 7241]"
   ]
  },
  {
   "cell_type": "code",
   "execution_count": 28,
   "id": "fifteen-appliance",
   "metadata": {
    "ExecuteTime": {
     "end_time": "2021-10-22T06:34:26.152203Z",
     "start_time": "2021-10-22T06:34:26.127245Z"
    },
    "scrolled": true
   },
   "outputs": [
    {
     "data": {
      "text/plain": [
       "item_name           Коллекционные шахматы (Властелин Колец)\n",
       "item_id                                               13199\n",
       "item_category_id                                         69\n",
       "Name: 13199, dtype: object"
      ]
     },
     "execution_count": 28,
     "metadata": {},
     "output_type": "execute_result"
    }
   ],
   "source": [
    "items.loc[13199]"
   ]
  },
  {
   "cell_type": "code",
   "execution_count": 29,
   "id": "invalid-protocol",
   "metadata": {
    "ExecuteTime": {
     "end_time": "2021-10-22T06:34:26.216092Z",
     "start_time": "2021-10-22T06:34:26.160185Z"
    },
    "scrolled": true
   },
   "outputs": [
    {
     "data": {
      "text/html": [
       "<div>\n",
       "<style scoped>\n",
       "    .dataframe tbody tr th:only-of-type {\n",
       "        vertical-align: middle;\n",
       "    }\n",
       "\n",
       "    .dataframe tbody tr th {\n",
       "        vertical-align: top;\n",
       "    }\n",
       "\n",
       "    .dataframe thead th {\n",
       "        text-align: right;\n",
       "    }\n",
       "</style>\n",
       "<table border=\"1\" class=\"dataframe\">\n",
       "  <thead>\n",
       "    <tr style=\"text-align: right;\">\n",
       "      <th></th>\n",
       "      <th>date</th>\n",
       "      <th>date_block_num</th>\n",
       "      <th>shop_id</th>\n",
       "      <th>item_id</th>\n",
       "      <th>item_price</th>\n",
       "      <th>item_cnt_day</th>\n",
       "    </tr>\n",
       "  </thead>\n",
       "  <tbody>\n",
       "    <tr>\n",
       "      <th>1488135</th>\n",
       "      <td>20.03.2014</td>\n",
       "      <td>14</td>\n",
       "      <td>25</td>\n",
       "      <td>13199</td>\n",
       "      <td>50999.0</td>\n",
       "      <td>1.0</td>\n",
       "    </tr>\n",
       "  </tbody>\n",
       "</table>\n",
       "</div>"
      ],
      "text/plain": [
       "               date  date_block_num  shop_id  item_id  item_price  \\\n",
       "1488135  20.03.2014              14       25    13199     50999.0   \n",
       "\n",
       "         item_cnt_day  \n",
       "1488135           1.0  "
      ]
     },
     "execution_count": 29,
     "metadata": {},
     "output_type": "execute_result"
    }
   ],
   "source": [
    "sales_train[sales_train.item_id == 13199]"
   ]
  },
  {
   "cell_type": "code",
   "execution_count": 30,
   "id": "naked-hometown",
   "metadata": {
    "ExecuteTime": {
     "end_time": "2021-10-22T06:34:26.248049Z",
     "start_time": "2021-10-22T06:34:26.223092Z"
    },
    "scrolled": true
   },
   "outputs": [
    {
     "data": {
      "text/plain": [
       "item_name           Комплект \"Microsoft Xbox One 1TB  Limited Edit...\n",
       "item_id                                                         13403\n",
       "item_category_id                                                   16\n",
       "Name: 13403, dtype: object"
      ]
     },
     "execution_count": 30,
     "metadata": {},
     "output_type": "execute_result"
    }
   ],
   "source": [
    "items.loc[13403]"
   ]
  },
  {
   "cell_type": "code",
   "execution_count": 31,
   "id": "foreign-security",
   "metadata": {
    "ExecuteTime": {
     "end_time": "2021-10-22T06:34:26.311942Z",
     "start_time": "2021-10-22T06:34:26.256034Z"
    }
   },
   "outputs": [
    {
     "data": {
      "text/html": [
       "<div>\n",
       "<style scoped>\n",
       "    .dataframe tbody tr th:only-of-type {\n",
       "        vertical-align: middle;\n",
       "    }\n",
       "\n",
       "    .dataframe tbody tr th {\n",
       "        vertical-align: top;\n",
       "    }\n",
       "\n",
       "    .dataframe thead th {\n",
       "        text-align: right;\n",
       "    }\n",
       "</style>\n",
       "<table border=\"1\" class=\"dataframe\">\n",
       "  <thead>\n",
       "    <tr style=\"text-align: right;\">\n",
       "      <th></th>\n",
       "      <th>date</th>\n",
       "      <th>date_block_num</th>\n",
       "      <th>shop_id</th>\n",
       "      <th>item_id</th>\n",
       "      <th>item_price</th>\n",
       "      <th>item_cnt_day</th>\n",
       "    </tr>\n",
       "  </thead>\n",
       "  <tbody>\n",
       "    <tr>\n",
       "      <th>2885692</th>\n",
       "      <td>23.10.2015</td>\n",
       "      <td>33</td>\n",
       "      <td>42</td>\n",
       "      <td>13403</td>\n",
       "      <td>42990.0</td>\n",
       "      <td>1.0</td>\n",
       "    </tr>\n",
       "    <tr>\n",
       "      <th>2885693</th>\n",
       "      <td>25.10.2015</td>\n",
       "      <td>33</td>\n",
       "      <td>42</td>\n",
       "      <td>13403</td>\n",
       "      <td>28992.0</td>\n",
       "      <td>1.0</td>\n",
       "    </tr>\n",
       "    <tr>\n",
       "      <th>2885694</th>\n",
       "      <td>29.10.2015</td>\n",
       "      <td>33</td>\n",
       "      <td>42</td>\n",
       "      <td>13403</td>\n",
       "      <td>37991.0</td>\n",
       "      <td>2.0</td>\n",
       "    </tr>\n",
       "    <tr>\n",
       "      <th>2890617</th>\n",
       "      <td>26.10.2015</td>\n",
       "      <td>33</td>\n",
       "      <td>31</td>\n",
       "      <td>13403</td>\n",
       "      <td>35991.0</td>\n",
       "      <td>1.0</td>\n",
       "    </tr>\n",
       "    <tr>\n",
       "      <th>2893100</th>\n",
       "      <td>20.10.2015</td>\n",
       "      <td>33</td>\n",
       "      <td>38</td>\n",
       "      <td>13403</td>\n",
       "      <td>41990.0</td>\n",
       "      <td>1.0</td>\n",
       "    </tr>\n",
       "    <tr>\n",
       "      <th>2910155</th>\n",
       "      <td>20.10.2015</td>\n",
       "      <td>33</td>\n",
       "      <td>12</td>\n",
       "      <td>13403</td>\n",
       "      <td>41990.0</td>\n",
       "      <td>1.0</td>\n",
       "    </tr>\n",
       "    <tr>\n",
       "      <th>2910156</th>\n",
       "      <td>29.10.2015</td>\n",
       "      <td>33</td>\n",
       "      <td>12</td>\n",
       "      <td>13403</td>\n",
       "      <td>42990.0</td>\n",
       "      <td>1.0</td>\n",
       "    </tr>\n",
       "    <tr>\n",
       "      <th>2913267</th>\n",
       "      <td>22.10.2015</td>\n",
       "      <td>33</td>\n",
       "      <td>18</td>\n",
       "      <td>13403</td>\n",
       "      <td>41990.0</td>\n",
       "      <td>1.0</td>\n",
       "    </tr>\n",
       "    <tr>\n",
       "      <th>2917760</th>\n",
       "      <td>20.10.2015</td>\n",
       "      <td>33</td>\n",
       "      <td>3</td>\n",
       "      <td>13403</td>\n",
       "      <td>42990.0</td>\n",
       "      <td>1.0</td>\n",
       "    </tr>\n",
       "    <tr>\n",
       "      <th>2927572</th>\n",
       "      <td>22.10.2015</td>\n",
       "      <td>33</td>\n",
       "      <td>28</td>\n",
       "      <td>13403</td>\n",
       "      <td>40991.0</td>\n",
       "      <td>1.0</td>\n",
       "    </tr>\n",
       "    <tr>\n",
       "      <th>2931380</th>\n",
       "      <td>20.10.2015</td>\n",
       "      <td>33</td>\n",
       "      <td>22</td>\n",
       "      <td>13403</td>\n",
       "      <td>42990.0</td>\n",
       "      <td>1.0</td>\n",
       "    </tr>\n",
       "    <tr>\n",
       "      <th>2932637</th>\n",
       "      <td>26.10.2015</td>\n",
       "      <td>33</td>\n",
       "      <td>25</td>\n",
       "      <td>13403</td>\n",
       "      <td>37991.0</td>\n",
       "      <td>1.0</td>\n",
       "    </tr>\n",
       "  </tbody>\n",
       "</table>\n",
       "</div>"
      ],
      "text/plain": [
       "               date  date_block_num  shop_id  item_id  item_price  \\\n",
       "2885692  23.10.2015              33       42    13403     42990.0   \n",
       "2885693  25.10.2015              33       42    13403     28992.0   \n",
       "2885694  29.10.2015              33       42    13403     37991.0   \n",
       "2890617  26.10.2015              33       31    13403     35991.0   \n",
       "2893100  20.10.2015              33       38    13403     41990.0   \n",
       "2910155  20.10.2015              33       12    13403     41990.0   \n",
       "2910156  29.10.2015              33       12    13403     42990.0   \n",
       "2913267  22.10.2015              33       18    13403     41990.0   \n",
       "2917760  20.10.2015              33        3    13403     42990.0   \n",
       "2927572  22.10.2015              33       28    13403     40991.0   \n",
       "2931380  20.10.2015              33       22    13403     42990.0   \n",
       "2932637  26.10.2015              33       25    13403     37991.0   \n",
       "\n",
       "         item_cnt_day  \n",
       "2885692           1.0  \n",
       "2885693           1.0  \n",
       "2885694           2.0  \n",
       "2890617           1.0  \n",
       "2893100           1.0  \n",
       "2910155           1.0  \n",
       "2910156           1.0  \n",
       "2913267           1.0  \n",
       "2917760           1.0  \n",
       "2927572           1.0  \n",
       "2931380           1.0  \n",
       "2932637           1.0  "
      ]
     },
     "execution_count": 31,
     "metadata": {},
     "output_type": "execute_result"
    }
   ],
   "source": [
    "sales_train[sales_train.item_id == 13403]"
   ]
  },
  {
   "cell_type": "markdown",
   "id": "realistic-branch",
   "metadata": {},
   "source": [
    "First three items were being sold only once. According to their names the prices are not outliers: first one is some software for the group of people, the second one is the rare good, the third one is just an expensive good. The last item is in multiple rows. So these outliers are not errors."
   ]
  },
  {
   "cell_type": "markdown",
   "id": "twelve-poison",
   "metadata": {},
   "source": [
    "The cheapest item is:"
   ]
  },
  {
   "cell_type": "code",
   "execution_count": 32,
   "id": "gorgeous-marble",
   "metadata": {
    "ExecuteTime": {
     "end_time": "2021-10-22T06:34:26.343892Z",
     "start_time": "2021-10-22T06:34:26.318933Z"
    }
   },
   "outputs": [
    {
     "data": {
      "text/plain": [
       "item_name           Змей МАКС антистресс 33 см.\n",
       "item_id                                   11865\n",
       "item_category_id                             63\n",
       "Name: 11865, dtype: object"
      ]
     },
     "execution_count": 32,
     "metadata": {},
     "output_type": "execute_result"
    }
   ],
   "source": [
    "items.loc[11865]"
   ]
  },
  {
   "cell_type": "code",
   "execution_count": 33,
   "id": "outdoor-butter",
   "metadata": {
    "ExecuteTime": {
     "end_time": "2021-10-22T06:34:26.423770Z",
     "start_time": "2021-10-22T06:34:26.350893Z"
    },
    "scrolled": true
   },
   "outputs": [
    {
     "data": {
      "text/html": [
       "<div>\n",
       "<style scoped>\n",
       "    .dataframe tbody tr th:only-of-type {\n",
       "        vertical-align: middle;\n",
       "    }\n",
       "\n",
       "    .dataframe tbody tr th {\n",
       "        vertical-align: top;\n",
       "    }\n",
       "\n",
       "    .dataframe thead th {\n",
       "        text-align: right;\n",
       "    }\n",
       "</style>\n",
       "<table border=\"1\" class=\"dataframe\">\n",
       "  <thead>\n",
       "    <tr style=\"text-align: right;\">\n",
       "      <th></th>\n",
       "      <th>date</th>\n",
       "      <th>date_block_num</th>\n",
       "      <th>shop_id</th>\n",
       "      <th>item_id</th>\n",
       "      <th>item_price</th>\n",
       "      <th>item_cnt_day</th>\n",
       "    </tr>\n",
       "  </thead>\n",
       "  <tbody>\n",
       "    <tr>\n",
       "      <th>6664</th>\n",
       "      <td>02.01.2013</td>\n",
       "      <td>0</td>\n",
       "      <td>25</td>\n",
       "      <td>11865</td>\n",
       "      <td>729.0</td>\n",
       "      <td>1.0</td>\n",
       "    </tr>\n",
       "    <tr>\n",
       "      <th>8753</th>\n",
       "      <td>09.01.2013</td>\n",
       "      <td>0</td>\n",
       "      <td>22</td>\n",
       "      <td>11865</td>\n",
       "      <td>510.0</td>\n",
       "      <td>1.0</td>\n",
       "    </tr>\n",
       "    <tr>\n",
       "      <th>38033</th>\n",
       "      <td>14.01.2013</td>\n",
       "      <td>0</td>\n",
       "      <td>0</td>\n",
       "      <td>11865</td>\n",
       "      <td>335.0</td>\n",
       "      <td>1.0</td>\n",
       "    </tr>\n",
       "    <tr>\n",
       "      <th>50478</th>\n",
       "      <td>08.01.2013</td>\n",
       "      <td>0</td>\n",
       "      <td>18</td>\n",
       "      <td>11865</td>\n",
       "      <td>510.0</td>\n",
       "      <td>1.0</td>\n",
       "    </tr>\n",
       "    <tr>\n",
       "      <th>71636</th>\n",
       "      <td>05.01.2013</td>\n",
       "      <td>0</td>\n",
       "      <td>31</td>\n",
       "      <td>11865</td>\n",
       "      <td>510.3</td>\n",
       "      <td>1.0</td>\n",
       "    </tr>\n",
       "    <tr>\n",
       "      <th>...</th>\n",
       "      <td>...</td>\n",
       "      <td>...</td>\n",
       "      <td>...</td>\n",
       "      <td>...</td>\n",
       "      <td>...</td>\n",
       "      <td>...</td>\n",
       "    </tr>\n",
       "    <tr>\n",
       "      <th>1736918</th>\n",
       "      <td>11.06.2014</td>\n",
       "      <td>17</td>\n",
       "      <td>19</td>\n",
       "      <td>11865</td>\n",
       "      <td>58.0</td>\n",
       "      <td>1.0</td>\n",
       "    </tr>\n",
       "    <tr>\n",
       "      <th>1756736</th>\n",
       "      <td>28.06.2014</td>\n",
       "      <td>17</td>\n",
       "      <td>51</td>\n",
       "      <td>11865</td>\n",
       "      <td>55.0</td>\n",
       "      <td>2.0</td>\n",
       "    </tr>\n",
       "    <tr>\n",
       "      <th>1756746</th>\n",
       "      <td>07.06.2014</td>\n",
       "      <td>17</td>\n",
       "      <td>51</td>\n",
       "      <td>11865</td>\n",
       "      <td>55.0</td>\n",
       "      <td>1.0</td>\n",
       "    </tr>\n",
       "    <tr>\n",
       "      <th>1775143</th>\n",
       "      <td>09.06.2014</td>\n",
       "      <td>17</td>\n",
       "      <td>31</td>\n",
       "      <td>11865</td>\n",
       "      <td>58.0</td>\n",
       "      <td>1.0</td>\n",
       "    </tr>\n",
       "    <tr>\n",
       "      <th>1827469</th>\n",
       "      <td>18.07.2014</td>\n",
       "      <td>18</td>\n",
       "      <td>50</td>\n",
       "      <td>11865</td>\n",
       "      <td>46.4</td>\n",
       "      <td>1.0</td>\n",
       "    </tr>\n",
       "  </tbody>\n",
       "</table>\n",
       "<p>197 rows × 6 columns</p>\n",
       "</div>"
      ],
      "text/plain": [
       "               date  date_block_num  shop_id  item_id  item_price  \\\n",
       "6664     02.01.2013               0       25    11865       729.0   \n",
       "8753     09.01.2013               0       22    11865       510.0   \n",
       "38033    14.01.2013               0        0    11865       335.0   \n",
       "50478    08.01.2013               0       18    11865       510.0   \n",
       "71636    05.01.2013               0       31    11865       510.3   \n",
       "...             ...             ...      ...      ...         ...   \n",
       "1736918  11.06.2014              17       19    11865        58.0   \n",
       "1756736  28.06.2014              17       51    11865        55.0   \n",
       "1756746  07.06.2014              17       51    11865        55.0   \n",
       "1775143  09.06.2014              17       31    11865        58.0   \n",
       "1827469  18.07.2014              18       50    11865        46.4   \n",
       "\n",
       "         item_cnt_day  \n",
       "6664              1.0  \n",
       "8753              1.0  \n",
       "38033             1.0  \n",
       "50478             1.0  \n",
       "71636             1.0  \n",
       "...               ...  \n",
       "1736918           1.0  \n",
       "1756736           2.0  \n",
       "1756746           1.0  \n",
       "1775143           1.0  \n",
       "1827469           1.0  \n",
       "\n",
       "[197 rows x 6 columns]"
      ]
     },
     "execution_count": 33,
     "metadata": {},
     "output_type": "execute_result"
    }
   ],
   "source": [
    "sales_train[sales_train.item_id == 11865]"
   ]
  },
  {
   "cell_type": "markdown",
   "id": "vocal-reading",
   "metadata": {},
   "source": [
    "There are many rows corresponding to this item.  \n",
    "The histogram of its prices in different shops and different months:"
   ]
  },
  {
   "cell_type": "code",
   "execution_count": 34,
   "id": "interested-statistics",
   "metadata": {
    "ExecuteTime": {
     "end_time": "2021-10-22T06:34:27.317371Z",
     "start_time": "2021-10-22T06:34:26.430760Z"
    },
    "scrolled": true
   },
   "outputs": [
    {
     "data": {
      "image/png": "[encoded data removed]",
      "text/plain": [
       "<Figure size 432x288 with 1 Axes>"
      ]
     },
     "metadata": {
      "needs_background": "light"
     },
     "output_type": "display_data"
    }
   ],
   "source": [
    "sales_train[sales_train.item_id == 11865].item_price.hist(bins=30)\n",
    "plt.xlabel('price')\n",
    "plt.ylabel('count')\n",
    "plt.title('cheapest item price histogram')\n",
    "plt.show()"
   ]
  },
  {
   "cell_type": "markdown",
   "id": "grateful-mention",
   "metadata": {},
   "source": [
    "For this item the scatter of prices is wide including the low prices. So it's not an input error."
   ]
  },
  {
   "cell_type": "markdown",
   "id": "naughty-tokyo",
   "metadata": {},
   "source": [
    "There is a small part of items which price is extremely large. It should be considered when working with models that are sensitive to outliers, e.g. linear regression, support vector regressor, k-neighbors regressor. The rows with such values can be removed. Also these values can be clipped using interval (0, 5000)."
   ]
  },
  {
   "cell_type": "code",
   "execution_count": 35,
   "id": "pending-assumption",
   "metadata": {
    "ExecuteTime": {
     "end_time": "2021-10-22T06:34:28.643283Z",
     "start_time": "2021-10-22T06:34:27.324365Z"
    }
   },
   "outputs": [
    {
     "data": {
      "image/png": "[encoded data removed]",
      "text/plain": [
       "<Figure size 432x288 with 1 Axes>"
      ]
     },
     "metadata": {
      "needs_background": "light"
     },
     "output_type": "display_data"
    }
   ],
   "source": [
    "prices[prices <= 5000].hist(bins=120)\n",
    "plt.xlabel('price')\n",
    "plt.ylabel('count')\n",
    "plt.title('reduced prices histogram')\n",
    "plt.show()"
   ]
  },
  {
   "cell_type": "markdown",
   "id": "mechanical-holocaust",
   "metadata": {},
   "source": [
    "Every item was being sold during some time interval.  \n",
    "Info about start and end selling month:"
   ]
  },
  {
   "cell_type": "code",
   "execution_count": 36,
   "id": "circular-extent",
   "metadata": {
    "ExecuteTime": {
     "end_time": "2021-10-22T06:34:30.366040Z",
     "start_time": "2021-10-22T06:34:28.652269Z"
    }
   },
   "outputs": [],
   "source": [
    "sales_interval = sales_train.groupby(['shop_id', 'item_id']).agg({\n",
    "    'date_block_num': ['max', 'min']\n",
    "}).set_axis(['max_date', 'min_date'], axis=1)\n",
    "sales_interval['date_interval'] = sales_interval['max_date'] - sales_interval['min_date'] + 1"
   ]
  },
  {
   "cell_type": "code",
   "execution_count": 37,
   "id": "mental-conference",
   "metadata": {
    "ExecuteTime": {
     "end_time": "2021-10-22T06:34:31.274612Z",
     "start_time": "2021-10-22T06:34:30.374037Z"
    },
    "scrolled": true
   },
   "outputs": [
    {
     "data": {
      "image/png": "[encoded data removed]",
      "text/plain": [
       "<Figure size 432x288 with 1 Axes>"
      ]
     },
     "metadata": {
      "needs_background": "light"
     },
     "output_type": "display_data"
    }
   ],
   "source": [
    "sales_interval.max_date.hist(bins=33)\n",
    "plt.xlabel('date_block_num')\n",
    "plt.ylabel('shop_item count')\n",
    "plt.title('max_date')\n",
    "plt.show()"
   ]
  },
  {
   "cell_type": "markdown",
   "id": "civilian-sunday",
   "metadata": {},
   "source": [
    "So there is a small part of \"shop_items\" for that *max_date* is the last month. \"shop_items\" with small *max_date* have small possibility to be sold. And the amount of such \"shop_items\" is big."
   ]
  },
  {
   "cell_type": "code",
   "execution_count": 38,
   "id": "brave-modern",
   "metadata": {
    "ExecuteTime": {
     "end_time": "2021-10-22T06:34:32.305199Z",
     "start_time": "2021-10-22T06:34:31.281607Z"
    }
   },
   "outputs": [
    {
     "data": {
      "image/png": "[encoded data removed]",
      "text/plain": [
       "<Figure size 432x288 with 1 Axes>"
      ]
     },
     "metadata": {
      "needs_background": "light"
     },
     "output_type": "display_data"
    }
   ],
   "source": [
    "sales_interval.min_date.hist(bins=33)\n",
    "plt.xlabel('date_block_num')\n",
    "plt.ylabel('shop_item count')\n",
    "plt.title('min_date')\n",
    "plt.show()"
   ]
  },
  {
   "cell_type": "markdown",
   "id": "sensitive-being",
   "metadata": {},
   "source": [
    "Also there are many \"shop_items\" that started to be sold not at the beginning of all the time interval."
   ]
  },
  {
   "cell_type": "code",
   "execution_count": 39,
   "id": "centered-honolulu",
   "metadata": {
    "ExecuteTime": {
     "end_time": "2021-10-22T06:34:33.169532Z",
     "start_time": "2021-10-22T06:34:32.314184Z"
    },
    "scrolled": true
   },
   "outputs": [
    {
     "data": {
      "image/png": "[encoded data removed]",
      "text/plain": [
       "<Figure size 432x288 with 1 Axes>"
      ]
     },
     "metadata": {
      "needs_background": "light"
     },
     "output_type": "display_data"
    }
   ],
   "source": [
    "sales_interval.date_interval.hist(bins=33)\n",
    "plt.xlabel('date_block_num')\n",
    "plt.ylabel('shop_item count')\n",
    "plt.title('date_interval')\n",
    "plt.show()"
   ]
  },
  {
   "cell_type": "markdown",
   "id": "human-imaging",
   "metadata": {},
   "source": [
    "About 143518/417004 = 34.416% of all \"shop_items\" were being sold only for a month"
   ]
  },
  {
   "cell_type": "code",
   "execution_count": 40,
   "id": "black-playing",
   "metadata": {
    "ExecuteTime": {
     "end_time": "2021-10-22T06:34:34.146400Z",
     "start_time": "2021-10-22T06:34:33.177526Z"
    }
   },
   "outputs": [
    {
     "data": {
      "image/png": "[encoded data removed]",
      "text/plain": [
       "<Figure size 432x288 with 1 Axes>"
      ]
     },
     "metadata": {
      "needs_background": "light"
     },
     "output_type": "display_data"
    }
   ],
   "source": [
    "sales_interval[sales_interval.date_interval == 1].max_date.hist(bins=33)\n",
    "plt.xlabel('date_block_num')\n",
    "plt.ylabel('shop_item count')\n",
    "plt.title('one-month-items')\n",
    "plt.show()"
   ]
  },
  {
   "cell_type": "markdown",
   "id": "light-species",
   "metadata": {},
   "source": [
    "And many of such \"shop_items\" were bere being sold very far. So these \"shop_items\" have small posibility to be sold in the next month."
   ]
  },
  {
   "cell_type": "markdown",
   "id": "opponent-diesel",
   "metadata": {},
   "source": [
    "Here the count of months during that the items were being sold."
   ]
  },
  {
   "cell_type": "code",
   "execution_count": 41,
   "id": "mediterranean-tooth",
   "metadata": {
    "ExecuteTime": {
     "end_time": "2021-10-22T06:34:36.821236Z",
     "start_time": "2021-10-22T06:34:34.154333Z"
    }
   },
   "outputs": [
    {
     "data": {
      "image/png": "[encoded data removed]",
      "text/plain": [
       "<Figure size 432x288 with 1 Axes>"
      ]
     },
     "metadata": {
      "needs_background": "light"
     },
     "output_type": "display_data"
    }
   ],
   "source": [
    "sales_month_count = sales_train.groupby(['shop_id', 'item_id']).date_block_num.nunique()\n",
    "sales_month_count.hist(bins=33)\n",
    "plt.xlabel('date_block_num')\n",
    "plt.ylabel('shop_item count')\n",
    "plt.title('count of months')\n",
    "plt.show()"
   ]
  },
  {
   "cell_type": "markdown",
   "id": "indian-payday",
   "metadata": {},
   "source": [
    "So there are many \"shop_items\" that were being sold for a few months (not necessarily consecutive). It is obviously that this histogram is not the same as the histogram for *date_interval*. It means that there are \"shop_items\" with \"empty\" months (when the selling count is 0). It can be explained by the absence of this item in a storage or that this item has rarely selling. It the first case we should ignore such \"empty\" months if they are not regular. In the second case we should take into consideration that the selling count is small among all the months"
   ]
  },
  {
   "cell_type": "markdown",
   "id": "deluxe-richardson",
   "metadata": {},
   "source": [
    "Let's take a look at monthly sellings."
   ]
  },
  {
   "cell_type": "code",
   "execution_count": 42,
   "id": "intermediate-glossary",
   "metadata": {
    "ExecuteTime": {
     "end_time": "2021-10-22T06:34:39.114113Z",
     "start_time": "2021-10-22T06:34:36.830158Z"
    }
   },
   "outputs": [],
   "source": [
    "month_info = sales_train.groupby(['shop_id', 'item_id', 'date_block_num']).agg({'item_cnt_day': 'sum'})"
   ]
  },
  {
   "cell_type": "code",
   "execution_count": 43,
   "id": "organized-frost",
   "metadata": {
    "ExecuteTime": {
     "end_time": "2021-10-22T06:34:39.224092Z",
     "start_time": "2021-10-22T06:34:39.114113Z"
    }
   },
   "outputs": [
    {
     "name": "stdout",
     "output_type": "stream",
     "text": [
      "0.0\n",
      "20.0\n"
     ]
    }
   ],
   "source": [
    "print(np.percentile(month_info, q=0.07))\n",
    "print(np.percentile(month_info, q=99.25))"
   ]
  },
  {
   "cell_type": "code",
   "execution_count": 44,
   "id": "unavailable-exhibition",
   "metadata": {
    "ExecuteTime": {
     "end_time": "2021-10-22T06:34:39.335921Z",
     "start_time": "2021-10-22T06:34:39.232077Z"
    }
   },
   "outputs": [
    {
     "data": {
      "text/plain": [
       "1.0     1058825\n",
       "2.0      265502\n",
       "3.0      103227\n",
       "4.0       53327\n",
       "5.0       31974\n",
       "6.0       20731\n",
       "7.0       14060\n",
       "8.0       10430\n",
       "9.0        7540\n",
       "10.0       6013\n",
       "11.0       4483\n",
       "12.0       3714\n",
       "13.0       3051\n",
       "0.0        2583\n",
       "14.0       2448\n",
       "15.0       2076\n",
       "16.0       1750\n",
       "17.0       1577\n",
       "18.0       1297\n",
       "19.0       1109\n",
       "20.0       1029\n",
       "Name: item_cnt_day, dtype: int64"
      ]
     },
     "execution_count": 44,
     "metadata": {},
     "output_type": "execute_result"
    }
   ],
   "source": [
    "month_info.item_cnt_day.value_counts()[:20]"
   ]
  },
  {
   "cell_type": "code",
   "execution_count": 45,
   "id": "incoming-madison",
   "metadata": {
    "ExecuteTime": {
     "end_time": "2021-10-22T06:34:39.527609Z",
     "start_time": "2021-10-22T06:34:39.346901Z"
    }
   },
   "outputs": [
    {
     "data": {
      "text/html": [
       "<div>\n",
       "<style scoped>\n",
       "    .dataframe tbody tr th:only-of-type {\n",
       "        vertical-align: middle;\n",
       "    }\n",
       "\n",
       "    .dataframe tbody tr th {\n",
       "        vertical-align: top;\n",
       "    }\n",
       "\n",
       "    .dataframe thead th {\n",
       "        text-align: right;\n",
       "    }\n",
       "</style>\n",
       "<table border=\"1\" class=\"dataframe\">\n",
       "  <thead>\n",
       "    <tr style=\"text-align: right;\">\n",
       "      <th></th>\n",
       "      <th>item_cnt_day</th>\n",
       "    </tr>\n",
       "  </thead>\n",
       "  <tbody>\n",
       "    <tr>\n",
       "      <th>count</th>\n",
       "      <td>1.609124e+06</td>\n",
       "    </tr>\n",
       "    <tr>\n",
       "      <th>mean</th>\n",
       "      <td>2.267200e+00</td>\n",
       "    </tr>\n",
       "    <tr>\n",
       "      <th>std</th>\n",
       "      <td>8.649882e+00</td>\n",
       "    </tr>\n",
       "    <tr>\n",
       "      <th>min</th>\n",
       "      <td>-2.200000e+01</td>\n",
       "    </tr>\n",
       "    <tr>\n",
       "      <th>25%</th>\n",
       "      <td>1.000000e+00</td>\n",
       "    </tr>\n",
       "    <tr>\n",
       "      <th>50%</th>\n",
       "      <td>1.000000e+00</td>\n",
       "    </tr>\n",
       "    <tr>\n",
       "      <th>75%</th>\n",
       "      <td>2.000000e+00</td>\n",
       "    </tr>\n",
       "    <tr>\n",
       "      <th>max</th>\n",
       "      <td>2.253000e+03</td>\n",
       "    </tr>\n",
       "  </tbody>\n",
       "</table>\n",
       "</div>"
      ],
      "text/plain": [
       "       item_cnt_day\n",
       "count  1.609124e+06\n",
       "mean   2.267200e+00\n",
       "std    8.649882e+00\n",
       "min   -2.200000e+01\n",
       "25%    1.000000e+00\n",
       "50%    1.000000e+00\n",
       "75%    2.000000e+00\n",
       "max    2.253000e+03"
      ]
     },
     "execution_count": 45,
     "metadata": {},
     "output_type": "execute_result"
    }
   ],
   "source": [
    "month_info.describe()"
   ]
  },
  {
   "cell_type": "markdown",
   "id": "colored-gambling",
   "metadata": {},
   "source": [
    "So, almost all values are between 0 and 20. Values that are below 0 or above 20 are easy explained but they are extreme ones. So we can remove rows if the value is not between 0 and 20 or clip them using the interval (0, 20)."
   ]
  },
  {
   "cell_type": "markdown",
   "id": "conditional-technique",
   "metadata": {},
   "source": [
    "## Total sales count"
   ]
  },
  {
   "cell_type": "markdown",
   "id": "brown-letter",
   "metadata": {},
   "source": [
    "The total sales count for each month"
   ]
  },
  {
   "cell_type": "code",
   "execution_count": 46,
   "id": "serious-sensitivity",
   "metadata": {
    "ExecuteTime": {
     "end_time": "2021-10-22T06:34:41.948143Z",
     "start_time": "2021-10-22T06:34:39.535601Z"
    }
   },
   "outputs": [],
   "source": [
    "groupped = sales_train.groupby(['date_block_num', 'shop_id', 'item_id']).agg({'item_cnt_day': 'sum'}).reset_index()\n",
    "total_count = groupped.groupby('date_block_num').agg({'item_cnt_day': 'sum'}).reset_index()"
   ]
  },
  {
   "cell_type": "code",
   "execution_count": 47,
   "id": "checked-admission",
   "metadata": {
    "ExecuteTime": {
     "end_time": "2021-10-22T06:34:42.567134Z",
     "start_time": "2021-10-22T06:34:41.948143Z"
    }
   },
   "outputs": [
    {
     "data": {
      "image/png": "[encoded data removed]",
      "text/plain": [
       "<Figure size 432x288 with 1 Axes>"
      ]
     },
     "metadata": {
      "needs_background": "light"
     },
     "output_type": "display_data"
    }
   ],
   "source": [
    "plt.plot(total_count.date_block_num, total_count.item_cnt_day)\n",
    "plt.xlabel('month number')\n",
    "plt.ylabel('total count')\n",
    "plt.title('total count graphic')\n",
    "plt.show()"
   ]
  },
  {
   "cell_type": "markdown",
   "id": "lyric-december",
   "metadata": {},
   "source": [
    "There are pikes corresponds to decembers of 2013 and 2014. It can be explained with the high demand before the New Year."
   ]
  },
  {
   "cell_type": "markdown",
   "id": "public-bulletin",
   "metadata": {},
   "source": [
    "# Transformation"
   ]
  },
  {
   "cell_type": "markdown",
   "id": "noble-wilson",
   "metadata": {},
   "source": [
    "## shops"
   ]
  },
  {
   "cell_type": "code",
   "execution_count": 48,
   "id": "fancy-knowing",
   "metadata": {
    "ExecuteTime": {
     "end_time": "2021-10-22T06:34:42.631038Z",
     "start_time": "2021-10-22T06:34:42.576126Z"
    }
   },
   "outputs": [
    {
     "data": {
      "text/html": [
       "<div>\n",
       "<style scoped>\n",
       "    .dataframe tbody tr th:only-of-type {\n",
       "        vertical-align: middle;\n",
       "    }\n",
       "\n",
       "    .dataframe tbody tr th {\n",
       "        vertical-align: top;\n",
       "    }\n",
       "\n",
       "    .dataframe thead th {\n",
       "        text-align: right;\n",
       "    }\n",
       "</style>\n",
       "<table border=\"1\" class=\"dataframe\">\n",
       "  <thead>\n",
       "    <tr style=\"text-align: right;\">\n",
       "      <th></th>\n",
       "      <th>shop_name</th>\n",
       "      <th>shop_id</th>\n",
       "    </tr>\n",
       "  </thead>\n",
       "  <tbody>\n",
       "    <tr>\n",
       "      <th>0</th>\n",
       "      <td>!Якутск Орджоникидзе, 56 фран</td>\n",
       "      <td>0</td>\n",
       "    </tr>\n",
       "    <tr>\n",
       "      <th>1</th>\n",
       "      <td>!Якутск ТЦ \"Центральный\" фран</td>\n",
       "      <td>1</td>\n",
       "    </tr>\n",
       "    <tr>\n",
       "      <th>2</th>\n",
       "      <td>Адыгея ТЦ \"Мега\"</td>\n",
       "      <td>2</td>\n",
       "    </tr>\n",
       "    <tr>\n",
       "      <th>3</th>\n",
       "      <td>Балашиха ТРК \"Октябрь-Киномир\"</td>\n",
       "      <td>3</td>\n",
       "    </tr>\n",
       "    <tr>\n",
       "      <th>4</th>\n",
       "      <td>Волжский ТЦ \"Волга Молл\"</td>\n",
       "      <td>4</td>\n",
       "    </tr>\n",
       "    <tr>\n",
       "      <th>5</th>\n",
       "      <td>Вологда ТРЦ \"Мармелад\"</td>\n",
       "      <td>5</td>\n",
       "    </tr>\n",
       "    <tr>\n",
       "      <th>6</th>\n",
       "      <td>Воронеж (Плехановская, 13)</td>\n",
       "      <td>6</td>\n",
       "    </tr>\n",
       "    <tr>\n",
       "      <th>7</th>\n",
       "      <td>Воронеж ТРЦ \"Максимир\"</td>\n",
       "      <td>7</td>\n",
       "    </tr>\n",
       "    <tr>\n",
       "      <th>8</th>\n",
       "      <td>Воронеж ТРЦ Сити-Парк \"Град\"</td>\n",
       "      <td>8</td>\n",
       "    </tr>\n",
       "    <tr>\n",
       "      <th>9</th>\n",
       "      <td>Выездная Торговля</td>\n",
       "      <td>9</td>\n",
       "    </tr>\n",
       "    <tr>\n",
       "      <th>10</th>\n",
       "      <td>Жуковский ул. Чкалова 39м?</td>\n",
       "      <td>10</td>\n",
       "    </tr>\n",
       "    <tr>\n",
       "      <th>11</th>\n",
       "      <td>Жуковский ул. Чкалова 39м²</td>\n",
       "      <td>11</td>\n",
       "    </tr>\n",
       "    <tr>\n",
       "      <th>12</th>\n",
       "      <td>Интернет-магазин ЧС</td>\n",
       "      <td>12</td>\n",
       "    </tr>\n",
       "    <tr>\n",
       "      <th>13</th>\n",
       "      <td>Казань ТЦ \"Бехетле\"</td>\n",
       "      <td>13</td>\n",
       "    </tr>\n",
       "    <tr>\n",
       "      <th>14</th>\n",
       "      <td>Казань ТЦ \"ПаркХаус\" II</td>\n",
       "      <td>14</td>\n",
       "    </tr>\n",
       "    <tr>\n",
       "      <th>15</th>\n",
       "      <td>Калуга ТРЦ \"XXI век\"</td>\n",
       "      <td>15</td>\n",
       "    </tr>\n",
       "    <tr>\n",
       "      <th>16</th>\n",
       "      <td>Коломна ТЦ \"Рио\"</td>\n",
       "      <td>16</td>\n",
       "    </tr>\n",
       "    <tr>\n",
       "      <th>17</th>\n",
       "      <td>Красноярск ТЦ \"Взлетка Плаза\"</td>\n",
       "      <td>17</td>\n",
       "    </tr>\n",
       "    <tr>\n",
       "      <th>18</th>\n",
       "      <td>Красноярск ТЦ \"Июнь\"</td>\n",
       "      <td>18</td>\n",
       "    </tr>\n",
       "    <tr>\n",
       "      <th>19</th>\n",
       "      <td>Курск ТЦ \"Пушкинский\"</td>\n",
       "      <td>19</td>\n",
       "    </tr>\n",
       "    <tr>\n",
       "      <th>20</th>\n",
       "      <td>Москва \"Распродажа\"</td>\n",
       "      <td>20</td>\n",
       "    </tr>\n",
       "    <tr>\n",
       "      <th>21</th>\n",
       "      <td>Москва МТРЦ \"Афи Молл\"</td>\n",
       "      <td>21</td>\n",
       "    </tr>\n",
       "    <tr>\n",
       "      <th>22</th>\n",
       "      <td>Москва Магазин С21</td>\n",
       "      <td>22</td>\n",
       "    </tr>\n",
       "    <tr>\n",
       "      <th>23</th>\n",
       "      <td>Москва ТК \"Буденовский\" (пав.А2)</td>\n",
       "      <td>23</td>\n",
       "    </tr>\n",
       "    <tr>\n",
       "      <th>24</th>\n",
       "      <td>Москва ТК \"Буденовский\" (пав.К7)</td>\n",
       "      <td>24</td>\n",
       "    </tr>\n",
       "    <tr>\n",
       "      <th>25</th>\n",
       "      <td>Москва ТРК \"Атриум\"</td>\n",
       "      <td>25</td>\n",
       "    </tr>\n",
       "    <tr>\n",
       "      <th>26</th>\n",
       "      <td>Москва ТЦ \"Ареал\" (Беляево)</td>\n",
       "      <td>26</td>\n",
       "    </tr>\n",
       "    <tr>\n",
       "      <th>27</th>\n",
       "      <td>Москва ТЦ \"МЕГА Белая Дача II\"</td>\n",
       "      <td>27</td>\n",
       "    </tr>\n",
       "    <tr>\n",
       "      <th>28</th>\n",
       "      <td>Москва ТЦ \"МЕГА Теплый Стан\" II</td>\n",
       "      <td>28</td>\n",
       "    </tr>\n",
       "    <tr>\n",
       "      <th>29</th>\n",
       "      <td>Москва ТЦ \"Новый век\" (Новокосино)</td>\n",
       "      <td>29</td>\n",
       "    </tr>\n",
       "    <tr>\n",
       "      <th>30</th>\n",
       "      <td>Москва ТЦ \"Перловский\"</td>\n",
       "      <td>30</td>\n",
       "    </tr>\n",
       "    <tr>\n",
       "      <th>31</th>\n",
       "      <td>Москва ТЦ \"Семеновский\"</td>\n",
       "      <td>31</td>\n",
       "    </tr>\n",
       "    <tr>\n",
       "      <th>32</th>\n",
       "      <td>Москва ТЦ \"Серебряный Дом\"</td>\n",
       "      <td>32</td>\n",
       "    </tr>\n",
       "    <tr>\n",
       "      <th>33</th>\n",
       "      <td>Мытищи ТРК \"XL-3\"</td>\n",
       "      <td>33</td>\n",
       "    </tr>\n",
       "    <tr>\n",
       "      <th>34</th>\n",
       "      <td>Н.Новгород ТРЦ \"РИО\"</td>\n",
       "      <td>34</td>\n",
       "    </tr>\n",
       "    <tr>\n",
       "      <th>35</th>\n",
       "      <td>Н.Новгород ТРЦ \"Фантастика\"</td>\n",
       "      <td>35</td>\n",
       "    </tr>\n",
       "    <tr>\n",
       "      <th>36</th>\n",
       "      <td>Новосибирск ТРЦ \"Галерея Новосибирск\"</td>\n",
       "      <td>36</td>\n",
       "    </tr>\n",
       "    <tr>\n",
       "      <th>37</th>\n",
       "      <td>Новосибирск ТЦ \"Мега\"</td>\n",
       "      <td>37</td>\n",
       "    </tr>\n",
       "    <tr>\n",
       "      <th>38</th>\n",
       "      <td>Омск ТЦ \"Мега\"</td>\n",
       "      <td>38</td>\n",
       "    </tr>\n",
       "    <tr>\n",
       "      <th>39</th>\n",
       "      <td>РостовНаДону ТРК \"Мегацентр Горизонт\"</td>\n",
       "      <td>39</td>\n",
       "    </tr>\n",
       "    <tr>\n",
       "      <th>40</th>\n",
       "      <td>РостовНаДону ТРК \"Мегацентр Горизонт\" Островной</td>\n",
       "      <td>40</td>\n",
       "    </tr>\n",
       "    <tr>\n",
       "      <th>41</th>\n",
       "      <td>РостовНаДону ТЦ \"Мега\"</td>\n",
       "      <td>41</td>\n",
       "    </tr>\n",
       "    <tr>\n",
       "      <th>42</th>\n",
       "      <td>СПб ТК \"Невский Центр\"</td>\n",
       "      <td>42</td>\n",
       "    </tr>\n",
       "    <tr>\n",
       "      <th>43</th>\n",
       "      <td>СПб ТК \"Сенная\"</td>\n",
       "      <td>43</td>\n",
       "    </tr>\n",
       "    <tr>\n",
       "      <th>44</th>\n",
       "      <td>Самара ТЦ \"Мелодия\"</td>\n",
       "      <td>44</td>\n",
       "    </tr>\n",
       "    <tr>\n",
       "      <th>45</th>\n",
       "      <td>Самара ТЦ \"ПаркХаус\"</td>\n",
       "      <td>45</td>\n",
       "    </tr>\n",
       "    <tr>\n",
       "      <th>46</th>\n",
       "      <td>Сергиев Посад ТЦ \"7Я\"</td>\n",
       "      <td>46</td>\n",
       "    </tr>\n",
       "    <tr>\n",
       "      <th>47</th>\n",
       "      <td>Сургут ТРЦ \"Сити Молл\"</td>\n",
       "      <td>47</td>\n",
       "    </tr>\n",
       "    <tr>\n",
       "      <th>48</th>\n",
       "      <td>Томск ТРЦ \"Изумрудный Город\"</td>\n",
       "      <td>48</td>\n",
       "    </tr>\n",
       "    <tr>\n",
       "      <th>49</th>\n",
       "      <td>Тюмень ТРЦ \"Кристалл\"</td>\n",
       "      <td>49</td>\n",
       "    </tr>\n",
       "    <tr>\n",
       "      <th>50</th>\n",
       "      <td>Тюмень ТЦ \"Гудвин\"</td>\n",
       "      <td>50</td>\n",
       "    </tr>\n",
       "    <tr>\n",
       "      <th>51</th>\n",
       "      <td>Тюмень ТЦ \"Зеленый Берег\"</td>\n",
       "      <td>51</td>\n",
       "    </tr>\n",
       "    <tr>\n",
       "      <th>52</th>\n",
       "      <td>Уфа ТК \"Центральный\"</td>\n",
       "      <td>52</td>\n",
       "    </tr>\n",
       "    <tr>\n",
       "      <th>53</th>\n",
       "      <td>Уфа ТЦ \"Семья\" 2</td>\n",
       "      <td>53</td>\n",
       "    </tr>\n",
       "    <tr>\n",
       "      <th>54</th>\n",
       "      <td>Химки ТЦ \"Мега\"</td>\n",
       "      <td>54</td>\n",
       "    </tr>\n",
       "    <tr>\n",
       "      <th>55</th>\n",
       "      <td>Цифровой склад 1С-Онлайн</td>\n",
       "      <td>55</td>\n",
       "    </tr>\n",
       "    <tr>\n",
       "      <th>56</th>\n",
       "      <td>Чехов ТРЦ \"Карнавал\"</td>\n",
       "      <td>56</td>\n",
       "    </tr>\n",
       "    <tr>\n",
       "      <th>57</th>\n",
       "      <td>Якутск Орджоникидзе, 56</td>\n",
       "      <td>57</td>\n",
       "    </tr>\n",
       "    <tr>\n",
       "      <th>58</th>\n",
       "      <td>Якутск ТЦ \"Центральный\"</td>\n",
       "      <td>58</td>\n",
       "    </tr>\n",
       "    <tr>\n",
       "      <th>59</th>\n",
       "      <td>Ярославль ТЦ \"Альтаир\"</td>\n",
       "      <td>59</td>\n",
       "    </tr>\n",
       "  </tbody>\n",
       "</table>\n",
       "</div>"
      ],
      "text/plain": [
       "                                          shop_name  shop_id\n",
       "0                     !Якутск Орджоникидзе, 56 фран        0\n",
       "1                     !Якутск ТЦ \"Центральный\" фран        1\n",
       "2                                  Адыгея ТЦ \"Мега\"        2\n",
       "3                    Балашиха ТРК \"Октябрь-Киномир\"        3\n",
       "4                          Волжский ТЦ \"Волга Молл\"        4\n",
       "5                            Вологда ТРЦ \"Мармелад\"        5\n",
       "6                        Воронеж (Плехановская, 13)        6\n",
       "7                            Воронеж ТРЦ \"Максимир\"        7\n",
       "8                      Воронеж ТРЦ Сити-Парк \"Град\"        8\n",
       "9                                 Выездная Торговля        9\n",
       "10                       Жуковский ул. Чкалова 39м?       10\n",
       "11                       Жуковский ул. Чкалова 39м²       11\n",
       "12                              Интернет-магазин ЧС       12\n",
       "13                              Казань ТЦ \"Бехетле\"       13\n",
       "14                          Казань ТЦ \"ПаркХаус\" II       14\n",
       "15                             Калуга ТРЦ \"XXI век\"       15\n",
       "16                                 Коломна ТЦ \"Рио\"       16\n",
       "17                    Красноярск ТЦ \"Взлетка Плаза\"       17\n",
       "18                             Красноярск ТЦ \"Июнь\"       18\n",
       "19                            Курск ТЦ \"Пушкинский\"       19\n",
       "20                              Москва \"Распродажа\"       20\n",
       "21                           Москва МТРЦ \"Афи Молл\"       21\n",
       "22                               Москва Магазин С21       22\n",
       "23                 Москва ТК \"Буденовский\" (пав.А2)       23\n",
       "24                 Москва ТК \"Буденовский\" (пав.К7)       24\n",
       "25                              Москва ТРК \"Атриум\"       25\n",
       "26                      Москва ТЦ \"Ареал\" (Беляево)       26\n",
       "27                   Москва ТЦ \"МЕГА Белая Дача II\"       27\n",
       "28                  Москва ТЦ \"МЕГА Теплый Стан\" II       28\n",
       "29               Москва ТЦ \"Новый век\" (Новокосино)       29\n",
       "30                           Москва ТЦ \"Перловский\"       30\n",
       "31                          Москва ТЦ \"Семеновский\"       31\n",
       "32                       Москва ТЦ \"Серебряный Дом\"       32\n",
       "33                                Мытищи ТРК \"XL-3\"       33\n",
       "34                             Н.Новгород ТРЦ \"РИО\"       34\n",
       "35                      Н.Новгород ТРЦ \"Фантастика\"       35\n",
       "36            Новосибирск ТРЦ \"Галерея Новосибирск\"       36\n",
       "37                            Новосибирск ТЦ \"Мега\"       37\n",
       "38                                   Омск ТЦ \"Мега\"       38\n",
       "39            РостовНаДону ТРК \"Мегацентр Горизонт\"       39\n",
       "40  РостовНаДону ТРК \"Мегацентр Горизонт\" Островной       40\n",
       "41                           РостовНаДону ТЦ \"Мега\"       41\n",
       "42                           СПб ТК \"Невский Центр\"       42\n",
       "43                                  СПб ТК \"Сенная\"       43\n",
       "44                              Самара ТЦ \"Мелодия\"       44\n",
       "45                             Самара ТЦ \"ПаркХаус\"       45\n",
       "46                            Сергиев Посад ТЦ \"7Я\"       46\n",
       "47                           Сургут ТРЦ \"Сити Молл\"       47\n",
       "48                     Томск ТРЦ \"Изумрудный Город\"       48\n",
       "49                            Тюмень ТРЦ \"Кристалл\"       49\n",
       "50                               Тюмень ТЦ \"Гудвин\"       50\n",
       "51                        Тюмень ТЦ \"Зеленый Берег\"       51\n",
       "52                             Уфа ТК \"Центральный\"       52\n",
       "53                                 Уфа ТЦ \"Семья\" 2       53\n",
       "54                                  Химки ТЦ \"Мега\"       54\n",
       "55                         Цифровой склад 1С-Онлайн       55\n",
       "56                             Чехов ТРЦ \"Карнавал\"       56\n",
       "57                          Якутск Орджоникидзе, 56       57\n",
       "58                          Якутск ТЦ \"Центральный\"       58\n",
       "59                           Ярославль ТЦ \"Альтаир\"       59"
      ]
     },
     "execution_count": 48,
     "metadata": {},
     "output_type": "execute_result"
    }
   ],
   "source": [
    "shops"
   ]
  },
  {
   "cell_type": "markdown",
   "id": "welcome-boring",
   "metadata": {},
   "source": [
    "There are pairs of ids for the same shops:(0, 57), (1, 58), (10, 11). So in the rows where *shop_id* equals 0, 1 or 10 this feature will be changed to 57, 58 or 11 respectively.  \n",
    "Let's split *shop_name* into  new features as it was told in general desciption of the table."
   ]
  },
  {
   "cell_type": "code",
   "execution_count": 49,
   "id": "athletic-dining",
   "metadata": {
    "ExecuteTime": {
     "end_time": "2021-10-22T06:34:42.662992Z",
     "start_time": "2021-10-22T06:34:42.641022Z"
    }
   },
   "outputs": [],
   "source": [
    "from string import punctuation"
   ]
  },
  {
   "cell_type": "markdown",
   "id": "pressed-contribution",
   "metadata": {},
   "source": [
    "At first all strings must be normalized - they must contain only alphanumeric characters in lower case"
   ]
  },
  {
   "cell_type": "code",
   "execution_count": 50,
   "id": "aerial-barrier",
   "metadata": {
    "ExecuteTime": {
     "end_time": "2021-10-22T06:34:42.707807Z",
     "start_time": "2021-10-22T06:34:42.670972Z"
    }
   },
   "outputs": [],
   "source": [
    "norm_shop_names = shops.shop_name.str.replace(f'[{punctuation}]', '').str.lower()"
   ]
  },
  {
   "cell_type": "code",
   "execution_count": 51,
   "id": "equivalent-concept",
   "metadata": {
    "ExecuteTime": {
     "end_time": "2021-10-22T06:34:42.739325Z",
     "start_time": "2021-10-22T06:34:42.717358Z"
    },
    "scrolled": true
   },
   "outputs": [
    {
     "data": {
      "text/plain": [
       "0                       якутск орджоникидзе 56 фран\n",
       "1                        якутск тц центральный фран\n",
       "2                                    адыгея тц мега\n",
       "3                       балашиха трк октябрькиномир\n",
       "4                            волжский тц волга молл\n",
       "5                              вологда трц мармелад\n",
       "6                           воронеж плехановская 13\n",
       "7                              воронеж трц максимир\n",
       "8                         воронеж трц ситипарк град\n",
       "9                                 выездная торговля\n",
       "10                         жуковский ул чкалова 39м\n",
       "11                        жуковский ул чкалова 39м²\n",
       "12                               интернетмагазин чс\n",
       "13                                казань тц бехетле\n",
       "14                            казань тц паркхаус ii\n",
       "15                               калуга трц xxi век\n",
       "16                                   коломна тц рио\n",
       "17                      красноярск тц взлетка плаза\n",
       "18                               красноярск тц июнь\n",
       "19                              курск тц пушкинский\n",
       "20                                москва распродажа\n",
       "21                             москва мтрц афи молл\n",
       "22                               москва магазин с21\n",
       "23                      москва тк буденовский пава2\n",
       "24                      москва тк буденовский павк7\n",
       "25                                москва трк атриум\n",
       "26                          москва тц ареал беляево\n",
       "27                     москва тц мега белая дача ii\n",
       "28                    москва тц мега теплый стан ii\n",
       "29                   москва тц новый век новокосино\n",
       "30                             москва тц перловский\n",
       "31                            москва тц семеновский\n",
       "32                         москва тц серебряный дом\n",
       "33                                   мытищи трк xl3\n",
       "34                                нновгород трц рио\n",
       "35                         нновгород трц фантастика\n",
       "36              новосибирск трц галерея новосибирск\n",
       "37                              новосибирск тц мега\n",
       "38                                     омск тц мега\n",
       "39              ростовнадону трк мегацентр горизонт\n",
       "40    ростовнадону трк мегацентр горизонт островной\n",
       "41                             ростовнадону тц мега\n",
       "42                             спб тк невский центр\n",
       "43                                    спб тк сенная\n",
       "44                                самара тц мелодия\n",
       "45                               самара тц паркхаус\n",
       "46                              сергиев посад тц 7я\n",
       "47                             сургут трц сити молл\n",
       "48                       томск трц изумрудный город\n",
       "49                              тюмень трц кристалл\n",
       "50                                 тюмень тц гудвин\n",
       "51                          тюмень тц зеленый берег\n",
       "52                               уфа тк центральный\n",
       "53                                   уфа тц семья 2\n",
       "54                                    химки тц мега\n",
       "55                          цифровой склад 1сонлайн\n",
       "56                               чехов трц карнавал\n",
       "57                           якутск орджоникидзе 56\n",
       "58                            якутск тц центральный\n",
       "59                             ярославль тц альтаир\n",
       "Name: shop_name, dtype: object"
      ]
     },
     "execution_count": 51,
     "metadata": {},
     "output_type": "execute_result"
    }
   ],
   "source": [
    "norm_shop_names"
   ]
  },
  {
   "cell_type": "markdown",
   "id": "downtown-supervision",
   "metadata": {},
   "source": [
    "As there are shop names that doesn't match the pattern written in general description, they should be changed to this pattern or they should be handled by the other way. But they don't have other pattern. E.g. 'воронеж плехановская 13' doen't contain the type of shop although it consists of 3 words. 'интернетмагазин чс', 'выездная торговля' consist of 2 words but the first contains the name 'чс' while the second doesn't contain the one."
   ]
  },
  {
   "cell_type": "code",
   "execution_count": 52,
   "id": "statewide-version",
   "metadata": {
    "ExecuteTime": {
     "end_time": "2021-10-22T06:34:42.835171Z",
     "start_time": "2021-10-22T06:34:42.749311Z"
    },
    "scrolled": true
   },
   "outputs": [
    {
     "data": {
      "text/html": [
       "<div>\n",
       "<style scoped>\n",
       "    .dataframe tbody tr th:only-of-type {\n",
       "        vertical-align: middle;\n",
       "    }\n",
       "\n",
       "    .dataframe tbody tr th {\n",
       "        vertical-align: top;\n",
       "    }\n",
       "\n",
       "    .dataframe thead th {\n",
       "        text-align: right;\n",
       "    }\n",
       "</style>\n",
       "<table border=\"1\" class=\"dataframe\">\n",
       "  <thead>\n",
       "    <tr style=\"text-align: right;\">\n",
       "      <th></th>\n",
       "      <th>city</th>\n",
       "      <th>shop_type</th>\n",
       "      <th>shop_name</th>\n",
       "    </tr>\n",
       "  </thead>\n",
       "  <tbody>\n",
       "    <tr>\n",
       "      <th>2</th>\n",
       "      <td>адыгея</td>\n",
       "      <td>тц</td>\n",
       "      <td>мега</td>\n",
       "    </tr>\n",
       "    <tr>\n",
       "      <th>3</th>\n",
       "      <td>балашиха</td>\n",
       "      <td>трк</td>\n",
       "      <td>октябрькиномир</td>\n",
       "    </tr>\n",
       "    <tr>\n",
       "      <th>4</th>\n",
       "      <td>волжский</td>\n",
       "      <td>тц</td>\n",
       "      <td>волга молл</td>\n",
       "    </tr>\n",
       "    <tr>\n",
       "      <th>5</th>\n",
       "      <td>вологда</td>\n",
       "      <td>трц</td>\n",
       "      <td>мармелад</td>\n",
       "    </tr>\n",
       "    <tr>\n",
       "      <th>6</th>\n",
       "      <td>воронеж</td>\n",
       "      <td></td>\n",
       "      <td>плехановская 13</td>\n",
       "    </tr>\n",
       "    <tr>\n",
       "      <th>7</th>\n",
       "      <td>воронеж</td>\n",
       "      <td>трц</td>\n",
       "      <td>максимир</td>\n",
       "    </tr>\n",
       "    <tr>\n",
       "      <th>8</th>\n",
       "      <td>воронеж</td>\n",
       "      <td>трц</td>\n",
       "      <td>ситипарк град</td>\n",
       "    </tr>\n",
       "    <tr>\n",
       "      <th>9</th>\n",
       "      <td></td>\n",
       "      <td></td>\n",
       "      <td>выездная торговля</td>\n",
       "    </tr>\n",
       "    <tr>\n",
       "      <th>11</th>\n",
       "      <td>жуковский</td>\n",
       "      <td></td>\n",
       "      <td>ул. чкалова 39м</td>\n",
       "    </tr>\n",
       "    <tr>\n",
       "      <th>12</th>\n",
       "      <td></td>\n",
       "      <td>интернетмагазин</td>\n",
       "      <td>чс</td>\n",
       "    </tr>\n",
       "    <tr>\n",
       "      <th>13</th>\n",
       "      <td>казань</td>\n",
       "      <td>тц</td>\n",
       "      <td>бехетле</td>\n",
       "    </tr>\n",
       "    <tr>\n",
       "      <th>14</th>\n",
       "      <td>казань</td>\n",
       "      <td>тц</td>\n",
       "      <td>паркхаус ii</td>\n",
       "    </tr>\n",
       "    <tr>\n",
       "      <th>15</th>\n",
       "      <td>калуга</td>\n",
       "      <td>трц</td>\n",
       "      <td>xxi век</td>\n",
       "    </tr>\n",
       "    <tr>\n",
       "      <th>16</th>\n",
       "      <td>коломна</td>\n",
       "      <td>тц</td>\n",
       "      <td>рио</td>\n",
       "    </tr>\n",
       "    <tr>\n",
       "      <th>17</th>\n",
       "      <td>красноярск</td>\n",
       "      <td>тц</td>\n",
       "      <td>взлетка плаза</td>\n",
       "    </tr>\n",
       "    <tr>\n",
       "      <th>18</th>\n",
       "      <td>красноярск</td>\n",
       "      <td>тц</td>\n",
       "      <td>июнь</td>\n",
       "    </tr>\n",
       "    <tr>\n",
       "      <th>19</th>\n",
       "      <td>курск</td>\n",
       "      <td>тц</td>\n",
       "      <td>пушкинский</td>\n",
       "    </tr>\n",
       "    <tr>\n",
       "      <th>20</th>\n",
       "      <td>москва</td>\n",
       "      <td></td>\n",
       "      <td>распродажа</td>\n",
       "    </tr>\n",
       "    <tr>\n",
       "      <th>21</th>\n",
       "      <td>москва</td>\n",
       "      <td>мтрц</td>\n",
       "      <td>афи молл</td>\n",
       "    </tr>\n",
       "    <tr>\n",
       "      <th>22</th>\n",
       "      <td>москва</td>\n",
       "      <td>магазин</td>\n",
       "      <td>с21</td>\n",
       "    </tr>\n",
       "    <tr>\n",
       "      <th>23</th>\n",
       "      <td>москва</td>\n",
       "      <td>тк</td>\n",
       "      <td>буденовский пава2</td>\n",
       "    </tr>\n",
       "    <tr>\n",
       "      <th>24</th>\n",
       "      <td>москва</td>\n",
       "      <td>тк</td>\n",
       "      <td>буденовский павк7</td>\n",
       "    </tr>\n",
       "    <tr>\n",
       "      <th>25</th>\n",
       "      <td>москва</td>\n",
       "      <td>трк</td>\n",
       "      <td>атриум</td>\n",
       "    </tr>\n",
       "    <tr>\n",
       "      <th>26</th>\n",
       "      <td>москва</td>\n",
       "      <td>тц</td>\n",
       "      <td>ареал беляево</td>\n",
       "    </tr>\n",
       "    <tr>\n",
       "      <th>27</th>\n",
       "      <td>москва</td>\n",
       "      <td>тц</td>\n",
       "      <td>мега белая дача ii</td>\n",
       "    </tr>\n",
       "    <tr>\n",
       "      <th>28</th>\n",
       "      <td>москва</td>\n",
       "      <td>тц</td>\n",
       "      <td>мега теплый стан ii</td>\n",
       "    </tr>\n",
       "    <tr>\n",
       "      <th>29</th>\n",
       "      <td>москва</td>\n",
       "      <td>тц</td>\n",
       "      <td>новый век новокосино</td>\n",
       "    </tr>\n",
       "    <tr>\n",
       "      <th>30</th>\n",
       "      <td>москва</td>\n",
       "      <td>тц</td>\n",
       "      <td>перловский</td>\n",
       "    </tr>\n",
       "    <tr>\n",
       "      <th>31</th>\n",
       "      <td>москва</td>\n",
       "      <td>тц</td>\n",
       "      <td>семеновский</td>\n",
       "    </tr>\n",
       "    <tr>\n",
       "      <th>32</th>\n",
       "      <td>москва</td>\n",
       "      <td>тц</td>\n",
       "      <td>серебряный дом</td>\n",
       "    </tr>\n",
       "    <tr>\n",
       "      <th>33</th>\n",
       "      <td>мытищи</td>\n",
       "      <td>трк</td>\n",
       "      <td>xl3</td>\n",
       "    </tr>\n",
       "    <tr>\n",
       "      <th>34</th>\n",
       "      <td>нновгород</td>\n",
       "      <td>трц</td>\n",
       "      <td>рио</td>\n",
       "    </tr>\n",
       "    <tr>\n",
       "      <th>35</th>\n",
       "      <td>нновгород</td>\n",
       "      <td>трц</td>\n",
       "      <td>фантастика</td>\n",
       "    </tr>\n",
       "    <tr>\n",
       "      <th>36</th>\n",
       "      <td>новосибирск</td>\n",
       "      <td>трц</td>\n",
       "      <td>галерея новосибирск</td>\n",
       "    </tr>\n",
       "    <tr>\n",
       "      <th>37</th>\n",
       "      <td>новосибирск</td>\n",
       "      <td>тц</td>\n",
       "      <td>мега</td>\n",
       "    </tr>\n",
       "    <tr>\n",
       "      <th>38</th>\n",
       "      <td>омск</td>\n",
       "      <td>тц</td>\n",
       "      <td>мега</td>\n",
       "    </tr>\n",
       "    <tr>\n",
       "      <th>39</th>\n",
       "      <td>ростовнадону</td>\n",
       "      <td>трк</td>\n",
       "      <td>мегацентр горизонт</td>\n",
       "    </tr>\n",
       "    <tr>\n",
       "      <th>40</th>\n",
       "      <td>ростовнадону</td>\n",
       "      <td>трк</td>\n",
       "      <td>мегацентр горизонт островной</td>\n",
       "    </tr>\n",
       "    <tr>\n",
       "      <th>41</th>\n",
       "      <td>ростовнадону</td>\n",
       "      <td>тц</td>\n",
       "      <td>мега</td>\n",
       "    </tr>\n",
       "    <tr>\n",
       "      <th>42</th>\n",
       "      <td>спб</td>\n",
       "      <td>тк</td>\n",
       "      <td>невский центр</td>\n",
       "    </tr>\n",
       "    <tr>\n",
       "      <th>43</th>\n",
       "      <td>спб</td>\n",
       "      <td>тк</td>\n",
       "      <td>сенная</td>\n",
       "    </tr>\n",
       "    <tr>\n",
       "      <th>44</th>\n",
       "      <td>самара</td>\n",
       "      <td>тц</td>\n",
       "      <td>мелодия</td>\n",
       "    </tr>\n",
       "    <tr>\n",
       "      <th>45</th>\n",
       "      <td>самара</td>\n",
       "      <td>тц</td>\n",
       "      <td>паркхаус</td>\n",
       "    </tr>\n",
       "    <tr>\n",
       "      <th>46</th>\n",
       "      <td>сергиев посад</td>\n",
       "      <td>тц</td>\n",
       "      <td>7я</td>\n",
       "    </tr>\n",
       "    <tr>\n",
       "      <th>47</th>\n",
       "      <td>сургут</td>\n",
       "      <td>трц</td>\n",
       "      <td>сити молл</td>\n",
       "    </tr>\n",
       "    <tr>\n",
       "      <th>48</th>\n",
       "      <td>томск</td>\n",
       "      <td>трц</td>\n",
       "      <td>изумрудный город</td>\n",
       "    </tr>\n",
       "    <tr>\n",
       "      <th>49</th>\n",
       "      <td>тюмень</td>\n",
       "      <td>трц</td>\n",
       "      <td>кристалл</td>\n",
       "    </tr>\n",
       "    <tr>\n",
       "      <th>50</th>\n",
       "      <td>тюмень</td>\n",
       "      <td>тц</td>\n",
       "      <td>гудвин</td>\n",
       "    </tr>\n",
       "    <tr>\n",
       "      <th>51</th>\n",
       "      <td>тюмень</td>\n",
       "      <td>тц</td>\n",
       "      <td>зеленый берег</td>\n",
       "    </tr>\n",
       "    <tr>\n",
       "      <th>52</th>\n",
       "      <td>уфа</td>\n",
       "      <td>тк</td>\n",
       "      <td>центральный</td>\n",
       "    </tr>\n",
       "    <tr>\n",
       "      <th>53</th>\n",
       "      <td>уфа</td>\n",
       "      <td>тц</td>\n",
       "      <td>семья 2</td>\n",
       "    </tr>\n",
       "    <tr>\n",
       "      <th>54</th>\n",
       "      <td>химки</td>\n",
       "      <td>тц</td>\n",
       "      <td>мега</td>\n",
       "    </tr>\n",
       "    <tr>\n",
       "      <th>55</th>\n",
       "      <td></td>\n",
       "      <td>цифровой склад</td>\n",
       "      <td>1сонлайн</td>\n",
       "    </tr>\n",
       "    <tr>\n",
       "      <th>56</th>\n",
       "      <td>чехов</td>\n",
       "      <td>трц</td>\n",
       "      <td>карнавал</td>\n",
       "    </tr>\n",
       "    <tr>\n",
       "      <th>57</th>\n",
       "      <td>якутск</td>\n",
       "      <td></td>\n",
       "      <td>орджоникидзе 56</td>\n",
       "    </tr>\n",
       "    <tr>\n",
       "      <th>58</th>\n",
       "      <td>якутск</td>\n",
       "      <td>тц</td>\n",
       "      <td>центральный</td>\n",
       "    </tr>\n",
       "    <tr>\n",
       "      <th>59</th>\n",
       "      <td>ярославль</td>\n",
       "      <td>тц</td>\n",
       "      <td>альтаир</td>\n",
       "    </tr>\n",
       "  </tbody>\n",
       "</table>\n",
       "</div>"
      ],
      "text/plain": [
       "             city        shop_type                     shop_name\n",
       "2          адыгея               тц                          мега\n",
       "3        балашиха              трк                октябрькиномир\n",
       "4        волжский               тц                    волга молл\n",
       "5         вологда              трц                      мармелад\n",
       "6         воронеж                                плехановская 13\n",
       "7         воронеж              трц                      максимир\n",
       "8         воронеж              трц                 ситипарк град\n",
       "9                                              выездная торговля\n",
       "11      жуковский                                ул. чкалова 39м\n",
       "12                 интернетмагазин                            чс\n",
       "13         казань               тц                       бехетле\n",
       "14         казань               тц                   паркхаус ii\n",
       "15         калуга              трц                       xxi век\n",
       "16        коломна               тц                           рио\n",
       "17     красноярск               тц                 взлетка плаза\n",
       "18     красноярск               тц                          июнь\n",
       "19          курск               тц                    пушкинский\n",
       "20         москва                                     распродажа\n",
       "21         москва             мтрц                      афи молл\n",
       "22         москва          магазин                           с21\n",
       "23         москва               тк             буденовский пава2\n",
       "24         москва               тк             буденовский павк7\n",
       "25         москва              трк                        атриум\n",
       "26         москва               тц                 ареал беляево\n",
       "27         москва               тц            мега белая дача ii\n",
       "28         москва               тц           мега теплый стан ii\n",
       "29         москва               тц          новый век новокосино\n",
       "30         москва               тц                    перловский\n",
       "31         москва               тц                   семеновский\n",
       "32         москва               тц                серебряный дом\n",
       "33         мытищи              трк                           xl3\n",
       "34      нновгород              трц                           рио\n",
       "35      нновгород              трц                    фантастика\n",
       "36    новосибирск              трц           галерея новосибирск\n",
       "37    новосибирск               тц                          мега\n",
       "38           омск               тц                          мега\n",
       "39   ростовнадону              трк            мегацентр горизонт\n",
       "40   ростовнадону              трк  мегацентр горизонт островной\n",
       "41   ростовнадону               тц                          мега\n",
       "42            спб               тк                 невский центр\n",
       "43            спб               тк                        сенная\n",
       "44         самара               тц                       мелодия\n",
       "45         самара               тц                      паркхаус\n",
       "46  сергиев посад               тц                            7я\n",
       "47         сургут              трц                     сити молл\n",
       "48          томск              трц              изумрудный город\n",
       "49         тюмень              трц                      кристалл\n",
       "50         тюмень               тц                        гудвин\n",
       "51         тюмень               тц                 зеленый берег\n",
       "52            уфа               тк                   центральный\n",
       "53            уфа               тц                       семья 2\n",
       "54          химки               тц                          мега\n",
       "55                  цифровой склад                      1сонлайн\n",
       "56          чехов              трц                      карнавал\n",
       "57         якутск                                орджоникидзе 56\n",
       "58         якутск               тц                   центральный\n",
       "59      ярославль               тц                       альтаир"
      ]
     },
     "execution_count": 52,
     "metadata": {},
     "output_type": "execute_result"
    }
   ],
   "source": [
    "shop_city_type_name_features = norm_shop_names.str.extract('(\\S+) (\\S+) (.+)').rename(columns={0: 'city', 1: 'shop_type', 2: 'shop_name'})\n",
    "shop_city_type_name_features.drop([0, 1, 10], inplace=True)\n",
    "shop_city_type_name_features.loc[6] = ('воронеж', '', 'плехановская 13')\n",
    "shop_city_type_name_features.loc[9] = ('', '', 'выездная торговля')\n",
    "shop_city_type_name_features.loc[11] = ('жуковский', '', 'ул. чкалова 39м')\n",
    "shop_city_type_name_features.loc[12] = ('', 'интернетмагазин', 'чс')\n",
    "shop_city_type_name_features.loc[20] = ('москва', '', 'распродажа')\n",
    "shop_city_type_name_features.loc[46] = ('сергиев посад', 'тц', '7я')\n",
    "shop_city_type_name_features.loc[55] = ('', 'цифровой склад', '1сонлайн')\n",
    "shop_city_type_name_features.loc[57] = ('якутск', '', 'орджоникидзе 56')\n",
    "shop_city_type_name_features"
   ]
  },
  {
   "cell_type": "markdown",
   "id": "specified-short",
   "metadata": {},
   "source": [
    "We can encode each feature by LabelEncoder."
   ]
  },
  {
   "cell_type": "code",
   "execution_count": 53,
   "id": "colonial-childhood",
   "metadata": {
    "ExecuteTime": {
     "end_time": "2021-10-22T06:34:42.961971Z",
     "start_time": "2021-10-22T06:34:42.842163Z"
    }
   },
   "outputs": [],
   "source": [
    "from sklearn.preprocessing import LabelEncoder"
   ]
  },
  {
   "cell_type": "code",
   "execution_count": 54,
   "id": "biblical-alias",
   "metadata": {
    "ExecuteTime": {
     "end_time": "2021-10-22T06:34:43.008902Z",
     "start_time": "2021-10-22T06:34:42.968968Z"
    }
   },
   "outputs": [],
   "source": [
    "new_shop_features = {}\n",
    "for col in shop_city_type_name_features.columns:\n",
    "    le = LabelEncoder()\n",
    "    shop_city_type_name_features[col] = le.fit_transform(shop_city_type_name_features[col])\n",
    "    new_shop_features[col] = pd.DataFrame({col: le.classes_})\\\n",
    "                                .reset_index().rename(columns={'index': f'{col}_id'})"
   ]
  },
  {
   "cell_type": "markdown",
   "id": "constant-geography",
   "metadata": {},
   "source": [
    "Encoded features are stored in their own tables."
   ]
  },
  {
   "cell_type": "code",
   "execution_count": 55,
   "id": "median-artist",
   "metadata": {
    "ExecuteTime": {
     "end_time": "2021-10-22T06:34:43.040850Z",
     "start_time": "2021-10-22T06:34:43.015893Z"
    }
   },
   "outputs": [],
   "source": [
    "city = new_shop_features['city']\n",
    "shop_name = new_shop_features['shop_name']\n",
    "shop_type = new_shop_features['shop_type']"
   ]
  },
  {
   "cell_type": "markdown",
   "id": "antique-significance",
   "metadata": {},
   "source": [
    "All the cities"
   ]
  },
  {
   "cell_type": "code",
   "execution_count": 56,
   "id": "extensive-hungarian",
   "metadata": {
    "ExecuteTime": {
     "end_time": "2021-10-22T06:34:43.087773Z",
     "start_time": "2021-10-22T06:34:43.047838Z"
    }
   },
   "outputs": [
    {
     "data": {
      "text/html": [
       "<div>\n",
       "<style scoped>\n",
       "    .dataframe tbody tr th:only-of-type {\n",
       "        vertical-align: middle;\n",
       "    }\n",
       "\n",
       "    .dataframe tbody tr th {\n",
       "        vertical-align: top;\n",
       "    }\n",
       "\n",
       "    .dataframe thead th {\n",
       "        text-align: right;\n",
       "    }\n",
       "</style>\n",
       "<table border=\"1\" class=\"dataframe\">\n",
       "  <thead>\n",
       "    <tr style=\"text-align: right;\">\n",
       "      <th></th>\n",
       "      <th>city_id</th>\n",
       "      <th>city</th>\n",
       "    </tr>\n",
       "  </thead>\n",
       "  <tbody>\n",
       "    <tr>\n",
       "      <th>0</th>\n",
       "      <td>0</td>\n",
       "      <td></td>\n",
       "    </tr>\n",
       "    <tr>\n",
       "      <th>1</th>\n",
       "      <td>1</td>\n",
       "      <td>адыгея</td>\n",
       "    </tr>\n",
       "    <tr>\n",
       "      <th>2</th>\n",
       "      <td>2</td>\n",
       "      <td>балашиха</td>\n",
       "    </tr>\n",
       "    <tr>\n",
       "      <th>3</th>\n",
       "      <td>3</td>\n",
       "      <td>волжский</td>\n",
       "    </tr>\n",
       "    <tr>\n",
       "      <th>4</th>\n",
       "      <td>4</td>\n",
       "      <td>вологда</td>\n",
       "    </tr>\n",
       "  </tbody>\n",
       "</table>\n",
       "</div>"
      ],
      "text/plain": [
       "   city_id      city\n",
       "0        0          \n",
       "1        1    адыгея\n",
       "2        2  балашиха\n",
       "3        3  волжский\n",
       "4        4   вологда"
      ]
     },
     "execution_count": 56,
     "metadata": {},
     "output_type": "execute_result"
    }
   ],
   "source": [
    "city.head()"
   ]
  },
  {
   "cell_type": "markdown",
   "id": "honey-accident",
   "metadata": {},
   "source": [
    "All the shop types"
   ]
  },
  {
   "cell_type": "code",
   "execution_count": 57,
   "id": "stylish-membrane",
   "metadata": {
    "ExecuteTime": {
     "end_time": "2021-10-22T06:34:43.119729Z",
     "start_time": "2021-10-22T06:34:43.094774Z"
    }
   },
   "outputs": [
    {
     "data": {
      "text/html": [
       "<div>\n",
       "<style scoped>\n",
       "    .dataframe tbody tr th:only-of-type {\n",
       "        vertical-align: middle;\n",
       "    }\n",
       "\n",
       "    .dataframe tbody tr th {\n",
       "        vertical-align: top;\n",
       "    }\n",
       "\n",
       "    .dataframe thead th {\n",
       "        text-align: right;\n",
       "    }\n",
       "</style>\n",
       "<table border=\"1\" class=\"dataframe\">\n",
       "  <thead>\n",
       "    <tr style=\"text-align: right;\">\n",
       "      <th></th>\n",
       "      <th>shop_type_id</th>\n",
       "      <th>shop_type</th>\n",
       "    </tr>\n",
       "  </thead>\n",
       "  <tbody>\n",
       "    <tr>\n",
       "      <th>0</th>\n",
       "      <td>0</td>\n",
       "      <td></td>\n",
       "    </tr>\n",
       "    <tr>\n",
       "      <th>1</th>\n",
       "      <td>1</td>\n",
       "      <td>интернетмагазин</td>\n",
       "    </tr>\n",
       "    <tr>\n",
       "      <th>2</th>\n",
       "      <td>2</td>\n",
       "      <td>магазин</td>\n",
       "    </tr>\n",
       "    <tr>\n",
       "      <th>3</th>\n",
       "      <td>3</td>\n",
       "      <td>мтрц</td>\n",
       "    </tr>\n",
       "    <tr>\n",
       "      <th>4</th>\n",
       "      <td>4</td>\n",
       "      <td>тк</td>\n",
       "    </tr>\n",
       "  </tbody>\n",
       "</table>\n",
       "</div>"
      ],
      "text/plain": [
       "   shop_type_id        shop_type\n",
       "0             0                 \n",
       "1             1  интернетмагазин\n",
       "2             2          магазин\n",
       "3             3             мтрц\n",
       "4             4               тк"
      ]
     },
     "execution_count": 57,
     "metadata": {},
     "output_type": "execute_result"
    }
   ],
   "source": [
    "shop_type.head()"
   ]
  },
  {
   "cell_type": "markdown",
   "id": "public-museum",
   "metadata": {},
   "source": [
    "All the shop names"
   ]
  },
  {
   "cell_type": "code",
   "execution_count": 58,
   "id": "coastal-dress",
   "metadata": {
    "ExecuteTime": {
     "end_time": "2021-10-22T06:34:43.166650Z",
     "start_time": "2021-10-22T06:34:43.129710Z"
    }
   },
   "outputs": [
    {
     "data": {
      "text/html": [
       "<div>\n",
       "<style scoped>\n",
       "    .dataframe tbody tr th:only-of-type {\n",
       "        vertical-align: middle;\n",
       "    }\n",
       "\n",
       "    .dataframe tbody tr th {\n",
       "        vertical-align: top;\n",
       "    }\n",
       "\n",
       "    .dataframe thead th {\n",
       "        text-align: right;\n",
       "    }\n",
       "</style>\n",
       "<table border=\"1\" class=\"dataframe\">\n",
       "  <thead>\n",
       "    <tr style=\"text-align: right;\">\n",
       "      <th></th>\n",
       "      <th>shop_name_id</th>\n",
       "      <th>shop_name</th>\n",
       "    </tr>\n",
       "  </thead>\n",
       "  <tbody>\n",
       "    <tr>\n",
       "      <th>0</th>\n",
       "      <td>0</td>\n",
       "      <td>1сонлайн</td>\n",
       "    </tr>\n",
       "    <tr>\n",
       "      <th>1</th>\n",
       "      <td>1</td>\n",
       "      <td>7я</td>\n",
       "    </tr>\n",
       "    <tr>\n",
       "      <th>2</th>\n",
       "      <td>2</td>\n",
       "      <td>xl3</td>\n",
       "    </tr>\n",
       "    <tr>\n",
       "      <th>3</th>\n",
       "      <td>3</td>\n",
       "      <td>xxi век</td>\n",
       "    </tr>\n",
       "    <tr>\n",
       "      <th>4</th>\n",
       "      <td>4</td>\n",
       "      <td>альтаир</td>\n",
       "    </tr>\n",
       "  </tbody>\n",
       "</table>\n",
       "</div>"
      ],
      "text/plain": [
       "   shop_name_id shop_name\n",
       "0             0  1сонлайн\n",
       "1             1        7я\n",
       "2             2       xl3\n",
       "3             3   xxi век\n",
       "4             4   альтаир"
      ]
     },
     "execution_count": 58,
     "metadata": {},
     "output_type": "execute_result"
    }
   ],
   "source": [
    "shop_name.head()"
   ]
  },
  {
   "cell_type": "code",
   "execution_count": 59,
   "id": "lucky-bumper",
   "metadata": {
    "ExecuteTime": {
     "end_time": "2021-10-22T06:34:43.214574Z",
     "start_time": "2021-10-22T06:34:43.173641Z"
    }
   },
   "outputs": [],
   "source": [
    "city.to_csv('data/city.csv', index=False)\n",
    "shop_name.to_csv('data/shop_name.csv', index=False)\n",
    "shop_type.to_csv('data/shop_type.csv', index=False)"
   ]
  },
  {
   "cell_type": "markdown",
   "id": "premier-fiction",
   "metadata": {},
   "source": [
    "So we have ***shops*** table with encoded shop city, type and name. When merging with the ***sales_train*** table these features will be encoded with target encoding."
   ]
  },
  {
   "cell_type": "code",
   "execution_count": 60,
   "id": "colonial-dispute",
   "metadata": {
    "ExecuteTime": {
     "end_time": "2021-10-22T06:34:43.247533Z",
     "start_time": "2021-10-22T06:34:43.224563Z"
    }
   },
   "outputs": [],
   "source": [
    "shops_1 = shop_city_type_name_features.reset_index().rename(columns={'index': 'shop_id'})"
   ]
  },
  {
   "cell_type": "code",
   "execution_count": 61,
   "id": "honest-optics",
   "metadata": {
    "ExecuteTime": {
     "end_time": "2021-10-22T06:34:43.293450Z",
     "start_time": "2021-10-22T06:34:43.257511Z"
    }
   },
   "outputs": [
    {
     "data": {
      "text/html": [
       "<div>\n",
       "<style scoped>\n",
       "    .dataframe tbody tr th:only-of-type {\n",
       "        vertical-align: middle;\n",
       "    }\n",
       "\n",
       "    .dataframe tbody tr th {\n",
       "        vertical-align: top;\n",
       "    }\n",
       "\n",
       "    .dataframe thead th {\n",
       "        text-align: right;\n",
       "    }\n",
       "</style>\n",
       "<table border=\"1\" class=\"dataframe\">\n",
       "  <thead>\n",
       "    <tr style=\"text-align: right;\">\n",
       "      <th></th>\n",
       "      <th>shop_id</th>\n",
       "      <th>city</th>\n",
       "      <th>shop_type</th>\n",
       "      <th>shop_name</th>\n",
       "    </tr>\n",
       "  </thead>\n",
       "  <tbody>\n",
       "    <tr>\n",
       "      <th>0</th>\n",
       "      <td>2</td>\n",
       "      <td>1</td>\n",
       "      <td>7</td>\n",
       "      <td>23</td>\n",
       "    </tr>\n",
       "    <tr>\n",
       "      <th>1</th>\n",
       "      <td>3</td>\n",
       "      <td>2</td>\n",
       "      <td>5</td>\n",
       "      <td>31</td>\n",
       "    </tr>\n",
       "    <tr>\n",
       "      <th>2</th>\n",
       "      <td>4</td>\n",
       "      <td>3</td>\n",
       "      <td>7</td>\n",
       "      <td>12</td>\n",
       "    </tr>\n",
       "    <tr>\n",
       "      <th>3</th>\n",
       "      <td>5</td>\n",
       "      <td>4</td>\n",
       "      <td>6</td>\n",
       "      <td>22</td>\n",
       "    </tr>\n",
       "    <tr>\n",
       "      <th>4</th>\n",
       "      <td>6</td>\n",
       "      <td>5</td>\n",
       "      <td>0</td>\n",
       "      <td>36</td>\n",
       "    </tr>\n",
       "  </tbody>\n",
       "</table>\n",
       "</div>"
      ],
      "text/plain": [
       "   shop_id  city  shop_type  shop_name\n",
       "0        2     1          7         23\n",
       "1        3     2          5         31\n",
       "2        4     3          7         12\n",
       "3        5     4          6         22\n",
       "4        6     5          0         36"
      ]
     },
     "execution_count": 61,
     "metadata": {},
     "output_type": "execute_result"
    }
   ],
   "source": [
    "shops_1.head()"
   ]
  },
  {
   "cell_type": "markdown",
   "id": "practical-fiction",
   "metadata": {},
   "source": [
    "Let's change the type of features to *int8*. It decreases the memory size of this table and the ***sales_train*** table after merging with this table."
   ]
  },
  {
   "cell_type": "code",
   "execution_count": 62,
   "id": "nasty-connectivity",
   "metadata": {
    "ExecuteTime": {
     "end_time": "2021-10-22T06:34:43.325403Z",
     "start_time": "2021-10-22T06:34:43.301448Z"
    }
   },
   "outputs": [],
   "source": [
    "shops_1 = shops_1.astype('int8')"
   ]
  },
  {
   "cell_type": "code",
   "execution_count": 63,
   "id": "certified-eugene",
   "metadata": {
    "ExecuteTime": {
     "end_time": "2021-10-22T06:34:43.357349Z",
     "start_time": "2021-10-22T06:34:43.332395Z"
    }
   },
   "outputs": [],
   "source": [
    "shops_1.to_csv('data/shops_1.csv', index=False)"
   ]
  },
  {
   "cell_type": "markdown",
   "id": "foster-radical",
   "metadata": {},
   "source": [
    "## item_categories"
   ]
  },
  {
   "cell_type": "markdown",
   "id": "third-insider",
   "metadata": {},
   "source": [
    "As it was told in general description, *item_category_name* can be splitted into 2 features. So let's extract these features.  \n",
    "At first this feature (as its type is string) must be normalized. But here hyphen will not be removed. It is needed to split the string into two features."
   ]
  },
  {
   "cell_type": "code",
   "execution_count": 64,
   "id": "incorporate-population",
   "metadata": {
    "ExecuteTime": {
     "end_time": "2021-10-22T06:34:43.389305Z",
     "start_time": "2021-10-22T06:34:43.365342Z"
    }
   },
   "outputs": [],
   "source": [
    "punctuation_but_hyphen = punctuation.replace('-', '')\n",
    "item_categories.item_category_name = item_categories.item_category_name.str.replace(f'[{punctuation_but_hyphen}]', '').str.lower()"
   ]
  },
  {
   "cell_type": "code",
   "execution_count": 65,
   "id": "hollywood-flush",
   "metadata": {
    "ExecuteTime": {
     "end_time": "2021-10-22T06:34:43.421251Z",
     "start_time": "2021-10-22T06:34:43.398289Z"
    },
    "scrolled": true
   },
   "outputs": [],
   "source": [
    "start_item_categories = pd.read_csv('data/item_categories.csv', index_col='item_category_id')"
   ]
  },
  {
   "cell_type": "markdown",
   "id": "facial-match",
   "metadata": {},
   "source": [
    "As there are some categories not of this pattern, we will assume that they have no supercategory. We will assume that for all but one category 'служебные'. We will assume that it is supercategory so let's change this row."
   ]
  },
  {
   "cell_type": "code",
   "execution_count": 66,
   "id": "respective-governor",
   "metadata": {
    "ExecuteTime": {
     "end_time": "2021-10-22T06:34:43.453199Z",
     "start_time": "2021-10-22T06:34:43.430238Z"
    }
   },
   "outputs": [],
   "source": [
    "item_categories.loc[79] = 'служебные - '"
   ]
  },
  {
   "cell_type": "code",
   "execution_count": 67,
   "id": "excellent-neutral",
   "metadata": {
    "ExecuteTime": {
     "end_time": "2021-10-22T06:34:43.484153Z",
     "start_time": "2021-10-22T06:34:43.461191Z"
    },
    "scrolled": true
   },
   "outputs": [],
   "source": [
    "super_and_simple_categories = item_categories.item_category_name.str.extract('((.*) - )?(.*)')\\\n",
    "                                                .rename(columns={1: 'super_category', 2: 'category'})"
   ]
  },
  {
   "cell_type": "markdown",
   "id": "still-glance",
   "metadata": {},
   "source": [
    "There are nans in table. They indicate that the category name contains only one category. So in this case the super category is ''."
   ]
  },
  {
   "cell_type": "code",
   "execution_count": 68,
   "id": "rising-prospect",
   "metadata": {
    "ExecuteTime": {
     "end_time": "2021-10-22T06:34:43.516100Z",
     "start_time": "2021-10-22T06:34:43.492142Z"
    }
   },
   "outputs": [],
   "source": [
    "super_and_simple_categories = super_and_simple_categories.drop(columns=[0]).fillna('')"
   ]
  },
  {
   "cell_type": "code",
   "execution_count": 69,
   "id": "structural-inflation",
   "metadata": {
    "ExecuteTime": {
     "end_time": "2021-10-22T06:34:43.564024Z",
     "start_time": "2021-10-22T06:34:43.523098Z"
    }
   },
   "outputs": [
    {
     "data": {
      "text/html": [
       "<div>\n",
       "<style scoped>\n",
       "    .dataframe tbody tr th:only-of-type {\n",
       "        vertical-align: middle;\n",
       "    }\n",
       "\n",
       "    .dataframe tbody tr th {\n",
       "        vertical-align: top;\n",
       "    }\n",
       "\n",
       "    .dataframe thead th {\n",
       "        text-align: right;\n",
       "    }\n",
       "</style>\n",
       "<table border=\"1\" class=\"dataframe\">\n",
       "  <thead>\n",
       "    <tr style=\"text-align: right;\">\n",
       "      <th></th>\n",
       "      <th>super_category</th>\n",
       "      <th>category</th>\n",
       "    </tr>\n",
       "  </thead>\n",
       "  <tbody>\n",
       "    <tr>\n",
       "      <th>0</th>\n",
       "      <td>pc</td>\n",
       "      <td>гарнитурынаушники</td>\n",
       "    </tr>\n",
       "    <tr>\n",
       "      <th>1</th>\n",
       "      <td>аксессуары</td>\n",
       "      <td>ps2</td>\n",
       "    </tr>\n",
       "    <tr>\n",
       "      <th>2</th>\n",
       "      <td>аксессуары</td>\n",
       "      <td>ps3</td>\n",
       "    </tr>\n",
       "    <tr>\n",
       "      <th>3</th>\n",
       "      <td>аксессуары</td>\n",
       "      <td>ps4</td>\n",
       "    </tr>\n",
       "    <tr>\n",
       "      <th>4</th>\n",
       "      <td>аксессуары</td>\n",
       "      <td>psp</td>\n",
       "    </tr>\n",
       "  </tbody>\n",
       "</table>\n",
       "</div>"
      ],
      "text/plain": [
       "  super_category           category\n",
       "0             pc  гарнитурынаушники\n",
       "1     аксессуары                ps2\n",
       "2     аксессуары                ps3\n",
       "3     аксессуары                ps4\n",
       "4     аксессуары                psp"
      ]
     },
     "execution_count": 69,
     "metadata": {},
     "output_type": "execute_result"
    }
   ],
   "source": [
    "super_and_simple_categories.head()"
   ]
  },
  {
   "cell_type": "markdown",
   "id": "presidential-argument",
   "metadata": {},
   "source": [
    "We can encode the new features via LabelEncoder."
   ]
  },
  {
   "cell_type": "code",
   "execution_count": 70,
   "id": "shaped-nicaragua",
   "metadata": {
    "ExecuteTime": {
     "end_time": "2021-10-22T06:34:43.610960Z",
     "start_time": "2021-10-22T06:34:43.572016Z"
    }
   },
   "outputs": [],
   "source": [
    "cat_new_features = {}\n",
    "for col in super_and_simple_categories.columns:\n",
    "    le = LabelEncoder()\n",
    "    super_and_simple_categories[col] = le.fit_transform(super_and_simple_categories[col])\n",
    "    cat_new_features[col] = pd.DataFrame({col: le.classes_})\\\n",
    "                                .reset_index().rename(columns={'index': f'{col}_id'})"
   ]
  },
  {
   "cell_type": "code",
   "execution_count": 71,
   "id": "latter-cycle",
   "metadata": {
    "ExecuteTime": {
     "end_time": "2021-10-22T06:34:43.642905Z",
     "start_time": "2021-10-22T06:34:43.621942Z"
    }
   },
   "outputs": [],
   "source": [
    "super_category = cat_new_features['super_category']\n",
    "category = cat_new_features['category']"
   ]
  },
  {
   "cell_type": "markdown",
   "id": "italian-needle",
   "metadata": {},
   "source": [
    "All the super categories."
   ]
  },
  {
   "cell_type": "code",
   "execution_count": 72,
   "id": "north-thing",
   "metadata": {
    "ExecuteTime": {
     "end_time": "2021-10-22T06:34:43.689828Z",
     "start_time": "2021-10-22T06:34:43.652890Z"
    }
   },
   "outputs": [
    {
     "data": {
      "text/html": [
       "<div>\n",
       "<style scoped>\n",
       "    .dataframe tbody tr th:only-of-type {\n",
       "        vertical-align: middle;\n",
       "    }\n",
       "\n",
       "    .dataframe tbody tr th {\n",
       "        vertical-align: top;\n",
       "    }\n",
       "\n",
       "    .dataframe thead th {\n",
       "        text-align: right;\n",
       "    }\n",
       "</style>\n",
       "<table border=\"1\" class=\"dataframe\">\n",
       "  <thead>\n",
       "    <tr style=\"text-align: right;\">\n",
       "      <th></th>\n",
       "      <th>super_category_id</th>\n",
       "      <th>super_category</th>\n",
       "    </tr>\n",
       "  </thead>\n",
       "  <tbody>\n",
       "    <tr>\n",
       "      <th>0</th>\n",
       "      <td>0</td>\n",
       "      <td></td>\n",
       "    </tr>\n",
       "    <tr>\n",
       "      <th>1</th>\n",
       "      <td>1</td>\n",
       "      <td>pc</td>\n",
       "    </tr>\n",
       "    <tr>\n",
       "      <th>2</th>\n",
       "      <td>2</td>\n",
       "      <td>аксессуары</td>\n",
       "    </tr>\n",
       "    <tr>\n",
       "      <th>3</th>\n",
       "      <td>3</td>\n",
       "      <td>игровые консоли</td>\n",
       "    </tr>\n",
       "    <tr>\n",
       "      <th>4</th>\n",
       "      <td>4</td>\n",
       "      <td>игры</td>\n",
       "    </tr>\n",
       "  </tbody>\n",
       "</table>\n",
       "</div>"
      ],
      "text/plain": [
       "   super_category_id   super_category\n",
       "0                  0                 \n",
       "1                  1               pc\n",
       "2                  2       аксессуары\n",
       "3                  3  игровые консоли\n",
       "4                  4             игры"
      ]
     },
     "execution_count": 72,
     "metadata": {},
     "output_type": "execute_result"
    }
   ],
   "source": [
    "super_category.head()"
   ]
  },
  {
   "cell_type": "markdown",
   "id": "several-pontiac",
   "metadata": {},
   "source": [
    "All the simple categories."
   ]
  },
  {
   "cell_type": "code",
   "execution_count": 73,
   "id": "owned-software",
   "metadata": {
    "ExecuteTime": {
     "end_time": "2021-10-22T06:34:43.736753Z",
     "start_time": "2021-10-22T06:34:43.697818Z"
    }
   },
   "outputs": [
    {
     "data": {
      "text/html": [
       "<div>\n",
       "<style scoped>\n",
       "    .dataframe tbody tr th:only-of-type {\n",
       "        vertical-align: middle;\n",
       "    }\n",
       "\n",
       "    .dataframe tbody tr th {\n",
       "        vertical-align: top;\n",
       "    }\n",
       "\n",
       "    .dataframe thead th {\n",
       "        text-align: right;\n",
       "    }\n",
       "</style>\n",
       "<table border=\"1\" class=\"dataframe\">\n",
       "  <thead>\n",
       "    <tr style=\"text-align: right;\">\n",
       "      <th></th>\n",
       "      <th>category_id</th>\n",
       "      <th>category</th>\n",
       "    </tr>\n",
       "  </thead>\n",
       "  <tbody>\n",
       "    <tr>\n",
       "      <th>0</th>\n",
       "      <td>0</td>\n",
       "      <td></td>\n",
       "    </tr>\n",
       "    <tr>\n",
       "      <th>1</th>\n",
       "      <td>1</td>\n",
       "      <td>1спредприятие 8</td>\n",
       "    </tr>\n",
       "    <tr>\n",
       "      <th>2</th>\n",
       "      <td>2</td>\n",
       "      <td>blu-ray</td>\n",
       "    </tr>\n",
       "    <tr>\n",
       "      <th>3</th>\n",
       "      <td>3</td>\n",
       "      <td>blu-ray 3d</td>\n",
       "    </tr>\n",
       "    <tr>\n",
       "      <th>4</th>\n",
       "      <td>4</td>\n",
       "      <td>blu-ray 4k</td>\n",
       "    </tr>\n",
       "  </tbody>\n",
       "</table>\n",
       "</div>"
      ],
      "text/plain": [
       "   category_id         category\n",
       "0            0                 \n",
       "1            1  1спредприятие 8\n",
       "2            2          blu-ray\n",
       "3            3       blu-ray 3d\n",
       "4            4       blu-ray 4k"
      ]
     },
     "execution_count": 73,
     "metadata": {},
     "output_type": "execute_result"
    }
   ],
   "source": [
    "category.head()"
   ]
  },
  {
   "cell_type": "code",
   "execution_count": 74,
   "id": "copyrighted-arctic",
   "metadata": {
    "ExecuteTime": {
     "end_time": "2021-10-22T06:34:43.784678Z",
     "start_time": "2021-10-22T06:34:43.743742Z"
    }
   },
   "outputs": [],
   "source": [
    "super_category.to_csv('data/super_category.csv', index=False)\n",
    "category.to_csv('data/category.csv', index=False)"
   ]
  },
  {
   "cell_type": "markdown",
   "id": "expanded-advantage",
   "metadata": {},
   "source": [
    "So we have ***item_categories*** table with encoded shop city, type and name. When merging with the ***sales_train*** table these features will be encoded with target encoding."
   ]
  },
  {
   "cell_type": "code",
   "execution_count": 75,
   "id": "demographic-repository",
   "metadata": {
    "ExecuteTime": {
     "end_time": "2021-10-22T06:34:43.816628Z",
     "start_time": "2021-10-22T06:34:43.791671Z"
    }
   },
   "outputs": [],
   "source": [
    "item_categories_1 = super_and_simple_categories.reset_index().rename(columns={'index': 'item_category_id'})"
   ]
  },
  {
   "cell_type": "markdown",
   "id": "growing-sunglasses",
   "metadata": {},
   "source": [
    "As in the ***shops_1*** table, the feature types are changed to *int8* to decrease the memory size."
   ]
  },
  {
   "cell_type": "code",
   "execution_count": 76,
   "id": "ahead-sustainability",
   "metadata": {
    "ExecuteTime": {
     "end_time": "2021-10-22T06:34:43.848577Z",
     "start_time": "2021-10-22T06:34:43.822619Z"
    }
   },
   "outputs": [],
   "source": [
    "item_categories_1 = item_categories_1.astype('int8')"
   ]
  },
  {
   "cell_type": "code",
   "execution_count": 77,
   "id": "fewer-vision",
   "metadata": {
    "ExecuteTime": {
     "end_time": "2021-10-22T06:34:43.896502Z",
     "start_time": "2021-10-22T06:34:43.859564Z"
    }
   },
   "outputs": [
    {
     "data": {
      "text/html": [
       "<div>\n",
       "<style scoped>\n",
       "    .dataframe tbody tr th:only-of-type {\n",
       "        vertical-align: middle;\n",
       "    }\n",
       "\n",
       "    .dataframe tbody tr th {\n",
       "        vertical-align: top;\n",
       "    }\n",
       "\n",
       "    .dataframe thead th {\n",
       "        text-align: right;\n",
       "    }\n",
       "</style>\n",
       "<table border=\"1\" class=\"dataframe\">\n",
       "  <thead>\n",
       "    <tr style=\"text-align: right;\">\n",
       "      <th></th>\n",
       "      <th>item_category_id</th>\n",
       "      <th>super_category</th>\n",
       "      <th>category</th>\n",
       "    </tr>\n",
       "  </thead>\n",
       "  <tbody>\n",
       "    <tr>\n",
       "      <th>0</th>\n",
       "      <td>0</td>\n",
       "      <td>1</td>\n",
       "      <td>32</td>\n",
       "    </tr>\n",
       "    <tr>\n",
       "      <th>1</th>\n",
       "      <td>1</td>\n",
       "      <td>2</td>\n",
       "      <td>12</td>\n",
       "    </tr>\n",
       "    <tr>\n",
       "      <th>2</th>\n",
       "      <td>2</td>\n",
       "      <td>2</td>\n",
       "      <td>13</td>\n",
       "    </tr>\n",
       "    <tr>\n",
       "      <th>3</th>\n",
       "      <td>3</td>\n",
       "      <td>2</td>\n",
       "      <td>14</td>\n",
       "    </tr>\n",
       "    <tr>\n",
       "      <th>4</th>\n",
       "      <td>4</td>\n",
       "      <td>2</td>\n",
       "      <td>16</td>\n",
       "    </tr>\n",
       "  </tbody>\n",
       "</table>\n",
       "</div>"
      ],
      "text/plain": [
       "   item_category_id  super_category  category\n",
       "0                 0               1        32\n",
       "1                 1               2        12\n",
       "2                 2               2        13\n",
       "3                 3               2        14\n",
       "4                 4               2        16"
      ]
     },
     "execution_count": 77,
     "metadata": {},
     "output_type": "execute_result"
    }
   ],
   "source": [
    "item_categories_1.head()"
   ]
  },
  {
   "cell_type": "markdown",
   "id": "assigned-delay",
   "metadata": {},
   "source": [
    "## sales_train"
   ]
  },
  {
   "cell_type": "markdown",
   "id": "extreme-mechanics",
   "metadata": {},
   "source": [
    "It is the information about all the items in encoded form."
   ]
  },
  {
   "cell_type": "code",
   "execution_count": 78,
   "id": "exterior-edwards",
   "metadata": {
    "ExecuteTime": {
     "end_time": "2021-10-22T06:34:43.944429Z",
     "start_time": "2021-10-22T06:34:43.903495Z"
    }
   },
   "outputs": [],
   "source": [
    "full_items_info = items.drop(columns=['item_name']).merge(item_categories_1, how='left', on='item_category_id')"
   ]
  },
  {
   "cell_type": "code",
   "execution_count": 79,
   "id": "indonesian-colony",
   "metadata": {
    "ExecuteTime": {
     "end_time": "2021-10-22T06:34:43.992355Z",
     "start_time": "2021-10-22T06:34:43.952418Z"
    }
   },
   "outputs": [
    {
     "data": {
      "text/html": [
       "<div>\n",
       "<style scoped>\n",
       "    .dataframe tbody tr th:only-of-type {\n",
       "        vertical-align: middle;\n",
       "    }\n",
       "\n",
       "    .dataframe tbody tr th {\n",
       "        vertical-align: top;\n",
       "    }\n",
       "\n",
       "    .dataframe thead th {\n",
       "        text-align: right;\n",
       "    }\n",
       "</style>\n",
       "<table border=\"1\" class=\"dataframe\">\n",
       "  <thead>\n",
       "    <tr style=\"text-align: right;\">\n",
       "      <th></th>\n",
       "      <th>item_id</th>\n",
       "      <th>item_category_id</th>\n",
       "      <th>super_category</th>\n",
       "      <th>category</th>\n",
       "    </tr>\n",
       "  </thead>\n",
       "  <tbody>\n",
       "    <tr>\n",
       "      <th>0</th>\n",
       "      <td>0</td>\n",
       "      <td>40</td>\n",
       "      <td>9</td>\n",
       "      <td>7</td>\n",
       "    </tr>\n",
       "    <tr>\n",
       "      <th>1</th>\n",
       "      <td>1</td>\n",
       "      <td>76</td>\n",
       "      <td>13</td>\n",
       "      <td>34</td>\n",
       "    </tr>\n",
       "    <tr>\n",
       "      <th>2</th>\n",
       "      <td>2</td>\n",
       "      <td>40</td>\n",
       "      <td>9</td>\n",
       "      <td>7</td>\n",
       "    </tr>\n",
       "    <tr>\n",
       "      <th>3</th>\n",
       "      <td>3</td>\n",
       "      <td>40</td>\n",
       "      <td>9</td>\n",
       "      <td>7</td>\n",
       "    </tr>\n",
       "    <tr>\n",
       "      <th>4</th>\n",
       "      <td>4</td>\n",
       "      <td>40</td>\n",
       "      <td>9</td>\n",
       "      <td>7</td>\n",
       "    </tr>\n",
       "  </tbody>\n",
       "</table>\n",
       "</div>"
      ],
      "text/plain": [
       "   item_id  item_category_id  super_category  category\n",
       "0        0                40               9         7\n",
       "1        1                76              13        34\n",
       "2        2                40               9         7\n",
       "3        3                40               9         7\n",
       "4        4                40               9         7"
      ]
     },
     "execution_count": 79,
     "metadata": {},
     "output_type": "execute_result"
    }
   ],
   "source": [
    "full_items_info.head()"
   ]
  },
  {
   "cell_type": "markdown",
   "id": "italian-mainstream",
   "metadata": {},
   "source": [
    "As it was written above all *shop_id*s in equals to 0, 1 or 10 are changed to 57, 58, 11 respectively."
   ]
  },
  {
   "cell_type": "code",
   "execution_count": 80,
   "id": "specified-token",
   "metadata": {
    "ExecuteTime": {
     "end_time": "2021-10-22T06:34:44.246952Z",
     "start_time": "2021-10-22T06:34:44.026305Z"
    }
   },
   "outputs": [],
   "source": [
    "sales_train.shop_id.replace(to_replace=[0, 1, 10], value=[57, 58, 11], inplace=True)"
   ]
  },
  {
   "cell_type": "markdown",
   "id": "shared-device",
   "metadata": {},
   "source": [
    "Then I will add some features to ***test*** table to concatenate it with ***train_sales*** table. It is needed to do feature engineering for all data. Also it is easier to create lag features when all data is in one table."
   ]
  },
  {
   "cell_type": "code",
   "execution_count": 81,
   "id": "impressive-parliament",
   "metadata": {
    "ExecuteTime": {
     "end_time": "2021-10-22T06:34:44.562892Z",
     "start_time": "2021-10-22T06:34:44.255945Z"
    }
   },
   "outputs": [],
   "source": [
    "test = pd.read_csv('data/test.csv', index_col='ID')\n",
    "test['date_block_num'] = 34\n",
    "test = test[['date_block_num', 'shop_id', 'item_id']]\n",
    "test['item_cnt_day'] = 0\n",
    "test.shop_id.replace(to_replace=[0, 1, 10], value=[57, 58, 11], inplace=True)"
   ]
  },
  {
   "cell_type": "markdown",
   "id": "documented-testimony",
   "metadata": {},
   "source": [
    "Here the table train + test is expanded by adding rows for each month such that all rows of each month contain info about all (shop, item) elements if at least one of them is \"active\" (there are rows with this value). The table is expanded because train dataset has the same structure."
   ]
  },
  {
   "cell_type": "code",
   "execution_count": 82,
   "id": "computational-washer",
   "metadata": {
    "ExecuteTime": {
     "end_time": "2021-10-22T06:35:42.426305Z",
     "start_time": "2021-10-22T06:34:44.569884Z"
    }
   },
   "outputs": [],
   "source": [
    "all_sales = pd.concat([sales_train, test], ignore_index=True)\n",
    "all_sales = all_sales.groupby(['shop_id', 'item_id', 'date_block_num']).agg({'item_cnt_day': 'sum'}).reset_index()\n",
    "\n",
    "train = []\n",
    "\n",
    "for i in all_sales['date_block_num'].unique():\n",
    "    all_shop = all_sales.loc[all_sales['date_block_num']==i, 'shop_id'].unique()\n",
    "    all_item = all_sales.loc[all_sales['date_block_num']==i, 'item_id'].unique()\n",
    "    train.append(np.array(list(product([i], all_shop, all_item))))\n",
    "\n",
    "idx_features = ['date_block_num', 'shop_id', 'item_id']\n",
    "train = pd.DataFrame(np.vstack(train), columns=idx_features)\n",
    "\n",
    "all_sales = train.merge(all_sales, how='left', on=idx_features)\n",
    "all_sales.fillna(value=0, inplace=True)"
   ]
  },
  {
   "cell_type": "markdown",
   "id": "planned-dinner",
   "metadata": {},
   "source": [
    "Reducing the memory size."
   ]
  },
  {
   "cell_type": "code",
   "execution_count": 83,
   "id": "seven-interpretation",
   "metadata": {
    "ExecuteTime": {
     "end_time": "2021-10-22T06:35:42.535880Z",
     "start_time": "2021-10-22T06:35:42.441660Z"
    }
   },
   "outputs": [],
   "source": [
    "del train\n",
    "del all_shop\n",
    "del all_item\n",
    "del sales_train"
   ]
  },
  {
   "cell_type": "code",
   "execution_count": 84,
   "id": "alternative-pierce",
   "metadata": {
    "ExecuteTime": {
     "end_time": "2021-10-22T06:35:42.996156Z",
     "start_time": "2021-10-22T06:35:42.546862Z"
    }
   },
   "outputs": [],
   "source": [
    "all_sales = all_sales.astype({\n",
    "    'date_block_num': 'int8',\n",
    "    'shop_id': 'int8',\n",
    "    'item_id': 'int16',\n",
    "    'item_cnt_day': 'int8'\n",
    "})"
   ]
  },
  {
   "cell_type": "markdown",
   "id": "recreational-expansion",
   "metadata": {},
   "source": [
    "As all predicted values are clipped with the interval (0, 20) I clip the target value in the dataset.  \n",
    "Also I rename the feature **item_cnt_day** because it is the month count."
   ]
  },
  {
   "cell_type": "code",
   "execution_count": 85,
   "id": "military-scheduling",
   "metadata": {
    "ExecuteTime": {
     "end_time": "2021-10-22T06:35:43.298677Z",
     "start_time": "2021-10-22T06:35:43.004145Z"
    }
   },
   "outputs": [],
   "source": [
    "all_sales.item_cnt_day = all_sales.item_cnt_day.clip(0, 20)\n",
    "all_sales.rename(columns={'item_cnt_day': 'item_cnt'}, inplace=True)"
   ]
  },
  {
   "cell_type": "markdown",
   "id": "wanted-badge",
   "metadata": {},
   "source": [
    "Merging with ***full_items_info*** and ***shops_1*** tables. So the table ***all_sales*** contains all the information about items and shops."
   ]
  },
  {
   "cell_type": "code",
   "execution_count": 86,
   "id": "regular-powell",
   "metadata": {
    "ExecuteTime": {
     "end_time": "2021-10-22T06:35:57.891600Z",
     "start_time": "2021-10-22T06:35:43.305665Z"
    }
   },
   "outputs": [
    {
     "data": {
      "text/html": [
       "<div>\n",
       "<style scoped>\n",
       "    .dataframe tbody tr th:only-of-type {\n",
       "        vertical-align: middle;\n",
       "    }\n",
       "\n",
       "    .dataframe tbody tr th {\n",
       "        vertical-align: top;\n",
       "    }\n",
       "\n",
       "    .dataframe thead th {\n",
       "        text-align: right;\n",
       "    }\n",
       "</style>\n",
       "<table border=\"1\" class=\"dataframe\">\n",
       "  <thead>\n",
       "    <tr style=\"text-align: right;\">\n",
       "      <th></th>\n",
       "      <th>date_block_num</th>\n",
       "      <th>shop_id</th>\n",
       "      <th>item_id</th>\n",
       "      <th>item_cnt</th>\n",
       "      <th>item_category_id</th>\n",
       "      <th>super_category</th>\n",
       "      <th>category</th>\n",
       "      <th>city</th>\n",
       "      <th>shop_type</th>\n",
       "      <th>shop_name</th>\n",
       "    </tr>\n",
       "  </thead>\n",
       "  <tbody>\n",
       "    <tr>\n",
       "      <th>0</th>\n",
       "      <td>0</td>\n",
       "      <td>2</td>\n",
       "      <td>27</td>\n",
       "      <td>1</td>\n",
       "      <td>19</td>\n",
       "      <td>4</td>\n",
       "      <td>13</td>\n",
       "      <td>1</td>\n",
       "      <td>7</td>\n",
       "      <td>23</td>\n",
       "    </tr>\n",
       "    <tr>\n",
       "      <th>1</th>\n",
       "      <td>0</td>\n",
       "      <td>2</td>\n",
       "      <td>33</td>\n",
       "      <td>1</td>\n",
       "      <td>37</td>\n",
       "      <td>9</td>\n",
       "      <td>2</td>\n",
       "      <td>1</td>\n",
       "      <td>7</td>\n",
       "      <td>23</td>\n",
       "    </tr>\n",
       "    <tr>\n",
       "      <th>2</th>\n",
       "      <td>0</td>\n",
       "      <td>2</td>\n",
       "      <td>317</td>\n",
       "      <td>1</td>\n",
       "      <td>45</td>\n",
       "      <td>10</td>\n",
       "      <td>25</td>\n",
       "      <td>1</td>\n",
       "      <td>7</td>\n",
       "      <td>23</td>\n",
       "    </tr>\n",
       "    <tr>\n",
       "      <th>3</th>\n",
       "      <td>0</td>\n",
       "      <td>2</td>\n",
       "      <td>438</td>\n",
       "      <td>1</td>\n",
       "      <td>45</td>\n",
       "      <td>10</td>\n",
       "      <td>25</td>\n",
       "      <td>1</td>\n",
       "      <td>7</td>\n",
       "      <td>23</td>\n",
       "    </tr>\n",
       "    <tr>\n",
       "      <th>4</th>\n",
       "      <td>0</td>\n",
       "      <td>2</td>\n",
       "      <td>471</td>\n",
       "      <td>2</td>\n",
       "      <td>49</td>\n",
       "      <td>10</td>\n",
       "      <td>42</td>\n",
       "      <td>1</td>\n",
       "      <td>7</td>\n",
       "      <td>23</td>\n",
       "    </tr>\n",
       "  </tbody>\n",
       "</table>\n",
       "</div>"
      ],
      "text/plain": [
       "   date_block_num  shop_id  item_id  item_cnt  item_category_id  \\\n",
       "0               0        2       27         1                19   \n",
       "1               0        2       33         1                37   \n",
       "2               0        2      317         1                45   \n",
       "3               0        2      438         1                45   \n",
       "4               0        2      471         2                49   \n",
       "\n",
       "   super_category  category  city  shop_type  shop_name  \n",
       "0               4        13     1          7         23  \n",
       "1               9         2     1          7         23  \n",
       "2              10        25     1          7         23  \n",
       "3              10        25     1          7         23  \n",
       "4              10        42     1          7         23  "
      ]
     },
     "execution_count": 86,
     "metadata": {},
     "output_type": "execute_result"
    }
   ],
   "source": [
    "all_sales = all_sales\\\n",
    "                    .merge(full_items_info, how='left', on='item_id')\\\n",
    "                    .merge(shops_1, how='left', on='shop_id')\n",
    "all_sales.head()"
   ]
  },
  {
   "cell_type": "code",
   "execution_count": 87,
   "id": "conscious-comfort",
   "metadata": {
    "ExecuteTime": {
     "end_time": "2021-10-22T06:35:58.003278Z",
     "start_time": "2021-10-22T06:35:57.900447Z"
    }
   },
   "outputs": [
    {
     "name": "stdout",
     "output_type": "stream",
     "text": [
      "<class 'pandas.core.frame.DataFrame'>\n",
      "Int64Index: 11128050 entries, 0 to 11128049\n",
      "Data columns (total 10 columns):\n",
      " #   Column            Dtype\n",
      "---  ------            -----\n",
      " 0   date_block_num    int8 \n",
      " 1   shop_id           int8 \n",
      " 2   item_id           int16\n",
      " 3   item_cnt          int8 \n",
      " 4   item_category_id  int8 \n",
      " 5   super_category    int8 \n",
      " 6   category          int8 \n",
      " 7   city              int8 \n",
      " 8   shop_type         int8 \n",
      " 9   shop_name         int8 \n",
      "dtypes: int16(1), int8(9)\n",
      "memory usage: 201.6 MB\n"
     ]
    }
   ],
   "source": [
    "all_sales.item_category_id = all_sales.item_category_id.astype('int8')\n",
    "all_sales.info()"
   ]
  },
  {
   "cell_type": "markdown",
   "id": "described-conditions",
   "metadata": {},
   "source": [
    "It is the option to output the information about columns. I increase the maximum count to 50."
   ]
  },
  {
   "cell_type": "code",
   "execution_count": 88,
   "id": "fiscal-homework",
   "metadata": {
    "ExecuteTime": {
     "end_time": "2021-10-22T06:35:58.037193Z",
     "start_time": "2021-10-22T06:35:58.014261Z"
    }
   },
   "outputs": [],
   "source": [
    "pd.set_option('display.max_info_columns', 50)"
   ]
  },
  {
   "cell_type": "markdown",
   "id": "unnecessary-offset",
   "metadata": {},
   "source": [
    "Saving the train and test datasets as datasets without any lag features and features encoded via target encoding."
   ]
  },
  {
   "cell_type": "code",
   "execution_count": 89,
   "id": "coral-gossip",
   "metadata": {
    "ExecuteTime": {
     "end_time": "2021-10-22T06:38:07.726930Z",
     "start_time": "2021-10-22T06:35:58.050159Z"
    }
   },
   "outputs": [],
   "source": [
    "test_1 = test.drop(columns=['item_cnt_day'])\\\n",
    "                    .merge(all_sales, on=['date_block_num', 'shop_id', 'item_id'])[all_sales.drop(columns='item_cnt').columns]\n",
    "test_1.to_csv('data/test_without_lags_and_target_encoding.csv', index_label='ID')\n",
    "all_sales[all_sales.date_block_num < 34].drop(columns='item_cnt').to_csv('data/X_without_lags_and_target_encoding.csv', index=False)\n",
    "all_sales[all_sales.date_block_num < 34][['item_cnt']].to_csv('data/y_without_lags_and_target_encoding.csv', index=False)"
   ]
  },
  {
   "cell_type": "markdown",
   "id": "plain-spotlight",
   "metadata": {},
   "source": [
    "Let's add lag_features.  \n",
    "This is the function that create lag features and returns the expanded table."
   ]
  },
  {
   "cell_type": "code",
   "execution_count": 90,
   "id": "efficient-engineering",
   "metadata": {
    "ExecuteTime": {
     "end_time": "2021-10-22T06:38:07.757648Z",
     "start_time": "2021-10-22T06:38:07.726930Z"
    }
   },
   "outputs": [],
   "source": [
    "def lag_feature(df, lag, col, merge_cols):        \n",
    "    temp = df[merge_cols + [col]]\n",
    "    temp = temp.groupby(merge_cols).agg({f'{col}':'first'}).reset_index()\n",
    "    temp.columns = merge_cols + [f'{col}_lag{lag}']\n",
    "    temp['date_block_num'] += lag\n",
    "    df = pd.merge(df, temp, on=merge_cols, how='left')\n",
    "    df[f'{col}_lag{lag}'] = df[f'{col}_lag{lag}'].fillna(0).astype('int8')\n",
    "    return df"
   ]
  },
  {
   "cell_type": "markdown",
   "id": "australian-casting",
   "metadata": {},
   "source": [
    "I create 12 lag features to take into consideration the sales a year ago."
   ]
  },
  {
   "cell_type": "code",
   "execution_count": 91,
   "id": "interim-skiing",
   "metadata": {
    "ExecuteTime": {
     "end_time": "2021-10-22T06:47:32.255392Z",
     "start_time": "2021-10-22T06:38:07.766633Z"
    }
   },
   "outputs": [],
   "source": [
    "for i in range(1, 13):\n",
    "    all_sales = lag_feature(all_sales, i, 'item_cnt', ['date_block_num', 'shop_id', 'item_id'])"
   ]
  },
  {
   "cell_type": "markdown",
   "id": "alone-extent",
   "metadata": {},
   "source": [
    "I delete rows corresponding to the first year in history because they don't have enough prehistory."
   ]
  },
  {
   "cell_type": "code",
   "execution_count": 92,
   "id": "caring-courage",
   "metadata": {
    "ExecuteTime": {
     "end_time": "2021-10-22T06:47:34.787321Z",
     "start_time": "2021-10-22T06:47:32.302268Z"
    }
   },
   "outputs": [],
   "source": [
    "all_sales = all_sales[all_sales.date_block_num >= 12]"
   ]
  },
  {
   "cell_type": "code",
   "execution_count": 93,
   "id": "increased-celtic",
   "metadata": {
    "ExecuteTime": {
     "end_time": "2021-10-22T06:47:35.909114Z",
     "start_time": "2021-10-22T06:47:34.787321Z"
    }
   },
   "outputs": [
    {
     "name": "stdout",
     "output_type": "stream",
     "text": [
      "<class 'pandas.core.frame.DataFrame'>\n",
      "Int64Index: 6639294 entries, 365175 to 11128049\n",
      "Data columns (total 22 columns):\n",
      " #   Column            Non-Null Count    Dtype\n",
      "---  ------            --------------    -----\n",
      " 0   date_block_num    6639294 non-null  int8 \n",
      " 1   shop_id           6639294 non-null  int8 \n",
      " 2   item_id           6639294 non-null  int16\n",
      " 3   item_cnt          6639294 non-null  int8 \n",
      " 4   item_category_id  6639294 non-null  int8 \n",
      " 5   super_category    6639294 non-null  int8 \n",
      " 6   category          6639294 non-null  int8 \n",
      " 7   city              6639294 non-null  int8 \n",
      " 8   shop_type         6639294 non-null  int8 \n",
      " 9   shop_name         6639294 non-null  int8 \n",
      " 10  item_cnt_lag1     6639294 non-null  int8 \n",
      " 11  item_cnt_lag2     6639294 non-null  int8 \n",
      " 12  item_cnt_lag3     6639294 non-null  int8 \n",
      " 13  item_cnt_lag4     6639294 non-null  int8 \n",
      " 14  item_cnt_lag5     6639294 non-null  int8 \n",
      " 15  item_cnt_lag6     6639294 non-null  int8 \n",
      " 16  item_cnt_lag7     6639294 non-null  int8 \n",
      " 17  item_cnt_lag8     6639294 non-null  int8 \n",
      " 18  item_cnt_lag9     6639294 non-null  int8 \n",
      " 19  item_cnt_lag10    6639294 non-null  int8 \n",
      " 20  item_cnt_lag11    6639294 non-null  int8 \n",
      " 21  item_cnt_lag12    6639294 non-null  int8 \n",
      "dtypes: int16(1), int8(21)\n",
      "memory usage: 196.3 MB\n"
     ]
    }
   ],
   "source": [
    "all_sales.info(null_counts=True)"
   ]
  },
  {
   "cell_type": "markdown",
   "id": "conservative-sperm",
   "metadata": {},
   "source": [
    "Saving the train and test datasets as dataset with lag features but without features encoded via target encoding."
   ]
  },
  {
   "cell_type": "code",
   "execution_count": 94,
   "id": "dirty-basket",
   "metadata": {
    "ExecuteTime": {
     "end_time": "2021-10-22T06:49:26.723865Z",
     "start_time": "2021-10-22T06:47:35.909114Z"
    }
   },
   "outputs": [],
   "source": [
    "test_2 = test.drop(columns=['item_cnt_day'])\\\n",
    "                    .merge(all_sales, on=['date_block_num', 'shop_id', 'item_id'])[all_sales.drop(columns='item_cnt').columns]\n",
    "test_2.to_csv('data/test_without_target_encoding.csv', index_label='ID')\n",
    "all_sales[all_sales.date_block_num < 34].drop(columns='item_cnt').to_csv('data/X_without_target_encoding.csv', index=False)\n",
    "all_sales[all_sales.date_block_num < 34][['item_cnt']].to_csv('data/y_without_target_encoding.csv', index=False)"
   ]
  },
  {
   "cell_type": "markdown",
   "id": "coupled-joint",
   "metadata": {},
   "source": [
    "There are columns that can be encoded via target encoding. They are in variable *encoded_cols*. The variable *new_encoded_cols* contains new names of features."
   ]
  },
  {
   "cell_type": "code",
   "execution_count": 95,
   "id": "primary-moral",
   "metadata": {
    "ExecuteTime": {
     "end_time": "2021-10-22T06:49:26.785305Z",
     "start_time": "2021-10-22T06:49:26.723865Z"
    }
   },
   "outputs": [],
   "source": [
    "encoded_cols = ['shop_id', 'item_id', 'item_category_id', 'super_category', 'category', 'city', 'shop_type', 'shop_name']\n",
    "new_encoded_cols = list(map(lambda col: 'encoded_' + col, encoded_cols))\n",
    "target_encoder = TargetEncoder(cols=encoded_cols)"
   ]
  },
  {
   "cell_type": "markdown",
   "id": "pending-cancellation",
   "metadata": {},
   "source": [
    "As table **all_sales** contains test data that are used for predicting, the target encoder must fit on the dataset without test data."
   ]
  },
  {
   "cell_type": "code",
   "execution_count": 96,
   "id": "about-bearing",
   "metadata": {
    "ExecuteTime": {
     "end_time": "2021-10-22T06:50:23.893785Z",
     "start_time": "2021-10-22T06:49:26.805270Z"
    }
   },
   "outputs": [
    {
     "data": {
      "text/plain": [
       "TargetEncoder(cols=['shop_id', 'item_id', 'item_category_id', 'super_category',\n",
       "                    'category', 'city', 'shop_type', 'shop_name'])"
      ]
     },
     "execution_count": 96,
     "metadata": {},
     "output_type": "execute_result"
    }
   ],
   "source": [
    "target_encoder.fit(all_sales[all_sales.date_block_num < 34], all_sales[all_sales.date_block_num < 34].item_cnt)"
   ]
  },
  {
   "cell_type": "markdown",
   "id": "becoming-renewal",
   "metadata": {},
   "source": [
    "Here is encoding the features and converting the type of new features to 'float32' to reduce the memory size."
   ]
  },
  {
   "cell_type": "code",
   "execution_count": 97,
   "id": "decreased-growth",
   "metadata": {
    "ExecuteTime": {
     "end_time": "2021-10-22T06:50:54.929443Z",
     "start_time": "2021-10-22T06:50:23.908768Z"
    }
   },
   "outputs": [
    {
     "data": {
      "text/html": [
       "<div>\n",
       "<style scoped>\n",
       "    .dataframe tbody tr th:only-of-type {\n",
       "        vertical-align: middle;\n",
       "    }\n",
       "\n",
       "    .dataframe tbody tr th {\n",
       "        vertical-align: top;\n",
       "    }\n",
       "\n",
       "    .dataframe thead th {\n",
       "        text-align: right;\n",
       "    }\n",
       "</style>\n",
       "<table border=\"1\" class=\"dataframe\">\n",
       "  <thead>\n",
       "    <tr style=\"text-align: right;\">\n",
       "      <th></th>\n",
       "      <th>date_block_num</th>\n",
       "      <th>shop_id</th>\n",
       "      <th>item_id</th>\n",
       "      <th>item_cnt</th>\n",
       "      <th>item_category_id</th>\n",
       "      <th>super_category</th>\n",
       "      <th>category</th>\n",
       "      <th>city</th>\n",
       "      <th>shop_type</th>\n",
       "      <th>shop_name</th>\n",
       "      <th>...</th>\n",
       "      <th>item_cnt_lag11</th>\n",
       "      <th>item_cnt_lag12</th>\n",
       "      <th>encoded_shop_id</th>\n",
       "      <th>encoded_item_id</th>\n",
       "      <th>encoded_item_category_id</th>\n",
       "      <th>encoded_super_category</th>\n",
       "      <th>encoded_category</th>\n",
       "      <th>encoded_city</th>\n",
       "      <th>encoded_shop_type</th>\n",
       "      <th>encoded_shop_name</th>\n",
       "    </tr>\n",
       "  </thead>\n",
       "  <tbody>\n",
       "    <tr>\n",
       "      <th>365175</th>\n",
       "      <td>17</td>\n",
       "      <td>2</td>\n",
       "      <td>27</td>\n",
       "      <td>1</td>\n",
       "      <td>19</td>\n",
       "      <td>4</td>\n",
       "      <td>13</td>\n",
       "      <td>1</td>\n",
       "      <td>7</td>\n",
       "      <td>23</td>\n",
       "      <td>...</td>\n",
       "      <td>0</td>\n",
       "      <td>0</td>\n",
       "      <td>0.142125</td>\n",
       "      <td>0.031250</td>\n",
       "      <td>0.590881</td>\n",
       "      <td>0.613834</td>\n",
       "      <td>0.552187</td>\n",
       "      <td>0.142125</td>\n",
       "      <td>0.299791</td>\n",
       "      <td>0.27017</td>\n",
       "    </tr>\n",
       "    <tr>\n",
       "      <th>365176</th>\n",
       "      <td>17</td>\n",
       "      <td>2</td>\n",
       "      <td>76</td>\n",
       "      <td>1</td>\n",
       "      <td>37</td>\n",
       "      <td>9</td>\n",
       "      <td>2</td>\n",
       "      <td>1</td>\n",
       "      <td>7</td>\n",
       "      <td>23</td>\n",
       "      <td>...</td>\n",
       "      <td>0</td>\n",
       "      <td>0</td>\n",
       "      <td>0.142125</td>\n",
       "      <td>0.447368</td>\n",
       "      <td>0.163782</td>\n",
       "      <td>0.205139</td>\n",
       "      <td>0.163782</td>\n",
       "      <td>0.142125</td>\n",
       "      <td>0.299791</td>\n",
       "      <td>0.27017</td>\n",
       "    </tr>\n",
       "    <tr>\n",
       "      <th>365177</th>\n",
       "      <td>17</td>\n",
       "      <td>2</td>\n",
       "      <td>77</td>\n",
       "      <td>1</td>\n",
       "      <td>40</td>\n",
       "      <td>9</td>\n",
       "      <td>7</td>\n",
       "      <td>1</td>\n",
       "      <td>7</td>\n",
       "      <td>23</td>\n",
       "      <td>...</td>\n",
       "      <td>0</td>\n",
       "      <td>0</td>\n",
       "      <td>0.142125</td>\n",
       "      <td>1.058978</td>\n",
       "      <td>0.239173</td>\n",
       "      <td>0.205139</td>\n",
       "      <td>0.239173</td>\n",
       "      <td>0.142125</td>\n",
       "      <td>0.299791</td>\n",
       "      <td>0.27017</td>\n",
       "    </tr>\n",
       "    <tr>\n",
       "      <th>365178</th>\n",
       "      <td>17</td>\n",
       "      <td>2</td>\n",
       "      <td>485</td>\n",
       "      <td>1</td>\n",
       "      <td>73</td>\n",
       "      <td>13</td>\n",
       "      <td>1</td>\n",
       "      <td>1</td>\n",
       "      <td>7</td>\n",
       "      <td>23</td>\n",
       "      <td>...</td>\n",
       "      <td>2</td>\n",
       "      <td>0</td>\n",
       "      <td>0.142125</td>\n",
       "      <td>1.901852</td>\n",
       "      <td>0.377097</td>\n",
       "      <td>0.170525</td>\n",
       "      <td>0.377097</td>\n",
       "      <td>0.142125</td>\n",
       "      <td>0.299791</td>\n",
       "      <td>0.27017</td>\n",
       "    </tr>\n",
       "    <tr>\n",
       "      <th>365179</th>\n",
       "      <td>17</td>\n",
       "      <td>2</td>\n",
       "      <td>791</td>\n",
       "      <td>1</td>\n",
       "      <td>73</td>\n",
       "      <td>13</td>\n",
       "      <td>1</td>\n",
       "      <td>1</td>\n",
       "      <td>7</td>\n",
       "      <td>23</td>\n",
       "      <td>...</td>\n",
       "      <td>1</td>\n",
       "      <td>3</td>\n",
       "      <td>0.142125</td>\n",
       "      <td>0.491837</td>\n",
       "      <td>0.377097</td>\n",
       "      <td>0.170525</td>\n",
       "      <td>0.377097</td>\n",
       "      <td>0.142125</td>\n",
       "      <td>0.299791</td>\n",
       "      <td>0.27017</td>\n",
       "    </tr>\n",
       "  </tbody>\n",
       "</table>\n",
       "<p>5 rows × 30 columns</p>\n",
       "</div>"
      ],
      "text/plain": [
       "        date_block_num  shop_id  item_id  item_cnt  item_category_id  \\\n",
       "365175              17        2       27         1                19   \n",
       "365176              17        2       76         1                37   \n",
       "365177              17        2       77         1                40   \n",
       "365178              17        2      485         1                73   \n",
       "365179              17        2      791         1                73   \n",
       "\n",
       "        super_category  category  city  shop_type  shop_name  ...  \\\n",
       "365175               4        13     1          7         23  ...   \n",
       "365176               9         2     1          7         23  ...   \n",
       "365177               9         7     1          7         23  ...   \n",
       "365178              13         1     1          7         23  ...   \n",
       "365179              13         1     1          7         23  ...   \n",
       "\n",
       "        item_cnt_lag11  item_cnt_lag12  encoded_shop_id  encoded_item_id  \\\n",
       "365175               0               0         0.142125         0.031250   \n",
       "365176               0               0         0.142125         0.447368   \n",
       "365177               0               0         0.142125         1.058978   \n",
       "365178               2               0         0.142125         1.901852   \n",
       "365179               1               3         0.142125         0.491837   \n",
       "\n",
       "        encoded_item_category_id  encoded_super_category  encoded_category  \\\n",
       "365175                  0.590881                0.613834          0.552187   \n",
       "365176                  0.163782                0.205139          0.163782   \n",
       "365177                  0.239173                0.205139          0.239173   \n",
       "365178                  0.377097                0.170525          0.377097   \n",
       "365179                  0.377097                0.170525          0.377097   \n",
       "\n",
       "        encoded_city  encoded_shop_type  encoded_shop_name  \n",
       "365175      0.142125           0.299791            0.27017  \n",
       "365176      0.142125           0.299791            0.27017  \n",
       "365177      0.142125           0.299791            0.27017  \n",
       "365178      0.142125           0.299791            0.27017  \n",
       "365179      0.142125           0.299791            0.27017  \n",
       "\n",
       "[5 rows x 30 columns]"
      ]
     },
     "execution_count": 97,
     "metadata": {},
     "output_type": "execute_result"
    }
   ],
   "source": [
    "encoded_features = target_encoder.transform(all_sales)[encoded_cols]\n",
    "all_sales[new_encoded_cols] = encoded_features.astype('float32')\n",
    "all_sales.head()"
   ]
  },
  {
   "cell_type": "code",
   "execution_count": 98,
   "id": "changing-ideal",
   "metadata": {
    "ExecuteTime": {
     "end_time": "2021-10-22T06:50:55.040274Z",
     "start_time": "2021-10-22T06:50:54.938430Z"
    }
   },
   "outputs": [],
   "source": [
    "del encoded_features"
   ]
  },
  {
   "cell_type": "markdown",
   "id": "ahead-agency",
   "metadata": {},
   "source": [
    "Saving the train and test datasets as datasets that contain lag features and features encoded via target encoding."
   ]
  },
  {
   "cell_type": "code",
   "execution_count": 99,
   "id": "horizontal-intranet",
   "metadata": {
    "ExecuteTime": {
     "end_time": "2021-10-22T06:56:09.971932Z",
     "start_time": "2021-10-22T06:50:55.053250Z"
    }
   },
   "outputs": [],
   "source": [
    "test_3 = test.drop(columns=['item_cnt_day'])\\\n",
    "                    .merge(all_sales, on=['date_block_num', 'shop_id', 'item_id'])[all_sales.drop(columns='item_cnt').columns]\n",
    "test_3.to_csv('data/test_full.csv', index_label='ID')\n",
    "all_sales[all_sales.date_block_num < 34].drop(columns='item_cnt').to_csv('data/X_full.csv', index=False)\n",
    "all_sales[all_sales.date_block_num < 34][['item_cnt']].to_csv('data/y_full.csv', index=False)"
   ]
  },
  {
   "cell_type": "code",
   "execution_count": null,
   "id": "recreational-mention",
   "metadata": {},
   "outputs": [],
   "source": []
  }
 ],
 "metadata": {
  "kernelspec": {
   "display_name": "Python 3",
   "language": "python",
   "name": "python3"
  },
  "language_info": {
   "codemirror_mode": {
    "name": "ipython",
    "version": 3
   },
   "file_extension": ".py",
   "mimetype": "text/x-python",
   "name": "python",
   "nbconvert_exporter": "python",
   "pygments_lexer": "ipython3",
   "version": "3.9.0"
  },
  "toc": {
   "base_numbering": 1,
   "nav_menu": {},
   "number_sections": true,
   "sideBar": true,
   "skip_h1_title": false,
   "title_cell": "Table of Contents",
   "title_sidebar": "Contents",
   "toc_cell": false,
   "toc_position": {
    "height": "calc(100% - 180px)",
    "left": "10px",
    "top": "150px",
    "width": "273.188px"
   },
   "toc_section_display": true,
   "toc_window_display": true
  }
 },
 "nbformat": 4,
 "nbformat_minor": 5
}
